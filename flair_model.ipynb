{
  "nbformat": 4,
  "nbformat_minor": 0,
  "metadata": {
    "colab": {
      "provenance": [],
      "machine_shape": "hm",
      "gpuType": "V100",
      "authorship_tag": "ABX9TyOJngcke0JxKoHsVuXf/K6Y",
      "include_colab_link": true
    },
    "kernelspec": {
      "name": "python3",
      "display_name": "Python 3"
    },
    "language_info": {
      "name": "python"
    },
    "accelerator": "GPU"
  },
  "cells": [
    {
      "cell_type": "markdown",
      "metadata": {
        "id": "view-in-github",
        "colab_type": "text"
      },
      "source": [
        "<a href=\"https://colab.research.google.com/github/IvanDePivan/2AMM30-groep-2-component-1/blob/main/flair_model.ipynb\" target=\"_parent\"><img src=\"https://colab.research.google.com/assets/colab-badge.svg\" alt=\"Open In Colab\"/></a>"
      ]
    },
    {
      "cell_type": "code",
      "source": [
        "import os\n",
        "import random\n",
        "\n",
        "def write(filename, text):\n",
        "  with open(f\"{filename}.conll\", \"w\") as file1:\n",
        "    file1.write(\"\\n\\n\".join(text))\n",
        "\n",
        "with open('annotated_trim.conll') as f:\n",
        "  data = f.read()\n",
        "  splits = data.split(2*os.linesep)\n",
        "  print(len(splits))\n",
        "  splits = sorted(splits, key=lambda x: random.random())\n",
        "  train = splits[:58]\n",
        "  test = splits[58:68]\n",
        "  dev = splits[68:78]\n",
        "  print(len(train))\n",
        "  print(len(test))\n",
        "  print(len(dev))\n",
        "\n",
        "  write('train', train)\n",
        "  write('test', test)\n",
        "  write('dev', dev)\n"
      ],
      "metadata": {
        "colab": {
          "base_uri": "https://localhost:8080/"
        },
        "id": "-QA_xqkrLDeC",
        "outputId": "f0840b25-0256-4a0d-b2f5-649d748d7054"
      },
      "execution_count": null,
      "outputs": [
        {
          "output_type": "stream",
          "name": "stdout",
          "text": [
            "78\n",
            "58\n",
            "10\n",
            "10\n"
          ]
        }
      ]
    },
    {
      "cell_type": "code",
      "source": [
        "import torch\n",
        "\n",
        "torch.cuda.is_available()"
      ],
      "metadata": {
        "colab": {
          "base_uri": "https://localhost:8080/"
        },
        "id": "TF3VTNNwXg0x",
        "outputId": "1c71a4c7-b8fc-48a9-851b-c414bf073a21"
      },
      "execution_count": null,
      "outputs": [
        {
          "output_type": "execute_result",
          "data": {
            "text/plain": [
              "True"
            ]
          },
          "metadata": {},
          "execution_count": 1
        }
      ]
    },
    {
      "cell_type": "code",
      "execution_count": null,
      "metadata": {
        "colab": {
          "base_uri": "https://localhost:8080/",
          "height": 1000
        },
        "id": "cuqW4DZFl2b6",
        "outputId": "12118a96-4a5e-47af-e02d-dd329d60613e"
      },
      "outputs": [
        {
          "output_type": "stream",
          "name": "stdout",
          "text": [
            "Collecting flair\n",
            "  Downloading flair-0.12.2-py3-none-any.whl (373 kB)\n",
            "\u001b[?25l     \u001b[90m━━━━━━━━━━━━━━━━━━━━━━━━━━━━━━━━━━━━━━━━\u001b[0m \u001b[32m0.0/373.1 kB\u001b[0m \u001b[31m?\u001b[0m eta \u001b[36m-:--:--\u001b[0m\r\u001b[2K     \u001b[91m━━━━━━━━━━━━━━━━━━━━━\u001b[0m\u001b[90m╺\u001b[0m\u001b[90m━━━━━━━━━━━━━━━━━\u001b[0m \u001b[32m204.8/373.1 kB\u001b[0m \u001b[31m6.2 MB/s\u001b[0m eta \u001b[36m0:00:01\u001b[0m\r\u001b[2K     \u001b[90m━━━━━━━━━━━━━━━━━━━━━━━━━━━━━━━━━━━━━━━\u001b[0m \u001b[32m373.1/373.1 kB\u001b[0m \u001b[31m6.9 MB/s\u001b[0m eta \u001b[36m0:00:00\u001b[0m\n",
            "\u001b[?25hRequirement already satisfied: python-dateutil>=2.6.1 in /usr/local/lib/python3.10/dist-packages (from flair) (2.8.2)\n",
            "Requirement already satisfied: torch!=1.8,>=1.5.0 in /usr/local/lib/python3.10/dist-packages (from flair) (2.0.1+cu118)\n",
            "Requirement already satisfied: gensim>=3.8.0 in /usr/local/lib/python3.10/dist-packages (from flair) (4.3.2)\n",
            "Requirement already satisfied: tqdm>=4.26.0 in /usr/local/lib/python3.10/dist-packages (from flair) (4.66.1)\n",
            "Collecting segtok>=1.5.7 (from flair)\n",
            "  Downloading segtok-1.5.11-py3-none-any.whl (24 kB)\n",
            "Requirement already satisfied: matplotlib>=2.2.3 in /usr/local/lib/python3.10/dist-packages (from flair) (3.7.1)\n",
            "Collecting mpld3==0.3 (from flair)\n",
            "  Downloading mpld3-0.3.tar.gz (788 kB)\n",
            "\u001b[2K     \u001b[90m━━━━━━━━━━━━━━━━━━━━━━━━━━━━━━━━━━━━━━\u001b[0m \u001b[32m788.5/788.5 kB\u001b[0m \u001b[31m15.2 MB/s\u001b[0m eta \u001b[36m0:00:00\u001b[0m\n",
            "\u001b[?25h  Preparing metadata (setup.py) ... \u001b[?25l\u001b[?25hdone\n",
            "Requirement already satisfied: scikit-learn>=0.21.3 in /usr/local/lib/python3.10/dist-packages (from flair) (1.2.2)\n",
            "Collecting sqlitedict>=1.6.0 (from flair)\n",
            "  Downloading sqlitedict-2.1.0.tar.gz (21 kB)\n",
            "  Preparing metadata (setup.py) ... \u001b[?25l\u001b[?25hdone\n",
            "Collecting deprecated>=1.2.4 (from flair)\n",
            "  Downloading Deprecated-1.2.14-py2.py3-none-any.whl (9.6 kB)\n",
            "Requirement already satisfied: hyperopt>=0.2.7 in /usr/local/lib/python3.10/dist-packages (from flair) (0.2.7)\n",
            "Collecting boto3 (from flair)\n",
            "  Downloading boto3-1.28.62-py3-none-any.whl (135 kB)\n",
            "\u001b[2K     \u001b[90m━━━━━━━━━━━━━━━━━━━━━━━━━━━━━━━━━━━━━━\u001b[0m \u001b[32m135.8/135.8 kB\u001b[0m \u001b[31m11.8 MB/s\u001b[0m eta \u001b[36m0:00:00\u001b[0m\n",
            "\u001b[?25hCollecting transformers[sentencepiece]>=4.18.0 (from flair)\n",
            "  Downloading transformers-4.34.0-py3-none-any.whl (7.7 MB)\n",
            "\u001b[2K     \u001b[90m━━━━━━━━━━━━━━━━━━━━━━━━━━━━━━━━━━━━━━━━\u001b[0m \u001b[32m7.7/7.7 MB\u001b[0m \u001b[31m46.8 MB/s\u001b[0m eta \u001b[36m0:00:00\u001b[0m\n",
            "\u001b[?25hCollecting bpemb>=0.3.2 (from flair)\n",
            "  Downloading bpemb-0.3.4-py3-none-any.whl (19 kB)\n",
            "Requirement already satisfied: regex in /usr/local/lib/python3.10/dist-packages (from flair) (2023.6.3)\n",
            "Requirement already satisfied: tabulate in /usr/local/lib/python3.10/dist-packages (from flair) (0.9.0)\n",
            "Collecting langdetect (from flair)\n",
            "  Downloading langdetect-1.0.9.tar.gz (981 kB)\n",
            "\u001b[2K     \u001b[90m━━━━━━━━━━━━━━━━━━━━━━━━━━━━━━━━━━━━━━\u001b[0m \u001b[32m981.5/981.5 kB\u001b[0m \u001b[31m59.0 MB/s\u001b[0m eta \u001b[36m0:00:00\u001b[0m\n",
            "\u001b[?25h  Preparing metadata (setup.py) ... \u001b[?25l\u001b[?25hdone\n",
            "Requirement already satisfied: lxml in /usr/local/lib/python3.10/dist-packages (from flair) (4.9.3)\n",
            "Collecting ftfy (from flair)\n",
            "  Downloading ftfy-6.1.1-py3-none-any.whl (53 kB)\n",
            "\u001b[2K     \u001b[90m━━━━━━━━━━━━━━━━━━━━━━━━━━━━━━━━━━━━━━━━\u001b[0m \u001b[32m53.1/53.1 kB\u001b[0m \u001b[31m6.7 MB/s\u001b[0m eta \u001b[36m0:00:00\u001b[0m\n",
            "\u001b[?25hCollecting janome (from flair)\n",
            "  Downloading Janome-0.5.0-py2.py3-none-any.whl (19.7 MB)\n",
            "\u001b[2K     \u001b[90m━━━━━━━━━━━━━━━━━━━━━━━━━━━━━━━━━━━━━━━━\u001b[0m \u001b[32m19.7/19.7 MB\u001b[0m \u001b[31m50.4 MB/s\u001b[0m eta \u001b[36m0:00:00\u001b[0m\n",
            "\u001b[?25hCollecting gdown==4.4.0 (from flair)\n",
            "  Downloading gdown-4.4.0.tar.gz (14 kB)\n",
            "  Installing build dependencies ... \u001b[?25l\u001b[?25hdone\n",
            "  Getting requirements to build wheel ... \u001b[?25l\u001b[?25hdone\n",
            "  Preparing metadata (pyproject.toml) ... \u001b[?25l\u001b[?25hdone\n",
            "Collecting huggingface-hub>=0.10.0 (from flair)\n",
            "  Downloading huggingface_hub-0.18.0-py3-none-any.whl (301 kB)\n",
            "\u001b[2K     \u001b[90m━━━━━━━━━━━━━━━━━━━━━━━━━━━━━━━━━━━━━━\u001b[0m \u001b[32m302.0/302.0 kB\u001b[0m \u001b[31m31.8 MB/s\u001b[0m eta \u001b[36m0:00:00\u001b[0m\n",
            "\u001b[?25hCollecting conllu>=4.0 (from flair)\n",
            "  Downloading conllu-4.5.3-py2.py3-none-any.whl (16 kB)\n",
            "Requirement already satisfied: more-itertools in /usr/local/lib/python3.10/dist-packages (from flair) (10.1.0)\n",
            "Collecting wikipedia-api (from flair)\n",
            "  Downloading Wikipedia_API-0.6.0-py3-none-any.whl (14 kB)\n",
            "Collecting pptree (from flair)\n",
            "  Downloading pptree-3.1.tar.gz (3.0 kB)\n",
            "  Preparing metadata (setup.py) ... \u001b[?25l\u001b[?25hdone\n",
            "Collecting pytorch-revgrad (from flair)\n",
            "  Downloading pytorch_revgrad-0.2.0-py3-none-any.whl (4.6 kB)\n",
            "Collecting transformer-smaller-training-vocab>=0.2.1 (from flair)\n",
            "  Downloading transformer_smaller_training_vocab-0.3.2-py3-none-any.whl (14 kB)\n",
            "Requirement already satisfied: filelock in /usr/local/lib/python3.10/dist-packages (from gdown==4.4.0->flair) (3.12.4)\n",
            "Requirement already satisfied: requests[socks] in /usr/local/lib/python3.10/dist-packages (from gdown==4.4.0->flair) (2.31.0)\n",
            "Requirement already satisfied: six in /usr/local/lib/python3.10/dist-packages (from gdown==4.4.0->flair) (1.16.0)\n",
            "Requirement already satisfied: beautifulsoup4 in /usr/local/lib/python3.10/dist-packages (from gdown==4.4.0->flair) (4.11.2)\n",
            "Requirement already satisfied: numpy in /usr/local/lib/python3.10/dist-packages (from bpemb>=0.3.2->flair) (1.23.5)\n",
            "Collecting sentencepiece (from bpemb>=0.3.2->flair)\n",
            "  Downloading sentencepiece-0.1.99-cp310-cp310-manylinux_2_17_x86_64.manylinux2014_x86_64.whl (1.3 MB)\n",
            "\u001b[2K     \u001b[90m━━━━━━━━━━━━━━━━━━━━━━━━━━━━━━━━━━━━━━━━\u001b[0m \u001b[32m1.3/1.3 MB\u001b[0m \u001b[31m81.6 MB/s\u001b[0m eta \u001b[36m0:00:00\u001b[0m\n",
            "\u001b[?25hRequirement already satisfied: wrapt<2,>=1.10 in /usr/local/lib/python3.10/dist-packages (from deprecated>=1.2.4->flair) (1.15.0)\n",
            "Requirement already satisfied: scipy>=1.7.0 in /usr/local/lib/python3.10/dist-packages (from gensim>=3.8.0->flair) (1.11.3)\n",
            "Requirement already satisfied: smart-open>=1.8.1 in /usr/local/lib/python3.10/dist-packages (from gensim>=3.8.0->flair) (6.4.0)\n",
            "Requirement already satisfied: fsspec>=2023.5.0 in /usr/local/lib/python3.10/dist-packages (from huggingface-hub>=0.10.0->flair) (2023.6.0)\n",
            "Requirement already satisfied: pyyaml>=5.1 in /usr/local/lib/python3.10/dist-packages (from huggingface-hub>=0.10.0->flair) (6.0.1)\n",
            "Requirement already satisfied: typing-extensions>=3.7.4.3 in /usr/local/lib/python3.10/dist-packages (from huggingface-hub>=0.10.0->flair) (4.5.0)\n",
            "Requirement already satisfied: packaging>=20.9 in /usr/local/lib/python3.10/dist-packages (from huggingface-hub>=0.10.0->flair) (23.2)\n",
            "Requirement already satisfied: networkx>=2.2 in /usr/local/lib/python3.10/dist-packages (from hyperopt>=0.2.7->flair) (3.1)\n",
            "Requirement already satisfied: future in /usr/local/lib/python3.10/dist-packages (from hyperopt>=0.2.7->flair) (0.18.3)\n",
            "Requirement already satisfied: cloudpickle in /usr/local/lib/python3.10/dist-packages (from hyperopt>=0.2.7->flair) (2.2.1)\n",
            "Requirement already satisfied: py4j in /usr/local/lib/python3.10/dist-packages (from hyperopt>=0.2.7->flair) (0.10.9.7)\n",
            "Requirement already satisfied: contourpy>=1.0.1 in /usr/local/lib/python3.10/dist-packages (from matplotlib>=2.2.3->flair) (1.1.1)\n",
            "Requirement already satisfied: cycler>=0.10 in /usr/local/lib/python3.10/dist-packages (from matplotlib>=2.2.3->flair) (0.12.0)\n",
            "Requirement already satisfied: fonttools>=4.22.0 in /usr/local/lib/python3.10/dist-packages (from matplotlib>=2.2.3->flair) (4.43.1)\n",
            "Requirement already satisfied: kiwisolver>=1.0.1 in /usr/local/lib/python3.10/dist-packages (from matplotlib>=2.2.3->flair) (1.4.5)\n",
            "Requirement already satisfied: pillow>=6.2.0 in /usr/local/lib/python3.10/dist-packages (from matplotlib>=2.2.3->flair) (9.4.0)\n",
            "Requirement already satisfied: pyparsing>=2.3.1 in /usr/local/lib/python3.10/dist-packages (from matplotlib>=2.2.3->flair) (3.1.1)\n",
            "Requirement already satisfied: joblib>=1.1.1 in /usr/local/lib/python3.10/dist-packages (from scikit-learn>=0.21.3->flair) (1.3.2)\n",
            "Requirement already satisfied: threadpoolctl>=2.0.0 in /usr/local/lib/python3.10/dist-packages (from scikit-learn>=0.21.3->flair) (3.2.0)\n",
            "Requirement already satisfied: sympy in /usr/local/lib/python3.10/dist-packages (from torch!=1.8,>=1.5.0->flair) (1.12)\n",
            "Requirement already satisfied: jinja2 in /usr/local/lib/python3.10/dist-packages (from torch!=1.8,>=1.5.0->flair) (3.1.2)\n",
            "Requirement already satisfied: triton==2.0.0 in /usr/local/lib/python3.10/dist-packages (from torch!=1.8,>=1.5.0->flair) (2.0.0)\n",
            "Requirement already satisfied: cmake in /usr/local/lib/python3.10/dist-packages (from triton==2.0.0->torch!=1.8,>=1.5.0->flair) (3.27.6)\n",
            "Requirement already satisfied: lit in /usr/local/lib/python3.10/dist-packages (from triton==2.0.0->torch!=1.8,>=1.5.0->flair) (17.0.2)\n",
            "Collecting torch!=1.8,>=1.5.0 (from flair)\n",
            "  Downloading torch-2.1.0-cp310-cp310-manylinux1_x86_64.whl (670.2 MB)\n",
            "\u001b[2K     \u001b[90m━━━━━━━━━━━━━━━━━━━━━━━━━━━━━━━━━━━━━━━\u001b[0m \u001b[32m670.2/670.2 MB\u001b[0m \u001b[31m2.1 MB/s\u001b[0m eta \u001b[36m0:00:00\u001b[0m\n",
            "\u001b[?25hCollecting nvidia-cuda-nvrtc-cu12==12.1.105 (from torch!=1.8,>=1.5.0->flair)\n",
            "  Downloading nvidia_cuda_nvrtc_cu12-12.1.105-py3-none-manylinux1_x86_64.whl (23.7 MB)\n",
            "\u001b[2K     \u001b[90m━━━━━━━━━━━━━━━━━━━━━━━━━━━━━━━━━━━━━━━━\u001b[0m \u001b[32m23.7/23.7 MB\u001b[0m \u001b[31m45.5 MB/s\u001b[0m eta \u001b[36m0:00:00\u001b[0m\n",
            "\u001b[?25hCollecting nvidia-cuda-runtime-cu12==12.1.105 (from torch!=1.8,>=1.5.0->flair)\n",
            "  Downloading nvidia_cuda_runtime_cu12-12.1.105-py3-none-manylinux1_x86_64.whl (823 kB)\n",
            "\u001b[2K     \u001b[90m━━━━━━━━━━━━━━━━━━━━━━━━━━━━━━━━━━━━━━\u001b[0m \u001b[32m823.6/823.6 kB\u001b[0m \u001b[31m60.8 MB/s\u001b[0m eta \u001b[36m0:00:00\u001b[0m\n",
            "\u001b[?25hCollecting nvidia-cuda-cupti-cu12==12.1.105 (from torch!=1.8,>=1.5.0->flair)\n",
            "  Downloading nvidia_cuda_cupti_cu12-12.1.105-py3-none-manylinux1_x86_64.whl (14.1 MB)\n",
            "\u001b[2K     \u001b[90m━━━━━━━━━━━━━━━━━━━━━━━━━━━━━━━━━━━━━━━━\u001b[0m \u001b[32m14.1/14.1 MB\u001b[0m \u001b[31m93.5 MB/s\u001b[0m eta \u001b[36m0:00:00\u001b[0m\n",
            "\u001b[?25hCollecting nvidia-cudnn-cu12==8.9.2.26 (from torch!=1.8,>=1.5.0->flair)\n",
            "  Downloading nvidia_cudnn_cu12-8.9.2.26-py3-none-manylinux1_x86_64.whl (731.7 MB)\n",
            "\u001b[2K     \u001b[90m━━━━━━━━━━━━━━━━━━━━━━━━━━━━━━━━━━━━━━━\u001b[0m \u001b[32m731.7/731.7 MB\u001b[0m \u001b[31m2.1 MB/s\u001b[0m eta \u001b[36m0:00:00\u001b[0m\n",
            "\u001b[?25hCollecting nvidia-cublas-cu12==12.1.3.1 (from torch!=1.8,>=1.5.0->flair)\n",
            "  Downloading nvidia_cublas_cu12-12.1.3.1-py3-none-manylinux1_x86_64.whl (410.6 MB)\n",
            "\u001b[2K     \u001b[90m━━━━━━━━━━━━━━━━━━━━━━━━━━━━━━━━━━━━━━━\u001b[0m \u001b[32m410.6/410.6 MB\u001b[0m \u001b[31m2.9 MB/s\u001b[0m eta \u001b[36m0:00:00\u001b[0m\n",
            "\u001b[?25hCollecting nvidia-cufft-cu12==11.0.2.54 (from torch!=1.8,>=1.5.0->flair)\n",
            "  Downloading nvidia_cufft_cu12-11.0.2.54-py3-none-manylinux1_x86_64.whl (121.6 MB)\n",
            "\u001b[2K     \u001b[90m━━━━━━━━━━━━━━━━━━━━━━━━━━━━━━━━━━━━━━\u001b[0m \u001b[32m121.6/121.6 MB\u001b[0m \u001b[31m15.1 MB/s\u001b[0m eta \u001b[36m0:00:00\u001b[0m\n",
            "\u001b[?25hCollecting nvidia-curand-cu12==10.3.2.106 (from torch!=1.8,>=1.5.0->flair)\n",
            "  Downloading nvidia_curand_cu12-10.3.2.106-py3-none-manylinux1_x86_64.whl (56.5 MB)\n",
            "\u001b[2K     \u001b[90m━━━━━━━━━━━━━━━━━━━━━━━━━━━━━━━━━━━━━━━━\u001b[0m \u001b[32m56.5/56.5 MB\u001b[0m \u001b[31m32.0 MB/s\u001b[0m eta \u001b[36m0:00:00\u001b[0m\n",
            "\u001b[?25hCollecting nvidia-cusolver-cu12==11.4.5.107 (from torch!=1.8,>=1.5.0->flair)\n",
            "  Downloading nvidia_cusolver_cu12-11.4.5.107-py3-none-manylinux1_x86_64.whl (124.2 MB)\n",
            "\u001b[2K     \u001b[90m━━━━━━━━━━━━━━━━━━━━━━━━━━━━━━━━━━━━━━━\u001b[0m \u001b[32m124.2/124.2 MB\u001b[0m \u001b[31m5.1 MB/s\u001b[0m eta \u001b[36m0:00:00\u001b[0m\n",
            "\u001b[?25hCollecting nvidia-cusparse-cu12==12.1.0.106 (from torch!=1.8,>=1.5.0->flair)\n",
            "  Downloading nvidia_cusparse_cu12-12.1.0.106-py3-none-manylinux1_x86_64.whl (196.0 MB)\n",
            "\u001b[2K     \u001b[90m━━━━━━━━━━━━━━━━━━━━━━━━━━━━━━━━━━━━━━━\u001b[0m \u001b[32m196.0/196.0 MB\u001b[0m \u001b[31m5.6 MB/s\u001b[0m eta \u001b[36m0:00:00\u001b[0m\n",
            "\u001b[?25hCollecting nvidia-nccl-cu12==2.18.1 (from torch!=1.8,>=1.5.0->flair)\n",
            "  Downloading nvidia_nccl_cu12-2.18.1-py3-none-manylinux1_x86_64.whl (209.8 MB)\n",
            "\u001b[2K     \u001b[90m━━━━━━━━━━━━━━━━━━━━━━━━━━━━━━━━━━━━━━━\u001b[0m \u001b[32m209.8/209.8 MB\u001b[0m \u001b[31m4.0 MB/s\u001b[0m eta \u001b[36m0:00:00\u001b[0m\n",
            "\u001b[?25hCollecting nvidia-nvtx-cu12==12.1.105 (from torch!=1.8,>=1.5.0->flair)\n",
            "  Downloading nvidia_nvtx_cu12-12.1.105-py3-none-manylinux1_x86_64.whl (99 kB)\n",
            "\u001b[2K     \u001b[90m━━━━━━━━━━━━━━━━━━━━━━━━━━━━━━━━━━━━━━━━\u001b[0m \u001b[32m99.1/99.1 kB\u001b[0m \u001b[31m12.1 MB/s\u001b[0m eta \u001b[36m0:00:00\u001b[0m\n",
            "\u001b[?25hCollecting triton==2.1.0 (from torch!=1.8,>=1.5.0->flair)\n",
            "  Downloading triton-2.1.0-0-cp310-cp310-manylinux2014_x86_64.manylinux_2_17_x86_64.whl (89.2 MB)\n",
            "\u001b[2K     \u001b[90m━━━━━━━━━━━━━━━━━━━━━━━━━━━━━━━━━━━━━━━━\u001b[0m \u001b[32m89.2/89.2 MB\u001b[0m \u001b[31m19.8 MB/s\u001b[0m eta \u001b[36m0:00:00\u001b[0m\n",
            "\u001b[?25hCollecting nvidia-nvjitlink-cu12 (from nvidia-cusolver-cu12==11.4.5.107->torch!=1.8,>=1.5.0->flair)\n",
            "  Downloading nvidia_nvjitlink_cu12-12.2.140-py3-none-manylinux1_x86_64.whl (20.2 MB)\n",
            "\u001b[2K     \u001b[90m━━━━━━━━━━━━━━━━━━━━━━━━━━━━━━━━━━━━━━━━\u001b[0m \u001b[32m20.2/20.2 MB\u001b[0m \u001b[31m84.8 MB/s\u001b[0m eta \u001b[36m0:00:00\u001b[0m\n",
            "\u001b[?25hCollecting tokenizers<0.15,>=0.14 (from transformers[sentencepiece]>=4.18.0->flair)\n",
            "  Downloading tokenizers-0.14.1-cp310-cp310-manylinux_2_17_x86_64.manylinux2014_x86_64.whl (3.8 MB)\n",
            "\u001b[2K     \u001b[90m━━━━━━━━━━━━━━━━━━━━━━━━━━━━━━━━━━━━━━━━\u001b[0m \u001b[32m3.8/3.8 MB\u001b[0m \u001b[31m105.8 MB/s\u001b[0m eta \u001b[36m0:00:00\u001b[0m\n",
            "\u001b[?25hCollecting safetensors>=0.3.1 (from transformers[sentencepiece]>=4.18.0->flair)\n",
            "  Downloading safetensors-0.4.0-cp310-cp310-manylinux_2_17_x86_64.manylinux2014_x86_64.whl (1.3 MB)\n",
            "\u001b[2K     \u001b[90m━━━━━━━━━━━━━━━━━━━━━━━━━━━━━━━━━━━━━━━━\u001b[0m \u001b[32m1.3/1.3 MB\u001b[0m \u001b[31m72.7 MB/s\u001b[0m eta \u001b[36m0:00:00\u001b[0m\n",
            "\u001b[?25hRequirement already satisfied: protobuf in /usr/local/lib/python3.10/dist-packages (from transformers[sentencepiece]>=4.18.0->flair) (3.20.3)\n",
            "Collecting botocore<1.32.0,>=1.31.62 (from boto3->flair)\n",
            "  Downloading botocore-1.31.62-py3-none-any.whl (11.2 MB)\n",
            "\u001b[2K     \u001b[90m━━━━━━━━━━━━━━━━━━━━━━━━━━━━━━━━━━━━━━━\u001b[0m \u001b[32m11.2/11.2 MB\u001b[0m \u001b[31m119.9 MB/s\u001b[0m eta \u001b[36m0:00:00\u001b[0m\n",
            "\u001b[?25hCollecting jmespath<2.0.0,>=0.7.1 (from boto3->flair)\n",
            "  Downloading jmespath-1.0.1-py3-none-any.whl (20 kB)\n",
            "Collecting s3transfer<0.8.0,>=0.7.0 (from boto3->flair)\n",
            "  Downloading s3transfer-0.7.0-py3-none-any.whl (79 kB)\n",
            "\u001b[2K     \u001b[90m━━━━━━━━━━━━━━━━━━━━━━━━━━━━━━━━━━━━━━━━\u001b[0m \u001b[32m79.8/79.8 kB\u001b[0m \u001b[31m10.6 MB/s\u001b[0m eta \u001b[36m0:00:00\u001b[0m\n",
            "\u001b[?25hRequirement already satisfied: wcwidth>=0.2.5 in /usr/local/lib/python3.10/dist-packages (from ftfy->flair) (0.2.8)\n",
            "Requirement already satisfied: urllib3<2.1,>=1.25.4 in /usr/local/lib/python3.10/dist-packages (from botocore<1.32.0,>=1.31.62->boto3->flair) (2.0.6)\n",
            "Collecting huggingface-hub>=0.10.0 (from flair)\n",
            "  Downloading huggingface_hub-0.17.3-py3-none-any.whl (295 kB)\n",
            "\u001b[2K     \u001b[90m━━━━━━━━━━━━━━━━━━━━━━━━━━━━━━━━━━━━━━\u001b[0m \u001b[32m295.0/295.0 kB\u001b[0m \u001b[31m32.2 MB/s\u001b[0m eta \u001b[36m0:00:00\u001b[0m\n",
            "\u001b[?25hCollecting accelerate>=0.20.3 (from transformers[sentencepiece]>=4.18.0->flair)\n",
            "  Downloading accelerate-0.23.0-py3-none-any.whl (258 kB)\n",
            "\u001b[2K     \u001b[90m━━━━━━━━━━━━━━━━━━━━━━━━━━━━━━━━━━━━━━\u001b[0m \u001b[32m258.1/258.1 kB\u001b[0m \u001b[31m28.8 MB/s\u001b[0m eta \u001b[36m0:00:00\u001b[0m\n",
            "\u001b[?25hRequirement already satisfied: soupsieve>1.2 in /usr/local/lib/python3.10/dist-packages (from beautifulsoup4->gdown==4.4.0->flair) (2.5)\n",
            "Requirement already satisfied: MarkupSafe>=2.0 in /usr/local/lib/python3.10/dist-packages (from jinja2->torch!=1.8,>=1.5.0->flair) (2.1.3)\n",
            "Requirement already satisfied: charset-normalizer<4,>=2 in /usr/local/lib/python3.10/dist-packages (from requests[socks]->gdown==4.4.0->flair) (3.3.0)\n",
            "Requirement already satisfied: idna<4,>=2.5 in /usr/local/lib/python3.10/dist-packages (from requests[socks]->gdown==4.4.0->flair) (3.4)\n",
            "Requirement already satisfied: certifi>=2017.4.17 in /usr/local/lib/python3.10/dist-packages (from requests[socks]->gdown==4.4.0->flair) (2023.7.22)\n",
            "Requirement already satisfied: PySocks!=1.5.7,>=1.5.6 in /usr/local/lib/python3.10/dist-packages (from requests[socks]->gdown==4.4.0->flair) (1.7.1)\n",
            "Requirement already satisfied: mpmath>=0.19 in /usr/local/lib/python3.10/dist-packages (from sympy->torch!=1.8,>=1.5.0->flair) (1.3.0)\n",
            "Requirement already satisfied: psutil in /usr/local/lib/python3.10/dist-packages (from accelerate>=0.20.3->transformers[sentencepiece]>=4.18.0->flair) (5.9.5)\n",
            "Building wheels for collected packages: gdown, mpld3, sqlitedict, langdetect, pptree\n",
            "  Building wheel for gdown (pyproject.toml) ... \u001b[?25l\u001b[?25hdone\n",
            "  Created wheel for gdown: filename=gdown-4.4.0-py3-none-any.whl size=14758 sha256=f867985a6f9d557149bca86a03d4a26499e9fdeaa2e2ca31cc77f70b9553fd1b\n",
            "  Stored in directory: /root/.cache/pip/wheels/03/0b/3f/6ddf67a417a5b400b213b0bb772a50276c199a386b12c06bfc\n",
            "  Building wheel for mpld3 (setup.py) ... \u001b[?25l\u001b[?25hdone\n",
            "  Created wheel for mpld3: filename=mpld3-0.3-py3-none-any.whl size=116686 sha256=46ea3f20180ed5b9ea24d4367e639ff672b31b0698666af9a0685c3d190b7c82\n",
            "  Stored in directory: /root/.cache/pip/wheels/9c/92/f7/45d9aac5dcfb1c2a1761a272365599cc7ba1050ce211a3fd9a\n",
            "  Building wheel for sqlitedict (setup.py) ... \u001b[?25l\u001b[?25hdone\n",
            "  Created wheel for sqlitedict: filename=sqlitedict-2.1.0-py3-none-any.whl size=16864 sha256=ea85ad43b6f073118cfa2889bf8495cd735932bf29860e6d65ebada35c6cf47e\n",
            "  Stored in directory: /root/.cache/pip/wheels/79/d6/e7/304e0e6cb2221022c26d8161f7c23cd4f259a9e41e8bbcfabd\n",
            "  Building wheel for langdetect (setup.py) ... \u001b[?25l\u001b[?25hdone\n",
            "  Created wheel for langdetect: filename=langdetect-1.0.9-py3-none-any.whl size=993224 sha256=e2de193b50f44f218268d6292fd6ca30e1529a46084b7ba4f49af4fec239fd3e\n",
            "  Stored in directory: /root/.cache/pip/wheels/95/03/7d/59ea870c70ce4e5a370638b5462a7711ab78fba2f655d05106\n",
            "  Building wheel for pptree (setup.py) ... \u001b[?25l\u001b[?25hdone\n",
            "  Created wheel for pptree: filename=pptree-3.1-py3-none-any.whl size=4609 sha256=091ae960e906e7c525cc348a04900052a869234498ad5cb8cf3348cc168183c1\n",
            "  Stored in directory: /root/.cache/pip/wheels/9f/b6/0e/6f26eb9e6eb53ff2107a7888d72b5a6a597593956113037828\n",
            "Successfully built gdown mpld3 sqlitedict langdetect pptree\n",
            "Installing collected packages: sqlitedict, sentencepiece, pptree, mpld3, janome, triton, segtok, safetensors, nvidia-nvtx-cu12, nvidia-nvjitlink-cu12, nvidia-nccl-cu12, nvidia-curand-cu12, nvidia-cufft-cu12, nvidia-cuda-runtime-cu12, nvidia-cuda-nvrtc-cu12, nvidia-cuda-cupti-cu12, nvidia-cublas-cu12, langdetect, jmespath, ftfy, deprecated, conllu, wikipedia-api, nvidia-cusparse-cu12, nvidia-cudnn-cu12, huggingface-hub, botocore, tokenizers, s3transfer, nvidia-cusolver-cu12, gdown, bpemb, transformers, torch, boto3, pytorch-revgrad, accelerate, transformer-smaller-training-vocab, flair\n",
            "  Attempting uninstall: triton\n",
            "    Found existing installation: triton 2.0.0\n",
            "    Uninstalling triton-2.0.0:\n",
            "      Successfully uninstalled triton-2.0.0\n",
            "  Attempting uninstall: gdown\n",
            "    Found existing installation: gdown 4.6.6\n",
            "    Uninstalling gdown-4.6.6:\n",
            "      Successfully uninstalled gdown-4.6.6\n",
            "  Attempting uninstall: torch\n",
            "    Found existing installation: torch 2.0.1+cu118\n",
            "    Uninstalling torch-2.0.1+cu118:\n",
            "      Successfully uninstalled torch-2.0.1+cu118\n",
            "\u001b[31mERROR: pip's dependency resolver does not currently take into account all the packages that are installed. This behaviour is the source of the following dependency conflicts.\n",
            "fastai 2.7.12 requires torch<2.1,>=1.7, but you have torch 2.1.0 which is incompatible.\n",
            "torchaudio 2.0.2+cu118 requires torch==2.0.1, but you have torch 2.1.0 which is incompatible.\n",
            "torchdata 0.6.1 requires torch==2.0.1, but you have torch 2.1.0 which is incompatible.\n",
            "torchtext 0.15.2 requires torch==2.0.1, but you have torch 2.1.0 which is incompatible.\n",
            "torchvision 0.15.2+cu118 requires torch==2.0.1, but you have torch 2.1.0 which is incompatible.\u001b[0m\u001b[31m\n",
            "\u001b[0mSuccessfully installed accelerate-0.23.0 boto3-1.28.62 botocore-1.31.62 bpemb-0.3.4 conllu-4.5.3 deprecated-1.2.14 flair-0.12.2 ftfy-6.1.1 gdown-4.4.0 huggingface-hub-0.17.3 janome-0.5.0 jmespath-1.0.1 langdetect-1.0.9 mpld3-0.3 nvidia-cublas-cu12-12.1.3.1 nvidia-cuda-cupti-cu12-12.1.105 nvidia-cuda-nvrtc-cu12-12.1.105 nvidia-cuda-runtime-cu12-12.1.105 nvidia-cudnn-cu12-8.9.2.26 nvidia-cufft-cu12-11.0.2.54 nvidia-curand-cu12-10.3.2.106 nvidia-cusolver-cu12-11.4.5.107 nvidia-cusparse-cu12-12.1.0.106 nvidia-nccl-cu12-2.18.1 nvidia-nvjitlink-cu12-12.2.140 nvidia-nvtx-cu12-12.1.105 pptree-3.1 pytorch-revgrad-0.2.0 s3transfer-0.7.0 safetensors-0.4.0 segtok-1.5.11 sentencepiece-0.1.99 sqlitedict-2.1.0 tokenizers-0.14.1 torch-2.1.0 transformer-smaller-training-vocab-0.3.2 transformers-4.34.0 triton-2.1.0 wikipedia-api-0.6.0\n"
          ]
        },
        {
          "output_type": "display_data",
          "data": {
            "application/vnd.colab-display-data+json": {
              "pip_warning": {
                "packages": [
                  "nvfuser",
                  "torch"
                ]
              }
            }
          },
          "metadata": {}
        }
      ],
      "source": [
        "!pip install flair"
      ]
    },
    {
      "cell_type": "code",
      "source": [
        "from flair.data import Corpus\n",
        "from flair.datasets import ColumnCorpus\n",
        "\n",
        "columns = {0: 'text', 1: 'ner'}\n",
        "data_folder = ''\n",
        "\n",
        "# corpus: Corpus = ColumnCorpus(data_folder, columns,\n",
        "#                               train_file='annotated_trim.conll',\n",
        "#                               test_file='annotated_trim.conll',\n",
        "#                               dev_file='annotated_trim.conll')\n",
        "\n",
        "corpus: Corpus = ColumnCorpus(data_folder, columns,\n",
        "                              train_file='train.conll',\n",
        "                              test_file='test.conll',\n",
        "                              dev_file='dev.conll')\n",
        "print(f'Corpus size: {len(corpus.train)}')\n",
        "print(corpus.test[0].to_tagged_string('ner'))"
      ],
      "metadata": {
        "colab": {
          "base_uri": "https://localhost:8080/"
        },
        "id": "MPZrrdFSpEoN",
        "outputId": "28294059-0b5e-44f3-8bcd-20ef3c57b7ee"
      },
      "execution_count": null,
      "outputs": [
        {
          "output_type": "stream",
          "name": "stdout",
          "text": [
            "2023-10-11 11:28:25,160 Reading data from .\n",
            "2023-10-11 11:28:25,161 Train: train.conll\n",
            "2023-10-11 11:28:25,164 Dev: dev.conll\n",
            "2023-10-11 11:28:25,165 Test: test.conll\n",
            "Corpus size: 57\n",
            "Sentence[284]: \"Michel Gustave Édouard Mayor ( born 12 January 1942 ) is a Swiss astrophysicist and professor emeritus at the University of Geneva 's Department of Astronomy. He formally retired in 2007 , but remains active as a researcher at the Observatory of Geneva. He is co-laureate of the 2019 Nobel Prize in Physics along with Jim Peebles and Didier Queloz , and the winner of the 2010 Viktor Ambartsumian International Prize and the 2015 Kyoto Prize. Together with Didier Queloz in 1995 , he discovered , the first extrasolar planet orbiting a sun-like star , 51 Pegasi. For this achievement , they were awarded the 2019 Nobel Prize in Physics \" for the discovery of an exoplanet orbiting a solar-type star \" resulting in \" contributions to our understanding of the evolution of the universe and Earth 's place in the cosmos \" . Related to the discovery , Mayor noted that humans will never migrate to such exoplanets since they are \" much , much too far away ... [ and would take ] hundreds of millions of days using the means we have available today \" . However , due to discoveries by Mayor , searching for extraterrestrial communications from exoplanets may now be a more practical consideration than thought earlier. Mayor holds MS in Physics from the University of Lausanne ( 1966 ) and PhD in Astronomy from the Geneva Observatory ( 1971 ) . He was a researcher at the Institute of Astronomy at the University of Cambridge in 1971. Subsequently , he spent sabbatical semesters at the European Southern Observatory ( ESO ) in northern Chile and at the Institute for Astronomy of the University of Hawaii system .\" → [\"Michel Gustave Édouard Mayor\"/WINNER, \"12 January 1942\"/DATE, \"Swiss\"/NATIONALITY, \"He\"/WINNER, \"2007\"/DATE, \"He\"/WINNER, \"2019\"/DATE, \"Nobel Prize in Physics\"/PRIZETYPE, \"Jim Peebles\"/WINNER, \"Didier Queloz\"/WINNER, \"2010\"/DATE, \"2015\"/DATE, \"Didier Queloz\"/WINNER, \"1995\"/DATE, \"he\"/WINNER, \"discovered , the first extrasolar planet orbiting a sun-like star\"/REASON, \"2019\"/DATE, \"Nobel Prize in Physics\"/PRIZETYPE, \"the discovery of an exoplanet orbiting a solar-type star\"/REASON, \"Mayor\"/WINNER, \"Mayor\"/WINNER, \"Mayor\"/WINNER, \"1966\"/DATE, \"1971\"/DATE, \"He\"/WINNER, \"1971.\"/DATE, \"he\"/WINNER, \"Chile\"/NATIONALITY]\n"
          ]
        }
      ]
    },
    {
      "cell_type": "code",
      "source": [
        "# tag to predict\n",
        "tag_type = 'ner'# make tag dictionary from the corpus\n",
        "tag_dictionary = corpus.make_label_dictionary(label_type=tag_type)"
      ],
      "metadata": {
        "colab": {
          "base_uri": "https://localhost:8080/"
        },
        "id": "DjuZ7XYKqMyV",
        "outputId": "ee33bb91-3c71-4d3b-db68-4b8e3866d10e"
      },
      "execution_count": null,
      "outputs": [
        {
          "output_type": "stream",
          "name": "stdout",
          "text": [
            "2023-10-11 11:28:25,584 Computing label dictionary. Progress:\n"
          ]
        },
        {
          "output_type": "stream",
          "name": "stderr",
          "text": [
            "57it [00:00, 13005.95it/s]"
          ]
        },
        {
          "output_type": "stream",
          "name": "stdout",
          "text": [
            "2023-10-11 11:28:25,595 Dictionary created for label 'ner' with 6 values: WINNER (seen 555 times), DATE (seen 376 times), NATIONALITY (seen 265 times), PRIZETYPE (seen 56 times), REASON (seen 36 times)\n"
          ]
        },
        {
          "output_type": "stream",
          "name": "stderr",
          "text": [
            "\n"
          ]
        }
      ]
    },
    {
      "cell_type": "code",
      "source": [
        "from flair.embeddings import WordEmbeddings, StackedEmbeddings, TokenEmbeddings\n",
        "from typing import List\n",
        "\n",
        "embedding_types : List[TokenEmbeddings] = [\n",
        "        WordEmbeddings('glove'),\n",
        "        ## other embeddings\n",
        "        ]\n",
        "\n",
        "embeddings : StackedEmbeddings = StackedEmbeddings(\n",
        "                                 embeddings=embedding_types)"
      ],
      "metadata": {
        "id": "0YfA1DoXvPO4"
      },
      "execution_count": null,
      "outputs": []
    },
    {
      "cell_type": "code",
      "source": [
        "from flair.models import SequenceTagger\n",
        "tagger : SequenceTagger = SequenceTagger(hidden_size=256,\n",
        "                                       embeddings=embeddings,\n",
        "                                       tag_dictionary=tag_dictionary,\n",
        "                                       tag_type=tag_type,\n",
        "                                       use_crf=True,\n",
        "                                         tag_format='BIO'\n",
        "                                         )\n",
        "print(tagger)"
      ],
      "metadata": {
        "colab": {
          "base_uri": "https://localhost:8080/"
        },
        "id": "OcxJy7ezvWnt",
        "outputId": "0e3666fb-6251-4f9f-ee40-734d48eae53a"
      },
      "execution_count": null,
      "outputs": [
        {
          "output_type": "stream",
          "name": "stdout",
          "text": [
            "2023-10-11 11:28:29,345 SequenceTagger predicts: Dictionary with 21 tags: O, S-WINNER, B-WINNER, E-WINNER, I-WINNER, S-DATE, B-DATE, E-DATE, I-DATE, S-NATIONALITY, B-NATIONALITY, E-NATIONALITY, I-NATIONALITY, S-PRIZETYPE, B-PRIZETYPE, E-PRIZETYPE, I-PRIZETYPE, S-REASON, B-REASON, E-REASON, I-REASON\n",
            "SequenceTagger(\n",
            "  (embeddings): StackedEmbeddings(\n",
            "    (list_embedding_0): WordEmbeddings(\n",
            "      'glove'\n",
            "      (embedding): Embedding(400001, 100)\n",
            "    )\n",
            "  )\n",
            "  (word_dropout): WordDropout(p=0.05)\n",
            "  (locked_dropout): LockedDropout(p=0.5)\n",
            "  (embedding2nn): Linear(in_features=100, out_features=100, bias=True)\n",
            "  (rnn): LSTM(100, 256, batch_first=True, bidirectional=True)\n",
            "  (linear): Linear(in_features=512, out_features=23, bias=True)\n",
            "  (loss_function): ViterbiLoss()\n",
            "  (crf): CRF()\n",
            ")\n"
          ]
        }
      ]
    },
    {
      "cell_type": "code",
      "source": [
        "from flair.trainers import ModelTrainer\n",
        "trainer : ModelTrainer = ModelTrainer(tagger, corpus)\n",
        "trainer.train('resources/taggers/ner',\n",
        "              learning_rate=0.1,\n",
        "              mini_batch_size=32,\n",
        "              max_epochs=300) # 150\n",
        "\n"
      ],
      "metadata": {
        "colab": {
          "base_uri": "https://localhost:8080/"
        },
        "id": "-UQ7cZLVvgz7",
        "outputId": "c8f88841-f750-479c-c7fc-2f9094e3ab54"
      },
      "execution_count": null,
      "outputs": [
        {
          "output_type": "stream",
          "name": "stdout",
          "text": [
            "2023-10-11 11:28:29,649 ----------------------------------------------------------------------------------------------------\n",
            "2023-10-11 11:28:29,651 Model: \"SequenceTagger(\n",
            "  (embeddings): StackedEmbeddings(\n",
            "    (list_embedding_0): WordEmbeddings(\n",
            "      'glove'\n",
            "      (embedding): Embedding(400001, 100)\n",
            "    )\n",
            "  )\n",
            "  (word_dropout): WordDropout(p=0.05)\n",
            "  (locked_dropout): LockedDropout(p=0.5)\n",
            "  (embedding2nn): Linear(in_features=100, out_features=100, bias=True)\n",
            "  (rnn): LSTM(100, 256, batch_first=True, bidirectional=True)\n",
            "  (linear): Linear(in_features=512, out_features=23, bias=True)\n",
            "  (loss_function): ViterbiLoss()\n",
            "  (crf): CRF()\n",
            ")\"\n",
            "2023-10-11 11:28:29,652 ----------------------------------------------------------------------------------------------------\n",
            "2023-10-11 11:28:29,654 Corpus: \"Corpus: 57 train + 10 dev + 10 test sentences\"\n",
            "2023-10-11 11:28:29,655 ----------------------------------------------------------------------------------------------------\n",
            "2023-10-11 11:28:29,657 Parameters:\n",
            "2023-10-11 11:28:29,658  - learning_rate: \"0.100000\"\n",
            "2023-10-11 11:28:29,660  - mini_batch_size: \"32\"\n",
            "2023-10-11 11:28:29,661  - patience: \"3\"\n",
            "2023-10-11 11:28:29,664  - anneal_factor: \"0.5\"\n",
            "2023-10-11 11:28:29,665  - max_epochs: \"300\"\n",
            "2023-10-11 11:28:29,667  - shuffle: \"True\"\n",
            "2023-10-11 11:28:29,669  - train_with_dev: \"False\"\n",
            "2023-10-11 11:28:29,671  - batch_growth_annealing: \"False\"\n",
            "2023-10-11 11:28:29,673 ----------------------------------------------------------------------------------------------------\n",
            "2023-10-11 11:28:29,674 Model training base path: \"resources/taggers/ner\"\n",
            "2023-10-11 11:28:29,676 ----------------------------------------------------------------------------------------------------\n",
            "2023-10-11 11:28:29,678 Device: cuda:0\n",
            "2023-10-11 11:28:29,680 ----------------------------------------------------------------------------------------------------\n",
            "2023-10-11 11:28:29,681 Embeddings storage mode: cpu\n",
            "2023-10-11 11:28:29,683 ----------------------------------------------------------------------------------------------------\n"
          ]
        },
        {
          "output_type": "stream",
          "name": "stderr",
          "text": [
            "/usr/local/lib/python3.10/dist-packages/flair/trainers/trainer.py:69: UserWarning: There should be no best model saved at epoch 1 except there is a model from previous trainings in your training folder. All previous best models will be deleted.\n",
            "  warnings.warn(\n"
          ]
        },
        {
          "output_type": "stream",
          "name": "stdout",
          "text": [
            "2023-10-11 11:28:30,740 epoch 1 - iter 1/2 - loss 3.69531250 - time (sec): 1.06 - samples/sec: 9422.71 - lr: 0.100000\n",
            "2023-10-11 11:28:31,560 epoch 1 - iter 2/2 - loss 3.37699598 - time (sec): 1.88 - samples/sec: 9065.58 - lr: 0.100000\n",
            "2023-10-11 11:28:31,562 ----------------------------------------------------------------------------------------------------\n",
            "2023-10-11 11:28:31,563 EPOCH 1 done: loss 3.3770 - lr 0.100000\n"
          ]
        },
        {
          "output_type": "stream",
          "name": "stderr",
          "text": [
            "100%|██████████| 1/1 [00:00<00:00,  1.27it/s]"
          ]
        },
        {
          "output_type": "stream",
          "name": "stdout",
          "text": [
            "2023-10-11 11:28:32,363 Evaluating as a multi-label problem: False\n",
            "2023-10-11 11:28:32,381 DEV : loss 2.057619094848633 - f1-score (micro avg)  0.0\n",
            "2023-10-11 11:28:32,389 BAD EPOCHS (no improvement): 0\n",
            "2023-10-11 11:28:32,390 saving best model\n"
          ]
        },
        {
          "output_type": "stream",
          "name": "stderr",
          "text": [
            "\n"
          ]
        },
        {
          "output_type": "stream",
          "name": "stdout",
          "text": [
            "2023-10-11 11:28:33,019 ----------------------------------------------------------------------------------------------------\n",
            "2023-10-11 11:28:33,858 epoch 2 - iter 1/2 - loss 2.02753348 - time (sec): 0.84 - samples/sec: 11570.28 - lr: 0.100000\n",
            "2023-10-11 11:28:34,768 epoch 2 - iter 2/2 - loss 1.71600023 - time (sec): 1.75 - samples/sec: 9728.58 - lr: 0.100000\n",
            "2023-10-11 11:28:34,772 ----------------------------------------------------------------------------------------------------\n",
            "2023-10-11 11:28:34,773 EPOCH 2 done: loss 1.7160 - lr 0.100000\n"
          ]
        },
        {
          "output_type": "stream",
          "name": "stderr",
          "text": [
            "100%|██████████| 1/1 [00:01<00:00,  1.15s/it]"
          ]
        },
        {
          "output_type": "stream",
          "name": "stdout",
          "text": [
            "2023-10-11 11:28:35,933 Evaluating as a multi-label problem: False\n",
            "2023-10-11 11:28:35,948 DEV : loss 0.9642338752746582 - f1-score (micro avg)  0.0\n",
            "2023-10-11 11:28:35,956 BAD EPOCHS (no improvement): 0\n",
            "2023-10-11 11:28:35,958 ----------------------------------------------------------------------------------------------------\n"
          ]
        },
        {
          "output_type": "stream",
          "name": "stderr",
          "text": [
            "\n"
          ]
        },
        {
          "output_type": "stream",
          "name": "stdout",
          "text": [
            "2023-10-11 11:28:36,979 epoch 3 - iter 1/2 - loss 1.00028754 - time (sec): 1.02 - samples/sec: 8448.95 - lr: 0.100000\n",
            "2023-10-11 11:28:37,841 epoch 3 - iter 2/2 - loss 0.92923047 - time (sec): 1.88 - samples/sec: 9034.82 - lr: 0.100000\n",
            "2023-10-11 11:28:37,844 ----------------------------------------------------------------------------------------------------\n",
            "2023-10-11 11:28:37,845 EPOCH 3 done: loss 0.9292 - lr 0.100000\n"
          ]
        },
        {
          "output_type": "stream",
          "name": "stderr",
          "text": [
            "100%|██████████| 1/1 [00:01<00:00,  1.14s/it]"
          ]
        },
        {
          "output_type": "stream",
          "name": "stdout",
          "text": [
            "2023-10-11 11:28:38,995 Evaluating as a multi-label problem: False\n",
            "2023-10-11 11:28:39,008 DEV : loss 0.8958144187927246 - f1-score (micro avg)  0.0\n",
            "2023-10-11 11:28:39,016 BAD EPOCHS (no improvement): 0\n",
            "2023-10-11 11:28:39,017 ----------------------------------------------------------------------------------------------------\n"
          ]
        },
        {
          "output_type": "stream",
          "name": "stderr",
          "text": [
            "\n"
          ]
        },
        {
          "output_type": "stream",
          "name": "stdout",
          "text": [
            "2023-10-11 11:28:40,039 epoch 4 - iter 1/2 - loss 0.87871197 - time (sec): 1.02 - samples/sec: 9455.91 - lr: 0.100000\n",
            "2023-10-11 11:28:40,841 epoch 4 - iter 2/2 - loss 0.84941176 - time (sec): 1.82 - samples/sec: 9327.12 - lr: 0.100000\n",
            "2023-10-11 11:28:40,845 ----------------------------------------------------------------------------------------------------\n",
            "2023-10-11 11:28:40,846 EPOCH 4 done: loss 0.8494 - lr 0.100000\n"
          ]
        },
        {
          "output_type": "stream",
          "name": "stderr",
          "text": [
            "100%|██████████| 1/1 [00:01<00:00,  1.11s/it]"
          ]
        },
        {
          "output_type": "stream",
          "name": "stdout",
          "text": [
            "2023-10-11 11:28:41,966 Evaluating as a multi-label problem: False\n",
            "2023-10-11 11:28:41,979 DEV : loss 0.8560970425605774 - f1-score (micro avg)  0.0\n",
            "2023-10-11 11:28:41,986 BAD EPOCHS (no improvement): 0\n",
            "2023-10-11 11:28:41,987 ----------------------------------------------------------------------------------------------------\n"
          ]
        },
        {
          "output_type": "stream",
          "name": "stderr",
          "text": [
            "\n"
          ]
        },
        {
          "output_type": "stream",
          "name": "stdout",
          "text": [
            "2023-10-11 11:28:42,981 epoch 5 - iter 1/2 - loss 0.77822670 - time (sec): 0.99 - samples/sec: 10099.24 - lr: 0.100000\n",
            "2023-10-11 11:28:43,651 epoch 5 - iter 2/2 - loss 0.83577895 - time (sec): 1.66 - samples/sec: 10226.25 - lr: 0.100000\n",
            "2023-10-11 11:28:43,653 ----------------------------------------------------------------------------------------------------\n",
            "2023-10-11 11:28:43,654 EPOCH 5 done: loss 0.8358 - lr 0.100000\n"
          ]
        },
        {
          "output_type": "stream",
          "name": "stderr",
          "text": [
            "100%|██████████| 1/1 [00:01<00:00,  1.08s/it]"
          ]
        },
        {
          "output_type": "stream",
          "name": "stdout",
          "text": [
            "2023-10-11 11:28:44,741 Evaluating as a multi-label problem: False\n",
            "2023-10-11 11:28:44,754 DEV : loss 0.8289098143577576 - f1-score (micro avg)  0.0\n",
            "2023-10-11 11:28:44,761 BAD EPOCHS (no improvement): 0\n",
            "2023-10-11 11:28:44,762 ----------------------------------------------------------------------------------------------------\n"
          ]
        },
        {
          "output_type": "stream",
          "name": "stderr",
          "text": [
            "\n"
          ]
        },
        {
          "output_type": "stream",
          "name": "stdout",
          "text": [
            "2023-10-11 11:28:46,181 epoch 6 - iter 1/2 - loss 0.75611565 - time (sec): 1.42 - samples/sec: 6458.01 - lr: 0.100000\n",
            "2023-10-11 11:28:47,068 epoch 6 - iter 2/2 - loss 0.81381985 - time (sec): 2.30 - samples/sec: 7376.37 - lr: 0.100000\n",
            "2023-10-11 11:28:47,073 ----------------------------------------------------------------------------------------------------\n",
            "2023-10-11 11:28:47,075 EPOCH 6 done: loss 0.8138 - lr 0.100000\n"
          ]
        },
        {
          "output_type": "stream",
          "name": "stderr",
          "text": [
            "100%|██████████| 1/1 [00:01<00:00,  1.11s/it]"
          ]
        },
        {
          "output_type": "stream",
          "name": "stdout",
          "text": [
            "2023-10-11 11:28:48,192 Evaluating as a multi-label problem: False\n",
            "2023-10-11 11:28:48,206 DEV : loss 0.8094847202301025 - f1-score (micro avg)  0.0\n",
            "2023-10-11 11:28:48,213 BAD EPOCHS (no improvement): 0\n",
            "2023-10-11 11:28:48,214 ----------------------------------------------------------------------------------------------------\n"
          ]
        },
        {
          "output_type": "stream",
          "name": "stderr",
          "text": [
            "\n"
          ]
        },
        {
          "output_type": "stream",
          "name": "stdout",
          "text": [
            "2023-10-11 11:28:48,988 epoch 7 - iter 1/2 - loss 0.80160694 - time (sec): 0.77 - samples/sec: 11349.16 - lr: 0.100000\n",
            "2023-10-11 11:28:49,912 epoch 7 - iter 2/2 - loss 0.77399644 - time (sec): 1.70 - samples/sec: 10022.47 - lr: 0.100000\n",
            "2023-10-11 11:28:49,917 ----------------------------------------------------------------------------------------------------\n",
            "2023-10-11 11:28:49,918 EPOCH 7 done: loss 0.7740 - lr 0.100000\n"
          ]
        },
        {
          "output_type": "stream",
          "name": "stderr",
          "text": [
            "100%|██████████| 1/1 [00:01<00:00,  1.15s/it]"
          ]
        },
        {
          "output_type": "stream",
          "name": "stdout",
          "text": [
            "2023-10-11 11:28:51,074 Evaluating as a multi-label problem: False\n",
            "2023-10-11 11:28:51,088 DEV : loss 0.793226420879364 - f1-score (micro avg)  0.0\n",
            "2023-10-11 11:28:51,095 BAD EPOCHS (no improvement): 0\n",
            "2023-10-11 11:28:51,097 ----------------------------------------------------------------------------------------------------\n"
          ]
        },
        {
          "output_type": "stream",
          "name": "stderr",
          "text": [
            "\n"
          ]
        },
        {
          "output_type": "stream",
          "name": "stdout",
          "text": [
            "2023-10-11 11:28:52,052 epoch 8 - iter 1/2 - loss 0.74069384 - time (sec): 0.95 - samples/sec: 10266.29 - lr: 0.100000\n",
            "2023-10-11 11:28:52,996 epoch 8 - iter 2/2 - loss 0.77405561 - time (sec): 1.90 - samples/sec: 8956.21 - lr: 0.100000\n",
            "2023-10-11 11:28:52,999 ----------------------------------------------------------------------------------------------------\n",
            "2023-10-11 11:28:53,002 EPOCH 8 done: loss 0.7741 - lr 0.100000\n"
          ]
        },
        {
          "output_type": "stream",
          "name": "stderr",
          "text": [
            "100%|██████████| 1/1 [00:01<00:00,  1.13s/it]"
          ]
        },
        {
          "output_type": "stream",
          "name": "stdout",
          "text": [
            "2023-10-11 11:28:54,138 Evaluating as a multi-label problem: False\n",
            "2023-10-11 11:28:54,151 DEV : loss 0.7823982238769531 - f1-score (micro avg)  0.0\n",
            "2023-10-11 11:28:54,158 BAD EPOCHS (no improvement): 0\n",
            "2023-10-11 11:28:54,160 ----------------------------------------------------------------------------------------------------\n"
          ]
        },
        {
          "output_type": "stream",
          "name": "stderr",
          "text": [
            "\n"
          ]
        },
        {
          "output_type": "stream",
          "name": "stdout",
          "text": [
            "2023-10-11 11:28:55,168 epoch 9 - iter 1/2 - loss 0.70328611 - time (sec): 1.01 - samples/sec: 9196.19 - lr: 0.100000\n",
            "2023-10-11 11:28:55,985 epoch 9 - iter 2/2 - loss 0.78327757 - time (sec): 1.82 - samples/sec: 9317.91 - lr: 0.100000\n",
            "2023-10-11 11:28:55,989 ----------------------------------------------------------------------------------------------------\n",
            "2023-10-11 11:28:55,991 EPOCH 9 done: loss 0.7833 - lr 0.100000\n"
          ]
        },
        {
          "output_type": "stream",
          "name": "stderr",
          "text": [
            "100%|██████████| 1/1 [00:01<00:00,  1.09s/it]"
          ]
        },
        {
          "output_type": "stream",
          "name": "stdout",
          "text": [
            "2023-10-11 11:28:57,089 Evaluating as a multi-label problem: False\n",
            "2023-10-11 11:28:57,103 DEV : loss 0.774299681186676 - f1-score (micro avg)  0.0\n",
            "2023-10-11 11:28:57,111 BAD EPOCHS (no improvement): 0\n",
            "2023-10-11 11:28:57,112 ----------------------------------------------------------------------------------------------------\n"
          ]
        },
        {
          "output_type": "stream",
          "name": "stderr",
          "text": [
            "\n"
          ]
        },
        {
          "output_type": "stream",
          "name": "stdout",
          "text": [
            "2023-10-11 11:28:58,139 epoch 10 - iter 1/2 - loss 0.73206139 - time (sec): 1.03 - samples/sec: 9708.13 - lr: 0.100000\n",
            "2023-10-11 11:28:58,919 epoch 10 - iter 2/2 - loss 0.75725023 - time (sec): 1.81 - samples/sec: 9413.42 - lr: 0.100000\n",
            "2023-10-11 11:28:58,921 ----------------------------------------------------------------------------------------------------\n",
            "2023-10-11 11:28:58,925 EPOCH 10 done: loss 0.7573 - lr 0.100000\n"
          ]
        },
        {
          "output_type": "stream",
          "name": "stderr",
          "text": [
            "100%|██████████| 1/1 [00:01<00:00,  1.07s/it]"
          ]
        },
        {
          "output_type": "stream",
          "name": "stdout",
          "text": [
            "2023-10-11 11:29:00,007 Evaluating as a multi-label problem: False\n",
            "2023-10-11 11:29:00,019 DEV : loss 0.7670765519142151 - f1-score (micro avg)  0.0\n",
            "2023-10-11 11:29:00,026 BAD EPOCHS (no improvement): 0\n",
            "2023-10-11 11:29:00,028 ----------------------------------------------------------------------------------------------------\n"
          ]
        },
        {
          "output_type": "stream",
          "name": "stderr",
          "text": [
            "\n"
          ]
        },
        {
          "output_type": "stream",
          "name": "stdout",
          "text": [
            "2023-10-11 11:29:01,036 epoch 11 - iter 1/2 - loss 0.69513181 - time (sec): 1.01 - samples/sec: 10402.38 - lr: 0.100000\n",
            "2023-10-11 11:29:01,770 epoch 11 - iter 2/2 - loss 0.74514040 - time (sec): 1.74 - samples/sec: 9763.79 - lr: 0.100000\n",
            "2023-10-11 11:29:01,774 ----------------------------------------------------------------------------------------------------\n",
            "2023-10-11 11:29:01,776 EPOCH 11 done: loss 0.7451 - lr 0.100000\n"
          ]
        },
        {
          "output_type": "stream",
          "name": "stderr",
          "text": [
            "100%|██████████| 1/1 [00:01<00:00,  1.11s/it]"
          ]
        },
        {
          "output_type": "stream",
          "name": "stdout",
          "text": [
            "2023-10-11 11:29:02,892 Evaluating as a multi-label problem: False\n",
            "2023-10-11 11:29:02,906 DEV : loss 0.7590650916099548 - f1-score (micro avg)  0.0\n",
            "2023-10-11 11:29:02,913 BAD EPOCHS (no improvement): 0\n",
            "2023-10-11 11:29:02,914 ----------------------------------------------------------------------------------------------------\n"
          ]
        },
        {
          "output_type": "stream",
          "name": "stderr",
          "text": [
            "\n"
          ]
        },
        {
          "output_type": "stream",
          "name": "stdout",
          "text": [
            "2023-10-11 11:29:04,101 epoch 12 - iter 1/2 - loss 0.69194042 - time (sec): 1.19 - samples/sec: 7109.35 - lr: 0.100000\n",
            "2023-10-11 11:29:05,090 epoch 12 - iter 2/2 - loss 0.75369060 - time (sec): 2.17 - samples/sec: 7818.15 - lr: 0.100000\n",
            "2023-10-11 11:29:05,095 ----------------------------------------------------------------------------------------------------\n",
            "2023-10-11 11:29:05,096 EPOCH 12 done: loss 0.7537 - lr 0.100000\n"
          ]
        },
        {
          "output_type": "stream",
          "name": "stderr",
          "text": [
            "100%|██████████| 1/1 [00:01<00:00,  1.24s/it]"
          ]
        },
        {
          "output_type": "stream",
          "name": "stdout",
          "text": [
            "2023-10-11 11:29:06,345 Evaluating as a multi-label problem: False\n",
            "2023-10-11 11:29:06,359 DEV : loss 0.7516670823097229 - f1-score (micro avg)  0.0\n",
            "2023-10-11 11:29:06,367 BAD EPOCHS (no improvement): 0\n",
            "2023-10-11 11:29:06,369 ----------------------------------------------------------------------------------------------------\n"
          ]
        },
        {
          "output_type": "stream",
          "name": "stderr",
          "text": [
            "\n"
          ]
        },
        {
          "output_type": "stream",
          "name": "stdout",
          "text": [
            "2023-10-11 11:29:07,355 epoch 13 - iter 1/2 - loss 0.68802681 - time (sec): 0.98 - samples/sec: 9696.16 - lr: 0.100000\n",
            "2023-10-11 11:29:08,262 epoch 13 - iter 2/2 - loss 0.72339384 - time (sec): 1.89 - samples/sec: 8990.21 - lr: 0.100000\n",
            "2023-10-11 11:29:08,266 ----------------------------------------------------------------------------------------------------\n",
            "2023-10-11 11:29:08,267 EPOCH 13 done: loss 0.7234 - lr 0.100000\n"
          ]
        },
        {
          "output_type": "stream",
          "name": "stderr",
          "text": [
            "100%|██████████| 1/1 [00:01<00:00,  1.11s/it]"
          ]
        },
        {
          "output_type": "stream",
          "name": "stdout",
          "text": [
            "2023-10-11 11:29:09,387 Evaluating as a multi-label problem: False\n",
            "2023-10-11 11:29:09,401 DEV : loss 0.7417589426040649 - f1-score (micro avg)  0.0\n",
            "2023-10-11 11:29:09,407 BAD EPOCHS (no improvement): 0\n",
            "2023-10-11 11:29:09,409 ----------------------------------------------------------------------------------------------------\n"
          ]
        },
        {
          "output_type": "stream",
          "name": "stderr",
          "text": [
            "\n"
          ]
        },
        {
          "output_type": "stream",
          "name": "stdout",
          "text": [
            "2023-10-11 11:29:10,304 epoch 14 - iter 1/2 - loss 0.65904180 - time (sec): 0.89 - samples/sec: 10399.23 - lr: 0.100000\n",
            "2023-10-11 11:29:11,202 epoch 14 - iter 2/2 - loss 0.72924104 - time (sec): 1.79 - samples/sec: 9487.65 - lr: 0.100000\n",
            "2023-10-11 11:29:11,205 ----------------------------------------------------------------------------------------------------\n",
            "2023-10-11 11:29:11,206 EPOCH 14 done: loss 0.7292 - lr 0.100000\n"
          ]
        },
        {
          "output_type": "stream",
          "name": "stderr",
          "text": [
            "100%|██████████| 1/1 [00:01<00:00,  1.07s/it]"
          ]
        },
        {
          "output_type": "stream",
          "name": "stdout",
          "text": [
            "2023-10-11 11:29:12,281 Evaluating as a multi-label problem: False\n",
            "2023-10-11 11:29:12,293 DEV : loss 0.7336035370826721 - f1-score (micro avg)  0.0\n",
            "2023-10-11 11:29:12,300 BAD EPOCHS (no improvement): 0\n",
            "2023-10-11 11:29:12,302 ----------------------------------------------------------------------------------------------------\n"
          ]
        },
        {
          "output_type": "stream",
          "name": "stderr",
          "text": [
            "\n"
          ]
        },
        {
          "output_type": "stream",
          "name": "stdout",
          "text": [
            "2023-10-11 11:29:13,238 epoch 15 - iter 1/2 - loss 0.67289049 - time (sec): 0.94 - samples/sec: 10081.23 - lr: 0.100000\n",
            "2023-10-11 11:29:14,152 epoch 15 - iter 2/2 - loss 0.72037040 - time (sec): 1.85 - samples/sec: 9193.23 - lr: 0.100000\n",
            "2023-10-11 11:29:14,155 ----------------------------------------------------------------------------------------------------\n",
            "2023-10-11 11:29:14,156 EPOCH 15 done: loss 0.7204 - lr 0.100000\n"
          ]
        },
        {
          "output_type": "stream",
          "name": "stderr",
          "text": [
            "100%|██████████| 1/1 [00:01<00:00,  1.12s/it]"
          ]
        },
        {
          "output_type": "stream",
          "name": "stdout",
          "text": [
            "2023-10-11 11:29:15,279 Evaluating as a multi-label problem: False\n",
            "2023-10-11 11:29:15,294 DEV : loss 0.7264682650566101 - f1-score (micro avg)  0.0\n",
            "2023-10-11 11:29:15,301 BAD EPOCHS (no improvement): 0\n",
            "2023-10-11 11:29:15,303 ----------------------------------------------------------------------------------------------------\n"
          ]
        },
        {
          "output_type": "stream",
          "name": "stderr",
          "text": [
            "\n"
          ]
        },
        {
          "output_type": "stream",
          "name": "stdout",
          "text": [
            "2023-10-11 11:29:16,198 epoch 16 - iter 1/2 - loss 0.62406021 - time (sec): 0.89 - samples/sec: 10849.08 - lr: 0.100000\n",
            "2023-10-11 11:29:17,119 epoch 16 - iter 2/2 - loss 0.70732606 - time (sec): 1.81 - samples/sec: 9368.17 - lr: 0.100000\n",
            "2023-10-11 11:29:17,122 ----------------------------------------------------------------------------------------------------\n",
            "2023-10-11 11:29:17,124 EPOCH 16 done: loss 0.7073 - lr 0.100000\n"
          ]
        },
        {
          "output_type": "stream",
          "name": "stderr",
          "text": [
            "100%|██████████| 1/1 [00:01<00:00,  1.10s/it]"
          ]
        },
        {
          "output_type": "stream",
          "name": "stdout",
          "text": [
            "2023-10-11 11:29:18,237 Evaluating as a multi-label problem: False\n",
            "2023-10-11 11:29:18,251 DEV : loss 0.7188417911529541 - f1-score (micro avg)  0.0\n",
            "2023-10-11 11:29:18,258 BAD EPOCHS (no improvement): 0\n",
            "2023-10-11 11:29:18,259 ----------------------------------------------------------------------------------------------------\n"
          ]
        },
        {
          "output_type": "stream",
          "name": "stderr",
          "text": [
            "\n"
          ]
        },
        {
          "output_type": "stream",
          "name": "stdout",
          "text": [
            "2023-10-11 11:29:19,284 epoch 17 - iter 1/2 - loss 0.70663518 - time (sec): 1.02 - samples/sec: 9606.17 - lr: 0.100000\n",
            "2023-10-11 11:29:20,101 epoch 17 - iter 2/2 - loss 0.69459720 - time (sec): 1.84 - samples/sec: 9232.40 - lr: 0.100000\n",
            "2023-10-11 11:29:20,104 ----------------------------------------------------------------------------------------------------\n",
            "2023-10-11 11:29:20,108 EPOCH 17 done: loss 0.6946 - lr 0.100000\n"
          ]
        },
        {
          "output_type": "stream",
          "name": "stderr",
          "text": [
            "100%|██████████| 1/1 [00:01<00:00,  1.16s/it]"
          ]
        },
        {
          "output_type": "stream",
          "name": "stdout",
          "text": [
            "2023-10-11 11:29:21,278 Evaluating as a multi-label problem: False\n",
            "2023-10-11 11:29:21,293 DEV : loss 0.7136221528053284 - f1-score (micro avg)  0.0\n",
            "2023-10-11 11:29:21,300 BAD EPOCHS (no improvement): 0\n",
            "2023-10-11 11:29:21,302 ----------------------------------------------------------------------------------------------------\n"
          ]
        },
        {
          "output_type": "stream",
          "name": "stderr",
          "text": [
            "\n"
          ]
        },
        {
          "output_type": "stream",
          "name": "stdout",
          "text": [
            "2023-10-11 11:29:22,571 epoch 18 - iter 1/2 - loss 0.69142836 - time (sec): 1.27 - samples/sec: 7526.36 - lr: 0.100000\n",
            "2023-10-11 11:29:23,508 epoch 18 - iter 2/2 - loss 0.67698851 - time (sec): 2.20 - samples/sec: 7712.76 - lr: 0.100000\n",
            "2023-10-11 11:29:23,512 ----------------------------------------------------------------------------------------------------\n",
            "2023-10-11 11:29:23,513 EPOCH 18 done: loss 0.6770 - lr 0.100000\n"
          ]
        },
        {
          "output_type": "stream",
          "name": "stderr",
          "text": [
            "100%|██████████| 1/1 [00:01<00:00,  1.10s/it]"
          ]
        },
        {
          "output_type": "stream",
          "name": "stdout",
          "text": [
            "2023-10-11 11:29:24,622 Evaluating as a multi-label problem: False\n",
            "2023-10-11 11:29:24,636 DEV : loss 0.7044495344161987 - f1-score (micro avg)  0.0\n",
            "2023-10-11 11:29:24,643 BAD EPOCHS (no improvement): 0\n",
            "2023-10-11 11:29:24,645 ----------------------------------------------------------------------------------------------------\n"
          ]
        },
        {
          "output_type": "stream",
          "name": "stderr",
          "text": [
            "\n"
          ]
        },
        {
          "output_type": "stream",
          "name": "stdout",
          "text": [
            "2023-10-11 11:29:25,547 epoch 19 - iter 1/2 - loss 0.68957627 - time (sec): 0.90 - samples/sec: 10308.03 - lr: 0.100000\n",
            "2023-10-11 11:29:26,445 epoch 19 - iter 2/2 - loss 0.67432744 - time (sec): 1.80 - samples/sec: 9448.82 - lr: 0.100000\n",
            "2023-10-11 11:29:26,448 ----------------------------------------------------------------------------------------------------\n",
            "2023-10-11 11:29:26,450 EPOCH 19 done: loss 0.6743 - lr 0.100000\n"
          ]
        },
        {
          "output_type": "stream",
          "name": "stderr",
          "text": [
            "100%|██████████| 1/1 [00:01<00:00,  1.10s/it]"
          ]
        },
        {
          "output_type": "stream",
          "name": "stdout",
          "text": [
            "2023-10-11 11:29:27,556 Evaluating as a multi-label problem: False\n",
            "2023-10-11 11:29:27,570 DEV : loss 0.6973199844360352 - f1-score (micro avg)  0.0\n",
            "2023-10-11 11:29:27,578 BAD EPOCHS (no improvement): 0\n",
            "2023-10-11 11:29:27,579 ----------------------------------------------------------------------------------------------------\n"
          ]
        },
        {
          "output_type": "stream",
          "name": "stderr",
          "text": [
            "\n"
          ]
        },
        {
          "output_type": "stream",
          "name": "stdout",
          "text": [
            "2023-10-11 11:29:28,476 epoch 20 - iter 1/2 - loss 0.68590281 - time (sec): 0.89 - samples/sec: 9628.04 - lr: 0.100000\n",
            "2023-10-11 11:29:29,397 epoch 20 - iter 2/2 - loss 0.67993647 - time (sec): 1.82 - samples/sec: 9363.01 - lr: 0.100000\n",
            "2023-10-11 11:29:29,401 ----------------------------------------------------------------------------------------------------\n",
            "2023-10-11 11:29:29,404 EPOCH 20 done: loss 0.6799 - lr 0.100000\n"
          ]
        },
        {
          "output_type": "stream",
          "name": "stderr",
          "text": [
            "100%|██████████| 1/1 [00:01<00:00,  1.11s/it]"
          ]
        },
        {
          "output_type": "stream",
          "name": "stdout",
          "text": [
            "2023-10-11 11:29:30,521 Evaluating as a multi-label problem: False\n",
            "2023-10-11 11:29:30,535 DEV : loss 0.6941431164741516 - f1-score (micro avg)  0.0\n",
            "2023-10-11 11:29:30,542 BAD EPOCHS (no improvement): 0\n",
            "2023-10-11 11:29:30,544 ----------------------------------------------------------------------------------------------------\n"
          ]
        },
        {
          "output_type": "stream",
          "name": "stderr",
          "text": [
            "\n"
          ]
        },
        {
          "output_type": "stream",
          "name": "stdout",
          "text": [
            "2023-10-11 11:29:31,478 epoch 21 - iter 1/2 - loss 0.65087300 - time (sec): 0.93 - samples/sec: 10452.87 - lr: 0.100000\n",
            "2023-10-11 11:29:32,370 epoch 21 - iter 2/2 - loss 0.67031664 - time (sec): 1.82 - samples/sec: 9317.33 - lr: 0.100000\n",
            "2023-10-11 11:29:32,373 ----------------------------------------------------------------------------------------------------\n",
            "2023-10-11 11:29:32,376 EPOCH 21 done: loss 0.6703 - lr 0.100000\n"
          ]
        },
        {
          "output_type": "stream",
          "name": "stderr",
          "text": [
            "100%|██████████| 1/1 [00:01<00:00,  1.11s/it]"
          ]
        },
        {
          "output_type": "stream",
          "name": "stdout",
          "text": [
            "2023-10-11 11:29:33,497 Evaluating as a multi-label problem: False\n",
            "2023-10-11 11:29:33,510 DEV : loss 0.6858984231948853 - f1-score (micro avg)  0.0\n",
            "2023-10-11 11:29:33,518 BAD EPOCHS (no improvement): 0\n",
            "2023-10-11 11:29:33,520 ----------------------------------------------------------------------------------------------------\n"
          ]
        },
        {
          "output_type": "stream",
          "name": "stderr",
          "text": [
            "\n"
          ]
        },
        {
          "output_type": "stream",
          "name": "stdout",
          "text": [
            "2023-10-11 11:29:34,634 epoch 22 - iter 1/2 - loss 0.60555599 - time (sec): 1.11 - samples/sec: 8890.19 - lr: 0.100000\n",
            "2023-10-11 11:29:35,360 epoch 22 - iter 2/2 - loss 0.66290763 - time (sec): 1.84 - samples/sec: 9246.22 - lr: 0.100000\n",
            "2023-10-11 11:29:35,365 ----------------------------------------------------------------------------------------------------\n",
            "2023-10-11 11:29:35,367 EPOCH 22 done: loss 0.6629 - lr 0.100000\n"
          ]
        },
        {
          "output_type": "stream",
          "name": "stderr",
          "text": [
            "100%|██████████| 1/1 [00:01<00:00,  1.21s/it]"
          ]
        },
        {
          "output_type": "stream",
          "name": "stdout",
          "text": [
            "2023-10-11 11:29:36,586 Evaluating as a multi-label problem: False\n",
            "2023-10-11 11:29:36,604 DEV : loss 0.6786814332008362 - f1-score (micro avg)  0.0\n",
            "2023-10-11 11:29:36,616 BAD EPOCHS (no improvement): 0\n",
            "2023-10-11 11:29:36,620 ----------------------------------------------------------------------------------------------------\n"
          ]
        },
        {
          "output_type": "stream",
          "name": "stderr",
          "text": [
            "\n"
          ]
        },
        {
          "output_type": "stream",
          "name": "stdout",
          "text": [
            "2023-10-11 11:29:37,929 epoch 23 - iter 1/2 - loss 0.63534591 - time (sec): 1.31 - samples/sec: 8037.22 - lr: 0.100000\n",
            "2023-10-11 11:29:38,648 epoch 23 - iter 2/2 - loss 0.64934375 - time (sec): 2.03 - samples/sec: 8390.44 - lr: 0.100000\n",
            "2023-10-11 11:29:38,653 ----------------------------------------------------------------------------------------------------\n",
            "2023-10-11 11:29:38,655 EPOCH 23 done: loss 0.6493 - lr 0.100000\n"
          ]
        },
        {
          "output_type": "stream",
          "name": "stderr",
          "text": [
            "100%|██████████| 1/1 [00:01<00:00,  1.13s/it]"
          ]
        },
        {
          "output_type": "stream",
          "name": "stdout",
          "text": [
            "2023-10-11 11:29:39,795 Evaluating as a multi-label problem: False\n",
            "2023-10-11 11:29:39,809 DEV : loss 0.6712226867675781 - f1-score (micro avg)  0.0\n",
            "2023-10-11 11:29:39,816 BAD EPOCHS (no improvement): 0\n",
            "2023-10-11 11:29:39,818 ----------------------------------------------------------------------------------------------------\n"
          ]
        },
        {
          "output_type": "stream",
          "name": "stderr",
          "text": [
            "\n"
          ]
        },
        {
          "output_type": "stream",
          "name": "stdout",
          "text": [
            "2023-10-11 11:29:41,123 epoch 24 - iter 1/2 - loss 0.59131157 - time (sec): 1.30 - samples/sec: 7669.96 - lr: 0.100000\n",
            "2023-10-11 11:29:42,021 epoch 24 - iter 2/2 - loss 0.64414040 - time (sec): 2.20 - samples/sec: 7721.10 - lr: 0.100000\n",
            "2023-10-11 11:29:42,024 ----------------------------------------------------------------------------------------------------\n",
            "2023-10-11 11:29:42,026 EPOCH 24 done: loss 0.6441 - lr 0.100000\n"
          ]
        },
        {
          "output_type": "stream",
          "name": "stderr",
          "text": [
            "100%|██████████| 1/1 [00:01<00:00,  1.13s/it]"
          ]
        },
        {
          "output_type": "stream",
          "name": "stdout",
          "text": [
            "2023-10-11 11:29:43,161 Evaluating as a multi-label problem: False\n",
            "2023-10-11 11:29:43,174 DEV : loss 0.6641182899475098 - f1-score (micro avg)  0.0\n",
            "2023-10-11 11:29:43,181 BAD EPOCHS (no improvement): 0\n",
            "2023-10-11 11:29:43,183 ----------------------------------------------------------------------------------------------------\n"
          ]
        },
        {
          "output_type": "stream",
          "name": "stderr",
          "text": [
            "\n"
          ]
        },
        {
          "output_type": "stream",
          "name": "stdout",
          "text": [
            "2023-10-11 11:29:44,237 epoch 25 - iter 1/2 - loss 0.58994189 - time (sec): 1.05 - samples/sec: 9405.47 - lr: 0.100000\n",
            "2023-10-11 11:29:45,016 epoch 25 - iter 2/2 - loss 0.64883686 - time (sec): 1.83 - samples/sec: 9276.91 - lr: 0.100000\n",
            "2023-10-11 11:29:45,019 ----------------------------------------------------------------------------------------------------\n",
            "2023-10-11 11:29:45,023 EPOCH 25 done: loss 0.6488 - lr 0.100000\n"
          ]
        },
        {
          "output_type": "stream",
          "name": "stderr",
          "text": [
            "100%|██████████| 1/1 [00:01<00:00,  1.14s/it]"
          ]
        },
        {
          "output_type": "stream",
          "name": "stdout",
          "text": [
            "2023-10-11 11:29:46,169 Evaluating as a multi-label problem: False\n",
            "2023-10-11 11:29:46,184 DEV : loss 0.6576144695281982 - f1-score (micro avg)  0.0\n",
            "2023-10-11 11:29:46,191 BAD EPOCHS (no improvement): 0\n",
            "2023-10-11 11:29:46,193 ----------------------------------------------------------------------------------------------------\n"
          ]
        },
        {
          "output_type": "stream",
          "name": "stderr",
          "text": [
            "\n"
          ]
        },
        {
          "output_type": "stream",
          "name": "stdout",
          "text": [
            "2023-10-11 11:29:47,177 epoch 26 - iter 1/2 - loss 0.63688551 - time (sec): 0.98 - samples/sec: 9934.97 - lr: 0.100000\n",
            "2023-10-11 11:29:48,095 epoch 26 - iter 2/2 - loss 0.61778240 - time (sec): 1.90 - samples/sec: 8942.43 - lr: 0.100000\n",
            "2023-10-11 11:29:48,099 ----------------------------------------------------------------------------------------------------\n",
            "2023-10-11 11:29:48,100 EPOCH 26 done: loss 0.6178 - lr 0.100000\n"
          ]
        },
        {
          "output_type": "stream",
          "name": "stderr",
          "text": [
            "100%|██████████| 1/1 [00:01<00:00,  1.13s/it]"
          ]
        },
        {
          "output_type": "stream",
          "name": "stdout",
          "text": [
            "2023-10-11 11:29:49,237 Evaluating as a multi-label problem: False\n",
            "2023-10-11 11:29:49,253 DEV : loss 0.6495993733406067 - f1-score (micro avg)  0.0\n",
            "2023-10-11 11:29:49,260 BAD EPOCHS (no improvement): 0\n",
            "2023-10-11 11:29:49,262 ----------------------------------------------------------------------------------------------------\n"
          ]
        },
        {
          "output_type": "stream",
          "name": "stderr",
          "text": [
            "\n"
          ]
        },
        {
          "output_type": "stream",
          "name": "stdout",
          "text": [
            "2023-10-11 11:29:50,271 epoch 27 - iter 1/2 - loss 0.61827070 - time (sec): 1.01 - samples/sec: 9915.29 - lr: 0.100000\n",
            "2023-10-11 11:29:51,209 epoch 27 - iter 2/2 - loss 0.62607307 - time (sec): 1.95 - samples/sec: 8734.75 - lr: 0.100000\n",
            "2023-10-11 11:29:51,214 ----------------------------------------------------------------------------------------------------\n",
            "2023-10-11 11:29:51,215 EPOCH 27 done: loss 0.6261 - lr 0.100000\n"
          ]
        },
        {
          "output_type": "stream",
          "name": "stderr",
          "text": [
            "100%|██████████| 1/1 [00:01<00:00,  1.16s/it]"
          ]
        },
        {
          "output_type": "stream",
          "name": "stdout",
          "text": [
            "2023-10-11 11:29:52,382 Evaluating as a multi-label problem: False\n",
            "2023-10-11 11:29:52,397 DEV : loss 0.6444798111915588 - f1-score (micro avg)  0.0\n",
            "2023-10-11 11:29:52,404 BAD EPOCHS (no improvement): 0\n",
            "2023-10-11 11:29:52,406 ----------------------------------------------------------------------------------------------------\n"
          ]
        },
        {
          "output_type": "stream",
          "name": "stderr",
          "text": [
            "\n"
          ]
        },
        {
          "output_type": "stream",
          "name": "stdout",
          "text": [
            "2023-10-11 11:29:53,302 epoch 28 - iter 1/2 - loss 0.61336357 - time (sec): 0.89 - samples/sec: 10501.37 - lr: 0.100000\n",
            "2023-10-11 11:29:54,231 epoch 28 - iter 2/2 - loss 0.62322886 - time (sec): 1.82 - samples/sec: 9320.85 - lr: 0.100000\n",
            "2023-10-11 11:29:54,235 ----------------------------------------------------------------------------------------------------\n",
            "2023-10-11 11:29:54,236 EPOCH 28 done: loss 0.6232 - lr 0.100000\n"
          ]
        },
        {
          "output_type": "stream",
          "name": "stderr",
          "text": [
            "100%|██████████| 1/1 [00:01<00:00,  1.14s/it]"
          ]
        },
        {
          "output_type": "stream",
          "name": "stdout",
          "text": [
            "2023-10-11 11:29:55,385 Evaluating as a multi-label problem: False\n",
            "2023-10-11 11:29:55,399 DEV : loss 0.6357979774475098 - f1-score (micro avg)  0.0\n",
            "2023-10-11 11:29:55,406 BAD EPOCHS (no improvement): 0\n",
            "2023-10-11 11:29:55,408 ----------------------------------------------------------------------------------------------------\n"
          ]
        },
        {
          "output_type": "stream",
          "name": "stderr",
          "text": [
            "\n"
          ]
        },
        {
          "output_type": "stream",
          "name": "stdout",
          "text": [
            "2023-10-11 11:29:56,343 epoch 29 - iter 1/2 - loss 0.58316161 - time (sec): 0.93 - samples/sec: 10413.00 - lr: 0.100000\n",
            "2023-10-11 11:29:57,264 epoch 29 - iter 2/2 - loss 0.61753814 - time (sec): 1.85 - samples/sec: 9167.32 - lr: 0.100000\n",
            "2023-10-11 11:29:57,267 ----------------------------------------------------------------------------------------------------\n",
            "2023-10-11 11:29:57,270 EPOCH 29 done: loss 0.6175 - lr 0.100000\n"
          ]
        },
        {
          "output_type": "stream",
          "name": "stderr",
          "text": [
            "100%|██████████| 1/1 [00:01<00:00,  1.14s/it]"
          ]
        },
        {
          "output_type": "stream",
          "name": "stdout",
          "text": [
            "2023-10-11 11:29:58,417 Evaluating as a multi-label problem: False\n",
            "2023-10-11 11:29:58,430 DEV : loss 0.6259791254997253 - f1-score (micro avg)  0.0\n",
            "2023-10-11 11:29:58,438 BAD EPOCHS (no improvement): 0\n",
            "2023-10-11 11:29:58,439 ----------------------------------------------------------------------------------------------------\n"
          ]
        },
        {
          "output_type": "stream",
          "name": "stderr",
          "text": [
            "\n"
          ]
        },
        {
          "output_type": "stream",
          "name": "stdout",
          "text": [
            "2023-10-11 11:29:59,828 epoch 30 - iter 1/2 - loss 0.59235615 - time (sec): 1.39 - samples/sec: 7002.25 - lr: 0.100000\n",
            "2023-10-11 11:30:00,656 epoch 30 - iter 2/2 - loss 0.59321714 - time (sec): 2.22 - samples/sec: 7670.23 - lr: 0.100000\n",
            "2023-10-11 11:30:00,661 ----------------------------------------------------------------------------------------------------\n",
            "2023-10-11 11:30:00,663 EPOCH 30 done: loss 0.5932 - lr 0.100000\n"
          ]
        },
        {
          "output_type": "stream",
          "name": "stderr",
          "text": [
            "100%|██████████| 1/1 [00:01<00:00,  1.15s/it]"
          ]
        },
        {
          "output_type": "stream",
          "name": "stdout",
          "text": [
            "2023-10-11 11:30:01,823 Evaluating as a multi-label problem: False\n",
            "2023-10-11 11:30:01,838 DEV : loss 0.614525556564331 - f1-score (micro avg)  0.0\n",
            "2023-10-11 11:30:01,845 BAD EPOCHS (no improvement): 0\n",
            "2023-10-11 11:30:01,846 ----------------------------------------------------------------------------------------------------\n"
          ]
        },
        {
          "output_type": "stream",
          "name": "stderr",
          "text": [
            "\n"
          ]
        },
        {
          "output_type": "stream",
          "name": "stdout",
          "text": [
            "2023-10-11 11:30:02,913 epoch 31 - iter 1/2 - loss 0.54743481 - time (sec): 1.07 - samples/sec: 9174.10 - lr: 0.100000\n",
            "2023-10-11 11:30:03,703 epoch 31 - iter 2/2 - loss 0.59692256 - time (sec): 1.86 - samples/sec: 9158.35 - lr: 0.100000\n",
            "2023-10-11 11:30:03,708 ----------------------------------------------------------------------------------------------------\n",
            "2023-10-11 11:30:03,711 EPOCH 31 done: loss 0.5969 - lr 0.100000\n"
          ]
        },
        {
          "output_type": "stream",
          "name": "stderr",
          "text": [
            "100%|██████████| 1/1 [00:01<00:00,  1.21s/it]"
          ]
        },
        {
          "output_type": "stream",
          "name": "stdout",
          "text": [
            "2023-10-11 11:30:04,926 Evaluating as a multi-label problem: False\n",
            "2023-10-11 11:30:04,942 DEV : loss 0.6039924025535583 - f1-score (micro avg)  0.0\n",
            "2023-10-11 11:30:04,951 BAD EPOCHS (no improvement): 0\n",
            "2023-10-11 11:30:04,953 ----------------------------------------------------------------------------------------------------\n"
          ]
        },
        {
          "output_type": "stream",
          "name": "stderr",
          "text": [
            "\n"
          ]
        },
        {
          "output_type": "stream",
          "name": "stdout",
          "text": [
            "2023-10-11 11:30:06,105 epoch 32 - iter 1/2 - loss 0.58529781 - time (sec): 1.15 - samples/sec: 8119.01 - lr: 0.100000\n",
            "2023-10-11 11:30:06,965 epoch 32 - iter 2/2 - loss 0.57544324 - time (sec): 2.01 - samples/sec: 8454.03 - lr: 0.100000\n",
            "2023-10-11 11:30:06,969 ----------------------------------------------------------------------------------------------------\n",
            "2023-10-11 11:30:06,972 EPOCH 32 done: loss 0.5754 - lr 0.100000\n"
          ]
        },
        {
          "output_type": "stream",
          "name": "stderr",
          "text": [
            "100%|██████████| 1/1 [00:01<00:00,  1.22s/it]"
          ]
        },
        {
          "output_type": "stream",
          "name": "stdout",
          "text": [
            "2023-10-11 11:30:08,197 Evaluating as a multi-label problem: False\n",
            "2023-10-11 11:30:08,212 DEV : loss 0.5945160984992981 - f1-score (micro avg)  0.0\n",
            "2023-10-11 11:30:08,220 BAD EPOCHS (no improvement): 0\n",
            "2023-10-11 11:30:08,222 ----------------------------------------------------------------------------------------------------\n"
          ]
        },
        {
          "output_type": "stream",
          "name": "stderr",
          "text": [
            "\n"
          ]
        },
        {
          "output_type": "stream",
          "name": "stdout",
          "text": [
            "2023-10-11 11:30:09,173 epoch 33 - iter 1/2 - loss 0.56937084 - time (sec): 0.95 - samples/sec: 10250.06 - lr: 0.100000\n",
            "2023-10-11 11:30:10,085 epoch 33 - iter 2/2 - loss 0.57058847 - time (sec): 1.86 - samples/sec: 9129.93 - lr: 0.100000\n",
            "2023-10-11 11:30:10,089 ----------------------------------------------------------------------------------------------------\n",
            "2023-10-11 11:30:10,090 EPOCH 33 done: loss 0.5706 - lr 0.100000\n"
          ]
        },
        {
          "output_type": "stream",
          "name": "stderr",
          "text": [
            "100%|██████████| 1/1 [00:01<00:00,  1.18s/it]"
          ]
        },
        {
          "output_type": "stream",
          "name": "stdout",
          "text": [
            "2023-10-11 11:30:11,276 Evaluating as a multi-label problem: False\n",
            "2023-10-11 11:30:11,290 DEV : loss 0.5860260128974915 - f1-score (micro avg)  0.0\n",
            "2023-10-11 11:30:11,298 BAD EPOCHS (no improvement): 0\n",
            "2023-10-11 11:30:11,300 ----------------------------------------------------------------------------------------------------\n"
          ]
        },
        {
          "output_type": "stream",
          "name": "stderr",
          "text": [
            "\n"
          ]
        },
        {
          "output_type": "stream",
          "name": "stdout",
          "text": [
            "2023-10-11 11:30:12,351 epoch 34 - iter 1/2 - loss 0.55895377 - time (sec): 1.05 - samples/sec: 9029.76 - lr: 0.100000\n",
            "2023-10-11 11:30:13,141 epoch 34 - iter 2/2 - loss 0.56013373 - time (sec): 1.84 - samples/sec: 9237.24 - lr: 0.100000\n",
            "2023-10-11 11:30:13,146 ----------------------------------------------------------------------------------------------------\n",
            "2023-10-11 11:30:13,148 EPOCH 34 done: loss 0.5601 - lr 0.100000\n"
          ]
        },
        {
          "output_type": "stream",
          "name": "stderr",
          "text": [
            "100%|██████████| 1/1 [00:01<00:00,  1.19s/it]"
          ]
        },
        {
          "output_type": "stream",
          "name": "stdout",
          "text": [
            "2023-10-11 11:30:14,346 Evaluating as a multi-label problem: False\n",
            "2023-10-11 11:30:14,361 DEV : loss 0.5725293755531311 - f1-score (micro avg)  0.0\n",
            "2023-10-11 11:30:14,368 BAD EPOCHS (no improvement): 0\n",
            "2023-10-11 11:30:14,369 ----------------------------------------------------------------------------------------------------\n"
          ]
        },
        {
          "output_type": "stream",
          "name": "stderr",
          "text": [
            "\n"
          ]
        },
        {
          "output_type": "stream",
          "name": "stdout",
          "text": [
            "2023-10-11 11:30:15,262 epoch 35 - iter 1/2 - loss 0.56632193 - time (sec): 0.89 - samples/sec: 10600.60 - lr: 0.100000\n",
            "2023-10-11 11:30:16,194 epoch 35 - iter 2/2 - loss 0.55567348 - time (sec): 1.82 - samples/sec: 9320.74 - lr: 0.100000\n",
            "2023-10-11 11:30:16,200 ----------------------------------------------------------------------------------------------------\n",
            "2023-10-11 11:30:16,201 EPOCH 35 done: loss 0.5557 - lr 0.100000\n"
          ]
        },
        {
          "output_type": "stream",
          "name": "stderr",
          "text": [
            "100%|██████████| 1/1 [00:01<00:00,  1.19s/it]"
          ]
        },
        {
          "output_type": "stream",
          "name": "stdout",
          "text": [
            "2023-10-11 11:30:17,402 Evaluating as a multi-label problem: False\n",
            "2023-10-11 11:30:17,417 DEV : loss 0.5629523396492004 - f1-score (micro avg)  0.0\n",
            "2023-10-11 11:30:17,424 BAD EPOCHS (no improvement): 0\n",
            "2023-10-11 11:30:17,426 ----------------------------------------------------------------------------------------------------\n"
          ]
        },
        {
          "output_type": "stream",
          "name": "stderr",
          "text": [
            "\n"
          ]
        },
        {
          "output_type": "stream",
          "name": "stdout",
          "text": [
            "2023-10-11 11:30:18,882 epoch 36 - iter 1/2 - loss 0.51414435 - time (sec): 1.46 - samples/sec: 6664.21 - lr: 0.100000\n",
            "2023-10-11 11:30:19,682 epoch 36 - iter 2/2 - loss 0.55479642 - time (sec): 2.26 - samples/sec: 7537.18 - lr: 0.100000\n",
            "2023-10-11 11:30:19,685 ----------------------------------------------------------------------------------------------------\n",
            "2023-10-11 11:30:19,689 EPOCH 36 done: loss 0.5548 - lr 0.100000\n"
          ]
        },
        {
          "output_type": "stream",
          "name": "stderr",
          "text": [
            "100%|██████████| 1/1 [00:01<00:00,  1.22s/it]"
          ]
        },
        {
          "output_type": "stream",
          "name": "stdout",
          "text": [
            "2023-10-11 11:30:20,918 Evaluating as a multi-label problem: False\n",
            "2023-10-11 11:30:20,933 DEV : loss 0.5539293885231018 - f1-score (micro avg)  0.0\n",
            "2023-10-11 11:30:20,942 BAD EPOCHS (no improvement): 0\n",
            "2023-10-11 11:30:20,944 ----------------------------------------------------------------------------------------------------\n"
          ]
        },
        {
          "output_type": "stream",
          "name": "stderr",
          "text": [
            "\n"
          ]
        },
        {
          "output_type": "stream",
          "name": "stdout",
          "text": [
            "2023-10-11 11:30:22,042 epoch 37 - iter 1/2 - loss 0.54941376 - time (sec): 1.10 - samples/sec: 8705.89 - lr: 0.100000\n",
            "2023-10-11 11:30:22,886 epoch 37 - iter 2/2 - loss 0.52394945 - time (sec): 1.94 - samples/sec: 8755.90 - lr: 0.100000\n",
            "2023-10-11 11:30:22,890 ----------------------------------------------------------------------------------------------------\n",
            "2023-10-11 11:30:22,892 EPOCH 37 done: loss 0.5239 - lr 0.100000\n"
          ]
        },
        {
          "output_type": "stream",
          "name": "stderr",
          "text": [
            "100%|██████████| 1/1 [00:01<00:00,  1.17s/it]"
          ]
        },
        {
          "output_type": "stream",
          "name": "stdout",
          "text": [
            "2023-10-11 11:30:24,067 Evaluating as a multi-label problem: False\n",
            "2023-10-11 11:30:24,082 DEV : loss 0.5387527346611023 - f1-score (micro avg)  0.0\n",
            "2023-10-11 11:30:24,089 BAD EPOCHS (no improvement): 0\n",
            "2023-10-11 11:30:24,091 ----------------------------------------------------------------------------------------------------\n"
          ]
        },
        {
          "output_type": "stream",
          "name": "stderr",
          "text": [
            "\n"
          ]
        },
        {
          "output_type": "stream",
          "name": "stdout",
          "text": [
            "2023-10-11 11:30:25,132 epoch 38 - iter 1/2 - loss 0.53241684 - time (sec): 1.04 - samples/sec: 8878.40 - lr: 0.100000\n",
            "2023-10-11 11:30:25,981 epoch 38 - iter 2/2 - loss 0.52069095 - time (sec): 1.89 - samples/sec: 8996.88 - lr: 0.100000\n",
            "2023-10-11 11:30:25,985 ----------------------------------------------------------------------------------------------------\n",
            "2023-10-11 11:30:25,988 EPOCH 38 done: loss 0.5207 - lr 0.100000\n"
          ]
        },
        {
          "output_type": "stream",
          "name": "stderr",
          "text": [
            "100%|██████████| 1/1 [00:01<00:00,  1.15s/it]"
          ]
        },
        {
          "output_type": "stream",
          "name": "stdout",
          "text": [
            "2023-10-11 11:30:27,145 Evaluating as a multi-label problem: False\n",
            "2023-10-11 11:30:27,161 DEV : loss 0.5297092199325562 - f1-score (micro avg)  0.0\n",
            "2023-10-11 11:30:27,169 BAD EPOCHS (no improvement): 0\n",
            "2023-10-11 11:30:27,170 ----------------------------------------------------------------------------------------------------\n"
          ]
        },
        {
          "output_type": "stream",
          "name": "stderr",
          "text": [
            "\n"
          ]
        },
        {
          "output_type": "stream",
          "name": "stdout",
          "text": [
            "2023-10-11 11:30:28,246 epoch 39 - iter 1/2 - loss 0.50666310 - time (sec): 1.07 - samples/sec: 9330.14 - lr: 0.100000\n",
            "2023-10-11 11:30:28,966 epoch 39 - iter 2/2 - loss 0.52194577 - time (sec): 1.80 - samples/sec: 9470.61 - lr: 0.100000\n",
            "2023-10-11 11:30:28,971 ----------------------------------------------------------------------------------------------------\n",
            "2023-10-11 11:30:28,972 EPOCH 39 done: loss 0.5219 - lr 0.100000\n"
          ]
        },
        {
          "output_type": "stream",
          "name": "stderr",
          "text": [
            "100%|██████████| 1/1 [00:01<00:00,  1.14s/it]"
          ]
        },
        {
          "output_type": "stream",
          "name": "stdout",
          "text": [
            "2023-10-11 11:30:30,120 Evaluating as a multi-label problem: False\n",
            "2023-10-11 11:30:30,138 DEV : loss 0.5133642554283142 - f1-score (micro avg)  0.0\n",
            "2023-10-11 11:30:30,145 BAD EPOCHS (no improvement): 0\n",
            "2023-10-11 11:30:30,146 ----------------------------------------------------------------------------------------------------\n"
          ]
        },
        {
          "output_type": "stream",
          "name": "stderr",
          "text": [
            "\n"
          ]
        },
        {
          "output_type": "stream",
          "name": "stdout",
          "text": [
            "2023-10-11 11:30:31,172 epoch 40 - iter 1/2 - loss 0.49238566 - time (sec): 1.02 - samples/sec: 9319.72 - lr: 0.100000\n",
            "2023-10-11 11:30:31,872 epoch 40 - iter 2/2 - loss 0.50846392 - time (sec): 1.72 - samples/sec: 9859.62 - lr: 0.100000\n",
            "2023-10-11 11:30:31,875 ----------------------------------------------------------------------------------------------------\n",
            "2023-10-11 11:30:31,878 EPOCH 40 done: loss 0.5085 - lr 0.100000\n"
          ]
        },
        {
          "output_type": "stream",
          "name": "stderr",
          "text": [
            "100%|██████████| 1/1 [00:01<00:00,  1.20s/it]"
          ]
        },
        {
          "output_type": "stream",
          "name": "stdout",
          "text": [
            "2023-10-11 11:30:33,084 Evaluating as a multi-label problem: False\n",
            "2023-10-11 11:30:33,099 DEV : loss 0.50074702501297 - f1-score (micro avg)  0.0\n",
            "2023-10-11 11:30:33,106 BAD EPOCHS (no improvement): 0\n",
            "2023-10-11 11:30:33,108 ----------------------------------------------------------------------------------------------------\n"
          ]
        },
        {
          "output_type": "stream",
          "name": "stderr",
          "text": [
            "\n"
          ]
        },
        {
          "output_type": "stream",
          "name": "stdout",
          "text": [
            "2023-10-11 11:30:33,907 epoch 41 - iter 1/2 - loss 0.53969545 - time (sec): 0.80 - samples/sec: 10955.10 - lr: 0.100000\n",
            "2023-10-11 11:30:34,852 epoch 41 - iter 2/2 - loss 0.49534191 - time (sec): 1.74 - samples/sec: 9753.30 - lr: 0.100000\n",
            "2023-10-11 11:30:34,856 ----------------------------------------------------------------------------------------------------\n",
            "2023-10-11 11:30:34,858 EPOCH 41 done: loss 0.4953 - lr 0.100000\n"
          ]
        },
        {
          "output_type": "stream",
          "name": "stderr",
          "text": [
            "100%|██████████| 1/1 [00:01<00:00,  1.18s/it]"
          ]
        },
        {
          "output_type": "stream",
          "name": "stdout",
          "text": [
            "2023-10-11 11:30:36,050 Evaluating as a multi-label problem: False\n",
            "2023-10-11 11:30:36,066 DEV : loss 0.4882366359233856 - f1-score (micro avg)  0.0\n",
            "2023-10-11 11:30:36,074 BAD EPOCHS (no improvement): 0\n",
            "2023-10-11 11:30:36,076 ----------------------------------------------------------------------------------------------------\n"
          ]
        },
        {
          "output_type": "stream",
          "name": "stderr",
          "text": [
            "\n"
          ]
        },
        {
          "output_type": "stream",
          "name": "stdout",
          "text": [
            "2023-10-11 11:30:37,377 epoch 42 - iter 1/2 - loss 0.46741722 - time (sec): 1.30 - samples/sec: 7542.71 - lr: 0.100000\n",
            "2023-10-11 11:30:38,311 epoch 42 - iter 2/2 - loss 0.49839867 - time (sec): 2.23 - samples/sec: 7612.05 - lr: 0.100000\n",
            "2023-10-11 11:30:38,315 ----------------------------------------------------------------------------------------------------\n",
            "2023-10-11 11:30:38,317 EPOCH 42 done: loss 0.4984 - lr 0.100000\n"
          ]
        },
        {
          "output_type": "stream",
          "name": "stderr",
          "text": [
            "100%|██████████| 1/1 [00:01<00:00,  1.15s/it]"
          ]
        },
        {
          "output_type": "stream",
          "name": "stdout",
          "text": [
            "2023-10-11 11:30:39,476 Evaluating as a multi-label problem: False\n",
            "2023-10-11 11:30:39,496 DEV : loss 0.4788711369037628 - f1-score (micro avg)  0.0211\n",
            "2023-10-11 11:30:39,504 BAD EPOCHS (no improvement): 0\n",
            "2023-10-11 11:30:39,505 saving best model\n"
          ]
        },
        {
          "output_type": "stream",
          "name": "stderr",
          "text": [
            "\n"
          ]
        },
        {
          "output_type": "stream",
          "name": "stdout",
          "text": [
            "2023-10-11 11:30:40,232 ----------------------------------------------------------------------------------------------------\n",
            "2023-10-11 11:30:41,059 epoch 43 - iter 1/2 - loss 0.48850120 - time (sec): 0.83 - samples/sec: 10933.96 - lr: 0.100000\n",
            "2023-10-11 11:30:41,974 epoch 43 - iter 2/2 - loss 0.48041314 - time (sec): 1.74 - samples/sec: 9772.54 - lr: 0.100000\n",
            "2023-10-11 11:30:41,978 ----------------------------------------------------------------------------------------------------\n",
            "2023-10-11 11:30:41,981 EPOCH 43 done: loss 0.4804 - lr 0.100000\n"
          ]
        },
        {
          "output_type": "stream",
          "name": "stderr",
          "text": [
            "100%|██████████| 1/1 [00:01<00:00,  1.16s/it]"
          ]
        },
        {
          "output_type": "stream",
          "name": "stdout",
          "text": [
            "2023-10-11 11:30:43,144 Evaluating as a multi-label problem: False\n",
            "2023-10-11 11:30:43,160 DEV : loss 0.4814258813858032 - f1-score (micro avg)  0.0214\n",
            "2023-10-11 11:30:43,167 BAD EPOCHS (no improvement): 0\n",
            "2023-10-11 11:30:43,168 saving best model\n"
          ]
        },
        {
          "output_type": "stream",
          "name": "stderr",
          "text": [
            "\n"
          ]
        },
        {
          "output_type": "stream",
          "name": "stdout",
          "text": [
            "2023-10-11 11:30:43,881 ----------------------------------------------------------------------------------------------------\n",
            "2023-10-11 11:30:44,786 epoch 44 - iter 1/2 - loss 0.53895594 - time (sec): 0.90 - samples/sec: 10424.55 - lr: 0.100000\n",
            "2023-10-11 11:30:45,741 epoch 44 - iter 2/2 - loss 0.47876149 - time (sec): 1.86 - samples/sec: 9145.89 - lr: 0.100000\n",
            "2023-10-11 11:30:45,746 ----------------------------------------------------------------------------------------------------\n",
            "2023-10-11 11:30:45,748 EPOCH 44 done: loss 0.4788 - lr 0.100000\n"
          ]
        },
        {
          "output_type": "stream",
          "name": "stderr",
          "text": [
            "100%|██████████| 1/1 [00:01<00:00,  1.17s/it]"
          ]
        },
        {
          "output_type": "stream",
          "name": "stdout",
          "text": [
            "2023-10-11 11:30:46,921 Evaluating as a multi-label problem: False\n",
            "2023-10-11 11:30:46,936 DEV : loss 0.4751242995262146 - f1-score (micro avg)  0.0411\n",
            "2023-10-11 11:30:46,944 BAD EPOCHS (no improvement): 0\n",
            "2023-10-11 11:30:46,946 saving best model\n"
          ]
        },
        {
          "output_type": "stream",
          "name": "stderr",
          "text": [
            "\n"
          ]
        },
        {
          "output_type": "stream",
          "name": "stdout",
          "text": [
            "2023-10-11 11:30:47,713 ----------------------------------------------------------------------------------------------------\n",
            "2023-10-11 11:30:48,801 epoch 45 - iter 1/2 - loss 0.44601643 - time (sec): 1.09 - samples/sec: 8620.69 - lr: 0.100000\n",
            "2023-10-11 11:30:49,667 epoch 45 - iter 2/2 - loss 0.45595910 - time (sec): 1.95 - samples/sec: 8704.30 - lr: 0.100000\n",
            "2023-10-11 11:30:49,670 ----------------------------------------------------------------------------------------------------\n",
            "2023-10-11 11:30:49,675 EPOCH 45 done: loss 0.4560 - lr 0.100000\n"
          ]
        },
        {
          "output_type": "stream",
          "name": "stderr",
          "text": [
            "100%|██████████| 1/1 [00:01<00:00,  1.21s/it]"
          ]
        },
        {
          "output_type": "stream",
          "name": "stdout",
          "text": [
            "2023-10-11 11:30:50,900 Evaluating as a multi-label problem: False\n",
            "2023-10-11 11:30:50,915 DEV : loss 0.4720456302165985 - f1-score (micro avg)  0.0347\n",
            "2023-10-11 11:30:50,923 BAD EPOCHS (no improvement): 1\n",
            "2023-10-11 11:30:50,925 ----------------------------------------------------------------------------------------------------\n"
          ]
        },
        {
          "output_type": "stream",
          "name": "stderr",
          "text": [
            "\n"
          ]
        },
        {
          "output_type": "stream",
          "name": "stdout",
          "text": [
            "2023-10-11 11:30:51,945 epoch 46 - iter 1/2 - loss 0.44225571 - time (sec): 1.02 - samples/sec: 9693.18 - lr: 0.100000\n",
            "2023-10-11 11:30:52,934 epoch 46 - iter 2/2 - loss 0.44673943 - time (sec): 2.01 - samples/sec: 8465.47 - lr: 0.100000\n",
            "2023-10-11 11:30:52,940 ----------------------------------------------------------------------------------------------------\n",
            "2023-10-11 11:30:52,941 EPOCH 46 done: loss 0.4467 - lr 0.100000\n"
          ]
        },
        {
          "output_type": "stream",
          "name": "stderr",
          "text": [
            "100%|██████████| 1/1 [00:01<00:00,  1.19s/it]"
          ]
        },
        {
          "output_type": "stream",
          "name": "stdout",
          "text": [
            "2023-10-11 11:30:54,140 Evaluating as a multi-label problem: False\n",
            "2023-10-11 11:30:54,155 DEV : loss 0.4452455937862396 - f1-score (micro avg)  0.1115\n",
            "2023-10-11 11:30:54,163 BAD EPOCHS (no improvement): 0\n",
            "2023-10-11 11:30:54,164 saving best model\n"
          ]
        },
        {
          "output_type": "stream",
          "name": "stderr",
          "text": [
            "\n"
          ]
        },
        {
          "output_type": "stream",
          "name": "stdout",
          "text": [
            "2023-10-11 11:30:54,891 ----------------------------------------------------------------------------------------------------\n",
            "2023-10-11 11:30:55,922 epoch 47 - iter 1/2 - loss 0.42655979 - time (sec): 1.03 - samples/sec: 9515.31 - lr: 0.100000\n",
            "2023-10-11 11:30:56,691 epoch 47 - iter 2/2 - loss 0.41865510 - time (sec): 1.80 - samples/sec: 9451.85 - lr: 0.100000\n",
            "2023-10-11 11:30:56,694 ----------------------------------------------------------------------------------------------------\n",
            "2023-10-11 11:30:56,698 EPOCH 47 done: loss 0.4187 - lr 0.100000\n"
          ]
        },
        {
          "output_type": "stream",
          "name": "stderr",
          "text": [
            "100%|██████████| 1/1 [00:01<00:00,  1.15s/it]"
          ]
        },
        {
          "output_type": "stream",
          "name": "stdout",
          "text": [
            "2023-10-11 11:30:57,853 Evaluating as a multi-label problem: False\n",
            "2023-10-11 11:30:57,869 DEV : loss 0.4442974627017975 - f1-score (micro avg)  0.0352\n",
            "2023-10-11 11:30:57,877 BAD EPOCHS (no improvement): 1\n",
            "2023-10-11 11:30:57,879 ----------------------------------------------------------------------------------------------------\n"
          ]
        },
        {
          "output_type": "stream",
          "name": "stderr",
          "text": [
            "\n"
          ]
        },
        {
          "output_type": "stream",
          "name": "stdout",
          "text": [
            "2023-10-11 11:30:59,272 epoch 48 - iter 1/2 - loss 0.39149489 - time (sec): 1.39 - samples/sec: 7134.69 - lr: 0.100000\n",
            "2023-10-11 11:30:59,968 epoch 48 - iter 2/2 - loss 0.42206974 - time (sec): 2.09 - samples/sec: 8138.03 - lr: 0.100000\n",
            "2023-10-11 11:30:59,974 ----------------------------------------------------------------------------------------------------\n",
            "2023-10-11 11:30:59,975 EPOCH 48 done: loss 0.4221 - lr 0.100000\n"
          ]
        },
        {
          "output_type": "stream",
          "name": "stderr",
          "text": [
            "100%|██████████| 1/1 [00:01<00:00,  1.13s/it]"
          ]
        },
        {
          "output_type": "stream",
          "name": "stdout",
          "text": [
            "2023-10-11 11:31:01,112 Evaluating as a multi-label problem: False\n",
            "2023-10-11 11:31:01,126 DEV : loss 0.4384348392486572 - f1-score (micro avg)  0.0375\n",
            "2023-10-11 11:31:01,133 BAD EPOCHS (no improvement): 2\n",
            "2023-10-11 11:31:01,135 ----------------------------------------------------------------------------------------------------\n"
          ]
        },
        {
          "output_type": "stream",
          "name": "stderr",
          "text": [
            "\n"
          ]
        },
        {
          "output_type": "stream",
          "name": "stdout",
          "text": [
            "2023-10-11 11:31:02,184 epoch 49 - iter 1/2 - loss 0.40796774 - time (sec): 1.05 - samples/sec: 9460.76 - lr: 0.100000\n",
            "2023-10-11 11:31:03,011 epoch 49 - iter 2/2 - loss 0.43631687 - time (sec): 1.88 - samples/sec: 9065.69 - lr: 0.100000\n",
            "2023-10-11 11:31:03,014 ----------------------------------------------------------------------------------------------------\n",
            "2023-10-11 11:31:03,018 EPOCH 49 done: loss 0.4363 - lr 0.100000\n"
          ]
        },
        {
          "output_type": "stream",
          "name": "stderr",
          "text": [
            "100%|██████████| 1/1 [00:01<00:00,  1.17s/it]"
          ]
        },
        {
          "output_type": "stream",
          "name": "stdout",
          "text": [
            "2023-10-11 11:31:04,196 Evaluating as a multi-label problem: False\n",
            "2023-10-11 11:31:04,218 DEV : loss 0.40213361382484436 - f1-score (micro avg)  0.1533\n",
            "2023-10-11 11:31:04,227 BAD EPOCHS (no improvement): 0\n",
            "2023-10-11 11:31:04,229 saving best model\n"
          ]
        },
        {
          "output_type": "stream",
          "name": "stderr",
          "text": [
            "\n"
          ]
        },
        {
          "output_type": "stream",
          "name": "stdout",
          "text": [
            "2023-10-11 11:31:04,981 ----------------------------------------------------------------------------------------------------\n",
            "2023-10-11 11:31:06,108 epoch 50 - iter 1/2 - loss 0.40184613 - time (sec): 1.12 - samples/sec: 9715.76 - lr: 0.100000\n",
            "2023-10-11 11:31:06,807 epoch 50 - iter 2/2 - loss 0.41385685 - time (sec): 1.82 - samples/sec: 9318.30 - lr: 0.100000\n",
            "2023-10-11 11:31:06,811 ----------------------------------------------------------------------------------------------------\n",
            "2023-10-11 11:31:06,814 EPOCH 50 done: loss 0.4139 - lr 0.100000\n"
          ]
        },
        {
          "output_type": "stream",
          "name": "stderr",
          "text": [
            "100%|██████████| 1/1 [00:01<00:00,  1.20s/it]"
          ]
        },
        {
          "output_type": "stream",
          "name": "stdout",
          "text": [
            "2023-10-11 11:31:08,019 Evaluating as a multi-label problem: False\n",
            "2023-10-11 11:31:08,036 DEV : loss 0.43238943815231323 - f1-score (micro avg)  0.0361\n",
            "2023-10-11 11:31:08,044 BAD EPOCHS (no improvement): 1\n",
            "2023-10-11 11:31:08,046 ----------------------------------------------------------------------------------------------------\n"
          ]
        },
        {
          "output_type": "stream",
          "name": "stderr",
          "text": [
            "\n"
          ]
        },
        {
          "output_type": "stream",
          "name": "stdout",
          "text": [
            "2023-10-11 11:31:09,087 epoch 51 - iter 1/2 - loss 0.45634850 - time (sec): 1.04 - samples/sec: 9269.80 - lr: 0.100000\n",
            "2023-10-11 11:31:09,918 epoch 51 - iter 2/2 - loss 0.42278550 - time (sec): 1.87 - samples/sec: 9091.08 - lr: 0.100000\n",
            "2023-10-11 11:31:09,922 ----------------------------------------------------------------------------------------------------\n",
            "2023-10-11 11:31:09,926 EPOCH 51 done: loss 0.4228 - lr 0.100000\n"
          ]
        },
        {
          "output_type": "stream",
          "name": "stderr",
          "text": [
            "100%|██████████| 1/1 [00:01<00:00,  1.15s/it]"
          ]
        },
        {
          "output_type": "stream",
          "name": "stdout",
          "text": [
            "2023-10-11 11:31:11,088 Evaluating as a multi-label problem: False\n",
            "2023-10-11 11:31:11,104 DEV : loss 0.4120381474494934 - f1-score (micro avg)  0.0704\n",
            "2023-10-11 11:31:11,112 BAD EPOCHS (no improvement): 2\n",
            "2023-10-11 11:31:11,113 ----------------------------------------------------------------------------------------------------\n"
          ]
        },
        {
          "output_type": "stream",
          "name": "stderr",
          "text": [
            "\n"
          ]
        },
        {
          "output_type": "stream",
          "name": "stdout",
          "text": [
            "2023-10-11 11:31:11,983 epoch 52 - iter 1/2 - loss 0.39238299 - time (sec): 0.87 - samples/sec: 10274.77 - lr: 0.100000\n",
            "2023-10-11 11:31:12,925 epoch 52 - iter 2/2 - loss 0.39797518 - time (sec): 1.81 - samples/sec: 9388.80 - lr: 0.100000\n",
            "2023-10-11 11:31:12,929 ----------------------------------------------------------------------------------------------------\n",
            "2023-10-11 11:31:12,930 EPOCH 52 done: loss 0.3980 - lr 0.100000\n"
          ]
        },
        {
          "output_type": "stream",
          "name": "stderr",
          "text": [
            "100%|██████████| 1/1 [00:01<00:00,  1.11s/it]"
          ]
        },
        {
          "output_type": "stream",
          "name": "stdout",
          "text": [
            "2023-10-11 11:31:14,049 Evaluating as a multi-label problem: False\n",
            "2023-10-11 11:31:14,063 DEV : loss 0.4010721445083618 - f1-score (micro avg)  0.0586\n",
            "2023-10-11 11:31:14,070 BAD EPOCHS (no improvement): 3\n",
            "2023-10-11 11:31:14,071 ----------------------------------------------------------------------------------------------------\n"
          ]
        },
        {
          "output_type": "stream",
          "name": "stderr",
          "text": [
            "\n"
          ]
        },
        {
          "output_type": "stream",
          "name": "stdout",
          "text": [
            "2023-10-11 11:31:15,414 epoch 53 - iter 1/2 - loss 0.40141154 - time (sec): 1.34 - samples/sec: 7041.66 - lr: 0.100000\n",
            "2023-10-11 11:31:16,229 epoch 53 - iter 2/2 - loss 0.40019600 - time (sec): 2.16 - samples/sec: 7882.68 - lr: 0.100000\n",
            "2023-10-11 11:31:16,234 ----------------------------------------------------------------------------------------------------\n",
            "2023-10-11 11:31:16,236 EPOCH 53 done: loss 0.4002 - lr 0.100000\n"
          ]
        },
        {
          "output_type": "stream",
          "name": "stderr",
          "text": [
            "100%|██████████| 1/1 [00:01<00:00,  1.19s/it]"
          ]
        },
        {
          "output_type": "stream",
          "name": "stdout",
          "text": [
            "2023-10-11 11:31:17,434 Evaluating as a multi-label problem: False\n",
            "2023-10-11 11:31:17,455 DEV : loss 0.38879063725471497 - f1-score (micro avg)  0.1486\n",
            "2023-10-11 11:31:17,463 Epoch    53: reducing learning rate of group 0 to 5.0000e-02.\n",
            "2023-10-11 11:31:17,464 BAD EPOCHS (no improvement): 4\n",
            "2023-10-11 11:31:17,466 ----------------------------------------------------------------------------------------------------\n"
          ]
        },
        {
          "output_type": "stream",
          "name": "stderr",
          "text": [
            "\n"
          ]
        },
        {
          "output_type": "stream",
          "name": "stdout",
          "text": [
            "2023-10-11 11:31:18,407 epoch 54 - iter 1/2 - loss 0.38470872 - time (sec): 0.94 - samples/sec: 9678.00 - lr: 0.050000\n",
            "2023-10-11 11:31:19,358 epoch 54 - iter 2/2 - loss 0.38269623 - time (sec): 1.89 - samples/sec: 8990.95 - lr: 0.050000\n",
            "2023-10-11 11:31:19,362 ----------------------------------------------------------------------------------------------------\n",
            "2023-10-11 11:31:19,363 EPOCH 54 done: loss 0.3827 - lr 0.050000\n"
          ]
        },
        {
          "output_type": "stream",
          "name": "stderr",
          "text": [
            "100%|██████████| 1/1 [00:01<00:00,  1.20s/it]"
          ]
        },
        {
          "output_type": "stream",
          "name": "stdout",
          "text": [
            "2023-10-11 11:31:20,570 Evaluating as a multi-label problem: False\n",
            "2023-10-11 11:31:20,586 DEV : loss 0.3569476306438446 - f1-score (micro avg)  0.1902\n",
            "2023-10-11 11:31:20,594 BAD EPOCHS (no improvement): 0\n",
            "2023-10-11 11:31:20,596 saving best model\n"
          ]
        },
        {
          "output_type": "stream",
          "name": "stderr",
          "text": [
            "\n"
          ]
        },
        {
          "output_type": "stream",
          "name": "stdout",
          "text": [
            "2023-10-11 11:31:21,354 ----------------------------------------------------------------------------------------------------\n",
            "2023-10-11 11:31:22,416 epoch 55 - iter 1/2 - loss 0.35557489 - time (sec): 1.06 - samples/sec: 8508.15 - lr: 0.050000\n",
            "2023-10-11 11:31:23,288 epoch 55 - iter 2/2 - loss 0.35982238 - time (sec): 1.93 - samples/sec: 8800.06 - lr: 0.050000\n",
            "2023-10-11 11:31:23,293 ----------------------------------------------------------------------------------------------------\n",
            "2023-10-11 11:31:23,295 EPOCH 55 done: loss 0.3598 - lr 0.050000\n"
          ]
        },
        {
          "output_type": "stream",
          "name": "stderr",
          "text": [
            "100%|██████████| 1/1 [00:01<00:00,  1.20s/it]"
          ]
        },
        {
          "output_type": "stream",
          "name": "stdout",
          "text": [
            "2023-10-11 11:31:24,501 Evaluating as a multi-label problem: False\n",
            "2023-10-11 11:31:24,516 DEV : loss 0.34873250126838684 - f1-score (micro avg)  0.2085\n",
            "2023-10-11 11:31:24,525 BAD EPOCHS (no improvement): 0\n",
            "2023-10-11 11:31:24,526 saving best model\n"
          ]
        },
        {
          "output_type": "stream",
          "name": "stderr",
          "text": [
            "\n"
          ]
        },
        {
          "output_type": "stream",
          "name": "stdout",
          "text": [
            "2023-10-11 11:31:25,231 ----------------------------------------------------------------------------------------------------\n",
            "2023-10-11 11:31:26,167 epoch 56 - iter 1/2 - loss 0.36498631 - time (sec): 0.93 - samples/sec: 10330.85 - lr: 0.050000\n",
            "2023-10-11 11:31:27,075 epoch 56 - iter 2/2 - loss 0.35753837 - time (sec): 1.84 - samples/sec: 9230.43 - lr: 0.050000\n",
            "2023-10-11 11:31:27,079 ----------------------------------------------------------------------------------------------------\n",
            "2023-10-11 11:31:27,080 EPOCH 56 done: loss 0.3575 - lr 0.050000\n"
          ]
        },
        {
          "output_type": "stream",
          "name": "stderr",
          "text": [
            "100%|██████████| 1/1 [00:01<00:00,  1.13s/it]"
          ]
        },
        {
          "output_type": "stream",
          "name": "stdout",
          "text": [
            "2023-10-11 11:31:28,218 Evaluating as a multi-label problem: False\n",
            "2023-10-11 11:31:28,232 DEV : loss 0.34850364923477173 - f1-score (micro avg)  0.1661\n",
            "2023-10-11 11:31:28,240 BAD EPOCHS (no improvement): 1\n",
            "2023-10-11 11:31:28,241 ----------------------------------------------------------------------------------------------------\n"
          ]
        },
        {
          "output_type": "stream",
          "name": "stderr",
          "text": [
            "\n"
          ]
        },
        {
          "output_type": "stream",
          "name": "stdout",
          "text": [
            "2023-10-11 11:31:29,168 epoch 57 - iter 1/2 - loss 0.31469306 - time (sec): 0.93 - samples/sec: 10039.07 - lr: 0.050000\n",
            "2023-10-11 11:31:30,119 epoch 57 - iter 2/2 - loss 0.34761765 - time (sec): 1.88 - samples/sec: 9056.99 - lr: 0.050000\n",
            "2023-10-11 11:31:30,124 ----------------------------------------------------------------------------------------------------\n",
            "2023-10-11 11:31:30,126 EPOCH 57 done: loss 0.3476 - lr 0.050000\n"
          ]
        },
        {
          "output_type": "stream",
          "name": "stderr",
          "text": [
            "100%|██████████| 1/1 [00:01<00:00,  1.20s/it]"
          ]
        },
        {
          "output_type": "stream",
          "name": "stdout",
          "text": [
            "2023-10-11 11:31:31,335 Evaluating as a multi-label problem: False\n",
            "2023-10-11 11:31:31,357 DEV : loss 0.32779398560523987 - f1-score (micro avg)  0.3657\n",
            "2023-10-11 11:31:31,365 BAD EPOCHS (no improvement): 0\n",
            "2023-10-11 11:31:31,367 saving best model\n"
          ]
        },
        {
          "output_type": "stream",
          "name": "stderr",
          "text": [
            "\n"
          ]
        },
        {
          "output_type": "stream",
          "name": "stdout",
          "text": [
            "2023-10-11 11:31:32,242 ----------------------------------------------------------------------------------------------------\n",
            "2023-10-11 11:31:33,194 epoch 58 - iter 1/2 - loss 0.35834092 - time (sec): 0.95 - samples/sec: 9828.34 - lr: 0.050000\n",
            "2023-10-11 11:31:34,127 epoch 58 - iter 2/2 - loss 0.35404343 - time (sec): 1.88 - samples/sec: 9026.07 - lr: 0.050000\n",
            "2023-10-11 11:31:34,131 ----------------------------------------------------------------------------------------------------\n",
            "2023-10-11 11:31:34,132 EPOCH 58 done: loss 0.3540 - lr 0.050000\n"
          ]
        },
        {
          "output_type": "stream",
          "name": "stderr",
          "text": [
            "100%|██████████| 1/1 [00:01<00:00,  1.16s/it]"
          ]
        },
        {
          "output_type": "stream",
          "name": "stdout",
          "text": [
            "2023-10-11 11:31:35,304 Evaluating as a multi-label problem: False\n",
            "2023-10-11 11:31:35,319 DEV : loss 0.3184698522090912 - f1-score (micro avg)  0.25\n",
            "2023-10-11 11:31:35,327 BAD EPOCHS (no improvement): 1\n",
            "2023-10-11 11:31:35,329 ----------------------------------------------------------------------------------------------------\n"
          ]
        },
        {
          "output_type": "stream",
          "name": "stderr",
          "text": [
            "\n"
          ]
        },
        {
          "output_type": "stream",
          "name": "stdout",
          "text": [
            "2023-10-11 11:31:36,564 epoch 59 - iter 1/2 - loss 0.34638027 - time (sec): 1.23 - samples/sec: 7598.86 - lr: 0.050000\n",
            "2023-10-11 11:31:37,539 epoch 59 - iter 2/2 - loss 0.33668911 - time (sec): 2.21 - samples/sec: 7698.51 - lr: 0.050000\n",
            "2023-10-11 11:31:37,543 ----------------------------------------------------------------------------------------------------\n",
            "2023-10-11 11:31:37,545 EPOCH 59 done: loss 0.3367 - lr 0.050000\n"
          ]
        },
        {
          "output_type": "stream",
          "name": "stderr",
          "text": [
            "100%|██████████| 1/1 [00:01<00:00,  1.15s/it]"
          ]
        },
        {
          "output_type": "stream",
          "name": "stdout",
          "text": [
            "2023-10-11 11:31:38,704 Evaluating as a multi-label problem: False\n",
            "2023-10-11 11:31:38,720 DEV : loss 0.3066575527191162 - f1-score (micro avg)  0.3573\n",
            "2023-10-11 11:31:38,728 BAD EPOCHS (no improvement): 2\n",
            "2023-10-11 11:31:38,729 ----------------------------------------------------------------------------------------------------\n"
          ]
        },
        {
          "output_type": "stream",
          "name": "stderr",
          "text": [
            "\n"
          ]
        },
        {
          "output_type": "stream",
          "name": "stdout",
          "text": [
            "2023-10-11 11:31:39,764 epoch 60 - iter 1/2 - loss 0.33651896 - time (sec): 1.03 - samples/sec: 9618.85 - lr: 0.050000\n",
            "2023-10-11 11:31:40,576 epoch 60 - iter 2/2 - loss 0.33446186 - time (sec): 1.84 - samples/sec: 9214.96 - lr: 0.050000\n",
            "2023-10-11 11:31:40,579 ----------------------------------------------------------------------------------------------------\n",
            "2023-10-11 11:31:40,583 EPOCH 60 done: loss 0.3345 - lr 0.050000\n"
          ]
        },
        {
          "output_type": "stream",
          "name": "stderr",
          "text": [
            "100%|██████████| 1/1 [00:01<00:00,  1.14s/it]"
          ]
        },
        {
          "output_type": "stream",
          "name": "stdout",
          "text": [
            "2023-10-11 11:31:41,733 Evaluating as a multi-label problem: False\n",
            "2023-10-11 11:31:41,749 DEV : loss 0.29995402693748474 - f1-score (micro avg)  0.4688\n",
            "2023-10-11 11:31:41,756 BAD EPOCHS (no improvement): 0\n",
            "2023-10-11 11:31:41,757 saving best model\n"
          ]
        },
        {
          "output_type": "stream",
          "name": "stderr",
          "text": [
            "\n"
          ]
        },
        {
          "output_type": "stream",
          "name": "stdout",
          "text": [
            "2023-10-11 11:31:42,478 ----------------------------------------------------------------------------------------------------\n",
            "2023-10-11 11:31:43,407 epoch 61 - iter 1/2 - loss 0.33168351 - time (sec): 0.93 - samples/sec: 10243.54 - lr: 0.050000\n",
            "2023-10-11 11:31:44,319 epoch 61 - iter 2/2 - loss 0.33255262 - time (sec): 1.84 - samples/sec: 9244.58 - lr: 0.050000\n",
            "2023-10-11 11:31:44,322 ----------------------------------------------------------------------------------------------------\n",
            "2023-10-11 11:31:44,324 EPOCH 61 done: loss 0.3326 - lr 0.050000\n"
          ]
        },
        {
          "output_type": "stream",
          "name": "stderr",
          "text": [
            "100%|██████████| 1/1 [00:01<00:00,  1.15s/it]"
          ]
        },
        {
          "output_type": "stream",
          "name": "stdout",
          "text": [
            "2023-10-11 11:31:45,481 Evaluating as a multi-label problem: False\n",
            "2023-10-11 11:31:45,502 DEV : loss 0.30168622732162476 - f1-score (micro avg)  0.491\n",
            "2023-10-11 11:31:45,510 BAD EPOCHS (no improvement): 0\n",
            "2023-10-11 11:31:45,511 saving best model\n"
          ]
        },
        {
          "output_type": "stream",
          "name": "stderr",
          "text": [
            "\n"
          ]
        },
        {
          "output_type": "stream",
          "name": "stdout",
          "text": [
            "2023-10-11 11:31:46,223 ----------------------------------------------------------------------------------------------------\n",
            "2023-10-11 11:31:47,156 epoch 62 - iter 1/2 - loss 0.33198733 - time (sec): 0.93 - samples/sec: 9563.24 - lr: 0.050000\n",
            "2023-10-11 11:31:48,127 epoch 62 - iter 2/2 - loss 0.33767670 - time (sec): 1.90 - samples/sec: 8942.23 - lr: 0.050000\n",
            "2023-10-11 11:31:48,131 ----------------------------------------------------------------------------------------------------\n",
            "2023-10-11 11:31:48,134 EPOCH 62 done: loss 0.3377 - lr 0.050000\n"
          ]
        },
        {
          "output_type": "stream",
          "name": "stderr",
          "text": [
            "100%|██████████| 1/1 [00:01<00:00,  1.25s/it]"
          ]
        },
        {
          "output_type": "stream",
          "name": "stdout",
          "text": [
            "2023-10-11 11:31:49,392 Evaluating as a multi-label problem: False\n",
            "2023-10-11 11:31:49,414 DEV : loss 0.2945469617843628 - f1-score (micro avg)  0.5271\n",
            "2023-10-11 11:31:49,422 BAD EPOCHS (no improvement): 0\n",
            "2023-10-11 11:31:49,424 saving best model\n"
          ]
        },
        {
          "output_type": "stream",
          "name": "stderr",
          "text": [
            "\n"
          ]
        },
        {
          "output_type": "stream",
          "name": "stdout",
          "text": [
            "2023-10-11 11:31:50,198 ----------------------------------------------------------------------------------------------------\n",
            "2023-10-11 11:31:51,070 epoch 63 - iter 1/2 - loss 0.32554249 - time (sec): 0.87 - samples/sec: 10633.23 - lr: 0.050000\n",
            "2023-10-11 11:31:52,044 epoch 63 - iter 2/2 - loss 0.33120818 - time (sec): 1.84 - samples/sec: 9217.82 - lr: 0.050000\n",
            "2023-10-11 11:31:52,048 ----------------------------------------------------------------------------------------------------\n",
            "2023-10-11 11:31:52,050 EPOCH 63 done: loss 0.3312 - lr 0.050000\n"
          ]
        },
        {
          "output_type": "stream",
          "name": "stderr",
          "text": [
            "100%|██████████| 1/1 [00:01<00:00,  1.21s/it]"
          ]
        },
        {
          "output_type": "stream",
          "name": "stdout",
          "text": [
            "2023-10-11 11:31:53,273 Evaluating as a multi-label problem: False\n",
            "2023-10-11 11:31:53,294 DEV : loss 0.29093071818351746 - f1-score (micro avg)  0.5051\n",
            "2023-10-11 11:31:53,301 BAD EPOCHS (no improvement): 1\n",
            "2023-10-11 11:31:53,303 ----------------------------------------------------------------------------------------------------\n"
          ]
        },
        {
          "output_type": "stream",
          "name": "stderr",
          "text": [
            "\n"
          ]
        },
        {
          "output_type": "stream",
          "name": "stdout",
          "text": [
            "2023-10-11 11:31:54,263 epoch 64 - iter 1/2 - loss 0.33080513 - time (sec): 0.96 - samples/sec: 10293.49 - lr: 0.050000\n",
            "2023-10-11 11:31:55,203 epoch 64 - iter 2/2 - loss 0.33463212 - time (sec): 1.90 - samples/sec: 8951.02 - lr: 0.050000\n",
            "2023-10-11 11:31:55,208 ----------------------------------------------------------------------------------------------------\n",
            "2023-10-11 11:31:55,208 EPOCH 64 done: loss 0.3346 - lr 0.050000\n"
          ]
        },
        {
          "output_type": "stream",
          "name": "stderr",
          "text": [
            "100%|██████████| 1/1 [00:01<00:00,  1.18s/it]"
          ]
        },
        {
          "output_type": "stream",
          "name": "stdout",
          "text": [
            "2023-10-11 11:31:56,397 Evaluating as a multi-label problem: False\n",
            "2023-10-11 11:31:56,418 DEV : loss 0.2869024872779846 - f1-score (micro avg)  0.534\n",
            "2023-10-11 11:31:56,426 BAD EPOCHS (no improvement): 0\n",
            "2023-10-11 11:31:56,427 saving best model\n"
          ]
        },
        {
          "output_type": "stream",
          "name": "stderr",
          "text": [
            "\n"
          ]
        },
        {
          "output_type": "stream",
          "name": "stdout",
          "text": [
            "2023-10-11 11:31:57,197 ----------------------------------------------------------------------------------------------------\n",
            "2023-10-11 11:31:58,488 epoch 65 - iter 1/2 - loss 0.33277005 - time (sec): 1.29 - samples/sec: 7562.87 - lr: 0.050000\n",
            "2023-10-11 11:31:59,415 epoch 65 - iter 2/2 - loss 0.32819715 - time (sec): 2.22 - samples/sec: 7669.78 - lr: 0.050000\n",
            "2023-10-11 11:31:59,419 ----------------------------------------------------------------------------------------------------\n",
            "2023-10-11 11:31:59,421 EPOCH 65 done: loss 0.3282 - lr 0.050000\n"
          ]
        },
        {
          "output_type": "stream",
          "name": "stderr",
          "text": [
            "100%|██████████| 1/1 [00:01<00:00,  1.15s/it]"
          ]
        },
        {
          "output_type": "stream",
          "name": "stdout",
          "text": [
            "2023-10-11 11:32:00,580 Evaluating as a multi-label problem: False\n",
            "2023-10-11 11:32:00,602 DEV : loss 0.283656507730484 - f1-score (micro avg)  0.5258\n",
            "2023-10-11 11:32:00,609 BAD EPOCHS (no improvement): 1\n",
            "2023-10-11 11:32:00,611 ----------------------------------------------------------------------------------------------------\n"
          ]
        },
        {
          "output_type": "stream",
          "name": "stderr",
          "text": [
            "\n"
          ]
        },
        {
          "output_type": "stream",
          "name": "stdout",
          "text": [
            "2023-10-11 11:32:01,649 epoch 66 - iter 1/2 - loss 0.32254184 - time (sec): 1.04 - samples/sec: 9797.01 - lr: 0.050000\n",
            "2023-10-11 11:32:02,448 epoch 66 - iter 2/2 - loss 0.32220933 - time (sec): 1.84 - samples/sec: 9256.90 - lr: 0.050000\n",
            "2023-10-11 11:32:02,452 ----------------------------------------------------------------------------------------------------\n",
            "2023-10-11 11:32:02,454 EPOCH 66 done: loss 0.3222 - lr 0.050000\n"
          ]
        },
        {
          "output_type": "stream",
          "name": "stderr",
          "text": [
            "100%|██████████| 1/1 [00:01<00:00,  1.18s/it]"
          ]
        },
        {
          "output_type": "stream",
          "name": "stdout",
          "text": [
            "2023-10-11 11:32:03,642 Evaluating as a multi-label problem: False\n",
            "2023-10-11 11:32:03,659 DEV : loss 0.2806195914745331 - f1-score (micro avg)  0.5239\n",
            "2023-10-11 11:32:03,666 BAD EPOCHS (no improvement): 2\n",
            "2023-10-11 11:32:03,668 ----------------------------------------------------------------------------------------------------\n"
          ]
        },
        {
          "output_type": "stream",
          "name": "stderr",
          "text": [
            "\n"
          ]
        },
        {
          "output_type": "stream",
          "name": "stdout",
          "text": [
            "2023-10-11 11:32:04,777 epoch 67 - iter 1/2 - loss 0.30197245 - time (sec): 1.11 - samples/sec: 8167.56 - lr: 0.050000\n",
            "2023-10-11 11:32:05,626 epoch 67 - iter 2/2 - loss 0.31962201 - time (sec): 1.96 - samples/sec: 8686.18 - lr: 0.050000\n",
            "2023-10-11 11:32:05,631 ----------------------------------------------------------------------------------------------------\n",
            "2023-10-11 11:32:05,634 EPOCH 67 done: loss 0.3196 - lr 0.050000\n"
          ]
        },
        {
          "output_type": "stream",
          "name": "stderr",
          "text": [
            "100%|██████████| 1/1 [00:01<00:00,  1.23s/it]"
          ]
        },
        {
          "output_type": "stream",
          "name": "stdout",
          "text": [
            "2023-10-11 11:32:06,872 Evaluating as a multi-label problem: False\n",
            "2023-10-11 11:32:06,890 DEV : loss 0.27714404463768005 - f1-score (micro avg)  0.5455\n",
            "2023-10-11 11:32:06,897 BAD EPOCHS (no improvement): 0\n",
            "2023-10-11 11:32:06,899 saving best model\n"
          ]
        },
        {
          "output_type": "stream",
          "name": "stderr",
          "text": [
            "\n"
          ]
        },
        {
          "output_type": "stream",
          "name": "stdout",
          "text": [
            "2023-10-11 11:32:07,637 ----------------------------------------------------------------------------------------------------\n",
            "2023-10-11 11:32:08,705 epoch 68 - iter 1/2 - loss 0.31517111 - time (sec): 1.07 - samples/sec: 9010.50 - lr: 0.050000\n",
            "2023-10-11 11:32:09,427 epoch 68 - iter 2/2 - loss 0.32136052 - time (sec): 1.79 - samples/sec: 9507.00 - lr: 0.050000\n",
            "2023-10-11 11:32:09,432 ----------------------------------------------------------------------------------------------------\n",
            "2023-10-11 11:32:09,434 EPOCH 68 done: loss 0.3214 - lr 0.050000\n"
          ]
        },
        {
          "output_type": "stream",
          "name": "stderr",
          "text": [
            "100%|██████████| 1/1 [00:01<00:00,  1.16s/it]"
          ]
        },
        {
          "output_type": "stream",
          "name": "stdout",
          "text": [
            "2023-10-11 11:32:10,602 Evaluating as a multi-label problem: False\n",
            "2023-10-11 11:32:10,617 DEV : loss 0.27126920223236084 - f1-score (micro avg)  0.5583\n",
            "2023-10-11 11:32:10,625 BAD EPOCHS (no improvement): 0\n",
            "2023-10-11 11:32:10,626 saving best model\n"
          ]
        },
        {
          "output_type": "stream",
          "name": "stderr",
          "text": [
            "\n"
          ]
        },
        {
          "output_type": "stream",
          "name": "stdout",
          "text": [
            "2023-10-11 11:32:11,336 ----------------------------------------------------------------------------------------------------\n",
            "2023-10-11 11:32:12,441 epoch 69 - iter 1/2 - loss 0.30976853 - time (sec): 1.10 - samples/sec: 9146.37 - lr: 0.050000\n",
            "2023-10-11 11:32:13,153 epoch 69 - iter 2/2 - loss 0.31660363 - time (sec): 1.82 - samples/sec: 9364.38 - lr: 0.050000\n",
            "2023-10-11 11:32:13,158 ----------------------------------------------------------------------------------------------------\n",
            "2023-10-11 11:32:13,161 EPOCH 69 done: loss 0.3166 - lr 0.050000\n"
          ]
        },
        {
          "output_type": "stream",
          "name": "stderr",
          "text": [
            "100%|██████████| 1/1 [00:01<00:00,  1.14s/it]"
          ]
        },
        {
          "output_type": "stream",
          "name": "stdout",
          "text": [
            "2023-10-11 11:32:14,311 Evaluating as a multi-label problem: False\n",
            "2023-10-11 11:32:14,326 DEV : loss 0.27003213763237 - f1-score (micro avg)  0.5414\n",
            "2023-10-11 11:32:14,332 BAD EPOCHS (no improvement): 1\n",
            "2023-10-11 11:32:14,334 ----------------------------------------------------------------------------------------------------\n"
          ]
        },
        {
          "output_type": "stream",
          "name": "stderr",
          "text": [
            "\n"
          ]
        },
        {
          "output_type": "stream",
          "name": "stdout",
          "text": [
            "2023-10-11 11:32:15,227 epoch 70 - iter 1/2 - loss 0.31507262 - time (sec): 0.89 - samples/sec: 10311.41 - lr: 0.050000\n",
            "2023-10-11 11:32:16,454 epoch 70 - iter 2/2 - loss 0.32279894 - time (sec): 2.12 - samples/sec: 8021.39 - lr: 0.050000\n",
            "2023-10-11 11:32:16,458 ----------------------------------------------------------------------------------------------------\n",
            "2023-10-11 11:32:16,461 EPOCH 70 done: loss 0.3228 - lr 0.050000\n"
          ]
        },
        {
          "output_type": "stream",
          "name": "stderr",
          "text": [
            "100%|██████████| 1/1 [00:01<00:00,  1.14s/it]"
          ]
        },
        {
          "output_type": "stream",
          "name": "stdout",
          "text": [
            "2023-10-11 11:32:17,613 Evaluating as a multi-label problem: False\n",
            "2023-10-11 11:32:17,628 DEV : loss 0.26835572719573975 - f1-score (micro avg)  0.5202\n",
            "2023-10-11 11:32:17,635 BAD EPOCHS (no improvement): 2\n",
            "2023-10-11 11:32:17,637 ----------------------------------------------------------------------------------------------------\n"
          ]
        },
        {
          "output_type": "stream",
          "name": "stderr",
          "text": [
            "\n"
          ]
        },
        {
          "output_type": "stream",
          "name": "stdout",
          "text": [
            "2023-10-11 11:32:18,661 epoch 71 - iter 1/2 - loss 0.29990085 - time (sec): 1.02 - samples/sec: 8931.60 - lr: 0.050000\n",
            "2023-10-11 11:32:19,573 epoch 71 - iter 2/2 - loss 0.30358134 - time (sec): 1.94 - samples/sec: 8784.94 - lr: 0.050000\n",
            "2023-10-11 11:32:19,578 ----------------------------------------------------------------------------------------------------\n",
            "2023-10-11 11:32:19,580 EPOCH 71 done: loss 0.3036 - lr 0.050000\n"
          ]
        },
        {
          "output_type": "stream",
          "name": "stderr",
          "text": [
            "100%|██████████| 1/1 [00:01<00:00,  1.25s/it]"
          ]
        },
        {
          "output_type": "stream",
          "name": "stdout",
          "text": [
            "2023-10-11 11:32:20,841 Evaluating as a multi-label problem: False\n",
            "2023-10-11 11:32:20,860 DEV : loss 0.26325663924217224 - f1-score (micro avg)  0.529\n",
            "2023-10-11 11:32:20,868 BAD EPOCHS (no improvement): 3\n",
            "2023-10-11 11:32:20,870 ----------------------------------------------------------------------------------------------------\n"
          ]
        },
        {
          "output_type": "stream",
          "name": "stderr",
          "text": [
            "\n"
          ]
        },
        {
          "output_type": "stream",
          "name": "stdout",
          "text": [
            "2023-10-11 11:32:21,813 epoch 72 - iter 1/2 - loss 0.28372330 - time (sec): 0.94 - samples/sec: 9198.93 - lr: 0.050000\n",
            "2023-10-11 11:32:22,858 epoch 72 - iter 2/2 - loss 0.30332307 - time (sec): 1.99 - samples/sec: 8554.46 - lr: 0.050000\n",
            "2023-10-11 11:32:22,862 ----------------------------------------------------------------------------------------------------\n",
            "2023-10-11 11:32:22,864 EPOCH 72 done: loss 0.3033 - lr 0.050000\n"
          ]
        },
        {
          "output_type": "stream",
          "name": "stderr",
          "text": [
            "100%|██████████| 1/1 [00:01<00:00,  1.15s/it]"
          ]
        },
        {
          "output_type": "stream",
          "name": "stdout",
          "text": [
            "2023-10-11 11:32:24,023 Evaluating as a multi-label problem: False\n",
            "2023-10-11 11:32:24,039 DEV : loss 0.2602819800376892 - f1-score (micro avg)  0.5673\n",
            "2023-10-11 11:32:24,046 BAD EPOCHS (no improvement): 0\n",
            "2023-10-11 11:32:24,048 saving best model\n"
          ]
        },
        {
          "output_type": "stream",
          "name": "stderr",
          "text": [
            "\n"
          ]
        },
        {
          "output_type": "stream",
          "name": "stdout",
          "text": [
            "2023-10-11 11:32:24,774 ----------------------------------------------------------------------------------------------------\n",
            "2023-10-11 11:32:25,711 epoch 73 - iter 1/2 - loss 0.29773912 - time (sec): 0.93 - samples/sec: 10032.67 - lr: 0.050000\n",
            "2023-10-11 11:32:26,625 epoch 73 - iter 2/2 - loss 0.31149885 - time (sec): 1.85 - samples/sec: 9194.67 - lr: 0.050000\n",
            "2023-10-11 11:32:26,630 ----------------------------------------------------------------------------------------------------\n",
            "2023-10-11 11:32:26,632 EPOCH 73 done: loss 0.3115 - lr 0.050000\n"
          ]
        },
        {
          "output_type": "stream",
          "name": "stderr",
          "text": [
            "100%|██████████| 1/1 [00:01<00:00,  1.19s/it]"
          ]
        },
        {
          "output_type": "stream",
          "name": "stdout",
          "text": [
            "2023-10-11 11:32:27,827 Evaluating as a multi-label problem: False\n",
            "2023-10-11 11:32:27,842 DEV : loss 0.25779810547828674 - f1-score (micro avg)  0.5473\n",
            "2023-10-11 11:32:27,850 BAD EPOCHS (no improvement): 1\n",
            "2023-10-11 11:32:27,852 ----------------------------------------------------------------------------------------------------\n"
          ]
        },
        {
          "output_type": "stream",
          "name": "stderr",
          "text": [
            "\n"
          ]
        },
        {
          "output_type": "stream",
          "name": "stdout",
          "text": [
            "2023-10-11 11:32:28,809 epoch 74 - iter 1/2 - loss 0.32112275 - time (sec): 0.96 - samples/sec: 9718.23 - lr: 0.050000\n",
            "2023-10-11 11:32:29,769 epoch 74 - iter 2/2 - loss 0.30691590 - time (sec): 1.92 - samples/sec: 8873.69 - lr: 0.050000\n",
            "2023-10-11 11:32:29,773 ----------------------------------------------------------------------------------------------------\n",
            "2023-10-11 11:32:29,774 EPOCH 74 done: loss 0.3069 - lr 0.050000\n"
          ]
        },
        {
          "output_type": "stream",
          "name": "stderr",
          "text": [
            "100%|██████████| 1/1 [00:01<00:00,  1.19s/it]"
          ]
        },
        {
          "output_type": "stream",
          "name": "stdout",
          "text": [
            "2023-10-11 11:32:30,972 Evaluating as a multi-label problem: False\n",
            "2023-10-11 11:32:30,988 DEV : loss 0.2598091661930084 - f1-score (micro avg)  0.6\n",
            "2023-10-11 11:32:30,995 BAD EPOCHS (no improvement): 0\n",
            "2023-10-11 11:32:30,997 saving best model\n"
          ]
        },
        {
          "output_type": "stream",
          "name": "stderr",
          "text": [
            "\n"
          ]
        },
        {
          "output_type": "stream",
          "name": "stdout",
          "text": [
            "2023-10-11 11:32:31,733 ----------------------------------------------------------------------------------------------------\n",
            "2023-10-11 11:32:32,696 epoch 75 - iter 1/2 - loss 0.29145610 - time (sec): 0.96 - samples/sec: 10156.12 - lr: 0.050000\n",
            "2023-10-11 11:32:33,645 epoch 75 - iter 2/2 - loss 0.30053447 - time (sec): 1.91 - samples/sec: 8896.46 - lr: 0.050000\n",
            "2023-10-11 11:32:33,650 ----------------------------------------------------------------------------------------------------\n",
            "2023-10-11 11:32:33,651 EPOCH 75 done: loss 0.3005 - lr 0.050000\n"
          ]
        },
        {
          "output_type": "stream",
          "name": "stderr",
          "text": [
            "100%|██████████| 1/1 [00:01<00:00,  1.25s/it]"
          ]
        },
        {
          "output_type": "stream",
          "name": "stdout",
          "text": [
            "2023-10-11 11:32:34,909 Evaluating as a multi-label problem: False\n",
            "2023-10-11 11:32:34,925 DEV : loss 0.2539249658584595 - f1-score (micro avg)  0.5942\n",
            "2023-10-11 11:32:34,934 BAD EPOCHS (no improvement): 1\n",
            "2023-10-11 11:32:34,935 ----------------------------------------------------------------------------------------------------\n"
          ]
        },
        {
          "output_type": "stream",
          "name": "stderr",
          "text": [
            "\n"
          ]
        },
        {
          "output_type": "stream",
          "name": "stdout",
          "text": [
            "2023-10-11 11:32:36,374 epoch 76 - iter 1/2 - loss 0.30443151 - time (sec): 1.44 - samples/sec: 6635.31 - lr: 0.050000\n",
            "2023-10-11 11:32:37,244 epoch 76 - iter 2/2 - loss 0.29569462 - time (sec): 2.31 - samples/sec: 7367.90 - lr: 0.050000\n",
            "2023-10-11 11:32:37,248 ----------------------------------------------------------------------------------------------------\n",
            "2023-10-11 11:32:37,251 EPOCH 76 done: loss 0.2957 - lr 0.050000\n"
          ]
        },
        {
          "output_type": "stream",
          "name": "stderr",
          "text": [
            "100%|██████████| 1/1 [00:01<00:00,  1.14s/it]"
          ]
        },
        {
          "output_type": "stream",
          "name": "stdout",
          "text": [
            "2023-10-11 11:32:38,404 Evaluating as a multi-label problem: False\n",
            "2023-10-11 11:32:38,424 DEV : loss 0.2487093210220337 - f1-score (micro avg)  0.5764\n",
            "2023-10-11 11:32:38,432 BAD EPOCHS (no improvement): 2\n",
            "2023-10-11 11:32:38,433 ----------------------------------------------------------------------------------------------------\n"
          ]
        },
        {
          "output_type": "stream",
          "name": "stderr",
          "text": [
            "\n"
          ]
        },
        {
          "output_type": "stream",
          "name": "stdout",
          "text": [
            "2023-10-11 11:32:39,261 epoch 77 - iter 1/2 - loss 0.29569410 - time (sec): 0.83 - samples/sec: 10484.51 - lr: 0.050000\n",
            "2023-10-11 11:32:40,195 epoch 77 - iter 2/2 - loss 0.29059168 - time (sec): 1.76 - samples/sec: 9657.25 - lr: 0.050000\n",
            "2023-10-11 11:32:40,199 ----------------------------------------------------------------------------------------------------\n",
            "2023-10-11 11:32:40,201 EPOCH 77 done: loss 0.2906 - lr 0.050000\n"
          ]
        },
        {
          "output_type": "stream",
          "name": "stderr",
          "text": [
            "100%|██████████| 1/1 [00:01<00:00,  1.13s/it]"
          ]
        },
        {
          "output_type": "stream",
          "name": "stdout",
          "text": [
            "2023-10-11 11:32:41,339 Evaluating as a multi-label problem: False\n",
            "2023-10-11 11:32:41,360 DEV : loss 0.2471948117017746 - f1-score (micro avg)  0.5922\n",
            "2023-10-11 11:32:41,367 BAD EPOCHS (no improvement): 3\n",
            "2023-10-11 11:32:41,368 ----------------------------------------------------------------------------------------------------\n"
          ]
        },
        {
          "output_type": "stream",
          "name": "stderr",
          "text": [
            "\n"
          ]
        },
        {
          "output_type": "stream",
          "name": "stdout",
          "text": [
            "2023-10-11 11:32:42,291 epoch 78 - iter 1/2 - loss 0.28402972 - time (sec): 0.92 - samples/sec: 10828.81 - lr: 0.050000\n",
            "2023-10-11 11:32:43,181 epoch 78 - iter 2/2 - loss 0.29662017 - time (sec): 1.81 - samples/sec: 9388.09 - lr: 0.050000\n",
            "2023-10-11 11:32:43,185 ----------------------------------------------------------------------------------------------------\n",
            "2023-10-11 11:32:43,187 EPOCH 78 done: loss 0.2966 - lr 0.050000\n"
          ]
        },
        {
          "output_type": "stream",
          "name": "stderr",
          "text": [
            "100%|██████████| 1/1 [00:01<00:00,  1.14s/it]"
          ]
        },
        {
          "output_type": "stream",
          "name": "stdout",
          "text": [
            "2023-10-11 11:32:44,339 Evaluating as a multi-label problem: False\n",
            "2023-10-11 11:32:44,359 DEV : loss 0.24535468220710754 - f1-score (micro avg)  0.6311\n",
            "2023-10-11 11:32:44,366 BAD EPOCHS (no improvement): 0\n",
            "2023-10-11 11:32:44,368 saving best model\n"
          ]
        },
        {
          "output_type": "stream",
          "name": "stderr",
          "text": [
            "\n"
          ]
        },
        {
          "output_type": "stream",
          "name": "stdout",
          "text": [
            "2023-10-11 11:32:45,086 ----------------------------------------------------------------------------------------------------\n",
            "2023-10-11 11:32:46,106 epoch 79 - iter 1/2 - loss 0.30721640 - time (sec): 1.02 - samples/sec: 9005.77 - lr: 0.050000\n",
            "2023-10-11 11:32:46,941 epoch 79 - iter 2/2 - loss 0.29933387 - time (sec): 1.85 - samples/sec: 9173.64 - lr: 0.050000\n",
            "2023-10-11 11:32:46,945 ----------------------------------------------------------------------------------------------------\n",
            "2023-10-11 11:32:46,948 EPOCH 79 done: loss 0.2993 - lr 0.050000\n"
          ]
        },
        {
          "output_type": "stream",
          "name": "stderr",
          "text": [
            "100%|██████████| 1/1 [00:01<00:00,  1.17s/it]"
          ]
        },
        {
          "output_type": "stream",
          "name": "stdout",
          "text": [
            "2023-10-11 11:32:48,123 Evaluating as a multi-label problem: False\n",
            "2023-10-11 11:32:48,144 DEV : loss 0.24199391901493073 - f1-score (micro avg)  0.5657\n",
            "2023-10-11 11:32:48,151 BAD EPOCHS (no improvement): 1\n",
            "2023-10-11 11:32:48,152 ----------------------------------------------------------------------------------------------------\n"
          ]
        },
        {
          "output_type": "stream",
          "name": "stderr",
          "text": [
            "\n"
          ]
        },
        {
          "output_type": "stream",
          "name": "stdout",
          "text": [
            "2023-10-11 11:32:49,215 epoch 80 - iter 1/2 - loss 0.28705958 - time (sec): 1.06 - samples/sec: 8682.02 - lr: 0.050000\n",
            "2023-10-11 11:32:50,153 epoch 80 - iter 2/2 - loss 0.28112937 - time (sec): 2.00 - samples/sec: 8504.05 - lr: 0.050000\n",
            "2023-10-11 11:32:50,156 ----------------------------------------------------------------------------------------------------\n",
            "2023-10-11 11:32:50,161 EPOCH 80 done: loss 0.2811 - lr 0.050000\n"
          ]
        },
        {
          "output_type": "stream",
          "name": "stderr",
          "text": [
            "100%|██████████| 1/1 [00:01<00:00,  1.19s/it]"
          ]
        },
        {
          "output_type": "stream",
          "name": "stdout",
          "text": [
            "2023-10-11 11:32:51,360 Evaluating as a multi-label problem: False\n",
            "2023-10-11 11:32:51,384 DEV : loss 0.23859573900699615 - f1-score (micro avg)  0.5888\n",
            "2023-10-11 11:32:51,392 BAD EPOCHS (no improvement): 2\n",
            "2023-10-11 11:32:51,394 ----------------------------------------------------------------------------------------------------\n"
          ]
        },
        {
          "output_type": "stream",
          "name": "stderr",
          "text": [
            "\n"
          ]
        },
        {
          "output_type": "stream",
          "name": "stdout",
          "text": [
            "2023-10-11 11:32:52,294 epoch 81 - iter 1/2 - loss 0.27602515 - time (sec): 0.90 - samples/sec: 9991.87 - lr: 0.050000\n",
            "2023-10-11 11:32:53,201 epoch 81 - iter 2/2 - loss 0.27904044 - time (sec): 1.81 - samples/sec: 9409.77 - lr: 0.050000\n",
            "2023-10-11 11:32:53,205 ----------------------------------------------------------------------------------------------------\n",
            "2023-10-11 11:32:53,208 EPOCH 81 done: loss 0.2790 - lr 0.050000\n"
          ]
        },
        {
          "output_type": "stream",
          "name": "stderr",
          "text": [
            "100%|██████████| 1/1 [00:01<00:00,  1.15s/it]"
          ]
        },
        {
          "output_type": "stream",
          "name": "stdout",
          "text": [
            "2023-10-11 11:32:54,365 Evaluating as a multi-label problem: False\n",
            "2023-10-11 11:32:54,381 DEV : loss 0.23521016538143158 - f1-score (micro avg)  0.6005\n",
            "2023-10-11 11:32:54,390 BAD EPOCHS (no improvement): 3\n",
            "2023-10-11 11:32:54,392 ----------------------------------------------------------------------------------------------------\n"
          ]
        },
        {
          "output_type": "stream",
          "name": "stderr",
          "text": [
            "\n"
          ]
        },
        {
          "output_type": "stream",
          "name": "stdout",
          "text": [
            "2023-10-11 11:32:55,698 epoch 82 - iter 1/2 - loss 0.27791481 - time (sec): 1.30 - samples/sec: 7226.64 - lr: 0.050000\n",
            "2023-10-11 11:32:56,629 epoch 82 - iter 2/2 - loss 0.28384352 - time (sec): 2.24 - samples/sec: 7605.89 - lr: 0.050000\n",
            "2023-10-11 11:32:56,633 ----------------------------------------------------------------------------------------------------\n",
            "2023-10-11 11:32:56,635 EPOCH 82 done: loss 0.2838 - lr 0.050000\n"
          ]
        },
        {
          "output_type": "stream",
          "name": "stderr",
          "text": [
            "100%|██████████| 1/1 [00:01<00:00,  1.16s/it]"
          ]
        },
        {
          "output_type": "stream",
          "name": "stdout",
          "text": [
            "2023-10-11 11:32:57,806 Evaluating as a multi-label problem: False\n",
            "2023-10-11 11:32:57,820 DEV : loss 0.23673473298549652 - f1-score (micro avg)  0.6328\n",
            "2023-10-11 11:32:57,828 BAD EPOCHS (no improvement): 0\n",
            "2023-10-11 11:32:57,829 saving best model\n"
          ]
        },
        {
          "output_type": "stream",
          "name": "stderr",
          "text": [
            "\n"
          ]
        },
        {
          "output_type": "stream",
          "name": "stdout",
          "text": [
            "2023-10-11 11:32:58,536 ----------------------------------------------------------------------------------------------------\n",
            "2023-10-11 11:32:59,474 epoch 83 - iter 1/2 - loss 0.27574280 - time (sec): 0.92 - samples/sec: 10861.41 - lr: 0.050000\n",
            "2023-10-11 11:33:00,376 epoch 83 - iter 2/2 - loss 0.28136811 - time (sec): 1.83 - samples/sec: 9311.50 - lr: 0.050000\n",
            "2023-10-11 11:33:00,380 ----------------------------------------------------------------------------------------------------\n",
            "2023-10-11 11:33:00,381 EPOCH 83 done: loss 0.2814 - lr 0.050000\n"
          ]
        },
        {
          "output_type": "stream",
          "name": "stderr",
          "text": [
            "100%|██████████| 1/1 [00:01<00:00,  1.14s/it]"
          ]
        },
        {
          "output_type": "stream",
          "name": "stdout",
          "text": [
            "2023-10-11 11:33:01,533 Evaluating as a multi-label problem: False\n",
            "2023-10-11 11:33:01,554 DEV : loss 0.23679770529270172 - f1-score (micro avg)  0.6233\n",
            "2023-10-11 11:33:01,561 BAD EPOCHS (no improvement): 1\n",
            "2023-10-11 11:33:01,563 ----------------------------------------------------------------------------------------------------\n"
          ]
        },
        {
          "output_type": "stream",
          "name": "stderr",
          "text": [
            "\n"
          ]
        },
        {
          "output_type": "stream",
          "name": "stdout",
          "text": [
            "2023-10-11 11:33:02,582 epoch 84 - iter 1/2 - loss 0.26991360 - time (sec): 1.02 - samples/sec: 9692.89 - lr: 0.050000\n",
            "2023-10-11 11:33:03,376 epoch 84 - iter 2/2 - loss 0.29118336 - time (sec): 1.81 - samples/sec: 9383.09 - lr: 0.050000\n",
            "2023-10-11 11:33:03,380 ----------------------------------------------------------------------------------------------------\n",
            "2023-10-11 11:33:03,383 EPOCH 84 done: loss 0.2912 - lr 0.050000\n"
          ]
        },
        {
          "output_type": "stream",
          "name": "stderr",
          "text": [
            "100%|██████████| 1/1 [00:01<00:00,  1.17s/it]"
          ]
        },
        {
          "output_type": "stream",
          "name": "stdout",
          "text": [
            "2023-10-11 11:33:04,557 Evaluating as a multi-label problem: False\n",
            "2023-10-11 11:33:04,578 DEV : loss 0.23156441748142242 - f1-score (micro avg)  0.6143\n",
            "2023-10-11 11:33:04,585 BAD EPOCHS (no improvement): 2\n",
            "2023-10-11 11:33:04,587 ----------------------------------------------------------------------------------------------------\n"
          ]
        },
        {
          "output_type": "stream",
          "name": "stderr",
          "text": [
            "\n"
          ]
        },
        {
          "output_type": "stream",
          "name": "stdout",
          "text": [
            "2023-10-11 11:33:05,638 epoch 85 - iter 1/2 - loss 0.27362873 - time (sec): 1.05 - samples/sec: 8523.76 - lr: 0.050000\n",
            "2023-10-11 11:33:06,423 epoch 85 - iter 2/2 - loss 0.27366176 - time (sec): 1.83 - samples/sec: 9268.24 - lr: 0.050000\n",
            "2023-10-11 11:33:06,425 ----------------------------------------------------------------------------------------------------\n",
            "2023-10-11 11:33:06,428 EPOCH 85 done: loss 0.2737 - lr 0.050000\n"
          ]
        },
        {
          "output_type": "stream",
          "name": "stderr",
          "text": [
            "100%|██████████| 1/1 [00:01<00:00,  1.17s/it]"
          ]
        },
        {
          "output_type": "stream",
          "name": "stdout",
          "text": [
            "2023-10-11 11:33:07,610 Evaluating as a multi-label problem: False\n",
            "2023-10-11 11:33:07,625 DEV : loss 0.22868402302265167 - f1-score (micro avg)  0.6282\n",
            "2023-10-11 11:33:07,633 BAD EPOCHS (no improvement): 3\n",
            "2023-10-11 11:33:07,634 ----------------------------------------------------------------------------------------------------\n"
          ]
        },
        {
          "output_type": "stream",
          "name": "stderr",
          "text": [
            "\n"
          ]
        },
        {
          "output_type": "stream",
          "name": "stdout",
          "text": [
            "2023-10-11 11:33:08,649 epoch 86 - iter 1/2 - loss 0.28387422 - time (sec): 1.01 - samples/sec: 9412.38 - lr: 0.050000\n",
            "2023-10-11 11:33:09,401 epoch 86 - iter 2/2 - loss 0.27594347 - time (sec): 1.77 - samples/sec: 9626.97 - lr: 0.050000\n",
            "2023-10-11 11:33:09,406 ----------------------------------------------------------------------------------------------------\n",
            "2023-10-11 11:33:09,408 EPOCH 86 done: loss 0.2759 - lr 0.050000\n"
          ]
        },
        {
          "output_type": "stream",
          "name": "stderr",
          "text": [
            "100%|██████████| 1/1 [00:01<00:00,  1.16s/it]"
          ]
        },
        {
          "output_type": "stream",
          "name": "stdout",
          "text": [
            "2023-10-11 11:33:10,582 Evaluating as a multi-label problem: False\n",
            "2023-10-11 11:33:10,603 DEV : loss 0.23903976380825043 - f1-score (micro avg)  0.4822\n",
            "2023-10-11 11:33:10,612 Epoch    86: reducing learning rate of group 0 to 2.5000e-02.\n",
            "2023-10-11 11:33:10,613 BAD EPOCHS (no improvement): 4\n",
            "2023-10-11 11:33:10,615 ----------------------------------------------------------------------------------------------------\n"
          ]
        },
        {
          "output_type": "stream",
          "name": "stderr",
          "text": [
            "\n"
          ]
        },
        {
          "output_type": "stream",
          "name": "stdout",
          "text": [
            "2023-10-11 11:33:11,453 epoch 87 - iter 1/2 - loss 0.28067730 - time (sec): 0.84 - samples/sec: 10374.13 - lr: 0.025000\n",
            "2023-10-11 11:33:12,411 epoch 87 - iter 2/2 - loss 0.26873529 - time (sec): 1.80 - samples/sec: 9470.35 - lr: 0.025000\n",
            "2023-10-11 11:33:12,416 ----------------------------------------------------------------------------------------------------\n",
            "2023-10-11 11:33:12,417 EPOCH 87 done: loss 0.2687 - lr 0.025000\n"
          ]
        },
        {
          "output_type": "stream",
          "name": "stderr",
          "text": [
            "100%|██████████| 1/1 [00:01<00:00,  1.17s/it]"
          ]
        },
        {
          "output_type": "stream",
          "name": "stdout",
          "text": [
            "2023-10-11 11:33:13,596 Evaluating as a multi-label problem: False\n",
            "2023-10-11 11:33:13,611 DEV : loss 0.23326531052589417 - f1-score (micro avg)  0.57\n",
            "2023-10-11 11:33:13,618 BAD EPOCHS (no improvement): 1\n",
            "2023-10-11 11:33:13,620 ----------------------------------------------------------------------------------------------------\n"
          ]
        },
        {
          "output_type": "stream",
          "name": "stderr",
          "text": [
            "\n"
          ]
        },
        {
          "output_type": "stream",
          "name": "stdout",
          "text": [
            "2023-10-11 11:33:14,774 epoch 88 - iter 1/2 - loss 0.26816946 - time (sec): 1.15 - samples/sec: 7243.62 - lr: 0.025000\n",
            "2023-10-11 11:33:15,702 epoch 88 - iter 2/2 - loss 0.26692119 - time (sec): 2.08 - samples/sec: 8171.73 - lr: 0.025000\n",
            "2023-10-11 11:33:15,706 ----------------------------------------------------------------------------------------------------\n",
            "2023-10-11 11:33:15,709 EPOCH 88 done: loss 0.2669 - lr 0.025000\n"
          ]
        },
        {
          "output_type": "stream",
          "name": "stderr",
          "text": [
            "100%|██████████| 1/1 [00:01<00:00,  1.13s/it]"
          ]
        },
        {
          "output_type": "stream",
          "name": "stdout",
          "text": [
            "2023-10-11 11:33:16,845 Evaluating as a multi-label problem: False\n",
            "2023-10-11 11:33:16,861 DEV : loss 0.22584502398967743 - f1-score (micro avg)  0.6005\n",
            "2023-10-11 11:33:16,868 BAD EPOCHS (no improvement): 2\n",
            "2023-10-11 11:33:16,870 ----------------------------------------------------------------------------------------------------\n"
          ]
        },
        {
          "output_type": "stream",
          "name": "stderr",
          "text": [
            "\n"
          ]
        },
        {
          "output_type": "stream",
          "name": "stdout",
          "text": [
            "2023-10-11 11:33:17,809 epoch 89 - iter 1/2 - loss 0.27412205 - time (sec): 0.94 - samples/sec: 9921.52 - lr: 0.025000\n",
            "2023-10-11 11:33:18,732 epoch 89 - iter 2/2 - loss 0.27159467 - time (sec): 1.86 - samples/sec: 9135.21 - lr: 0.025000\n",
            "2023-10-11 11:33:18,737 ----------------------------------------------------------------------------------------------------\n",
            "2023-10-11 11:33:18,739 EPOCH 89 done: loss 0.2716 - lr 0.025000\n"
          ]
        },
        {
          "output_type": "stream",
          "name": "stderr",
          "text": [
            "100%|██████████| 1/1 [00:01<00:00,  1.18s/it]"
          ]
        },
        {
          "output_type": "stream",
          "name": "stdout",
          "text": [
            "2023-10-11 11:33:19,925 Evaluating as a multi-label problem: False\n",
            "2023-10-11 11:33:19,942 DEV : loss 0.22306933999061584 - f1-score (micro avg)  0.6049\n",
            "2023-10-11 11:33:19,952 BAD EPOCHS (no improvement): 3\n",
            "2023-10-11 11:33:19,954 ----------------------------------------------------------------------------------------------------\n"
          ]
        },
        {
          "output_type": "stream",
          "name": "stderr",
          "text": [
            "\n"
          ]
        },
        {
          "output_type": "stream",
          "name": "stdout",
          "text": [
            "2023-10-11 11:33:20,910 epoch 90 - iter 1/2 - loss 0.27975888 - time (sec): 0.96 - samples/sec: 9260.49 - lr: 0.025000\n",
            "2023-10-11 11:33:21,850 epoch 90 - iter 2/2 - loss 0.26191590 - time (sec): 1.90 - samples/sec: 8968.05 - lr: 0.025000\n",
            "2023-10-11 11:33:21,852 ----------------------------------------------------------------------------------------------------\n",
            "2023-10-11 11:33:21,856 EPOCH 90 done: loss 0.2619 - lr 0.025000\n"
          ]
        },
        {
          "output_type": "stream",
          "name": "stderr",
          "text": [
            "100%|██████████| 1/1 [00:01<00:00,  1.12s/it]"
          ]
        },
        {
          "output_type": "stream",
          "name": "stdout",
          "text": [
            "2023-10-11 11:33:22,989 Evaluating as a multi-label problem: False\n",
            "2023-10-11 11:33:23,003 DEV : loss 0.22247850894927979 - f1-score (micro avg)  0.6\n",
            "2023-10-11 11:33:23,010 Epoch    90: reducing learning rate of group 0 to 1.2500e-02.\n",
            "2023-10-11 11:33:23,011 BAD EPOCHS (no improvement): 4\n",
            "2023-10-11 11:33:23,013 ----------------------------------------------------------------------------------------------------\n"
          ]
        },
        {
          "output_type": "stream",
          "name": "stderr",
          "text": [
            "\n"
          ]
        },
        {
          "output_type": "stream",
          "name": "stdout",
          "text": [
            "2023-10-11 11:33:23,850 epoch 91 - iter 1/2 - loss 0.26575503 - time (sec): 0.84 - samples/sec: 10743.22 - lr: 0.012500\n",
            "2023-10-11 11:33:24,754 epoch 91 - iter 2/2 - loss 0.27007353 - time (sec): 1.74 - samples/sec: 9769.84 - lr: 0.012500\n",
            "2023-10-11 11:33:24,758 ----------------------------------------------------------------------------------------------------\n",
            "2023-10-11 11:33:24,760 EPOCH 91 done: loss 0.2701 - lr 0.012500\n"
          ]
        },
        {
          "output_type": "stream",
          "name": "stderr",
          "text": [
            "100%|██████████| 1/1 [00:01<00:00,  1.12s/it]"
          ]
        },
        {
          "output_type": "stream",
          "name": "stdout",
          "text": [
            "2023-10-11 11:33:25,887 Evaluating as a multi-label problem: False\n",
            "2023-10-11 11:33:25,903 DEV : loss 0.21885435283184052 - f1-score (micro avg)  0.6286\n",
            "2023-10-11 11:33:25,911 BAD EPOCHS (no improvement): 1\n",
            "2023-10-11 11:33:25,912 ----------------------------------------------------------------------------------------------------\n"
          ]
        },
        {
          "output_type": "stream",
          "name": "stderr",
          "text": [
            "\n"
          ]
        },
        {
          "output_type": "stream",
          "name": "stdout",
          "text": [
            "2023-10-11 11:33:26,943 epoch 92 - iter 1/2 - loss 0.24224809 - time (sec): 1.03 - samples/sec: 8573.87 - lr: 0.012500\n",
            "2023-10-11 11:33:27,721 epoch 92 - iter 2/2 - loss 0.25909881 - time (sec): 1.81 - samples/sec: 9401.71 - lr: 0.012500\n",
            "2023-10-11 11:33:27,725 ----------------------------------------------------------------------------------------------------\n",
            "2023-10-11 11:33:27,728 EPOCH 92 done: loss 0.2591 - lr 0.012500\n"
          ]
        },
        {
          "output_type": "stream",
          "name": "stderr",
          "text": [
            "100%|██████████| 1/1 [00:01<00:00,  1.13s/it]"
          ]
        },
        {
          "output_type": "stream",
          "name": "stdout",
          "text": [
            "2023-10-11 11:33:28,863 Evaluating as a multi-label problem: False\n",
            "2023-10-11 11:33:28,878 DEV : loss 0.2212032824754715 - f1-score (micro avg)  0.5891\n",
            "2023-10-11 11:33:28,885 BAD EPOCHS (no improvement): 2\n",
            "2023-10-11 11:33:28,886 ----------------------------------------------------------------------------------------------------\n"
          ]
        },
        {
          "output_type": "stream",
          "name": "stderr",
          "text": [
            "\n"
          ]
        },
        {
          "output_type": "stream",
          "name": "stdout",
          "text": [
            "2023-10-11 11:33:29,796 epoch 93 - iter 1/2 - loss 0.26253009 - time (sec): 0.91 - samples/sec: 10308.93 - lr: 0.012500\n",
            "2023-10-11 11:33:30,712 epoch 93 - iter 2/2 - loss 0.26652344 - time (sec): 1.82 - samples/sec: 9315.46 - lr: 0.012500\n",
            "2023-10-11 11:33:30,716 ----------------------------------------------------------------------------------------------------\n",
            "2023-10-11 11:33:30,718 EPOCH 93 done: loss 0.2665 - lr 0.012500\n"
          ]
        },
        {
          "output_type": "stream",
          "name": "stderr",
          "text": [
            "100%|██████████| 1/1 [00:01<00:00,  1.16s/it]"
          ]
        },
        {
          "output_type": "stream",
          "name": "stdout",
          "text": [
            "2023-10-11 11:33:31,890 Evaluating as a multi-label problem: False\n",
            "2023-10-11 11:33:31,906 DEV : loss 0.2200252264738083 - f1-score (micro avg)  0.5906\n",
            "2023-10-11 11:33:31,913 BAD EPOCHS (no improvement): 3\n",
            "2023-10-11 11:33:31,915 ----------------------------------------------------------------------------------------------------\n"
          ]
        },
        {
          "output_type": "stream",
          "name": "stderr",
          "text": [
            "\n"
          ]
        },
        {
          "output_type": "stream",
          "name": "stdout",
          "text": [
            "2023-10-11 11:33:33,159 epoch 94 - iter 1/2 - loss 0.25416765 - time (sec): 1.24 - samples/sec: 7669.25 - lr: 0.012500\n",
            "2023-10-11 11:33:34,130 epoch 94 - iter 2/2 - loss 0.25861535 - time (sec): 2.21 - samples/sec: 7676.83 - lr: 0.012500\n",
            "2023-10-11 11:33:34,134 ----------------------------------------------------------------------------------------------------\n",
            "2023-10-11 11:33:34,135 EPOCH 94 done: loss 0.2586 - lr 0.012500\n"
          ]
        },
        {
          "output_type": "stream",
          "name": "stderr",
          "text": [
            "100%|██████████| 1/1 [00:01<00:00,  1.18s/it]"
          ]
        },
        {
          "output_type": "stream",
          "name": "stdout",
          "text": [
            "2023-10-11 11:33:35,328 Evaluating as a multi-label problem: False\n",
            "2023-10-11 11:33:35,349 DEV : loss 0.21986906230449677 - f1-score (micro avg)  0.6059\n",
            "2023-10-11 11:33:35,358 Epoch    94: reducing learning rate of group 0 to 6.2500e-03.\n",
            "2023-10-11 11:33:35,359 BAD EPOCHS (no improvement): 4\n",
            "2023-10-11 11:33:35,361 ----------------------------------------------------------------------------------------------------\n"
          ]
        },
        {
          "output_type": "stream",
          "name": "stderr",
          "text": [
            "\n"
          ]
        },
        {
          "output_type": "stream",
          "name": "stdout",
          "text": [
            "2023-10-11 11:33:36,404 epoch 95 - iter 1/2 - loss 0.26300539 - time (sec): 1.04 - samples/sec: 9149.50 - lr: 0.006250\n",
            "2023-10-11 11:33:37,200 epoch 95 - iter 2/2 - loss 0.25549012 - time (sec): 1.84 - samples/sec: 9251.27 - lr: 0.006250\n",
            "2023-10-11 11:33:37,202 ----------------------------------------------------------------------------------------------------\n",
            "2023-10-11 11:33:37,206 EPOCH 95 done: loss 0.2555 - lr 0.006250\n"
          ]
        },
        {
          "output_type": "stream",
          "name": "stderr",
          "text": [
            "100%|██████████| 1/1 [00:01<00:00,  1.14s/it]"
          ]
        },
        {
          "output_type": "stream",
          "name": "stdout",
          "text": [
            "2023-10-11 11:33:38,357 Evaluating as a multi-label problem: False\n",
            "2023-10-11 11:33:38,377 DEV : loss 0.21720996499061584 - f1-score (micro avg)  0.6146\n",
            "2023-10-11 11:33:38,384 BAD EPOCHS (no improvement): 1\n",
            "2023-10-11 11:33:38,386 ----------------------------------------------------------------------------------------------------\n"
          ]
        },
        {
          "output_type": "stream",
          "name": "stderr",
          "text": [
            "\n"
          ]
        },
        {
          "output_type": "stream",
          "name": "stdout",
          "text": [
            "2023-10-11 11:33:39,389 epoch 96 - iter 1/2 - loss 0.25773072 - time (sec): 1.00 - samples/sec: 9388.63 - lr: 0.006250\n",
            "2023-10-11 11:33:40,041 epoch 96 - iter 2/2 - loss 0.25972863 - time (sec): 1.65 - samples/sec: 10279.31 - lr: 0.006250\n",
            "2023-10-11 11:33:40,043 ----------------------------------------------------------------------------------------------------\n",
            "2023-10-11 11:33:40,045 EPOCH 96 done: loss 0.2597 - lr 0.006250\n"
          ]
        },
        {
          "output_type": "stream",
          "name": "stderr",
          "text": [
            "100%|██████████| 1/1 [00:01<00:00,  1.12s/it]"
          ]
        },
        {
          "output_type": "stream",
          "name": "stdout",
          "text": [
            "2023-10-11 11:33:41,170 Evaluating as a multi-label problem: False\n",
            "2023-10-11 11:33:41,185 DEV : loss 0.2176770120859146 - f1-score (micro avg)  0.6146\n",
            "2023-10-11 11:33:41,192 BAD EPOCHS (no improvement): 2\n",
            "2023-10-11 11:33:41,194 ----------------------------------------------------------------------------------------------------\n"
          ]
        },
        {
          "output_type": "stream",
          "name": "stderr",
          "text": [
            "\n"
          ]
        },
        {
          "output_type": "stream",
          "name": "stdout",
          "text": [
            "2023-10-11 11:33:42,206 epoch 97 - iter 1/2 - loss 0.25536483 - time (sec): 1.01 - samples/sec: 9550.77 - lr: 0.006250\n",
            "2023-10-11 11:33:42,902 epoch 97 - iter 2/2 - loss 0.25730882 - time (sec): 1.71 - samples/sec: 9954.17 - lr: 0.006250\n",
            "2023-10-11 11:33:42,905 ----------------------------------------------------------------------------------------------------\n",
            "2023-10-11 11:33:42,909 EPOCH 97 done: loss 0.2573 - lr 0.006250\n"
          ]
        },
        {
          "output_type": "stream",
          "name": "stderr",
          "text": [
            "100%|██████████| 1/1 [00:01<00:00,  1.12s/it]"
          ]
        },
        {
          "output_type": "stream",
          "name": "stdout",
          "text": [
            "2023-10-11 11:33:44,041 Evaluating as a multi-label problem: False\n",
            "2023-10-11 11:33:44,055 DEV : loss 0.2174272984266281 - f1-score (micro avg)  0.6112\n",
            "2023-10-11 11:33:44,061 BAD EPOCHS (no improvement): 3\n",
            "2023-10-11 11:33:44,063 ----------------------------------------------------------------------------------------------------\n"
          ]
        },
        {
          "output_type": "stream",
          "name": "stderr",
          "text": [
            "\n"
          ]
        },
        {
          "output_type": "stream",
          "name": "stdout",
          "text": [
            "2023-10-11 11:33:45,076 epoch 98 - iter 1/2 - loss 0.25683810 - time (sec): 1.01 - samples/sec: 9799.24 - lr: 0.006250\n",
            "2023-10-11 11:33:45,718 epoch 98 - iter 2/2 - loss 0.25305285 - time (sec): 1.65 - samples/sec: 10281.18 - lr: 0.006250\n",
            "2023-10-11 11:33:45,720 ----------------------------------------------------------------------------------------------------\n",
            "2023-10-11 11:33:45,723 EPOCH 98 done: loss 0.2531 - lr 0.006250\n"
          ]
        },
        {
          "output_type": "stream",
          "name": "stderr",
          "text": [
            "100%|██████████| 1/1 [00:01<00:00,  1.12s/it]"
          ]
        },
        {
          "output_type": "stream",
          "name": "stdout",
          "text": [
            "2023-10-11 11:33:46,855 Evaluating as a multi-label problem: False\n",
            "2023-10-11 11:33:46,876 DEV : loss 0.2171962857246399 - f1-score (micro avg)  0.6093\n",
            "2023-10-11 11:33:46,887 Epoch    98: reducing learning rate of group 0 to 3.1250e-03.\n",
            "2023-10-11 11:33:46,888 BAD EPOCHS (no improvement): 4\n",
            "2023-10-11 11:33:46,889 ----------------------------------------------------------------------------------------------------\n"
          ]
        },
        {
          "output_type": "stream",
          "name": "stderr",
          "text": [
            "\n"
          ]
        },
        {
          "output_type": "stream",
          "name": "stdout",
          "text": [
            "2023-10-11 11:33:47,702 epoch 99 - iter 1/2 - loss 0.27697538 - time (sec): 0.81 - samples/sec: 10794.80 - lr: 0.003125\n",
            "2023-10-11 11:33:48,628 epoch 99 - iter 2/2 - loss 0.26439269 - time (sec): 1.74 - samples/sec: 9786.56 - lr: 0.003125\n",
            "2023-10-11 11:33:48,633 ----------------------------------------------------------------------------------------------------\n",
            "2023-10-11 11:33:48,635 EPOCH 99 done: loss 0.2644 - lr 0.003125\n"
          ]
        },
        {
          "output_type": "stream",
          "name": "stderr",
          "text": [
            "100%|██████████| 1/1 [00:01<00:00,  1.21s/it]"
          ]
        },
        {
          "output_type": "stream",
          "name": "stdout",
          "text": [
            "2023-10-11 11:33:49,858 Evaluating as a multi-label problem: False\n",
            "2023-10-11 11:33:49,874 DEV : loss 0.21642626821994781 - f1-score (micro avg)  0.6112\n",
            "2023-10-11 11:33:49,881 BAD EPOCHS (no improvement): 1\n",
            "2023-10-11 11:33:49,883 ----------------------------------------------------------------------------------------------------\n"
          ]
        },
        {
          "output_type": "stream",
          "name": "stderr",
          "text": [
            "\n"
          ]
        },
        {
          "output_type": "stream",
          "name": "stdout",
          "text": [
            "2023-10-11 11:33:51,255 epoch 100 - iter 1/2 - loss 0.25216395 - time (sec): 1.37 - samples/sec: 7009.58 - lr: 0.003125\n",
            "2023-10-11 11:33:52,056 epoch 100 - iter 2/2 - loss 0.25784122 - time (sec): 2.17 - samples/sec: 7827.33 - lr: 0.003125\n",
            "2023-10-11 11:33:52,059 ----------------------------------------------------------------------------------------------------\n",
            "2023-10-11 11:33:52,062 EPOCH 100 done: loss 0.2578 - lr 0.003125\n"
          ]
        },
        {
          "output_type": "stream",
          "name": "stderr",
          "text": [
            "100%|██████████| 1/1 [00:01<00:00,  1.12s/it]"
          ]
        },
        {
          "output_type": "stream",
          "name": "stdout",
          "text": [
            "2023-10-11 11:33:53,192 Evaluating as a multi-label problem: False\n",
            "2023-10-11 11:33:53,206 DEV : loss 0.21607434749603271 - f1-score (micro avg)  0.6112\n",
            "2023-10-11 11:33:53,214 BAD EPOCHS (no improvement): 2\n",
            "2023-10-11 11:33:53,215 ----------------------------------------------------------------------------------------------------\n"
          ]
        },
        {
          "output_type": "stream",
          "name": "stderr",
          "text": [
            "\n"
          ]
        },
        {
          "output_type": "stream",
          "name": "stdout",
          "text": [
            "2023-10-11 11:33:54,211 epoch 101 - iter 1/2 - loss 0.27371799 - time (sec): 0.99 - samples/sec: 9337.28 - lr: 0.003125\n",
            "2023-10-11 11:33:55,020 epoch 101 - iter 2/2 - loss 0.26760133 - time (sec): 1.80 - samples/sec: 9424.48 - lr: 0.003125\n",
            "2023-10-11 11:33:55,024 ----------------------------------------------------------------------------------------------------\n",
            "2023-10-11 11:33:55,026 EPOCH 101 done: loss 0.2676 - lr 0.003125\n"
          ]
        },
        {
          "output_type": "stream",
          "name": "stderr",
          "text": [
            "100%|██████████| 1/1 [00:01<00:00,  1.12s/it]"
          ]
        },
        {
          "output_type": "stream",
          "name": "stdout",
          "text": [
            "2023-10-11 11:33:56,152 Evaluating as a multi-label problem: False\n",
            "2023-10-11 11:33:56,167 DEV : loss 0.21637804806232452 - f1-score (micro avg)  0.6078\n",
            "2023-10-11 11:33:56,174 BAD EPOCHS (no improvement): 3\n",
            "2023-10-11 11:33:56,175 ----------------------------------------------------------------------------------------------------\n"
          ]
        },
        {
          "output_type": "stream",
          "name": "stderr",
          "text": [
            "\n"
          ]
        },
        {
          "output_type": "stream",
          "name": "stdout",
          "text": [
            "2023-10-11 11:33:57,221 epoch 102 - iter 1/2 - loss 0.25288268 - time (sec): 1.04 - samples/sec: 9187.44 - lr: 0.003125\n",
            "2023-10-11 11:33:58,037 epoch 102 - iter 2/2 - loss 0.25813373 - time (sec): 1.86 - samples/sec: 9137.03 - lr: 0.003125\n",
            "2023-10-11 11:33:58,039 ----------------------------------------------------------------------------------------------------\n",
            "2023-10-11 11:33:58,043 EPOCH 102 done: loss 0.2581 - lr 0.003125\n"
          ]
        },
        {
          "output_type": "stream",
          "name": "stderr",
          "text": [
            "100%|██████████| 1/1 [00:01<00:00,  1.11s/it]"
          ]
        },
        {
          "output_type": "stream",
          "name": "stdout",
          "text": [
            "2023-10-11 11:33:59,164 Evaluating as a multi-label problem: False\n",
            "2023-10-11 11:33:59,179 DEV : loss 0.21621108055114746 - f1-score (micro avg)  0.6131\n",
            "2023-10-11 11:33:59,186 Epoch   102: reducing learning rate of group 0 to 1.5625e-03.\n",
            "2023-10-11 11:33:59,188 BAD EPOCHS (no improvement): 4\n",
            "2023-10-11 11:33:59,189 ----------------------------------------------------------------------------------------------------\n"
          ]
        },
        {
          "output_type": "stream",
          "name": "stderr",
          "text": [
            "\n"
          ]
        },
        {
          "output_type": "stream",
          "name": "stdout",
          "text": [
            "2023-10-11 11:34:00,032 epoch 103 - iter 1/2 - loss 0.25791676 - time (sec): 0.84 - samples/sec: 11127.54 - lr: 0.001563\n",
            "2023-10-11 11:34:00,935 epoch 103 - iter 2/2 - loss 0.24908755 - time (sec): 1.75 - samples/sec: 9740.41 - lr: 0.001563\n",
            "2023-10-11 11:34:00,940 ----------------------------------------------------------------------------------------------------\n",
            "2023-10-11 11:34:00,942 EPOCH 103 done: loss 0.2491 - lr 0.001563\n"
          ]
        },
        {
          "output_type": "stream",
          "name": "stderr",
          "text": [
            "100%|██████████| 1/1 [00:01<00:00,  1.17s/it]"
          ]
        },
        {
          "output_type": "stream",
          "name": "stdout",
          "text": [
            "2023-10-11 11:34:02,119 Evaluating as a multi-label problem: False\n",
            "2023-10-11 11:34:02,135 DEV : loss 0.21596352756023407 - f1-score (micro avg)  0.6131\n",
            "2023-10-11 11:34:02,144 BAD EPOCHS (no improvement): 1\n",
            "2023-10-11 11:34:02,145 ----------------------------------------------------------------------------------------------------\n"
          ]
        },
        {
          "output_type": "stream",
          "name": "stderr",
          "text": [
            "\n"
          ]
        },
        {
          "output_type": "stream",
          "name": "stdout",
          "text": [
            "2023-10-11 11:34:03,017 epoch 104 - iter 1/2 - loss 0.27112426 - time (sec): 0.87 - samples/sec: 10124.05 - lr: 0.001563\n",
            "2023-10-11 11:34:03,959 epoch 104 - iter 2/2 - loss 0.26498001 - time (sec): 1.81 - samples/sec: 9378.70 - lr: 0.001563\n",
            "2023-10-11 11:34:03,965 ----------------------------------------------------------------------------------------------------\n",
            "2023-10-11 11:34:03,966 EPOCH 104 done: loss 0.2650 - lr 0.001563\n"
          ]
        },
        {
          "output_type": "stream",
          "name": "stderr",
          "text": [
            "100%|██████████| 1/1 [00:01<00:00,  1.17s/it]"
          ]
        },
        {
          "output_type": "stream",
          "name": "stdout",
          "text": [
            "2023-10-11 11:34:05,145 Evaluating as a multi-label problem: False\n",
            "2023-10-11 11:34:05,165 DEV : loss 0.2156677544116974 - f1-score (micro avg)  0.6131\n",
            "2023-10-11 11:34:05,172 BAD EPOCHS (no improvement): 2\n",
            "2023-10-11 11:34:05,174 ----------------------------------------------------------------------------------------------------\n"
          ]
        },
        {
          "output_type": "stream",
          "name": "stderr",
          "text": [
            "\n"
          ]
        },
        {
          "output_type": "stream",
          "name": "stdout",
          "text": [
            "2023-10-11 11:34:06,057 epoch 105 - iter 1/2 - loss 0.24282840 - time (sec): 0.88 - samples/sec: 11280.64 - lr: 0.001563\n",
            "2023-10-11 11:34:07,276 epoch 105 - iter 2/2 - loss 0.24847013 - time (sec): 2.10 - samples/sec: 8092.36 - lr: 0.001563\n",
            "2023-10-11 11:34:07,281 ----------------------------------------------------------------------------------------------------\n",
            "2023-10-11 11:34:07,282 EPOCH 105 done: loss 0.2485 - lr 0.001563\n"
          ]
        },
        {
          "output_type": "stream",
          "name": "stderr",
          "text": [
            "100%|██████████| 1/1 [00:01<00:00,  1.13s/it]"
          ]
        },
        {
          "output_type": "stream",
          "name": "stdout",
          "text": [
            "2023-10-11 11:34:08,421 Evaluating as a multi-label problem: False\n",
            "2023-10-11 11:34:08,440 DEV : loss 0.2153431922197342 - f1-score (micro avg)  0.6131\n",
            "2023-10-11 11:34:08,449 BAD EPOCHS (no improvement): 3\n",
            "2023-10-11 11:34:08,450 ----------------------------------------------------------------------------------------------------\n"
          ]
        },
        {
          "output_type": "stream",
          "name": "stderr",
          "text": [
            "\n"
          ]
        },
        {
          "output_type": "stream",
          "name": "stdout",
          "text": [
            "2023-10-11 11:34:09,458 epoch 106 - iter 1/2 - loss 0.25448335 - time (sec): 1.01 - samples/sec: 9648.54 - lr: 0.001563\n",
            "2023-10-11 11:34:10,134 epoch 106 - iter 2/2 - loss 0.25917165 - time (sec): 1.68 - samples/sec: 10100.59 - lr: 0.001563\n",
            "2023-10-11 11:34:10,136 ----------------------------------------------------------------------------------------------------\n",
            "2023-10-11 11:34:10,140 EPOCH 106 done: loss 0.2592 - lr 0.001563\n"
          ]
        },
        {
          "output_type": "stream",
          "name": "stderr",
          "text": [
            "100%|██████████| 1/1 [00:01<00:00,  1.11s/it]"
          ]
        },
        {
          "output_type": "stream",
          "name": "stdout",
          "text": [
            "2023-10-11 11:34:11,262 Evaluating as a multi-label problem: False\n",
            "2023-10-11 11:34:11,283 DEV : loss 0.21553461253643036 - f1-score (micro avg)  0.6131\n",
            "2023-10-11 11:34:11,290 Epoch   106: reducing learning rate of group 0 to 7.8125e-04.\n",
            "2023-10-11 11:34:11,290 BAD EPOCHS (no improvement): 4\n",
            "2023-10-11 11:34:11,292 ----------------------------------------------------------------------------------------------------\n"
          ]
        },
        {
          "output_type": "stream",
          "name": "stderr",
          "text": [
            "\n"
          ]
        },
        {
          "output_type": "stream",
          "name": "stdout",
          "text": [
            "2023-10-11 11:34:12,287 epoch 107 - iter 1/2 - loss 0.24607679 - time (sec): 0.99 - samples/sec: 10201.00 - lr: 0.000781\n",
            "2023-10-11 11:34:12,910 epoch 107 - iter 2/2 - loss 0.25605630 - time (sec): 1.62 - samples/sec: 10511.44 - lr: 0.000781\n",
            "2023-10-11 11:34:12,914 ----------------------------------------------------------------------------------------------------\n",
            "2023-10-11 11:34:12,916 EPOCH 107 done: loss 0.2561 - lr 0.000781\n"
          ]
        },
        {
          "output_type": "stream",
          "name": "stderr",
          "text": [
            "100%|██████████| 1/1 [00:01<00:00,  1.10s/it]"
          ]
        },
        {
          "output_type": "stream",
          "name": "stdout",
          "text": [
            "2023-10-11 11:34:14,025 Evaluating as a multi-label problem: False\n",
            "2023-10-11 11:34:14,040 DEV : loss 0.21573179960250854 - f1-score (micro avg)  0.6146\n",
            "2023-10-11 11:34:14,046 BAD EPOCHS (no improvement): 1\n",
            "2023-10-11 11:34:14,048 ----------------------------------------------------------------------------------------------------\n"
          ]
        },
        {
          "output_type": "stream",
          "name": "stderr",
          "text": [
            "\n"
          ]
        },
        {
          "output_type": "stream",
          "name": "stdout",
          "text": [
            "2023-10-11 11:34:15,042 epoch 108 - iter 1/2 - loss 0.25495166 - time (sec): 0.99 - samples/sec: 9520.54 - lr: 0.000781\n",
            "2023-10-11 11:34:15,864 epoch 108 - iter 2/2 - loss 0.25673506 - time (sec): 1.82 - samples/sec: 9363.50 - lr: 0.000781\n",
            "2023-10-11 11:34:15,869 ----------------------------------------------------------------------------------------------------\n",
            "2023-10-11 11:34:15,871 EPOCH 108 done: loss 0.2567 - lr 0.000781\n"
          ]
        },
        {
          "output_type": "stream",
          "name": "stderr",
          "text": [
            "100%|██████████| 1/1 [00:01<00:00,  1.16s/it]"
          ]
        },
        {
          "output_type": "stream",
          "name": "stdout",
          "text": [
            "2023-10-11 11:34:17,039 Evaluating as a multi-label problem: False\n",
            "2023-10-11 11:34:17,054 DEV : loss 0.21560370922088623 - f1-score (micro avg)  0.6131\n",
            "2023-10-11 11:34:17,063 BAD EPOCHS (no improvement): 2\n",
            "2023-10-11 11:34:17,065 ----------------------------------------------------------------------------------------------------\n"
          ]
        },
        {
          "output_type": "stream",
          "name": "stderr",
          "text": [
            "\n"
          ]
        },
        {
          "output_type": "stream",
          "name": "stdout",
          "text": [
            "2023-10-11 11:34:17,942 epoch 109 - iter 1/2 - loss 0.27919593 - time (sec): 0.88 - samples/sec: 10005.95 - lr: 0.000781\n",
            "2023-10-11 11:34:18,938 epoch 109 - iter 2/2 - loss 0.26118589 - time (sec): 1.87 - samples/sec: 9084.14 - lr: 0.000781\n",
            "2023-10-11 11:34:18,943 ----------------------------------------------------------------------------------------------------\n",
            "2023-10-11 11:34:18,946 EPOCH 109 done: loss 0.2612 - lr 0.000781\n"
          ]
        },
        {
          "output_type": "stream",
          "name": "stderr",
          "text": [
            "100%|██████████| 1/1 [00:01<00:00,  1.20s/it]"
          ]
        },
        {
          "output_type": "stream",
          "name": "stdout",
          "text": [
            "2023-10-11 11:34:20,149 Evaluating as a multi-label problem: False\n",
            "2023-10-11 11:34:20,164 DEV : loss 0.21538564562797546 - f1-score (micro avg)  0.6131\n",
            "2023-10-11 11:34:20,173 BAD EPOCHS (no improvement): 3\n",
            "2023-10-11 11:34:20,174 ----------------------------------------------------------------------------------------------------\n"
          ]
        },
        {
          "output_type": "stream",
          "name": "stderr",
          "text": [
            "\n"
          ]
        },
        {
          "output_type": "stream",
          "name": "stdout",
          "text": [
            "2023-10-11 11:34:21,191 epoch 110 - iter 1/2 - loss 0.26336448 - time (sec): 1.01 - samples/sec: 8973.27 - lr: 0.000781\n",
            "2023-10-11 11:34:21,943 epoch 110 - iter 2/2 - loss 0.26220588 - time (sec): 1.77 - samples/sec: 9622.51 - lr: 0.000781\n",
            "2023-10-11 11:34:21,945 ----------------------------------------------------------------------------------------------------\n",
            "2023-10-11 11:34:21,949 EPOCH 110 done: loss 0.2622 - lr 0.000781\n"
          ]
        },
        {
          "output_type": "stream",
          "name": "stderr",
          "text": [
            "100%|██████████| 1/1 [00:01<00:00,  1.12s/it]"
          ]
        },
        {
          "output_type": "stream",
          "name": "stdout",
          "text": [
            "2023-10-11 11:34:23,074 Evaluating as a multi-label problem: False\n",
            "2023-10-11 11:34:23,088 DEV : loss 0.21558715403079987 - f1-score (micro avg)  0.6146\n",
            "2023-10-11 11:34:23,095 Epoch   110: reducing learning rate of group 0 to 3.9063e-04.\n",
            "2023-10-11 11:34:23,097 BAD EPOCHS (no improvement): 4\n",
            "2023-10-11 11:34:23,099 ----------------------------------------------------------------------------------------------------\n"
          ]
        },
        {
          "output_type": "stream",
          "name": "stderr",
          "text": [
            "\n"
          ]
        },
        {
          "output_type": "stream",
          "name": "stdout",
          "text": [
            "2023-10-11 11:34:24,439 epoch 111 - iter 1/2 - loss 0.25369120 - time (sec): 1.34 - samples/sec: 7187.04 - lr: 0.000391\n",
            "2023-10-11 11:34:25,185 epoch 111 - iter 2/2 - loss 0.25172128 - time (sec): 2.08 - samples/sec: 8153.49 - lr: 0.000391\n",
            "2023-10-11 11:34:25,189 ----------------------------------------------------------------------------------------------------\n",
            "2023-10-11 11:34:25,191 EPOCH 111 done: loss 0.2517 - lr 0.000391\n"
          ]
        },
        {
          "output_type": "stream",
          "name": "stderr",
          "text": [
            "100%|██████████| 1/1 [00:01<00:00,  1.14s/it]"
          ]
        },
        {
          "output_type": "stream",
          "name": "stdout",
          "text": [
            "2023-10-11 11:34:26,337 Evaluating as a multi-label problem: False\n",
            "2023-10-11 11:34:26,359 DEV : loss 0.21556340157985687 - f1-score (micro avg)  0.6146\n",
            "2023-10-11 11:34:26,366 BAD EPOCHS (no improvement): 1\n",
            "2023-10-11 11:34:26,367 ----------------------------------------------------------------------------------------------------\n"
          ]
        },
        {
          "output_type": "stream",
          "name": "stderr",
          "text": [
            "\n"
          ]
        },
        {
          "output_type": "stream",
          "name": "stdout",
          "text": [
            "2023-10-11 11:34:27,203 epoch 112 - iter 1/2 - loss 0.27396661 - time (sec): 0.83 - samples/sec: 11232.46 - lr: 0.000391\n",
            "2023-10-11 11:34:28,133 epoch 112 - iter 2/2 - loss 0.25947082 - time (sec): 1.76 - samples/sec: 9635.21 - lr: 0.000391\n",
            "2023-10-11 11:34:28,137 ----------------------------------------------------------------------------------------------------\n",
            "2023-10-11 11:34:28,140 EPOCH 112 done: loss 0.2595 - lr 0.000391\n"
          ]
        },
        {
          "output_type": "stream",
          "name": "stderr",
          "text": [
            "100%|██████████| 1/1 [00:01<00:00,  1.15s/it]"
          ]
        },
        {
          "output_type": "stream",
          "name": "stdout",
          "text": [
            "2023-10-11 11:34:29,294 Evaluating as a multi-label problem: False\n",
            "2023-10-11 11:34:29,309 DEV : loss 0.21553605794906616 - f1-score (micro avg)  0.6146\n",
            "2023-10-11 11:34:29,316 BAD EPOCHS (no improvement): 2\n",
            "2023-10-11 11:34:29,318 ----------------------------------------------------------------------------------------------------\n"
          ]
        },
        {
          "output_type": "stream",
          "name": "stderr",
          "text": [
            "\n"
          ]
        },
        {
          "output_type": "stream",
          "name": "stdout",
          "text": [
            "2023-10-11 11:34:30,341 epoch 113 - iter 1/2 - loss 0.27656267 - time (sec): 1.02 - samples/sec: 8986.44 - lr: 0.000391\n",
            "2023-10-11 11:34:31,186 epoch 113 - iter 2/2 - loss 0.25791199 - time (sec): 1.87 - samples/sec: 9105.88 - lr: 0.000391\n",
            "2023-10-11 11:34:31,190 ----------------------------------------------------------------------------------------------------\n",
            "2023-10-11 11:34:31,193 EPOCH 113 done: loss 0.2579 - lr 0.000391\n"
          ]
        },
        {
          "output_type": "stream",
          "name": "stderr",
          "text": [
            "100%|██████████| 1/1 [00:01<00:00,  1.16s/it]"
          ]
        },
        {
          "output_type": "stream",
          "name": "stdout",
          "text": [
            "2023-10-11 11:34:32,364 Evaluating as a multi-label problem: False\n",
            "2023-10-11 11:34:32,388 DEV : loss 0.21556340157985687 - f1-score (micro avg)  0.6146\n",
            "2023-10-11 11:34:32,395 BAD EPOCHS (no improvement): 3\n",
            "2023-10-11 11:34:32,397 ----------------------------------------------------------------------------------------------------\n"
          ]
        },
        {
          "output_type": "stream",
          "name": "stderr",
          "text": [
            "\n"
          ]
        },
        {
          "output_type": "stream",
          "name": "stdout",
          "text": [
            "2023-10-11 11:34:33,364 epoch 114 - iter 1/2 - loss 0.26865013 - time (sec): 0.97 - samples/sec: 10347.64 - lr: 0.000391\n",
            "2023-10-11 11:34:34,272 epoch 114 - iter 2/2 - loss 0.26290372 - time (sec): 1.87 - samples/sec: 9073.96 - lr: 0.000391\n",
            "2023-10-11 11:34:34,276 ----------------------------------------------------------------------------------------------------\n",
            "2023-10-11 11:34:34,279 EPOCH 114 done: loss 0.2629 - lr 0.000391\n"
          ]
        },
        {
          "output_type": "stream",
          "name": "stderr",
          "text": [
            "100%|██████████| 1/1 [00:01<00:00,  1.14s/it]"
          ]
        },
        {
          "output_type": "stream",
          "name": "stdout",
          "text": [
            "2023-10-11 11:34:35,429 Evaluating as a multi-label problem: False\n",
            "2023-10-11 11:34:35,451 DEV : loss 0.21555836498737335 - f1-score (micro avg)  0.6146\n",
            "2023-10-11 11:34:35,459 Epoch   114: reducing learning rate of group 0 to 1.9531e-04.\n",
            "2023-10-11 11:34:35,461 BAD EPOCHS (no improvement): 4\n",
            "2023-10-11 11:34:35,462 ----------------------------------------------------------------------------------------------------\n"
          ]
        },
        {
          "output_type": "stream",
          "name": "stderr",
          "text": [
            "\n"
          ]
        },
        {
          "output_type": "stream",
          "name": "stdout",
          "text": [
            "2023-10-11 11:34:36,379 epoch 115 - iter 1/2 - loss 0.25918216 - time (sec): 0.91 - samples/sec: 10639.81 - lr: 0.000195\n",
            "2023-10-11 11:34:37,280 epoch 115 - iter 2/2 - loss 0.25739982 - time (sec): 1.82 - samples/sec: 9363.67 - lr: 0.000195\n",
            "2023-10-11 11:34:37,283 ----------------------------------------------------------------------------------------------------\n",
            "2023-10-11 11:34:37,284 EPOCH 115 done: loss 0.2574 - lr 0.000195\n"
          ]
        },
        {
          "output_type": "stream",
          "name": "stderr",
          "text": [
            "100%|██████████| 1/1 [00:01<00:00,  1.13s/it]"
          ]
        },
        {
          "output_type": "stream",
          "name": "stdout",
          "text": [
            "2023-10-11 11:34:38,419 Evaluating as a multi-label problem: False\n",
            "2023-10-11 11:34:38,442 DEV : loss 0.21552886068820953 - f1-score (micro avg)  0.6146\n",
            "2023-10-11 11:34:38,449 BAD EPOCHS (no improvement): 1\n",
            "2023-10-11 11:34:38,451 ----------------------------------------------------------------------------------------------------\n"
          ]
        },
        {
          "output_type": "stream",
          "name": "stderr",
          "text": [
            "\n"
          ]
        },
        {
          "output_type": "stream",
          "name": "stdout",
          "text": [
            "2023-10-11 11:34:39,464 epoch 116 - iter 1/2 - loss 0.23711036 - time (sec): 1.01 - samples/sec: 9772.89 - lr: 0.000195\n",
            "2023-10-11 11:34:40,194 epoch 116 - iter 2/2 - loss 0.25734444 - time (sec): 1.74 - samples/sec: 9755.23 - lr: 0.000195\n",
            "2023-10-11 11:34:40,198 ----------------------------------------------------------------------------------------------------\n",
            "2023-10-11 11:34:40,201 EPOCH 116 done: loss 0.2573 - lr 0.000195\n"
          ]
        },
        {
          "output_type": "stream",
          "name": "stderr",
          "text": [
            "100%|██████████| 1/1 [00:01<00:00,  1.12s/it]"
          ]
        },
        {
          "output_type": "stream",
          "name": "stdout",
          "text": [
            "2023-10-11 11:34:41,328 Evaluating as a multi-label problem: False\n",
            "2023-10-11 11:34:41,349 DEV : loss 0.21550080180168152 - f1-score (micro avg)  0.6146\n",
            "2023-10-11 11:34:41,356 BAD EPOCHS (no improvement): 2\n",
            "2023-10-11 11:34:41,358 ----------------------------------------------------------------------------------------------------\n"
          ]
        },
        {
          "output_type": "stream",
          "name": "stderr",
          "text": [
            "\n"
          ]
        },
        {
          "output_type": "stream",
          "name": "stdout",
          "text": [
            "2023-10-11 11:34:42,565 epoch 117 - iter 1/2 - loss 0.24826554 - time (sec): 1.21 - samples/sec: 7396.16 - lr: 0.000195\n",
            "2023-10-11 11:34:43,483 epoch 117 - iter 2/2 - loss 0.25897610 - time (sec): 2.12 - samples/sec: 8000.75 - lr: 0.000195\n",
            "2023-10-11 11:34:43,488 ----------------------------------------------------------------------------------------------------\n",
            "2023-10-11 11:34:43,489 EPOCH 117 done: loss 0.2590 - lr 0.000195\n"
          ]
        },
        {
          "output_type": "stream",
          "name": "stderr",
          "text": [
            "100%|██████████| 1/1 [00:01<00:00,  1.12s/it]"
          ]
        },
        {
          "output_type": "stream",
          "name": "stdout",
          "text": [
            "2023-10-11 11:34:44,621 Evaluating as a multi-label problem: False\n",
            "2023-10-11 11:34:44,635 DEV : loss 0.21553246676921844 - f1-score (micro avg)  0.6146\n",
            "2023-10-11 11:34:44,642 BAD EPOCHS (no improvement): 3\n",
            "2023-10-11 11:34:44,643 ----------------------------------------------------------------------------------------------------\n"
          ]
        },
        {
          "output_type": "stream",
          "name": "stderr",
          "text": [
            "\n"
          ]
        },
        {
          "output_type": "stream",
          "name": "stdout",
          "text": [
            "2023-10-11 11:34:45,702 epoch 118 - iter 1/2 - loss 0.25127929 - time (sec): 1.06 - samples/sec: 9179.62 - lr: 0.000195\n",
            "2023-10-11 11:34:46,522 epoch 118 - iter 2/2 - loss 0.25801448 - time (sec): 1.88 - samples/sec: 9053.69 - lr: 0.000195\n",
            "2023-10-11 11:34:46,527 ----------------------------------------------------------------------------------------------------\n",
            "2023-10-11 11:34:46,530 EPOCH 118 done: loss 0.2580 - lr 0.000195\n"
          ]
        },
        {
          "output_type": "stream",
          "name": "stderr",
          "text": [
            "100%|██████████| 1/1 [00:01<00:00,  1.16s/it]"
          ]
        },
        {
          "output_type": "stream",
          "name": "stdout",
          "text": [
            "2023-10-11 11:34:47,698 Evaluating as a multi-label problem: False\n",
            "2023-10-11 11:34:47,716 DEV : loss 0.21553461253643036 - f1-score (micro avg)  0.6146\n",
            "2023-10-11 11:34:47,724 Epoch   118: reducing learning rate of group 0 to 9.7656e-05.\n",
            "2023-10-11 11:34:47,725 BAD EPOCHS (no improvement): 4\n",
            "2023-10-11 11:34:47,727 ----------------------------------------------------------------------------------------------------\n",
            "2023-10-11 11:34:47,728 ----------------------------------------------------------------------------------------------------\n",
            "2023-10-11 11:34:47,730 learning rate too small - quitting training!\n",
            "2023-10-11 11:34:47,732 ----------------------------------------------------------------------------------------------------\n"
          ]
        },
        {
          "output_type": "stream",
          "name": "stderr",
          "text": [
            "\n"
          ]
        },
        {
          "output_type": "stream",
          "name": "stdout",
          "text": [
            "2023-10-11 11:34:48,480 ----------------------------------------------------------------------------------------------------\n",
            "2023-10-11 11:34:49,003 SequenceTagger predicts: Dictionary with 23 tags: O, S-WINNER, B-WINNER, E-WINNER, I-WINNER, S-DATE, B-DATE, E-DATE, I-DATE, S-NATIONALITY, B-NATIONALITY, E-NATIONALITY, I-NATIONALITY, S-PRIZETYPE, B-PRIZETYPE, E-PRIZETYPE, I-PRIZETYPE, S-REASON, B-REASON, E-REASON, I-REASON, <START>, <STOP>\n"
          ]
        },
        {
          "output_type": "stream",
          "name": "stderr",
          "text": [
            "100%|██████████| 1/1 [00:00<00:00,  2.18it/s]"
          ]
        },
        {
          "output_type": "stream",
          "name": "stdout",
          "text": [
            "2023-10-11 11:34:49,548 Evaluating as a multi-label problem: False\n",
            "2023-10-11 11:34:49,562 0.6489\t0.4106\t0.503\t0.336\n",
            "2023-10-11 11:34:49,564 \n",
            "Results:\n",
            "- F-score (micro) 0.503\n",
            "- F-score (macro) 0.4216\n",
            "- Accuracy 0.336\n",
            "\n",
            "By class:\n",
            "              precision    recall  f1-score   support\n",
            "\n",
            "      WINNER     0.5200    0.2955    0.3768        88\n",
            "        DATE     0.7736    0.6308    0.6949        65\n",
            " NATIONALITY     0.7059    0.3158    0.4364        38\n",
            "   PRIZETYPE     0.5455    0.6667    0.6000         9\n",
            "      REASON     0.0000    0.0000    0.0000         7\n",
            "\n",
            "   micro avg     0.6489    0.4106    0.5030       207\n",
            "   macro avg     0.5090    0.3817    0.4216       207\n",
            "weighted avg     0.6173    0.4106    0.4846       207\n",
            "\n",
            "2023-10-11 11:34:49,566 ----------------------------------------------------------------------------------------------------\n"
          ]
        },
        {
          "output_type": "stream",
          "name": "stderr",
          "text": [
            "\n"
          ]
        },
        {
          "output_type": "execute_result",
          "data": {
            "text/plain": [
              "{'test_score': 0.5029585798816568,\n",
              " 'dev_score_history': [0.0,\n",
              "  0.0,\n",
              "  0.0,\n",
              "  0.0,\n",
              "  0.0,\n",
              "  0.0,\n",
              "  0.0,\n",
              "  0.0,\n",
              "  0.0,\n",
              "  0.0,\n",
              "  0.0,\n",
              "  0.0,\n",
              "  0.0,\n",
              "  0.0,\n",
              "  0.0,\n",
              "  0.0,\n",
              "  0.0,\n",
              "  0.0,\n",
              "  0.0,\n",
              "  0.0,\n",
              "  0.0,\n",
              "  0.0,\n",
              "  0.0,\n",
              "  0.0,\n",
              "  0.0,\n",
              "  0.0,\n",
              "  0.0,\n",
              "  0.0,\n",
              "  0.0,\n",
              "  0.0,\n",
              "  0.0,\n",
              "  0.0,\n",
              "  0.0,\n",
              "  0.0,\n",
              "  0.0,\n",
              "  0.0,\n",
              "  0.0,\n",
              "  0.0,\n",
              "  0.0,\n",
              "  0.0,\n",
              "  0.0,\n",
              "  0.021052631578947368,\n",
              "  0.021352313167259787,\n",
              "  0.0410958904109589,\n",
              "  0.03472222222222222,\n",
              "  0.11147540983606558,\n",
              "  0.0352112676056338,\n",
              "  0.03745318352059925,\n",
              "  0.15333333333333335,\n",
              "  0.036101083032490974,\n",
              "  0.0704225352112676,\n",
              "  0.0586080586080586,\n",
              "  0.14864864864864866,\n",
              "  0.1901639344262295,\n",
              "  0.20846905537459282,\n",
              "  0.16611295681063123,\n",
              "  0.3657142857142857,\n",
              "  0.25,\n",
              "  0.3573487031700288,\n",
              "  0.46875,\n",
              "  0.49104859335038364,\n",
              "  0.5270935960591132,\n",
              "  0.5051020408163265,\n",
              "  0.5339805825242719,\n",
              "  0.5257985257985257,\n",
              "  0.5239294710327456,\n",
              "  0.5454545454545454,\n",
              "  0.558252427184466,\n",
              "  0.5413533834586466,\n",
              "  0.5202020202020202,\n",
              "  0.5289672544080605,\n",
              "  0.5673076923076923,\n",
              "  0.5472636815920398,\n",
              "  0.6,\n",
              "  0.5942028985507246,\n",
              "  0.5763546798029557,\n",
              "  0.5922330097087379,\n",
              "  0.6310904872389792,\n",
              "  0.5656565656565656,\n",
              "  0.5888077858880778,\n",
              "  0.6004842615012106,\n",
              "  0.6327944572748269,\n",
              "  0.6232558139534884,\n",
              "  0.6142857142857143,\n",
              "  0.628175519630485,\n",
              "  0.48219178082191777,\n",
              "  0.5699745547073791,\n",
              "  0.6004842615012106,\n",
              "  0.6048780487804879,\n",
              "  0.6,\n",
              "  0.6285714285714286,\n",
              "  0.589108910891089,\n",
              "  0.5905707196029777,\n",
              "  0.6059113300492611,\n",
              "  0.6146341463414633,\n",
              "  0.6146341463414633,\n",
              "  0.6112469437652812,\n",
              "  0.6093366093366094,\n",
              "  0.6112469437652812,\n",
              "  0.6112469437652812,\n",
              "  0.607843137254902,\n",
              "  0.6131386861313869,\n",
              "  0.6131386861313869,\n",
              "  0.6131386861313869,\n",
              "  0.6131386861313869,\n",
              "  0.6131386861313869,\n",
              "  0.6146341463414633,\n",
              "  0.6131386861313869,\n",
              "  0.6131386861313869,\n",
              "  0.6146341463414633,\n",
              "  0.6146341463414633,\n",
              "  0.6146341463414633,\n",
              "  0.6146341463414633,\n",
              "  0.6146341463414633,\n",
              "  0.6146341463414633,\n",
              "  0.6146341463414633,\n",
              "  0.6146341463414633,\n",
              "  0.6146341463414633],\n",
              " 'train_loss_history': [3.376995978860294,\n",
              "  1.7160002297794117,\n",
              "  0.92923046875,\n",
              "  0.8494117647058823,\n",
              "  0.8357789522058824,\n",
              "  0.8138198529411764,\n",
              "  0.7739964384191177,\n",
              "  0.774055606617647,\n",
              "  0.7832775735294117,\n",
              "  0.7572502297794118,\n",
              "  0.7451403952205883,\n",
              "  0.7536906020220588,\n",
              "  0.7233938419117647,\n",
              "  0.7292410386029412,\n",
              "  0.7203704044117647,\n",
              "  0.7073260569852942,\n",
              "  0.6945971966911765,\n",
              "  0.6769885110294117,\n",
              "  0.6743274356617647,\n",
              "  0.679936465992647,\n",
              "  0.6703166360294117,\n",
              "  0.6629076286764706,\n",
              "  0.64934375,\n",
              "  0.6441403952205882,\n",
              "  0.648836856617647,\n",
              "  0.6177823988970588,\n",
              "  0.6260730698529412,\n",
              "  0.6232288602941176,\n",
              "  0.6175381433823529,\n",
              "  0.5932171415441176,\n",
              "  0.5969225643382353,\n",
              "  0.5754432444852942,\n",
              "  0.5705884650735294,\n",
              "  0.560133731617647,\n",
              "  0.5556734834558823,\n",
              "  0.5547964154411764,\n",
              "  0.5239494485294117,\n",
              "  0.5206909466911764,\n",
              "  0.5219457720588235,\n",
              "  0.5084639246323529,\n",
              "  0.4953419117647059,\n",
              "  0.4983986672794118,\n",
              "  0.4804131433823529,\n",
              "  0.47876148897058823,\n",
              "  0.4559590992647059,\n",
              "  0.4467394301470588,\n",
              "  0.4186551011029412,\n",
              "  0.4220697380514706,\n",
              "  0.4363168658088235,\n",
              "  0.4138568474264706,\n",
              "  0.42278550091911765,\n",
              "  0.3979751838235294,\n",
              "  0.4001960018382353,\n",
              "  0.38269623161764704,\n",
              "  0.3598223805147059,\n",
              "  0.35753837316176473,\n",
              "  0.34761764705882353,\n",
              "  0.3540434283088235,\n",
              "  0.33668910845588235,\n",
              "  0.33446185661764705,\n",
              "  0.33255261948529413,\n",
              "  0.3376767003676471,\n",
              "  0.33120818014705883,\n",
              "  0.3346321231617647,\n",
              "  0.3281971507352941,\n",
              "  0.32220932904411764,\n",
              "  0.3196220128676471,\n",
              "  0.3213605238970588,\n",
              "  0.31660363051470586,\n",
              "  0.3227989430147059,\n",
              "  0.3035813419117647,\n",
              "  0.30332306985294116,\n",
              "  0.3114988511029412,\n",
              "  0.3069159007352941,\n",
              "  0.3005344669117647,\n",
              "  0.2956946231617647,\n",
              "  0.2905916819852941,\n",
              "  0.29662017463235296,\n",
              "  0.2993338694852941,\n",
              "  0.28112936580882353,\n",
              "  0.2790404411764706,\n",
              "  0.28384352022058823,\n",
              "  0.28136810661764705,\n",
              "  0.29118336397058825,\n",
              "  0.2736617647058823,\n",
              "  0.2759434742647059,\n",
              "  0.26873529411764707,\n",
              "  0.2669211856617647,\n",
              "  0.27159466911764707,\n",
              "  0.26191590073529414,\n",
              "  0.2700735294117647,\n",
              "  0.2590988051470588,\n",
              "  0.2665234375,\n",
              "  0.25861534926470586,\n",
              "  0.2554901194852941,\n",
              "  0.2597286305147059,\n",
              "  0.25730882352941176,\n",
              "  0.2530528492647059,\n",
              "  0.26439269301470586,\n",
              "  0.25784122242647056,\n",
              "  0.2676013327205882,\n",
              "  0.2581337316176471,\n",
              "  0.24908754595588237,\n",
              "  0.2649800091911765,\n",
              "  0.2484701286764706,\n",
              "  0.2591716452205882,\n",
              "  0.25605629595588236,\n",
              "  0.2567350643382353,\n",
              "  0.26118589154411764,\n",
              "  0.2622058823529412,\n",
              "  0.2517212775735294,\n",
              "  0.2594708180147059,\n",
              "  0.2579119944852941,\n",
              "  0.2629037224264706,\n",
              "  0.25739981617647056,\n",
              "  0.2573444393382353,\n",
              "  0.25897610294117646,\n",
              "  0.2580144761029412],\n",
              " 'dev_loss_history': [2.057619094848633,\n",
              "  0.9642338752746582,\n",
              "  0.8958144187927246,\n",
              "  0.8560970425605774,\n",
              "  0.8289098143577576,\n",
              "  0.8094847202301025,\n",
              "  0.793226420879364,\n",
              "  0.7823982238769531,\n",
              "  0.774299681186676,\n",
              "  0.7670765519142151,\n",
              "  0.7590650916099548,\n",
              "  0.7516670823097229,\n",
              "  0.7417589426040649,\n",
              "  0.7336035370826721,\n",
              "  0.7264682650566101,\n",
              "  0.7188417911529541,\n",
              "  0.7136221528053284,\n",
              "  0.7044495344161987,\n",
              "  0.6973199844360352,\n",
              "  0.6941431164741516,\n",
              "  0.6858984231948853,\n",
              "  0.6786814332008362,\n",
              "  0.6712226867675781,\n",
              "  0.6641182899475098,\n",
              "  0.6576144695281982,\n",
              "  0.6495993733406067,\n",
              "  0.6444798111915588,\n",
              "  0.6357979774475098,\n",
              "  0.6259791254997253,\n",
              "  0.614525556564331,\n",
              "  0.6039924025535583,\n",
              "  0.5945160984992981,\n",
              "  0.5860260128974915,\n",
              "  0.5725293755531311,\n",
              "  0.5629523396492004,\n",
              "  0.5539293885231018,\n",
              "  0.5387527346611023,\n",
              "  0.5297092199325562,\n",
              "  0.5133642554283142,\n",
              "  0.50074702501297,\n",
              "  0.4882366359233856,\n",
              "  0.4788711369037628,\n",
              "  0.4814258813858032,\n",
              "  0.4751242995262146,\n",
              "  0.4720456302165985,\n",
              "  0.4452455937862396,\n",
              "  0.4442974627017975,\n",
              "  0.4384348392486572,\n",
              "  0.40213361382484436,\n",
              "  0.43238943815231323,\n",
              "  0.4120381474494934,\n",
              "  0.4010721445083618,\n",
              "  0.38879063725471497,\n",
              "  0.3569476306438446,\n",
              "  0.34873250126838684,\n",
              "  0.34850364923477173,\n",
              "  0.32779398560523987,\n",
              "  0.3184698522090912,\n",
              "  0.3066575527191162,\n",
              "  0.29995402693748474,\n",
              "  0.30168622732162476,\n",
              "  0.2945469617843628,\n",
              "  0.29093071818351746,\n",
              "  0.2869024872779846,\n",
              "  0.283656507730484,\n",
              "  0.2806195914745331,\n",
              "  0.27714404463768005,\n",
              "  0.27126920223236084,\n",
              "  0.27003213763237,\n",
              "  0.26835572719573975,\n",
              "  0.26325663924217224,\n",
              "  0.2602819800376892,\n",
              "  0.25779810547828674,\n",
              "  0.2598091661930084,\n",
              "  0.2539249658584595,\n",
              "  0.2487093210220337,\n",
              "  0.2471948117017746,\n",
              "  0.24535468220710754,\n",
              "  0.24199391901493073,\n",
              "  0.23859573900699615,\n",
              "  0.23521016538143158,\n",
              "  0.23673473298549652,\n",
              "  0.23679770529270172,\n",
              "  0.23156441748142242,\n",
              "  0.22868402302265167,\n",
              "  0.23903976380825043,\n",
              "  0.23326531052589417,\n",
              "  0.22584502398967743,\n",
              "  0.22306933999061584,\n",
              "  0.22247850894927979,\n",
              "  0.21885435283184052,\n",
              "  0.2212032824754715,\n",
              "  0.2200252264738083,\n",
              "  0.21986906230449677,\n",
              "  0.21720996499061584,\n",
              "  0.2176770120859146,\n",
              "  0.2174272984266281,\n",
              "  0.2171962857246399,\n",
              "  0.21642626821994781,\n",
              "  0.21607434749603271,\n",
              "  0.21637804806232452,\n",
              "  0.21621108055114746,\n",
              "  0.21596352756023407,\n",
              "  0.2156677544116974,\n",
              "  0.2153431922197342,\n",
              "  0.21553461253643036,\n",
              "  0.21573179960250854,\n",
              "  0.21560370922088623,\n",
              "  0.21538564562797546,\n",
              "  0.21558715403079987,\n",
              "  0.21556340157985687,\n",
              "  0.21553605794906616,\n",
              "  0.21556340157985687,\n",
              "  0.21555836498737335,\n",
              "  0.21552886068820953,\n",
              "  0.21550080180168152,\n",
              "  0.21553246676921844,\n",
              "  0.21553461253643036]}"
            ]
          },
          "metadata": {},
          "execution_count": 12
        }
      ]
    },
    {
      "cell_type": "code",
      "source": [
        "from flair.data import Sentence\n",
        "from flair.models import SequenceTagger\n",
        "\n",
        "# load the trained model\n",
        "model = SequenceTagger.load(\"resources/taggers/ner/final-model.pt\")\n",
        "\n",
        "# create example sentence\n",
        "sentence = Sentence('Barack Hussein Obama II ( born August 4, 1961) is an American politician who served as the 44th president of the United States from 2009 to 2017. A member of the Democratic Party, he was the first African-American president. Obama previously served as a U.S. senator representing Illinois from 2005 to 2008 and as an Illinois state senator from 1997 to 2004, and worked as a civil rights lawyer and university lecturer. ')\n",
        "\n",
        "# predict the tags\n",
        "model.predict(sentence)\n",
        "print(sentence.to_tagged_string())"
      ],
      "metadata": {
        "colab": {
          "base_uri": "https://localhost:8080/"
        },
        "id": "W0lI19utv81D",
        "outputId": "cb49f344-99bc-4caa-97d3-57546670fa20"
      },
      "execution_count": null,
      "outputs": [
        {
          "output_type": "stream",
          "name": "stdout",
          "text": [
            "2023-10-11 11:45:49,348 SequenceTagger predicts: Dictionary with 23 tags: O, S-WINNER, B-WINNER, E-WINNER, I-WINNER, S-DATE, B-DATE, E-DATE, I-DATE, S-NATIONALITY, B-NATIONALITY, E-NATIONALITY, I-NATIONALITY, S-PRIZETYPE, B-PRIZETYPE, E-PRIZETYPE, I-PRIZETYPE, S-REASON, B-REASON, E-REASON, I-REASON, <START>, <STOP>\n",
            "Sentence[79]: \"Barack Hussein Obama II ( born August 4, 1961) is an American politician who served as the 44th president of the United States from 2009 to 2017. A member of the Democratic Party, he was the first African-American president. Obama previously served as a U.S. senator representing Illinois from 2005 to 2008 and as an Illinois state senator from 1997 to 2004, and worked as a civil rights lawyer and university lecturer.\" → [\"August 4, 1961\"/DATE, \"American\"/NATIONALITY, \"he\"/WINNER, \"U.S.\"/NATIONALITY]\n"
          ]
        }
      ]
    },
    {
      "cell_type": "code",
      "source": [
        "from flair.embeddings import TransformerWordEmbeddings\n",
        "from flair.models import RelationExtractor\n",
        "\n",
        "relation_label_dict = corpus.make_label_dictionary(label_type=\"relation\")\n",
        "embeddings = TransformerWordEmbeddings()\n",
        "results_base_path = 'resources/relations/'\n",
        "model: RelationExtractor = RelationExtractor(\n",
        "        embeddings=embeddings,\n",
        "        label_dictionary=relation_label_dict,\n",
        "        label_type=\"relation\",\n",
        "        entity_label_type=\"ner\",\n",
        "        train_on_gold_pairs_only=True,\n",
        "    )\n",
        "\n",
        "trainer: ModelTrainer = ModelTrainer(model, corpus)\n",
        "\n",
        "trainer.train(\n",
        "        results_base_path,\n",
        "        learning_rate=0.1,\n",
        "        mini_batch_size=2,\n",
        "        max_epochs=3,\n",
        "        shuffle=False,\n",
        "    )"
      ],
      "metadata": {
        "colab": {
          "base_uri": "https://localhost:8080/",
          "height": 367
        },
        "id": "1VWjTu33jy3U",
        "outputId": "ecb0a085-98cb-4813-984e-5d45ea0579b6"
      },
      "execution_count": null,
      "outputs": [
        {
          "output_type": "stream",
          "name": "stdout",
          "text": [
            "2023-10-11 11:49:56,894 Computing label dictionary. Progress:\n"
          ]
        },
        {
          "output_type": "stream",
          "name": "stderr",
          "text": [
            "57it [00:00, 18025.74it/s]"
          ]
        },
        {
          "output_type": "stream",
          "name": "stdout",
          "text": [
            "2023-10-11 11:49:56,904 ERROR: You specified label_type='relation' which is not in this dataset!\n",
            "2023-10-11 11:49:56,905 ERROR: The corpus contains the following label types: 'ner' (in 57 sentences)\n"
          ]
        },
        {
          "output_type": "stream",
          "name": "stderr",
          "text": [
            "\n"
          ]
        },
        {
          "output_type": "error",
          "ename": "Exception",
          "evalue": "ignored",
          "traceback": [
            "\u001b[0;31m---------------------------------------------------------------------------\u001b[0m",
            "\u001b[0;31mException\u001b[0m                                 Traceback (most recent call last)",
            "\u001b[0;32m<ipython-input-18-c940babd55c4>\u001b[0m in \u001b[0;36m<cell line: 1>\u001b[0;34m()\u001b[0m\n\u001b[0;32m----> 1\u001b[0;31m \u001b[0mrelation_label_dict\u001b[0m \u001b[0;34m=\u001b[0m \u001b[0mcorpus\u001b[0m\u001b[0;34m.\u001b[0m\u001b[0mmake_label_dictionary\u001b[0m\u001b[0;34m(\u001b[0m\u001b[0mlabel_type\u001b[0m\u001b[0;34m=\u001b[0m\u001b[0;34m\"relation\"\u001b[0m\u001b[0;34m)\u001b[0m\u001b[0;34m\u001b[0m\u001b[0;34m\u001b[0m\u001b[0m\n\u001b[0m",
            "\u001b[0;32m/usr/local/lib/python3.10/dist-packages/flair/data.py\u001b[0m in \u001b[0;36mmake_label_dictionary\u001b[0;34m(self, label_type, min_count, add_unk, add_dev_test)\u001b[0m\n\u001b[1;32m   1498\u001b[0m             )\n\u001b[1;32m   1499\u001b[0m             \u001b[0mlog\u001b[0m\u001b[0;34m.\u001b[0m\u001b[0merror\u001b[0m\u001b[0;34m(\u001b[0m\u001b[0;34mf\"ERROR: The corpus contains the following label types: {contained_labels}\"\u001b[0m\u001b[0;34m)\u001b[0m\u001b[0;34m\u001b[0m\u001b[0;34m\u001b[0m\u001b[0m\n\u001b[0;32m-> 1500\u001b[0;31m             \u001b[0;32mraise\u001b[0m \u001b[0mException\u001b[0m\u001b[0;34m\u001b[0m\u001b[0;34m\u001b[0m\u001b[0m\n\u001b[0m\u001b[1;32m   1501\u001b[0m \u001b[0;34m\u001b[0m\u001b[0m\n\u001b[1;32m   1502\u001b[0m         log.info(\n",
            "\u001b[0;31mException\u001b[0m: "
          ]
        }
      ]
    },
    {
      "cell_type": "code",
      "source": [
        "import json\n",
        "file = {}\n",
        "with open('annotated.json') as f:\n",
        "    file = json.load(f)\n",
        "    # print(file[1]['annotations'])\n",
        "\n"
      ],
      "metadata": {
        "id": "gS7rBxfhnZVV"
      },
      "execution_count": null,
      "outputs": []
    },
    {
      "cell_type": "code",
      "source": [],
      "metadata": {
        "id": "rbwNJ_QF7D9h"
      },
      "execution_count": null,
      "outputs": []
    },
    {
      "cell_type": "code",
      "source": [
        "from jinja2.nodes import If\n",
        "import re\n",
        "\n",
        "position = 0\n",
        "next_label = 0\n",
        "labels = [item for item in file[0]['annotations'][0]['result'] if item['type'] == 'labels']\n",
        "item_count = 1\n",
        "ids = {} # count -> id\n",
        "# Start of a document, so we write the relations down\n",
        "# relations = 7;7;1;2;founded_by|7;7;4;5;founded_by\n",
        "for item in [item for item in re.split(r'(\\s+)|([\\(,\\.\\)\\\\;:$*&\"-])|(\\'\\w+)|(\\')', file[0]['data']['text']) if item]:\n",
        "  if re.search(r'\\s+', item):\n",
        "    position += len(item)\n",
        "    continue\n",
        "  start = position\n",
        "  end = position + len(item)\n",
        "  row = f'{item_count}\\t{item}'\n",
        "  label = '\\tO'\n",
        "  if start >= labels[next_label]['value']['start'] and end <= labels[next_label]['value']['end']:\n",
        "    # the current item has a label, and might have a relation\n",
        "    id = labels[next_label][\"id\"]\n",
        "    ids[item_count] = id\n",
        "    if start == labels[next_label]['value']['start']:\n",
        "      # Current Item is start of a label\n",
        "      label = '\\tB-' + labels[next_label][\"value\"][\"labels\"][0]\n",
        "    else:\n",
        "      # Current item is inside a label\n",
        "      label = '\\tI-' + labels[next_label][\"value\"][\"labels\"][0]\n",
        "\n",
        "    if end >= labels[next_label]['value']['end']:\n",
        "      next_label += 1\n",
        "\n",
        "  # relations = [item for item in file[0]['annotations'][0]['result'] if item['type'] == 'relation']\n",
        "  row = row + label\n",
        "  position += len(item)\n",
        "  item_count += 1\n",
        "\n",
        "\n",
        "# print(re.find(r'(\\s+|([\\(,\\.\\)\\\\])|(\\'\\w+)|(\\')', file[0]['data']['text']))\n"
      ],
      "metadata": {
        "id": "zTzQISuAxCnW"
      },
      "execution_count": null,
      "outputs": []
    },
    {
      "cell_type": "code",
      "source": [
        "line = '# relations = '\n",
        "keys = ids.keys()\n",
        "relations = [item for item in file[0]['annotations'][0]['result'] if item['type'] == 'relation']\n",
        "print(relations)\n",
        "for relation in relations:\n",
        "  from_ids = []\n",
        "  to_ids = []\n",
        "  rel_type = relation['labels'][0]\n",
        "  for key in keys:\n",
        "    if ids[key] == relation['from_id']:\n",
        "      from_ids.append(key)\n",
        "    if ids[key] == relation['to_id']:\n",
        "      to_ids.append(key)\n",
        "  from_ids = [int(i) for i in from_ids].sorted()\n",
        "  to_ids = [int(i) for i in to_ids].sorted()\n",
        "  f'{from_ids[0]};{from_ids[-1]};{to_ids[0]};{to_ids[-1]};{rel_type}'\n"
      ],
      "metadata": {
        "colab": {
          "base_uri": "https://localhost:8080/"
        },
        "id": "b8xNPdknMlCe",
        "outputId": "c340e644-f256-4247-bef7-98065b6b856f"
      },
      "execution_count": null,
      "outputs": [
        {
          "output_type": "stream",
          "name": "stdout",
          "text": [
            "[{'type': 'relation', 'to_id': 'D_w-bbv0FW', 'labels': ['born_on'], 'from_id': 'qOz6CXctki', 'direction': 'right'}, {'type': 'relation', 'to_id': '6IEOyiTTRR', 'labels': ['died_on'], 'from_id': 'qOz6CXctki', 'direction': 'right'}, {'type': 'relation', 'to_id': '5SuvyzVQn4', 'labels': ['has_nationality'], 'from_id': 'qOz6CXctki', 'direction': 'right'}, {'type': 'relation', 'to_id': 'eoEtlIY3dq', 'labels': ['has_nationality'], 'from_id': 'WASMtd3xiq', 'direction': 'right'}, {'type': 'relation', 'to_id': '50aILF-wsY', 'labels': ['received_nobelprize_in'], 'from_id': 'lmkQq4uhNr', 'direction': 'right'}, {'type': 'relation', 'to_id': 'fDBIqiWAQ2', 'labels': ['has_won'], 'from_id': 'lmkQq4uhNr', 'direction': 'right'}, {'type': 'relation', 'to_id': 'Ytc4bT8tuJ', 'labels': ['has_nationality'], 'from_id': 'WASMtd3xiq', 'direction': 'right'}]\n"
          ]
        }
      ]
    },
    {
      "cell_type": "code",
      "source": [
        "file[0]['annotations'][0]['result']\n",
        "# labels = [item for item in file[0]['annotations'][0]['result'] if item['type'] == 'labels']\n",
        "relations = [item for item in file[0]['annotations'][0]['result'] if item['type'] == 'relation']\n",
        "print(relations)"
      ],
      "metadata": {
        "colab": {
          "base_uri": "https://localhost:8080/"
        },
        "id": "SrfhMzppActX",
        "outputId": "c7dafe5b-e23e-47f4-97d1-3a2cdba60499"
      },
      "execution_count": null,
      "outputs": [
        {
          "output_type": "stream",
          "name": "stdout",
          "text": [
            "[{'type': 'relation', 'to_id': 'D_w-bbv0FW', 'labels': ['born_on'], 'from_id': 'qOz6CXctki', 'direction': 'right'}, {'type': 'relation', 'to_id': '6IEOyiTTRR', 'labels': ['died_on'], 'from_id': 'qOz6CXctki', 'direction': 'right'}, {'type': 'relation', 'to_id': '5SuvyzVQn4', 'labels': ['has_nationality'], 'from_id': 'qOz6CXctki', 'direction': 'right'}, {'type': 'relation', 'to_id': 'eoEtlIY3dq', 'labels': ['has_nationality'], 'from_id': 'WASMtd3xiq', 'direction': 'right'}, {'type': 'relation', 'to_id': '50aILF-wsY', 'labels': ['received_nobelprize_in'], 'from_id': 'lmkQq4uhNr', 'direction': 'right'}, {'type': 'relation', 'to_id': 'fDBIqiWAQ2', 'labels': ['has_won'], 'from_id': 'lmkQq4uhNr', 'direction': 'right'}, {'type': 'relation', 'to_id': 'Ytc4bT8tuJ', 'labels': ['has_nationality'], 'from_id': 'WASMtd3xiq', 'direction': 'right'}]\n"
          ]
        }
      ]
    },
    {
      "cell_type": "code",
      "source": [
        "loaded_model: RelationExtractor = RelationExtractor.load(results_base_path / \"final-model.pt\")\n",
        "loaded_model.train_on_gold_pairs_only = False\n",
        "\n",
        "sentence = Sentence([\"Apple\", \"was\", \"founded\", \"by\", \"Steve\", \"Jobs\", \".\"])\n",
        "sentence[0:1].add_label(\"ner\", \"ORG\")\n",
        "sentence[4:6].add_label(\"ner\", \"PER\")\n",
        "\n",
        "loaded_model.predict(sentence)\n",
        "\n",
        "sentence.get_labels(\"relation\")[0].value"
      ],
      "metadata": {
        "id": "A7JBn401k9v8"
      },
      "execution_count": null,
      "outputs": []
    },
    {
      "cell_type": "code",
      "source": [
        "labels[next_label]"
      ],
      "metadata": {
        "colab": {
          "base_uri": "https://localhost:8080/"
        },
        "id": "EmxGJS1B1g9s",
        "outputId": "f4dbfbc7-ce93-4e25-c05b-a5c13d6842ac"
      },
      "execution_count": null,
      "outputs": [
        {
          "output_type": "execute_result",
          "data": {
            "text/plain": [
              "{'id': 'qOz6CXctki',\n",
              " 'type': 'labels',\n",
              " 'value': {'end': 12,\n",
              "  'text': 'Albert Camus',\n",
              "  'start': 0,\n",
              "  'labels': ['Winner']},\n",
              " 'origin': 'manual',\n",
              " 'to_name': 'text',\n",
              " 'from_name': 'label'}"
            ]
          },
          "metadata": {},
          "execution_count": 111
        }
      ]
    }
  ]
}