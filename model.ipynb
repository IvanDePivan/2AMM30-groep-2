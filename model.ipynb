{
  "nbformat": 4,
  "nbformat_minor": 0,
  "metadata": {
    "colab": {
      "provenance": []
    },
    "kernelspec": {
      "name": "python3",
      "display_name": "Python 3"
    },
    "language_info": {
      "name": "python"
    }
  },
  "cells": [
    {
      "cell_type": "code",
      "execution_count": 59,
      "metadata": {
        "id": "RUV2tm7bh4gw"
      },
      "outputs": [],
      "source": [
        "import pandas as pd\n",
        "import json\n",
        "import numpy as np\n",
        "import spacy\n",
        "from spacy.training.example import Example #holds information for one training instance\n",
        "import random\n",
        "from tqdm import tqdm\n",
        "from spacy.scorer import Scorer\n",
        "import warnings\n",
        "warnings.filterwarnings('ignore')"
      ]
    },
    {
      "cell_type": "code",
      "source": [
        "# Authenticate\n",
        "from google.colab import drive\n",
        "drive.mount('/content/drive')\n",
        "from google.colab import auth\n",
        "auth.authenticate_user()\n",
        "\n",
        "# Get email of current Colab user\n",
        "import requests\n",
        "gcloud_token = !gcloud auth print-access-token\n",
        "gcloud_tokeninfo = requests.get('https://www.googleapis.com/oauth2/v3/tokeninfo?access_token=' + gcloud_token[0]).json()\n",
        "email = gcloud_tokeninfo['email']"
      ],
      "metadata": {
        "colab": {
          "base_uri": "https://localhost:8080/"
        },
        "id": "QGPv7jA1w7_t",
        "outputId": "f6ef8e86-c493-4094-b6db-511c75200d8e"
      },
      "execution_count": 60,
      "outputs": [
        {
          "output_type": "stream",
          "name": "stdout",
          "text": [
            "Drive already mounted at /content/drive; to attempt to forcibly remount, call drive.mount(\"/content/drive\", force_remount=True).\n"
          ]
        }
      ]
    },
    {
      "cell_type": "code",
      "source": [
        "# Define filepath\n",
        "if email == 'tamaraexterkate93@gmail.com':\n",
        "  filename = \"/content/drive/MyDrive/TUe/TM/Exports/export_41675_project-41675-at-2023-10-04-09-37-9bbbec63.json\"\n",
        "elif email == 'n.v.diermen@student.tue.nl':\n",
        "  filename = \"/content/drive/MyDrive/Text Mining/export_41675_project-41675-at-2023-10-04-12-08-05f5e3f5.json\""
      ],
      "metadata": {
        "id": "CJzHkFyFkubL"
      },
      "execution_count": 61,
      "outputs": []
    },
    {
      "cell_type": "code",
      "source": [
        "DATA = []\n",
        "\n",
        "# read json file\n",
        "with open(filename, 'rb') as fp:\n",
        "  training_data = json.load(fp)\n",
        "\n",
        "  # get text, labels, relations, benchmark for each article\n",
        "  for article in training_data:\n",
        "    entities = []\n",
        "    relations = []\n",
        "    original_text = article.get('data').get('text')\n",
        "    if len(article.get('annotations')) == 5: # N=5\n",
        "      benchmark = True\n",
        "    else:\n",
        "      benchmark = False\n",
        "    for annotation in article.get('annotations'):\n",
        "      if annotation.get('ground_truth') == True: # only include ground truth\n",
        "        for ind, label in enumerate(annotation.get('result')):\n",
        "          if label.get('type') == 'labels':\n",
        "            start = label.get('value').get('start')\n",
        "            end = label.get('value').get('end')\n",
        "            label = label.get('value').get('labels')[0] # note: cannot deal with multiple labels\n",
        "            entities.append((start, end, label))\n",
        "          elif label.get('type') == 'relation':\n",
        "            from_id = label.get('from_id')\n",
        "            to_id = label.get('to_id')\n",
        "            relation = label.get('labels')[0] # note: cannot deal with multiple relations\n",
        "            relations.append((from_id, to_id, relation))\n",
        "          else:\n",
        "            print(\"found unknown label type (no label or relation)\")\n",
        "\n",
        "    # append article to training data as dictionary\n",
        "    DATA.append({\n",
        "    'text': original_text,\n",
        "    'entities': entities,\n",
        "    'relations': relations,\n",
        "    'benchmark': benchmark\n",
        "    })"
      ],
      "metadata": {
        "id": "kvHLYTGmlCm5"
      },
      "execution_count": 62,
      "outputs": []
    },
    {
      "cell_type": "code",
      "source": [
        "# Remove entities with smallest span in case of overlapping entities\n",
        "def remove_overlap(entities):\n",
        "  # Initialize a list to store the final non-overlapping entities\n",
        "  final_entities = []\n",
        "\n",
        "  # Sort the entities by their start position in ascending order\n",
        "  entities.sort(key=lambda entity: entity[0])\n",
        "\n",
        "  # Iterate through the sorted entities\n",
        "  for entity in entities:\n",
        "      overlaps = False\n",
        "      for existing_entity in final_entities:\n",
        "          # Check for overlapping entities\n",
        "          if (entity[0] >= existing_entity[0] and entity[0] < existing_entity[1]) or \\\n",
        "            (entity[1] > existing_entity[0] and entity[1] <= existing_entity[1]):\n",
        "              overlaps = True\n",
        "              break\n",
        "      if not overlaps:\n",
        "          final_entities.append(entity)\n",
        "\n",
        "  return final_entities\n",
        "\n",
        "for article in DATA:\n",
        "  article['entities'] = remove_overlap(article['entities'])"
      ],
      "metadata": {
        "id": "IXOUkexGZkTu"
      },
      "execution_count": 63,
      "outputs": []
    },
    {
      "cell_type": "code",
      "source": [
        "# TODO: deal with overlapping entities\n",
        "DATA[1]"
      ],
      "metadata": {
        "colab": {
          "base_uri": "https://localhost:8080/"
        },
        "id": "a6EejUrephfl",
        "outputId": "437b5aa7-ddbc-471e-9dc2-05e94709ebd0"
      },
      "execution_count": 64,
      "outputs": [
        {
          "output_type": "execute_result",
          "data": {
            "text/plain": [
              "{'text': 'Max Karl Ernst Ludwig Planck (23 April 1858 – 4 October 1947) was a German theoretical physicist whose discovery of energy quanta won him the Nobel Prize in Physics in 1918.\\nPlanck made many substantial contributions to theoretical physics, but his fame as a physicist rests primarily on his role as the originator of quantum theory, which revolutionized human understanding of atomic and subatomic processes. In 1948, the German scientific institution Kaiser Wilhelm Society (of which Planck was twice president) was renamed Max Planck Society (MPG). The MPG now includes 83 institutions representing a wide range of scientific directions.\\nLife and career.\\nPlanck came from a traditional, intellectual family. His paternal great-grandfather and grandfather were both theology professors in Göttingen; his father was a law professor at the University of Kiel and Munich. One of his uncles was also a judge.',\n",
              " 'entities': [(0, 28, 'Winner'),\n",
              "  (30, 43, 'Date'),\n",
              "  (46, 60, 'Date'),\n",
              "  (68, 74, 'Nationality'),\n",
              "  (103, 129, 'Reason'),\n",
              "  (134, 137, 'Winner'),\n",
              "  (142, 164, 'Prizetype'),\n",
              "  (168, 172, 'Date'),\n",
              "  (174, 180, 'Winner'),\n",
              "  (413, 417, 'Date'),\n",
              "  (423, 429, 'Nationality'),\n",
              "  (486, 492, 'Winner'),\n",
              "  (526, 536, 'Winner'),\n",
              "  (658, 664, 'Winner')],\n",
              " 'relations': [('QC3wwIP7VL', '5DGA6AZcxS', 'born_on'),\n",
              "  ('QC3wwIP7VL', 'w1L2tEBPAJ', 'died_on'),\n",
              "  ('QC3wwIP7VL', 'RUNevmcvcD', 'has_nationality'),\n",
              "  ('JhjptIALk4', '3Al9ekCToj', 'received_nobelprize_for'),\n",
              "  ('JhjptIALk4', 'jIOCZOz3zT', 'has_won'),\n",
              "  ('JhjptIALk4', 'R431VYEWoH', 'received_nobelprize_in'),\n",
              "  ('JhjptIALk4', 'QC3wwIP7VL', 'same_as'),\n",
              "  ('W_O3I8RF7s', 'QC3wwIP7VL', 'same_as'),\n",
              "  ('68n-mjhx6Z', 'QC3wwIP7VL', 'same_as'),\n",
              "  ('11xyrmjnMU', 'QC3wwIP7VL', 'same_as'),\n",
              "  ('hzE7VmzTUS', 'QC3wwIP7VL', 'same_as')],\n",
              " 'benchmark': True}"
            ]
          },
          "metadata": {},
          "execution_count": 64
        }
      ]
    },
    {
      "cell_type": "code",
      "source": [
        "model = None\n",
        "if model is not None:\n",
        "  nlp = spacy.load(model)\n",
        "  print(f\"Loaded model '{model}'\")\n",
        "else:\n",
        "  nlp = spacy.blank('en')\n",
        "  print(\"Created blank 'en' model\")\n",
        "\n",
        "# set up the pipeline\n",
        "if 'ner' not in nlp.pipe_names:\n",
        "  ner = nlp.add_pipe('ner')\n",
        "# nlp.add_pipe(ner, last=True)\n",
        "else:\n",
        "  ner = nlp.get_pipe('ner')"
      ],
      "metadata": {
        "colab": {
          "base_uri": "https://localhost:8080/"
        },
        "id": "r1iLYFLFpodB",
        "outputId": "8b4d71dd-9697-4bb7-a274-ea6e746e7bb3"
      },
      "execution_count": 65,
      "outputs": [
        {
          "output_type": "stream",
          "name": "stdout",
          "text": [
            "Created blank 'en' model\n"
          ]
        }
      ]
    },
    {
      "cell_type": "code",
      "source": [
        "def train_test_split(data,test_size):\n",
        "  train_end= int(len(data)*(1-test_size))\n",
        "  return data[0:train_end], data[train_end:len(data)]"
      ],
      "metadata": {
        "id": "bExNXEXYrFCH"
      },
      "execution_count": 66,
      "outputs": []
    },
    {
      "cell_type": "code",
      "source": [
        "train, test =  train_test_split(DATA,0.5)"
      ],
      "metadata": {
        "id": "prrqNQNcsnnR"
      },
      "execution_count": 67,
      "outputs": []
    },
    {
      "cell_type": "code",
      "source": [
        "def train_ner_model(train_data, n_iter=1):\n",
        "\n",
        "  for article in train_data:\n",
        "    for ent in article['entities']:\n",
        "        ner.add_label(ent[2])\n",
        "\n",
        "  other_pipes = [pipe for pipe in nlp.pipe_names if pipe != 'ner']\n",
        "\n",
        "  with nlp.disable_pipes(*other_pipes):\n",
        "    optimizer = nlp.begin_training()\n",
        "    for itn in range(n_iter):\n",
        "      random.shuffle(train_data)\n",
        "      losses = {}\n",
        "      for article in tqdm(train_data):\n",
        "        doc = nlp.make_doc(article['text'])\n",
        "        example = Example.from_dict(doc, {'entities': article['entities']})\n",
        "        nlp.update([example], losses=losses, drop=0.2)\n",
        "      print(losses)\n",
        "\n",
        "    return nlp\n",
        "\n",
        "nlp_model = train_ner_model(train, n_iter=50)"
      ],
      "metadata": {
        "id": "42HNnuvVZZZ2",
        "colab": {
          "base_uri": "https://localhost:8080/"
        },
        "outputId": "ea3df1f9-f84e-4b5d-922d-2864b2ea8f27"
      },
      "execution_count": 68,
      "outputs": [
        {
          "output_type": "stream",
          "name": "stderr",
          "text": [
            "100%|██████████| 20/20 [00:03<00:00,  6.41it/s]\n"
          ]
        },
        {
          "output_type": "stream",
          "name": "stdout",
          "text": [
            "{'ner': 2685.040282539646}\n"
          ]
        },
        {
          "output_type": "stream",
          "name": "stderr",
          "text": [
            "100%|██████████| 20/20 [00:02<00:00,  6.92it/s]\n"
          ]
        },
        {
          "output_type": "stream",
          "name": "stdout",
          "text": [
            "{'ner': 973.4237232905207}\n"
          ]
        },
        {
          "output_type": "stream",
          "name": "stderr",
          "text": [
            "100%|██████████| 20/20 [00:01<00:00, 10.07it/s]\n"
          ]
        },
        {
          "output_type": "stream",
          "name": "stdout",
          "text": [
            "{'ner': 783.5939331435125}\n"
          ]
        },
        {
          "output_type": "stream",
          "name": "stderr",
          "text": [
            "100%|██████████| 20/20 [00:02<00:00,  9.30it/s]\n"
          ]
        },
        {
          "output_type": "stream",
          "name": "stdout",
          "text": [
            "{'ner': 424.76798531107625}\n"
          ]
        },
        {
          "output_type": "stream",
          "name": "stderr",
          "text": [
            "100%|██████████| 20/20 [00:02<00:00,  9.55it/s]\n"
          ]
        },
        {
          "output_type": "stream",
          "name": "stdout",
          "text": [
            "{'ner': 405.30327285028955}\n"
          ]
        },
        {
          "output_type": "stream",
          "name": "stderr",
          "text": [
            "100%|██████████| 20/20 [00:02<00:00,  9.73it/s]\n"
          ]
        },
        {
          "output_type": "stream",
          "name": "stdout",
          "text": [
            "{'ner': 333.2957408739247}\n"
          ]
        },
        {
          "output_type": "stream",
          "name": "stderr",
          "text": [
            "100%|██████████| 20/20 [00:02<00:00,  8.31it/s]\n"
          ]
        },
        {
          "output_type": "stream",
          "name": "stdout",
          "text": [
            "{'ner': 377.5617239390766}\n"
          ]
        },
        {
          "output_type": "stream",
          "name": "stderr",
          "text": [
            "100%|██████████| 20/20 [00:03<00:00,  6.15it/s]\n"
          ]
        },
        {
          "output_type": "stream",
          "name": "stdout",
          "text": [
            "{'ner': 160.66694000371288}\n"
          ]
        },
        {
          "output_type": "stream",
          "name": "stderr",
          "text": [
            "100%|██████████| 20/20 [00:02<00:00,  8.29it/s]\n"
          ]
        },
        {
          "output_type": "stream",
          "name": "stdout",
          "text": [
            "{'ner': 266.9853231458209}\n"
          ]
        },
        {
          "output_type": "stream",
          "name": "stderr",
          "text": [
            "100%|██████████| 20/20 [00:02<00:00,  9.97it/s]\n"
          ]
        },
        {
          "output_type": "stream",
          "name": "stdout",
          "text": [
            "{'ner': 190.8130326186776}\n"
          ]
        },
        {
          "output_type": "stream",
          "name": "stderr",
          "text": [
            "100%|██████████| 20/20 [00:02<00:00,  9.71it/s]\n"
          ]
        },
        {
          "output_type": "stream",
          "name": "stdout",
          "text": [
            "{'ner': 194.08020921531661}\n"
          ]
        },
        {
          "output_type": "stream",
          "name": "stderr",
          "text": [
            "100%|██████████| 20/20 [00:02<00:00,  9.54it/s]\n"
          ]
        },
        {
          "output_type": "stream",
          "name": "stdout",
          "text": [
            "{'ner': 110.93850665638664}\n"
          ]
        },
        {
          "output_type": "stream",
          "name": "stderr",
          "text": [
            "100%|██████████| 20/20 [00:02<00:00,  9.82it/s]\n"
          ]
        },
        {
          "output_type": "stream",
          "name": "stdout",
          "text": [
            "{'ner': 85.89829778587638}\n"
          ]
        },
        {
          "output_type": "stream",
          "name": "stderr",
          "text": [
            "100%|██████████| 20/20 [00:03<00:00,  6.26it/s]\n"
          ]
        },
        {
          "output_type": "stream",
          "name": "stdout",
          "text": [
            "{'ner': 102.57038124515704}\n"
          ]
        },
        {
          "output_type": "stream",
          "name": "stderr",
          "text": [
            "100%|██████████| 20/20 [00:02<00:00,  7.05it/s]\n"
          ]
        },
        {
          "output_type": "stream",
          "name": "stdout",
          "text": [
            "{'ner': 81.03081482992502}\n"
          ]
        },
        {
          "output_type": "stream",
          "name": "stderr",
          "text": [
            "100%|██████████| 20/20 [00:02<00:00,  9.17it/s]\n"
          ]
        },
        {
          "output_type": "stream",
          "name": "stdout",
          "text": [
            "{'ner': 52.90190515596842}\n"
          ]
        },
        {
          "output_type": "stream",
          "name": "stderr",
          "text": [
            "100%|██████████| 20/20 [00:02<00:00,  9.21it/s]\n"
          ]
        },
        {
          "output_type": "stream",
          "name": "stdout",
          "text": [
            "{'ner': 69.02997573406431}\n"
          ]
        },
        {
          "output_type": "stream",
          "name": "stderr",
          "text": [
            "100%|██████████| 20/20 [00:02<00:00,  9.86it/s]\n"
          ]
        },
        {
          "output_type": "stream",
          "name": "stdout",
          "text": [
            "{'ner': 54.56632618911274}\n"
          ]
        },
        {
          "output_type": "stream",
          "name": "stderr",
          "text": [
            "100%|██████████| 20/20 [00:02<00:00,  8.95it/s]\n"
          ]
        },
        {
          "output_type": "stream",
          "name": "stdout",
          "text": [
            "{'ner': 48.77621714795192}\n"
          ]
        },
        {
          "output_type": "stream",
          "name": "stderr",
          "text": [
            "100%|██████████| 20/20 [00:03<00:00,  6.63it/s]\n"
          ]
        },
        {
          "output_type": "stream",
          "name": "stdout",
          "text": [
            "{'ner': 37.3993439100205}\n"
          ]
        },
        {
          "output_type": "stream",
          "name": "stderr",
          "text": [
            "100%|██████████| 20/20 [00:03<00:00,  6.18it/s]\n"
          ]
        },
        {
          "output_type": "stream",
          "name": "stdout",
          "text": [
            "{'ner': 32.43742185030183}\n"
          ]
        },
        {
          "output_type": "stream",
          "name": "stderr",
          "text": [
            "100%|██████████| 20/20 [00:02<00:00,  9.27it/s]\n"
          ]
        },
        {
          "output_type": "stream",
          "name": "stdout",
          "text": [
            "{'ner': 25.402170302287452}\n"
          ]
        },
        {
          "output_type": "stream",
          "name": "stderr",
          "text": [
            "100%|██████████| 20/20 [00:02<00:00,  9.69it/s]\n"
          ]
        },
        {
          "output_type": "stream",
          "name": "stdout",
          "text": [
            "{'ner': 20.022595856405275}\n"
          ]
        },
        {
          "output_type": "stream",
          "name": "stderr",
          "text": [
            "100%|██████████| 20/20 [00:02<00:00,  9.16it/s]\n"
          ]
        },
        {
          "output_type": "stream",
          "name": "stdout",
          "text": [
            "{'ner': 31.89085794361296}\n"
          ]
        },
        {
          "output_type": "stream",
          "name": "stderr",
          "text": [
            "100%|██████████| 20/20 [00:02<00:00,  9.24it/s]\n"
          ]
        },
        {
          "output_type": "stream",
          "name": "stdout",
          "text": [
            "{'ner': 17.082704600340694}\n"
          ]
        },
        {
          "output_type": "stream",
          "name": "stderr",
          "text": [
            "100%|██████████| 20/20 [00:03<00:00,  6.16it/s]\n"
          ]
        },
        {
          "output_type": "stream",
          "name": "stdout",
          "text": [
            "{'ner': 23.883103405610942}\n"
          ]
        },
        {
          "output_type": "stream",
          "name": "stderr",
          "text": [
            "100%|██████████| 20/20 [00:02<00:00,  7.10it/s]\n"
          ]
        },
        {
          "output_type": "stream",
          "name": "stdout",
          "text": [
            "{'ner': 32.21812297071684}\n"
          ]
        },
        {
          "output_type": "stream",
          "name": "stderr",
          "text": [
            "100%|██████████| 20/20 [00:02<00:00,  9.68it/s]\n"
          ]
        },
        {
          "output_type": "stream",
          "name": "stdout",
          "text": [
            "{'ner': 17.014296664122938}\n"
          ]
        },
        {
          "output_type": "stream",
          "name": "stderr",
          "text": [
            "100%|██████████| 20/20 [00:02<00:00,  9.60it/s]\n"
          ]
        },
        {
          "output_type": "stream",
          "name": "stdout",
          "text": [
            "{'ner': 21.38583337385714}\n"
          ]
        },
        {
          "output_type": "stream",
          "name": "stderr",
          "text": [
            "100%|██████████| 20/20 [00:02<00:00,  9.88it/s]\n"
          ]
        },
        {
          "output_type": "stream",
          "name": "stdout",
          "text": [
            "{'ner': 14.825050250717181}\n"
          ]
        },
        {
          "output_type": "stream",
          "name": "stderr",
          "text": [
            "100%|██████████| 20/20 [00:02<00:00,  9.83it/s]\n"
          ]
        },
        {
          "output_type": "stream",
          "name": "stdout",
          "text": [
            "{'ner': 22.75092482521414}\n"
          ]
        },
        {
          "output_type": "stream",
          "name": "stderr",
          "text": [
            "100%|██████████| 20/20 [00:02<00:00,  7.47it/s]\n"
          ]
        },
        {
          "output_type": "stream",
          "name": "stdout",
          "text": [
            "{'ner': 17.852218625719406}\n"
          ]
        },
        {
          "output_type": "stream",
          "name": "stderr",
          "text": [
            "100%|██████████| 20/20 [00:03<00:00,  6.44it/s]\n"
          ]
        },
        {
          "output_type": "stream",
          "name": "stdout",
          "text": [
            "{'ner': 18.557612130495514}\n"
          ]
        },
        {
          "output_type": "stream",
          "name": "stderr",
          "text": [
            "100%|██████████| 20/20 [00:02<00:00,  9.01it/s]\n"
          ]
        },
        {
          "output_type": "stream",
          "name": "stdout",
          "text": [
            "{'ner': 10.24742319331877}\n"
          ]
        },
        {
          "output_type": "stream",
          "name": "stderr",
          "text": [
            "100%|██████████| 20/20 [00:02<00:00,  9.11it/s]\n"
          ]
        },
        {
          "output_type": "stream",
          "name": "stdout",
          "text": [
            "{'ner': 11.251659151188095}\n"
          ]
        },
        {
          "output_type": "stream",
          "name": "stderr",
          "text": [
            "100%|██████████| 20/20 [00:02<00:00,  8.68it/s]\n"
          ]
        },
        {
          "output_type": "stream",
          "name": "stdout",
          "text": [
            "{'ner': 6.066713264514894}\n"
          ]
        },
        {
          "output_type": "stream",
          "name": "stderr",
          "text": [
            "100%|██████████| 20/20 [00:02<00:00,  8.93it/s]\n"
          ]
        },
        {
          "output_type": "stream",
          "name": "stdout",
          "text": [
            "{'ner': 15.563904144341576}\n"
          ]
        },
        {
          "output_type": "stream",
          "name": "stderr",
          "text": [
            "100%|██████████| 20/20 [00:02<00:00,  7.12it/s]\n"
          ]
        },
        {
          "output_type": "stream",
          "name": "stdout",
          "text": [
            "{'ner': 5.960341316809275}\n"
          ]
        },
        {
          "output_type": "stream",
          "name": "stderr",
          "text": [
            "100%|██████████| 20/20 [00:03<00:00,  6.06it/s]\n"
          ]
        },
        {
          "output_type": "stream",
          "name": "stdout",
          "text": [
            "{'ner': 13.356872176994905}\n"
          ]
        },
        {
          "output_type": "stream",
          "name": "stderr",
          "text": [
            "100%|██████████| 20/20 [00:02<00:00,  9.82it/s]\n"
          ]
        },
        {
          "output_type": "stream",
          "name": "stdout",
          "text": [
            "{'ner': 11.179845771651479}\n"
          ]
        },
        {
          "output_type": "stream",
          "name": "stderr",
          "text": [
            "100%|██████████| 20/20 [00:02<00:00,  9.02it/s]\n"
          ]
        },
        {
          "output_type": "stream",
          "name": "stdout",
          "text": [
            "{'ner': 18.71956198259903}\n"
          ]
        },
        {
          "output_type": "stream",
          "name": "stderr",
          "text": [
            "100%|██████████| 20/20 [00:02<00:00,  8.99it/s]\n"
          ]
        },
        {
          "output_type": "stream",
          "name": "stdout",
          "text": [
            "{'ner': 27.3269049162576}\n"
          ]
        },
        {
          "output_type": "stream",
          "name": "stderr",
          "text": [
            "100%|██████████| 20/20 [00:01<00:00, 10.08it/s]\n"
          ]
        },
        {
          "output_type": "stream",
          "name": "stdout",
          "text": [
            "{'ner': 7.206189941240821}\n"
          ]
        },
        {
          "output_type": "stream",
          "name": "stderr",
          "text": [
            "100%|██████████| 20/20 [00:02<00:00,  6.96it/s]\n"
          ]
        },
        {
          "output_type": "stream",
          "name": "stdout",
          "text": [
            "{'ner': 7.19402338415167}\n"
          ]
        },
        {
          "output_type": "stream",
          "name": "stderr",
          "text": [
            "100%|██████████| 20/20 [00:03<00:00,  6.50it/s]\n"
          ]
        },
        {
          "output_type": "stream",
          "name": "stdout",
          "text": [
            "{'ner': 20.145863039022633}\n"
          ]
        },
        {
          "output_type": "stream",
          "name": "stderr",
          "text": [
            "100%|██████████| 20/20 [00:02<00:00,  9.16it/s]\n"
          ]
        },
        {
          "output_type": "stream",
          "name": "stdout",
          "text": [
            "{'ner': 7.536869504096421}\n"
          ]
        },
        {
          "output_type": "stream",
          "name": "stderr",
          "text": [
            "100%|██████████| 20/20 [00:02<00:00,  9.86it/s]\n"
          ]
        },
        {
          "output_type": "stream",
          "name": "stdout",
          "text": [
            "{'ner': 7.683405850240364}\n"
          ]
        },
        {
          "output_type": "stream",
          "name": "stderr",
          "text": [
            "100%|██████████| 20/20 [00:02<00:00,  9.24it/s]\n"
          ]
        },
        {
          "output_type": "stream",
          "name": "stdout",
          "text": [
            "{'ner': 6.427298835525169}\n"
          ]
        },
        {
          "output_type": "stream",
          "name": "stderr",
          "text": [
            "100%|██████████| 20/20 [00:02<00:00,  9.81it/s]\n"
          ]
        },
        {
          "output_type": "stream",
          "name": "stdout",
          "text": [
            "{'ner': 11.005749802328081}\n"
          ]
        },
        {
          "output_type": "stream",
          "name": "stderr",
          "text": [
            "100%|██████████| 20/20 [00:02<00:00,  8.27it/s]"
          ]
        },
        {
          "output_type": "stream",
          "name": "stdout",
          "text": [
            "{'ner': 6.880598471882337}\n"
          ]
        },
        {
          "output_type": "stream",
          "name": "stderr",
          "text": [
            "\n"
          ]
        }
      ]
    },
    {
      "cell_type": "code",
      "source": [
        "for article in test:\n",
        "  doc = nlp_model(article['text'])\n",
        "  print('Entities', [(ent.text, ent.label_) for ent in doc.ents])\n"
      ],
      "metadata": {
        "id": "VnVwTIXqZgIR",
        "colab": {
          "base_uri": "https://localhost:8080/"
        },
        "outputId": "21b418b2-92ec-489a-93c2-76a708841284"
      },
      "execution_count": 69,
      "outputs": [
        {
          "output_type": "stream",
          "name": "stdout",
          "text": [
            "Entities [('12, 2020', 'Date'), ('German', 'Nationality'), ('American', 'Nationality'), ('work with neutrinos, the subatomic particles considered to be elementary constituents of matter.', 'Reason'), ('He', 'Winner'), ('1988', 'Date'), ('Nobel Prize in Physics', 'Prizetype'), ('the discovery of the muon neutrino.', 'Reason'), ('Through', 'Winner'), ('he', 'Winner'), ('1950', 'Date'), ('1968', 'Date'), ('1968', 'Date'), ('1986', 'Date'), ('He', 'Winner'), ('the United States', 'Nationality'), ('1988', 'Date'), ('1990', 'Date'), ('Steinberger', 'Winner'), ('him', 'Winner'), ('Steinberger', 'Winner'), ('the United States', 'Nationality'), ('the U.S.', 'Nationality'), ('him', 'Winner'), ('Steinberger', 'Winner'), ('He', 'Winner'), ('1938', 'Date')]\n",
            "Entities [('Kullmann Five', 'Winner'), ('13 April 1951', 'Date'), ('19 February 2017', 'Date'), ('1997', 'Date'), ('1994', 'Date'), ('1997', 'Date'), ('2003', 'Date'), ('Nobel Foundation\\xa0', 'Prizetype'), ('2009', 'Date'), ('Nobel Peace Prize', 'Prizetype'), ('Five', 'Winner'), ('Karin Cecilie Kullmann', 'Winner'), ('Bærum', 'Winner'), ('1969', 'Date'), ('French', 'Nationality'), ('1981', 'Date'), ('1972', 'Date'), ('Penger', 'Winner')]\n",
            "Entities [('February 14, 1917', 'Date'), ('October 23, 2011', 'Date'), ('American', 'Nationality'), ('He', 'Winner'), ('he', 'Winner'), ('Swedish', 'Nationality'), ('Jerome', 'Nationality'), ('1985', 'Date'), ('Nobel Prize in Chemistry', 'Prizetype'), ('He', 'Winner'), ('He', 'Winner'), ('November 10, 1940', 'Date'), ('1947', 'Date'), ('1950', 'Date'), ('He', 'Winner'), ('he', 'Winner'), ('1937', 'Date'), ('1939', 'Date')]\n",
            "Entities [('October 20, 2012', 'Date'), ('American', 'Nationality'), ('1990', 'Date'), ('he', 'Winner'), ('Nobel Prize in Physiology or Medicine', 'Prizetype'), ('the development of cell and organ transplantation. Thomas and his wife and research partner Dottie Thomas developed bone marrow transplantation as a treatment for leukemia.\\nBiography.\\nBorn in Mart, Texas, Thomas often shadowed his father who was a general practice doctor.\\nLater', 'Reason'), ('he', 'Winner'), ('he', 'Winner'), ('1941', 'Date'), ('1943', 'Date'), ('While', 'Nationality'), ('he', 'Winner'), ('1943', 'Date'), ('1946', 'Date'), ('He', 'Winner'), ('the United States', 'Nationality'), ('1955', 'Date'), ('he', 'Winner')]\n",
            "Entities [('Albert', 'Nationality'), ('7 March 1938', 'Date'), ('French', 'Nationality'), ('he', 'Winner'), ('Unité', 'Nationality'), ('He', 'Winner'), ('2007', 'Date'), ('Nobel Prize in Physics', 'Prizetype'), ('1962', 'Date'), ('Albert', 'Nationality'), ('he', 'Winner'), ('Alfred Kastler', 'Winner'), ('he', 'Winner'), ('1963', 'Date'), ('doctorat de troisième cycle\") from the University of Paris with a thesis prepared in the fundamental electronic', 'Reason')]\n",
            "Entities [('Gérard Albert Mourou', 'Winner'), ('22 June 1944', 'Date'), ('French', 'Nationality'), ('He', 'Winner'), ('Nobel Prize in Physics', 'Prizetype'), ('2018', 'Date'), ('Donna', 'Winner'), ('1994', 'Date'), ('Mourou', 'Winner'), ('2009', 'Date'), ('He', 'Winner'), ('he', 'Winner'), ('He', 'Winner'), ('1990', 'Date'), ('He', 'Winner'), ('1973', 'Date'), ('He', 'Winner'), ('the United States', 'Nationality'), ('1977', 'Date'), ('he', 'Winner'), ('Laser Energetics', 'Winner')]\n",
            "Entities [('George', 'Nationality'), ('1930', 'Date'), ('American', 'Nationality'), ('He', 'Winner'), ('2009', 'Date'), ('Nobel Prize in Physics', 'Prizetype'), ('the invention of an imaging semiconductor circuit—the CCD sensor', 'Reason'), ('the US', 'Nationality'), ('1955', 'Date'), ('1959', 'Date')]\n",
            "Entities [('2 November 1953', 'Date'), ('Iranian', 'Nationality'), ('He', 'Winner'), ('Nobel Peace Prize', 'Prizetype'), ('Soltani', 'Winner'), ('Iranian', 'Nationality'), ('2003', 'Date'), ('Ganji', 'Winner'), ('2009', 'Date'), ('2005', 'Date'), ('2009', 'Date'), ('2012', 'Date'), ('Soltani', 'Winner'), ('2005', 'Date'), ('2009', 'Date'), ('He', 'Winner'), ('2012', 'Date'), ('him', 'Winner'), ('him', 'Winner')]\n",
            "Entities [('1941', 'Date'), ('American', 'Nationality'), ('Generally', 'Winner'), ('1963', 'Date'), ('Changin', 'Nationality'), ('1964', 'Date'), ('the civil rights and antiwar movements. His lyrics during this period incorporated political', 'Reason'), ('1962', 'Date'), ('he', 'Winner'), ('He', 'Winner'), ('Changin', 'Nationality'), ('Another Side of Bob Dylan', 'Winner'), ('1964', 'Date'), ('1965', 'Date'), ('1966', 'Date'), ('he', 'Winner'), ('both', 'Date'), ('1965', 'Date'), ('Blonde on Blonde', 'Winner'), ('1966', 'Date'), ('1965', 'Date'), ('July 1966', 'Date'), ('he', 'Winner'), ('him', 'Winner'), ('These', 'Nationality'), ('1975', 'Date'), ('1967', 'Date'), ('1969', 'Date'), ('1970', 'Date'), ('1975', 'Date'), ('he', 'Winner'), ('Blood on the Tracks\"', 'Reason'), ('he', 'Winner'), ('1997', 'Date'), ('He', 'Winner'), ('2020', 'Date'), ('He', 'Winner'), ('American', 'Nationality'), ('Shadow Kingdom', 'Winner'), ('2023', 'Date'), ('Dylan', 'Winner'), ('1994', 'Date'), ('work has been exhibited in major art galleries.', 'Reason'), ('He', 'Winner'), ('145', 'Date'), ('him', 'Winner'), ('He', 'Winner'), ('Freedom', 'Nationality'), ('2008', 'Date'), ('him', 'Winner'), ('his profound impact on popular music and', 'Reason'), ('American', 'Nationality'), ('2016', 'Date'), ('Nobel Prize in Literature', 'Prizetype'), ('having created new poetic expressions within the great', 'Reason'), ('American', 'Nationality')]\n",
            "Entities [('7 October 193126', 'Date'), ('2021', 'Date'), ('African', 'Nationality'), ('work as an anti-apartheid and human rights activist.', 'Reason'), ('He', 'Winner'), ('1996', 'Date'), ('African', 'Nationality'), ('he', 'Winner'), ('African', 'Nationality'), ('Tutu', 'Winner'), ('Klerksdorp', 'Winner'), ('he', 'Winner'), ('he', 'Winner'), ('1960', 'Date'), ('he', 'Winner'), ('Anglican', 'Nationality'), ('1962', 'Date'), ('the United Kingdom', 'Nationality'), ('1966', 'Date'), ('he', 'Winner'), ('Botswana', 'Nationality'), ('1972', 'Date'), ('he', 'Winner'), ('African', 'Nationality'), ('1975', 'Date'), ('he', 'Winner'), ('he', 'Winner'), ('African', 'Nationality'), ('He', 'Winner'), ('he', 'Winner'), ('1985', 'Date'), ('1986', 'Date'), ('Anglican', 'Nationality'), ('he', 'Winner'), ('1986', 'Date'), ('he', 'Winner'), ('1990', 'Date'), ('1994', 'Date'), ('African', 'Nationality'), (\"opposition to the Iraq War, and describing Israel's treatment of Palestinians as apartheid. In\", 'Reason'), ('2010', 'Date'), ('he', 'Winner'), ('him', 'Winner'), ('He', 'Winner'), ('work involving anti-apartheid activism,', 'Reason'), ('he', 'Winner'), ('Nobel Peace Prize', 'Prizetype'), ('He', 'Winner')]\n",
            "Entities [('Japanese', 'Nationality'), ('1989', 'Date'), ('Akasaki', 'Winner'), ('2009', 'Date'), ('2011', 'Date'), ('He', 'Winner'), ('2014', 'Date'), ('Nobel prize in Physics', 'Prizetype'), ('the invention of efficient blue light-emitting diodes', 'Reason'), ('2021', 'Date'), ('the creation and development of LED lighting,', 'Reason'), ('He', 'Winner')]\n",
            "Entities [('26 August 1877', 'Date'), ('5 August 1944', 'Date'), ('Polish', 'Nationality'), ('French', 'Nationality'), ('Nobel Prize-winning physiologist Charles', 'Prizetype'), ('the most positive of psychics', 'Winner'), ('1877', 'Date'), ('Polish', 'Nationality'), ('Polish', 'Nationality'), ('Polish', 'Nationality'), ('he', 'Winner'), ('him', 'Winner')]\n",
            "Entities [('July 25, 1956', 'Date'), ('American', 'Nationality'), ('Linus', 'Nationality'), ('2018', 'Date'), ('she', 'Winner'), ('Nobel Prize in Chemistry', 'Prizetype'), ('2021', 'Date'), ('1974', 'Date')]\n",
            "Entities [('1957', 'Date'), ('1996', 'Date'), ('Nobel Peace Prize', 'Prizetype'), ('Nobel Peace Laureates', 'Prizetype'), ('Nobel Peace Prize', 'Prizetype'), ('2015', 'Date'), ('Nobel Peace Prize', 'Prizetype'), ('that', 'Winner'), ('2008', 'Date'), ('Mayan Renaissance', 'Winner')]\n",
            "Entities [('Ismael', 'Nationality'), ('15 February 1927', 'Date'), ('15 August 2013', 'Date'), ('Ambassador', 'Nationality'), ('American', 'Nationality'), ('he', 'Winner'), ('1967', 'Date'), ('America', 'Nationality'), ('Alfonso García Robles', 'Winner'), ('Nobel Peace Prize', 'Prizetype'), ('1982', 'Date'), ('the United Nations', 'Nationality'), ('He', 'Winner'), ('1913', 'Date'), ('Ten', 'Nationality'), ('American', 'Nationality'), ('He', 'Winner'), ('1952', 'Date'), ('he', 'Winner'), ('1959', 'Date'), ('1961', 'Date'), ('1962', 'Date'), ('1962', 'Date'), ('American', 'Nationality'), ('1965', 'Date'), ('Chile', 'Nationality'), ('he', 'Winner'), ('1970', 'Date'), ('Chile', 'Nationality'), ('he', 'Winner'), ('1973', 'Date')]\n",
            "Entities [('Children of the Light', 'Winner'), ('June 8, 2014', 'Date'), ('Children of the Light', 'Winner'), ('African', 'Nationality'), ('him', 'Winner'), ('he', 'Winner'), ('he', 'Winner'), ('he', 'Winner'), ('he', 'Winner')]\n",
            "Entities [('22 November 1950', 'Date'), ('German', 'Nationality'), ('2000', 'Date'), ('Nobel Prize in Physiology or Medicine', 'Prizetype'), ('1973', 'Date'), ('1974', 'Date'), ('1977', 'Date'), ('Max Planck', 'Winner'), ('While', 'Nationality'), ('Charles', 'Nationality'), ('him', 'Winner'), ('26 December 1978', 'Date'), ('1991', 'Date'), ('2000', 'Date'), ('2000', 'Date'), ('Xlab', 'Winner'), ('2004', 'Winner'), ('June 1999', 'Date'), ('2013', 'Date')]\n",
            "Entities [('2013', 'Date'), ('Nigerian', 'Nationality'), ('African', 'Nationality'), ('Festival', 'Winner'), ('African', 'Nationality'), ('Review', 'Winner'), ('African', 'Nationality'), ('African', 'Nationality'), ('Nobel Laureate in Literature', 'Prizetype'), ('1934', 'Date')]\n",
            "Entities [('10 February 1989', 'Date'), ('2020', 'Date'), ('2018', 'Date'), ('2022', 'Date'), ('2022', 'Date'), ('Nobel Peace Prize', 'Prizetype')]\n",
            "Entities [('Francis', 'Nationality'), ('French', 'Nationality'), ('1953', 'Winner'), ('He', 'Winner'), ('Institut de', 'Winner'), ('He', 'Winner'), ('French', 'Nationality'), ('him', 'Winner'), ('1965', 'Date'), ('work', 'Winner'), ('1943', 'Date'), ('French', 'Nationality'), ('he', 'Winner'), ('work', 'Winner'), ('François Jacob', 'Winner'), ('1965', 'Date'), ('he', 'Winner'), ('Recherche', 'Nationality'), ('1975', 'Date'), ('1977', 'Date'), ('he', 'Winner'), ('1982', 'Date'), ('He', 'Winner'), ('he', 'Winner'), ('2005', 'Date'), ('1980', 'Date')]\n"
          ]
        }
      ]
    },
    {
      "cell_type": "code",
      "source": [
        "def evaluate(nlp, test):\n",
        "  scorer = Scorer()\n",
        "  example = []\n",
        "  for article in test:\n",
        "    pred = nlp(article['text'])\n",
        "    temp = Example.from_dict(pred, {'entities': article['entities']})\n",
        "    example.append(temp)\n",
        "  scores = scorer.score(example)\n",
        "  return scores\n",
        "\n",
        "results = evaluate(nlp_model,test)\n",
        "print(results)"
      ],
      "metadata": {
        "id": "HlcUWEFLZmRd",
        "colab": {
          "base_uri": "https://localhost:8080/"
        },
        "outputId": "0af8c532-311a-4342-92a5-5d93d3c8a9e8"
      },
      "execution_count": 70,
      "outputs": [
        {
          "output_type": "stream",
          "name": "stdout",
          "text": [
            "{'token_acc': 1.0, 'token_p': 1.0, 'token_r': 1.0, 'token_f': 1.0, 'sents_p': None, 'sents_r': None, 'sents_f': None, 'tag_acc': None, 'pos_acc': None, 'morph_acc': None, 'morph_micro_p': None, 'morph_micro_r': None, 'morph_micro_f': None, 'morph_per_feat': None, 'dep_uas': None, 'dep_las': None, 'dep_las_per_type': None, 'ents_p': 0.6658097686375322, 'ents_r': 0.6540404040404041, 'ents_f': 0.6598726114649682, 'ents_per_type': {'Date': {'p': 0.831081081081081, 'r': 0.924812030075188, 'f': 0.8754448398576512}, 'Nationality': {'p': 0.4931506849315068, 'r': 0.42857142857142855, 'f': 0.45859872611464964}, 'Reason': {'p': 0.0, 'r': 0.0, 'f': 0.0}, 'Winner': {'p': 0.6183206106870229, 'r': 0.54, 'f': 0.5765124555160143}, 'Prizetype': {'p': 0.8636363636363636, 'r': 0.95, 'f': 0.9047619047619048}}, 'cats_score': 0.0, 'cats_score_desc': 'macro F', 'cats_micro_p': 0.0, 'cats_micro_r': 0.0, 'cats_micro_f': 0.0, 'cats_macro_p': 0.0, 'cats_macro_r': 0.0, 'cats_macro_f': 0.0, 'cats_macro_auc': 0.0, 'cats_f_per_type': {}, 'cats_auc_per_type': {}}\n"
          ]
        }
      ]
    },
    {
      "cell_type": "code",
      "source": [
        "doc = nlp_model(test[0]['text'])\n",
        "colors = {'Winner': '#F67DE3', 'Date':'#7DF6D9', 'Prizetype': '#DC143C', 'Reason': '#00FF00', 'Nationality': '#E287433' }\n",
        "options = {'colors':colors}\n",
        "spacy.displacy.render(doc,style='ent', options=options, jupyter=True)"
      ],
      "metadata": {
        "id": "eMinqWQDjVjY",
        "outputId": "f2949cdd-2dae-447b-98d5-da3915780264",
        "colab": {
          "base_uri": "https://localhost:8080/",
          "height": 367
        }
      },
      "execution_count": 71,
      "outputs": [
        {
          "output_type": "display_data",
          "data": {
            "text/plain": [
              "<IPython.core.display.HTML object>"
            ],
            "text/html": [
              "<span class=\"tex2jax_ignore\"><div class=\"entities\" style=\"line-height: 2.5; direction: ltr\">Jack Steinberger (born Hans Jakob Steinberger; May 25, 1921December \n",
              "<mark class=\"entity\" style=\"background: #7DF6D9; padding: 0.45em 0.6em; margin: 0 0.25em; line-height: 1; border-radius: 0.35em;\">\n",
              "    12, 2020\n",
              "    <span style=\"font-size: 0.8em; font-weight: bold; line-height: 1; border-radius: 0.35em; vertical-align: middle; margin-left: 0.5rem\">Date</span>\n",
              "</mark>\n",
              ") was a \n",
              "<mark class=\"entity\" style=\"background: #E287433; padding: 0.45em 0.6em; margin: 0 0.25em; line-height: 1; border-radius: 0.35em;\">\n",
              "    German\n",
              "    <span style=\"font-size: 0.8em; font-weight: bold; line-height: 1; border-radius: 0.35em; vertical-align: middle; margin-left: 0.5rem\">Nationality</span>\n",
              "</mark>\n",
              "-born \n",
              "<mark class=\"entity\" style=\"background: #E287433; padding: 0.45em 0.6em; margin: 0 0.25em; line-height: 1; border-radius: 0.35em;\">\n",
              "    American\n",
              "    <span style=\"font-size: 0.8em; font-weight: bold; line-height: 1; border-radius: 0.35em; vertical-align: middle; margin-left: 0.5rem\">Nationality</span>\n",
              "</mark>\n",
              " physicist noted for his \n",
              "<mark class=\"entity\" style=\"background: #00FF00; padding: 0.45em 0.6em; margin: 0 0.25em; line-height: 1; border-radius: 0.35em;\">\n",
              "    work with neutrinos, the subatomic particles considered to be elementary constituents of matter.\n",
              "    <span style=\"font-size: 0.8em; font-weight: bold; line-height: 1; border-radius: 0.35em; vertical-align: middle; margin-left: 0.5rem\">Reason</span>\n",
              "</mark>\n",
              " \n",
              "<mark class=\"entity\" style=\"background: #F67DE3; padding: 0.45em 0.6em; margin: 0 0.25em; line-height: 1; border-radius: 0.35em;\">\n",
              "    He\n",
              "    <span style=\"font-size: 0.8em; font-weight: bold; line-height: 1; border-radius: 0.35em; vertical-align: middle; margin-left: 0.5rem\">Winner</span>\n",
              "</mark>\n",
              " was a recipient of the \n",
              "<mark class=\"entity\" style=\"background: #7DF6D9; padding: 0.45em 0.6em; margin: 0 0.25em; line-height: 1; border-radius: 0.35em;\">\n",
              "    1988\n",
              "    <span style=\"font-size: 0.8em; font-weight: bold; line-height: 1; border-radius: 0.35em; vertical-align: middle; margin-left: 0.5rem\">Date</span>\n",
              "</mark>\n",
              " \n",
              "<mark class=\"entity\" style=\"background: #DC143C; padding: 0.45em 0.6em; margin: 0 0.25em; line-height: 1; border-radius: 0.35em;\">\n",
              "    Nobel Prize in Physics\n",
              "    <span style=\"font-size: 0.8em; font-weight: bold; line-height: 1; border-radius: 0.35em; vertical-align: middle; margin-left: 0.5rem\">Prizetype</span>\n",
              "</mark>\n",
              ", along with Leon M. Lederman and Melvin Schwartz, for \n",
              "<mark class=\"entity\" style=\"background: #00FF00; padding: 0.45em 0.6em; margin: 0 0.25em; line-height: 1; border-radius: 0.35em;\">\n",
              "    the discovery of the muon neutrino.\n",
              "    <span style=\"font-size: 0.8em; font-weight: bold; line-height: 1; border-radius: 0.35em; vertical-align: middle; margin-left: 0.5rem\">Reason</span>\n",
              "</mark>\n",
              " \n",
              "<mark class=\"entity\" style=\"background: #F67DE3; padding: 0.45em 0.6em; margin: 0 0.25em; line-height: 1; border-radius: 0.35em;\">\n",
              "    Through\n",
              "    <span style=\"font-size: 0.8em; font-weight: bold; line-height: 1; border-radius: 0.35em; vertical-align: middle; margin-left: 0.5rem\">Winner</span>\n",
              "</mark>\n",
              " his career as an experimental particle physicist, \n",
              "<mark class=\"entity\" style=\"background: #F67DE3; padding: 0.45em 0.6em; margin: 0 0.25em; line-height: 1; border-radius: 0.35em;\">\n",
              "    he\n",
              "    <span style=\"font-size: 0.8em; font-weight: bold; line-height: 1; border-radius: 0.35em; vertical-align: middle; margin-left: 0.5rem\">Winner</span>\n",
              "</mark>\n",
              " held positions at the University of California, Berkeley, Columbia University (\n",
              "<mark class=\"entity\" style=\"background: #7DF6D9; padding: 0.45em 0.6em; margin: 0 0.25em; line-height: 1; border-radius: 0.35em;\">\n",
              "    1950\n",
              "    <span style=\"font-size: 0.8em; font-weight: bold; line-height: 1; border-radius: 0.35em; vertical-align: middle; margin-left: 0.5rem\">Date</span>\n",
              "</mark>\n",
              "-\n",
              "<mark class=\"entity\" style=\"background: #7DF6D9; padding: 0.45em 0.6em; margin: 0 0.25em; line-height: 1; border-radius: 0.35em;\">\n",
              "    1968\n",
              "    <span style=\"font-size: 0.8em; font-weight: bold; line-height: 1; border-radius: 0.35em; vertical-align: middle; margin-left: 0.5rem\">Date</span>\n",
              "</mark>\n",
              "), and the CERN (\n",
              "<mark class=\"entity\" style=\"background: #7DF6D9; padding: 0.45em 0.6em; margin: 0 0.25em; line-height: 1; border-radius: 0.35em;\">\n",
              "    1968\n",
              "    <span style=\"font-size: 0.8em; font-weight: bold; line-height: 1; border-radius: 0.35em; vertical-align: middle; margin-left: 0.5rem\">Date</span>\n",
              "</mark>\n",
              "-\n",
              "<mark class=\"entity\" style=\"background: #7DF6D9; padding: 0.45em 0.6em; margin: 0 0.25em; line-height: 1; border-radius: 0.35em;\">\n",
              "    1986\n",
              "    <span style=\"font-size: 0.8em; font-weight: bold; line-height: 1; border-radius: 0.35em; vertical-align: middle; margin-left: 0.5rem\">Date</span>\n",
              "</mark>\n",
              "). \n",
              "<mark class=\"entity\" style=\"background: #F67DE3; padding: 0.45em 0.6em; margin: 0 0.25em; line-height: 1; border-radius: 0.35em;\">\n",
              "    He\n",
              "    <span style=\"font-size: 0.8em; font-weight: bold; line-height: 1; border-radius: 0.35em; vertical-align: middle; margin-left: 0.5rem\">Winner</span>\n",
              "</mark>\n",
              " was also a recipient of \n",
              "<mark class=\"entity\" style=\"background: #E287433; padding: 0.45em 0.6em; margin: 0 0.25em; line-height: 1; border-radius: 0.35em;\">\n",
              "    the United States\n",
              "    <span style=\"font-size: 0.8em; font-weight: bold; line-height: 1; border-radius: 0.35em; vertical-align: middle; margin-left: 0.5rem\">Nationality</span>\n",
              "</mark>\n",
              " National Medal of Science in \n",
              "<mark class=\"entity\" style=\"background: #7DF6D9; padding: 0.45em 0.6em; margin: 0 0.25em; line-height: 1; border-radius: 0.35em;\">\n",
              "    1988\n",
              "    <span style=\"font-size: 0.8em; font-weight: bold; line-height: 1; border-radius: 0.35em; vertical-align: middle; margin-left: 0.5rem\">Date</span>\n",
              "</mark>\n",
              ", and the Matteucci Medal from the Italian Academy of Sciences in \n",
              "<mark class=\"entity\" style=\"background: #7DF6D9; padding: 0.45em 0.6em; margin: 0 0.25em; line-height: 1; border-radius: 0.35em;\">\n",
              "    1990\n",
              "    <span style=\"font-size: 0.8em; font-weight: bold; line-height: 1; border-radius: 0.35em; vertical-align: middle; margin-left: 0.5rem\">Date</span>\n",
              "</mark>\n",
              ".<br>Early life and education.<br>\n",
              "<mark class=\"entity\" style=\"background: #F67DE3; padding: 0.45em 0.6em; margin: 0 0.25em; line-height: 1; border-radius: 0.35em;\">\n",
              "    Steinberger\n",
              "    <span style=\"font-size: 0.8em; font-weight: bold; line-height: 1; border-radius: 0.35em; vertical-align: middle; margin-left: 0.5rem\">Winner</span>\n",
              "</mark>\n",
              " was born in the city of Bad Kissingen in Bavaria, Germany, on May 25, 1921 into a Jewish family. The rise of Nazism in Germany, with its open anti-Semitism, prompted his parents, Ludwig Lazarus (a cantor and religious teacher) and Berta May Steinberger, to send \n",
              "<mark class=\"entity\" style=\"background: #F67DE3; padding: 0.45em 0.6em; margin: 0 0.25em; line-height: 1; border-radius: 0.35em;\">\n",
              "    him\n",
              "    <span style=\"font-size: 0.8em; font-weight: bold; line-height: 1; border-radius: 0.35em; vertical-align: middle; margin-left: 0.5rem\">Winner</span>\n",
              "</mark>\n",
              " out of the country.<br>\n",
              "<mark class=\"entity\" style=\"background: #F67DE3; padding: 0.45em 0.6em; margin: 0 0.25em; line-height: 1; border-radius: 0.35em;\">\n",
              "    Steinberger\n",
              "    <span style=\"font-size: 0.8em; font-weight: bold; line-height: 1; border-radius: 0.35em; vertical-align: middle; margin-left: 0.5rem\">Winner</span>\n",
              "</mark>\n",
              " emigrated to \n",
              "<mark class=\"entity\" style=\"background: #E287433; padding: 0.45em 0.6em; margin: 0 0.25em; line-height: 1; border-radius: 0.35em;\">\n",
              "    the United States\n",
              "    <span style=\"font-size: 0.8em; font-weight: bold; line-height: 1; border-radius: 0.35em; vertical-align: middle; margin-left: 0.5rem\">Nationality</span>\n",
              "</mark>\n",
              " at the age of 13, making the trans-Atlantic trip with his brother Herbert. Jewish charities in \n",
              "<mark class=\"entity\" style=\"background: #E287433; padding: 0.45em 0.6em; margin: 0 0.25em; line-height: 1; border-radius: 0.35em;\">\n",
              "    the U.S.\n",
              "    <span style=\"font-size: 0.8em; font-weight: bold; line-height: 1; border-radius: 0.35em; vertical-align: middle; margin-left: 0.5rem\">Nationality</span>\n",
              "</mark>\n",
              " arranged for Barnett Farroll to care for \n",
              "<mark class=\"entity\" style=\"background: #F67DE3; padding: 0.45em 0.6em; margin: 0 0.25em; line-height: 1; border-radius: 0.35em;\">\n",
              "    him\n",
              "    <span style=\"font-size: 0.8em; font-weight: bold; line-height: 1; border-radius: 0.35em; vertical-align: middle; margin-left: 0.5rem\">Winner</span>\n",
              "</mark>\n",
              " as a foster child. \n",
              "<mark class=\"entity\" style=\"background: #F67DE3; padding: 0.45em 0.6em; margin: 0 0.25em; line-height: 1; border-radius: 0.35em;\">\n",
              "    Steinberger\n",
              "    <span style=\"font-size: 0.8em; font-weight: bold; line-height: 1; border-radius: 0.35em; vertical-align: middle; margin-left: 0.5rem\">Winner</span>\n",
              "</mark>\n",
              " attended New Trier Township High School, in Winnetka, Illinois. \n",
              "<mark class=\"entity\" style=\"background: #F67DE3; padding: 0.45em 0.6em; margin: 0 0.25em; line-height: 1; border-radius: 0.35em;\">\n",
              "    He\n",
              "    <span style=\"font-size: 0.8em; font-weight: bold; line-height: 1; border-radius: 0.35em; vertical-align: middle; margin-left: 0.5rem\">Winner</span>\n",
              "</mark>\n",
              " was reunited with his parents and younger brother in \n",
              "<mark class=\"entity\" style=\"background: #7DF6D9; padding: 0.45em 0.6em; margin: 0 0.25em; line-height: 1; border-radius: 0.35em;\">\n",
              "    1938\n",
              "    <span style=\"font-size: 0.8em; font-weight: bold; line-height: 1; border-radius: 0.35em; vertical-align: middle; margin-left: 0.5rem\">Date</span>\n",
              "</mark>\n",
              ".</div></span>"
            ]
          },
          "metadata": {}
        }
      ]
    }
  ]
}