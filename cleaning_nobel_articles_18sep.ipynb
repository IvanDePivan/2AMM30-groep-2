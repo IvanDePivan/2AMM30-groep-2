{
  "cells": [
    {
      "cell_type": "markdown",
      "metadata": {
        "id": "view-in-github",
        "colab_type": "text"
      },
      "source": [
        "<a href=\"https://colab.research.google.com/github/IvanDePivan/2AMM30-groep-2-component-1/blob/main/cleaning_nobel_articles_18sep.ipynb\" target=\"_parent\"><img src=\"https://colab.research.google.com/assets/colab-badge.svg\" alt=\"Open In Colab\"/></a>"
      ]
    },
    {
      "cell_type": "code",
      "execution_count": 1,
      "metadata": {
        "colab": {
          "base_uri": "https://localhost:8080/"
        },
        "id": "RlhkUVLQxeq0",
        "outputId": "1f326da6-fd46-4157-d8fc-ab005c6f3dc9"
      },
      "outputs": [
        {
          "output_type": "stream",
          "name": "stdout",
          "text": [
            "Collecting ftfy\n",
            "  Downloading ftfy-6.1.1-py3-none-any.whl (53 kB)\n",
            "\u001b[?25l     \u001b[90m━━━━━━━━━━━━━━━━━━━━━━━━━━━━━━━━━━━━━━━━\u001b[0m \u001b[32m0.0/53.1 kB\u001b[0m \u001b[31m?\u001b[0m eta \u001b[36m-:--:--\u001b[0m\r\u001b[2K     \u001b[90m━━━━━━━━━━━━━━━━━━━━━━━━━━━━━━━━━━━━━━━━\u001b[0m \u001b[32m53.1/53.1 kB\u001b[0m \u001b[31m1.8 MB/s\u001b[0m eta \u001b[36m0:00:00\u001b[0m\n",
            "\u001b[?25hRequirement already satisfied: wcwidth>=0.2.5 in /usr/local/lib/python3.10/dist-packages (from ftfy) (0.2.6)\n",
            "Installing collected packages: ftfy\n",
            "Successfully installed ftfy-6.1.1\n",
            "Requirement already satisfied: srsly in /usr/local/lib/python3.10/dist-packages (2.4.7)\n",
            "Requirement already satisfied: catalogue<2.1.0,>=2.0.3 in /usr/local/lib/python3.10/dist-packages (from srsly) (2.0.9)\n"
          ]
        }
      ],
      "source": [
        "!pip install ftfy\n",
        "!pip install srsly"
      ]
    },
    {
      "cell_type": "code",
      "execution_count": 2,
      "metadata": {
        "id": "hfRKGhr3nfKe"
      },
      "outputs": [],
      "source": [
        "from pathlib import Path\n",
        "import ftfy\n",
        "import random\n",
        "import srsly\n",
        "import os\n",
        "import re\n",
        "from tqdm import tqdm"
      ]
    },
    {
      "cell_type": "code",
      "execution_count": 3,
      "metadata": {
        "colab": {
          "base_uri": "https://localhost:8080/"
        },
        "id": "Bh222QelAvCQ",
        "outputId": "605336a4-3c47-4ab9-a271-b44d0a826028"
      },
      "outputs": [
        {
          "output_type": "stream",
          "name": "stdout",
          "text": [
            "Mounted at /content/drive\n"
          ]
        }
      ],
      "source": [
        "from google.colab import auth\n",
        "auth.authenticate_user()\n",
        "\n",
        "from google.colab import drive\n",
        "drive.mount('/content/drive')"
      ]
    },
    {
      "cell_type": "code",
      "execution_count": 4,
      "metadata": {
        "id": "YAoU7MABCI55"
      },
      "outputs": [],
      "source": [
        "# Get email of current Colab user\n",
        "import requests\n",
        "gcloud_token = !gcloud auth print-access-token\n",
        "gcloud_tokeninfo = requests.get('https://www.googleapis.com/oauth2/v3/tokeninfo?access_token=' + gcloud_token[0]).json()\n",
        "email = gcloud_tokeninfo['email']"
      ]
    },
    {
      "cell_type": "code",
      "execution_count": 5,
      "metadata": {
        "colab": {
          "base_uri": "https://localhost:8080/"
        },
        "id": "p1u3JQVTCRaW",
        "outputId": "20fe44c3-2cb9-433d-c2ee-51965520bc5b"
      },
      "outputs": [
        {
          "output_type": "stream",
          "name": "stdout",
          "text": [
            "/content/drive/MyDrive/TUe/TM/Data/enwiki20230820-stripped-json\n"
          ]
        }
      ],
      "source": [
        "# Define notebook directory\n",
        "if email == 'tamaraexterkate93@gmail.com':\n",
        "  notebook_dir = \"/content/drive/MyDrive/TUe/TM/Data/enwiki20230820-stripped-json\"\n",
        "elif email == 'n.v.diermen@student.tue.nl':\n",
        "  notebook_dir = \"/content/drive/MyDrive/Text Mining\"\n",
        "else:\n",
        "  notebook_dir = 'drive/MyDrive/enwiki20230820/raw/'\n",
        "\n",
        "print(notebook_dir)"
      ]
    },
    {
      "cell_type": "code",
      "execution_count": 6,
      "metadata": {
        "id": "P42IcTtaFMAb"
      },
      "outputs": [],
      "source": [
        "# Generate a list of file paths\n",
        "if email == 'tamaraexterkate93@gmail.com' or email == 'n.v.diermen@student.tue.nl':\n",
        "  pathlist = [os.path.join(root, file) for root, dirs, files in os.walk(notebook_dir) for file in files]\n",
        "else:\n",
        "  pathlist = [p for p in Path(notebook_dir).glob('**/*') if p.is_file()]"
      ]
    },
    {
      "cell_type": "code",
      "execution_count": 7,
      "metadata": {
        "id": "HY-TM2go8cXJ"
      },
      "outputs": [],
      "source": [
        "# Define notebook directory (Iris)\n",
        "#notebook_dir = r\"C:\\Users\\20182826\\Documents\\Data Science\\23-24 Jaar 2\\Text mining\\enwiki20230820-stripped-json\"\n",
        "#pathlist = pathlist = [p for p in Path(r\"C:\\Users\\20182826\\Documents\\Data Science\\23-24 Jaar 2\\Text mining\\enwiki20230820-stripped-json\").glob(\"**/*\") if p.is_file()]\n"
      ]
    },
    {
      "cell_type": "code",
      "execution_count": 8,
      "metadata": {
        "id": "uSWvKDNhO7kj"
      },
      "outputs": [],
      "source": [
        "# Search terms\n",
        "search_terms = ['nobel', 'prize']"
      ]
    },
    {
      "cell_type": "code",
      "execution_count": 9,
      "metadata": {
        "id": "78_ZDXVvxB0Y"
      },
      "outputs": [],
      "source": [
        "# Read files using srsly (generators)\n",
        "from itertools import chain\n",
        "\n",
        "def get_json_readers():\n",
        "  return chain.from_iterable(srsly.read_jsonl(path) for path in pathlist)\n",
        "\n",
        "def read_random_json():\n",
        "  data = srsly.read_jsonl(random.choice(pathlist))\n",
        "  articles = [article for article in data if len(article[\"text\"]) > 0]\n",
        "  articles = [article for article in articles if (re.search(term, article[\"text\"], re.IGNORECASE) for term in search_terms)]\n",
        "\n",
        "  return articles\n",
        "\n",
        "def read_all_json():\n",
        "  data = get_json_readers()\n",
        "  articles = [article for article in data if len(article[\"text\"]) > 0 and all(re.search(term, article[\"text\"], re.IGNORECASE) is not None for term in search_terms)]\n",
        "  print(f'found {len(articles)} nonempty nobel prize laureate articles')\n",
        "  return articles\n",
        "\n",
        "def read_all_json_owen():\n",
        "  data = get_json_readers()\n",
        "  articles = [article for article in data if \"Owen Willans Richardson\" in article[\"title\"]]\n",
        "  print(f'found {len(articles)} nonempty nobel prize laureate articles')\n",
        "  return articles\n",
        "\n",
        "def read_all_json_title():\n",
        "  data = get_json_readers()\n",
        "  articles = [article for article in data if all(re.search(term, article[\"title\"], re.IGNORECASE) is not None for term in search_terms)]\n",
        "  print(f'found {len(articles)} nonempty nobel prize laureate articles')\n",
        "  return articles"
      ]
    },
    {
      "cell_type": "code",
      "execution_count": 10,
      "metadata": {
        "id": "VFLWfl31WebS"
      },
      "outputs": [],
      "source": [
        "def clean_text(text):\n",
        "  # Note: the order of these regexes matter, due to '\\n' -> ' ' for instance resulting in repeated spaces\n",
        "  url_pattern = r'http[s]?://(?:[a-zA-Z]|[0-9]|[$-_@.&+]|[!*\\\\(\\\\),]|(?:%[0-9a-fA-F][0-9a-fA-F]))+'\n",
        "\n",
        "\n",
        "  ordered_list = re.compile(r'^[A-Z0-9]{1,2}\\.', re.MULTILINE)\n",
        "  cleaned_text = ftfy.fix_text(text)\n",
        "  cleaned_text = re.sub('\\(([;,] ?)+\\)', '\\(', cleaned_text) # Removes artifacts from within parentheses e.g. (; ; born in etc) -> (born in etc)\n",
        "  cleaned_text = remove_artifacts(cleaned_text)\n",
        "  cleaned_text = re.sub('\\(.?\\)', '', cleaned_text) # Remove empty or 1 character parentheses e.g. \"( )\"\n",
        "  cleaned_text = re.sub('\\n', ' ', cleaned_text) # Remove newlines\n",
        "  cleaned_text = re.sub(ordered_list, '', cleaned_text) # Removes the first part of an ordered list (e.g. A. the cheese ->  the cheese)\n",
        "  cleaned_text = re.sub(' {2,}', ' ', cleaned_text) # Remove repeated spaces\n",
        "  cleaned_text = re.sub('[“”]', '\"', cleaned_text) # Remove smart double quotes, might also need one for smart single quotes\n",
        "  cleaned_text = re.sub('([12]\\d)(\\d{2})[–\\/](\\d{2}\\D)', r'\\1\\2-\\1\\3', cleaned_text)\n",
        "  cleaned_text = re.sub(url_pattern, '', cleaned_text)\n",
        "\n",
        "  return cleaned_text"
      ]
    },
    {
      "cell_type": "code",
      "source": [
        "def remove_artifacts(text):\n",
        "\n",
        "  # Find text between parentheses\n",
        "  pattern = r'\\((.*?)\\)'\n",
        "  matches = re.findall(pattern, text)\n",
        "\n",
        "  if matches:\n",
        "      for match in matches:\n",
        "          # Apply substitutions as needed\n",
        "          modified_match = re.sub(r'^[;, ]+', '', match)  # Remove leading semicolons, commas, or spaces\n",
        "          modified_match = modified_match.strip() # Remove spaces at beginning or end\n",
        "\n",
        "          # Replace the original match with the modified one\n",
        "          text = text.replace(f'({match})', f'({modified_match})')\n",
        "\n",
        "  return text"
      ],
      "metadata": {
        "id": "ffa-saVcPu0k"
      },
      "execution_count": 11,
      "outputs": []
    },
    {
      "cell_type": "code",
      "execution_count": 12,
      "metadata": {
        "id": "JVFONaQi1zIL"
      },
      "outputs": [],
      "source": [
        "# # Not needed if you have the .json\n",
        "# articles = read_all_json()\n",
        "# srsly.write_json(os.path.join(notebook_dir, 'nobel_articles.json'), articles)"
      ]
    },
    {
      "cell_type": "code",
      "execution_count": 13,
      "metadata": {
        "colab": {
          "base_uri": "https://localhost:8080/"
        },
        "id": "s3t9Z6jfp02k",
        "outputId": "29ba26b3-2123-4a47-e117-74fdc146011d"
      },
      "outputs": [
        {
          "output_type": "stream",
          "name": "stdout",
          "text": [
            "14980\n"
          ]
        }
      ],
      "source": [
        "articles = srsly.read_json(os.path.join(notebook_dir, 'nobel_articles.json'))\n",
        "print(len(articles)) #63 missing"
      ]
    },
    {
      "cell_type": "code",
      "execution_count": 14,
      "metadata": {
        "colab": {
          "base_uri": "https://localhost:8080/"
        },
        "id": "PR8yRFNqo2BY",
        "outputId": "7c2f3436-4830-4f6e-f4ae-04d9789e9bb0"
      },
      "outputs": [
        {
          "output_type": "stream",
          "name": "stdout",
          "text": [
            "12543\n"
          ]
        }
      ],
      "source": [
        "term = \"Physics|Chemistry|Physiology|Medicine|Literature|Peace|Economics\"\n",
        "articles = [article for article in articles if re.search(term, article[\"text\"], re.IGNORECASE) is not None]\n",
        "print(len(articles))  #65"
      ]
    },
    {
      "cell_type": "code",
      "execution_count": 15,
      "metadata": {
        "colab": {
          "base_uri": "https://localhost:8080/"
        },
        "id": "efiQWOFYnBqS",
        "outputId": "d442e977-7431-414c-c266-94176d6cd768"
      },
      "outputs": [
        {
          "output_type": "stream",
          "name": "stdout",
          "text": [
            "4280\n"
          ]
        }
      ],
      "source": [
        "#word 'nobel' has to be in it 2 or more times\n",
        "articles = [article for article in articles if len(re.findall(r'nobel', article[\"text\"], re.IGNORECASE)) >= 2]\n",
        "print(len(articles))"
      ]
    },
    {
      "cell_type": "code",
      "execution_count": 16,
      "metadata": {
        "colab": {
          "base_uri": "https://localhost:8080/"
        },
        "id": "ZjWCRx2abYCu",
        "outputId": "38b6bbce-85f5-4ff6-9b89-49251278a5f6"
      },
      "outputs": [
        {
          "output_type": "stream",
          "name": "stdout",
          "text": [
            "2558\n"
          ]
        }
      ],
      "source": [
        "term = \"born\"\n",
        "articles = [article for article in articles if re.search(term, article[\"text\"], re.IGNORECASE) is not None]\n",
        "print(len(articles))"
      ]
    },
    {
      "cell_type": "code",
      "execution_count": 17,
      "metadata": {
        "colab": {
          "base_uri": "https://localhost:8080/"
        },
        "id": "YWpD0hdpgkH5",
        "outputId": "1a04f928-fd19-4b84-c19c-1a365a722334"
      },
      "outputs": [
        {
          "output_type": "stream",
          "name": "stdout",
          "text": [
            "2005\n"
          ]
        }
      ],
      "source": [
        "term = \"awarded|laureate\"\n",
        "articles = [article for article in articles if re.search(term, article[\"text\"], re.IGNORECASE) is not None]\n",
        "print(len(articles)) #269"
      ]
    },
    {
      "cell_type": "code",
      "execution_count": 18,
      "metadata": {
        "id": "o6pZ5XRE8cXM",
        "outputId": "fabe4b32-51bd-406d-c858-9cd7c03bfa14",
        "colab": {
          "base_uri": "https://localhost:8080/"
        }
      },
      "outputs": [
        {
          "output_type": "stream",
          "name": "stdout",
          "text": [
            "1845\n"
          ]
        }
      ],
      "source": [
        "# Words 'Price', 'List', 'University', 'History', 'College' not in title\n",
        "articles = [article for article in articles if all(word not in article[\"title\"] for word in ('Prize', 'List', 'University', 'History', 'College', 'Nobel', 'Science and technology'))]\n",
        "print(len(articles))"
      ]
    },
    {
      "cell_type": "code",
      "execution_count": 19,
      "metadata": {
        "id": "NaDQYdW9WWNE"
      },
      "outputs": [],
      "source": [
        "articles_cleaned = [{key: (clean_text(value) if key == \"text\" else value) for key, value in article.items()} for article in articles]"
      ]
    },
    {
      "cell_type": "code",
      "source": [
        "# # try text cleaning on example\n",
        "# test = articles[1]['text']\n",
        "# clean_text(test)"
      ],
      "metadata": {
        "id": "CIMfQQwGJzih"
      },
      "execution_count": 20,
      "outputs": []
    },
    {
      "cell_type": "code",
      "execution_count": 21,
      "metadata": {
        "id": "zz3SExs7qRlB"
      },
      "outputs": [],
      "source": [
        "# write cleaned articles to file\n",
        "srsly.write_json(os.path.join(notebook_dir, 'nobel_articles_cleaned.json'), articles_cleaned)"
      ]
    },
    {
      "cell_type": "markdown",
      "metadata": {
        "id": "LG7qQ2t-8cXN"
      },
      "source": [
        "Testen"
      ]
    },
    {
      "cell_type": "code",
      "execution_count": 22,
      "metadata": {
        "id": "KprkU46mlx6G",
        "colab": {
          "base_uri": "https://localhost:8080/",
          "height": 210
        },
        "outputId": "7d2a49ef-311f-4c77-c9d8-b74b1ddd6092"
      },
      "outputs": [
        {
          "output_type": "error",
          "ename": "FileNotFoundError",
          "evalue": "ignored",
          "traceback": [
            "\u001b[0;31m---------------------------------------------------------------------------\u001b[0m",
            "\u001b[0;31mFileNotFoundError\u001b[0m                         Traceback (most recent call last)",
            "\u001b[0;32m<ipython-input-22-a0aa6a61efa4>\u001b[0m in \u001b[0;36m<cell line: 2>\u001b[0;34m()\u001b[0m\n\u001b[1;32m      1\u001b[0m \u001b[0;32mimport\u001b[0m \u001b[0mjson\u001b[0m\u001b[0;34m\u001b[0m\u001b[0;34m\u001b[0m\u001b[0m\n\u001b[0;32m----> 2\u001b[0;31m \u001b[0;32mwith\u001b[0m \u001b[0mopen\u001b[0m\u001b[0;34m(\u001b[0m\u001b[0;34m\"laureates.json\"\u001b[0m\u001b[0;34m,\u001b[0m \u001b[0;34m'r'\u001b[0m\u001b[0;34m)\u001b[0m \u001b[0;32mas\u001b[0m \u001b[0mf\u001b[0m\u001b[0;34m:\u001b[0m\u001b[0;34m\u001b[0m\u001b[0;34m\u001b[0m\u001b[0m\n\u001b[0m\u001b[1;32m      3\u001b[0m     \u001b[0mwinners_json\u001b[0m \u001b[0;34m=\u001b[0m \u001b[0mjson\u001b[0m\u001b[0;34m.\u001b[0m\u001b[0mload\u001b[0m\u001b[0;34m(\u001b[0m\u001b[0mf\u001b[0m\u001b[0;34m)\u001b[0m\u001b[0;34m\u001b[0m\u001b[0;34m\u001b[0m\u001b[0m\n",
            "\u001b[0;31mFileNotFoundError\u001b[0m: [Errno 2] No such file or directory: 'laureates.json'"
          ]
        }
      ],
      "source": [
        "import json\n",
        "with open(\"laureates.json\", 'r') as f:\n",
        "    winners_json = json.load(f)"
      ]
    },
    {
      "cell_type": "code",
      "execution_count": null,
      "metadata": {
        "id": "cmyJDW5o8cXO"
      },
      "outputs": [],
      "source": [
        "i = 0\n",
        "#missing_uni = []\n",
        "print(len(winners_json))\n",
        "for winner in winners_json:\n",
        "    winner_found=False\n",
        "    for article in articles:\n",
        "        if article['title'] == winner:\n",
        "            winner_found=True\n",
        "            break\n",
        "    if winner_found==False:\n",
        "        #missing_uni.append(winner)\n",
        "        i+=1\n",
        "print(i)"
      ]
    }
  ],
  "metadata": {
    "colab": {
      "provenance": [],
      "include_colab_link": true
    },
    "kernelspec": {
      "display_name": "Python 3",
      "name": "python3"
    },
    "language_info": {
      "codemirror_mode": {
        "name": "ipython",
        "version": 3
      },
      "file_extension": ".py",
      "mimetype": "text/x-python",
      "name": "python",
      "nbconvert_exporter": "python",
      "pygments_lexer": "ipython3",
      "version": "3.11.4"
    }
  },
  "nbformat": 4,
  "nbformat_minor": 0
}