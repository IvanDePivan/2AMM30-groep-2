{
  "cells": [
    {
      "cell_type": "markdown",
      "metadata": {
        "id": "view-in-github",
        "colab_type": "text"
      },
      "source": [
        "<a href=\"https://colab.research.google.com/github/IvanDePivan/2AMM30-groep-2-component-1/blob/main/cleaning_nobel_articles_18sep.ipynb\" target=\"_parent\"><img src=\"https://colab.research.google.com/assets/colab-badge.svg\" alt=\"Open In Colab\"/></a>"
      ]
    },
    {
      "cell_type": "code",
      "execution_count": 73,
      "metadata": {
        "colab": {
          "base_uri": "https://localhost:8080/"
        },
        "id": "RlhkUVLQxeq0",
        "outputId": "115052ab-9d57-489c-9a6c-43fa5563c9c7"
      },
      "outputs": [
        {
          "output_type": "stream",
          "name": "stdout",
          "text": [
            "Requirement already satisfied: ftfy in /usr/local/lib/python3.10/dist-packages (6.1.1)\n",
            "Requirement already satisfied: wcwidth>=0.2.5 in /usr/local/lib/python3.10/dist-packages (from ftfy) (0.2.6)\n",
            "Requirement already satisfied: srsly in /usr/local/lib/python3.10/dist-packages (2.4.7)\n",
            "Requirement already satisfied: catalogue<2.1.0,>=2.0.3 in /usr/local/lib/python3.10/dist-packages (from srsly) (2.0.9)\n"
          ]
        }
      ],
      "source": [
        "!pip install ftfy\n",
        "!pip install srsly"
      ]
    },
    {
      "cell_type": "code",
      "execution_count": 74,
      "metadata": {
        "id": "hfRKGhr3nfKe"
      },
      "outputs": [],
      "source": [
        "from pathlib import Path\n",
        "import ftfy\n",
        "import random\n",
        "import srsly\n",
        "import os\n",
        "import re\n",
        "from tqdm import tqdm"
      ]
    },
    {
      "cell_type": "code",
      "execution_count": 75,
      "metadata": {
        "colab": {
          "base_uri": "https://localhost:8080/"
        },
        "id": "Bh222QelAvCQ",
        "outputId": "b9974a97-d257-4b2b-ab6f-1533e0c0fa18"
      },
      "outputs": [
        {
          "output_type": "stream",
          "name": "stdout",
          "text": [
            "Drive already mounted at /content/drive; to attempt to forcibly remount, call drive.mount(\"/content/drive\", force_remount=True).\n"
          ]
        }
      ],
      "source": [
        "from google.colab import auth\n",
        "auth.authenticate_user()\n",
        "\n",
        "from google.colab import drive\n",
        "drive.mount('/content/drive')"
      ]
    },
    {
      "cell_type": "code",
      "execution_count": 76,
      "metadata": {
        "id": "YAoU7MABCI55"
      },
      "outputs": [],
      "source": [
        "# Get email of current Colab user\n",
        "import requests\n",
        "gcloud_token = !gcloud auth print-access-token\n",
        "gcloud_tokeninfo = requests.get('https://www.googleapis.com/oauth2/v3/tokeninfo?access_token=' + gcloud_token[0]).json()\n",
        "email = gcloud_tokeninfo['email']"
      ]
    },
    {
      "cell_type": "code",
      "execution_count": 77,
      "metadata": {
        "colab": {
          "base_uri": "https://localhost:8080/"
        },
        "id": "p1u3JQVTCRaW",
        "outputId": "c92d177f-e35e-4256-cbf5-a583942fede0"
      },
      "outputs": [
        {
          "output_type": "stream",
          "name": "stdout",
          "text": [
            "/content/drive/MyDrive/TUe/TM/Data/enwiki20230820-stripped-json\n"
          ]
        }
      ],
      "source": [
        "# Define notebook directory\n",
        "if email == 'tamaraexterkate93@gmail.com':\n",
        "  notebook_dir = \"/content/drive/MyDrive/TUe/TM/Data/enwiki20230820-stripped-json\"\n",
        "elif email == 'n.v.diermen@student.tue.nl':\n",
        "  notebook_dir = \"/content/drive/MyDrive/Text Mining\"\n",
        "else:\n",
        "  notebook_dir = 'drive/MyDrive/enwiki20230820/raw/'\n",
        "\n",
        "print(notebook_dir)"
      ]
    },
    {
      "cell_type": "code",
      "execution_count": 78,
      "metadata": {
        "id": "P42IcTtaFMAb"
      },
      "outputs": [],
      "source": [
        "# Generate a list of file paths\n",
        "if email == 'tamaraexterkate93@gmail.com' or email == 'n.v.diermen@student.tue.nl':\n",
        "  pathlist = [os.path.join(root, file) for root, dirs, files in os.walk(notebook_dir) for file in files]\n",
        "else:\n",
        "  pathlist = [p for p in Path(notebook_dir).glob('**/*') if p.is_file()]"
      ]
    },
    {
      "cell_type": "code",
      "execution_count": 79,
      "metadata": {
        "id": "HY-TM2go8cXJ"
      },
      "outputs": [],
      "source": [
        "# Define notebook directory (Iris)\n",
        "#notebook_dir = r\"C:\\Users\\20182826\\Documents\\Data Science\\23-24 Jaar 2\\Text mining\\enwiki20230820-stripped-json\"\n",
        "#pathlist = pathlist = [p for p in Path(r\"C:\\Users\\20182826\\Documents\\Data Science\\23-24 Jaar 2\\Text mining\\enwiki20230820-stripped-json\").glob(\"**/*\") if p.is_file()]\n"
      ]
    },
    {
      "cell_type": "code",
      "execution_count": 80,
      "metadata": {
        "id": "uSWvKDNhO7kj"
      },
      "outputs": [],
      "source": [
        "# Search terms\n",
        "search_terms = ['nobel', 'prize']"
      ]
    },
    {
      "cell_type": "code",
      "execution_count": 81,
      "metadata": {
        "id": "78_ZDXVvxB0Y"
      },
      "outputs": [],
      "source": [
        "# Read files using srsly (generators)\n",
        "from itertools import chain\n",
        "\n",
        "def get_json_readers():\n",
        "  return chain.from_iterable(srsly.read_jsonl(path) for path in pathlist)\n",
        "\n",
        "def read_random_json():\n",
        "  data = srsly.read_jsonl(random.choice(pathlist))\n",
        "  articles = [article for article in data if len(article[\"text\"]) > 0]\n",
        "  articles = [article for article in articles if (re.search(term, article[\"text\"], re.IGNORECASE) for term in search_terms)]\n",
        "\n",
        "  return articles\n",
        "\n",
        "def read_all_json():\n",
        "  data = get_json_readers()\n",
        "  articles = [article for article in data if len(article[\"text\"]) > 0 and all(re.search(term, article[\"text\"], re.IGNORECASE) is not None for term in search_terms)]\n",
        "  print(f'found {len(articles)} nonempty nobel prize laureate articles')\n",
        "  return articles\n",
        "\n",
        "def read_all_json_owen():\n",
        "  data = get_json_readers()\n",
        "  articles = [article for article in data if \"Owen Willans Richardson\" in article[\"title\"]]\n",
        "  print(f'found {len(articles)} nonempty nobel prize laureate articles')\n",
        "  return articles\n",
        "\n",
        "def read_all_json_title():\n",
        "  data = get_json_readers()\n",
        "  articles = [article for article in data if all(re.search(term, article[\"title\"], re.IGNORECASE) is not None for term in search_terms)]\n",
        "  print(f'found {len(articles)} nonempty nobel prize laureate articles')\n",
        "  return articles"
      ]
    },
    {
      "cell_type": "code",
      "execution_count": 82,
      "metadata": {
        "id": "VFLWfl31WebS"
      },
      "outputs": [],
      "source": [
        "def clean_text(text):\n",
        "  # Note: the order of these regexes matter, due to '\\n' -> ' ' for instance resulting in repeated spaces\n",
        "  url_pattern = r'http[s]?://(?:[a-zA-Z]|[0-9]|[$-_@.&+]|[!*\\\\(\\\\),]|(?:%[0-9a-fA-F][0-9a-fA-F]))+'\n",
        "\n",
        "\n",
        "  ordered_list = re.compile(r'^[A-Z0-9]{1,2}\\.', re.MULTILINE)\n",
        "  cleaned_text = ftfy.fix_text(text)\n",
        "  cleaned_text = remove_artifacts(cleaned_text)\n",
        "  cleaned_text = re.sub('\\(.?\\)', '', cleaned_text) # Remove empty or 1 character parentheses e.g. \"( )\"\n",
        "  cleaned_text = re.sub(ordered_list, '', cleaned_text) # Removes the first part of an ordered list (e.g. A. the cheese ->  the cheese)\n",
        "  cleaned_text = re.sub(' {2,}', ' ', cleaned_text) # Remove repeated spaces\n",
        "  cleaned_text = re.sub('[“”]', '\"', cleaned_text) # Remove smart double quotes, might also need one for smart single quotes\n",
        "  cleaned_text = re.sub('([12]\\d)(\\d{2})[–\\/](\\d{2}\\D)', r'\\1\\2-\\1\\3', cleaned_text)\n",
        "  cleaned_text = re.sub(url_pattern, '', cleaned_text)\n",
        "\n",
        "  return cleaned_text"
      ]
    },
    {
      "cell_type": "code",
      "source": [
        "def remove_artifacts(text):\n",
        "\n",
        "  # Find text between parentheses\n",
        "  pattern = r'\\((.*?)\\)'\n",
        "  matches = re.findall(pattern, text)\n",
        "\n",
        "  if matches:\n",
        "      for match in matches:\n",
        "          # Apply substitutions as needed\n",
        "          modified_match = re.sub(r'^[;, ]+', '', match)  # Remove leading semicolons, commas, or spaces\n",
        "          modified_match = modified_match.strip() # Remove spaces at beginning or end\n",
        "\n",
        "          # Replace the original match with the modified one\n",
        "          text = text.replace(f'({match})', f'({modified_match})')\n",
        "\n",
        "  return text"
      ],
      "metadata": {
        "id": "ffa-saVcPu0k"
      },
      "execution_count": 83,
      "outputs": []
    },
    {
      "cell_type": "code",
      "execution_count": 84,
      "metadata": {
        "id": "JVFONaQi1zIL"
      },
      "outputs": [],
      "source": [
        "# # Not needed if you have the .json\n",
        "# articles = read_all_json()\n",
        "# srsly.write_json(os.path.join(notebook_dir, 'nobel_articles.json'), articles)"
      ]
    },
    {
      "cell_type": "code",
      "execution_count": 85,
      "metadata": {
        "colab": {
          "base_uri": "https://localhost:8080/"
        },
        "id": "s3t9Z6jfp02k",
        "outputId": "a2088b47-ed4d-4952-c354-0b81156f2cde"
      },
      "outputs": [
        {
          "output_type": "stream",
          "name": "stdout",
          "text": [
            "14980\n"
          ]
        }
      ],
      "source": [
        "articles = srsly.read_json(os.path.join(notebook_dir, 'nobel_articles.json'))\n",
        "print(len(articles)) #63 missing"
      ]
    },
    {
      "cell_type": "code",
      "execution_count": 86,
      "metadata": {
        "colab": {
          "base_uri": "https://localhost:8080/"
        },
        "id": "PR8yRFNqo2BY",
        "outputId": "9fc517d2-45eb-47e6-e33c-d7ca7ed8bddf"
      },
      "outputs": [
        {
          "output_type": "stream",
          "name": "stdout",
          "text": [
            "12543\n"
          ]
        }
      ],
      "source": [
        "term = \"Physics|Chemistry|Physiology|Medicine|Literature|Peace|Economics\"\n",
        "articles = [article for article in articles if re.search(term, article[\"text\"], re.IGNORECASE) is not None]\n",
        "print(len(articles))  #65"
      ]
    },
    {
      "cell_type": "code",
      "execution_count": 87,
      "metadata": {
        "colab": {
          "base_uri": "https://localhost:8080/"
        },
        "id": "efiQWOFYnBqS",
        "outputId": "33754797-f717-48ab-b376-a351ec7c4445"
      },
      "outputs": [
        {
          "output_type": "stream",
          "name": "stdout",
          "text": [
            "4280\n"
          ]
        }
      ],
      "source": [
        "#word 'nobel' has to be in it 2 or more times\n",
        "articles = [article for article in articles if len(re.findall(r'nobel', article[\"text\"], re.IGNORECASE)) >= 2]\n",
        "print(len(articles))"
      ]
    },
    {
      "cell_type": "code",
      "execution_count": 88,
      "metadata": {
        "colab": {
          "base_uri": "https://localhost:8080/"
        },
        "id": "ZjWCRx2abYCu",
        "outputId": "867f8b95-8be8-44fc-8c81-152ae2bd7899"
      },
      "outputs": [
        {
          "output_type": "stream",
          "name": "stdout",
          "text": [
            "2558\n"
          ]
        }
      ],
      "source": [
        "term = \"born\"\n",
        "articles = [article for article in articles if re.search(term, article[\"text\"], re.IGNORECASE) is not None]\n",
        "print(len(articles))"
      ]
    },
    {
      "cell_type": "code",
      "execution_count": 89,
      "metadata": {
        "colab": {
          "base_uri": "https://localhost:8080/"
        },
        "id": "YWpD0hdpgkH5",
        "outputId": "a58699f8-f382-4781-d5bd-b92317efd16e"
      },
      "outputs": [
        {
          "output_type": "stream",
          "name": "stdout",
          "text": [
            "2005\n"
          ]
        }
      ],
      "source": [
        "term = \"awarded|laureate\"\n",
        "articles = [article for article in articles if re.search(term, article[\"text\"], re.IGNORECASE) is not None]\n",
        "print(len(articles)) #269"
      ]
    },
    {
      "cell_type": "code",
      "execution_count": 90,
      "metadata": {
        "id": "o6pZ5XRE8cXM",
        "outputId": "eb06775f-c757-4af5-db38-d55d20665e7f",
        "colab": {
          "base_uri": "https://localhost:8080/"
        }
      },
      "outputs": [
        {
          "output_type": "stream",
          "name": "stdout",
          "text": [
            "1845\n"
          ]
        }
      ],
      "source": [
        "# Words 'Price', 'List', 'University', 'History', 'College' not in title\n",
        "articles = [article for article in articles if all(word not in article[\"title\"] for word in ('Prize', 'List', 'University', 'History', 'College', 'Nobel', 'Science and technology'))]\n",
        "print(len(articles))"
      ]
    },
    {
      "cell_type": "code",
      "execution_count": 91,
      "metadata": {
        "id": "NaDQYdW9WWNE"
      },
      "outputs": [],
      "source": [
        "articles_cleaned = [{key: (clean_text(value) if key == \"text\" else value) for key, value in article.items()} for article in articles]"
      ]
    },
    {
      "cell_type": "code",
      "source": [
        "# # try text cleaning on example\n",
        "# test = articles[6]['text']\n",
        "# clean_text(test)"
      ],
      "metadata": {
        "colab": {
          "base_uri": "https://localhost:8080/",
          "height": 123
        },
        "id": "CIMfQQwGJzih",
        "outputId": "66ea4d4b-b9d3-4e2b-dee7-b84c35317fd4"
      },
      "execution_count": 92,
      "outputs": [
        {
          "output_type": "execute_result",
          "data": {
            "text/plain": [
              "'André Paul Guillaume Gide (22 November 1869 – 19 February 1951) was a French author whose writings spanned a wide variety of styles and topics. He was awarded the 1947 Nobel Prize in Literature. Gide\\'s career ranged from his beginnings in the symbolist movement, to criticising imperialism between the two World Wars. The author of more than fifty books, he was described in his obituary in \"The New York Times\" as \"France\\'s greatest contemporary man of letters\" and \"judged the greatest French writer of this century by the literary cognoscenti.\"\\nKnown for his fiction as well as his autobiographical works, Gide expressed the conflict and eventual reconciliation of the two sides of his personality (characterized by a Protestant austerity and a transgressive sexual adventurousness, respectively). He suggested that a strict and moralistic education had helped set these facets at odds. Gide\\'s work can be seen as an investigation of freedom and empowerment in the face of moralistic and puritanical constraints. He worked to achieve intellectual honesty. As a self-professed pederast, he used his writing to explore his struggle to be fully oneself, including owning one\\'s sexual nature, without betraying one\\'s values. His political activity was shaped by the same ethos. While sympathetic to communism in the early 1930s, as were many intellectuals, he repudiated it after seeing widespread oppression during his 1936 journey to the USSR.\\nEarly life.\\nGide was born in Paris on 22 November 1869, into a middle-class Protestant family. His father Jean Paul Guillaume Gide was a professor of law at University of Paris; he died in 1880, when the boy was eleven years old. His mother was Juliette Maria Rondeaux. His uncle was political economist Charles Gide. His paternal family traced its roots to Italy. The ancestral Guidos had moved to France and other western and northern European countries after converting to Protestantism during the 16th century, and facing persecution in Catholic Italy.\\nGide was brought up in isolated conditions in Normandy. He became a prolific writer at an early age, publishing his first novel, \"The Notebooks of André Walter\" (French: \"Les Cahiers d\\'André Walter\"), in 1891, at the age of twenty-one.\\nIn 1893 and 1894, Gide traveled in Northern Africa. There he came to accept his attraction to boys and youths.\\nGide befriended Irish playwright Oscar Wilde in Paris, where the latter was in exile. In 1895 the two men met in Algiers. Wilde had the impression that he had introduced Gide to homosexuality, but Gide had already discovered this on his own.\\nThe middle years.\\nIn 1895, after his mother\\'s death, Gide married his cousin Madeleine Rondeaux, but the marriage remained unconsummated. In 1896, he was elected mayor of La Roque-Baignard, a commune in Normandy.\\nIn 1901, Gide rented the property Maderia in St. Brélade\\'s Bay and lived there while residing on the island of Jersey. This period, 1901-1907, is commonly seen as a time of apathy and turmoil for him.\\nIn 1908, Gide helped found the literary magazine \"Nouvelle Revue Française\" (\"The New French Review\").\\nDuring The Great War, Gide visited England. One of his friends there was artist William Rothenstein. Rothenstein described Gide\\'s visit to his Gloucestershire home in his autobiography:\\nIn 1916, Gide was about 47 years old when he took Marc Allégret, 15 years old, as a lover. Marc was one of five children of Élie Allégret and his wife. Gide had become friends with the senior Allégret during his own school years, when Gide\\'s mother had hired Allégret as a tutor for her son. Élie Allégret had been best man at Gide\\'s wedding. After Gide fled with Marc to London, his wife Madeleine burned all his correspondence in retaliation– \"the best part of myself,\" Gide later commented.\\nIn 1918, Gide met and befriended Dorothy Bussy; they were friends for more than thirty years and she translated many of his works into English.\\nGide also became close friends with the critic Charles Du Bos. Together they were part of the \"Foyer Franco-Belge\", in which capacity they worked to find employment, food and housing for Franco-Belgian refugees who arrived in Paris following the 1914 German invasion of Belgium. Their friendship later declined, due to Du Bos\\'s perception that Gide had disavowed or betrayed his spiritual faith, in contrast to Du Bos\\'s own return to faith. \\nDu Bos\\'s essay \"Dialogue avec André Gide\" was published in 1929. The essay, informed by Du Bos\\'s Catholic convictions, condemned Gide\\'s homosexuality. Gide and Du Bos\\'s mutual friend Ernst Robert Curtius criticised the book in a letter to Gide, writing that \"he [Du Bos] judges you according to Catholic morals suffices to neglect his complete indictment. It can only touch those who think like him and are convinced in advance. He has abdicated his intellectual liberty.\"\\nIn the 1920s, Gide became an inspiration for such writers as Albert Camus and Jean-Paul Sartre. In 1923, he published a book on Fyodor Dostoyevsky. But, when he defended homosexuality in the public edition of \"Corydon\" (1924), he received widespread condemnation. He later considered this his most important work.\\nIn 1923, Gide sired a daughter, Catherine, by Elisabeth van Rysselberghe, a much younger woman. He had known her for a long time, as she was the daughter of his friends Maria Monnom and Théo van Rysselberghe, a Belgian neo-impressionist painter. This caused the only crisis in the long-standing relationship between Allégret and Gide, and damaged his friendship with van Rysselberghe. This was possibly Gide\\'s only sexual relationship with a woman, and it was brief in the extreme. Catherine was his only descendant by blood. He liked to call Elisabeth \"La Dame Blanche\" (\"The White Lady\"). \\nElisabeth eventually left her husband to move to Paris and manage the practical aspects of Gide\\'s life (they had adjoining apartments built on the rue Vavin). She worshipped him, but evidently they no longer had a sexual relationship.\\nIn 1924, he published an autobiography, \"If it Die...\" (French: \"Si le grain ne meurt\").\\nIn the same year, he produced the first French-language editions of Joseph Conrad\\'s \"Heart of Darkness\" and \"Lord Jim\".\\nAfter 1925, Gide began to campaign for more humane conditions for convicted criminals.\\nHis legal wife, Madeleine Gide, died in 1938. Later he explored their unconsummated marriage in his memoir of Madeleine, \"Et nunc manet in te\" (And now it remains in you, published in English in the United States in 1952). \\nAfrica.\\nFrom July 1926 to May 1927, Gide traveled through the colony of French Equatorial Africa with his lover Marc Allégret. They went successively to Middle Congo (now the Republic of the Congo), Ubangi-Shari (now the Central African Republic), briefly to Chad and then to Cameroon before returning to France. He kept a journal, which he published as \"Travels in the Congo\" (French: \"Voyage au Congo\") and \"Return from Chad\" (French: \"Retour du Tchad\"). \\nIn this work, he criticized the behavior of French business interests in the Congo and inspired reform. In particular, he strongly criticized the \"Large Concessions\" regime (French: \"Régime des Grandes Concessions\"). The government had essentially conceded part of the colony to French companies, allowing them to exploit the area\\'s natural resources, in particular rubber. He related that native workers were forced to leave their village for several weeks to collect rubber in the forest, and compared their exploitation by the companies to slavery. The book contributed to the growing anti-colonialism movements in France and helped thinkers to re-evaluate the effects of colonialism in Africa.\\nSoviet Union.\\nDuring the 1930s, Gide briefly became a communist, or more precisely, a fellow traveler (he never formally joined any communist party). As a distinguished writer sympathizing with the cause of communism, he was invited to speak at Maxim Gorky\\'s funeral and to tour the Soviet Union as a guest of the Soviet Union of Writers. He encountered censorship of his speeches and was particularly disillusioned with the state of culture under Soviet communism. In his work, \"Retour de L\\'U.R.S.S.\" (1936), he broke with such socialist friends as Jean-Paul Sartre. \\nIn the 1949 anthology \"The God That Failed\", Gide describes his early enthusiasm:\\n1930s and 1940s.\\nIn 1930 Gide published a book about the Blanche Monnier case called \"La Séquestrée de Poitiers\", changing little but the names of the protagonists. Monnier was a young woman who was kept captive by her own mother for more than 25 years.\\nIn 1939, Gide became the first living author to be published in the prestigious \"Bibliothèque de la Pléiade\".\\nHe left France for Africa in 1942 and lived in Tunis from December 1942 until it was re-taken by French, British and American forces in May 1943 and he was able to travel to Algiers where he stayed until the end of World War II. In 1947, he received the Nobel Prize in Literature \"for his comprehensive and artistically significant writings, in which human problems and conditions have been presented with a fearless love of truth and keen psychological insight\". He devoted much of his last years to publishing his Journal. Gide died in Paris on 19 February 1951. The Roman Catholic Church placed his works on the \"Index of Forbidden Books\" in 1952.\\nGide\\'s life as a writer.\\nGide\\'s biographer Alan Sheridan summed up Gide\\'s life as a writer and an intellectual:\\n\"Gide\\'s fame rested ultimately, of course, on his literary works. But, unlike many writers, he was no recluse: he had a need of friendship and a genius for sustaining it.\" But his \"capacity for love was not confined to his friends: it spilled over into a concern for others less fortunate than himself.\"\\nWritings.\\nAndré Gide\\'s writings spanned many genres – \"As a master of prose narrative, occasional dramatist and translator, literary critic, letter writer, essayist, and diarist, André Gide provided twentieth-century French literature with one of its most intriguing examples of the man of letters.\"\\nBut as Gide\\'s biographer Alan Sheridan points out, \"It is the fiction that lies at the summit of Gide\\'s work.\" \"Here, as in the \"oeuvre\" as a whole, what strikes one first is the variety. Here, too, we see Gide\\'s curiosity, his youthfulness, at work: a refusal to mine only one seam, to repeat successful formulas...The fiction spans the early years of Symbolism, to the \"comic, more inventive, even fantastic\" pieces, to the later \"serious, heavily autobiographical, first-person narratives\"...In France Gide was considered a great stylist in the classical sense, \"with his clear, succinct, spare, deliberately, subtly phrased sentences.\"\\nGide\\'s surviving letters run into the thousands. But it is the \"Journal\" that Sheridan calls \"the pre-eminently Gidean mode of expression.\" \"His first novel emerged from Gide\\'s own journal, and many of the first-person narratives read more or less like journals. In \"Les faux-monnayeurs\", Edouard\\'s journal provides an alternative voice to the narrator\\'s.\" \"In 1946, when Pierre Herbert asked Gide which of his books he would choose if only one were to survive,\" Gide replied, \\'I think it would be my \"Journal.\"\\'\" Beginning at the age of eighteen or nineteen, Gide kept a journal all of his life and when these were first made available to the public, they ran to thirteen hundred pages.\\nStruggle for values.\\n\"Each volume that Gide wrote was intended to challenge itself, what had preceded it, and what could conceivably follow it. This characteristic, according to Daniel Moutote in his \"Cahiers de André Gide\" essay, is what makes Gide\\'s work \\'essentially modern\\': the \\'perpetual renewal of the values by which one lives.\\'\" Gide wrote in his \"Journal\" in 1930: \"The only drama that really interests me and that I should always be willing to depict anew, is the debate of the individual with whatever keeps him from being authentic, with whatever is opposed to his integrity, to his integration. Most often the obstacle is within him. And all the rest is merely accidental.\"\\nAs a whole, \"The works of André Gide reveal his passionate revolt against the restraints and conventions inherited from 19th-century France. He sought to uncover the authentic self beneath its contradictory masks.\"\\nSexuality.\\nIn his journal, Gide distinguishes between adult-attracted \"sodomites\" and boy-loving \"pederasts\", categorizing himself as the latter.\\nGide\\'s journal documents his behavior in the company of Oscar Wilde. \\nGide\\'s novel \"Corydon\", which he considered his most important work, erects a defense of pederasty. At that time, the age of consent for any type of sexual activity was set at thirteen.'"
            ],
            "application/vnd.google.colaboratory.intrinsic+json": {
              "type": "string"
            }
          },
          "metadata": {},
          "execution_count": 92
        }
      ]
    },
    {
      "cell_type": "code",
      "execution_count": 93,
      "metadata": {
        "id": "zz3SExs7qRlB"
      },
      "outputs": [],
      "source": [
        "# write cleaned articles to file\n",
        "srsly.write_json(os.path.join(notebook_dir, 'nobel_articles_cleaned.json'), articles_cleaned)"
      ]
    },
    {
      "cell_type": "markdown",
      "metadata": {
        "id": "LG7qQ2t-8cXN"
      },
      "source": [
        "Testen"
      ]
    },
    {
      "cell_type": "code",
      "execution_count": 94,
      "metadata": {
        "id": "KprkU46mlx6G",
        "colab": {
          "base_uri": "https://localhost:8080/",
          "height": 210
        },
        "outputId": "1617823d-26d5-405a-ab92-92ba9e7d2d4f"
      },
      "outputs": [
        {
          "output_type": "error",
          "ename": "FileNotFoundError",
          "evalue": "ignored",
          "traceback": [
            "\u001b[0;31m---------------------------------------------------------------------------\u001b[0m",
            "\u001b[0;31mFileNotFoundError\u001b[0m                         Traceback (most recent call last)",
            "\u001b[0;32m<ipython-input-94-a0aa6a61efa4>\u001b[0m in \u001b[0;36m<cell line: 2>\u001b[0;34m()\u001b[0m\n\u001b[1;32m      1\u001b[0m \u001b[0;32mimport\u001b[0m \u001b[0mjson\u001b[0m\u001b[0;34m\u001b[0m\u001b[0;34m\u001b[0m\u001b[0m\n\u001b[0;32m----> 2\u001b[0;31m \u001b[0;32mwith\u001b[0m \u001b[0mopen\u001b[0m\u001b[0;34m(\u001b[0m\u001b[0;34m\"laureates.json\"\u001b[0m\u001b[0;34m,\u001b[0m \u001b[0;34m'r'\u001b[0m\u001b[0;34m)\u001b[0m \u001b[0;32mas\u001b[0m \u001b[0mf\u001b[0m\u001b[0;34m:\u001b[0m\u001b[0;34m\u001b[0m\u001b[0;34m\u001b[0m\u001b[0m\n\u001b[0m\u001b[1;32m      3\u001b[0m     \u001b[0mwinners_json\u001b[0m \u001b[0;34m=\u001b[0m \u001b[0mjson\u001b[0m\u001b[0;34m.\u001b[0m\u001b[0mload\u001b[0m\u001b[0;34m(\u001b[0m\u001b[0mf\u001b[0m\u001b[0;34m)\u001b[0m\u001b[0;34m\u001b[0m\u001b[0;34m\u001b[0m\u001b[0m\n",
            "\u001b[0;31mFileNotFoundError\u001b[0m: [Errno 2] No such file or directory: 'laureates.json'"
          ]
        }
      ],
      "source": [
        "import json\n",
        "with open(\"laureates.json\", 'r') as f:\n",
        "    winners_json = json.load(f)"
      ]
    },
    {
      "cell_type": "code",
      "execution_count": null,
      "metadata": {
        "id": "cmyJDW5o8cXO"
      },
      "outputs": [],
      "source": [
        "i = 0\n",
        "#missing_uni = []\n",
        "print(len(winners_json))\n",
        "for winner in winners_json:\n",
        "    winner_found=False\n",
        "    for article in articles:\n",
        "        if article['title'] == winner:\n",
        "            winner_found=True\n",
        "            break\n",
        "    if winner_found==False:\n",
        "        #missing_uni.append(winner)\n",
        "        i+=1\n",
        "print(i)"
      ]
    }
  ],
  "metadata": {
    "colab": {
      "provenance": [],
      "include_colab_link": true
    },
    "kernelspec": {
      "display_name": "Python 3",
      "name": "python3"
    },
    "language_info": {
      "codemirror_mode": {
        "name": "ipython",
        "version": 3
      },
      "file_extension": ".py",
      "mimetype": "text/x-python",
      "name": "python",
      "nbconvert_exporter": "python",
      "pygments_lexer": "ipython3",
      "version": "3.11.4"
    }
  },
  "nbformat": 4,
  "nbformat_minor": 0
}