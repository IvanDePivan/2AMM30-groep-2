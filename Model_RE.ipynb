{
  "nbformat": 4,
  "nbformat_minor": 0,
  "metadata": {
    "colab": {
      "provenance": [],
      "gpuType": "T4",
      "include_colab_link": true
    },
    "kernelspec": {
      "name": "python3",
      "display_name": "Python 3"
    },
    "language_info": {
      "name": "python"
    },
    "accelerator": "GPU"
  },
  "cells": [
    {
      "cell_type": "markdown",
      "metadata": {
        "id": "view-in-github",
        "colab_type": "text"
      },
      "source": [
        "<a href=\"https://colab.research.google.com/github/IvanDePivan/2AMM30-groep-2-component-1/blob/main/Model_RE.ipynb\" target=\"_parent\"><img src=\"https://colab.research.google.com/assets/colab-badge.svg\" alt=\"Open In Colab\"/></a>"
      ]
    },
    {
      "cell_type": "code",
      "execution_count": 476,
      "metadata": {
        "colab": {
          "base_uri": "https://localhost:8080/"
        },
        "id": "rygoJk-wuPRg",
        "outputId": "9d90063b-4355-4b6f-f525-f418f0eaef44"
      },
      "outputs": [
        {
          "output_type": "stream",
          "name": "stdout",
          "text": [
            "Requirement already satisfied: accelerate in /usr/local/lib/python3.10/dist-packages (0.23.0)\n",
            "Requirement already satisfied: numpy>=1.17 in /usr/local/lib/python3.10/dist-packages (from accelerate) (1.23.5)\n",
            "Requirement already satisfied: packaging>=20.0 in /usr/local/lib/python3.10/dist-packages (from accelerate) (23.2)\n",
            "Requirement already satisfied: psutil in /usr/local/lib/python3.10/dist-packages (from accelerate) (5.9.5)\n",
            "Requirement already satisfied: pyyaml in /usr/local/lib/python3.10/dist-packages (from accelerate) (6.0.1)\n",
            "Requirement already satisfied: torch>=1.10.0 in /usr/local/lib/python3.10/dist-packages (from accelerate) (2.0.1+cu118)\n",
            "Requirement already satisfied: huggingface-hub in /usr/local/lib/python3.10/dist-packages (from accelerate) (0.17.3)\n",
            "Requirement already satisfied: filelock in /usr/local/lib/python3.10/dist-packages (from torch>=1.10.0->accelerate) (3.12.4)\n",
            "Requirement already satisfied: typing-extensions in /usr/local/lib/python3.10/dist-packages (from torch>=1.10.0->accelerate) (4.5.0)\n",
            "Requirement already satisfied: sympy in /usr/local/lib/python3.10/dist-packages (from torch>=1.10.0->accelerate) (1.12)\n",
            "Requirement already satisfied: networkx in /usr/local/lib/python3.10/dist-packages (from torch>=1.10.0->accelerate) (3.1)\n",
            "Requirement already satisfied: jinja2 in /usr/local/lib/python3.10/dist-packages (from torch>=1.10.0->accelerate) (3.1.2)\n",
            "Requirement already satisfied: triton==2.0.0 in /usr/local/lib/python3.10/dist-packages (from torch>=1.10.0->accelerate) (2.0.0)\n",
            "Requirement already satisfied: cmake in /usr/local/lib/python3.10/dist-packages (from triton==2.0.0->torch>=1.10.0->accelerate) (3.27.6)\n",
            "Requirement already satisfied: lit in /usr/local/lib/python3.10/dist-packages (from triton==2.0.0->torch>=1.10.0->accelerate) (17.0.2)\n",
            "Requirement already satisfied: fsspec in /usr/local/lib/python3.10/dist-packages (from huggingface-hub->accelerate) (2023.6.0)\n",
            "Requirement already satisfied: requests in /usr/local/lib/python3.10/dist-packages (from huggingface-hub->accelerate) (2.31.0)\n",
            "Requirement already satisfied: tqdm>=4.42.1 in /usr/local/lib/python3.10/dist-packages (from huggingface-hub->accelerate) (4.66.1)\n",
            "Requirement already satisfied: MarkupSafe>=2.0 in /usr/local/lib/python3.10/dist-packages (from jinja2->torch>=1.10.0->accelerate) (2.1.3)\n",
            "Requirement already satisfied: charset-normalizer<4,>=2 in /usr/local/lib/python3.10/dist-packages (from requests->huggingface-hub->accelerate) (3.3.0)\n",
            "Requirement already satisfied: idna<4,>=2.5 in /usr/local/lib/python3.10/dist-packages (from requests->huggingface-hub->accelerate) (3.4)\n",
            "Requirement already satisfied: urllib3<3,>=1.21.1 in /usr/local/lib/python3.10/dist-packages (from requests->huggingface-hub->accelerate) (2.0.6)\n",
            "Requirement already satisfied: certifi>=2017.4.17 in /usr/local/lib/python3.10/dist-packages (from requests->huggingface-hub->accelerate) (2023.7.22)\n",
            "Requirement already satisfied: mpmath>=0.19 in /usr/local/lib/python3.10/dist-packages (from sympy->torch>=1.10.0->accelerate) (1.3.0)\n",
            "Requirement already satisfied: transformers in /usr/local/lib/python3.10/dist-packages (4.34.0)\n",
            "Requirement already satisfied: filelock in /usr/local/lib/python3.10/dist-packages (from transformers) (3.12.4)\n",
            "Requirement already satisfied: huggingface-hub<1.0,>=0.16.4 in /usr/local/lib/python3.10/dist-packages (from transformers) (0.17.3)\n",
            "Requirement already satisfied: numpy>=1.17 in /usr/local/lib/python3.10/dist-packages (from transformers) (1.23.5)\n",
            "Requirement already satisfied: packaging>=20.0 in /usr/local/lib/python3.10/dist-packages (from transformers) (23.2)\n",
            "Requirement already satisfied: pyyaml>=5.1 in /usr/local/lib/python3.10/dist-packages (from transformers) (6.0.1)\n",
            "Requirement already satisfied: regex!=2019.12.17 in /usr/local/lib/python3.10/dist-packages (from transformers) (2023.6.3)\n",
            "Requirement already satisfied: requests in /usr/local/lib/python3.10/dist-packages (from transformers) (2.31.0)\n",
            "Requirement already satisfied: tokenizers<0.15,>=0.14 in /usr/local/lib/python3.10/dist-packages (from transformers) (0.14.1)\n",
            "Requirement already satisfied: safetensors>=0.3.1 in /usr/local/lib/python3.10/dist-packages (from transformers) (0.4.0)\n",
            "Requirement already satisfied: tqdm>=4.27 in /usr/local/lib/python3.10/dist-packages (from transformers) (4.66.1)\n",
            "Requirement already satisfied: fsspec in /usr/local/lib/python3.10/dist-packages (from huggingface-hub<1.0,>=0.16.4->transformers) (2023.6.0)\n",
            "Requirement already satisfied: typing-extensions>=3.7.4.3 in /usr/local/lib/python3.10/dist-packages (from huggingface-hub<1.0,>=0.16.4->transformers) (4.5.0)\n",
            "Requirement already satisfied: charset-normalizer<4,>=2 in /usr/local/lib/python3.10/dist-packages (from requests->transformers) (3.3.0)\n",
            "Requirement already satisfied: idna<4,>=2.5 in /usr/local/lib/python3.10/dist-packages (from requests->transformers) (3.4)\n",
            "Requirement already satisfied: urllib3<3,>=1.21.1 in /usr/local/lib/python3.10/dist-packages (from requests->transformers) (2.0.6)\n",
            "Requirement already satisfied: certifi>=2017.4.17 in /usr/local/lib/python3.10/dist-packages (from requests->transformers) (2023.7.22)\n",
            "Requirement already satisfied: evaluate in /usr/local/lib/python3.10/dist-packages (0.4.1)\n",
            "Requirement already satisfied: datasets>=2.0.0 in /usr/local/lib/python3.10/dist-packages (from evaluate) (2.14.5)\n",
            "Requirement already satisfied: numpy>=1.17 in /usr/local/lib/python3.10/dist-packages (from evaluate) (1.23.5)\n",
            "Requirement already satisfied: dill in /usr/local/lib/python3.10/dist-packages (from evaluate) (0.3.7)\n",
            "Requirement already satisfied: pandas in /usr/local/lib/python3.10/dist-packages (from evaluate) (1.5.3)\n",
            "Requirement already satisfied: requests>=2.19.0 in /usr/local/lib/python3.10/dist-packages (from evaluate) (2.31.0)\n",
            "Requirement already satisfied: tqdm>=4.62.1 in /usr/local/lib/python3.10/dist-packages (from evaluate) (4.66.1)\n",
            "Requirement already satisfied: xxhash in /usr/local/lib/python3.10/dist-packages (from evaluate) (3.4.1)\n",
            "Requirement already satisfied: multiprocess in /usr/local/lib/python3.10/dist-packages (from evaluate) (0.70.15)\n",
            "Requirement already satisfied: fsspec[http]>=2021.05.0 in /usr/local/lib/python3.10/dist-packages (from evaluate) (2023.6.0)\n",
            "Requirement already satisfied: huggingface-hub>=0.7.0 in /usr/local/lib/python3.10/dist-packages (from evaluate) (0.17.3)\n",
            "Requirement already satisfied: packaging in /usr/local/lib/python3.10/dist-packages (from evaluate) (23.2)\n",
            "Requirement already satisfied: responses<0.19 in /usr/local/lib/python3.10/dist-packages (from evaluate) (0.18.0)\n",
            "Requirement already satisfied: pyarrow>=8.0.0 in /usr/local/lib/python3.10/dist-packages (from datasets>=2.0.0->evaluate) (9.0.0)\n",
            "Requirement already satisfied: aiohttp in /usr/local/lib/python3.10/dist-packages (from datasets>=2.0.0->evaluate) (3.8.6)\n",
            "Requirement already satisfied: pyyaml>=5.1 in /usr/local/lib/python3.10/dist-packages (from datasets>=2.0.0->evaluate) (6.0.1)\n",
            "Requirement already satisfied: filelock in /usr/local/lib/python3.10/dist-packages (from huggingface-hub>=0.7.0->evaluate) (3.12.4)\n",
            "Requirement already satisfied: typing-extensions>=3.7.4.3 in /usr/local/lib/python3.10/dist-packages (from huggingface-hub>=0.7.0->evaluate) (4.5.0)\n",
            "Requirement already satisfied: charset-normalizer<4,>=2 in /usr/local/lib/python3.10/dist-packages (from requests>=2.19.0->evaluate) (3.3.0)\n",
            "Requirement already satisfied: idna<4,>=2.5 in /usr/local/lib/python3.10/dist-packages (from requests>=2.19.0->evaluate) (3.4)\n",
            "Requirement already satisfied: urllib3<3,>=1.21.1 in /usr/local/lib/python3.10/dist-packages (from requests>=2.19.0->evaluate) (2.0.6)\n",
            "Requirement already satisfied: certifi>=2017.4.17 in /usr/local/lib/python3.10/dist-packages (from requests>=2.19.0->evaluate) (2023.7.22)\n",
            "Requirement already satisfied: python-dateutil>=2.8.1 in /usr/local/lib/python3.10/dist-packages (from pandas->evaluate) (2.8.2)\n",
            "Requirement already satisfied: pytz>=2020.1 in /usr/local/lib/python3.10/dist-packages (from pandas->evaluate) (2023.3.post1)\n",
            "Requirement already satisfied: attrs>=17.3.0 in /usr/local/lib/python3.10/dist-packages (from aiohttp->datasets>=2.0.0->evaluate) (23.1.0)\n",
            "Requirement already satisfied: multidict<7.0,>=4.5 in /usr/local/lib/python3.10/dist-packages (from aiohttp->datasets>=2.0.0->evaluate) (6.0.4)\n",
            "Requirement already satisfied: async-timeout<5.0,>=4.0.0a3 in /usr/local/lib/python3.10/dist-packages (from aiohttp->datasets>=2.0.0->evaluate) (4.0.3)\n",
            "Requirement already satisfied: yarl<2.0,>=1.0 in /usr/local/lib/python3.10/dist-packages (from aiohttp->datasets>=2.0.0->evaluate) (1.9.2)\n",
            "Requirement already satisfied: frozenlist>=1.1.1 in /usr/local/lib/python3.10/dist-packages (from aiohttp->datasets>=2.0.0->evaluate) (1.4.0)\n",
            "Requirement already satisfied: aiosignal>=1.1.2 in /usr/local/lib/python3.10/dist-packages (from aiohttp->datasets>=2.0.0->evaluate) (1.3.1)\n",
            "Requirement already satisfied: six>=1.5 in /usr/local/lib/python3.10/dist-packages (from python-dateutil>=2.8.1->pandas->evaluate) (1.16.0)\n"
          ]
        }
      ],
      "source": [
        "import pandas as pd\n",
        "import json\n",
        "import numpy as np\n",
        "import spacy\n",
        "from spacy.training.example import Example #holds information for one training instance\n",
        "import random\n",
        "from tqdm import tqdm\n",
        "from spacy.scorer import Scorer\n",
        "import warnings\n",
        "warnings.filterwarnings('ignore')\n",
        "import os\n",
        "import glob\n",
        "import re\n",
        "import matplotlib.pyplot as plt\n",
        "import seaborn as sns\n",
        "from collections import Counter\n",
        "from sklearn.metrics import confusion_matrix\n",
        "! pip install -U accelerate\n",
        "! pip install -U transformers\n",
        "! pip install evaluate"
      ]
    },
    {
      "cell_type": "code",
      "source": [
        "# Authenticate\n",
        "from google.colab import drive\n",
        "drive.mount('/content/drive')\n",
        "from google.colab import auth\n",
        "auth.authenticate_user()\n",
        "\n",
        "# Get email of current Colab user\n",
        "import requests\n",
        "gcloud_token = !gcloud auth print-access-token\n",
        "gcloud_tokeninfo = requests.get('https://www.googleapis.com/oauth2/v3/tokeninfo?access_token=' + gcloud_token[0]).json()\n",
        "email = gcloud_tokeninfo['email']"
      ],
      "metadata": {
        "colab": {
          "base_uri": "https://localhost:8080/"
        },
        "id": "8Az_nCdduQht",
        "outputId": "2cc5cdd4-df81-4dd6-a869-90f26b6e4ced"
      },
      "execution_count": 477,
      "outputs": [
        {
          "output_type": "stream",
          "name": "stdout",
          "text": [
            "Drive already mounted at /content/drive; to attempt to forcibly remount, call drive.mount(\"/content/drive\", force_remount=True).\n"
          ]
        }
      ]
    },
    {
      "cell_type": "code",
      "source": [
        "# Define filepath\n",
        "if email == 'tamaraexterkate93@gmail.com':\n",
        "  filename = \"/content/drive/MyDrive/TUe/TM/Exports/export_component_1.json\"\n",
        "elif email == 'n.v.diermen@student.tue.nl':\n",
        "  filename = \"/content/drive/MyDrive/Text Mining/export_component_1.json\""
      ],
      "metadata": {
        "id": "bXBQjYyfuUii"
      },
      "execution_count": 478,
      "outputs": []
    },
    {
      "cell_type": "code",
      "source": [
        "DATA = []\n",
        "\n",
        "# read json file\n",
        "with open(filename, 'rb') as fp:\n",
        "  training_data = json.load(fp)\n",
        "\n",
        "  # get text, labels, relations, benchmark for each article\n",
        "  for article in training_data:\n",
        "    entities = []\n",
        "    id_entities = []\n",
        "    relations = []\n",
        "    original_text = article.get('data').get('text')\n",
        "    if len(article.get('annotations')) == 5: # N=5\n",
        "      benchmark = True\n",
        "    else:\n",
        "      benchmark = False\n",
        "    for annotation in article.get('annotations'):\n",
        "      if annotation.get('ground_truth') == True: # only include ground truth\n",
        "        for ind, label in enumerate(annotation.get('result')):\n",
        "          if label.get('type') == 'labels':\n",
        "            start = label.get('value').get('start')\n",
        "            end = label.get('value').get('end')\n",
        "            id = label.get('id')\n",
        "            text = label.get('value').get('text')\n",
        "            label = label.get('value').get('labels')[0] # note: cannot deal with multiple labels\n",
        "            id_entities.append((start, end, label, id, text)) # WHY ORDER WEIRD FOR TRAIN[0]?\n",
        "            entities.append((start, end, label))\n",
        "          elif label.get('type') == 'relation':\n",
        "            from_id = label.get('from_id')\n",
        "            to_id = label.get('to_id')\n",
        "            relation = label.get('labels')[0] # note: cannot deal with multiple relations\n",
        "            if relation != \"same_as\":\n",
        "              relations.append((from_id, to_id, relation))\n",
        "          else:\n",
        "            print(\"found unknown label type (no label or relation)\")\n",
        "\n",
        "    # append article to training data as dictionary\n",
        "    DATA.append({\n",
        "    'text': original_text,\n",
        "    'entities': entities,\n",
        "    'id_entities': id_entities,\n",
        "    'relations': relations,\n",
        "    'benchmark': benchmark\n",
        "    })"
      ],
      "metadata": {
        "id": "8OkS1eAouWnq"
      },
      "execution_count": 479,
      "outputs": []
    },
    {
      "cell_type": "code",
      "source": [
        "# Remove entities with smallest span in case of overlapping entities\n",
        "def remove_overlap(entities):\n",
        "  # Initialize a list to store the final non-overlapping entities\n",
        "  final_entities = []\n",
        "\n",
        "  # Sort the entities by their start position in ascending order\n",
        "  entities.sort(key=lambda entity: entity[0])\n",
        "\n",
        "  # Iterate through the sorted entities\n",
        "  for entity in entities:\n",
        "      overlaps = False\n",
        "      for existing_entity in final_entities:\n",
        "          # Check for overlapping entities\n",
        "          if (entity[0] >= existing_entity[0] and entity[0] < existing_entity[1]) or \\\n",
        "            (entity[1] > existing_entity[0] and entity[1] <= existing_entity[1]):\n",
        "              overlaps = True\n",
        "              break\n",
        "      if not overlaps:\n",
        "          final_entities.append(entity)\n",
        "\n",
        "  return final_entities\n",
        "\n",
        "for article in DATA:\n",
        "  article['entities'] = remove_overlap(article['entities'])"
      ],
      "metadata": {
        "id": "2hoEFIJsubDd"
      },
      "execution_count": 480,
      "outputs": []
    },
    {
      "cell_type": "code",
      "source": [
        "def get_distances(DATA):\n",
        "  # get maximum distances between entities per relation type\n",
        "  all_distances = {}\n",
        "  for data in DATA:\n",
        "    for relation in data['relations']:\n",
        "      rel_from_begin = [entity[0] for entity in data['id_entities'] if entity[3] == relation[0]]\n",
        "      rel_to_begin = [entity[0] for entity in data['id_entities'] if entity[3] == relation[1]]\n",
        "      distance = abs(rel_from_begin[0] - rel_to_begin[0])\n",
        "\n",
        "      if all_distances.get(relation[2]) == None:\n",
        "        all_distances[relation[2]] = distance\n",
        "      else:\n",
        "        all_distances[relation[2]] = max(all_distances[relation[2]], distance)\n",
        "\n",
        "  return all_distances"
      ],
      "metadata": {
        "id": "uvL7l6dMACE9"
      },
      "execution_count": 481,
      "outputs": []
    },
    {
      "cell_type": "code",
      "source": [
        "def train_test_split(data, val_size):\n",
        "\n",
        "  print(f'Total articles: {len(data)}')\n",
        "  benchmark = [article for article in data if article['benchmark']]\n",
        "  data = [article for article in data if not article['benchmark']]\n",
        "  train_end = int(len(data)*(1-val_size))\n",
        "  train = data[0:train_end]\n",
        "  val = data[train_end:len(data)]\n",
        "\n",
        "  print(f'Size train: {len(train)}')\n",
        "  print(f'Size val: {len(val)}')\n",
        "  print(f'Size test: {len(benchmark)}')\n",
        "\n",
        "  return train, val, benchmark"
      ],
      "metadata": {
        "id": "Ocg9uLglud6O"
      },
      "execution_count": 482,
      "outputs": []
    },
    {
      "cell_type": "code",
      "source": [
        "train, val, test =  train_test_split(DATA, val_size=0.25)\n",
        "max_span_per_relation = get_distances(train)\n",
        "\n",
        "# obtain the maximum relation span between winner and other entity\n",
        "max_span = {\n",
        "'Date': max(max_span_per_relation['born_on'],max_span_per_relation['died_on'],max_span_per_relation['received_nobelprize_in']),\n",
        "'Prizetype': max_span_per_relation['has_won'],\n",
        "'Reason': max_span_per_relation['received_nobelprize_for'],\n",
        "'Nationality': max_span_per_relation['has_nationality']}\n",
        "\n",
        "special_tokens = [\"[WINR]\", \"[DATE]\", \"[REAS]\", \"[NTLY]\", \"[PRZT]\"]"
      ],
      "metadata": {
        "id": "M8v7Rne9ueyV",
        "colab": {
          "base_uri": "https://localhost:8080/"
        },
        "outputId": "33ffe28d-b409-4bda-ec0b-83fca5ce5387"
      },
      "execution_count": 483,
      "outputs": [
        {
          "output_type": "stream",
          "name": "stdout",
          "text": [
            "Total articles: 137\n",
            "Size train: 72\n",
            "Size val: 25\n",
            "Size test: 40\n"
          ]
        }
      ]
    },
    {
      "cell_type": "code",
      "source": [
        "def insert_markers(text, pair):\n",
        "\n",
        "  label_to_marker = {\n",
        "      'Winner': '[WINR]',\n",
        "      'Date': '[DATE]',\n",
        "      'Prizetype': '[PRZT]',\n",
        "      'Reason': '[REAS]',\n",
        "      'Nationality': '[NTLY]'\n",
        "  }\n",
        "\n",
        "  start_to_add = 0\n",
        "  end_to_add = 7\n",
        "  for ent in pair:\n",
        "    start = ent[0]\n",
        "    end = ent[1]\n",
        "    label = ent[2]\n",
        "    start += start_to_add\n",
        "    end += end_to_add\n",
        "    text = text[:start] + label_to_marker[label] + ' ' + text[start:]\n",
        "    text = text[:end] +' '+ label_to_marker[label] + text[end:]\n",
        "    start_to_add += 7*2\n",
        "    end_to_add += 7*2\n",
        "\n",
        "  return text"
      ],
      "metadata": {
        "id": "bE2fvOP2unV-"
      },
      "execution_count": 484,
      "outputs": []
    },
    {
      "cell_type": "code",
      "source": [
        "def get_relation(pair, relations):\n",
        "  if pair[0][3] and pair[1][3]: # check if entities of pair exist in annotations\n",
        "    # see if and what relation there is between the entities of the pair\n",
        "    for relation in relations:\n",
        "      if (relation[0] == pair[0][3] and relation[1] == pair[1][3]) or (relation[1] == pair[0][3] and relation[0] == pair[1][3]):\n",
        "          return relation[2]\n",
        "  return 'no_relation'"
      ],
      "metadata": {
        "id": "-_oqeHMMuqGN"
      },
      "execution_count": 485,
      "outputs": []
    },
    {
      "cell_type": "code",
      "source": [
        "def mark_data(data, NER_output=True, prune = None):\n",
        "\n",
        "  # init data output and relations list\n",
        "  data_output = []\n",
        "  relations_output = []\n",
        "\n",
        "  # Iterate over each article in data\n",
        "  for article in data:\n",
        "\n",
        "    # get original text and convert to doc\n",
        "    text = article['text']\n",
        "\n",
        "    # get seperate list of winner entities and other entities in fixed format (start,end,label,id)\n",
        "    if NER_output:\n",
        "      # create doc\n",
        "      doc = best_nlp(text)\n",
        "\n",
        "      winners = []\n",
        "      others = []\n",
        "      for ent in doc.ents:\n",
        "        # check to what entity in the annotations the NER entity refers to\n",
        "        for original_ent in article['id_entities']:\n",
        "          ent_id = None # refer to None if entity is not in annotations\n",
        "          # otherwise overwrite with id of entity in annotations\n",
        "          if ent.start_char == original_ent[0] and ent.end_char == original_ent[1]:\n",
        "            # print(ent.text)\n",
        "            # print(original_ent[4])\n",
        "            ent_id = original_ent[3]\n",
        "            break\n",
        "        if ent.label_=='Winner':\n",
        "          winners.append((ent.start_char, ent.end_char, ent.label_, ent_id))\n",
        "        else:\n",
        "          others.append((ent.start_char, ent.end_char, ent.label_, ent_id))\n",
        "\n",
        "    else:\n",
        "      ents = article['id_entities']\n",
        "      winners = [ent for ent in ents if ent[2] =='Winner']\n",
        "      others = [ent for ent in ents if ent[2] !='Winner']\n",
        "\n",
        "    # make pairs for possible relations (winner + other)\n",
        "    pairs = []\n",
        "\n",
        "    for winner in winners:\n",
        "      for other in others:\n",
        "        # check if entities are within the maximum relation span of each other\n",
        "        if prune == None or abs(winner[0]-other[0]) <= prune*max_span[other[2]]:\n",
        "          if winner[0] < other[0]:\n",
        "            pairs.append((winner,other))\n",
        "          else:\n",
        "            pairs.append((other,winner))\n",
        "\n",
        "    # create new text with markers for each possible relation with winner\n",
        "    new_texts = [insert_markers(text, pair) for pair in pairs]\n",
        "    relations_output.extend([get_relation(pair, article['relations']) for pair in pairs])\n",
        "    data_output.extend(new_texts)\n",
        "\n",
        "  return np.array(data_output), np.array(relations_output)"
      ],
      "metadata": {
        "id": "e1vLFzUiusSo"
      },
      "execution_count": 486,
      "outputs": []
    },
    {
      "cell_type": "code",
      "source": [
        "def check_contains_relation(tokens, marker_tokens):\n",
        "  \"\"\"Return True if piece of text (tokens) contains a possible relation (= 4 marker tokens).\"\"\"\n",
        "\n",
        "  marker_token_counts = {marker_token: tokens.count(marker_token) for marker_token in marker_tokens}\n",
        "  nr_marker_tokens = sum(marker_token_counts.values())\n",
        "  return nr_marker_tokens == 4\n",
        "\n",
        "def split_paragraphs(X_data, y_data):\n",
        "\n",
        "  # init\n",
        "  X_result = []\n",
        "  y_result = []\n",
        "\n",
        "  for x, y in zip(X_data, y_data):\n",
        "    for paragraph in x.split('\\n'):\n",
        "      contains_markers = check_contains_relation(paragraph, special_tokens)\n",
        "      if contains_markers:\n",
        "        X_result.append(paragraph)\n",
        "        y_result.append(y)\n",
        "\n",
        "  return np.array(X_result), np.array(y_result)"
      ],
      "metadata": {
        "id": "-lKyhN7MoYRu"
      },
      "execution_count": 487,
      "outputs": []
    },
    {
      "cell_type": "code",
      "source": [
        "X_train, y_train = mark_data(train, NER_output=False, prune =1.2)\n",
        "X_val, y_val = mark_data(val, NER_output=False, prune =1.2)\n",
        "X_test, y_test = mark_data(test, NER_output=False, prune =1.2)\n",
        "\n",
        "X_train, y_train = split_paragraphs(X_train, y_train)\n",
        "X_val, y_val = split_paragraphs(X_val, y_val)\n",
        "X_test, y_test = split_paragraphs(X_test, y_test)\n",
        "\n",
        "# X_train_full, y_train_full = mark_data(train[1:], NER_output=False)\n",
        "# X_test_full, y_test_full = mark_data(test, NER_output=False)\n",
        "\n",
        "# print('Before pruning: \\n train: ' + str(len(y_train_full)) + '\\n test: '+ str(len(y_test_full)))\n",
        "# print('After pruning: \\n train: ' + str(len(y_train)) + '\\n test: '+ str(len(y_test)))\n",
        "\n",
        "sns.histplot(y_train)\n",
        "plt.xticks(rotation=90)\n",
        "plt.show()\n",
        "\n",
        "def desample(X,y,sample_factor = 1.2):\n",
        "  # get second highest category\n",
        "  label_counts = Counter(y)\n",
        "  relation_counts = label_counts.copy()\n",
        "  relation_counts.pop('no_relation')\n",
        "  n_samples = round(sample_factor * max(relation_counts.values())) # allow slight class imbalance for no_relation\n",
        "\n",
        "  # if no_relation imbalanced, randomly downsample these relations\n",
        "  if label_counts['no_relation'] - n_samples > 0:\n",
        "    desample_mask = y != 'no_relation'\n",
        "    ind_no_relation = np.where(y == 'no_relation')[0]\n",
        "    include_no_relations = (np.random.choice(ind_no_relation,n_samples, replace = False))\n",
        "    desample_mask[include_no_relations] = 1\n",
        "  y = y[desample_mask]\n",
        "  X = X[desample_mask]\n",
        "\n",
        "  return X,y\n",
        "\n",
        "# randomly undersample no_relation in train\n",
        "X_train, y_train = desample(X_train,y_train, sample_factor =1)\n",
        "\n",
        "sns.histplot(y_train)\n",
        "plt.xticks(rotation=90)\n",
        "plt.show()\n",
        "\n",
        "id2label = {0: \"no_relation\", 1: \"received_nobelprize_for\", 2: \"has_won\", 3: \"received_nobelprize_in\", 4: \"born_on\", 5: \"died_on\", 6: \"has_nationality\"}\n",
        "label2id = {\"no_relation\": 0, \"received_nobelprize_for\": 1, \"has_won\": 2, \"received_nobelprize_in\": 3, \"born_on\": 4, \"died_on\": 5, \"has_nationality\": 6}\n",
        "\n",
        "y_train = [label2id[label] for label in y_train]\n",
        "y_val = [label2id[label] for label in y_val]\n",
        "y_test = [label2id[label] for label in y_test]"
      ],
      "metadata": {
        "colab": {
          "base_uri": "https://localhost:8080/",
          "height": 1000
        },
        "id": "VvtUjCB2u0r2",
        "outputId": "89cfe80c-dea2-4a6a-bb16-d1f0f2d683b3"
      },
      "execution_count": 488,
      "outputs": [
        {
          "output_type": "display_data",
          "data": {
            "text/plain": [
              "<Figure size 640x480 with 1 Axes>"
            ],
            "image/png": "[encoded data removed]"
          },
          "metadata": {}
        },
        {
          "output_type": "display_data",
          "data": {
            "text/plain": [
              "<Figure size 640x480 with 1 Axes>"
            ],
            "image/png": "[encoded data removed]"
          },
          "metadata": {}
        }
      ]
    },
    {
      "cell_type": "code",
      "source": [
        "from transformers import AutoTokenizer\n",
        "\n",
        "tokenizer = AutoTokenizer.from_pretrained('prajjwal1/bert-tiny')\n",
        "\n",
        "# add our labels as tokens to vocabulary\n",
        "num_added_toks = tokenizer.add_tokens(special_tokens)\n",
        "print('We have added', num_added_toks, 'tokens')"
      ],
      "metadata": {
        "colab": {
          "base_uri": "https://localhost:8080/"
        },
        "id": "D4VSZyNF_RBn",
        "outputId": "5529961e-8107-4af4-f38e-b1d286fec3b4"
      },
      "execution_count": 489,
      "outputs": [
        {
          "output_type": "stream",
          "name": "stdout",
          "text": [
            "We have added 5 tokens\n"
          ]
        }
      ]
    },
    {
      "cell_type": "code",
      "source": [
        "def preprocess_function(examples):\n",
        "    return tokenizer(examples[\"text\"], truncation=True)"
      ],
      "metadata": {
        "id": "i2gwSj0Ma2_Y"
      },
      "execution_count": 490,
      "outputs": []
    },
    {
      "cell_type": "code",
      "source": [
        "import torch\n",
        "from torch.utils.data import Dataset, DataLoader\n",
        "\n",
        "# Define a custom dataset class\n",
        "class CustomDataset(Dataset):\n",
        "    def __init__(self, input_data, labels, tokenizer, max_length):\n",
        "        self.input_data = input_data\n",
        "        self.labels = labels\n",
        "        self.tokenizer = tokenizer\n",
        "        self.max_length = max_length\n",
        "\n",
        "    def __len__(self):\n",
        "        return len(self.input_data)\n",
        "\n",
        "    def __getitem__(self, idx):\n",
        "        text = self.input_data[idx]\n",
        "        label = self.labels[idx]\n",
        "        encoding = self.tokenizer(\n",
        "            text,\n",
        "            truncation=True,\n",
        "            padding='max_length',\n",
        "            max_length=self.max_length,\n",
        "            return_tensors='pt'\n",
        "        )\n",
        "        return {\n",
        "            'input_ids': encoding['input_ids'].flatten(),\n",
        "            'attention_mask': encoding['attention_mask'].flatten(),\n",
        "            'labels': torch.tensor(label, dtype=torch.long)\n",
        "        }\n",
        "\n",
        "# Define hyperparameters\n",
        "max_seq_length = 128  # You can adjust this as needed\n",
        "batch_size = 2  # You can adjust this as needed\n",
        "\n",
        "# Create custom datasets\n",
        "train_dataset = CustomDataset(X_train, y_train, tokenizer, max_seq_length)\n",
        "val_dataset = CustomDataset(X_val, y_val, tokenizer, max_seq_length)\n",
        "test_dataset = CustomDataset(X_test, y_test, tokenizer, max_seq_length)\n",
        "\n",
        "# # Create data loaders\n",
        "# train_loader = DataLoader(train_dataset, batch_size=batch_size, shuffle=True)\n",
        "# test_loader = DataLoader(test_dataset, batch_size=batch_size)"
      ],
      "metadata": {
        "id": "y_EgGbvx_2JF"
      },
      "execution_count": 491,
      "outputs": []
    },
    {
      "cell_type": "code",
      "source": [
        "from transformers import DataCollatorWithPadding\n",
        "\n",
        "data_collator = DataCollatorWithPadding(tokenizer=tokenizer)"
      ],
      "metadata": {
        "id": "IIbyjX2kGEVM"
      },
      "execution_count": 492,
      "outputs": []
    },
    {
      "cell_type": "code",
      "source": [
        "import evaluate\n",
        "\n",
        "accuracy = evaluate.load(\"accuracy\")"
      ],
      "metadata": {
        "id": "50RJ4bqQGxpm"
      },
      "execution_count": 493,
      "outputs": []
    },
    {
      "cell_type": "code",
      "source": [
        "import numpy as np\n",
        "\n",
        "def compute_metrics(eval_pred):\n",
        "    predictions, labels = eval_pred\n",
        "    predictions = np.argmax(predictions, axis=1)\n",
        "    return accuracy.compute(predictions=predictions, references=labels)"
      ],
      "metadata": {
        "id": "mS2Q4xo0G1Sg"
      },
      "execution_count": 494,
      "outputs": []
    },
    {
      "cell_type": "code",
      "source": [
        "from transformers import AutoModelForSequenceClassification, TrainingArguments, Trainer\n",
        "\n",
        "model = AutoModelForSequenceClassification.from_pretrained(\n",
        "    'prajjwal1/bert-tiny', num_labels=7, id2label=id2label, label2id=label2id\n",
        ")\n",
        "\n",
        "model.resize_token_embeddings(len(tokenizer))"
      ],
      "metadata": {
        "colab": {
          "base_uri": "https://localhost:8080/"
        },
        "id": "hM6kpsdJG69m",
        "outputId": "de232956-2c96-4458-b945-d538c7c8e166"
      },
      "execution_count": 495,
      "outputs": [
        {
          "output_type": "stream",
          "name": "stderr",
          "text": [
            "Some weights of BertForSequenceClassification were not initialized from the model checkpoint at prajjwal1/bert-tiny and are newly initialized: ['classifier.weight', 'classifier.bias']\n",
            "You should probably TRAIN this model on a down-stream task to be able to use it for predictions and inference.\n"
          ]
        },
        {
          "output_type": "execute_result",
          "data": {
            "text/plain": [
              "Embedding(30527, 128)"
            ]
          },
          "metadata": {},
          "execution_count": 495
        }
      ]
    },
    {
      "cell_type": "code",
      "source": [
        "from torch import nn\n",
        "from transformers import Trainer\n",
        "\n",
        "\n",
        "class CustomTrainer(Trainer):\n",
        "    def compute_loss(self, model, inputs, return_outputs=False):\n",
        "        labels = inputs.pop(\"labels\")\n",
        "        # forward pass\n",
        "        outputs = model(**inputs)\n",
        "        logits = outputs.get(\"logits\")\n",
        "        loss_fct = nn.CrossEntropyLoss(weight=torch.tensor([1.0,1.0,1.0,1.0,1.0,2.0,1.0], device=model.device))\n",
        "        loss = loss_fct(logits.view(-1, self.model.config.num_labels), labels.view(-1))\n",
        "        return (loss, outputs) if return_outputs else loss"
      ],
      "metadata": {
        "id": "T5mzFUqR3FTP"
      },
      "execution_count": 496,
      "outputs": []
    },
    {
      "cell_type": "code",
      "source": [
        "training_args = TrainingArguments(\n",
        "    output_dir=\"my_awesome_model\",\n",
        "    learning_rate=2e-5,\n",
        "    per_device_train_batch_size=16,\n",
        "    per_device_eval_batch_size=16,\n",
        "    num_train_epochs=50,\n",
        "    weight_decay=0.01,\n",
        "    evaluation_strategy=\"epoch\",\n",
        "    save_strategy=\"epoch\",\n",
        "    load_best_model_at_end=True,\n",
        "    push_to_hub=False,\n",
        ")\n",
        "\n",
        "trainer = CustomTrainer(\n",
        "    model=model,\n",
        "    args=training_args,\n",
        "    train_dataset=train_dataset,\n",
        "    eval_dataset=val_dataset,\n",
        "    tokenizer=tokenizer,\n",
        "    data_collator=data_collator,\n",
        "    compute_metrics=compute_metrics,\n",
        ")\n",
        "\n",
        "trainer.train()"
      ],
      "metadata": {
        "colab": {
          "base_uri": "https://localhost:8080/",
          "height": 1000
        },
        "id": "5wmUsts5wgcU",
        "outputId": "8abbcf75-5b6b-4ccb-affd-53316b8e63e6"
      },
      "execution_count": 497,
      "outputs": [
        {
          "output_type": "stream",
          "name": "stderr",
          "text": [
            "You're using a BertTokenizerFast tokenizer. Please note that with a fast tokenizer, using the `__call__` method is faster than using a method to encode the text followed by a call to the `pad` method to get a padded encoding.\n"
          ]
        },
        {
          "output_type": "display_data",
          "data": {
            "text/plain": [
              "<IPython.core.display.HTML object>"
            ],
            "text/html": [
              "\n",
              "    <div>\n",
              "      \n",
              "      <progress value='1950' max='1950' style='width:300px; height:20px; vertical-align: middle;'></progress>\n",
              "      [1950/1950 02:19, Epoch 50/50]\n",
              "    </div>\n",
              "    <table border=\"1\" class=\"dataframe\">\n",
              "  <thead>\n",
              " <tr style=\"text-align: left;\">\n",
              "      <th>Epoch</th>\n",
              "      <th>Training Loss</th>\n",
              "      <th>Validation Loss</th>\n",
              "      <th>Accuracy</th>\n",
              "    </tr>\n",
              "  </thead>\n",
              "  <tbody>\n",
              "    <tr>\n",
              "      <td>1</td>\n",
              "      <td>No log</td>\n",
              "      <td>1.875628</td>\n",
              "      <td>0.313099</td>\n",
              "    </tr>\n",
              "    <tr>\n",
              "      <td>2</td>\n",
              "      <td>No log</td>\n",
              "      <td>1.822583</td>\n",
              "      <td>0.415335</td>\n",
              "    </tr>\n",
              "    <tr>\n",
              "      <td>3</td>\n",
              "      <td>No log</td>\n",
              "      <td>1.812847</td>\n",
              "      <td>0.389776</td>\n",
              "    </tr>\n",
              "    <tr>\n",
              "      <td>4</td>\n",
              "      <td>No log</td>\n",
              "      <td>1.797321</td>\n",
              "      <td>0.399361</td>\n",
              "    </tr>\n",
              "    <tr>\n",
              "      <td>5</td>\n",
              "      <td>No log</td>\n",
              "      <td>1.776129</td>\n",
              "      <td>0.412141</td>\n",
              "    </tr>\n",
              "    <tr>\n",
              "      <td>6</td>\n",
              "      <td>No log</td>\n",
              "      <td>1.738354</td>\n",
              "      <td>0.424920</td>\n",
              "    </tr>\n",
              "    <tr>\n",
              "      <td>7</td>\n",
              "      <td>No log</td>\n",
              "      <td>1.709116</td>\n",
              "      <td>0.466454</td>\n",
              "    </tr>\n",
              "    <tr>\n",
              "      <td>8</td>\n",
              "      <td>No log</td>\n",
              "      <td>1.703193</td>\n",
              "      <td>0.460064</td>\n",
              "    </tr>\n",
              "    <tr>\n",
              "      <td>9</td>\n",
              "      <td>No log</td>\n",
              "      <td>1.705001</td>\n",
              "      <td>0.463259</td>\n",
              "    </tr>\n",
              "    <tr>\n",
              "      <td>10</td>\n",
              "      <td>No log</td>\n",
              "      <td>1.661641</td>\n",
              "      <td>0.530351</td>\n",
              "    </tr>\n",
              "    <tr>\n",
              "      <td>11</td>\n",
              "      <td>No log</td>\n",
              "      <td>1.649908</td>\n",
              "      <td>0.546326</td>\n",
              "    </tr>\n",
              "    <tr>\n",
              "      <td>12</td>\n",
              "      <td>No log</td>\n",
              "      <td>1.624602</td>\n",
              "      <td>0.578275</td>\n",
              "    </tr>\n",
              "    <tr>\n",
              "      <td>13</td>\n",
              "      <td>1.838900</td>\n",
              "      <td>1.600653</td>\n",
              "      <td>0.587859</td>\n",
              "    </tr>\n",
              "    <tr>\n",
              "      <td>14</td>\n",
              "      <td>1.838900</td>\n",
              "      <td>1.591006</td>\n",
              "      <td>0.565495</td>\n",
              "    </tr>\n",
              "    <tr>\n",
              "      <td>15</td>\n",
              "      <td>1.838900</td>\n",
              "      <td>1.579665</td>\n",
              "      <td>0.568690</td>\n",
              "    </tr>\n",
              "    <tr>\n",
              "      <td>16</td>\n",
              "      <td>1.838900</td>\n",
              "      <td>1.545733</td>\n",
              "      <td>0.594249</td>\n",
              "    </tr>\n",
              "    <tr>\n",
              "      <td>17</td>\n",
              "      <td>1.838900</td>\n",
              "      <td>1.538630</td>\n",
              "      <td>0.597444</td>\n",
              "    </tr>\n",
              "    <tr>\n",
              "      <td>18</td>\n",
              "      <td>1.838900</td>\n",
              "      <td>1.490919</td>\n",
              "      <td>0.648562</td>\n",
              "    </tr>\n",
              "    <tr>\n",
              "      <td>19</td>\n",
              "      <td>1.838900</td>\n",
              "      <td>1.511240</td>\n",
              "      <td>0.623003</td>\n",
              "    </tr>\n",
              "    <tr>\n",
              "      <td>20</td>\n",
              "      <td>1.838900</td>\n",
              "      <td>1.491898</td>\n",
              "      <td>0.638978</td>\n",
              "    </tr>\n",
              "    <tr>\n",
              "      <td>21</td>\n",
              "      <td>1.838900</td>\n",
              "      <td>1.494258</td>\n",
              "      <td>0.610224</td>\n",
              "    </tr>\n",
              "    <tr>\n",
              "      <td>22</td>\n",
              "      <td>1.838900</td>\n",
              "      <td>1.467807</td>\n",
              "      <td>0.623003</td>\n",
              "    </tr>\n",
              "    <tr>\n",
              "      <td>23</td>\n",
              "      <td>1.838900</td>\n",
              "      <td>1.435965</td>\n",
              "      <td>0.642173</td>\n",
              "    </tr>\n",
              "    <tr>\n",
              "      <td>24</td>\n",
              "      <td>1.838900</td>\n",
              "      <td>1.442189</td>\n",
              "      <td>0.629393</td>\n",
              "    </tr>\n",
              "    <tr>\n",
              "      <td>25</td>\n",
              "      <td>1.838900</td>\n",
              "      <td>1.424950</td>\n",
              "      <td>0.638978</td>\n",
              "    </tr>\n",
              "    <tr>\n",
              "      <td>26</td>\n",
              "      <td>1.450000</td>\n",
              "      <td>1.425874</td>\n",
              "      <td>0.623003</td>\n",
              "    </tr>\n",
              "    <tr>\n",
              "      <td>27</td>\n",
              "      <td>1.450000</td>\n",
              "      <td>1.377329</td>\n",
              "      <td>0.651757</td>\n",
              "    </tr>\n",
              "    <tr>\n",
              "      <td>28</td>\n",
              "      <td>1.450000</td>\n",
              "      <td>1.392033</td>\n",
              "      <td>0.638978</td>\n",
              "    </tr>\n",
              "    <tr>\n",
              "      <td>29</td>\n",
              "      <td>1.450000</td>\n",
              "      <td>1.402374</td>\n",
              "      <td>0.616613</td>\n",
              "    </tr>\n",
              "    <tr>\n",
              "      <td>30</td>\n",
              "      <td>1.450000</td>\n",
              "      <td>1.375218</td>\n",
              "      <td>0.626198</td>\n",
              "    </tr>\n",
              "    <tr>\n",
              "      <td>31</td>\n",
              "      <td>1.450000</td>\n",
              "      <td>1.375917</td>\n",
              "      <td>0.613419</td>\n",
              "    </tr>\n",
              "    <tr>\n",
              "      <td>32</td>\n",
              "      <td>1.450000</td>\n",
              "      <td>1.353161</td>\n",
              "      <td>0.642173</td>\n",
              "    </tr>\n",
              "    <tr>\n",
              "      <td>33</td>\n",
              "      <td>1.450000</td>\n",
              "      <td>1.365664</td>\n",
              "      <td>0.632588</td>\n",
              "    </tr>\n",
              "    <tr>\n",
              "      <td>34</td>\n",
              "      <td>1.450000</td>\n",
              "      <td>1.330938</td>\n",
              "      <td>0.658147</td>\n",
              "    </tr>\n",
              "    <tr>\n",
              "      <td>35</td>\n",
              "      <td>1.450000</td>\n",
              "      <td>1.335565</td>\n",
              "      <td>0.642173</td>\n",
              "    </tr>\n",
              "    <tr>\n",
              "      <td>36</td>\n",
              "      <td>1.450000</td>\n",
              "      <td>1.328960</td>\n",
              "      <td>0.645367</td>\n",
              "    </tr>\n",
              "    <tr>\n",
              "      <td>37</td>\n",
              "      <td>1.450000</td>\n",
              "      <td>1.332526</td>\n",
              "      <td>0.629393</td>\n",
              "    </tr>\n",
              "    <tr>\n",
              "      <td>38</td>\n",
              "      <td>1.450000</td>\n",
              "      <td>1.328559</td>\n",
              "      <td>0.626198</td>\n",
              "    </tr>\n",
              "    <tr>\n",
              "      <td>39</td>\n",
              "      <td>1.116800</td>\n",
              "      <td>1.312624</td>\n",
              "      <td>0.638978</td>\n",
              "    </tr>\n",
              "    <tr>\n",
              "      <td>40</td>\n",
              "      <td>1.116800</td>\n",
              "      <td>1.319047</td>\n",
              "      <td>0.632588</td>\n",
              "    </tr>\n",
              "    <tr>\n",
              "      <td>41</td>\n",
              "      <td>1.116800</td>\n",
              "      <td>1.307730</td>\n",
              "      <td>0.645367</td>\n",
              "    </tr>\n",
              "    <tr>\n",
              "      <td>42</td>\n",
              "      <td>1.116800</td>\n",
              "      <td>1.299501</td>\n",
              "      <td>0.651757</td>\n",
              "    </tr>\n",
              "    <tr>\n",
              "      <td>43</td>\n",
              "      <td>1.116800</td>\n",
              "      <td>1.306885</td>\n",
              "      <td>0.632588</td>\n",
              "    </tr>\n",
              "    <tr>\n",
              "      <td>44</td>\n",
              "      <td>1.116800</td>\n",
              "      <td>1.309779</td>\n",
              "      <td>0.623003</td>\n",
              "    </tr>\n",
              "    <tr>\n",
              "      <td>45</td>\n",
              "      <td>1.116800</td>\n",
              "      <td>1.301836</td>\n",
              "      <td>0.623003</td>\n",
              "    </tr>\n",
              "    <tr>\n",
              "      <td>46</td>\n",
              "      <td>1.116800</td>\n",
              "      <td>1.301970</td>\n",
              "      <td>0.623003</td>\n",
              "    </tr>\n",
              "    <tr>\n",
              "      <td>47</td>\n",
              "      <td>1.116800</td>\n",
              "      <td>1.291727</td>\n",
              "      <td>0.638978</td>\n",
              "    </tr>\n",
              "    <tr>\n",
              "      <td>48</td>\n",
              "      <td>1.116800</td>\n",
              "      <td>1.296697</td>\n",
              "      <td>0.623003</td>\n",
              "    </tr>\n",
              "    <tr>\n",
              "      <td>49</td>\n",
              "      <td>1.116800</td>\n",
              "      <td>1.297872</td>\n",
              "      <td>0.623003</td>\n",
              "    </tr>\n",
              "    <tr>\n",
              "      <td>50</td>\n",
              "      <td>1.116800</td>\n",
              "      <td>1.296189</td>\n",
              "      <td>0.623003</td>\n",
              "    </tr>\n",
              "  </tbody>\n",
              "</table><p>"
            ]
          },
          "metadata": {}
        },
        {
          "output_type": "execute_result",
          "data": {
            "text/plain": [
              "TrainOutput(global_step=1950, training_loss=1.3604704089042468, metrics={'train_runtime': 139.5651, 'train_samples_per_second': 221.76, 'train_steps_per_second': 13.972, 'total_flos': 9845724864000.0, 'train_loss': 1.3604704089042468, 'epoch': 50.0})"
            ]
          },
          "metadata": {},
          "execution_count": 497
        }
      ]
    },
    {
      "cell_type": "code",
      "source": [
        "from transformers import AutoConfig\n",
        "import datetime\n",
        "\n",
        "device = torch.device(\"cuda\" if torch.cuda.is_available() else \"cpu\")\n",
        "timestamp = datetime.datetime.now().strftime(\"%Y%m%d-%H%M%S\")\n",
        "\n",
        "# Define filepath to save best model\n",
        "if email == 'tamaraexterkate93@gmail.com':\n",
        "  filepath = f\"/content/drive/MyDrive/TUe/TM/saved_models/{timestamp}\"\n",
        "elif email == 'n.v.diermen@student.tue.nl':\n",
        "  filepath = f\"/content/drive/MyDrive/Text Mining/saved_models/{timestamp}\"\n",
        "\n",
        "best_model_path = trainer.state.best_model_checkpoint\n",
        "best_tokenizer = AutoTokenizer.from_pretrained(best_model_path)\n",
        "best_config = AutoConfig.from_pretrained(best_model_path)\n",
        "best_model = AutoModelForSequenceClassification.from_pretrained(best_model_path, config=best_config).to(device)\n",
        "best_model.save_pretrained(filepath)\n",
        "print(f'Best model saved at {filepath}')"
      ],
      "metadata": {
        "id": "doMX9pfVwTMt",
        "outputId": "83baf6ca-9d14-4ec0-c973-0f603f3e06f0",
        "colab": {
          "base_uri": "https://localhost:8080/"
        }
      },
      "execution_count": 501,
      "outputs": [
        {
          "output_type": "stream",
          "name": "stderr",
          "text": [
            "Special tokens have been added in the vocabulary, make sure the associated word embeddings are fine-tuned or trained.\n"
          ]
        },
        {
          "output_type": "stream",
          "name": "stdout",
          "text": [
            "Best model saved at /content/drive/MyDrive/Text Mining/saved_models/20231018-131651\n"
          ]
        }
      ]
    },
    {
      "cell_type": "code",
      "source": [
        "text = \"[WINR] Barack Hussein Obama [WINR] II (born August 4, 1961) is an [NTLY] American [NTLY] politician who served as the 44th president of the United States from 2009 to 2017\"\n",
        "inputs = best_tokenizer(text, return_tensors=\"pt\").to(device)\n",
        "\n",
        "with torch.no_grad():\n",
        "    logits = best_model(**inputs).logits\n",
        "\n",
        "predicted_class_id = logits.argmax().item()\n",
        "print(model.config.id2label[predicted_class_id])"
      ],
      "metadata": {
        "colab": {
          "base_uri": "https://localhost:8080/"
        },
        "id": "xC6kawVB1RgV",
        "outputId": "5eef6ea4-187c-4e1d-faf7-b3a795e9da87"
      },
      "execution_count": 499,
      "outputs": [
        {
          "output_type": "stream",
          "name": "stdout",
          "text": [
            "has_nationality\n"
          ]
        }
      ]
    },
    {
      "cell_type": "code",
      "source": [
        "test_output = trainer.predict(test_dataset)\n",
        "y_true = test_output[1]\n",
        "y_pred = np.argmax(test_output[0],axis=1)"
      ],
      "metadata": {
        "id": "fw-1tLMPzAXe",
        "colab": {
          "base_uri": "https://localhost:8080/",
          "height": 17
        },
        "outputId": "1617405e-c2fa-4a23-fe40-e3556c31dc64"
      },
      "execution_count": 544,
      "outputs": [
        {
          "output_type": "display_data",
          "data": {
            "text/plain": [
              "<IPython.core.display.HTML object>"
            ],
            "text/html": []
          },
          "metadata": {}
        }
      ]
    },
    {
      "cell_type": "code",
      "source": [
        "from matplotlib.colors import LogNorm, Normalize\n",
        "\n",
        "cm = confusion_matrix(y_true,y_pred)\n",
        "cm_color = np.where(cm==0,0.5,cm)\n",
        "sns.heatmap(cm_color, annot=cm, xticklabels = id2label.values(), yticklabels = id2label.values(), norm=LogNorm(vmin=0.5))\n",
        "\n",
        "plt.show()"
      ],
      "metadata": {
        "colab": {
          "base_uri": "https://localhost:8080/",
          "height": 602
        },
        "id": "n67GH43s8wGp",
        "outputId": "6e017c91-e28d-412c-8eb2-6e505176096a"
      },
      "execution_count": 545,
      "outputs": [
        {
          "output_type": "display_data",
          "data": {
            "text/plain": [
              "<Figure size 640x480 with 2 Axes>"
            ],
            "image/png": "[encoded data removed]"
          },
          "metadata": {}
        }
      ]
    }
  ]
}