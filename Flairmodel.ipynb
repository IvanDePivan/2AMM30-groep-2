{
  "nbformat": 4,
  "nbformat_minor": 0,
  "metadata": {
    "colab": {
      "provenance": [],
      "gpuType": "V100",
      "authorship_tag": "ABX9TyNxwhWyYff3odpHtZIey1aA",
      "include_colab_link": true
    },
    "kernelspec": {
      "name": "python3",
      "display_name": "Python 3"
    },
    "language_info": {
      "name": "python"
    },
    "accelerator": "GPU",
    "widgets": {
      "application/vnd.jupyter.widget-state+json": {
        "84029761175a4b6d9afe48ce7ac703bc": {
          "model_module": "@jupyter-widgets/controls",
          "model_name": "HBoxModel",
          "model_module_version": "1.5.0",
          "state": {
            "_dom_classes": [],
            "_model_module": "@jupyter-widgets/controls",
            "_model_module_version": "1.5.0",
            "_model_name": "HBoxModel",
            "_view_count": null,
            "_view_module": "@jupyter-widgets/controls",
            "_view_module_version": "1.5.0",
            "_view_name": "HBoxView",
            "box_style": "",
            "children": [
              "IPY_MODEL_456ce968791a433abba60eb75e3d33b9",
              "IPY_MODEL_5fcc3b398b6b410a82033fc288f38f12",
              "IPY_MODEL_8cb4f27903d74d3bb82a4ec3b4cbfad2"
            ],
            "layout": "IPY_MODEL_2f6cedcf78514c75a65d9cda62200379"
          }
        },
        "456ce968791a433abba60eb75e3d33b9": {
          "model_module": "@jupyter-widgets/controls",
          "model_name": "HTMLModel",
          "model_module_version": "1.5.0",
          "state": {
            "_dom_classes": [],
            "_model_module": "@jupyter-widgets/controls",
            "_model_module_version": "1.5.0",
            "_model_name": "HTMLModel",
            "_view_count": null,
            "_view_module": "@jupyter-widgets/controls",
            "_view_module_version": "1.5.0",
            "_view_name": "HTMLView",
            "description": "",
            "description_tooltip": null,
            "layout": "IPY_MODEL_6fecaa14332b46a4a8280d51dc0f868c",
            "placeholder": "​",
            "style": "IPY_MODEL_d81d25c30acc426baf29fd9c6199feae",
            "value": "Downloading (…)okenizer_config.json: 100%"
          }
        },
        "5fcc3b398b6b410a82033fc288f38f12": {
          "model_module": "@jupyter-widgets/controls",
          "model_name": "FloatProgressModel",
          "model_module_version": "1.5.0",
          "state": {
            "_dom_classes": [],
            "_model_module": "@jupyter-widgets/controls",
            "_model_module_version": "1.5.0",
            "_model_name": "FloatProgressModel",
            "_view_count": null,
            "_view_module": "@jupyter-widgets/controls",
            "_view_module_version": "1.5.0",
            "_view_name": "ProgressView",
            "bar_style": "success",
            "description": "",
            "description_tooltip": null,
            "layout": "IPY_MODEL_5b7364e4917846309cf1548c1e1d6099",
            "max": 29,
            "min": 0,
            "orientation": "horizontal",
            "style": "IPY_MODEL_1fb41362a53044518cc6ba4f9ec38ddf",
            "value": 29
          }
        },
        "8cb4f27903d74d3bb82a4ec3b4cbfad2": {
          "model_module": "@jupyter-widgets/controls",
          "model_name": "HTMLModel",
          "model_module_version": "1.5.0",
          "state": {
            "_dom_classes": [],
            "_model_module": "@jupyter-widgets/controls",
            "_model_module_version": "1.5.0",
            "_model_name": "HTMLModel",
            "_view_count": null,
            "_view_module": "@jupyter-widgets/controls",
            "_view_module_version": "1.5.0",
            "_view_name": "HTMLView",
            "description": "",
            "description_tooltip": null,
            "layout": "IPY_MODEL_7bdbea29f85846619383b6e1cbeaba0e",
            "placeholder": "​",
            "style": "IPY_MODEL_3a21c1dbc1a74ccc968b9f961f701cbb",
            "value": " 29.0/29.0 [00:00&lt;00:00, 623B/s]"
          }
        },
        "2f6cedcf78514c75a65d9cda62200379": {
          "model_module": "@jupyter-widgets/base",
          "model_name": "LayoutModel",
          "model_module_version": "1.2.0",
          "state": {
            "_model_module": "@jupyter-widgets/base",
            "_model_module_version": "1.2.0",
            "_model_name": "LayoutModel",
            "_view_count": null,
            "_view_module": "@jupyter-widgets/base",
            "_view_module_version": "1.2.0",
            "_view_name": "LayoutView",
            "align_content": null,
            "align_items": null,
            "align_self": null,
            "border": null,
            "bottom": null,
            "display": null,
            "flex": null,
            "flex_flow": null,
            "grid_area": null,
            "grid_auto_columns": null,
            "grid_auto_flow": null,
            "grid_auto_rows": null,
            "grid_column": null,
            "grid_gap": null,
            "grid_row": null,
            "grid_template_areas": null,
            "grid_template_columns": null,
            "grid_template_rows": null,
            "height": null,
            "justify_content": null,
            "justify_items": null,
            "left": null,
            "margin": null,
            "max_height": null,
            "max_width": null,
            "min_height": null,
            "min_width": null,
            "object_fit": null,
            "object_position": null,
            "order": null,
            "overflow": null,
            "overflow_x": null,
            "overflow_y": null,
            "padding": null,
            "right": null,
            "top": null,
            "visibility": null,
            "width": null
          }
        },
        "6fecaa14332b46a4a8280d51dc0f868c": {
          "model_module": "@jupyter-widgets/base",
          "model_name": "LayoutModel",
          "model_module_version": "1.2.0",
          "state": {
            "_model_module": "@jupyter-widgets/base",
            "_model_module_version": "1.2.0",
            "_model_name": "LayoutModel",
            "_view_count": null,
            "_view_module": "@jupyter-widgets/base",
            "_view_module_version": "1.2.0",
            "_view_name": "LayoutView",
            "align_content": null,
            "align_items": null,
            "align_self": null,
            "border": null,
            "bottom": null,
            "display": null,
            "flex": null,
            "flex_flow": null,
            "grid_area": null,
            "grid_auto_columns": null,
            "grid_auto_flow": null,
            "grid_auto_rows": null,
            "grid_column": null,
            "grid_gap": null,
            "grid_row": null,
            "grid_template_areas": null,
            "grid_template_columns": null,
            "grid_template_rows": null,
            "height": null,
            "justify_content": null,
            "justify_items": null,
            "left": null,
            "margin": null,
            "max_height": null,
            "max_width": null,
            "min_height": null,
            "min_width": null,
            "object_fit": null,
            "object_position": null,
            "order": null,
            "overflow": null,
            "overflow_x": null,
            "overflow_y": null,
            "padding": null,
            "right": null,
            "top": null,
            "visibility": null,
            "width": null
          }
        },
        "d81d25c30acc426baf29fd9c6199feae": {
          "model_module": "@jupyter-widgets/controls",
          "model_name": "DescriptionStyleModel",
          "model_module_version": "1.5.0",
          "state": {
            "_model_module": "@jupyter-widgets/controls",
            "_model_module_version": "1.5.0",
            "_model_name": "DescriptionStyleModel",
            "_view_count": null,
            "_view_module": "@jupyter-widgets/base",
            "_view_module_version": "1.2.0",
            "_view_name": "StyleView",
            "description_width": ""
          }
        },
        "5b7364e4917846309cf1548c1e1d6099": {
          "model_module": "@jupyter-widgets/base",
          "model_name": "LayoutModel",
          "model_module_version": "1.2.0",
          "state": {
            "_model_module": "@jupyter-widgets/base",
            "_model_module_version": "1.2.0",
            "_model_name": "LayoutModel",
            "_view_count": null,
            "_view_module": "@jupyter-widgets/base",
            "_view_module_version": "1.2.0",
            "_view_name": "LayoutView",
            "align_content": null,
            "align_items": null,
            "align_self": null,
            "border": null,
            "bottom": null,
            "display": null,
            "flex": null,
            "flex_flow": null,
            "grid_area": null,
            "grid_auto_columns": null,
            "grid_auto_flow": null,
            "grid_auto_rows": null,
            "grid_column": null,
            "grid_gap": null,
            "grid_row": null,
            "grid_template_areas": null,
            "grid_template_columns": null,
            "grid_template_rows": null,
            "height": null,
            "justify_content": null,
            "justify_items": null,
            "left": null,
            "margin": null,
            "max_height": null,
            "max_width": null,
            "min_height": null,
            "min_width": null,
            "object_fit": null,
            "object_position": null,
            "order": null,
            "overflow": null,
            "overflow_x": null,
            "overflow_y": null,
            "padding": null,
            "right": null,
            "top": null,
            "visibility": null,
            "width": null
          }
        },
        "1fb41362a53044518cc6ba4f9ec38ddf": {
          "model_module": "@jupyter-widgets/controls",
          "model_name": "ProgressStyleModel",
          "model_module_version": "1.5.0",
          "state": {
            "_model_module": "@jupyter-widgets/controls",
            "_model_module_version": "1.5.0",
            "_model_name": "ProgressStyleModel",
            "_view_count": null,
            "_view_module": "@jupyter-widgets/base",
            "_view_module_version": "1.2.0",
            "_view_name": "StyleView",
            "bar_color": null,
            "description_width": ""
          }
        },
        "7bdbea29f85846619383b6e1cbeaba0e": {
          "model_module": "@jupyter-widgets/base",
          "model_name": "LayoutModel",
          "model_module_version": "1.2.0",
          "state": {
            "_model_module": "@jupyter-widgets/base",
            "_model_module_version": "1.2.0",
            "_model_name": "LayoutModel",
            "_view_count": null,
            "_view_module": "@jupyter-widgets/base",
            "_view_module_version": "1.2.0",
            "_view_name": "LayoutView",
            "align_content": null,
            "align_items": null,
            "align_self": null,
            "border": null,
            "bottom": null,
            "display": null,
            "flex": null,
            "flex_flow": null,
            "grid_area": null,
            "grid_auto_columns": null,
            "grid_auto_flow": null,
            "grid_auto_rows": null,
            "grid_column": null,
            "grid_gap": null,
            "grid_row": null,
            "grid_template_areas": null,
            "grid_template_columns": null,
            "grid_template_rows": null,
            "height": null,
            "justify_content": null,
            "justify_items": null,
            "left": null,
            "margin": null,
            "max_height": null,
            "max_width": null,
            "min_height": null,
            "min_width": null,
            "object_fit": null,
            "object_position": null,
            "order": null,
            "overflow": null,
            "overflow_x": null,
            "overflow_y": null,
            "padding": null,
            "right": null,
            "top": null,
            "visibility": null,
            "width": null
          }
        },
        "3a21c1dbc1a74ccc968b9f961f701cbb": {
          "model_module": "@jupyter-widgets/controls",
          "model_name": "DescriptionStyleModel",
          "model_module_version": "1.5.0",
          "state": {
            "_model_module": "@jupyter-widgets/controls",
            "_model_module_version": "1.5.0",
            "_model_name": "DescriptionStyleModel",
            "_view_count": null,
            "_view_module": "@jupyter-widgets/base",
            "_view_module_version": "1.2.0",
            "_view_name": "StyleView",
            "description_width": ""
          }
        },
        "a362e2b5c678432fa6a166ecba578b6b": {
          "model_module": "@jupyter-widgets/controls",
          "model_name": "HBoxModel",
          "model_module_version": "1.5.0",
          "state": {
            "_dom_classes": [],
            "_model_module": "@jupyter-widgets/controls",
            "_model_module_version": "1.5.0",
            "_model_name": "HBoxModel",
            "_view_count": null,
            "_view_module": "@jupyter-widgets/controls",
            "_view_module_version": "1.5.0",
            "_view_name": "HBoxView",
            "box_style": "",
            "children": [
              "IPY_MODEL_47fbd6a128ea4280977990ab77f3dda4",
              "IPY_MODEL_202f9289de914900b6228e8d93c115ec",
              "IPY_MODEL_6b95b4e5a8fd4706935c4f6aac16fe0c"
            ],
            "layout": "IPY_MODEL_00a7a6b075e34bd3add9caac415f1237"
          }
        },
        "47fbd6a128ea4280977990ab77f3dda4": {
          "model_module": "@jupyter-widgets/controls",
          "model_name": "HTMLModel",
          "model_module_version": "1.5.0",
          "state": {
            "_dom_classes": [],
            "_model_module": "@jupyter-widgets/controls",
            "_model_module_version": "1.5.0",
            "_model_name": "HTMLModel",
            "_view_count": null,
            "_view_module": "@jupyter-widgets/controls",
            "_view_module_version": "1.5.0",
            "_view_name": "HTMLView",
            "description": "",
            "description_tooltip": null,
            "layout": "IPY_MODEL_e8c43a40253849f7bb477b57a43075e4",
            "placeholder": "​",
            "style": "IPY_MODEL_d3f9d8dc7c704356ae9499860e3f786d",
            "value": "Downloading (…)lve/main/config.json: 100%"
          }
        },
        "202f9289de914900b6228e8d93c115ec": {
          "model_module": "@jupyter-widgets/controls",
          "model_name": "FloatProgressModel",
          "model_module_version": "1.5.0",
          "state": {
            "_dom_classes": [],
            "_model_module": "@jupyter-widgets/controls",
            "_model_module_version": "1.5.0",
            "_model_name": "FloatProgressModel",
            "_view_count": null,
            "_view_module": "@jupyter-widgets/controls",
            "_view_module_version": "1.5.0",
            "_view_name": "ProgressView",
            "bar_style": "success",
            "description": "",
            "description_tooltip": null,
            "layout": "IPY_MODEL_85f2285f17ef40cd8bbfbf54cf46547b",
            "max": 465,
            "min": 0,
            "orientation": "horizontal",
            "style": "IPY_MODEL_c90b85ebbb1440d989258f6e80305f03",
            "value": 465
          }
        },
        "6b95b4e5a8fd4706935c4f6aac16fe0c": {
          "model_module": "@jupyter-widgets/controls",
          "model_name": "HTMLModel",
          "model_module_version": "1.5.0",
          "state": {
            "_dom_classes": [],
            "_model_module": "@jupyter-widgets/controls",
            "_model_module_version": "1.5.0",
            "_model_name": "HTMLModel",
            "_view_count": null,
            "_view_module": "@jupyter-widgets/controls",
            "_view_module_version": "1.5.0",
            "_view_name": "HTMLView",
            "description": "",
            "description_tooltip": null,
            "layout": "IPY_MODEL_a905677e25e44e5d9a593a2679534a68",
            "placeholder": "​",
            "style": "IPY_MODEL_6f9357660d1e43beba3b7cb2d28c3583",
            "value": " 465/465 [00:00&lt;00:00, 5.75kB/s]"
          }
        },
        "00a7a6b075e34bd3add9caac415f1237": {
          "model_module": "@jupyter-widgets/base",
          "model_name": "LayoutModel",
          "model_module_version": "1.2.0",
          "state": {
            "_model_module": "@jupyter-widgets/base",
            "_model_module_version": "1.2.0",
            "_model_name": "LayoutModel",
            "_view_count": null,
            "_view_module": "@jupyter-widgets/base",
            "_view_module_version": "1.2.0",
            "_view_name": "LayoutView",
            "align_content": null,
            "align_items": null,
            "align_self": null,
            "border": null,
            "bottom": null,
            "display": null,
            "flex": null,
            "flex_flow": null,
            "grid_area": null,
            "grid_auto_columns": null,
            "grid_auto_flow": null,
            "grid_auto_rows": null,
            "grid_column": null,
            "grid_gap": null,
            "grid_row": null,
            "grid_template_areas": null,
            "grid_template_columns": null,
            "grid_template_rows": null,
            "height": null,
            "justify_content": null,
            "justify_items": null,
            "left": null,
            "margin": null,
            "max_height": null,
            "max_width": null,
            "min_height": null,
            "min_width": null,
            "object_fit": null,
            "object_position": null,
            "order": null,
            "overflow": null,
            "overflow_x": null,
            "overflow_y": null,
            "padding": null,
            "right": null,
            "top": null,
            "visibility": null,
            "width": null
          }
        },
        "e8c43a40253849f7bb477b57a43075e4": {
          "model_module": "@jupyter-widgets/base",
          "model_name": "LayoutModel",
          "model_module_version": "1.2.0",
          "state": {
            "_model_module": "@jupyter-widgets/base",
            "_model_module_version": "1.2.0",
            "_model_name": "LayoutModel",
            "_view_count": null,
            "_view_module": "@jupyter-widgets/base",
            "_view_module_version": "1.2.0",
            "_view_name": "LayoutView",
            "align_content": null,
            "align_items": null,
            "align_self": null,
            "border": null,
            "bottom": null,
            "display": null,
            "flex": null,
            "flex_flow": null,
            "grid_area": null,
            "grid_auto_columns": null,
            "grid_auto_flow": null,
            "grid_auto_rows": null,
            "grid_column": null,
            "grid_gap": null,
            "grid_row": null,
            "grid_template_areas": null,
            "grid_template_columns": null,
            "grid_template_rows": null,
            "height": null,
            "justify_content": null,
            "justify_items": null,
            "left": null,
            "margin": null,
            "max_height": null,
            "max_width": null,
            "min_height": null,
            "min_width": null,
            "object_fit": null,
            "object_position": null,
            "order": null,
            "overflow": null,
            "overflow_x": null,
            "overflow_y": null,
            "padding": null,
            "right": null,
            "top": null,
            "visibility": null,
            "width": null
          }
        },
        "d3f9d8dc7c704356ae9499860e3f786d": {
          "model_module": "@jupyter-widgets/controls",
          "model_name": "DescriptionStyleModel",
          "model_module_version": "1.5.0",
          "state": {
            "_model_module": "@jupyter-widgets/controls",
            "_model_module_version": "1.5.0",
            "_model_name": "DescriptionStyleModel",
            "_view_count": null,
            "_view_module": "@jupyter-widgets/base",
            "_view_module_version": "1.2.0",
            "_view_name": "StyleView",
            "description_width": ""
          }
        },
        "85f2285f17ef40cd8bbfbf54cf46547b": {
          "model_module": "@jupyter-widgets/base",
          "model_name": "LayoutModel",
          "model_module_version": "1.2.0",
          "state": {
            "_model_module": "@jupyter-widgets/base",
            "_model_module_version": "1.2.0",
            "_model_name": "LayoutModel",
            "_view_count": null,
            "_view_module": "@jupyter-widgets/base",
            "_view_module_version": "1.2.0",
            "_view_name": "LayoutView",
            "align_content": null,
            "align_items": null,
            "align_self": null,
            "border": null,
            "bottom": null,
            "display": null,
            "flex": null,
            "flex_flow": null,
            "grid_area": null,
            "grid_auto_columns": null,
            "grid_auto_flow": null,
            "grid_auto_rows": null,
            "grid_column": null,
            "grid_gap": null,
            "grid_row": null,
            "grid_template_areas": null,
            "grid_template_columns": null,
            "grid_template_rows": null,
            "height": null,
            "justify_content": null,
            "justify_items": null,
            "left": null,
            "margin": null,
            "max_height": null,
            "max_width": null,
            "min_height": null,
            "min_width": null,
            "object_fit": null,
            "object_position": null,
            "order": null,
            "overflow": null,
            "overflow_x": null,
            "overflow_y": null,
            "padding": null,
            "right": null,
            "top": null,
            "visibility": null,
            "width": null
          }
        },
        "c90b85ebbb1440d989258f6e80305f03": {
          "model_module": "@jupyter-widgets/controls",
          "model_name": "ProgressStyleModel",
          "model_module_version": "1.5.0",
          "state": {
            "_model_module": "@jupyter-widgets/controls",
            "_model_module_version": "1.5.0",
            "_model_name": "ProgressStyleModel",
            "_view_count": null,
            "_view_module": "@jupyter-widgets/base",
            "_view_module_version": "1.2.0",
            "_view_name": "StyleView",
            "bar_color": null,
            "description_width": ""
          }
        },
        "a905677e25e44e5d9a593a2679534a68": {
          "model_module": "@jupyter-widgets/base",
          "model_name": "LayoutModel",
          "model_module_version": "1.2.0",
          "state": {
            "_model_module": "@jupyter-widgets/base",
            "_model_module_version": "1.2.0",
            "_model_name": "LayoutModel",
            "_view_count": null,
            "_view_module": "@jupyter-widgets/base",
            "_view_module_version": "1.2.0",
            "_view_name": "LayoutView",
            "align_content": null,
            "align_items": null,
            "align_self": null,
            "border": null,
            "bottom": null,
            "display": null,
            "flex": null,
            "flex_flow": null,
            "grid_area": null,
            "grid_auto_columns": null,
            "grid_auto_flow": null,
            "grid_auto_rows": null,
            "grid_column": null,
            "grid_gap": null,
            "grid_row": null,
            "grid_template_areas": null,
            "grid_template_columns": null,
            "grid_template_rows": null,
            "height": null,
            "justify_content": null,
            "justify_items": null,
            "left": null,
            "margin": null,
            "max_height": null,
            "max_width": null,
            "min_height": null,
            "min_width": null,
            "object_fit": null,
            "object_position": null,
            "order": null,
            "overflow": null,
            "overflow_x": null,
            "overflow_y": null,
            "padding": null,
            "right": null,
            "top": null,
            "visibility": null,
            "width": null
          }
        },
        "6f9357660d1e43beba3b7cb2d28c3583": {
          "model_module": "@jupyter-widgets/controls",
          "model_name": "DescriptionStyleModel",
          "model_module_version": "1.5.0",
          "state": {
            "_model_module": "@jupyter-widgets/controls",
            "_model_module_version": "1.5.0",
            "_model_name": "DescriptionStyleModel",
            "_view_count": null,
            "_view_module": "@jupyter-widgets/base",
            "_view_module_version": "1.2.0",
            "_view_name": "StyleView",
            "description_width": ""
          }
        },
        "5320803788ab4f45a482e8c110de7159": {
          "model_module": "@jupyter-widgets/controls",
          "model_name": "HBoxModel",
          "model_module_version": "1.5.0",
          "state": {
            "_dom_classes": [],
            "_model_module": "@jupyter-widgets/controls",
            "_model_module_version": "1.5.0",
            "_model_name": "HBoxModel",
            "_view_count": null,
            "_view_module": "@jupyter-widgets/controls",
            "_view_module_version": "1.5.0",
            "_view_name": "HBoxView",
            "box_style": "",
            "children": [
              "IPY_MODEL_bc0fdae0a1c340598351ac2488f215ca",
              "IPY_MODEL_e3dee5ddb94a4ed0bd9018a86c6b4e8b",
              "IPY_MODEL_f68024bc572c41bcba745131c51bddf2"
            ],
            "layout": "IPY_MODEL_b0d1958afcaf4188b0680b1238f532f9"
          }
        },
        "bc0fdae0a1c340598351ac2488f215ca": {
          "model_module": "@jupyter-widgets/controls",
          "model_name": "HTMLModel",
          "model_module_version": "1.5.0",
          "state": {
            "_dom_classes": [],
            "_model_module": "@jupyter-widgets/controls",
            "_model_module_version": "1.5.0",
            "_model_name": "HTMLModel",
            "_view_count": null,
            "_view_module": "@jupyter-widgets/controls",
            "_view_module_version": "1.5.0",
            "_view_name": "HTMLView",
            "description": "",
            "description_tooltip": null,
            "layout": "IPY_MODEL_ddafa3cc1dc145e18e59e8f960e49083",
            "placeholder": "​",
            "style": "IPY_MODEL_f2586f73850d4c858ab09e19fcba65d9",
            "value": "Downloading (…)solve/main/vocab.txt: 100%"
          }
        },
        "e3dee5ddb94a4ed0bd9018a86c6b4e8b": {
          "model_module": "@jupyter-widgets/controls",
          "model_name": "FloatProgressModel",
          "model_module_version": "1.5.0",
          "state": {
            "_dom_classes": [],
            "_model_module": "@jupyter-widgets/controls",
            "_model_module_version": "1.5.0",
            "_model_name": "FloatProgressModel",
            "_view_count": null,
            "_view_module": "@jupyter-widgets/controls",
            "_view_module_version": "1.5.0",
            "_view_name": "ProgressView",
            "bar_style": "success",
            "description": "",
            "description_tooltip": null,
            "layout": "IPY_MODEL_4b5e57bfdee4433492c44950edcbad6a",
            "max": 213450,
            "min": 0,
            "orientation": "horizontal",
            "style": "IPY_MODEL_5f7c7a4a2dc549af9f52e7307d0c2c59",
            "value": 213450
          }
        },
        "f68024bc572c41bcba745131c51bddf2": {
          "model_module": "@jupyter-widgets/controls",
          "model_name": "HTMLModel",
          "model_module_version": "1.5.0",
          "state": {
            "_dom_classes": [],
            "_model_module": "@jupyter-widgets/controls",
            "_model_module_version": "1.5.0",
            "_model_name": "HTMLModel",
            "_view_count": null,
            "_view_module": "@jupyter-widgets/controls",
            "_view_module_version": "1.5.0",
            "_view_name": "HTMLView",
            "description": "",
            "description_tooltip": null,
            "layout": "IPY_MODEL_6dd8da3325b54cf7998f27ccc616a561",
            "placeholder": "​",
            "style": "IPY_MODEL_91483fd31f7746a4a66389222a38426e",
            "value": " 213k/213k [00:00&lt;00:00, 3.64MB/s]"
          }
        },
        "b0d1958afcaf4188b0680b1238f532f9": {
          "model_module": "@jupyter-widgets/base",
          "model_name": "LayoutModel",
          "model_module_version": "1.2.0",
          "state": {
            "_model_module": "@jupyter-widgets/base",
            "_model_module_version": "1.2.0",
            "_model_name": "LayoutModel",
            "_view_count": null,
            "_view_module": "@jupyter-widgets/base",
            "_view_module_version": "1.2.0",
            "_view_name": "LayoutView",
            "align_content": null,
            "align_items": null,
            "align_self": null,
            "border": null,
            "bottom": null,
            "display": null,
            "flex": null,
            "flex_flow": null,
            "grid_area": null,
            "grid_auto_columns": null,
            "grid_auto_flow": null,
            "grid_auto_rows": null,
            "grid_column": null,
            "grid_gap": null,
            "grid_row": null,
            "grid_template_areas": null,
            "grid_template_columns": null,
            "grid_template_rows": null,
            "height": null,
            "justify_content": null,
            "justify_items": null,
            "left": null,
            "margin": null,
            "max_height": null,
            "max_width": null,
            "min_height": null,
            "min_width": null,
            "object_fit": null,
            "object_position": null,
            "order": null,
            "overflow": null,
            "overflow_x": null,
            "overflow_y": null,
            "padding": null,
            "right": null,
            "top": null,
            "visibility": null,
            "width": null
          }
        },
        "ddafa3cc1dc145e18e59e8f960e49083": {
          "model_module": "@jupyter-widgets/base",
          "model_name": "LayoutModel",
          "model_module_version": "1.2.0",
          "state": {
            "_model_module": "@jupyter-widgets/base",
            "_model_module_version": "1.2.0",
            "_model_name": "LayoutModel",
            "_view_count": null,
            "_view_module": "@jupyter-widgets/base",
            "_view_module_version": "1.2.0",
            "_view_name": "LayoutView",
            "align_content": null,
            "align_items": null,
            "align_self": null,
            "border": null,
            "bottom": null,
            "display": null,
            "flex": null,
            "flex_flow": null,
            "grid_area": null,
            "grid_auto_columns": null,
            "grid_auto_flow": null,
            "grid_auto_rows": null,
            "grid_column": null,
            "grid_gap": null,
            "grid_row": null,
            "grid_template_areas": null,
            "grid_template_columns": null,
            "grid_template_rows": null,
            "height": null,
            "justify_content": null,
            "justify_items": null,
            "left": null,
            "margin": null,
            "max_height": null,
            "max_width": null,
            "min_height": null,
            "min_width": null,
            "object_fit": null,
            "object_position": null,
            "order": null,
            "overflow": null,
            "overflow_x": null,
            "overflow_y": null,
            "padding": null,
            "right": null,
            "top": null,
            "visibility": null,
            "width": null
          }
        },
        "f2586f73850d4c858ab09e19fcba65d9": {
          "model_module": "@jupyter-widgets/controls",
          "model_name": "DescriptionStyleModel",
          "model_module_version": "1.5.0",
          "state": {
            "_model_module": "@jupyter-widgets/controls",
            "_model_module_version": "1.5.0",
            "_model_name": "DescriptionStyleModel",
            "_view_count": null,
            "_view_module": "@jupyter-widgets/base",
            "_view_module_version": "1.2.0",
            "_view_name": "StyleView",
            "description_width": ""
          }
        },
        "4b5e57bfdee4433492c44950edcbad6a": {
          "model_module": "@jupyter-widgets/base",
          "model_name": "LayoutModel",
          "model_module_version": "1.2.0",
          "state": {
            "_model_module": "@jupyter-widgets/base",
            "_model_module_version": "1.2.0",
            "_model_name": "LayoutModel",
            "_view_count": null,
            "_view_module": "@jupyter-widgets/base",
            "_view_module_version": "1.2.0",
            "_view_name": "LayoutView",
            "align_content": null,
            "align_items": null,
            "align_self": null,
            "border": null,
            "bottom": null,
            "display": null,
            "flex": null,
            "flex_flow": null,
            "grid_area": null,
            "grid_auto_columns": null,
            "grid_auto_flow": null,
            "grid_auto_rows": null,
            "grid_column": null,
            "grid_gap": null,
            "grid_row": null,
            "grid_template_areas": null,
            "grid_template_columns": null,
            "grid_template_rows": null,
            "height": null,
            "justify_content": null,
            "justify_items": null,
            "left": null,
            "margin": null,
            "max_height": null,
            "max_width": null,
            "min_height": null,
            "min_width": null,
            "object_fit": null,
            "object_position": null,
            "order": null,
            "overflow": null,
            "overflow_x": null,
            "overflow_y": null,
            "padding": null,
            "right": null,
            "top": null,
            "visibility": null,
            "width": null
          }
        },
        "5f7c7a4a2dc549af9f52e7307d0c2c59": {
          "model_module": "@jupyter-widgets/controls",
          "model_name": "ProgressStyleModel",
          "model_module_version": "1.5.0",
          "state": {
            "_model_module": "@jupyter-widgets/controls",
            "_model_module_version": "1.5.0",
            "_model_name": "ProgressStyleModel",
            "_view_count": null,
            "_view_module": "@jupyter-widgets/base",
            "_view_module_version": "1.2.0",
            "_view_name": "StyleView",
            "bar_color": null,
            "description_width": ""
          }
        },
        "6dd8da3325b54cf7998f27ccc616a561": {
          "model_module": "@jupyter-widgets/base",
          "model_name": "LayoutModel",
          "model_module_version": "1.2.0",
          "state": {
            "_model_module": "@jupyter-widgets/base",
            "_model_module_version": "1.2.0",
            "_model_name": "LayoutModel",
            "_view_count": null,
            "_view_module": "@jupyter-widgets/base",
            "_view_module_version": "1.2.0",
            "_view_name": "LayoutView",
            "align_content": null,
            "align_items": null,
            "align_self": null,
            "border": null,
            "bottom": null,
            "display": null,
            "flex": null,
            "flex_flow": null,
            "grid_area": null,
            "grid_auto_columns": null,
            "grid_auto_flow": null,
            "grid_auto_rows": null,
            "grid_column": null,
            "grid_gap": null,
            "grid_row": null,
            "grid_template_areas": null,
            "grid_template_columns": null,
            "grid_template_rows": null,
            "height": null,
            "justify_content": null,
            "justify_items": null,
            "left": null,
            "margin": null,
            "max_height": null,
            "max_width": null,
            "min_height": null,
            "min_width": null,
            "object_fit": null,
            "object_position": null,
            "order": null,
            "overflow": null,
            "overflow_x": null,
            "overflow_y": null,
            "padding": null,
            "right": null,
            "top": null,
            "visibility": null,
            "width": null
          }
        },
        "91483fd31f7746a4a66389222a38426e": {
          "model_module": "@jupyter-widgets/controls",
          "model_name": "DescriptionStyleModel",
          "model_module_version": "1.5.0",
          "state": {
            "_model_module": "@jupyter-widgets/controls",
            "_model_module_version": "1.5.0",
            "_model_name": "DescriptionStyleModel",
            "_view_count": null,
            "_view_module": "@jupyter-widgets/base",
            "_view_module_version": "1.2.0",
            "_view_name": "StyleView",
            "description_width": ""
          }
        },
        "17fdb21d26f04cf1822ad82ed0b2bc67": {
          "model_module": "@jupyter-widgets/controls",
          "model_name": "HBoxModel",
          "model_module_version": "1.5.0",
          "state": {
            "_dom_classes": [],
            "_model_module": "@jupyter-widgets/controls",
            "_model_module_version": "1.5.0",
            "_model_name": "HBoxModel",
            "_view_count": null,
            "_view_module": "@jupyter-widgets/controls",
            "_view_module_version": "1.5.0",
            "_view_name": "HBoxView",
            "box_style": "",
            "children": [
              "IPY_MODEL_991a5e650fa94c7d890040ba1a4acf6a",
              "IPY_MODEL_9b556ebc57b64463b50db036dfde4747",
              "IPY_MODEL_a6236a8662d04ece88081af247a6cd08"
            ],
            "layout": "IPY_MODEL_618c1bc5c206487a882d1ace00a10410"
          }
        },
        "991a5e650fa94c7d890040ba1a4acf6a": {
          "model_module": "@jupyter-widgets/controls",
          "model_name": "HTMLModel",
          "model_module_version": "1.5.0",
          "state": {
            "_dom_classes": [],
            "_model_module": "@jupyter-widgets/controls",
            "_model_module_version": "1.5.0",
            "_model_name": "HTMLModel",
            "_view_count": null,
            "_view_module": "@jupyter-widgets/controls",
            "_view_module_version": "1.5.0",
            "_view_name": "HTMLView",
            "description": "",
            "description_tooltip": null,
            "layout": "IPY_MODEL_0ee2894e3be743a28843e8ec242258a0",
            "placeholder": "​",
            "style": "IPY_MODEL_beb06ce8796f40bbae0debfea3724e86",
            "value": "Downloading (…)/main/tokenizer.json: 100%"
          }
        },
        "9b556ebc57b64463b50db036dfde4747": {
          "model_module": "@jupyter-widgets/controls",
          "model_name": "FloatProgressModel",
          "model_module_version": "1.5.0",
          "state": {
            "_dom_classes": [],
            "_model_module": "@jupyter-widgets/controls",
            "_model_module_version": "1.5.0",
            "_model_name": "FloatProgressModel",
            "_view_count": null,
            "_view_module": "@jupyter-widgets/controls",
            "_view_module_version": "1.5.0",
            "_view_name": "ProgressView",
            "bar_style": "success",
            "description": "",
            "description_tooltip": null,
            "layout": "IPY_MODEL_62a41bdc757b42149c21f3888fdf1eaf",
            "max": 435797,
            "min": 0,
            "orientation": "horizontal",
            "style": "IPY_MODEL_973cc76c9b0949d580eef7cfdabd01e9",
            "value": 435797
          }
        },
        "a6236a8662d04ece88081af247a6cd08": {
          "model_module": "@jupyter-widgets/controls",
          "model_name": "HTMLModel",
          "model_module_version": "1.5.0",
          "state": {
            "_dom_classes": [],
            "_model_module": "@jupyter-widgets/controls",
            "_model_module_version": "1.5.0",
            "_model_name": "HTMLModel",
            "_view_count": null,
            "_view_module": "@jupyter-widgets/controls",
            "_view_module_version": "1.5.0",
            "_view_name": "HTMLView",
            "description": "",
            "description_tooltip": null,
            "layout": "IPY_MODEL_c87f4584e26443d89ff2d2e45284c439",
            "placeholder": "​",
            "style": "IPY_MODEL_4f1c02f059c148928ccf491a79aa496d",
            "value": " 436k/436k [00:00&lt;00:00, 4.43MB/s]"
          }
        },
        "618c1bc5c206487a882d1ace00a10410": {
          "model_module": "@jupyter-widgets/base",
          "model_name": "LayoutModel",
          "model_module_version": "1.2.0",
          "state": {
            "_model_module": "@jupyter-widgets/base",
            "_model_module_version": "1.2.0",
            "_model_name": "LayoutModel",
            "_view_count": null,
            "_view_module": "@jupyter-widgets/base",
            "_view_module_version": "1.2.0",
            "_view_name": "LayoutView",
            "align_content": null,
            "align_items": null,
            "align_self": null,
            "border": null,
            "bottom": null,
            "display": null,
            "flex": null,
            "flex_flow": null,
            "grid_area": null,
            "grid_auto_columns": null,
            "grid_auto_flow": null,
            "grid_auto_rows": null,
            "grid_column": null,
            "grid_gap": null,
            "grid_row": null,
            "grid_template_areas": null,
            "grid_template_columns": null,
            "grid_template_rows": null,
            "height": null,
            "justify_content": null,
            "justify_items": null,
            "left": null,
            "margin": null,
            "max_height": null,
            "max_width": null,
            "min_height": null,
            "min_width": null,
            "object_fit": null,
            "object_position": null,
            "order": null,
            "overflow": null,
            "overflow_x": null,
            "overflow_y": null,
            "padding": null,
            "right": null,
            "top": null,
            "visibility": null,
            "width": null
          }
        },
        "0ee2894e3be743a28843e8ec242258a0": {
          "model_module": "@jupyter-widgets/base",
          "model_name": "LayoutModel",
          "model_module_version": "1.2.0",
          "state": {
            "_model_module": "@jupyter-widgets/base",
            "_model_module_version": "1.2.0",
            "_model_name": "LayoutModel",
            "_view_count": null,
            "_view_module": "@jupyter-widgets/base",
            "_view_module_version": "1.2.0",
            "_view_name": "LayoutView",
            "align_content": null,
            "align_items": null,
            "align_self": null,
            "border": null,
            "bottom": null,
            "display": null,
            "flex": null,
            "flex_flow": null,
            "grid_area": null,
            "grid_auto_columns": null,
            "grid_auto_flow": null,
            "grid_auto_rows": null,
            "grid_column": null,
            "grid_gap": null,
            "grid_row": null,
            "grid_template_areas": null,
            "grid_template_columns": null,
            "grid_template_rows": null,
            "height": null,
            "justify_content": null,
            "justify_items": null,
            "left": null,
            "margin": null,
            "max_height": null,
            "max_width": null,
            "min_height": null,
            "min_width": null,
            "object_fit": null,
            "object_position": null,
            "order": null,
            "overflow": null,
            "overflow_x": null,
            "overflow_y": null,
            "padding": null,
            "right": null,
            "top": null,
            "visibility": null,
            "width": null
          }
        },
        "beb06ce8796f40bbae0debfea3724e86": {
          "model_module": "@jupyter-widgets/controls",
          "model_name": "DescriptionStyleModel",
          "model_module_version": "1.5.0",
          "state": {
            "_model_module": "@jupyter-widgets/controls",
            "_model_module_version": "1.5.0",
            "_model_name": "DescriptionStyleModel",
            "_view_count": null,
            "_view_module": "@jupyter-widgets/base",
            "_view_module_version": "1.2.0",
            "_view_name": "StyleView",
            "description_width": ""
          }
        },
        "62a41bdc757b42149c21f3888fdf1eaf": {
          "model_module": "@jupyter-widgets/base",
          "model_name": "LayoutModel",
          "model_module_version": "1.2.0",
          "state": {
            "_model_module": "@jupyter-widgets/base",
            "_model_module_version": "1.2.0",
            "_model_name": "LayoutModel",
            "_view_count": null,
            "_view_module": "@jupyter-widgets/base",
            "_view_module_version": "1.2.0",
            "_view_name": "LayoutView",
            "align_content": null,
            "align_items": null,
            "align_self": null,
            "border": null,
            "bottom": null,
            "display": null,
            "flex": null,
            "flex_flow": null,
            "grid_area": null,
            "grid_auto_columns": null,
            "grid_auto_flow": null,
            "grid_auto_rows": null,
            "grid_column": null,
            "grid_gap": null,
            "grid_row": null,
            "grid_template_areas": null,
            "grid_template_columns": null,
            "grid_template_rows": null,
            "height": null,
            "justify_content": null,
            "justify_items": null,
            "left": null,
            "margin": null,
            "max_height": null,
            "max_width": null,
            "min_height": null,
            "min_width": null,
            "object_fit": null,
            "object_position": null,
            "order": null,
            "overflow": null,
            "overflow_x": null,
            "overflow_y": null,
            "padding": null,
            "right": null,
            "top": null,
            "visibility": null,
            "width": null
          }
        },
        "973cc76c9b0949d580eef7cfdabd01e9": {
          "model_module": "@jupyter-widgets/controls",
          "model_name": "ProgressStyleModel",
          "model_module_version": "1.5.0",
          "state": {
            "_model_module": "@jupyter-widgets/controls",
            "_model_module_version": "1.5.0",
            "_model_name": "ProgressStyleModel",
            "_view_count": null,
            "_view_module": "@jupyter-widgets/base",
            "_view_module_version": "1.2.0",
            "_view_name": "StyleView",
            "bar_color": null,
            "description_width": ""
          }
        },
        "c87f4584e26443d89ff2d2e45284c439": {
          "model_module": "@jupyter-widgets/base",
          "model_name": "LayoutModel",
          "model_module_version": "1.2.0",
          "state": {
            "_model_module": "@jupyter-widgets/base",
            "_model_module_version": "1.2.0",
            "_model_name": "LayoutModel",
            "_view_count": null,
            "_view_module": "@jupyter-widgets/base",
            "_view_module_version": "1.2.0",
            "_view_name": "LayoutView",
            "align_content": null,
            "align_items": null,
            "align_self": null,
            "border": null,
            "bottom": null,
            "display": null,
            "flex": null,
            "flex_flow": null,
            "grid_area": null,
            "grid_auto_columns": null,
            "grid_auto_flow": null,
            "grid_auto_rows": null,
            "grid_column": null,
            "grid_gap": null,
            "grid_row": null,
            "grid_template_areas": null,
            "grid_template_columns": null,
            "grid_template_rows": null,
            "height": null,
            "justify_content": null,
            "justify_items": null,
            "left": null,
            "margin": null,
            "max_height": null,
            "max_width": null,
            "min_height": null,
            "min_width": null,
            "object_fit": null,
            "object_position": null,
            "order": null,
            "overflow": null,
            "overflow_x": null,
            "overflow_y": null,
            "padding": null,
            "right": null,
            "top": null,
            "visibility": null,
            "width": null
          }
        },
        "4f1c02f059c148928ccf491a79aa496d": {
          "model_module": "@jupyter-widgets/controls",
          "model_name": "DescriptionStyleModel",
          "model_module_version": "1.5.0",
          "state": {
            "_model_module": "@jupyter-widgets/controls",
            "_model_module_version": "1.5.0",
            "_model_name": "DescriptionStyleModel",
            "_view_count": null,
            "_view_module": "@jupyter-widgets/base",
            "_view_module_version": "1.2.0",
            "_view_name": "StyleView",
            "description_width": ""
          }
        },
        "f2e26d79af4f4d3997cc3b5d75919663": {
          "model_module": "@jupyter-widgets/controls",
          "model_name": "HBoxModel",
          "model_module_version": "1.5.0",
          "state": {
            "_dom_classes": [],
            "_model_module": "@jupyter-widgets/controls",
            "_model_module_version": "1.5.0",
            "_model_name": "HBoxModel",
            "_view_count": null,
            "_view_module": "@jupyter-widgets/controls",
            "_view_module_version": "1.5.0",
            "_view_name": "HBoxView",
            "box_style": "",
            "children": [
              "IPY_MODEL_7b55b74a518f44e59f8bf6e8eda04237",
              "IPY_MODEL_e4b37e538ade42d99b04b20f767eee3a",
              "IPY_MODEL_35ff81deb8f147f88c14b1a8ccaf348d"
            ],
            "layout": "IPY_MODEL_a789cf01066744368b2ea696bc5c0cfa"
          }
        },
        "7b55b74a518f44e59f8bf6e8eda04237": {
          "model_module": "@jupyter-widgets/controls",
          "model_name": "HTMLModel",
          "model_module_version": "1.5.0",
          "state": {
            "_dom_classes": [],
            "_model_module": "@jupyter-widgets/controls",
            "_model_module_version": "1.5.0",
            "_model_name": "HTMLModel",
            "_view_count": null,
            "_view_module": "@jupyter-widgets/controls",
            "_view_module_version": "1.5.0",
            "_view_name": "HTMLView",
            "description": "",
            "description_tooltip": null,
            "layout": "IPY_MODEL_b6456b56fd3949cfa54fd6690a36a8a9",
            "placeholder": "​",
            "style": "IPY_MODEL_c303fd8685fd4ae085f47dbebaf04f26",
            "value": "Downloading model.safetensors: 100%"
          }
        },
        "e4b37e538ade42d99b04b20f767eee3a": {
          "model_module": "@jupyter-widgets/controls",
          "model_name": "FloatProgressModel",
          "model_module_version": "1.5.0",
          "state": {
            "_dom_classes": [],
            "_model_module": "@jupyter-widgets/controls",
            "_model_module_version": "1.5.0",
            "_model_name": "FloatProgressModel",
            "_view_count": null,
            "_view_module": "@jupyter-widgets/controls",
            "_view_module_version": "1.5.0",
            "_view_name": "ProgressView",
            "bar_style": "success",
            "description": "",
            "description_tooltip": null,
            "layout": "IPY_MODEL_8b99b321637e49738b7cbf1d5941964b",
            "max": 263260784,
            "min": 0,
            "orientation": "horizontal",
            "style": "IPY_MODEL_1410dbf7d30f416e82fb4dfdc67f137c",
            "value": 263260784
          }
        },
        "35ff81deb8f147f88c14b1a8ccaf348d": {
          "model_module": "@jupyter-widgets/controls",
          "model_name": "HTMLModel",
          "model_module_version": "1.5.0",
          "state": {
            "_dom_classes": [],
            "_model_module": "@jupyter-widgets/controls",
            "_model_module_version": "1.5.0",
            "_model_name": "HTMLModel",
            "_view_count": null,
            "_view_module": "@jupyter-widgets/controls",
            "_view_module_version": "1.5.0",
            "_view_name": "HTMLView",
            "description": "",
            "description_tooltip": null,
            "layout": "IPY_MODEL_efec2593ecf34cf7ba912df288072bcd",
            "placeholder": "​",
            "style": "IPY_MODEL_81735add34c7438688900cfe1940edc5",
            "value": " 263M/263M [00:01&lt;00:00, 212MB/s]"
          }
        },
        "a789cf01066744368b2ea696bc5c0cfa": {
          "model_module": "@jupyter-widgets/base",
          "model_name": "LayoutModel",
          "model_module_version": "1.2.0",
          "state": {
            "_model_module": "@jupyter-widgets/base",
            "_model_module_version": "1.2.0",
            "_model_name": "LayoutModel",
            "_view_count": null,
            "_view_module": "@jupyter-widgets/base",
            "_view_module_version": "1.2.0",
            "_view_name": "LayoutView",
            "align_content": null,
            "align_items": null,
            "align_self": null,
            "border": null,
            "bottom": null,
            "display": null,
            "flex": null,
            "flex_flow": null,
            "grid_area": null,
            "grid_auto_columns": null,
            "grid_auto_flow": null,
            "grid_auto_rows": null,
            "grid_column": null,
            "grid_gap": null,
            "grid_row": null,
            "grid_template_areas": null,
            "grid_template_columns": null,
            "grid_template_rows": null,
            "height": null,
            "justify_content": null,
            "justify_items": null,
            "left": null,
            "margin": null,
            "max_height": null,
            "max_width": null,
            "min_height": null,
            "min_width": null,
            "object_fit": null,
            "object_position": null,
            "order": null,
            "overflow": null,
            "overflow_x": null,
            "overflow_y": null,
            "padding": null,
            "right": null,
            "top": null,
            "visibility": null,
            "width": null
          }
        },
        "b6456b56fd3949cfa54fd6690a36a8a9": {
          "model_module": "@jupyter-widgets/base",
          "model_name": "LayoutModel",
          "model_module_version": "1.2.0",
          "state": {
            "_model_module": "@jupyter-widgets/base",
            "_model_module_version": "1.2.0",
            "_model_name": "LayoutModel",
            "_view_count": null,
            "_view_module": "@jupyter-widgets/base",
            "_view_module_version": "1.2.0",
            "_view_name": "LayoutView",
            "align_content": null,
            "align_items": null,
            "align_self": null,
            "border": null,
            "bottom": null,
            "display": null,
            "flex": null,
            "flex_flow": null,
            "grid_area": null,
            "grid_auto_columns": null,
            "grid_auto_flow": null,
            "grid_auto_rows": null,
            "grid_column": null,
            "grid_gap": null,
            "grid_row": null,
            "grid_template_areas": null,
            "grid_template_columns": null,
            "grid_template_rows": null,
            "height": null,
            "justify_content": null,
            "justify_items": null,
            "left": null,
            "margin": null,
            "max_height": null,
            "max_width": null,
            "min_height": null,
            "min_width": null,
            "object_fit": null,
            "object_position": null,
            "order": null,
            "overflow": null,
            "overflow_x": null,
            "overflow_y": null,
            "padding": null,
            "right": null,
            "top": null,
            "visibility": null,
            "width": null
          }
        },
        "c303fd8685fd4ae085f47dbebaf04f26": {
          "model_module": "@jupyter-widgets/controls",
          "model_name": "DescriptionStyleModel",
          "model_module_version": "1.5.0",
          "state": {
            "_model_module": "@jupyter-widgets/controls",
            "_model_module_version": "1.5.0",
            "_model_name": "DescriptionStyleModel",
            "_view_count": null,
            "_view_module": "@jupyter-widgets/base",
            "_view_module_version": "1.2.0",
            "_view_name": "StyleView",
            "description_width": ""
          }
        },
        "8b99b321637e49738b7cbf1d5941964b": {
          "model_module": "@jupyter-widgets/base",
          "model_name": "LayoutModel",
          "model_module_version": "1.2.0",
          "state": {
            "_model_module": "@jupyter-widgets/base",
            "_model_module_version": "1.2.0",
            "_model_name": "LayoutModel",
            "_view_count": null,
            "_view_module": "@jupyter-widgets/base",
            "_view_module_version": "1.2.0",
            "_view_name": "LayoutView",
            "align_content": null,
            "align_items": null,
            "align_self": null,
            "border": null,
            "bottom": null,
            "display": null,
            "flex": null,
            "flex_flow": null,
            "grid_area": null,
            "grid_auto_columns": null,
            "grid_auto_flow": null,
            "grid_auto_rows": null,
            "grid_column": null,
            "grid_gap": null,
            "grid_row": null,
            "grid_template_areas": null,
            "grid_template_columns": null,
            "grid_template_rows": null,
            "height": null,
            "justify_content": null,
            "justify_items": null,
            "left": null,
            "margin": null,
            "max_height": null,
            "max_width": null,
            "min_height": null,
            "min_width": null,
            "object_fit": null,
            "object_position": null,
            "order": null,
            "overflow": null,
            "overflow_x": null,
            "overflow_y": null,
            "padding": null,
            "right": null,
            "top": null,
            "visibility": null,
            "width": null
          }
        },
        "1410dbf7d30f416e82fb4dfdc67f137c": {
          "model_module": "@jupyter-widgets/controls",
          "model_name": "ProgressStyleModel",
          "model_module_version": "1.5.0",
          "state": {
            "_model_module": "@jupyter-widgets/controls",
            "_model_module_version": "1.5.0",
            "_model_name": "ProgressStyleModel",
            "_view_count": null,
            "_view_module": "@jupyter-widgets/base",
            "_view_module_version": "1.2.0",
            "_view_name": "StyleView",
            "bar_color": null,
            "description_width": ""
          }
        },
        "efec2593ecf34cf7ba912df288072bcd": {
          "model_module": "@jupyter-widgets/base",
          "model_name": "LayoutModel",
          "model_module_version": "1.2.0",
          "state": {
            "_model_module": "@jupyter-widgets/base",
            "_model_module_version": "1.2.0",
            "_model_name": "LayoutModel",
            "_view_count": null,
            "_view_module": "@jupyter-widgets/base",
            "_view_module_version": "1.2.0",
            "_view_name": "LayoutView",
            "align_content": null,
            "align_items": null,
            "align_self": null,
            "border": null,
            "bottom": null,
            "display": null,
            "flex": null,
            "flex_flow": null,
            "grid_area": null,
            "grid_auto_columns": null,
            "grid_auto_flow": null,
            "grid_auto_rows": null,
            "grid_column": null,
            "grid_gap": null,
            "grid_row": null,
            "grid_template_areas": null,
            "grid_template_columns": null,
            "grid_template_rows": null,
            "height": null,
            "justify_content": null,
            "justify_items": null,
            "left": null,
            "margin": null,
            "max_height": null,
            "max_width": null,
            "min_height": null,
            "min_width": null,
            "object_fit": null,
            "object_position": null,
            "order": null,
            "overflow": null,
            "overflow_x": null,
            "overflow_y": null,
            "padding": null,
            "right": null,
            "top": null,
            "visibility": null,
            "width": null
          }
        },
        "81735add34c7438688900cfe1940edc5": {
          "model_module": "@jupyter-widgets/controls",
          "model_name": "DescriptionStyleModel",
          "model_module_version": "1.5.0",
          "state": {
            "_model_module": "@jupyter-widgets/controls",
            "_model_module_version": "1.5.0",
            "_model_name": "DescriptionStyleModel",
            "_view_count": null,
            "_view_module": "@jupyter-widgets/base",
            "_view_module_version": "1.2.0",
            "_view_name": "StyleView",
            "description_width": ""
          }
        }
      }
    }
  },
  "cells": [
    {
      "cell_type": "markdown",
      "metadata": {
        "id": "view-in-github",
        "colab_type": "text"
      },
      "source": [
        "<a href=\"https://colab.research.google.com/github/IvanDePivan/2AMM30-groep-2-component-1/blob/main/Flairmodel.ipynb\" target=\"_parent\"><img src=\"https://colab.research.google.com/assets/colab-badge.svg\" alt=\"Open In Colab\"/></a>"
      ]
    },
    {
      "cell_type": "code",
      "execution_count": 1,
      "metadata": {
        "colab": {
          "base_uri": "https://localhost:8080/"
        },
        "id": "cuqW4DZFl2b6",
        "outputId": "ed5cd4d3-b527-49b3-bba0-05e7fcab9778"
      },
      "outputs": [
        {
          "output_type": "stream",
          "name": "stdout",
          "text": [
            "Found existing installation: torch 2.0.1+cu118\n",
            "Uninstalling torch-2.0.1+cu118:\n",
            "  Successfully uninstalled torch-2.0.1+cu118\n",
            "Collecting flair\n",
            "  Downloading flair-0.12.2-py3-none-any.whl (373 kB)\n",
            "\u001b[2K     \u001b[90m━━━━━━━━━━━━━━━━━━━━━━━━━━━━━━━━━━━━━━━━\u001b[0m \u001b[32m373.1/373.1 kB\u001b[0m \u001b[31m6.8 MB/s\u001b[0m eta \u001b[36m0:00:00\u001b[0m\n",
            "\u001b[?25hRequirement already satisfied: python-dateutil>=2.6.1 in /usr/local/lib/python3.10/dist-packages (from flair) (2.8.2)\n",
            "Collecting torch!=1.8,>=1.5.0 (from flair)\n",
            "  Downloading torch-2.1.0-cp310-cp310-manylinux1_x86_64.whl (670.2 MB)\n",
            "\u001b[2K     \u001b[90m━━━━━━━━━━━━━━━━━━━━━━━━━━━━━━━━━━━━━━━━\u001b[0m \u001b[32m670.2/670.2 MB\u001b[0m \u001b[31m2.2 MB/s\u001b[0m eta \u001b[36m0:00:00\u001b[0m\n",
            "\u001b[?25hRequirement already satisfied: gensim>=3.8.0 in /usr/local/lib/python3.10/dist-packages (from flair) (4.3.2)\n",
            "Requirement already satisfied: tqdm>=4.26.0 in /usr/local/lib/python3.10/dist-packages (from flair) (4.66.1)\n",
            "Collecting segtok>=1.5.7 (from flair)\n",
            "  Downloading segtok-1.5.11-py3-none-any.whl (24 kB)\n",
            "Requirement already satisfied: matplotlib>=2.2.3 in /usr/local/lib/python3.10/dist-packages (from flair) (3.7.1)\n",
            "Collecting mpld3==0.3 (from flair)\n",
            "  Downloading mpld3-0.3.tar.gz (788 kB)\n",
            "\u001b[2K     \u001b[90m━━━━━━━━━━━━━━━━━━━━━━━━━━━━━━━━━━━━━━━━\u001b[0m \u001b[32m788.5/788.5 kB\u001b[0m \u001b[31m59.7 MB/s\u001b[0m eta \u001b[36m0:00:00\u001b[0m\n",
            "\u001b[?25h  Preparing metadata (setup.py) ... \u001b[?25l\u001b[?25hdone\n",
            "Requirement already satisfied: scikit-learn>=0.21.3 in /usr/local/lib/python3.10/dist-packages (from flair) (1.2.2)\n",
            "Collecting sqlitedict>=1.6.0 (from flair)\n",
            "  Downloading sqlitedict-2.1.0.tar.gz (21 kB)\n",
            "  Preparing metadata (setup.py) ... \u001b[?25l\u001b[?25hdone\n",
            "Collecting deprecated>=1.2.4 (from flair)\n",
            "  Downloading Deprecated-1.2.14-py2.py3-none-any.whl (9.6 kB)\n",
            "Requirement already satisfied: hyperopt>=0.2.7 in /usr/local/lib/python3.10/dist-packages (from flair) (0.2.7)\n",
            "Collecting boto3 (from flair)\n",
            "  Downloading boto3-1.28.65-py3-none-any.whl (135 kB)\n",
            "\u001b[2K     \u001b[90m━━━━━━━━━━━━━━━━━━━━━━━━━━━━━━━━━━━━━━━━\u001b[0m \u001b[32m135.8/135.8 kB\u001b[0m \u001b[31m18.7 MB/s\u001b[0m eta \u001b[36m0:00:00\u001b[0m\n",
            "\u001b[?25hCollecting transformers[sentencepiece]>=4.18.0 (from flair)\n",
            "  Downloading transformers-4.34.0-py3-none-any.whl (7.7 MB)\n",
            "\u001b[2K     \u001b[90m━━━━━━━━━━━━━━━━━━━━━━━━━━━━━━━━━━━━━━━━\u001b[0m \u001b[32m7.7/7.7 MB\u001b[0m \u001b[31m94.2 MB/s\u001b[0m eta \u001b[36m0:00:00\u001b[0m\n",
            "\u001b[?25hCollecting bpemb>=0.3.2 (from flair)\n",
            "  Downloading bpemb-0.3.4-py3-none-any.whl (19 kB)\n",
            "Requirement already satisfied: regex in /usr/local/lib/python3.10/dist-packages (from flair) (2023.6.3)\n",
            "Requirement already satisfied: tabulate in /usr/local/lib/python3.10/dist-packages (from flair) (0.9.0)\n",
            "Collecting langdetect (from flair)\n",
            "  Downloading langdetect-1.0.9.tar.gz (981 kB)\n",
            "\u001b[2K     \u001b[90m━━━━━━━━━━━━━━━━━━━━━━━━━━━━━━━━━━━━━━━━\u001b[0m \u001b[32m981.5/981.5 kB\u001b[0m \u001b[31m63.6 MB/s\u001b[0m eta \u001b[36m0:00:00\u001b[0m\n",
            "\u001b[?25h  Preparing metadata (setup.py) ... \u001b[?25l\u001b[?25hdone\n",
            "Requirement already satisfied: lxml in /usr/local/lib/python3.10/dist-packages (from flair) (4.9.3)\n",
            "Collecting ftfy (from flair)\n",
            "  Downloading ftfy-6.1.1-py3-none-any.whl (53 kB)\n",
            "\u001b[2K     \u001b[90m━━━━━━━━━━━━━━━━━━━━━━━━━━━━━━━━━━━━━━━━\u001b[0m \u001b[32m53.1/53.1 kB\u001b[0m \u001b[31m8.1 MB/s\u001b[0m eta \u001b[36m0:00:00\u001b[0m\n",
            "\u001b[?25hCollecting janome (from flair)\n",
            "  Downloading Janome-0.5.0-py2.py3-none-any.whl (19.7 MB)\n",
            "\u001b[2K     \u001b[90m━━━━━━━━━━━━━━━━━━━━━━━━━━━━━━━━━━━━━━━━\u001b[0m \u001b[32m19.7/19.7 MB\u001b[0m \u001b[31m34.4 MB/s\u001b[0m eta \u001b[36m0:00:00\u001b[0m\n",
            "\u001b[?25hCollecting gdown==4.4.0 (from flair)\n",
            "  Downloading gdown-4.4.0.tar.gz (14 kB)\n",
            "  Installing build dependencies ... \u001b[?25l\u001b[?25hdone\n",
            "  Getting requirements to build wheel ... \u001b[?25l\u001b[?25hdone\n",
            "  Preparing metadata (pyproject.toml) ... \u001b[?25l\u001b[?25hdone\n",
            "Collecting huggingface-hub>=0.10.0 (from flair)\n",
            "  Downloading huggingface_hub-0.18.0-py3-none-any.whl (301 kB)\n",
            "\u001b[2K     \u001b[90m━━━━━━━━━━━━━━━━━━━━━━━━━━━━━━━━━━━━━━━━\u001b[0m \u001b[32m302.0/302.0 kB\u001b[0m \u001b[31m34.7 MB/s\u001b[0m eta \u001b[36m0:00:00\u001b[0m\n",
            "\u001b[?25hCollecting conllu>=4.0 (from flair)\n",
            "  Downloading conllu-4.5.3-py2.py3-none-any.whl (16 kB)\n",
            "Requirement already satisfied: more-itertools in /usr/local/lib/python3.10/dist-packages (from flair) (10.1.0)\n",
            "Collecting wikipedia-api (from flair)\n",
            "  Downloading Wikipedia_API-0.6.0-py3-none-any.whl (14 kB)\n",
            "Collecting pptree (from flair)\n",
            "  Downloading pptree-3.1.tar.gz (3.0 kB)\n",
            "  Preparing metadata (setup.py) ... \u001b[?25l\u001b[?25hdone\n",
            "Collecting pytorch-revgrad (from flair)\n",
            "  Downloading pytorch_revgrad-0.2.0-py3-none-any.whl (4.6 kB)\n",
            "Collecting transformer-smaller-training-vocab>=0.2.1 (from flair)\n",
            "  Downloading transformer_smaller_training_vocab-0.3.2-py3-none-any.whl (14 kB)\n",
            "Requirement already satisfied: filelock in /usr/local/lib/python3.10/dist-packages (from gdown==4.4.0->flair) (3.12.4)\n",
            "Requirement already satisfied: requests[socks] in /usr/local/lib/python3.10/dist-packages (from gdown==4.4.0->flair) (2.31.0)\n",
            "Requirement already satisfied: six in /usr/local/lib/python3.10/dist-packages (from gdown==4.4.0->flair) (1.16.0)\n",
            "Requirement already satisfied: beautifulsoup4 in /usr/local/lib/python3.10/dist-packages (from gdown==4.4.0->flair) (4.11.2)\n",
            "Requirement already satisfied: numpy in /usr/local/lib/python3.10/dist-packages (from bpemb>=0.3.2->flair) (1.23.5)\n",
            "Collecting sentencepiece (from bpemb>=0.3.2->flair)\n",
            "  Downloading sentencepiece-0.1.99-cp310-cp310-manylinux_2_17_x86_64.manylinux2014_x86_64.whl (1.3 MB)\n",
            "\u001b[2K     \u001b[90m━━━━━━━━━━━━━━━━━━━━━━━━━━━━━━━━━━━━━━━━\u001b[0m \u001b[32m1.3/1.3 MB\u001b[0m \u001b[31m75.0 MB/s\u001b[0m eta \u001b[36m0:00:00\u001b[0m\n",
            "\u001b[?25hRequirement already satisfied: wrapt<2,>=1.10 in /usr/local/lib/python3.10/dist-packages (from deprecated>=1.2.4->flair) (1.15.0)\n",
            "Requirement already satisfied: scipy>=1.7.0 in /usr/local/lib/python3.10/dist-packages (from gensim>=3.8.0->flair) (1.11.3)\n",
            "Requirement already satisfied: smart-open>=1.8.1 in /usr/local/lib/python3.10/dist-packages (from gensim>=3.8.0->flair) (6.4.0)\n",
            "Requirement already satisfied: fsspec>=2023.5.0 in /usr/local/lib/python3.10/dist-packages (from huggingface-hub>=0.10.0->flair) (2023.6.0)\n",
            "Requirement already satisfied: pyyaml>=5.1 in /usr/local/lib/python3.10/dist-packages (from huggingface-hub>=0.10.0->flair) (6.0.1)\n",
            "Requirement already satisfied: typing-extensions>=3.7.4.3 in /usr/local/lib/python3.10/dist-packages (from huggingface-hub>=0.10.0->flair) (4.5.0)\n",
            "Requirement already satisfied: packaging>=20.9 in /usr/local/lib/python3.10/dist-packages (from huggingface-hub>=0.10.0->flair) (23.2)\n",
            "Requirement already satisfied: networkx>=2.2 in /usr/local/lib/python3.10/dist-packages (from hyperopt>=0.2.7->flair) (3.1)\n",
            "Requirement already satisfied: future in /usr/local/lib/python3.10/dist-packages (from hyperopt>=0.2.7->flair) (0.18.3)\n",
            "Requirement already satisfied: cloudpickle in /usr/local/lib/python3.10/dist-packages (from hyperopt>=0.2.7->flair) (2.2.1)\n",
            "Requirement already satisfied: py4j in /usr/local/lib/python3.10/dist-packages (from hyperopt>=0.2.7->flair) (0.10.9.7)\n",
            "Requirement already satisfied: contourpy>=1.0.1 in /usr/local/lib/python3.10/dist-packages (from matplotlib>=2.2.3->flair) (1.1.1)\n",
            "Requirement already satisfied: cycler>=0.10 in /usr/local/lib/python3.10/dist-packages (from matplotlib>=2.2.3->flair) (0.12.1)\n",
            "Requirement already satisfied: fonttools>=4.22.0 in /usr/local/lib/python3.10/dist-packages (from matplotlib>=2.2.3->flair) (4.43.1)\n",
            "Requirement already satisfied: kiwisolver>=1.0.1 in /usr/local/lib/python3.10/dist-packages (from matplotlib>=2.2.3->flair) (1.4.5)\n",
            "Requirement already satisfied: pillow>=6.2.0 in /usr/local/lib/python3.10/dist-packages (from matplotlib>=2.2.3->flair) (9.4.0)\n",
            "Requirement already satisfied: pyparsing>=2.3.1 in /usr/local/lib/python3.10/dist-packages (from matplotlib>=2.2.3->flair) (3.1.1)\n",
            "Requirement already satisfied: joblib>=1.1.1 in /usr/local/lib/python3.10/dist-packages (from scikit-learn>=0.21.3->flair) (1.3.2)\n",
            "Requirement already satisfied: threadpoolctl>=2.0.0 in /usr/local/lib/python3.10/dist-packages (from scikit-learn>=0.21.3->flair) (3.2.0)\n",
            "Requirement already satisfied: sympy in /usr/local/lib/python3.10/dist-packages (from torch!=1.8,>=1.5.0->flair) (1.12)\n",
            "Requirement already satisfied: jinja2 in /usr/local/lib/python3.10/dist-packages (from torch!=1.8,>=1.5.0->flair) (3.1.2)\n",
            "Collecting nvidia-cuda-nvrtc-cu12==12.1.105 (from torch!=1.8,>=1.5.0->flair)\n",
            "  Downloading nvidia_cuda_nvrtc_cu12-12.1.105-py3-none-manylinux1_x86_64.whl (23.7 MB)\n",
            "\u001b[2K     \u001b[90m━━━━━━━━━━━━━━━━━━━━━━━━━━━━━━━━━━━━━━━━\u001b[0m \u001b[32m23.7/23.7 MB\u001b[0m \u001b[31m61.3 MB/s\u001b[0m eta \u001b[36m0:00:00\u001b[0m\n",
            "\u001b[?25hCollecting nvidia-cuda-runtime-cu12==12.1.105 (from torch!=1.8,>=1.5.0->flair)\n",
            "  Downloading nvidia_cuda_runtime_cu12-12.1.105-py3-none-manylinux1_x86_64.whl (823 kB)\n",
            "\u001b[2K     \u001b[90m━━━━━━━━━━━━━━━━━━━━━━━━━━━━━━━━━━━━━━━━\u001b[0m \u001b[32m823.6/823.6 kB\u001b[0m \u001b[31m59.1 MB/s\u001b[0m eta \u001b[36m0:00:00\u001b[0m\n",
            "\u001b[?25hCollecting nvidia-cuda-cupti-cu12==12.1.105 (from torch!=1.8,>=1.5.0->flair)\n",
            "  Downloading nvidia_cuda_cupti_cu12-12.1.105-py3-none-manylinux1_x86_64.whl (14.1 MB)\n",
            "\u001b[2K     \u001b[90m━━━━━━━━━━━━━━━━━━━━━━━━━━━━━━━━━━━━━━━━\u001b[0m \u001b[32m14.1/14.1 MB\u001b[0m \u001b[31m89.9 MB/s\u001b[0m eta \u001b[36m0:00:00\u001b[0m\n",
            "\u001b[?25hCollecting nvidia-cudnn-cu12==8.9.2.26 (from torch!=1.8,>=1.5.0->flair)\n",
            "  Downloading nvidia_cudnn_cu12-8.9.2.26-py3-none-manylinux1_x86_64.whl (731.7 MB)\n",
            "\u001b[2K     \u001b[90m━━━━━━━━━━━━━━━━━━━━━━━━━━━━━━━━━━━━━━━━\u001b[0m \u001b[32m731.7/731.7 MB\u001b[0m \u001b[31m2.1 MB/s\u001b[0m eta \u001b[36m0:00:00\u001b[0m\n",
            "\u001b[?25hCollecting nvidia-cublas-cu12==12.1.3.1 (from torch!=1.8,>=1.5.0->flair)\n",
            "  Downloading nvidia_cublas_cu12-12.1.3.1-py3-none-manylinux1_x86_64.whl (410.6 MB)\n",
            "\u001b[2K     \u001b[90m━━━━━━━━━━━━━━━━━━━━━━━━━━━━━━━━━━━━━━━━\u001b[0m \u001b[32m410.6/410.6 MB\u001b[0m \u001b[31m2.5 MB/s\u001b[0m eta \u001b[36m0:00:00\u001b[0m\n",
            "\u001b[?25hCollecting nvidia-cufft-cu12==11.0.2.54 (from torch!=1.8,>=1.5.0->flair)\n",
            "  Downloading nvidia_cufft_cu12-11.0.2.54-py3-none-manylinux1_x86_64.whl (121.6 MB)\n",
            "\u001b[2K     \u001b[90m━━━━━━━━━━━━━━━━━━━━━━━━━━━━━━━━━━━━━━━━\u001b[0m \u001b[32m121.6/121.6 MB\u001b[0m \u001b[31m8.3 MB/s\u001b[0m eta \u001b[36m0:00:00\u001b[0m\n",
            "\u001b[?25hCollecting nvidia-curand-cu12==10.3.2.106 (from torch!=1.8,>=1.5.0->flair)\n",
            "  Downloading nvidia_curand_cu12-10.3.2.106-py3-none-manylinux1_x86_64.whl (56.5 MB)\n",
            "\u001b[2K     \u001b[90m━━━━━━━━━━━━━━━━━━━━━━━━━━━━━━━━━━━━━━━━\u001b[0m \u001b[32m56.5/56.5 MB\u001b[0m \u001b[31m11.7 MB/s\u001b[0m eta \u001b[36m0:00:00\u001b[0m\n",
            "\u001b[?25hCollecting nvidia-cusolver-cu12==11.4.5.107 (from torch!=1.8,>=1.5.0->flair)\n",
            "  Downloading nvidia_cusolver_cu12-11.4.5.107-py3-none-manylinux1_x86_64.whl (124.2 MB)\n",
            "\u001b[2K     \u001b[90m━━━━━━━━━━━━━━━━━━━━━━━━━━━━━━━━━━━━━━━━\u001b[0m \u001b[32m124.2/124.2 MB\u001b[0m \u001b[31m8.0 MB/s\u001b[0m eta \u001b[36m0:00:00\u001b[0m\n",
            "\u001b[?25hCollecting nvidia-cusparse-cu12==12.1.0.106 (from torch!=1.8,>=1.5.0->flair)\n",
            "  Downloading nvidia_cusparse_cu12-12.1.0.106-py3-none-manylinux1_x86_64.whl (196.0 MB)\n",
            "\u001b[2K     \u001b[90m━━━━━━━━━━━━━━━━━━━━━━━━━━━━━━━━━━━━━━━━\u001b[0m \u001b[32m196.0/196.0 MB\u001b[0m \u001b[31m6.3 MB/s\u001b[0m eta \u001b[36m0:00:00\u001b[0m\n",
            "\u001b[?25hCollecting nvidia-nccl-cu12==2.18.1 (from torch!=1.8,>=1.5.0->flair)\n",
            "  Downloading nvidia_nccl_cu12-2.18.1-py3-none-manylinux1_x86_64.whl (209.8 MB)\n",
            "\u001b[2K     \u001b[90m━━━━━━━━━━━━━━━━━━━━━━━━━━━━━━━━━━━━━━━━\u001b[0m \u001b[32m209.8/209.8 MB\u001b[0m \u001b[31m6.5 MB/s\u001b[0m eta \u001b[36m0:00:00\u001b[0m\n",
            "\u001b[?25hCollecting nvidia-nvtx-cu12==12.1.105 (from torch!=1.8,>=1.5.0->flair)\n",
            "  Downloading nvidia_nvtx_cu12-12.1.105-py3-none-manylinux1_x86_64.whl (99 kB)\n",
            "\u001b[2K     \u001b[90m━━━━━━━━━━━━━━━━━━━━━━━━━━━━━━━━━━━━━━━━\u001b[0m \u001b[32m99.1/99.1 kB\u001b[0m \u001b[31m14.7 MB/s\u001b[0m eta \u001b[36m0:00:00\u001b[0m\n",
            "\u001b[?25hCollecting triton==2.1.0 (from torch!=1.8,>=1.5.0->flair)\n",
            "  Downloading triton-2.1.0-0-cp310-cp310-manylinux2014_x86_64.manylinux_2_17_x86_64.whl (89.2 MB)\n",
            "\u001b[2K     \u001b[90m━━━━━━━━━━━━━━━━━━━━━━━━━━━━━━━━━━━━━━━━\u001b[0m \u001b[32m89.2/89.2 MB\u001b[0m \u001b[31m8.4 MB/s\u001b[0m eta \u001b[36m0:00:00\u001b[0m\n",
            "\u001b[?25hCollecting nvidia-nvjitlink-cu12 (from nvidia-cusolver-cu12==11.4.5.107->torch!=1.8,>=1.5.0->flair)\n",
            "  Downloading nvidia_nvjitlink_cu12-12.2.140-py3-none-manylinux1_x86_64.whl (20.2 MB)\n",
            "\u001b[2K     \u001b[90m━━━━━━━━━━━━━━━━━━━━━━━━━━━━━━━━━━━━━━━━\u001b[0m \u001b[32m20.2/20.2 MB\u001b[0m \u001b[31m84.7 MB/s\u001b[0m eta \u001b[36m0:00:00\u001b[0m\n",
            "\u001b[?25hCollecting tokenizers<0.15,>=0.14 (from transformers[sentencepiece]>=4.18.0->flair)\n",
            "  Downloading tokenizers-0.14.1-cp310-cp310-manylinux_2_17_x86_64.manylinux2014_x86_64.whl (3.8 MB)\n",
            "\u001b[2K     \u001b[90m━━━━━━━━━━━━━━━━━━━━━━━━━━━━━━━━━━━━━━━━\u001b[0m \u001b[32m3.8/3.8 MB\u001b[0m \u001b[31m91.5 MB/s\u001b[0m eta \u001b[36m0:00:00\u001b[0m\n",
            "\u001b[?25hCollecting safetensors>=0.3.1 (from transformers[sentencepiece]>=4.18.0->flair)\n",
            "  Downloading safetensors-0.4.0-cp310-cp310-manylinux_2_17_x86_64.manylinux2014_x86_64.whl (1.3 MB)\n",
            "\u001b[2K     \u001b[90m━━━━━━━━━━━━━━━━━━━━━━━━━━━━━━━━━━━━━━━━\u001b[0m \u001b[32m1.3/1.3 MB\u001b[0m \u001b[31m84.2 MB/s\u001b[0m eta \u001b[36m0:00:00\u001b[0m\n",
            "\u001b[?25hRequirement already satisfied: protobuf in /usr/local/lib/python3.10/dist-packages (from transformers[sentencepiece]>=4.18.0->flair) (3.20.3)\n",
            "Collecting botocore<1.32.0,>=1.31.65 (from boto3->flair)\n",
            "  Downloading botocore-1.31.65-py3-none-any.whl (11.3 MB)\n",
            "\u001b[2K     \u001b[90m━━━━━━━━━━━━━━━━━━━━━━━━━━━━━━━━━━━━━━━━\u001b[0m \u001b[32m11.3/11.3 MB\u001b[0m \u001b[31m118.8 MB/s\u001b[0m eta \u001b[36m0:00:00\u001b[0m\n",
            "\u001b[?25hCollecting jmespath<2.0.0,>=0.7.1 (from boto3->flair)\n",
            "  Downloading jmespath-1.0.1-py3-none-any.whl (20 kB)\n",
            "Collecting s3transfer<0.8.0,>=0.7.0 (from boto3->flair)\n",
            "  Downloading s3transfer-0.7.0-py3-none-any.whl (79 kB)\n",
            "\u001b[2K     \u001b[90m━━━━━━━━━━━━━━━━━━━━━━━━━━━━━━━━━━━━━━━━\u001b[0m \u001b[32m79.8/79.8 kB\u001b[0m \u001b[31m11.1 MB/s\u001b[0m eta \u001b[36m0:00:00\u001b[0m\n",
            "\u001b[?25hRequirement already satisfied: wcwidth>=0.2.5 in /usr/local/lib/python3.10/dist-packages (from ftfy->flair) (0.2.8)\n",
            "Requirement already satisfied: urllib3<2.1,>=1.25.4 in /usr/local/lib/python3.10/dist-packages (from botocore<1.32.0,>=1.31.65->boto3->flair) (2.0.6)\n",
            "Collecting huggingface-hub>=0.10.0 (from flair)\n",
            "  Downloading huggingface_hub-0.17.3-py3-none-any.whl (295 kB)\n",
            "\u001b[2K     \u001b[90m━━━━━━━━━━━━━━━━━━━━━━━━━━━━━━━━━━━━━━━━\u001b[0m \u001b[32m295.0/295.0 kB\u001b[0m \u001b[31m37.2 MB/s\u001b[0m eta \u001b[36m0:00:00\u001b[0m\n",
            "\u001b[?25hCollecting accelerate>=0.20.3 (from transformers[sentencepiece]>=4.18.0->flair)\n",
            "  Downloading accelerate-0.23.0-py3-none-any.whl (258 kB)\n",
            "\u001b[2K     \u001b[90m━━━━━━━━━━━━━━━━━━━━━━━━━━━━━━━━━━━━━━━━\u001b[0m \u001b[32m258.1/258.1 kB\u001b[0m \u001b[31m25.8 MB/s\u001b[0m eta \u001b[36m0:00:00\u001b[0m\n",
            "\u001b[?25hRequirement already satisfied: soupsieve>1.2 in /usr/local/lib/python3.10/dist-packages (from beautifulsoup4->gdown==4.4.0->flair) (2.5)\n",
            "Requirement already satisfied: MarkupSafe>=2.0 in /usr/local/lib/python3.10/dist-packages (from jinja2->torch!=1.8,>=1.5.0->flair) (2.1.3)\n",
            "Requirement already satisfied: charset-normalizer<4,>=2 in /usr/local/lib/python3.10/dist-packages (from requests[socks]->gdown==4.4.0->flair) (3.3.0)\n",
            "Requirement already satisfied: idna<4,>=2.5 in /usr/local/lib/python3.10/dist-packages (from requests[socks]->gdown==4.4.0->flair) (3.4)\n",
            "Requirement already satisfied: certifi>=2017.4.17 in /usr/local/lib/python3.10/dist-packages (from requests[socks]->gdown==4.4.0->flair) (2023.7.22)\n",
            "Requirement already satisfied: PySocks!=1.5.7,>=1.5.6 in /usr/local/lib/python3.10/dist-packages (from requests[socks]->gdown==4.4.0->flair) (1.7.1)\n",
            "Requirement already satisfied: mpmath>=0.19 in /usr/local/lib/python3.10/dist-packages (from sympy->torch!=1.8,>=1.5.0->flair) (1.3.0)\n",
            "Requirement already satisfied: psutil in /usr/local/lib/python3.10/dist-packages (from accelerate>=0.20.3->transformers[sentencepiece]>=4.18.0->flair) (5.9.5)\n",
            "Building wheels for collected packages: gdown, mpld3, sqlitedict, langdetect, pptree\n",
            "  Building wheel for gdown (pyproject.toml) ... \u001b[?25l\u001b[?25hdone\n",
            "  Created wheel for gdown: filename=gdown-4.4.0-py3-none-any.whl size=14758 sha256=cdb4e81de9e08f15d2110ca49e9a5f28defafea4573864ef046ad91ba1468174\n",
            "  Stored in directory: /root/.cache/pip/wheels/03/0b/3f/6ddf67a417a5b400b213b0bb772a50276c199a386b12c06bfc\n",
            "  Building wheel for mpld3 (setup.py) ... \u001b[?25l\u001b[?25hdone\n",
            "  Created wheel for mpld3: filename=mpld3-0.3-py3-none-any.whl size=116686 sha256=3f7493346f43299d086edf19654dff6da905b25ce50be929b3fdfd18767c9671\n",
            "  Stored in directory: /root/.cache/pip/wheels/9c/92/f7/45d9aac5dcfb1c2a1761a272365599cc7ba1050ce211a3fd9a\n",
            "  Building wheel for sqlitedict (setup.py) ... \u001b[?25l\u001b[?25hdone\n",
            "  Created wheel for sqlitedict: filename=sqlitedict-2.1.0-py3-none-any.whl size=16864 sha256=bd4508281e195bbeb96608b4c423986fd5ad472630616148e996101785dc5d77\n",
            "  Stored in directory: /root/.cache/pip/wheels/79/d6/e7/304e0e6cb2221022c26d8161f7c23cd4f259a9e41e8bbcfabd\n",
            "  Building wheel for langdetect (setup.py) ... \u001b[?25l\u001b[?25hdone\n",
            "  Created wheel for langdetect: filename=langdetect-1.0.9-py3-none-any.whl size=993224 sha256=be587031b1944f50b7340a38de5b26c9f68cf5d7245b195cb31645ac71e6c22c\n",
            "  Stored in directory: /root/.cache/pip/wheels/95/03/7d/59ea870c70ce4e5a370638b5462a7711ab78fba2f655d05106\n",
            "  Building wheel for pptree (setup.py) ... \u001b[?25l\u001b[?25hdone\n",
            "  Created wheel for pptree: filename=pptree-3.1-py3-none-any.whl size=4609 sha256=b0e43c44738670da285b55f3bcbb3bbb7478c57278f80c93673e758756a7a7fb\n",
            "  Stored in directory: /root/.cache/pip/wheels/9f/b6/0e/6f26eb9e6eb53ff2107a7888d72b5a6a597593956113037828\n",
            "Successfully built gdown mpld3 sqlitedict langdetect pptree\n",
            "Installing collected packages: sqlitedict, sentencepiece, pptree, mpld3, janome, triton, segtok, safetensors, nvidia-nvtx-cu12, nvidia-nvjitlink-cu12, nvidia-nccl-cu12, nvidia-curand-cu12, nvidia-cufft-cu12, nvidia-cuda-runtime-cu12, nvidia-cuda-nvrtc-cu12, nvidia-cuda-cupti-cu12, nvidia-cublas-cu12, langdetect, jmespath, ftfy, deprecated, conllu, wikipedia-api, nvidia-cusparse-cu12, nvidia-cudnn-cu12, huggingface-hub, botocore, tokenizers, s3transfer, nvidia-cusolver-cu12, gdown, bpemb, transformers, torch, boto3, pytorch-revgrad, accelerate, transformer-smaller-training-vocab, flair\n",
            "  Attempting uninstall: triton\n",
            "    Found existing installation: triton 2.0.0\n",
            "    Uninstalling triton-2.0.0:\n",
            "      Successfully uninstalled triton-2.0.0\n",
            "  Attempting uninstall: gdown\n",
            "    Found existing installation: gdown 4.6.6\n",
            "    Uninstalling gdown-4.6.6:\n",
            "      Successfully uninstalled gdown-4.6.6\n",
            "\u001b[31mERROR: pip's dependency resolver does not currently take into account all the packages that are installed. This behaviour is the source of the following dependency conflicts.\n",
            "fastai 2.7.12 requires torch<2.1,>=1.7, but you have torch 2.1.0 which is incompatible.\n",
            "torchaudio 2.0.2+cu118 requires torch==2.0.1, but you have torch 2.1.0 which is incompatible.\n",
            "torchdata 0.6.1 requires torch==2.0.1, but you have torch 2.1.0 which is incompatible.\n",
            "torchtext 0.15.2 requires torch==2.0.1, but you have torch 2.1.0 which is incompatible.\n",
            "torchvision 0.15.2+cu118 requires torch==2.0.1, but you have torch 2.1.0 which is incompatible.\u001b[0m\u001b[31m\n",
            "\u001b[0mSuccessfully installed accelerate-0.23.0 boto3-1.28.65 botocore-1.31.65 bpemb-0.3.4 conllu-4.5.3 deprecated-1.2.14 flair-0.12.2 ftfy-6.1.1 gdown-4.4.0 huggingface-hub-0.17.3 janome-0.5.0 jmespath-1.0.1 langdetect-1.0.9 mpld3-0.3 nvidia-cublas-cu12-12.1.3.1 nvidia-cuda-cupti-cu12-12.1.105 nvidia-cuda-nvrtc-cu12-12.1.105 nvidia-cuda-runtime-cu12-12.1.105 nvidia-cudnn-cu12-8.9.2.26 nvidia-cufft-cu12-11.0.2.54 nvidia-curand-cu12-10.3.2.106 nvidia-cusolver-cu12-11.4.5.107 nvidia-cusparse-cu12-12.1.0.106 nvidia-nccl-cu12-2.18.1 nvidia-nvjitlink-cu12-12.2.140 nvidia-nvtx-cu12-12.1.105 pptree-3.1 pytorch-revgrad-0.2.0 s3transfer-0.7.0 safetensors-0.4.0 segtok-1.5.11 sentencepiece-0.1.99 sqlitedict-2.1.0 tokenizers-0.14.1 torch-2.1.0 transformer-smaller-training-vocab-0.3.2 transformers-4.34.0 triton-2.1.0 wikipedia-api-0.6.0\n"
          ]
        }
      ],
      "source": [
        "!pip uninstall -y torch\n",
        "!pip install flair"
      ]
    },
    {
      "cell_type": "code",
      "source": [
        "import os\n",
        "import random\n",
        "import json\n",
        "import re\n",
        "\n",
        "file = {}\n",
        "with open('annotated.json') as f:\n",
        "    file = json.load(f)\n",
        "    # print(file[1]['annotations'])\n"
      ],
      "metadata": {
        "id": "gS7rBxfhnZVV"
      },
      "execution_count": 2,
      "outputs": []
    },
    {
      "cell_type": "code",
      "source": [
        "def write(filename, text):\n",
        "  with open(f\"{filename}.conll\", \"w\") as file1:\n",
        "    file1.write(\"\\n\\n\".join(text))"
      ],
      "metadata": {
        "id": "-QA_xqkrLDeC"
      },
      "execution_count": 3,
      "outputs": []
    },
    {
      "cell_type": "code",
      "source": [
        "# file_item = file[0]\n",
        "def get_labels(file_item):\n",
        "  rows = []\n",
        "  position = 0\n",
        "  next_label = 0\n",
        "  # Sort the labels on start?\n",
        "  labels = [item for item in file_item['annotations'][0]['result'] if item['type'] == 'labels']\n",
        "  labels.sort(key=lambda x: x['value']['start'])\n",
        "  item_count = 1\n",
        "  b_count = 0\n",
        "  ids = {} # count -> id\n",
        "  tokens = [item for item in re.split(r'(\\s+)|([\\(,\\.\\)\\\\;:$*&\"\\-–])|(\\'\\w+)|(\\')', file_item['data']['text']) if item]\n",
        "  for i in range(len(tokens)):\n",
        "    item = tokens[i]\n",
        "    if re.search(r'\\s+', item):\n",
        "      position += len(item)\n",
        "      continue\n",
        "    start = position\n",
        "    end = position + len(item)\n",
        "    row = f'{item_count}\\t{item}'\n",
        "    label = '\\tO'\n",
        "\n",
        "\n",
        "    if len(labels) > next_label:\n",
        "      # if labels[next_label][\"id\"] == \"bQJSunlNLq\" or labels[next_label][\"id\"] == 'C2xT4AB2mw':\n",
        "      #   print(\"#####################################################################\")\n",
        "      #   print(f'start: {start}, label_start: {labels[next_label][\"value\"][\"start\"]}')\n",
        "      #   print(f'end: {end}, label_end: {labels[next_label][\"value\"][\"end\"]}')\n",
        "      #   print(f'label: \"{labels[next_label][\"value\"][\"text\"]}\", token: \"{item}\"')\n",
        "      # in some cases, te label does not extend to the end of a word, so end >= label-end, but label should be applied\n",
        "\n",
        "      if start >= labels[next_label]['value']['start']:\n",
        "        # if end <= labels[next_label]['value']['end']:\n",
        "          # the current item has a label, and might have a relation\n",
        "          id = labels[next_label][\"id\"]\n",
        "          ids[item_count] = id\n",
        "          if end > labels[next_label]['value']['end']:\n",
        "            difference = end - labels[next_label]['value']['end']\n",
        "            end -= difference\n",
        "            tokens.insert(i+1, item[-difference:])\n",
        "            item = item[:-difference]\n",
        "          if start == labels[next_label]['value']['start']:\n",
        "            # Current Item is start of a label\n",
        "            b_count += 1\n",
        "            label = '\\tB-' + labels[next_label][\"value\"][\"labels\"][0]\n",
        "\n",
        "          else:\n",
        "            # Current item is inside a label\n",
        "            if '\\tB-' + labels[next_label][\"value\"][\"labels\"][0] in rows[-1] or '\\tI-' + labels[next_label][\"value\"][\"labels\"][0] in rows[-1]:\n",
        "              label = '\\tI-' + labels[next_label][\"value\"][\"labels\"][0]\n",
        "            else:\n",
        "              b_count += 1\n",
        "              label = '\\tB-' + labels[next_label][\"value\"][\"labels\"][0]\n",
        "\n",
        "      if end >= labels[next_label]['value']['end']:\n",
        "        next_label += 1\n",
        "\n",
        "\n",
        "    row = row + label\n",
        "    position += len(item)\n",
        "    item_count += 1\n",
        "    rows.append(row)\n",
        "  if len(labels) != b_count:\n",
        "    print(f'labels: {len(labels)}, B-tags: {b_count}')\n",
        "    print(labels)\n",
        "    print(ids)\n",
        "    print(f'missing label: {[item for item in labels if item[\"id\"] not in ids.values()]}')\n",
        "    print(rows)\n",
        "  return rows, ids\n"
      ],
      "metadata": {
        "id": "gyvWzZ76SwYY"
      },
      "execution_count": 4,
      "outputs": []
    },
    {
      "cell_type": "code",
      "source": [
        "def get_relations(file_item, ids):\n",
        "  keys = ids.keys()\n",
        "  relations = [item for item in file_item['annotations'][0]['result'] if item['type'] == 'relation']\n",
        "  bio_relations = []\n",
        "  found_relations = 0\n",
        "  for relation in relations:\n",
        "    from_ids = []\n",
        "    to_ids = []\n",
        "    rel_type = relation['labels'][0]\n",
        "    for key in keys:\n",
        "      if ids[key] == relation['from_id']:\n",
        "        from_ids.append(key)\n",
        "      if ids[key] == relation['to_id']:\n",
        "        to_ids.append(key)\n",
        "    from_ids = [int(i) for i in from_ids]\n",
        "    from_ids.sort()\n",
        "    to_ids = [int(i) for i in to_ids]\n",
        "    to_ids.sort()\n",
        "    if len(from_ids) > 0 and len(to_ids) > 0:\n",
        "      found_relations += 1\n",
        "      bio_relations.append(f'{from_ids[0]};{from_ids[-1]};{to_ids[0]};{to_ids[-1]};{rel_type}')\n",
        "  if found_relations != len(relations):\n",
        "    print(f'found relations: {found_relations}, actual relations: {len(relations)}')\n",
        "    print(relations)\n",
        "    print(bio_relations)\n",
        "    print(keys)\n",
        "    print(ids)\n",
        "  return bio_relations"
      ],
      "metadata": {
        "id": "fpJtNoWtTviC"
      },
      "execution_count": 5,
      "outputs": []
    },
    {
      "cell_type": "code",
      "source": [
        "conllu_file = []\n",
        "for item in file:\n",
        "  doc = ''\n",
        "  rows, ids = get_labels(item)\n",
        "  relations = get_relations(item, ids)\n",
        "  if relations and len(relations) > 0:\n",
        "    doc += '# relations = ' + ('|'.join(relations))\n",
        "  doc += '\\n' + ('\\n'.join(rows))\n",
        "  conllu_file.append(doc)\n",
        "\n",
        "print(len(conllu_file))\n",
        "write('annotated', conllu_file)"
      ],
      "metadata": {
        "id": "zTzQISuAxCnW",
        "colab": {
          "base_uri": "https://localhost:8080/"
        },
        "outputId": "bdbce28d-ce0f-4535-9eae-7857f03ce9a3"
      },
      "execution_count": 6,
      "outputs": [
        {
          "output_type": "stream",
          "name": "stdout",
          "text": [
            "77\n"
          ]
        }
      ]
    },
    {
      "cell_type": "code",
      "source": [
        "with open('annotated.conll') as f:\n",
        "  data = f.read()\n",
        "  splits = data.split(2*os.linesep)\n",
        "  print(len(splits))\n",
        "  splits = sorted(splits, key=lambda x: random.random())\n",
        "  train = splits[:58]\n",
        "  test = splits[58:68]\n",
        "  dev = splits[68:78]\n",
        "\n",
        "  write('train', train)\n",
        "  write('test', test)\n",
        "  write('dev', dev)"
      ],
      "metadata": {
        "colab": {
          "base_uri": "https://localhost:8080/"
        },
        "id": "PV1VvXpfzB1i",
        "outputId": "0c1db075-7b99-41be-aecc-ff28a06df149"
      },
      "execution_count": 7,
      "outputs": [
        {
          "output_type": "stream",
          "name": "stdout",
          "text": [
            "77\n"
          ]
        }
      ]
    },
    {
      "cell_type": "code",
      "source": [
        "import torch\n",
        "\n",
        "torch.cuda.is_available()"
      ],
      "metadata": {
        "colab": {
          "base_uri": "https://localhost:8080/"
        },
        "id": "TF3VTNNwXg0x",
        "outputId": "dd04922c-e0d5-4a5d-dde6-7e73b03f27ef"
      },
      "execution_count": 8,
      "outputs": [
        {
          "output_type": "execute_result",
          "data": {
            "text/plain": [
              "True"
            ]
          },
          "metadata": {},
          "execution_count": 8
        }
      ]
    },
    {
      "cell_type": "code",
      "source": [
        "from flair.data import Corpus\n",
        "from flair.datasets import ColumnCorpus\n",
        "\n",
        "columns = {1: 'text', 2: 'ner'}\n",
        "data_folder = ''\n",
        "\n",
        "# corpus: Corpus = ColumnCorpus(data_folder, columns,\n",
        "#                               train_file='annotated_trim.conll',\n",
        "#                               test_file='annotated_trim.conll',\n",
        "#                               dev_file='annotated_trim.conll')\n",
        "\n",
        "corpus: Corpus = ColumnCorpus(data_folder, columns,\n",
        "                              train_file='train.conll',\n",
        "                              test_file='test.conll',\n",
        "                              dev_file='dev.conll')\n",
        "print(f'Corpus size: {len(corpus.train)}')\n",
        "corpus.test[1].to_tagged_string('ner')"
      ],
      "metadata": {
        "colab": {
          "base_uri": "https://localhost:8080/",
          "height": 226
        },
        "id": "MPZrrdFSpEoN",
        "outputId": "4dd7e446-9595-487d-db31-2eb24d0732a5"
      },
      "execution_count": 9,
      "outputs": [
        {
          "output_type": "stream",
          "name": "stdout",
          "text": [
            "2023-10-18 07:10:53,248 Reading data from .\n",
            "2023-10-18 07:10:53,250 Train: train.conll\n",
            "2023-10-18 07:10:53,251 Dev: dev.conll\n",
            "2023-10-18 07:10:53,252 Test: test.conll\n",
            "Corpus size: 58\n"
          ]
        },
        {
          "output_type": "execute_result",
          "data": {
            "text/plain": [
              "'Sentence[447]: \"Sven Anders Hedin , KNO1kl RVO , ( 19 February 1865 – 26 November 1952 ) was a Swedish geographer , topographer , explorer , photographer , travel writer and illustrator of his own works . During four expeditions to Central Asia , he made the Transhimalaya known in the West and located sources of the Brahmaputra , Indus and Sutlej Rivers . He also mapped lake Lop Nur , and the remains of cities , grave sites and the Great Wall of China in the deserts of the Tarim Basin . In his book \" Från pol till pol \" ( \" From Pole to Pole \" ) , Hedin describes a journey through Asia and Europe between the late 1880s and the early 1900s . While traveling , Hedin visited Turkey , the Caucasus , Tehran , Iraq , lands of the Kyrgyz people and the Russian Far East , India , China and Japan . The posthumous publication of his \" Central Asia Atlas \" marked the conclusion of his life \\'s work . Overview . At 15 years of age , Hedin witnessed the triumphal return of the Arctic explorer Adolf Erik Nordenskiöld after his first navigation of the Northern Sea Route . From that moment on , young Sven aspired to become an explorer . His studies under the German geographer and China expert , Ferdinand Freiherr von Richthofen , awakened a love of Germany in Hedin and strengthened his resolve to undertake expeditions to Central Asia to explore the last uncharted areas of Asia . After obtaining a doctorate , learning several languages and dialects , and undertaking two trips through Persia , he ignored the advice of Ferdinand von Richthofen to continue his geographic studies to acquaint himself with geographical research methodology ; the result was that Hedin had to leave the evaluation of his expedition results later to other scientists . Between 1894 and 1908 , in three daring expeditions through the mountains and deserts of Central Asia , he mapped and researched parts of Chinese Turkestan ( officially Xinjiang ) and Tibet which had been unexplored by Europeans until then . Upon his return to Stockholm in 1909 he was received as triumphantly as Adolf Erik Nordenskiöld . In 1902 , he became the last Swede ( to date ) to be raised to the untitled nobility and was considered one of Sweden \\'s most important personalities . As a member of two scientific academies , he had a voice in the selection of Nobel Prize winners for both science and literature . Hedin never married and had no children , rendering his family line now extinct .\" → [\"19 February 1865\"/Date, \"26 November 1952\"/Date, \"Swedish\"/Nationality, \"China\"/Nationality, \"Turkey\"/Nationality, \"Iraq\"/Nationality, \"Russian\"/Nationality, \"India\"/Nationality, \"China\"/Nationality, \"Japan\"/Nationality, \"German\"/Nationality, \"China\"/Nationality, \"Germany\"/Nationality, \"Persia\"/Nationality, \"Chinese\"/Nationality, \"1909\"/Date, \"1902\"/Date, \"Swede\"/Nationality, \"Sweden\"/Nationality]'"
            ],
            "application/vnd.google.colaboratory.intrinsic+json": {
              "type": "string"
            }
          },
          "metadata": {},
          "execution_count": 9
        }
      ]
    },
    {
      "cell_type": "code",
      "source": [
        "# tag to predict\n",
        "tag_type = 'ner'# make tag dictionary from the corpus\n",
        "tag_dictionary = corpus.make_label_dictionary(label_type=tag_type)\n"
      ],
      "metadata": {
        "colab": {
          "base_uri": "https://localhost:8080/"
        },
        "id": "DjuZ7XYKqMyV",
        "outputId": "3af561f9-3b99-4c7f-c9f4-8eacbf6b1c77"
      },
      "execution_count": 10,
      "outputs": [
        {
          "output_type": "stream",
          "name": "stdout",
          "text": [
            "2023-10-18 07:10:53,909 Computing label dictionary. Progress:\n"
          ]
        },
        {
          "output_type": "stream",
          "name": "stderr",
          "text": [
            "58it [00:00, 6276.79it/s]"
          ]
        },
        {
          "output_type": "stream",
          "name": "stdout",
          "text": [
            "2023-10-18 07:10:53,932 Dictionary created for label 'ner' with 6 values: Winner (seen 561 times), Date (seen 369 times), Nationality (seen 278 times), Prizetype (seen 56 times), Reason (seen 37 times)\n"
          ]
        },
        {
          "output_type": "stream",
          "name": "stderr",
          "text": [
            "\n"
          ]
        }
      ]
    },
    {
      "cell_type": "code",
      "source": [
        "from flair.embeddings import WordEmbeddings, StackedEmbeddings, TokenEmbeddings, TransformerWordEmbeddings\n",
        "from flair.models import SequenceTagger\n",
        "from typing import List\n",
        "# embedding_types : List[TokenEmbeddings] = [\n",
        "#         WordEmbeddings('glove'),\n",
        "        ## other embeddings\n",
        "        # ]\n",
        "# embeddings : StackedEmbeddings = StackedEmbeddings(\n",
        "#                                 embeddings=embedding_types)\n",
        "\n",
        "embeddings = TransformerWordEmbeddings(\n",
        "    model='distilbert-base-cased',\n",
        "    layers=\"-1\",\n",
        "    subtoken_pooling='first',\n",
        "    fine_tune=True,\n",
        "    use_context=0,\n",
        "    respect_document_boundaries=False,\n",
        ")\n",
        "\n",
        "tagger: SequenceTagger = SequenceTagger(\n",
        "        hidden_size=256,\n",
        "        embeddings=embeddings,\n",
        "        tag_dictionary=tag_dictionary,\n",
        "        tag_type=tag_type,\n",
        "        use_crf=False,\n",
        "        use_rnn=False,\n",
        "        reproject_embeddings=False,\n",
        "        tag_format='BIO'\n",
        "    )"
      ],
      "metadata": {
        "id": "0YfA1DoXvPO4",
        "colab": {
          "base_uri": "https://localhost:8080/",
          "height": 214,
          "referenced_widgets": [
            "84029761175a4b6d9afe48ce7ac703bc",
            "456ce968791a433abba60eb75e3d33b9",
            "5fcc3b398b6b410a82033fc288f38f12",
            "8cb4f27903d74d3bb82a4ec3b4cbfad2",
            "2f6cedcf78514c75a65d9cda62200379",
            "6fecaa14332b46a4a8280d51dc0f868c",
            "d81d25c30acc426baf29fd9c6199feae",
            "5b7364e4917846309cf1548c1e1d6099",
            "1fb41362a53044518cc6ba4f9ec38ddf",
            "7bdbea29f85846619383b6e1cbeaba0e",
            "3a21c1dbc1a74ccc968b9f961f701cbb",
            "a362e2b5c678432fa6a166ecba578b6b",
            "47fbd6a128ea4280977990ab77f3dda4",
            "202f9289de914900b6228e8d93c115ec",
            "6b95b4e5a8fd4706935c4f6aac16fe0c",
            "00a7a6b075e34bd3add9caac415f1237",
            "e8c43a40253849f7bb477b57a43075e4",
            "d3f9d8dc7c704356ae9499860e3f786d",
            "85f2285f17ef40cd8bbfbf54cf46547b",
            "c90b85ebbb1440d989258f6e80305f03",
            "a905677e25e44e5d9a593a2679534a68",
            "6f9357660d1e43beba3b7cb2d28c3583",
            "5320803788ab4f45a482e8c110de7159",
            "bc0fdae0a1c340598351ac2488f215ca",
            "e3dee5ddb94a4ed0bd9018a86c6b4e8b",
            "f68024bc572c41bcba745131c51bddf2",
            "b0d1958afcaf4188b0680b1238f532f9",
            "ddafa3cc1dc145e18e59e8f960e49083",
            "f2586f73850d4c858ab09e19fcba65d9",
            "4b5e57bfdee4433492c44950edcbad6a",
            "5f7c7a4a2dc549af9f52e7307d0c2c59",
            "6dd8da3325b54cf7998f27ccc616a561",
            "91483fd31f7746a4a66389222a38426e",
            "17fdb21d26f04cf1822ad82ed0b2bc67",
            "991a5e650fa94c7d890040ba1a4acf6a",
            "9b556ebc57b64463b50db036dfde4747",
            "a6236a8662d04ece88081af247a6cd08",
            "618c1bc5c206487a882d1ace00a10410",
            "0ee2894e3be743a28843e8ec242258a0",
            "beb06ce8796f40bbae0debfea3724e86",
            "62a41bdc757b42149c21f3888fdf1eaf",
            "973cc76c9b0949d580eef7cfdabd01e9",
            "c87f4584e26443d89ff2d2e45284c439",
            "4f1c02f059c148928ccf491a79aa496d",
            "f2e26d79af4f4d3997cc3b5d75919663",
            "7b55b74a518f44e59f8bf6e8eda04237",
            "e4b37e538ade42d99b04b20f767eee3a",
            "35ff81deb8f147f88c14b1a8ccaf348d",
            "a789cf01066744368b2ea696bc5c0cfa",
            "b6456b56fd3949cfa54fd6690a36a8a9",
            "c303fd8685fd4ae085f47dbebaf04f26",
            "8b99b321637e49738b7cbf1d5941964b",
            "1410dbf7d30f416e82fb4dfdc67f137c",
            "efec2593ecf34cf7ba912df288072bcd",
            "81735add34c7438688900cfe1940edc5"
          ]
        },
        "outputId": "24bdd060-b83a-4319-8844-3db71d86967c"
      },
      "execution_count": 13,
      "outputs": [
        {
          "output_type": "display_data",
          "data": {
            "text/plain": [
              "Downloading (…)okenizer_config.json:   0%|          | 0.00/29.0 [00:00<?, ?B/s]"
            ],
            "application/vnd.jupyter.widget-view+json": {
              "version_major": 2,
              "version_minor": 0,
              "model_id": "84029761175a4b6d9afe48ce7ac703bc"
            }
          },
          "metadata": {}
        },
        {
          "output_type": "display_data",
          "data": {
            "text/plain": [
              "Downloading (…)lve/main/config.json:   0%|          | 0.00/465 [00:00<?, ?B/s]"
            ],
            "application/vnd.jupyter.widget-view+json": {
              "version_major": 2,
              "version_minor": 0,
              "model_id": "a362e2b5c678432fa6a166ecba578b6b"
            }
          },
          "metadata": {}
        },
        {
          "output_type": "display_data",
          "data": {
            "text/plain": [
              "Downloading (…)solve/main/vocab.txt:   0%|          | 0.00/213k [00:00<?, ?B/s]"
            ],
            "application/vnd.jupyter.widget-view+json": {
              "version_major": 2,
              "version_minor": 0,
              "model_id": "5320803788ab4f45a482e8c110de7159"
            }
          },
          "metadata": {}
        },
        {
          "output_type": "display_data",
          "data": {
            "text/plain": [
              "Downloading (…)/main/tokenizer.json:   0%|          | 0.00/436k [00:00<?, ?B/s]"
            ],
            "application/vnd.jupyter.widget-view+json": {
              "version_major": 2,
              "version_minor": 0,
              "model_id": "17fdb21d26f04cf1822ad82ed0b2bc67"
            }
          },
          "metadata": {}
        },
        {
          "output_type": "display_data",
          "data": {
            "text/plain": [
              "Downloading model.safetensors:   0%|          | 0.00/263M [00:00<?, ?B/s]"
            ],
            "application/vnd.jupyter.widget-view+json": {
              "version_major": 2,
              "version_minor": 0,
              "model_id": "f2e26d79af4f4d3997cc3b5d75919663"
            }
          },
          "metadata": {}
        },
        {
          "output_type": "stream",
          "name": "stdout",
          "text": [
            "2023-10-18 07:12:47,037 SequenceTagger predicts: Dictionary with 11 tags: O, B-Winner, I-Winner, B-Date, I-Date, B-Nationality, I-Nationality, B-Prizetype, I-Prizetype, B-Reason, I-Reason\n"
          ]
        }
      ]
    },
    {
      "cell_type": "code",
      "source": [
        "\n",
        "# tagger : SequenceTagger = SequenceTagger(hidden_size=256,\n",
        "#                                        embeddings=embeddings,\n",
        "#                                        tag_dictionary=tag_dictionary,\n",
        "#                                        tag_type=tag_type,\n",
        "#                                        use_crf=True,\n",
        "#                                          tag_format='BIO'\n",
        "#                                          )\n",
        "# print(tagger)"
      ],
      "metadata": {
        "colab": {
          "base_uri": "https://localhost:8080/",
          "height": 245
        },
        "id": "OcxJy7ezvWnt",
        "outputId": "e839e3fb-32f1-4638-8405-a22267a925a3"
      },
      "execution_count": 14,
      "outputs": [
        {
          "output_type": "error",
          "ename": "NameError",
          "evalue": "ignored",
          "traceback": [
            "\u001b[0;31m---------------------------------------------------------------------------\u001b[0m",
            "\u001b[0;31mNameError\u001b[0m                                 Traceback (most recent call last)",
            "\u001b[0;32m<ipython-input-14-f29544059db9>\u001b[0m in \u001b[0;36m<cell line: 2>\u001b[0;34m()\u001b[0m\n\u001b[1;32m      1\u001b[0m \u001b[0;32mfrom\u001b[0m \u001b[0mflair\u001b[0m\u001b[0;34m.\u001b[0m\u001b[0mmodels\u001b[0m \u001b[0;32mimport\u001b[0m \u001b[0mSequenceTagger\u001b[0m\u001b[0;34m\u001b[0m\u001b[0;34m\u001b[0m\u001b[0m\n\u001b[1;32m      2\u001b[0m tagger : SequenceTagger = SequenceTagger(hidden_size=256,\n\u001b[0;32m----> 3\u001b[0;31m                                        \u001b[0membeddings\u001b[0m\u001b[0;34m=\u001b[0m\u001b[0membeddings\u001b[0m\u001b[0;34m,\u001b[0m\u001b[0;34m\u001b[0m\u001b[0;34m\u001b[0m\u001b[0m\n\u001b[0m\u001b[1;32m      4\u001b[0m                                        \u001b[0mtag_dictionary\u001b[0m\u001b[0;34m=\u001b[0m\u001b[0mtag_dictionary\u001b[0m\u001b[0;34m,\u001b[0m\u001b[0;34m\u001b[0m\u001b[0;34m\u001b[0m\u001b[0m\n\u001b[1;32m      5\u001b[0m                                        \u001b[0mtag_type\u001b[0m\u001b[0;34m=\u001b[0m\u001b[0mtag_type\u001b[0m\u001b[0;34m,\u001b[0m\u001b[0;34m\u001b[0m\u001b[0;34m\u001b[0m\u001b[0m\n",
            "\u001b[0;31mNameError\u001b[0m: name 'embeddings' is not defined"
          ]
        }
      ]
    },
    {
      "cell_type": "code",
      "source": [
        "from flair.trainers import ModelTrainer\n",
        "trainer : ModelTrainer = ModelTrainer(tagger, corpus)\n",
        "# trainer.train('resources/taggers/ner',\n",
        "#               learning_rate=0.1,\n",
        "#               mini_batch_size=32,\n",
        "#               max_epochs=300) # 150\n",
        "\n",
        "trainer.fine_tune(\n",
        "        'resources/taggers/ner',\n",
        "        learning_rate=5e-05,\n",
        "        mini_batch_size=16,\n",
        "        max_epochs=100,\n",
        "        embeddings_storage_mode=None,\n",
        "        weight_decay=0.0,\n",
        "    )\n"
      ],
      "metadata": {
        "id": "-UQ7cZLVvgz7",
        "colab": {
          "base_uri": "https://localhost:8080/"
        },
        "outputId": "ecce24dd-6646-405e-c3a8-2c10879fa2c1"
      },
      "execution_count": 15,
      "outputs": [
        {
          "output_type": "stream",
          "name": "stdout",
          "text": [
            "2023-10-18 07:14:06,322 ----------------------------------------------------------------------------------------------------\n",
            "2023-10-18 07:14:06,325 Model: \"SequenceTagger(\n",
            "  (embeddings): TransformerWordEmbeddings(\n",
            "    (model): DistilBertModel(\n",
            "      (embeddings): Embeddings(\n",
            "        (word_embeddings): Embedding(28997, 768)\n",
            "        (position_embeddings): Embedding(512, 768)\n",
            "        (LayerNorm): LayerNorm((768,), eps=1e-12, elementwise_affine=True)\n",
            "        (dropout): Dropout(p=0.1, inplace=False)\n",
            "      )\n",
            "      (transformer): Transformer(\n",
            "        (layer): ModuleList(\n",
            "          (0-5): 6 x TransformerBlock(\n",
            "            (attention): MultiHeadSelfAttention(\n",
            "              (dropout): Dropout(p=0.1, inplace=False)\n",
            "              (q_lin): Linear(in_features=768, out_features=768, bias=True)\n",
            "              (k_lin): Linear(in_features=768, out_features=768, bias=True)\n",
            "              (v_lin): Linear(in_features=768, out_features=768, bias=True)\n",
            "              (out_lin): Linear(in_features=768, out_features=768, bias=True)\n",
            "            )\n",
            "            (sa_layer_norm): LayerNorm((768,), eps=1e-12, elementwise_affine=True)\n",
            "            (ffn): FFN(\n",
            "              (dropout): Dropout(p=0.1, inplace=False)\n",
            "              (lin1): Linear(in_features=768, out_features=3072, bias=True)\n",
            "              (lin2): Linear(in_features=3072, out_features=768, bias=True)\n",
            "              (activation): GELUActivation()\n",
            "            )\n",
            "            (output_layer_norm): LayerNorm((768,), eps=1e-12, elementwise_affine=True)\n",
            "          )\n",
            "        )\n",
            "      )\n",
            "    )\n",
            "  )\n",
            "  (locked_dropout): LockedDropout(p=0.5)\n",
            "  (linear): Linear(in_features=768, out_features=11, bias=True)\n",
            "  (loss_function): CrossEntropyLoss()\n",
            ")\"\n",
            "2023-10-18 07:14:06,330 ----------------------------------------------------------------------------------------------------\n",
            "2023-10-18 07:14:06,333 Corpus: \"Corpus: 58 train + 9 dev + 10 test sentences\"\n",
            "2023-10-18 07:14:06,335 ----------------------------------------------------------------------------------------------------\n",
            "2023-10-18 07:14:06,340 Parameters:\n",
            "2023-10-18 07:14:06,341  - learning_rate: \"0.000050\"\n",
            "2023-10-18 07:14:06,342  - mini_batch_size: \"16\"\n",
            "2023-10-18 07:14:06,344  - patience: \"3\"\n",
            "2023-10-18 07:14:06,346  - anneal_factor: \"0.5\"\n",
            "2023-10-18 07:14:06,347  - max_epochs: \"100\"\n",
            "2023-10-18 07:14:06,349  - shuffle: \"True\"\n",
            "2023-10-18 07:14:06,351  - train_with_dev: \"False\"\n",
            "2023-10-18 07:14:06,353  - batch_growth_annealing: \"False\"\n",
            "2023-10-18 07:14:06,355 ----------------------------------------------------------------------------------------------------\n",
            "2023-10-18 07:14:06,356 Model training base path: \"resources/taggers/ner\"\n",
            "2023-10-18 07:14:06,357 ----------------------------------------------------------------------------------------------------\n",
            "2023-10-18 07:14:06,359 Device: cuda:0\n",
            "2023-10-18 07:14:06,361 ----------------------------------------------------------------------------------------------------\n",
            "2023-10-18 07:14:06,362 Embeddings storage mode: None\n",
            "2023-10-18 07:14:06,363 ----------------------------------------------------------------------------------------------------\n",
            "2023-10-18 07:14:06,816 epoch 1 - iter 1/4 - loss 0.35847382 - time (sec): 0.45 - samples/sec: 11013.81 - lr: 0.000001\n",
            "2023-10-18 07:14:07,212 epoch 1 - iter 2/4 - loss 0.40380103 - time (sec): 0.85 - samples/sec: 11387.21 - lr: 0.000002\n",
            "2023-10-18 07:14:07,655 epoch 1 - iter 3/4 - loss 0.38625486 - time (sec): 1.29 - samples/sec: 11413.72 - lr: 0.000003\n",
            "2023-10-18 07:14:07,919 epoch 1 - iter 4/4 - loss 0.38528211 - time (sec): 1.55 - samples/sec: 11540.56 - lr: 0.000004\n",
            "2023-10-18 07:14:07,924 ----------------------------------------------------------------------------------------------------\n",
            "2023-10-18 07:14:07,927 EPOCH 1 done: loss 0.3853 - lr 0.000004\n"
          ]
        },
        {
          "output_type": "stream",
          "name": "stderr",
          "text": [
            "100%|██████████| 1/1 [00:00<00:00,  1.06it/s]"
          ]
        },
        {
          "output_type": "stream",
          "name": "stdout",
          "text": [
            "2023-10-18 07:14:08,883 Evaluating as a multi-label problem: False\n",
            "2023-10-18 07:14:08,915 DEV : loss 0.3801349997520447 - f1-score (micro avg)  0.5414\n",
            "2023-10-18 07:14:08,932 ----------------------------------------------------------------------------------------------------\n"
          ]
        },
        {
          "output_type": "stream",
          "name": "stderr",
          "text": [
            "\n"
          ]
        },
        {
          "output_type": "stream",
          "name": "stdout",
          "text": [
            "2023-10-18 07:14:09,498 epoch 2 - iter 1/4 - loss 0.38711576 - time (sec): 0.56 - samples/sec: 9720.45 - lr: 0.000006\n",
            "2023-10-18 07:14:09,944 epoch 2 - iter 2/4 - loss 0.37292955 - time (sec): 1.01 - samples/sec: 10255.83 - lr: 0.000007\n",
            "2023-10-18 07:14:10,494 epoch 2 - iter 3/4 - loss 0.38045333 - time (sec): 1.56 - samples/sec: 9755.75 - lr: 0.000008\n",
            "2023-10-18 07:14:10,789 epoch 2 - iter 4/4 - loss 0.39353825 - time (sec): 1.86 - samples/sec: 9668.60 - lr: 0.000009\n",
            "2023-10-18 07:14:10,797 ----------------------------------------------------------------------------------------------------\n",
            "2023-10-18 07:14:10,799 EPOCH 2 done: loss 0.3935 - lr 0.000009\n"
          ]
        },
        {
          "output_type": "stream",
          "name": "stderr",
          "text": [
            "100%|██████████| 1/1 [00:01<00:00,  1.71s/it]"
          ]
        },
        {
          "output_type": "stream",
          "name": "stdout",
          "text": [
            "2023-10-18 07:14:12,515 Evaluating as a multi-label problem: False\n",
            "2023-10-18 07:14:12,539 DEV : loss 0.3710647225379944 - f1-score (micro avg)  0.5445\n",
            "2023-10-18 07:14:12,551 ----------------------------------------------------------------------------------------------------\n"
          ]
        },
        {
          "output_type": "stream",
          "name": "stderr",
          "text": [
            "\n"
          ]
        },
        {
          "output_type": "stream",
          "name": "stdout",
          "text": [
            "2023-10-18 07:14:13,501 epoch 3 - iter 1/4 - loss 0.38377337 - time (sec): 0.95 - samples/sec: 5123.93 - lr: 0.000010\n",
            "2023-10-18 07:14:14,008 epoch 3 - iter 2/4 - loss 0.36323092 - time (sec): 1.45 - samples/sec: 6777.72 - lr: 0.000011\n",
            "2023-10-18 07:14:14,588 epoch 3 - iter 3/4 - loss 0.36361567 - time (sec): 2.03 - samples/sec: 7275.87 - lr: 0.000012\n",
            "2023-10-18 07:14:14,908 epoch 3 - iter 4/4 - loss 0.35996186 - time (sec): 2.35 - samples/sec: 7620.96 - lr: 0.000013\n",
            "2023-10-18 07:14:14,915 ----------------------------------------------------------------------------------------------------\n",
            "2023-10-18 07:14:14,919 EPOCH 3 done: loss 0.3600 - lr 0.000013\n"
          ]
        },
        {
          "output_type": "stream",
          "name": "stderr",
          "text": [
            "100%|██████████| 1/1 [00:01<00:00,  1.79s/it]"
          ]
        },
        {
          "output_type": "stream",
          "name": "stdout",
          "text": [
            "2023-10-18 07:14:16,725 Evaluating as a multi-label problem: False\n",
            "2023-10-18 07:14:16,756 DEV : loss 0.35244816541671753 - f1-score (micro avg)  0.5741\n",
            "2023-10-18 07:14:16,768 ----------------------------------------------------------------------------------------------------\n"
          ]
        },
        {
          "output_type": "stream",
          "name": "stderr",
          "text": [
            "\n"
          ]
        },
        {
          "output_type": "stream",
          "name": "stdout",
          "text": [
            "2023-10-18 07:14:17,377 epoch 4 - iter 1/4 - loss 0.34778477 - time (sec): 0.61 - samples/sec: 8847.45 - lr: 0.000014\n",
            "2023-10-18 07:14:17,843 epoch 4 - iter 2/4 - loss 0.36365035 - time (sec): 1.07 - samples/sec: 9109.90 - lr: 0.000016\n",
            "2023-10-18 07:14:18,345 epoch 4 - iter 3/4 - loss 0.34347303 - time (sec): 1.57 - samples/sec: 9259.71 - lr: 0.000017\n",
            "2023-10-18 07:14:18,691 epoch 4 - iter 4/4 - loss 0.34709885 - time (sec): 1.92 - samples/sec: 9347.72 - lr: 0.000018\n",
            "2023-10-18 07:14:18,697 ----------------------------------------------------------------------------------------------------\n",
            "2023-10-18 07:14:18,700 EPOCH 4 done: loss 0.3471 - lr 0.000018\n"
          ]
        },
        {
          "output_type": "stream",
          "name": "stderr",
          "text": [
            "100%|██████████| 1/1 [00:01<00:00,  1.80s/it]"
          ]
        },
        {
          "output_type": "stream",
          "name": "stdout",
          "text": [
            "2023-10-18 07:14:20,516 Evaluating as a multi-label problem: False\n",
            "2023-10-18 07:14:20,551 DEV : loss 0.3273974061012268 - f1-score (micro avg)  0.595\n",
            "2023-10-18 07:14:20,564 ----------------------------------------------------------------------------------------------------\n"
          ]
        },
        {
          "output_type": "stream",
          "name": "stderr",
          "text": [
            "\n"
          ]
        },
        {
          "output_type": "stream",
          "name": "stdout",
          "text": [
            "2023-10-18 07:14:21,092 epoch 5 - iter 1/4 - loss 0.30100308 - time (sec): 0.52 - samples/sec: 9938.34 - lr: 0.000019\n",
            "2023-10-18 07:14:21,639 epoch 5 - iter 2/4 - loss 0.32231921 - time (sec): 1.07 - samples/sec: 8895.14 - lr: 0.000020\n",
            "2023-10-18 07:14:22,153 epoch 5 - iter 3/4 - loss 0.31572854 - time (sec): 1.58 - samples/sec: 9419.13 - lr: 0.000021\n",
            "2023-10-18 07:14:22,463 epoch 5 - iter 4/4 - loss 0.32356317 - time (sec): 1.89 - samples/sec: 9479.45 - lr: 0.000022\n",
            "2023-10-18 07:14:22,468 ----------------------------------------------------------------------------------------------------\n",
            "2023-10-18 07:14:22,472 EPOCH 5 done: loss 0.3236 - lr 0.000022\n"
          ]
        },
        {
          "output_type": "stream",
          "name": "stderr",
          "text": [
            "100%|██████████| 1/1 [00:00<00:00,  1.04it/s]"
          ]
        },
        {
          "output_type": "stream",
          "name": "stdout",
          "text": [
            "2023-10-18 07:14:23,448 Evaluating as a multi-label problem: False\n",
            "2023-10-18 07:14:23,464 DEV : loss 0.2986634075641632 - f1-score (micro avg)  0.6278\n",
            "2023-10-18 07:14:23,472 ----------------------------------------------------------------------------------------------------\n"
          ]
        },
        {
          "output_type": "stream",
          "name": "stderr",
          "text": [
            "\n"
          ]
        },
        {
          "output_type": "stream",
          "name": "stdout",
          "text": [
            "2023-10-18 07:14:23,866 epoch 6 - iter 1/4 - loss 0.35477823 - time (sec): 0.39 - samples/sec: 11419.88 - lr: 0.000023\n",
            "2023-10-18 07:14:24,315 epoch 6 - iter 2/4 - loss 0.28811916 - time (sec): 0.84 - samples/sec: 11798.16 - lr: 0.000024\n",
            "2023-10-18 07:14:24,742 epoch 6 - iter 3/4 - loss 0.29128038 - time (sec): 1.27 - samples/sec: 12121.81 - lr: 0.000026\n",
            "2023-10-18 07:14:24,968 epoch 6 - iter 4/4 - loss 0.28962201 - time (sec): 1.50 - samples/sec: 12000.59 - lr: 0.000027\n",
            "2023-10-18 07:14:24,970 ----------------------------------------------------------------------------------------------------\n",
            "2023-10-18 07:14:24,972 EPOCH 6 done: loss 0.2896 - lr 0.000027\n"
          ]
        },
        {
          "output_type": "stream",
          "name": "stderr",
          "text": [
            "100%|██████████| 1/1 [00:01<00:00,  1.06s/it]"
          ]
        },
        {
          "output_type": "stream",
          "name": "stdout",
          "text": [
            "2023-10-18 07:14:26,039 Evaluating as a multi-label problem: False\n",
            "2023-10-18 07:14:26,071 DEV : loss 0.2722673714160919 - f1-score (micro avg)  0.6404\n",
            "2023-10-18 07:14:26,086 ----------------------------------------------------------------------------------------------------\n"
          ]
        },
        {
          "output_type": "stream",
          "name": "stderr",
          "text": [
            "\n"
          ]
        },
        {
          "output_type": "stream",
          "name": "stdout",
          "text": [
            "2023-10-18 07:14:26,579 epoch 7 - iter 1/4 - loss 0.26304854 - time (sec): 0.49 - samples/sec: 9913.47 - lr: 0.000028\n",
            "2023-10-18 07:14:27,109 epoch 7 - iter 2/4 - loss 0.25325393 - time (sec): 1.02 - samples/sec: 10326.99 - lr: 0.000029\n",
            "2023-10-18 07:14:27,655 epoch 7 - iter 3/4 - loss 0.25350380 - time (sec): 1.56 - samples/sec: 9824.77 - lr: 0.000030\n",
            "2023-10-18 07:14:27,962 epoch 7 - iter 4/4 - loss 0.25750143 - time (sec): 1.87 - samples/sec: 9584.02 - lr: 0.000031\n",
            "2023-10-18 07:14:27,970 ----------------------------------------------------------------------------------------------------\n",
            "2023-10-18 07:14:27,971 EPOCH 7 done: loss 0.2575 - lr 0.000031\n"
          ]
        },
        {
          "output_type": "stream",
          "name": "stderr",
          "text": [
            "100%|██████████| 1/1 [00:02<00:00,  2.05s/it]"
          ]
        },
        {
          "output_type": "stream",
          "name": "stdout",
          "text": [
            "2023-10-18 07:14:30,037 Evaluating as a multi-label problem: False\n",
            "2023-10-18 07:14:30,060 DEV : loss 0.2477485090494156 - f1-score (micro avg)  0.6911\n",
            "2023-10-18 07:14:30,070 ----------------------------------------------------------------------------------------------------\n"
          ]
        },
        {
          "output_type": "stream",
          "name": "stderr",
          "text": [
            "\n"
          ]
        },
        {
          "output_type": "stream",
          "name": "stdout",
          "text": [
            "2023-10-18 07:14:30,550 epoch 8 - iter 1/4 - loss 0.22326261 - time (sec): 0.48 - samples/sec: 11508.99 - lr: 0.000032\n",
            "2023-10-18 07:14:31,048 epoch 8 - iter 2/4 - loss 0.22557515 - time (sec): 0.98 - samples/sec: 10417.42 - lr: 0.000033\n",
            "2023-10-18 07:14:31,503 epoch 8 - iter 3/4 - loss 0.22914513 - time (sec): 1.43 - samples/sec: 10021.68 - lr: 0.000034\n",
            "2023-10-18 07:14:31,903 epoch 8 - iter 4/4 - loss 0.22452686 - time (sec): 1.83 - samples/sec: 9802.94 - lr: 0.000036\n",
            "2023-10-18 07:14:31,908 ----------------------------------------------------------------------------------------------------\n",
            "2023-10-18 07:14:31,910 EPOCH 8 done: loss 0.2245 - lr 0.000036\n"
          ]
        },
        {
          "output_type": "stream",
          "name": "stderr",
          "text": [
            "100%|██████████| 1/1 [00:01<00:00,  1.09s/it]"
          ]
        },
        {
          "output_type": "stream",
          "name": "stdout",
          "text": [
            "2023-10-18 07:14:33,015 Evaluating as a multi-label problem: False\n",
            "2023-10-18 07:14:33,031 DEV : loss 0.231901615858078 - f1-score (micro avg)  0.6989\n",
            "2023-10-18 07:14:33,038 ----------------------------------------------------------------------------------------------------\n"
          ]
        },
        {
          "output_type": "stream",
          "name": "stderr",
          "text": [
            "\n"
          ]
        },
        {
          "output_type": "stream",
          "name": "stdout",
          "text": [
            "2023-10-18 07:14:33,450 epoch 9 - iter 1/4 - loss 0.23821614 - time (sec): 0.41 - samples/sec: 11426.82 - lr: 0.000037\n",
            "2023-10-18 07:14:33,825 epoch 9 - iter 2/4 - loss 0.23322208 - time (sec): 0.78 - samples/sec: 11580.53 - lr: 0.000038\n",
            "2023-10-18 07:14:34,238 epoch 9 - iter 3/4 - loss 0.20221742 - time (sec): 1.20 - samples/sec: 12103.50 - lr: 0.000039\n",
            "2023-10-18 07:14:34,550 epoch 9 - iter 4/4 - loss 0.19416066 - time (sec): 1.51 - samples/sec: 11890.25 - lr: 0.000040\n",
            "2023-10-18 07:14:34,552 ----------------------------------------------------------------------------------------------------\n",
            "2023-10-18 07:14:34,555 EPOCH 9 done: loss 0.1942 - lr 0.000040\n"
          ]
        },
        {
          "output_type": "stream",
          "name": "stderr",
          "text": [
            "100%|██████████| 1/1 [00:00<00:00,  1.09it/s]"
          ]
        },
        {
          "output_type": "stream",
          "name": "stdout",
          "text": [
            "2023-10-18 07:14:35,482 Evaluating as a multi-label problem: False\n",
            "2023-10-18 07:14:35,498 DEV : loss 0.2242256999015808 - f1-score (micro avg)  0.7079\n",
            "2023-10-18 07:14:35,506 ----------------------------------------------------------------------------------------------------\n"
          ]
        },
        {
          "output_type": "stream",
          "name": "stderr",
          "text": [
            "\n"
          ]
        },
        {
          "output_type": "stream",
          "name": "stdout",
          "text": [
            "2023-10-18 07:14:35,910 epoch 10 - iter 1/4 - loss 0.14105372 - time (sec): 0.40 - samples/sec: 12108.81 - lr: 0.000041\n",
            "2023-10-18 07:14:36,313 epoch 10 - iter 2/4 - loss 0.16680981 - time (sec): 0.81 - samples/sec: 12145.13 - lr: 0.000042\n",
            "2023-10-18 07:14:36,756 epoch 10 - iter 3/4 - loss 0.15595656 - time (sec): 1.25 - samples/sec: 11889.56 - lr: 0.000043\n",
            "2023-10-18 07:14:37,022 epoch 10 - iter 4/4 - loss 0.15454847 - time (sec): 1.51 - samples/sec: 11847.21 - lr: 0.000044\n",
            "2023-10-18 07:14:37,024 ----------------------------------------------------------------------------------------------------\n",
            "2023-10-18 07:14:37,028 EPOCH 10 done: loss 0.1545 - lr 0.000044\n"
          ]
        },
        {
          "output_type": "stream",
          "name": "stderr",
          "text": [
            "100%|██████████| 1/1 [00:00<00:00,  1.10it/s]"
          ]
        },
        {
          "output_type": "stream",
          "name": "stdout",
          "text": [
            "2023-10-18 07:14:37,945 Evaluating as a multi-label problem: False\n",
            "2023-10-18 07:14:37,966 DEV : loss 0.21419619023799896 - f1-score (micro avg)  0.7086\n",
            "2023-10-18 07:14:37,973 ----------------------------------------------------------------------------------------------------\n"
          ]
        },
        {
          "output_type": "stream",
          "name": "stderr",
          "text": [
            "\n"
          ]
        },
        {
          "output_type": "stream",
          "name": "stdout",
          "text": [
            "2023-10-18 07:14:38,441 epoch 11 - iter 1/4 - loss 0.12976581 - time (sec): 0.47 - samples/sec: 12135.75 - lr: 0.000046\n",
            "2023-10-18 07:14:38,848 epoch 11 - iter 2/4 - loss 0.13964593 - time (sec): 0.87 - samples/sec: 11555.46 - lr: 0.000047\n",
            "2023-10-18 07:14:39,235 epoch 11 - iter 3/4 - loss 0.12919171 - time (sec): 1.26 - samples/sec: 11902.58 - lr: 0.000048\n",
            "2023-10-18 07:14:39,500 epoch 11 - iter 4/4 - loss 0.12354452 - time (sec): 1.53 - samples/sec: 11756.28 - lr: 0.000049\n",
            "2023-10-18 07:14:39,502 ----------------------------------------------------------------------------------------------------\n",
            "2023-10-18 07:14:39,508 EPOCH 11 done: loss 0.1235 - lr 0.000049\n"
          ]
        },
        {
          "output_type": "stream",
          "name": "stderr",
          "text": [
            "100%|██████████| 1/1 [00:00<00:00,  1.09it/s]"
          ]
        },
        {
          "output_type": "stream",
          "name": "stdout",
          "text": [
            "2023-10-18 07:14:40,434 Evaluating as a multi-label problem: False\n",
            "2023-10-18 07:14:40,451 DEV : loss 0.21178041398525238 - f1-score (micro avg)  0.7344\n",
            "2023-10-18 07:14:40,458 ----------------------------------------------------------------------------------------------------\n"
          ]
        },
        {
          "output_type": "stream",
          "name": "stderr",
          "text": [
            "\n"
          ]
        },
        {
          "output_type": "stream",
          "name": "stdout",
          "text": [
            "2023-10-18 07:14:40,878 epoch 12 - iter 1/4 - loss 0.09779718 - time (sec): 0.42 - samples/sec: 12310.03 - lr: 0.000050\n",
            "2023-10-18 07:14:41,581 epoch 12 - iter 2/4 - loss 0.09487277 - time (sec): 1.12 - samples/sec: 8260.45 - lr: 0.000050\n",
            "2023-10-18 07:14:42,038 epoch 12 - iter 3/4 - loss 0.09263498 - time (sec): 1.58 - samples/sec: 9532.53 - lr: 0.000050\n",
            "2023-10-18 07:14:42,298 epoch 12 - iter 4/4 - loss 0.09466034 - time (sec): 1.84 - samples/sec: 9755.22 - lr: 0.000050\n",
            "2023-10-18 07:14:42,300 ----------------------------------------------------------------------------------------------------\n",
            "2023-10-18 07:14:42,304 EPOCH 12 done: loss 0.0947 - lr 0.000050\n"
          ]
        },
        {
          "output_type": "stream",
          "name": "stderr",
          "text": [
            "100%|██████████| 1/1 [00:01<00:00,  1.78s/it]"
          ]
        },
        {
          "output_type": "stream",
          "name": "stdout",
          "text": [
            "2023-10-18 07:14:44,098 Evaluating as a multi-label problem: False\n",
            "2023-10-18 07:14:44,121 DEV : loss 0.2194720208644867 - f1-score (micro avg)  0.7532\n",
            "2023-10-18 07:14:44,130 ----------------------------------------------------------------------------------------------------\n"
          ]
        },
        {
          "output_type": "stream",
          "name": "stderr",
          "text": [
            "\n"
          ]
        },
        {
          "output_type": "stream",
          "name": "stdout",
          "text": [
            "2023-10-18 07:14:44,707 epoch 13 - iter 1/4 - loss 0.09057150 - time (sec): 0.57 - samples/sec: 9449.58 - lr: 0.000050\n",
            "2023-10-18 07:14:45,157 epoch 13 - iter 2/4 - loss 0.08322119 - time (sec): 1.03 - samples/sec: 10189.63 - lr: 0.000049\n",
            "2023-10-18 07:14:45,650 epoch 13 - iter 3/4 - loss 0.07312171 - time (sec): 1.52 - samples/sec: 9846.65 - lr: 0.000049\n",
            "2023-10-18 07:14:46,011 epoch 13 - iter 4/4 - loss 0.07643278 - time (sec): 1.88 - samples/sec: 9547.35 - lr: 0.000049\n",
            "2023-10-18 07:14:46,014 ----------------------------------------------------------------------------------------------------\n",
            "2023-10-18 07:14:46,016 EPOCH 13 done: loss 0.0764 - lr 0.000049\n"
          ]
        },
        {
          "output_type": "stream",
          "name": "stderr",
          "text": [
            "100%|██████████| 1/1 [00:01<00:00,  1.63s/it]"
          ]
        },
        {
          "output_type": "stream",
          "name": "stdout",
          "text": [
            "2023-10-18 07:14:47,660 Evaluating as a multi-label problem: False\n",
            "2023-10-18 07:14:47,683 DEV : loss 0.21911773085594177 - f1-score (micro avg)  0.7705\n",
            "2023-10-18 07:14:47,692 ----------------------------------------------------------------------------------------------------\n"
          ]
        },
        {
          "output_type": "stream",
          "name": "stderr",
          "text": [
            "\n"
          ]
        },
        {
          "output_type": "stream",
          "name": "stdout",
          "text": [
            "2023-10-18 07:14:48,201 epoch 14 - iter 1/4 - loss 0.06199195 - time (sec): 0.51 - samples/sec: 9567.66 - lr: 0.000049\n",
            "2023-10-18 07:14:48,687 epoch 14 - iter 2/4 - loss 0.06070592 - time (sec): 0.99 - samples/sec: 9659.04 - lr: 0.000049\n",
            "2023-10-18 07:14:49,248 epoch 14 - iter 3/4 - loss 0.05360903 - time (sec): 1.55 - samples/sec: 9955.44 - lr: 0.000049\n",
            "2023-10-18 07:14:49,474 epoch 14 - iter 4/4 - loss 0.05294238 - time (sec): 1.78 - samples/sec: 10078.65 - lr: 0.000049\n",
            "2023-10-18 07:14:49,476 ----------------------------------------------------------------------------------------------------\n",
            "2023-10-18 07:14:49,482 EPOCH 14 done: loss 0.0529 - lr 0.000049\n"
          ]
        },
        {
          "output_type": "stream",
          "name": "stderr",
          "text": [
            "100%|██████████| 1/1 [00:00<00:00,  1.14it/s]"
          ]
        },
        {
          "output_type": "stream",
          "name": "stdout",
          "text": [
            "2023-10-18 07:14:50,373 Evaluating as a multi-label problem: False\n",
            "2023-10-18 07:14:50,391 DEV : loss 0.2296692430973053 - f1-score (micro avg)  0.7669\n",
            "2023-10-18 07:14:50,398 ----------------------------------------------------------------------------------------------------\n"
          ]
        },
        {
          "output_type": "stream",
          "name": "stderr",
          "text": [
            "\n"
          ]
        },
        {
          "output_type": "stream",
          "name": "stdout",
          "text": [
            "2023-10-18 07:14:50,728 epoch 15 - iter 1/4 - loss 0.04291862 - time (sec): 0.33 - samples/sec: 14084.22 - lr: 0.000049\n",
            "2023-10-18 07:14:51,149 epoch 15 - iter 2/4 - loss 0.04285042 - time (sec): 0.75 - samples/sec: 12578.90 - lr: 0.000048\n",
            "2023-10-18 07:14:51,613 epoch 15 - iter 3/4 - loss 0.04145735 - time (sec): 1.21 - samples/sec: 12227.44 - lr: 0.000048\n",
            "2023-10-18 07:14:51,875 epoch 15 - iter 4/4 - loss 0.04170669 - time (sec): 1.48 - samples/sec: 12151.25 - lr: 0.000048\n",
            "2023-10-18 07:14:51,878 ----------------------------------------------------------------------------------------------------\n",
            "2023-10-18 07:14:51,881 EPOCH 15 done: loss 0.0417 - lr 0.000048\n"
          ]
        },
        {
          "output_type": "stream",
          "name": "stderr",
          "text": [
            "100%|██████████| 1/1 [00:00<00:00,  1.07it/s]"
          ]
        },
        {
          "output_type": "stream",
          "name": "stdout",
          "text": [
            "2023-10-18 07:14:52,827 Evaluating as a multi-label problem: False\n",
            "2023-10-18 07:14:52,846 DEV : loss 0.2317368984222412 - f1-score (micro avg)  0.7613\n",
            "2023-10-18 07:14:52,853 ----------------------------------------------------------------------------------------------------\n"
          ]
        },
        {
          "output_type": "stream",
          "name": "stderr",
          "text": [
            "\n"
          ]
        },
        {
          "output_type": "stream",
          "name": "stdout",
          "text": [
            "2023-10-18 07:14:53,321 epoch 16 - iter 1/4 - loss 0.03685457 - time (sec): 0.47 - samples/sec: 11458.69 - lr: 0.000048\n",
            "2023-10-18 07:14:53,697 epoch 16 - iter 2/4 - loss 0.03578425 - time (sec): 0.84 - samples/sec: 11478.83 - lr: 0.000048\n",
            "2023-10-18 07:14:54,114 epoch 16 - iter 3/4 - loss 0.03765462 - time (sec): 1.26 - samples/sec: 11694.52 - lr: 0.000048\n",
            "2023-10-18 07:14:54,364 epoch 16 - iter 4/4 - loss 0.03691474 - time (sec): 1.51 - samples/sec: 11893.50 - lr: 0.000048\n",
            "2023-10-18 07:14:54,367 ----------------------------------------------------------------------------------------------------\n",
            "2023-10-18 07:14:54,368 EPOCH 16 done: loss 0.0369 - lr 0.000048\n"
          ]
        },
        {
          "output_type": "stream",
          "name": "stderr",
          "text": [
            "100%|██████████| 1/1 [00:00<00:00,  1.10it/s]"
          ]
        },
        {
          "output_type": "stream",
          "name": "stdout",
          "text": [
            "2023-10-18 07:14:55,286 Evaluating as a multi-label problem: False\n",
            "2023-10-18 07:14:55,302 DEV : loss 0.24368225038051605 - f1-score (micro avg)  0.7742\n",
            "2023-10-18 07:14:55,309 ----------------------------------------------------------------------------------------------------\n"
          ]
        },
        {
          "output_type": "stream",
          "name": "stderr",
          "text": [
            "\n"
          ]
        },
        {
          "output_type": "stream",
          "name": "stdout",
          "text": [
            "2023-10-18 07:14:56,089 epoch 17 - iter 1/4 - loss 0.02011799 - time (sec): 0.78 - samples/sec: 6786.75 - lr: 0.000048\n",
            "2023-10-18 07:14:56,472 epoch 17 - iter 2/4 - loss 0.02308750 - time (sec): 1.16 - samples/sec: 8625.96 - lr: 0.000047\n",
            "2023-10-18 07:14:56,934 epoch 17 - iter 3/4 - loss 0.02448686 - time (sec): 1.62 - samples/sec: 9508.59 - lr: 0.000047\n",
            "2023-10-18 07:14:57,175 epoch 17 - iter 4/4 - loss 0.02801916 - time (sec): 1.86 - samples/sec: 9623.32 - lr: 0.000047\n",
            "2023-10-18 07:14:57,178 ----------------------------------------------------------------------------------------------------\n",
            "2023-10-18 07:14:57,181 EPOCH 17 done: loss 0.0280 - lr 0.000047\n"
          ]
        },
        {
          "output_type": "stream",
          "name": "stderr",
          "text": [
            "100%|██████████| 1/1 [00:00<00:00,  1.10it/s]"
          ]
        },
        {
          "output_type": "stream",
          "name": "stdout",
          "text": [
            "2023-10-18 07:14:58,099 Evaluating as a multi-label problem: False\n",
            "2023-10-18 07:14:58,115 DEV : loss 0.26230254769325256 - f1-score (micro avg)  0.8114\n",
            "2023-10-18 07:14:58,121 ----------------------------------------------------------------------------------------------------\n"
          ]
        },
        {
          "output_type": "stream",
          "name": "stderr",
          "text": [
            "\n"
          ]
        },
        {
          "output_type": "stream",
          "name": "stdout",
          "text": [
            "2023-10-18 07:14:58,572 epoch 18 - iter 1/4 - loss 0.02313780 - time (sec): 0.45 - samples/sec: 11063.93 - lr: 0.000047\n",
            "2023-10-18 07:14:58,969 epoch 18 - iter 2/4 - loss 0.02131678 - time (sec): 0.85 - samples/sec: 11487.74 - lr: 0.000047\n",
            "2023-10-18 07:14:59,453 epoch 18 - iter 3/4 - loss 0.02016479 - time (sec): 1.33 - samples/sec: 11226.69 - lr: 0.000047\n",
            "2023-10-18 07:14:59,725 epoch 18 - iter 4/4 - loss 0.02081430 - time (sec): 1.60 - samples/sec: 11196.08 - lr: 0.000047\n",
            "2023-10-18 07:14:59,732 ----------------------------------------------------------------------------------------------------\n",
            "2023-10-18 07:14:59,735 EPOCH 18 done: loss 0.0208 - lr 0.000047\n"
          ]
        },
        {
          "output_type": "stream",
          "name": "stderr",
          "text": [
            "100%|██████████| 1/1 [00:01<00:00,  1.81s/it]"
          ]
        },
        {
          "output_type": "stream",
          "name": "stdout",
          "text": [
            "2023-10-18 07:15:01,560 Evaluating as a multi-label problem: False\n",
            "2023-10-18 07:15:01,584 DEV : loss 0.2585885524749756 - f1-score (micro avg)  0.8163\n",
            "2023-10-18 07:15:01,594 ----------------------------------------------------------------------------------------------------\n"
          ]
        },
        {
          "output_type": "stream",
          "name": "stderr",
          "text": [
            "\n"
          ]
        },
        {
          "output_type": "stream",
          "name": "stdout",
          "text": [
            "2023-10-18 07:15:02,092 epoch 19 - iter 1/4 - loss 0.01385019 - time (sec): 0.50 - samples/sec: 9335.91 - lr: 0.000047\n",
            "2023-10-18 07:15:02,657 epoch 19 - iter 2/4 - loss 0.01463586 - time (sec): 1.06 - samples/sec: 9154.02 - lr: 0.000046\n",
            "2023-10-18 07:15:03,174 epoch 19 - iter 3/4 - loss 0.01729636 - time (sec): 1.58 - samples/sec: 9639.16 - lr: 0.000046\n",
            "2023-10-18 07:15:03,451 epoch 19 - iter 4/4 - loss 0.01895861 - time (sec): 1.85 - samples/sec: 9674.53 - lr: 0.000046\n",
            "2023-10-18 07:15:03,455 ----------------------------------------------------------------------------------------------------\n",
            "2023-10-18 07:15:03,458 EPOCH 19 done: loss 0.0190 - lr 0.000046\n"
          ]
        },
        {
          "output_type": "stream",
          "name": "stderr",
          "text": [
            "100%|██████████| 1/1 [00:01<00:00,  1.66s/it]"
          ]
        },
        {
          "output_type": "stream",
          "name": "stdout",
          "text": [
            "2023-10-18 07:15:05,127 Evaluating as a multi-label problem: False\n",
            "2023-10-18 07:15:05,156 DEV : loss 0.2707056701183319 - f1-score (micro avg)  0.8009\n",
            "2023-10-18 07:15:05,167 ----------------------------------------------------------------------------------------------------\n"
          ]
        },
        {
          "output_type": "stream",
          "name": "stderr",
          "text": [
            "\n"
          ]
        },
        {
          "output_type": "stream",
          "name": "stdout",
          "text": [
            "2023-10-18 07:15:05,818 epoch 20 - iter 1/4 - loss 0.01057779 - time (sec): 0.65 - samples/sec: 8844.21 - lr: 0.000046\n",
            "2023-10-18 07:15:06,198 epoch 20 - iter 2/4 - loss 0.01264559 - time (sec): 1.03 - samples/sec: 9829.74 - lr: 0.000046\n",
            "2023-10-18 07:15:06,572 epoch 20 - iter 3/4 - loss 0.01961936 - time (sec): 1.40 - samples/sec: 10727.08 - lr: 0.000046\n",
            "2023-10-18 07:15:06,823 epoch 20 - iter 4/4 - loss 0.01806770 - time (sec): 1.65 - samples/sec: 10849.72 - lr: 0.000046\n",
            "2023-10-18 07:15:06,825 ----------------------------------------------------------------------------------------------------\n",
            "2023-10-18 07:15:06,829 EPOCH 20 done: loss 0.0181 - lr 0.000046\n"
          ]
        },
        {
          "output_type": "stream",
          "name": "stderr",
          "text": [
            "100%|██████████| 1/1 [00:00<00:00,  1.09it/s]"
          ]
        },
        {
          "output_type": "stream",
          "name": "stdout",
          "text": [
            "2023-10-18 07:15:07,757 Evaluating as a multi-label problem: False\n",
            "2023-10-18 07:15:07,776 DEV : loss 0.2837480902671814 - f1-score (micro avg)  0.7815\n",
            "2023-10-18 07:15:07,784 ----------------------------------------------------------------------------------------------------\n"
          ]
        },
        {
          "output_type": "stream",
          "name": "stderr",
          "text": [
            "\n"
          ]
        },
        {
          "output_type": "stream",
          "name": "stdout",
          "text": [
            "2023-10-18 07:15:08,189 epoch 21 - iter 1/4 - loss 0.00981489 - time (sec): 0.40 - samples/sec: 12189.37 - lr: 0.000046\n",
            "2023-10-18 07:15:08,661 epoch 21 - iter 2/4 - loss 0.01316866 - time (sec): 0.87 - samples/sec: 12003.34 - lr: 0.000045\n",
            "2023-10-18 07:15:08,990 epoch 21 - iter 3/4 - loss 0.01378579 - time (sec): 1.20 - samples/sec: 12073.81 - lr: 0.000045\n",
            "2023-10-18 07:15:09,269 epoch 21 - iter 4/4 - loss 0.01456267 - time (sec): 1.48 - samples/sec: 12114.75 - lr: 0.000045\n",
            "2023-10-18 07:15:09,272 ----------------------------------------------------------------------------------------------------\n",
            "2023-10-18 07:15:09,274 EPOCH 21 done: loss 0.0146 - lr 0.000045\n"
          ]
        },
        {
          "output_type": "stream",
          "name": "stderr",
          "text": [
            "100%|██████████| 1/1 [00:00<00:00,  1.11it/s]"
          ]
        },
        {
          "output_type": "stream",
          "name": "stdout",
          "text": [
            "2023-10-18 07:15:10,189 Evaluating as a multi-label problem: False\n",
            "2023-10-18 07:15:10,205 DEV : loss 0.3142551779747009 - f1-score (micro avg)  0.8135\n",
            "2023-10-18 07:15:10,212 ----------------------------------------------------------------------------------------------------\n"
          ]
        },
        {
          "output_type": "stream",
          "name": "stderr",
          "text": [
            "\n"
          ]
        },
        {
          "output_type": "stream",
          "name": "stdout",
          "text": [
            "2023-10-18 07:15:10,634 epoch 22 - iter 1/4 - loss 0.01305685 - time (sec): 0.42 - samples/sec: 12760.66 - lr: 0.000045\n",
            "2023-10-18 07:15:11,365 epoch 22 - iter 2/4 - loss 0.01622005 - time (sec): 1.15 - samples/sec: 8769.19 - lr: 0.000045\n",
            "2023-10-18 07:15:11,774 epoch 22 - iter 3/4 - loss 0.01382720 - time (sec): 1.56 - samples/sec: 9420.54 - lr: 0.000045\n",
            "2023-10-18 07:15:12,060 epoch 22 - iter 4/4 - loss 0.01425471 - time (sec): 1.85 - samples/sec: 9711.80 - lr: 0.000045\n",
            "2023-10-18 07:15:12,063 ----------------------------------------------------------------------------------------------------\n",
            "2023-10-18 07:15:12,066 EPOCH 22 done: loss 0.0143 - lr 0.000045\n"
          ]
        },
        {
          "output_type": "stream",
          "name": "stderr",
          "text": [
            "100%|██████████| 1/1 [00:00<00:00,  1.08it/s]"
          ]
        },
        {
          "output_type": "stream",
          "name": "stdout",
          "text": [
            "2023-10-18 07:15:13,004 Evaluating as a multi-label problem: False\n",
            "2023-10-18 07:15:13,021 DEV : loss 0.27955740690231323 - f1-score (micro avg)  0.7699\n",
            "2023-10-18 07:15:13,028 ----------------------------------------------------------------------------------------------------\n"
          ]
        },
        {
          "output_type": "stream",
          "name": "stderr",
          "text": [
            "\n"
          ]
        },
        {
          "output_type": "stream",
          "name": "stdout",
          "text": [
            "2023-10-18 07:15:13,416 epoch 23 - iter 1/4 - loss 0.01972183 - time (sec): 0.39 - samples/sec: 12261.86 - lr: 0.000045\n",
            "2023-10-18 07:15:13,826 epoch 23 - iter 2/4 - loss 0.01518394 - time (sec): 0.80 - samples/sec: 11745.29 - lr: 0.000045\n",
            "2023-10-18 07:15:14,278 epoch 23 - iter 3/4 - loss 0.01232079 - time (sec): 1.25 - samples/sec: 11991.97 - lr: 0.000044\n",
            "2023-10-18 07:15:14,520 epoch 23 - iter 4/4 - loss 0.01246556 - time (sec): 1.49 - samples/sec: 12039.37 - lr: 0.000044\n",
            "2023-10-18 07:15:14,523 ----------------------------------------------------------------------------------------------------\n",
            "2023-10-18 07:15:14,525 EPOCH 23 done: loss 0.0125 - lr 0.000044\n"
          ]
        },
        {
          "output_type": "stream",
          "name": "stderr",
          "text": [
            "100%|██████████| 1/1 [00:00<00:00,  1.07it/s]"
          ]
        },
        {
          "output_type": "stream",
          "name": "stdout",
          "text": [
            "2023-10-18 07:15:15,468 Evaluating as a multi-label problem: False\n",
            "2023-10-18 07:15:15,484 DEV : loss 0.31052520871162415 - f1-score (micro avg)  0.8064\n",
            "2023-10-18 07:15:15,492 ----------------------------------------------------------------------------------------------------\n"
          ]
        },
        {
          "output_type": "stream",
          "name": "stderr",
          "text": [
            "\n"
          ]
        },
        {
          "output_type": "stream",
          "name": "stdout",
          "text": [
            "2023-10-18 07:15:15,919 epoch 24 - iter 1/4 - loss 0.00858480 - time (sec): 0.43 - samples/sec: 11447.84 - lr: 0.000044\n",
            "2023-10-18 07:15:16,473 epoch 24 - iter 2/4 - loss 0.00755986 - time (sec): 0.98 - samples/sec: 10296.02 - lr: 0.000044\n",
            "2023-10-18 07:15:16,993 epoch 24 - iter 3/4 - loss 0.00822563 - time (sec): 1.50 - samples/sec: 10166.37 - lr: 0.000044\n",
            "2023-10-18 07:15:17,270 epoch 24 - iter 4/4 - loss 0.00910390 - time (sec): 1.78 - samples/sec: 10096.69 - lr: 0.000044\n",
            "2023-10-18 07:15:17,274 ----------------------------------------------------------------------------------------------------\n",
            "2023-10-18 07:15:17,277 EPOCH 24 done: loss 0.0091 - lr 0.000044\n"
          ]
        },
        {
          "output_type": "stream",
          "name": "stderr",
          "text": [
            "100%|██████████| 1/1 [00:01<00:00,  1.77s/it]"
          ]
        },
        {
          "output_type": "stream",
          "name": "stdout",
          "text": [
            "2023-10-18 07:15:19,062 Evaluating as a multi-label problem: False\n",
            "2023-10-18 07:15:19,093 DEV : loss 0.27704504132270813 - f1-score (micro avg)  0.7903\n",
            "2023-10-18 07:15:19,107 ----------------------------------------------------------------------------------------------------\n"
          ]
        },
        {
          "output_type": "stream",
          "name": "stderr",
          "text": [
            "\n"
          ]
        },
        {
          "output_type": "stream",
          "name": "stdout",
          "text": [
            "2023-10-18 07:15:19,617 epoch 25 - iter 1/4 - loss 0.00860158 - time (sec): 0.50 - samples/sec: 8766.90 - lr: 0.000044\n",
            "2023-10-18 07:15:20,104 epoch 25 - iter 2/4 - loss 0.00925296 - time (sec): 0.99 - samples/sec: 9317.01 - lr: 0.000044\n",
            "2023-10-18 07:15:20,648 epoch 25 - iter 3/4 - loss 0.00742626 - time (sec): 1.54 - samples/sec: 9320.55 - lr: 0.000043\n",
            "2023-10-18 07:15:20,995 epoch 25 - iter 4/4 - loss 0.00840217 - time (sec): 1.88 - samples/sec: 9536.59 - lr: 0.000043\n",
            "2023-10-18 07:15:21,001 ----------------------------------------------------------------------------------------------------\n",
            "2023-10-18 07:15:21,002 EPOCH 25 done: loss 0.0084 - lr 0.000043\n"
          ]
        },
        {
          "output_type": "stream",
          "name": "stderr",
          "text": [
            "100%|██████████| 1/1 [00:01<00:00,  1.63s/it]"
          ]
        },
        {
          "output_type": "stream",
          "name": "stdout",
          "text": [
            "2023-10-18 07:15:22,645 Evaluating as a multi-label problem: False\n",
            "2023-10-18 07:15:22,661 DEV : loss 0.31835097074508667 - f1-score (micro avg)  0.823\n",
            "2023-10-18 07:15:22,668 ----------------------------------------------------------------------------------------------------\n"
          ]
        },
        {
          "output_type": "stream",
          "name": "stderr",
          "text": [
            "\n"
          ]
        },
        {
          "output_type": "stream",
          "name": "stdout",
          "text": [
            "2023-10-18 07:15:23,094 epoch 26 - iter 1/4 - loss 0.00807565 - time (sec): 0.42 - samples/sec: 11620.80 - lr: 0.000043\n",
            "2023-10-18 07:15:23,486 epoch 26 - iter 2/4 - loss 0.00567213 - time (sec): 0.82 - samples/sec: 11362.28 - lr: 0.000043\n",
            "2023-10-18 07:15:23,943 epoch 26 - iter 3/4 - loss 0.00583894 - time (sec): 1.27 - samples/sec: 11876.20 - lr: 0.000043\n",
            "2023-10-18 07:15:24,166 epoch 26 - iter 4/4 - loss 0.00619285 - time (sec): 1.50 - samples/sec: 11991.64 - lr: 0.000043\n",
            "2023-10-18 07:15:24,168 ----------------------------------------------------------------------------------------------------\n",
            "2023-10-18 07:15:24,172 EPOCH 26 done: loss 0.0062 - lr 0.000043\n"
          ]
        },
        {
          "output_type": "stream",
          "name": "stderr",
          "text": [
            "100%|██████████| 1/1 [00:00<00:00,  1.13it/s]"
          ]
        },
        {
          "output_type": "stream",
          "name": "stdout",
          "text": [
            "2023-10-18 07:15:25,071 Evaluating as a multi-label problem: False\n",
            "2023-10-18 07:15:25,089 DEV : loss 0.2985176742076874 - f1-score (micro avg)  0.8201\n",
            "2023-10-18 07:15:25,098 ----------------------------------------------------------------------------------------------------\n"
          ]
        },
        {
          "output_type": "stream",
          "name": "stderr",
          "text": [
            "\n"
          ]
        },
        {
          "output_type": "stream",
          "name": "stdout",
          "text": [
            "2023-10-18 07:15:25,827 epoch 27 - iter 1/4 - loss 0.00294956 - time (sec): 0.73 - samples/sec: 6512.59 - lr: 0.000043\n",
            "2023-10-18 07:15:26,266 epoch 27 - iter 2/4 - loss 0.00300782 - time (sec): 1.17 - samples/sec: 8805.33 - lr: 0.000043\n",
            "2023-10-18 07:15:26,634 epoch 27 - iter 3/4 - loss 0.00391248 - time (sec): 1.54 - samples/sec: 9754.79 - lr: 0.000042\n",
            "2023-10-18 07:15:26,932 epoch 27 - iter 4/4 - loss 0.00439622 - time (sec): 1.83 - samples/sec: 9788.59 - lr: 0.000042\n",
            "2023-10-18 07:15:26,934 ----------------------------------------------------------------------------------------------------\n",
            "2023-10-18 07:15:26,938 EPOCH 27 done: loss 0.0044 - lr 0.000042\n"
          ]
        },
        {
          "output_type": "stream",
          "name": "stderr",
          "text": [
            "100%|██████████| 1/1 [00:00<00:00,  1.07it/s]"
          ]
        },
        {
          "output_type": "stream",
          "name": "stdout",
          "text": [
            "2023-10-18 07:15:27,879 Evaluating as a multi-label problem: False\n",
            "2023-10-18 07:15:27,895 DEV : loss 0.31370437145233154 - f1-score (micro avg)  0.8298\n",
            "2023-10-18 07:15:27,902 ----------------------------------------------------------------------------------------------------\n"
          ]
        },
        {
          "output_type": "stream",
          "name": "stderr",
          "text": [
            "\n"
          ]
        },
        {
          "output_type": "stream",
          "name": "stdout",
          "text": [
            "2023-10-18 07:15:28,288 epoch 28 - iter 1/4 - loss 0.00498898 - time (sec): 0.39 - samples/sec: 11653.08 - lr: 0.000042\n",
            "2023-10-18 07:15:28,735 epoch 28 - iter 2/4 - loss 0.00473407 - time (sec): 0.83 - samples/sec: 11028.63 - lr: 0.000042\n",
            "2023-10-18 07:15:29,146 epoch 28 - iter 3/4 - loss 0.00468112 - time (sec): 1.24 - samples/sec: 11902.64 - lr: 0.000042\n",
            "2023-10-18 07:15:29,409 epoch 28 - iter 4/4 - loss 0.00437703 - time (sec): 1.51 - samples/sec: 11915.47 - lr: 0.000042\n",
            "2023-10-18 07:15:29,411 ----------------------------------------------------------------------------------------------------\n",
            "2023-10-18 07:15:29,414 EPOCH 28 done: loss 0.0044 - lr 0.000042\n"
          ]
        },
        {
          "output_type": "stream",
          "name": "stderr",
          "text": [
            "100%|██████████| 1/1 [00:00<00:00,  1.10it/s]"
          ]
        },
        {
          "output_type": "stream",
          "name": "stdout",
          "text": [
            "2023-10-18 07:15:30,336 Evaluating as a multi-label problem: False\n",
            "2023-10-18 07:15:30,355 DEV : loss 0.3362366855144501 - f1-score (micro avg)  0.8087\n",
            "2023-10-18 07:15:30,364 ----------------------------------------------------------------------------------------------------\n"
          ]
        },
        {
          "output_type": "stream",
          "name": "stderr",
          "text": [
            "\n"
          ]
        },
        {
          "output_type": "stream",
          "name": "stdout",
          "text": [
            "2023-10-18 07:15:30,845 epoch 29 - iter 1/4 - loss 0.00413994 - time (sec): 0.48 - samples/sec: 11749.88 - lr: 0.000042\n",
            "2023-10-18 07:15:31,169 epoch 29 - iter 2/4 - loss 0.00429141 - time (sec): 0.80 - samples/sec: 12324.42 - lr: 0.000042\n",
            "2023-10-18 07:15:31,596 epoch 29 - iter 3/4 - loss 0.00411941 - time (sec): 1.23 - samples/sec: 12265.96 - lr: 0.000041\n",
            "2023-10-18 07:15:31,845 epoch 29 - iter 4/4 - loss 0.00481324 - time (sec): 1.48 - samples/sec: 12133.69 - lr: 0.000041\n",
            "2023-10-18 07:15:31,847 ----------------------------------------------------------------------------------------------------\n",
            "2023-10-18 07:15:31,850 EPOCH 29 done: loss 0.0048 - lr 0.000041\n"
          ]
        },
        {
          "output_type": "stream",
          "name": "stderr",
          "text": [
            "100%|██████████| 1/1 [00:01<00:00,  1.23s/it]"
          ]
        },
        {
          "output_type": "stream",
          "name": "stdout",
          "text": [
            "2023-10-18 07:15:33,089 Evaluating as a multi-label problem: False\n",
            "2023-10-18 07:15:33,130 DEV : loss 0.36257216334342957 - f1-score (micro avg)  0.8219\n",
            "2023-10-18 07:15:33,141 ----------------------------------------------------------------------------------------------------\n"
          ]
        },
        {
          "output_type": "stream",
          "name": "stderr",
          "text": [
            "\n"
          ]
        },
        {
          "output_type": "stream",
          "name": "stdout",
          "text": [
            "2023-10-18 07:15:33,696 epoch 30 - iter 1/4 - loss 0.00264941 - time (sec): 0.55 - samples/sec: 9801.68 - lr: 0.000041\n",
            "2023-10-18 07:15:34,208 epoch 30 - iter 2/4 - loss 0.00502763 - time (sec): 1.06 - samples/sec: 9607.01 - lr: 0.000041\n",
            "2023-10-18 07:15:34,786 epoch 30 - iter 3/4 - loss 0.00504404 - time (sec): 1.64 - samples/sec: 9333.18 - lr: 0.000041\n",
            "2023-10-18 07:15:35,113 epoch 30 - iter 4/4 - loss 0.00471898 - time (sec): 1.97 - samples/sec: 9107.83 - lr: 0.000041\n",
            "2023-10-18 07:15:35,119 ----------------------------------------------------------------------------------------------------\n",
            "2023-10-18 07:15:35,121 EPOCH 30 done: loss 0.0047 - lr 0.000041\n"
          ]
        },
        {
          "output_type": "stream",
          "name": "stderr",
          "text": [
            "100%|██████████| 1/1 [00:01<00:00,  1.76s/it]"
          ]
        },
        {
          "output_type": "stream",
          "name": "stdout",
          "text": [
            "2023-10-18 07:15:36,893 Evaluating as a multi-label problem: False\n",
            "2023-10-18 07:15:36,921 DEV : loss 0.3134951591491699 - f1-score (micro avg)  0.8172\n",
            "2023-10-18 07:15:36,933 ----------------------------------------------------------------------------------------------------\n"
          ]
        },
        {
          "output_type": "stream",
          "name": "stderr",
          "text": [
            "\n"
          ]
        },
        {
          "output_type": "stream",
          "name": "stdout",
          "text": [
            "2023-10-18 07:15:37,525 epoch 31 - iter 1/4 - loss 0.00543244 - time (sec): 0.59 - samples/sec: 9309.36 - lr: 0.000041\n",
            "2023-10-18 07:15:37,975 epoch 31 - iter 2/4 - loss 0.00490918 - time (sec): 1.04 - samples/sec: 9725.99 - lr: 0.000041\n",
            "2023-10-18 07:15:38,453 epoch 31 - iter 3/4 - loss 0.00411306 - time (sec): 1.52 - samples/sec: 9353.68 - lr: 0.000041\n",
            "2023-10-18 07:15:38,793 epoch 31 - iter 4/4 - loss 0.00439181 - time (sec): 1.86 - samples/sec: 9657.53 - lr: 0.000040\n",
            "2023-10-18 07:15:38,796 ----------------------------------------------------------------------------------------------------\n",
            "2023-10-18 07:15:38,798 EPOCH 31 done: loss 0.0044 - lr 0.000040\n"
          ]
        },
        {
          "output_type": "stream",
          "name": "stderr",
          "text": [
            "100%|██████████| 1/1 [00:01<00:00,  1.18s/it]"
          ]
        },
        {
          "output_type": "stream",
          "name": "stdout",
          "text": [
            "2023-10-18 07:15:39,993 Evaluating as a multi-label problem: False\n",
            "2023-10-18 07:15:40,010 DEV : loss 0.3229198753833771 - f1-score (micro avg)  0.8225\n",
            "2023-10-18 07:15:40,018 ----------------------------------------------------------------------------------------------------\n"
          ]
        },
        {
          "output_type": "stream",
          "name": "stderr",
          "text": [
            "\n"
          ]
        },
        {
          "output_type": "stream",
          "name": "stdout",
          "text": [
            "2023-10-18 07:15:40,430 epoch 32 - iter 1/4 - loss 0.00488796 - time (sec): 0.41 - samples/sec: 13337.62 - lr: 0.000040\n",
            "2023-10-18 07:15:41,163 epoch 32 - iter 2/4 - loss 0.00486513 - time (sec): 1.14 - samples/sec: 8681.69 - lr: 0.000040\n",
            "2023-10-18 07:15:41,622 epoch 32 - iter 3/4 - loss 0.00452843 - time (sec): 1.60 - samples/sec: 9095.83 - lr: 0.000040\n",
            "2023-10-18 07:15:41,883 epoch 32 - iter 4/4 - loss 0.00432119 - time (sec): 1.86 - samples/sec: 9622.55 - lr: 0.000040\n",
            "2023-10-18 07:15:41,886 ----------------------------------------------------------------------------------------------------\n",
            "2023-10-18 07:15:41,889 EPOCH 32 done: loss 0.0043 - lr 0.000040\n"
          ]
        },
        {
          "output_type": "stream",
          "name": "stderr",
          "text": [
            "100%|██████████| 1/1 [00:00<00:00,  1.10it/s]"
          ]
        },
        {
          "output_type": "stream",
          "name": "stdout",
          "text": [
            "2023-10-18 07:15:42,809 Evaluating as a multi-label problem: False\n",
            "2023-10-18 07:15:42,835 DEV : loss 0.3078605532646179 - f1-score (micro avg)  0.7939\n",
            "2023-10-18 07:15:42,846 ----------------------------------------------------------------------------------------------------\n"
          ]
        },
        {
          "output_type": "stream",
          "name": "stderr",
          "text": [
            "\n"
          ]
        },
        {
          "output_type": "stream",
          "name": "stdout",
          "text": [
            "2023-10-18 07:15:43,300 epoch 33 - iter 1/4 - loss 0.00327930 - time (sec): 0.45 - samples/sec: 11191.35 - lr: 0.000040\n",
            "2023-10-18 07:15:43,706 epoch 33 - iter 2/4 - loss 0.00338338 - time (sec): 0.86 - samples/sec: 11269.70 - lr: 0.000040\n",
            "2023-10-18 07:15:44,094 epoch 33 - iter 3/4 - loss 0.00301925 - time (sec): 1.25 - samples/sec: 11707.57 - lr: 0.000040\n",
            "2023-10-18 07:15:44,345 epoch 33 - iter 4/4 - loss 0.00318481 - time (sec): 1.50 - samples/sec: 11981.34 - lr: 0.000039\n",
            "2023-10-18 07:15:44,347 ----------------------------------------------------------------------------------------------------\n",
            "2023-10-18 07:15:44,350 EPOCH 33 done: loss 0.0032 - lr 0.000039\n"
          ]
        },
        {
          "output_type": "stream",
          "name": "stderr",
          "text": [
            "100%|██████████| 1/1 [00:00<00:00,  1.16it/s]"
          ]
        },
        {
          "output_type": "stream",
          "name": "stdout",
          "text": [
            "2023-10-18 07:15:45,227 Evaluating as a multi-label problem: False\n",
            "2023-10-18 07:15:45,243 DEV : loss 0.39263200759887695 - f1-score (micro avg)  0.8024\n",
            "2023-10-18 07:15:45,251 ----------------------------------------------------------------------------------------------------\n"
          ]
        },
        {
          "output_type": "stream",
          "name": "stderr",
          "text": [
            "\n"
          ]
        },
        {
          "output_type": "stream",
          "name": "stdout",
          "text": [
            "2023-10-18 07:15:45,667 epoch 34 - iter 1/4 - loss 0.00322276 - time (sec): 0.41 - samples/sec: 11830.79 - lr: 0.000039\n",
            "2023-10-18 07:15:46,034 epoch 34 - iter 2/4 - loss 0.00417993 - time (sec): 0.78 - samples/sec: 12158.37 - lr: 0.000039\n",
            "2023-10-18 07:15:46,499 epoch 34 - iter 3/4 - loss 0.00460580 - time (sec): 1.25 - samples/sec: 12094.61 - lr: 0.000039\n",
            "2023-10-18 07:15:46,743 epoch 34 - iter 4/4 - loss 0.00436602 - time (sec): 1.49 - samples/sec: 12029.27 - lr: 0.000039\n",
            "2023-10-18 07:15:46,745 ----------------------------------------------------------------------------------------------------\n",
            "2023-10-18 07:15:46,749 EPOCH 34 done: loss 0.0044 - lr 0.000039\n"
          ]
        },
        {
          "output_type": "stream",
          "name": "stderr",
          "text": [
            "100%|██████████| 1/1 [00:00<00:00,  1.12it/s]"
          ]
        },
        {
          "output_type": "stream",
          "name": "stdout",
          "text": [
            "2023-10-18 07:15:47,654 Evaluating as a multi-label problem: False\n",
            "2023-10-18 07:15:47,672 DEV : loss 0.32753077149391174 - f1-score (micro avg)  0.822\n",
            "2023-10-18 07:15:47,678 ----------------------------------------------------------------------------------------------------\n"
          ]
        },
        {
          "output_type": "stream",
          "name": "stderr",
          "text": [
            "\n"
          ]
        },
        {
          "output_type": "stream",
          "name": "stdout",
          "text": [
            "2023-10-18 07:15:48,126 epoch 35 - iter 1/4 - loss 0.00295026 - time (sec): 0.45 - samples/sec: 10478.75 - lr: 0.000039\n",
            "2023-10-18 07:15:48,537 epoch 35 - iter 2/4 - loss 0.00288461 - time (sec): 0.86 - samples/sec: 11210.42 - lr: 0.000039\n",
            "2023-10-18 07:15:48,925 epoch 35 - iter 3/4 - loss 0.00311574 - time (sec): 1.25 - samples/sec: 11689.26 - lr: 0.000039\n",
            "2023-10-18 07:15:49,195 epoch 35 - iter 4/4 - loss 0.00303762 - time (sec): 1.52 - samples/sec: 11839.60 - lr: 0.000038\n",
            "2023-10-18 07:15:49,198 ----------------------------------------------------------------------------------------------------\n",
            "2023-10-18 07:15:49,201 EPOCH 35 done: loss 0.0030 - lr 0.000038\n"
          ]
        },
        {
          "output_type": "stream",
          "name": "stderr",
          "text": [
            "100%|██████████| 1/1 [00:01<00:00,  1.66s/it]"
          ]
        },
        {
          "output_type": "stream",
          "name": "stdout",
          "text": [
            "2023-10-18 07:15:50,870 Evaluating as a multi-label problem: False\n",
            "2023-10-18 07:15:50,896 DEV : loss 0.3442530930042267 - f1-score (micro avg)  0.8171\n",
            "2023-10-18 07:15:50,906 ----------------------------------------------------------------------------------------------------\n"
          ]
        },
        {
          "output_type": "stream",
          "name": "stderr",
          "text": [
            "\n"
          ]
        },
        {
          "output_type": "stream",
          "name": "stdout",
          "text": [
            "2023-10-18 07:15:51,425 epoch 36 - iter 1/4 - loss 0.00452259 - time (sec): 0.52 - samples/sec: 9661.45 - lr: 0.000038\n",
            "2023-10-18 07:15:51,903 epoch 36 - iter 2/4 - loss 0.00330355 - time (sec): 0.99 - samples/sec: 9707.65 - lr: 0.000038\n",
            "2023-10-18 07:15:52,364 epoch 36 - iter 3/4 - loss 0.00382801 - time (sec): 1.46 - samples/sec: 9965.91 - lr: 0.000038\n",
            "2023-10-18 07:15:52,744 epoch 36 - iter 4/4 - loss 0.00335256 - time (sec): 1.84 - samples/sec: 9772.64 - lr: 0.000038\n",
            "2023-10-18 07:15:52,748 ----------------------------------------------------------------------------------------------------\n",
            "2023-10-18 07:15:52,750 EPOCH 36 done: loss 0.0034 - lr 0.000038\n"
          ]
        },
        {
          "output_type": "stream",
          "name": "stderr",
          "text": [
            "100%|██████████| 1/1 [00:01<00:00,  1.73s/it]"
          ]
        },
        {
          "output_type": "stream",
          "name": "stdout",
          "text": [
            "2023-10-18 07:15:54,495 Evaluating as a multi-label problem: False\n",
            "2023-10-18 07:15:54,521 DEV : loss 0.3279556334018707 - f1-score (micro avg)  0.8389\n",
            "2023-10-18 07:15:54,533 ----------------------------------------------------------------------------------------------------\n"
          ]
        },
        {
          "output_type": "stream",
          "name": "stderr",
          "text": [
            "\n"
          ]
        },
        {
          "output_type": "stream",
          "name": "stdout",
          "text": [
            "2023-10-18 07:15:55,479 epoch 37 - iter 1/4 - loss 0.00111145 - time (sec): 0.94 - samples/sec: 5095.50 - lr: 0.000038\n",
            "2023-10-18 07:15:56,067 epoch 37 - iter 2/4 - loss 0.00215062 - time (sec): 1.53 - samples/sec: 6625.75 - lr: 0.000038\n",
            "2023-10-18 07:15:56,600 epoch 37 - iter 3/4 - loss 0.00206036 - time (sec): 2.06 - samples/sec: 7228.70 - lr: 0.000038\n",
            "2023-10-18 07:15:56,852 epoch 37 - iter 4/4 - loss 0.00312889 - time (sec): 2.31 - samples/sec: 7751.71 - lr: 0.000037\n",
            "2023-10-18 07:15:56,854 ----------------------------------------------------------------------------------------------------\n",
            "2023-10-18 07:15:56,858 EPOCH 37 done: loss 0.0031 - lr 0.000037\n"
          ]
        },
        {
          "output_type": "stream",
          "name": "stderr",
          "text": [
            "100%|██████████| 1/1 [00:00<00:00,  1.11it/s]"
          ]
        },
        {
          "output_type": "stream",
          "name": "stdout",
          "text": [
            "2023-10-18 07:15:57,775 Evaluating as a multi-label problem: False\n",
            "2023-10-18 07:15:57,793 DEV : loss 0.36498594284057617 - f1-score (micro avg)  0.8051\n",
            "2023-10-18 07:15:57,801 ----------------------------------------------------------------------------------------------------\n"
          ]
        },
        {
          "output_type": "stream",
          "name": "stderr",
          "text": [
            "\n"
          ]
        },
        {
          "output_type": "stream",
          "name": "stdout",
          "text": [
            "2023-10-18 07:15:58,288 epoch 38 - iter 1/4 - loss 0.00161337 - time (sec): 0.48 - samples/sec: 11337.07 - lr: 0.000037\n",
            "2023-10-18 07:15:58,665 epoch 38 - iter 2/4 - loss 0.00184273 - time (sec): 0.86 - samples/sec: 12088.88 - lr: 0.000037\n",
            "2023-10-18 07:15:59,074 epoch 38 - iter 3/4 - loss 0.00161552 - time (sec): 1.27 - samples/sec: 12057.22 - lr: 0.000037\n",
            "2023-10-18 07:15:59,275 epoch 38 - iter 4/4 - loss 0.00247179 - time (sec): 1.47 - samples/sec: 12188.45 - lr: 0.000037\n",
            "2023-10-18 07:15:59,277 ----------------------------------------------------------------------------------------------------\n",
            "2023-10-18 07:15:59,282 EPOCH 38 done: loss 0.0025 - lr 0.000037\n"
          ]
        },
        {
          "output_type": "stream",
          "name": "stderr",
          "text": [
            "100%|██████████| 1/1 [00:00<00:00,  1.13it/s]"
          ]
        },
        {
          "output_type": "stream",
          "name": "stdout",
          "text": [
            "2023-10-18 07:16:00,179 Evaluating as a multi-label problem: False\n",
            "2023-10-18 07:16:00,196 DEV : loss 0.363710880279541 - f1-score (micro avg)  0.8223\n",
            "2023-10-18 07:16:00,204 ----------------------------------------------------------------------------------------------------\n"
          ]
        },
        {
          "output_type": "stream",
          "name": "stderr",
          "text": [
            "\n"
          ]
        },
        {
          "output_type": "stream",
          "name": "stdout",
          "text": [
            "2023-10-18 07:16:00,667 epoch 39 - iter 1/4 - loss 0.00118431 - time (sec): 0.46 - samples/sec: 9949.03 - lr: 0.000037\n",
            "2023-10-18 07:16:01,076 epoch 39 - iter 2/4 - loss 0.00143351 - time (sec): 0.87 - samples/sec: 11472.14 - lr: 0.000037\n",
            "2023-10-18 07:16:01,468 epoch 39 - iter 3/4 - loss 0.00218264 - time (sec): 1.26 - samples/sec: 11916.37 - lr: 0.000037\n",
            "2023-10-18 07:16:01,714 epoch 39 - iter 4/4 - loss 0.00222194 - time (sec): 1.51 - samples/sec: 11890.40 - lr: 0.000036\n",
            "2023-10-18 07:16:01,716 ----------------------------------------------------------------------------------------------------\n",
            "2023-10-18 07:16:01,719 EPOCH 39 done: loss 0.0022 - lr 0.000036\n"
          ]
        },
        {
          "output_type": "stream",
          "name": "stderr",
          "text": [
            "100%|██████████| 1/1 [00:00<00:00,  1.11it/s]"
          ]
        },
        {
          "output_type": "stream",
          "name": "stdout",
          "text": [
            "2023-10-18 07:16:02,635 Evaluating as a multi-label problem: False\n",
            "2023-10-18 07:16:02,652 DEV : loss 0.3462221324443817 - f1-score (micro avg)  0.847\n",
            "2023-10-18 07:16:02,659 ----------------------------------------------------------------------------------------------------\n"
          ]
        },
        {
          "output_type": "stream",
          "name": "stderr",
          "text": [
            "\n"
          ]
        },
        {
          "output_type": "stream",
          "name": "stdout",
          "text": [
            "2023-10-18 07:16:03,074 epoch 40 - iter 1/4 - loss 0.00238442 - time (sec): 0.41 - samples/sec: 11483.15 - lr: 0.000036\n",
            "2023-10-18 07:16:03,487 epoch 40 - iter 2/4 - loss 0.00220857 - time (sec): 0.83 - samples/sec: 11883.84 - lr: 0.000036\n",
            "2023-10-18 07:16:03,874 epoch 40 - iter 3/4 - loss 0.00234182 - time (sec): 1.21 - samples/sec: 11999.39 - lr: 0.000036\n",
            "2023-10-18 07:16:04,173 epoch 40 - iter 4/4 - loss 0.00238384 - time (sec): 1.51 - samples/sec: 11859.42 - lr: 0.000036\n",
            "2023-10-18 07:16:04,175 ----------------------------------------------------------------------------------------------------\n",
            "2023-10-18 07:16:04,180 EPOCH 40 done: loss 0.0024 - lr 0.000036\n"
          ]
        },
        {
          "output_type": "stream",
          "name": "stderr",
          "text": [
            "100%|██████████| 1/1 [00:00<00:00,  1.09it/s]"
          ]
        },
        {
          "output_type": "stream",
          "name": "stdout",
          "text": [
            "2023-10-18 07:16:05,116 Evaluating as a multi-label problem: False\n",
            "2023-10-18 07:16:05,133 DEV : loss 0.3782063126564026 - f1-score (micro avg)  0.8327\n",
            "2023-10-18 07:16:05,141 ----------------------------------------------------------------------------------------------------\n"
          ]
        },
        {
          "output_type": "stream",
          "name": "stderr",
          "text": [
            "\n"
          ]
        },
        {
          "output_type": "stream",
          "name": "stdout",
          "text": [
            "2023-10-18 07:16:05,511 epoch 41 - iter 1/4 - loss 0.00173930 - time (sec): 0.37 - samples/sec: 12359.07 - lr: 0.000036\n",
            "2023-10-18 07:16:05,972 epoch 41 - iter 2/4 - loss 0.00260539 - time (sec): 0.83 - samples/sec: 12045.87 - lr: 0.000036\n",
            "2023-10-18 07:16:06,357 epoch 41 - iter 3/4 - loss 0.00260652 - time (sec): 1.22 - samples/sec: 12565.52 - lr: 0.000036\n",
            "2023-10-18 07:16:06,664 epoch 41 - iter 4/4 - loss 0.00231869 - time (sec): 1.52 - samples/sec: 11790.02 - lr: 0.000036\n",
            "2023-10-18 07:16:06,668 ----------------------------------------------------------------------------------------------------\n",
            "2023-10-18 07:16:06,670 EPOCH 41 done: loss 0.0023 - lr 0.000036\n"
          ]
        },
        {
          "output_type": "stream",
          "name": "stderr",
          "text": [
            "100%|██████████| 1/1 [00:01<00:00,  1.83s/it]"
          ]
        },
        {
          "output_type": "stream",
          "name": "stdout",
          "text": [
            "2023-10-18 07:16:08,503 Evaluating as a multi-label problem: False\n",
            "2023-10-18 07:16:08,534 DEV : loss 0.3830019235610962 - f1-score (micro avg)  0.8201\n",
            "2023-10-18 07:16:08,547 ----------------------------------------------------------------------------------------------------\n"
          ]
        },
        {
          "output_type": "stream",
          "name": "stderr",
          "text": [
            "\n"
          ]
        },
        {
          "output_type": "stream",
          "name": "stdout",
          "text": [
            "2023-10-18 07:16:09,074 epoch 42 - iter 1/4 - loss 0.00143913 - time (sec): 0.52 - samples/sec: 9405.68 - lr: 0.000035\n",
            "2023-10-18 07:16:09,952 epoch 42 - iter 2/4 - loss 0.00116255 - time (sec): 1.40 - samples/sec: 6628.66 - lr: 0.000035\n",
            "2023-10-18 07:16:10,507 epoch 42 - iter 3/4 - loss 0.00098741 - time (sec): 1.96 - samples/sec: 7346.30 - lr: 0.000035\n",
            "2023-10-18 07:16:10,844 epoch 42 - iter 4/4 - loss 0.00097685 - time (sec): 2.29 - samples/sec: 7822.20 - lr: 0.000035\n",
            "2023-10-18 07:16:10,847 ----------------------------------------------------------------------------------------------------\n",
            "2023-10-18 07:16:10,849 EPOCH 42 done: loss 0.0010 - lr 0.000035\n"
          ]
        },
        {
          "output_type": "stream",
          "name": "stderr",
          "text": [
            "100%|██████████| 1/1 [00:01<00:00,  1.67s/it]"
          ]
        },
        {
          "output_type": "stream",
          "name": "stdout",
          "text": [
            "2023-10-18 07:16:12,529 Evaluating as a multi-label problem: False\n",
            "2023-10-18 07:16:12,555 DEV : loss 0.40816548466682434 - f1-score (micro avg)  0.7948\n",
            "2023-10-18 07:16:12,564 ----------------------------------------------------------------------------------------------------\n"
          ]
        },
        {
          "output_type": "stream",
          "name": "stderr",
          "text": [
            "\n"
          ]
        },
        {
          "output_type": "stream",
          "name": "stdout",
          "text": [
            "2023-10-18 07:16:13,125 epoch 43 - iter 1/4 - loss 0.00072514 - time (sec): 0.56 - samples/sec: 9222.83 - lr: 0.000035\n",
            "2023-10-18 07:16:13,569 epoch 43 - iter 2/4 - loss 0.00099792 - time (sec): 1.00 - samples/sec: 9897.20 - lr: 0.000035\n",
            "2023-10-18 07:16:13,971 epoch 43 - iter 3/4 - loss 0.00100920 - time (sec): 1.40 - samples/sec: 10535.13 - lr: 0.000035\n",
            "2023-10-18 07:16:14,234 epoch 43 - iter 4/4 - loss 0.00124528 - time (sec): 1.67 - samples/sec: 10754.63 - lr: 0.000035\n",
            "2023-10-18 07:16:14,237 ----------------------------------------------------------------------------------------------------\n",
            "2023-10-18 07:16:14,240 EPOCH 43 done: loss 0.0012 - lr 0.000035\n"
          ]
        },
        {
          "output_type": "stream",
          "name": "stderr",
          "text": [
            "100%|██████████| 1/1 [00:00<00:00,  1.13it/s]"
          ]
        },
        {
          "output_type": "stream",
          "name": "stdout",
          "text": [
            "2023-10-18 07:16:15,142 Evaluating as a multi-label problem: False\n",
            "2023-10-18 07:16:15,164 DEV : loss 0.4458097219467163 - f1-score (micro avg)  0.8154\n",
            "2023-10-18 07:16:15,177 ----------------------------------------------------------------------------------------------------\n"
          ]
        },
        {
          "output_type": "stream",
          "name": "stderr",
          "text": [
            "\n"
          ]
        },
        {
          "output_type": "stream",
          "name": "stdout",
          "text": [
            "2023-10-18 07:16:15,615 epoch 44 - iter 1/4 - loss 0.00160191 - time (sec): 0.44 - samples/sec: 9178.31 - lr: 0.000034\n",
            "2023-10-18 07:16:16,020 epoch 44 - iter 2/4 - loss 0.00163225 - time (sec): 0.84 - samples/sec: 10920.76 - lr: 0.000034\n",
            "2023-10-18 07:16:16,401 epoch 44 - iter 3/4 - loss 0.00194716 - time (sec): 1.22 - samples/sec: 12224.18 - lr: 0.000034\n",
            "2023-10-18 07:16:16,668 epoch 44 - iter 4/4 - loss 0.00168963 - time (sec): 1.49 - samples/sec: 12044.52 - lr: 0.000034\n",
            "2023-10-18 07:16:16,671 ----------------------------------------------------------------------------------------------------\n",
            "2023-10-18 07:16:16,674 EPOCH 44 done: loss 0.0017 - lr 0.000034\n"
          ]
        },
        {
          "output_type": "stream",
          "name": "stderr",
          "text": [
            "100%|██████████| 1/1 [00:00<00:00,  1.08it/s]"
          ]
        },
        {
          "output_type": "stream",
          "name": "stdout",
          "text": [
            "2023-10-18 07:16:17,612 Evaluating as a multi-label problem: False\n",
            "2023-10-18 07:16:17,636 DEV : loss 0.42761048674583435 - f1-score (micro avg)  0.8156\n",
            "2023-10-18 07:16:17,644 ----------------------------------------------------------------------------------------------------\n"
          ]
        },
        {
          "output_type": "stream",
          "name": "stderr",
          "text": [
            "\n"
          ]
        },
        {
          "output_type": "stream",
          "name": "stdout",
          "text": [
            "2023-10-18 07:16:18,118 epoch 45 - iter 1/4 - loss 0.00183762 - time (sec): 0.47 - samples/sec: 11895.15 - lr: 0.000034\n",
            "2023-10-18 07:16:18,557 epoch 45 - iter 2/4 - loss 0.00125919 - time (sec): 0.91 - samples/sec: 12269.26 - lr: 0.000034\n",
            "2023-10-18 07:16:18,939 epoch 45 - iter 3/4 - loss 0.00114363 - time (sec): 1.29 - samples/sec: 11998.39 - lr: 0.000034\n",
            "2023-10-18 07:16:19,147 epoch 45 - iter 4/4 - loss 0.00105005 - time (sec): 1.50 - samples/sec: 11954.35 - lr: 0.000034\n",
            "2023-10-18 07:16:19,149 ----------------------------------------------------------------------------------------------------\n",
            "2023-10-18 07:16:19,153 EPOCH 45 done: loss 0.0011 - lr 0.000034\n"
          ]
        },
        {
          "output_type": "stream",
          "name": "stderr",
          "text": [
            "100%|██████████| 1/1 [00:00<00:00,  1.12it/s]"
          ]
        },
        {
          "output_type": "stream",
          "name": "stdout",
          "text": [
            "2023-10-18 07:16:20,058 Evaluating as a multi-label problem: False\n",
            "2023-10-18 07:16:20,074 DEV : loss 0.41704463958740234 - f1-score (micro avg)  0.8077\n",
            "2023-10-18 07:16:20,082 ----------------------------------------------------------------------------------------------------\n"
          ]
        },
        {
          "output_type": "stream",
          "name": "stderr",
          "text": [
            "\n"
          ]
        },
        {
          "output_type": "stream",
          "name": "stdout",
          "text": [
            "2023-10-18 07:16:20,470 epoch 46 - iter 1/4 - loss 0.00069775 - time (sec): 0.39 - samples/sec: 12014.32 - lr: 0.000033\n",
            "2023-10-18 07:16:20,896 epoch 46 - iter 2/4 - loss 0.00067205 - time (sec): 0.81 - samples/sec: 11345.58 - lr: 0.000033\n",
            "2023-10-18 07:16:21,313 epoch 46 - iter 3/4 - loss 0.00128836 - time (sec): 1.23 - samples/sec: 11973.16 - lr: 0.000033\n",
            "2023-10-18 07:16:21,561 epoch 46 - iter 4/4 - loss 0.00144284 - time (sec): 1.48 - samples/sec: 12146.02 - lr: 0.000033\n",
            "2023-10-18 07:16:21,563 ----------------------------------------------------------------------------------------------------\n",
            "2023-10-18 07:16:21,566 EPOCH 46 done: loss 0.0014 - lr 0.000033\n"
          ]
        },
        {
          "output_type": "stream",
          "name": "stderr",
          "text": [
            "100%|██████████| 1/1 [00:00<00:00,  1.16it/s]"
          ]
        },
        {
          "output_type": "stream",
          "name": "stdout",
          "text": [
            "2023-10-18 07:16:22,441 Evaluating as a multi-label problem: False\n",
            "2023-10-18 07:16:22,458 DEV : loss 0.49057841300964355 - f1-score (micro avg)  0.7789\n",
            "2023-10-18 07:16:22,465 ----------------------------------------------------------------------------------------------------\n"
          ]
        },
        {
          "output_type": "stream",
          "name": "stderr",
          "text": [
            "\n"
          ]
        },
        {
          "output_type": "stream",
          "name": "stdout",
          "text": [
            "2023-10-18 07:16:22,880 epoch 47 - iter 1/4 - loss 0.00136266 - time (sec): 0.41 - samples/sec: 12215.03 - lr: 0.000033\n",
            "2023-10-18 07:16:23,672 epoch 47 - iter 2/4 - loss 0.00250200 - time (sec): 1.21 - samples/sec: 8330.37 - lr: 0.000033\n",
            "2023-10-18 07:16:24,230 epoch 47 - iter 3/4 - loss 0.00184623 - time (sec): 1.76 - samples/sec: 8505.69 - lr: 0.000033\n",
            "2023-10-18 07:16:24,525 epoch 47 - iter 4/4 - loss 0.00162531 - time (sec): 2.06 - samples/sec: 8716.64 - lr: 0.000033\n",
            "2023-10-18 07:16:24,528 ----------------------------------------------------------------------------------------------------\n",
            "2023-10-18 07:16:24,529 EPOCH 47 done: loss 0.0016 - lr 0.000033\n"
          ]
        },
        {
          "output_type": "stream",
          "name": "stderr",
          "text": [
            "100%|██████████| 1/1 [00:01<00:00,  1.79s/it]"
          ]
        },
        {
          "output_type": "stream",
          "name": "stdout",
          "text": [
            "2023-10-18 07:16:26,333 Evaluating as a multi-label problem: False\n",
            "2023-10-18 07:16:26,367 DEV : loss 0.40474921464920044 - f1-score (micro avg)  0.7983\n",
            "2023-10-18 07:16:26,376 ----------------------------------------------------------------------------------------------------\n"
          ]
        },
        {
          "output_type": "stream",
          "name": "stderr",
          "text": [
            "\n"
          ]
        },
        {
          "output_type": "stream",
          "name": "stdout",
          "text": [
            "2023-10-18 07:16:26,875 epoch 48 - iter 1/4 - loss 0.00191792 - time (sec): 0.50 - samples/sec: 9370.80 - lr: 0.000032\n",
            "2023-10-18 07:16:27,393 epoch 48 - iter 2/4 - loss 0.00112733 - time (sec): 1.02 - samples/sec: 9951.84 - lr: 0.000032\n",
            "2023-10-18 07:16:27,949 epoch 48 - iter 3/4 - loss 0.00135291 - time (sec): 1.57 - samples/sec: 9538.67 - lr: 0.000032\n",
            "2023-10-18 07:16:28,256 epoch 48 - iter 4/4 - loss 0.00151114 - time (sec): 1.88 - samples/sec: 9553.70 - lr: 0.000032\n",
            "2023-10-18 07:16:28,259 ----------------------------------------------------------------------------------------------------\n",
            "2023-10-18 07:16:28,262 EPOCH 48 done: loss 0.0015 - lr 0.000032\n"
          ]
        },
        {
          "output_type": "stream",
          "name": "stderr",
          "text": [
            "100%|██████████| 1/1 [00:01<00:00,  1.69s/it]"
          ]
        },
        {
          "output_type": "stream",
          "name": "stdout",
          "text": [
            "2023-10-18 07:16:29,962 Evaluating as a multi-label problem: False\n",
            "2023-10-18 07:16:29,987 DEV : loss 0.38564127683639526 - f1-score (micro avg)  0.8113\n",
            "2023-10-18 07:16:29,998 ----------------------------------------------------------------------------------------------------\n"
          ]
        },
        {
          "output_type": "stream",
          "name": "stderr",
          "text": [
            "\n"
          ]
        },
        {
          "output_type": "stream",
          "name": "stdout",
          "text": [
            "2023-10-18 07:16:30,492 epoch 49 - iter 1/4 - loss 0.00113031 - time (sec): 0.49 - samples/sec: 11539.81 - lr: 0.000032\n",
            "2023-10-18 07:16:30,890 epoch 49 - iter 2/4 - loss 0.00090960 - time (sec): 0.89 - samples/sec: 11901.82 - lr: 0.000032\n",
            "2023-10-18 07:16:31,283 epoch 49 - iter 3/4 - loss 0.00076557 - time (sec): 1.28 - samples/sec: 11803.27 - lr: 0.000032\n",
            "2023-10-18 07:16:31,531 epoch 49 - iter 4/4 - loss 0.00092503 - time (sec): 1.53 - samples/sec: 11720.17 - lr: 0.000032\n",
            "2023-10-18 07:16:31,533 ----------------------------------------------------------------------------------------------------\n",
            "2023-10-18 07:16:31,537 EPOCH 49 done: loss 0.0009 - lr 0.000032\n"
          ]
        },
        {
          "output_type": "stream",
          "name": "stderr",
          "text": [
            "100%|██████████| 1/1 [00:00<00:00,  1.08it/s]"
          ]
        },
        {
          "output_type": "stream",
          "name": "stdout",
          "text": [
            "2023-10-18 07:16:32,478 Evaluating as a multi-label problem: False\n",
            "2023-10-18 07:16:32,501 DEV : loss 0.41618508100509644 - f1-score (micro avg)  0.8114\n",
            "2023-10-18 07:16:32,510 ----------------------------------------------------------------------------------------------------\n"
          ]
        },
        {
          "output_type": "stream",
          "name": "stderr",
          "text": [
            "\n"
          ]
        },
        {
          "output_type": "stream",
          "name": "stdout",
          "text": [
            "2023-10-18 07:16:32,935 epoch 50 - iter 1/4 - loss 0.00034709 - time (sec): 0.42 - samples/sec: 11560.61 - lr: 0.000032\n",
            "2023-10-18 07:16:33,325 epoch 50 - iter 2/4 - loss 0.00052951 - time (sec): 0.81 - samples/sec: 11781.96 - lr: 0.000031\n",
            "2023-10-18 07:16:33,726 epoch 50 - iter 3/4 - loss 0.00115057 - time (sec): 1.21 - samples/sec: 12095.25 - lr: 0.000031\n",
            "2023-10-18 07:16:34,021 epoch 50 - iter 4/4 - loss 0.00099424 - time (sec): 1.51 - samples/sec: 11886.48 - lr: 0.000031\n",
            "2023-10-18 07:16:34,024 ----------------------------------------------------------------------------------------------------\n",
            "2023-10-18 07:16:34,027 EPOCH 50 done: loss 0.0010 - lr 0.000031\n"
          ]
        },
        {
          "output_type": "stream",
          "name": "stderr",
          "text": [
            "100%|██████████| 1/1 [00:00<00:00,  1.10it/s]"
          ]
        },
        {
          "output_type": "stream",
          "name": "stdout",
          "text": [
            "2023-10-18 07:16:34,949 Evaluating as a multi-label problem: False\n",
            "2023-10-18 07:16:34,968 DEV : loss 0.4278477728366852 - f1-score (micro avg)  0.7967\n",
            "2023-10-18 07:16:34,978 ----------------------------------------------------------------------------------------------------\n"
          ]
        },
        {
          "output_type": "stream",
          "name": "stderr",
          "text": [
            "\n"
          ]
        },
        {
          "output_type": "stream",
          "name": "stdout",
          "text": [
            "2023-10-18 07:16:35,389 epoch 51 - iter 1/4 - loss 0.00039404 - time (sec): 0.41 - samples/sec: 12632.13 - lr: 0.000031\n",
            "2023-10-18 07:16:35,779 epoch 51 - iter 2/4 - loss 0.00054426 - time (sec): 0.80 - samples/sec: 11710.12 - lr: 0.000031\n",
            "2023-10-18 07:16:36,159 epoch 51 - iter 3/4 - loss 0.00051387 - time (sec): 1.18 - samples/sec: 11799.20 - lr: 0.000031\n",
            "2023-10-18 07:16:36,457 epoch 51 - iter 4/4 - loss 0.00122415 - time (sec): 1.48 - samples/sec: 12150.00 - lr: 0.000031\n",
            "2023-10-18 07:16:36,459 ----------------------------------------------------------------------------------------------------\n",
            "2023-10-18 07:16:36,463 EPOCH 51 done: loss 0.0012 - lr 0.000031\n"
          ]
        },
        {
          "output_type": "stream",
          "name": "stderr",
          "text": [
            "100%|██████████| 1/1 [00:00<00:00,  1.16it/s]"
          ]
        },
        {
          "output_type": "stream",
          "name": "stdout",
          "text": [
            "2023-10-18 07:16:37,335 Evaluating as a multi-label problem: False\n",
            "2023-10-18 07:16:37,354 DEV : loss 0.39132481813430786 - f1-score (micro avg)  0.7991\n",
            "2023-10-18 07:16:37,362 ----------------------------------------------------------------------------------------------------\n"
          ]
        },
        {
          "output_type": "stream",
          "name": "stderr",
          "text": [
            "\n"
          ]
        },
        {
          "output_type": "stream",
          "name": "stdout",
          "text": [
            "2023-10-18 07:16:38,111 epoch 52 - iter 1/4 - loss 0.00179881 - time (sec): 0.75 - samples/sec: 6217.12 - lr: 0.000031\n",
            "2023-10-18 07:16:38,459 epoch 52 - iter 2/4 - loss 0.00114973 - time (sec): 1.10 - samples/sec: 8523.35 - lr: 0.000030\n",
            "2023-10-18 07:16:38,842 epoch 52 - iter 3/4 - loss 0.00228483 - time (sec): 1.48 - samples/sec: 9288.81 - lr: 0.000030\n",
            "2023-10-18 07:16:39,155 epoch 52 - iter 4/4 - loss 0.00239773 - time (sec): 1.79 - samples/sec: 10013.47 - lr: 0.000030\n",
            "2023-10-18 07:16:39,158 ----------------------------------------------------------------------------------------------------\n",
            "2023-10-18 07:16:39,159 EPOCH 52 done: loss 0.0024 - lr 0.000030\n"
          ]
        },
        {
          "output_type": "stream",
          "name": "stderr",
          "text": [
            "100%|██████████| 1/1 [00:00<00:00,  1.14it/s]"
          ]
        },
        {
          "output_type": "stream",
          "name": "stdout",
          "text": [
            "2023-10-18 07:16:40,049 Evaluating as a multi-label problem: False\n",
            "2023-10-18 07:16:40,066 DEV : loss 0.40893030166625977 - f1-score (micro avg)  0.8074\n",
            "2023-10-18 07:16:40,076 ----------------------------------------------------------------------------------------------------\n"
          ]
        },
        {
          "output_type": "stream",
          "name": "stderr",
          "text": [
            "\n"
          ]
        },
        {
          "output_type": "stream",
          "name": "stdout",
          "text": [
            "2023-10-18 07:16:40,538 epoch 53 - iter 1/4 - loss 0.00072676 - time (sec): 0.46 - samples/sec: 10154.97 - lr: 0.000030\n",
            "2023-10-18 07:16:41,132 epoch 53 - iter 2/4 - loss 0.00124000 - time (sec): 1.05 - samples/sec: 9564.61 - lr: 0.000030\n",
            "2023-10-18 07:16:41,607 epoch 53 - iter 3/4 - loss 0.00102839 - time (sec): 1.53 - samples/sec: 9733.70 - lr: 0.000030\n",
            "2023-10-18 07:16:41,927 epoch 53 - iter 4/4 - loss 0.00099202 - time (sec): 1.85 - samples/sec: 9717.94 - lr: 0.000030\n",
            "2023-10-18 07:16:41,932 ----------------------------------------------------------------------------------------------------\n",
            "2023-10-18 07:16:41,934 EPOCH 53 done: loss 0.0010 - lr 0.000030\n"
          ]
        },
        {
          "output_type": "stream",
          "name": "stderr",
          "text": [
            "100%|██████████| 1/1 [00:01<00:00,  1.68s/it]"
          ]
        },
        {
          "output_type": "stream",
          "name": "stdout",
          "text": [
            "2023-10-18 07:16:43,631 Evaluating as a multi-label problem: False\n",
            "2023-10-18 07:16:43,663 DEV : loss 0.4162718653678894 - f1-score (micro avg)  0.8049\n",
            "2023-10-18 07:16:43,675 ----------------------------------------------------------------------------------------------------\n"
          ]
        },
        {
          "output_type": "stream",
          "name": "stderr",
          "text": [
            "\n"
          ]
        },
        {
          "output_type": "stream",
          "name": "stdout",
          "text": [
            "2023-10-18 07:16:44,189 epoch 54 - iter 1/4 - loss 0.00037581 - time (sec): 0.51 - samples/sec: 10321.52 - lr: 0.000030\n",
            "2023-10-18 07:16:44,797 epoch 54 - iter 2/4 - loss 0.00046885 - time (sec): 1.12 - samples/sec: 9882.68 - lr: 0.000029\n",
            "2023-10-18 07:16:45,213 epoch 54 - iter 3/4 - loss 0.00044317 - time (sec): 1.54 - samples/sec: 9792.71 - lr: 0.000029\n",
            "2023-10-18 07:16:45,520 epoch 54 - iter 4/4 - loss 0.00041146 - time (sec): 1.84 - samples/sec: 9730.50 - lr: 0.000029\n",
            "2023-10-18 07:16:45,526 ----------------------------------------------------------------------------------------------------\n",
            "2023-10-18 07:16:45,530 EPOCH 54 done: loss 0.0004 - lr 0.000029\n"
          ]
        },
        {
          "output_type": "stream",
          "name": "stderr",
          "text": [
            "100%|██████████| 1/1 [00:01<00:00,  1.52s/it]"
          ]
        },
        {
          "output_type": "stream",
          "name": "stdout",
          "text": [
            "2023-10-18 07:16:47,063 Evaluating as a multi-label problem: False\n",
            "2023-10-18 07:16:47,085 DEV : loss 0.3882068991661072 - f1-score (micro avg)  0.8077\n",
            "2023-10-18 07:16:47,093 ----------------------------------------------------------------------------------------------------\n"
          ]
        },
        {
          "output_type": "stream",
          "name": "stderr",
          "text": [
            "\n"
          ]
        },
        {
          "output_type": "stream",
          "name": "stdout",
          "text": [
            "2023-10-18 07:16:47,505 epoch 55 - iter 1/4 - loss 0.00025112 - time (sec): 0.41 - samples/sec: 11352.07 - lr: 0.000029\n",
            "2023-10-18 07:16:47,980 epoch 55 - iter 2/4 - loss 0.00045186 - time (sec): 0.89 - samples/sec: 11595.65 - lr: 0.000029\n",
            "2023-10-18 07:16:48,374 epoch 55 - iter 3/4 - loss 0.00044407 - time (sec): 1.28 - samples/sec: 11862.70 - lr: 0.000029\n",
            "2023-10-18 07:16:48,598 epoch 55 - iter 4/4 - loss 0.00042201 - time (sec): 1.50 - samples/sec: 11935.22 - lr: 0.000029\n",
            "2023-10-18 07:16:48,600 ----------------------------------------------------------------------------------------------------\n",
            "2023-10-18 07:16:48,604 EPOCH 55 done: loss 0.0004 - lr 0.000029\n"
          ]
        },
        {
          "output_type": "stream",
          "name": "stderr",
          "text": [
            "100%|██████████| 1/1 [00:00<00:00,  1.11it/s]"
          ]
        },
        {
          "output_type": "stream",
          "name": "stdout",
          "text": [
            "2023-10-18 07:16:49,515 Evaluating as a multi-label problem: False\n",
            "2023-10-18 07:16:49,535 DEV : loss 0.4069691300392151 - f1-score (micro avg)  0.8075\n",
            "2023-10-18 07:16:49,543 ----------------------------------------------------------------------------------------------------\n"
          ]
        },
        {
          "output_type": "stream",
          "name": "stderr",
          "text": [
            "\n"
          ]
        },
        {
          "output_type": "stream",
          "name": "stdout",
          "text": [
            "2023-10-18 07:16:50,001 epoch 56 - iter 1/4 - loss 0.00023989 - time (sec): 0.46 - samples/sec: 12017.11 - lr: 0.000029\n",
            "2023-10-18 07:16:50,397 epoch 56 - iter 2/4 - loss 0.00024397 - time (sec): 0.85 - samples/sec: 11689.95 - lr: 0.000028\n",
            "2023-10-18 07:16:50,838 epoch 56 - iter 3/4 - loss 0.00029500 - time (sec): 1.29 - samples/sec: 11755.18 - lr: 0.000028\n",
            "2023-10-18 07:16:51,054 epoch 56 - iter 4/4 - loss 0.00031036 - time (sec): 1.51 - samples/sec: 11886.58 - lr: 0.000028\n",
            "2023-10-18 07:16:51,056 ----------------------------------------------------------------------------------------------------\n",
            "2023-10-18 07:16:51,057 EPOCH 56 done: loss 0.0003 - lr 0.000028\n"
          ]
        },
        {
          "output_type": "stream",
          "name": "stderr",
          "text": [
            "100%|██████████| 1/1 [00:00<00:00,  1.12it/s]"
          ]
        },
        {
          "output_type": "stream",
          "name": "stdout",
          "text": [
            "2023-10-18 07:16:51,969 Evaluating as a multi-label problem: False\n",
            "2023-10-18 07:16:51,989 DEV : loss 0.4638877511024475 - f1-score (micro avg)  0.8228\n",
            "2023-10-18 07:16:51,996 ----------------------------------------------------------------------------------------------------\n"
          ]
        },
        {
          "output_type": "stream",
          "name": "stderr",
          "text": [
            "\n"
          ]
        },
        {
          "output_type": "stream",
          "name": "stdout",
          "text": [
            "2023-10-18 07:16:52,749 epoch 57 - iter 1/4 - loss 0.00091604 - time (sec): 0.75 - samples/sec: 6349.89 - lr: 0.000028\n",
            "2023-10-18 07:16:53,187 epoch 57 - iter 2/4 - loss 0.00087069 - time (sec): 1.19 - samples/sec: 8278.36 - lr: 0.000028\n",
            "2023-10-18 07:16:53,582 epoch 57 - iter 3/4 - loss 0.00131033 - time (sec): 1.58 - samples/sec: 9453.30 - lr: 0.000028\n",
            "2023-10-18 07:16:53,804 epoch 57 - iter 4/4 - loss 0.00159342 - time (sec): 1.81 - samples/sec: 9932.89 - lr: 0.000028\n",
            "2023-10-18 07:16:53,806 ----------------------------------------------------------------------------------------------------\n",
            "2023-10-18 07:16:53,810 EPOCH 57 done: loss 0.0016 - lr 0.000028\n"
          ]
        },
        {
          "output_type": "stream",
          "name": "stderr",
          "text": [
            "100%|██████████| 1/1 [00:00<00:00,  1.16it/s]"
          ]
        },
        {
          "output_type": "stream",
          "name": "stdout",
          "text": [
            "2023-10-18 07:16:54,686 Evaluating as a multi-label problem: False\n",
            "2023-10-18 07:16:54,705 DEV : loss 0.408692866563797 - f1-score (micro avg)  0.8126\n",
            "2023-10-18 07:16:54,713 ----------------------------------------------------------------------------------------------------\n"
          ]
        },
        {
          "output_type": "stream",
          "name": "stderr",
          "text": [
            "\n"
          ]
        },
        {
          "output_type": "stream",
          "name": "stdout",
          "text": [
            "2023-10-18 07:16:55,113 epoch 58 - iter 1/4 - loss 0.00097165 - time (sec): 0.40 - samples/sec: 12108.59 - lr: 0.000028\n",
            "2023-10-18 07:16:55,503 epoch 58 - iter 2/4 - loss 0.00171570 - time (sec): 0.79 - samples/sec: 12560.07 - lr: 0.000027\n",
            "2023-10-18 07:16:55,973 epoch 58 - iter 3/4 - loss 0.00132151 - time (sec): 1.26 - samples/sec: 11908.68 - lr: 0.000027\n",
            "2023-10-18 07:16:56,214 epoch 58 - iter 4/4 - loss 0.00137624 - time (sec): 1.50 - samples/sec: 11956.52 - lr: 0.000027\n",
            "2023-10-18 07:16:56,217 ----------------------------------------------------------------------------------------------------\n",
            "2023-10-18 07:16:56,221 EPOCH 58 done: loss 0.0014 - lr 0.000027\n"
          ]
        },
        {
          "output_type": "stream",
          "name": "stderr",
          "text": [
            "100%|██████████| 1/1 [00:01<00:00,  1.19s/it]"
          ]
        },
        {
          "output_type": "stream",
          "name": "stdout",
          "text": [
            "2023-10-18 07:16:57,423 Evaluating as a multi-label problem: False\n",
            "2023-10-18 07:16:57,455 DEV : loss 0.3946821689605713 - f1-score (micro avg)  0.8263\n",
            "2023-10-18 07:16:57,471 ----------------------------------------------------------------------------------------------------\n"
          ]
        },
        {
          "output_type": "stream",
          "name": "stderr",
          "text": [
            "\n"
          ]
        },
        {
          "output_type": "stream",
          "name": "stdout",
          "text": [
            "2023-10-18 07:16:58,039 epoch 59 - iter 1/4 - loss 0.00107295 - time (sec): 0.57 - samples/sec: 8731.76 - lr: 0.000027\n",
            "2023-10-18 07:16:58,407 epoch 59 - iter 2/4 - loss 0.00072830 - time (sec): 0.93 - samples/sec: 9509.24 - lr: 0.000027\n",
            "2023-10-18 07:16:58,983 epoch 59 - iter 3/4 - loss 0.00051821 - time (sec): 1.51 - samples/sec: 9827.12 - lr: 0.000027\n",
            "2023-10-18 07:16:59,280 epoch 59 - iter 4/4 - loss 0.00047731 - time (sec): 1.81 - samples/sec: 9928.16 - lr: 0.000027\n",
            "2023-10-18 07:16:59,283 ----------------------------------------------------------------------------------------------------\n",
            "2023-10-18 07:16:59,285 EPOCH 59 done: loss 0.0005 - lr 0.000027\n"
          ]
        },
        {
          "output_type": "stream",
          "name": "stderr",
          "text": [
            "100%|██████████| 1/1 [00:01<00:00,  1.68s/it]"
          ]
        },
        {
          "output_type": "stream",
          "name": "stdout",
          "text": [
            "2023-10-18 07:17:00,972 Evaluating as a multi-label problem: False\n",
            "2023-10-18 07:17:01,005 DEV : loss 0.41415685415267944 - f1-score (micro avg)  0.8358\n",
            "2023-10-18 07:17:01,013 ----------------------------------------------------------------------------------------------------\n"
          ]
        },
        {
          "output_type": "stream",
          "name": "stderr",
          "text": [
            "\n"
          ]
        },
        {
          "output_type": "stream",
          "name": "stdout",
          "text": [
            "2023-10-18 07:17:01,482 epoch 60 - iter 1/4 - loss 0.00025328 - time (sec): 0.46 - samples/sec: 11657.24 - lr: 0.000027\n",
            "2023-10-18 07:17:01,965 epoch 60 - iter 2/4 - loss 0.00075508 - time (sec): 0.95 - samples/sec: 10320.48 - lr: 0.000027\n",
            "2023-10-18 07:17:02,554 epoch 60 - iter 3/4 - loss 0.00074310 - time (sec): 1.54 - samples/sec: 9908.90 - lr: 0.000026\n",
            "2023-10-18 07:17:02,851 epoch 60 - iter 4/4 - loss 0.00071222 - time (sec): 1.83 - samples/sec: 9782.94 - lr: 0.000026\n",
            "2023-10-18 07:17:02,854 ----------------------------------------------------------------------------------------------------\n",
            "2023-10-18 07:17:02,856 EPOCH 60 done: loss 0.0007 - lr 0.000026\n"
          ]
        },
        {
          "output_type": "stream",
          "name": "stderr",
          "text": [
            "100%|██████████| 1/1 [00:01<00:00,  1.19s/it]"
          ]
        },
        {
          "output_type": "stream",
          "name": "stdout",
          "text": [
            "2023-10-18 07:17:04,055 Evaluating as a multi-label problem: False\n",
            "2023-10-18 07:17:04,074 DEV : loss 0.41613849997520447 - f1-score (micro avg)  0.814\n",
            "2023-10-18 07:17:04,083 ----------------------------------------------------------------------------------------------------\n"
          ]
        },
        {
          "output_type": "stream",
          "name": "stderr",
          "text": [
            "\n"
          ]
        },
        {
          "output_type": "stream",
          "name": "stdout",
          "text": [
            "2023-10-18 07:17:04,496 epoch 61 - iter 1/4 - loss 0.00021730 - time (sec): 0.41 - samples/sec: 12680.42 - lr: 0.000026\n",
            "2023-10-18 07:17:04,894 epoch 61 - iter 2/4 - loss 0.00018006 - time (sec): 0.81 - samples/sec: 12734.57 - lr: 0.000026\n",
            "2023-10-18 07:17:05,288 epoch 61 - iter 3/4 - loss 0.00020170 - time (sec): 1.20 - samples/sec: 12360.10 - lr: 0.000026\n",
            "2023-10-18 07:17:05,600 epoch 61 - iter 4/4 - loss 0.00021586 - time (sec): 1.52 - samples/sec: 11839.31 - lr: 0.000026\n",
            "2023-10-18 07:17:05,604 ----------------------------------------------------------------------------------------------------\n",
            "2023-10-18 07:17:05,607 EPOCH 61 done: loss 0.0002 - lr 0.000026\n"
          ]
        },
        {
          "output_type": "stream",
          "name": "stderr",
          "text": [
            "100%|██████████| 1/1 [00:00<00:00,  1.12it/s]"
          ]
        },
        {
          "output_type": "stream",
          "name": "stdout",
          "text": [
            "2023-10-18 07:17:06,510 Evaluating as a multi-label problem: False\n",
            "2023-10-18 07:17:06,527 DEV : loss 0.45937493443489075 - f1-score (micro avg)  0.8139\n",
            "2023-10-18 07:17:06,536 ----------------------------------------------------------------------------------------------------\n"
          ]
        },
        {
          "output_type": "stream",
          "name": "stderr",
          "text": [
            "\n"
          ]
        },
        {
          "output_type": "stream",
          "name": "stdout",
          "text": [
            "2023-10-18 07:17:06,945 epoch 62 - iter 1/4 - loss 0.00031323 - time (sec): 0.40 - samples/sec: 13055.23 - lr: 0.000026\n",
            "2023-10-18 07:17:07,736 epoch 62 - iter 2/4 - loss 0.00025420 - time (sec): 1.20 - samples/sec: 8923.89 - lr: 0.000026\n",
            "2023-10-18 07:17:08,128 epoch 62 - iter 3/4 - loss 0.00062441 - time (sec): 1.59 - samples/sec: 9571.57 - lr: 0.000025\n",
            "2023-10-18 07:17:08,377 epoch 62 - iter 4/4 - loss 0.00055480 - time (sec): 1.84 - samples/sec: 9765.34 - lr: 0.000025\n",
            "2023-10-18 07:17:08,380 ----------------------------------------------------------------------------------------------------\n",
            "2023-10-18 07:17:08,382 EPOCH 62 done: loss 0.0006 - lr 0.000025\n"
          ]
        },
        {
          "output_type": "stream",
          "name": "stderr",
          "text": [
            "100%|██████████| 1/1 [00:00<00:00,  1.15it/s]"
          ]
        },
        {
          "output_type": "stream",
          "name": "stdout",
          "text": [
            "2023-10-18 07:17:09,269 Evaluating as a multi-label problem: False\n",
            "2023-10-18 07:17:09,288 DEV : loss 0.4573623239994049 - f1-score (micro avg)  0.8233\n",
            "2023-10-18 07:17:09,295 ----------------------------------------------------------------------------------------------------\n"
          ]
        },
        {
          "output_type": "stream",
          "name": "stderr",
          "text": [
            "\n"
          ]
        },
        {
          "output_type": "stream",
          "name": "stdout",
          "text": [
            "2023-10-18 07:17:09,700 epoch 63 - iter 1/4 - loss 0.00022507 - time (sec): 0.40 - samples/sec: 11934.18 - lr: 0.000025\n",
            "2023-10-18 07:17:10,109 epoch 63 - iter 2/4 - loss 0.00114378 - time (sec): 0.81 - samples/sec: 12525.35 - lr: 0.000025\n",
            "2023-10-18 07:17:10,571 epoch 63 - iter 3/4 - loss 0.00087908 - time (sec): 1.27 - samples/sec: 12168.78 - lr: 0.000025\n",
            "2023-10-18 07:17:10,782 epoch 63 - iter 4/4 - loss 0.00078246 - time (sec): 1.49 - samples/sec: 12075.61 - lr: 0.000025\n",
            "2023-10-18 07:17:10,784 ----------------------------------------------------------------------------------------------------\n",
            "2023-10-18 07:17:10,790 EPOCH 63 done: loss 0.0008 - lr 0.000025\n"
          ]
        },
        {
          "output_type": "stream",
          "name": "stderr",
          "text": [
            "100%|██████████| 1/1 [00:00<00:00,  1.13it/s]"
          ]
        },
        {
          "output_type": "stream",
          "name": "stdout",
          "text": [
            "2023-10-18 07:17:11,689 Evaluating as a multi-label problem: False\n",
            "2023-10-18 07:17:11,706 DEV : loss 0.4214358329772949 - f1-score (micro avg)  0.8255\n",
            "2023-10-18 07:17:11,719 ----------------------------------------------------------------------------------------------------\n"
          ]
        },
        {
          "output_type": "stream",
          "name": "stderr",
          "text": [
            "\n"
          ]
        },
        {
          "output_type": "stream",
          "name": "stdout",
          "text": [
            "2023-10-18 07:17:12,114 epoch 64 - iter 1/4 - loss 0.00011759 - time (sec): 0.39 - samples/sec: 10595.10 - lr: 0.000025\n",
            "2023-10-18 07:17:12,523 epoch 64 - iter 2/4 - loss 0.00011897 - time (sec): 0.80 - samples/sec: 11011.93 - lr: 0.000025\n",
            "2023-10-18 07:17:13,017 epoch 64 - iter 3/4 - loss 0.00018461 - time (sec): 1.30 - samples/sec: 11132.31 - lr: 0.000024\n",
            "2023-10-18 07:17:13,245 epoch 64 - iter 4/4 - loss 0.00016910 - time (sec): 1.52 - samples/sec: 11769.78 - lr: 0.000024\n",
            "2023-10-18 07:17:13,247 ----------------------------------------------------------------------------------------------------\n",
            "2023-10-18 07:17:13,251 EPOCH 64 done: loss 0.0002 - lr 0.000024\n"
          ]
        },
        {
          "output_type": "stream",
          "name": "stderr",
          "text": [
            "100%|██████████| 1/1 [00:01<00:00,  1.49s/it]"
          ]
        },
        {
          "output_type": "stream",
          "name": "stdout",
          "text": [
            "2023-10-18 07:17:14,756 Evaluating as a multi-label problem: False\n",
            "2023-10-18 07:17:14,788 DEV : loss 0.4894810616970062 - f1-score (micro avg)  0.8243\n",
            "2023-10-18 07:17:14,799 ----------------------------------------------------------------------------------------------------\n"
          ]
        },
        {
          "output_type": "stream",
          "name": "stderr",
          "text": [
            "\n"
          ]
        },
        {
          "output_type": "stream",
          "name": "stdout",
          "text": [
            "2023-10-18 07:17:15,276 epoch 65 - iter 1/4 - loss 0.00011934 - time (sec): 0.47 - samples/sec: 9999.30 - lr: 0.000024\n",
            "2023-10-18 07:17:15,798 epoch 65 - iter 2/4 - loss 0.00104763 - time (sec): 1.00 - samples/sec: 9461.19 - lr: 0.000024\n",
            "2023-10-18 07:17:16,274 epoch 65 - iter 3/4 - loss 0.00074063 - time (sec): 1.47 - samples/sec: 9736.37 - lr: 0.000024\n",
            "2023-10-18 07:17:16,625 epoch 65 - iter 4/4 - loss 0.00114985 - time (sec): 1.82 - samples/sec: 9842.32 - lr: 0.000024\n",
            "2023-10-18 07:17:16,628 ----------------------------------------------------------------------------------------------------\n",
            "2023-10-18 07:17:16,631 EPOCH 65 done: loss 0.0011 - lr 0.000024\n"
          ]
        },
        {
          "output_type": "stream",
          "name": "stderr",
          "text": [
            "100%|██████████| 1/1 [00:01<00:00,  1.61s/it]"
          ]
        },
        {
          "output_type": "stream",
          "name": "stdout",
          "text": [
            "2023-10-18 07:17:18,251 Evaluating as a multi-label problem: False\n",
            "2023-10-18 07:17:18,277 DEV : loss 0.5422725081443787 - f1-score (micro avg)  0.8129\n",
            "2023-10-18 07:17:18,285 ----------------------------------------------------------------------------------------------------\n"
          ]
        },
        {
          "output_type": "stream",
          "name": "stderr",
          "text": [
            "\n"
          ]
        },
        {
          "output_type": "stream",
          "name": "stdout",
          "text": [
            "2023-10-18 07:17:18,740 epoch 66 - iter 1/4 - loss 0.00016789 - time (sec): 0.45 - samples/sec: 10532.90 - lr: 0.000024\n",
            "2023-10-18 07:17:19,254 epoch 66 - iter 2/4 - loss 0.00080381 - time (sec): 0.97 - samples/sec: 10209.15 - lr: 0.000024\n",
            "2023-10-18 07:17:19,694 epoch 66 - iter 3/4 - loss 0.00062709 - time (sec): 1.41 - samples/sec: 10053.55 - lr: 0.000023\n",
            "2023-10-18 07:17:20,056 epoch 66 - iter 4/4 - loss 0.00054355 - time (sec): 1.77 - samples/sec: 10144.51 - lr: 0.000023\n",
            "2023-10-18 07:17:20,058 ----------------------------------------------------------------------------------------------------\n",
            "2023-10-18 07:17:20,062 EPOCH 66 done: loss 0.0005 - lr 0.000023\n"
          ]
        },
        {
          "output_type": "stream",
          "name": "stderr",
          "text": [
            "100%|██████████| 1/1 [00:00<00:00,  1.15it/s]"
          ]
        },
        {
          "output_type": "stream",
          "name": "stdout",
          "text": [
            "2023-10-18 07:17:20,949 Evaluating as a multi-label problem: False\n",
            "2023-10-18 07:17:20,965 DEV : loss 0.5004767775535583 - f1-score (micro avg)  0.8214\n",
            "2023-10-18 07:17:20,972 ----------------------------------------------------------------------------------------------------\n"
          ]
        },
        {
          "output_type": "stream",
          "name": "stderr",
          "text": [
            "\n"
          ]
        },
        {
          "output_type": "stream",
          "name": "stdout",
          "text": [
            "2023-10-18 07:17:21,707 epoch 67 - iter 1/4 - loss 0.00215283 - time (sec): 0.73 - samples/sec: 6645.24 - lr: 0.000023\n",
            "2023-10-18 07:17:22,067 epoch 67 - iter 2/4 - loss 0.00118405 - time (sec): 1.09 - samples/sec: 8542.34 - lr: 0.000023\n",
            "2023-10-18 07:17:22,468 epoch 67 - iter 3/4 - loss 0.00082553 - time (sec): 1.49 - samples/sec: 9858.35 - lr: 0.000023\n",
            "2023-10-18 07:17:22,781 epoch 67 - iter 4/4 - loss 0.00070728 - time (sec): 1.81 - samples/sec: 9927.18 - lr: 0.000023\n",
            "2023-10-18 07:17:22,783 ----------------------------------------------------------------------------------------------------\n",
            "2023-10-18 07:17:22,788 EPOCH 67 done: loss 0.0007 - lr 0.000023\n"
          ]
        },
        {
          "output_type": "stream",
          "name": "stderr",
          "text": [
            "100%|██████████| 1/1 [00:00<00:00,  1.13it/s]"
          ]
        },
        {
          "output_type": "stream",
          "name": "stdout",
          "text": [
            "2023-10-18 07:17:23,687 Evaluating as a multi-label problem: False\n",
            "2023-10-18 07:17:23,705 DEV : loss 0.47425687313079834 - f1-score (micro avg)  0.8218\n",
            "2023-10-18 07:17:23,713 ----------------------------------------------------------------------------------------------------\n"
          ]
        },
        {
          "output_type": "stream",
          "name": "stderr",
          "text": [
            "\n"
          ]
        },
        {
          "output_type": "stream",
          "name": "stdout",
          "text": [
            "2023-10-18 07:17:24,187 epoch 68 - iter 1/4 - loss 0.00011869 - time (sec): 0.47 - samples/sec: 10841.31 - lr: 0.000023\n",
            "2023-10-18 07:17:24,562 epoch 68 - iter 2/4 - loss 0.00018998 - time (sec): 0.85 - samples/sec: 12040.17 - lr: 0.000023\n",
            "2023-10-18 07:17:24,957 epoch 68 - iter 3/4 - loss 0.00044783 - time (sec): 1.24 - samples/sec: 11760.94 - lr: 0.000023\n",
            "2023-10-18 07:17:25,229 epoch 68 - iter 4/4 - loss 0.00039062 - time (sec): 1.51 - samples/sec: 11845.72 - lr: 0.000022\n",
            "2023-10-18 07:17:25,232 ----------------------------------------------------------------------------------------------------\n",
            "2023-10-18 07:17:25,234 EPOCH 68 done: loss 0.0004 - lr 0.000022\n"
          ]
        },
        {
          "output_type": "stream",
          "name": "stderr",
          "text": [
            "100%|██████████| 1/1 [00:00<00:00,  1.07it/s]"
          ]
        },
        {
          "output_type": "stream",
          "name": "stdout",
          "text": [
            "2023-10-18 07:17:26,178 Evaluating as a multi-label problem: False\n",
            "2023-10-18 07:17:26,203 DEV : loss 0.5067055821418762 - f1-score (micro avg)  0.8283\n",
            "2023-10-18 07:17:26,212 ----------------------------------------------------------------------------------------------------\n"
          ]
        },
        {
          "output_type": "stream",
          "name": "stderr",
          "text": [
            "\n"
          ]
        },
        {
          "output_type": "stream",
          "name": "stdout",
          "text": [
            "2023-10-18 07:17:26,631 epoch 69 - iter 1/4 - loss 0.00023593 - time (sec): 0.42 - samples/sec: 10641.45 - lr: 0.000022\n",
            "2023-10-18 07:17:27,033 epoch 69 - iter 2/4 - loss 0.00149527 - time (sec): 0.82 - samples/sec: 11463.57 - lr: 0.000022\n",
            "2023-10-18 07:17:27,487 epoch 69 - iter 3/4 - loss 0.00170232 - time (sec): 1.27 - samples/sec: 11452.05 - lr: 0.000022\n",
            "2023-10-18 07:17:27,728 epoch 69 - iter 4/4 - loss 0.00225983 - time (sec): 1.51 - samples/sec: 11847.52 - lr: 0.000022\n",
            "2023-10-18 07:17:27,730 ----------------------------------------------------------------------------------------------------\n",
            "2023-10-18 07:17:27,734 EPOCH 69 done: loss 0.0023 - lr 0.000022\n"
          ]
        },
        {
          "output_type": "stream",
          "name": "stderr",
          "text": [
            "100%|██████████| 1/1 [00:00<00:00,  1.09it/s]"
          ]
        },
        {
          "output_type": "stream",
          "name": "stdout",
          "text": [
            "2023-10-18 07:17:28,660 Evaluating as a multi-label problem: False\n",
            "2023-10-18 07:17:28,680 DEV : loss 0.5734437108039856 - f1-score (micro avg)  0.8148\n",
            "2023-10-18 07:17:28,687 ----------------------------------------------------------------------------------------------------\n"
          ]
        },
        {
          "output_type": "stream",
          "name": "stderr",
          "text": [
            "\n"
          ]
        },
        {
          "output_type": "stream",
          "name": "stdout",
          "text": [
            "2023-10-18 07:17:29,119 epoch 70 - iter 1/4 - loss 0.00157778 - time (sec): 0.43 - samples/sec: 11865.46 - lr: 0.000022\n",
            "2023-10-18 07:17:29,464 epoch 70 - iter 2/4 - loss 0.00102893 - time (sec): 0.78 - samples/sec: 11756.57 - lr: 0.000022\n",
            "2023-10-18 07:17:29,880 epoch 70 - iter 3/4 - loss 0.00145581 - time (sec): 1.19 - samples/sec: 12178.15 - lr: 0.000022\n",
            "2023-10-18 07:17:30,198 epoch 70 - iter 4/4 - loss 0.00179113 - time (sec): 1.51 - samples/sec: 11881.65 - lr: 0.000021\n",
            "2023-10-18 07:17:30,206 ----------------------------------------------------------------------------------------------------\n",
            "2023-10-18 07:17:30,209 EPOCH 70 done: loss 0.0018 - lr 0.000021\n"
          ]
        },
        {
          "output_type": "stream",
          "name": "stderr",
          "text": [
            "100%|██████████| 1/1 [00:01<00:00,  1.81s/it]"
          ]
        },
        {
          "output_type": "stream",
          "name": "stdout",
          "text": [
            "2023-10-18 07:17:32,030 Evaluating as a multi-label problem: False\n",
            "2023-10-18 07:17:32,054 DEV : loss 0.5173284411430359 - f1-score (micro avg)  0.8235\n",
            "2023-10-18 07:17:32,065 ----------------------------------------------------------------------------------------------------\n"
          ]
        },
        {
          "output_type": "stream",
          "name": "stderr",
          "text": [
            "\n"
          ]
        },
        {
          "output_type": "stream",
          "name": "stdout",
          "text": [
            "2023-10-18 07:17:32,645 epoch 71 - iter 1/4 - loss 0.00111654 - time (sec): 0.58 - samples/sec: 9059.87 - lr: 0.000021\n",
            "2023-10-18 07:17:33,092 epoch 71 - iter 2/4 - loss 0.00085481 - time (sec): 1.03 - samples/sec: 9526.43 - lr: 0.000021\n",
            "2023-10-18 07:17:33,601 epoch 71 - iter 3/4 - loss 0.00059466 - time (sec): 1.53 - samples/sec: 9705.68 - lr: 0.000021\n",
            "2023-10-18 07:17:33,926 epoch 71 - iter 4/4 - loss 0.00050958 - time (sec): 1.86 - samples/sec: 9651.02 - lr: 0.000021\n",
            "2023-10-18 07:17:33,934 ----------------------------------------------------------------------------------------------------\n",
            "2023-10-18 07:17:33,936 EPOCH 71 done: loss 0.0005 - lr 0.000021\n"
          ]
        },
        {
          "output_type": "stream",
          "name": "stderr",
          "text": [
            "100%|██████████| 1/1 [00:01<00:00,  1.71s/it]"
          ]
        },
        {
          "output_type": "stream",
          "name": "stdout",
          "text": [
            "2023-10-18 07:17:35,651 Evaluating as a multi-label problem: False\n",
            "2023-10-18 07:17:35,682 DEV : loss 0.4564497470855713 - f1-score (micro avg)  0.8114\n",
            "2023-10-18 07:17:35,693 ----------------------------------------------------------------------------------------------------\n"
          ]
        },
        {
          "output_type": "stream",
          "name": "stderr",
          "text": [
            "\n"
          ]
        },
        {
          "output_type": "stream",
          "name": "stdout",
          "text": [
            "2023-10-18 07:17:36,201 epoch 72 - iter 1/4 - loss 0.00012603 - time (sec): 0.50 - samples/sec: 8431.55 - lr: 0.000021\n",
            "2023-10-18 07:17:37,077 epoch 72 - iter 2/4 - loss 0.00127973 - time (sec): 1.38 - samples/sec: 6957.11 - lr: 0.000021\n",
            "2023-10-18 07:17:37,483 epoch 72 - iter 3/4 - loss 0.00087400 - time (sec): 1.78 - samples/sec: 8297.62 - lr: 0.000021\n",
            "2023-10-18 07:17:37,734 epoch 72 - iter 4/4 - loss 0.00073888 - time (sec): 2.04 - samples/sec: 8815.96 - lr: 0.000020\n",
            "2023-10-18 07:17:37,736 ----------------------------------------------------------------------------------------------------\n",
            "2023-10-18 07:17:37,740 EPOCH 72 done: loss 0.0007 - lr 0.000020\n"
          ]
        },
        {
          "output_type": "stream",
          "name": "stderr",
          "text": [
            "100%|██████████| 1/1 [00:00<00:00,  1.12it/s]"
          ]
        },
        {
          "output_type": "stream",
          "name": "stdout",
          "text": [
            "2023-10-18 07:17:38,645 Evaluating as a multi-label problem: False\n",
            "2023-10-18 07:17:38,665 DEV : loss 0.4639681279659271 - f1-score (micro avg)  0.8351\n",
            "2023-10-18 07:17:38,672 ----------------------------------------------------------------------------------------------------\n"
          ]
        },
        {
          "output_type": "stream",
          "name": "stderr",
          "text": [
            "\n"
          ]
        },
        {
          "output_type": "stream",
          "name": "stdout",
          "text": [
            "2023-10-18 07:17:39,163 epoch 73 - iter 1/4 - loss 0.00077908 - time (sec): 0.49 - samples/sec: 11178.25 - lr: 0.000020\n",
            "2023-10-18 07:17:39,559 epoch 73 - iter 2/4 - loss 0.00044875 - time (sec): 0.89 - samples/sec: 11625.57 - lr: 0.000020\n",
            "2023-10-18 07:17:39,949 epoch 73 - iter 3/4 - loss 0.00033962 - time (sec): 1.28 - samples/sec: 12046.97 - lr: 0.000020\n",
            "2023-10-18 07:17:40,172 epoch 73 - iter 4/4 - loss 0.00030983 - time (sec): 1.50 - samples/sec: 11973.60 - lr: 0.000020\n",
            "2023-10-18 07:17:40,175 ----------------------------------------------------------------------------------------------------\n",
            "2023-10-18 07:17:40,177 EPOCH 73 done: loss 0.0003 - lr 0.000020\n"
          ]
        },
        {
          "output_type": "stream",
          "name": "stderr",
          "text": [
            "100%|██████████| 1/1 [00:00<00:00,  1.11it/s]"
          ]
        },
        {
          "output_type": "stream",
          "name": "stdout",
          "text": [
            "2023-10-18 07:17:41,092 Evaluating as a multi-label problem: False\n",
            "2023-10-18 07:17:41,115 DEV : loss 0.5425716042518616 - f1-score (micro avg)  0.8224\n",
            "2023-10-18 07:17:41,122 ----------------------------------------------------------------------------------------------------\n"
          ]
        },
        {
          "output_type": "stream",
          "name": "stderr",
          "text": [
            "\n"
          ]
        },
        {
          "output_type": "stream",
          "name": "stdout",
          "text": [
            "2023-10-18 07:17:41,538 epoch 74 - iter 1/4 - loss 0.00043309 - time (sec): 0.41 - samples/sec: 12725.39 - lr: 0.000020\n",
            "2023-10-18 07:17:41,952 epoch 74 - iter 2/4 - loss 0.00026905 - time (sec): 0.83 - samples/sec: 12482.53 - lr: 0.000020\n",
            "2023-10-18 07:17:42,393 epoch 74 - iter 3/4 - loss 0.00024046 - time (sec): 1.27 - samples/sec: 11840.53 - lr: 0.000020\n",
            "2023-10-18 07:17:42,604 epoch 74 - iter 4/4 - loss 0.00044631 - time (sec): 1.48 - samples/sec: 12117.10 - lr: 0.000019\n",
            "2023-10-18 07:17:42,607 ----------------------------------------------------------------------------------------------------\n",
            "2023-10-18 07:17:42,610 EPOCH 74 done: loss 0.0004 - lr 0.000019\n"
          ]
        },
        {
          "output_type": "stream",
          "name": "stderr",
          "text": [
            "100%|██████████| 1/1 [00:00<00:00,  1.12it/s]"
          ]
        },
        {
          "output_type": "stream",
          "name": "stdout",
          "text": [
            "2023-10-18 07:17:43,519 Evaluating as a multi-label problem: False\n",
            "2023-10-18 07:17:43,541 DEV : loss 0.5948061347007751 - f1-score (micro avg)  0.811\n",
            "2023-10-18 07:17:43,550 ----------------------------------------------------------------------------------------------------\n"
          ]
        },
        {
          "output_type": "stream",
          "name": "stderr",
          "text": [
            "\n"
          ]
        },
        {
          "output_type": "stream",
          "name": "stdout",
          "text": [
            "2023-10-18 07:17:43,959 epoch 75 - iter 1/4 - loss 0.00043195 - time (sec): 0.41 - samples/sec: 12949.75 - lr: 0.000019\n",
            "2023-10-18 07:17:44,368 epoch 75 - iter 2/4 - loss 0.00030380 - time (sec): 0.82 - samples/sec: 11968.04 - lr: 0.000019\n",
            "2023-10-18 07:17:44,827 epoch 75 - iter 3/4 - loss 0.00046527 - time (sec): 1.27 - samples/sec: 11609.54 - lr: 0.000019\n",
            "2023-10-18 07:17:45,069 epoch 75 - iter 4/4 - loss 0.00039945 - time (sec): 1.52 - samples/sec: 11827.53 - lr: 0.000019\n",
            "2023-10-18 07:17:45,071 ----------------------------------------------------------------------------------------------------\n",
            "2023-10-18 07:17:45,076 EPOCH 75 done: loss 0.0004 - lr 0.000019\n"
          ]
        },
        {
          "output_type": "stream",
          "name": "stderr",
          "text": [
            "100%|██████████| 1/1 [00:00<00:00,  1.07it/s]"
          ]
        },
        {
          "output_type": "stream",
          "name": "stdout",
          "text": [
            "2023-10-18 07:17:46,024 Evaluating as a multi-label problem: False\n",
            "2023-10-18 07:17:46,044 DEV : loss 0.505949079990387 - f1-score (micro avg)  0.8262\n",
            "2023-10-18 07:17:46,051 ----------------------------------------------------------------------------------------------------\n"
          ]
        },
        {
          "output_type": "stream",
          "name": "stderr",
          "text": [
            "\n"
          ]
        },
        {
          "output_type": "stream",
          "name": "stdout",
          "text": [
            "2023-10-18 07:17:46,488 epoch 76 - iter 1/4 - loss 0.00273324 - time (sec): 0.44 - samples/sec: 10121.39 - lr: 0.000019\n",
            "2023-10-18 07:17:46,976 epoch 76 - iter 2/4 - loss 0.00175865 - time (sec): 0.92 - samples/sec: 10629.44 - lr: 0.000019\n",
            "2023-10-18 07:17:47,482 epoch 76 - iter 3/4 - loss 0.00154069 - time (sec): 1.43 - samples/sec: 10606.11 - lr: 0.000019\n",
            "2023-10-18 07:17:47,795 epoch 76 - iter 4/4 - loss 0.00225183 - time (sec): 1.74 - samples/sec: 10299.65 - lr: 0.000018\n",
            "2023-10-18 07:17:47,802 ----------------------------------------------------------------------------------------------------\n",
            "2023-10-18 07:17:47,804 EPOCH 76 done: loss 0.0023 - lr 0.000018\n"
          ]
        },
        {
          "output_type": "stream",
          "name": "stderr",
          "text": [
            "100%|██████████| 1/1 [00:01<00:00,  1.76s/it]"
          ]
        },
        {
          "output_type": "stream",
          "name": "stdout",
          "text": [
            "2023-10-18 07:17:49,571 Evaluating as a multi-label problem: False\n",
            "2023-10-18 07:17:49,594 DEV : loss 0.4492869973182678 - f1-score (micro avg)  0.8235\n",
            "2023-10-18 07:17:49,602 ----------------------------------------------------------------------------------------------------\n"
          ]
        },
        {
          "output_type": "stream",
          "name": "stderr",
          "text": [
            "\n"
          ]
        },
        {
          "output_type": "stream",
          "name": "stdout",
          "text": [
            "2023-10-18 07:17:50,611 epoch 77 - iter 1/4 - loss 0.00008437 - time (sec): 1.00 - samples/sec: 4757.17 - lr: 0.000018\n",
            "2023-10-18 07:17:51,055 epoch 77 - iter 2/4 - loss 0.00028633 - time (sec): 1.45 - samples/sec: 6316.00 - lr: 0.000018\n",
            "2023-10-18 07:17:51,564 epoch 77 - iter 3/4 - loss 0.00067253 - time (sec): 1.96 - samples/sec: 7389.87 - lr: 0.000018\n",
            "2023-10-18 07:17:51,901 epoch 77 - iter 4/4 - loss 0.00057870 - time (sec): 2.29 - samples/sec: 7817.90 - lr: 0.000018\n",
            "2023-10-18 07:17:51,907 ----------------------------------------------------------------------------------------------------\n",
            "2023-10-18 07:17:51,912 EPOCH 77 done: loss 0.0006 - lr 0.000018\n"
          ]
        },
        {
          "output_type": "stream",
          "name": "stderr",
          "text": [
            "100%|██████████| 1/1 [00:01<00:00,  1.49s/it]"
          ]
        },
        {
          "output_type": "stream",
          "name": "stdout",
          "text": [
            "2023-10-18 07:17:53,409 Evaluating as a multi-label problem: False\n",
            "2023-10-18 07:17:53,433 DEV : loss 0.456798255443573 - f1-score (micro avg)  0.8212\n",
            "2023-10-18 07:17:53,441 ----------------------------------------------------------------------------------------------------\n"
          ]
        },
        {
          "output_type": "stream",
          "name": "stderr",
          "text": [
            "\n"
          ]
        },
        {
          "output_type": "stream",
          "name": "stdout",
          "text": [
            "2023-10-18 07:17:53,869 epoch 78 - iter 1/4 - loss 0.00005905 - time (sec): 0.43 - samples/sec: 12216.81 - lr: 0.000018\n",
            "2023-10-18 07:17:54,254 epoch 78 - iter 2/4 - loss 0.00020589 - time (sec): 0.81 - samples/sec: 12503.94 - lr: 0.000018\n",
            "2023-10-18 07:17:54,694 epoch 78 - iter 3/4 - loss 0.00016935 - time (sec): 1.25 - samples/sec: 11830.14 - lr: 0.000018\n",
            "2023-10-18 07:17:54,946 epoch 78 - iter 4/4 - loss 0.00031588 - time (sec): 1.50 - samples/sec: 11934.74 - lr: 0.000018\n",
            "2023-10-18 07:17:54,947 ----------------------------------------------------------------------------------------------------\n",
            "2023-10-18 07:17:54,952 EPOCH 78 done: loss 0.0003 - lr 0.000018\n"
          ]
        },
        {
          "output_type": "stream",
          "name": "stderr",
          "text": [
            "100%|██████████| 1/1 [00:00<00:00,  1.18it/s]"
          ]
        },
        {
          "output_type": "stream",
          "name": "stdout",
          "text": [
            "2023-10-18 07:17:55,810 Evaluating as a multi-label problem: False\n",
            "2023-10-18 07:17:55,838 DEV : loss 0.4651486277580261 - f1-score (micro avg)  0.8243\n",
            "2023-10-18 07:17:55,850 ----------------------------------------------------------------------------------------------------\n"
          ]
        },
        {
          "output_type": "stream",
          "name": "stderr",
          "text": [
            "\n"
          ]
        },
        {
          "output_type": "stream",
          "name": "stdout",
          "text": [
            "2023-10-18 07:17:56,244 epoch 79 - iter 1/4 - loss 0.00005570 - time (sec): 0.39 - samples/sec: 11644.45 - lr: 0.000017\n",
            "2023-10-18 07:17:56,694 epoch 79 - iter 2/4 - loss 0.00010049 - time (sec): 0.84 - samples/sec: 11790.99 - lr: 0.000017\n",
            "2023-10-18 07:17:57,106 epoch 79 - iter 3/4 - loss 0.00011817 - time (sec): 1.25 - samples/sec: 11752.71 - lr: 0.000017\n",
            "2023-10-18 07:17:57,352 epoch 79 - iter 4/4 - loss 0.00011513 - time (sec): 1.50 - samples/sec: 11962.41 - lr: 0.000017\n",
            "2023-10-18 07:17:57,355 ----------------------------------------------------------------------------------------------------\n",
            "2023-10-18 07:17:57,356 EPOCH 79 done: loss 0.0001 - lr 0.000017\n"
          ]
        },
        {
          "output_type": "stream",
          "name": "stderr",
          "text": [
            "100%|██████████| 1/1 [00:00<00:00,  1.16it/s]"
          ]
        },
        {
          "output_type": "stream",
          "name": "stdout",
          "text": [
            "2023-10-18 07:17:58,233 Evaluating as a multi-label problem: False\n",
            "2023-10-18 07:17:58,248 DEV : loss 0.5096727609634399 - f1-score (micro avg)  0.83\n",
            "2023-10-18 07:17:58,254 ----------------------------------------------------------------------------------------------------\n"
          ]
        },
        {
          "output_type": "stream",
          "name": "stderr",
          "text": [
            "\n"
          ]
        },
        {
          "output_type": "stream",
          "name": "stdout",
          "text": [
            "2023-10-18 07:17:58,708 epoch 80 - iter 1/4 - loss 0.00026477 - time (sec): 0.45 - samples/sec: 12495.83 - lr: 0.000017\n",
            "2023-10-18 07:17:59,088 epoch 80 - iter 2/4 - loss 0.00071881 - time (sec): 0.83 - samples/sec: 12223.10 - lr: 0.000017\n",
            "2023-10-18 07:17:59,431 epoch 80 - iter 3/4 - loss 0.00082464 - time (sec): 1.18 - samples/sec: 12359.22 - lr: 0.000017\n",
            "2023-10-18 07:17:59,730 epoch 80 - iter 4/4 - loss 0.00068601 - time (sec): 1.47 - samples/sec: 12167.11 - lr: 0.000017\n",
            "2023-10-18 07:17:59,732 ----------------------------------------------------------------------------------------------------\n",
            "2023-10-18 07:17:59,736 EPOCH 80 done: loss 0.0007 - lr 0.000017\n"
          ]
        },
        {
          "output_type": "stream",
          "name": "stderr",
          "text": [
            "100%|██████████| 1/1 [00:00<00:00,  1.11it/s]"
          ]
        },
        {
          "output_type": "stream",
          "name": "stdout",
          "text": [
            "2023-10-18 07:18:00,657 Evaluating as a multi-label problem: False\n",
            "2023-10-18 07:18:00,674 DEV : loss 0.5108768343925476 - f1-score (micro avg)  0.8235\n",
            "2023-10-18 07:18:00,683 ----------------------------------------------------------------------------------------------------\n"
          ]
        },
        {
          "output_type": "stream",
          "name": "stderr",
          "text": [
            "\n"
          ]
        },
        {
          "output_type": "stream",
          "name": "stdout",
          "text": [
            "2023-10-18 07:18:01,097 epoch 81 - iter 1/4 - loss 0.00007301 - time (sec): 0.41 - samples/sec: 12439.16 - lr: 0.000016\n",
            "2023-10-18 07:18:01,574 epoch 81 - iter 2/4 - loss 0.00099266 - time (sec): 0.89 - samples/sec: 12141.44 - lr: 0.000016\n",
            "2023-10-18 07:18:01,964 epoch 81 - iter 3/4 - loss 0.00109541 - time (sec): 1.28 - samples/sec: 12078.16 - lr: 0.000016\n",
            "2023-10-18 07:18:02,163 epoch 81 - iter 4/4 - loss 0.00102443 - time (sec): 1.48 - samples/sec: 12128.47 - lr: 0.000016\n",
            "2023-10-18 07:18:02,166 ----------------------------------------------------------------------------------------------------\n",
            "2023-10-18 07:18:02,168 EPOCH 81 done: loss 0.0010 - lr 0.000016\n"
          ]
        },
        {
          "output_type": "stream",
          "name": "stderr",
          "text": [
            "100%|██████████| 1/1 [00:00<00:00,  1.12it/s]"
          ]
        },
        {
          "output_type": "stream",
          "name": "stdout",
          "text": [
            "2023-10-18 07:18:03,078 Evaluating as a multi-label problem: False\n",
            "2023-10-18 07:18:03,099 DEV : loss 0.4693785607814789 - f1-score (micro avg)  0.8379\n",
            "2023-10-18 07:18:03,107 ----------------------------------------------------------------------------------------------------\n"
          ]
        },
        {
          "output_type": "stream",
          "name": "stderr",
          "text": [
            "\n"
          ]
        },
        {
          "output_type": "stream",
          "name": "stdout",
          "text": [
            "2023-10-18 07:18:04,072 epoch 82 - iter 1/4 - loss 0.00009944 - time (sec): 0.96 - samples/sec: 5270.33 - lr: 0.000016\n",
            "2023-10-18 07:18:04,558 epoch 82 - iter 2/4 - loss 0.00012450 - time (sec): 1.45 - samples/sec: 6653.40 - lr: 0.000016\n",
            "2023-10-18 07:18:05,031 epoch 82 - iter 3/4 - loss 0.00011642 - time (sec): 1.92 - samples/sec: 7529.20 - lr: 0.000016\n",
            "2023-10-18 07:18:05,354 epoch 82 - iter 4/4 - loss 0.00049586 - time (sec): 2.24 - samples/sec: 7995.80 - lr: 0.000016\n",
            "2023-10-18 07:18:05,359 ----------------------------------------------------------------------------------------------------\n",
            "2023-10-18 07:18:05,366 EPOCH 82 done: loss 0.0005 - lr 0.000016\n"
          ]
        },
        {
          "output_type": "stream",
          "name": "stderr",
          "text": [
            "100%|██████████| 1/1 [00:01<00:00,  1.75s/it]"
          ]
        },
        {
          "output_type": "stream",
          "name": "stdout",
          "text": [
            "2023-10-18 07:18:07,127 Evaluating as a multi-label problem: False\n",
            "2023-10-18 07:18:07,154 DEV : loss 0.48672953248023987 - f1-score (micro avg)  0.7936\n",
            "2023-10-18 07:18:07,168 ----------------------------------------------------------------------------------------------------\n"
          ]
        },
        {
          "output_type": "stream",
          "name": "stderr",
          "text": [
            "\n"
          ]
        },
        {
          "output_type": "stream",
          "name": "stdout",
          "text": [
            "2023-10-18 07:18:07,672 epoch 83 - iter 1/4 - loss 0.00079536 - time (sec): 0.50 - samples/sec: 10029.42 - lr: 0.000015\n",
            "2023-10-18 07:18:08,169 epoch 83 - iter 2/4 - loss 0.00162742 - time (sec): 1.00 - samples/sec: 9836.59 - lr: 0.000015\n",
            "2023-10-18 07:18:08,715 epoch 83 - iter 3/4 - loss 0.00110015 - time (sec): 1.54 - samples/sec: 9657.87 - lr: 0.000015\n",
            "2023-10-18 07:18:09,018 epoch 83 - iter 4/4 - loss 0.00092293 - time (sec): 1.85 - samples/sec: 9722.62 - lr: 0.000015\n",
            "2023-10-18 07:18:09,023 ----------------------------------------------------------------------------------------------------\n",
            "2023-10-18 07:18:09,026 EPOCH 83 done: loss 0.0009 - lr 0.000015\n"
          ]
        },
        {
          "output_type": "stream",
          "name": "stderr",
          "text": [
            "100%|██████████| 1/1 [00:01<00:00,  1.19s/it]"
          ]
        },
        {
          "output_type": "stream",
          "name": "stdout",
          "text": [
            "2023-10-18 07:18:10,232 Evaluating as a multi-label problem: False\n",
            "2023-10-18 07:18:10,253 DEV : loss 0.4980490505695343 - f1-score (micro avg)  0.8193\n",
            "2023-10-18 07:18:10,262 ----------------------------------------------------------------------------------------------------\n"
          ]
        },
        {
          "output_type": "stream",
          "name": "stderr",
          "text": [
            "\n"
          ]
        },
        {
          "output_type": "stream",
          "name": "stdout",
          "text": [
            "2023-10-18 07:18:10,649 epoch 84 - iter 1/4 - loss 0.00013470 - time (sec): 0.38 - samples/sec: 12014.60 - lr: 0.000015\n",
            "2023-10-18 07:18:11,037 epoch 84 - iter 2/4 - loss 0.00010499 - time (sec): 0.77 - samples/sec: 11998.48 - lr: 0.000015\n",
            "2023-10-18 07:18:11,486 epoch 84 - iter 3/4 - loss 0.00009439 - time (sec): 1.22 - samples/sec: 12230.42 - lr: 0.000015\n",
            "2023-10-18 07:18:11,751 epoch 84 - iter 4/4 - loss 0.00008901 - time (sec): 1.49 - samples/sec: 12066.91 - lr: 0.000015\n",
            "2023-10-18 07:18:11,753 ----------------------------------------------------------------------------------------------------\n",
            "2023-10-18 07:18:11,761 EPOCH 84 done: loss 0.0001 - lr 0.000015\n"
          ]
        },
        {
          "output_type": "stream",
          "name": "stderr",
          "text": [
            "100%|██████████| 1/1 [00:00<00:00,  1.14it/s]"
          ]
        },
        {
          "output_type": "stream",
          "name": "stdout",
          "text": [
            "2023-10-18 07:18:12,654 Evaluating as a multi-label problem: False\n",
            "2023-10-18 07:18:12,682 DEV : loss 0.5598134994506836 - f1-score (micro avg)  0.8162\n",
            "2023-10-18 07:18:12,689 ----------------------------------------------------------------------------------------------------\n"
          ]
        },
        {
          "output_type": "stream",
          "name": "stderr",
          "text": [
            "\n"
          ]
        },
        {
          "output_type": "stream",
          "name": "stdout",
          "text": [
            "2023-10-18 07:18:13,086 epoch 85 - iter 1/4 - loss 0.00007718 - time (sec): 0.40 - samples/sec: 11872.60 - lr: 0.000014\n",
            "2023-10-18 07:18:13,482 epoch 85 - iter 2/4 - loss 0.00006506 - time (sec): 0.79 - samples/sec: 11557.22 - lr: 0.000014\n",
            "2023-10-18 07:18:13,868 epoch 85 - iter 3/4 - loss 0.00007530 - time (sec): 1.18 - samples/sec: 12407.54 - lr: 0.000014\n",
            "2023-10-18 07:18:14,159 epoch 85 - iter 4/4 - loss 0.00007054 - time (sec): 1.47 - samples/sec: 12218.83 - lr: 0.000014\n",
            "2023-10-18 07:18:14,161 ----------------------------------------------------------------------------------------------------\n",
            "2023-10-18 07:18:14,165 EPOCH 85 done: loss 0.0001 - lr 0.000014\n"
          ]
        },
        {
          "output_type": "stream",
          "name": "stderr",
          "text": [
            "100%|██████████| 1/1 [00:00<00:00,  1.14it/s]"
          ]
        },
        {
          "output_type": "stream",
          "name": "stdout",
          "text": [
            "2023-10-18 07:18:15,054 Evaluating as a multi-label problem: False\n",
            "2023-10-18 07:18:15,075 DEV : loss 0.565240204334259 - f1-score (micro avg)  0.8138\n",
            "2023-10-18 07:18:15,082 ----------------------------------------------------------------------------------------------------\n"
          ]
        },
        {
          "output_type": "stream",
          "name": "stderr",
          "text": [
            "\n"
          ]
        },
        {
          "output_type": "stream",
          "name": "stdout",
          "text": [
            "2023-10-18 07:18:15,543 epoch 86 - iter 1/4 - loss 0.00009925 - time (sec): 0.46 - samples/sec: 13094.93 - lr: 0.000014\n",
            "2023-10-18 07:18:15,952 epoch 86 - iter 2/4 - loss 0.00025447 - time (sec): 0.87 - samples/sec: 12133.74 - lr: 0.000014\n",
            "2023-10-18 07:18:16,311 epoch 86 - iter 3/4 - loss 0.00019732 - time (sec): 1.23 - samples/sec: 12173.73 - lr: 0.000014\n",
            "2023-10-18 07:18:16,553 epoch 86 - iter 4/4 - loss 0.00017378 - time (sec): 1.47 - samples/sec: 12214.64 - lr: 0.000014\n",
            "2023-10-18 07:18:16,555 ----------------------------------------------------------------------------------------------------\n",
            "2023-10-18 07:18:16,559 EPOCH 86 done: loss 0.0002 - lr 0.000014\n"
          ]
        },
        {
          "output_type": "stream",
          "name": "stderr",
          "text": [
            "100%|██████████| 1/1 [00:00<00:00,  1.16it/s]"
          ]
        },
        {
          "output_type": "stream",
          "name": "stdout",
          "text": [
            "2023-10-18 07:18:17,437 Evaluating as a multi-label problem: False\n",
            "2023-10-18 07:18:17,456 DEV : loss 0.5167965888977051 - f1-score (micro avg)  0.8282\n",
            "2023-10-18 07:18:17,464 ----------------------------------------------------------------------------------------------------\n"
          ]
        },
        {
          "output_type": "stream",
          "name": "stderr",
          "text": [
            "\n"
          ]
        },
        {
          "output_type": "stream",
          "name": "stdout",
          "text": [
            "2023-10-18 07:18:17,880 epoch 87 - iter 1/4 - loss 0.00004344 - time (sec): 0.41 - samples/sec: 11860.24 - lr: 0.000014\n",
            "2023-10-18 07:18:18,629 epoch 87 - iter 2/4 - loss 0.00005797 - time (sec): 1.16 - samples/sec: 8815.61 - lr: 0.000013\n",
            "2023-10-18 07:18:19,085 epoch 87 - iter 3/4 - loss 0.00007102 - time (sec): 1.62 - samples/sec: 9425.80 - lr: 0.000013\n",
            "2023-10-18 07:18:19,315 epoch 87 - iter 4/4 - loss 0.00006648 - time (sec): 1.85 - samples/sec: 9704.51 - lr: 0.000013\n",
            "2023-10-18 07:18:19,317 ----------------------------------------------------------------------------------------------------\n",
            "2023-10-18 07:18:19,322 EPOCH 87 done: loss 0.0001 - lr 0.000013\n"
          ]
        },
        {
          "output_type": "stream",
          "name": "stderr",
          "text": [
            "100%|██████████| 1/1 [00:01<00:00,  1.43s/it]"
          ]
        },
        {
          "output_type": "stream",
          "name": "stdout",
          "text": [
            "2023-10-18 07:18:20,765 Evaluating as a multi-label problem: False\n",
            "2023-10-18 07:18:20,788 DEV : loss 0.4667174518108368 - f1-score (micro avg)  0.8389\n",
            "2023-10-18 07:18:20,797 ----------------------------------------------------------------------------------------------------\n"
          ]
        },
        {
          "output_type": "stream",
          "name": "stderr",
          "text": [
            "\n"
          ]
        },
        {
          "output_type": "stream",
          "name": "stdout",
          "text": [
            "2023-10-18 07:18:21,342 epoch 88 - iter 1/4 - loss 0.00004163 - time (sec): 0.54 - samples/sec: 10738.17 - lr: 0.000013\n",
            "2023-10-18 07:18:21,765 epoch 88 - iter 2/4 - loss 0.00004768 - time (sec): 0.96 - samples/sec: 10035.46 - lr: 0.000013\n",
            "2023-10-18 07:18:22,375 epoch 88 - iter 3/4 - loss 0.00010142 - time (sec): 1.57 - samples/sec: 9428.06 - lr: 0.000013\n",
            "2023-10-18 07:18:22,661 epoch 88 - iter 4/4 - loss 0.00009654 - time (sec): 1.86 - samples/sec: 9640.94 - lr: 0.000013\n",
            "2023-10-18 07:18:22,663 ----------------------------------------------------------------------------------------------------\n",
            "2023-10-18 07:18:22,667 EPOCH 88 done: loss 0.0001 - lr 0.000013\n"
          ]
        },
        {
          "output_type": "stream",
          "name": "stderr",
          "text": [
            "100%|██████████| 1/1 [00:01<00:00,  1.71s/it]"
          ]
        },
        {
          "output_type": "stream",
          "name": "stdout",
          "text": [
            "2023-10-18 07:18:24,391 Evaluating as a multi-label problem: False\n",
            "2023-10-18 07:18:24,425 DEV : loss 0.46622374653816223 - f1-score (micro avg)  0.8285\n",
            "2023-10-18 07:18:24,443 ----------------------------------------------------------------------------------------------------\n"
          ]
        },
        {
          "output_type": "stream",
          "name": "stderr",
          "text": [
            "\n"
          ]
        },
        {
          "output_type": "stream",
          "name": "stdout",
          "text": [
            "2023-10-18 07:18:24,917 epoch 89 - iter 1/4 - loss 0.00006186 - time (sec): 0.47 - samples/sec: 10005.81 - lr: 0.000013\n",
            "2023-10-18 07:18:25,510 epoch 89 - iter 2/4 - loss 0.00008185 - time (sec): 1.06 - samples/sec: 9660.19 - lr: 0.000012\n",
            "2023-10-18 07:18:25,996 epoch 89 - iter 3/4 - loss 0.00007114 - time (sec): 1.55 - samples/sec: 9584.39 - lr: 0.000012\n",
            "2023-10-18 07:18:26,314 epoch 89 - iter 4/4 - loss 0.00006435 - time (sec): 1.87 - samples/sec: 9599.61 - lr: 0.000012\n",
            "2023-10-18 07:18:26,321 ----------------------------------------------------------------------------------------------------\n",
            "2023-10-18 07:18:26,325 EPOCH 89 done: loss 0.0001 - lr 0.000012\n"
          ]
        },
        {
          "output_type": "stream",
          "name": "stderr",
          "text": [
            "100%|██████████| 1/1 [00:01<00:00,  1.03s/it]"
          ]
        },
        {
          "output_type": "stream",
          "name": "stdout",
          "text": [
            "2023-10-18 07:18:27,370 Evaluating as a multi-label problem: False\n",
            "2023-10-18 07:18:27,389 DEV : loss 0.4895380735397339 - f1-score (micro avg)  0.8405\n",
            "2023-10-18 07:18:27,398 ----------------------------------------------------------------------------------------------------\n"
          ]
        },
        {
          "output_type": "stream",
          "name": "stderr",
          "text": [
            "\n"
          ]
        },
        {
          "output_type": "stream",
          "name": "stdout",
          "text": [
            "2023-10-18 07:18:27,891 epoch 90 - iter 1/4 - loss 0.00004492 - time (sec): 0.49 - samples/sec: 10657.72 - lr: 0.000012\n",
            "2023-10-18 07:18:28,295 epoch 90 - iter 2/4 - loss 0.00004084 - time (sec): 0.90 - samples/sec: 11418.06 - lr: 0.000012\n",
            "2023-10-18 07:18:28,668 epoch 90 - iter 3/4 - loss 0.00004236 - time (sec): 1.27 - samples/sec: 12087.63 - lr: 0.000012\n",
            "2023-10-18 07:18:28,875 epoch 90 - iter 4/4 - loss 0.00004289 - time (sec): 1.47 - samples/sec: 12166.25 - lr: 0.000012\n",
            "2023-10-18 07:18:28,877 ----------------------------------------------------------------------------------------------------\n",
            "2023-10-18 07:18:28,880 EPOCH 90 done: loss 0.0000 - lr 0.000012\n"
          ]
        },
        {
          "output_type": "stream",
          "name": "stderr",
          "text": [
            "100%|██████████| 1/1 [00:00<00:00,  1.13it/s]"
          ]
        },
        {
          "output_type": "stream",
          "name": "stdout",
          "text": [
            "2023-10-18 07:18:29,777 Evaluating as a multi-label problem: False\n",
            "2023-10-18 07:18:29,799 DEV : loss 0.5260618925094604 - f1-score (micro avg)  0.8358\n",
            "2023-10-18 07:18:29,807 ----------------------------------------------------------------------------------------------------\n"
          ]
        },
        {
          "output_type": "stream",
          "name": "stderr",
          "text": [
            "\n"
          ]
        },
        {
          "output_type": "stream",
          "name": "stdout",
          "text": [
            "2023-10-18 07:18:30,206 epoch 91 - iter 1/4 - loss 0.00005149 - time (sec): 0.40 - samples/sec: 11490.70 - lr: 0.000012\n",
            "2023-10-18 07:18:30,628 epoch 91 - iter 2/4 - loss 0.00004905 - time (sec): 0.82 - samples/sec: 11646.64 - lr: 0.000011\n",
            "2023-10-18 07:18:31,146 epoch 91 - iter 3/4 - loss 0.00004816 - time (sec): 1.34 - samples/sec: 10968.54 - lr: 0.000011\n",
            "2023-10-18 07:18:31,521 epoch 91 - iter 4/4 - loss 0.00004770 - time (sec): 1.71 - samples/sec: 10479.19 - lr: 0.000011\n",
            "2023-10-18 07:18:31,529 ----------------------------------------------------------------------------------------------------\n",
            "2023-10-18 07:18:31,532 EPOCH 91 done: loss 0.0000 - lr 0.000011\n"
          ]
        },
        {
          "output_type": "stream",
          "name": "stderr",
          "text": [
            "100%|██████████| 1/1 [00:01<00:00,  1.79s/it]"
          ]
        },
        {
          "output_type": "stream",
          "name": "stdout",
          "text": [
            "2023-10-18 07:18:33,332 Evaluating as a multi-label problem: False\n",
            "2023-10-18 07:18:33,362 DEV : loss 0.554358720779419 - f1-score (micro avg)  0.8252\n",
            "2023-10-18 07:18:33,373 ----------------------------------------------------------------------------------------------------\n"
          ]
        },
        {
          "output_type": "stream",
          "name": "stderr",
          "text": [
            "\n"
          ]
        },
        {
          "output_type": "stream",
          "name": "stdout",
          "text": [
            "2023-10-18 07:18:34,438 epoch 92 - iter 1/4 - loss 0.00007363 - time (sec): 1.06 - samples/sec: 5061.71 - lr: 0.000011\n",
            "2023-10-18 07:18:34,911 epoch 92 - iter 2/4 - loss 0.00005096 - time (sec): 1.53 - samples/sec: 6496.24 - lr: 0.000011\n",
            "2023-10-18 07:18:35,449 epoch 92 - iter 3/4 - loss 0.00004944 - time (sec): 2.07 - samples/sec: 7406.55 - lr: 0.000011\n",
            "2023-10-18 07:18:35,719 epoch 92 - iter 4/4 - loss 0.00005100 - time (sec): 2.34 - samples/sec: 7666.08 - lr: 0.000011\n",
            "2023-10-18 07:18:35,722 ----------------------------------------------------------------------------------------------------\n",
            "2023-10-18 07:18:35,725 EPOCH 92 done: loss 0.0001 - lr 0.000011\n"
          ]
        },
        {
          "output_type": "stream",
          "name": "stderr",
          "text": [
            "100%|██████████| 1/1 [00:01<00:00,  1.93s/it]"
          ]
        },
        {
          "output_type": "stream",
          "name": "stdout",
          "text": [
            "2023-10-18 07:18:37,663 Evaluating as a multi-label problem: False\n",
            "2023-10-18 07:18:37,695 DEV : loss 0.5323418378829956 - f1-score (micro avg)  0.8272\n",
            "2023-10-18 07:18:37,705 ----------------------------------------------------------------------------------------------------\n"
          ]
        },
        {
          "output_type": "stream",
          "name": "stderr",
          "text": [
            "\n"
          ]
        },
        {
          "output_type": "stream",
          "name": "stdout",
          "text": [
            "2023-10-18 07:18:38,362 epoch 93 - iter 1/4 - loss 0.00002791 - time (sec): 0.65 - samples/sec: 9111.39 - lr: 0.000011\n",
            "2023-10-18 07:18:38,830 epoch 93 - iter 2/4 - loss 0.00002990 - time (sec): 1.12 - samples/sec: 8951.08 - lr: 0.000010\n",
            "2023-10-18 07:18:39,279 epoch 93 - iter 3/4 - loss 0.00003983 - time (sec): 1.57 - samples/sec: 9425.28 - lr: 0.000010\n",
            "2023-10-18 07:18:39,565 epoch 93 - iter 4/4 - loss 0.00004034 - time (sec): 1.86 - samples/sec: 9654.91 - lr: 0.000010\n",
            "2023-10-18 07:18:39,573 ----------------------------------------------------------------------------------------------------\n",
            "2023-10-18 07:18:39,575 EPOCH 93 done: loss 0.0000 - lr 0.000010\n"
          ]
        },
        {
          "output_type": "stream",
          "name": "stderr",
          "text": [
            "100%|██████████| 1/1 [00:01<00:00,  1.72s/it]"
          ]
        },
        {
          "output_type": "stream",
          "name": "stdout",
          "text": [
            "2023-10-18 07:18:41,310 Evaluating as a multi-label problem: False\n",
            "2023-10-18 07:18:41,339 DEV : loss 0.49984028935432434 - f1-score (micro avg)  0.8376\n",
            "2023-10-18 07:18:41,347 ----------------------------------------------------------------------------------------------------\n"
          ]
        },
        {
          "output_type": "stream",
          "name": "stderr",
          "text": [
            "\n"
          ]
        },
        {
          "output_type": "stream",
          "name": "stdout",
          "text": [
            "2023-10-18 07:18:41,868 epoch 94 - iter 1/4 - loss 0.00003290 - time (sec): 0.52 - samples/sec: 10040.47 - lr: 0.000010\n",
            "2023-10-18 07:18:42,359 epoch 94 - iter 2/4 - loss 0.00003690 - time (sec): 1.01 - samples/sec: 9828.37 - lr: 0.000010\n",
            "2023-10-18 07:18:42,841 epoch 94 - iter 3/4 - loss 0.00005059 - time (sec): 1.49 - samples/sec: 9800.60 - lr: 0.000010\n",
            "2023-10-18 07:18:43,199 epoch 94 - iter 4/4 - loss 0.00004880 - time (sec): 1.85 - samples/sec: 9701.17 - lr: 0.000010\n",
            "2023-10-18 07:18:43,204 ----------------------------------------------------------------------------------------------------\n",
            "2023-10-18 07:18:43,207 EPOCH 94 done: loss 0.0000 - lr 0.000010\n"
          ]
        },
        {
          "output_type": "stream",
          "name": "stderr",
          "text": [
            "100%|██████████| 1/1 [00:01<00:00,  1.21s/it]"
          ]
        },
        {
          "output_type": "stream",
          "name": "stdout",
          "text": [
            "2023-10-18 07:18:44,434 Evaluating as a multi-label problem: False\n",
            "2023-10-18 07:18:44,451 DEV : loss 0.49020636081695557 - f1-score (micro avg)  0.8377\n",
            "2023-10-18 07:18:44,460 ----------------------------------------------------------------------------------------------------\n"
          ]
        },
        {
          "output_type": "stream",
          "name": "stderr",
          "text": [
            "\n"
          ]
        },
        {
          "output_type": "stream",
          "name": "stdout",
          "text": [
            "2023-10-18 07:18:44,869 epoch 95 - iter 1/4 - loss 0.00029983 - time (sec): 0.41 - samples/sec: 11212.18 - lr: 0.000010\n",
            "2023-10-18 07:18:45,255 epoch 95 - iter 2/4 - loss 0.00017281 - time (sec): 0.79 - samples/sec: 11651.94 - lr: 0.000009\n",
            "2023-10-18 07:18:45,737 epoch 95 - iter 3/4 - loss 0.00019235 - time (sec): 1.28 - samples/sec: 11714.68 - lr: 0.000009\n",
            "2023-10-18 07:18:45,992 epoch 95 - iter 4/4 - loss 0.00016574 - time (sec): 1.53 - samples/sec: 11718.32 - lr: 0.000009\n",
            "2023-10-18 07:18:45,994 ----------------------------------------------------------------------------------------------------\n",
            "2023-10-18 07:18:45,999 EPOCH 95 done: loss 0.0002 - lr 0.000009\n"
          ]
        },
        {
          "output_type": "stream",
          "name": "stderr",
          "text": [
            "100%|██████████| 1/1 [00:00<00:00,  1.13it/s]"
          ]
        },
        {
          "output_type": "stream",
          "name": "stdout",
          "text": [
            "2023-10-18 07:18:46,901 Evaluating as a multi-label problem: False\n",
            "2023-10-18 07:18:46,923 DEV : loss 0.4933803677558899 - f1-score (micro avg)  0.8297\n",
            "2023-10-18 07:18:46,931 ----------------------------------------------------------------------------------------------------\n"
          ]
        },
        {
          "output_type": "stream",
          "name": "stderr",
          "text": [
            "\n"
          ]
        },
        {
          "output_type": "stream",
          "name": "stdout",
          "text": [
            "2023-10-18 07:18:47,418 epoch 96 - iter 1/4 - loss 0.00002665 - time (sec): 0.49 - samples/sec: 11933.95 - lr: 0.000009\n",
            "2023-10-18 07:18:47,826 epoch 96 - iter 2/4 - loss 0.00062518 - time (sec): 0.89 - samples/sec: 11767.01 - lr: 0.000009\n",
            "2023-10-18 07:18:48,206 epoch 96 - iter 3/4 - loss 0.00044767 - time (sec): 1.27 - samples/sec: 11898.53 - lr: 0.000009\n",
            "2023-10-18 07:18:48,417 epoch 96 - iter 4/4 - loss 0.00038187 - time (sec): 1.48 - samples/sec: 12091.49 - lr: 0.000009\n",
            "2023-10-18 07:18:48,419 ----------------------------------------------------------------------------------------------------\n",
            "2023-10-18 07:18:48,422 EPOCH 96 done: loss 0.0004 - lr 0.000009\n"
          ]
        },
        {
          "output_type": "stream",
          "name": "stderr",
          "text": [
            "100%|██████████| 1/1 [00:00<00:00,  1.15it/s]"
          ]
        },
        {
          "output_type": "stream",
          "name": "stdout",
          "text": [
            "2023-10-18 07:18:49,304 Evaluating as a multi-label problem: False\n",
            "2023-10-18 07:18:49,320 DEV : loss 0.5001009106636047 - f1-score (micro avg)  0.8337\n",
            "2023-10-18 07:18:49,328 ----------------------------------------------------------------------------------------------------\n"
          ]
        },
        {
          "output_type": "stream",
          "name": "stderr",
          "text": [
            "\n"
          ]
        },
        {
          "output_type": "stream",
          "name": "stdout",
          "text": [
            "2023-10-18 07:18:50,076 epoch 97 - iter 1/4 - loss 0.00006766 - time (sec): 0.75 - samples/sec: 6407.32 - lr: 0.000009\n",
            "2023-10-18 07:18:50,470 epoch 97 - iter 2/4 - loss 0.00005870 - time (sec): 1.14 - samples/sec: 8146.93 - lr: 0.000009\n",
            "2023-10-18 07:18:50,928 epoch 97 - iter 3/4 - loss 0.00005295 - time (sec): 1.60 - samples/sec: 9084.57 - lr: 0.000008\n",
            "2023-10-18 07:18:51,187 epoch 97 - iter 4/4 - loss 0.00006866 - time (sec): 1.86 - samples/sec: 9654.31 - lr: 0.000008\n",
            "2023-10-18 07:18:51,190 ----------------------------------------------------------------------------------------------------\n",
            "2023-10-18 07:18:51,196 EPOCH 97 done: loss 0.0001 - lr 0.000008\n"
          ]
        },
        {
          "output_type": "stream",
          "name": "stderr",
          "text": [
            "100%|██████████| 1/1 [00:00<00:00,  1.11it/s]"
          ]
        },
        {
          "output_type": "stream",
          "name": "stdout",
          "text": [
            "2023-10-18 07:18:52,116 Evaluating as a multi-label problem: False\n",
            "2023-10-18 07:18:52,140 DEV : loss 0.5131349563598633 - f1-score (micro avg)  0.8298\n",
            "2023-10-18 07:18:52,150 ----------------------------------------------------------------------------------------------------\n"
          ]
        },
        {
          "output_type": "stream",
          "name": "stderr",
          "text": [
            "\n"
          ]
        },
        {
          "output_type": "stream",
          "name": "stdout",
          "text": [
            "2023-10-18 07:18:52,544 epoch 98 - iter 1/4 - loss 0.00003947 - time (sec): 0.39 - samples/sec: 12362.76 - lr: 0.000008\n",
            "2023-10-18 07:18:52,867 epoch 98 - iter 2/4 - loss 0.00004043 - time (sec): 0.72 - samples/sec: 12295.87 - lr: 0.000008\n",
            "2023-10-18 07:18:53,276 epoch 98 - iter 3/4 - loss 0.00004959 - time (sec): 1.12 - samples/sec: 12217.51 - lr: 0.000008\n",
            "2023-10-18 07:18:53,594 epoch 98 - iter 4/4 - loss 0.00004923 - time (sec): 1.44 - samples/sec: 12441.49 - lr: 0.000008\n",
            "2023-10-18 07:18:53,597 ----------------------------------------------------------------------------------------------------\n",
            "2023-10-18 07:18:53,599 EPOCH 98 done: loss 0.0000 - lr 0.000008\n"
          ]
        },
        {
          "output_type": "stream",
          "name": "stderr",
          "text": [
            "100%|██████████| 1/1 [00:01<00:00,  1.52s/it]"
          ]
        },
        {
          "output_type": "stream",
          "name": "stdout",
          "text": [
            "2023-10-18 07:18:55,133 Evaluating as a multi-label problem: False\n",
            "2023-10-18 07:18:55,159 DEV : loss 0.5169545412063599 - f1-score (micro avg)  0.8263\n",
            "2023-10-18 07:18:55,169 ----------------------------------------------------------------------------------------------------\n"
          ]
        },
        {
          "output_type": "stream",
          "name": "stderr",
          "text": [
            "\n"
          ]
        },
        {
          "output_type": "stream",
          "name": "stdout",
          "text": [
            "2023-10-18 07:18:55,650 epoch 99 - iter 1/4 - loss 0.00004352 - time (sec): 0.48 - samples/sec: 9206.73 - lr: 0.000008\n",
            "2023-10-18 07:18:56,271 epoch 99 - iter 2/4 - loss 0.00005344 - time (sec): 1.10 - samples/sec: 8940.25 - lr: 0.000008\n",
            "2023-10-18 07:18:56,838 epoch 99 - iter 3/4 - loss 0.00004618 - time (sec): 1.67 - samples/sec: 9089.31 - lr: 0.000007\n",
            "2023-10-18 07:18:57,224 epoch 99 - iter 4/4 - loss 0.00004739 - time (sec): 2.05 - samples/sec: 8738.76 - lr: 0.000007\n",
            "2023-10-18 07:18:57,232 ----------------------------------------------------------------------------------------------------\n",
            "2023-10-18 07:18:57,234 EPOCH 99 done: loss 0.0000 - lr 0.000007\n"
          ]
        },
        {
          "output_type": "stream",
          "name": "stderr",
          "text": [
            "100%|██████████| 1/1 [00:02<00:00,  2.44s/it]"
          ]
        },
        {
          "output_type": "stream",
          "name": "stdout",
          "text": [
            "2023-10-18 07:18:59,690 Evaluating as a multi-label problem: False\n",
            "2023-10-18 07:18:59,718 DEV : loss 0.5186870098114014 - f1-score (micro avg)  0.828\n",
            "2023-10-18 07:18:59,727 ----------------------------------------------------------------------------------------------------\n"
          ]
        },
        {
          "output_type": "stream",
          "name": "stderr",
          "text": [
            "\n"
          ]
        },
        {
          "output_type": "stream",
          "name": "stdout",
          "text": [
            "2023-10-18 07:19:00,257 epoch 100 - iter 1/4 - loss 0.00003614 - time (sec): 0.53 - samples/sec: 8479.31 - lr: 0.000007\n",
            "2023-10-18 07:19:00,944 epoch 100 - iter 2/4 - loss 0.00003443 - time (sec): 1.21 - samples/sec: 7970.93 - lr: 0.000007\n",
            "2023-10-18 07:19:01,409 epoch 100 - iter 3/4 - loss 0.00003853 - time (sec): 1.68 - samples/sec: 8514.45 - lr: 0.000007\n",
            "2023-10-18 07:19:01,764 epoch 100 - iter 4/4 - loss 0.00003894 - time (sec): 2.03 - samples/sec: 8818.84 - lr: 0.000007\n",
            "2023-10-18 07:19:01,767 ----------------------------------------------------------------------------------------------------\n",
            "2023-10-18 07:19:01,770 EPOCH 100 done: loss 0.0000 - lr 0.000007\n"
          ]
        },
        {
          "output_type": "stream",
          "name": "stderr",
          "text": [
            "100%|██████████| 1/1 [00:01<00:00,  1.85s/it]"
          ]
        },
        {
          "output_type": "stream",
          "name": "stdout",
          "text": [
            "2023-10-18 07:19:03,636 Evaluating as a multi-label problem: False\n",
            "2023-10-18 07:19:03,667 DEV : loss 0.5190640091896057 - f1-score (micro avg)  0.8305\n"
          ]
        },
        {
          "output_type": "stream",
          "name": "stderr",
          "text": [
            "\n"
          ]
        },
        {
          "output_type": "stream",
          "name": "stdout",
          "text": [
            "2023-10-18 07:19:04,565 ----------------------------------------------------------------------------------------------------\n",
            "2023-10-18 07:19:04,568 Testing using last state of model ...\n"
          ]
        },
        {
          "output_type": "stream",
          "name": "stderr",
          "text": [
            "100%|██████████| 1/1 [00:01<00:00,  1.89s/it]"
          ]
        },
        {
          "output_type": "stream",
          "name": "stdout",
          "text": [
            "2023-10-18 07:19:06,469 Evaluating as a multi-label problem: False\n",
            "2023-10-18 07:19:06,498 0.7537\t0.8836\t0.8135\t0.6856\n",
            "2023-10-18 07:19:06,503 \n",
            "Results:\n",
            "- F-score (micro) 0.8135\n",
            "- F-score (macro) 0.7353\n",
            "- Accuracy 0.6856\n",
            "\n",
            "By class:\n",
            "              precision    recall  f1-score   support\n",
            "\n",
            "      Winner     0.5847    0.8023    0.6765        86\n",
            " Nationality     0.9143    0.9143    0.9143        70\n",
            "        Date     0.9545    1.0000    0.9767        63\n",
            "   Prizetype     0.7000    1.0000    0.8235         7\n",
            "      Reason     0.2500    0.3333    0.2857         6\n",
            "\n",
            "   micro avg     0.7537    0.8836    0.8135       232\n",
            "   macro avg     0.6807    0.8100    0.7353       232\n",
            "weighted avg     0.7794    0.8836    0.8241       232\n",
            "\n",
            "2023-10-18 07:19:06,504 ----------------------------------------------------------------------------------------------------\n"
          ]
        },
        {
          "output_type": "stream",
          "name": "stderr",
          "text": [
            "\n"
          ]
        },
        {
          "output_type": "execute_result",
          "data": {
            "text/plain": [
              "{'test_score': 0.8134920634920635,\n",
              " 'dev_score_history': [0.5413533834586466,\n",
              "  0.544529262086514,\n",
              "  0.5740740740740741,\n",
              "  0.5949656750572082,\n",
              "  0.6278026905829597,\n",
              "  0.6403508771929824,\n",
              "  0.691144708423326,\n",
              "  0.6989010989010989,\n",
              "  0.7079303675048356,\n",
              "  0.7085714285714285,\n",
              "  0.7344398340248962,\n",
              "  0.7532467532467534,\n",
              "  0.7705263157894738,\n",
              "  0.7668845315904139,\n",
              "  0.7612903225806452,\n",
              "  0.7741935483870968,\n",
              "  0.8113590263691685,\n",
              "  0.8163265306122449,\n",
              "  0.8008658008658008,\n",
              "  0.7814569536423841,\n",
              "  0.8134920634920635,\n",
              "  0.7699316628701594,\n",
              "  0.8063872255489022,\n",
              "  0.7902869757174393,\n",
              "  0.8230452674897119,\n",
              "  0.8200836820083682,\n",
              "  0.8297872340425532,\n",
              "  0.808695652173913,\n",
              "  0.8218623481781377,\n",
              "  0.8172043010752688,\n",
              "  0.8225469728601253,\n",
              "  0.793859649122807,\n",
              "  0.8024193548387096,\n",
              "  0.8220338983050847,\n",
              "  0.8170731707317073,\n",
              "  0.8388520971302428,\n",
              "  0.8050847457627118,\n",
              "  0.822269807280514,\n",
              "  0.8470066518847007,\n",
              "  0.8326530612244899,\n",
              "  0.8200836820083682,\n",
              "  0.794759825327511,\n",
              "  0.8154158215010141,\n",
              "  0.8155737704918032,\n",
              "  0.8076923076923076,\n",
              "  0.7788649706457925,\n",
              "  0.7982832618025751,\n",
              "  0.8112798264642083,\n",
              "  0.8113590263691685,\n",
              "  0.7967479674796748,\n",
              "  0.7991071428571428,\n",
              "  0.8073770491803278,\n",
              "  0.8048780487804879,\n",
              "  0.8076923076923076,\n",
              "  0.8075313807531381,\n",
              "  0.8228105906313645,\n",
              "  0.8126315789473685,\n",
              "  0.826271186440678,\n",
              "  0.8357588357588356,\n",
              "  0.8140043763676149,\n",
              "  0.8139059304703475,\n",
              "  0.8232848232848232,\n",
              "  0.8255319148936171,\n",
              "  0.8242677824267783,\n",
              "  0.8128772635814889,\n",
              "  0.8213552361396305,\n",
              "  0.8218029350104822,\n",
              "  0.8282828282828283,\n",
              "  0.8148148148148148,\n",
              "  0.823529411764706,\n",
              "  0.8114035087719298,\n",
              "  0.8351177730192719,\n",
              "  0.8223552894211578,\n",
              "  0.8110236220472441,\n",
              "  0.8261758691206543,\n",
              "  0.8235294117647058,\n",
              "  0.8211920529801323,\n",
              "  0.8242677824267783,\n",
              "  0.8299595141700404,\n",
              "  0.823529411764706,\n",
              "  0.8378947368421054,\n",
              "  0.793577981651376,\n",
              "  0.819327731092437,\n",
              "  0.8161616161616161,\n",
              "  0.813765182186235,\n",
              "  0.8281573498964804,\n",
              "  0.8388520971302428,\n",
              "  0.8285077951002227,\n",
              "  0.8405172413793103,\n",
              "  0.8357588357588356,\n",
              "  0.8252032520325203,\n",
              "  0.8271604938271606,\n",
              "  0.8376068376068376,\n",
              "  0.8377192982456141,\n",
              "  0.8296943231441049,\n",
              "  0.8336933045356371,\n",
              "  0.8297872340425532,\n",
              "  0.826271186440678,\n",
              "  0.8280254777070064,\n",
              "  0.8305084745762712],\n",
              " 'train_loss_history': [0.38528210877189467,\n",
              "  0.3935382490698679,\n",
              "  0.3599618642028907,\n",
              "  0.3470988538603966,\n",
              "  0.3235631723426788,\n",
              "  0.2896220053752578,\n",
              "  0.2575014285648967,\n",
              "  0.22452685966000535,\n",
              "  0.1941606600171221,\n",
              "  0.1545484693916431,\n",
              "  0.12354452363770048,\n",
              "  0.09466033760344236,\n",
              "  0.07643277639396799,\n",
              "  0.05294237752920489,\n",
              "  0.04170668884620945,\n",
              "  0.03691473847600729,\n",
              "  0.028019164253202118,\n",
              "  0.020814303151540987,\n",
              "  0.018958613357046405,\n",
              "  0.0180677026219541,\n",
              "  0.014562667941084993,\n",
              "  0.014254712518936855,\n",
              "  0.012465555501365588,\n",
              "  0.009103896326726644,\n",
              "  0.008402168827174891,\n",
              "  0.006192850685194047,\n",
              "  0.004396215768091908,\n",
              "  0.004377029218652975,\n",
              "  0.004813240573900705,\n",
              "  0.004718983414566349,\n",
              "  0.004391805934677435,\n",
              "  0.004321189330949226,\n",
              "  0.0031848054527272933,\n",
              "  0.0043660229739852585,\n",
              "  0.0030376166844472965,\n",
              "  0.00335255820551456,\n",
              "  0.0031288875849654553,\n",
              "  0.002471787482624661,\n",
              "  0.0022219419811595996,\n",
              "  0.0023838428275972283,\n",
              "  0.0023186940239475267,\n",
              "  0.000976846526547636,\n",
              "  0.001245275109077761,\n",
              "  0.001689628556476217,\n",
              "  0.001050048538636659,\n",
              "  0.0014428407490356438,\n",
              "  0.0016253118989167422,\n",
              "  0.0015111374726137863,\n",
              "  0.0009250330968841609,\n",
              "  0.0009942380064114913,\n",
              "  0.0012241478953949683,\n",
              "  0.002397732048700183,\n",
              "  0.0009920221262502802,\n",
              "  0.00041146264361415603,\n",
              "  0.0004220056690624091,\n",
              "  0.00031035748169139227,\n",
              "  0.0015934202943609136,\n",
              "  0.001376243413979709,\n",
              "  0.00047731172293632247,\n",
              "  0.0007122194253377084,\n",
              "  0.00021586111640260408,\n",
              "  0.000554800191376628,\n",
              "  0.0007824645623283158,\n",
              "  0.0001691023340379904,\n",
              "  0.0011498536940542168,\n",
              "  0.0005435470480642738,\n",
              "  0.0007072786185582089,\n",
              "  0.0003906167189377645,\n",
              "  0.002259826880754233,\n",
              "  0.001791125821346995,\n",
              "  0.0005095795600099724,\n",
              "  0.0007388768111853475,\n",
              "  0.000309831895368978,\n",
              "  0.00044631329768677166,\n",
              "  0.0003994481847687686,\n",
              "  0.0022518277719768883,\n",
              "  0.0005786988134003026,\n",
              "  0.00031587845452167633,\n",
              "  0.00011513418865857678,\n",
              "  0.0006860094264853154,\n",
              "  0.0010244259699538735,\n",
              "  0.0004958552026767262,\n",
              "  0.0009229276270101212,\n",
              "  8.901135840149376e-05,\n",
              "  7.05423678557654e-05,\n",
              "  0.00017378065994860808,\n",
              "  6.648166604839661e-05,\n",
              "  9.653526872477865e-05,\n",
              "  6.434772441661064e-05,\n",
              "  4.28870348559329e-05,\n",
              "  4.769953309436498e-05,\n",
              "  5.099786205984372e-05,\n",
              "  4.033830298620498e-05,\n",
              "  4.8800088624266915e-05,\n",
              "  0.00016574055325206883,\n",
              "  0.0003818728224495357,\n",
              "  6.865723599798071e-05,\n",
              "  4.9231841900258164e-05,\n",
              "  4.738963694817233e-05,\n",
              "  3.893776409974579e-05],\n",
              " 'dev_loss_history': [0.3801349997520447,\n",
              "  0.3710647225379944,\n",
              "  0.35244816541671753,\n",
              "  0.3273974061012268,\n",
              "  0.2986634075641632,\n",
              "  0.2722673714160919,\n",
              "  0.2477485090494156,\n",
              "  0.231901615858078,\n",
              "  0.2242256999015808,\n",
              "  0.21419619023799896,\n",
              "  0.21178041398525238,\n",
              "  0.2194720208644867,\n",
              "  0.21911773085594177,\n",
              "  0.2296692430973053,\n",
              "  0.2317368984222412,\n",
              "  0.24368225038051605,\n",
              "  0.26230254769325256,\n",
              "  0.2585885524749756,\n",
              "  0.2707056701183319,\n",
              "  0.2837480902671814,\n",
              "  0.3142551779747009,\n",
              "  0.27955740690231323,\n",
              "  0.31052520871162415,\n",
              "  0.27704504132270813,\n",
              "  0.31835097074508667,\n",
              "  0.2985176742076874,\n",
              "  0.31370437145233154,\n",
              "  0.3362366855144501,\n",
              "  0.36257216334342957,\n",
              "  0.3134951591491699,\n",
              "  0.3229198753833771,\n",
              "  0.3078605532646179,\n",
              "  0.39263200759887695,\n",
              "  0.32753077149391174,\n",
              "  0.3442530930042267,\n",
              "  0.3279556334018707,\n",
              "  0.36498594284057617,\n",
              "  0.363710880279541,\n",
              "  0.3462221324443817,\n",
              "  0.3782063126564026,\n",
              "  0.3830019235610962,\n",
              "  0.40816548466682434,\n",
              "  0.4458097219467163,\n",
              "  0.42761048674583435,\n",
              "  0.41704463958740234,\n",
              "  0.49057841300964355,\n",
              "  0.40474921464920044,\n",
              "  0.38564127683639526,\n",
              "  0.41618508100509644,\n",
              "  0.4278477728366852,\n",
              "  0.39132481813430786,\n",
              "  0.40893030166625977,\n",
              "  0.4162718653678894,\n",
              "  0.3882068991661072,\n",
              "  0.4069691300392151,\n",
              "  0.4638877511024475,\n",
              "  0.408692866563797,\n",
              "  0.3946821689605713,\n",
              "  0.41415685415267944,\n",
              "  0.41613849997520447,\n",
              "  0.45937493443489075,\n",
              "  0.4573623239994049,\n",
              "  0.4214358329772949,\n",
              "  0.4894810616970062,\n",
              "  0.5422725081443787,\n",
              "  0.5004767775535583,\n",
              "  0.47425687313079834,\n",
              "  0.5067055821418762,\n",
              "  0.5734437108039856,\n",
              "  0.5173284411430359,\n",
              "  0.4564497470855713,\n",
              "  0.4639681279659271,\n",
              "  0.5425716042518616,\n",
              "  0.5948061347007751,\n",
              "  0.505949079990387,\n",
              "  0.4492869973182678,\n",
              "  0.456798255443573,\n",
              "  0.4651486277580261,\n",
              "  0.5096727609634399,\n",
              "  0.5108768343925476,\n",
              "  0.4693785607814789,\n",
              "  0.48672953248023987,\n",
              "  0.4980490505695343,\n",
              "  0.5598134994506836,\n",
              "  0.565240204334259,\n",
              "  0.5167965888977051,\n",
              "  0.4667174518108368,\n",
              "  0.46622374653816223,\n",
              "  0.4895380735397339,\n",
              "  0.5260618925094604,\n",
              "  0.554358720779419,\n",
              "  0.5323418378829956,\n",
              "  0.49984028935432434,\n",
              "  0.49020636081695557,\n",
              "  0.4933803677558899,\n",
              "  0.5001009106636047,\n",
              "  0.5131349563598633,\n",
              "  0.5169545412063599,\n",
              "  0.5186870098114014,\n",
              "  0.5190640091896057]}"
            ]
          },
          "metadata": {},
          "execution_count": 15
        }
      ]
    },
    {
      "cell_type": "code",
      "source": [
        "from flair.data import Sentence\n",
        "from flair.models import SequenceTagger\n",
        "\n",
        "# load the trained model\n",
        "model = SequenceTagger.load(\"resources/taggers/ner/final-model.pt\")\n",
        "\n",
        "# create example sentence\n",
        "sentence = Sentence('Barack Hussein Obama II ( born August 4, 1961) is an American politician who served as the 44th president of the United States from 2009 to 2017. A member of the Democratic Party, he was the first African-American president. Obama previously served as a U.S. senator representing Illinois from 2005 to 2008 and as an Illinois state senator from 1997 to 2004, and worked as a civil rights lawyer and university lecturer. ')\n",
        "\n",
        "# predict the tags\n",
        "model.predict(sentence)\n",
        "print(sentence.to_tagged_string())"
      ],
      "metadata": {
        "colab": {
          "base_uri": "https://localhost:8080/"
        },
        "id": "W0lI19utv81D",
        "outputId": "3348b798-854b-495f-e25d-17298f11af2d"
      },
      "execution_count": 16,
      "outputs": [
        {
          "output_type": "stream",
          "name": "stdout",
          "text": [
            "2023-10-18 07:19:33,602 SequenceTagger predicts: Dictionary with 11 tags: O, B-Winner, I-Winner, B-Date, I-Date, B-Nationality, I-Nationality, B-Prizetype, I-Prizetype, B-Reason, I-Reason\n",
            "Sentence[79]: \"Barack Hussein Obama II ( born August 4, 1961) is an American politician who served as the 44th president of the United States from 2009 to 2017. A member of the Democratic Party, he was the first African-American president. Obama previously served as a U.S. senator representing Illinois from 2005 to 2008 and as an Illinois state senator from 1997 to 2004, and worked as a civil rights lawyer and university lecturer.\" → [\"Barack Hussein Obama II\"/Winner, \"August 4, 1961\"/Date, \"American\"/Nationality, \"the United States\"/Nationality, \"he\"/Winner, \"African-American\"/Nationality, \"Obama\"/Winner, \"U.S.\"/Nationality, \"Illinois\"/Nationality]\n"
          ]
        }
      ]
    },
    {
      "cell_type": "code",
      "source": [
        "from flair.embeddings import TransformerWordEmbeddings\n",
        "from flair.models import RelationExtractor\n",
        "\n",
        "relation_label_dict = corpus.make_label_dictionary(label_type=\"relation\")\n",
        "results_base_path = 'resources/relations/'\n",
        "relation_model: RelationExtractor = RelationExtractor(\n",
        "        embeddings=embeddings,\n",
        "        label_dictionary=relation_label_dict,\n",
        "        label_type=\"relation\",\n",
        "        entity_label_type=\"ner\",\n",
        "        train_on_gold_pairs_only=True,\n",
        "    )\n",
        "\n",
        "trainer: ModelTrainer = ModelTrainer(relation_model, corpus)\n",
        "\n",
        "trainer.train(\n",
        "        results_base_path,\n",
        "        learning_rate=0.1,\n",
        "        mini_batch_size=2,\n",
        "        max_epochs=10,\n",
        "        shuffle=True,\n",
        "    )"
      ],
      "metadata": {
        "id": "1VWjTu33jy3U",
        "colab": {
          "base_uri": "https://localhost:8080/"
        },
        "outputId": "3fe4b74c-07fb-4037-c483-6f83550aa78d"
      },
      "execution_count": 20,
      "outputs": [
        {
          "output_type": "stream",
          "name": "stdout",
          "text": [
            "2023-10-18 07:38:44,424 Computing label dictionary. Progress:\n"
          ]
        },
        {
          "output_type": "stream",
          "name": "stderr",
          "text": [
            "58it [00:00, 7670.49it/s]"
          ]
        },
        {
          "output_type": "stream",
          "name": "stdout",
          "text": [
            "2023-10-18 07:38:44,441 Dictionary created for label 'relation' with 8 values: same_as (seen 220 times), received_nobelprize_in (seen 89 times), has_won (seen 83 times), has_nationality (seen 63 times), received_nobelprize_for (seen 60 times), born_on (seen 47 times), died_on (seen 24 times)\n",
            "2023-10-18 07:38:44,493 ----------------------------------------------------------------------------------------------------\n",
            "2023-10-18 07:38:44,496 Model: \"RelationExtractor(\n",
            "  (embeddings): TransformerWordEmbeddings(\n",
            "    (model): DistilBertModel(\n",
            "      (embeddings): Embeddings(\n",
            "        (word_embeddings): Embedding(28997, 768)\n",
            "        (position_embeddings): Embedding(512, 768)\n",
            "        (LayerNorm): LayerNorm((768,), eps=1e-12, elementwise_affine=True)\n",
            "        (dropout): Dropout(p=0.1, inplace=False)\n",
            "      )\n",
            "      (transformer): Transformer(\n",
            "        (layer): ModuleList(\n",
            "          (0-5): 6 x TransformerBlock(\n",
            "            (attention): MultiHeadSelfAttention(\n",
            "              (dropout): Dropout(p=0.1, inplace=False)\n",
            "              (q_lin): Linear(in_features=768, out_features=768, bias=True)\n",
            "              (k_lin): Linear(in_features=768, out_features=768, bias=True)\n",
            "              (v_lin): Linear(in_features=768, out_features=768, bias=True)\n",
            "              (out_lin): Linear(in_features=768, out_features=768, bias=True)\n",
            "            )\n",
            "            (sa_layer_norm): LayerNorm((768,), eps=1e-12, elementwise_affine=True)\n",
            "            (ffn): FFN(\n",
            "              (dropout): Dropout(p=0.1, inplace=False)\n",
            "              (lin1): Linear(in_features=768, out_features=3072, bias=True)\n",
            "              (lin2): Linear(in_features=3072, out_features=768, bias=True)\n",
            "              (activation): GELUActivation()\n",
            "            )\n",
            "            (output_layer_norm): LayerNorm((768,), eps=1e-12, elementwise_affine=True)\n",
            "          )\n",
            "        )\n",
            "      )\n",
            "    )\n",
            "  )\n",
            "  (decoder): Linear(in_features=3072, out_features=8, bias=True)\n",
            "  (dropout): Dropout(p=0.0, inplace=False)\n",
            "  (locked_dropout): LockedDropout(p=0.0)\n",
            "  (word_dropout): WordDropout(p=0.0)\n",
            "  (loss_function): CrossEntropyLoss()\n",
            "  (weights): None\n",
            "  (weight_tensor) None\n",
            ")\"\n",
            "2023-10-18 07:38:44,498 ----------------------------------------------------------------------------------------------------\n",
            "2023-10-18 07:38:44,500 Corpus: \"Corpus: 58 train + 9 dev + 10 test sentences\"\n",
            "2023-10-18 07:38:44,502 ----------------------------------------------------------------------------------------------------\n",
            "2023-10-18 07:38:44,505 Parameters:\n",
            "2023-10-18 07:38:44,507  - learning_rate: \"0.100000\"\n",
            "2023-10-18 07:38:44,509  - mini_batch_size: \"2\"\n",
            "2023-10-18 07:38:44,509  - patience: \"3\"\n",
            "2023-10-18 07:38:44,511  - anneal_factor: \"0.5\"\n",
            "2023-10-18 07:38:44,512  - max_epochs: \"10\"\n",
            "2023-10-18 07:38:44,513  - shuffle: \"True\"\n",
            "2023-10-18 07:38:44,514  - train_with_dev: \"False\"\n",
            "2023-10-18 07:38:44,515  - batch_growth_annealing: \"False\"\n",
            "2023-10-18 07:38:44,516 ----------------------------------------------------------------------------------------------------\n",
            "2023-10-18 07:38:44,517 Model training base path: \"resources/relations\"\n",
            "2023-10-18 07:38:44,518 ----------------------------------------------------------------------------------------------------\n",
            "2023-10-18 07:38:44,519 Device: cuda:0\n",
            "2023-10-18 07:38:44,520 ----------------------------------------------------------------------------------------------------\n",
            "2023-10-18 07:38:44,521 Embeddings storage mode: cpu\n",
            "2023-10-18 07:38:44,522 ----------------------------------------------------------------------------------------------------\n"
          ]
        },
        {
          "output_type": "stream",
          "name": "stderr",
          "text": [
            "\n",
            "/usr/local/lib/python3.10/dist-packages/flair/trainers/trainer.py:69: UserWarning: There should be no best model saved at epoch 1 except there is a model from previous trainings in your training folder. All previous best models will be deleted.\n",
            "  warnings.warn(\n"
          ]
        },
        {
          "output_type": "stream",
          "name": "stdout",
          "text": [
            "2023-10-18 07:38:44,729 epoch 1 - iter 2/29 - loss 1.85191674 - time (sec): 0.21 - samples/sec: 227.57 - lr: 0.100000\n",
            "2023-10-18 07:38:44,859 epoch 1 - iter 4/29 - loss 1.47210910 - time (sec): 0.34 - samples/sec: 249.98 - lr: 0.100000\n",
            "2023-10-18 07:38:44,984 epoch 1 - iter 6/29 - loss 0.97665696 - time (sec): 0.46 - samples/sec: 288.58 - lr: 0.100000\n",
            "2023-10-18 07:38:45,079 epoch 1 - iter 8/29 - loss 0.94820253 - time (sec): 0.56 - samples/sec: 246.21 - lr: 0.100000\n",
            "2023-10-18 07:38:45,207 epoch 1 - iter 10/29 - loss 0.68593330 - time (sec): 0.68 - samples/sec: 277.63 - lr: 0.100000\n",
            "2023-10-18 07:38:45,324 epoch 1 - iter 12/29 - loss 0.54710549 - time (sec): 0.80 - samples/sec: 298.12 - lr: 0.100000\n",
            "2023-10-18 07:38:45,455 epoch 1 - iter 14/29 - loss 0.45003980 - time (sec): 0.93 - samples/sec: 312.20 - lr: 0.100000\n",
            "2023-10-18 07:38:45,554 epoch 1 - iter 16/29 - loss 0.40010276 - time (sec): 1.03 - samples/sec: 319.04 - lr: 0.100000\n",
            "2023-10-18 07:38:45,750 epoch 1 - iter 18/29 - loss 0.35309949 - time (sec): 1.23 - samples/sec: 318.66 - lr: 0.100000\n",
            "2023-10-18 07:38:45,857 epoch 1 - iter 20/29 - loss 0.32795783 - time (sec): 1.33 - samples/sec: 315.47 - lr: 0.100000\n",
            "2023-10-18 07:38:45,989 epoch 1 - iter 22/29 - loss 0.29951378 - time (sec): 1.47 - samples/sec: 314.39 - lr: 0.100000\n",
            "2023-10-18 07:38:46,093 epoch 1 - iter 24/29 - loss 0.27560555 - time (sec): 1.57 - samples/sec: 319.08 - lr: 0.100000\n",
            "2023-10-18 07:38:46,223 epoch 1 - iter 26/29 - loss 0.26450108 - time (sec): 1.70 - samples/sec: 326.31 - lr: 0.100000\n",
            "2023-10-18 07:38:46,345 epoch 1 - iter 28/29 - loss 0.26843703 - time (sec): 1.82 - samples/sec: 317.73 - lr: 0.100000\n",
            "2023-10-18 07:38:46,421 ----------------------------------------------------------------------------------------------------\n",
            "2023-10-18 07:38:46,422 EPOCH 1 done: loss 0.2652 - lr 0.100000\n"
          ]
        },
        {
          "output_type": "stream",
          "name": "stderr",
          "text": [
            "100%|██████████| 5/5 [00:00<00:00,  6.45it/s]"
          ]
        },
        {
          "output_type": "stream",
          "name": "stdout",
          "text": [
            "2023-10-18 07:38:47,220 Evaluating as a multi-label problem: False\n",
            "2023-10-18 07:38:47,275 DEV : loss 8.76096248626709 - f1-score (micro avg)  0.0259\n",
            "2023-10-18 07:38:47,287 BAD EPOCHS (no improvement): 0\n",
            "2023-10-18 07:38:47,289 saving best model\n"
          ]
        },
        {
          "output_type": "stream",
          "name": "stderr",
          "text": [
            "\n"
          ]
        },
        {
          "output_type": "stream",
          "name": "stdout",
          "text": [
            "2023-10-18 07:38:47,841 ----------------------------------------------------------------------------------------------------\n",
            "2023-10-18 07:38:48,000 epoch 2 - iter 2/29 - loss 0.00003107 - time (sec): 0.16 - samples/sec: 421.02 - lr: 0.100000\n",
            "2023-10-18 07:38:48,130 epoch 2 - iter 4/29 - loss 0.00003593 - time (sec): 0.29 - samples/sec: 366.20 - lr: 0.100000\n",
            "2023-10-18 07:38:48,252 epoch 2 - iter 6/29 - loss 0.00516993 - time (sec): 0.41 - samples/sec: 332.25 - lr: 0.100000\n",
            "2023-10-18 07:38:48,435 epoch 2 - iter 8/29 - loss 0.00379658 - time (sec): 0.59 - samples/sec: 315.77 - lr: 0.100000\n",
            "2023-10-18 07:38:48,547 epoch 2 - iter 10/29 - loss 0.00303374 - time (sec): 0.70 - samples/sec: 333.97 - lr: 0.100000\n",
            "2023-10-18 07:38:48,717 epoch 2 - iter 12/29 - loss 0.00263882 - time (sec): 0.87 - samples/sec: 311.21 - lr: 0.100000\n",
            "2023-10-18 07:38:48,834 epoch 2 - iter 14/29 - loss 0.00232379 - time (sec): 0.99 - samples/sec: 333.88 - lr: 0.100000\n",
            "2023-10-18 07:38:48,975 epoch 2 - iter 16/29 - loss 0.00208023 - time (sec): 1.13 - samples/sec: 329.57 - lr: 0.100000\n",
            "2023-10-18 07:38:49,127 epoch 2 - iter 18/29 - loss 0.00197593 - time (sec): 1.28 - samples/sec: 306.06 - lr: 0.100000\n",
            "2023-10-18 07:38:49,236 epoch 2 - iter 20/29 - loss 0.01290559 - time (sec): 1.39 - samples/sec: 325.20 - lr: 0.100000\n",
            "2023-10-18 07:38:49,329 epoch 2 - iter 22/29 - loss 0.01248270 - time (sec): 1.49 - samples/sec: 316.36 - lr: 0.100000\n",
            "2023-10-18 07:38:49,412 epoch 2 - iter 24/29 - loss 0.01157465 - time (sec): 1.57 - samples/sec: 323.09 - lr: 0.100000\n",
            "2023-10-18 07:38:49,538 epoch 2 - iter 26/29 - loss 0.01075425 - time (sec): 1.70 - samples/sec: 322.11 - lr: 0.100000\n",
            "2023-10-18 07:38:49,647 epoch 2 - iter 28/29 - loss 0.01072561 - time (sec): 1.80 - samples/sec: 316.60 - lr: 0.100000\n",
            "2023-10-18 07:38:49,743 ----------------------------------------------------------------------------------------------------\n",
            "2023-10-18 07:38:49,744 EPOCH 2 done: loss 0.0279 - lr 0.100000\n"
          ]
        },
        {
          "output_type": "stream",
          "name": "stderr",
          "text": [
            "100%|██████████| 5/5 [00:00<00:00,  6.46it/s]"
          ]
        },
        {
          "output_type": "stream",
          "name": "stdout",
          "text": [
            "2023-10-18 07:38:50,543 Evaluating as a multi-label problem: False\n",
            "2023-10-18 07:38:50,599 DEV : loss 9.405643463134766 - f1-score (micro avg)  0.0254\n",
            "2023-10-18 07:38:50,610 BAD EPOCHS (no improvement): 1\n",
            "2023-10-18 07:38:50,612 ----------------------------------------------------------------------------------------------------\n"
          ]
        },
        {
          "output_type": "stream",
          "name": "stderr",
          "text": [
            "\n"
          ]
        },
        {
          "output_type": "stream",
          "name": "stdout",
          "text": [
            "2023-10-18 07:38:50,762 epoch 3 - iter 2/29 - loss 0.12422861 - time (sec): 0.15 - samples/sec: 472.72 - lr: 0.100000\n",
            "2023-10-18 07:38:50,859 epoch 3 - iter 4/29 - loss 0.08549832 - time (sec): 0.25 - samples/sec: 415.32 - lr: 0.100000\n",
            "2023-10-18 07:38:50,997 epoch 3 - iter 6/29 - loss 0.06978172 - time (sec): 0.38 - samples/sec: 326.24 - lr: 0.100000\n",
            "2023-10-18 07:38:51,128 epoch 3 - iter 8/29 - loss 0.05201647 - time (sec): 0.51 - samples/sec: 326.79 - lr: 0.100000\n",
            "2023-10-18 07:38:51,252 epoch 3 - iter 10/29 - loss 0.03626710 - time (sec): 0.64 - samples/sec: 377.62 - lr: 0.100000\n",
            "2023-10-18 07:38:51,378 epoch 3 - iter 12/29 - loss 0.03479645 - time (sec): 0.76 - samples/sec: 363.93 - lr: 0.100000\n",
            "2023-10-18 07:38:51,509 epoch 3 - iter 14/29 - loss 0.03213923 - time (sec): 0.90 - samples/sec: 336.12 - lr: 0.100000\n",
            "2023-10-18 07:38:51,611 epoch 3 - iter 16/29 - loss 0.03052345 - time (sec): 1.00 - samples/sec: 317.77 - lr: 0.100000\n",
            "2023-10-18 07:38:51,723 epoch 3 - iter 18/29 - loss 0.02871330 - time (sec): 1.11 - samples/sec: 303.76 - lr: 0.100000\n",
            "2023-10-18 07:38:51,853 epoch 3 - iter 20/29 - loss 0.02636800 - time (sec): 1.24 - samples/sec: 296.27 - lr: 0.100000\n",
            "2023-10-18 07:38:51,994 epoch 3 - iter 22/29 - loss 0.02606776 - time (sec): 1.38 - samples/sec: 288.36 - lr: 0.100000\n",
            "2023-10-18 07:38:52,104 epoch 3 - iter 24/29 - loss 0.02273786 - time (sec): 1.49 - samples/sec: 307.42 - lr: 0.100000\n",
            "2023-10-18 07:38:52,269 epoch 3 - iter 26/29 - loss 0.03145801 - time (sec): 1.65 - samples/sec: 309.99 - lr: 0.100000\n",
            "2023-10-18 07:38:52,381 epoch 3 - iter 28/29 - loss 0.02866741 - time (sec): 1.77 - samples/sec: 320.22 - lr: 0.100000\n",
            "2023-10-18 07:38:52,441 ----------------------------------------------------------------------------------------------------\n",
            "2023-10-18 07:38:52,443 EPOCH 3 done: loss 0.0277 - lr 0.100000\n"
          ]
        },
        {
          "output_type": "stream",
          "name": "stderr",
          "text": [
            "100%|██████████| 5/5 [00:01<00:00,  3.33it/s]"
          ]
        },
        {
          "output_type": "stream",
          "name": "stdout",
          "text": [
            "2023-10-18 07:38:53,974 Evaluating as a multi-label problem: False\n"
          ]
        },
        {
          "output_type": "stream",
          "name": "stderr",
          "text": [
            "\n"
          ]
        },
        {
          "output_type": "stream",
          "name": "stdout",
          "text": [
            "2023-10-18 07:38:54,068 DEV : loss 10.157445907592773 - f1-score (micro avg)  0.0269\n",
            "2023-10-18 07:38:54,089 BAD EPOCHS (no improvement): 0\n",
            "2023-10-18 07:38:54,091 saving best model\n",
            "2023-10-18 07:38:54,937 ----------------------------------------------------------------------------------------------------\n",
            "2023-10-18 07:38:55,136 epoch 4 - iter 2/29 - loss 0.00034195 - time (sec): 0.20 - samples/sec: 223.50 - lr: 0.100000\n",
            "2023-10-18 07:38:55,288 epoch 4 - iter 4/29 - loss 0.01088041 - time (sec): 0.35 - samples/sec: 200.73 - lr: 0.100000\n",
            "2023-10-18 07:38:55,483 epoch 4 - iter 6/29 - loss 0.00749329 - time (sec): 0.54 - samples/sec: 187.47 - lr: 0.100000\n",
            "2023-10-18 07:38:55,637 epoch 4 - iter 8/29 - loss 0.00517339 - time (sec): 0.70 - samples/sec: 212.11 - lr: 0.100000\n",
            "2023-10-18 07:38:55,783 epoch 4 - iter 10/29 - loss 0.00387427 - time (sec): 0.84 - samples/sec: 234.59 - lr: 0.100000\n",
            "2023-10-18 07:38:55,928 epoch 4 - iter 12/29 - loss 0.00305082 - time (sec): 0.99 - samples/sec: 254.89 - lr: 0.100000\n",
            "2023-10-18 07:38:56,139 epoch 4 - iter 14/29 - loss 0.00248193 - time (sec): 1.20 - samples/sec: 259.07 - lr: 0.100000\n",
            "2023-10-18 07:38:56,260 epoch 4 - iter 16/29 - loss 0.00226456 - time (sec): 1.32 - samples/sec: 258.09 - lr: 0.100000\n",
            "2023-10-18 07:38:56,420 epoch 4 - iter 18/29 - loss 0.00212243 - time (sec): 1.48 - samples/sec: 245.82 - lr: 0.100000\n",
            "2023-10-18 07:38:56,594 epoch 4 - iter 20/29 - loss 0.00180740 - time (sec): 1.66 - samples/sec: 259.21 - lr: 0.100000\n",
            "2023-10-18 07:38:56,792 epoch 4 - iter 22/29 - loss 0.00166563 - time (sec): 1.85 - samples/sec: 251.46 - lr: 0.100000\n",
            "2023-10-18 07:38:56,973 epoch 4 - iter 24/29 - loss 0.00186071 - time (sec): 2.03 - samples/sec: 240.46 - lr: 0.100000\n",
            "2023-10-18 07:38:57,155 epoch 4 - iter 26/29 - loss 0.00185020 - time (sec): 2.22 - samples/sec: 238.72 - lr: 0.100000\n",
            "2023-10-18 07:38:57,280 epoch 4 - iter 28/29 - loss 0.00187630 - time (sec): 2.34 - samples/sec: 243.86 - lr: 0.100000\n",
            "2023-10-18 07:38:57,403 ----------------------------------------------------------------------------------------------------\n",
            "2023-10-18 07:38:57,405 EPOCH 4 done: loss 0.0018 - lr 0.100000\n"
          ]
        },
        {
          "output_type": "stream",
          "name": "stderr",
          "text": [
            "100%|██████████| 5/5 [00:01<00:00,  4.14it/s]"
          ]
        },
        {
          "output_type": "stream",
          "name": "stdout",
          "text": [
            "2023-10-18 07:38:58,644 Evaluating as a multi-label problem: False\n"
          ]
        },
        {
          "output_type": "stream",
          "name": "stderr",
          "text": [
            "\n"
          ]
        },
        {
          "output_type": "stream",
          "name": "stdout",
          "text": [
            "2023-10-18 07:38:58,736 DEV : loss 10.872288703918457 - f1-score (micro avg)  0.0269\n",
            "2023-10-18 07:38:58,757 BAD EPOCHS (no improvement): 1\n",
            "2023-10-18 07:38:58,760 ----------------------------------------------------------------------------------------------------\n",
            "2023-10-18 07:38:58,932 epoch 5 - iter 2/29 - loss 0.00002908 - time (sec): 0.17 - samples/sec: 286.56 - lr: 0.100000\n",
            "2023-10-18 07:38:59,171 epoch 5 - iter 4/29 - loss 0.00011001 - time (sec): 0.41 - samples/sec: 211.62 - lr: 0.100000\n",
            "2023-10-18 07:38:59,332 epoch 5 - iter 6/29 - loss 0.00008558 - time (sec): 0.57 - samples/sec: 205.95 - lr: 0.100000\n",
            "2023-10-18 07:38:59,510 epoch 5 - iter 8/29 - loss 0.00007113 - time (sec): 0.75 - samples/sec: 198.44 - lr: 0.100000\n",
            "2023-10-18 07:38:59,641 epoch 5 - iter 10/29 - loss 0.00005929 - time (sec): 0.88 - samples/sec: 219.04 - lr: 0.100000\n",
            "2023-10-18 07:38:59,778 epoch 5 - iter 12/29 - loss 0.00004865 - time (sec): 1.01 - samples/sec: 241.63 - lr: 0.100000\n",
            "2023-10-18 07:38:59,900 epoch 5 - iter 14/29 - loss 0.00004423 - time (sec): 1.14 - samples/sec: 243.02 - lr: 0.100000\n",
            "2023-10-18 07:39:00,048 epoch 5 - iter 16/29 - loss 0.00003853 - time (sec): 1.28 - samples/sec: 261.00 - lr: 0.100000\n",
            "2023-10-18 07:39:00,138 epoch 5 - iter 18/29 - loss 0.00003689 - time (sec): 1.37 - samples/sec: 257.77 - lr: 0.100000\n",
            "2023-10-18 07:39:00,236 epoch 5 - iter 20/29 - loss 0.00003365 - time (sec): 1.47 - samples/sec: 277.88 - lr: 0.100000\n",
            "2023-10-18 07:39:00,355 epoch 5 - iter 22/29 - loss 0.00003092 - time (sec): 1.59 - samples/sec: 288.56 - lr: 0.100000\n",
            "2023-10-18 07:39:00,557 epoch 5 - iter 24/29 - loss 0.00002834 - time (sec): 1.79 - samples/sec: 289.43 - lr: 0.100000\n",
            "2023-10-18 07:39:00,706 epoch 5 - iter 26/29 - loss 0.00002929 - time (sec): 1.94 - samples/sec: 280.17 - lr: 0.100000\n",
            "2023-10-18 07:39:00,827 epoch 5 - iter 28/29 - loss 0.00002867 - time (sec): 2.06 - samples/sec: 280.18 - lr: 0.100000\n",
            "2023-10-18 07:39:00,874 ----------------------------------------------------------------------------------------------------\n",
            "2023-10-18 07:39:00,875 EPOCH 5 done: loss 0.0000 - lr 0.100000\n"
          ]
        },
        {
          "output_type": "stream",
          "name": "stderr",
          "text": [
            "100%|██████████| 5/5 [00:01<00:00,  4.22it/s]"
          ]
        },
        {
          "output_type": "stream",
          "name": "stdout",
          "text": [
            "2023-10-18 07:39:02,087 Evaluating as a multi-label problem: False\n",
            "2023-10-18 07:39:02,139 DEV : loss 11.055466651916504 - f1-score (micro avg)  0.0269\n",
            "2023-10-18 07:39:02,152 BAD EPOCHS (no improvement): 2\n",
            "2023-10-18 07:39:02,154 ----------------------------------------------------------------------------------------------------\n"
          ]
        },
        {
          "output_type": "stream",
          "name": "stderr",
          "text": [
            "\n"
          ]
        },
        {
          "output_type": "stream",
          "name": "stdout",
          "text": [
            "2023-10-18 07:39:02,211 epoch 6 - iter 2/29 - loss 0.00001308 - time (sec): 0.05 - samples/sec: 275.41 - lr: 0.100000\n",
            "2023-10-18 07:39:02,340 epoch 6 - iter 4/29 - loss 0.00000937 - time (sec): 0.18 - samples/sec: 386.71 - lr: 0.100000\n",
            "2023-10-18 07:39:02,457 epoch 6 - iter 6/29 - loss 0.00001098 - time (sec): 0.30 - samples/sec: 352.76 - lr: 0.100000\n",
            "2023-10-18 07:39:02,558 epoch 6 - iter 8/29 - loss 0.00000992 - time (sec): 0.40 - samples/sec: 428.58 - lr: 0.100000\n",
            "2023-10-18 07:39:02,697 epoch 6 - iter 10/29 - loss 0.00000950 - time (sec): 0.54 - samples/sec: 397.35 - lr: 0.100000\n",
            "2023-10-18 07:39:02,837 epoch 6 - iter 12/29 - loss 0.00000986 - time (sec): 0.68 - samples/sec: 379.17 - lr: 0.100000\n",
            "2023-10-18 07:39:02,971 epoch 6 - iter 14/29 - loss 0.00000986 - time (sec): 0.81 - samples/sec: 363.55 - lr: 0.100000\n",
            "2023-10-18 07:39:03,113 epoch 6 - iter 16/29 - loss 0.00001134 - time (sec): 0.96 - samples/sec: 362.72 - lr: 0.100000\n",
            "2023-10-18 07:39:03,284 epoch 6 - iter 18/29 - loss 0.00001075 - time (sec): 1.13 - samples/sec: 350.43 - lr: 0.100000\n",
            "2023-10-18 07:39:03,397 epoch 6 - iter 20/29 - loss 0.00001062 - time (sec): 1.24 - samples/sec: 323.97 - lr: 0.100000\n",
            "2023-10-18 07:39:03,506 epoch 6 - iter 22/29 - loss 0.00001041 - time (sec): 1.35 - samples/sec: 316.47 - lr: 0.100000\n",
            "2023-10-18 07:39:03,657 epoch 6 - iter 24/29 - loss 0.00001061 - time (sec): 1.50 - samples/sec: 325.95 - lr: 0.100000\n",
            "2023-10-18 07:39:03,742 epoch 6 - iter 26/29 - loss 0.00001031 - time (sec): 1.59 - samples/sec: 334.82 - lr: 0.100000\n",
            "2023-10-18 07:39:03,899 epoch 6 - iter 28/29 - loss 0.00001005 - time (sec): 1.74 - samples/sec: 330.04 - lr: 0.100000\n",
            "2023-10-18 07:39:03,960 ----------------------------------------------------------------------------------------------------\n",
            "2023-10-18 07:39:03,961 EPOCH 6 done: loss 0.0000 - lr 0.100000\n"
          ]
        },
        {
          "output_type": "stream",
          "name": "stderr",
          "text": [
            "100%|██████████| 5/5 [00:00<00:00,  6.47it/s]"
          ]
        },
        {
          "output_type": "stream",
          "name": "stdout",
          "text": [
            "2023-10-18 07:39:04,759 Evaluating as a multi-label problem: False\n",
            "2023-10-18 07:39:04,817 DEV : loss 11.15264892578125 - f1-score (micro avg)  0.0269\n",
            "2023-10-18 07:39:04,830 BAD EPOCHS (no improvement): 3\n",
            "2023-10-18 07:39:04,831 ----------------------------------------------------------------------------------------------------\n"
          ]
        },
        {
          "output_type": "stream",
          "name": "stderr",
          "text": [
            "\n"
          ]
        },
        {
          "output_type": "stream",
          "name": "stdout",
          "text": [
            "2023-10-18 07:39:04,923 epoch 7 - iter 2/29 - loss 0.00000439 - time (sec): 0.09 - samples/sec: 169.32 - lr: 0.100000\n",
            "2023-10-18 07:39:05,010 epoch 7 - iter 4/29 - loss 0.00000458 - time (sec): 0.18 - samples/sec: 238.45 - lr: 0.100000\n",
            "2023-10-18 07:39:05,097 epoch 7 - iter 6/29 - loss 0.00000893 - time (sec): 0.26 - samples/sec: 384.86 - lr: 0.100000\n",
            "2023-10-18 07:39:05,271 epoch 7 - iter 8/29 - loss 0.00001155 - time (sec): 0.44 - samples/sec: 341.53 - lr: 0.100000\n",
            "2023-10-18 07:39:05,441 epoch 7 - iter 10/29 - loss 0.00000961 - time (sec): 0.61 - samples/sec: 337.94 - lr: 0.100000\n",
            "2023-10-18 07:39:05,581 epoch 7 - iter 12/29 - loss 0.00000876 - time (sec): 0.75 - samples/sec: 321.59 - lr: 0.100000\n",
            "2023-10-18 07:39:05,666 epoch 7 - iter 14/29 - loss 0.00000868 - time (sec): 0.83 - samples/sec: 336.48 - lr: 0.100000\n",
            "2023-10-18 07:39:05,770 epoch 7 - iter 16/29 - loss 0.00000838 - time (sec): 0.94 - samples/sec: 347.30 - lr: 0.100000\n",
            "2023-10-18 07:39:05,892 epoch 7 - iter 18/29 - loss 0.00000827 - time (sec): 1.06 - samples/sec: 325.35 - lr: 0.100000\n",
            "2023-10-18 07:39:06,002 epoch 7 - iter 20/29 - loss 0.00000813 - time (sec): 1.17 - samples/sec: 336.59 - lr: 0.100000\n",
            "2023-10-18 07:39:06,128 epoch 7 - iter 22/29 - loss 0.00000793 - time (sec): 1.29 - samples/sec: 323.16 - lr: 0.100000\n",
            "2023-10-18 07:39:06,334 epoch 7 - iter 24/29 - loss 0.00000766 - time (sec): 1.50 - samples/sec: 320.16 - lr: 0.100000\n",
            "2023-10-18 07:39:06,532 epoch 7 - iter 26/29 - loss 0.00000765 - time (sec): 1.70 - samples/sec: 306.85 - lr: 0.100000\n",
            "2023-10-18 07:39:06,725 epoch 7 - iter 28/29 - loss 0.00000762 - time (sec): 1.89 - samples/sec: 293.52 - lr: 0.100000\n",
            "2023-10-18 07:39:06,786 ----------------------------------------------------------------------------------------------------\n",
            "2023-10-18 07:39:06,789 EPOCH 7 done: loss 0.0000 - lr 0.100000\n"
          ]
        },
        {
          "output_type": "stream",
          "name": "stderr",
          "text": [
            "100%|██████████| 5/5 [00:01<00:00,  4.02it/s]\n"
          ]
        },
        {
          "output_type": "stream",
          "name": "stdout",
          "text": [
            "2023-10-18 07:39:08,585 Evaluating as a multi-label problem: False\n",
            "2023-10-18 07:39:08,674 DEV : loss 11.226800918579102 - f1-score (micro avg)  0.0269\n",
            "2023-10-18 07:39:08,696 Epoch     7: reducing learning rate of group 0 to 5.0000e-02.\n",
            "2023-10-18 07:39:08,700 BAD EPOCHS (no improvement): 4\n",
            "2023-10-18 07:39:08,705 ----------------------------------------------------------------------------------------------------\n",
            "2023-10-18 07:39:08,833 epoch 8 - iter 2/29 - loss 0.00000703 - time (sec): 0.13 - samples/sec: 292.40 - lr: 0.050000\n",
            "2023-10-18 07:39:08,958 epoch 8 - iter 4/29 - loss 0.00000619 - time (sec): 0.25 - samples/sec: 350.50 - lr: 0.050000\n",
            "2023-10-18 07:39:09,112 epoch 8 - iter 6/29 - loss 0.00000609 - time (sec): 0.41 - samples/sec: 274.07 - lr: 0.050000\n",
            "2023-10-18 07:39:09,309 epoch 8 - iter 8/29 - loss 0.00000573 - time (sec): 0.60 - samples/sec: 239.20 - lr: 0.050000\n",
            "2023-10-18 07:39:09,514 epoch 8 - iter 10/29 - loss 0.00000622 - time (sec): 0.81 - samples/sec: 209.30 - lr: 0.050000\n",
            "2023-10-18 07:39:09,702 epoch 8 - iter 12/29 - loss 0.00000595 - time (sec): 0.99 - samples/sec: 216.10 - lr: 0.050000\n",
            "2023-10-18 07:39:09,916 epoch 8 - iter 14/29 - loss 0.00000644 - time (sec): 1.21 - samples/sec: 214.98 - lr: 0.050000\n",
            "2023-10-18 07:39:10,377 epoch 8 - iter 16/29 - loss 0.00000590 - time (sec): 1.67 - samples/sec: 209.58 - lr: 0.050000\n",
            "2023-10-18 07:39:10,647 epoch 8 - iter 18/29 - loss 0.00000613 - time (sec): 1.94 - samples/sec: 188.09 - lr: 0.050000\n",
            "2023-10-18 07:39:10,955 epoch 8 - iter 20/29 - loss 0.00000670 - time (sec): 2.25 - samples/sec: 187.67 - lr: 0.050000\n",
            "2023-10-18 07:39:11,202 epoch 8 - iter 22/29 - loss 0.00000657 - time (sec): 2.49 - samples/sec: 192.41 - lr: 0.050000\n",
            "2023-10-18 07:39:11,455 epoch 8 - iter 24/29 - loss 0.00000637 - time (sec): 2.75 - samples/sec: 192.88 - lr: 0.050000\n",
            "2023-10-18 07:39:11,807 epoch 8 - iter 26/29 - loss 0.00000626 - time (sec): 3.10 - samples/sec: 176.46 - lr: 0.050000\n",
            "2023-10-18 07:39:12,129 epoch 8 - iter 28/29 - loss 0.00000630 - time (sec): 3.42 - samples/sec: 166.54 - lr: 0.050000\n",
            "2023-10-18 07:39:12,231 ----------------------------------------------------------------------------------------------------\n",
            "2023-10-18 07:39:12,237 EPOCH 8 done: loss 0.0000 - lr 0.050000\n"
          ]
        },
        {
          "output_type": "stream",
          "name": "stderr",
          "text": [
            "100%|██████████| 5/5 [00:02<00:00,  2.07it/s]"
          ]
        },
        {
          "output_type": "stream",
          "name": "stdout",
          "text": [
            "2023-10-18 07:39:14,708 Evaluating as a multi-label problem: False\n"
          ]
        },
        {
          "output_type": "stream",
          "name": "stderr",
          "text": [
            "\n"
          ]
        },
        {
          "output_type": "stream",
          "name": "stdout",
          "text": [
            "2023-10-18 07:39:14,896 DEV : loss 11.257524490356445 - f1-score (micro avg)  0.0269\n",
            "2023-10-18 07:39:14,935 BAD EPOCHS (no improvement): 1\n",
            "2023-10-18 07:39:14,939 ----------------------------------------------------------------------------------------------------\n",
            "2023-10-18 07:39:15,258 epoch 9 - iter 2/29 - loss 0.00000421 - time (sec): 0.32 - samples/sec: 104.30 - lr: 0.050000\n",
            "2023-10-18 07:39:15,590 epoch 9 - iter 4/29 - loss 0.00000604 - time (sec): 0.65 - samples/sec: 143.45 - lr: 0.050000\n",
            "2023-10-18 07:39:15,973 epoch 9 - iter 6/29 - loss 0.00000795 - time (sec): 1.03 - samples/sec: 134.75 - lr: 0.050000\n",
            "2023-10-18 07:39:16,213 epoch 9 - iter 8/29 - loss 0.00000779 - time (sec): 1.27 - samples/sec: 122.71 - lr: 0.050000\n",
            "2023-10-18 07:39:16,484 epoch 9 - iter 10/29 - loss 0.00000741 - time (sec): 1.54 - samples/sec: 136.10 - lr: 0.050000\n",
            "2023-10-18 07:39:16,760 epoch 9 - iter 12/29 - loss 0.00000749 - time (sec): 1.82 - samples/sec: 125.89 - lr: 0.050000\n",
            "2023-10-18 07:39:16,985 epoch 9 - iter 14/29 - loss 0.00000747 - time (sec): 2.04 - samples/sec: 140.96 - lr: 0.050000\n",
            "2023-10-18 07:39:17,215 epoch 9 - iter 16/29 - loss 0.00000741 - time (sec): 2.27 - samples/sec: 143.39 - lr: 0.050000\n",
            "2023-10-18 07:39:17,429 epoch 9 - iter 18/29 - loss 0.00000694 - time (sec): 2.49 - samples/sec: 151.96 - lr: 0.050000\n",
            "2023-10-18 07:39:17,577 epoch 9 - iter 20/29 - loss 0.00000675 - time (sec): 2.64 - samples/sec: 154.43 - lr: 0.050000\n",
            "2023-10-18 07:39:17,780 epoch 9 - iter 22/29 - loss 0.00000730 - time (sec): 2.84 - samples/sec: 155.37 - lr: 0.050000\n",
            "2023-10-18 07:39:18,008 epoch 9 - iter 24/29 - loss 0.00000774 - time (sec): 3.07 - samples/sec: 153.90 - lr: 0.050000\n",
            "2023-10-18 07:39:18,123 epoch 9 - iter 26/29 - loss 0.00000757 - time (sec): 3.18 - samples/sec: 160.95 - lr: 0.050000\n",
            "2023-10-18 07:39:18,217 epoch 9 - iter 28/29 - loss 0.00000751 - time (sec): 3.28 - samples/sec: 170.68 - lr: 0.050000\n",
            "2023-10-18 07:39:18,265 ----------------------------------------------------------------------------------------------------\n",
            "2023-10-18 07:39:18,266 EPOCH 9 done: loss 0.0000 - lr 0.050000\n"
          ]
        },
        {
          "output_type": "stream",
          "name": "stderr",
          "text": [
            "100%|██████████| 5/5 [00:00<00:00,  6.30it/s]"
          ]
        },
        {
          "output_type": "stream",
          "name": "stdout",
          "text": [
            "2023-10-18 07:39:19,083 Evaluating as a multi-label problem: False\n",
            "2023-10-18 07:39:19,142 DEV : loss 11.293221473693848 - f1-score (micro avg)  0.0269\n",
            "2023-10-18 07:39:19,156 BAD EPOCHS (no improvement): 2\n",
            "2023-10-18 07:39:19,157 ----------------------------------------------------------------------------------------------------\n"
          ]
        },
        {
          "output_type": "stream",
          "name": "stderr",
          "text": [
            "\n"
          ]
        },
        {
          "output_type": "stream",
          "name": "stdout",
          "text": [
            "2023-10-18 07:39:19,277 epoch 10 - iter 2/29 - loss 0.00000952 - time (sec): 0.12 - samples/sec: 155.00 - lr: 0.050000\n",
            "2023-10-18 07:39:19,383 epoch 10 - iter 4/29 - loss 0.00000571 - time (sec): 0.22 - samples/sec: 270.05 - lr: 0.050000\n",
            "2023-10-18 07:39:19,486 epoch 10 - iter 6/29 - loss 0.00000519 - time (sec): 0.32 - samples/sec: 418.55 - lr: 0.050000\n",
            "2023-10-18 07:39:19,607 epoch 10 - iter 8/29 - loss 0.00000931 - time (sec): 0.45 - samples/sec: 378.95 - lr: 0.050000\n",
            "2023-10-18 07:39:19,777 epoch 10 - iter 10/29 - loss 0.00000902 - time (sec): 0.62 - samples/sec: 302.19 - lr: 0.050000\n",
            "2023-10-18 07:39:19,961 epoch 10 - iter 12/29 - loss 0.00000731 - time (sec): 0.80 - samples/sec: 324.06 - lr: 0.050000\n",
            "2023-10-18 07:39:20,066 epoch 10 - iter 14/29 - loss 0.00000679 - time (sec): 0.90 - samples/sec: 347.20 - lr: 0.050000\n",
            "2023-10-18 07:39:20,209 epoch 10 - iter 16/29 - loss 0.00000664 - time (sec): 1.05 - samples/sec: 327.43 - lr: 0.050000\n",
            "2023-10-18 07:39:20,363 epoch 10 - iter 18/29 - loss 0.00000666 - time (sec): 1.20 - samples/sec: 315.45 - lr: 0.050000\n",
            "2023-10-18 07:39:20,471 epoch 10 - iter 20/29 - loss 0.00000650 - time (sec): 1.31 - samples/sec: 322.93 - lr: 0.050000\n",
            "2023-10-18 07:39:20,531 epoch 10 - iter 22/29 - loss 0.00000654 - time (sec): 1.37 - samples/sec: 322.03 - lr: 0.050000\n",
            "2023-10-18 07:39:20,657 epoch 10 - iter 24/29 - loss 0.00000687 - time (sec): 1.50 - samples/sec: 318.21 - lr: 0.050000\n",
            "2023-10-18 07:39:20,792 epoch 10 - iter 26/29 - loss 0.00000721 - time (sec): 1.63 - samples/sec: 326.21 - lr: 0.050000\n",
            "2023-10-18 07:39:20,919 epoch 10 - iter 28/29 - loss 0.00000730 - time (sec): 1.76 - samples/sec: 323.73 - lr: 0.050000\n",
            "2023-10-18 07:39:20,958 ----------------------------------------------------------------------------------------------------\n",
            "2023-10-18 07:39:20,960 EPOCH 10 done: loss 0.0000 - lr 0.050000\n"
          ]
        },
        {
          "output_type": "stream",
          "name": "stderr",
          "text": [
            "100%|██████████| 5/5 [00:01<00:00,  4.29it/s]"
          ]
        },
        {
          "output_type": "stream",
          "name": "stdout",
          "text": [
            "2023-10-18 07:39:22,152 Evaluating as a multi-label problem: False\n",
            "2023-10-18 07:39:22,206 DEV : loss 11.333389282226562 - f1-score (micro avg)  0.0269\n",
            "2023-10-18 07:39:22,218 BAD EPOCHS (no improvement): 3\n"
          ]
        },
        {
          "output_type": "stream",
          "name": "stderr",
          "text": [
            "\n"
          ]
        },
        {
          "output_type": "stream",
          "name": "stdout",
          "text": [
            "2023-10-18 07:39:22,816 ----------------------------------------------------------------------------------------------------\n"
          ]
        },
        {
          "output_type": "stream",
          "name": "stderr",
          "text": [
            "100%|██████████| 5/5 [00:00<00:00,  8.72it/s]"
          ]
        },
        {
          "output_type": "stream",
          "name": "stdout",
          "text": [
            "2023-10-18 07:39:24,749 Evaluating as a multi-label problem: False\n"
          ]
        },
        {
          "output_type": "stream",
          "name": "stderr",
          "text": [
            "\n"
          ]
        },
        {
          "output_type": "stream",
          "name": "stdout",
          "text": [
            "2023-10-18 07:39:24,795 0.0116\t0.9855\t0.023\t0.0116\n",
            "2023-10-18 07:39:24,797 \n",
            "Results:\n",
            "- F-score (micro) 0.023\n",
            "- F-score (macro) 0.0396\n",
            "- Accuracy 0.0116\n",
            "\n",
            "By class:\n",
            "                         precision    recall  f1-score   support\n",
            "\n",
            "        has_nationality     0.0089    1.0000    0.0177        15\n",
            " received_nobelprize_in     0.0073    1.0000    0.0146        10\n",
            "                born_on     0.0078    1.0000    0.0154         8\n",
            "                same_as     0.0101    1.0000    0.0199        10\n",
            "received_nobelprize_for     0.0218    1.0000    0.0428         9\n",
            "                has_won     0.0518    1.0000    0.0985        10\n",
            "                died_on     0.0355    0.8571    0.0682         7\n",
            "\n",
            "              micro avg     0.0116    0.9855    0.0230        69\n",
            "              macro avg     0.0205    0.9796    0.0396        69\n",
            "           weighted avg     0.0193    0.9855    0.0374        69\n",
            "\n",
            "2023-10-18 07:39:24,799 ----------------------------------------------------------------------------------------------------\n"
          ]
        },
        {
          "output_type": "execute_result",
          "data": {
            "text/plain": [
              "{'test_score': 0.023015738703672364,\n",
              " 'dev_score_history': [0.02589667227761233,\n",
              "  0.02537873883206008,\n",
              "  0.026932539168716824,\n",
              "  0.026932539168716824,\n",
              "  0.026932539168716824,\n",
              "  0.026932539168716824,\n",
              "  0.026932539168716824,\n",
              "  0.026932539168716824,\n",
              "  0.026932539168716824,\n",
              "  0.026932539168716824],\n",
              " 'train_loss_history': [0.2652308753792037,\n",
              "  0.027894730910520905,\n",
              "  0.02769072913841526,\n",
              "  0.001830633155727515,\n",
              "  2.8345827978001445e-05,\n",
              "  1.008196668842176e-05,\n",
              "  7.618707364240227e-06,\n",
              "  6.4542897349638096e-06,\n",
              "  7.410697914065633e-06,\n",
              "  7.508260101713879e-06],\n",
              " 'dev_loss_history': [8.76096248626709,\n",
              "  9.405643463134766,\n",
              "  10.157445907592773,\n",
              "  10.872288703918457,\n",
              "  11.055466651916504,\n",
              "  11.15264892578125,\n",
              "  11.226800918579102,\n",
              "  11.257524490356445,\n",
              "  11.293221473693848,\n",
              "  11.333389282226562]}"
            ]
          },
          "metadata": {},
          "execution_count": 20
        }
      ]
    },
    {
      "cell_type": "code",
      "source": [
        "file[0]['annotations'][0]['result']\n",
        "# labels = [item for item in file[0]['annotations'][0]['result'] if item['type'] == 'labels']\n",
        "relations = [item for item in file[0]['annotations'][0]['result'] if item['type'] == 'relation']\n",
        "print(relations)"
      ],
      "metadata": {
        "colab": {
          "base_uri": "https://localhost:8080/"
        },
        "id": "SrfhMzppActX",
        "outputId": "c7dafe5b-e23e-47f4-97d1-3a2cdba60499"
      },
      "execution_count": null,
      "outputs": [
        {
          "output_type": "stream",
          "name": "stdout",
          "text": [
            "[{'type': 'relation', 'to_id': 'D_w-bbv0FW', 'labels': ['born_on'], 'from_id': 'qOz6CXctki', 'direction': 'right'}, {'type': 'relation', 'to_id': '6IEOyiTTRR', 'labels': ['died_on'], 'from_id': 'qOz6CXctki', 'direction': 'right'}, {'type': 'relation', 'to_id': '5SuvyzVQn4', 'labels': ['has_nationality'], 'from_id': 'qOz6CXctki', 'direction': 'right'}, {'type': 'relation', 'to_id': 'eoEtlIY3dq', 'labels': ['has_nationality'], 'from_id': 'WASMtd3xiq', 'direction': 'right'}, {'type': 'relation', 'to_id': '50aILF-wsY', 'labels': ['received_nobelprize_in'], 'from_id': 'lmkQq4uhNr', 'direction': 'right'}, {'type': 'relation', 'to_id': 'fDBIqiWAQ2', 'labels': ['has_won'], 'from_id': 'lmkQq4uhNr', 'direction': 'right'}, {'type': 'relation', 'to_id': 'Ytc4bT8tuJ', 'labels': ['has_nationality'], 'from_id': 'WASMtd3xiq', 'direction': 'right'}]\n"
          ]
        }
      ]
    },
    {
      "cell_type": "code",
      "source": [
        "loaded_model: RelationExtractor = RelationExtractor.load(results_base_path / \"final-model.pt\")\n",
        "loaded_model.train_on_gold_pairs_only = False\n",
        "\n",
        "sentence = Sentence([\"Apple\", \"was\", \"founded\", \"by\", \"Steve\", \"Jobs\", \".\"])\n",
        "sentence[0:1].add_label(\"ner\", \"ORG\")\n",
        "sentence[4:6].add_label(\"ner\", \"PER\")\n",
        "\n",
        "loaded_model.predict(sentence)\n",
        "\n",
        "sentence.get_labels(\"relation\")[0].value"
      ],
      "metadata": {
        "id": "A7JBn401k9v8"
      },
      "execution_count": null,
      "outputs": []
    },
    {
      "cell_type": "code",
      "source": [
        "labels[next_label]"
      ],
      "metadata": {
        "colab": {
          "base_uri": "https://localhost:8080/"
        },
        "id": "EmxGJS1B1g9s",
        "outputId": "f4dbfbc7-ce93-4e25-c05b-a5c13d6842ac"
      },
      "execution_count": null,
      "outputs": [
        {
          "output_type": "execute_result",
          "data": {
            "text/plain": [
              "{'id': 'qOz6CXctki',\n",
              " 'type': 'labels',\n",
              " 'value': {'end': 12,\n",
              "  'text': 'Albert Camus',\n",
              "  'start': 0,\n",
              "  'labels': ['Winner']},\n",
              " 'origin': 'manual',\n",
              " 'to_name': 'text',\n",
              " 'from_name': 'label'}"
            ]
          },
          "metadata": {},
          "execution_count": 111
        }
      ]
    },
    {
      "cell_type": "code",
      "source": [
        "from flair.embeddings import TransformerWordEmbeddings\n",
        "from flair.models import SequenceTagger\n",
        "from flair.trainers import ModelTrainer\n",
        "# 4. initialize fine-tuneable transformer embeddings WITH document context\n",
        "embeddings = TransformerWordEmbeddings(model='xlm-roberta-large',\n",
        "                                       layers=\"-1\",\n",
        "                                       subtoken_pooling=\"first\",\n",
        "                                       fine_tune=True,\n",
        "                                       use_context=True,\n",
        "                                       )\n",
        "\n",
        "# 5. initialize bare-bones sequence tagger (no CRF, no RNN, no reprojection)\n",
        "tagger = SequenceTagger(hidden_size=256,\n",
        "                        embeddings=embeddings,\n",
        "                        tag_dictionary=tag_dictionary,\n",
        "                        tag_type='ner',\n",
        "                        use_crf=False,\n",
        "                        use_rnn=False,\n",
        "                        reproject_embeddings=False,\n",
        "                        )\n",
        "\n",
        "# 6. initialize trainer\n",
        "trainer = ModelTrainer(tagger, corpus)\n",
        "\n",
        "# 7. run fine-tuning\n",
        "trainer.fine_tune('resources/taggers/sota-ner-flert',\n",
        "                  learning_rate=5.0e-6,\n",
        "                  mini_batch_size=4,\n",
        "                  )"
      ],
      "metadata": {
        "colab": {
          "base_uri": "https://localhost:8080/",
          "height": 1000
        },
        "id": "ut8DvsS9AleV",
        "outputId": "edaedb41-2d1b-4582-e6bd-adcbd883d18b"
      },
      "execution_count": null,
      "outputs": [
        {
          "output_type": "stream",
          "name": "stdout",
          "text": [
            "2023-10-16 15:04:21,946 SequenceTagger predicts: Dictionary with 21 tags: O, S-Winner, B-Winner, E-Winner, I-Winner, S-Date, B-Date, E-Date, I-Date, S-Nationality, B-Nationality, E-Nationality, I-Nationality, S-Prizetype, B-Prizetype, E-Prizetype, I-Prizetype, S-Reason, B-Reason, E-Reason, I-Reason\n",
            "2023-10-16 15:04:21,974 ----------------------------------------------------------------------------------------------------\n",
            "2023-10-16 15:04:21,978 Model: \"SequenceTagger(\n",
            "  (embeddings): TransformerWordEmbeddings(\n",
            "    (model): XLMRobertaModel(\n",
            "      (embeddings): XLMRobertaEmbeddings(\n",
            "        (word_embeddings): Embedding(250003, 1024)\n",
            "        (position_embeddings): Embedding(514, 1024, padding_idx=1)\n",
            "        (token_type_embeddings): Embedding(1, 1024)\n",
            "        (LayerNorm): LayerNorm((1024,), eps=1e-05, elementwise_affine=True)\n",
            "        (dropout): Dropout(p=0.1, inplace=False)\n",
            "      )\n",
            "      (encoder): XLMRobertaEncoder(\n",
            "        (layer): ModuleList(\n",
            "          (0-23): 24 x XLMRobertaLayer(\n",
            "            (attention): XLMRobertaAttention(\n",
            "              (self): XLMRobertaSelfAttention(\n",
            "                (query): Linear(in_features=1024, out_features=1024, bias=True)\n",
            "                (key): Linear(in_features=1024, out_features=1024, bias=True)\n",
            "                (value): Linear(in_features=1024, out_features=1024, bias=True)\n",
            "                (dropout): Dropout(p=0.1, inplace=False)\n",
            "              )\n",
            "              (output): XLMRobertaSelfOutput(\n",
            "                (dense): Linear(in_features=1024, out_features=1024, bias=True)\n",
            "                (LayerNorm): LayerNorm((1024,), eps=1e-05, elementwise_affine=True)\n",
            "                (dropout): Dropout(p=0.1, inplace=False)\n",
            "              )\n",
            "            )\n",
            "            (intermediate): XLMRobertaIntermediate(\n",
            "              (dense): Linear(in_features=1024, out_features=4096, bias=True)\n",
            "              (intermediate_act_fn): GELUActivation()\n",
            "            )\n",
            "            (output): XLMRobertaOutput(\n",
            "              (dense): Linear(in_features=4096, out_features=1024, bias=True)\n",
            "              (LayerNorm): LayerNorm((1024,), eps=1e-05, elementwise_affine=True)\n",
            "              (dropout): Dropout(p=0.1, inplace=False)\n",
            "            )\n",
            "          )\n",
            "        )\n",
            "      )\n",
            "      (pooler): XLMRobertaPooler(\n",
            "        (dense): Linear(in_features=1024, out_features=1024, bias=True)\n",
            "        (activation): Tanh()\n",
            "      )\n",
            "    )\n",
            "  )\n",
            "  (locked_dropout): LockedDropout(p=0.5)\n",
            "  (linear): Linear(in_features=1024, out_features=21, bias=True)\n",
            "  (loss_function): CrossEntropyLoss()\n",
            ")\"\n",
            "2023-10-16 15:04:21,979 ----------------------------------------------------------------------------------------------------\n",
            "2023-10-16 15:04:21,982 Corpus: \"Corpus: 58 train + 9 dev + 10 test sentences\"\n",
            "2023-10-16 15:04:21,986 ----------------------------------------------------------------------------------------------------\n",
            "2023-10-16 15:04:21,987 Parameters:\n",
            "2023-10-16 15:04:21,993  - learning_rate: \"0.000005\"\n",
            "2023-10-16 15:04:21,994  - mini_batch_size: \"4\"\n",
            "2023-10-16 15:04:21,995  - patience: \"3\"\n",
            "2023-10-16 15:04:21,997  - anneal_factor: \"0.5\"\n",
            "2023-10-16 15:04:22,001  - max_epochs: \"10\"\n",
            "2023-10-16 15:04:22,004  - shuffle: \"True\"\n",
            "2023-10-16 15:04:22,006  - train_with_dev: \"False\"\n",
            "2023-10-16 15:04:22,009  - batch_growth_annealing: \"False\"\n",
            "2023-10-16 15:04:22,011 ----------------------------------------------------------------------------------------------------\n",
            "2023-10-16 15:04:22,013 Model training base path: \"resources/taggers/sota-ner-flert\"\n",
            "2023-10-16 15:04:22,016 ----------------------------------------------------------------------------------------------------\n",
            "2023-10-16 15:04:22,021 Device: cuda:0\n",
            "2023-10-16 15:04:22,022 ----------------------------------------------------------------------------------------------------\n",
            "2023-10-16 15:04:22,024 Embeddings storage mode: none\n",
            "2023-10-16 15:04:22,026 ----------------------------------------------------------------------------------------------------\n",
            "2023-10-16 15:04:25,199 epoch 1 - iter 1/15 - loss 3.91012229 - time (sec): 3.17 - samples/sec: 453.32 - lr: 0.000000\n",
            "2023-10-16 15:04:26,555 epoch 1 - iter 2/15 - loss 4.60495765 - time (sec): 4.53 - samples/sec: 519.89 - lr: 0.000001\n"
          ]
        },
        {
          "output_type": "error",
          "ename": "OutOfMemoryError",
          "evalue": "ignored",
          "traceback": [
            "\u001b[0;31m---------------------------------------------------------------------------\u001b[0m",
            "\u001b[0;31mOutOfMemoryError\u001b[0m                          Traceback (most recent call last)",
            "\u001b[0;32m<ipython-input-12-6bfe10023a5c>\u001b[0m in \u001b[0;36m<cell line: 26>\u001b[0;34m()\u001b[0m\n\u001b[1;32m     24\u001b[0m \u001b[0;34m\u001b[0m\u001b[0m\n\u001b[1;32m     25\u001b[0m \u001b[0;31m# 7. run fine-tuning\u001b[0m\u001b[0;34m\u001b[0m\u001b[0;34m\u001b[0m\u001b[0m\n\u001b[0;32m---> 26\u001b[0;31m trainer.fine_tune('resources/taggers/sota-ner-flert',\n\u001b[0m\u001b[1;32m     27\u001b[0m                   \u001b[0mlearning_rate\u001b[0m\u001b[0;34m=\u001b[0m\u001b[0;36m5.0e-6\u001b[0m\u001b[0;34m,\u001b[0m\u001b[0;34m\u001b[0m\u001b[0;34m\u001b[0m\u001b[0m\n\u001b[1;32m     28\u001b[0m                   \u001b[0mmini_batch_size\u001b[0m\u001b[0;34m=\u001b[0m\u001b[0;36m4\u001b[0m\u001b[0;34m,\u001b[0m\u001b[0;34m\u001b[0m\u001b[0;34m\u001b[0m\u001b[0m\n",
            "\u001b[0;32m/usr/local/lib/python3.10/dist-packages/flair/trainers/trainer.py\u001b[0m in \u001b[0;36mfine_tune\u001b[0;34m(self, base_path, learning_rate, max_epochs, optimizer, scheduler, warmup_fraction, mini_batch_size, embeddings_storage_mode, use_final_model_for_eval, decoder_lr_factor, **trainer_args)\u001b[0m\n\u001b[1;32m    983\u001b[0m             )\n\u001b[1;32m    984\u001b[0m \u001b[0;34m\u001b[0m\u001b[0m\n\u001b[0;32m--> 985\u001b[0;31m         return self.train(\n\u001b[0m\u001b[1;32m    986\u001b[0m             \u001b[0mbase_path\u001b[0m\u001b[0;34m=\u001b[0m\u001b[0mbase_path\u001b[0m\u001b[0;34m,\u001b[0m\u001b[0;34m\u001b[0m\u001b[0;34m\u001b[0m\u001b[0m\n\u001b[1;32m    987\u001b[0m             \u001b[0mlearning_rate\u001b[0m\u001b[0;34m=\u001b[0m\u001b[0mlearning_rate\u001b[0m\u001b[0;34m,\u001b[0m\u001b[0;34m\u001b[0m\u001b[0;34m\u001b[0m\u001b[0m\n",
            "\u001b[0;32m/usr/local/lib/python3.10/dist-packages/flair/trainers/trainer.py\u001b[0m in \u001b[0;36mtrain\u001b[0;34m(self, base_path, learning_rate, mini_batch_size, eval_batch_size, mini_batch_chunk_size, max_epochs, train_with_dev, train_with_test, monitor_train, monitor_test, main_evaluation_metric, scheduler, anneal_factor, patience, min_learning_rate, initial_extra_patience, optimizer, cycle_momentum, warmup_fraction, embeddings_storage_mode, checkpoint, save_final_model, anneal_with_restarts, anneal_with_prestarts, anneal_against_dev_loss, batch_growth_annealing, shuffle, param_selection_mode, write_weights, num_workers, sampler, use_amp, amp_opt_level, eval_on_train_fraction, eval_on_train_shuffle, save_model_each_k_epochs, tensorboard_comment, use_swa, use_final_model_for_eval, gold_label_dictionary_for_eval, exclude_labels, create_file_logs, create_loss_file, epoch, use_tensorboard, tensorboard_log_dir, metrics_for_tensorboard, optimizer_state_dict, scheduler_state_dict, save_optimizer_state, reduce_transformer_vocab, shuffle_first_epoch, **kwargs)\u001b[0m\n\u001b[1;32m    547\u001b[0m                         \u001b[0;32mfor\u001b[0m \u001b[0mbatch_step\u001b[0m \u001b[0;32min\u001b[0m \u001b[0mbatch_steps\u001b[0m\u001b[0;34m:\u001b[0m\u001b[0;34m\u001b[0m\u001b[0;34m\u001b[0m\u001b[0m\n\u001b[1;32m    548\u001b[0m                             \u001b[0;31m# forward pass\u001b[0m\u001b[0;34m\u001b[0m\u001b[0;34m\u001b[0m\u001b[0m\n\u001b[0;32m--> 549\u001b[0;31m                             \u001b[0mloss\u001b[0m\u001b[0;34m,\u001b[0m \u001b[0mdatapoint_count\u001b[0m \u001b[0;34m=\u001b[0m \u001b[0mself\u001b[0m\u001b[0;34m.\u001b[0m\u001b[0mmodel\u001b[0m\u001b[0;34m.\u001b[0m\u001b[0mforward_loss\u001b[0m\u001b[0;34m(\u001b[0m\u001b[0mbatch_step\u001b[0m\u001b[0;34m)\u001b[0m\u001b[0;34m\u001b[0m\u001b[0;34m\u001b[0m\u001b[0m\n\u001b[0m\u001b[1;32m    550\u001b[0m                             \u001b[0maverage_over\u001b[0m \u001b[0;34m+=\u001b[0m \u001b[0mdatapoint_count\u001b[0m\u001b[0;34m\u001b[0m\u001b[0;34m\u001b[0m\u001b[0m\n\u001b[1;32m    551\u001b[0m                             \u001b[0;31m# Backward\u001b[0m\u001b[0;34m\u001b[0m\u001b[0;34m\u001b[0m\u001b[0m\n",
            "\u001b[0;32m/usr/local/lib/python3.10/dist-packages/flair/models/sequence_tagger_model.py\u001b[0m in \u001b[0;36mforward_loss\u001b[0;34m(self, sentences)\u001b[0m\n\u001b[1;32m    272\u001b[0m         \u001b[0msentences\u001b[0m \u001b[0;34m=\u001b[0m \u001b[0msorted\u001b[0m\u001b[0;34m(\u001b[0m\u001b[0msentences\u001b[0m\u001b[0;34m,\u001b[0m \u001b[0mkey\u001b[0m\u001b[0;34m=\u001b[0m\u001b[0mlen\u001b[0m\u001b[0;34m,\u001b[0m \u001b[0mreverse\u001b[0m\u001b[0;34m=\u001b[0m\u001b[0;32mTrue\u001b[0m\u001b[0;34m)\u001b[0m\u001b[0;34m\u001b[0m\u001b[0;34m\u001b[0m\u001b[0m\n\u001b[1;32m    273\u001b[0m         \u001b[0mgold_labels\u001b[0m \u001b[0;34m=\u001b[0m \u001b[0mself\u001b[0m\u001b[0;34m.\u001b[0m\u001b[0m_prepare_label_tensor\u001b[0m\u001b[0;34m(\u001b[0m\u001b[0msentences\u001b[0m\u001b[0;34m)\u001b[0m\u001b[0;34m\u001b[0m\u001b[0;34m\u001b[0m\u001b[0m\n\u001b[0;32m--> 274\u001b[0;31m         \u001b[0msentence_tensor\u001b[0m\u001b[0;34m,\u001b[0m \u001b[0mlengths\u001b[0m \u001b[0;34m=\u001b[0m \u001b[0mself\u001b[0m\u001b[0;34m.\u001b[0m\u001b[0m_prepare_tensors\u001b[0m\u001b[0;34m(\u001b[0m\u001b[0msentences\u001b[0m\u001b[0;34m)\u001b[0m\u001b[0;34m\u001b[0m\u001b[0;34m\u001b[0m\u001b[0m\n\u001b[0m\u001b[1;32m    275\u001b[0m \u001b[0;34m\u001b[0m\u001b[0m\n\u001b[1;32m    276\u001b[0m         \u001b[0;31m# forward pass to get scores\u001b[0m\u001b[0;34m\u001b[0m\u001b[0;34m\u001b[0m\u001b[0m\n",
            "\u001b[0;32m/usr/local/lib/python3.10/dist-packages/flair/models/sequence_tagger_model.py\u001b[0m in \u001b[0;36m_prepare_tensors\u001b[0;34m(self, data_points)\u001b[0m\n\u001b[1;32m    285\u001b[0m         \u001b[0;32melse\u001b[0m\u001b[0;34m:\u001b[0m\u001b[0;34m\u001b[0m\u001b[0;34m\u001b[0m\u001b[0m\n\u001b[1;32m    286\u001b[0m             \u001b[0msentences\u001b[0m \u001b[0;34m=\u001b[0m \u001b[0mdata_points\u001b[0m\u001b[0;34m\u001b[0m\u001b[0;34m\u001b[0m\u001b[0m\n\u001b[0;32m--> 287\u001b[0;31m         \u001b[0mself\u001b[0m\u001b[0;34m.\u001b[0m\u001b[0membeddings\u001b[0m\u001b[0;34m.\u001b[0m\u001b[0membed\u001b[0m\u001b[0;34m(\u001b[0m\u001b[0msentences\u001b[0m\u001b[0;34m)\u001b[0m\u001b[0;34m\u001b[0m\u001b[0;34m\u001b[0m\u001b[0m\n\u001b[0m\u001b[1;32m    288\u001b[0m \u001b[0;34m\u001b[0m\u001b[0m\n\u001b[1;32m    289\u001b[0m         \u001b[0;31m# make a zero-padded tensor for the whole sentence\u001b[0m\u001b[0;34m\u001b[0m\u001b[0;34m\u001b[0m\u001b[0m\n",
            "\u001b[0;32m/usr/local/lib/python3.10/dist-packages/flair/embeddings/base.py\u001b[0m in \u001b[0;36membed\u001b[0;34m(self, data_points)\u001b[0m\n\u001b[1;32m     47\u001b[0m \u001b[0;34m\u001b[0m\u001b[0m\n\u001b[1;32m     48\u001b[0m         \u001b[0;32mif\u001b[0m \u001b[0;32mnot\u001b[0m \u001b[0mself\u001b[0m\u001b[0;34m.\u001b[0m\u001b[0m_everything_embedded\u001b[0m\u001b[0;34m(\u001b[0m\u001b[0mdata_points\u001b[0m\u001b[0;34m)\u001b[0m\u001b[0;34m:\u001b[0m\u001b[0;34m\u001b[0m\u001b[0;34m\u001b[0m\u001b[0m\n\u001b[0;32m---> 49\u001b[0;31m             \u001b[0mself\u001b[0m\u001b[0;34m.\u001b[0m\u001b[0m_add_embeddings_internal\u001b[0m\u001b[0;34m(\u001b[0m\u001b[0mdata_points\u001b[0m\u001b[0;34m)\u001b[0m\u001b[0;34m\u001b[0m\u001b[0;34m\u001b[0m\u001b[0m\n\u001b[0m\u001b[1;32m     50\u001b[0m \u001b[0;34m\u001b[0m\u001b[0m\n\u001b[1;32m     51\u001b[0m         \u001b[0;32mreturn\u001b[0m \u001b[0mdata_points\u001b[0m\u001b[0;34m\u001b[0m\u001b[0;34m\u001b[0m\u001b[0m\n",
            "\u001b[0;32m/usr/local/lib/python3.10/dist-packages/flair/embeddings/transformer.py\u001b[0m in \u001b[0;36m_add_embeddings_internal\u001b[0;34m(self, sentences)\u001b[0m\n\u001b[1;32m    660\u001b[0m         \u001b[0mgradient_context\u001b[0m \u001b[0;34m=\u001b[0m \u001b[0mtorch\u001b[0m\u001b[0;34m.\u001b[0m\u001b[0menable_grad\u001b[0m\u001b[0;34m(\u001b[0m\u001b[0;34m)\u001b[0m \u001b[0;32mif\u001b[0m \u001b[0;34m(\u001b[0m\u001b[0mself\u001b[0m\u001b[0;34m.\u001b[0m\u001b[0mfine_tune\u001b[0m \u001b[0;32mand\u001b[0m \u001b[0mself\u001b[0m\u001b[0;34m.\u001b[0m\u001b[0mtraining\u001b[0m\u001b[0;34m)\u001b[0m \u001b[0;32melse\u001b[0m \u001b[0mtorch\u001b[0m\u001b[0;34m.\u001b[0m\u001b[0mno_grad\u001b[0m\u001b[0;34m(\u001b[0m\u001b[0;34m)\u001b[0m\u001b[0;34m\u001b[0m\u001b[0;34m\u001b[0m\u001b[0m\n\u001b[1;32m    661\u001b[0m         \u001b[0;32mwith\u001b[0m \u001b[0mgradient_context\u001b[0m\u001b[0;34m:\u001b[0m\u001b[0;34m\u001b[0m\u001b[0;34m\u001b[0m\u001b[0m\n\u001b[0;32m--> 662\u001b[0;31m             \u001b[0membeddings\u001b[0m \u001b[0;34m=\u001b[0m \u001b[0mself\u001b[0m\u001b[0;34m.\u001b[0m\u001b[0m_forward_tensors\u001b[0m\u001b[0;34m(\u001b[0m\u001b[0mtensors\u001b[0m\u001b[0;34m)\u001b[0m\u001b[0;34m\u001b[0m\u001b[0;34m\u001b[0m\u001b[0m\n\u001b[0m\u001b[1;32m    663\u001b[0m \u001b[0;34m\u001b[0m\u001b[0m\n\u001b[1;32m    664\u001b[0m         \u001b[0;32mif\u001b[0m \u001b[0mself\u001b[0m\u001b[0;34m.\u001b[0m\u001b[0mdocument_embedding\u001b[0m\u001b[0;34m:\u001b[0m\u001b[0;34m\u001b[0m\u001b[0;34m\u001b[0m\u001b[0m\n",
            "\u001b[0;32m/usr/local/lib/python3.10/dist-packages/flair/embeddings/transformer.py\u001b[0m in \u001b[0;36m_forward_tensors\u001b[0;34m(self, tensors)\u001b[0m\n\u001b[1;32m   1317\u001b[0m \u001b[0;34m\u001b[0m\u001b[0m\n\u001b[1;32m   1318\u001b[0m     \u001b[0;32mdef\u001b[0m \u001b[0m_forward_tensors\u001b[0m\u001b[0;34m(\u001b[0m\u001b[0mself\u001b[0m\u001b[0;34m,\u001b[0m \u001b[0mtensors\u001b[0m\u001b[0;34m)\u001b[0m \u001b[0;34m->\u001b[0m \u001b[0mDict\u001b[0m\u001b[0;34m[\u001b[0m\u001b[0mstr\u001b[0m\u001b[0;34m,\u001b[0m \u001b[0mtorch\u001b[0m\u001b[0;34m.\u001b[0m\u001b[0mTensor\u001b[0m\u001b[0;34m]\u001b[0m\u001b[0;34m:\u001b[0m\u001b[0;34m\u001b[0m\u001b[0;34m\u001b[0m\u001b[0m\n\u001b[0;32m-> 1319\u001b[0;31m         \u001b[0;32mreturn\u001b[0m \u001b[0mself\u001b[0m\u001b[0;34m.\u001b[0m\u001b[0mforward\u001b[0m\u001b[0;34m(\u001b[0m\u001b[0;34m**\u001b[0m\u001b[0mtensors\u001b[0m\u001b[0;34m)\u001b[0m\u001b[0;34m\u001b[0m\u001b[0;34m\u001b[0m\u001b[0m\n\u001b[0m\u001b[1;32m   1320\u001b[0m \u001b[0;34m\u001b[0m\u001b[0m\n\u001b[1;32m   1321\u001b[0m     def export_onnx(\n",
            "\u001b[0;32m/usr/local/lib/python3.10/dist-packages/flair/embeddings/transformer.py\u001b[0m in \u001b[0;36mforward\u001b[0;34m(self, input_ids, sub_token_lengths, token_lengths, attention_mask, overflow_to_sample_mapping, word_ids, langs, bbox, pixel_values)\u001b[0m\n\u001b[1;32m   1221\u001b[0m         \u001b[0;32mif\u001b[0m \u001b[0mpixel_values\u001b[0m \u001b[0;32mis\u001b[0m \u001b[0;32mnot\u001b[0m \u001b[0;32mNone\u001b[0m\u001b[0;34m:\u001b[0m\u001b[0;34m\u001b[0m\u001b[0;34m\u001b[0m\u001b[0m\n\u001b[1;32m   1222\u001b[0m             \u001b[0mmodel_kwargs\u001b[0m\u001b[0;34m[\u001b[0m\u001b[0;34m\"pixel_values\"\u001b[0m\u001b[0;34m]\u001b[0m \u001b[0;34m=\u001b[0m \u001b[0mpixel_values\u001b[0m\u001b[0;34m\u001b[0m\u001b[0;34m\u001b[0m\u001b[0m\n\u001b[0;32m-> 1223\u001b[0;31m         \u001b[0mhidden_states\u001b[0m \u001b[0;34m=\u001b[0m \u001b[0mself\u001b[0m\u001b[0;34m.\u001b[0m\u001b[0mmodel\u001b[0m\u001b[0;34m(\u001b[0m\u001b[0minput_ids\u001b[0m\u001b[0;34m,\u001b[0m \u001b[0;34m**\u001b[0m\u001b[0mmodel_kwargs\u001b[0m\u001b[0;34m)\u001b[0m\u001b[0;34m[\u001b[0m\u001b[0;34m-\u001b[0m\u001b[0;36m1\u001b[0m\u001b[0;34m]\u001b[0m\u001b[0;34m\u001b[0m\u001b[0;34m\u001b[0m\u001b[0m\n\u001b[0m\u001b[1;32m   1224\u001b[0m         \u001b[0;31m# make the tuple a tensor; makes working with it easier.\u001b[0m\u001b[0;34m\u001b[0m\u001b[0;34m\u001b[0m\u001b[0m\n\u001b[1;32m   1225\u001b[0m         \u001b[0mhidden_states\u001b[0m \u001b[0;34m=\u001b[0m \u001b[0mtorch\u001b[0m\u001b[0;34m.\u001b[0m\u001b[0mstack\u001b[0m\u001b[0;34m(\u001b[0m\u001b[0mhidden_states\u001b[0m\u001b[0;34m)\u001b[0m\u001b[0;34m\u001b[0m\u001b[0;34m\u001b[0m\u001b[0m\n",
            "\u001b[0;32m/usr/local/lib/python3.10/dist-packages/torch/nn/modules/module.py\u001b[0m in \u001b[0;36m_wrapped_call_impl\u001b[0;34m(self, *args, **kwargs)\u001b[0m\n\u001b[1;32m   1516\u001b[0m             \u001b[0;32mreturn\u001b[0m \u001b[0mself\u001b[0m\u001b[0;34m.\u001b[0m\u001b[0m_compiled_call_impl\u001b[0m\u001b[0;34m(\u001b[0m\u001b[0;34m*\u001b[0m\u001b[0margs\u001b[0m\u001b[0;34m,\u001b[0m \u001b[0;34m**\u001b[0m\u001b[0mkwargs\u001b[0m\u001b[0;34m)\u001b[0m  \u001b[0;31m# type: ignore[misc]\u001b[0m\u001b[0;34m\u001b[0m\u001b[0;34m\u001b[0m\u001b[0m\n\u001b[1;32m   1517\u001b[0m         \u001b[0;32melse\u001b[0m\u001b[0;34m:\u001b[0m\u001b[0;34m\u001b[0m\u001b[0;34m\u001b[0m\u001b[0m\n\u001b[0;32m-> 1518\u001b[0;31m             \u001b[0;32mreturn\u001b[0m \u001b[0mself\u001b[0m\u001b[0;34m.\u001b[0m\u001b[0m_call_impl\u001b[0m\u001b[0;34m(\u001b[0m\u001b[0;34m*\u001b[0m\u001b[0margs\u001b[0m\u001b[0;34m,\u001b[0m \u001b[0;34m**\u001b[0m\u001b[0mkwargs\u001b[0m\u001b[0;34m)\u001b[0m\u001b[0;34m\u001b[0m\u001b[0;34m\u001b[0m\u001b[0m\n\u001b[0m\u001b[1;32m   1519\u001b[0m \u001b[0;34m\u001b[0m\u001b[0m\n\u001b[1;32m   1520\u001b[0m     \u001b[0;32mdef\u001b[0m \u001b[0m_call_impl\u001b[0m\u001b[0;34m(\u001b[0m\u001b[0mself\u001b[0m\u001b[0;34m,\u001b[0m \u001b[0;34m*\u001b[0m\u001b[0margs\u001b[0m\u001b[0;34m,\u001b[0m \u001b[0;34m**\u001b[0m\u001b[0mkwargs\u001b[0m\u001b[0;34m)\u001b[0m\u001b[0;34m:\u001b[0m\u001b[0;34m\u001b[0m\u001b[0;34m\u001b[0m\u001b[0m\n",
            "\u001b[0;32m/usr/local/lib/python3.10/dist-packages/torch/nn/modules/module.py\u001b[0m in \u001b[0;36m_call_impl\u001b[0;34m(self, *args, **kwargs)\u001b[0m\n\u001b[1;32m   1525\u001b[0m                 \u001b[0;32mor\u001b[0m \u001b[0m_global_backward_pre_hooks\u001b[0m \u001b[0;32mor\u001b[0m \u001b[0m_global_backward_hooks\u001b[0m\u001b[0;34m\u001b[0m\u001b[0;34m\u001b[0m\u001b[0m\n\u001b[1;32m   1526\u001b[0m                 or _global_forward_hooks or _global_forward_pre_hooks):\n\u001b[0;32m-> 1527\u001b[0;31m             \u001b[0;32mreturn\u001b[0m \u001b[0mforward_call\u001b[0m\u001b[0;34m(\u001b[0m\u001b[0;34m*\u001b[0m\u001b[0margs\u001b[0m\u001b[0;34m,\u001b[0m \u001b[0;34m**\u001b[0m\u001b[0mkwargs\u001b[0m\u001b[0;34m)\u001b[0m\u001b[0;34m\u001b[0m\u001b[0;34m\u001b[0m\u001b[0m\n\u001b[0m\u001b[1;32m   1528\u001b[0m \u001b[0;34m\u001b[0m\u001b[0m\n\u001b[1;32m   1529\u001b[0m         \u001b[0;32mtry\u001b[0m\u001b[0;34m:\u001b[0m\u001b[0;34m\u001b[0m\u001b[0;34m\u001b[0m\u001b[0m\n",
            "\u001b[0;32m/usr/local/lib/python3.10/dist-packages/transformers/models/xlm_roberta/modeling_xlm_roberta.py\u001b[0m in \u001b[0;36mforward\u001b[0;34m(self, input_ids, attention_mask, token_type_ids, position_ids, head_mask, inputs_embeds, encoder_hidden_states, encoder_attention_mask, past_key_values, use_cache, output_attentions, output_hidden_states, return_dict)\u001b[0m\n\u001b[1;32m    844\u001b[0m             \u001b[0mpast_key_values_length\u001b[0m\u001b[0;34m=\u001b[0m\u001b[0mpast_key_values_length\u001b[0m\u001b[0;34m,\u001b[0m\u001b[0;34m\u001b[0m\u001b[0;34m\u001b[0m\u001b[0m\n\u001b[1;32m    845\u001b[0m         )\n\u001b[0;32m--> 846\u001b[0;31m         encoder_outputs = self.encoder(\n\u001b[0m\u001b[1;32m    847\u001b[0m             \u001b[0membedding_output\u001b[0m\u001b[0;34m,\u001b[0m\u001b[0;34m\u001b[0m\u001b[0;34m\u001b[0m\u001b[0m\n\u001b[1;32m    848\u001b[0m             \u001b[0mattention_mask\u001b[0m\u001b[0;34m=\u001b[0m\u001b[0mextended_attention_mask\u001b[0m\u001b[0;34m,\u001b[0m\u001b[0;34m\u001b[0m\u001b[0;34m\u001b[0m\u001b[0m\n",
            "\u001b[0;32m/usr/local/lib/python3.10/dist-packages/torch/nn/modules/module.py\u001b[0m in \u001b[0;36m_wrapped_call_impl\u001b[0;34m(self, *args, **kwargs)\u001b[0m\n\u001b[1;32m   1516\u001b[0m             \u001b[0;32mreturn\u001b[0m \u001b[0mself\u001b[0m\u001b[0;34m.\u001b[0m\u001b[0m_compiled_call_impl\u001b[0m\u001b[0;34m(\u001b[0m\u001b[0;34m*\u001b[0m\u001b[0margs\u001b[0m\u001b[0;34m,\u001b[0m \u001b[0;34m**\u001b[0m\u001b[0mkwargs\u001b[0m\u001b[0;34m)\u001b[0m  \u001b[0;31m# type: ignore[misc]\u001b[0m\u001b[0;34m\u001b[0m\u001b[0;34m\u001b[0m\u001b[0m\n\u001b[1;32m   1517\u001b[0m         \u001b[0;32melse\u001b[0m\u001b[0;34m:\u001b[0m\u001b[0;34m\u001b[0m\u001b[0;34m\u001b[0m\u001b[0m\n\u001b[0;32m-> 1518\u001b[0;31m             \u001b[0;32mreturn\u001b[0m \u001b[0mself\u001b[0m\u001b[0;34m.\u001b[0m\u001b[0m_call_impl\u001b[0m\u001b[0;34m(\u001b[0m\u001b[0;34m*\u001b[0m\u001b[0margs\u001b[0m\u001b[0;34m,\u001b[0m \u001b[0;34m**\u001b[0m\u001b[0mkwargs\u001b[0m\u001b[0;34m)\u001b[0m\u001b[0;34m\u001b[0m\u001b[0;34m\u001b[0m\u001b[0m\n\u001b[0m\u001b[1;32m   1519\u001b[0m \u001b[0;34m\u001b[0m\u001b[0m\n\u001b[1;32m   1520\u001b[0m     \u001b[0;32mdef\u001b[0m \u001b[0m_call_impl\u001b[0m\u001b[0;34m(\u001b[0m\u001b[0mself\u001b[0m\u001b[0;34m,\u001b[0m \u001b[0;34m*\u001b[0m\u001b[0margs\u001b[0m\u001b[0;34m,\u001b[0m \u001b[0;34m**\u001b[0m\u001b[0mkwargs\u001b[0m\u001b[0;34m)\u001b[0m\u001b[0;34m:\u001b[0m\u001b[0;34m\u001b[0m\u001b[0;34m\u001b[0m\u001b[0m\n",
            "\u001b[0;32m/usr/local/lib/python3.10/dist-packages/torch/nn/modules/module.py\u001b[0m in \u001b[0;36m_call_impl\u001b[0;34m(self, *args, **kwargs)\u001b[0m\n\u001b[1;32m   1525\u001b[0m                 \u001b[0;32mor\u001b[0m \u001b[0m_global_backward_pre_hooks\u001b[0m \u001b[0;32mor\u001b[0m \u001b[0m_global_backward_hooks\u001b[0m\u001b[0;34m\u001b[0m\u001b[0;34m\u001b[0m\u001b[0m\n\u001b[1;32m   1526\u001b[0m                 or _global_forward_hooks or _global_forward_pre_hooks):\n\u001b[0;32m-> 1527\u001b[0;31m             \u001b[0;32mreturn\u001b[0m \u001b[0mforward_call\u001b[0m\u001b[0;34m(\u001b[0m\u001b[0;34m*\u001b[0m\u001b[0margs\u001b[0m\u001b[0;34m,\u001b[0m \u001b[0;34m**\u001b[0m\u001b[0mkwargs\u001b[0m\u001b[0;34m)\u001b[0m\u001b[0;34m\u001b[0m\u001b[0;34m\u001b[0m\u001b[0m\n\u001b[0m\u001b[1;32m   1528\u001b[0m \u001b[0;34m\u001b[0m\u001b[0m\n\u001b[1;32m   1529\u001b[0m         \u001b[0;32mtry\u001b[0m\u001b[0;34m:\u001b[0m\u001b[0;34m\u001b[0m\u001b[0;34m\u001b[0m\u001b[0m\n",
            "\u001b[0;32m/usr/local/lib/python3.10/dist-packages/transformers/models/xlm_roberta/modeling_xlm_roberta.py\u001b[0m in \u001b[0;36mforward\u001b[0;34m(self, hidden_states, attention_mask, head_mask, encoder_hidden_states, encoder_attention_mask, past_key_values, use_cache, output_attentions, output_hidden_states, return_dict)\u001b[0m\n\u001b[1;32m    528\u001b[0m                 )\n\u001b[1;32m    529\u001b[0m             \u001b[0;32melse\u001b[0m\u001b[0;34m:\u001b[0m\u001b[0;34m\u001b[0m\u001b[0;34m\u001b[0m\u001b[0m\n\u001b[0;32m--> 530\u001b[0;31m                 layer_outputs = layer_module(\n\u001b[0m\u001b[1;32m    531\u001b[0m                     \u001b[0mhidden_states\u001b[0m\u001b[0;34m,\u001b[0m\u001b[0;34m\u001b[0m\u001b[0;34m\u001b[0m\u001b[0m\n\u001b[1;32m    532\u001b[0m                     \u001b[0mattention_mask\u001b[0m\u001b[0;34m,\u001b[0m\u001b[0;34m\u001b[0m\u001b[0;34m\u001b[0m\u001b[0m\n",
            "\u001b[0;32m/usr/local/lib/python3.10/dist-packages/torch/nn/modules/module.py\u001b[0m in \u001b[0;36m_wrapped_call_impl\u001b[0;34m(self, *args, **kwargs)\u001b[0m\n\u001b[1;32m   1516\u001b[0m             \u001b[0;32mreturn\u001b[0m \u001b[0mself\u001b[0m\u001b[0;34m.\u001b[0m\u001b[0m_compiled_call_impl\u001b[0m\u001b[0;34m(\u001b[0m\u001b[0;34m*\u001b[0m\u001b[0margs\u001b[0m\u001b[0;34m,\u001b[0m \u001b[0;34m**\u001b[0m\u001b[0mkwargs\u001b[0m\u001b[0;34m)\u001b[0m  \u001b[0;31m# type: ignore[misc]\u001b[0m\u001b[0;34m\u001b[0m\u001b[0;34m\u001b[0m\u001b[0m\n\u001b[1;32m   1517\u001b[0m         \u001b[0;32melse\u001b[0m\u001b[0;34m:\u001b[0m\u001b[0;34m\u001b[0m\u001b[0;34m\u001b[0m\u001b[0m\n\u001b[0;32m-> 1518\u001b[0;31m             \u001b[0;32mreturn\u001b[0m \u001b[0mself\u001b[0m\u001b[0;34m.\u001b[0m\u001b[0m_call_impl\u001b[0m\u001b[0;34m(\u001b[0m\u001b[0;34m*\u001b[0m\u001b[0margs\u001b[0m\u001b[0;34m,\u001b[0m \u001b[0;34m**\u001b[0m\u001b[0mkwargs\u001b[0m\u001b[0;34m)\u001b[0m\u001b[0;34m\u001b[0m\u001b[0;34m\u001b[0m\u001b[0m\n\u001b[0m\u001b[1;32m   1519\u001b[0m \u001b[0;34m\u001b[0m\u001b[0m\n\u001b[1;32m   1520\u001b[0m     \u001b[0;32mdef\u001b[0m \u001b[0m_call_impl\u001b[0m\u001b[0;34m(\u001b[0m\u001b[0mself\u001b[0m\u001b[0;34m,\u001b[0m \u001b[0;34m*\u001b[0m\u001b[0margs\u001b[0m\u001b[0;34m,\u001b[0m \u001b[0;34m**\u001b[0m\u001b[0mkwargs\u001b[0m\u001b[0;34m)\u001b[0m\u001b[0;34m:\u001b[0m\u001b[0;34m\u001b[0m\u001b[0;34m\u001b[0m\u001b[0m\n",
            "\u001b[0;32m/usr/local/lib/python3.10/dist-packages/torch/nn/modules/module.py\u001b[0m in \u001b[0;36m_call_impl\u001b[0;34m(self, *args, **kwargs)\u001b[0m\n\u001b[1;32m   1525\u001b[0m                 \u001b[0;32mor\u001b[0m \u001b[0m_global_backward_pre_hooks\u001b[0m \u001b[0;32mor\u001b[0m \u001b[0m_global_backward_hooks\u001b[0m\u001b[0;34m\u001b[0m\u001b[0;34m\u001b[0m\u001b[0m\n\u001b[1;32m   1526\u001b[0m                 or _global_forward_hooks or _global_forward_pre_hooks):\n\u001b[0;32m-> 1527\u001b[0;31m             \u001b[0;32mreturn\u001b[0m \u001b[0mforward_call\u001b[0m\u001b[0;34m(\u001b[0m\u001b[0;34m*\u001b[0m\u001b[0margs\u001b[0m\u001b[0;34m,\u001b[0m \u001b[0;34m**\u001b[0m\u001b[0mkwargs\u001b[0m\u001b[0;34m)\u001b[0m\u001b[0;34m\u001b[0m\u001b[0;34m\u001b[0m\u001b[0m\n\u001b[0m\u001b[1;32m   1528\u001b[0m \u001b[0;34m\u001b[0m\u001b[0m\n\u001b[1;32m   1529\u001b[0m         \u001b[0;32mtry\u001b[0m\u001b[0;34m:\u001b[0m\u001b[0;34m\u001b[0m\u001b[0;34m\u001b[0m\u001b[0m\n",
            "\u001b[0;32m/usr/local/lib/python3.10/dist-packages/transformers/models/xlm_roberta/modeling_xlm_roberta.py\u001b[0m in \u001b[0;36mforward\u001b[0;34m(self, hidden_states, attention_mask, head_mask, encoder_hidden_states, encoder_attention_mask, past_key_value, output_attentions)\u001b[0m\n\u001b[1;32m    412\u001b[0m         \u001b[0;31m# decoder uni-directional self-attention cached key/values tuple is at positions 1,2\u001b[0m\u001b[0;34m\u001b[0m\u001b[0;34m\u001b[0m\u001b[0m\n\u001b[1;32m    413\u001b[0m         \u001b[0mself_attn_past_key_value\u001b[0m \u001b[0;34m=\u001b[0m \u001b[0mpast_key_value\u001b[0m\u001b[0;34m[\u001b[0m\u001b[0;34m:\u001b[0m\u001b[0;36m2\u001b[0m\u001b[0;34m]\u001b[0m \u001b[0;32mif\u001b[0m \u001b[0mpast_key_value\u001b[0m \u001b[0;32mis\u001b[0m \u001b[0;32mnot\u001b[0m \u001b[0;32mNone\u001b[0m \u001b[0;32melse\u001b[0m \u001b[0;32mNone\u001b[0m\u001b[0;34m\u001b[0m\u001b[0;34m\u001b[0m\u001b[0m\n\u001b[0;32m--> 414\u001b[0;31m         self_attention_outputs = self.attention(\n\u001b[0m\u001b[1;32m    415\u001b[0m             \u001b[0mhidden_states\u001b[0m\u001b[0;34m,\u001b[0m\u001b[0;34m\u001b[0m\u001b[0;34m\u001b[0m\u001b[0m\n\u001b[1;32m    416\u001b[0m             \u001b[0mattention_mask\u001b[0m\u001b[0;34m,\u001b[0m\u001b[0;34m\u001b[0m\u001b[0;34m\u001b[0m\u001b[0m\n",
            "\u001b[0;32m/usr/local/lib/python3.10/dist-packages/torch/nn/modules/module.py\u001b[0m in \u001b[0;36m_wrapped_call_impl\u001b[0;34m(self, *args, **kwargs)\u001b[0m\n\u001b[1;32m   1516\u001b[0m             \u001b[0;32mreturn\u001b[0m \u001b[0mself\u001b[0m\u001b[0;34m.\u001b[0m\u001b[0m_compiled_call_impl\u001b[0m\u001b[0;34m(\u001b[0m\u001b[0;34m*\u001b[0m\u001b[0margs\u001b[0m\u001b[0;34m,\u001b[0m \u001b[0;34m**\u001b[0m\u001b[0mkwargs\u001b[0m\u001b[0;34m)\u001b[0m  \u001b[0;31m# type: ignore[misc]\u001b[0m\u001b[0;34m\u001b[0m\u001b[0;34m\u001b[0m\u001b[0m\n\u001b[1;32m   1517\u001b[0m         \u001b[0;32melse\u001b[0m\u001b[0;34m:\u001b[0m\u001b[0;34m\u001b[0m\u001b[0;34m\u001b[0m\u001b[0m\n\u001b[0;32m-> 1518\u001b[0;31m             \u001b[0;32mreturn\u001b[0m \u001b[0mself\u001b[0m\u001b[0;34m.\u001b[0m\u001b[0m_call_impl\u001b[0m\u001b[0;34m(\u001b[0m\u001b[0;34m*\u001b[0m\u001b[0margs\u001b[0m\u001b[0;34m,\u001b[0m \u001b[0;34m**\u001b[0m\u001b[0mkwargs\u001b[0m\u001b[0;34m)\u001b[0m\u001b[0;34m\u001b[0m\u001b[0;34m\u001b[0m\u001b[0m\n\u001b[0m\u001b[1;32m   1519\u001b[0m \u001b[0;34m\u001b[0m\u001b[0m\n\u001b[1;32m   1520\u001b[0m     \u001b[0;32mdef\u001b[0m \u001b[0m_call_impl\u001b[0m\u001b[0;34m(\u001b[0m\u001b[0mself\u001b[0m\u001b[0;34m,\u001b[0m \u001b[0;34m*\u001b[0m\u001b[0margs\u001b[0m\u001b[0;34m,\u001b[0m \u001b[0;34m**\u001b[0m\u001b[0mkwargs\u001b[0m\u001b[0;34m)\u001b[0m\u001b[0;34m:\u001b[0m\u001b[0;34m\u001b[0m\u001b[0;34m\u001b[0m\u001b[0m\n",
            "\u001b[0;32m/usr/local/lib/python3.10/dist-packages/torch/nn/modules/module.py\u001b[0m in \u001b[0;36m_call_impl\u001b[0;34m(self, *args, **kwargs)\u001b[0m\n\u001b[1;32m   1525\u001b[0m                 \u001b[0;32mor\u001b[0m \u001b[0m_global_backward_pre_hooks\u001b[0m \u001b[0;32mor\u001b[0m \u001b[0m_global_backward_hooks\u001b[0m\u001b[0;34m\u001b[0m\u001b[0;34m\u001b[0m\u001b[0m\n\u001b[1;32m   1526\u001b[0m                 or _global_forward_hooks or _global_forward_pre_hooks):\n\u001b[0;32m-> 1527\u001b[0;31m             \u001b[0;32mreturn\u001b[0m \u001b[0mforward_call\u001b[0m\u001b[0;34m(\u001b[0m\u001b[0;34m*\u001b[0m\u001b[0margs\u001b[0m\u001b[0;34m,\u001b[0m \u001b[0;34m**\u001b[0m\u001b[0mkwargs\u001b[0m\u001b[0;34m)\u001b[0m\u001b[0;34m\u001b[0m\u001b[0;34m\u001b[0m\u001b[0m\n\u001b[0m\u001b[1;32m   1528\u001b[0m \u001b[0;34m\u001b[0m\u001b[0m\n\u001b[1;32m   1529\u001b[0m         \u001b[0;32mtry\u001b[0m\u001b[0;34m:\u001b[0m\u001b[0;34m\u001b[0m\u001b[0;34m\u001b[0m\u001b[0m\n",
            "\u001b[0;32m/usr/local/lib/python3.10/dist-packages/transformers/models/xlm_roberta/modeling_xlm_roberta.py\u001b[0m in \u001b[0;36mforward\u001b[0;34m(self, hidden_states, attention_mask, head_mask, encoder_hidden_states, encoder_attention_mask, past_key_value, output_attentions)\u001b[0m\n\u001b[1;32m    339\u001b[0m         \u001b[0moutput_attentions\u001b[0m\u001b[0;34m:\u001b[0m \u001b[0mOptional\u001b[0m\u001b[0;34m[\u001b[0m\u001b[0mbool\u001b[0m\u001b[0;34m]\u001b[0m \u001b[0;34m=\u001b[0m \u001b[0;32mFalse\u001b[0m\u001b[0;34m,\u001b[0m\u001b[0;34m\u001b[0m\u001b[0;34m\u001b[0m\u001b[0m\n\u001b[1;32m    340\u001b[0m     ) -> Tuple[torch.Tensor]:\n\u001b[0;32m--> 341\u001b[0;31m         self_outputs = self.self(\n\u001b[0m\u001b[1;32m    342\u001b[0m             \u001b[0mhidden_states\u001b[0m\u001b[0;34m,\u001b[0m\u001b[0;34m\u001b[0m\u001b[0;34m\u001b[0m\u001b[0m\n\u001b[1;32m    343\u001b[0m             \u001b[0mattention_mask\u001b[0m\u001b[0;34m,\u001b[0m\u001b[0;34m\u001b[0m\u001b[0;34m\u001b[0m\u001b[0m\n",
            "\u001b[0;32m/usr/local/lib/python3.10/dist-packages/torch/nn/modules/module.py\u001b[0m in \u001b[0;36m_wrapped_call_impl\u001b[0;34m(self, *args, **kwargs)\u001b[0m\n\u001b[1;32m   1516\u001b[0m             \u001b[0;32mreturn\u001b[0m \u001b[0mself\u001b[0m\u001b[0;34m.\u001b[0m\u001b[0m_compiled_call_impl\u001b[0m\u001b[0;34m(\u001b[0m\u001b[0;34m*\u001b[0m\u001b[0margs\u001b[0m\u001b[0;34m,\u001b[0m \u001b[0;34m**\u001b[0m\u001b[0mkwargs\u001b[0m\u001b[0;34m)\u001b[0m  \u001b[0;31m# type: ignore[misc]\u001b[0m\u001b[0;34m\u001b[0m\u001b[0;34m\u001b[0m\u001b[0m\n\u001b[1;32m   1517\u001b[0m         \u001b[0;32melse\u001b[0m\u001b[0;34m:\u001b[0m\u001b[0;34m\u001b[0m\u001b[0;34m\u001b[0m\u001b[0m\n\u001b[0;32m-> 1518\u001b[0;31m             \u001b[0;32mreturn\u001b[0m \u001b[0mself\u001b[0m\u001b[0;34m.\u001b[0m\u001b[0m_call_impl\u001b[0m\u001b[0;34m(\u001b[0m\u001b[0;34m*\u001b[0m\u001b[0margs\u001b[0m\u001b[0;34m,\u001b[0m \u001b[0;34m**\u001b[0m\u001b[0mkwargs\u001b[0m\u001b[0;34m)\u001b[0m\u001b[0;34m\u001b[0m\u001b[0;34m\u001b[0m\u001b[0m\n\u001b[0m\u001b[1;32m   1519\u001b[0m \u001b[0;34m\u001b[0m\u001b[0m\n\u001b[1;32m   1520\u001b[0m     \u001b[0;32mdef\u001b[0m \u001b[0m_call_impl\u001b[0m\u001b[0;34m(\u001b[0m\u001b[0mself\u001b[0m\u001b[0;34m,\u001b[0m \u001b[0;34m*\u001b[0m\u001b[0margs\u001b[0m\u001b[0;34m,\u001b[0m \u001b[0;34m**\u001b[0m\u001b[0mkwargs\u001b[0m\u001b[0;34m)\u001b[0m\u001b[0;34m:\u001b[0m\u001b[0;34m\u001b[0m\u001b[0;34m\u001b[0m\u001b[0m\n",
            "\u001b[0;32m/usr/local/lib/python3.10/dist-packages/torch/nn/modules/module.py\u001b[0m in \u001b[0;36m_call_impl\u001b[0;34m(self, *args, **kwargs)\u001b[0m\n\u001b[1;32m   1525\u001b[0m                 \u001b[0;32mor\u001b[0m \u001b[0m_global_backward_pre_hooks\u001b[0m \u001b[0;32mor\u001b[0m \u001b[0m_global_backward_hooks\u001b[0m\u001b[0;34m\u001b[0m\u001b[0;34m\u001b[0m\u001b[0m\n\u001b[1;32m   1526\u001b[0m                 or _global_forward_hooks or _global_forward_pre_hooks):\n\u001b[0;32m-> 1527\u001b[0;31m             \u001b[0;32mreturn\u001b[0m \u001b[0mforward_call\u001b[0m\u001b[0;34m(\u001b[0m\u001b[0;34m*\u001b[0m\u001b[0margs\u001b[0m\u001b[0;34m,\u001b[0m \u001b[0;34m**\u001b[0m\u001b[0mkwargs\u001b[0m\u001b[0;34m)\u001b[0m\u001b[0;34m\u001b[0m\u001b[0;34m\u001b[0m\u001b[0m\n\u001b[0m\u001b[1;32m   1528\u001b[0m \u001b[0;34m\u001b[0m\u001b[0m\n\u001b[1;32m   1529\u001b[0m         \u001b[0;32mtry\u001b[0m\u001b[0;34m:\u001b[0m\u001b[0;34m\u001b[0m\u001b[0;34m\u001b[0m\u001b[0m\n",
            "\u001b[0;32m/usr/local/lib/python3.10/dist-packages/transformers/models/xlm_roberta/modeling_xlm_roberta.py\u001b[0m in \u001b[0;36mforward\u001b[0;34m(self, hidden_states, attention_mask, head_mask, encoder_hidden_states, encoder_attention_mask, past_key_value, output_attentions)\u001b[0m\n\u001b[1;32m    235\u001b[0m \u001b[0;34m\u001b[0m\u001b[0m\n\u001b[1;32m    236\u001b[0m         \u001b[0;31m# Take the dot product between \"query\" and \"key\" to get the raw attention scores.\u001b[0m\u001b[0;34m\u001b[0m\u001b[0;34m\u001b[0m\u001b[0m\n\u001b[0;32m--> 237\u001b[0;31m         \u001b[0mattention_scores\u001b[0m \u001b[0;34m=\u001b[0m \u001b[0mtorch\u001b[0m\u001b[0;34m.\u001b[0m\u001b[0mmatmul\u001b[0m\u001b[0;34m(\u001b[0m\u001b[0mquery_layer\u001b[0m\u001b[0;34m,\u001b[0m \u001b[0mkey_layer\u001b[0m\u001b[0;34m.\u001b[0m\u001b[0mtranspose\u001b[0m\u001b[0;34m(\u001b[0m\u001b[0;34m-\u001b[0m\u001b[0;36m1\u001b[0m\u001b[0;34m,\u001b[0m \u001b[0;34m-\u001b[0m\u001b[0;36m2\u001b[0m\u001b[0;34m)\u001b[0m\u001b[0;34m)\u001b[0m\u001b[0;34m\u001b[0m\u001b[0;34m\u001b[0m\u001b[0m\n\u001b[0m\u001b[1;32m    238\u001b[0m \u001b[0;34m\u001b[0m\u001b[0m\n\u001b[1;32m    239\u001b[0m         \u001b[0;32mif\u001b[0m \u001b[0mself\u001b[0m\u001b[0;34m.\u001b[0m\u001b[0mposition_embedding_type\u001b[0m \u001b[0;34m==\u001b[0m \u001b[0;34m\"relative_key\"\u001b[0m \u001b[0;32mor\u001b[0m \u001b[0mself\u001b[0m\u001b[0;34m.\u001b[0m\u001b[0mposition_embedding_type\u001b[0m \u001b[0;34m==\u001b[0m \u001b[0;34m\"relative_key_query\"\u001b[0m\u001b[0;34m:\u001b[0m\u001b[0;34m\u001b[0m\u001b[0;34m\u001b[0m\u001b[0m\n",
            "\u001b[0;31mOutOfMemoryError\u001b[0m: CUDA out of memory. Tried to allocate 160.00 MiB. GPU 0 has a total capacty of 14.75 GiB of which 32.81 MiB is free. Process 537264 has 14.71 GiB memory in use. Of the allocated memory 13.15 GiB is allocated by PyTorch, and 728.79 MiB is reserved by PyTorch but unallocated. If reserved but unallocated memory is large try setting max_split_size_mb to avoid fragmentation.  See documentation for Memory Management and PYTORCH_CUDA_ALLOC_CONF"
          ]
        }
      ]
    }
  ]
}