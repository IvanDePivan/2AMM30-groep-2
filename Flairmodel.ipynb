{
  "nbformat": 4,
  "nbformat_minor": 0,
  "metadata": {
    "colab": {
      "provenance": [],
      "gpuType": "V100",
      "authorship_tag": "ABX9TyPkvf3E5RNlbVHRZ53uTS1J",
      "include_colab_link": true
    },
    "kernelspec": {
      "name": "python3",
      "display_name": "Python 3"
    },
    "language_info": {
      "name": "python"
    },
    "accelerator": "GPU"
  },
  "cells": [
    {
      "cell_type": "markdown",
      "metadata": {
        "id": "view-in-github",
        "colab_type": "text"
      },
      "source": [
        "<a href=\"https://colab.research.google.com/github/IvanDePivan/2AMM30-groep-2-component-1/blob/main/Flairmodel.ipynb\" target=\"_parent\"><img src=\"https://colab.research.google.com/assets/colab-badge.svg\" alt=\"Open In Colab\"/></a>"
      ]
    },
    {
      "cell_type": "code",
      "execution_count": 1,
      "metadata": {
        "colab": {
          "base_uri": "https://localhost:8080/"
        },
        "id": "cuqW4DZFl2b6",
        "outputId": "ed5cd4d3-b527-49b3-bba0-05e7fcab9778"
      },
      "outputs": [
        {
          "output_type": "stream",
          "name": "stdout",
          "text": [
            "Found existing installation: torch 2.0.1+cu118\n",
            "Uninstalling torch-2.0.1+cu118:\n",
            "  Successfully uninstalled torch-2.0.1+cu118\n",
            "Collecting flair\n",
            "  Downloading flair-0.12.2-py3-none-any.whl (373 kB)\n",
            "\u001b[2K     \u001b[90m━━━━━━━━━━━━━━━━━━━━━━━━━━━━━━━━━━━━━━━━\u001b[0m \u001b[32m373.1/373.1 kB\u001b[0m \u001b[31m6.8 MB/s\u001b[0m eta \u001b[36m0:00:00\u001b[0m\n",
            "\u001b[?25hRequirement already satisfied: python-dateutil>=2.6.1 in /usr/local/lib/python3.10/dist-packages (from flair) (2.8.2)\n",
            "Collecting torch!=1.8,>=1.5.0 (from flair)\n",
            "  Downloading torch-2.1.0-cp310-cp310-manylinux1_x86_64.whl (670.2 MB)\n",
            "\u001b[2K     \u001b[90m━━━━━━━━━━━━━━━━━━━━━━━━━━━━━━━━━━━━━━━━\u001b[0m \u001b[32m670.2/670.2 MB\u001b[0m \u001b[31m2.2 MB/s\u001b[0m eta \u001b[36m0:00:00\u001b[0m\n",
            "\u001b[?25hRequirement already satisfied: gensim>=3.8.0 in /usr/local/lib/python3.10/dist-packages (from flair) (4.3.2)\n",
            "Requirement already satisfied: tqdm>=4.26.0 in /usr/local/lib/python3.10/dist-packages (from flair) (4.66.1)\n",
            "Collecting segtok>=1.5.7 (from flair)\n",
            "  Downloading segtok-1.5.11-py3-none-any.whl (24 kB)\n",
            "Requirement already satisfied: matplotlib>=2.2.3 in /usr/local/lib/python3.10/dist-packages (from flair) (3.7.1)\n",
            "Collecting mpld3==0.3 (from flair)\n",
            "  Downloading mpld3-0.3.tar.gz (788 kB)\n",
            "\u001b[2K     \u001b[90m━━━━━━━━━━━━━━━━━━━━━━━━━━━━━━━━━━━━━━━━\u001b[0m \u001b[32m788.5/788.5 kB\u001b[0m \u001b[31m59.7 MB/s\u001b[0m eta \u001b[36m0:00:00\u001b[0m\n",
            "\u001b[?25h  Preparing metadata (setup.py) ... \u001b[?25l\u001b[?25hdone\n",
            "Requirement already satisfied: scikit-learn>=0.21.3 in /usr/local/lib/python3.10/dist-packages (from flair) (1.2.2)\n",
            "Collecting sqlitedict>=1.6.0 (from flair)\n",
            "  Downloading sqlitedict-2.1.0.tar.gz (21 kB)\n",
            "  Preparing metadata (setup.py) ... \u001b[?25l\u001b[?25hdone\n",
            "Collecting deprecated>=1.2.4 (from flair)\n",
            "  Downloading Deprecated-1.2.14-py2.py3-none-any.whl (9.6 kB)\n",
            "Requirement already satisfied: hyperopt>=0.2.7 in /usr/local/lib/python3.10/dist-packages (from flair) (0.2.7)\n",
            "Collecting boto3 (from flair)\n",
            "  Downloading boto3-1.28.65-py3-none-any.whl (135 kB)\n",
            "\u001b[2K     \u001b[90m━━━━━━━━━━━━━━━━━━━━━━━━━━━━━━━━━━━━━━━━\u001b[0m \u001b[32m135.8/135.8 kB\u001b[0m \u001b[31m18.7 MB/s\u001b[0m eta \u001b[36m0:00:00\u001b[0m\n",
            "\u001b[?25hCollecting transformers[sentencepiece]>=4.18.0 (from flair)\n",
            "  Downloading transformers-4.34.0-py3-none-any.whl (7.7 MB)\n",
            "\u001b[2K     \u001b[90m━━━━━━━━━━━━━━━━━━━━━━━━━━━━━━━━━━━━━━━━\u001b[0m \u001b[32m7.7/7.7 MB\u001b[0m \u001b[31m94.2 MB/s\u001b[0m eta \u001b[36m0:00:00\u001b[0m\n",
            "\u001b[?25hCollecting bpemb>=0.3.2 (from flair)\n",
            "  Downloading bpemb-0.3.4-py3-none-any.whl (19 kB)\n",
            "Requirement already satisfied: regex in /usr/local/lib/python3.10/dist-packages (from flair) (2023.6.3)\n",
            "Requirement already satisfied: tabulate in /usr/local/lib/python3.10/dist-packages (from flair) (0.9.0)\n",
            "Collecting langdetect (from flair)\n",
            "  Downloading langdetect-1.0.9.tar.gz (981 kB)\n",
            "\u001b[2K     \u001b[90m━━━━━━━━━━━━━━━━━━━━━━━━━━━━━━━━━━━━━━━━\u001b[0m \u001b[32m981.5/981.5 kB\u001b[0m \u001b[31m63.6 MB/s\u001b[0m eta \u001b[36m0:00:00\u001b[0m\n",
            "\u001b[?25h  Preparing metadata (setup.py) ... \u001b[?25l\u001b[?25hdone\n",
            "Requirement already satisfied: lxml in /usr/local/lib/python3.10/dist-packages (from flair) (4.9.3)\n",
            "Collecting ftfy (from flair)\n",
            "  Downloading ftfy-6.1.1-py3-none-any.whl (53 kB)\n",
            "\u001b[2K     \u001b[90m━━━━━━━━━━━━━━━━━━━━━━━━━━━━━━━━━━━━━━━━\u001b[0m \u001b[32m53.1/53.1 kB\u001b[0m \u001b[31m8.1 MB/s\u001b[0m eta \u001b[36m0:00:00\u001b[0m\n",
            "\u001b[?25hCollecting janome (from flair)\n",
            "  Downloading Janome-0.5.0-py2.py3-none-any.whl (19.7 MB)\n",
            "\u001b[2K     \u001b[90m━━━━━━━━━━━━━━━━━━━━━━━━━━━━━━━━━━━━━━━━\u001b[0m \u001b[32m19.7/19.7 MB\u001b[0m \u001b[31m34.4 MB/s\u001b[0m eta \u001b[36m0:00:00\u001b[0m\n",
            "\u001b[?25hCollecting gdown==4.4.0 (from flair)\n",
            "  Downloading gdown-4.4.0.tar.gz (14 kB)\n",
            "  Installing build dependencies ... \u001b[?25l\u001b[?25hdone\n",
            "  Getting requirements to build wheel ... \u001b[?25l\u001b[?25hdone\n",
            "  Preparing metadata (pyproject.toml) ... \u001b[?25l\u001b[?25hdone\n",
            "Collecting huggingface-hub>=0.10.0 (from flair)\n",
            "  Downloading huggingface_hub-0.18.0-py3-none-any.whl (301 kB)\n",
            "\u001b[2K     \u001b[90m━━━━━━━━━━━━━━━━━━━━━━━━━━━━━━━━━━━━━━━━\u001b[0m \u001b[32m302.0/302.0 kB\u001b[0m \u001b[31m34.7 MB/s\u001b[0m eta \u001b[36m0:00:00\u001b[0m\n",
            "\u001b[?25hCollecting conllu>=4.0 (from flair)\n",
            "  Downloading conllu-4.5.3-py2.py3-none-any.whl (16 kB)\n",
            "Requirement already satisfied: more-itertools in /usr/local/lib/python3.10/dist-packages (from flair) (10.1.0)\n",
            "Collecting wikipedia-api (from flair)\n",
            "  Downloading Wikipedia_API-0.6.0-py3-none-any.whl (14 kB)\n",
            "Collecting pptree (from flair)\n",
            "  Downloading pptree-3.1.tar.gz (3.0 kB)\n",
            "  Preparing metadata (setup.py) ... \u001b[?25l\u001b[?25hdone\n",
            "Collecting pytorch-revgrad (from flair)\n",
            "  Downloading pytorch_revgrad-0.2.0-py3-none-any.whl (4.6 kB)\n",
            "Collecting transformer-smaller-training-vocab>=0.2.1 (from flair)\n",
            "  Downloading transformer_smaller_training_vocab-0.3.2-py3-none-any.whl (14 kB)\n",
            "Requirement already satisfied: filelock in /usr/local/lib/python3.10/dist-packages (from gdown==4.4.0->flair) (3.12.4)\n",
            "Requirement already satisfied: requests[socks] in /usr/local/lib/python3.10/dist-packages (from gdown==4.4.0->flair) (2.31.0)\n",
            "Requirement already satisfied: six in /usr/local/lib/python3.10/dist-packages (from gdown==4.4.0->flair) (1.16.0)\n",
            "Requirement already satisfied: beautifulsoup4 in /usr/local/lib/python3.10/dist-packages (from gdown==4.4.0->flair) (4.11.2)\n",
            "Requirement already satisfied: numpy in /usr/local/lib/python3.10/dist-packages (from bpemb>=0.3.2->flair) (1.23.5)\n",
            "Collecting sentencepiece (from bpemb>=0.3.2->flair)\n",
            "  Downloading sentencepiece-0.1.99-cp310-cp310-manylinux_2_17_x86_64.manylinux2014_x86_64.whl (1.3 MB)\n",
            "\u001b[2K     \u001b[90m━━━━━━━━━━━━━━━━━━━━━━━━━━━━━━━━━━━━━━━━\u001b[0m \u001b[32m1.3/1.3 MB\u001b[0m \u001b[31m75.0 MB/s\u001b[0m eta \u001b[36m0:00:00\u001b[0m\n",
            "\u001b[?25hRequirement already satisfied: wrapt<2,>=1.10 in /usr/local/lib/python3.10/dist-packages (from deprecated>=1.2.4->flair) (1.15.0)\n",
            "Requirement already satisfied: scipy>=1.7.0 in /usr/local/lib/python3.10/dist-packages (from gensim>=3.8.0->flair) (1.11.3)\n",
            "Requirement already satisfied: smart-open>=1.8.1 in /usr/local/lib/python3.10/dist-packages (from gensim>=3.8.0->flair) (6.4.0)\n",
            "Requirement already satisfied: fsspec>=2023.5.0 in /usr/local/lib/python3.10/dist-packages (from huggingface-hub>=0.10.0->flair) (2023.6.0)\n",
            "Requirement already satisfied: pyyaml>=5.1 in /usr/local/lib/python3.10/dist-packages (from huggingface-hub>=0.10.0->flair) (6.0.1)\n",
            "Requirement already satisfied: typing-extensions>=3.7.4.3 in /usr/local/lib/python3.10/dist-packages (from huggingface-hub>=0.10.0->flair) (4.5.0)\n",
            "Requirement already satisfied: packaging>=20.9 in /usr/local/lib/python3.10/dist-packages (from huggingface-hub>=0.10.0->flair) (23.2)\n",
            "Requirement already satisfied: networkx>=2.2 in /usr/local/lib/python3.10/dist-packages (from hyperopt>=0.2.7->flair) (3.1)\n",
            "Requirement already satisfied: future in /usr/local/lib/python3.10/dist-packages (from hyperopt>=0.2.7->flair) (0.18.3)\n",
            "Requirement already satisfied: cloudpickle in /usr/local/lib/python3.10/dist-packages (from hyperopt>=0.2.7->flair) (2.2.1)\n",
            "Requirement already satisfied: py4j in /usr/local/lib/python3.10/dist-packages (from hyperopt>=0.2.7->flair) (0.10.9.7)\n",
            "Requirement already satisfied: contourpy>=1.0.1 in /usr/local/lib/python3.10/dist-packages (from matplotlib>=2.2.3->flair) (1.1.1)\n",
            "Requirement already satisfied: cycler>=0.10 in /usr/local/lib/python3.10/dist-packages (from matplotlib>=2.2.3->flair) (0.12.1)\n",
            "Requirement already satisfied: fonttools>=4.22.0 in /usr/local/lib/python3.10/dist-packages (from matplotlib>=2.2.3->flair) (4.43.1)\n",
            "Requirement already satisfied: kiwisolver>=1.0.1 in /usr/local/lib/python3.10/dist-packages (from matplotlib>=2.2.3->flair) (1.4.5)\n",
            "Requirement already satisfied: pillow>=6.2.0 in /usr/local/lib/python3.10/dist-packages (from matplotlib>=2.2.3->flair) (9.4.0)\n",
            "Requirement already satisfied: pyparsing>=2.3.1 in /usr/local/lib/python3.10/dist-packages (from matplotlib>=2.2.3->flair) (3.1.1)\n",
            "Requirement already satisfied: joblib>=1.1.1 in /usr/local/lib/python3.10/dist-packages (from scikit-learn>=0.21.3->flair) (1.3.2)\n",
            "Requirement already satisfied: threadpoolctl>=2.0.0 in /usr/local/lib/python3.10/dist-packages (from scikit-learn>=0.21.3->flair) (3.2.0)\n",
            "Requirement already satisfied: sympy in /usr/local/lib/python3.10/dist-packages (from torch!=1.8,>=1.5.0->flair) (1.12)\n",
            "Requirement already satisfied: jinja2 in /usr/local/lib/python3.10/dist-packages (from torch!=1.8,>=1.5.0->flair) (3.1.2)\n",
            "Collecting nvidia-cuda-nvrtc-cu12==12.1.105 (from torch!=1.8,>=1.5.0->flair)\n",
            "  Downloading nvidia_cuda_nvrtc_cu12-12.1.105-py3-none-manylinux1_x86_64.whl (23.7 MB)\n",
            "\u001b[2K     \u001b[90m━━━━━━━━━━━━━━━━━━━━━━━━━━━━━━━━━━━━━━━━\u001b[0m \u001b[32m23.7/23.7 MB\u001b[0m \u001b[31m61.3 MB/s\u001b[0m eta \u001b[36m0:00:00\u001b[0m\n",
            "\u001b[?25hCollecting nvidia-cuda-runtime-cu12==12.1.105 (from torch!=1.8,>=1.5.0->flair)\n",
            "  Downloading nvidia_cuda_runtime_cu12-12.1.105-py3-none-manylinux1_x86_64.whl (823 kB)\n",
            "\u001b[2K     \u001b[90m━━━━━━━━━━━━━━━━━━━━━━━━━━━━━━━━━━━━━━━━\u001b[0m \u001b[32m823.6/823.6 kB\u001b[0m \u001b[31m59.1 MB/s\u001b[0m eta \u001b[36m0:00:00\u001b[0m\n",
            "\u001b[?25hCollecting nvidia-cuda-cupti-cu12==12.1.105 (from torch!=1.8,>=1.5.0->flair)\n",
            "  Downloading nvidia_cuda_cupti_cu12-12.1.105-py3-none-manylinux1_x86_64.whl (14.1 MB)\n",
            "\u001b[2K     \u001b[90m━━━━━━━━━━━━━━━━━━━━━━━━━━━━━━━━━━━━━━━━\u001b[0m \u001b[32m14.1/14.1 MB\u001b[0m \u001b[31m89.9 MB/s\u001b[0m eta \u001b[36m0:00:00\u001b[0m\n",
            "\u001b[?25hCollecting nvidia-cudnn-cu12==8.9.2.26 (from torch!=1.8,>=1.5.0->flair)\n",
            "  Downloading nvidia_cudnn_cu12-8.9.2.26-py3-none-manylinux1_x86_64.whl (731.7 MB)\n",
            "\u001b[2K     \u001b[90m━━━━━━━━━━━━━━━━━━━━━━━━━━━━━━━━━━━━━━━━\u001b[0m \u001b[32m731.7/731.7 MB\u001b[0m \u001b[31m2.1 MB/s\u001b[0m eta \u001b[36m0:00:00\u001b[0m\n",
            "\u001b[?25hCollecting nvidia-cublas-cu12==12.1.3.1 (from torch!=1.8,>=1.5.0->flair)\n",
            "  Downloading nvidia_cublas_cu12-12.1.3.1-py3-none-manylinux1_x86_64.whl (410.6 MB)\n",
            "\u001b[2K     \u001b[90m━━━━━━━━━━━━━━━━━━━━━━━━━━━━━━━━━━━━━━━━\u001b[0m \u001b[32m410.6/410.6 MB\u001b[0m \u001b[31m2.5 MB/s\u001b[0m eta \u001b[36m0:00:00\u001b[0m\n",
            "\u001b[?25hCollecting nvidia-cufft-cu12==11.0.2.54 (from torch!=1.8,>=1.5.0->flair)\n",
            "  Downloading nvidia_cufft_cu12-11.0.2.54-py3-none-manylinux1_x86_64.whl (121.6 MB)\n",
            "\u001b[2K     \u001b[90m━━━━━━━━━━━━━━━━━━━━━━━━━━━━━━━━━━━━━━━━\u001b[0m \u001b[32m121.6/121.6 MB\u001b[0m \u001b[31m8.3 MB/s\u001b[0m eta \u001b[36m0:00:00\u001b[0m\n",
            "\u001b[?25hCollecting nvidia-curand-cu12==10.3.2.106 (from torch!=1.8,>=1.5.0->flair)\n",
            "  Downloading nvidia_curand_cu12-10.3.2.106-py3-none-manylinux1_x86_64.whl (56.5 MB)\n",
            "\u001b[2K     \u001b[90m━━━━━━━━━━━━━━━━━━━━━━━━━━━━━━━━━━━━━━━━\u001b[0m \u001b[32m56.5/56.5 MB\u001b[0m \u001b[31m11.7 MB/s\u001b[0m eta \u001b[36m0:00:00\u001b[0m\n",
            "\u001b[?25hCollecting nvidia-cusolver-cu12==11.4.5.107 (from torch!=1.8,>=1.5.0->flair)\n",
            "  Downloading nvidia_cusolver_cu12-11.4.5.107-py3-none-manylinux1_x86_64.whl (124.2 MB)\n",
            "\u001b[2K     \u001b[90m━━━━━━━━━━━━━━━━━━━━━━━━━━━━━━━━━━━━━━━━\u001b[0m \u001b[32m124.2/124.2 MB\u001b[0m \u001b[31m8.0 MB/s\u001b[0m eta \u001b[36m0:00:00\u001b[0m\n",
            "\u001b[?25hCollecting nvidia-cusparse-cu12==12.1.0.106 (from torch!=1.8,>=1.5.0->flair)\n",
            "  Downloading nvidia_cusparse_cu12-12.1.0.106-py3-none-manylinux1_x86_64.whl (196.0 MB)\n",
            "\u001b[2K     \u001b[90m━━━━━━━━━━━━━━━━━━━━━━━━━━━━━━━━━━━━━━━━\u001b[0m \u001b[32m196.0/196.0 MB\u001b[0m \u001b[31m6.3 MB/s\u001b[0m eta \u001b[36m0:00:00\u001b[0m\n",
            "\u001b[?25hCollecting nvidia-nccl-cu12==2.18.1 (from torch!=1.8,>=1.5.0->flair)\n",
            "  Downloading nvidia_nccl_cu12-2.18.1-py3-none-manylinux1_x86_64.whl (209.8 MB)\n",
            "\u001b[2K     \u001b[90m━━━━━━━━━━━━━━━━━━━━━━━━━━━━━━━━━━━━━━━━\u001b[0m \u001b[32m209.8/209.8 MB\u001b[0m \u001b[31m6.5 MB/s\u001b[0m eta \u001b[36m0:00:00\u001b[0m\n",
            "\u001b[?25hCollecting nvidia-nvtx-cu12==12.1.105 (from torch!=1.8,>=1.5.0->flair)\n",
            "  Downloading nvidia_nvtx_cu12-12.1.105-py3-none-manylinux1_x86_64.whl (99 kB)\n",
            "\u001b[2K     \u001b[90m━━━━━━━━━━━━━━━━━━━━━━━━━━━━━━━━━━━━━━━━\u001b[0m \u001b[32m99.1/99.1 kB\u001b[0m \u001b[31m14.7 MB/s\u001b[0m eta \u001b[36m0:00:00\u001b[0m\n",
            "\u001b[?25hCollecting triton==2.1.0 (from torch!=1.8,>=1.5.0->flair)\n",
            "  Downloading triton-2.1.0-0-cp310-cp310-manylinux2014_x86_64.manylinux_2_17_x86_64.whl (89.2 MB)\n",
            "\u001b[2K     \u001b[90m━━━━━━━━━━━━━━━━━━━━━━━━━━━━━━━━━━━━━━━━\u001b[0m \u001b[32m89.2/89.2 MB\u001b[0m \u001b[31m8.4 MB/s\u001b[0m eta \u001b[36m0:00:00\u001b[0m\n",
            "\u001b[?25hCollecting nvidia-nvjitlink-cu12 (from nvidia-cusolver-cu12==11.4.5.107->torch!=1.8,>=1.5.0->flair)\n",
            "  Downloading nvidia_nvjitlink_cu12-12.2.140-py3-none-manylinux1_x86_64.whl (20.2 MB)\n",
            "\u001b[2K     \u001b[90m━━━━━━━━━━━━━━━━━━━━━━━━━━━━━━━━━━━━━━━━\u001b[0m \u001b[32m20.2/20.2 MB\u001b[0m \u001b[31m84.7 MB/s\u001b[0m eta \u001b[36m0:00:00\u001b[0m\n",
            "\u001b[?25hCollecting tokenizers<0.15,>=0.14 (from transformers[sentencepiece]>=4.18.0->flair)\n",
            "  Downloading tokenizers-0.14.1-cp310-cp310-manylinux_2_17_x86_64.manylinux2014_x86_64.whl (3.8 MB)\n",
            "\u001b[2K     \u001b[90m━━━━━━━━━━━━━━━━━━━━━━━━━━━━━━━━━━━━━━━━\u001b[0m \u001b[32m3.8/3.8 MB\u001b[0m \u001b[31m91.5 MB/s\u001b[0m eta \u001b[36m0:00:00\u001b[0m\n",
            "\u001b[?25hCollecting safetensors>=0.3.1 (from transformers[sentencepiece]>=4.18.0->flair)\n",
            "  Downloading safetensors-0.4.0-cp310-cp310-manylinux_2_17_x86_64.manylinux2014_x86_64.whl (1.3 MB)\n",
            "\u001b[2K     \u001b[90m━━━━━━━━━━━━━━━━━━━━━━━━━━━━━━━━━━━━━━━━\u001b[0m \u001b[32m1.3/1.3 MB\u001b[0m \u001b[31m84.2 MB/s\u001b[0m eta \u001b[36m0:00:00\u001b[0m\n",
            "\u001b[?25hRequirement already satisfied: protobuf in /usr/local/lib/python3.10/dist-packages (from transformers[sentencepiece]>=4.18.0->flair) (3.20.3)\n",
            "Collecting botocore<1.32.0,>=1.31.65 (from boto3->flair)\n",
            "  Downloading botocore-1.31.65-py3-none-any.whl (11.3 MB)\n",
            "\u001b[2K     \u001b[90m━━━━━━━━━━━━━━━━━━━━━━━━━━━━━━━━━━━━━━━━\u001b[0m \u001b[32m11.3/11.3 MB\u001b[0m \u001b[31m118.8 MB/s\u001b[0m eta \u001b[36m0:00:00\u001b[0m\n",
            "\u001b[?25hCollecting jmespath<2.0.0,>=0.7.1 (from boto3->flair)\n",
            "  Downloading jmespath-1.0.1-py3-none-any.whl (20 kB)\n",
            "Collecting s3transfer<0.8.0,>=0.7.0 (from boto3->flair)\n",
            "  Downloading s3transfer-0.7.0-py3-none-any.whl (79 kB)\n",
            "\u001b[2K     \u001b[90m━━━━━━━━━━━━━━━━━━━━━━━━━━━━━━━━━━━━━━━━\u001b[0m \u001b[32m79.8/79.8 kB\u001b[0m \u001b[31m11.1 MB/s\u001b[0m eta \u001b[36m0:00:00\u001b[0m\n",
            "\u001b[?25hRequirement already satisfied: wcwidth>=0.2.5 in /usr/local/lib/python3.10/dist-packages (from ftfy->flair) (0.2.8)\n",
            "Requirement already satisfied: urllib3<2.1,>=1.25.4 in /usr/local/lib/python3.10/dist-packages (from botocore<1.32.0,>=1.31.65->boto3->flair) (2.0.6)\n",
            "Collecting huggingface-hub>=0.10.0 (from flair)\n",
            "  Downloading huggingface_hub-0.17.3-py3-none-any.whl (295 kB)\n",
            "\u001b[2K     \u001b[90m━━━━━━━━━━━━━━━━━━━━━━━━━━━━━━━━━━━━━━━━\u001b[0m \u001b[32m295.0/295.0 kB\u001b[0m \u001b[31m37.2 MB/s\u001b[0m eta \u001b[36m0:00:00\u001b[0m\n",
            "\u001b[?25hCollecting accelerate>=0.20.3 (from transformers[sentencepiece]>=4.18.0->flair)\n",
            "  Downloading accelerate-0.23.0-py3-none-any.whl (258 kB)\n",
            "\u001b[2K     \u001b[90m━━━━━━━━━━━━━━━━━━━━━━━━━━━━━━━━━━━━━━━━\u001b[0m \u001b[32m258.1/258.1 kB\u001b[0m \u001b[31m25.8 MB/s\u001b[0m eta \u001b[36m0:00:00\u001b[0m\n",
            "\u001b[?25hRequirement already satisfied: soupsieve>1.2 in /usr/local/lib/python3.10/dist-packages (from beautifulsoup4->gdown==4.4.0->flair) (2.5)\n",
            "Requirement already satisfied: MarkupSafe>=2.0 in /usr/local/lib/python3.10/dist-packages (from jinja2->torch!=1.8,>=1.5.0->flair) (2.1.3)\n",
            "Requirement already satisfied: charset-normalizer<4,>=2 in /usr/local/lib/python3.10/dist-packages (from requests[socks]->gdown==4.4.0->flair) (3.3.0)\n",
            "Requirement already satisfied: idna<4,>=2.5 in /usr/local/lib/python3.10/dist-packages (from requests[socks]->gdown==4.4.0->flair) (3.4)\n",
            "Requirement already satisfied: certifi>=2017.4.17 in /usr/local/lib/python3.10/dist-packages (from requests[socks]->gdown==4.4.0->flair) (2023.7.22)\n",
            "Requirement already satisfied: PySocks!=1.5.7,>=1.5.6 in /usr/local/lib/python3.10/dist-packages (from requests[socks]->gdown==4.4.0->flair) (1.7.1)\n",
            "Requirement already satisfied: mpmath>=0.19 in /usr/local/lib/python3.10/dist-packages (from sympy->torch!=1.8,>=1.5.0->flair) (1.3.0)\n",
            "Requirement already satisfied: psutil in /usr/local/lib/python3.10/dist-packages (from accelerate>=0.20.3->transformers[sentencepiece]>=4.18.0->flair) (5.9.5)\n",
            "Building wheels for collected packages: gdown, mpld3, sqlitedict, langdetect, pptree\n",
            "  Building wheel for gdown (pyproject.toml) ... \u001b[?25l\u001b[?25hdone\n",
            "  Created wheel for gdown: filename=gdown-4.4.0-py3-none-any.whl size=14758 sha256=cdb4e81de9e08f15d2110ca49e9a5f28defafea4573864ef046ad91ba1468174\n",
            "  Stored in directory: /root/.cache/pip/wheels/03/0b/3f/6ddf67a417a5b400b213b0bb772a50276c199a386b12c06bfc\n",
            "  Building wheel for mpld3 (setup.py) ... \u001b[?25l\u001b[?25hdone\n",
            "  Created wheel for mpld3: filename=mpld3-0.3-py3-none-any.whl size=116686 sha256=3f7493346f43299d086edf19654dff6da905b25ce50be929b3fdfd18767c9671\n",
            "  Stored in directory: /root/.cache/pip/wheels/9c/92/f7/45d9aac5dcfb1c2a1761a272365599cc7ba1050ce211a3fd9a\n",
            "  Building wheel for sqlitedict (setup.py) ... \u001b[?25l\u001b[?25hdone\n",
            "  Created wheel for sqlitedict: filename=sqlitedict-2.1.0-py3-none-any.whl size=16864 sha256=bd4508281e195bbeb96608b4c423986fd5ad472630616148e996101785dc5d77\n",
            "  Stored in directory: /root/.cache/pip/wheels/79/d6/e7/304e0e6cb2221022c26d8161f7c23cd4f259a9e41e8bbcfabd\n",
            "  Building wheel for langdetect (setup.py) ... \u001b[?25l\u001b[?25hdone\n",
            "  Created wheel for langdetect: filename=langdetect-1.0.9-py3-none-any.whl size=993224 sha256=be587031b1944f50b7340a38de5b26c9f68cf5d7245b195cb31645ac71e6c22c\n",
            "  Stored in directory: /root/.cache/pip/wheels/95/03/7d/59ea870c70ce4e5a370638b5462a7711ab78fba2f655d05106\n",
            "  Building wheel for pptree (setup.py) ... \u001b[?25l\u001b[?25hdone\n",
            "  Created wheel for pptree: filename=pptree-3.1-py3-none-any.whl size=4609 sha256=b0e43c44738670da285b55f3bcbb3bbb7478c57278f80c93673e758756a7a7fb\n",
            "  Stored in directory: /root/.cache/pip/wheels/9f/b6/0e/6f26eb9e6eb53ff2107a7888d72b5a6a597593956113037828\n",
            "Successfully built gdown mpld3 sqlitedict langdetect pptree\n",
            "Installing collected packages: sqlitedict, sentencepiece, pptree, mpld3, janome, triton, segtok, safetensors, nvidia-nvtx-cu12, nvidia-nvjitlink-cu12, nvidia-nccl-cu12, nvidia-curand-cu12, nvidia-cufft-cu12, nvidia-cuda-runtime-cu12, nvidia-cuda-nvrtc-cu12, nvidia-cuda-cupti-cu12, nvidia-cublas-cu12, langdetect, jmespath, ftfy, deprecated, conllu, wikipedia-api, nvidia-cusparse-cu12, nvidia-cudnn-cu12, huggingface-hub, botocore, tokenizers, s3transfer, nvidia-cusolver-cu12, gdown, bpemb, transformers, torch, boto3, pytorch-revgrad, accelerate, transformer-smaller-training-vocab, flair\n",
            "  Attempting uninstall: triton\n",
            "    Found existing installation: triton 2.0.0\n",
            "    Uninstalling triton-2.0.0:\n",
            "      Successfully uninstalled triton-2.0.0\n",
            "  Attempting uninstall: gdown\n",
            "    Found existing installation: gdown 4.6.6\n",
            "    Uninstalling gdown-4.6.6:\n",
            "      Successfully uninstalled gdown-4.6.6\n",
            "\u001b[31mERROR: pip's dependency resolver does not currently take into account all the packages that are installed. This behaviour is the source of the following dependency conflicts.\n",
            "fastai 2.7.12 requires torch<2.1,>=1.7, but you have torch 2.1.0 which is incompatible.\n",
            "torchaudio 2.0.2+cu118 requires torch==2.0.1, but you have torch 2.1.0 which is incompatible.\n",
            "torchdata 0.6.1 requires torch==2.0.1, but you have torch 2.1.0 which is incompatible.\n",
            "torchtext 0.15.2 requires torch==2.0.1, but you have torch 2.1.0 which is incompatible.\n",
            "torchvision 0.15.2+cu118 requires torch==2.0.1, but you have torch 2.1.0 which is incompatible.\u001b[0m\u001b[31m\n",
            "\u001b[0mSuccessfully installed accelerate-0.23.0 boto3-1.28.65 botocore-1.31.65 bpemb-0.3.4 conllu-4.5.3 deprecated-1.2.14 flair-0.12.2 ftfy-6.1.1 gdown-4.4.0 huggingface-hub-0.17.3 janome-0.5.0 jmespath-1.0.1 langdetect-1.0.9 mpld3-0.3 nvidia-cublas-cu12-12.1.3.1 nvidia-cuda-cupti-cu12-12.1.105 nvidia-cuda-nvrtc-cu12-12.1.105 nvidia-cuda-runtime-cu12-12.1.105 nvidia-cudnn-cu12-8.9.2.26 nvidia-cufft-cu12-11.0.2.54 nvidia-curand-cu12-10.3.2.106 nvidia-cusolver-cu12-11.4.5.107 nvidia-cusparse-cu12-12.1.0.106 nvidia-nccl-cu12-2.18.1 nvidia-nvjitlink-cu12-12.2.140 nvidia-nvtx-cu12-12.1.105 pptree-3.1 pytorch-revgrad-0.2.0 s3transfer-0.7.0 safetensors-0.4.0 segtok-1.5.11 sentencepiece-0.1.99 sqlitedict-2.1.0 tokenizers-0.14.1 torch-2.1.0 transformer-smaller-training-vocab-0.3.2 transformers-4.34.0 triton-2.1.0 wikipedia-api-0.6.0\n"
          ]
        }
      ],
      "source": [
        "!pip uninstall -y torch\n",
        "!pip install flair"
      ]
    },
    {
      "cell_type": "code",
      "source": [
        "import os\n",
        "import random\n",
        "import json\n",
        "import re\n",
        "\n",
        "file = {}\n",
        "with open('annotated.json') as f:\n",
        "    file = json.load(f)\n",
        "    # print(file[1]['annotations'])\n"
      ],
      "metadata": {
        "id": "gS7rBxfhnZVV"
      },
      "execution_count": 72,
      "outputs": []
    },
    {
      "cell_type": "code",
      "source": [
        "def write(filename, text):\n",
        "  with open(f\"{filename}.conll\", \"w\") as file1:\n",
        "    file1.write(\"\\n\\n\".join(text))"
      ],
      "metadata": {
        "id": "-QA_xqkrLDeC"
      },
      "execution_count": 61,
      "outputs": []
    },
    {
      "cell_type": "code",
      "source": [
        "# file_item = file[0]\n",
        "def get_labels(file_item):\n",
        "  rows = []\n",
        "  position = 0\n",
        "  next_label = 0\n",
        "  # Sort the labels on start?\n",
        "  labels = [item for item in file_item['annotations'][0]['result'] if item['type'] == 'labels']\n",
        "  labels.sort(key=lambda x: x['value']['start'])\n",
        "  item_count = 1\n",
        "  b_count = 0\n",
        "  ids = {} # count -> id\n",
        "  tokens = [item for item in re.split(r'(\\s+)|([\\(,\\.\\)\\\\;:$*&\"\\-–])|(\\')|(\\'\\w+)', file_item['data']['text']) if item]\n",
        "  for i, item in enumerate(tokens):\n",
        "    if re.search(r'\\s+', item):\n",
        "      position += len(item)\n",
        "      continue\n",
        "    start = position\n",
        "    end = position + len(item)\n",
        "    row = f'{item_count}\\t{item}'\n",
        "    label = '\\tO'\n",
        "\n",
        "    if len(labels) > next_label:\n",
        "      if start >= labels[next_label]['value']['start']:\n",
        "        # if end <= labels[next_label]['value']['end']:\n",
        "          # the current item has a label, and might have a relation\n",
        "          id = labels[next_label][\"id\"]\n",
        "          ids[item_count] = id\n",
        "          if end > labels[next_label]['value']['end']:\n",
        "            difference = end - labels[next_label]['value']['end']\n",
        "            end -= difference\n",
        "            tokens.insert(i+1, item[-difference:])\n",
        "            item = item[:-difference]\n",
        "          if start == labels[next_label]['value']['start']:\n",
        "            # Current Item is start of a label\n",
        "            b_count += 1\n",
        "            label = '\\tB-' + labels[next_label][\"value\"][\"labels\"][0]\n",
        "\n",
        "          else:\n",
        "            # Current item is inside a label\n",
        "            if '\\tB-' + labels[next_label][\"value\"][\"labels\"][0] in rows[-1] or '\\tI-' + labels[next_label][\"value\"][\"labels\"][0] in rows[-1]:\n",
        "              label = '\\tI-' + labels[next_label][\"value\"][\"labels\"][0]\n",
        "            else:\n",
        "              b_count += 1\n",
        "              label = '\\tB-' + labels[next_label][\"value\"][\"labels\"][0]\n",
        "\n",
        "      if end >= labels[next_label]['value']['end']:\n",
        "        next_label += 1\n",
        "\n",
        "\n",
        "    row = row + label\n",
        "    position += len(item)\n",
        "    item_count += 1\n",
        "    rows.append(row)\n",
        "  if len(labels) != b_count:\n",
        "    print(f'labels: {len(labels)}, B-tags: {b_count}')\n",
        "    print(labels)\n",
        "    print(ids)\n",
        "    print(f'missing label: {[item for item in labels if item[\"id\"] not in ids.values()]}')\n",
        "    print(rows)\n",
        "  return rows, ids\n"
      ],
      "metadata": {
        "id": "gyvWzZ76SwYY"
      },
      "execution_count": 62,
      "outputs": []
    },
    {
      "cell_type": "code",
      "source": [
        "def get_relations(file_item, ids):\n",
        "  keys = ids.keys()\n",
        "  relations = [item for item in file_item['annotations'][0]['result'] if item['type'] == 'relation']\n",
        "  bio_relations = []\n",
        "  found_relations = 0\n",
        "  for relation in relations:\n",
        "    from_ids = []\n",
        "    to_ids = []\n",
        "    rel_type = relation['labels'][0]\n",
        "    for key in keys:\n",
        "      if ids[key] == relation['from_id']:\n",
        "        from_ids.append(key)\n",
        "      if ids[key] == relation['to_id']:\n",
        "        to_ids.append(key)\n",
        "    from_ids = [int(i) for i in from_ids]\n",
        "    from_ids.sort()\n",
        "    to_ids = [int(i) for i in to_ids]\n",
        "    to_ids.sort()\n",
        "    if len(from_ids) > 0 and len(to_ids) > 0:\n",
        "      found_relations += 1\n",
        "      bio_relations.append(f'{from_ids[0]};{from_ids[-1]};{to_ids[0]};{to_ids[-1]};{rel_type}')\n",
        "  if found_relations != len(relations):\n",
        "    print(f'found relations: {found_relations}, actual relations: {len(relations)}')\n",
        "    print(relations)\n",
        "    print(bio_relations)\n",
        "    print(keys)\n",
        "    print(ids)\n",
        "  return bio_relations"
      ],
      "metadata": {
        "id": "fpJtNoWtTviC"
      },
      "execution_count": 63,
      "outputs": []
    },
    {
      "cell_type": "code",
      "source": [
        "conllu_file = []\n",
        "for item in file:\n",
        "  doc = ''\n",
        "  rows, ids = get_labels(item)\n",
        "  relations = get_relations(item, ids)\n",
        "  if relations and len(relations) > 0:\n",
        "    doc += '# relations = ' + ('|'.join(relations))\n",
        "  doc += '\\n' + ('\\n'.join(rows))\n",
        "  conllu_file.append(doc)\n",
        "\n",
        "print(len(conllu_file))\n",
        "write('annotated', conllu_file)"
      ],
      "metadata": {
        "id": "zTzQISuAxCnW",
        "colab": {
          "base_uri": "https://localhost:8080/"
        },
        "outputId": "be4101e5-5a61-40bd-9f66-8abaab83fb90"
      },
      "execution_count": 64,
      "outputs": [
        {
          "output_type": "stream",
          "name": "stdout",
          "text": [
            "40\n"
          ]
        }
      ]
    },
    {
      "cell_type": "code",
      "source": [
        "with open('annotated.conll') as f:\n",
        "  data = f.read()\n",
        "  splits = data.split(2*os.linesep)\n",
        "  print(len(splits))\n",
        "  splits = sorted(splits, key=lambda x: random.random())\n",
        "\n",
        "  test = splits[:20]\n",
        "  dev = splits[20:]\n",
        "\n",
        "  # write('train', train)\n",
        "  write('test', test)\n",
        "  write('dev', dev)"
      ],
      "metadata": {
        "colab": {
          "base_uri": "https://localhost:8080/"
        },
        "id": "PV1VvXpfzB1i",
        "outputId": "85ec4b9d-f05f-4d4a-8638-dd383dc72440"
      },
      "execution_count": 66,
      "outputs": [
        {
          "output_type": "stream",
          "name": "stdout",
          "text": [
            "40\n"
          ]
        }
      ]
    },
    {
      "cell_type": "code",
      "source": [
        "import torch\n",
        "\n",
        "torch.cuda.is_available()"
      ],
      "metadata": {
        "colab": {
          "base_uri": "https://localhost:8080/"
        },
        "id": "TF3VTNNwXg0x",
        "outputId": "927bc1ec-e248-4d67-bb97-f1cdd381a60e"
      },
      "execution_count": 73,
      "outputs": [
        {
          "output_type": "execute_result",
          "data": {
            "text/plain": [
              "True"
            ]
          },
          "metadata": {},
          "execution_count": 73
        }
      ]
    },
    {
      "cell_type": "code",
      "source": [
        "from flair.data import Corpus\n",
        "from flair.datasets import ColumnCorpus\n",
        "\n",
        "columns = {1: 'text', 2: 'ner'}\n",
        "data_folder = ''\n",
        "\n",
        "corpus: Corpus = ColumnCorpus(data_folder, columns,\n",
        "                              train_file='train.conll',\n",
        "                              test_file='test.conll',\n",
        "                              dev_file='dev.conll')\n",
        "print(f'Corpus size: {len(corpus.train)}')"
      ],
      "metadata": {
        "colab": {
          "base_uri": "https://localhost:8080/"
        },
        "id": "MPZrrdFSpEoN",
        "outputId": "223c645d-97c3-419f-d4a5-3e90219ad6f9"
      },
      "execution_count": 2,
      "outputs": [
        {
          "output_type": "stream",
          "name": "stdout",
          "text": [
            "2023-10-18 10:47:14,203 Reading data from .\n",
            "2023-10-18 10:47:14,217 Train: train.conll\n",
            "2023-10-18 10:47:14,218 Dev: dev.conll\n",
            "2023-10-18 10:47:14,222 Test: test.conll\n",
            "Corpus size: 95\n"
          ]
        }
      ]
    },
    {
      "cell_type": "code",
      "source": [
        "# tag to predict\n",
        "tag_type = 'ner'# make tag dictionary from the corpus\n",
        "tag_dictionary = corpus.make_label_dictionary(label_type=tag_type)\n"
      ],
      "metadata": {
        "colab": {
          "base_uri": "https://localhost:8080/"
        },
        "id": "DjuZ7XYKqMyV",
        "outputId": "b1f69afe-59ae-4bf9-907e-2ac2d8a91698"
      },
      "execution_count": 75,
      "outputs": [
        {
          "output_type": "stream",
          "name": "stdout",
          "text": [
            "2023-10-18 09:59:10,116 Computing label dictionary. Progress:\n"
          ]
        },
        {
          "output_type": "stream",
          "name": "stderr",
          "text": [
            "95it [00:00, 10191.29it/s]"
          ]
        },
        {
          "output_type": "stream",
          "name": "stdout",
          "text": [
            "2023-10-18 09:59:10,133 Dictionary created for label 'ner' with 6 values: Winner (seen 824 times), Date (seen 571 times), Nationality (seen 479 times), Prizetype (seen 88 times), Reason (seen 54 times)\n"
          ]
        },
        {
          "output_type": "stream",
          "name": "stderr",
          "text": [
            "\n"
          ]
        }
      ]
    },
    {
      "cell_type": "code",
      "source": [
        "from flair.embeddings import WordEmbeddings, StackedEmbeddings, TokenEmbeddings, TransformerWordEmbeddings\n",
        "from flair.models import SequenceTagger\n",
        "from typing import List\n",
        "# embedding_types : List[TokenEmbeddings] = [\n",
        "#         WordEmbeddings('glove'),\n",
        "        ## other embeddings\n",
        "        # ]\n",
        "# embeddings : StackedEmbeddings = StackedEmbeddings(\n",
        "#                                 embeddings=embedding_types)\n",
        "\n",
        "embeddings = TransformerWordEmbeddings(\n",
        "    model='distilbert-base-cased',\n",
        "    layers=\"-1\",\n",
        "    subtoken_pooling='first',\n",
        "    fine_tune=True,\n",
        "    use_context=True,\n",
        "    respect_document_boundaries=False,\n",
        ")\n",
        "\n",
        "tagger: SequenceTagger = SequenceTagger(\n",
        "        hidden_size=256,\n",
        "        embeddings=embeddings,\n",
        "        tag_dictionary=tag_dictionary,\n",
        "        tag_type=tag_type,\n",
        "        use_crf=False,\n",
        "        use_rnn=False,\n",
        "        reproject_embeddings=False,\n",
        "        tag_format='BIO'\n",
        "    )"
      ],
      "metadata": {
        "id": "0YfA1DoXvPO4",
        "colab": {
          "base_uri": "https://localhost:8080/"
        },
        "outputId": "83430beb-0c33-4abd-9c69-c2ff17368f4e"
      },
      "execution_count": 76,
      "outputs": [
        {
          "output_type": "stream",
          "name": "stdout",
          "text": [
            "2023-10-18 09:59:11,634 SequenceTagger predicts: Dictionary with 11 tags: O, B-Winner, I-Winner, B-Date, I-Date, B-Nationality, I-Nationality, B-Prizetype, I-Prizetype, B-Reason, I-Reason\n"
          ]
        }
      ]
    },
    {
      "cell_type": "code",
      "source": [
        "# tagger : SequenceTagger = SequenceTagger(hidden_size=256,\n",
        "#                                        embeddings=embeddings,\n",
        "#                                        tag_dictionary=tag_dictionary,\n",
        "#                                        tag_type=tag_type,\n",
        "#                                        use_crf=True,\n",
        "#                                          tag_format='BIO'\n",
        "#                                          )\n",
        "# print(tagger)"
      ],
      "metadata": {
        "id": "OcxJy7ezvWnt"
      },
      "execution_count": 77,
      "outputs": []
    },
    {
      "cell_type": "code",
      "source": [
        "from flair.trainers import ModelTrainer\n",
        "trainer : ModelTrainer = ModelTrainer(tagger, corpus)\n",
        "\n",
        "trainer.fine_tune(\n",
        "        'resources/taggers/ner',\n",
        "        learning_rate=5e-05,\n",
        "        mini_batch_size=16,\n",
        "        max_epochs=100,\n",
        "        embeddings_storage_mode=None,\n",
        "        weight_decay=0.0,\n",
        "    )\n"
      ],
      "metadata": {
        "id": "-UQ7cZLVvgz7",
        "colab": {
          "base_uri": "https://localhost:8080/"
        },
        "outputId": "1bfb4ae1-4850-459d-beef-0dfccf0152a5"
      },
      "execution_count": 78,
      "outputs": [
        {
          "output_type": "stream",
          "name": "stdout",
          "text": [
            "2023-10-18 09:59:19,109 ----------------------------------------------------------------------------------------------------\n",
            "2023-10-18 09:59:19,118 Model: \"SequenceTagger(\n",
            "  (embeddings): TransformerWordEmbeddings(\n",
            "    (model): DistilBertModel(\n",
            "      (embeddings): Embeddings(\n",
            "        (word_embeddings): Embedding(28997, 768)\n",
            "        (position_embeddings): Embedding(512, 768)\n",
            "        (LayerNorm): LayerNorm((768,), eps=1e-12, elementwise_affine=True)\n",
            "        (dropout): Dropout(p=0.1, inplace=False)\n",
            "      )\n",
            "      (transformer): Transformer(\n",
            "        (layer): ModuleList(\n",
            "          (0-5): 6 x TransformerBlock(\n",
            "            (attention): MultiHeadSelfAttention(\n",
            "              (dropout): Dropout(p=0.1, inplace=False)\n",
            "              (q_lin): Linear(in_features=768, out_features=768, bias=True)\n",
            "              (k_lin): Linear(in_features=768, out_features=768, bias=True)\n",
            "              (v_lin): Linear(in_features=768, out_features=768, bias=True)\n",
            "              (out_lin): Linear(in_features=768, out_features=768, bias=True)\n",
            "            )\n",
            "            (sa_layer_norm): LayerNorm((768,), eps=1e-12, elementwise_affine=True)\n",
            "            (ffn): FFN(\n",
            "              (dropout): Dropout(p=0.1, inplace=False)\n",
            "              (lin1): Linear(in_features=768, out_features=3072, bias=True)\n",
            "              (lin2): Linear(in_features=3072, out_features=768, bias=True)\n",
            "              (activation): GELUActivation()\n",
            "            )\n",
            "            (output_layer_norm): LayerNorm((768,), eps=1e-12, elementwise_affine=True)\n",
            "          )\n",
            "        )\n",
            "      )\n",
            "    )\n",
            "  )\n",
            "  (locked_dropout): LockedDropout(p=0.5)\n",
            "  (linear): Linear(in_features=768, out_features=11, bias=True)\n",
            "  (loss_function): CrossEntropyLoss()\n",
            ")\"\n",
            "2023-10-18 09:59:19,120 ----------------------------------------------------------------------------------------------------\n",
            "2023-10-18 09:59:19,126 Corpus: \"Corpus: 95 train + 20 dev + 20 test sentences\"\n",
            "2023-10-18 09:59:19,134 ----------------------------------------------------------------------------------------------------\n",
            "2023-10-18 09:59:19,142 Parameters:\n",
            "2023-10-18 09:59:19,143  - learning_rate: \"0.000050\"\n",
            "2023-10-18 09:59:19,148  - mini_batch_size: \"16\"\n",
            "2023-10-18 09:59:19,155  - patience: \"3\"\n",
            "2023-10-18 09:59:19,156  - anneal_factor: \"0.5\"\n",
            "2023-10-18 09:59:19,157  - max_epochs: \"100\"\n",
            "2023-10-18 09:59:19,158  - shuffle: \"True\"\n",
            "2023-10-18 09:59:19,166  - train_with_dev: \"False\"\n",
            "2023-10-18 09:59:19,167  - batch_growth_annealing: \"False\"\n",
            "2023-10-18 09:59:19,168 ----------------------------------------------------------------------------------------------------\n",
            "2023-10-18 09:59:19,175 Model training base path: \"resources/taggers/ner\"\n",
            "2023-10-18 09:59:19,176 ----------------------------------------------------------------------------------------------------\n",
            "2023-10-18 09:59:19,177 Device: cuda:0\n",
            "2023-10-18 09:59:19,180 ----------------------------------------------------------------------------------------------------\n",
            "2023-10-18 09:59:19,186 Embeddings storage mode: None\n",
            "2023-10-18 09:59:19,187 ----------------------------------------------------------------------------------------------------\n",
            "2023-10-18 09:59:20,490 epoch 1 - iter 1/6 - loss 2.38122497 - time (sec): 1.30 - samples/sec: 4417.57 - lr: 0.000001\n",
            "2023-10-18 09:59:21,632 epoch 1 - iter 2/6 - loss 2.40306001 - time (sec): 2.44 - samples/sec: 4375.99 - lr: 0.000001\n",
            "2023-10-18 09:59:22,577 epoch 1 - iter 3/6 - loss 2.38710100 - time (sec): 3.39 - samples/sec: 4477.35 - lr: 0.000002\n",
            "2023-10-18 09:59:23,547 epoch 1 - iter 4/6 - loss 2.37256384 - time (sec): 4.36 - samples/sec: 4442.68 - lr: 0.000003\n",
            "2023-10-18 09:59:24,238 epoch 1 - iter 5/6 - loss 2.37045267 - time (sec): 5.05 - samples/sec: 4620.95 - lr: 0.000004\n",
            "2023-10-18 09:59:24,912 epoch 1 - iter 6/6 - loss 2.35843268 - time (sec): 5.72 - samples/sec: 4832.93 - lr: 0.000004\n",
            "2023-10-18 09:59:24,923 ----------------------------------------------------------------------------------------------------\n",
            "2023-10-18 09:59:24,927 EPOCH 1 done: loss 2.3584 - lr 0.000004\n"
          ]
        },
        {
          "output_type": "stream",
          "name": "stderr",
          "text": [
            "100%|██████████| 2/2 [00:02<00:00,  1.46s/it]"
          ]
        },
        {
          "output_type": "stream",
          "name": "stdout",
          "text": [
            "2023-10-18 09:59:27,876 Evaluating as a multi-label problem: False\n",
            "2023-10-18 09:59:27,998 DEV : loss 2.1662344932556152 - f1-score (micro avg)  0.0177\n",
            "2023-10-18 09:59:28,027 ----------------------------------------------------------------------------------------------------\n"
          ]
        },
        {
          "output_type": "stream",
          "name": "stderr",
          "text": [
            "\n"
          ]
        },
        {
          "output_type": "stream",
          "name": "stdout",
          "text": [
            "2023-10-18 09:59:28,790 epoch 2 - iter 1/6 - loss 2.21463094 - time (sec): 0.76 - samples/sec: 5717.61 - lr: 0.000005\n",
            "2023-10-18 09:59:29,611 epoch 2 - iter 2/6 - loss 2.22208278 - time (sec): 1.58 - samples/sec: 6122.16 - lr: 0.000006\n",
            "2023-10-18 09:59:30,321 epoch 2 - iter 3/6 - loss 2.17625425 - time (sec): 2.29 - samples/sec: 6019.00 - lr: 0.000007\n",
            "2023-10-18 09:59:31,322 epoch 2 - iter 4/6 - loss 2.16112346 - time (sec): 3.29 - samples/sec: 5778.20 - lr: 0.000007\n",
            "2023-10-18 09:59:32,100 epoch 2 - iter 5/6 - loss 2.14204746 - time (sec): 4.07 - samples/sec: 5735.46 - lr: 0.000008\n",
            "2023-10-18 09:59:32,820 epoch 2 - iter 6/6 - loss 2.10249492 - time (sec): 4.79 - samples/sec: 5778.36 - lr: 0.000009\n",
            "2023-10-18 09:59:32,827 ----------------------------------------------------------------------------------------------------\n",
            "2023-10-18 09:59:32,829 EPOCH 2 done: loss 2.1025 - lr 0.000009\n"
          ]
        },
        {
          "output_type": "stream",
          "name": "stderr",
          "text": [
            "100%|██████████| 2/2 [00:05<00:00,  2.90s/it]"
          ]
        },
        {
          "output_type": "stream",
          "name": "stdout",
          "text": [
            "2023-10-18 09:59:38,644 Evaluating as a multi-label problem: False\n",
            "2023-10-18 09:59:38,707 DEV : loss 1.7868995666503906 - f1-score (micro avg)  0.0065\n",
            "2023-10-18 09:59:38,739 ----------------------------------------------------------------------------------------------------\n"
          ]
        },
        {
          "output_type": "stream",
          "name": "stderr",
          "text": [
            "\n"
          ]
        },
        {
          "output_type": "stream",
          "name": "stdout",
          "text": [
            "2023-10-18 09:59:39,637 epoch 3 - iter 1/6 - loss 1.94633582 - time (sec): 0.89 - samples/sec: 5318.13 - lr: 0.000010\n",
            "2023-10-18 09:59:40,626 epoch 3 - iter 2/6 - loss 1.84338742 - time (sec): 1.88 - samples/sec: 5357.35 - lr: 0.000010\n",
            "2023-10-18 09:59:41,260 epoch 3 - iter 3/6 - loss 1.82117437 - time (sec): 2.51 - samples/sec: 5896.54 - lr: 0.000011\n",
            "2023-10-18 09:59:41,753 epoch 3 - iter 4/6 - loss 1.74155353 - time (sec): 3.01 - samples/sec: 6453.67 - lr: 0.000012\n",
            "2023-10-18 09:59:42,293 epoch 3 - iter 5/6 - loss 1.69211636 - time (sec): 3.55 - samples/sec: 6643.36 - lr: 0.000013\n",
            "2023-10-18 09:59:42,764 epoch 3 - iter 6/6 - loss 1.63979764 - time (sec): 4.02 - samples/sec: 6883.68 - lr: 0.000013\n",
            "2023-10-18 09:59:42,770 ----------------------------------------------------------------------------------------------------\n",
            "2023-10-18 09:59:42,772 EPOCH 3 done: loss 1.6398 - lr 0.000013\n"
          ]
        },
        {
          "output_type": "stream",
          "name": "stderr",
          "text": [
            "100%|██████████| 2/2 [00:02<00:00,  1.37s/it]"
          ]
        },
        {
          "output_type": "stream",
          "name": "stdout",
          "text": [
            "2023-10-18 09:59:45,529 Evaluating as a multi-label problem: False\n",
            "2023-10-18 09:59:45,555 DEV : loss 1.073874592781067 - f1-score (micro avg)  0.0\n",
            "2023-10-18 09:59:45,569 ----------------------------------------------------------------------------------------------------\n"
          ]
        },
        {
          "output_type": "stream",
          "name": "stderr",
          "text": [
            "\n"
          ]
        },
        {
          "output_type": "stream",
          "name": "stdout",
          "text": [
            "2023-10-18 09:59:46,709 epoch 4 - iter 1/6 - loss 1.13261572 - time (sec): 1.14 - samples/sec: 4279.70 - lr: 0.000014\n",
            "2023-10-18 09:59:47,273 epoch 4 - iter 2/6 - loss 1.08902715 - time (sec): 1.70 - samples/sec: 5712.54 - lr: 0.000015\n",
            "2023-10-18 09:59:47,703 epoch 4 - iter 3/6 - loss 1.05848011 - time (sec): 2.13 - samples/sec: 6474.12 - lr: 0.000015\n",
            "2023-10-18 09:59:48,121 epoch 4 - iter 4/6 - loss 0.99090300 - time (sec): 2.55 - samples/sec: 7175.97 - lr: 0.000016\n",
            "2023-10-18 09:59:48,592 epoch 4 - iter 5/6 - loss 0.95981593 - time (sec): 3.02 - samples/sec: 7565.93 - lr: 0.000017\n",
            "2023-10-18 09:59:48,977 epoch 4 - iter 6/6 - loss 0.91605925 - time (sec): 3.40 - samples/sec: 8126.00 - lr: 0.000018\n",
            "2023-10-18 09:59:48,981 ----------------------------------------------------------------------------------------------------\n",
            "2023-10-18 09:59:48,982 EPOCH 4 done: loss 0.9161 - lr 0.000018\n"
          ]
        },
        {
          "output_type": "stream",
          "name": "stderr",
          "text": [
            "100%|██████████| 2/2 [00:01<00:00,  1.54it/s]"
          ]
        },
        {
          "output_type": "stream",
          "name": "stdout",
          "text": [
            "2023-10-18 09:59:50,288 Evaluating as a multi-label problem: False\n",
            "2023-10-18 09:59:50,305 DEV : loss 0.7739612460136414 - f1-score (micro avg)  0.0\n",
            "2023-10-18 09:59:50,314 ----------------------------------------------------------------------------------------------------\n"
          ]
        },
        {
          "output_type": "stream",
          "name": "stderr",
          "text": [
            "\n"
          ]
        },
        {
          "output_type": "stream",
          "name": "stdout",
          "text": [
            "2023-10-18 09:59:50,805 epoch 5 - iter 1/6 - loss 0.62459342 - time (sec): 0.49 - samples/sec: 9746.61 - lr: 0.000018\n",
            "2023-10-18 09:59:51,395 epoch 5 - iter 2/6 - loss 0.71170761 - time (sec): 1.08 - samples/sec: 9100.27 - lr: 0.000019\n",
            "2023-10-18 09:59:51,900 epoch 5 - iter 3/6 - loss 0.75952049 - time (sec): 1.59 - samples/sec: 8996.13 - lr: 0.000020\n",
            "2023-10-18 09:59:52,458 epoch 5 - iter 4/6 - loss 0.74371841 - time (sec): 2.14 - samples/sec: 8912.63 - lr: 0.000021\n",
            "2023-10-18 09:59:52,966 epoch 5 - iter 5/6 - loss 0.73586985 - time (sec): 2.65 - samples/sec: 8790.35 - lr: 0.000021\n",
            "2023-10-18 09:59:53,427 epoch 5 - iter 6/6 - loss 0.72681358 - time (sec): 3.11 - samples/sec: 8888.97 - lr: 0.000022\n",
            "2023-10-18 09:59:53,433 ----------------------------------------------------------------------------------------------------\n",
            "2023-10-18 09:59:53,435 EPOCH 5 done: loss 0.7268 - lr 0.000022\n"
          ]
        },
        {
          "output_type": "stream",
          "name": "stderr",
          "text": [
            "100%|██████████| 2/2 [00:02<00:00,  1.20s/it]"
          ]
        },
        {
          "output_type": "stream",
          "name": "stdout",
          "text": [
            "2023-10-18 09:59:55,848 Evaluating as a multi-label problem: False\n",
            "2023-10-18 09:59:55,875 DEV : loss 0.7345430254936218 - f1-score (micro avg)  0.0\n",
            "2023-10-18 09:59:55,889 ----------------------------------------------------------------------------------------------------\n"
          ]
        },
        {
          "output_type": "stream",
          "name": "stderr",
          "text": [
            "\n"
          ]
        },
        {
          "output_type": "stream",
          "name": "stdout",
          "text": [
            "2023-10-18 09:59:56,430 epoch 6 - iter 1/6 - loss 0.79325023 - time (sec): 0.54 - samples/sec: 7504.65 - lr: 0.000023\n",
            "2023-10-18 09:59:56,922 epoch 6 - iter 2/6 - loss 0.74613891 - time (sec): 1.03 - samples/sec: 7910.34 - lr: 0.000024\n",
            "2023-10-18 09:59:57,510 epoch 6 - iter 3/6 - loss 0.67748224 - time (sec): 1.62 - samples/sec: 8297.95 - lr: 0.000024\n",
            "2023-10-18 09:59:57,946 epoch 6 - iter 4/6 - loss 0.66229665 - time (sec): 2.05 - samples/sec: 8786.24 - lr: 0.000025\n",
            "2023-10-18 09:59:58,442 epoch 6 - iter 5/6 - loss 0.65521652 - time (sec): 2.55 - samples/sec: 8995.91 - lr: 0.000026\n",
            "2023-10-18 09:59:58,885 epoch 6 - iter 6/6 - loss 0.65141375 - time (sec): 2.99 - samples/sec: 9243.52 - lr: 0.000026\n",
            "2023-10-18 09:59:58,887 ----------------------------------------------------------------------------------------------------\n",
            "2023-10-18 09:59:58,892 EPOCH 6 done: loss 0.6514 - lr 0.000026\n"
          ]
        },
        {
          "output_type": "stream",
          "name": "stderr",
          "text": [
            "100%|██████████| 2/2 [00:01<00:00,  1.50it/s]"
          ]
        },
        {
          "output_type": "stream",
          "name": "stdout",
          "text": [
            "2023-10-18 10:00:00,239 Evaluating as a multi-label problem: False\n",
            "2023-10-18 10:00:00,256 DEV : loss 0.619481086730957 - f1-score (micro avg)  0.0\n",
            "2023-10-18 10:00:00,265 ----------------------------------------------------------------------------------------------------\n"
          ]
        },
        {
          "output_type": "stream",
          "name": "stderr",
          "text": [
            "\n"
          ]
        },
        {
          "output_type": "stream",
          "name": "stdout",
          "text": [
            "2023-10-18 10:00:01,111 epoch 7 - iter 1/6 - loss 0.70314125 - time (sec): 0.84 - samples/sec: 4912.29 - lr: 0.000027\n",
            "2023-10-18 10:00:01,609 epoch 7 - iter 2/6 - loss 0.62547546 - time (sec): 1.34 - samples/sec: 7148.43 - lr: 0.000028\n",
            "2023-10-18 10:00:02,154 epoch 7 - iter 3/6 - loss 0.58051676 - time (sec): 1.89 - samples/sec: 8062.08 - lr: 0.000029\n",
            "2023-10-18 10:00:02,619 epoch 7 - iter 4/6 - loss 0.58795789 - time (sec): 2.35 - samples/sec: 8648.17 - lr: 0.000029\n",
            "2023-10-18 10:00:03,030 epoch 7 - iter 5/6 - loss 0.59855777 - time (sec): 2.76 - samples/sec: 8769.85 - lr: 0.000030\n",
            "2023-10-18 10:00:03,359 epoch 7 - iter 6/6 - loss 0.60374188 - time (sec): 3.09 - samples/sec: 8945.89 - lr: 0.000031\n",
            "2023-10-18 10:00:03,362 ----------------------------------------------------------------------------------------------------\n",
            "2023-10-18 10:00:03,364 EPOCH 7 done: loss 0.6037 - lr 0.000031\n"
          ]
        },
        {
          "output_type": "stream",
          "name": "stderr",
          "text": [
            "100%|██████████| 2/2 [00:01<00:00,  1.53it/s]"
          ]
        },
        {
          "output_type": "stream",
          "name": "stdout",
          "text": [
            "2023-10-18 10:00:04,684 Evaluating as a multi-label problem: False\n",
            "2023-10-18 10:00:04,702 DEV : loss 0.5630279183387756 - f1-score (micro avg)  0.0\n",
            "2023-10-18 10:00:04,711 ----------------------------------------------------------------------------------------------------\n"
          ]
        },
        {
          "output_type": "stream",
          "name": "stderr",
          "text": [
            "\n"
          ]
        },
        {
          "output_type": "stream",
          "name": "stdout",
          "text": [
            "2023-10-18 10:00:05,177 epoch 8 - iter 1/6 - loss 0.55875797 - time (sec): 0.46 - samples/sec: 9266.41 - lr: 0.000032\n",
            "2023-10-18 10:00:05,644 epoch 8 - iter 2/6 - loss 0.52824128 - time (sec): 0.93 - samples/sec: 9641.13 - lr: 0.000032\n",
            "2023-10-18 10:00:06,046 epoch 8 - iter 3/6 - loss 0.53800226 - time (sec): 1.33 - samples/sec: 10158.29 - lr: 0.000033\n",
            "2023-10-18 10:00:06,463 epoch 8 - iter 4/6 - loss 0.54591598 - time (sec): 1.75 - samples/sec: 10294.38 - lr: 0.000034\n",
            "2023-10-18 10:00:06,918 epoch 8 - iter 5/6 - loss 0.52304403 - time (sec): 2.20 - samples/sec: 10326.28 - lr: 0.000035\n",
            "2023-10-18 10:00:07,339 epoch 8 - iter 6/6 - loss 0.50742778 - time (sec): 2.63 - samples/sec: 10537.41 - lr: 0.000035\n",
            "2023-10-18 10:00:07,342 ----------------------------------------------------------------------------------------------------\n",
            "2023-10-18 10:00:07,346 EPOCH 8 done: loss 0.5074 - lr 0.000035\n"
          ]
        },
        {
          "output_type": "stream",
          "name": "stderr",
          "text": [
            "100%|██████████| 2/2 [00:02<00:00,  1.31s/it]"
          ]
        },
        {
          "output_type": "stream",
          "name": "stdout",
          "text": [
            "2023-10-18 10:00:09,983 Evaluating as a multi-label problem: False\n",
            "2023-10-18 10:00:10,008 DEV : loss 0.4507501423358917 - f1-score (micro avg)  0.3911\n",
            "2023-10-18 10:00:10,024 ----------------------------------------------------------------------------------------------------\n"
          ]
        },
        {
          "output_type": "stream",
          "name": "stderr",
          "text": [
            "\n"
          ]
        },
        {
          "output_type": "stream",
          "name": "stdout",
          "text": [
            "2023-10-18 10:00:10,564 epoch 9 - iter 1/6 - loss 0.49658975 - time (sec): 0.54 - samples/sec: 7819.48 - lr: 0.000036\n",
            "2023-10-18 10:00:11,046 epoch 9 - iter 2/6 - loss 0.48179355 - time (sec): 1.02 - samples/sec: 7958.34 - lr: 0.000037\n",
            "2023-10-18 10:00:11,648 epoch 9 - iter 3/6 - loss 0.43955905 - time (sec): 1.62 - samples/sec: 8081.07 - lr: 0.000038\n",
            "2023-10-18 10:00:12,250 epoch 9 - iter 4/6 - loss 0.42189357 - time (sec): 2.22 - samples/sec: 8199.65 - lr: 0.000038\n",
            "2023-10-18 10:00:12,740 epoch 9 - iter 5/6 - loss 0.42007092 - time (sec): 2.71 - samples/sec: 8344.58 - lr: 0.000039\n",
            "2023-10-18 10:00:13,276 epoch 9 - iter 6/6 - loss 0.40490055 - time (sec): 3.25 - samples/sec: 8512.74 - lr: 0.000040\n",
            "2023-10-18 10:00:13,279 ----------------------------------------------------------------------------------------------------\n",
            "2023-10-18 10:00:13,282 EPOCH 9 done: loss 0.4049 - lr 0.000040\n"
          ]
        },
        {
          "output_type": "stream",
          "name": "stderr",
          "text": [
            "100%|██████████| 2/2 [00:01<00:00,  1.19it/s]"
          ]
        },
        {
          "output_type": "stream",
          "name": "stdout",
          "text": [
            "2023-10-18 10:00:14,968 Evaluating as a multi-label problem: False\n",
            "2023-10-18 10:00:14,987 DEV : loss 0.3580893576145172 - f1-score (micro avg)  0.5901\n",
            "2023-10-18 10:00:15,002 ----------------------------------------------------------------------------------------------------\n"
          ]
        },
        {
          "output_type": "stream",
          "name": "stderr",
          "text": [
            "\n"
          ]
        },
        {
          "output_type": "stream",
          "name": "stdout",
          "text": [
            "2023-10-18 10:00:15,446 epoch 10 - iter 1/6 - loss 0.34263319 - time (sec): 0.44 - samples/sec: 9654.13 - lr: 0.000040\n",
            "2023-10-18 10:00:15,946 epoch 10 - iter 2/6 - loss 0.32985874 - time (sec): 0.94 - samples/sec: 9935.65 - lr: 0.000041\n",
            "2023-10-18 10:00:16,371 epoch 10 - iter 3/6 - loss 0.34601981 - time (sec): 1.37 - samples/sec: 10418.71 - lr: 0.000042\n",
            "2023-10-18 10:00:17,211 epoch 10 - iter 4/6 - loss 0.32692220 - time (sec): 2.21 - samples/sec: 8499.42 - lr: 0.000043\n",
            "2023-10-18 10:00:17,701 epoch 10 - iter 5/6 - loss 0.32319557 - time (sec): 2.70 - samples/sec: 8788.24 - lr: 0.000043\n",
            "2023-10-18 10:00:18,094 epoch 10 - iter 6/6 - loss 0.32246136 - time (sec): 3.09 - samples/sec: 8953.00 - lr: 0.000044\n",
            "2023-10-18 10:00:18,098 ----------------------------------------------------------------------------------------------------\n",
            "2023-10-18 10:00:18,100 EPOCH 10 done: loss 0.3225 - lr 0.000044\n"
          ]
        },
        {
          "output_type": "stream",
          "name": "stderr",
          "text": [
            "100%|██████████| 2/2 [00:01<00:00,  1.44it/s]"
          ]
        },
        {
          "output_type": "stream",
          "name": "stdout",
          "text": [
            "2023-10-18 10:00:19,495 Evaluating as a multi-label problem: False\n",
            "2023-10-18 10:00:19,516 DEV : loss 0.3006274998188019 - f1-score (micro avg)  0.6605\n",
            "2023-10-18 10:00:19,525 ----------------------------------------------------------------------------------------------------\n"
          ]
        },
        {
          "output_type": "stream",
          "name": "stderr",
          "text": [
            "\n"
          ]
        },
        {
          "output_type": "stream",
          "name": "stdout",
          "text": [
            "2023-10-18 10:00:19,913 epoch 11 - iter 1/6 - loss 0.29571042 - time (sec): 0.39 - samples/sec: 10008.27 - lr: 0.000045\n",
            "2023-10-18 10:00:20,328 epoch 11 - iter 2/6 - loss 0.27046937 - time (sec): 0.80 - samples/sec: 10622.18 - lr: 0.000046\n",
            "2023-10-18 10:00:20,807 epoch 11 - iter 3/6 - loss 0.26129831 - time (sec): 1.28 - samples/sec: 10230.40 - lr: 0.000046\n",
            "2023-10-18 10:00:21,223 epoch 11 - iter 4/6 - loss 0.25955959 - time (sec): 1.70 - samples/sec: 10327.96 - lr: 0.000047\n",
            "2023-10-18 10:00:21,637 epoch 11 - iter 5/6 - loss 0.25768227 - time (sec): 2.11 - samples/sec: 10416.00 - lr: 0.000048\n",
            "2023-10-18 10:00:22,146 epoch 11 - iter 6/6 - loss 0.25067518 - time (sec): 2.62 - samples/sec: 10567.91 - lr: 0.000049\n",
            "2023-10-18 10:00:22,148 ----------------------------------------------------------------------------------------------------\n",
            "2023-10-18 10:00:22,151 EPOCH 11 done: loss 0.2507 - lr 0.000049\n"
          ]
        },
        {
          "output_type": "stream",
          "name": "stderr",
          "text": [
            "100%|██████████| 2/2 [00:01<00:00,  1.41it/s]"
          ]
        },
        {
          "output_type": "stream",
          "name": "stdout",
          "text": [
            "2023-10-18 10:00:23,583 Evaluating as a multi-label problem: False\n",
            "2023-10-18 10:00:23,600 DEV : loss 0.2776263952255249 - f1-score (micro avg)  0.731\n",
            "2023-10-18 10:00:23,609 ----------------------------------------------------------------------------------------------------\n"
          ]
        },
        {
          "output_type": "stream",
          "name": "stderr",
          "text": [
            "\n"
          ]
        },
        {
          "output_type": "stream",
          "name": "stdout",
          "text": [
            "2023-10-18 10:00:24,147 epoch 12 - iter 1/6 - loss 0.19203895 - time (sec): 0.54 - samples/sec: 9927.36 - lr: 0.000049\n",
            "2023-10-18 10:00:24,639 epoch 12 - iter 2/6 - loss 0.18972251 - time (sec): 1.03 - samples/sec: 9044.10 - lr: 0.000050\n",
            "2023-10-18 10:00:25,143 epoch 12 - iter 3/6 - loss 0.20911688 - time (sec): 1.53 - samples/sec: 8861.13 - lr: 0.000050\n",
            "2023-10-18 10:00:25,772 epoch 12 - iter 4/6 - loss 0.19679729 - time (sec): 2.16 - samples/sec: 8787.73 - lr: 0.000050\n",
            "2023-10-18 10:00:26,323 epoch 12 - iter 5/6 - loss 0.18944791 - time (sec): 2.71 - samples/sec: 8791.81 - lr: 0.000050\n",
            "2023-10-18 10:00:26,802 epoch 12 - iter 6/6 - loss 0.19092669 - time (sec): 3.19 - samples/sec: 8666.48 - lr: 0.000050\n",
            "2023-10-18 10:00:26,809 ----------------------------------------------------------------------------------------------------\n",
            "2023-10-18 10:00:26,811 EPOCH 12 done: loss 0.1909 - lr 0.000050\n"
          ]
        },
        {
          "output_type": "stream",
          "name": "stderr",
          "text": [
            "100%|██████████| 2/2 [00:02<00:00,  1.33s/it]"
          ]
        },
        {
          "output_type": "stream",
          "name": "stdout",
          "text": [
            "2023-10-18 10:00:29,498 Evaluating as a multi-label problem: False\n",
            "2023-10-18 10:00:29,538 DEV : loss 0.23634915053844452 - f1-score (micro avg)  0.7679\n",
            "2023-10-18 10:00:29,555 ----------------------------------------------------------------------------------------------------\n"
          ]
        },
        {
          "output_type": "stream",
          "name": "stderr",
          "text": [
            "\n"
          ]
        },
        {
          "output_type": "stream",
          "name": "stdout",
          "text": [
            "2023-10-18 10:00:30,716 epoch 13 - iter 1/6 - loss 0.14388588 - time (sec): 1.16 - samples/sec: 4061.92 - lr: 0.000050\n",
            "2023-10-18 10:00:31,156 epoch 13 - iter 2/6 - loss 0.15791405 - time (sec): 1.60 - samples/sec: 5790.68 - lr: 0.000050\n",
            "2023-10-18 10:00:31,578 epoch 13 - iter 3/6 - loss 0.14584632 - time (sec): 2.02 - samples/sec: 6881.19 - lr: 0.000049\n",
            "2023-10-18 10:00:32,021 epoch 13 - iter 4/6 - loss 0.14982837 - time (sec): 2.46 - samples/sec: 7538.63 - lr: 0.000049\n",
            "2023-10-18 10:00:32,456 epoch 13 - iter 5/6 - loss 0.14561306 - time (sec): 2.90 - samples/sec: 7969.39 - lr: 0.000049\n",
            "2023-10-18 10:00:32,850 epoch 13 - iter 6/6 - loss 0.14267418 - time (sec): 3.29 - samples/sec: 8404.55 - lr: 0.000049\n",
            "2023-10-18 10:00:32,852 ----------------------------------------------------------------------------------------------------\n",
            "2023-10-18 10:00:32,855 EPOCH 13 done: loss 0.1427 - lr 0.000049\n"
          ]
        },
        {
          "output_type": "stream",
          "name": "stderr",
          "text": [
            "100%|██████████| 2/2 [00:01<00:00,  1.40it/s]"
          ]
        },
        {
          "output_type": "stream",
          "name": "stdout",
          "text": [
            "2023-10-18 10:00:34,308 Evaluating as a multi-label problem: False\n",
            "2023-10-18 10:00:34,326 DEV : loss 0.2399086356163025 - f1-score (micro avg)  0.7864\n",
            "2023-10-18 10:00:34,336 ----------------------------------------------------------------------------------------------------\n"
          ]
        },
        {
          "output_type": "stream",
          "name": "stderr",
          "text": [
            "\n"
          ]
        },
        {
          "output_type": "stream",
          "name": "stdout",
          "text": [
            "2023-10-18 10:00:34,784 epoch 14 - iter 1/6 - loss 0.10620282 - time (sec): 0.45 - samples/sec: 10871.58 - lr: 0.000049\n",
            "2023-10-18 10:00:35,296 epoch 14 - iter 2/6 - loss 0.10157684 - time (sec): 0.96 - samples/sec: 10524.82 - lr: 0.000049\n",
            "2023-10-18 10:00:35,700 epoch 14 - iter 3/6 - loss 0.09743730 - time (sec): 1.36 - samples/sec: 10854.01 - lr: 0.000049\n",
            "2023-10-18 10:00:36,084 epoch 14 - iter 4/6 - loss 0.10223207 - time (sec): 1.75 - samples/sec: 10770.25 - lr: 0.000049\n",
            "2023-10-18 10:00:36,519 epoch 14 - iter 5/6 - loss 0.10302712 - time (sec): 2.18 - samples/sec: 10580.75 - lr: 0.000049\n",
            "2023-10-18 10:00:37,137 epoch 14 - iter 6/6 - loss 0.10504111 - time (sec): 2.80 - samples/sec: 9879.89 - lr: 0.000049\n",
            "2023-10-18 10:00:37,139 ----------------------------------------------------------------------------------------------------\n",
            "2023-10-18 10:00:37,144 EPOCH 14 done: loss 0.1050 - lr 0.000049\n"
          ]
        },
        {
          "output_type": "stream",
          "name": "stderr",
          "text": [
            "100%|██████████| 2/2 [00:01<00:00,  1.44it/s]"
          ]
        },
        {
          "output_type": "stream",
          "name": "stdout",
          "text": [
            "2023-10-18 10:00:38,549 Evaluating as a multi-label problem: False\n",
            "2023-10-18 10:00:38,567 DEV : loss 0.20401118695735931 - f1-score (micro avg)  0.8259\n",
            "2023-10-18 10:00:38,577 ----------------------------------------------------------------------------------------------------\n"
          ]
        },
        {
          "output_type": "stream",
          "name": "stderr",
          "text": [
            "\n"
          ]
        },
        {
          "output_type": "stream",
          "name": "stdout",
          "text": [
            "2023-10-18 10:00:38,987 epoch 15 - iter 1/6 - loss 0.08148621 - time (sec): 0.41 - samples/sec: 11332.06 - lr: 0.000049\n",
            "2023-10-18 10:00:39,438 epoch 15 - iter 2/6 - loss 0.08342502 - time (sec): 0.86 - samples/sec: 10625.20 - lr: 0.000049\n",
            "2023-10-18 10:00:39,951 epoch 15 - iter 3/6 - loss 0.08215280 - time (sec): 1.37 - samples/sec: 10531.77 - lr: 0.000048\n",
            "2023-10-18 10:00:40,404 epoch 15 - iter 4/6 - loss 0.08018878 - time (sec): 1.82 - samples/sec: 10496.55 - lr: 0.000048\n",
            "2023-10-18 10:00:40,845 epoch 15 - iter 5/6 - loss 0.08173525 - time (sec): 2.26 - samples/sec: 10167.24 - lr: 0.000048\n",
            "2023-10-18 10:00:41,368 epoch 15 - iter 6/6 - loss 0.07770600 - time (sec): 2.79 - samples/sec: 9923.44 - lr: 0.000048\n",
            "2023-10-18 10:00:41,373 ----------------------------------------------------------------------------------------------------\n",
            "2023-10-18 10:00:41,375 EPOCH 15 done: loss 0.0777 - lr 0.000048\n"
          ]
        },
        {
          "output_type": "stream",
          "name": "stderr",
          "text": [
            "100%|██████████| 2/2 [00:02<00:00,  1.37s/it]"
          ]
        },
        {
          "output_type": "stream",
          "name": "stdout",
          "text": [
            "2023-10-18 10:00:44,129 Evaluating as a multi-label problem: False\n",
            "2023-10-18 10:00:44,155 DEV : loss 0.21085591614246368 - f1-score (micro avg)  0.8307\n",
            "2023-10-18 10:00:44,169 ----------------------------------------------------------------------------------------------------\n"
          ]
        },
        {
          "output_type": "stream",
          "name": "stderr",
          "text": [
            "\n"
          ]
        },
        {
          "output_type": "stream",
          "name": "stdout",
          "text": [
            "2023-10-18 10:00:45,339 epoch 16 - iter 1/6 - loss 0.06887161 - time (sec): 1.17 - samples/sec: 4594.85 - lr: 0.000048\n",
            "2023-10-18 10:00:45,947 epoch 16 - iter 2/6 - loss 0.05519473 - time (sec): 1.78 - samples/sec: 6126.92 - lr: 0.000048\n",
            "2023-10-18 10:00:46,441 epoch 16 - iter 3/6 - loss 0.05421489 - time (sec): 2.27 - samples/sec: 6664.74 - lr: 0.000048\n",
            "2023-10-18 10:00:46,982 epoch 16 - iter 4/6 - loss 0.05677428 - time (sec): 2.81 - samples/sec: 6986.69 - lr: 0.000048\n",
            "2023-10-18 10:00:47,393 epoch 16 - iter 5/6 - loss 0.05635126 - time (sec): 3.22 - samples/sec: 7417.57 - lr: 0.000048\n",
            "2023-10-18 10:00:47,786 epoch 16 - iter 6/6 - loss 0.05600110 - time (sec): 3.62 - samples/sec: 7651.91 - lr: 0.000048\n",
            "2023-10-18 10:00:47,789 ----------------------------------------------------------------------------------------------------\n",
            "2023-10-18 10:00:47,790 EPOCH 16 done: loss 0.0560 - lr 0.000048\n"
          ]
        },
        {
          "output_type": "stream",
          "name": "stderr",
          "text": [
            "100%|██████████| 2/2 [00:01<00:00,  1.40it/s]"
          ]
        },
        {
          "output_type": "stream",
          "name": "stdout",
          "text": [
            "2023-10-18 10:00:49,235 Evaluating as a multi-label problem: False\n",
            "2023-10-18 10:00:49,252 DEV : loss 0.20685510337352753 - f1-score (micro avg)  0.821\n",
            "2023-10-18 10:00:49,267 ----------------------------------------------------------------------------------------------------\n"
          ]
        },
        {
          "output_type": "stream",
          "name": "stderr",
          "text": [
            "\n"
          ]
        },
        {
          "output_type": "stream",
          "name": "stdout",
          "text": [
            "2023-10-18 10:00:49,697 epoch 17 - iter 1/6 - loss 0.05778335 - time (sec): 0.43 - samples/sec: 10792.80 - lr: 0.000048\n",
            "2023-10-18 10:00:50,158 epoch 17 - iter 2/6 - loss 0.05251091 - time (sec): 0.89 - samples/sec: 10910.57 - lr: 0.000048\n",
            "2023-10-18 10:00:50,568 epoch 17 - iter 3/6 - loss 0.05120397 - time (sec): 1.30 - samples/sec: 10989.10 - lr: 0.000047\n",
            "2023-10-18 10:00:50,999 epoch 17 - iter 4/6 - loss 0.04904798 - time (sec): 1.73 - samples/sec: 10750.05 - lr: 0.000047\n",
            "2023-10-18 10:00:51,441 epoch 17 - iter 5/6 - loss 0.04810489 - time (sec): 2.17 - samples/sec: 10658.43 - lr: 0.000047\n",
            "2023-10-18 10:00:51,881 epoch 17 - iter 6/6 - loss 0.04652496 - time (sec): 2.61 - samples/sec: 10596.31 - lr: 0.000047\n",
            "2023-10-18 10:00:51,884 ----------------------------------------------------------------------------------------------------\n",
            "2023-10-18 10:00:51,887 EPOCH 17 done: loss 0.0465 - lr 0.000047\n"
          ]
        },
        {
          "output_type": "stream",
          "name": "stderr",
          "text": [
            "100%|██████████| 2/2 [00:01<00:00,  1.40it/s]"
          ]
        },
        {
          "output_type": "stream",
          "name": "stdout",
          "text": [
            "2023-10-18 10:00:53,329 Evaluating as a multi-label problem: False\n",
            "2023-10-18 10:00:53,349 DEV : loss 0.21314729750156403 - f1-score (micro avg)  0.8056\n",
            "2023-10-18 10:00:53,363 ----------------------------------------------------------------------------------------------------\n"
          ]
        },
        {
          "output_type": "stream",
          "name": "stderr",
          "text": [
            "\n"
          ]
        },
        {
          "output_type": "stream",
          "name": "stdout",
          "text": [
            "2023-10-18 10:00:53,738 epoch 18 - iter 1/6 - loss 0.04170681 - time (sec): 0.37 - samples/sec: 10178.73 - lr: 0.000047\n",
            "2023-10-18 10:00:54,199 epoch 18 - iter 2/6 - loss 0.04164539 - time (sec): 0.83 - samples/sec: 10302.91 - lr: 0.000047\n",
            "2023-10-18 10:00:54,717 epoch 18 - iter 3/6 - loss 0.03647178 - time (sec): 1.35 - samples/sec: 9984.65 - lr: 0.000047\n",
            "2023-10-18 10:00:55,124 epoch 18 - iter 4/6 - loss 0.03636126 - time (sec): 1.76 - samples/sec: 10066.52 - lr: 0.000047\n",
            "2023-10-18 10:00:55,592 epoch 18 - iter 5/6 - loss 0.03623751 - time (sec): 2.23 - samples/sec: 10179.48 - lr: 0.000047\n",
            "2023-10-18 10:00:56,033 epoch 18 - iter 6/6 - loss 0.03452228 - time (sec): 2.67 - samples/sec: 10371.38 - lr: 0.000047\n",
            "2023-10-18 10:00:56,035 ----------------------------------------------------------------------------------------------------\n",
            "2023-10-18 10:00:56,037 EPOCH 18 done: loss 0.0345 - lr 0.000047\n"
          ]
        },
        {
          "output_type": "stream",
          "name": "stderr",
          "text": [
            "100%|██████████| 2/2 [00:01<00:00,  1.12it/s]"
          ]
        },
        {
          "output_type": "stream",
          "name": "stdout",
          "text": [
            "2023-10-18 10:00:57,833 Evaluating as a multi-label problem: False\n",
            "2023-10-18 10:00:57,858 DEV : loss 0.2028150111436844 - f1-score (micro avg)  0.8289\n",
            "2023-10-18 10:00:57,873 ----------------------------------------------------------------------------------------------------\n"
          ]
        },
        {
          "output_type": "stream",
          "name": "stderr",
          "text": [
            "\n"
          ]
        },
        {
          "output_type": "stream",
          "name": "stdout",
          "text": [
            "2023-10-18 10:00:58,851 epoch 19 - iter 1/6 - loss 0.02528989 - time (sec): 0.97 - samples/sec: 4440.33 - lr: 0.000047\n",
            "2023-10-18 10:00:59,414 epoch 19 - iter 2/6 - loss 0.02794912 - time (sec): 1.54 - samples/sec: 5959.90 - lr: 0.000047\n",
            "2023-10-18 10:00:59,921 epoch 19 - iter 3/6 - loss 0.02905959 - time (sec): 2.04 - samples/sec: 6621.02 - lr: 0.000047\n",
            "2023-10-18 10:01:00,492 epoch 19 - iter 4/6 - loss 0.02648829 - time (sec): 2.61 - samples/sec: 7068.10 - lr: 0.000046\n",
            "2023-10-18 10:01:01,039 epoch 19 - iter 5/6 - loss 0.02845609 - time (sec): 3.16 - samples/sec: 7434.54 - lr: 0.000046\n",
            "2023-10-18 10:01:01,526 epoch 19 - iter 6/6 - loss 0.02917794 - time (sec): 3.65 - samples/sec: 7583.21 - lr: 0.000046\n",
            "2023-10-18 10:01:01,529 ----------------------------------------------------------------------------------------------------\n",
            "2023-10-18 10:01:01,531 EPOCH 19 done: loss 0.0292 - lr 0.000046\n"
          ]
        },
        {
          "output_type": "stream",
          "name": "stderr",
          "text": [
            "100%|██████████| 2/2 [00:02<00:00,  1.17s/it]"
          ]
        },
        {
          "output_type": "stream",
          "name": "stdout",
          "text": [
            "2023-10-18 10:01:03,873 Evaluating as a multi-label problem: False\n",
            "2023-10-18 10:01:03,892 DEV : loss 0.21125254034996033 - f1-score (micro avg)  0.8382\n",
            "2023-10-18 10:01:03,906 ----------------------------------------------------------------------------------------------------\n"
          ]
        },
        {
          "output_type": "stream",
          "name": "stderr",
          "text": [
            "\n"
          ]
        },
        {
          "output_type": "stream",
          "name": "stdout",
          "text": [
            "2023-10-18 10:01:04,383 epoch 20 - iter 1/6 - loss 0.01816962 - time (sec): 0.47 - samples/sec: 10565.86 - lr: 0.000046\n",
            "2023-10-18 10:01:04,851 epoch 20 - iter 2/6 - loss 0.02384064 - time (sec): 0.94 - samples/sec: 10233.16 - lr: 0.000046\n",
            "2023-10-18 10:01:05,288 epoch 20 - iter 3/6 - loss 0.02639404 - time (sec): 1.38 - samples/sec: 10754.70 - lr: 0.000046\n",
            "2023-10-18 10:01:05,682 epoch 20 - iter 4/6 - loss 0.02601852 - time (sec): 1.77 - samples/sec: 10671.15 - lr: 0.000046\n",
            "2023-10-18 10:01:06,125 epoch 20 - iter 5/6 - loss 0.02455629 - time (sec): 2.21 - samples/sec: 10420.77 - lr: 0.000046\n",
            "2023-10-18 10:01:06,543 epoch 20 - iter 6/6 - loss 0.02388797 - time (sec): 2.63 - samples/sec: 10507.92 - lr: 0.000046\n",
            "2023-10-18 10:01:06,545 ----------------------------------------------------------------------------------------------------\n",
            "2023-10-18 10:01:06,548 EPOCH 20 done: loss 0.0239 - lr 0.000046\n"
          ]
        },
        {
          "output_type": "stream",
          "name": "stderr",
          "text": [
            "100%|██████████| 2/2 [00:01<00:00,  1.40it/s]"
          ]
        },
        {
          "output_type": "stream",
          "name": "stdout",
          "text": [
            "2023-10-18 10:01:07,993 Evaluating as a multi-label problem: False\n",
            "2023-10-18 10:01:08,018 DEV : loss 0.21471430361270905 - f1-score (micro avg)  0.8306\n",
            "2023-10-18 10:01:08,028 ----------------------------------------------------------------------------------------------------\n"
          ]
        },
        {
          "output_type": "stream",
          "name": "stderr",
          "text": [
            "\n"
          ]
        },
        {
          "output_type": "stream",
          "name": "stdout",
          "text": [
            "2023-10-18 10:01:08,515 epoch 21 - iter 1/6 - loss 0.01711549 - time (sec): 0.48 - samples/sec: 10486.76 - lr: 0.000046\n",
            "2023-10-18 10:01:09,038 epoch 21 - iter 2/6 - loss 0.01781157 - time (sec): 1.01 - samples/sec: 10563.49 - lr: 0.000046\n",
            "2023-10-18 10:01:09,451 epoch 21 - iter 3/6 - loss 0.01983704 - time (sec): 1.42 - samples/sec: 10350.75 - lr: 0.000046\n",
            "2023-10-18 10:01:09,890 epoch 21 - iter 4/6 - loss 0.02025694 - time (sec): 1.86 - samples/sec: 10418.35 - lr: 0.000045\n",
            "2023-10-18 10:01:10,309 epoch 21 - iter 5/6 - loss 0.01999990 - time (sec): 2.28 - samples/sec: 10457.30 - lr: 0.000045\n",
            "2023-10-18 10:01:10,677 epoch 21 - iter 6/6 - loss 0.02049485 - time (sec): 2.65 - samples/sec: 10451.37 - lr: 0.000045\n",
            "2023-10-18 10:01:10,679 ----------------------------------------------------------------------------------------------------\n",
            "2023-10-18 10:01:10,682 EPOCH 21 done: loss 0.0205 - lr 0.000045\n"
          ]
        },
        {
          "output_type": "stream",
          "name": "stderr",
          "text": [
            "100%|██████████| 2/2 [00:01<00:00,  1.41it/s]"
          ]
        },
        {
          "output_type": "stream",
          "name": "stdout",
          "text": [
            "2023-10-18 10:01:12,120 Evaluating as a multi-label problem: False\n",
            "2023-10-18 10:01:12,150 DEV : loss 0.2130403071641922 - f1-score (micro avg)  0.8372\n",
            "2023-10-18 10:01:12,164 ----------------------------------------------------------------------------------------------------\n"
          ]
        },
        {
          "output_type": "stream",
          "name": "stderr",
          "text": [
            "\n"
          ]
        },
        {
          "output_type": "stream",
          "name": "stdout",
          "text": [
            "2023-10-18 10:01:12,960 epoch 22 - iter 1/6 - loss 0.01725078 - time (sec): 0.79 - samples/sec: 5503.04 - lr: 0.000045\n",
            "2023-10-18 10:01:13,443 epoch 22 - iter 2/6 - loss 0.01696225 - time (sec): 1.28 - samples/sec: 7050.15 - lr: 0.000045\n",
            "2023-10-18 10:01:14,021 epoch 22 - iter 3/6 - loss 0.01602646 - time (sec): 1.85 - samples/sec: 7698.75 - lr: 0.000045\n",
            "2023-10-18 10:01:14,565 epoch 22 - iter 4/6 - loss 0.01646743 - time (sec): 2.40 - samples/sec: 7809.28 - lr: 0.000045\n",
            "2023-10-18 10:01:15,084 epoch 22 - iter 5/6 - loss 0.01692155 - time (sec): 2.92 - samples/sec: 8070.16 - lr: 0.000045\n",
            "2023-10-18 10:01:15,555 epoch 22 - iter 6/6 - loss 0.01758684 - time (sec): 3.39 - samples/sec: 8163.79 - lr: 0.000045\n",
            "2023-10-18 10:01:15,558 ----------------------------------------------------------------------------------------------------\n",
            "2023-10-18 10:01:15,560 EPOCH 22 done: loss 0.0176 - lr 0.000045\n"
          ]
        },
        {
          "output_type": "stream",
          "name": "stderr",
          "text": [
            "100%|██████████| 2/2 [00:04<00:00,  2.18s/it]"
          ]
        },
        {
          "output_type": "stream",
          "name": "stdout",
          "text": [
            "2023-10-18 10:01:19,934 Evaluating as a multi-label problem: False\n",
            "2023-10-18 10:01:19,965 DEV : loss 0.24814951419830322 - f1-score (micro avg)  0.8317\n",
            "2023-10-18 10:01:19,983 ----------------------------------------------------------------------------------------------------\n"
          ]
        },
        {
          "output_type": "stream",
          "name": "stderr",
          "text": [
            "\n"
          ]
        },
        {
          "output_type": "stream",
          "name": "stdout",
          "text": [
            "2023-10-18 10:01:20,534 epoch 23 - iter 1/6 - loss 0.02148051 - time (sec): 0.55 - samples/sec: 6748.52 - lr: 0.000045\n",
            "2023-10-18 10:01:21,054 epoch 23 - iter 2/6 - loss 0.01635616 - time (sec): 1.07 - samples/sec: 7154.52 - lr: 0.000045\n",
            "2023-10-18 10:01:21,501 epoch 23 - iter 3/6 - loss 0.01439630 - time (sec): 1.52 - samples/sec: 8048.11 - lr: 0.000045\n",
            "2023-10-18 10:01:21,951 epoch 23 - iter 4/6 - loss 0.01437019 - time (sec): 1.97 - samples/sec: 8871.70 - lr: 0.000045\n",
            "2023-10-18 10:01:22,450 epoch 23 - iter 5/6 - loss 0.01376726 - time (sec): 2.46 - samples/sec: 9348.53 - lr: 0.000044\n",
            "2023-10-18 10:01:22,867 epoch 23 - iter 6/6 - loss 0.01346440 - time (sec): 2.88 - samples/sec: 9600.42 - lr: 0.000044\n",
            "2023-10-18 10:01:22,869 ----------------------------------------------------------------------------------------------------\n",
            "2023-10-18 10:01:22,873 EPOCH 23 done: loss 0.0135 - lr 0.000044\n"
          ]
        },
        {
          "output_type": "stream",
          "name": "stderr",
          "text": [
            "100%|██████████| 2/2 [00:01<00:00,  1.41it/s]"
          ]
        },
        {
          "output_type": "stream",
          "name": "stdout",
          "text": [
            "2023-10-18 10:01:24,304 Evaluating as a multi-label problem: False\n",
            "2023-10-18 10:01:24,322 DEV : loss 0.240349680185318 - f1-score (micro avg)  0.8433\n",
            "2023-10-18 10:01:24,332 ----------------------------------------------------------------------------------------------------\n"
          ]
        },
        {
          "output_type": "stream",
          "name": "stderr",
          "text": [
            "\n"
          ]
        },
        {
          "output_type": "stream",
          "name": "stdout",
          "text": [
            "2023-10-18 10:01:24,810 epoch 24 - iter 1/6 - loss 0.01159621 - time (sec): 0.48 - samples/sec: 10428.34 - lr: 0.000044\n",
            "2023-10-18 10:01:25,242 epoch 24 - iter 2/6 - loss 0.00996480 - time (sec): 0.91 - samples/sec: 10156.66 - lr: 0.000044\n",
            "2023-10-18 10:01:25,720 epoch 24 - iter 3/6 - loss 0.01112013 - time (sec): 1.39 - samples/sec: 10255.79 - lr: 0.000044\n",
            "2023-10-18 10:01:26,127 epoch 24 - iter 4/6 - loss 0.01064382 - time (sec): 1.79 - samples/sec: 10159.31 - lr: 0.000044\n",
            "2023-10-18 10:01:26,592 epoch 24 - iter 5/6 - loss 0.01080596 - time (sec): 2.26 - samples/sec: 10338.03 - lr: 0.000044\n",
            "2023-10-18 10:01:26,997 epoch 24 - iter 6/6 - loss 0.01197373 - time (sec): 2.66 - samples/sec: 10385.51 - lr: 0.000044\n",
            "2023-10-18 10:01:27,003 ----------------------------------------------------------------------------------------------------\n",
            "2023-10-18 10:01:27,006 EPOCH 24 done: loss 0.0120 - lr 0.000044\n"
          ]
        },
        {
          "output_type": "stream",
          "name": "stderr",
          "text": [
            "100%|██████████| 2/2 [00:01<00:00,  1.45it/s]"
          ]
        },
        {
          "output_type": "stream",
          "name": "stdout",
          "text": [
            "2023-10-18 10:01:28,403 Evaluating as a multi-label problem: False\n",
            "2023-10-18 10:01:28,421 DEV : loss 0.25287511944770813 - f1-score (micro avg)  0.8373\n",
            "2023-10-18 10:01:28,431 ----------------------------------------------------------------------------------------------------\n"
          ]
        },
        {
          "output_type": "stream",
          "name": "stderr",
          "text": [
            "\n"
          ]
        },
        {
          "output_type": "stream",
          "name": "stdout",
          "text": [
            "2023-10-18 10:01:28,879 epoch 25 - iter 1/6 - loss 0.01410413 - time (sec): 0.44 - samples/sec: 10572.33 - lr: 0.000044\n",
            "2023-10-18 10:01:29,786 epoch 25 - iter 2/6 - loss 0.01019879 - time (sec): 1.35 - samples/sec: 7085.22 - lr: 0.000044\n",
            "2023-10-18 10:01:30,198 epoch 25 - iter 3/6 - loss 0.00895761 - time (sec): 1.76 - samples/sec: 7995.19 - lr: 0.000044\n",
            "2023-10-18 10:01:30,607 epoch 25 - iter 4/6 - loss 0.00941101 - time (sec): 2.17 - samples/sec: 8550.79 - lr: 0.000044\n",
            "2023-10-18 10:01:31,005 epoch 25 - iter 5/6 - loss 0.00950668 - time (sec): 2.57 - samples/sec: 8730.38 - lr: 0.000043\n",
            "2023-10-18 10:01:31,629 epoch 25 - iter 6/6 - loss 0.01020919 - time (sec): 3.19 - samples/sec: 8660.93 - lr: 0.000043\n",
            "2023-10-18 10:01:31,632 ----------------------------------------------------------------------------------------------------\n",
            "2023-10-18 10:01:31,633 EPOCH 25 done: loss 0.0102 - lr 0.000043\n"
          ]
        },
        {
          "output_type": "stream",
          "name": "stderr",
          "text": [
            "100%|██████████| 2/2 [00:02<00:00,  1.36s/it]"
          ]
        },
        {
          "output_type": "stream",
          "name": "stdout",
          "text": [
            "2023-10-18 10:01:34,357 Evaluating as a multi-label problem: False\n",
            "2023-10-18 10:01:34,385 DEV : loss 0.2510105073451996 - f1-score (micro avg)  0.8413\n",
            "2023-10-18 10:01:34,400 ----------------------------------------------------------------------------------------------------\n"
          ]
        },
        {
          "output_type": "stream",
          "name": "stderr",
          "text": [
            "\n"
          ]
        },
        {
          "output_type": "stream",
          "name": "stdout",
          "text": [
            "2023-10-18 10:01:35,055 epoch 26 - iter 1/6 - loss 0.00736951 - time (sec): 0.65 - samples/sec: 8610.06 - lr: 0.000043\n",
            "2023-10-18 10:01:35,539 epoch 26 - iter 2/6 - loss 0.00745142 - time (sec): 1.14 - samples/sec: 8161.32 - lr: 0.000043\n",
            "2023-10-18 10:01:36,013 epoch 26 - iter 3/6 - loss 0.00803734 - time (sec): 1.61 - samples/sec: 8533.73 - lr: 0.000043\n",
            "2023-10-18 10:01:36,574 epoch 26 - iter 4/6 - loss 0.00818001 - time (sec): 2.17 - samples/sec: 8588.32 - lr: 0.000043\n",
            "2023-10-18 10:01:37,073 epoch 26 - iter 5/6 - loss 0.00826713 - time (sec): 2.67 - samples/sec: 8534.42 - lr: 0.000043\n",
            "2023-10-18 10:01:37,661 epoch 26 - iter 6/6 - loss 0.00867080 - time (sec): 3.26 - samples/sec: 8487.61 - lr: 0.000043\n",
            "2023-10-18 10:01:37,666 ----------------------------------------------------------------------------------------------------\n",
            "2023-10-18 10:01:37,667 EPOCH 26 done: loss 0.0087 - lr 0.000043\n"
          ]
        },
        {
          "output_type": "stream",
          "name": "stderr",
          "text": [
            "100%|██████████| 2/2 [00:02<00:00,  1.41s/it]"
          ]
        },
        {
          "output_type": "stream",
          "name": "stdout",
          "text": [
            "2023-10-18 10:01:40,505 Evaluating as a multi-label problem: False\n",
            "2023-10-18 10:01:40,534 DEV : loss 0.2662837505340576 - f1-score (micro avg)  0.8354\n",
            "2023-10-18 10:01:40,548 ----------------------------------------------------------------------------------------------------\n"
          ]
        },
        {
          "output_type": "stream",
          "name": "stderr",
          "text": [
            "\n"
          ]
        },
        {
          "output_type": "stream",
          "name": "stdout",
          "text": [
            "2023-10-18 10:01:41,032 epoch 27 - iter 1/6 - loss 0.00489276 - time (sec): 0.48 - samples/sec: 7972.31 - lr: 0.000043\n",
            "2023-10-18 10:01:41,480 epoch 27 - iter 2/6 - loss 0.01042101 - time (sec): 0.93 - samples/sec: 8296.18 - lr: 0.000043\n",
            "2023-10-18 10:01:42,088 epoch 27 - iter 3/6 - loss 0.00885997 - time (sec): 1.54 - samples/sec: 8405.88 - lr: 0.000043\n",
            "2023-10-18 10:01:42,702 epoch 27 - iter 4/6 - loss 0.00887847 - time (sec): 2.15 - samples/sec: 8561.90 - lr: 0.000043\n",
            "2023-10-18 10:01:43,272 epoch 27 - iter 5/6 - loss 0.00954225 - time (sec): 2.72 - samples/sec: 8587.44 - lr: 0.000042\n",
            "2023-10-18 10:01:43,757 epoch 27 - iter 6/6 - loss 0.00908376 - time (sec): 3.21 - samples/sec: 8629.09 - lr: 0.000042\n",
            "2023-10-18 10:01:43,760 ----------------------------------------------------------------------------------------------------\n",
            "2023-10-18 10:01:43,761 EPOCH 27 done: loss 0.0091 - lr 0.000042\n"
          ]
        },
        {
          "output_type": "stream",
          "name": "stderr",
          "text": [
            "100%|██████████| 2/2 [00:01<00:00,  1.17it/s]"
          ]
        },
        {
          "output_type": "stream",
          "name": "stdout",
          "text": [
            "2023-10-18 10:01:45,477 Evaluating as a multi-label problem: False\n",
            "2023-10-18 10:01:45,494 DEV : loss 0.2573116719722748 - f1-score (micro avg)  0.8519\n",
            "2023-10-18 10:01:45,503 ----------------------------------------------------------------------------------------------------\n"
          ]
        },
        {
          "output_type": "stream",
          "name": "stderr",
          "text": [
            "\n"
          ]
        },
        {
          "output_type": "stream",
          "name": "stdout",
          "text": [
            "2023-10-18 10:01:46,331 epoch 28 - iter 1/6 - loss 0.00645442 - time (sec): 0.83 - samples/sec: 5623.47 - lr: 0.000042\n",
            "2023-10-18 10:01:46,702 epoch 28 - iter 2/6 - loss 0.00492195 - time (sec): 1.20 - samples/sec: 7423.31 - lr: 0.000042\n",
            "2023-10-18 10:01:47,145 epoch 28 - iter 3/6 - loss 0.00476634 - time (sec): 1.64 - samples/sec: 8127.53 - lr: 0.000042\n",
            "2023-10-18 10:01:47,600 epoch 28 - iter 4/6 - loss 0.00505853 - time (sec): 2.10 - samples/sec: 8488.20 - lr: 0.000042\n",
            "2023-10-18 10:01:48,168 epoch 28 - iter 5/6 - loss 0.00552703 - time (sec): 2.66 - samples/sec: 8551.24 - lr: 0.000042\n",
            "2023-10-18 10:01:48,755 epoch 28 - iter 6/6 - loss 0.00551080 - time (sec): 3.25 - samples/sec: 8511.89 - lr: 0.000042\n",
            "2023-10-18 10:01:48,758 ----------------------------------------------------------------------------------------------------\n",
            "2023-10-18 10:01:48,760 EPOCH 28 done: loss 0.0055 - lr 0.000042\n"
          ]
        },
        {
          "output_type": "stream",
          "name": "stderr",
          "text": [
            "100%|██████████| 2/2 [00:02<00:00,  1.40s/it]"
          ]
        },
        {
          "output_type": "stream",
          "name": "stdout",
          "text": [
            "2023-10-18 10:01:51,579 Evaluating as a multi-label problem: False\n",
            "2023-10-18 10:01:51,616 DEV : loss 0.27462631464004517 - f1-score (micro avg)  0.8461\n",
            "2023-10-18 10:01:51,633 ----------------------------------------------------------------------------------------------------\n"
          ]
        },
        {
          "output_type": "stream",
          "name": "stderr",
          "text": [
            "\n"
          ]
        },
        {
          "output_type": "stream",
          "name": "stdout",
          "text": [
            "2023-10-18 10:01:52,240 epoch 29 - iter 1/6 - loss 0.00510676 - time (sec): 0.60 - samples/sec: 7694.06 - lr: 0.000042\n",
            "2023-10-18 10:01:52,868 epoch 29 - iter 2/6 - loss 0.00580155 - time (sec): 1.23 - samples/sec: 7876.77 - lr: 0.000042\n",
            "2023-10-18 10:01:53,362 epoch 29 - iter 3/6 - loss 0.00553140 - time (sec): 1.72 - samples/sec: 8272.22 - lr: 0.000042\n",
            "2023-10-18 10:01:53,871 epoch 29 - iter 4/6 - loss 0.00584827 - time (sec): 2.23 - samples/sec: 8412.48 - lr: 0.000042\n",
            "2023-10-18 10:01:54,354 epoch 29 - iter 5/6 - loss 0.00587588 - time (sec): 2.72 - samples/sec: 8469.59 - lr: 0.000042\n",
            "2023-10-18 10:01:54,783 epoch 29 - iter 6/6 - loss 0.00685827 - time (sec): 3.15 - samples/sec: 8795.49 - lr: 0.000041\n",
            "2023-10-18 10:01:54,785 ----------------------------------------------------------------------------------------------------\n",
            "2023-10-18 10:01:54,788 EPOCH 29 done: loss 0.0069 - lr 0.000041\n"
          ]
        },
        {
          "output_type": "stream",
          "name": "stderr",
          "text": [
            "100%|██████████| 2/2 [00:01<00:00,  1.44it/s]"
          ]
        },
        {
          "output_type": "stream",
          "name": "stdout",
          "text": [
            "2023-10-18 10:01:56,188 Evaluating as a multi-label problem: False\n",
            "2023-10-18 10:01:56,207 DEV : loss 0.2633035480976105 - f1-score (micro avg)  0.8528\n",
            "2023-10-18 10:01:56,222 ----------------------------------------------------------------------------------------------------\n"
          ]
        },
        {
          "output_type": "stream",
          "name": "stderr",
          "text": [
            "\n"
          ]
        },
        {
          "output_type": "stream",
          "name": "stdout",
          "text": [
            "2023-10-18 10:01:56,725 epoch 30 - iter 1/6 - loss 0.00429744 - time (sec): 0.50 - samples/sec: 10785.50 - lr: 0.000041\n",
            "2023-10-18 10:01:57,180 epoch 30 - iter 2/6 - loss 0.00498146 - time (sec): 0.96 - samples/sec: 10698.01 - lr: 0.000041\n",
            "2023-10-18 10:01:57,654 epoch 30 - iter 3/6 - loss 0.00451374 - time (sec): 1.43 - samples/sec: 10503.83 - lr: 0.000041\n",
            "2023-10-18 10:01:58,118 epoch 30 - iter 4/6 - loss 0.00581737 - time (sec): 1.89 - samples/sec: 10478.13 - lr: 0.000041\n",
            "2023-10-18 10:01:58,466 epoch 30 - iter 5/6 - loss 0.00691109 - time (sec): 2.24 - samples/sec: 10432.61 - lr: 0.000041\n",
            "2023-10-18 10:01:58,868 epoch 30 - iter 6/6 - loss 0.00692585 - time (sec): 2.64 - samples/sec: 10461.72 - lr: 0.000041\n",
            "2023-10-18 10:01:58,870 ----------------------------------------------------------------------------------------------------\n",
            "2023-10-18 10:01:58,872 EPOCH 30 done: loss 0.0069 - lr 0.000041\n"
          ]
        },
        {
          "output_type": "stream",
          "name": "stderr",
          "text": [
            "100%|██████████| 2/2 [00:01<00:00,  1.42it/s]"
          ]
        },
        {
          "output_type": "stream",
          "name": "stdout",
          "text": [
            "2023-10-18 10:02:00,285 Evaluating as a multi-label problem: False\n",
            "2023-10-18 10:02:00,303 DEV : loss 0.30506187677383423 - f1-score (micro avg)  0.8365\n",
            "2023-10-18 10:02:00,312 ----------------------------------------------------------------------------------------------------\n"
          ]
        },
        {
          "output_type": "stream",
          "name": "stderr",
          "text": [
            "\n"
          ]
        },
        {
          "output_type": "stream",
          "name": "stdout",
          "text": [
            "2023-10-18 10:02:01,257 epoch 31 - iter 1/6 - loss 0.00579348 - time (sec): 0.94 - samples/sec: 5715.11 - lr: 0.000041\n",
            "2023-10-18 10:02:01,709 epoch 31 - iter 2/6 - loss 0.00688088 - time (sec): 1.40 - samples/sec: 7357.14 - lr: 0.000041\n",
            "2023-10-18 10:02:02,130 epoch 31 - iter 3/6 - loss 0.00701701 - time (sec): 1.82 - samples/sec: 8136.63 - lr: 0.000041\n",
            "2023-10-18 10:02:02,565 epoch 31 - iter 4/6 - loss 0.00664092 - time (sec): 2.25 - samples/sec: 8604.70 - lr: 0.000041\n",
            "2023-10-18 10:02:02,972 epoch 31 - iter 5/6 - loss 0.00581981 - time (sec): 2.66 - samples/sec: 8912.07 - lr: 0.000041\n",
            "2023-10-18 10:02:03,365 epoch 31 - iter 6/6 - loss 0.00529450 - time (sec): 3.05 - samples/sec: 9066.75 - lr: 0.000040\n",
            "2023-10-18 10:02:03,369 ----------------------------------------------------------------------------------------------------\n",
            "2023-10-18 10:02:03,374 EPOCH 31 done: loss 0.0053 - lr 0.000040\n"
          ]
        },
        {
          "output_type": "stream",
          "name": "stderr",
          "text": [
            "100%|██████████| 2/2 [00:01<00:00,  1.06it/s]"
          ]
        },
        {
          "output_type": "stream",
          "name": "stdout",
          "text": [
            "2023-10-18 10:02:05,283 Evaluating as a multi-label problem: False\n",
            "2023-10-18 10:02:05,312 DEV : loss 0.28385451436042786 - f1-score (micro avg)  0.8625\n",
            "2023-10-18 10:02:05,325 ----------------------------------------------------------------------------------------------------\n"
          ]
        },
        {
          "output_type": "stream",
          "name": "stderr",
          "text": [
            "\n"
          ]
        },
        {
          "output_type": "stream",
          "name": "stdout",
          "text": [
            "2023-10-18 10:02:05,966 epoch 32 - iter 1/6 - loss 0.00704223 - time (sec): 0.64 - samples/sec: 8071.32 - lr: 0.000040\n",
            "2023-10-18 10:02:06,612 epoch 32 - iter 2/6 - loss 0.00668494 - time (sec): 1.28 - samples/sec: 8138.69 - lr: 0.000040\n",
            "2023-10-18 10:02:07,143 epoch 32 - iter 3/6 - loss 0.00649084 - time (sec): 1.82 - samples/sec: 7939.33 - lr: 0.000040\n",
            "2023-10-18 10:02:07,719 epoch 32 - iter 4/6 - loss 0.00925072 - time (sec): 2.39 - samples/sec: 8090.29 - lr: 0.000040\n",
            "2023-10-18 10:02:08,200 epoch 32 - iter 5/6 - loss 0.00831921 - time (sec): 2.87 - samples/sec: 8107.51 - lr: 0.000040\n",
            "2023-10-18 10:02:08,649 epoch 32 - iter 6/6 - loss 0.00750796 - time (sec): 3.32 - samples/sec: 8326.57 - lr: 0.000040\n",
            "2023-10-18 10:02:08,657 ----------------------------------------------------------------------------------------------------\n",
            "2023-10-18 10:02:08,659 EPOCH 32 done: loss 0.0075 - lr 0.000040\n"
          ]
        },
        {
          "output_type": "stream",
          "name": "stderr",
          "text": [
            "100%|██████████| 2/2 [00:02<00:00,  1.16s/it]"
          ]
        },
        {
          "output_type": "stream",
          "name": "stdout",
          "text": [
            "2023-10-18 10:02:10,983 Evaluating as a multi-label problem: False\n",
            "2023-10-18 10:02:11,001 DEV : loss 0.2780659794807434 - f1-score (micro avg)  0.8588\n",
            "2023-10-18 10:02:11,012 ----------------------------------------------------------------------------------------------------\n"
          ]
        },
        {
          "output_type": "stream",
          "name": "stderr",
          "text": [
            "\n"
          ]
        },
        {
          "output_type": "stream",
          "name": "stdout",
          "text": [
            "2023-10-18 10:02:11,473 epoch 33 - iter 1/6 - loss 0.00544363 - time (sec): 0.46 - samples/sec: 9899.80 - lr: 0.000040\n",
            "2023-10-18 10:02:11,943 epoch 33 - iter 2/6 - loss 0.00467915 - time (sec): 0.93 - samples/sec: 10436.33 - lr: 0.000040\n",
            "2023-10-18 10:02:12,344 epoch 33 - iter 3/6 - loss 0.00748054 - time (sec): 1.33 - samples/sec: 10826.14 - lr: 0.000040\n",
            "2023-10-18 10:02:12,772 epoch 33 - iter 4/6 - loss 0.00677523 - time (sec): 1.76 - samples/sec: 10915.91 - lr: 0.000040\n",
            "2023-10-18 10:02:13,198 epoch 33 - iter 5/6 - loss 0.00645045 - time (sec): 2.18 - samples/sec: 10749.28 - lr: 0.000040\n",
            "2023-10-18 10:02:13,606 epoch 33 - iter 6/6 - loss 0.00612111 - time (sec): 2.59 - samples/sec: 10671.44 - lr: 0.000039\n",
            "2023-10-18 10:02:13,608 ----------------------------------------------------------------------------------------------------\n",
            "2023-10-18 10:02:13,612 EPOCH 33 done: loss 0.0061 - lr 0.000039\n"
          ]
        },
        {
          "output_type": "stream",
          "name": "stderr",
          "text": [
            "100%|██████████| 2/2 [00:01<00:00,  1.40it/s]"
          ]
        },
        {
          "output_type": "stream",
          "name": "stdout",
          "text": [
            "2023-10-18 10:02:15,052 Evaluating as a multi-label problem: False\n",
            "2023-10-18 10:02:15,073 DEV : loss 0.2662515640258789 - f1-score (micro avg)  0.8421\n",
            "2023-10-18 10:02:15,082 ----------------------------------------------------------------------------------------------------\n"
          ]
        },
        {
          "output_type": "stream",
          "name": "stderr",
          "text": [
            "\n"
          ]
        },
        {
          "output_type": "stream",
          "name": "stdout",
          "text": [
            "2023-10-18 10:02:15,965 epoch 34 - iter 1/6 - loss 0.00402824 - time (sec): 0.88 - samples/sec: 5109.99 - lr: 0.000039\n",
            "2023-10-18 10:02:16,513 epoch 34 - iter 2/6 - loss 0.00384110 - time (sec): 1.43 - samples/sec: 6597.90 - lr: 0.000039\n",
            "2023-10-18 10:02:16,918 epoch 34 - iter 3/6 - loss 0.00438343 - time (sec): 1.83 - samples/sec: 7405.03 - lr: 0.000039\n",
            "2023-10-18 10:02:17,368 epoch 34 - iter 4/6 - loss 0.00408111 - time (sec): 2.28 - samples/sec: 7948.38 - lr: 0.000039\n",
            "2023-10-18 10:02:17,817 epoch 34 - iter 5/6 - loss 0.00373704 - time (sec): 2.73 - samples/sec: 8401.52 - lr: 0.000039\n",
            "2023-10-18 10:02:18,222 epoch 34 - iter 6/6 - loss 0.00419635 - time (sec): 3.14 - samples/sec: 8816.11 - lr: 0.000039\n",
            "2023-10-18 10:02:18,224 ----------------------------------------------------------------------------------------------------\n",
            "2023-10-18 10:02:18,227 EPOCH 34 done: loss 0.0042 - lr 0.000039\n"
          ]
        },
        {
          "output_type": "stream",
          "name": "stderr",
          "text": [
            "100%|██████████| 2/2 [00:01<00:00,  1.42it/s]"
          ]
        },
        {
          "output_type": "stream",
          "name": "stdout",
          "text": [
            "2023-10-18 10:02:19,652 Evaluating as a multi-label problem: False\n",
            "2023-10-18 10:02:19,670 DEV : loss 0.27105820178985596 - f1-score (micro avg)  0.8571\n",
            "2023-10-18 10:02:19,684 ----------------------------------------------------------------------------------------------------\n"
          ]
        },
        {
          "output_type": "stream",
          "name": "stderr",
          "text": [
            "\n"
          ]
        },
        {
          "output_type": "stream",
          "name": "stdout",
          "text": [
            "2023-10-18 10:02:20,203 epoch 35 - iter 1/6 - loss 0.00280950 - time (sec): 0.52 - samples/sec: 9569.19 - lr: 0.000039\n",
            "2023-10-18 10:02:20,621 epoch 35 - iter 2/6 - loss 0.00811069 - time (sec): 0.94 - samples/sec: 10200.89 - lr: 0.000039\n",
            "2023-10-18 10:02:21,210 epoch 35 - iter 3/6 - loss 0.00911830 - time (sec): 1.52 - samples/sec: 10127.84 - lr: 0.000039\n",
            "2023-10-18 10:02:21,726 epoch 35 - iter 4/6 - loss 0.00774476 - time (sec): 2.04 - samples/sec: 9670.04 - lr: 0.000039\n",
            "2023-10-18 10:02:22,161 epoch 35 - iter 5/6 - loss 0.00748979 - time (sec): 2.47 - samples/sec: 9500.07 - lr: 0.000039\n",
            "2023-10-18 10:02:22,654 epoch 35 - iter 6/6 - loss 0.00682483 - time (sec): 2.97 - samples/sec: 9319.86 - lr: 0.000039\n",
            "2023-10-18 10:02:22,660 ----------------------------------------------------------------------------------------------------\n",
            "2023-10-18 10:02:22,664 EPOCH 35 done: loss 0.0068 - lr 0.000039\n"
          ]
        },
        {
          "output_type": "stream",
          "name": "stderr",
          "text": [
            "100%|██████████| 2/2 [00:03<00:00,  1.59s/it]"
          ]
        },
        {
          "output_type": "stream",
          "name": "stdout",
          "text": [
            "2023-10-18 10:02:25,850 Evaluating as a multi-label problem: False\n",
            "2023-10-18 10:02:25,878 DEV : loss 0.2703893482685089 - f1-score (micro avg)  0.8382\n",
            "2023-10-18 10:02:25,891 ----------------------------------------------------------------------------------------------------\n"
          ]
        },
        {
          "output_type": "stream",
          "name": "stderr",
          "text": [
            "\n"
          ]
        },
        {
          "output_type": "stream",
          "name": "stdout",
          "text": [
            "2023-10-18 10:02:26,489 epoch 36 - iter 1/6 - loss 0.00631321 - time (sec): 0.60 - samples/sec: 8205.73 - lr: 0.000038\n",
            "2023-10-18 10:02:27,101 epoch 36 - iter 2/6 - loss 0.00434945 - time (sec): 1.21 - samples/sec: 8144.66 - lr: 0.000038\n",
            "2023-10-18 10:02:27,712 epoch 36 - iter 3/6 - loss 0.00354964 - time (sec): 1.82 - samples/sec: 8343.07 - lr: 0.000038\n",
            "2023-10-18 10:02:28,165 epoch 36 - iter 4/6 - loss 0.00332964 - time (sec): 2.27 - samples/sec: 8705.45 - lr: 0.000038\n",
            "2023-10-18 10:02:28,537 epoch 36 - iter 5/6 - loss 0.00331896 - time (sec): 2.64 - samples/sec: 8969.05 - lr: 0.000038\n",
            "2023-10-18 10:02:28,900 epoch 36 - iter 6/6 - loss 0.00357302 - time (sec): 3.01 - samples/sec: 9198.43 - lr: 0.000038\n",
            "2023-10-18 10:02:28,903 ----------------------------------------------------------------------------------------------------\n",
            "2023-10-18 10:02:28,908 EPOCH 36 done: loss 0.0036 - lr 0.000038\n"
          ]
        },
        {
          "output_type": "stream",
          "name": "stderr",
          "text": [
            "100%|██████████| 2/2 [00:01<00:00,  1.37it/s]"
          ]
        },
        {
          "output_type": "stream",
          "name": "stdout",
          "text": [
            "2023-10-18 10:02:30,377 Evaluating as a multi-label problem: False\n",
            "2023-10-18 10:02:30,397 DEV : loss 0.2742486894130707 - f1-score (micro avg)  0.8652\n",
            "2023-10-18 10:02:30,408 ----------------------------------------------------------------------------------------------------\n"
          ]
        },
        {
          "output_type": "stream",
          "name": "stderr",
          "text": [
            "\n"
          ]
        },
        {
          "output_type": "stream",
          "name": "stdout",
          "text": [
            "2023-10-18 10:02:30,875 epoch 37 - iter 1/6 - loss 0.00519695 - time (sec): 0.47 - samples/sec: 10222.92 - lr: 0.000038\n",
            "2023-10-18 10:02:31,787 epoch 37 - iter 2/6 - loss 0.00402111 - time (sec): 1.38 - samples/sec: 7381.12 - lr: 0.000038\n",
            "2023-10-18 10:02:32,255 epoch 37 - iter 3/6 - loss 0.00330067 - time (sec): 1.85 - samples/sec: 8148.06 - lr: 0.000038\n",
            "2023-10-18 10:02:32,702 epoch 37 - iter 4/6 - loss 0.00317444 - time (sec): 2.29 - samples/sec: 8512.89 - lr: 0.000038\n",
            "2023-10-18 10:02:33,073 epoch 37 - iter 5/6 - loss 0.00439796 - time (sec): 2.66 - samples/sec: 8972.84 - lr: 0.000038\n",
            "2023-10-18 10:02:33,445 epoch 37 - iter 6/6 - loss 0.00453853 - time (sec): 3.04 - samples/sec: 9111.64 - lr: 0.000038\n",
            "2023-10-18 10:02:33,448 ----------------------------------------------------------------------------------------------------\n",
            "2023-10-18 10:02:33,450 EPOCH 37 done: loss 0.0045 - lr 0.000038\n"
          ]
        },
        {
          "output_type": "stream",
          "name": "stderr",
          "text": [
            "100%|██████████| 2/2 [00:01<00:00,  1.40it/s]"
          ]
        },
        {
          "output_type": "stream",
          "name": "stdout",
          "text": [
            "2023-10-18 10:02:34,889 Evaluating as a multi-label problem: False\n",
            "2023-10-18 10:02:34,911 DEV : loss 0.31110599637031555 - f1-score (micro avg)  0.8526\n",
            "2023-10-18 10:02:34,921 ----------------------------------------------------------------------------------------------------\n"
          ]
        },
        {
          "output_type": "stream",
          "name": "stderr",
          "text": [
            "\n"
          ]
        },
        {
          "output_type": "stream",
          "name": "stdout",
          "text": [
            "2023-10-18 10:02:35,370 epoch 38 - iter 1/6 - loss 0.00423488 - time (sec): 0.45 - samples/sec: 10137.18 - lr: 0.000037\n",
            "2023-10-18 10:02:35,819 epoch 38 - iter 2/6 - loss 0.00306902 - time (sec): 0.90 - samples/sec: 10380.41 - lr: 0.000037\n",
            "2023-10-18 10:02:36,268 epoch 38 - iter 3/6 - loss 0.00685850 - time (sec): 1.35 - samples/sec: 10341.24 - lr: 0.000037\n",
            "2023-10-18 10:02:36,728 epoch 38 - iter 4/6 - loss 0.00567347 - time (sec): 1.81 - samples/sec: 10043.08 - lr: 0.000037\n",
            "2023-10-18 10:02:37,161 epoch 38 - iter 5/6 - loss 0.00505246 - time (sec): 2.24 - samples/sec: 10181.82 - lr: 0.000037\n",
            "2023-10-18 10:02:37,607 epoch 38 - iter 6/6 - loss 0.00508433 - time (sec): 2.68 - samples/sec: 10303.38 - lr: 0.000037\n",
            "2023-10-18 10:02:37,613 ----------------------------------------------------------------------------------------------------\n",
            "2023-10-18 10:02:37,614 EPOCH 38 done: loss 0.0051 - lr 0.000037\n"
          ]
        },
        {
          "output_type": "stream",
          "name": "stderr",
          "text": [
            "100%|██████████| 2/2 [00:02<00:00,  1.38s/it]"
          ]
        },
        {
          "output_type": "stream",
          "name": "stdout",
          "text": [
            "2023-10-18 10:02:40,377 Evaluating as a multi-label problem: False\n",
            "2023-10-18 10:02:40,410 DEV : loss 0.2925010919570923 - f1-score (micro avg)  0.8625\n",
            "2023-10-18 10:02:40,427 ----------------------------------------------------------------------------------------------------\n"
          ]
        },
        {
          "output_type": "stream",
          "name": "stderr",
          "text": [
            "\n"
          ]
        },
        {
          "output_type": "stream",
          "name": "stdout",
          "text": [
            "2023-10-18 10:02:40,941 epoch 39 - iter 1/6 - loss 0.00324118 - time (sec): 0.51 - samples/sec: 9204.78 - lr: 0.000037\n",
            "2023-10-18 10:02:41,503 epoch 39 - iter 2/6 - loss 0.00318904 - time (sec): 1.07 - samples/sec: 8696.69 - lr: 0.000037\n",
            "2023-10-18 10:02:42,120 epoch 39 - iter 3/6 - loss 0.00243088 - time (sec): 1.69 - samples/sec: 8434.66 - lr: 0.000037\n",
            "2023-10-18 10:02:42,738 epoch 39 - iter 4/6 - loss 0.00231363 - time (sec): 2.30 - samples/sec: 8342.55 - lr: 0.000037\n",
            "2023-10-18 10:02:43,264 epoch 39 - iter 5/6 - loss 0.00212159 - time (sec): 2.83 - samples/sec: 8417.12 - lr: 0.000037\n",
            "2023-10-18 10:02:43,802 epoch 39 - iter 6/6 - loss 0.00212822 - time (sec): 3.37 - samples/sec: 8214.53 - lr: 0.000037\n",
            "2023-10-18 10:02:43,810 ----------------------------------------------------------------------------------------------------\n",
            "2023-10-18 10:02:43,812 EPOCH 39 done: loss 0.0021 - lr 0.000037\n"
          ]
        },
        {
          "output_type": "stream",
          "name": "stderr",
          "text": [
            "100%|██████████| 2/2 [00:01<00:00,  1.23it/s]"
          ]
        },
        {
          "output_type": "stream",
          "name": "stdout",
          "text": [
            "2023-10-18 10:02:45,449 Evaluating as a multi-label problem: False\n",
            "2023-10-18 10:02:45,469 DEV : loss 0.2929968237876892 - f1-score (micro avg)  0.852\n",
            "2023-10-18 10:02:45,480 ----------------------------------------------------------------------------------------------------\n"
          ]
        },
        {
          "output_type": "stream",
          "name": "stderr",
          "text": [
            "\n"
          ]
        },
        {
          "output_type": "stream",
          "name": "stdout",
          "text": [
            "2023-10-18 10:02:46,363 epoch 40 - iter 1/6 - loss 0.00179703 - time (sec): 0.88 - samples/sec: 5763.62 - lr: 0.000037\n",
            "2023-10-18 10:02:46,873 epoch 40 - iter 2/6 - loss 0.00194699 - time (sec): 1.39 - samples/sec: 7449.65 - lr: 0.000036\n",
            "2023-10-18 10:02:47,310 epoch 40 - iter 3/6 - loss 0.00169557 - time (sec): 1.83 - samples/sec: 8070.54 - lr: 0.000036\n",
            "2023-10-18 10:02:47,718 epoch 40 - iter 4/6 - loss 0.00154975 - time (sec): 2.24 - samples/sec: 8483.32 - lr: 0.000036\n",
            "2023-10-18 10:02:48,088 epoch 40 - iter 5/6 - loss 0.00194804 - time (sec): 2.61 - samples/sec: 8791.73 - lr: 0.000036\n",
            "2023-10-18 10:02:48,517 epoch 40 - iter 6/6 - loss 0.00274614 - time (sec): 3.03 - samples/sec: 9115.49 - lr: 0.000036\n",
            "2023-10-18 10:02:48,520 ----------------------------------------------------------------------------------------------------\n",
            "2023-10-18 10:02:48,521 EPOCH 40 done: loss 0.0027 - lr 0.000036\n"
          ]
        },
        {
          "output_type": "stream",
          "name": "stderr",
          "text": [
            "100%|██████████| 2/2 [00:01<00:00,  1.36it/s]"
          ]
        },
        {
          "output_type": "stream",
          "name": "stdout",
          "text": [
            "2023-10-18 10:02:50,005 Evaluating as a multi-label problem: False\n",
            "2023-10-18 10:02:50,037 DEV : loss 0.2835257351398468 - f1-score (micro avg)  0.8565\n",
            "2023-10-18 10:02:50,049 ----------------------------------------------------------------------------------------------------\n"
          ]
        },
        {
          "output_type": "stream",
          "name": "stderr",
          "text": [
            "\n"
          ]
        },
        {
          "output_type": "stream",
          "name": "stdout",
          "text": [
            "2023-10-18 10:02:50,522 epoch 41 - iter 1/6 - loss 0.00145927 - time (sec): 0.47 - samples/sec: 9841.12 - lr: 0.000036\n",
            "2023-10-18 10:02:50,975 epoch 41 - iter 2/6 - loss 0.00143558 - time (sec): 0.92 - samples/sec: 10696.04 - lr: 0.000036\n",
            "2023-10-18 10:02:51,375 epoch 41 - iter 3/6 - loss 0.00238100 - time (sec): 1.32 - samples/sec: 10765.59 - lr: 0.000036\n",
            "2023-10-18 10:02:51,795 epoch 41 - iter 4/6 - loss 0.00314514 - time (sec): 1.74 - samples/sec: 10508.49 - lr: 0.000036\n",
            "2023-10-18 10:02:52,233 epoch 41 - iter 5/6 - loss 0.00490574 - time (sec): 2.18 - samples/sec: 10720.77 - lr: 0.000036\n",
            "2023-10-18 10:02:52,654 epoch 41 - iter 6/6 - loss 0.00500244 - time (sec): 2.60 - samples/sec: 10635.36 - lr: 0.000036\n",
            "2023-10-18 10:02:52,657 ----------------------------------------------------------------------------------------------------\n",
            "2023-10-18 10:02:52,659 EPOCH 41 done: loss 0.0050 - lr 0.000036\n"
          ]
        },
        {
          "output_type": "stream",
          "name": "stderr",
          "text": [
            "100%|██████████| 2/2 [00:01<00:00,  1.42it/s]"
          ]
        },
        {
          "output_type": "stream",
          "name": "stdout",
          "text": [
            "2023-10-18 10:02:54,085 Evaluating as a multi-label problem: False\n",
            "2023-10-18 10:02:54,106 DEV : loss 0.34069615602493286 - f1-score (micro avg)  0.8608\n",
            "2023-10-18 10:02:54,123 ----------------------------------------------------------------------------------------------------\n"
          ]
        },
        {
          "output_type": "stream",
          "name": "stderr",
          "text": [
            "\n"
          ]
        },
        {
          "output_type": "stream",
          "name": "stdout",
          "text": [
            "2023-10-18 10:02:54,703 epoch 42 - iter 1/6 - loss 0.00260178 - time (sec): 0.58 - samples/sec: 9196.75 - lr: 0.000036\n",
            "2023-10-18 10:02:55,271 epoch 42 - iter 2/6 - loss 0.00461283 - time (sec): 1.15 - samples/sec: 8965.05 - lr: 0.000035\n",
            "2023-10-18 10:02:55,892 epoch 42 - iter 3/6 - loss 0.00431496 - time (sec): 1.77 - samples/sec: 8731.06 - lr: 0.000035\n",
            "2023-10-18 10:02:56,381 epoch 42 - iter 4/6 - loss 0.00359625 - time (sec): 2.26 - samples/sec: 8466.80 - lr: 0.000035\n",
            "2023-10-18 10:02:56,917 epoch 42 - iter 5/6 - loss 0.00325202 - time (sec): 2.79 - samples/sec: 8321.11 - lr: 0.000035\n",
            "2023-10-18 10:02:57,436 epoch 42 - iter 6/6 - loss 0.00301678 - time (sec): 3.31 - samples/sec: 8355.47 - lr: 0.000035\n",
            "2023-10-18 10:02:57,439 ----------------------------------------------------------------------------------------------------\n",
            "2023-10-18 10:02:57,442 EPOCH 42 done: loss 0.0030 - lr 0.000035\n"
          ]
        },
        {
          "output_type": "stream",
          "name": "stderr",
          "text": [
            "100%|██████████| 2/2 [00:02<00:00,  1.31s/it]"
          ]
        },
        {
          "output_type": "stream",
          "name": "stdout",
          "text": [
            "2023-10-18 10:03:00,073 Evaluating as a multi-label problem: False\n",
            "2023-10-18 10:03:00,106 DEV : loss 0.3200873136520386 - f1-score (micro avg)  0.8555\n",
            "2023-10-18 10:03:00,120 ----------------------------------------------------------------------------------------------------\n"
          ]
        },
        {
          "output_type": "stream",
          "name": "stderr",
          "text": [
            "\n"
          ]
        },
        {
          "output_type": "stream",
          "name": "stdout",
          "text": [
            "2023-10-18 10:03:01,252 epoch 43 - iter 1/6 - loss 0.00117176 - time (sec): 1.13 - samples/sec: 3821.66 - lr: 0.000035\n",
            "2023-10-18 10:03:01,698 epoch 43 - iter 2/6 - loss 0.00606141 - time (sec): 1.58 - samples/sec: 5751.97 - lr: 0.000035\n",
            "2023-10-18 10:03:02,153 epoch 43 - iter 3/6 - loss 0.00451461 - time (sec): 2.03 - samples/sec: 6928.17 - lr: 0.000035\n",
            "2023-10-18 10:03:02,699 epoch 43 - iter 4/6 - loss 0.00399150 - time (sec): 2.58 - samples/sec: 7578.69 - lr: 0.000035\n",
            "2023-10-18 10:03:03,098 epoch 43 - iter 5/6 - loss 0.00413616 - time (sec): 2.98 - samples/sec: 7880.85 - lr: 0.000035\n",
            "2023-10-18 10:03:03,464 epoch 43 - iter 6/6 - loss 0.00364329 - time (sec): 3.34 - samples/sec: 8278.64 - lr: 0.000035\n",
            "2023-10-18 10:03:03,466 ----------------------------------------------------------------------------------------------------\n",
            "2023-10-18 10:03:03,468 EPOCH 43 done: loss 0.0036 - lr 0.000035\n"
          ]
        },
        {
          "output_type": "stream",
          "name": "stderr",
          "text": [
            "100%|██████████| 2/2 [00:01<00:00,  1.42it/s]"
          ]
        },
        {
          "output_type": "stream",
          "name": "stdout",
          "text": [
            "2023-10-18 10:03:04,890 Evaluating as a multi-label problem: False\n",
            "2023-10-18 10:03:04,910 DEV : loss 0.2906413674354553 - f1-score (micro avg)  0.8522\n",
            "2023-10-18 10:03:04,919 ----------------------------------------------------------------------------------------------------\n"
          ]
        },
        {
          "output_type": "stream",
          "name": "stderr",
          "text": [
            "\n"
          ]
        },
        {
          "output_type": "stream",
          "name": "stdout",
          "text": [
            "2023-10-18 10:03:05,351 epoch 44 - iter 1/6 - loss 0.00112051 - time (sec): 0.43 - samples/sec: 10095.63 - lr: 0.000035\n",
            "2023-10-18 10:03:05,845 epoch 44 - iter 2/6 - loss 0.00231373 - time (sec): 0.92 - samples/sec: 10107.34 - lr: 0.000034\n",
            "2023-10-18 10:03:06,255 epoch 44 - iter 3/6 - loss 0.00210799 - time (sec): 1.33 - samples/sec: 10277.78 - lr: 0.000034\n",
            "2023-10-18 10:03:06,741 epoch 44 - iter 4/6 - loss 0.00213987 - time (sec): 1.82 - samples/sec: 10318.19 - lr: 0.000034\n",
            "2023-10-18 10:03:07,182 epoch 44 - iter 5/6 - loss 0.00202677 - time (sec): 2.26 - samples/sec: 10396.50 - lr: 0.000034\n",
            "2023-10-18 10:03:07,595 epoch 44 - iter 6/6 - loss 0.00192994 - time (sec): 2.67 - samples/sec: 10347.33 - lr: 0.000034\n",
            "2023-10-18 10:03:07,597 ----------------------------------------------------------------------------------------------------\n",
            "2023-10-18 10:03:07,601 EPOCH 44 done: loss 0.0019 - lr 0.000034\n"
          ]
        },
        {
          "output_type": "stream",
          "name": "stderr",
          "text": [
            "100%|██████████| 2/2 [00:01<00:00,  1.41it/s]"
          ]
        },
        {
          "output_type": "stream",
          "name": "stdout",
          "text": [
            "2023-10-18 10:03:09,030 Evaluating as a multi-label problem: False\n",
            "2023-10-18 10:03:09,054 DEV : loss 0.3050708472728729 - f1-score (micro avg)  0.8509\n",
            "2023-10-18 10:03:09,064 ----------------------------------------------------------------------------------------------------\n"
          ]
        },
        {
          "output_type": "stream",
          "name": "stderr",
          "text": [
            "\n"
          ]
        },
        {
          "output_type": "stream",
          "name": "stdout",
          "text": [
            "2023-10-18 10:03:09,472 epoch 45 - iter 1/6 - loss 0.00063052 - time (sec): 0.41 - samples/sec: 10084.41 - lr: 0.000034\n",
            "2023-10-18 10:03:09,888 epoch 45 - iter 2/6 - loss 0.00050572 - time (sec): 0.82 - samples/sec: 10329.12 - lr: 0.000034\n",
            "2023-10-18 10:03:10,414 epoch 45 - iter 3/6 - loss 0.00145155 - time (sec): 1.35 - samples/sec: 10197.22 - lr: 0.000034\n",
            "2023-10-18 10:03:10,927 epoch 45 - iter 4/6 - loss 0.00138539 - time (sec): 1.86 - samples/sec: 10240.36 - lr: 0.000034\n",
            "2023-10-18 10:03:11,390 epoch 45 - iter 5/6 - loss 0.00142472 - time (sec): 2.32 - samples/sec: 10233.83 - lr: 0.000034\n",
            "2023-10-18 10:03:11,821 epoch 45 - iter 6/6 - loss 0.00140611 - time (sec): 2.76 - samples/sec: 10039.04 - lr: 0.000034\n",
            "2023-10-18 10:03:11,830 ----------------------------------------------------------------------------------------------------\n",
            "2023-10-18 10:03:11,832 EPOCH 45 done: loss 0.0014 - lr 0.000034\n"
          ]
        },
        {
          "output_type": "stream",
          "name": "stderr",
          "text": [
            "100%|██████████| 2/2 [00:02<00:00,  1.35s/it]"
          ]
        },
        {
          "output_type": "stream",
          "name": "stdout",
          "text": [
            "2023-10-18 10:03:14,532 Evaluating as a multi-label problem: False\n",
            "2023-10-18 10:03:14,563 DEV : loss 0.3231349289417267 - f1-score (micro avg)  0.841\n",
            "2023-10-18 10:03:14,576 ----------------------------------------------------------------------------------------------------\n"
          ]
        },
        {
          "output_type": "stream",
          "name": "stderr",
          "text": [
            "\n"
          ]
        },
        {
          "output_type": "stream",
          "name": "stdout",
          "text": [
            "2023-10-18 10:03:15,108 epoch 46 - iter 1/6 - loss 0.00048128 - time (sec): 0.53 - samples/sec: 7804.84 - lr: 0.000034\n",
            "2023-10-18 10:03:15,657 epoch 46 - iter 2/6 - loss 0.00104471 - time (sec): 1.08 - samples/sec: 8114.73 - lr: 0.000034\n",
            "2023-10-18 10:03:16,813 epoch 46 - iter 3/6 - loss 0.00079002 - time (sec): 2.24 - samples/sec: 6231.42 - lr: 0.000033\n",
            "2023-10-18 10:03:17,385 epoch 46 - iter 4/6 - loss 0.00067874 - time (sec): 2.81 - samples/sec: 6706.69 - lr: 0.000033\n",
            "2023-10-18 10:03:18,027 epoch 46 - iter 5/6 - loss 0.00132286 - time (sec): 3.45 - samples/sec: 7026.26 - lr: 0.000033\n",
            "2023-10-18 10:03:18,446 epoch 46 - iter 6/6 - loss 0.00125404 - time (sec): 3.87 - samples/sec: 7152.43 - lr: 0.000033\n",
            "2023-10-18 10:03:18,448 ----------------------------------------------------------------------------------------------------\n",
            "2023-10-18 10:03:18,451 EPOCH 46 done: loss 0.0013 - lr 0.000033\n"
          ]
        },
        {
          "output_type": "stream",
          "name": "stderr",
          "text": [
            "100%|██████████| 2/2 [00:01<00:00,  1.31it/s]"
          ]
        },
        {
          "output_type": "stream",
          "name": "stdout",
          "text": [
            "2023-10-18 10:03:20,000 Evaluating as a multi-label problem: False\n",
            "2023-10-18 10:03:20,019 DEV : loss 0.35846155881881714 - f1-score (micro avg)  0.8455\n",
            "2023-10-18 10:03:20,031 ----------------------------------------------------------------------------------------------------\n"
          ]
        },
        {
          "output_type": "stream",
          "name": "stderr",
          "text": [
            "\n"
          ]
        },
        {
          "output_type": "stream",
          "name": "stdout",
          "text": [
            "2023-10-18 10:03:20,563 epoch 47 - iter 1/6 - loss 0.00048599 - time (sec): 0.53 - samples/sec: 9329.97 - lr: 0.000033\n",
            "2023-10-18 10:03:20,898 epoch 47 - iter 2/6 - loss 0.00054519 - time (sec): 0.86 - samples/sec: 9435.25 - lr: 0.000033\n",
            "2023-10-18 10:03:21,402 epoch 47 - iter 3/6 - loss 0.00064787 - time (sec): 1.37 - samples/sec: 9947.61 - lr: 0.000033\n",
            "2023-10-18 10:03:21,821 epoch 47 - iter 4/6 - loss 0.00064132 - time (sec): 1.79 - samples/sec: 10279.63 - lr: 0.000033\n",
            "2023-10-18 10:03:22,214 epoch 47 - iter 5/6 - loss 0.00082217 - time (sec): 2.18 - samples/sec: 10335.48 - lr: 0.000033\n",
            "2023-10-18 10:03:22,681 epoch 47 - iter 6/6 - loss 0.00136247 - time (sec): 2.65 - samples/sec: 10449.32 - lr: 0.000033\n",
            "2023-10-18 10:03:22,683 ----------------------------------------------------------------------------------------------------\n",
            "2023-10-18 10:03:22,688 EPOCH 47 done: loss 0.0014 - lr 0.000033\n"
          ]
        },
        {
          "output_type": "stream",
          "name": "stderr",
          "text": [
            "100%|██████████| 2/2 [00:01<00:00,  1.35it/s]"
          ]
        },
        {
          "output_type": "stream",
          "name": "stdout",
          "text": [
            "2023-10-18 10:03:24,187 Evaluating as a multi-label problem: False\n",
            "2023-10-18 10:03:24,207 DEV : loss 0.35138991475105286 - f1-score (micro avg)  0.8585\n",
            "2023-10-18 10:03:24,220 ----------------------------------------------------------------------------------------------------\n"
          ]
        },
        {
          "output_type": "stream",
          "name": "stderr",
          "text": [
            "\n"
          ]
        },
        {
          "output_type": "stream",
          "name": "stdout",
          "text": [
            "2023-10-18 10:03:24,653 epoch 48 - iter 1/6 - loss 0.00226318 - time (sec): 0.43 - samples/sec: 10906.31 - lr: 0.000033\n",
            "2023-10-18 10:03:25,057 epoch 48 - iter 2/6 - loss 0.00292132 - time (sec): 0.84 - samples/sec: 10831.02 - lr: 0.000033\n",
            "2023-10-18 10:03:25,497 epoch 48 - iter 3/6 - loss 0.00228610 - time (sec): 1.28 - samples/sec: 10524.29 - lr: 0.000032\n",
            "2023-10-18 10:03:25,909 epoch 48 - iter 4/6 - loss 0.00186542 - time (sec): 1.69 - samples/sec: 10558.76 - lr: 0.000032\n",
            "2023-10-18 10:03:26,351 epoch 48 - iter 5/6 - loss 0.00206076 - time (sec): 2.13 - samples/sec: 10547.46 - lr: 0.000032\n",
            "2023-10-18 10:03:26,811 epoch 48 - iter 6/6 - loss 0.00186391 - time (sec): 2.59 - samples/sec: 10681.81 - lr: 0.000032\n",
            "2023-10-18 10:03:26,814 ----------------------------------------------------------------------------------------------------\n",
            "2023-10-18 10:03:26,820 EPOCH 48 done: loss 0.0019 - lr 0.000032\n"
          ]
        },
        {
          "output_type": "stream",
          "name": "stderr",
          "text": [
            "100%|██████████| 2/2 [00:01<00:00,  1.16it/s]"
          ]
        },
        {
          "output_type": "stream",
          "name": "stdout",
          "text": [
            "2023-10-18 10:03:28,564 Evaluating as a multi-label problem: False\n",
            "2023-10-18 10:03:28,596 DEV : loss 0.3677857220172882 - f1-score (micro avg)  0.8516\n",
            "2023-10-18 10:03:28,615 ----------------------------------------------------------------------------------------------------\n"
          ]
        },
        {
          "output_type": "stream",
          "name": "stderr",
          "text": [
            "\n"
          ]
        },
        {
          "output_type": "stream",
          "name": "stdout",
          "text": [
            "2023-10-18 10:03:29,804 epoch 49 - iter 1/6 - loss 0.00046468 - time (sec): 1.19 - samples/sec: 4623.77 - lr: 0.000032\n",
            "2023-10-18 10:03:30,369 epoch 49 - iter 2/6 - loss 0.00085364 - time (sec): 1.75 - samples/sec: 5655.36 - lr: 0.000032\n",
            "2023-10-18 10:03:30,891 epoch 49 - iter 3/6 - loss 0.00106057 - time (sec): 2.27 - samples/sec: 6381.94 - lr: 0.000032\n",
            "2023-10-18 10:03:31,407 epoch 49 - iter 4/6 - loss 0.00127040 - time (sec): 2.79 - samples/sec: 6773.88 - lr: 0.000032\n",
            "2023-10-18 10:03:31,930 epoch 49 - iter 5/6 - loss 0.00117580 - time (sec): 3.31 - samples/sec: 7002.07 - lr: 0.000032\n",
            "2023-10-18 10:03:32,503 epoch 49 - iter 6/6 - loss 0.00108366 - time (sec): 3.89 - samples/sec: 7118.86 - lr: 0.000032\n",
            "2023-10-18 10:03:32,510 ----------------------------------------------------------------------------------------------------\n",
            "2023-10-18 10:03:32,516 EPOCH 49 done: loss 0.0011 - lr 0.000032\n"
          ]
        },
        {
          "output_type": "stream",
          "name": "stderr",
          "text": [
            "100%|██████████| 2/2 [00:02<00:00,  1.17s/it]"
          ]
        },
        {
          "output_type": "stream",
          "name": "stdout",
          "text": [
            "2023-10-18 10:03:34,862 Evaluating as a multi-label problem: False\n",
            "2023-10-18 10:03:34,880 DEV : loss 0.3455919921398163 - f1-score (micro avg)  0.8561\n",
            "2023-10-18 10:03:34,891 ----------------------------------------------------------------------------------------------------\n"
          ]
        },
        {
          "output_type": "stream",
          "name": "stderr",
          "text": [
            "\n"
          ]
        },
        {
          "output_type": "stream",
          "name": "stdout",
          "text": [
            "2023-10-18 10:03:35,361 epoch 50 - iter 1/6 - loss 0.00069062 - time (sec): 0.47 - samples/sec: 10620.83 - lr: 0.000032\n",
            "2023-10-18 10:03:35,829 epoch 50 - iter 2/6 - loss 0.00048710 - time (sec): 0.94 - samples/sec: 10561.83 - lr: 0.000032\n",
            "2023-10-18 10:03:36,312 epoch 50 - iter 3/6 - loss 0.00108239 - time (sec): 1.42 - samples/sec: 10126.18 - lr: 0.000032\n",
            "2023-10-18 10:03:36,739 epoch 50 - iter 4/6 - loss 0.00092446 - time (sec): 1.85 - samples/sec: 10093.58 - lr: 0.000031\n",
            "2023-10-18 10:03:37,226 epoch 50 - iter 5/6 - loss 0.00098348 - time (sec): 2.33 - samples/sec: 10210.20 - lr: 0.000031\n",
            "2023-10-18 10:03:37,605 epoch 50 - iter 6/6 - loss 0.00136094 - time (sec): 2.71 - samples/sec: 10198.64 - lr: 0.000031\n",
            "2023-10-18 10:03:37,607 ----------------------------------------------------------------------------------------------------\n",
            "2023-10-18 10:03:37,611 EPOCH 50 done: loss 0.0014 - lr 0.000031\n"
          ]
        },
        {
          "output_type": "stream",
          "name": "stderr",
          "text": [
            "100%|██████████| 2/2 [00:01<00:00,  1.43it/s]"
          ]
        },
        {
          "output_type": "stream",
          "name": "stdout",
          "text": [
            "2023-10-18 10:03:39,028 Evaluating as a multi-label problem: False\n",
            "2023-10-18 10:03:39,047 DEV : loss 0.3748723864555359 - f1-score (micro avg)  0.8459\n",
            "2023-10-18 10:03:39,057 ----------------------------------------------------------------------------------------------------\n"
          ]
        },
        {
          "output_type": "stream",
          "name": "stderr",
          "text": [
            "\n"
          ]
        },
        {
          "output_type": "stream",
          "name": "stdout",
          "text": [
            "2023-10-18 10:03:39,568 epoch 51 - iter 1/6 - loss 0.00050437 - time (sec): 0.51 - samples/sec: 10201.80 - lr: 0.000031\n",
            "2023-10-18 10:03:39,967 epoch 51 - iter 2/6 - loss 0.00045878 - time (sec): 0.91 - samples/sec: 10548.63 - lr: 0.000031\n",
            "2023-10-18 10:03:40,382 epoch 51 - iter 3/6 - loss 0.00050647 - time (sec): 1.32 - samples/sec: 10416.10 - lr: 0.000031\n",
            "2023-10-18 10:03:40,833 epoch 51 - iter 4/6 - loss 0.00052039 - time (sec): 1.77 - samples/sec: 10488.10 - lr: 0.000031\n",
            "2023-10-18 10:03:41,256 epoch 51 - iter 5/6 - loss 0.00051395 - time (sec): 2.20 - samples/sec: 10303.85 - lr: 0.000031\n",
            "2023-10-18 10:03:41,703 epoch 51 - iter 6/6 - loss 0.00083177 - time (sec): 2.64 - samples/sec: 10459.28 - lr: 0.000031\n",
            "2023-10-18 10:03:41,705 ----------------------------------------------------------------------------------------------------\n",
            "2023-10-18 10:03:41,709 EPOCH 51 done: loss 0.0008 - lr 0.000031\n"
          ]
        },
        {
          "output_type": "stream",
          "name": "stderr",
          "text": [
            "100%|██████████| 2/2 [00:01<00:00,  1.39it/s]"
          ]
        },
        {
          "output_type": "stream",
          "name": "stdout",
          "text": [
            "2023-10-18 10:03:43,163 Evaluating as a multi-label problem: False\n",
            "2023-10-18 10:03:43,186 DEV : loss 0.374411940574646 - f1-score (micro avg)  0.8565\n",
            "2023-10-18 10:03:43,197 ----------------------------------------------------------------------------------------------------\n"
          ]
        },
        {
          "output_type": "stream",
          "name": "stderr",
          "text": [
            "\n"
          ]
        },
        {
          "output_type": "stream",
          "name": "stdout",
          "text": [
            "2023-10-18 10:03:43,635 epoch 52 - iter 1/6 - loss 0.00066020 - time (sec): 0.44 - samples/sec: 9836.32 - lr: 0.000031\n",
            "2023-10-18 10:03:44,528 epoch 52 - iter 2/6 - loss 0.00208150 - time (sec): 1.33 - samples/sec: 6953.09 - lr: 0.000031\n",
            "2023-10-18 10:03:44,991 epoch 52 - iter 3/6 - loss 0.00164688 - time (sec): 1.79 - samples/sec: 7378.35 - lr: 0.000031\n",
            "2023-10-18 10:03:45,533 epoch 52 - iter 4/6 - loss 0.00133424 - time (sec): 2.33 - samples/sec: 7604.00 - lr: 0.000030\n",
            "2023-10-18 10:03:46,010 epoch 52 - iter 5/6 - loss 0.00124005 - time (sec): 2.81 - samples/sec: 7878.94 - lr: 0.000030\n",
            "2023-10-18 10:03:46,619 epoch 52 - iter 6/6 - loss 0.00122243 - time (sec): 3.42 - samples/sec: 8085.20 - lr: 0.000030\n",
            "2023-10-18 10:03:46,626 ----------------------------------------------------------------------------------------------------\n",
            "2023-10-18 10:03:46,628 EPOCH 52 done: loss 0.0012 - lr 0.000030\n"
          ]
        },
        {
          "output_type": "stream",
          "name": "stderr",
          "text": [
            "100%|██████████| 2/2 [00:02<00:00,  1.33s/it]"
          ]
        },
        {
          "output_type": "stream",
          "name": "stdout",
          "text": [
            "2023-10-18 10:03:49,311 Evaluating as a multi-label problem: False\n",
            "2023-10-18 10:03:49,341 DEV : loss 0.3787347674369812 - f1-score (micro avg)  0.8562\n",
            "2023-10-18 10:03:49,359 ----------------------------------------------------------------------------------------------------\n"
          ]
        },
        {
          "output_type": "stream",
          "name": "stderr",
          "text": [
            "\n"
          ]
        },
        {
          "output_type": "stream",
          "name": "stdout",
          "text": [
            "2023-10-18 10:03:49,936 epoch 53 - iter 1/6 - loss 0.00044878 - time (sec): 0.57 - samples/sec: 7880.32 - lr: 0.000030\n",
            "2023-10-18 10:03:50,414 epoch 53 - iter 2/6 - loss 0.00236751 - time (sec): 1.05 - samples/sec: 8098.55 - lr: 0.000030\n",
            "2023-10-18 10:03:51,086 epoch 53 - iter 3/6 - loss 0.00163339 - time (sec): 1.72 - samples/sec: 7820.21 - lr: 0.000030\n",
            "2023-10-18 10:03:51,610 epoch 53 - iter 4/6 - loss 0.00255470 - time (sec): 2.25 - samples/sec: 8232.78 - lr: 0.000030\n",
            "2023-10-18 10:03:52,081 epoch 53 - iter 5/6 - loss 0.00237721 - time (sec): 2.72 - samples/sec: 8712.71 - lr: 0.000030\n",
            "2023-10-18 10:03:52,500 epoch 53 - iter 6/6 - loss 0.00251629 - time (sec): 3.14 - samples/sec: 8823.11 - lr: 0.000030\n",
            "2023-10-18 10:03:52,502 ----------------------------------------------------------------------------------------------------\n",
            "2023-10-18 10:03:52,506 EPOCH 53 done: loss 0.0025 - lr 0.000030\n"
          ]
        },
        {
          "output_type": "stream",
          "name": "stderr",
          "text": [
            "100%|██████████| 2/2 [00:01<00:00,  1.41it/s]"
          ]
        },
        {
          "output_type": "stream",
          "name": "stdout",
          "text": [
            "2023-10-18 10:03:53,947 Evaluating as a multi-label problem: False\n",
            "2023-10-18 10:03:53,970 DEV : loss 0.39376187324523926 - f1-score (micro avg)  0.8413\n",
            "2023-10-18 10:03:53,981 ----------------------------------------------------------------------------------------------------\n"
          ]
        },
        {
          "output_type": "stream",
          "name": "stderr",
          "text": [
            "\n"
          ]
        },
        {
          "output_type": "stream",
          "name": "stdout",
          "text": [
            "2023-10-18 10:03:54,416 epoch 54 - iter 1/6 - loss 0.00056484 - time (sec): 0.43 - samples/sec: 9767.13 - lr: 0.000030\n",
            "2023-10-18 10:03:54,780 epoch 54 - iter 2/6 - loss 0.00083091 - time (sec): 0.80 - samples/sec: 10561.71 - lr: 0.000030\n",
            "2023-10-18 10:03:55,223 epoch 54 - iter 3/6 - loss 0.00184198 - time (sec): 1.24 - samples/sec: 10512.08 - lr: 0.000030\n",
            "2023-10-18 10:03:55,734 epoch 54 - iter 4/6 - loss 0.00246241 - time (sec): 1.75 - samples/sec: 10145.99 - lr: 0.000029\n",
            "2023-10-18 10:03:56,226 epoch 54 - iter 5/6 - loss 0.00200180 - time (sec): 2.24 - samples/sec: 10245.72 - lr: 0.000029\n",
            "2023-10-18 10:03:56,644 epoch 54 - iter 6/6 - loss 0.00215671 - time (sec): 2.66 - samples/sec: 10394.57 - lr: 0.000029\n",
            "2023-10-18 10:03:56,646 ----------------------------------------------------------------------------------------------------\n",
            "2023-10-18 10:03:56,650 EPOCH 54 done: loss 0.0022 - lr 0.000029\n"
          ]
        },
        {
          "output_type": "stream",
          "name": "stderr",
          "text": [
            "100%|██████████| 2/2 [00:01<00:00,  1.40it/s]"
          ]
        },
        {
          "output_type": "stream",
          "name": "stdout",
          "text": [
            "2023-10-18 10:03:58,088 Evaluating as a multi-label problem: False\n",
            "2023-10-18 10:03:58,111 DEV : loss 0.35253244638442993 - f1-score (micro avg)  0.8486\n",
            "2023-10-18 10:03:58,124 ----------------------------------------------------------------------------------------------------\n"
          ]
        },
        {
          "output_type": "stream",
          "name": "stderr",
          "text": [
            "\n"
          ]
        },
        {
          "output_type": "stream",
          "name": "stdout",
          "text": [
            "2023-10-18 10:03:58,540 epoch 55 - iter 1/6 - loss 0.00021924 - time (sec): 0.41 - samples/sec: 9466.79 - lr: 0.000029\n",
            "2023-10-18 10:03:59,465 epoch 55 - iter 2/6 - loss 0.00027323 - time (sec): 1.34 - samples/sec: 6552.65 - lr: 0.000029\n",
            "2023-10-18 10:03:59,869 epoch 55 - iter 3/6 - loss 0.00072183 - time (sec): 1.74 - samples/sec: 7373.17 - lr: 0.000029\n",
            "2023-10-18 10:04:00,397 epoch 55 - iter 4/6 - loss 0.00080048 - time (sec): 2.27 - samples/sec: 8125.26 - lr: 0.000029\n",
            "2023-10-18 10:04:00,802 epoch 55 - iter 5/6 - loss 0.00070420 - time (sec): 2.68 - samples/sec: 8574.96 - lr: 0.000029\n",
            "2023-10-18 10:04:01,245 epoch 55 - iter 6/6 - loss 0.00100312 - time (sec): 3.12 - samples/sec: 8870.53 - lr: 0.000029\n",
            "2023-10-18 10:04:01,247 ----------------------------------------------------------------------------------------------------\n",
            "2023-10-18 10:04:01,249 EPOCH 55 done: loss 0.0010 - lr 0.000029\n"
          ]
        },
        {
          "output_type": "stream",
          "name": "stderr",
          "text": [
            "100%|██████████| 2/2 [00:02<00:00,  1.41s/it]"
          ]
        },
        {
          "output_type": "stream",
          "name": "stdout",
          "text": [
            "2023-10-18 10:04:04,075 Evaluating as a multi-label problem: False\n",
            "2023-10-18 10:04:04,106 DEV : loss 0.365475058555603 - f1-score (micro avg)  0.8542\n",
            "2023-10-18 10:04:04,121 ----------------------------------------------------------------------------------------------------\n"
          ]
        },
        {
          "output_type": "stream",
          "name": "stderr",
          "text": [
            "\n"
          ]
        },
        {
          "output_type": "stream",
          "name": "stdout",
          "text": [
            "2023-10-18 10:04:04,670 epoch 56 - iter 1/6 - loss 0.00032936 - time (sec): 0.55 - samples/sec: 7441.69 - lr: 0.000029\n",
            "2023-10-18 10:04:05,277 epoch 56 - iter 2/6 - loss 0.00068741 - time (sec): 1.15 - samples/sec: 8340.36 - lr: 0.000029\n",
            "2023-10-18 10:04:05,772 epoch 56 - iter 3/6 - loss 0.00102788 - time (sec): 1.65 - samples/sec: 8639.08 - lr: 0.000029\n",
            "2023-10-18 10:04:06,269 epoch 56 - iter 4/6 - loss 0.00084342 - time (sec): 2.15 - samples/sec: 8537.48 - lr: 0.000029\n",
            "2023-10-18 10:04:06,810 epoch 56 - iter 5/6 - loss 0.00105306 - time (sec): 2.69 - samples/sec: 8506.38 - lr: 0.000028\n",
            "2023-10-18 10:04:07,389 epoch 56 - iter 6/6 - loss 0.00102690 - time (sec): 3.27 - samples/sec: 8470.91 - lr: 0.000028\n",
            "2023-10-18 10:04:07,391 ----------------------------------------------------------------------------------------------------\n",
            "2023-10-18 10:04:07,397 EPOCH 56 done: loss 0.0010 - lr 0.000028\n"
          ]
        },
        {
          "output_type": "stream",
          "name": "stderr",
          "text": [
            "100%|██████████| 2/2 [00:01<00:00,  1.20it/s]"
          ]
        },
        {
          "output_type": "stream",
          "name": "stdout",
          "text": [
            "2023-10-18 10:04:09,082 Evaluating as a multi-label problem: False\n",
            "2023-10-18 10:04:09,110 DEV : loss 0.38227835297584534 - f1-score (micro avg)  0.8555\n",
            "2023-10-18 10:04:09,120 ----------------------------------------------------------------------------------------------------\n"
          ]
        },
        {
          "output_type": "stream",
          "name": "stderr",
          "text": [
            "\n"
          ]
        },
        {
          "output_type": "stream",
          "name": "stdout",
          "text": [
            "2023-10-18 10:04:09,553 epoch 57 - iter 1/6 - loss 0.00027680 - time (sec): 0.43 - samples/sec: 10790.87 - lr: 0.000028\n",
            "2023-10-18 10:04:10,338 epoch 57 - iter 2/6 - loss 0.00027869 - time (sec): 1.22 - samples/sec: 7448.82 - lr: 0.000028\n",
            "2023-10-18 10:04:10,772 epoch 57 - iter 3/6 - loss 0.00024282 - time (sec): 1.65 - samples/sec: 8200.59 - lr: 0.000028\n",
            "2023-10-18 10:04:11,247 epoch 57 - iter 4/6 - loss 0.00024395 - time (sec): 2.12 - samples/sec: 8701.65 - lr: 0.000028\n",
            "2023-10-18 10:04:11,709 epoch 57 - iter 5/6 - loss 0.00164512 - time (sec): 2.59 - samples/sec: 8964.35 - lr: 0.000028\n",
            "2023-10-18 10:04:12,137 epoch 57 - iter 6/6 - loss 0.00141750 - time (sec): 3.01 - samples/sec: 9176.33 - lr: 0.000028\n",
            "2023-10-18 10:04:12,139 ----------------------------------------------------------------------------------------------------\n",
            "2023-10-18 10:04:12,143 EPOCH 57 done: loss 0.0014 - lr 0.000028\n"
          ]
        },
        {
          "output_type": "stream",
          "name": "stderr",
          "text": [
            "100%|██████████| 2/2 [00:01<00:00,  1.39it/s]"
          ]
        },
        {
          "output_type": "stream",
          "name": "stdout",
          "text": [
            "2023-10-18 10:04:13,592 Evaluating as a multi-label problem: False\n",
            "2023-10-18 10:04:13,618 DEV : loss 0.3840878903865814 - f1-score (micro avg)  0.8539\n",
            "2023-10-18 10:04:13,630 ----------------------------------------------------------------------------------------------------\n"
          ]
        },
        {
          "output_type": "stream",
          "name": "stderr",
          "text": [
            "\n"
          ]
        },
        {
          "output_type": "stream",
          "name": "stdout",
          "text": [
            "2023-10-18 10:04:14,580 epoch 58 - iter 1/6 - loss 0.00023429 - time (sec): 0.95 - samples/sec: 5797.62 - lr: 0.000028\n",
            "2023-10-18 10:04:15,028 epoch 58 - iter 2/6 - loss 0.00021706 - time (sec): 1.40 - samples/sec: 6981.67 - lr: 0.000028\n",
            "2023-10-18 10:04:15,429 epoch 58 - iter 3/6 - loss 0.00027439 - time (sec): 1.80 - samples/sec: 7822.41 - lr: 0.000028\n",
            "2023-10-18 10:04:15,823 epoch 58 - iter 4/6 - loss 0.00057431 - time (sec): 2.19 - samples/sec: 8410.24 - lr: 0.000028\n",
            "2023-10-18 10:04:16,244 epoch 58 - iter 5/6 - loss 0.00049803 - time (sec): 2.61 - samples/sec: 8866.10 - lr: 0.000027\n",
            "2023-10-18 10:04:16,673 epoch 58 - iter 6/6 - loss 0.00047744 - time (sec): 3.04 - samples/sec: 9097.76 - lr: 0.000027\n",
            "2023-10-18 10:04:16,675 ----------------------------------------------------------------------------------------------------\n",
            "2023-10-18 10:04:16,678 EPOCH 58 done: loss 0.0005 - lr 0.000027\n"
          ]
        },
        {
          "output_type": "stream",
          "name": "stderr",
          "text": [
            "100%|██████████| 2/2 [00:01<00:00,  1.43it/s]"
          ]
        },
        {
          "output_type": "stream",
          "name": "stdout",
          "text": [
            "2023-10-18 10:04:18,092 Evaluating as a multi-label problem: False\n",
            "2023-10-18 10:04:18,114 DEV : loss 0.36115068197250366 - f1-score (micro avg)  0.8468\n",
            "2023-10-18 10:04:18,133 ----------------------------------------------------------------------------------------------------\n"
          ]
        },
        {
          "output_type": "stream",
          "name": "stderr",
          "text": [
            "\n"
          ]
        },
        {
          "output_type": "stream",
          "name": "stdout",
          "text": [
            "2023-10-18 10:04:18,724 epoch 59 - iter 1/6 - loss 0.00321437 - time (sec): 0.59 - samples/sec: 7846.58 - lr: 0.000027\n",
            "2023-10-18 10:04:19,284 epoch 59 - iter 2/6 - loss 0.00163871 - time (sec): 1.15 - samples/sec: 8362.17 - lr: 0.000027\n",
            "2023-10-18 10:04:19,754 epoch 59 - iter 3/6 - loss 0.00178274 - time (sec): 1.62 - samples/sec: 8353.97 - lr: 0.000027\n",
            "2023-10-18 10:04:20,339 epoch 59 - iter 4/6 - loss 0.00134078 - time (sec): 2.20 - samples/sec: 8382.15 - lr: 0.000027\n",
            "2023-10-18 10:04:20,838 epoch 59 - iter 5/6 - loss 0.00110445 - time (sec): 2.70 - samples/sec: 8573.22 - lr: 0.000027\n",
            "2023-10-18 10:04:21,357 epoch 59 - iter 6/6 - loss 0.00106977 - time (sec): 3.22 - samples/sec: 8587.21 - lr: 0.000027\n",
            "2023-10-18 10:04:21,361 ----------------------------------------------------------------------------------------------------\n",
            "2023-10-18 10:04:21,363 EPOCH 59 done: loss 0.0011 - lr 0.000027\n"
          ]
        },
        {
          "output_type": "stream",
          "name": "stderr",
          "text": [
            "100%|██████████| 2/2 [00:02<00:00,  1.27s/it]"
          ]
        },
        {
          "output_type": "stream",
          "name": "stdout",
          "text": [
            "2023-10-18 10:04:23,906 Evaluating as a multi-label problem: False\n",
            "2023-10-18 10:04:23,931 DEV : loss 0.35054925084114075 - f1-score (micro avg)  0.8558\n",
            "2023-10-18 10:04:23,949 ----------------------------------------------------------------------------------------------------\n"
          ]
        },
        {
          "output_type": "stream",
          "name": "stderr",
          "text": [
            "\n"
          ]
        },
        {
          "output_type": "stream",
          "name": "stdout",
          "text": [
            "2023-10-18 10:04:24,524 epoch 60 - iter 1/6 - loss 0.00833047 - time (sec): 0.57 - samples/sec: 9187.93 - lr: 0.000027\n",
            "2023-10-18 10:04:25,017 epoch 60 - iter 2/6 - loss 0.00467234 - time (sec): 1.07 - samples/sec: 9004.48 - lr: 0.000027\n",
            "2023-10-18 10:04:25,506 epoch 60 - iter 3/6 - loss 0.00304146 - time (sec): 1.55 - samples/sec: 9723.91 - lr: 0.000027\n",
            "2023-10-18 10:04:25,939 epoch 60 - iter 4/6 - loss 0.00242149 - time (sec): 1.99 - samples/sec: 9639.94 - lr: 0.000027\n",
            "2023-10-18 10:04:26,299 epoch 60 - iter 5/6 - loss 0.00208951 - time (sec): 2.35 - samples/sec: 9632.66 - lr: 0.000026\n",
            "2023-10-18 10:04:26,713 epoch 60 - iter 6/6 - loss 0.00173798 - time (sec): 2.76 - samples/sec: 10016.07 - lr: 0.000026\n",
            "2023-10-18 10:04:26,715 ----------------------------------------------------------------------------------------------------\n",
            "2023-10-18 10:04:26,719 EPOCH 60 done: loss 0.0017 - lr 0.000026\n"
          ]
        },
        {
          "output_type": "stream",
          "name": "stderr",
          "text": [
            "100%|██████████| 2/2 [00:01<00:00,  1.38it/s]"
          ]
        },
        {
          "output_type": "stream",
          "name": "stdout",
          "text": [
            "2023-10-18 10:04:28,180 Evaluating as a multi-label problem: False\n",
            "2023-10-18 10:04:28,201 DEV : loss 0.3595864176750183 - f1-score (micro avg)  0.8532\n",
            "2023-10-18 10:04:28,214 ----------------------------------------------------------------------------------------------------\n"
          ]
        },
        {
          "output_type": "stream",
          "name": "stderr",
          "text": [
            "\n"
          ]
        },
        {
          "output_type": "stream",
          "name": "stdout",
          "text": [
            "2023-10-18 10:04:29,169 epoch 61 - iter 1/6 - loss 0.00025987 - time (sec): 0.95 - samples/sec: 5752.95 - lr: 0.000026\n",
            "2023-10-18 10:04:29,604 epoch 61 - iter 2/6 - loss 0.00020461 - time (sec): 1.39 - samples/sec: 6813.22 - lr: 0.000026\n",
            "2023-10-18 10:04:30,062 epoch 61 - iter 3/6 - loss 0.00023196 - time (sec): 1.85 - samples/sec: 7678.77 - lr: 0.000026\n",
            "2023-10-18 10:04:30,522 epoch 61 - iter 4/6 - loss 0.00085891 - time (sec): 2.31 - samples/sec: 8392.79 - lr: 0.000026\n",
            "2023-10-18 10:04:30,905 epoch 61 - iter 5/6 - loss 0.00074683 - time (sec): 2.69 - samples/sec: 8703.38 - lr: 0.000026\n",
            "2023-10-18 10:04:31,265 epoch 61 - iter 6/6 - loss 0.00235044 - time (sec): 3.05 - samples/sec: 9072.03 - lr: 0.000026\n",
            "2023-10-18 10:04:31,268 ----------------------------------------------------------------------------------------------------\n",
            "2023-10-18 10:04:31,270 EPOCH 61 done: loss 0.0024 - lr 0.000026\n"
          ]
        },
        {
          "output_type": "stream",
          "name": "stderr",
          "text": [
            "100%|██████████| 2/2 [00:01<00:00,  1.40it/s]"
          ]
        },
        {
          "output_type": "stream",
          "name": "stdout",
          "text": [
            "2023-10-18 10:04:32,709 Evaluating as a multi-label problem: False\n",
            "2023-10-18 10:04:32,733 DEV : loss 0.3641718924045563 - f1-score (micro avg)  0.8549\n",
            "2023-10-18 10:04:32,745 ----------------------------------------------------------------------------------------------------\n"
          ]
        },
        {
          "output_type": "stream",
          "name": "stderr",
          "text": [
            "\n"
          ]
        },
        {
          "output_type": "stream",
          "name": "stdout",
          "text": [
            "2023-10-18 10:04:33,098 epoch 62 - iter 1/6 - loss 0.00216974 - time (sec): 0.35 - samples/sec: 11414.84 - lr: 0.000026\n",
            "2023-10-18 10:04:33,499 epoch 62 - iter 2/6 - loss 0.00112050 - time (sec): 0.75 - samples/sec: 11147.01 - lr: 0.000026\n",
            "2023-10-18 10:04:33,914 epoch 62 - iter 3/6 - loss 0.00083207 - time (sec): 1.17 - samples/sec: 10788.79 - lr: 0.000026\n",
            "2023-10-18 10:04:34,321 epoch 62 - iter 4/6 - loss 0.00065324 - time (sec): 1.57 - samples/sec: 10704.20 - lr: 0.000026\n",
            "2023-10-18 10:04:34,804 epoch 62 - iter 5/6 - loss 0.00065610 - time (sec): 2.06 - samples/sec: 10696.16 - lr: 0.000026\n",
            "2023-10-18 10:04:35,415 epoch 62 - iter 6/6 - loss 0.00148091 - time (sec): 2.67 - samples/sec: 10370.67 - lr: 0.000025\n",
            "2023-10-18 10:04:35,417 ----------------------------------------------------------------------------------------------------\n",
            "2023-10-18 10:04:35,424 EPOCH 62 done: loss 0.0015 - lr 0.000025\n"
          ]
        },
        {
          "output_type": "stream",
          "name": "stderr",
          "text": [
            "100%|██████████| 2/2 [00:02<00:00,  1.35s/it]"
          ]
        },
        {
          "output_type": "stream",
          "name": "stdout",
          "text": [
            "2023-10-18 10:04:38,133 Evaluating as a multi-label problem: False\n",
            "2023-10-18 10:04:38,160 DEV : loss 0.3742189407348633 - f1-score (micro avg)  0.8585\n",
            "2023-10-18 10:04:38,176 ----------------------------------------------------------------------------------------------------\n"
          ]
        },
        {
          "output_type": "stream",
          "name": "stderr",
          "text": [
            "\n"
          ]
        },
        {
          "output_type": "stream",
          "name": "stdout",
          "text": [
            "2023-10-18 10:04:38,815 epoch 63 - iter 1/6 - loss 0.00013571 - time (sec): 0.64 - samples/sec: 8426.72 - lr: 0.000025\n",
            "2023-10-18 10:04:39,349 epoch 63 - iter 2/6 - loss 0.00128611 - time (sec): 1.17 - samples/sec: 8392.49 - lr: 0.000025\n",
            "2023-10-18 10:04:39,830 epoch 63 - iter 3/6 - loss 0.00103395 - time (sec): 1.65 - samples/sec: 8363.52 - lr: 0.000025\n",
            "2023-10-18 10:04:40,486 epoch 63 - iter 4/6 - loss 0.00177787 - time (sec): 2.31 - samples/sec: 8494.69 - lr: 0.000025\n",
            "2023-10-18 10:04:41,001 epoch 63 - iter 5/6 - loss 0.00229826 - time (sec): 2.82 - samples/sec: 8560.33 - lr: 0.000025\n",
            "2023-10-18 10:04:41,441 epoch 63 - iter 6/6 - loss 0.00201652 - time (sec): 3.26 - samples/sec: 8478.51 - lr: 0.000025\n",
            "2023-10-18 10:04:41,444 ----------------------------------------------------------------------------------------------------\n",
            "2023-10-18 10:04:41,447 EPOCH 63 done: loss 0.0020 - lr 0.000025\n"
          ]
        },
        {
          "output_type": "stream",
          "name": "stderr",
          "text": [
            "100%|██████████| 2/2 [00:01<00:00,  1.33it/s]"
          ]
        },
        {
          "output_type": "stream",
          "name": "stdout",
          "text": [
            "2023-10-18 10:04:42,967 Evaluating as a multi-label problem: False\n",
            "2023-10-18 10:04:42,990 DEV : loss 0.37477365136146545 - f1-score (micro avg)  0.8549\n",
            "2023-10-18 10:04:43,000 ----------------------------------------------------------------------------------------------------\n"
          ]
        },
        {
          "output_type": "stream",
          "name": "stderr",
          "text": [
            "\n"
          ]
        },
        {
          "output_type": "stream",
          "name": "stdout",
          "text": [
            "2023-10-18 10:04:43,909 epoch 64 - iter 1/6 - loss 0.00009399 - time (sec): 0.91 - samples/sec: 5301.12 - lr: 0.000025\n",
            "2023-10-18 10:04:44,433 epoch 64 - iter 2/6 - loss 0.00014778 - time (sec): 1.43 - samples/sec: 7094.36 - lr: 0.000025\n",
            "2023-10-18 10:04:44,890 epoch 64 - iter 3/6 - loss 0.00041246 - time (sec): 1.89 - samples/sec: 7754.84 - lr: 0.000025\n",
            "2023-10-18 10:04:45,328 epoch 64 - iter 4/6 - loss 0.00074971 - time (sec): 2.33 - samples/sec: 8205.28 - lr: 0.000025\n",
            "2023-10-18 10:04:45,789 epoch 64 - iter 5/6 - loss 0.00152052 - time (sec): 2.79 - samples/sec: 8535.38 - lr: 0.000025\n",
            "2023-10-18 10:04:46,168 epoch 64 - iter 6/6 - loss 0.00195150 - time (sec): 3.17 - samples/sec: 8738.00 - lr: 0.000024\n",
            "2023-10-18 10:04:46,170 ----------------------------------------------------------------------------------------------------\n",
            "2023-10-18 10:04:46,174 EPOCH 64 done: loss 0.0020 - lr 0.000024\n"
          ]
        },
        {
          "output_type": "stream",
          "name": "stderr",
          "text": [
            "100%|██████████| 2/2 [00:01<00:00,  1.45it/s]"
          ]
        },
        {
          "output_type": "stream",
          "name": "stdout",
          "text": [
            "2023-10-18 10:04:47,559 Evaluating as a multi-label problem: False\n",
            "2023-10-18 10:04:47,582 DEV : loss 0.37063848972320557 - f1-score (micro avg)  0.8539\n",
            "2023-10-18 10:04:47,591 ----------------------------------------------------------------------------------------------------\n"
          ]
        },
        {
          "output_type": "stream",
          "name": "stderr",
          "text": [
            "\n"
          ]
        },
        {
          "output_type": "stream",
          "name": "stdout",
          "text": [
            "2023-10-18 10:04:48,033 epoch 65 - iter 1/6 - loss 0.00423488 - time (sec): 0.44 - samples/sec: 9776.92 - lr: 0.000024\n",
            "2023-10-18 10:04:48,531 epoch 65 - iter 2/6 - loss 0.00201636 - time (sec): 0.94 - samples/sec: 9832.71 - lr: 0.000024\n",
            "2023-10-18 10:04:49,019 epoch 65 - iter 3/6 - loss 0.00132316 - time (sec): 1.43 - samples/sec: 10236.87 - lr: 0.000024\n",
            "2023-10-18 10:04:49,416 epoch 65 - iter 4/6 - loss 0.00113577 - time (sec): 1.82 - samples/sec: 10393.73 - lr: 0.000024\n",
            "2023-10-18 10:04:49,854 epoch 65 - iter 5/6 - loss 0.00095670 - time (sec): 2.26 - samples/sec: 10395.90 - lr: 0.000024\n",
            "2023-10-18 10:04:50,254 epoch 65 - iter 6/6 - loss 0.00083603 - time (sec): 2.66 - samples/sec: 10397.69 - lr: 0.000024\n",
            "2023-10-18 10:04:50,257 ----------------------------------------------------------------------------------------------------\n",
            "2023-10-18 10:04:50,259 EPOCH 65 done: loss 0.0008 - lr 0.000024\n"
          ]
        },
        {
          "output_type": "stream",
          "name": "stderr",
          "text": [
            "100%|██████████| 2/2 [00:01<00:00,  1.06it/s]"
          ]
        },
        {
          "output_type": "stream",
          "name": "stdout",
          "text": [
            "2023-10-18 10:04:52,159 Evaluating as a multi-label problem: False\n",
            "2023-10-18 10:04:52,183 DEV : loss 0.3683168888092041 - f1-score (micro avg)  0.8605\n",
            "2023-10-18 10:04:52,201 ----------------------------------------------------------------------------------------------------\n"
          ]
        },
        {
          "output_type": "stream",
          "name": "stderr",
          "text": [
            "\n"
          ]
        },
        {
          "output_type": "stream",
          "name": "stdout",
          "text": [
            "2023-10-18 10:04:52,737 epoch 66 - iter 1/6 - loss 0.00228615 - time (sec): 0.54 - samples/sec: 8413.02 - lr: 0.000024\n",
            "2023-10-18 10:04:53,379 epoch 66 - iter 2/6 - loss 0.00184912 - time (sec): 1.18 - samples/sec: 8032.94 - lr: 0.000024\n",
            "2023-10-18 10:04:54,013 epoch 66 - iter 3/6 - loss 0.00170233 - time (sec): 1.81 - samples/sec: 8461.11 - lr: 0.000024\n",
            "2023-10-18 10:04:54,597 epoch 66 - iter 4/6 - loss 0.00138591 - time (sec): 2.40 - samples/sec: 8427.95 - lr: 0.000024\n",
            "2023-10-18 10:04:55,070 epoch 66 - iter 5/6 - loss 0.00145042 - time (sec): 2.87 - samples/sec: 8349.64 - lr: 0.000024\n",
            "2023-10-18 10:04:55,559 epoch 66 - iter 6/6 - loss 0.00127481 - time (sec): 3.36 - samples/sec: 8241.35 - lr: 0.000024\n",
            "2023-10-18 10:04:55,565 ----------------------------------------------------------------------------------------------------\n",
            "2023-10-18 10:04:55,566 EPOCH 66 done: loss 0.0013 - lr 0.000024\n"
          ]
        },
        {
          "output_type": "stream",
          "name": "stderr",
          "text": [
            "100%|██████████| 2/2 [00:02<00:00,  1.29s/it]"
          ]
        },
        {
          "output_type": "stream",
          "name": "stdout",
          "text": [
            "2023-10-18 10:04:58,158 Evaluating as a multi-label problem: False\n",
            "2023-10-18 10:04:58,183 DEV : loss 0.39139503240585327 - f1-score (micro avg)  0.8545\n",
            "2023-10-18 10:04:58,196 ----------------------------------------------------------------------------------------------------\n"
          ]
        },
        {
          "output_type": "stream",
          "name": "stderr",
          "text": [
            "\n"
          ]
        },
        {
          "output_type": "stream",
          "name": "stdout",
          "text": [
            "2023-10-18 10:04:58,569 epoch 67 - iter 1/6 - loss 0.00377450 - time (sec): 0.37 - samples/sec: 10627.32 - lr: 0.000023\n",
            "2023-10-18 10:04:59,468 epoch 67 - iter 2/6 - loss 0.00273185 - time (sec): 1.27 - samples/sec: 7251.80 - lr: 0.000023\n",
            "2023-10-18 10:04:59,930 epoch 67 - iter 3/6 - loss 0.00280157 - time (sec): 1.73 - samples/sec: 8338.19 - lr: 0.000023\n",
            "2023-10-18 10:05:00,371 epoch 67 - iter 4/6 - loss 0.00211811 - time (sec): 2.17 - samples/sec: 8897.24 - lr: 0.000023\n",
            "2023-10-18 10:05:00,802 epoch 67 - iter 5/6 - loss 0.00177141 - time (sec): 2.60 - samples/sec: 9205.10 - lr: 0.000023\n",
            "2023-10-18 10:05:01,182 epoch 67 - iter 6/6 - loss 0.00171136 - time (sec): 2.99 - samples/sec: 9267.35 - lr: 0.000023\n",
            "2023-10-18 10:05:01,185 ----------------------------------------------------------------------------------------------------\n",
            "2023-10-18 10:05:01,189 EPOCH 67 done: loss 0.0017 - lr 0.000023\n"
          ]
        },
        {
          "output_type": "stream",
          "name": "stderr",
          "text": [
            "100%|██████████| 2/2 [00:01<00:00,  1.42it/s]"
          ]
        },
        {
          "output_type": "stream",
          "name": "stdout",
          "text": [
            "2023-10-18 10:05:02,619 Evaluating as a multi-label problem: False\n",
            "2023-10-18 10:05:02,645 DEV : loss 0.4126831889152527 - f1-score (micro avg)  0.8581\n",
            "2023-10-18 10:05:02,657 ----------------------------------------------------------------------------------------------------\n"
          ]
        },
        {
          "output_type": "stream",
          "name": "stderr",
          "text": [
            "\n"
          ]
        },
        {
          "output_type": "stream",
          "name": "stdout",
          "text": [
            "2023-10-18 10:05:03,075 epoch 68 - iter 1/6 - loss 0.00019763 - time (sec): 0.41 - samples/sec: 9995.79 - lr: 0.000023\n",
            "2023-10-18 10:05:03,513 epoch 68 - iter 2/6 - loss 0.00073933 - time (sec): 0.85 - samples/sec: 10015.53 - lr: 0.000023\n",
            "2023-10-18 10:05:03,932 epoch 68 - iter 3/6 - loss 0.00085181 - time (sec): 1.27 - samples/sec: 10599.75 - lr: 0.000023\n",
            "2023-10-18 10:05:04,421 epoch 68 - iter 4/6 - loss 0.00101457 - time (sec): 1.76 - samples/sec: 10603.29 - lr: 0.000023\n",
            "2023-10-18 10:05:04,885 epoch 68 - iter 5/6 - loss 0.00085459 - time (sec): 2.22 - samples/sec: 10448.99 - lr: 0.000023\n",
            "2023-10-18 10:05:05,253 epoch 68 - iter 6/6 - loss 0.00076638 - time (sec): 2.59 - samples/sec: 10667.98 - lr: 0.000023\n",
            "2023-10-18 10:05:05,256 ----------------------------------------------------------------------------------------------------\n",
            "2023-10-18 10:05:05,258 EPOCH 68 done: loss 0.0008 - lr 0.000023\n"
          ]
        },
        {
          "output_type": "stream",
          "name": "stderr",
          "text": [
            "100%|██████████| 2/2 [00:01<00:00,  1.39it/s]"
          ]
        },
        {
          "output_type": "stream",
          "name": "stdout",
          "text": [
            "2023-10-18 10:05:06,711 Evaluating as a multi-label problem: False\n",
            "2023-10-18 10:05:06,744 DEV : loss 0.3982982337474823 - f1-score (micro avg)  0.862\n",
            "2023-10-18 10:05:06,755 ----------------------------------------------------------------------------------------------------\n"
          ]
        },
        {
          "output_type": "stream",
          "name": "stderr",
          "text": [
            "\n"
          ]
        },
        {
          "output_type": "stream",
          "name": "stdout",
          "text": [
            "2023-10-18 10:05:07,224 epoch 69 - iter 1/6 - loss 0.00132576 - time (sec): 0.47 - samples/sec: 10853.04 - lr: 0.000022\n",
            "2023-10-18 10:05:07,694 epoch 69 - iter 2/6 - loss 0.00073504 - time (sec): 0.94 - samples/sec: 10727.75 - lr: 0.000022\n",
            "2023-10-18 10:05:08,228 epoch 69 - iter 3/6 - loss 0.00051687 - time (sec): 1.47 - samples/sec: 10556.84 - lr: 0.000022\n",
            "2023-10-18 10:05:08,658 epoch 69 - iter 4/6 - loss 0.00053398 - time (sec): 1.90 - samples/sec: 10054.57 - lr: 0.000022\n",
            "2023-10-18 10:05:09,191 epoch 69 - iter 5/6 - loss 0.00045929 - time (sec): 2.43 - samples/sec: 9633.06 - lr: 0.000022\n",
            "2023-10-18 10:05:09,756 epoch 69 - iter 6/6 - loss 0.00039980 - time (sec): 3.00 - samples/sec: 9222.37 - lr: 0.000022\n",
            "2023-10-18 10:05:09,761 ----------------------------------------------------------------------------------------------------\n",
            "2023-10-18 10:05:09,763 EPOCH 69 done: loss 0.0004 - lr 0.000022\n"
          ]
        },
        {
          "output_type": "stream",
          "name": "stderr",
          "text": [
            "100%|██████████| 2/2 [00:02<00:00,  1.37s/it]"
          ]
        },
        {
          "output_type": "stream",
          "name": "stdout",
          "text": [
            "2023-10-18 10:05:12,517 Evaluating as a multi-label problem: False\n",
            "2023-10-18 10:05:12,554 DEV : loss 0.38627997040748596 - f1-score (micro avg)  0.8559\n",
            "2023-10-18 10:05:12,571 ----------------------------------------------------------------------------------------------------\n"
          ]
        },
        {
          "output_type": "stream",
          "name": "stderr",
          "text": [
            "\n"
          ]
        },
        {
          "output_type": "stream",
          "name": "stdout",
          "text": [
            "2023-10-18 10:05:13,663 epoch 70 - iter 1/6 - loss 0.00022577 - time (sec): 1.09 - samples/sec: 3903.63 - lr: 0.000022\n",
            "2023-10-18 10:05:14,150 epoch 70 - iter 2/6 - loss 0.00015174 - time (sec): 1.58 - samples/sec: 5398.26 - lr: 0.000022\n",
            "2023-10-18 10:05:14,777 epoch 70 - iter 3/6 - loss 0.00028190 - time (sec): 2.20 - samples/sec: 6345.71 - lr: 0.000022\n",
            "2023-10-18 10:05:15,180 epoch 70 - iter 4/6 - loss 0.00023048 - time (sec): 2.61 - samples/sec: 7053.84 - lr: 0.000022\n",
            "2023-10-18 10:05:15,595 epoch 70 - iter 5/6 - loss 0.00032946 - time (sec): 3.02 - samples/sec: 7469.17 - lr: 0.000022\n",
            "2023-10-18 10:05:16,071 epoch 70 - iter 6/6 - loss 0.00091457 - time (sec): 3.50 - samples/sec: 7907.56 - lr: 0.000022\n",
            "2023-10-18 10:05:16,078 ----------------------------------------------------------------------------------------------------\n",
            "2023-10-18 10:05:16,080 EPOCH 70 done: loss 0.0009 - lr 0.000022\n"
          ]
        },
        {
          "output_type": "stream",
          "name": "stderr",
          "text": [
            "100%|██████████| 2/2 [00:01<00:00,  1.43it/s]"
          ]
        },
        {
          "output_type": "stream",
          "name": "stdout",
          "text": [
            "2023-10-18 10:05:17,489 Evaluating as a multi-label problem: False\n",
            "2023-10-18 10:05:17,509 DEV : loss 0.3548332154750824 - f1-score (micro avg)  0.8608\n",
            "2023-10-18 10:05:17,521 ----------------------------------------------------------------------------------------------------\n"
          ]
        },
        {
          "output_type": "stream",
          "name": "stderr",
          "text": [
            "\n"
          ]
        },
        {
          "output_type": "stream",
          "name": "stdout",
          "text": [
            "2023-10-18 10:05:17,978 epoch 71 - iter 1/6 - loss 0.00144975 - time (sec): 0.46 - samples/sec: 11218.69 - lr: 0.000021\n",
            "2023-10-18 10:05:18,398 epoch 71 - iter 2/6 - loss 0.00116035 - time (sec): 0.87 - samples/sec: 11003.48 - lr: 0.000021\n",
            "2023-10-18 10:05:18,846 epoch 71 - iter 3/6 - loss 0.00081732 - time (sec): 1.32 - samples/sec: 10691.59 - lr: 0.000021\n",
            "2023-10-18 10:05:19,284 epoch 71 - iter 4/6 - loss 0.00064013 - time (sec): 1.76 - samples/sec: 10698.05 - lr: 0.000021\n",
            "2023-10-18 10:05:19,800 epoch 71 - iter 5/6 - loss 0.00053049 - time (sec): 2.28 - samples/sec: 10421.00 - lr: 0.000021\n",
            "2023-10-18 10:05:20,167 epoch 71 - iter 6/6 - loss 0.00046654 - time (sec): 2.64 - samples/sec: 10461.35 - lr: 0.000021\n",
            "2023-10-18 10:05:20,169 ----------------------------------------------------------------------------------------------------\n",
            "2023-10-18 10:05:20,172 EPOCH 71 done: loss 0.0005 - lr 0.000021\n"
          ]
        },
        {
          "output_type": "stream",
          "name": "stderr",
          "text": [
            "100%|██████████| 2/2 [00:01<00:00,  1.39it/s]"
          ]
        },
        {
          "output_type": "stream",
          "name": "stdout",
          "text": [
            "2023-10-18 10:05:21,616 Evaluating as a multi-label problem: False\n",
            "2023-10-18 10:05:21,641 DEV : loss 0.3688993752002716 - f1-score (micro avg)  0.8601\n",
            "2023-10-18 10:05:21,652 ----------------------------------------------------------------------------------------------------\n"
          ]
        },
        {
          "output_type": "stream",
          "name": "stderr",
          "text": [
            "\n"
          ]
        },
        {
          "output_type": "stream",
          "name": "stdout",
          "text": [
            "2023-10-18 10:05:22,034 epoch 72 - iter 1/6 - loss 0.00021180 - time (sec): 0.38 - samples/sec: 8942.72 - lr: 0.000021\n",
            "2023-10-18 10:05:22,525 epoch 72 - iter 2/6 - loss 0.00014019 - time (sec): 0.87 - samples/sec: 9002.78 - lr: 0.000021\n",
            "2023-10-18 10:05:22,913 epoch 72 - iter 3/6 - loss 0.00013510 - time (sec): 1.26 - samples/sec: 9942.80 - lr: 0.000021\n",
            "2023-10-18 10:05:23,404 epoch 72 - iter 4/6 - loss 0.00011026 - time (sec): 1.75 - samples/sec: 10265.49 - lr: 0.000021\n",
            "2023-10-18 10:05:23,854 epoch 72 - iter 5/6 - loss 0.00042929 - time (sec): 2.20 - samples/sec: 10389.31 - lr: 0.000021\n",
            "2023-10-18 10:05:24,288 epoch 72 - iter 6/6 - loss 0.00037030 - time (sec): 2.64 - samples/sec: 10498.12 - lr: 0.000021\n",
            "2023-10-18 10:05:24,290 ----------------------------------------------------------------------------------------------------\n",
            "2023-10-18 10:05:24,294 EPOCH 72 done: loss 0.0004 - lr 0.000021\n"
          ]
        },
        {
          "output_type": "stream",
          "name": "stderr",
          "text": [
            "100%|██████████| 2/2 [00:02<00:00,  1.32s/it]"
          ]
        },
        {
          "output_type": "stream",
          "name": "stdout",
          "text": [
            "2023-10-18 10:05:26,947 Evaluating as a multi-label problem: False\n",
            "2023-10-18 10:05:26,971 DEV : loss 0.41534724831581116 - f1-score (micro avg)  0.8455\n",
            "2023-10-18 10:05:26,984 ----------------------------------------------------------------------------------------------------\n"
          ]
        },
        {
          "output_type": "stream",
          "name": "stderr",
          "text": [
            "\n"
          ]
        },
        {
          "output_type": "stream",
          "name": "stdout",
          "text": [
            "2023-10-18 10:05:28,118 epoch 73 - iter 1/6 - loss 0.00004848 - time (sec): 1.13 - samples/sec: 4381.21 - lr: 0.000021\n",
            "2023-10-18 10:05:28,604 epoch 73 - iter 2/6 - loss 0.00008498 - time (sec): 1.62 - samples/sec: 5476.75 - lr: 0.000020\n",
            "2023-10-18 10:05:29,089 epoch 73 - iter 3/6 - loss 0.00007590 - time (sec): 2.10 - samples/sec: 6148.67 - lr: 0.000020\n",
            "2023-10-18 10:05:29,701 epoch 73 - iter 4/6 - loss 0.00009581 - time (sec): 2.71 - samples/sec: 6673.22 - lr: 0.000020\n",
            "2023-10-18 10:05:30,311 epoch 73 - iter 5/6 - loss 0.00061657 - time (sec): 3.32 - samples/sec: 6878.66 - lr: 0.000020\n",
            "2023-10-18 10:05:30,817 epoch 73 - iter 6/6 - loss 0.00052075 - time (sec): 3.83 - samples/sec: 7222.04 - lr: 0.000020\n",
            "2023-10-18 10:05:30,823 ----------------------------------------------------------------------------------------------------\n",
            "2023-10-18 10:05:30,825 EPOCH 73 done: loss 0.0005 - lr 0.000020\n"
          ]
        },
        {
          "output_type": "stream",
          "name": "stderr",
          "text": [
            "100%|██████████| 2/2 [00:01<00:00,  1.26it/s]"
          ]
        },
        {
          "output_type": "stream",
          "name": "stdout",
          "text": [
            "2023-10-18 10:05:32,432 Evaluating as a multi-label problem: False\n",
            "2023-10-18 10:05:32,450 DEV : loss 0.4156450629234314 - f1-score (micro avg)  0.8493\n",
            "2023-10-18 10:05:32,461 ----------------------------------------------------------------------------------------------------\n"
          ]
        },
        {
          "output_type": "stream",
          "name": "stderr",
          "text": [
            "\n"
          ]
        },
        {
          "output_type": "stream",
          "name": "stdout",
          "text": [
            "2023-10-18 10:05:32,990 epoch 74 - iter 1/6 - loss 0.00005011 - time (sec): 0.53 - samples/sec: 9385.45 - lr: 0.000020\n",
            "2023-10-18 10:05:33,460 epoch 74 - iter 2/6 - loss 0.00061154 - time (sec): 1.00 - samples/sec: 10202.45 - lr: 0.000020\n",
            "2023-10-18 10:05:33,818 epoch 74 - iter 3/6 - loss 0.00074491 - time (sec): 1.35 - samples/sec: 10389.10 - lr: 0.000020\n",
            "2023-10-18 10:05:34,213 epoch 74 - iter 4/6 - loss 0.00059264 - time (sec): 1.75 - samples/sec: 10382.79 - lr: 0.000020\n",
            "2023-10-18 10:05:34,618 epoch 74 - iter 5/6 - loss 0.00048750 - time (sec): 2.16 - samples/sec: 10584.56 - lr: 0.000020\n",
            "2023-10-18 10:05:35,056 epoch 74 - iter 6/6 - loss 0.00041675 - time (sec): 2.59 - samples/sec: 10670.46 - lr: 0.000020\n",
            "2023-10-18 10:05:35,059 ----------------------------------------------------------------------------------------------------\n",
            "2023-10-18 10:05:35,061 EPOCH 74 done: loss 0.0004 - lr 0.000020\n"
          ]
        },
        {
          "output_type": "stream",
          "name": "stderr",
          "text": [
            "100%|██████████| 2/2 [00:01<00:00,  1.39it/s]"
          ]
        },
        {
          "output_type": "stream",
          "name": "stdout",
          "text": [
            "2023-10-18 10:05:36,510 Evaluating as a multi-label problem: False\n",
            "2023-10-18 10:05:36,532 DEV : loss 0.4178507328033447 - f1-score (micro avg)  0.8482\n",
            "2023-10-18 10:05:36,543 ----------------------------------------------------------------------------------------------------\n"
          ]
        },
        {
          "output_type": "stream",
          "name": "stderr",
          "text": [
            "\n"
          ]
        },
        {
          "output_type": "stream",
          "name": "stdout",
          "text": [
            "2023-10-18 10:05:37,055 epoch 75 - iter 1/6 - loss 0.00008456 - time (sec): 0.51 - samples/sec: 11406.51 - lr: 0.000020\n",
            "2023-10-18 10:05:37,520 epoch 75 - iter 2/6 - loss 0.00006091 - time (sec): 0.98 - samples/sec: 11095.55 - lr: 0.000019\n",
            "2023-10-18 10:05:37,886 epoch 75 - iter 3/6 - loss 0.00069601 - time (sec): 1.34 - samples/sec: 10684.79 - lr: 0.000019\n",
            "2023-10-18 10:05:38,325 epoch 75 - iter 4/6 - loss 0.00059565 - time (sec): 1.78 - samples/sec: 10708.66 - lr: 0.000019\n",
            "2023-10-18 10:05:38,704 epoch 75 - iter 5/6 - loss 0.00076360 - time (sec): 2.16 - samples/sec: 10695.22 - lr: 0.000019\n",
            "2023-10-18 10:05:39,122 epoch 75 - iter 6/6 - loss 0.00065099 - time (sec): 2.58 - samples/sec: 10733.64 - lr: 0.000019\n",
            "2023-10-18 10:05:39,124 ----------------------------------------------------------------------------------------------------\n",
            "2023-10-18 10:05:39,126 EPOCH 75 done: loss 0.0007 - lr 0.000019\n"
          ]
        },
        {
          "output_type": "stream",
          "name": "stderr",
          "text": [
            "100%|██████████| 2/2 [00:01<00:00,  1.39it/s]"
          ]
        },
        {
          "output_type": "stream",
          "name": "stdout",
          "text": [
            "2023-10-18 10:05:40,585 Evaluating as a multi-label problem: False\n",
            "2023-10-18 10:05:40,620 DEV : loss 0.4026111960411072 - f1-score (micro avg)  0.8532\n",
            "2023-10-18 10:05:40,633 ----------------------------------------------------------------------------------------------------\n"
          ]
        },
        {
          "output_type": "stream",
          "name": "stderr",
          "text": [
            "\n"
          ]
        },
        {
          "output_type": "stream",
          "name": "stdout",
          "text": [
            "2023-10-18 10:05:41,476 epoch 76 - iter 1/6 - loss 0.00006557 - time (sec): 0.84 - samples/sec: 5242.86 - lr: 0.000019\n",
            "2023-10-18 10:05:42,084 epoch 76 - iter 2/6 - loss 0.00087896 - time (sec): 1.45 - samples/sec: 6472.22 - lr: 0.000019\n",
            "2023-10-18 10:05:42,480 epoch 76 - iter 3/6 - loss 0.00066560 - time (sec): 1.85 - samples/sec: 6947.00 - lr: 0.000019\n",
            "2023-10-18 10:05:43,057 epoch 76 - iter 4/6 - loss 0.00050997 - time (sec): 2.42 - samples/sec: 7117.54 - lr: 0.000019\n",
            "2023-10-18 10:05:43,662 epoch 76 - iter 5/6 - loss 0.00041297 - time (sec): 3.03 - samples/sec: 7291.62 - lr: 0.000019\n",
            "2023-10-18 10:05:44,253 epoch 76 - iter 6/6 - loss 0.00040436 - time (sec): 3.62 - samples/sec: 7645.46 - lr: 0.000019\n",
            "2023-10-18 10:05:44,261 ----------------------------------------------------------------------------------------------------\n",
            "2023-10-18 10:05:44,266 EPOCH 76 done: loss 0.0004 - lr 0.000019\n"
          ]
        },
        {
          "output_type": "stream",
          "name": "stderr",
          "text": [
            "100%|██████████| 2/2 [00:02<00:00,  1.29s/it]"
          ]
        },
        {
          "output_type": "stream",
          "name": "stdout",
          "text": [
            "2023-10-18 10:05:46,864 Evaluating as a multi-label problem: False\n",
            "2023-10-18 10:05:46,899 DEV : loss 0.39563968777656555 - f1-score (micro avg)  0.8598\n",
            "2023-10-18 10:05:46,913 ----------------------------------------------------------------------------------------------------\n"
          ]
        },
        {
          "output_type": "stream",
          "name": "stderr",
          "text": [
            "\n"
          ]
        },
        {
          "output_type": "stream",
          "name": "stdout",
          "text": [
            "2023-10-18 10:05:47,503 epoch 77 - iter 1/6 - loss 0.00011455 - time (sec): 0.59 - samples/sec: 8016.76 - lr: 0.000019\n",
            "2023-10-18 10:05:47,942 epoch 77 - iter 2/6 - loss 0.00010184 - time (sec): 1.03 - samples/sec: 8275.65 - lr: 0.000018\n",
            "2023-10-18 10:05:48,412 epoch 77 - iter 3/6 - loss 0.00034654 - time (sec): 1.50 - samples/sec: 8818.69 - lr: 0.000018\n",
            "2023-10-18 10:05:48,946 epoch 77 - iter 4/6 - loss 0.00029877 - time (sec): 2.03 - samples/sec: 9312.22 - lr: 0.000018\n",
            "2023-10-18 10:05:49,391 epoch 77 - iter 5/6 - loss 0.00026398 - time (sec): 2.48 - samples/sec: 9555.72 - lr: 0.000018\n",
            "2023-10-18 10:05:49,811 epoch 77 - iter 6/6 - loss 0.00031703 - time (sec): 2.90 - samples/sec: 9552.26 - lr: 0.000018\n",
            "2023-10-18 10:05:49,814 ----------------------------------------------------------------------------------------------------\n",
            "2023-10-18 10:05:49,818 EPOCH 77 done: loss 0.0003 - lr 0.000018\n"
          ]
        },
        {
          "output_type": "stream",
          "name": "stderr",
          "text": [
            "100%|██████████| 2/2 [00:01<00:00,  1.37it/s]"
          ]
        },
        {
          "output_type": "stream",
          "name": "stdout",
          "text": [
            "2023-10-18 10:05:51,292 Evaluating as a multi-label problem: False\n",
            "2023-10-18 10:05:51,315 DEV : loss 0.3916518986225128 - f1-score (micro avg)  0.8585\n",
            "2023-10-18 10:05:51,327 ----------------------------------------------------------------------------------------------------\n"
          ]
        },
        {
          "output_type": "stream",
          "name": "stderr",
          "text": [
            "\n"
          ]
        },
        {
          "output_type": "stream",
          "name": "stdout",
          "text": [
            "2023-10-18 10:05:51,771 epoch 78 - iter 1/6 - loss 0.00097291 - time (sec): 0.44 - samples/sec: 9865.45 - lr: 0.000018\n",
            "2023-10-18 10:05:52,219 epoch 78 - iter 2/6 - loss 0.00051239 - time (sec): 0.89 - samples/sec: 10070.69 - lr: 0.000018\n",
            "2023-10-18 10:05:52,703 epoch 78 - iter 3/6 - loss 0.00034748 - time (sec): 1.37 - samples/sec: 10142.39 - lr: 0.000018\n",
            "2023-10-18 10:05:53,144 epoch 78 - iter 4/6 - loss 0.00038310 - time (sec): 1.82 - samples/sec: 10413.46 - lr: 0.000018\n",
            "2023-10-18 10:05:53,578 epoch 78 - iter 5/6 - loss 0.00031881 - time (sec): 2.25 - samples/sec: 10495.19 - lr: 0.000018\n",
            "2023-10-18 10:05:53,951 epoch 78 - iter 6/6 - loss 0.00028233 - time (sec): 2.62 - samples/sec: 10549.06 - lr: 0.000018\n",
            "2023-10-18 10:05:53,957 ----------------------------------------------------------------------------------------------------\n",
            "2023-10-18 10:05:53,960 EPOCH 78 done: loss 0.0003 - lr 0.000018\n"
          ]
        },
        {
          "output_type": "stream",
          "name": "stderr",
          "text": [
            "100%|██████████| 2/2 [00:01<00:00,  1.36it/s]"
          ]
        },
        {
          "output_type": "stream",
          "name": "stdout",
          "text": [
            "2023-10-18 10:05:55,437 Evaluating as a multi-label problem: False\n",
            "2023-10-18 10:05:55,466 DEV : loss 0.3890095353126526 - f1-score (micro avg)  0.8571\n",
            "2023-10-18 10:05:55,481 ----------------------------------------------------------------------------------------------------\n"
          ]
        },
        {
          "output_type": "stream",
          "name": "stderr",
          "text": [
            "\n"
          ]
        },
        {
          "output_type": "stream",
          "name": "stdout",
          "text": [
            "2023-10-18 10:05:56,394 epoch 79 - iter 1/6 - loss 0.00217576 - time (sec): 0.91 - samples/sec: 5243.35 - lr: 0.000018\n",
            "2023-10-18 10:05:56,848 epoch 79 - iter 2/6 - loss 0.00115933 - time (sec): 1.36 - samples/sec: 6998.10 - lr: 0.000018\n",
            "2023-10-18 10:05:57,220 epoch 79 - iter 3/6 - loss 0.00083093 - time (sec): 1.74 - samples/sec: 7875.87 - lr: 0.000017\n",
            "2023-10-18 10:05:57,720 epoch 79 - iter 4/6 - loss 0.00062385 - time (sec): 2.24 - samples/sec: 8371.17 - lr: 0.000017\n",
            "2023-10-18 10:05:58,270 epoch 79 - iter 5/6 - loss 0.00073293 - time (sec): 2.79 - samples/sec: 8427.48 - lr: 0.000017\n",
            "2023-10-18 10:05:58,759 epoch 79 - iter 6/6 - loss 0.00087008 - time (sec): 3.28 - samples/sec: 8446.22 - lr: 0.000017\n",
            "2023-10-18 10:05:58,766 ----------------------------------------------------------------------------------------------------\n",
            "2023-10-18 10:05:58,768 EPOCH 79 done: loss 0.0009 - lr 0.000017\n"
          ]
        },
        {
          "output_type": "stream",
          "name": "stderr",
          "text": [
            "100%|██████████| 2/2 [00:02<00:00,  1.34s/it]"
          ]
        },
        {
          "output_type": "stream",
          "name": "stdout",
          "text": [
            "2023-10-18 10:06:01,455 Evaluating as a multi-label problem: False\n",
            "2023-10-18 10:06:01,489 DEV : loss 0.39483365416526794 - f1-score (micro avg)  0.8562\n",
            "2023-10-18 10:06:01,510 ----------------------------------------------------------------------------------------------------\n"
          ]
        },
        {
          "output_type": "stream",
          "name": "stderr",
          "text": [
            "\n"
          ]
        },
        {
          "output_type": "stream",
          "name": "stdout",
          "text": [
            "2023-10-18 10:06:02,023 epoch 80 - iter 1/6 - loss 0.00032563 - time (sec): 0.51 - samples/sec: 8241.13 - lr: 0.000017\n",
            "2023-10-18 10:06:02,597 epoch 80 - iter 2/6 - loss 0.00107920 - time (sec): 1.09 - samples/sec: 8135.82 - lr: 0.000017\n",
            "2023-10-18 10:06:03,232 epoch 80 - iter 3/6 - loss 0.00070461 - time (sec): 1.72 - samples/sec: 8248.19 - lr: 0.000017\n",
            "2023-10-18 10:06:03,784 epoch 80 - iter 4/6 - loss 0.00055004 - time (sec): 2.27 - samples/sec: 8188.16 - lr: 0.000017\n",
            "2023-10-18 10:06:04,344 epoch 80 - iter 5/6 - loss 0.00046276 - time (sec): 2.83 - samples/sec: 8232.18 - lr: 0.000017\n",
            "2023-10-18 10:06:04,739 epoch 80 - iter 6/6 - loss 0.00119182 - time (sec): 3.23 - samples/sec: 8570.94 - lr: 0.000017\n",
            "2023-10-18 10:06:04,742 ----------------------------------------------------------------------------------------------------\n",
            "2023-10-18 10:06:04,746 EPOCH 80 done: loss 0.0012 - lr 0.000017\n"
          ]
        },
        {
          "output_type": "stream",
          "name": "stderr",
          "text": [
            "100%|██████████| 2/2 [00:01<00:00,  1.40it/s]"
          ]
        },
        {
          "output_type": "stream",
          "name": "stdout",
          "text": [
            "2023-10-18 10:06:06,183 Evaluating as a multi-label problem: False\n",
            "2023-10-18 10:06:06,206 DEV : loss 0.3962469696998596 - f1-score (micro avg)  0.8614\n",
            "2023-10-18 10:06:06,216 ----------------------------------------------------------------------------------------------------\n"
          ]
        },
        {
          "output_type": "stream",
          "name": "stderr",
          "text": [
            "\n"
          ]
        },
        {
          "output_type": "stream",
          "name": "stdout",
          "text": [
            "2023-10-18 10:06:06,706 epoch 81 - iter 1/6 - loss 0.00089982 - time (sec): 0.49 - samples/sec: 10202.51 - lr: 0.000017\n",
            "2023-10-18 10:06:07,156 epoch 81 - iter 2/6 - loss 0.00081368 - time (sec): 0.94 - samples/sec: 10349.96 - lr: 0.000017\n",
            "2023-10-18 10:06:07,602 epoch 81 - iter 3/6 - loss 0.00057732 - time (sec): 1.38 - samples/sec: 10170.38 - lr: 0.000016\n",
            "2023-10-18 10:06:08,023 epoch 81 - iter 4/6 - loss 0.00045471 - time (sec): 1.81 - samples/sec: 10217.13 - lr: 0.000016\n",
            "2023-10-18 10:06:08,417 epoch 81 - iter 5/6 - loss 0.00037112 - time (sec): 2.20 - samples/sec: 10442.33 - lr: 0.000016\n",
            "2023-10-18 10:06:08,852 epoch 81 - iter 6/6 - loss 0.00031655 - time (sec): 2.63 - samples/sec: 10500.67 - lr: 0.000016\n",
            "2023-10-18 10:06:08,854 ----------------------------------------------------------------------------------------------------\n",
            "2023-10-18 10:06:08,863 EPOCH 81 done: loss 0.0003 - lr 0.000016\n"
          ]
        },
        {
          "output_type": "stream",
          "name": "stderr",
          "text": [
            "100%|██████████| 2/2 [00:01<00:00,  1.40it/s]"
          ]
        },
        {
          "output_type": "stream",
          "name": "stdout",
          "text": [
            "2023-10-18 10:06:10,308 Evaluating as a multi-label problem: False\n",
            "2023-10-18 10:06:10,332 DEV : loss 0.3973512649536133 - f1-score (micro avg)  0.8611\n",
            "2023-10-18 10:06:10,343 ----------------------------------------------------------------------------------------------------\n"
          ]
        },
        {
          "output_type": "stream",
          "name": "stderr",
          "text": [
            "\n"
          ]
        },
        {
          "output_type": "stream",
          "name": "stdout",
          "text": [
            "2023-10-18 10:06:10,738 epoch 82 - iter 1/6 - loss 0.00006232 - time (sec): 0.39 - samples/sec: 10710.77 - lr: 0.000016\n",
            "2023-10-18 10:06:11,537 epoch 82 - iter 2/6 - loss 0.00141042 - time (sec): 1.19 - samples/sec: 6847.86 - lr: 0.000016\n",
            "2023-10-18 10:06:12,012 epoch 82 - iter 3/6 - loss 0.00111104 - time (sec): 1.67 - samples/sec: 7745.63 - lr: 0.000016\n",
            "2023-10-18 10:06:12,484 epoch 82 - iter 4/6 - loss 0.00116769 - time (sec): 2.14 - samples/sec: 8660.63 - lr: 0.000016\n",
            "2023-10-18 10:06:12,980 epoch 82 - iter 5/6 - loss 0.00093847 - time (sec): 2.64 - samples/sec: 8952.38 - lr: 0.000016\n",
            "2023-10-18 10:06:13,377 epoch 82 - iter 6/6 - loss 0.00080669 - time (sec): 3.03 - samples/sec: 9120.32 - lr: 0.000016\n",
            "2023-10-18 10:06:13,379 ----------------------------------------------------------------------------------------------------\n",
            "2023-10-18 10:06:13,383 EPOCH 82 done: loss 0.0008 - lr 0.000016\n"
          ]
        },
        {
          "output_type": "stream",
          "name": "stderr",
          "text": [
            "100%|██████████| 2/2 [00:02<00:00,  1.08s/it]"
          ]
        },
        {
          "output_type": "stream",
          "name": "stdout",
          "text": [
            "2023-10-18 10:06:15,553 Evaluating as a multi-label problem: False\n",
            "2023-10-18 10:06:15,590 DEV : loss 0.3878327012062073 - f1-score (micro avg)  0.8575\n",
            "2023-10-18 10:06:15,603 ----------------------------------------------------------------------------------------------------\n"
          ]
        },
        {
          "output_type": "stream",
          "name": "stderr",
          "text": [
            "\n"
          ]
        },
        {
          "output_type": "stream",
          "name": "stdout",
          "text": [
            "2023-10-18 10:06:16,107 epoch 83 - iter 1/6 - loss 0.00291426 - time (sec): 0.50 - samples/sec: 9354.69 - lr: 0.000016\n",
            "2023-10-18 10:06:16,667 epoch 83 - iter 2/6 - loss 0.00154994 - time (sec): 1.06 - samples/sec: 8853.69 - lr: 0.000016\n",
            "2023-10-18 10:06:17,187 epoch 83 - iter 3/6 - loss 0.00107867 - time (sec): 1.58 - samples/sec: 8717.92 - lr: 0.000016\n",
            "2023-10-18 10:06:17,859 epoch 83 - iter 4/6 - loss 0.00078418 - time (sec): 2.25 - samples/sec: 8511.31 - lr: 0.000015\n",
            "2023-10-18 10:06:18,392 epoch 83 - iter 5/6 - loss 0.00106063 - time (sec): 2.79 - samples/sec: 8393.92 - lr: 0.000015\n",
            "2023-10-18 10:06:18,873 epoch 83 - iter 6/6 - loss 0.00091348 - time (sec): 3.27 - samples/sec: 8466.74 - lr: 0.000015\n",
            "2023-10-18 10:06:18,880 ----------------------------------------------------------------------------------------------------\n",
            "2023-10-18 10:06:18,882 EPOCH 83 done: loss 0.0009 - lr 0.000015\n"
          ]
        },
        {
          "output_type": "stream",
          "name": "stderr",
          "text": [
            "100%|██████████| 2/2 [00:03<00:00,  1.66s/it]"
          ]
        },
        {
          "output_type": "stream",
          "name": "stdout",
          "text": [
            "2023-10-18 10:06:22,224 Evaluating as a multi-label problem: False\n",
            "2023-10-18 10:06:22,256 DEV : loss 0.38832661509513855 - f1-score (micro avg)  0.8608\n",
            "2023-10-18 10:06:22,273 ----------------------------------------------------------------------------------------------------\n"
          ]
        },
        {
          "output_type": "stream",
          "name": "stderr",
          "text": [
            "\n"
          ]
        },
        {
          "output_type": "stream",
          "name": "stdout",
          "text": [
            "2023-10-18 10:06:22,904 epoch 84 - iter 1/6 - loss 0.00007936 - time (sec): 0.63 - samples/sec: 7058.35 - lr: 0.000015\n",
            "2023-10-18 10:06:23,555 epoch 84 - iter 2/6 - loss 0.00079005 - time (sec): 1.28 - samples/sec: 7915.75 - lr: 0.000015\n",
            "2023-10-18 10:06:24,136 epoch 84 - iter 3/6 - loss 0.00055497 - time (sec): 1.86 - samples/sec: 8118.13 - lr: 0.000015\n",
            "2023-10-18 10:06:24,744 epoch 84 - iter 4/6 - loss 0.00044724 - time (sec): 2.47 - samples/sec: 7849.30 - lr: 0.000015\n",
            "2023-10-18 10:06:25,354 epoch 84 - iter 5/6 - loss 0.00036665 - time (sec): 3.08 - samples/sec: 7784.97 - lr: 0.000015\n",
            "2023-10-18 10:06:25,793 epoch 84 - iter 6/6 - loss 0.00032563 - time (sec): 3.52 - samples/sec: 7863.52 - lr: 0.000015\n",
            "2023-10-18 10:06:25,796 ----------------------------------------------------------------------------------------------------\n",
            "2023-10-18 10:06:25,798 EPOCH 84 done: loss 0.0003 - lr 0.000015\n"
          ]
        },
        {
          "output_type": "stream",
          "name": "stderr",
          "text": [
            "100%|██████████| 2/2 [00:01<00:00,  1.03it/s]"
          ]
        },
        {
          "output_type": "stream",
          "name": "stdout",
          "text": [
            "2023-10-18 10:06:27,741 Evaluating as a multi-label problem: False\n",
            "2023-10-18 10:06:27,772 DEV : loss 0.4012822210788727 - f1-score (micro avg)  0.8709\n",
            "2023-10-18 10:06:27,786 ----------------------------------------------------------------------------------------------------\n"
          ]
        },
        {
          "output_type": "stream",
          "name": "stderr",
          "text": [
            "\n"
          ]
        },
        {
          "output_type": "stream",
          "name": "stdout",
          "text": [
            "2023-10-18 10:06:28,250 epoch 85 - iter 1/6 - loss 0.00060222 - time (sec): 0.46 - samples/sec: 9690.69 - lr: 0.000015\n",
            "2023-10-18 10:06:29,064 epoch 85 - iter 2/6 - loss 0.00035469 - time (sec): 1.28 - samples/sec: 6663.38 - lr: 0.000015\n",
            "2023-10-18 10:06:29,508 epoch 85 - iter 3/6 - loss 0.00025772 - time (sec): 1.72 - samples/sec: 7556.41 - lr: 0.000015\n",
            "2023-10-18 10:06:29,994 epoch 85 - iter 4/6 - loss 0.00026933 - time (sec): 2.21 - samples/sec: 8169.53 - lr: 0.000014\n",
            "2023-10-18 10:06:30,545 epoch 85 - iter 5/6 - loss 0.00029604 - time (sec): 2.76 - samples/sec: 8618.50 - lr: 0.000014\n",
            "2023-10-18 10:06:30,887 epoch 85 - iter 6/6 - loss 0.00026158 - time (sec): 3.10 - samples/sec: 8926.38 - lr: 0.000014\n",
            "2023-10-18 10:06:30,890 ----------------------------------------------------------------------------------------------------\n",
            "2023-10-18 10:06:30,894 EPOCH 85 done: loss 0.0003 - lr 0.000014\n"
          ]
        },
        {
          "output_type": "stream",
          "name": "stderr",
          "text": [
            "100%|██████████| 2/2 [00:01<00:00,  1.42it/s]"
          ]
        },
        {
          "output_type": "stream",
          "name": "stdout",
          "text": [
            "2023-10-18 10:06:32,323 Evaluating as a multi-label problem: False\n",
            "2023-10-18 10:06:32,346 DEV : loss 0.4142555594444275 - f1-score (micro avg)  0.863\n",
            "2023-10-18 10:06:32,358 ----------------------------------------------------------------------------------------------------\n"
          ]
        },
        {
          "output_type": "stream",
          "name": "stderr",
          "text": [
            "\n"
          ]
        },
        {
          "output_type": "stream",
          "name": "stdout",
          "text": [
            "2023-10-18 10:06:32,857 epoch 86 - iter 1/6 - loss 0.00011195 - time (sec): 0.50 - samples/sec: 10484.43 - lr: 0.000014\n",
            "2023-10-18 10:06:33,255 epoch 86 - iter 2/6 - loss 0.00008032 - time (sec): 0.89 - samples/sec: 10640.93 - lr: 0.000014\n",
            "2023-10-18 10:06:33,684 epoch 86 - iter 3/6 - loss 0.00007252 - time (sec): 1.32 - samples/sec: 10760.58 - lr: 0.000014\n",
            "2023-10-18 10:06:34,334 epoch 86 - iter 4/6 - loss 0.00051770 - time (sec): 1.97 - samples/sec: 9981.42 - lr: 0.000014\n",
            "2023-10-18 10:06:34,869 epoch 86 - iter 5/6 - loss 0.00043271 - time (sec): 2.51 - samples/sec: 9602.36 - lr: 0.000014\n",
            "2023-10-18 10:06:35,245 epoch 86 - iter 6/6 - loss 0.00038299 - time (sec): 2.88 - samples/sec: 9593.54 - lr: 0.000014\n",
            "2023-10-18 10:06:35,252 ----------------------------------------------------------------------------------------------------\n",
            "2023-10-18 10:06:35,255 EPOCH 86 done: loss 0.0004 - lr 0.000014\n"
          ]
        },
        {
          "output_type": "stream",
          "name": "stderr",
          "text": [
            "100%|██████████| 2/2 [00:02<00:00,  1.35s/it]"
          ]
        },
        {
          "output_type": "stream",
          "name": "stdout",
          "text": [
            "2023-10-18 10:06:37,971 Evaluating as a multi-label problem: False\n",
            "2023-10-18 10:06:38,004 DEV : loss 0.416528582572937 - f1-score (micro avg)  0.8601\n",
            "2023-10-18 10:06:38,023 ----------------------------------------------------------------------------------------------------\n"
          ]
        },
        {
          "output_type": "stream",
          "name": "stderr",
          "text": [
            "\n"
          ]
        },
        {
          "output_type": "stream",
          "name": "stdout",
          "text": [
            "2023-10-18 10:06:38,552 epoch 87 - iter 1/6 - loss 0.00004465 - time (sec): 0.52 - samples/sec: 8772.25 - lr: 0.000014\n",
            "2023-10-18 10:06:39,045 epoch 87 - iter 2/6 - loss 0.00004521 - time (sec): 1.02 - samples/sec: 8759.48 - lr: 0.000014\n",
            "2023-10-18 10:06:39,688 epoch 87 - iter 3/6 - loss 0.00004661 - time (sec): 1.66 - samples/sec: 8573.06 - lr: 0.000014\n",
            "2023-10-18 10:06:40,276 epoch 87 - iter 4/6 - loss 0.00004039 - time (sec): 2.25 - samples/sec: 8823.06 - lr: 0.000013\n",
            "2023-10-18 10:06:40,688 epoch 87 - iter 5/6 - loss 0.00006616 - time (sec): 2.66 - samples/sec: 8987.45 - lr: 0.000013\n",
            "2023-10-18 10:06:41,073 epoch 87 - iter 6/6 - loss 0.00044278 - time (sec): 3.04 - samples/sec: 9085.26 - lr: 0.000013\n",
            "2023-10-18 10:06:41,076 ----------------------------------------------------------------------------------------------------\n",
            "2023-10-18 10:06:41,078 EPOCH 87 done: loss 0.0004 - lr 0.000013\n"
          ]
        },
        {
          "output_type": "stream",
          "name": "stderr",
          "text": [
            "100%|██████████| 2/2 [00:01<00:00,  1.42it/s]"
          ]
        },
        {
          "output_type": "stream",
          "name": "stdout",
          "text": [
            "2023-10-18 10:06:42,501 Evaluating as a multi-label problem: False\n",
            "2023-10-18 10:06:42,524 DEV : loss 0.41764673590660095 - f1-score (micro avg)  0.8611\n",
            "2023-10-18 10:06:42,538 ----------------------------------------------------------------------------------------------------\n"
          ]
        },
        {
          "output_type": "stream",
          "name": "stderr",
          "text": [
            "\n"
          ]
        },
        {
          "output_type": "stream",
          "name": "stdout",
          "text": [
            "2023-10-18 10:06:43,420 epoch 88 - iter 1/6 - loss 0.00005827 - time (sec): 0.88 - samples/sec: 4528.68 - lr: 0.000013\n",
            "2023-10-18 10:06:43,932 epoch 88 - iter 2/6 - loss 0.00042123 - time (sec): 1.39 - samples/sec: 6988.74 - lr: 0.000013\n",
            "2023-10-18 10:06:44,325 epoch 88 - iter 3/6 - loss 0.00029914 - time (sec): 1.78 - samples/sec: 7896.74 - lr: 0.000013\n",
            "2023-10-18 10:06:44,731 epoch 88 - iter 4/6 - loss 0.00023221 - time (sec): 2.19 - samples/sec: 8538.68 - lr: 0.000013\n",
            "2023-10-18 10:06:45,204 epoch 88 - iter 5/6 - loss 0.00019424 - time (sec): 2.66 - samples/sec: 8791.51 - lr: 0.000013\n",
            "2023-10-18 10:06:45,640 epoch 88 - iter 6/6 - loss 0.00016878 - time (sec): 3.10 - samples/sec: 8924.65 - lr: 0.000013\n",
            "2023-10-18 10:06:45,643 ----------------------------------------------------------------------------------------------------\n",
            "2023-10-18 10:06:45,645 EPOCH 88 done: loss 0.0002 - lr 0.000013\n"
          ]
        },
        {
          "output_type": "stream",
          "name": "stderr",
          "text": [
            "100%|██████████| 2/2 [00:01<00:00,  1.44it/s]"
          ]
        },
        {
          "output_type": "stream",
          "name": "stdout",
          "text": [
            "2023-10-18 10:06:47,053 Evaluating as a multi-label problem: False\n",
            "2023-10-18 10:06:47,076 DEV : loss 0.425706684589386 - f1-score (micro avg)  0.861\n",
            "2023-10-18 10:06:47,087 ----------------------------------------------------------------------------------------------------\n"
          ]
        },
        {
          "output_type": "stream",
          "name": "stderr",
          "text": [
            "\n"
          ]
        },
        {
          "output_type": "stream",
          "name": "stdout",
          "text": [
            "2023-10-18 10:06:47,572 epoch 89 - iter 1/6 - loss 0.00004250 - time (sec): 0.48 - samples/sec: 9381.37 - lr: 0.000013\n",
            "2023-10-18 10:06:47,998 epoch 89 - iter 2/6 - loss 0.00008655 - time (sec): 0.91 - samples/sec: 9930.80 - lr: 0.000013\n",
            "2023-10-18 10:06:48,448 epoch 89 - iter 3/6 - loss 0.00022859 - time (sec): 1.36 - samples/sec: 9832.62 - lr: 0.000013\n",
            "2023-10-18 10:06:48,856 epoch 89 - iter 4/6 - loss 0.00020934 - time (sec): 1.77 - samples/sec: 9921.40 - lr: 0.000013\n",
            "2023-10-18 10:06:49,277 epoch 89 - iter 5/6 - loss 0.00016947 - time (sec): 2.19 - samples/sec: 10332.77 - lr: 0.000012\n",
            "2023-10-18 10:06:49,733 epoch 89 - iter 6/6 - loss 0.00021413 - time (sec): 2.64 - samples/sec: 10459.37 - lr: 0.000012\n",
            "2023-10-18 10:06:49,735 ----------------------------------------------------------------------------------------------------\n",
            "2023-10-18 10:06:49,737 EPOCH 89 done: loss 0.0002 - lr 0.000012\n"
          ]
        },
        {
          "output_type": "stream",
          "name": "stderr",
          "text": [
            "100%|██████████| 2/2 [00:02<00:00,  1.28s/it]"
          ]
        },
        {
          "output_type": "stream",
          "name": "stdout",
          "text": [
            "2023-10-18 10:06:52,315 Evaluating as a multi-label problem: False\n",
            "2023-10-18 10:06:52,347 DEV : loss 0.4379558563232422 - f1-score (micro avg)  0.8607\n",
            "2023-10-18 10:06:52,360 ----------------------------------------------------------------------------------------------------\n"
          ]
        },
        {
          "output_type": "stream",
          "name": "stderr",
          "text": [
            "\n"
          ]
        },
        {
          "output_type": "stream",
          "name": "stdout",
          "text": [
            "2023-10-18 10:06:52,991 epoch 90 - iter 1/6 - loss 0.00004235 - time (sec): 0.63 - samples/sec: 8817.75 - lr: 0.000012\n",
            "2023-10-18 10:06:53,441 epoch 90 - iter 2/6 - loss 0.00004005 - time (sec): 1.08 - samples/sec: 8726.70 - lr: 0.000012\n",
            "2023-10-18 10:06:53,937 epoch 90 - iter 3/6 - loss 0.00070782 - time (sec): 1.58 - samples/sec: 9055.65 - lr: 0.000012\n",
            "2023-10-18 10:06:54,424 epoch 90 - iter 4/6 - loss 0.00055025 - time (sec): 2.06 - samples/sec: 9016.31 - lr: 0.000012\n",
            "2023-10-18 10:06:55,025 epoch 90 - iter 5/6 - loss 0.00043709 - time (sec): 2.66 - samples/sec: 8940.31 - lr: 0.000012\n",
            "2023-10-18 10:06:55,491 epoch 90 - iter 6/6 - loss 0.00038187 - time (sec): 3.13 - samples/sec: 8839.80 - lr: 0.000012\n",
            "2023-10-18 10:06:55,496 ----------------------------------------------------------------------------------------------------\n",
            "2023-10-18 10:06:55,501 EPOCH 90 done: loss 0.0004 - lr 0.000012\n"
          ]
        },
        {
          "output_type": "stream",
          "name": "stderr",
          "text": [
            "100%|██████████| 2/2 [00:02<00:00,  1.04s/it]"
          ]
        },
        {
          "output_type": "stream",
          "name": "stdout",
          "text": [
            "2023-10-18 10:06:57,604 Evaluating as a multi-label problem: False\n",
            "2023-10-18 10:06:57,631 DEV : loss 0.44422823190689087 - f1-score (micro avg)  0.8581\n",
            "2023-10-18 10:06:57,649 ----------------------------------------------------------------------------------------------------\n"
          ]
        },
        {
          "output_type": "stream",
          "name": "stderr",
          "text": [
            "\n"
          ]
        },
        {
          "output_type": "stream",
          "name": "stdout",
          "text": [
            "2023-10-18 10:06:58,490 epoch 91 - iter 1/6 - loss 0.00003565 - time (sec): 0.84 - samples/sec: 4481.05 - lr: 0.000012\n",
            "2023-10-18 10:06:58,978 epoch 91 - iter 2/6 - loss 0.00003108 - time (sec): 1.33 - samples/sec: 6797.01 - lr: 0.000012\n",
            "2023-10-18 10:06:59,373 epoch 91 - iter 3/6 - loss 0.00003196 - time (sec): 1.72 - samples/sec: 7844.17 - lr: 0.000012\n",
            "2023-10-18 10:06:59,913 epoch 91 - iter 4/6 - loss 0.00034436 - time (sec): 2.26 - samples/sec: 8020.16 - lr: 0.000012\n",
            "2023-10-18 10:07:00,629 epoch 91 - iter 5/6 - loss 0.00027875 - time (sec): 2.98 - samples/sec: 7809.71 - lr: 0.000011\n",
            "2023-10-18 10:07:01,311 epoch 91 - iter 6/6 - loss 0.00023881 - time (sec): 3.66 - samples/sec: 7560.27 - lr: 0.000011\n",
            "2023-10-18 10:07:01,325 ----------------------------------------------------------------------------------------------------\n",
            "2023-10-18 10:07:01,331 EPOCH 91 done: loss 0.0002 - lr 0.000011\n"
          ]
        },
        {
          "output_type": "stream",
          "name": "stderr",
          "text": [
            "100%|██████████| 2/2 [00:03<00:00,  1.58s/it]"
          ]
        },
        {
          "output_type": "stream",
          "name": "stdout",
          "text": [
            "2023-10-18 10:07:04,501 Evaluating as a multi-label problem: False\n",
            "2023-10-18 10:07:04,527 DEV : loss 0.44258055090904236 - f1-score (micro avg)  0.8618\n",
            "2023-10-18 10:07:04,543 ----------------------------------------------------------------------------------------------------\n"
          ]
        },
        {
          "output_type": "stream",
          "name": "stderr",
          "text": [
            "\n"
          ]
        },
        {
          "output_type": "stream",
          "name": "stdout",
          "text": [
            "2023-10-18 10:07:05,186 epoch 92 - iter 1/6 - loss 0.00020764 - time (sec): 0.64 - samples/sec: 8629.89 - lr: 0.000011\n",
            "2023-10-18 10:07:05,689 epoch 92 - iter 2/6 - loss 0.00030580 - time (sec): 1.14 - samples/sec: 8456.03 - lr: 0.000011\n",
            "2023-10-18 10:07:06,203 epoch 92 - iter 3/6 - loss 0.00029410 - time (sec): 1.66 - samples/sec: 8540.54 - lr: 0.000011\n",
            "2023-10-18 10:07:06,815 epoch 92 - iter 4/6 - loss 0.00022692 - time (sec): 2.27 - samples/sec: 8342.96 - lr: 0.000011\n",
            "2023-10-18 10:07:07,470 epoch 92 - iter 5/6 - loss 0.00018899 - time (sec): 2.92 - samples/sec: 7995.83 - lr: 0.000011\n",
            "2023-10-18 10:07:08,172 epoch 92 - iter 6/6 - loss 0.00016924 - time (sec): 3.63 - samples/sec: 7631.05 - lr: 0.000011\n",
            "2023-10-18 10:07:08,175 ----------------------------------------------------------------------------------------------------\n",
            "2023-10-18 10:07:08,184 EPOCH 92 done: loss 0.0002 - lr 0.000011\n"
          ]
        },
        {
          "output_type": "stream",
          "name": "stderr",
          "text": [
            "100%|██████████| 2/2 [00:05<00:00,  2.56s/it]"
          ]
        },
        {
          "output_type": "stream",
          "name": "stdout",
          "text": [
            "2023-10-18 10:07:13,325 Evaluating as a multi-label problem: False\n",
            "2023-10-18 10:07:13,356 DEV : loss 0.4408820569515228 - f1-score (micro avg)  0.8614\n",
            "2023-10-18 10:07:13,372 ----------------------------------------------------------------------------------------------------\n"
          ]
        },
        {
          "output_type": "stream",
          "name": "stderr",
          "text": [
            "\n"
          ]
        },
        {
          "output_type": "stream",
          "name": "stdout",
          "text": [
            "2023-10-18 10:07:14,002 epoch 93 - iter 1/6 - loss 0.00001940 - time (sec): 0.63 - samples/sec: 8326.24 - lr: 0.000011\n",
            "2023-10-18 10:07:14,492 epoch 93 - iter 2/6 - loss 0.00002356 - time (sec): 1.12 - samples/sec: 8560.50 - lr: 0.000011\n",
            "2023-10-18 10:07:15,056 epoch 93 - iter 3/6 - loss 0.00003989 - time (sec): 1.68 - samples/sec: 8679.59 - lr: 0.000011\n",
            "2023-10-18 10:07:15,492 epoch 93 - iter 4/6 - loss 0.00003740 - time (sec): 2.12 - samples/sec: 8982.61 - lr: 0.000011\n",
            "2023-10-18 10:07:15,934 epoch 93 - iter 5/6 - loss 0.00004192 - time (sec): 2.56 - samples/sec: 9158.16 - lr: 0.000011\n",
            "2023-10-18 10:07:16,306 epoch 93 - iter 6/6 - loss 0.00003919 - time (sec): 2.93 - samples/sec: 9434.66 - lr: 0.000010\n",
            "2023-10-18 10:07:16,308 ----------------------------------------------------------------------------------------------------\n",
            "2023-10-18 10:07:16,314 EPOCH 93 done: loss 0.0000 - lr 0.000010\n"
          ]
        },
        {
          "output_type": "stream",
          "name": "stderr",
          "text": [
            "100%|██████████| 2/2 [00:01<00:00,  1.42it/s]"
          ]
        },
        {
          "output_type": "stream",
          "name": "stdout",
          "text": [
            "2023-10-18 10:07:17,742 Evaluating as a multi-label problem: False\n",
            "2023-10-18 10:07:17,763 DEV : loss 0.4410583972930908 - f1-score (micro avg)  0.8627\n",
            "2023-10-18 10:07:17,773 ----------------------------------------------------------------------------------------------------\n"
          ]
        },
        {
          "output_type": "stream",
          "name": "stderr",
          "text": [
            "\n"
          ]
        },
        {
          "output_type": "stream",
          "name": "stdout",
          "text": [
            "2023-10-18 10:07:18,199 epoch 94 - iter 1/6 - loss 0.00003090 - time (sec): 0.42 - samples/sec: 11332.12 - lr: 0.000010\n",
            "2023-10-18 10:07:19,119 epoch 94 - iter 2/6 - loss 0.00003477 - time (sec): 1.34 - samples/sec: 7062.16 - lr: 0.000010\n",
            "2023-10-18 10:07:19,583 epoch 94 - iter 3/6 - loss 0.00003461 - time (sec): 1.81 - samples/sec: 7743.80 - lr: 0.000010\n",
            "2023-10-18 10:07:20,006 epoch 94 - iter 4/6 - loss 0.00003308 - time (sec): 2.23 - samples/sec: 8236.86 - lr: 0.000010\n",
            "2023-10-18 10:07:20,474 epoch 94 - iter 5/6 - loss 0.00027925 - time (sec): 2.70 - samples/sec: 8868.89 - lr: 0.000010\n",
            "2023-10-18 10:07:20,890 epoch 94 - iter 6/6 - loss 0.00024522 - time (sec): 3.12 - samples/sec: 8880.41 - lr: 0.000010\n",
            "2023-10-18 10:07:20,892 ----------------------------------------------------------------------------------------------------\n",
            "2023-10-18 10:07:20,898 EPOCH 94 done: loss 0.0002 - lr 0.000010\n"
          ]
        },
        {
          "output_type": "stream",
          "name": "stderr",
          "text": [
            "100%|██████████| 2/2 [00:01<00:00,  1.37it/s]"
          ]
        },
        {
          "output_type": "stream",
          "name": "stdout",
          "text": [
            "2023-10-18 10:07:22,377 Evaluating as a multi-label problem: False\n",
            "2023-10-18 10:07:22,398 DEV : loss 0.4363767206668854 - f1-score (micro avg)  0.8646\n",
            "2023-10-18 10:07:22,409 ----------------------------------------------------------------------------------------------------\n"
          ]
        },
        {
          "output_type": "stream",
          "name": "stderr",
          "text": [
            "\n"
          ]
        },
        {
          "output_type": "stream",
          "name": "stdout",
          "text": [
            "2023-10-18 10:07:22,788 epoch 95 - iter 1/6 - loss 0.00002747 - time (sec): 0.38 - samples/sec: 10519.22 - lr: 0.000010\n",
            "2023-10-18 10:07:23,275 epoch 95 - iter 2/6 - loss 0.00002169 - time (sec): 0.86 - samples/sec: 9834.66 - lr: 0.000010\n",
            "2023-10-18 10:07:23,728 epoch 95 - iter 3/6 - loss 0.00002176 - time (sec): 1.32 - samples/sec: 9814.31 - lr: 0.000010\n",
            "2023-10-18 10:07:24,114 epoch 95 - iter 4/6 - loss 0.00002803 - time (sec): 1.70 - samples/sec: 10135.55 - lr: 0.000010\n",
            "2023-10-18 10:07:24,645 epoch 95 - iter 5/6 - loss 0.00002670 - time (sec): 2.23 - samples/sec: 10161.65 - lr: 0.000010\n",
            "2023-10-18 10:07:25,202 epoch 95 - iter 6/6 - loss 0.00002475 - time (sec): 2.79 - samples/sec: 9909.96 - lr: 0.000009\n",
            "2023-10-18 10:07:25,209 ----------------------------------------------------------------------------------------------------\n",
            "2023-10-18 10:07:25,210 EPOCH 95 done: loss 0.0000 - lr 0.000009\n"
          ]
        },
        {
          "output_type": "stream",
          "name": "stderr",
          "text": [
            "100%|██████████| 2/2 [00:02<00:00,  1.37s/it]"
          ]
        },
        {
          "output_type": "stream",
          "name": "stdout",
          "text": [
            "2023-10-18 10:07:27,954 Evaluating as a multi-label problem: False\n",
            "2023-10-18 10:07:27,983 DEV : loss 0.43485569953918457 - f1-score (micro avg)  0.8666\n",
            "2023-10-18 10:07:28,004 ----------------------------------------------------------------------------------------------------\n"
          ]
        },
        {
          "output_type": "stream",
          "name": "stderr",
          "text": [
            "\n"
          ]
        },
        {
          "output_type": "stream",
          "name": "stdout",
          "text": [
            "2023-10-18 10:07:28,567 epoch 96 - iter 1/6 - loss 0.00003651 - time (sec): 0.56 - samples/sec: 8168.06 - lr: 0.000009\n",
            "2023-10-18 10:07:29,119 epoch 96 - iter 2/6 - loss 0.00004900 - time (sec): 1.11 - samples/sec: 8027.86 - lr: 0.000009\n",
            "2023-10-18 10:07:29,791 epoch 96 - iter 3/6 - loss 0.00003762 - time (sec): 1.78 - samples/sec: 8280.38 - lr: 0.000009\n",
            "2023-10-18 10:07:30,303 epoch 96 - iter 4/6 - loss 0.00003770 - time (sec): 2.30 - samples/sec: 8452.80 - lr: 0.000009\n",
            "2023-10-18 10:07:30,827 epoch 96 - iter 5/6 - loss 0.00003452 - time (sec): 2.82 - samples/sec: 8471.82 - lr: 0.000009\n",
            "2023-10-18 10:07:31,259 epoch 96 - iter 6/6 - loss 0.00003412 - time (sec): 3.25 - samples/sec: 8504.70 - lr: 0.000009\n",
            "2023-10-18 10:07:31,265 ----------------------------------------------------------------------------------------------------\n",
            "2023-10-18 10:07:31,267 EPOCH 96 done: loss 0.0000 - lr 0.000009\n"
          ]
        },
        {
          "output_type": "stream",
          "name": "stderr",
          "text": [
            "100%|██████████| 2/2 [00:01<00:00,  1.39it/s]"
          ]
        },
        {
          "output_type": "stream",
          "name": "stdout",
          "text": [
            "2023-10-18 10:07:32,723 Evaluating as a multi-label problem: False\n",
            "2023-10-18 10:07:32,751 DEV : loss 0.4364341199398041 - f1-score (micro avg)  0.8666\n",
            "2023-10-18 10:07:32,763 ----------------------------------------------------------------------------------------------------\n"
          ]
        },
        {
          "output_type": "stream",
          "name": "stderr",
          "text": [
            "\n"
          ]
        },
        {
          "output_type": "stream",
          "name": "stdout",
          "text": [
            "2023-10-18 10:07:33,592 epoch 97 - iter 1/6 - loss 0.00004010 - time (sec): 0.83 - samples/sec: 5638.65 - lr: 0.000009\n",
            "2023-10-18 10:07:34,031 epoch 97 - iter 2/6 - loss 0.00049617 - time (sec): 1.27 - samples/sec: 7330.51 - lr: 0.000009\n",
            "2023-10-18 10:07:34,510 epoch 97 - iter 3/6 - loss 0.00033415 - time (sec): 1.75 - samples/sec: 8050.20 - lr: 0.000009\n",
            "2023-10-18 10:07:34,985 epoch 97 - iter 4/6 - loss 0.00025661 - time (sec): 2.22 - samples/sec: 8463.39 - lr: 0.000009\n",
            "2023-10-18 10:07:35,430 epoch 97 - iter 5/6 - loss 0.00021912 - time (sec): 2.66 - samples/sec: 8654.88 - lr: 0.000009\n",
            "2023-10-18 10:07:35,848 epoch 97 - iter 6/6 - loss 0.00018883 - time (sec): 3.08 - samples/sec: 8973.05 - lr: 0.000008\n",
            "2023-10-18 10:07:35,850 ----------------------------------------------------------------------------------------------------\n",
            "2023-10-18 10:07:35,853 EPOCH 97 done: loss 0.0002 - lr 0.000008\n"
          ]
        },
        {
          "output_type": "stream",
          "name": "stderr",
          "text": [
            "100%|██████████| 2/2 [00:01<00:00,  1.39it/s]"
          ]
        },
        {
          "output_type": "stream",
          "name": "stdout",
          "text": [
            "2023-10-18 10:07:37,307 Evaluating as a multi-label problem: False\n",
            "2023-10-18 10:07:37,333 DEV : loss 0.4356025159358978 - f1-score (micro avg)  0.8656\n",
            "2023-10-18 10:07:37,345 ----------------------------------------------------------------------------------------------------\n"
          ]
        },
        {
          "output_type": "stream",
          "name": "stderr",
          "text": [
            "\n"
          ]
        },
        {
          "output_type": "stream",
          "name": "stdout",
          "text": [
            "2023-10-18 10:07:37,785 epoch 98 - iter 1/6 - loss 0.00149218 - time (sec): 0.44 - samples/sec: 10533.58 - lr: 0.000008\n",
            "2023-10-18 10:07:38,200 epoch 98 - iter 2/6 - loss 0.00075689 - time (sec): 0.85 - samples/sec: 10825.58 - lr: 0.000008\n",
            "2023-10-18 10:07:38,617 epoch 98 - iter 3/6 - loss 0.00052429 - time (sec): 1.27 - samples/sec: 10857.15 - lr: 0.000008\n",
            "2023-10-18 10:07:39,058 epoch 98 - iter 4/6 - loss 0.00040505 - time (sec): 1.71 - samples/sec: 10569.34 - lr: 0.000008\n",
            "2023-10-18 10:07:39,488 epoch 98 - iter 5/6 - loss 0.00033623 - time (sec): 2.14 - samples/sec: 10303.15 - lr: 0.000008\n",
            "2023-10-18 10:07:39,952 epoch 98 - iter 6/6 - loss 0.00027384 - time (sec): 2.61 - samples/sec: 10616.01 - lr: 0.000008\n",
            "2023-10-18 10:07:39,957 ----------------------------------------------------------------------------------------------------\n",
            "2023-10-18 10:07:39,959 EPOCH 98 done: loss 0.0003 - lr 0.000008\n"
          ]
        },
        {
          "output_type": "stream",
          "name": "stderr",
          "text": [
            "100%|██████████| 2/2 [00:01<00:00,  1.37it/s]"
          ]
        },
        {
          "output_type": "stream",
          "name": "stdout",
          "text": [
            "2023-10-18 10:07:41,441 Evaluating as a multi-label problem: False\n",
            "2023-10-18 10:07:41,478 DEV : loss 0.43400129675865173 - f1-score (micro avg)  0.8696\n",
            "2023-10-18 10:07:41,491 ----------------------------------------------------------------------------------------------------\n"
          ]
        },
        {
          "output_type": "stream",
          "name": "stderr",
          "text": [
            "\n"
          ]
        },
        {
          "output_type": "stream",
          "name": "stdout",
          "text": [
            "2023-10-18 10:07:41,892 epoch 99 - iter 1/6 - loss 0.00002604 - time (sec): 0.40 - samples/sec: 9009.04 - lr: 0.000008\n",
            "2023-10-18 10:07:42,486 epoch 99 - iter 2/6 - loss 0.00002303 - time (sec): 0.99 - samples/sec: 8987.87 - lr: 0.000008\n",
            "2023-10-18 10:07:43,023 epoch 99 - iter 3/6 - loss 0.00002226 - time (sec): 1.53 - samples/sec: 9261.92 - lr: 0.000008\n",
            "2023-10-18 10:07:43,543 epoch 99 - iter 4/6 - loss 0.00002748 - time (sec): 2.05 - samples/sec: 9154.49 - lr: 0.000008\n",
            "2023-10-18 10:07:44,144 epoch 99 - iter 5/6 - loss 0.00002674 - time (sec): 2.65 - samples/sec: 8973.92 - lr: 0.000008\n",
            "2023-10-18 10:07:44,642 epoch 99 - iter 6/6 - loss 0.00002503 - time (sec): 3.15 - samples/sec: 8785.69 - lr: 0.000008\n",
            "2023-10-18 10:07:44,646 ----------------------------------------------------------------------------------------------------\n",
            "2023-10-18 10:07:44,649 EPOCH 99 done: loss 0.0000 - lr 0.000008\n"
          ]
        },
        {
          "output_type": "stream",
          "name": "stderr",
          "text": [
            "100%|██████████| 2/2 [00:02<00:00,  1.30s/it]"
          ]
        },
        {
          "output_type": "stream",
          "name": "stdout",
          "text": [
            "2023-10-18 10:07:47,262 Evaluating as a multi-label problem: False\n",
            "2023-10-18 10:07:47,298 DEV : loss 0.43094632029533386 - f1-score (micro avg)  0.8614\n",
            "2023-10-18 10:07:47,313 ----------------------------------------------------------------------------------------------------\n"
          ]
        },
        {
          "output_type": "stream",
          "name": "stderr",
          "text": [
            "\n"
          ]
        },
        {
          "output_type": "stream",
          "name": "stdout",
          "text": [
            "2023-10-18 10:07:48,626 epoch 100 - iter 1/6 - loss 0.00002724 - time (sec): 1.31 - samples/sec: 3800.28 - lr: 0.000007\n",
            "2023-10-18 10:07:49,090 epoch 100 - iter 2/6 - loss 0.00002872 - time (sec): 1.78 - samples/sec: 4938.55 - lr: 0.000007\n",
            "2023-10-18 10:07:49,622 epoch 100 - iter 3/6 - loss 0.00002972 - time (sec): 2.31 - samples/sec: 5921.22 - lr: 0.000007\n",
            "2023-10-18 10:07:50,161 epoch 100 - iter 4/6 - loss 0.00002774 - time (sec): 2.85 - samples/sec: 6292.81 - lr: 0.000007\n",
            "2023-10-18 10:07:50,791 epoch 100 - iter 5/6 - loss 0.00002720 - time (sec): 3.48 - samples/sec: 6737.51 - lr: 0.000007\n",
            "2023-10-18 10:07:51,311 epoch 100 - iter 6/6 - loss 0.00002694 - time (sec): 4.00 - samples/sec: 6922.48 - lr: 0.000007\n",
            "2023-10-18 10:07:51,318 ----------------------------------------------------------------------------------------------------\n",
            "2023-10-18 10:07:51,319 EPOCH 100 done: loss 0.0000 - lr 0.000007\n"
          ]
        },
        {
          "output_type": "stream",
          "name": "stderr",
          "text": [
            "100%|██████████| 2/2 [00:02<00:00,  1.32s/it]"
          ]
        },
        {
          "output_type": "stream",
          "name": "stdout",
          "text": [
            "2023-10-18 10:07:53,969 Evaluating as a multi-label problem: False\n",
            "2023-10-18 10:07:54,002 DEV : loss 0.43133285641670227 - f1-score (micro avg)  0.8656\n"
          ]
        },
        {
          "output_type": "stream",
          "name": "stderr",
          "text": [
            "\n"
          ]
        },
        {
          "output_type": "stream",
          "name": "stdout",
          "text": [
            "2023-10-18 10:07:54,865 ----------------------------------------------------------------------------------------------------\n",
            "2023-10-18 10:07:54,870 Testing using last state of model ...\n"
          ]
        },
        {
          "output_type": "stream",
          "name": "stderr",
          "text": [
            "100%|██████████| 2/2 [00:00<00:00,  3.62it/s]"
          ]
        },
        {
          "output_type": "stream",
          "name": "stdout",
          "text": [
            "2023-10-18 10:07:55,437 Evaluating as a multi-label problem: False\n",
            "2023-10-18 10:07:55,465 0.7469\t0.8411\t0.7912\t0.6545\n"
          ]
        },
        {
          "output_type": "stream",
          "name": "stderr",
          "text": [
            "\n"
          ]
        },
        {
          "output_type": "stream",
          "name": "stdout",
          "text": [
            "2023-10-18 10:07:55,468 \n",
            "Results:\n",
            "- F-score (micro) 0.7912\n",
            "- F-score (macro) 0.7429\n",
            "- Accuracy 0.6545\n",
            "\n",
            "By class:\n",
            "              precision    recall  f1-score   support\n",
            "\n",
            "      Winner     0.5685    0.6871    0.6222       163\n",
            "        Date     0.9847    1.0000    0.9923       129\n",
            " Nationality     0.8611    0.8857    0.8732       105\n",
            "   Prizetype     0.8400    0.9545    0.8936        22\n",
            "      Reason     0.2381    0.5556    0.3333         9\n",
            "\n",
            "   micro avg     0.7469    0.8411    0.7912       428\n",
            "   macro avg     0.6985    0.8166    0.7429       428\n",
            "weighted avg     0.7728    0.8411    0.8032       428\n",
            "\n",
            "2023-10-18 10:07:55,469 ----------------------------------------------------------------------------------------------------\n"
          ]
        },
        {
          "output_type": "execute_result",
          "data": {
            "text/plain": [
              "{'test_score': 0.7912087912087913,\n",
              " 'dev_score_history': [0.017727128838239948,\n",
              "  0.006535947712418301,\n",
              "  0.0,\n",
              "  0.0,\n",
              "  0.0,\n",
              "  0.0,\n",
              "  0.0,\n",
              "  0.39114391143911437,\n",
              "  0.5900709219858156,\n",
              "  0.6605263157894737,\n",
              "  0.7310012062726176,\n",
              "  0.7679425837320574,\n",
              "  0.7864406779661016,\n",
              "  0.825938566552901,\n",
              "  0.8306636155606407,\n",
              "  0.8209606986899564,\n",
              "  0.8055853920515575,\n",
              "  0.8288888888888888,\n",
              "  0.8382022471910112,\n",
              "  0.8306264501160093,\n",
              "  0.8371559633027523,\n",
              "  0.8316831683168318,\n",
              "  0.8432919954904172,\n",
              "  0.8372615039281706,\n",
              "  0.8412698412698412,\n",
              "  0.8353591160220994,\n",
              "  0.8518518518518519,\n",
              "  0.8460661345496009,\n",
              "  0.8528389339513327,\n",
              "  0.8364849833147943,\n",
              "  0.8624708624708625,\n",
              "  0.8587830080367395,\n",
              "  0.8421052631578947,\n",
              "  0.8571428571428572,\n",
              "  0.8382022471910112,\n",
              "  0.8652482269503546,\n",
              "  0.8525714285714286,\n",
              "  0.8624708624708625,\n",
              "  0.8520179372197308,\n",
              "  0.8564867967853043,\n",
              "  0.8607888631090488,\n",
              "  0.8555045871559633,\n",
              "  0.8522336769759451,\n",
              "  0.8509174311926606,\n",
              "  0.8410372040586246,\n",
              "  0.8454545454545455,\n",
              "  0.8584579976985041,\n",
              "  0.8516421291053228,\n",
              "  0.8561484918793503,\n",
              "  0.8458942632170977,\n",
              "  0.8564814814814816,\n",
              "  0.8561565017261219,\n",
              "  0.8412874583795784,\n",
              "  0.8486238532110091,\n",
              "  0.8541666666666667,\n",
              "  0.8555176336746302,\n",
              "  0.85385500575374,\n",
              "  0.8467650397275822,\n",
              "  0.8558246828143022,\n",
              "  0.853179190751445,\n",
              "  0.8548571428571429,\n",
              "  0.8584795321637427,\n",
              "  0.8548571428571429,\n",
              "  0.8538812785388128,\n",
              "  0.8604651162790697,\n",
              "  0.8545454545454545,\n",
              "  0.8581081081081081,\n",
              "  0.8620296465222349,\n",
              "  0.855855855855856,\n",
              "  0.8607888631090488,\n",
              "  0.8601156069364162,\n",
              "  0.8455467869222096,\n",
              "  0.8493150684931506,\n",
              "  0.8482039397450754,\n",
              "  0.853211009174312,\n",
              "  0.8597701149425286,\n",
              "  0.8584579976985041,\n",
              "  0.8571428571428572,\n",
              "  0.8561565017261219,\n",
              "  0.861397479954181,\n",
              "  0.8610792192881745,\n",
              "  0.8574739281575898,\n",
              "  0.8607594936708861,\n",
              "  0.870857142857143,\n",
              "  0.8629671574178934,\n",
              "  0.8600682593856654,\n",
              "  0.8610792192881745,\n",
              "  0.8610478359908884,\n",
              "  0.8607021517553793,\n",
              "  0.8581235697940504,\n",
              "  0.8617511520737328,\n",
              "  0.861397479954181,\n",
              "  0.862656072644722,\n",
              "  0.8646188850967008,\n",
              "  0.8665906499429875,\n",
              "  0.8665906499429875,\n",
              "  0.865603644646925,\n",
              "  0.8695652173913043,\n",
              "  0.8613636363636363,\n",
              "  0.865603644646925],\n",
              " 'train_loss_history': [2.3584326793169823,\n",
              "  2.1024949187967668,\n",
              "  1.639797636509769,\n",
              "  0.9160592480158103,\n",
              "  0.7268135772405021,\n",
              "  0.6514137493109275,\n",
              "  0.6037418769231899,\n",
              "  0.5074277825959506,\n",
              "  0.40490055470331476,\n",
              "  0.32246136375767015,\n",
              "  0.25067518155929186,\n",
              "  0.19092668585173309,\n",
              "  0.14267417859176185,\n",
              "  0.10504110897807734,\n",
              "  0.07770599665291535,\n",
              "  0.05600110391028842,\n",
              "  0.046524964570309676,\n",
              "  0.034522283277186164,\n",
              "  0.029177941774067125,\n",
              "  0.02388796742904248,\n",
              "  0.020494850196198552,\n",
              "  0.017586842929096565,\n",
              "  0.013464402021735718,\n",
              "  0.011973733361433392,\n",
              "  0.010209189804390444,\n",
              "  0.008670800265857703,\n",
              "  0.009083763307888015,\n",
              "  0.00551080469315696,\n",
              "  0.006858273970039681,\n",
              "  0.006925854605701771,\n",
              "  0.005294501609096229,\n",
              "  0.007507956876032197,\n",
              "  0.006121109509619762,\n",
              "  0.004196354527911952,\n",
              "  0.006824830248564086,\n",
              "  0.00357302380407939,\n",
              "  0.004538533486266437,\n",
              "  0.005084329064420498,\n",
              "  0.002128224313569386,\n",
              "  0.002746137013112692,\n",
              "  0.005002436901945265,\n",
              "  0.0030167785388600142,\n",
              "  0.0036432934917419064,\n",
              "  0.001929938431210846,\n",
              "  0.0014061084229384908,\n",
              "  0.0012540431157780079,\n",
              "  0.0013624743411415501,\n",
              "  0.0018639074301292195,\n",
              "  0.0010836631438854872,\n",
              "  0.0013609428137558053,\n",
              "  0.0008317737470064776,\n",
              "  0.0012224296257632395,\n",
              "  0.0025162927250492566,\n",
              "  0.00215670957670107,\n",
              "  0.0010031237961275169,\n",
              "  0.0010269036814958253,\n",
              "  0.0014175049327163078,\n",
              "  0.0004774396167179282,\n",
              "  0.001069768894832213,\n",
              "  0.0017379823740315342,\n",
              "  0.0023504447982689077,\n",
              "  0.0014809128985093327,\n",
              "  0.0020165201815188862,\n",
              "  0.001951495874963998,\n",
              "  0.0008360280468413567,\n",
              "  0.0012748083406752281,\n",
              "  0.001711361713496297,\n",
              "  0.0007663830153820762,\n",
              "  0.00039979810419801066,\n",
              "  0.0009145668372210221,\n",
              "  0.00046653953149802704,\n",
              "  0.00037029941882474907,\n",
              "  0.0005207494598263395,\n",
              "  0.00041675179315533783,\n",
              "  0.0006509928163108694,\n",
              "  0.0004043627116654635,\n",
              "  0.0003170250753935118,\n",
              "  0.0002823348403270014,\n",
              "  0.000870075978515395,\n",
              "  0.0011918223821199858,\n",
              "  0.00031654849139991836,\n",
              "  0.0008066922610441408,\n",
              "  0.0009134765757498816,\n",
              "  0.0003256282552068395,\n",
              "  0.00026157581580812494,\n",
              "  0.00038298937568021966,\n",
              "  0.0004427766614847269,\n",
              "  0.0001687786715323867,\n",
              "  0.00021413335185594955,\n",
              "  0.00038187253407965925,\n",
              "  0.00023881276124660647,\n",
              "  0.00016924418630740972,\n",
              "  3.919223708059141e-05,\n",
              "  0.0002452204776351475,\n",
              "  2.4749154624668693e-05,\n",
              "  3.4120433709054685e-05,\n",
              "  0.00018882665954456982,\n",
              "  0.0002738444978654591,\n",
              "  2.502712276761521e-05,\n",
              "  2.6944113874828422e-05],\n",
              " 'dev_loss_history': [2.1662344932556152,\n",
              "  1.7868995666503906,\n",
              "  1.073874592781067,\n",
              "  0.7739612460136414,\n",
              "  0.7345430254936218,\n",
              "  0.619481086730957,\n",
              "  0.5630279183387756,\n",
              "  0.4507501423358917,\n",
              "  0.3580893576145172,\n",
              "  0.3006274998188019,\n",
              "  0.2776263952255249,\n",
              "  0.23634915053844452,\n",
              "  0.2399086356163025,\n",
              "  0.20401118695735931,\n",
              "  0.21085591614246368,\n",
              "  0.20685510337352753,\n",
              "  0.21314729750156403,\n",
              "  0.2028150111436844,\n",
              "  0.21125254034996033,\n",
              "  0.21471430361270905,\n",
              "  0.2130403071641922,\n",
              "  0.24814951419830322,\n",
              "  0.240349680185318,\n",
              "  0.25287511944770813,\n",
              "  0.2510105073451996,\n",
              "  0.2662837505340576,\n",
              "  0.2573116719722748,\n",
              "  0.27462631464004517,\n",
              "  0.2633035480976105,\n",
              "  0.30506187677383423,\n",
              "  0.28385451436042786,\n",
              "  0.2780659794807434,\n",
              "  0.2662515640258789,\n",
              "  0.27105820178985596,\n",
              "  0.2703893482685089,\n",
              "  0.2742486894130707,\n",
              "  0.31110599637031555,\n",
              "  0.2925010919570923,\n",
              "  0.2929968237876892,\n",
              "  0.2835257351398468,\n",
              "  0.34069615602493286,\n",
              "  0.3200873136520386,\n",
              "  0.2906413674354553,\n",
              "  0.3050708472728729,\n",
              "  0.3231349289417267,\n",
              "  0.35846155881881714,\n",
              "  0.35138991475105286,\n",
              "  0.3677857220172882,\n",
              "  0.3455919921398163,\n",
              "  0.3748723864555359,\n",
              "  0.374411940574646,\n",
              "  0.3787347674369812,\n",
              "  0.39376187324523926,\n",
              "  0.35253244638442993,\n",
              "  0.365475058555603,\n",
              "  0.38227835297584534,\n",
              "  0.3840878903865814,\n",
              "  0.36115068197250366,\n",
              "  0.35054925084114075,\n",
              "  0.3595864176750183,\n",
              "  0.3641718924045563,\n",
              "  0.3742189407348633,\n",
              "  0.37477365136146545,\n",
              "  0.37063848972320557,\n",
              "  0.3683168888092041,\n",
              "  0.39139503240585327,\n",
              "  0.4126831889152527,\n",
              "  0.3982982337474823,\n",
              "  0.38627997040748596,\n",
              "  0.3548332154750824,\n",
              "  0.3688993752002716,\n",
              "  0.41534724831581116,\n",
              "  0.4156450629234314,\n",
              "  0.4178507328033447,\n",
              "  0.4026111960411072,\n",
              "  0.39563968777656555,\n",
              "  0.3916518986225128,\n",
              "  0.3890095353126526,\n",
              "  0.39483365416526794,\n",
              "  0.3962469696998596,\n",
              "  0.3973512649536133,\n",
              "  0.3878327012062073,\n",
              "  0.38832661509513855,\n",
              "  0.4012822210788727,\n",
              "  0.4142555594444275,\n",
              "  0.416528582572937,\n",
              "  0.41764673590660095,\n",
              "  0.425706684589386,\n",
              "  0.4379558563232422,\n",
              "  0.44422823190689087,\n",
              "  0.44258055090904236,\n",
              "  0.4408820569515228,\n",
              "  0.4410583972930908,\n",
              "  0.4363767206668854,\n",
              "  0.43485569953918457,\n",
              "  0.4364341199398041,\n",
              "  0.4356025159358978,\n",
              "  0.43400129675865173,\n",
              "  0.43094632029533386,\n",
              "  0.43133285641670227]}"
            ]
          },
          "metadata": {},
          "execution_count": 78
        }
      ]
    },
    {
      "cell_type": "code",
      "source": [
        "from flair.data import Sentence\n",
        "from flair.models import SequenceTagger\n",
        "\n",
        "# load the trained model\n",
        "model = SequenceTagger.load(\"resources/taggers/ner/final-model.pt\")\n",
        "\n",
        "# create example sentence\n",
        "sentence = Sentence('Barack Hussein Obama II ( born August 4, 1961) is an American politician who served as the 44th president of the United States from 2009 to 2017. A member of the Democratic Party, he was the first African-American president. Obama previously served as a U.S. senator representing Illinois from 2005 to 2008 and as an Illinois state senator from 1997 to 2004, and worked as a civil rights lawyer and university lecturer. ')\n",
        "\n",
        "# predict the tags\n",
        "model.predict(sentence)\n",
        "print(sentence.to_tagged_string())"
      ],
      "metadata": {
        "colab": {
          "base_uri": "https://localhost:8080/"
        },
        "id": "W0lI19utv81D",
        "outputId": "b23bda42-874a-46e5-c680-9b84c5ad3ae2"
      },
      "execution_count": 79,
      "outputs": [
        {
          "output_type": "stream",
          "name": "stdout",
          "text": [
            "2023-10-18 10:08:04,163 SequenceTagger predicts: Dictionary with 11 tags: O, B-Winner, I-Winner, B-Date, I-Date, B-Nationality, I-Nationality, B-Prizetype, I-Prizetype, B-Reason, I-Reason\n",
            "Sentence[79]: \"Barack Hussein Obama II ( born August 4, 1961) is an American politician who served as the 44th president of the United States from 2009 to 2017. A member of the Democratic Party, he was the first African-American president. Obama previously served as a U.S. senator representing Illinois from 2005 to 2008 and as an Illinois state senator from 1997 to 2004, and worked as a civil rights lawyer and university lecturer.\" → [\"Barack Hussein Obama II\"/Winner, \"August 4, 1961\"/Date, \"American\"/Nationality, \"the United States\"/Nationality, \"he\"/Winner, \"Obama\"/Winner, \"U.S.\"/Nationality, \"Illinois\"/Nationality]\n"
          ]
        }
      ]
    },
    {
      "cell_type": "code",
      "source": [
        "from flair.embeddings import TransformerWordEmbeddings\n",
        "from flair.models import RelationExtractor\n",
        "\n",
        "relation_label_dict = corpus.make_label_dictionary(label_type=\"relation\")\n",
        "results_base_path = 'resources/relations/'\n",
        "relation_model: RelationExtractor = RelationExtractor(\n",
        "        embeddings=embeddings,\n",
        "        label_dictionary=relation_label_dict,\n",
        "        label_type=\"relation\",\n",
        "        entity_label_type=\"ner\",\n",
        "        # train_on_gold_pairs_only=True,\n",
        "    )\n",
        "\n",
        "trainer: ModelTrainer = ModelTrainer(relation_model, corpus)\n",
        "\n",
        "trainer.train(\n",
        "        results_base_path,\n",
        "        learning_rate=5e-05,\n",
        "        mini_batch_size=2,\n",
        "        max_epochs=100,\n",
        "        shuffle=True,\n",
        "    )"
      ],
      "metadata": {
        "id": "1VWjTu33jy3U"
      },
      "execution_count": null,
      "outputs": []
    },
    {
      "cell_type": "code",
      "source": [
        "from flair.embeddings import TransformerWordEmbeddings\n",
        "from flair.models import SequenceTagger\n",
        "from flair.trainers import ModelTrainer\n",
        "# 4. initialize fine-tuneable transformer embeddings WITH document context\n",
        "embeddings = TransformerWordEmbeddings(model='xlm-roberta-large',\n",
        "                                       layers=\"-1\",\n",
        "                                       subtoken_pooling=\"first\",\n",
        "                                       fine_tune=True,\n",
        "                                       use_context=True,\n",
        "                                       )\n",
        "\n",
        "# 5. initialize bare-bones sequence tagger (no CRF, no RNN, no reprojection)\n",
        "tagger = SequenceTagger(hidden_size=256,\n",
        "                        embeddings=embeddings,\n",
        "                        tag_dictionary=tag_dictionary,\n",
        "                        tag_type='ner',\n",
        "                        use_crf=False,\n",
        "                        use_rnn=False,\n",
        "                        reproject_embeddings=False,\n",
        "                        )\n",
        "\n",
        "# 6. initialize trainer\n",
        "trainer = ModelTrainer(tagger, corpus)\n",
        "\n",
        "# 7. run fine-tuning\n",
        "trainer.fine_tune('resources/taggers/sota-ner-flert',\n",
        "                  learning_rate=5.0e-6,\n",
        "                  mini_batch_size=4,\n",
        "                  )"
      ],
      "metadata": {
        "id": "ut8DvsS9AleV"
      },
      "execution_count": null,
      "outputs": []
    },
    {
      "cell_type": "code",
      "source": [
        "from flair.data import Relation, Sentence\n",
        "from flair.datasets import ColumnCorpus, DataLoader\n",
        "from flair.embeddings import TransformerDocumentEmbeddings\n",
        "from flair.models import RelationClassifier\n",
        "from flair.models.relation_classifier_model import EncodedSentence\n",
        "from flair.trainers import ModelTrainer\n",
        "\n",
        "relation_label_dict = corpus.make_label_dictionary(label_type=\"relation\")\n",
        "relation_dictionary = corpus.make_label_dictionary(\"relation\")\n",
        "doc_embeddings = TransformerDocumentEmbeddings(model=\"distilbert-base-uncased\", layers=\"-1\", fine_tune=True)\n",
        "relation_model: RelationClassifier = RelationClassifier(\n",
        "    embeddings =doc_embeddings,\n",
        "    label_dictionary = relation_dictionary,\n",
        "    label_type=\"relation\",\n",
        "    entity_label_types=\"ner\",\n",
        "    entity_pair_labels={  # Define valid entity pair combinations, used as relation candidates\n",
        "        (\"Winner\", \"Nationality\"),\n",
        "        (\"Winner\", \"Date\"),\n",
        "        (\"Winner\", \"Prizetype\"),\n",
        "        (\"Winner\", \"Reason\"),\n",
        "\n",
        "    },\n",
        "    zero_tag_value='',\n",
        "    allow_unk_tag=False,\n",
        ")"
      ],
      "metadata": {
        "colab": {
          "base_uri": "https://localhost:8080/"
        },
        "id": "xxSNs7A6U3DR",
        "outputId": "752090db-a911-4289-aa5b-010e4e73dac0"
      },
      "execution_count": 3,
      "outputs": [
        {
          "output_type": "stream",
          "name": "stdout",
          "text": [
            "2023-10-18 10:47:29,720 Computing label dictionary. Progress:\n"
          ]
        },
        {
          "output_type": "stream",
          "name": "stderr",
          "text": [
            "95it [00:00, 7786.20it/s]"
          ]
        },
        {
          "output_type": "stream",
          "name": "stdout",
          "text": [
            "2023-10-18 10:47:29,788 Dictionary created for label 'relation' with 7 values: has_won (seen 148 times), received_nobelprize_in (seen 144 times), received_nobelprize_for (seen 106 times), has_nationality (seen 94 times), born_on (seen 79 times), died_on (seen 41 times)\n",
            "2023-10-18 10:47:29,790 Computing label dictionary. Progress:\n"
          ]
        },
        {
          "output_type": "stream",
          "name": "stderr",
          "text": [
            "\n",
            "95it [00:00, 7961.69it/s]"
          ]
        },
        {
          "output_type": "stream",
          "name": "stdout",
          "text": [
            "2023-10-18 10:47:29,813 Dictionary created for label 'relation' with 7 values: has_won (seen 148 times), received_nobelprize_in (seen 144 times), received_nobelprize_for (seen 106 times), has_nationality (seen 94 times), born_on (seen 79 times), died_on (seen 41 times)\n"
          ]
        },
        {
          "output_type": "stream",
          "name": "stderr",
          "text": [
            "\n"
          ]
        }
      ]
    },
    {
      "cell_type": "code",
      "source": [
        "trainer: ModelTrainer = ModelTrainer(model=relation_model, corpus=relation_model.transform_corpus(corpus))\n"
      ],
      "metadata": {
        "id": "08vVbBSvWISX"
      },
      "execution_count": 5,
      "outputs": []
    },
    {
      "cell_type": "code",
      "source": [
        "trainer.fine_tune(\n",
        "    'resources/relations/',\n",
        "    max_epochs=10,\n",
        "    learning_rate=4e-5,\n",
        "    mini_batch_size=4,\n",
        "    main_evaluation_metric=(\"macro avg\", \"f1-score\"),\n",
        "    shuffle=False,\n",
        ")"
      ],
      "metadata": {
        "colab": {
          "base_uri": "https://localhost:8080/"
        },
        "id": "w_yonsLdYKZm",
        "outputId": "3a204128-99d5-4126-c04d-984f245b112a"
      },
      "execution_count": 6,
      "outputs": [
        {
          "output_type": "stream",
          "name": "stdout",
          "text": [
            "2023-10-18 10:49:09,893 ----------------------------------------------------------------------------------------------------\n",
            "2023-10-18 10:49:09,895 Model: \"RelationClassifier(\n",
            "  (embeddings): TransformerDocumentEmbeddings(\n",
            "    (model): DistilBertModel(\n",
            "      (embeddings): Embeddings(\n",
            "        (word_embeddings): Embedding(30523, 768)\n",
            "        (position_embeddings): Embedding(512, 768)\n",
            "        (LayerNorm): LayerNorm((768,), eps=1e-12, elementwise_affine=True)\n",
            "        (dropout): Dropout(p=0.1, inplace=False)\n",
            "      )\n",
            "      (transformer): Transformer(\n",
            "        (layer): ModuleList(\n",
            "          (0-5): 6 x TransformerBlock(\n",
            "            (attention): MultiHeadSelfAttention(\n",
            "              (dropout): Dropout(p=0.1, inplace=False)\n",
            "              (q_lin): Linear(in_features=768, out_features=768, bias=True)\n",
            "              (k_lin): Linear(in_features=768, out_features=768, bias=True)\n",
            "              (v_lin): Linear(in_features=768, out_features=768, bias=True)\n",
            "              (out_lin): Linear(in_features=768, out_features=768, bias=True)\n",
            "            )\n",
            "            (sa_layer_norm): LayerNorm((768,), eps=1e-12, elementwise_affine=True)\n",
            "            (ffn): FFN(\n",
            "              (dropout): Dropout(p=0.1, inplace=False)\n",
            "              (lin1): Linear(in_features=768, out_features=3072, bias=True)\n",
            "              (lin2): Linear(in_features=3072, out_features=768, bias=True)\n",
            "              (activation): GELUActivation()\n",
            "            )\n",
            "            (output_layer_norm): LayerNorm((768,), eps=1e-12, elementwise_affine=True)\n",
            "          )\n",
            "        )\n",
            "      )\n",
            "    )\n",
            "  )\n",
            "  (decoder): Linear(in_features=768, out_features=7, bias=True)\n",
            "  (dropout): Dropout(p=0.0, inplace=False)\n",
            "  (locked_dropout): LockedDropout(p=0.0)\n",
            "  (word_dropout): WordDropout(p=0.0)\n",
            "  (loss_function): CrossEntropyLoss()\n",
            "  (weights): None\n",
            "  (weight_tensor) None\n",
            ")\"\n",
            "2023-10-18 10:49:09,899 ----------------------------------------------------------------------------------------------------\n",
            "2023-10-18 10:49:09,900 Corpus: \"Corpus: 11310 train + 2403 dev + 2560 test sentences\"\n",
            "2023-10-18 10:49:09,901 ----------------------------------------------------------------------------------------------------\n",
            "2023-10-18 10:49:09,905 Parameters:\n",
            "2023-10-18 10:49:09,906  - learning_rate: \"0.000040\"\n",
            "2023-10-18 10:49:09,907  - mini_batch_size: \"4\"\n",
            "2023-10-18 10:49:09,909  - patience: \"3\"\n",
            "2023-10-18 10:49:09,910  - anneal_factor: \"0.5\"\n",
            "2023-10-18 10:49:09,911  - max_epochs: \"25\"\n",
            "2023-10-18 10:49:09,913  - shuffle: \"False\"\n",
            "2023-10-18 10:49:09,914  - train_with_dev: \"False\"\n",
            "2023-10-18 10:49:09,915  - batch_growth_annealing: \"False\"\n",
            "2023-10-18 10:49:09,917 ----------------------------------------------------------------------------------------------------\n",
            "2023-10-18 10:49:09,918 Model training base path: \"resources/relations\"\n",
            "2023-10-18 10:49:09,919 ----------------------------------------------------------------------------------------------------\n",
            "2023-10-18 10:49:09,920 Device: cuda:0\n",
            "2023-10-18 10:49:09,921 ----------------------------------------------------------------------------------------------------\n",
            "2023-10-18 10:49:09,922 Embeddings storage mode: none\n",
            "2023-10-18 10:49:09,923 ----------------------------------------------------------------------------------------------------\n",
            "2023-10-18 10:49:36,481 epoch 1 - iter 282/2828 - loss 0.61594524 - time (sec): 26.56 - samples/sec: 42.47 - lr: 0.000002\n",
            "2023-10-18 10:49:58,538 epoch 1 - iter 564/2828 - loss 0.46490676 - time (sec): 48.61 - samples/sec: 46.41 - lr: 0.000003\n",
            "2023-10-18 10:50:20,759 epoch 1 - iter 846/2828 - loss 0.41123102 - time (sec): 70.83 - samples/sec: 47.77 - lr: 0.000005\n",
            "2023-10-18 10:50:40,482 epoch 1 - iter 1128/2828 - loss 0.41259349 - time (sec): 90.56 - samples/sec: 49.82 - lr: 0.000006\n",
            "2023-10-18 10:50:56,599 epoch 1 - iter 1410/2828 - loss 0.42003251 - time (sec): 106.67 - samples/sec: 52.87 - lr: 0.000008\n",
            "2023-10-18 10:51:18,964 epoch 1 - iter 1692/2828 - loss 0.39837211 - time (sec): 129.04 - samples/sec: 52.45 - lr: 0.000010\n",
            "2023-10-18 10:51:37,872 epoch 1 - iter 1974/2828 - loss 0.40781087 - time (sec): 147.95 - samples/sec: 53.37 - lr: 0.000011\n",
            "2023-10-18 10:51:55,861 epoch 1 - iter 2256/2828 - loss 0.39538446 - time (sec): 165.94 - samples/sec: 54.38 - lr: 0.000013\n",
            "2023-10-18 10:52:14,064 epoch 1 - iter 2538/2828 - loss 0.40064876 - time (sec): 184.14 - samples/sec: 55.13 - lr: 0.000014\n",
            "2023-10-18 10:52:30,739 epoch 1 - iter 2820/2828 - loss 0.39582374 - time (sec): 200.81 - samples/sec: 56.17 - lr: 0.000016\n",
            "2023-10-18 10:52:31,287 ----------------------------------------------------------------------------------------------------\n",
            "2023-10-18 10:52:31,289 EPOCH 1 done: loss 0.3962 - lr 0.000016\n"
          ]
        },
        {
          "output_type": "stream",
          "name": "stderr",
          "text": [
            "100%|██████████| 601/601 [00:19<00:00, 30.43it/s]\n"
          ]
        },
        {
          "output_type": "stream",
          "name": "stdout",
          "text": [
            "2023-10-18 10:52:51,072 Evaluating as a multi-label problem: False\n",
            "2023-10-18 10:52:51,103 DEV : loss 0.2600390315055847 - f1-score (macro avg)  0.4547\n",
            "2023-10-18 10:52:51,303 ----------------------------------------------------------------------------------------------------\n",
            "2023-10-18 10:53:14,031 epoch 2 - iter 282/2828 - loss 0.08470342 - time (sec): 22.73 - samples/sec: 49.63 - lr: 0.000018\n",
            "2023-10-18 10:53:35,938 epoch 2 - iter 564/2828 - loss 0.11936852 - time (sec): 44.63 - samples/sec: 50.55 - lr: 0.000019\n",
            "2023-10-18 10:53:58,245 epoch 2 - iter 846/2828 - loss 0.14879789 - time (sec): 66.94 - samples/sec: 50.55 - lr: 0.000021\n",
            "2023-10-18 10:54:17,938 epoch 2 - iter 1128/2828 - loss 0.17760354 - time (sec): 86.63 - samples/sec: 52.08 - lr: 0.000022\n",
            "2023-10-18 10:54:34,291 epoch 2 - iter 1410/2828 - loss 0.19915226 - time (sec): 102.99 - samples/sec: 54.76 - lr: 0.000024\n",
            "2023-10-18 10:54:56,772 epoch 2 - iter 1692/2828 - loss 0.19511761 - time (sec): 125.47 - samples/sec: 53.94 - lr: 0.000026\n",
            "2023-10-18 10:55:15,718 epoch 2 - iter 1974/2828 - loss 0.18977531 - time (sec): 144.41 - samples/sec: 54.68 - lr: 0.000027\n",
            "2023-10-18 10:55:33,927 epoch 2 - iter 2256/2828 - loss 0.18426927 - time (sec): 162.62 - samples/sec: 55.49 - lr: 0.000029\n",
            "2023-10-18 10:55:50,800 epoch 2 - iter 2538/2828 - loss 0.18859117 - time (sec): 179.50 - samples/sec: 56.56 - lr: 0.000030\n",
            "2023-10-18 10:56:07,620 epoch 2 - iter 2820/2828 - loss 0.19145805 - time (sec): 196.32 - samples/sec: 57.46 - lr: 0.000032\n",
            "2023-10-18 10:56:08,156 ----------------------------------------------------------------------------------------------------\n",
            "2023-10-18 10:56:08,157 EPOCH 2 done: loss 0.1921 - lr 0.000032\n"
          ]
        },
        {
          "output_type": "stream",
          "name": "stderr",
          "text": [
            "100%|██████████| 601/601 [00:20<00:00, 28.79it/s]\n"
          ]
        },
        {
          "output_type": "stream",
          "name": "stdout",
          "text": [
            "2023-10-18 10:56:29,093 Evaluating as a multi-label problem: False\n",
            "2023-10-18 10:56:29,139 DEV : loss 0.2930014729499817 - f1-score (macro avg)  0.5596\n",
            "2023-10-18 10:56:29,533 ----------------------------------------------------------------------------------------------------\n",
            "2023-10-18 10:56:53,683 epoch 3 - iter 282/2828 - loss 0.06538009 - time (sec): 24.15 - samples/sec: 46.71 - lr: 0.000034\n",
            "2023-10-18 10:57:15,718 epoch 3 - iter 564/2828 - loss 0.10247270 - time (sec): 46.18 - samples/sec: 48.85 - lr: 0.000035\n",
            "2023-10-18 10:57:38,705 epoch 3 - iter 846/2828 - loss 0.13728137 - time (sec): 69.17 - samples/sec: 48.92 - lr: 0.000037\n",
            "2023-10-18 10:57:58,235 epoch 3 - iter 1128/2828 - loss 0.16489833 - time (sec): 88.70 - samples/sec: 50.87 - lr: 0.000038\n",
            "2023-10-18 10:58:14,338 epoch 3 - iter 1410/2828 - loss 0.17662764 - time (sec): 104.80 - samples/sec: 53.82 - lr: 0.000040\n",
            "2023-10-18 10:58:36,217 epoch 3 - iter 1692/2828 - loss 0.17749560 - time (sec): 126.68 - samples/sec: 53.43 - lr: 0.000040\n",
            "2023-10-18 10:58:54,899 epoch 3 - iter 1974/2828 - loss 0.17768549 - time (sec): 145.36 - samples/sec: 54.32 - lr: 0.000040\n",
            "2023-10-18 10:59:12,871 epoch 3 - iter 2256/2828 - loss 0.17254040 - time (sec): 163.34 - samples/sec: 55.25 - lr: 0.000039\n",
            "2023-10-18 10:59:29,434 epoch 3 - iter 2538/2828 - loss 0.17089332 - time (sec): 179.90 - samples/sec: 56.43 - lr: 0.000039\n",
            "2023-10-18 10:59:45,913 epoch 3 - iter 2820/2828 - loss 0.17108075 - time (sec): 196.38 - samples/sec: 57.44 - lr: 0.000039\n",
            "2023-10-18 10:59:46,554 ----------------------------------------------------------------------------------------------------\n",
            "2023-10-18 10:59:46,560 EPOCH 3 done: loss 0.1721 - lr 0.000039\n"
          ]
        },
        {
          "output_type": "stream",
          "name": "stderr",
          "text": [
            "100%|██████████| 601/601 [00:21<00:00, 28.45it/s]\n"
          ]
        },
        {
          "output_type": "stream",
          "name": "stdout",
          "text": [
            "2023-10-18 11:00:07,726 Evaluating as a multi-label problem: False\n",
            "2023-10-18 11:00:07,768 DEV : loss 0.20775718986988068 - f1-score (macro avg)  0.724\n",
            "2023-10-18 11:00:08,128 ----------------------------------------------------------------------------------------------------\n",
            "2023-10-18 11:00:30,241 epoch 4 - iter 282/2828 - loss 0.05130505 - time (sec): 22.11 - samples/sec: 51.02 - lr: 0.000039\n",
            "2023-10-18 11:00:52,445 epoch 4 - iter 564/2828 - loss 0.09153126 - time (sec): 44.31 - samples/sec: 50.91 - lr: 0.000039\n",
            "2023-10-18 11:01:16,865 epoch 4 - iter 846/2828 - loss 0.12818841 - time (sec): 68.73 - samples/sec: 49.23 - lr: 0.000039\n",
            "2023-10-18 11:01:36,048 epoch 4 - iter 1128/2828 - loss 0.13862627 - time (sec): 87.92 - samples/sec: 51.32 - lr: 0.000038\n",
            "2023-10-18 11:01:55,040 epoch 4 - iter 1410/2828 - loss 0.14699837 - time (sec): 106.91 - samples/sec: 52.76 - lr: 0.000038\n",
            "2023-10-18 11:02:17,018 epoch 4 - iter 1692/2828 - loss 0.13709786 - time (sec): 128.89 - samples/sec: 52.51 - lr: 0.000038\n",
            "2023-10-18 11:02:36,089 epoch 4 - iter 1974/2828 - loss 0.14020151 - time (sec): 147.96 - samples/sec: 53.37 - lr: 0.000038\n",
            "2023-10-18 11:02:54,229 epoch 4 - iter 2256/2828 - loss 0.14075288 - time (sec): 166.10 - samples/sec: 54.33 - lr: 0.000038\n",
            "2023-10-18 11:03:10,747 epoch 4 - iter 2538/2828 - loss 0.14687532 - time (sec): 182.62 - samples/sec: 55.59 - lr: 0.000038\n",
            "2023-10-18 11:03:27,209 epoch 4 - iter 2820/2828 - loss 0.14398795 - time (sec): 199.08 - samples/sec: 56.66 - lr: 0.000037\n",
            "2023-10-18 11:03:27,817 ----------------------------------------------------------------------------------------------------\n",
            "2023-10-18 11:03:27,822 EPOCH 4 done: loss 0.1447 - lr 0.000037\n"
          ]
        },
        {
          "output_type": "stream",
          "name": "stderr",
          "text": [
            "100%|██████████| 601/601 [00:19<00:00, 30.75it/s]\n"
          ]
        },
        {
          "output_type": "stream",
          "name": "stdout",
          "text": [
            "2023-10-18 11:03:47,398 Evaluating as a multi-label problem: False\n",
            "2023-10-18 11:03:47,430 DEV : loss 0.2600593864917755 - f1-score (macro avg)  0.6931\n",
            "2023-10-18 11:03:47,619 ----------------------------------------------------------------------------------------------------\n",
            "2023-10-18 11:04:09,510 epoch 5 - iter 282/2828 - loss 0.05065534 - time (sec): 21.89 - samples/sec: 51.53 - lr: 0.000037\n",
            "2023-10-18 11:04:31,886 epoch 5 - iter 564/2828 - loss 0.07625978 - time (sec): 44.27 - samples/sec: 50.96 - lr: 0.000037\n",
            "2023-10-18 11:04:54,279 epoch 5 - iter 846/2828 - loss 0.10378107 - time (sec): 66.66 - samples/sec: 50.77 - lr: 0.000037\n",
            "2023-10-18 11:05:13,318 epoch 5 - iter 1128/2828 - loss 0.12567849 - time (sec): 85.70 - samples/sec: 52.65 - lr: 0.000037\n",
            "2023-10-18 11:05:30,481 epoch 5 - iter 1410/2828 - loss 0.13133639 - time (sec): 102.86 - samples/sec: 54.83 - lr: 0.000036\n",
            "2023-10-18 11:05:53,158 epoch 5 - iter 1692/2828 - loss 0.12083541 - time (sec): 125.54 - samples/sec: 53.91 - lr: 0.000036\n",
            "2023-10-18 11:06:12,009 epoch 5 - iter 1974/2828 - loss 0.12027251 - time (sec): 144.39 - samples/sec: 54.69 - lr: 0.000036\n",
            "2023-10-18 11:06:29,973 epoch 5 - iter 2256/2828 - loss 0.11785815 - time (sec): 162.35 - samples/sec: 55.58 - lr: 0.000036\n",
            "2023-10-18 11:06:46,548 epoch 5 - iter 2538/2828 - loss 0.11658541 - time (sec): 178.93 - samples/sec: 56.74 - lr: 0.000036\n",
            "2023-10-18 11:07:02,984 epoch 5 - iter 2820/2828 - loss 0.11512303 - time (sec): 195.36 - samples/sec: 57.74 - lr: 0.000036\n",
            "2023-10-18 11:07:03,528 ----------------------------------------------------------------------------------------------------\n",
            "2023-10-18 11:07:03,530 EPOCH 5 done: loss 0.1152 - lr 0.000036\n"
          ]
        },
        {
          "output_type": "stream",
          "name": "stderr",
          "text": [
            "100%|██████████| 601/601 [00:19<00:00, 30.66it/s]"
          ]
        },
        {
          "output_type": "stream",
          "name": "stdout",
          "text": [
            "2023-10-18 11:07:23,162 Evaluating as a multi-label problem: False\n",
            "2023-10-18 11:07:23,187 DEV : loss 0.20253099501132965 - f1-score (macro avg)  0.7537\n"
          ]
        },
        {
          "output_type": "stream",
          "name": "stderr",
          "text": [
            "\n"
          ]
        },
        {
          "output_type": "stream",
          "name": "stdout",
          "text": [
            "2023-10-18 11:07:23,387 ----------------------------------------------------------------------------------------------------\n",
            "2023-10-18 11:07:45,466 epoch 6 - iter 282/2828 - loss 0.04010085 - time (sec): 22.08 - samples/sec: 51.09 - lr: 0.000035\n",
            "2023-10-18 11:08:07,930 epoch 6 - iter 564/2828 - loss 0.06080684 - time (sec): 44.54 - samples/sec: 50.65 - lr: 0.000035\n",
            "2023-10-18 11:08:30,064 epoch 6 - iter 846/2828 - loss 0.09678713 - time (sec): 66.68 - samples/sec: 50.75 - lr: 0.000035\n",
            "2023-10-18 11:08:49,169 epoch 6 - iter 1128/2828 - loss 0.10406746 - time (sec): 85.78 - samples/sec: 52.60 - lr: 0.000035\n",
            "2023-10-18 11:09:05,231 epoch 6 - iter 1410/2828 - loss 0.10765278 - time (sec): 101.84 - samples/sec: 55.38 - lr: 0.000035\n",
            "2023-10-18 11:09:28,115 epoch 6 - iter 1692/2828 - loss 0.09966774 - time (sec): 124.73 - samples/sec: 54.26 - lr: 0.000034\n",
            "2023-10-18 11:09:46,844 epoch 6 - iter 1974/2828 - loss 0.10319472 - time (sec): 143.46 - samples/sec: 55.04 - lr: 0.000034\n",
            "2023-10-18 11:10:05,756 epoch 6 - iter 2256/2828 - loss 0.10112868 - time (sec): 162.37 - samples/sec: 55.58 - lr: 0.000034\n",
            "2023-10-18 11:10:22,255 epoch 6 - iter 2538/2828 - loss 0.10046150 - time (sec): 178.87 - samples/sec: 56.76 - lr: 0.000034\n",
            "2023-10-18 11:10:38,782 epoch 6 - iter 2820/2828 - loss 0.09778106 - time (sec): 195.39 - samples/sec: 57.73 - lr: 0.000034\n",
            "2023-10-18 11:10:39,335 ----------------------------------------------------------------------------------------------------\n",
            "2023-10-18 11:10:39,337 EPOCH 6 done: loss 0.0977 - lr 0.000034\n"
          ]
        },
        {
          "output_type": "stream",
          "name": "stderr",
          "text": [
            "100%|██████████| 601/601 [00:19<00:00, 30.27it/s]"
          ]
        },
        {
          "output_type": "stream",
          "name": "stdout",
          "text": [
            "2023-10-18 11:10:59,221 Evaluating as a multi-label problem: False\n"
          ]
        },
        {
          "output_type": "stream",
          "name": "stderr",
          "text": [
            "\n"
          ]
        },
        {
          "output_type": "stream",
          "name": "stdout",
          "text": [
            "2023-10-18 11:10:59,257 DEV : loss 0.1795138567686081 - f1-score (macro avg)  0.7798\n",
            "2023-10-18 11:10:59,470 ----------------------------------------------------------------------------------------------------\n",
            "2023-10-18 11:11:22,048 epoch 7 - iter 282/2828 - loss 0.04986610 - time (sec): 22.58 - samples/sec: 49.96 - lr: 0.000034\n",
            "2023-10-18 11:11:44,105 epoch 7 - iter 564/2828 - loss 0.05245165 - time (sec): 44.63 - samples/sec: 50.55 - lr: 0.000033\n",
            "2023-10-18 11:12:06,408 epoch 7 - iter 846/2828 - loss 0.09012741 - time (sec): 66.94 - samples/sec: 50.56 - lr: 0.000033\n",
            "2023-10-18 11:12:26,020 epoch 7 - iter 1128/2828 - loss 0.08695027 - time (sec): 86.55 - samples/sec: 52.13 - lr: 0.000033\n",
            "2023-10-18 11:12:42,080 epoch 7 - iter 1410/2828 - loss 0.09136951 - time (sec): 102.61 - samples/sec: 54.97 - lr: 0.000033\n",
            "2023-10-18 11:13:04,585 epoch 7 - iter 1692/2828 - loss 0.08247466 - time (sec): 125.11 - samples/sec: 54.10 - lr: 0.000033\n",
            "2023-10-18 11:13:23,505 epoch 7 - iter 1974/2828 - loss 0.07986311 - time (sec): 144.03 - samples/sec: 54.82 - lr: 0.000033\n",
            "2023-10-18 11:13:41,490 epoch 7 - iter 2256/2828 - loss 0.08030525 - time (sec): 162.02 - samples/sec: 55.70 - lr: 0.000032\n",
            "2023-10-18 11:13:58,195 epoch 7 - iter 2538/2828 - loss 0.07983908 - time (sec): 178.72 - samples/sec: 56.80 - lr: 0.000032\n",
            "2023-10-18 11:14:15,538 epoch 7 - iter 2820/2828 - loss 0.07693990 - time (sec): 196.07 - samples/sec: 57.53 - lr: 0.000032\n",
            "2023-10-18 11:14:16,193 ----------------------------------------------------------------------------------------------------\n",
            "2023-10-18 11:14:16,196 EPOCH 7 done: loss 0.0789 - lr 0.000032\n"
          ]
        },
        {
          "output_type": "stream",
          "name": "stderr",
          "text": [
            "100%|██████████| 601/601 [00:20<00:00, 28.62it/s]"
          ]
        },
        {
          "output_type": "stream",
          "name": "stdout",
          "text": [
            "2023-10-18 11:14:37,240 Evaluating as a multi-label problem: False\n",
            "2023-10-18 11:14:37,286 DEV : loss 0.2672145664691925 - f1-score (macro avg)  0.6569\n"
          ]
        },
        {
          "output_type": "stream",
          "name": "stderr",
          "text": [
            "\n"
          ]
        },
        {
          "output_type": "stream",
          "name": "stdout",
          "text": [
            "2023-10-18 11:14:37,636 ----------------------------------------------------------------------------------------------------\n",
            "2023-10-18 11:15:00,152 epoch 8 - iter 282/2828 - loss 0.02762717 - time (sec): 22.51 - samples/sec: 50.10 - lr: 0.000032\n",
            "2023-10-18 11:15:21,953 epoch 8 - iter 564/2828 - loss 0.05101961 - time (sec): 44.31 - samples/sec: 50.91 - lr: 0.000032\n",
            "2023-10-18 11:15:44,828 epoch 8 - iter 846/2828 - loss 0.08067172 - time (sec): 67.19 - samples/sec: 50.36 - lr: 0.000031\n",
            "2023-10-18 11:16:04,338 epoch 8 - iter 1128/2828 - loss 0.07714027 - time (sec): 86.70 - samples/sec: 52.04 - lr: 0.000031\n",
            "2023-10-18 11:16:20,469 epoch 8 - iter 1410/2828 - loss 0.07112617 - time (sec): 102.83 - samples/sec: 54.85 - lr: 0.000031\n",
            "2023-10-18 11:16:42,347 epoch 8 - iter 1692/2828 - loss 0.06775302 - time (sec): 124.71 - samples/sec: 54.27 - lr: 0.000031\n",
            "2023-10-18 11:17:01,040 epoch 8 - iter 1974/2828 - loss 0.06846257 - time (sec): 143.40 - samples/sec: 55.06 - lr: 0.000031\n",
            "2023-10-18 11:17:19,096 epoch 8 - iter 2256/2828 - loss 0.07012142 - time (sec): 161.46 - samples/sec: 55.89 - lr: 0.000031\n",
            "2023-10-18 11:17:35,697 epoch 8 - iter 2538/2828 - loss 0.07194372 - time (sec): 178.06 - samples/sec: 57.02 - lr: 0.000030\n",
            "2023-10-18 11:17:52,130 epoch 8 - iter 2820/2828 - loss 0.06806336 - time (sec): 194.49 - samples/sec: 58.00 - lr: 0.000030\n",
            "2023-10-18 11:17:52,772 ----------------------------------------------------------------------------------------------------\n",
            "2023-10-18 11:17:52,774 EPOCH 8 done: loss 0.0686 - lr 0.000030\n"
          ]
        },
        {
          "output_type": "stream",
          "name": "stderr",
          "text": [
            "100%|██████████| 601/601 [00:20<00:00, 28.78it/s]\n"
          ]
        },
        {
          "output_type": "stream",
          "name": "stdout",
          "text": [
            "2023-10-18 11:18:13,697 Evaluating as a multi-label problem: False\n",
            "2023-10-18 11:18:13,736 DEV : loss 0.27944689989089966 - f1-score (macro avg)  0.6343\n",
            "2023-10-18 11:18:14,083 ----------------------------------------------------------------------------------------------------\n",
            "2023-10-18 11:18:36,621 epoch 9 - iter 282/2828 - loss 0.04733123 - time (sec): 22.54 - samples/sec: 50.05 - lr: 0.000030\n",
            "2023-10-18 11:18:59,117 epoch 9 - iter 564/2828 - loss 0.04558574 - time (sec): 45.03 - samples/sec: 50.10 - lr: 0.000030\n",
            "2023-10-18 11:19:22,231 epoch 9 - iter 846/2828 - loss 0.06129244 - time (sec): 68.15 - samples/sec: 49.66 - lr: 0.000030\n",
            "2023-10-18 11:19:41,494 epoch 9 - iter 1128/2828 - loss 0.05580313 - time (sec): 87.41 - samples/sec: 51.62 - lr: 0.000030\n",
            "2023-10-18 11:19:57,954 epoch 9 - iter 1410/2828 - loss 0.05713382 - time (sec): 103.87 - samples/sec: 54.30 - lr: 0.000029\n",
            "2023-10-18 11:20:20,116 epoch 9 - iter 1692/2828 - loss 0.05281347 - time (sec): 126.03 - samples/sec: 53.70 - lr: 0.000029\n",
            "2023-10-18 11:20:39,219 epoch 9 - iter 1974/2828 - loss 0.05548052 - time (sec): 145.13 - samples/sec: 54.40 - lr: 0.000029\n",
            "2023-10-18 11:20:57,612 epoch 9 - iter 2256/2828 - loss 0.05648999 - time (sec): 163.53 - samples/sec: 55.18 - lr: 0.000029\n",
            "2023-10-18 11:21:14,257 epoch 9 - iter 2538/2828 - loss 0.05425041 - time (sec): 180.17 - samples/sec: 56.35 - lr: 0.000029\n",
            "2023-10-18 11:21:30,824 epoch 9 - iter 2820/2828 - loss 0.05690664 - time (sec): 196.74 - samples/sec: 57.33 - lr: 0.000028\n",
            "2023-10-18 11:21:31,465 ----------------------------------------------------------------------------------------------------\n",
            "2023-10-18 11:21:31,467 EPOCH 9 done: loss 0.0573 - lr 0.000028\n"
          ]
        },
        {
          "output_type": "stream",
          "name": "stderr",
          "text": [
            "100%|██████████| 601/601 [00:20<00:00, 29.51it/s]"
          ]
        },
        {
          "output_type": "stream",
          "name": "stdout",
          "text": [
            "2023-10-18 11:21:51,865 Evaluating as a multi-label problem: False\n"
          ]
        },
        {
          "output_type": "stream",
          "name": "stderr",
          "text": [
            "\n"
          ]
        },
        {
          "output_type": "stream",
          "name": "stdout",
          "text": [
            "2023-10-18 11:21:51,894 DEV : loss 0.21669121086597443 - f1-score (macro avg)  0.7375\n",
            "2023-10-18 11:21:52,100 ----------------------------------------------------------------------------------------------------\n",
            "2023-10-18 11:22:14,010 epoch 10 - iter 282/2828 - loss 0.03060216 - time (sec): 21.91 - samples/sec: 51.49 - lr: 0.000028\n",
            "2023-10-18 11:22:36,070 epoch 10 - iter 564/2828 - loss 0.03205963 - time (sec): 43.97 - samples/sec: 51.31 - lr: 0.000028\n",
            "2023-10-18 11:22:59,043 epoch 10 - iter 846/2828 - loss 0.04843168 - time (sec): 66.94 - samples/sec: 50.55 - lr: 0.000028\n",
            "2023-10-18 11:23:18,868 epoch 10 - iter 1128/2828 - loss 0.04454282 - time (sec): 86.77 - samples/sec: 52.00 - lr: 0.000028\n",
            "2023-10-18 11:23:35,069 epoch 10 - iter 1410/2828 - loss 0.04018190 - time (sec): 102.97 - samples/sec: 54.77 - lr: 0.000028\n",
            "2023-10-18 11:23:57,060 epoch 10 - iter 1692/2828 - loss 0.03619311 - time (sec): 124.96 - samples/sec: 54.16 - lr: 0.000027\n",
            "2023-10-18 11:24:16,127 epoch 10 - iter 1974/2828 - loss 0.03736004 - time (sec): 144.02 - samples/sec: 54.82 - lr: 0.000027\n",
            "2023-10-18 11:24:34,466 epoch 10 - iter 2256/2828 - loss 0.04033828 - time (sec): 162.36 - samples/sec: 55.58 - lr: 0.000027\n",
            "2023-10-18 11:24:51,059 epoch 10 - iter 2538/2828 - loss 0.04030280 - time (sec): 178.96 - samples/sec: 56.73 - lr: 0.000027\n",
            "2023-10-18 11:25:07,554 epoch 10 - iter 2820/2828 - loss 0.04314464 - time (sec): 195.45 - samples/sec: 57.71 - lr: 0.000027\n",
            "2023-10-18 11:25:08,157 ----------------------------------------------------------------------------------------------------\n",
            "2023-10-18 11:25:08,159 EPOCH 10 done: loss 0.0431 - lr 0.000027\n"
          ]
        },
        {
          "output_type": "stream",
          "name": "stderr",
          "text": [
            "100%|██████████| 601/601 [00:19<00:00, 30.28it/s]"
          ]
        },
        {
          "output_type": "stream",
          "name": "stdout",
          "text": [
            "2023-10-18 11:25:28,036 Evaluating as a multi-label problem: False\n",
            "2023-10-18 11:25:28,063 DEV : loss 0.17814014852046967 - f1-score (macro avg)  0.7977\n"
          ]
        },
        {
          "output_type": "stream",
          "name": "stderr",
          "text": [
            "\n"
          ]
        },
        {
          "output_type": "stream",
          "name": "stdout",
          "text": [
            "2023-10-18 11:25:28,275 ----------------------------------------------------------------------------------------------------\n",
            "2023-10-18 11:25:50,205 epoch 11 - iter 282/2828 - loss 0.02696433 - time (sec): 21.93 - samples/sec: 51.44 - lr: 0.000026\n",
            "2023-10-18 11:26:12,775 epoch 11 - iter 564/2828 - loss 0.02341498 - time (sec): 44.50 - samples/sec: 50.70 - lr: 0.000026\n",
            "2023-10-18 11:26:35,299 epoch 11 - iter 846/2828 - loss 0.04010620 - time (sec): 67.02 - samples/sec: 50.49 - lr: 0.000026\n",
            "2023-10-18 11:26:54,359 epoch 11 - iter 1128/2828 - loss 0.03789520 - time (sec): 86.08 - samples/sec: 52.42 - lr: 0.000026\n",
            "2023-10-18 11:27:10,575 epoch 11 - iter 1410/2828 - loss 0.03333390 - time (sec): 102.30 - samples/sec: 55.13 - lr: 0.000026\n",
            "2023-10-18 11:27:34,097 epoch 11 - iter 1692/2828 - loss 0.02988902 - time (sec): 125.82 - samples/sec: 53.79 - lr: 0.000026\n",
            "2023-10-18 11:27:53,040 epoch 11 - iter 1974/2828 - loss 0.02972246 - time (sec): 144.76 - samples/sec: 54.54 - lr: 0.000025\n",
            "2023-10-18 11:28:11,231 epoch 11 - iter 2256/2828 - loss 0.03473308 - time (sec): 162.95 - samples/sec: 55.38 - lr: 0.000025\n",
            "2023-10-18 11:28:27,814 epoch 11 - iter 2538/2828 - loss 0.03571003 - time (sec): 179.54 - samples/sec: 56.55 - lr: 0.000025\n",
            "2023-10-18 11:28:44,262 epoch 11 - iter 2820/2828 - loss 0.03614155 - time (sec): 195.98 - samples/sec: 57.56 - lr: 0.000025\n",
            "2023-10-18 11:28:44,809 ----------------------------------------------------------------------------------------------------\n",
            "2023-10-18 11:28:44,810 EPOCH 11 done: loss 0.0360 - lr 0.000025\n"
          ]
        },
        {
          "output_type": "stream",
          "name": "stderr",
          "text": [
            "100%|██████████| 601/601 [00:19<00:00, 30.62it/s]"
          ]
        },
        {
          "output_type": "stream",
          "name": "stdout",
          "text": [
            "2023-10-18 11:29:04,478 Evaluating as a multi-label problem: False\n",
            "2023-10-18 11:29:04,504 DEV : loss 0.23378460109233856 - f1-score (macro avg)  0.7687\n"
          ]
        },
        {
          "output_type": "stream",
          "name": "stderr",
          "text": [
            "\n"
          ]
        },
        {
          "output_type": "stream",
          "name": "stdout",
          "text": [
            "2023-10-18 11:29:04,718 ----------------------------------------------------------------------------------------------------\n",
            "2023-10-18 11:29:27,707 epoch 12 - iter 282/2828 - loss 0.00353817 - time (sec): 22.99 - samples/sec: 49.07 - lr: 0.000025\n",
            "2023-10-18 11:29:52,287 epoch 12 - iter 564/2828 - loss 0.01337792 - time (sec): 47.57 - samples/sec: 47.43 - lr: 0.000025\n",
            "2023-10-18 11:30:14,471 epoch 12 - iter 846/2828 - loss 0.03703330 - time (sec): 69.75 - samples/sec: 48.52 - lr: 0.000024\n",
            "2023-10-18 11:30:33,696 epoch 12 - iter 1128/2828 - loss 0.03039385 - time (sec): 88.98 - samples/sec: 50.71 - lr: 0.000024\n",
            "2023-10-18 11:30:49,681 epoch 12 - iter 1410/2828 - loss 0.02836342 - time (sec): 104.96 - samples/sec: 53.73 - lr: 0.000024\n",
            "2023-10-18 11:31:12,405 epoch 12 - iter 1692/2828 - loss 0.02731768 - time (sec): 127.69 - samples/sec: 53.01 - lr: 0.000024\n",
            "2023-10-18 11:31:31,166 epoch 12 - iter 1974/2828 - loss 0.02838528 - time (sec): 146.45 - samples/sec: 53.92 - lr: 0.000024\n",
            "2023-10-18 11:31:50,579 epoch 12 - iter 2256/2828 - loss 0.03211334 - time (sec): 165.86 - samples/sec: 54.41 - lr: 0.000023\n",
            "2023-10-18 11:32:08,288 epoch 12 - iter 2538/2828 - loss 0.03050357 - time (sec): 183.57 - samples/sec: 55.30 - lr: 0.000023\n",
            "2023-10-18 11:32:24,716 epoch 12 - iter 2820/2828 - loss 0.03036754 - time (sec): 200.00 - samples/sec: 56.40 - lr: 0.000023\n",
            "2023-10-18 11:32:25,258 ----------------------------------------------------------------------------------------------------\n",
            "2023-10-18 11:32:25,259 EPOCH 12 done: loss 0.0303 - lr 0.000023\n"
          ]
        },
        {
          "output_type": "stream",
          "name": "stderr",
          "text": [
            "100%|██████████| 601/601 [00:19<00:00, 30.59it/s]"
          ]
        },
        {
          "output_type": "stream",
          "name": "stdout",
          "text": [
            "2023-10-18 11:32:44,938 Evaluating as a multi-label problem: False\n",
            "2023-10-18 11:32:44,972 DEV : loss 0.25498121976852417 - f1-score (macro avg)  0.7738\n"
          ]
        },
        {
          "output_type": "stream",
          "name": "stderr",
          "text": [
            "\n"
          ]
        },
        {
          "output_type": "stream",
          "name": "stdout",
          "text": [
            "2023-10-18 11:32:45,185 ----------------------------------------------------------------------------------------------------\n",
            "2023-10-18 11:33:07,429 epoch 13 - iter 282/2828 - loss 0.01160731 - time (sec): 22.24 - samples/sec: 50.71 - lr: 0.000023\n",
            "2023-10-18 11:33:29,832 epoch 13 - iter 564/2828 - loss 0.01890672 - time (sec): 44.65 - samples/sec: 50.53 - lr: 0.000023\n",
            "2023-10-18 11:33:52,062 epoch 13 - iter 846/2828 - loss 0.04005034 - time (sec): 66.88 - samples/sec: 50.60 - lr: 0.000023\n",
            "2023-10-18 11:34:11,251 epoch 13 - iter 1128/2828 - loss 0.03691413 - time (sec): 86.06 - samples/sec: 52.43 - lr: 0.000022\n",
            "2023-10-18 11:34:27,486 epoch 13 - iter 1410/2828 - loss 0.03761663 - time (sec): 102.30 - samples/sec: 55.13 - lr: 0.000022\n",
            "2023-10-18 11:34:50,357 epoch 13 - iter 1692/2828 - loss 0.03605967 - time (sec): 125.17 - samples/sec: 54.07 - lr: 0.000022\n",
            "2023-10-18 11:35:09,187 epoch 13 - iter 1974/2828 - loss 0.03656697 - time (sec): 144.00 - samples/sec: 54.83 - lr: 0.000022\n",
            "2023-10-18 11:35:27,262 epoch 13 - iter 2256/2828 - loss 0.03478279 - time (sec): 162.08 - samples/sec: 55.68 - lr: 0.000022\n",
            "2023-10-18 11:35:43,797 epoch 13 - iter 2538/2828 - loss 0.03370619 - time (sec): 178.61 - samples/sec: 56.84 - lr: 0.000022\n",
            "2023-10-18 11:36:00,864 epoch 13 - iter 2820/2828 - loss 0.03488864 - time (sec): 195.68 - samples/sec: 57.65 - lr: 0.000021\n",
            "2023-10-18 11:36:01,509 ----------------------------------------------------------------------------------------------------\n",
            "2023-10-18 11:36:01,512 EPOCH 13 done: loss 0.0348 - lr 0.000021\n"
          ]
        },
        {
          "output_type": "stream",
          "name": "stderr",
          "text": [
            "100%|██████████| 601/601 [00:20<00:00, 28.84it/s]"
          ]
        },
        {
          "output_type": "stream",
          "name": "stdout",
          "text": [
            "2023-10-18 11:36:22,381 Evaluating as a multi-label problem: False\n",
            "2023-10-18 11:36:22,407 DEV : loss 0.2145482450723648 - f1-score (macro avg)  0.7824\n"
          ]
        },
        {
          "output_type": "stream",
          "name": "stderr",
          "text": [
            "\n"
          ]
        },
        {
          "output_type": "stream",
          "name": "stdout",
          "text": [
            "2023-10-18 11:36:22,609 ----------------------------------------------------------------------------------------------------\n",
            "2023-10-18 11:36:45,538 epoch 14 - iter 282/2828 - loss 0.00757685 - time (sec): 22.93 - samples/sec: 49.20 - lr: 0.000021\n",
            "2023-10-18 11:37:07,513 epoch 14 - iter 564/2828 - loss 0.02632227 - time (sec): 44.90 - samples/sec: 50.24 - lr: 0.000021\n",
            "2023-10-18 11:37:29,877 epoch 14 - iter 846/2828 - loss 0.04021784 - time (sec): 67.27 - samples/sec: 50.31 - lr: 0.000021\n",
            "2023-10-18 11:37:49,561 epoch 14 - iter 1128/2828 - loss 0.03214918 - time (sec): 86.95 - samples/sec: 51.89 - lr: 0.000021\n",
            "2023-10-18 11:38:05,653 epoch 14 - iter 1410/2828 - loss 0.02705602 - time (sec): 103.04 - samples/sec: 54.73 - lr: 0.000020\n",
            "2023-10-18 11:38:27,892 epoch 14 - iter 1692/2828 - loss 0.02427307 - time (sec): 125.28 - samples/sec: 54.02 - lr: 0.000020\n",
            "2023-10-18 11:38:46,782 epoch 14 - iter 1974/2828 - loss 0.02335555 - time (sec): 144.17 - samples/sec: 54.77 - lr: 0.000020\n",
            "2023-10-18 11:39:04,735 epoch 14 - iter 2256/2828 - loss 0.02181934 - time (sec): 162.12 - samples/sec: 55.66 - lr: 0.000020\n",
            "2023-10-18 11:39:21,353 epoch 14 - iter 2538/2828 - loss 0.02019180 - time (sec): 178.74 - samples/sec: 56.80 - lr: 0.000020\n",
            "2023-10-18 11:39:37,889 epoch 14 - iter 2820/2828 - loss 0.02256264 - time (sec): 195.28 - samples/sec: 57.76 - lr: 0.000020\n",
            "2023-10-18 11:39:38,422 ----------------------------------------------------------------------------------------------------\n",
            "2023-10-18 11:39:38,423 EPOCH 14 done: loss 0.0231 - lr 0.000020\n"
          ]
        },
        {
          "output_type": "stream",
          "name": "stderr",
          "text": [
            "100%|██████████| 601/601 [00:20<00:00, 29.38it/s]"
          ]
        },
        {
          "output_type": "stream",
          "name": "stdout",
          "text": [
            "2023-10-18 11:39:58,928 Evaluating as a multi-label problem: False\n"
          ]
        },
        {
          "output_type": "stream",
          "name": "stderr",
          "text": [
            "\n"
          ]
        },
        {
          "output_type": "stream",
          "name": "stdout",
          "text": [
            "2023-10-18 11:39:58,976 DEV : loss 0.2427004873752594 - f1-score (macro avg)  0.7855\n",
            "2023-10-18 11:39:59,364 ----------------------------------------------------------------------------------------------------\n",
            "2023-10-18 11:40:22,689 epoch 15 - iter 282/2828 - loss 0.00709887 - time (sec): 23.32 - samples/sec: 48.36 - lr: 0.000019\n",
            "2023-10-18 11:40:45,031 epoch 15 - iter 564/2828 - loss 0.00624295 - time (sec): 45.66 - samples/sec: 49.40 - lr: 0.000019\n",
            "2023-10-18 11:41:07,865 epoch 15 - iter 846/2828 - loss 0.02665531 - time (sec): 68.50 - samples/sec: 49.40 - lr: 0.000019\n",
            "2023-10-18 11:41:27,646 epoch 15 - iter 1128/2828 - loss 0.02125890 - time (sec): 88.28 - samples/sec: 51.11 - lr: 0.000019\n",
            "2023-10-18 11:41:43,915 epoch 15 - iter 1410/2828 - loss 0.02104006 - time (sec): 104.55 - samples/sec: 53.95 - lr: 0.000019\n",
            "2023-10-18 11:42:05,963 epoch 15 - iter 1692/2828 - loss 0.02042336 - time (sec): 126.60 - samples/sec: 53.46 - lr: 0.000018\n",
            "2023-10-18 11:42:24,712 epoch 15 - iter 1974/2828 - loss 0.02076371 - time (sec): 145.35 - samples/sec: 54.33 - lr: 0.000018\n",
            "2023-10-18 11:42:42,710 epoch 15 - iter 2256/2828 - loss 0.02020368 - time (sec): 163.34 - samples/sec: 55.25 - lr: 0.000018\n",
            "2023-10-18 11:42:59,346 epoch 15 - iter 2538/2828 - loss 0.02143268 - time (sec): 179.98 - samples/sec: 56.41 - lr: 0.000018\n",
            "2023-10-18 11:43:15,857 epoch 15 - iter 2820/2828 - loss 0.02030988 - time (sec): 196.49 - samples/sec: 57.41 - lr: 0.000018\n",
            "2023-10-18 11:43:16,522 ----------------------------------------------------------------------------------------------------\n",
            "2023-10-18 11:43:16,528 EPOCH 15 done: loss 0.0203 - lr 0.000018\n"
          ]
        },
        {
          "output_type": "stream",
          "name": "stderr",
          "text": [
            "100%|██████████| 601/601 [00:21<00:00, 28.31it/s]"
          ]
        },
        {
          "output_type": "stream",
          "name": "stdout",
          "text": [
            "2023-10-18 11:43:37,802 Evaluating as a multi-label problem: False\n"
          ]
        },
        {
          "output_type": "stream",
          "name": "stderr",
          "text": [
            "\n"
          ]
        },
        {
          "output_type": "stream",
          "name": "stdout",
          "text": [
            "2023-10-18 11:43:37,853 DEV : loss 0.2434650957584381 - f1-score (macro avg)  0.8015\n",
            "2023-10-18 11:43:38,231 ----------------------------------------------------------------------------------------------------\n",
            "2023-10-18 11:44:00,358 epoch 16 - iter 282/2828 - loss 0.01138225 - time (sec): 22.12 - samples/sec: 50.98 - lr: 0.000018\n",
            "2023-10-18 11:44:22,149 epoch 16 - iter 564/2828 - loss 0.00762834 - time (sec): 43.92 - samples/sec: 51.37 - lr: 0.000017\n",
            "2023-10-18 11:44:46,299 epoch 16 - iter 846/2828 - loss 0.01821437 - time (sec): 68.06 - samples/sec: 49.72 - lr: 0.000017\n",
            "2023-10-18 11:45:06,104 epoch 16 - iter 1128/2828 - loss 0.01581591 - time (sec): 87.87 - samples/sec: 51.35 - lr: 0.000017\n",
            "2023-10-18 11:45:22,348 epoch 16 - iter 1410/2828 - loss 0.01564678 - time (sec): 104.11 - samples/sec: 54.17 - lr: 0.000017\n",
            "2023-10-18 11:45:44,376 epoch 16 - iter 1692/2828 - loss 0.01306416 - time (sec): 126.14 - samples/sec: 53.65 - lr: 0.000017\n",
            "2023-10-18 11:46:03,255 epoch 16 - iter 1974/2828 - loss 0.01433610 - time (sec): 145.02 - samples/sec: 54.45 - lr: 0.000017\n",
            "2023-10-18 11:46:21,424 epoch 16 - iter 2256/2828 - loss 0.01373129 - time (sec): 163.19 - samples/sec: 55.30 - lr: 0.000016\n",
            "2023-10-18 11:46:38,225 epoch 16 - iter 2538/2828 - loss 0.01453311 - time (sec): 179.99 - samples/sec: 56.40 - lr: 0.000016\n",
            "2023-10-18 11:46:55,025 epoch 16 - iter 2820/2828 - loss 0.01653381 - time (sec): 196.79 - samples/sec: 57.32 - lr: 0.000016\n",
            "2023-10-18 11:46:55,694 ----------------------------------------------------------------------------------------------------\n",
            "2023-10-18 11:46:55,701 EPOCH 16 done: loss 0.0165 - lr 0.000016\n"
          ]
        },
        {
          "output_type": "stream",
          "name": "stderr",
          "text": [
            "100%|██████████| 601/601 [00:21<00:00, 28.48it/s]\n"
          ]
        },
        {
          "output_type": "stream",
          "name": "stdout",
          "text": [
            "2023-10-18 11:47:16,841 Evaluating as a multi-label problem: False\n",
            "2023-10-18 11:47:16,885 DEV : loss 0.2629365921020508 - f1-score (macro avg)  0.8177\n",
            "2023-10-18 11:47:17,251 ----------------------------------------------------------------------------------------------------\n",
            "2023-10-18 11:47:39,438 epoch 17 - iter 282/2828 - loss 0.00383223 - time (sec): 22.18 - samples/sec: 50.85 - lr: 0.000016\n",
            "2023-10-18 11:48:01,378 epoch 17 - iter 564/2828 - loss 0.00964027 - time (sec): 44.12 - samples/sec: 51.13 - lr: 0.000016\n",
            "2023-10-18 11:48:24,559 epoch 17 - iter 846/2828 - loss 0.01943681 - time (sec): 67.30 - samples/sec: 50.28 - lr: 0.000015\n",
            "2023-10-18 11:48:43,779 epoch 17 - iter 1128/2828 - loss 0.01633645 - time (sec): 86.52 - samples/sec: 52.15 - lr: 0.000015\n",
            "2023-10-18 11:49:00,942 epoch 17 - iter 1410/2828 - loss 0.01556161 - time (sec): 103.69 - samples/sec: 54.40 - lr: 0.000015\n",
            "2023-10-18 11:49:23,258 epoch 17 - iter 1692/2828 - loss 0.01398230 - time (sec): 126.00 - samples/sec: 53.71 - lr: 0.000015\n",
            "2023-10-18 11:49:42,222 epoch 17 - iter 1974/2828 - loss 0.01559213 - time (sec): 144.97 - samples/sec: 54.47 - lr: 0.000015\n",
            "2023-10-18 11:50:00,535 epoch 17 - iter 2256/2828 - loss 0.01438179 - time (sec): 163.28 - samples/sec: 55.27 - lr: 0.000015\n",
            "2023-10-18 11:50:17,115 epoch 17 - iter 2538/2828 - loss 0.01473071 - time (sec): 179.86 - samples/sec: 56.44 - lr: 0.000014\n",
            "2023-10-18 11:50:33,670 epoch 17 - iter 2820/2828 - loss 0.01400729 - time (sec): 196.41 - samples/sec: 57.43 - lr: 0.000014\n",
            "2023-10-18 11:50:34,335 ----------------------------------------------------------------------------------------------------\n",
            "2023-10-18 11:50:34,337 EPOCH 17 done: loss 0.0140 - lr 0.000014\n"
          ]
        },
        {
          "output_type": "stream",
          "name": "stderr",
          "text": [
            "100%|██████████| 601/601 [00:20<00:00, 29.20it/s]"
          ]
        },
        {
          "output_type": "stream",
          "name": "stdout",
          "text": [
            "2023-10-18 11:50:54,954 Evaluating as a multi-label problem: False\n",
            "2023-10-18 11:50:54,986 DEV : loss 0.247612863779068 - f1-score (macro avg)  0.8175\n"
          ]
        },
        {
          "output_type": "stream",
          "name": "stderr",
          "text": [
            "\n"
          ]
        },
        {
          "output_type": "stream",
          "name": "stdout",
          "text": [
            "2023-10-18 11:50:55,193 ----------------------------------------------------------------------------------------------------\n",
            "2023-10-18 11:51:17,226 epoch 18 - iter 282/2828 - loss 0.00029901 - time (sec): 22.03 - samples/sec: 51.20 - lr: 0.000014\n",
            "2023-10-18 11:51:39,492 epoch 18 - iter 564/2828 - loss 0.00752100 - time (sec): 44.30 - samples/sec: 50.93 - lr: 0.000014\n",
            "2023-10-18 11:52:02,245 epoch 18 - iter 846/2828 - loss 0.01944701 - time (sec): 67.05 - samples/sec: 50.47 - lr: 0.000014\n",
            "2023-10-18 11:52:21,467 epoch 18 - iter 1128/2828 - loss 0.01513465 - time (sec): 86.27 - samples/sec: 52.30 - lr: 0.000014\n",
            "2023-10-18 11:52:37,668 epoch 18 - iter 1410/2828 - loss 0.01252205 - time (sec): 102.47 - samples/sec: 55.04 - lr: 0.000013\n",
            "2023-10-18 11:52:59,816 epoch 18 - iter 1692/2828 - loss 0.01043592 - time (sec): 124.62 - samples/sec: 54.31 - lr: 0.000013\n",
            "2023-10-18 11:53:19,975 epoch 18 - iter 1974/2828 - loss 0.01096941 - time (sec): 144.78 - samples/sec: 54.54 - lr: 0.000013\n",
            "2023-10-18 11:53:38,346 epoch 18 - iter 2256/2828 - loss 0.00961366 - time (sec): 163.15 - samples/sec: 55.31 - lr: 0.000013\n",
            "2023-10-18 11:53:54,871 epoch 18 - iter 2538/2828 - loss 0.01084983 - time (sec): 179.68 - samples/sec: 56.50 - lr: 0.000013\n",
            "2023-10-18 11:54:11,397 epoch 18 - iter 2820/2828 - loss 0.01045960 - time (sec): 196.20 - samples/sec: 57.49 - lr: 0.000012\n",
            "2023-10-18 11:54:12,031 ----------------------------------------------------------------------------------------------------\n",
            "2023-10-18 11:54:12,039 EPOCH 18 done: loss 0.0104 - lr 0.000012\n"
          ]
        },
        {
          "output_type": "stream",
          "name": "stderr",
          "text": [
            "100%|██████████| 601/601 [00:20<00:00, 29.91it/s]"
          ]
        },
        {
          "output_type": "stream",
          "name": "stdout",
          "text": [
            "2023-10-18 11:54:32,165 Evaluating as a multi-label problem: False\n"
          ]
        },
        {
          "output_type": "stream",
          "name": "stderr",
          "text": [
            "\n"
          ]
        },
        {
          "output_type": "stream",
          "name": "stdout",
          "text": [
            "2023-10-18 11:54:32,195 DEV : loss 0.2939729690551758 - f1-score (macro avg)  0.7852\n",
            "2023-10-18 11:54:32,407 ----------------------------------------------------------------------------------------------------\n",
            "2023-10-18 11:54:54,356 epoch 19 - iter 282/2828 - loss 0.00000325 - time (sec): 21.95 - samples/sec: 51.40 - lr: 0.000012\n",
            "2023-10-18 11:55:16,612 epoch 19 - iter 564/2828 - loss 0.01053316 - time (sec): 44.20 - samples/sec: 51.04 - lr: 0.000012\n",
            "2023-10-18 11:55:39,320 epoch 19 - iter 846/2828 - loss 0.01441357 - time (sec): 66.91 - samples/sec: 50.57 - lr: 0.000012\n",
            "2023-10-18 11:55:58,529 epoch 19 - iter 1128/2828 - loss 0.01199357 - time (sec): 86.12 - samples/sec: 52.39 - lr: 0.000012\n",
            "2023-10-18 11:56:14,745 epoch 19 - iter 1410/2828 - loss 0.01016169 - time (sec): 102.34 - samples/sec: 55.11 - lr: 0.000012\n",
            "2023-10-18 11:56:36,960 epoch 19 - iter 1692/2828 - loss 0.00922604 - time (sec): 124.55 - samples/sec: 54.34 - lr: 0.000011\n",
            "2023-10-18 11:56:56,148 epoch 19 - iter 1974/2828 - loss 0.01176319 - time (sec): 143.74 - samples/sec: 54.93 - lr: 0.000011\n",
            "2023-10-18 11:57:14,563 epoch 19 - iter 2256/2828 - loss 0.01326552 - time (sec): 162.15 - samples/sec: 55.65 - lr: 0.000011\n",
            "2023-10-18 11:57:31,506 epoch 19 - iter 2538/2828 - loss 0.01261760 - time (sec): 179.10 - samples/sec: 56.68 - lr: 0.000011\n",
            "2023-10-18 11:57:48,944 epoch 19 - iter 2820/2828 - loss 0.01224336 - time (sec): 196.54 - samples/sec: 57.39 - lr: 0.000011\n",
            "2023-10-18 11:57:49,484 ----------------------------------------------------------------------------------------------------\n",
            "2023-10-18 11:57:49,485 EPOCH 19 done: loss 0.0122 - lr 0.000011\n"
          ]
        },
        {
          "output_type": "stream",
          "name": "stderr",
          "text": [
            "100%|██████████| 601/601 [00:19<00:00, 30.78it/s]"
          ]
        },
        {
          "output_type": "stream",
          "name": "stdout",
          "text": [
            "2023-10-18 11:58:09,047 Evaluating as a multi-label problem: False\n"
          ]
        },
        {
          "output_type": "stream",
          "name": "stderr",
          "text": [
            "\n"
          ]
        },
        {
          "output_type": "stream",
          "name": "stdout",
          "text": [
            "2023-10-18 11:58:09,086 DEV : loss 0.2584361732006073 - f1-score (macro avg)  0.82\n",
            "2023-10-18 11:58:09,308 ----------------------------------------------------------------------------------------------------\n",
            "2023-10-18 11:58:31,258 epoch 20 - iter 282/2828 - loss 0.00000199 - time (sec): 21.95 - samples/sec: 51.39 - lr: 0.000010\n",
            "2023-10-18 11:58:53,862 epoch 20 - iter 564/2828 - loss 0.00326430 - time (sec): 44.55 - samples/sec: 50.64 - lr: 0.000010\n",
            "2023-10-18 11:59:16,124 epoch 20 - iter 846/2828 - loss 0.01062031 - time (sec): 66.82 - samples/sec: 50.65 - lr: 0.000010\n",
            "2023-10-18 11:59:35,195 epoch 20 - iter 1128/2828 - loss 0.00911719 - time (sec): 85.89 - samples/sec: 52.53 - lr: 0.000010\n",
            "2023-10-18 11:59:51,277 epoch 20 - iter 1410/2828 - loss 0.00778356 - time (sec): 101.97 - samples/sec: 55.31 - lr: 0.000010\n",
            "2023-10-18 12:00:13,736 epoch 20 - iter 1692/2828 - loss 0.00649143 - time (sec): 124.43 - samples/sec: 54.39 - lr: 0.000010\n",
            "2023-10-18 12:00:32,692 epoch 20 - iter 1974/2828 - loss 0.00658148 - time (sec): 143.38 - samples/sec: 55.07 - lr: 0.000009\n",
            "2023-10-18 12:00:50,763 epoch 20 - iter 2256/2828 - loss 0.00608868 - time (sec): 161.45 - samples/sec: 55.89 - lr: 0.000009\n",
            "2023-10-18 12:01:07,484 epoch 20 - iter 2538/2828 - loss 0.00657037 - time (sec): 178.17 - samples/sec: 56.98 - lr: 0.000009\n",
            "2023-10-18 12:01:23,991 epoch 20 - iter 2820/2828 - loss 0.00660279 - time (sec): 194.68 - samples/sec: 57.94 - lr: 0.000009\n",
            "2023-10-18 12:01:24,540 ----------------------------------------------------------------------------------------------------\n",
            "2023-10-18 12:01:24,542 EPOCH 20 done: loss 0.0066 - lr 0.000009\n"
          ]
        },
        {
          "output_type": "stream",
          "name": "stderr",
          "text": [
            "100%|██████████| 601/601 [00:19<00:00, 30.47it/s]"
          ]
        },
        {
          "output_type": "stream",
          "name": "stdout",
          "text": [
            "2023-10-18 12:01:44,300 Evaluating as a multi-label problem: False\n"
          ]
        },
        {
          "output_type": "stream",
          "name": "stderr",
          "text": [
            "\n"
          ]
        },
        {
          "output_type": "stream",
          "name": "stdout",
          "text": [
            "2023-10-18 12:01:44,330 DEV : loss 0.2764545679092407 - f1-score (macro avg)  0.8176\n",
            "2023-10-18 12:01:44,540 ----------------------------------------------------------------------------------------------------\n",
            "2023-10-18 12:02:07,707 epoch 21 - iter 282/2828 - loss 0.00000062 - time (sec): 23.17 - samples/sec: 48.69 - lr: 0.000009\n",
            "2023-10-18 12:02:30,444 epoch 21 - iter 564/2828 - loss 0.00000328 - time (sec): 45.90 - samples/sec: 49.15 - lr: 0.000009\n",
            "2023-10-18 12:02:52,691 epoch 21 - iter 846/2828 - loss 0.00672091 - time (sec): 68.15 - samples/sec: 49.66 - lr: 0.000008\n",
            "2023-10-18 12:03:11,807 epoch 21 - iter 1128/2828 - loss 0.00672363 - time (sec): 87.27 - samples/sec: 51.70 - lr: 0.000008\n",
            "2023-10-18 12:03:27,978 epoch 21 - iter 1410/2828 - loss 0.00537961 - time (sec): 103.44 - samples/sec: 54.53 - lr: 0.000008\n",
            "2023-10-18 12:03:50,665 epoch 21 - iter 1692/2828 - loss 0.00448344 - time (sec): 126.12 - samples/sec: 53.66 - lr: 0.000008\n",
            "2023-10-18 12:04:09,647 epoch 21 - iter 1974/2828 - loss 0.00481141 - time (sec): 145.11 - samples/sec: 54.42 - lr: 0.000008\n",
            "2023-10-18 12:04:27,689 epoch 21 - iter 2256/2828 - loss 0.00550405 - time (sec): 163.15 - samples/sec: 55.31 - lr: 0.000007\n",
            "2023-10-18 12:04:44,273 epoch 21 - iter 2538/2828 - loss 0.00489789 - time (sec): 179.73 - samples/sec: 56.48 - lr: 0.000007\n",
            "2023-10-18 12:05:00,806 epoch 21 - iter 2820/2828 - loss 0.00497984 - time (sec): 196.26 - samples/sec: 57.47 - lr: 0.000007\n",
            "2023-10-18 12:05:01,353 ----------------------------------------------------------------------------------------------------\n",
            "2023-10-18 12:05:01,355 EPOCH 21 done: loss 0.0050 - lr 0.000007\n"
          ]
        },
        {
          "output_type": "stream",
          "name": "stderr",
          "text": [
            "100%|██████████| 601/601 [00:20<00:00, 29.99it/s]"
          ]
        },
        {
          "output_type": "stream",
          "name": "stdout",
          "text": [
            "2023-10-18 12:05:21,433 Evaluating as a multi-label problem: False\n",
            "2023-10-18 12:05:21,466 DEV : loss 0.22173342108726501 - f1-score (macro avg)  0.8287\n"
          ]
        },
        {
          "output_type": "stream",
          "name": "stderr",
          "text": [
            "\n"
          ]
        },
        {
          "output_type": "stream",
          "name": "stdout",
          "text": [
            "2023-10-18 12:05:21,687 ----------------------------------------------------------------------------------------------------\n",
            "2023-10-18 12:05:44,228 epoch 22 - iter 282/2828 - loss 0.00000145 - time (sec): 22.54 - samples/sec: 50.05 - lr: 0.000007\n",
            "2023-10-18 12:06:06,527 epoch 22 - iter 564/2828 - loss 0.00000214 - time (sec): 44.84 - samples/sec: 50.31 - lr: 0.000007\n",
            "2023-10-18 12:06:30,196 epoch 22 - iter 846/2828 - loss 0.00457709 - time (sec): 68.51 - samples/sec: 49.40 - lr: 0.000007\n",
            "2023-10-18 12:06:49,976 epoch 22 - iter 1128/2828 - loss 0.00518999 - time (sec): 88.29 - samples/sec: 51.11 - lr: 0.000006\n",
            "2023-10-18 12:07:06,253 epoch 22 - iter 1410/2828 - loss 0.00415364 - time (sec): 104.56 - samples/sec: 53.94 - lr: 0.000006\n",
            "2023-10-18 12:07:28,607 epoch 22 - iter 1692/2828 - loss 0.00346213 - time (sec): 126.92 - samples/sec: 53.33 - lr: 0.000006\n",
            "2023-10-18 12:07:47,576 epoch 22 - iter 1974/2828 - loss 0.00364795 - time (sec): 145.89 - samples/sec: 54.12 - lr: 0.000006\n",
            "2023-10-18 12:08:05,505 epoch 22 - iter 2256/2828 - loss 0.00319251 - time (sec): 163.82 - samples/sec: 55.09 - lr: 0.000006\n",
            "2023-10-18 12:08:22,137 epoch 22 - iter 2538/2828 - loss 0.00317962 - time (sec): 180.45 - samples/sec: 56.26 - lr: 0.000006\n",
            "2023-10-18 12:08:38,672 epoch 22 - iter 2820/2828 - loss 0.00370451 - time (sec): 196.98 - samples/sec: 57.26 - lr: 0.000005\n",
            "2023-10-18 12:08:39,224 ----------------------------------------------------------------------------------------------------\n",
            "2023-10-18 12:08:39,225 EPOCH 22 done: loss 0.0037 - lr 0.000005\n"
          ]
        },
        {
          "output_type": "stream",
          "name": "stderr",
          "text": [
            "100%|██████████| 601/601 [00:19<00:00, 30.15it/s]"
          ]
        },
        {
          "output_type": "stream",
          "name": "stdout",
          "text": [
            "2023-10-18 12:08:59,206 Evaluating as a multi-label problem: False\n",
            "2023-10-18 12:08:59,250 DEV : loss 0.23688241839408875 - f1-score (macro avg)  0.8452\n"
          ]
        },
        {
          "output_type": "stream",
          "name": "stderr",
          "text": [
            "\n"
          ]
        },
        {
          "output_type": "stream",
          "name": "stdout",
          "text": [
            "2023-10-18 12:08:59,643 ----------------------------------------------------------------------------------------------------\n",
            "2023-10-18 12:09:22,292 epoch 23 - iter 282/2828 - loss 0.00000110 - time (sec): 22.64 - samples/sec: 49.82 - lr: 0.000005\n",
            "2023-10-18 12:09:44,014 epoch 23 - iter 564/2828 - loss 0.00000191 - time (sec): 44.37 - samples/sec: 50.85 - lr: 0.000005\n",
            "2023-10-18 12:10:06,639 epoch 23 - iter 846/2828 - loss 0.00342828 - time (sec): 66.99 - samples/sec: 50.51 - lr: 0.000005\n",
            "2023-10-18 12:10:26,112 epoch 23 - iter 1128/2828 - loss 0.00257636 - time (sec): 86.46 - samples/sec: 52.18 - lr: 0.000005\n",
            "2023-10-18 12:10:42,281 epoch 23 - iter 1410/2828 - loss 0.00206246 - time (sec): 102.63 - samples/sec: 54.95 - lr: 0.000004\n",
            "2023-10-18 12:11:05,168 epoch 23 - iter 1692/2828 - loss 0.00171928 - time (sec): 125.52 - samples/sec: 53.92 - lr: 0.000004\n",
            "2023-10-18 12:11:23,768 epoch 23 - iter 1974/2828 - loss 0.00247964 - time (sec): 144.12 - samples/sec: 54.79 - lr: 0.000004\n",
            "2023-10-18 12:11:41,771 epoch 23 - iter 2256/2828 - loss 0.00217031 - time (sec): 162.12 - samples/sec: 55.66 - lr: 0.000004\n",
            "2023-10-18 12:11:58,410 epoch 23 - iter 2538/2828 - loss 0.00192977 - time (sec): 178.76 - samples/sec: 56.79 - lr: 0.000004\n",
            "2023-10-18 12:12:16,152 epoch 23 - iter 2820/2828 - loss 0.00225001 - time (sec): 196.50 - samples/sec: 57.40 - lr: 0.000004\n",
            "2023-10-18 12:12:16,784 ----------------------------------------------------------------------------------------------------\n",
            "2023-10-18 12:12:16,786 EPOCH 23 done: loss 0.0022 - lr 0.000004\n"
          ]
        },
        {
          "output_type": "stream",
          "name": "stderr",
          "text": [
            "100%|██████████| 601/601 [00:20<00:00, 29.06it/s]\n"
          ]
        },
        {
          "output_type": "stream",
          "name": "stdout",
          "text": [
            "2023-10-18 12:12:37,507 Evaluating as a multi-label problem: False\n",
            "2023-10-18 12:12:37,553 DEV : loss 0.27298879623413086 - f1-score (macro avg)  0.8455\n",
            "2023-10-18 12:12:37,909 ----------------------------------------------------------------------------------------------------\n",
            "2023-10-18 12:12:59,916 epoch 24 - iter 282/2828 - loss 0.00000054 - time (sec): 22.00 - samples/sec: 51.27 - lr: 0.000003\n",
            "2023-10-18 12:13:21,830 epoch 24 - iter 564/2828 - loss 0.00004831 - time (sec): 43.92 - samples/sec: 51.37 - lr: 0.000003\n",
            "2023-10-18 12:13:44,719 epoch 24 - iter 846/2828 - loss 0.00303337 - time (sec): 66.80 - samples/sec: 50.66 - lr: 0.000003\n",
            "2023-10-18 12:14:03,823 epoch 24 - iter 1128/2828 - loss 0.00227537 - time (sec): 85.91 - samples/sec: 52.52 - lr: 0.000003\n",
            "2023-10-18 12:14:19,904 epoch 24 - iter 1410/2828 - loss 0.00182061 - time (sec): 101.99 - samples/sec: 55.30 - lr: 0.000003\n",
            "2023-10-18 12:14:41,660 epoch 24 - iter 1692/2828 - loss 0.00151745 - time (sec): 123.75 - samples/sec: 54.69 - lr: 0.000002\n",
            "2023-10-18 12:15:00,488 epoch 24 - iter 1974/2828 - loss 0.00200317 - time (sec): 142.57 - samples/sec: 55.38 - lr: 0.000002\n",
            "2023-10-18 12:15:18,901 epoch 24 - iter 2256/2828 - loss 0.00175291 - time (sec): 160.99 - samples/sec: 56.05 - lr: 0.000002\n",
            "2023-10-18 12:15:35,904 epoch 24 - iter 2538/2828 - loss 0.00184761 - time (sec): 177.99 - samples/sec: 57.04 - lr: 0.000002\n",
            "2023-10-18 12:15:52,355 epoch 24 - iter 2820/2828 - loss 0.00210440 - time (sec): 194.44 - samples/sec: 58.01 - lr: 0.000002\n",
            "2023-10-18 12:15:52,900 ----------------------------------------------------------------------------------------------------\n",
            "2023-10-18 12:15:52,902 EPOCH 24 done: loss 0.0021 - lr 0.000002\n"
          ]
        },
        {
          "output_type": "stream",
          "name": "stderr",
          "text": [
            "100%|██████████| 601/601 [00:20<00:00, 29.42it/s]\n"
          ]
        },
        {
          "output_type": "stream",
          "name": "stdout",
          "text": [
            "2023-10-18 12:16:13,374 Evaluating as a multi-label problem: False\n",
            "2023-10-18 12:16:13,421 DEV : loss 0.25495240092277527 - f1-score (macro avg)  0.8415\n",
            "2023-10-18 12:16:13,767 ----------------------------------------------------------------------------------------------------\n",
            "2023-10-18 12:16:36,131 epoch 25 - iter 282/2828 - loss 0.00000030 - time (sec): 22.36 - samples/sec: 50.44 - lr: 0.000002\n",
            "2023-10-18 12:16:57,888 epoch 25 - iter 564/2828 - loss 0.00000082 - time (sec): 44.12 - samples/sec: 51.13 - lr: 0.000001\n",
            "2023-10-18 12:17:20,588 epoch 25 - iter 846/2828 - loss 0.00217151 - time (sec): 66.82 - samples/sec: 50.64 - lr: 0.000001\n",
            "2023-10-18 12:17:39,885 epoch 25 - iter 1128/2828 - loss 0.00162887 - time (sec): 86.12 - samples/sec: 52.39 - lr: 0.000001\n",
            "2023-10-18 12:17:55,838 epoch 25 - iter 1410/2828 - loss 0.00130335 - time (sec): 102.07 - samples/sec: 55.26 - lr: 0.000001\n",
            "2023-10-18 12:18:17,590 epoch 25 - iter 1692/2828 - loss 0.00108626 - time (sec): 123.82 - samples/sec: 54.66 - lr: 0.000001\n",
            "2023-10-18 12:18:36,085 epoch 25 - iter 1974/2828 - loss 0.00153470 - time (sec): 142.32 - samples/sec: 55.48 - lr: 0.000001\n",
            "2023-10-18 12:18:53,902 epoch 25 - iter 2256/2828 - loss 0.00134328 - time (sec): 160.13 - samples/sec: 56.35 - lr: 0.000000\n",
            "2023-10-18 12:19:10,307 epoch 25 - iter 2538/2828 - loss 0.00138890 - time (sec): 176.54 - samples/sec: 57.51 - lr: 0.000000\n",
            "2023-10-18 12:19:26,618 epoch 25 - iter 2820/2828 - loss 0.00169600 - time (sec): 192.85 - samples/sec: 58.49 - lr: 0.000000\n",
            "2023-10-18 12:19:27,280 ----------------------------------------------------------------------------------------------------\n",
            "2023-10-18 12:19:27,285 EPOCH 25 done: loss 0.0017 - lr 0.000000\n"
          ]
        },
        {
          "output_type": "stream",
          "name": "stderr",
          "text": [
            "100%|██████████| 601/601 [00:22<00:00, 27.20it/s]"
          ]
        },
        {
          "output_type": "stream",
          "name": "stdout",
          "text": [
            "2023-10-18 12:19:49,444 Evaluating as a multi-label problem: False\n",
            "2023-10-18 12:19:49,506 DEV : loss 0.24972154200077057 - f1-score (macro avg)  0.8415\n"
          ]
        },
        {
          "output_type": "stream",
          "name": "stderr",
          "text": [
            "\n"
          ]
        },
        {
          "output_type": "stream",
          "name": "stdout",
          "text": [
            "2023-10-18 12:19:55,172 ----------------------------------------------------------------------------------------------------\n",
            "2023-10-18 12:19:55,174 Testing using last state of model ...\n"
          ]
        },
        {
          "output_type": "stream",
          "name": "stderr",
          "text": [
            "100%|██████████| 640/640 [00:28<00:00, 22.51it/s]"
          ]
        },
        {
          "output_type": "stream",
          "name": "stdout",
          "text": [
            "2023-10-18 12:20:23,675 Evaluating as a multi-label problem: False\n",
            "2023-10-18 12:20:23,718 0.3068\t0.7778\t0.44\t0.9246\n",
            "2023-10-18 12:20:23,720 \n",
            "Results:\n",
            "- F-score (micro) 0.44\n",
            "- F-score (macro) 0.7026\n",
            "- Accuracy 0.9246\n",
            "\n",
            "By class:\n",
            "                         precision    recall  f1-score   support\n",
            "\n",
            "                has_won     0.1118    0.7600    0.1949        25\n",
            " received_nobelprize_in     0.4375    0.6364    0.5185        22\n",
            "        has_nationality     0.9444    0.8500    0.8947        20\n",
            "received_nobelprize_for     0.8462    0.7857    0.8148        14\n",
            "                born_on     0.9091    0.8333    0.8696        12\n",
            "                died_on     0.8571    1.0000    0.9231         6\n",
            "\n",
            "              micro avg     0.3068    0.7778    0.4400        99\n",
            "              macro avg     0.6843    0.8109    0.7026        99\n",
            "           weighted avg     0.5980    0.7778    0.6218        99\n",
            "\n",
            "2023-10-18 12:20:23,722 ----------------------------------------------------------------------------------------------------\n"
          ]
        },
        {
          "output_type": "stream",
          "name": "stderr",
          "text": [
            "\n"
          ]
        },
        {
          "output_type": "execute_result",
          "data": {
            "text/plain": [
              "{'test_score': 0.7025973517964365,\n",
              " 'dev_score_history': [0.4546792513197888,\n",
              "  0.5595776122091912,\n",
              "  0.7239617994110841,\n",
              "  0.6931253643215994,\n",
              "  0.7536805153799054,\n",
              "  0.7797558591421692,\n",
              "  0.6568728124778177,\n",
              "  0.6342767531364023,\n",
              "  0.7375155438109434,\n",
              "  0.7977278898331531,\n",
              "  0.7687416749051122,\n",
              "  0.7738281501340151,\n",
              "  0.7824181252703825,\n",
              "  0.7854776009687052,\n",
              "  0.8015384314599725,\n",
              "  0.8176726434524096,\n",
              "  0.8175346392737698,\n",
              "  0.7852272881684647,\n",
              "  0.81995179494146,\n",
              "  0.8176457654478074,\n",
              "  0.8287365298234864,\n",
              "  0.8452458652458654,\n",
              "  0.8454549898735945,\n",
              "  0.8415477656072378,\n",
              "  0.8415477656072378],\n",
              " 'train_loss_history': [0.39616341553548157,\n",
              "  0.19209932283059444,\n",
              "  0.17207473808714666,\n",
              "  0.1447471973461033,\n",
              "  0.1152143246691582,\n",
              "  0.09772202758199716,\n",
              "  0.07885806364838581,\n",
              "  0.06855294551654241,\n",
              "  0.05728943422738625,\n",
              "  0.04305166787002876,\n",
              "  0.03604615783428277,\n",
              "  0.03029910868300059,\n",
              "  0.0347964082951069,\n",
              "  0.02312743476363078,\n",
              "  0.020256069530330035,\n",
              "  0.01648998673432721,\n",
              "  0.013970154336658065,\n",
              "  0.010431952755865094,\n",
              "  0.012213258931254297,\n",
              "  0.006620953940177584,\n",
              "  0.004966682079666779,\n",
              "  0.0036947224445476557,\n",
              "  0.002244043133321953,\n",
              "  0.0020988150753009434,\n",
              "  0.0016915083628623628],\n",
              " 'dev_loss_history': [0.2600390315055847,\n",
              "  0.2930014729499817,\n",
              "  0.20775718986988068,\n",
              "  0.2600593864917755,\n",
              "  0.20253099501132965,\n",
              "  0.1795138567686081,\n",
              "  0.2672145664691925,\n",
              "  0.27944689989089966,\n",
              "  0.21669121086597443,\n",
              "  0.17814014852046967,\n",
              "  0.23378460109233856,\n",
              "  0.25498121976852417,\n",
              "  0.2145482450723648,\n",
              "  0.2427004873752594,\n",
              "  0.2434650957584381,\n",
              "  0.2629365921020508,\n",
              "  0.247612863779068,\n",
              "  0.2939729690551758,\n",
              "  0.2584361732006073,\n",
              "  0.2764545679092407,\n",
              "  0.22173342108726501,\n",
              "  0.23688241839408875,\n",
              "  0.27298879623413086,\n",
              "  0.25495240092277527,\n",
              "  0.24972154200077057]}"
            ]
          },
          "metadata": {},
          "execution_count": 6
        }
      ]
    },
    {
      "cell_type": "code",
      "source": [
        "loaded_model: RelationClassifier = RelationClassifier.load('resources/relations/final-model.pt')"
      ],
      "metadata": {
        "id": "5RGkEnChWsiE"
      },
      "execution_count": 8,
      "outputs": []
    },
    {
      "cell_type": "markdown",
      "source": [],
      "metadata": {
        "id": "T0yQG3e8jCn7"
      }
    }
  ]
}