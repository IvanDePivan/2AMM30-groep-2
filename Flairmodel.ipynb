{
 "cells": [
  {
   "cell_type": "markdown",
   "metadata": {
    "id": "view-in-github",
    "colab_type": "text"
   },
   "source": [
    "<a href=\"https://colab.research.google.com/github/IvanDePivan/2AMM30-groep-2/blob/main/Flairmodel.ipynb\" target=\"_parent\"><img src=\"https://colab.research.google.com/assets/colab-badge.svg\" alt=\"Open In Colab\"/></a>"
   ]
  },
  {
   "cell_type": "markdown",
   "metadata": {
    "id": "1jF8qlO6-xFx"
   },
   "source": [
    "# Data Mining Group 2\n",
    "This notebook was developed for use on Google Colab. To run the notebook make sure the files from the data folder are uploaded.\n",
    "\n",
    "\n"
   ]
  },
  {
   "cell_type": "markdown",
   "metadata": {
    "id": "G4f6nLzOjZJW"
   },
   "source": [
    "## Prerequisites"
   ]
  },
  {
   "cell_type": "code",
   "execution_count": 1,
   "metadata": {
    "id": "cuqW4DZFl2b6"
   },
   "outputs": [],
   "source": [
    "from google.colab import output\n",
    "!pip uninstall -y torch\n",
    "!pip install flair\n",
    "\n",
    "import os\n",
    "import random\n",
    "import json\n",
    "import re\n",
    "import regex\n",
    "import difflib\n",
    "import srsly\n",
    "import torch\n",
    "from typing import List\n",
    "from pathlib import Path\n",
    "\n",
    "from flair.trainers import ModelTrainer\n",
    "from flair.data import Corpus, Label, Relation, Sentence\n",
    "from flair.datasets import ColumnCorpus, DataLoader\n",
    "from flair.embeddings import WordEmbeddings, StackedEmbeddings, TokenEmbeddings, TransformerWordEmbeddings, TransformerDocumentEmbeddings\n",
    "from flair.models import SequenceTagger, RelationExtractor, RelationClassifier\n",
    "\n",
    "output.clear()"
   ]
  },
  {
   "cell_type": "code",
   "execution_count": null,
   "metadata": {
    "colab": {
     "base_uri": "https://localhost:8080/"
    },
    "id": "TF3VTNNwXg0x",
    "outputId": "c46147d5-1b2c-47f9-9594-c8391be68530"
   },
   "outputs": [
    {
     "output_type": "execute_result",
     "data": {
      "text/plain": [
       "True"
      ]
     },
     "metadata": {},
     "execution_count": 2
    }
   ],
   "source": [
    "# Sanity check on the gpu; some issues with flair not recognizing one of the GPUs from Colab\n",
    "torch.cuda.is_available()"
   ]
  },
  {
   "cell_type": "markdown",
   "metadata": {
    "id": "CuV7MrI23UbN"
   },
   "source": [
    "### Reformatting Label Studio output\n",
    "We wrote this method for converting the output from Label Studio to the conll format, because the standard format had issues (e.g. No relation data was exported, tokenization had flaws, output used different delimiters)"
   ]
  },
  {
   "cell_type": "code",
   "execution_count": null,
   "metadata": {
    "id": "-QA_xqkrLDeC"
   },
   "outputs": [],
   "source": [
    "def write_conll(filename, text):\n",
    "  output_file = Path(filename)\n",
    "  output_file.parent.mkdir(exist_ok=True, parents=True)\n",
    "  with open(output_file, \"w\") as file1:\n",
    "    file1.write(\"\\n\\n\".join(text))"
   ]
  },
  {
   "cell_type": "code",
   "execution_count": null,
   "metadata": {
    "id": "gyvWzZ76SwYY"
   },
   "outputs": [],
   "source": [
    "# Function for getting each token with their correct label and id (ids are used for relations)\n",
    "def get_labels(file_item, key_field):\n",
    "  rows = []\n",
    "  position = 0\n",
    "  next_label = 0\n",
    "  # Sort the labels on start?\n",
    "  labels = [item for item in file_item['annotations'][0]['result'] if item['type'] == 'labels']\n",
    "  labels.sort(key=lambda x: x['value']['start'])\n",
    "  item_count = 1\n",
    "  b_count = 0\n",
    "  ids = {} # count -> id\n",
    "  tokens = [item for item in re.split(r'(\\s+)|([\\(,\\.\\)\\\\;:$*&\"\\-–])|(\\')|(\\'\\w+)', file_item['data'][key_field]) if item]\n",
    "  for i, item in enumerate(tokens):\n",
    "    if re.search(r'\\s+', item):\n",
    "      position += len(item)\n",
    "      continue\n",
    "    start = position\n",
    "    end = position + len(item)\n",
    "    row = f'{item_count}\\t{item}'\n",
    "    label = '\\tO'\n",
    "\n",
    "    if len(labels) > next_label:\n",
    "      if start >= labels[next_label]['value']['start']:\n",
    "          # the current item has a label, and might have a relation\n",
    "          id = labels[next_label][\"id\"]\n",
    "          ids[item_count] = id\n",
    "          if end > labels[next_label]['value']['end']:\n",
    "            difference = end - labels[next_label]['value']['end']\n",
    "            end -= difference\n",
    "            tokens.insert(i+1, item[-difference:])\n",
    "            item = item[:-difference]\n",
    "          if start == labels[next_label]['value']['start']:\n",
    "            # Current Item is start of a label\n",
    "            b_count += 1\n",
    "            label = '\\tB-' + labels[next_label][\"value\"][\"labels\"][0]\n",
    "\n",
    "          else:\n",
    "            # Current item is inside a label\n",
    "            if '\\tB-' + labels[next_label][\"value\"][\"labels\"][0] in rows[-1] or '\\tI-' + labels[next_label][\"value\"][\"labels\"][0] in rows[-1]:\n",
    "              label = '\\tI-' + labels[next_label][\"value\"][\"labels\"][0]\n",
    "            else:\n",
    "              b_count += 1\n",
    "              label = '\\tB-' + labels[next_label][\"value\"][\"labels\"][0]\n",
    "\n",
    "      if end >= labels[next_label]['value']['end']:\n",
    "        next_label += 1\n",
    "\n",
    "\n",
    "    row = row + label\n",
    "    position += len(item)\n",
    "    item_count += 1\n",
    "    rows.append(row)\n",
    "  # Sanity check on the labels, gives a warning if labels are disappearing.\n",
    "  if len(labels) != b_count:\n",
    "    print(f'labels: {len(labels)}, B-tags: {b_count}')\n",
    "    print(labels)\n",
    "    print(ids)\n",
    "    print(f'missing label: {[item for item in labels if item[\"id\"] not in ids.values()]}')\n",
    "    print(rows)\n",
    "  return rows, ids\n"
   ]
  },
  {
   "cell_type": "code",
   "execution_count": null,
   "metadata": {
    "id": "fpJtNoWtTviC"
   },
   "outputs": [],
   "source": [
    "# This creates the relation format flair expects for each document\n",
    "def get_relations(file_item, ids):\n",
    "  keys = ids.keys()\n",
    "  relations = [item for item in file_item['annotations'][0]['result'] if item['type'] == 'relation']\n",
    "  bio_relations = []\n",
    "  found_relations = 0\n",
    "  for relation in relations:\n",
    "    from_ids = []\n",
    "    to_ids = []\n",
    "    rel_type = relation['labels'][0]\n",
    "    for key in keys:\n",
    "      if ids[key] == relation['from_id']:\n",
    "        from_ids.append(key)\n",
    "      if ids[key] == relation['to_id']:\n",
    "        to_ids.append(key)\n",
    "    from_ids = [int(i) for i in from_ids]\n",
    "    from_ids.sort()\n",
    "    to_ids = [int(i) for i in to_ids]\n",
    "    to_ids.sort()\n",
    "    if len(from_ids) > 0 and len(to_ids) > 0:\n",
    "      found_relations += 1\n",
    "      bio_relations.append(f'{from_ids[0]};{from_ids[-1]};{to_ids[0]};{to_ids[-1]};{rel_type}')\n",
    "  if found_relations != len(relations):\n",
    "    print(f'found relations: {found_relations}, actual relations: {len(relations)}')\n",
    "    print(relations)\n",
    "    print(bio_relations)\n",
    "    print(keys)\n",
    "    print(ids)\n",
    "  return bio_relations"
   ]
  },
  {
   "cell_type": "code",
   "execution_count": null,
   "metadata": {
    "id": "zTzQISuAxCnW"
   },
   "outputs": [],
   "source": [
    "# creates the connl file using the expanded json file as input. This is reused for component 2\n",
    "def make_conll(file, key_field='text', file_name='test_set'):\n",
    "  conllu_file = []\n",
    "  for item in file:\n",
    "    doc = ''\n",
    "    rows, ids = get_labels(item, key_field)\n",
    "    relations = get_relations(item, ids)\n",
    "    if relations and len(relations) > 0:\n",
    "      doc += '# relations = ' + ('|'.join(relations))\n",
    "    doc += '\\n' + ('\\n'.join(rows))\n",
    "    conllu_file.append(doc)\n",
    "\n",
    "  print(len(conllu_file))\n",
    "  write_conll(f'{file_name}.conll', conllu_file)"
   ]
  },
  {
   "cell_type": "markdown",
   "metadata": {
    "id": "yacBAlj75NqJ"
   },
   "source": [
    "## Component 1\n",
    "First, the json files are converted to the appropriate format (conll)."
   ]
  },
  {
   "cell_type": "code",
   "execution_count": null,
   "metadata": {
    "id": "wh93x9C6Bj9j",
    "colab": {
     "base_uri": "https://localhost:8080/"
    },
    "outputId": "46c535aa-01c4-4d6d-e788-03a44f321784"
   },
   "outputs": [
    {
     "output_type": "stream",
     "name": "stdout",
     "text": [
      "40\n",
      "95\n"
     ]
    }
   ],
   "source": [
    "# Make a conll file from the test set json\n",
    "with open('comp1_test_set.json') as f:\n",
    "  file = json.load(f)\n",
    "  make_conll(file, file_name='data/comp1_test_set')\n",
    "\n",
    "# Make a conll file from the train set json\n",
    "with open('comp1_train_set.json') as f:\n",
    "  file = json.load(f)\n",
    "  make_conll(file, file_name='data/comp1_train_set')\n"
   ]
  },
  {
   "cell_type": "code",
   "execution_count": null,
   "metadata": {
    "colab": {
     "base_uri": "https://localhost:8080/"
    },
    "id": "PV1VvXpfzB1i",
    "outputId": "225265ea-1110-472d-dd19-99c8f1d57df8"
   },
   "outputs": [
    {
     "output_type": "stream",
     "name": "stdout",
     "text": [
      "95\n"
     ]
    }
   ],
   "source": [
    "# The training conll file is split up for train and dev data\n",
    "with open('data/comp1_train_set.conll') as f:\n",
    "  data = f.read()\n",
    "  splits = data.split(2*os.linesep)\n",
    "  print(len(splits))\n",
    "  splits = sorted(splits, key=lambda x: random.random())\n",
    "\n",
    "  # For component 1, uses the last 25 for dev\n",
    "  train = splits[:-25]\n",
    "  dev = splits[-25:]\n",
    "\n",
    "  write_conll('data/comp1/train.conll', train)\n",
    "  write_conll('data/comp1/dev.conll', dev)\n",
    "\n",
    "with open('data/comp1_test_set.conll') as f:\n",
    "  data = f.read()\n",
    "  splits = data.split(2*os.linesep)\n",
    "  write_conll('data/comp1/test.conll', splits)"
   ]
  },
  {
   "cell_type": "markdown",
   "source": [
    "A corpus is created from the separate conll files. We specify which column in the conll files contains the NER labels."
   ],
   "metadata": {
    "id": "aM-L4WgCNivV"
   }
  },
  {
   "cell_type": "code",
   "execution_count": null,
   "metadata": {
    "id": "MPZrrdFSpEoN",
    "colab": {
     "base_uri": "https://localhost:8080/"
    },
    "outputId": "eda00c37-84b9-40d7-ef47-fa02b6d6ce7c"
   },
   "outputs": [
    {
     "output_type": "stream",
     "name": "stdout",
     "text": [
      "2023-11-10 09:29:09,100 Reading data from data/comp1\n",
      "2023-11-10 09:29:09,105 Train: data/comp1/train.conll\n",
      "2023-11-10 09:29:09,106 Dev: data/comp1/dev.conll\n",
      "2023-11-10 09:29:09,112 Test: data/comp1/test.conll\n",
      "Corpus size: 70\n"
     ]
    }
   ],
   "source": [
    "# The corpus converts the BIO formatted tokens into a structure Flair uses for training\n",
    "# Here we can simply specify the folder where the files are and which columns they have\n",
    "columns = {1: 'text', 2: 'ner'}\n",
    "data_folder = 'data/comp1/'\n",
    "\n",
    "corpus: Corpus = ColumnCorpus(data_folder, columns,\n",
    "                              train_file='train.conll',\n",
    "                              test_file='test.conll',\n",
    "                              dev_file='dev.conll')\n",
    "\n",
    "# Here we check if the corpus has the expected size, meaning importing likely went well\n",
    "print(f'Corpus size: {len(corpus.train)}')"
   ]
  },
  {
   "cell_type": "code",
   "execution_count": null,
   "metadata": {
    "id": "DjuZ7XYKqMyV",
    "colab": {
     "base_uri": "https://localhost:8080/"
    },
    "outputId": "8aa6577f-ba7f-43cb-d658-86e821e57568"
   },
   "outputs": [
    {
     "output_type": "stream",
     "name": "stdout",
     "text": [
      "2023-11-10 09:29:09,885 Computing label dictionary. Progress:\n"
     ]
    },
    {
     "output_type": "stream",
     "name": "stderr",
     "text": [
      "70it [00:00, 6861.61it/s]"
     ]
    },
    {
     "output_type": "stream",
     "name": "stdout",
     "text": [
      "2023-11-10 09:29:09,922 Dictionary created for label 'ner' with 6 values: Winner (seen 605 times), Date (seen 422 times), Nationality (seen 331 times), Prizetype (seen 69 times), Reason (seen 44 times)\n"
     ]
    },
    {
     "output_type": "stream",
     "name": "stderr",
     "text": [
      "\n"
     ]
    }
   ],
   "source": [
    "# this dictionary let's the model know what labels exist in the set.\n",
    "tag_type = 'ner'# make tag dictionary from the corpus\n",
    "tag_dictionary = corpus.make_label_dictionary(label_type=tag_type)"
   ]
  },
  {
   "cell_type": "code",
   "execution_count": null,
   "metadata": {
    "id": "0YfA1DoXvPO4",
    "colab": {
     "base_uri": "https://localhost:8080/",
     "height": 214,
     "referenced_widgets": [
      "71fcdffb0b0349bb876d41bbbcb3a9a4",
      "96f273399fba4b3b97b9529d60e9eb14",
      "93828fab9a2c4105ad393776efa117d7",
      "7ecc4cead9b64fc4b7fe1505500e3fb3",
      "25cd901ad8274a73955c2d6884a29616",
      "779e5742ce7f482bb52b214ee1fcb24e",
      "f113187b59704ac6acad591895034bb5",
      "27e18f7b699747678c4f75660d34426f",
      "7941087665ae468cbfd76b663c14a7c9",
      "37d898c4d4bf4e14bc698f6193887299",
      "87e83ae2a39849c4a5fe533921402ed7",
      "fff9a17f54514e8caf1abe21f1275dd4",
      "6d926dea05834ee8bb81c37974f6e4d2",
      "bb73f9c36e054d3b90179c0219e810e9",
      "740c2ccce0d64ef9a0ccbdc17b0a6322",
      "4b0ef0205ba44c069a581f8fb8940bfd",
      "575a1b6160194615899b7f7bec4894a8",
      "8a77441e81eb4037a0f4710e01efeff6",
      "b07eda90762c494981cf52b0c3cc8125",
      "ad4f7ff461f34086a1219fc0cea02ebc",
      "0250b671433a4e34a8c04e928c7cd667",
      "4a2b0fba25034b879f7659d457c24d93",
      "d840a73de6de4a15affcc53ca76ecbdd",
      "13a541ef641d4eeda6228f4091913d71",
      "85ac3de9f8ab47efa6bc7ccda8fe8dee",
      "25e0400a0f81419cb097edef05b2ee3c",
      "704d8fd295b247f8ad8b84cab3c2e0bc",
      "7477d5772a504a759fa06cbda37f44ef",
      "295ac657d29d443891beeb087b87c18a",
      "fcfaed7074a24dd99ff10e88228211f2",
      "58bbf02ac7f04af69360f23107dcd9a3",
      "82f9c1eadcb64dccae5251b42548e927",
      "dee5dccb15ff482887bd5662e72e3a0c",
      "6658db724e18446bbb6cbd4f4b964c33",
      "888bdcab57f847e6a71177850068e379",
      "5d904c7aa4cd43dd8e066bc0d30a0867",
      "a6ae48b1ddf14391bd3ff6de38655ba9",
      "af50004c987d4d6fb42b264a4f16db65",
      "4aac8b23bfa944ec82f85e8a471ecd73",
      "96223ebe21184548921c8ca4e01df58a",
      "ed193fda7f3440a6ae5ead549bd38f50",
      "8ee2e3c8ee664e509c2f6ee47cd065b6",
      "c57c0e6a797643e090ea3599e1401879",
      "b5cb9b47f811409692c6b3e07a32e482",
      "cd98647780c149c38ec4648e956e53ee",
      "d96acc863e594b448df4fbf81af89716",
      "a6ed8c8371ad43419d809412ef0b9cee",
      "05d230a8b99a4c6ebb17788d514f2777",
      "b56a1b7dba844bf6806849c5fa753272",
      "d198435b246043718b5c9c35cadea415",
      "cadb06eccf2e46a89a6407b3f9e86821",
      "9212bfef0ffc470db20e5d536eaa4aa5",
      "7ba320ef37d74f50aedd586dd686466e",
      "516627b4e1fc4c18ad65300cc1405d6a",
      "6c9bf63db87544cc9b8a93b8f4422302"
     ]
    },
    "outputId": "1bc09dfc-dffb-4c72-8038-7ac4e8f1af3c"
   },
   "outputs": [
    {
     "output_type": "display_data",
     "data": {
      "text/plain": [
       "Downloading (…)okenizer_config.json:   0%|          | 0.00/29.0 [00:00<?, ?B/s]"
      ],
      "application/vnd.jupyter.widget-view+json": {
       "version_major": 2,
       "version_minor": 0,
       "model_id": "71fcdffb0b0349bb876d41bbbcb3a9a4"
      }
     },
     "metadata": {}
    },
    {
     "output_type": "display_data",
     "data": {
      "text/plain": [
       "Downloading (…)lve/main/config.json:   0%|          | 0.00/465 [00:00<?, ?B/s]"
      ],
      "application/vnd.jupyter.widget-view+json": {
       "version_major": 2,
       "version_minor": 0,
       "model_id": "fff9a17f54514e8caf1abe21f1275dd4"
      }
     },
     "metadata": {}
    },
    {
     "output_type": "display_data",
     "data": {
      "text/plain": [
       "Downloading (…)solve/main/vocab.txt:   0%|          | 0.00/213k [00:00<?, ?B/s]"
      ],
      "application/vnd.jupyter.widget-view+json": {
       "version_major": 2,
       "version_minor": 0,
       "model_id": "d840a73de6de4a15affcc53ca76ecbdd"
      }
     },
     "metadata": {}
    },
    {
     "output_type": "display_data",
     "data": {
      "text/plain": [
       "Downloading (…)/main/tokenizer.json:   0%|          | 0.00/436k [00:00<?, ?B/s]"
      ],
      "application/vnd.jupyter.widget-view+json": {
       "version_major": 2,
       "version_minor": 0,
       "model_id": "6658db724e18446bbb6cbd4f4b964c33"
      }
     },
     "metadata": {}
    },
    {
     "output_type": "display_data",
     "data": {
      "text/plain": [
       "Downloading model.safetensors:   0%|          | 0.00/263M [00:00<?, ?B/s]"
      ],
      "application/vnd.jupyter.widget-view+json": {
       "version_major": 2,
       "version_minor": 0,
       "model_id": "cd98647780c149c38ec4648e956e53ee"
      }
     },
     "metadata": {}
    },
    {
     "output_type": "stream",
     "name": "stdout",
     "text": [
      "2023-11-10 09:29:16,751 SequenceTagger predicts: Dictionary with 11 tags: O, B-Winner, I-Winner, B-Date, I-Date, B-Nationality, I-Nationality, B-Prizetype, I-Prizetype, B-Reason, I-Reason\n"
     ]
    }
   ],
   "source": [
    "# The embedding layer uses a pretrained model, distilBERT, cased in this case\n",
    "# The layers=\"-1\" specifies which layer to get the embeddings from. We use the final layer\n",
    "# fine_tuning is on, as we only use a linear layer on top\n",
    "# Subtoken pooling is set to first, meaning only the first subword is considered for the embeddings\n",
    "# However, context is also considered\n",
    "embeddings = TransformerWordEmbeddings(\n",
    "    model='distilbert-base-cased',\n",
    "    layers=\"-1\",\n",
    "    subtoken_pooling='first',\n",
    "    fine_tune=True,\n",
    "    use_context=True,\n",
    "    respect_document_boundaries=False,\n",
    ")\n",
    "\n",
    "# This tagger put on top of the embeddings and does the classification\n",
    "# Here we specify BIO vs BIOES and supply the label (tag) dictionary, and have additional choices in model config\n",
    "tagger: SequenceTagger = SequenceTagger(\n",
    "        hidden_size=256,\n",
    "        embeddings=embeddings,\n",
    "        tag_dictionary=tag_dictionary,\n",
    "        tag_type=tag_type,\n",
    "        use_crf=False,\n",
    "        use_rnn=False,\n",
    "        reproject_embeddings=False,\n",
    "        tag_format='BIO'\n",
    "    )"
   ]
  },
  {
   "cell_type": "code",
   "execution_count": null,
   "metadata": {
    "colab": {
     "base_uri": "https://localhost:8080/"
    },
    "id": "-UQ7cZLVvgz7",
    "outputId": "66b8e215-8a4d-4fcc-a38a-faca47f163b6"
   },
   "outputs": [
    {
     "output_type": "stream",
     "name": "stdout",
     "text": [
      "2023-11-10 09:29:16,793 ----------------------------------------------------------------------------------------------------\n",
      "2023-11-10 09:29:16,804 Model: \"SequenceTagger(\n",
      "  (embeddings): TransformerWordEmbeddings(\n",
      "    (model): DistilBertModel(\n",
      "      (embeddings): Embeddings(\n",
      "        (word_embeddings): Embedding(28997, 768)\n",
      "        (position_embeddings): Embedding(512, 768)\n",
      "        (LayerNorm): LayerNorm((768,), eps=1e-12, elementwise_affine=True)\n",
      "        (dropout): Dropout(p=0.1, inplace=False)\n",
      "      )\n",
      "      (transformer): Transformer(\n",
      "        (layer): ModuleList(\n",
      "          (0-5): 6 x TransformerBlock(\n",
      "            (attention): MultiHeadSelfAttention(\n",
      "              (dropout): Dropout(p=0.1, inplace=False)\n",
      "              (q_lin): Linear(in_features=768, out_features=768, bias=True)\n",
      "              (k_lin): Linear(in_features=768, out_features=768, bias=True)\n",
      "              (v_lin): Linear(in_features=768, out_features=768, bias=True)\n",
      "              (out_lin): Linear(in_features=768, out_features=768, bias=True)\n",
      "            )\n",
      "            (sa_layer_norm): LayerNorm((768,), eps=1e-12, elementwise_affine=True)\n",
      "            (ffn): FFN(\n",
      "              (dropout): Dropout(p=0.1, inplace=False)\n",
      "              (lin1): Linear(in_features=768, out_features=3072, bias=True)\n",
      "              (lin2): Linear(in_features=3072, out_features=768, bias=True)\n",
      "              (activation): GELUActivation()\n",
      "            )\n",
      "            (output_layer_norm): LayerNorm((768,), eps=1e-12, elementwise_affine=True)\n",
      "          )\n",
      "        )\n",
      "      )\n",
      "    )\n",
      "  )\n",
      "  (locked_dropout): LockedDropout(p=0.5)\n",
      "  (linear): Linear(in_features=768, out_features=11, bias=True)\n",
      "  (loss_function): CrossEntropyLoss()\n",
      ")\"\n",
      "2023-11-10 09:29:16,813 ----------------------------------------------------------------------------------------------------\n",
      "2023-11-10 09:29:16,815 Corpus: \"Corpus: 70 train + 25 dev + 40 test sentences\"\n",
      "2023-11-10 09:29:16,819 ----------------------------------------------------------------------------------------------------\n",
      "2023-11-10 09:29:16,824 Parameters:\n",
      "2023-11-10 09:29:16,829  - learning_rate: \"0.000050\"\n",
      "2023-11-10 09:29:16,830  - mini_batch_size: \"16\"\n",
      "2023-11-10 09:29:16,845  - patience: \"3\"\n",
      "2023-11-10 09:29:16,846  - anneal_factor: \"0.5\"\n",
      "2023-11-10 09:29:16,848  - max_epochs: \"100\"\n",
      "2023-11-10 09:29:16,859  - shuffle: \"True\"\n",
      "2023-11-10 09:29:16,860  - train_with_dev: \"False\"\n",
      "2023-11-10 09:29:16,865  - batch_growth_annealing: \"False\"\n",
      "2023-11-10 09:29:16,867 ----------------------------------------------------------------------------------------------------\n",
      "2023-11-10 09:29:16,872 Model training base path: \"data/comp1/ner\"\n",
      "2023-11-10 09:29:16,877 ----------------------------------------------------------------------------------------------------\n",
      "2023-11-10 09:29:16,878 Device: cuda:0\n",
      "2023-11-10 09:29:16,879 ----------------------------------------------------------------------------------------------------\n",
      "2023-11-10 09:29:16,880 Embeddings storage mode: gpu\n",
      "2023-11-10 09:29:16,881 ----------------------------------------------------------------------------------------------------\n",
      "2023-11-10 09:29:21,397 epoch 1 - iter 1/5 - loss 2.35548119 - time (sec): 4.51 - samples/sec: 818.80 - lr: 0.000001\n",
      "2023-11-10 09:29:21,944 epoch 1 - iter 2/5 - loss 2.34881525 - time (sec): 5.05 - samples/sec: 1599.11 - lr: 0.000002\n",
      "2023-11-10 09:29:22,965 epoch 1 - iter 3/5 - loss 2.33482677 - time (sec): 6.08 - samples/sec: 2170.74 - lr: 0.000003\n",
      "2023-11-10 09:29:23,766 epoch 1 - iter 4/5 - loss 2.34180336 - time (sec): 6.88 - samples/sec: 2627.59 - lr: 0.000004\n",
      "2023-11-10 09:29:24,132 epoch 1 - iter 5/5 - loss 2.33947592 - time (sec): 7.24 - samples/sec: 2730.50 - lr: 0.000005\n",
      "2023-11-10 09:29:24,143 ----------------------------------------------------------------------------------------------------\n",
      "2023-11-10 09:29:24,145 EPOCH 1 done: loss 2.3395 - lr 0.000005\n"
     ]
    },
    {
     "output_type": "stream",
     "name": "stderr",
     "text": [
      "100%|██████████| 2/2 [00:03<00:00,  1.91s/it]"
     ]
    },
    {
     "output_type": "stream",
     "name": "stdout",
     "text": [
      "2023-11-10 09:29:27,995 Evaluating as a multi-label problem: False\n",
      "2023-11-10 09:29:28,116 DEV : loss 2.1376683712005615 - f1-score (micro avg)  0.0065\n",
      "2023-11-10 09:29:28,147 ----------------------------------------------------------------------------------------------------\n"
     ]
    },
    {
     "output_type": "stream",
     "name": "stderr",
     "text": [
      "\n"
     ]
    },
    {
     "output_type": "stream",
     "name": "stdout",
     "text": [
      "2023-11-10 09:29:28,718 epoch 2 - iter 1/5 - loss 2.24434881 - time (sec): 0.56 - samples/sec: 7011.70 - lr: 0.000006\n",
      "2023-11-10 09:29:29,313 epoch 2 - iter 2/5 - loss 2.26072765 - time (sec): 1.16 - samples/sec: 7312.26 - lr: 0.000007\n",
      "2023-11-10 09:29:29,987 epoch 2 - iter 3/5 - loss 2.22494892 - time (sec): 1.83 - samples/sec: 7208.25 - lr: 0.000008\n",
      "2023-11-10 09:29:30,603 epoch 2 - iter 4/5 - loss 2.19728792 - time (sec): 2.45 - samples/sec: 7389.10 - lr: 0.000008\n",
      "2023-11-10 09:29:30,904 epoch 2 - iter 5/5 - loss 2.17338455 - time (sec): 2.75 - samples/sec: 7193.35 - lr: 0.000009\n",
      "2023-11-10 09:29:30,909 ----------------------------------------------------------------------------------------------------\n",
      "2023-11-10 09:29:30,913 EPOCH 2 done: loss 2.1734 - lr 0.000009\n"
     ]
    },
    {
     "output_type": "stream",
     "name": "stderr",
     "text": [
      "100%|██████████| 2/2 [00:03<00:00,  1.97s/it]"
     ]
    },
    {
     "output_type": "stream",
     "name": "stdout",
     "text": [
      "2023-11-10 09:29:34,890 Evaluating as a multi-label problem: False\n"
     ]
    },
    {
     "output_type": "stream",
     "name": "stderr",
     "text": [
      "\n"
     ]
    },
    {
     "output_type": "stream",
     "name": "stdout",
     "text": [
      "2023-11-10 09:29:35,386 DEV : loss 1.7962977886199951 - f1-score (micro avg)  0.002\n",
      "2023-11-10 09:29:35,410 ----------------------------------------------------------------------------------------------------\n",
      "2023-11-10 09:29:36,127 epoch 3 - iter 1/5 - loss 1.95239177 - time (sec): 0.71 - samples/sec: 8014.92 - lr: 0.000010\n",
      "2023-11-10 09:29:36,680 epoch 3 - iter 2/5 - loss 1.89710852 - time (sec): 1.27 - samples/sec: 7947.26 - lr: 0.000011\n",
      "2023-11-10 09:29:37,161 epoch 3 - iter 3/5 - loss 1.85094095 - time (sec): 1.75 - samples/sec: 8197.15 - lr: 0.000012\n",
      "2023-11-10 09:29:37,614 epoch 3 - iter 4/5 - loss 1.79819319 - time (sec): 2.20 - samples/sec: 8265.95 - lr: 0.000013\n",
      "2023-11-10 09:29:37,827 epoch 3 - iter 5/5 - loss 1.78975257 - time (sec): 2.41 - samples/sec: 8194.94 - lr: 0.000014\n",
      "2023-11-10 09:29:37,833 ----------------------------------------------------------------------------------------------------\n",
      "2023-11-10 09:29:37,837 EPOCH 3 done: loss 1.7898 - lr 0.000014\n"
     ]
    },
    {
     "output_type": "stream",
     "name": "stderr",
     "text": [
      "100%|██████████| 2/2 [00:04<00:00,  2.47s/it]"
     ]
    },
    {
     "output_type": "stream",
     "name": "stdout",
     "text": [
      "2023-11-10 09:29:42,787 Evaluating as a multi-label problem: False\n",
      "2023-11-10 09:29:42,822 DEV : loss 1.1916927099227905 - f1-score (micro avg)  0.0\n",
      "2023-11-10 09:29:42,843 ----------------------------------------------------------------------------------------------------\n"
     ]
    },
    {
     "output_type": "stream",
     "name": "stderr",
     "text": [
      "\n"
     ]
    },
    {
     "output_type": "stream",
     "name": "stdout",
     "text": [
      "2023-11-10 09:29:43,416 epoch 4 - iter 1/5 - loss 1.30751725 - time (sec): 0.57 - samples/sec: 8109.65 - lr: 0.000015\n",
      "2023-11-10 09:29:43,965 epoch 4 - iter 2/5 - loss 1.28457486 - time (sec): 1.12 - samples/sec: 7774.42 - lr: 0.000016\n",
      "2023-11-10 09:29:44,401 epoch 4 - iter 3/5 - loss 1.24276485 - time (sec): 1.56 - samples/sec: 8458.83 - lr: 0.000017\n",
      "2023-11-10 09:29:44,873 epoch 4 - iter 4/5 - loss 1.16166907 - time (sec): 2.03 - samples/sec: 8876.87 - lr: 0.000018\n",
      "2023-11-10 09:29:45,042 epoch 4 - iter 5/5 - loss 1.13177834 - time (sec): 2.20 - samples/sec: 9003.12 - lr: 0.000019\n",
      "2023-11-10 09:29:45,044 ----------------------------------------------------------------------------------------------------\n",
      "2023-11-10 09:29:45,048 EPOCH 4 done: loss 1.1318 - lr 0.000019\n"
     ]
    },
    {
     "output_type": "stream",
     "name": "stderr",
     "text": [
      "100%|██████████| 2/2 [00:02<00:00,  1.26s/it]"
     ]
    },
    {
     "output_type": "stream",
     "name": "stdout",
     "text": [
      "2023-11-10 09:29:47,584 Evaluating as a multi-label problem: False\n",
      "2023-11-10 09:29:47,608 DEV : loss 0.6016022562980652 - f1-score (micro avg)  0.0\n",
      "2023-11-10 09:29:47,621 ----------------------------------------------------------------------------------------------------\n"
     ]
    },
    {
     "output_type": "stream",
     "name": "stderr",
     "text": [
      "\n"
     ]
    },
    {
     "output_type": "stream",
     "name": "stdout",
     "text": [
      "2023-11-10 09:29:48,056 epoch 5 - iter 1/5 - loss 0.75203920 - time (sec): 0.43 - samples/sec: 10442.50 - lr: 0.000020\n",
      "2023-11-10 09:29:48,532 epoch 5 - iter 2/5 - loss 0.74535507 - time (sec): 0.91 - samples/sec: 10233.11 - lr: 0.000021\n",
      "2023-11-10 09:29:48,914 epoch 5 - iter 3/5 - loss 0.79676009 - time (sec): 1.29 - samples/sec: 10292.95 - lr: 0.000022\n",
      "2023-11-10 09:29:49,373 epoch 5 - iter 4/5 - loss 0.77603625 - time (sec): 1.75 - samples/sec: 10241.29 - lr: 0.000023\n",
      "2023-11-10 09:29:49,558 epoch 5 - iter 5/5 - loss 0.76204006 - time (sec): 1.94 - samples/sec: 10214.62 - lr: 0.000024\n",
      "2023-11-10 09:29:49,560 ----------------------------------------------------------------------------------------------------\n",
      "2023-11-10 09:29:49,563 EPOCH 5 done: loss 0.7620 - lr 0.000024\n"
     ]
    },
    {
     "output_type": "stream",
     "name": "stderr",
     "text": [
      "100%|██████████| 2/2 [00:03<00:00,  1.50s/it]"
     ]
    },
    {
     "output_type": "stream",
     "name": "stdout",
     "text": [
      "2023-11-10 09:29:52,588 Evaluating as a multi-label problem: False\n",
      "2023-11-10 09:29:52,607 DEV : loss 0.5848215818405151 - f1-score (micro avg)  0.0\n",
      "2023-11-10 09:29:52,621 ----------------------------------------------------------------------------------------------------\n"
     ]
    },
    {
     "output_type": "stream",
     "name": "stderr",
     "text": [
      "\n"
     ]
    },
    {
     "output_type": "stream",
     "name": "stdout",
     "text": [
      "2023-11-10 09:29:53,061 epoch 6 - iter 1/5 - loss 0.73130886 - time (sec): 0.44 - samples/sec: 10554.79 - lr: 0.000025\n",
      "2023-11-10 09:29:53,521 epoch 6 - iter 2/5 - loss 0.70739561 - time (sec): 0.90 - samples/sec: 10739.27 - lr: 0.000025\n",
      "2023-11-10 09:29:53,922 epoch 6 - iter 3/5 - loss 0.71314584 - time (sec): 1.30 - samples/sec: 10557.52 - lr: 0.000026\n",
      "2023-11-10 09:29:54,338 epoch 6 - iter 4/5 - loss 0.72225769 - time (sec): 1.72 - samples/sec: 10476.20 - lr: 0.000027\n",
      "2023-11-10 09:29:54,603 epoch 6 - iter 5/5 - loss 0.72398610 - time (sec): 1.98 - samples/sec: 9982.24 - lr: 0.000028\n",
      "2023-11-10 09:29:54,606 ----------------------------------------------------------------------------------------------------\n",
      "2023-11-10 09:29:54,612 EPOCH 6 done: loss 0.7240 - lr 0.000028\n"
     ]
    },
    {
     "output_type": "stream",
     "name": "stderr",
     "text": [
      "100%|██████████| 2/2 [00:05<00:00,  2.57s/it]"
     ]
    },
    {
     "output_type": "stream",
     "name": "stdout",
     "text": [
      "2023-11-10 09:29:59,778 Evaluating as a multi-label problem: False\n",
      "2023-11-10 09:29:59,817 DEV : loss 0.5181533694267273 - f1-score (micro avg)  0.0\n",
      "2023-11-10 09:29:59,841 ----------------------------------------------------------------------------------------------------\n"
     ]
    },
    {
     "output_type": "stream",
     "name": "stderr",
     "text": [
      "\n"
     ]
    },
    {
     "output_type": "stream",
     "name": "stdout",
     "text": [
      "2023-11-10 09:30:00,451 epoch 7 - iter 1/5 - loss 0.70881254 - time (sec): 0.61 - samples/sec: 7708.67 - lr: 0.000029\n",
      "2023-11-10 09:30:00,968 epoch 7 - iter 2/5 - loss 0.69613776 - time (sec): 1.12 - samples/sec: 7856.11 - lr: 0.000030\n",
      "2023-11-10 09:30:01,488 epoch 7 - iter 3/5 - loss 0.69627539 - time (sec): 1.64 - samples/sec: 8070.97 - lr: 0.000031\n",
      "2023-11-10 09:30:02,169 epoch 7 - iter 4/5 - loss 0.65244946 - time (sec): 2.32 - samples/sec: 7755.36 - lr: 0.000032\n",
      "2023-11-10 09:30:02,407 epoch 7 - iter 5/5 - loss 0.64348242 - time (sec): 2.56 - samples/sec: 7715.60 - lr: 0.000033\n",
      "2023-11-10 09:30:02,410 ----------------------------------------------------------------------------------------------------\n",
      "2023-11-10 09:30:02,413 EPOCH 7 done: loss 0.6435 - lr 0.000033\n"
     ]
    },
    {
     "output_type": "stream",
     "name": "stderr",
     "text": [
      "100%|██████████| 2/2 [00:02<00:00,  1.44s/it]"
     ]
    },
    {
     "output_type": "stream",
     "name": "stdout",
     "text": [
      "2023-11-10 09:30:05,307 Evaluating as a multi-label problem: False\n",
      "2023-11-10 09:30:05,325 DEV : loss 0.4307210445404053 - f1-score (micro avg)  0.0\n",
      "2023-11-10 09:30:05,338 ----------------------------------------------------------------------------------------------------\n"
     ]
    },
    {
     "output_type": "stream",
     "name": "stderr",
     "text": [
      "\n"
     ]
    },
    {
     "output_type": "stream",
     "name": "stdout",
     "text": [
      "2023-11-10 09:30:05,710 epoch 8 - iter 1/5 - loss 0.66020860 - time (sec): 0.37 - samples/sec: 10386.61 - lr: 0.000034\n",
      "2023-11-10 09:30:06,602 epoch 8 - iter 2/5 - loss 0.58687743 - time (sec): 1.26 - samples/sec: 6737.17 - lr: 0.000035\n",
      "2023-11-10 09:30:07,004 epoch 8 - iter 3/5 - loss 0.56255489 - time (sec): 1.66 - samples/sec: 7711.96 - lr: 0.000036\n",
      "2023-11-10 09:30:07,498 epoch 8 - iter 4/5 - loss 0.55175210 - time (sec): 2.16 - samples/sec: 8369.93 - lr: 0.000037\n",
      "2023-11-10 09:30:07,680 epoch 8 - iter 5/5 - loss 0.54543338 - time (sec): 2.34 - samples/sec: 8458.42 - lr: 0.000038\n",
      "2023-11-10 09:30:07,682 ----------------------------------------------------------------------------------------------------\n",
      "2023-11-10 09:30:07,686 EPOCH 8 done: loss 0.5454 - lr 0.000038\n"
     ]
    },
    {
     "output_type": "stream",
     "name": "stderr",
     "text": [
      "100%|██████████| 2/2 [00:02<00:00,  1.29s/it]"
     ]
    },
    {
     "output_type": "stream",
     "name": "stdout",
     "text": [
      "2023-11-10 09:30:10,277 Evaluating as a multi-label problem: False\n",
      "2023-11-10 09:30:10,305 DEV : loss 0.3580443859100342 - f1-score (micro avg)  0.101\n",
      "2023-11-10 09:30:10,319 ----------------------------------------------------------------------------------------------------\n"
     ]
    },
    {
     "output_type": "stream",
     "name": "stderr",
     "text": [
      "\n"
     ]
    },
    {
     "output_type": "stream",
     "name": "stdout",
     "text": [
      "2023-11-10 09:30:10,757 epoch 9 - iter 1/5 - loss 0.48092399 - time (sec): 0.44 - samples/sec: 9772.54 - lr: 0.000039\n",
      "2023-11-10 09:30:11,150 epoch 9 - iter 2/5 - loss 0.49429181 - time (sec): 0.83 - samples/sec: 10492.89 - lr: 0.000040\n",
      "2023-11-10 09:30:11,621 epoch 9 - iter 3/5 - loss 0.46816418 - time (sec): 1.30 - samples/sec: 10193.96 - lr: 0.000041\n",
      "2023-11-10 09:30:12,087 epoch 9 - iter 4/5 - loss 0.45263516 - time (sec): 1.77 - samples/sec: 10283.97 - lr: 0.000042\n",
      "2023-11-10 09:30:12,292 epoch 9 - iter 5/5 - loss 0.45345338 - time (sec): 1.97 - samples/sec: 10028.29 - lr: 0.000042\n",
      "2023-11-10 09:30:12,294 ----------------------------------------------------------------------------------------------------\n",
      "2023-11-10 09:30:12,297 EPOCH 9 done: loss 0.4535 - lr 0.000042\n"
     ]
    },
    {
     "output_type": "stream",
     "name": "stderr",
     "text": [
      "100%|██████████| 2/2 [00:04<00:00,  2.27s/it]"
     ]
    },
    {
     "output_type": "stream",
     "name": "stdout",
     "text": [
      "2023-11-10 09:30:16,858 Evaluating as a multi-label problem: False\n",
      "2023-11-10 09:30:16,891 DEV : loss 0.28441640734672546 - f1-score (micro avg)  0.486\n",
      "2023-11-10 09:30:16,910 ----------------------------------------------------------------------------------------------------\n"
     ]
    },
    {
     "output_type": "stream",
     "name": "stderr",
     "text": [
      "\n"
     ]
    },
    {
     "output_type": "stream",
     "name": "stdout",
     "text": [
      "2023-11-10 09:30:17,573 epoch 10 - iter 1/5 - loss 0.41554896 - time (sec): 0.66 - samples/sec: 6351.69 - lr: 0.000043\n",
      "2023-11-10 09:30:18,197 epoch 10 - iter 2/5 - loss 0.38320782 - time (sec): 1.28 - samples/sec: 7081.93 - lr: 0.000044\n",
      "2023-11-10 09:30:18,844 epoch 10 - iter 3/5 - loss 0.35303671 - time (sec): 1.93 - samples/sec: 7134.38 - lr: 0.000045\n",
      "2023-11-10 09:30:19,394 epoch 10 - iter 4/5 - loss 0.34894470 - time (sec): 2.48 - samples/sec: 7335.57 - lr: 0.000046\n",
      "2023-11-10 09:30:19,659 epoch 10 - iter 5/5 - loss 0.34908758 - time (sec): 2.75 - samples/sec: 7200.25 - lr: 0.000047\n",
      "2023-11-10 09:30:19,663 ----------------------------------------------------------------------------------------------------\n",
      "2023-11-10 09:30:19,665 EPOCH 10 done: loss 0.3491 - lr 0.000047\n"
     ]
    },
    {
     "output_type": "stream",
     "name": "stderr",
     "text": [
      "100%|██████████| 2/2 [00:06<00:00,  3.32s/it]"
     ]
    },
    {
     "output_type": "stream",
     "name": "stdout",
     "text": [
      "2023-11-10 09:30:26,341 Evaluating as a multi-label problem: False\n",
      "2023-11-10 09:30:26,372 DEV : loss 0.2320910096168518 - f1-score (micro avg)  0.5283\n",
      "2023-11-10 09:30:26,396 ----------------------------------------------------------------------------------------------------\n"
     ]
    },
    {
     "output_type": "stream",
     "name": "stderr",
     "text": [
      "\n"
     ]
    },
    {
     "output_type": "stream",
     "name": "stdout",
     "text": [
      "2023-11-10 09:30:26,879 epoch 11 - iter 1/5 - loss 0.35619892 - time (sec): 0.48 - samples/sec: 9019.88 - lr: 0.000048\n",
      "2023-11-10 09:30:27,449 epoch 11 - iter 2/5 - loss 0.30237723 - time (sec): 1.05 - samples/sec: 8330.55 - lr: 0.000049\n",
      "2023-11-10 09:30:28,022 epoch 11 - iter 3/5 - loss 0.29603254 - time (sec): 1.62 - samples/sec: 8420.25 - lr: 0.000050\n",
      "2023-11-10 09:30:28,636 epoch 11 - iter 4/5 - loss 0.27247224 - time (sec): 2.24 - samples/sec: 8113.75 - lr: 0.000050\n",
      "2023-11-10 09:30:28,852 epoch 11 - iter 5/5 - loss 0.27109707 - time (sec): 2.45 - samples/sec: 8060.19 - lr: 0.000050\n",
      "2023-11-10 09:30:28,858 ----------------------------------------------------------------------------------------------------\n",
      "2023-11-10 09:30:28,863 EPOCH 11 done: loss 0.2711 - lr 0.000050\n"
     ]
    },
    {
     "output_type": "stream",
     "name": "stderr",
     "text": [
      "100%|██████████| 2/2 [00:02<00:00,  1.38s/it]"
     ]
    },
    {
     "output_type": "stream",
     "name": "stdout",
     "text": [
      "2023-11-10 09:30:31,640 Evaluating as a multi-label problem: False\n",
      "2023-11-10 09:30:31,660 DEV : loss 0.19074136018753052 - f1-score (micro avg)  0.6701\n",
      "2023-11-10 09:30:31,674 ----------------------------------------------------------------------------------------------------\n"
     ]
    },
    {
     "output_type": "stream",
     "name": "stderr",
     "text": [
      "\n"
     ]
    },
    {
     "output_type": "stream",
     "name": "stdout",
     "text": [
      "2023-11-10 09:30:32,109 epoch 12 - iter 1/5 - loss 0.22711516 - time (sec): 0.43 - samples/sec: 10522.58 - lr: 0.000050\n",
      "2023-11-10 09:30:32,514 epoch 12 - iter 2/5 - loss 0.22936400 - time (sec): 0.84 - samples/sec: 10850.70 - lr: 0.000050\n",
      "2023-11-10 09:30:32,958 epoch 12 - iter 3/5 - loss 0.20665834 - time (sec): 1.28 - samples/sec: 10678.04 - lr: 0.000049\n",
      "2023-11-10 09:30:33,395 epoch 12 - iter 4/5 - loss 0.19783485 - time (sec): 1.72 - samples/sec: 10448.22 - lr: 0.000049\n",
      "2023-11-10 09:30:33,599 epoch 12 - iter 5/5 - loss 0.20035849 - time (sec): 1.92 - samples/sec: 10279.17 - lr: 0.000049\n",
      "2023-11-10 09:30:33,603 ----------------------------------------------------------------------------------------------------\n",
      "2023-11-10 09:30:33,605 EPOCH 12 done: loss 0.2004 - lr 0.000049\n"
     ]
    },
    {
     "output_type": "stream",
     "name": "stderr",
     "text": [
      "100%|██████████| 2/2 [00:05<00:00,  2.55s/it]"
     ]
    },
    {
     "output_type": "stream",
     "name": "stdout",
     "text": [
      "2023-11-10 09:30:38,732 Evaluating as a multi-label problem: False\n",
      "2023-11-10 09:30:38,770 DEV : loss 0.17646218836307526 - f1-score (micro avg)  0.7451\n",
      "2023-11-10 09:30:38,794 ----------------------------------------------------------------------------------------------------\n"
     ]
    },
    {
     "output_type": "stream",
     "name": "stderr",
     "text": [
      "\n"
     ]
    },
    {
     "output_type": "stream",
     "name": "stdout",
     "text": [
      "2023-11-10 09:30:39,858 epoch 13 - iter 1/5 - loss 0.16659609 - time (sec): 1.06 - samples/sec: 3962.66 - lr: 0.000049\n",
      "2023-11-10 09:30:40,351 epoch 13 - iter 2/5 - loss 0.15366003 - time (sec): 1.55 - samples/sec: 5274.69 - lr: 0.000049\n",
      "2023-11-10 09:30:41,038 epoch 13 - iter 3/5 - loss 0.15264315 - time (sec): 2.24 - samples/sec: 6057.26 - lr: 0.000049\n",
      "2023-11-10 09:30:41,545 epoch 13 - iter 4/5 - loss 0.15088176 - time (sec): 2.74 - samples/sec: 6505.49 - lr: 0.000049\n",
      "2023-11-10 09:30:41,792 epoch 13 - iter 5/5 - loss 0.14710878 - time (sec): 2.99 - samples/sec: 6610.08 - lr: 0.000049\n",
      "2023-11-10 09:30:41,798 ----------------------------------------------------------------------------------------------------\n",
      "2023-11-10 09:30:41,802 EPOCH 13 done: loss 0.1471 - lr 0.000049\n"
     ]
    },
    {
     "output_type": "stream",
     "name": "stderr",
     "text": [
      "100%|██████████| 2/2 [00:03<00:00,  1.55s/it]"
     ]
    },
    {
     "output_type": "stream",
     "name": "stdout",
     "text": [
      "2023-11-10 09:30:44,925 Evaluating as a multi-label problem: False\n",
      "2023-11-10 09:30:44,950 DEV : loss 0.17710456252098083 - f1-score (micro avg)  0.7432\n",
      "2023-11-10 09:30:44,963 ----------------------------------------------------------------------------------------------------\n"
     ]
    },
    {
     "output_type": "stream",
     "name": "stderr",
     "text": [
      "\n"
     ]
    },
    {
     "output_type": "stream",
     "name": "stdout",
     "text": [
      "2023-11-10 09:30:45,387 epoch 14 - iter 1/5 - loss 0.11312010 - time (sec): 0.42 - samples/sec: 10169.69 - lr: 0.000049\n",
      "2023-11-10 09:30:45,891 epoch 14 - iter 2/5 - loss 0.13731491 - time (sec): 0.93 - samples/sec: 10422.66 - lr: 0.000049\n",
      "2023-11-10 09:30:46,350 epoch 14 - iter 3/5 - loss 0.14029387 - time (sec): 1.38 - samples/sec: 10125.16 - lr: 0.000048\n",
      "2023-11-10 09:30:46,958 epoch 14 - iter 4/5 - loss 0.13202069 - time (sec): 1.99 - samples/sec: 9240.26 - lr: 0.000048\n",
      "2023-11-10 09:30:47,120 epoch 14 - iter 5/5 - loss 0.12733064 - time (sec): 2.16 - samples/sec: 9175.45 - lr: 0.000048\n",
      "2023-11-10 09:30:47,123 ----------------------------------------------------------------------------------------------------\n",
      "2023-11-10 09:30:47,126 EPOCH 14 done: loss 0.1273 - lr 0.000048\n"
     ]
    },
    {
     "output_type": "stream",
     "name": "stderr",
     "text": [
      "100%|██████████| 2/2 [00:03<00:00,  1.56s/it]"
     ]
    },
    {
     "output_type": "stream",
     "name": "stdout",
     "text": [
      "2023-11-10 09:30:50,266 Evaluating as a multi-label problem: False\n",
      "2023-11-10 09:30:50,287 DEV : loss 0.1765315979719162 - f1-score (micro avg)  0.7037\n",
      "2023-11-10 09:30:50,300 ----------------------------------------------------------------------------------------------------\n"
     ]
    },
    {
     "output_type": "stream",
     "name": "stderr",
     "text": [
      "\n"
     ]
    },
    {
     "output_type": "stream",
     "name": "stdout",
     "text": [
      "2023-11-10 09:30:50,797 epoch 15 - iter 1/5 - loss 0.09651655 - time (sec): 0.50 - samples/sec: 10381.66 - lr: 0.000048\n",
      "2023-11-10 09:30:51,724 epoch 15 - iter 2/5 - loss 0.09939464 - time (sec): 1.42 - samples/sec: 7286.79 - lr: 0.000048\n",
      "2023-11-10 09:30:52,128 epoch 15 - iter 3/5 - loss 0.10221310 - time (sec): 1.83 - samples/sec: 7934.33 - lr: 0.000048\n",
      "2023-11-10 09:30:52,539 epoch 15 - iter 4/5 - loss 0.09845312 - time (sec): 2.24 - samples/sec: 8067.57 - lr: 0.000048\n",
      "2023-11-10 09:30:52,720 epoch 15 - iter 5/5 - loss 0.09969533 - time (sec): 2.42 - samples/sec: 8179.09 - lr: 0.000048\n",
      "2023-11-10 09:30:52,722 ----------------------------------------------------------------------------------------------------\n",
      "2023-11-10 09:30:52,726 EPOCH 15 done: loss 0.0997 - lr 0.000048\n"
     ]
    },
    {
     "output_type": "stream",
     "name": "stderr",
     "text": [
      "100%|██████████| 2/2 [00:05<00:00,  2.70s/it]"
     ]
    },
    {
     "output_type": "stream",
     "name": "stdout",
     "text": [
      "2023-11-10 09:30:58,153 Evaluating as a multi-label problem: False\n",
      "2023-11-10 09:30:58,191 DEV : loss 0.16494159400463104 - f1-score (micro avg)  0.7839\n",
      "2023-11-10 09:30:58,214 ----------------------------------------------------------------------------------------------------\n"
     ]
    },
    {
     "output_type": "stream",
     "name": "stderr",
     "text": [
      "\n"
     ]
    },
    {
     "output_type": "stream",
     "name": "stdout",
     "text": [
      "2023-11-10 09:30:58,725 epoch 16 - iter 1/5 - loss 0.06565936 - time (sec): 0.51 - samples/sec: 8982.64 - lr: 0.000048\n",
      "2023-11-10 09:30:59,219 epoch 16 - iter 2/5 - loss 0.06646817 - time (sec): 1.00 - samples/sec: 9006.35 - lr: 0.000047\n",
      "2023-11-10 09:30:59,846 epoch 16 - iter 3/5 - loss 0.06293455 - time (sec): 1.63 - samples/sec: 8448.82 - lr: 0.000047\n",
      "2023-11-10 09:31:00,373 epoch 16 - iter 4/5 - loss 0.07150182 - time (sec): 2.16 - samples/sec: 8341.66 - lr: 0.000047\n",
      "2023-11-10 09:31:00,610 epoch 16 - iter 5/5 - loss 0.07277928 - time (sec): 2.39 - samples/sec: 8264.79 - lr: 0.000047\n",
      "2023-11-10 09:31:00,617 ----------------------------------------------------------------------------------------------------\n",
      "2023-11-10 09:31:00,619 EPOCH 16 done: loss 0.0728 - lr 0.000047\n"
     ]
    },
    {
     "output_type": "stream",
     "name": "stderr",
     "text": [
      "100%|██████████| 2/2 [00:04<00:00,  2.21s/it]"
     ]
    },
    {
     "output_type": "stream",
     "name": "stdout",
     "text": [
      "2023-11-10 09:31:05,056 Evaluating as a multi-label problem: False\n",
      "2023-11-10 09:31:05,078 DEV : loss 0.16854926943778992 - f1-score (micro avg)  0.7678\n",
      "2023-11-10 09:31:05,092 ----------------------------------------------------------------------------------------------------\n"
     ]
    },
    {
     "output_type": "stream",
     "name": "stderr",
     "text": [
      "\n"
     ]
    },
    {
     "output_type": "stream",
     "name": "stdout",
     "text": [
      "2023-11-10 09:31:05,577 epoch 17 - iter 1/5 - loss 0.07009546 - time (sec): 0.48 - samples/sec: 10070.06 - lr: 0.000047\n",
      "2023-11-10 09:31:06,039 epoch 17 - iter 2/5 - loss 0.06830048 - time (sec): 0.94 - samples/sec: 9710.30 - lr: 0.000047\n",
      "2023-11-10 09:31:06,565 epoch 17 - iter 3/5 - loss 0.06289470 - time (sec): 1.47 - samples/sec: 9510.97 - lr: 0.000047\n",
      "2023-11-10 09:31:06,975 epoch 17 - iter 4/5 - loss 0.06154050 - time (sec): 1.88 - samples/sec: 9694.48 - lr: 0.000047\n",
      "2023-11-10 09:31:07,156 epoch 17 - iter 5/5 - loss 0.06289373 - time (sec): 2.06 - samples/sec: 9609.93 - lr: 0.000047\n",
      "2023-11-10 09:31:07,162 ----------------------------------------------------------------------------------------------------\n",
      "2023-11-10 09:31:07,168 EPOCH 17 done: loss 0.0629 - lr 0.000047\n"
     ]
    },
    {
     "output_type": "stream",
     "name": "stderr",
     "text": [
      "100%|██████████| 2/2 [00:03<00:00,  1.55s/it]"
     ]
    },
    {
     "output_type": "stream",
     "name": "stdout",
     "text": [
      "2023-11-10 09:31:10,283 Evaluating as a multi-label problem: False\n",
      "2023-11-10 09:31:10,313 DEV : loss 0.16509544849395752 - f1-score (micro avg)  0.7851\n",
      "2023-11-10 09:31:10,326 ----------------------------------------------------------------------------------------------------\n"
     ]
    },
    {
     "output_type": "stream",
     "name": "stderr",
     "text": [
      "\n"
     ]
    },
    {
     "output_type": "stream",
     "name": "stdout",
     "text": [
      "2023-11-10 09:31:10,735 epoch 18 - iter 1/5 - loss 0.06563027 - time (sec): 0.41 - samples/sec: 10001.68 - lr: 0.000047\n",
      "2023-11-10 09:31:11,172 epoch 18 - iter 2/5 - loss 0.06538905 - time (sec): 0.84 - samples/sec: 10103.32 - lr: 0.000046\n",
      "2023-11-10 09:31:11,667 epoch 18 - iter 3/5 - loss 0.05920381 - time (sec): 1.34 - samples/sec: 9846.64 - lr: 0.000046\n",
      "2023-11-10 09:31:12,154 epoch 18 - iter 4/5 - loss 0.05851403 - time (sec): 1.83 - samples/sec: 9706.27 - lr: 0.000046\n",
      "2023-11-10 09:31:12,440 epoch 18 - iter 5/5 - loss 0.05521703 - time (sec): 2.11 - samples/sec: 9362.25 - lr: 0.000046\n",
      "2023-11-10 09:31:12,444 ----------------------------------------------------------------------------------------------------\n",
      "2023-11-10 09:31:12,446 EPOCH 18 done: loss 0.0552 - lr 0.000046\n"
     ]
    },
    {
     "output_type": "stream",
     "name": "stderr",
     "text": [
      "100%|██████████| 2/2 [00:05<00:00,  2.71s/it]"
     ]
    },
    {
     "output_type": "stream",
     "name": "stdout",
     "text": [
      "2023-11-10 09:31:17,879 Evaluating as a multi-label problem: False\n",
      "2023-11-10 09:31:17,911 DEV : loss 0.19798114895820618 - f1-score (micro avg)  0.7657\n",
      "2023-11-10 09:31:17,933 ----------------------------------------------------------------------------------------------------\n"
     ]
    },
    {
     "output_type": "stream",
     "name": "stderr",
     "text": [
      "\n"
     ]
    },
    {
     "output_type": "stream",
     "name": "stdout",
     "text": [
      "2023-11-10 09:31:18,489 epoch 19 - iter 1/5 - loss 0.05853815 - time (sec): 0.55 - samples/sec: 8211.37 - lr: 0.000046\n",
      "2023-11-10 09:31:19,069 epoch 19 - iter 2/5 - loss 0.06131520 - time (sec): 1.13 - samples/sec: 7954.27 - lr: 0.000046\n",
      "2023-11-10 09:31:19,618 epoch 19 - iter 3/5 - loss 0.05684888 - time (sec): 1.68 - samples/sec: 7828.90 - lr: 0.000046\n",
      "2023-11-10 09:31:20,270 epoch 19 - iter 4/5 - loss 0.04940014 - time (sec): 2.33 - samples/sec: 7633.85 - lr: 0.000046\n",
      "2023-11-10 09:31:20,508 epoch 19 - iter 5/5 - loss 0.04748856 - time (sec): 2.57 - samples/sec: 7689.37 - lr: 0.000046\n",
      "2023-11-10 09:31:20,513 ----------------------------------------------------------------------------------------------------\n",
      "2023-11-10 09:31:20,519 EPOCH 19 done: loss 0.0475 - lr 0.000046\n"
     ]
    },
    {
     "output_type": "stream",
     "name": "stderr",
     "text": [
      "100%|██████████| 2/2 [00:03<00:00,  1.58s/it]"
     ]
    },
    {
     "output_type": "stream",
     "name": "stdout",
     "text": [
      "2023-11-10 09:31:23,693 Evaluating as a multi-label problem: False\n",
      "2023-11-10 09:31:23,716 DEV : loss 0.1794450283050537 - f1-score (micro avg)  0.7617\n",
      "2023-11-10 09:31:23,729 ----------------------------------------------------------------------------------------------------\n"
     ]
    },
    {
     "output_type": "stream",
     "name": "stderr",
     "text": [
      "\n"
     ]
    },
    {
     "output_type": "stream",
     "name": "stdout",
     "text": [
      "2023-11-10 09:31:24,176 epoch 20 - iter 1/5 - loss 0.04965167 - time (sec): 0.45 - samples/sec: 10219.66 - lr: 0.000046\n",
      "2023-11-10 09:31:24,595 epoch 20 - iter 2/5 - loss 0.05043878 - time (sec): 0.86 - samples/sec: 10442.33 - lr: 0.000045\n",
      "2023-11-10 09:31:25,121 epoch 20 - iter 3/5 - loss 0.04804766 - time (sec): 1.39 - samples/sec: 9943.40 - lr: 0.000045\n",
      "2023-11-10 09:31:25,507 epoch 20 - iter 4/5 - loss 0.04851152 - time (sec): 1.78 - samples/sec: 10089.67 - lr: 0.000045\n",
      "2023-11-10 09:31:25,677 epoch 20 - iter 5/5 - loss 0.04514155 - time (sec): 1.95 - samples/sec: 10157.70 - lr: 0.000045\n",
      "2023-11-10 09:31:25,679 ----------------------------------------------------------------------------------------------------\n",
      "2023-11-10 09:31:25,683 EPOCH 20 done: loss 0.0451 - lr 0.000045\n"
     ]
    },
    {
     "output_type": "stream",
     "name": "stderr",
     "text": [
      "100%|██████████| 2/2 [00:02<00:00,  1.34s/it]"
     ]
    },
    {
     "output_type": "stream",
     "name": "stdout",
     "text": [
      "2023-11-10 09:31:28,377 Evaluating as a multi-label problem: False\n",
      "2023-11-10 09:31:28,398 DEV : loss 0.18923097848892212 - f1-score (micro avg)  0.7946\n",
      "2023-11-10 09:31:28,412 ----------------------------------------------------------------------------------------------------\n"
     ]
    },
    {
     "output_type": "stream",
     "name": "stderr",
     "text": [
      "\n"
     ]
    },
    {
     "output_type": "stream",
     "name": "stdout",
     "text": [
      "2023-11-10 09:31:28,891 epoch 21 - iter 1/5 - loss 0.03598950 - time (sec): 0.47 - samples/sec: 10166.70 - lr: 0.000045\n",
      "2023-11-10 09:31:29,405 epoch 21 - iter 2/5 - loss 0.03378960 - time (sec): 0.99 - samples/sec: 9733.82 - lr: 0.000045\n",
      "2023-11-10 09:31:29,804 epoch 21 - iter 3/5 - loss 0.03164168 - time (sec): 1.39 - samples/sec: 9663.34 - lr: 0.000045\n",
      "2023-11-10 09:31:30,237 epoch 21 - iter 4/5 - loss 0.03238162 - time (sec): 1.82 - samples/sec: 10057.99 - lr: 0.000045\n",
      "2023-11-10 09:31:30,398 epoch 21 - iter 5/5 - loss 0.03286952 - time (sec): 1.98 - samples/sec: 9976.99 - lr: 0.000045\n",
      "2023-11-10 09:31:30,401 ----------------------------------------------------------------------------------------------------\n",
      "2023-11-10 09:31:30,404 EPOCH 21 done: loss 0.0329 - lr 0.000045\n"
     ]
    },
    {
     "output_type": "stream",
     "name": "stderr",
     "text": [
      "100%|██████████| 2/2 [00:05<00:00,  2.55s/it]"
     ]
    },
    {
     "output_type": "stream",
     "name": "stdout",
     "text": [
      "2023-11-10 09:31:35,522 Evaluating as a multi-label problem: False\n",
      "2023-11-10 09:31:35,553 DEV : loss 0.1761743575334549 - f1-score (micro avg)  0.7862\n",
      "2023-11-10 09:31:35,572 ----------------------------------------------------------------------------------------------------\n"
     ]
    },
    {
     "output_type": "stream",
     "name": "stderr",
     "text": [
      "\n"
     ]
    },
    {
     "output_type": "stream",
     "name": "stdout",
     "text": [
      "2023-11-10 09:31:36,667 epoch 22 - iter 1/5 - loss 0.02189431 - time (sec): 1.09 - samples/sec: 4018.20 - lr: 0.000044\n",
      "2023-11-10 09:31:37,386 epoch 22 - iter 2/5 - loss 0.02720702 - time (sec): 1.81 - samples/sec: 5117.19 - lr: 0.000044\n",
      "2023-11-10 09:31:37,963 epoch 22 - iter 3/5 - loss 0.02608764 - time (sec): 2.39 - samples/sec: 5885.18 - lr: 0.000044\n",
      "2023-11-10 09:31:38,531 epoch 22 - iter 4/5 - loss 0.02457161 - time (sec): 2.96 - samples/sec: 6136.29 - lr: 0.000044\n",
      "2023-11-10 09:31:38,757 epoch 22 - iter 5/5 - loss 0.02510101 - time (sec): 3.18 - samples/sec: 6215.51 - lr: 0.000044\n",
      "2023-11-10 09:31:38,761 ----------------------------------------------------------------------------------------------------\n",
      "2023-11-10 09:31:38,763 EPOCH 22 done: loss 0.0251 - lr 0.000044\n"
     ]
    },
    {
     "output_type": "stream",
     "name": "stderr",
     "text": [
      "100%|██████████| 2/2 [00:03<00:00,  1.56s/it]"
     ]
    },
    {
     "output_type": "stream",
     "name": "stdout",
     "text": [
      "2023-11-10 09:31:41,898 Evaluating as a multi-label problem: False\n",
      "2023-11-10 09:31:41,921 DEV : loss 0.17062877118587494 - f1-score (micro avg)  0.8137\n",
      "2023-11-10 09:31:41,935 ----------------------------------------------------------------------------------------------------\n"
     ]
    },
    {
     "output_type": "stream",
     "name": "stderr",
     "text": [
      "\n"
     ]
    },
    {
     "output_type": "stream",
     "name": "stdout",
     "text": [
      "2023-11-10 09:31:42,379 epoch 23 - iter 1/5 - loss 0.02653190 - time (sec): 0.44 - samples/sec: 9972.81 - lr: 0.000044\n",
      "2023-11-10 09:31:42,782 epoch 23 - iter 2/5 - loss 0.02160398 - time (sec): 0.85 - samples/sec: 10243.39 - lr: 0.000044\n",
      "2023-11-10 09:31:43,280 epoch 23 - iter 3/5 - loss 0.02098772 - time (sec): 1.34 - samples/sec: 10354.08 - lr: 0.000044\n",
      "2023-11-10 09:31:43,679 epoch 23 - iter 4/5 - loss 0.02119215 - time (sec): 1.74 - samples/sec: 10308.13 - lr: 0.000044\n",
      "2023-11-10 09:31:43,859 epoch 23 - iter 5/5 - loss 0.02110080 - time (sec): 1.92 - samples/sec: 10287.27 - lr: 0.000044\n",
      "2023-11-10 09:31:43,862 ----------------------------------------------------------------------------------------------------\n",
      "2023-11-10 09:31:43,865 EPOCH 23 done: loss 0.0211 - lr 0.000044\n"
     ]
    },
    {
     "output_type": "stream",
     "name": "stderr",
     "text": [
      "100%|██████████| 2/2 [00:02<00:00,  1.34s/it]"
     ]
    },
    {
     "output_type": "stream",
     "name": "stdout",
     "text": [
      "2023-11-10 09:31:46,568 Evaluating as a multi-label problem: False\n",
      "2023-11-10 09:31:46,599 DEV : loss 0.16933304071426392 - f1-score (micro avg)  0.81\n",
      "2023-11-10 09:31:46,613 ----------------------------------------------------------------------------------------------------\n"
     ]
    },
    {
     "output_type": "stream",
     "name": "stderr",
     "text": [
      "\n"
     ]
    },
    {
     "output_type": "stream",
     "name": "stdout",
     "text": [
      "2023-11-10 09:31:47,047 epoch 24 - iter 1/5 - loss 0.01341723 - time (sec): 0.43 - samples/sec: 10602.30 - lr: 0.000043\n",
      "2023-11-10 09:31:47,472 epoch 24 - iter 2/5 - loss 0.01295252 - time (sec): 0.86 - samples/sec: 10326.33 - lr: 0.000043\n",
      "2023-11-10 09:31:47,920 epoch 24 - iter 3/5 - loss 0.01508743 - time (sec): 1.30 - samples/sec: 10585.97 - lr: 0.000043\n",
      "2023-11-10 09:31:48,376 epoch 24 - iter 4/5 - loss 0.01484934 - time (sec): 1.76 - samples/sec: 10485.28 - lr: 0.000043\n",
      "2023-11-10 09:31:48,962 epoch 24 - iter 5/5 - loss 0.01459357 - time (sec): 2.35 - samples/sec: 8423.71 - lr: 0.000043\n",
      "2023-11-10 09:31:48,965 ----------------------------------------------------------------------------------------------------\n",
      "2023-11-10 09:31:48,971 EPOCH 24 done: loss 0.0146 - lr 0.000043\n"
     ]
    },
    {
     "output_type": "stream",
     "name": "stderr",
     "text": [
      "100%|██████████| 2/2 [00:04<00:00,  2.35s/it]"
     ]
    },
    {
     "output_type": "stream",
     "name": "stdout",
     "text": [
      "2023-11-10 09:31:53,683 Evaluating as a multi-label problem: False\n",
      "2023-11-10 09:31:53,717 DEV : loss 0.17919783294200897 - f1-score (micro avg)  0.8216\n",
      "2023-11-10 09:31:53,737 ----------------------------------------------------------------------------------------------------\n"
     ]
    },
    {
     "output_type": "stream",
     "name": "stderr",
     "text": [
      "\n"
     ]
    },
    {
     "output_type": "stream",
     "name": "stdout",
     "text": [
      "2023-11-10 09:31:54,294 epoch 25 - iter 1/5 - loss 0.01208278 - time (sec): 0.55 - samples/sec: 7535.82 - lr: 0.000043\n",
      "2023-11-10 09:31:54,827 epoch 25 - iter 2/5 - loss 0.01393520 - time (sec): 1.09 - samples/sec: 8029.82 - lr: 0.000043\n",
      "2023-11-10 09:31:55,393 epoch 25 - iter 3/5 - loss 0.01454426 - time (sec): 1.65 - samples/sec: 8126.76 - lr: 0.000043\n",
      "2023-11-10 09:31:55,915 epoch 25 - iter 4/5 - loss 0.01392218 - time (sec): 2.18 - samples/sec: 8065.56 - lr: 0.000043\n",
      "2023-11-10 09:31:56,190 epoch 25 - iter 5/5 - loss 0.01276899 - time (sec): 2.45 - samples/sec: 8071.81 - lr: 0.000042\n",
      "2023-11-10 09:31:56,195 ----------------------------------------------------------------------------------------------------\n",
      "2023-11-10 09:31:56,202 EPOCH 25 done: loss 0.0128 - lr 0.000042\n"
     ]
    },
    {
     "output_type": "stream",
     "name": "stderr",
     "text": [
      "100%|██████████| 2/2 [00:04<00:00,  2.01s/it]"
     ]
    },
    {
     "output_type": "stream",
     "name": "stdout",
     "text": [
      "2023-11-10 09:32:00,232 Evaluating as a multi-label problem: False\n",
      "2023-11-10 09:32:00,264 DEV : loss 0.19227828085422516 - f1-score (micro avg)  0.8148\n",
      "2023-11-10 09:32:00,277 ----------------------------------------------------------------------------------------------------\n"
     ]
    },
    {
     "output_type": "stream",
     "name": "stderr",
     "text": [
      "\n"
     ]
    },
    {
     "output_type": "stream",
     "name": "stdout",
     "text": [
      "2023-11-10 09:32:00,672 epoch 26 - iter 1/5 - loss 0.00511072 - time (sec): 0.39 - samples/sec: 10171.95 - lr: 0.000042\n",
      "2023-11-10 09:32:01,116 epoch 26 - iter 2/5 - loss 0.00782370 - time (sec): 0.84 - samples/sec: 10265.32 - lr: 0.000042\n",
      "2023-11-10 09:32:01,529 epoch 26 - iter 3/5 - loss 0.00749840 - time (sec): 1.25 - samples/sec: 10033.82 - lr: 0.000042\n",
      "2023-11-10 09:32:02,050 epoch 26 - iter 4/5 - loss 0.00830761 - time (sec): 1.77 - samples/sec: 9872.17 - lr: 0.000042\n",
      "2023-11-10 09:32:02,291 epoch 26 - iter 5/5 - loss 0.00985660 - time (sec): 2.01 - samples/sec: 9826.47 - lr: 0.000042\n",
      "2023-11-10 09:32:02,293 ----------------------------------------------------------------------------------------------------\n",
      "2023-11-10 09:32:02,297 EPOCH 26 done: loss 0.0099 - lr 0.000042\n"
     ]
    },
    {
     "output_type": "stream",
     "name": "stderr",
     "text": [
      "100%|██████████| 2/2 [00:03<00:00,  1.55s/it]"
     ]
    },
    {
     "output_type": "stream",
     "name": "stdout",
     "text": [
      "2023-11-10 09:32:05,418 Evaluating as a multi-label problem: False\n",
      "2023-11-10 09:32:05,442 DEV : loss 0.23386844992637634 - f1-score (micro avg)  0.8065\n",
      "2023-11-10 09:32:05,456 ----------------------------------------------------------------------------------------------------\n"
     ]
    },
    {
     "output_type": "stream",
     "name": "stderr",
     "text": [
      "\n"
     ]
    },
    {
     "output_type": "stream",
     "name": "stdout",
     "text": [
      "2023-11-10 09:32:05,891 epoch 27 - iter 1/5 - loss 0.01505703 - time (sec): 0.43 - samples/sec: 10029.47 - lr: 0.000042\n",
      "2023-11-10 09:32:06,411 epoch 27 - iter 2/5 - loss 0.01138568 - time (sec): 0.95 - samples/sec: 9707.84 - lr: 0.000042\n",
      "2023-11-10 09:32:06,857 epoch 27 - iter 3/5 - loss 0.01003531 - time (sec): 1.40 - samples/sec: 10025.89 - lr: 0.000042\n",
      "2023-11-10 09:32:07,266 epoch 27 - iter 4/5 - loss 0.00938489 - time (sec): 1.81 - samples/sec: 10040.14 - lr: 0.000042\n",
      "2023-11-10 09:32:07,481 epoch 27 - iter 5/5 - loss 0.00934541 - time (sec): 2.02 - samples/sec: 9770.70 - lr: 0.000041\n",
      "2023-11-10 09:32:07,484 ----------------------------------------------------------------------------------------------------\n",
      "2023-11-10 09:32:07,490 EPOCH 27 done: loss 0.0093 - lr 0.000041\n"
     ]
    },
    {
     "output_type": "stream",
     "name": "stderr",
     "text": [
      "100%|██████████| 2/2 [00:03<00:00,  2.00s/it]"
     ]
    },
    {
     "output_type": "stream",
     "name": "stdout",
     "text": [
      "2023-11-10 09:32:11,497 Evaluating as a multi-label problem: False\n",
      "2023-11-10 09:32:11,527 DEV : loss 0.21146902441978455 - f1-score (micro avg)  0.8258\n",
      "2023-11-10 09:32:11,545 ----------------------------------------------------------------------------------------------------\n"
     ]
    },
    {
     "output_type": "stream",
     "name": "stderr",
     "text": [
      "\n"
     ]
    },
    {
     "output_type": "stream",
     "name": "stdout",
     "text": [
      "2023-11-10 09:32:12,075 epoch 28 - iter 1/5 - loss 0.00911944 - time (sec): 0.53 - samples/sec: 7204.75 - lr: 0.000041\n",
      "2023-11-10 09:32:12,679 epoch 28 - iter 2/5 - loss 0.00847081 - time (sec): 1.13 - samples/sec: 7638.19 - lr: 0.000041\n",
      "2023-11-10 09:32:13,395 epoch 28 - iter 3/5 - loss 0.00826603 - time (sec): 1.85 - samples/sec: 7853.84 - lr: 0.000041\n",
      "2023-11-10 09:32:13,879 epoch 28 - iter 4/5 - loss 0.00848259 - time (sec): 2.33 - samples/sec: 7879.32 - lr: 0.000041\n",
      "2023-11-10 09:32:14,036 epoch 28 - iter 5/5 - loss 0.00819678 - time (sec): 2.49 - samples/sec: 7944.60 - lr: 0.000041\n",
      "2023-11-10 09:32:14,044 ----------------------------------------------------------------------------------------------------\n",
      "2023-11-10 09:32:14,046 EPOCH 28 done: loss 0.0082 - lr 0.000041\n"
     ]
    },
    {
     "output_type": "stream",
     "name": "stderr",
     "text": [
      "100%|██████████| 2/2 [00:04<00:00,  2.44s/it]"
     ]
    },
    {
     "output_type": "stream",
     "name": "stdout",
     "text": [
      "2023-11-10 09:32:18,937 Evaluating as a multi-label problem: False\n",
      "2023-11-10 09:32:18,959 DEV : loss 0.23437540233135223 - f1-score (micro avg)  0.8043\n",
      "2023-11-10 09:32:18,972 ----------------------------------------------------------------------------------------------------\n"
     ]
    },
    {
     "output_type": "stream",
     "name": "stderr",
     "text": [
      "\n"
     ]
    },
    {
     "output_type": "stream",
     "name": "stdout",
     "text": [
      "2023-11-10 09:32:19,431 epoch 29 - iter 1/5 - loss 0.00865371 - time (sec): 0.46 - samples/sec: 9786.35 - lr: 0.000041\n",
      "2023-11-10 09:32:19,903 epoch 29 - iter 2/5 - loss 0.00982231 - time (sec): 0.93 - samples/sec: 10453.74 - lr: 0.000041\n",
      "2023-11-10 09:32:20,423 epoch 29 - iter 3/5 - loss 0.00803049 - time (sec): 1.45 - samples/sec: 10255.38 - lr: 0.000041\n",
      "2023-11-10 09:32:20,747 epoch 29 - iter 4/5 - loss 0.00768793 - time (sec): 1.77 - samples/sec: 10414.15 - lr: 0.000040\n",
      "2023-11-10 09:32:20,892 epoch 29 - iter 5/5 - loss 0.00741904 - time (sec): 1.92 - samples/sec: 10311.92 - lr: 0.000040\n",
      "2023-11-10 09:32:20,895 ----------------------------------------------------------------------------------------------------\n",
      "2023-11-10 09:32:20,898 EPOCH 29 done: loss 0.0074 - lr 0.000040\n"
     ]
    },
    {
     "output_type": "stream",
     "name": "stderr",
     "text": [
      "100%|██████████| 2/2 [00:02<00:00,  1.34s/it]"
     ]
    },
    {
     "output_type": "stream",
     "name": "stdout",
     "text": [
      "2023-11-10 09:32:23,602 Evaluating as a multi-label problem: False\n",
      "2023-11-10 09:32:23,626 DEV : loss 0.22507324814796448 - f1-score (micro avg)  0.8182\n",
      "2023-11-10 09:32:23,640 ----------------------------------------------------------------------------------------------------\n"
     ]
    },
    {
     "output_type": "stream",
     "name": "stderr",
     "text": [
      "\n"
     ]
    },
    {
     "output_type": "stream",
     "name": "stdout",
     "text": [
      "2023-11-10 09:32:24,118 epoch 30 - iter 1/5 - loss 0.01265763 - time (sec): 0.48 - samples/sec: 10925.52 - lr: 0.000040\n",
      "2023-11-10 09:32:24,578 epoch 30 - iter 2/5 - loss 0.01103437 - time (sec): 0.94 - samples/sec: 10981.70 - lr: 0.000040\n",
      "2023-11-10 09:32:25,004 epoch 30 - iter 3/5 - loss 0.01094468 - time (sec): 1.36 - samples/sec: 10241.19 - lr: 0.000040\n",
      "2023-11-10 09:32:25,415 epoch 30 - iter 4/5 - loss 0.01028323 - time (sec): 1.77 - samples/sec: 10086.58 - lr: 0.000040\n",
      "2023-11-10 09:32:25,590 epoch 30 - iter 5/5 - loss 0.00961093 - time (sec): 1.95 - samples/sec: 10143.04 - lr: 0.000040\n",
      "2023-11-10 09:32:25,593 ----------------------------------------------------------------------------------------------------\n",
      "2023-11-10 09:32:25,597 EPOCH 30 done: loss 0.0096 - lr 0.000040\n"
     ]
    },
    {
     "output_type": "stream",
     "name": "stderr",
     "text": [
      "100%|██████████| 2/2 [00:03<00:00,  1.55s/it]"
     ]
    },
    {
     "output_type": "stream",
     "name": "stdout",
     "text": [
      "2023-11-10 09:32:28,713 Evaluating as a multi-label problem: False\n",
      "2023-11-10 09:32:28,748 DEV : loss 0.23248973488807678 - f1-score (micro avg)  0.8161\n",
      "2023-11-10 09:32:28,770 ----------------------------------------------------------------------------------------------------\n"
     ]
    },
    {
     "output_type": "stream",
     "name": "stderr",
     "text": [
      "\n"
     ]
    },
    {
     "output_type": "stream",
     "name": "stdout",
     "text": [
      "2023-11-10 09:32:29,920 epoch 31 - iter 1/5 - loss 0.00424487 - time (sec): 1.15 - samples/sec: 4115.43 - lr: 0.000040\n",
      "2023-11-10 09:32:30,444 epoch 31 - iter 2/5 - loss 0.00442629 - time (sec): 1.67 - samples/sec: 5719.98 - lr: 0.000040\n",
      "2023-11-10 09:32:30,934 epoch 31 - iter 3/5 - loss 0.00454788 - time (sec): 2.16 - samples/sec: 6120.01 - lr: 0.000040\n",
      "2023-11-10 09:32:31,495 epoch 31 - iter 4/5 - loss 0.00578298 - time (sec): 2.72 - samples/sec: 6569.08 - lr: 0.000039\n",
      "2023-11-10 09:32:31,738 epoch 31 - iter 5/5 - loss 0.00602638 - time (sec): 2.96 - samples/sec: 6673.02 - lr: 0.000039\n",
      "2023-11-10 09:32:31,746 ----------------------------------------------------------------------------------------------------\n",
      "2023-11-10 09:32:31,748 EPOCH 31 done: loss 0.0060 - lr 0.000039\n"
     ]
    },
    {
     "output_type": "stream",
     "name": "stderr",
     "text": [
      "100%|██████████| 2/2 [00:04<00:00,  2.46s/it]"
     ]
    },
    {
     "output_type": "stream",
     "name": "stdout",
     "text": [
      "2023-11-10 09:32:36,680 Evaluating as a multi-label problem: False\n",
      "2023-11-10 09:32:36,703 DEV : loss 0.23838719725608826 - f1-score (micro avg)  0.8152\n",
      "2023-11-10 09:32:36,717 ----------------------------------------------------------------------------------------------------\n"
     ]
    },
    {
     "output_type": "stream",
     "name": "stderr",
     "text": [
      "\n"
     ]
    },
    {
     "output_type": "stream",
     "name": "stdout",
     "text": [
      "2023-11-10 09:32:37,264 epoch 32 - iter 1/5 - loss 0.00642471 - time (sec): 0.55 - samples/sec: 9465.55 - lr: 0.000039\n",
      "2023-11-10 09:32:37,725 epoch 32 - iter 2/5 - loss 0.00538829 - time (sec): 1.01 - samples/sec: 10008.43 - lr: 0.000039\n",
      "2023-11-10 09:32:38,129 epoch 32 - iter 3/5 - loss 0.00708600 - time (sec): 1.41 - samples/sec: 10089.58 - lr: 0.000039\n",
      "2023-11-10 09:32:38,550 epoch 32 - iter 4/5 - loss 0.00845797 - time (sec): 1.83 - samples/sec: 9972.23 - lr: 0.000039\n",
      "2023-11-10 09:32:38,687 epoch 32 - iter 5/5 - loss 0.00878170 - time (sec): 1.97 - samples/sec: 10046.91 - lr: 0.000039\n",
      "2023-11-10 09:32:38,689 ----------------------------------------------------------------------------------------------------\n",
      "2023-11-10 09:32:38,693 EPOCH 32 done: loss 0.0088 - lr 0.000039\n"
     ]
    },
    {
     "output_type": "stream",
     "name": "stderr",
     "text": [
      "100%|██████████| 2/2 [00:02<00:00,  1.35s/it]"
     ]
    },
    {
     "output_type": "stream",
     "name": "stdout",
     "text": [
      "2023-11-10 09:32:41,407 Evaluating as a multi-label problem: False\n",
      "2023-11-10 09:32:41,429 DEV : loss 0.24439847469329834 - f1-score (micro avg)  0.8195\n",
      "2023-11-10 09:32:41,443 ----------------------------------------------------------------------------------------------------\n"
     ]
    },
    {
     "output_type": "stream",
     "name": "stderr",
     "text": [
      "\n"
     ]
    },
    {
     "output_type": "stream",
     "name": "stdout",
     "text": [
      "2023-11-10 09:32:41,942 epoch 33 - iter 1/5 - loss 0.00507274 - time (sec): 0.50 - samples/sec: 9071.10 - lr: 0.000039\n",
      "2023-11-10 09:32:42,408 epoch 33 - iter 2/5 - loss 0.00530737 - time (sec): 0.96 - samples/sec: 9617.82 - lr: 0.000039\n",
      "2023-11-10 09:32:42,858 epoch 33 - iter 3/5 - loss 0.00685010 - time (sec): 1.41 - samples/sec: 9578.31 - lr: 0.000038\n",
      "2023-11-10 09:32:43,315 epoch 33 - iter 4/5 - loss 0.00721727 - time (sec): 1.87 - samples/sec: 9903.97 - lr: 0.000038\n",
      "2023-11-10 09:32:43,433 epoch 33 - iter 5/5 - loss 0.00716175 - time (sec): 1.99 - samples/sec: 9943.81 - lr: 0.000038\n",
      "2023-11-10 09:32:43,435 ----------------------------------------------------------------------------------------------------\n",
      "2023-11-10 09:32:43,438 EPOCH 33 done: loss 0.0072 - lr 0.000038\n"
     ]
    },
    {
     "output_type": "stream",
     "name": "stderr",
     "text": [
      "100%|██████████| 2/2 [00:03<00:00,  1.58s/it]"
     ]
    },
    {
     "output_type": "stream",
     "name": "stdout",
     "text": [
      "2023-11-10 09:32:46,616 Evaluating as a multi-label problem: False\n",
      "2023-11-10 09:32:46,650 DEV : loss 0.23816995322704315 - f1-score (micro avg)  0.8121\n",
      "2023-11-10 09:32:46,675 ----------------------------------------------------------------------------------------------------\n"
     ]
    },
    {
     "output_type": "stream",
     "name": "stderr",
     "text": [
      "\n"
     ]
    },
    {
     "output_type": "stream",
     "name": "stdout",
     "text": [
      "2023-11-10 09:32:47,225 epoch 34 - iter 1/5 - loss 0.00528391 - time (sec): 0.55 - samples/sec: 8001.72 - lr: 0.000038\n",
      "2023-11-10 09:32:47,732 epoch 34 - iter 2/5 - loss 0.00404002 - time (sec): 1.06 - samples/sec: 7844.47 - lr: 0.000038\n",
      "2023-11-10 09:32:48,243 epoch 34 - iter 3/5 - loss 0.00626724 - time (sec): 1.57 - samples/sec: 8200.71 - lr: 0.000038\n",
      "2023-11-10 09:32:48,863 epoch 34 - iter 4/5 - loss 0.00544609 - time (sec): 2.19 - samples/sec: 8129.48 - lr: 0.000038\n",
      "2023-11-10 09:32:49,094 epoch 34 - iter 5/5 - loss 0.00543448 - time (sec): 2.42 - samples/sec: 8181.72 - lr: 0.000038\n",
      "2023-11-10 09:32:49,100 ----------------------------------------------------------------------------------------------------\n",
      "2023-11-10 09:32:49,102 EPOCH 34 done: loss 0.0054 - lr 0.000038\n"
     ]
    },
    {
     "output_type": "stream",
     "name": "stderr",
     "text": [
      "100%|██████████| 2/2 [00:05<00:00,  2.67s/it]"
     ]
    },
    {
     "output_type": "stream",
     "name": "stdout",
     "text": [
      "2023-11-10 09:32:54,451 Evaluating as a multi-label problem: False\n",
      "2023-11-10 09:32:54,505 DEV : loss 0.23307180404663086 - f1-score (micro avg)  0.8207\n",
      "2023-11-10 09:32:54,531 ----------------------------------------------------------------------------------------------------\n"
     ]
    },
    {
     "output_type": "stream",
     "name": "stderr",
     "text": [
      "\n"
     ]
    },
    {
     "output_type": "stream",
     "name": "stdout",
     "text": [
      "2023-11-10 09:32:55,079 epoch 35 - iter 1/5 - loss 0.00407390 - time (sec): 0.54 - samples/sec: 7939.33 - lr: 0.000038\n",
      "2023-11-10 09:32:55,633 epoch 35 - iter 2/5 - loss 0.00454105 - time (sec): 1.10 - samples/sec: 8197.82 - lr: 0.000038\n",
      "2023-11-10 09:32:56,121 epoch 35 - iter 3/5 - loss 0.00523149 - time (sec): 1.58 - samples/sec: 8766.09 - lr: 0.000037\n",
      "2023-11-10 09:32:56,538 epoch 35 - iter 4/5 - loss 0.00550685 - time (sec): 2.00 - samples/sec: 8982.63 - lr: 0.000037\n",
      "2023-11-10 09:32:56,713 epoch 35 - iter 5/5 - loss 0.00520472 - time (sec): 2.17 - samples/sec: 9092.50 - lr: 0.000037\n",
      "2023-11-10 09:32:56,715 ----------------------------------------------------------------------------------------------------\n",
      "2023-11-10 09:32:56,721 EPOCH 35 done: loss 0.0052 - lr 0.000037\n"
     ]
    },
    {
     "output_type": "stream",
     "name": "stderr",
     "text": [
      "100%|██████████| 2/2 [00:03<00:00,  1.59s/it]"
     ]
    },
    {
     "output_type": "stream",
     "name": "stdout",
     "text": [
      "2023-11-10 09:32:59,908 Evaluating as a multi-label problem: False\n",
      "2023-11-10 09:32:59,932 DEV : loss 0.23208202421665192 - f1-score (micro avg)  0.823\n",
      "2023-11-10 09:32:59,946 ----------------------------------------------------------------------------------------------------\n"
     ]
    },
    {
     "output_type": "stream",
     "name": "stderr",
     "text": [
      "\n"
     ]
    },
    {
     "output_type": "stream",
     "name": "stdout",
     "text": [
      "2023-11-10 09:33:00,422 epoch 36 - iter 1/5 - loss 0.00685807 - time (sec): 0.47 - samples/sec: 10887.91 - lr: 0.000037\n",
      "2023-11-10 09:33:00,848 epoch 36 - iter 2/5 - loss 0.00624759 - time (sec): 0.90 - samples/sec: 10463.48 - lr: 0.000037\n",
      "2023-11-10 09:33:01,277 epoch 36 - iter 3/5 - loss 0.00497949 - time (sec): 1.33 - samples/sec: 10329.11 - lr: 0.000037\n",
      "2023-11-10 09:33:01,753 epoch 36 - iter 4/5 - loss 0.00480220 - time (sec): 1.81 - samples/sec: 9972.35 - lr: 0.000037\n",
      "2023-11-10 09:33:01,929 epoch 36 - iter 5/5 - loss 0.00461280 - time (sec): 1.98 - samples/sec: 9981.98 - lr: 0.000037\n",
      "2023-11-10 09:33:01,931 ----------------------------------------------------------------------------------------------------\n",
      "2023-11-10 09:33:01,934 EPOCH 36 done: loss 0.0046 - lr 0.000037\n"
     ]
    },
    {
     "output_type": "stream",
     "name": "stderr",
     "text": [
      "100%|██████████| 2/2 [00:02<00:00,  1.37s/it]"
     ]
    },
    {
     "output_type": "stream",
     "name": "stdout",
     "text": [
      "2023-11-10 09:33:04,688 Evaluating as a multi-label problem: False\n",
      "2023-11-10 09:33:04,713 DEV : loss 0.23133261501789093 - f1-score (micro avg)  0.813\n",
      "2023-11-10 09:33:04,728 ----------------------------------------------------------------------------------------------------\n"
     ]
    },
    {
     "output_type": "stream",
     "name": "stderr",
     "text": [
      "\n"
     ]
    },
    {
     "output_type": "stream",
     "name": "stdout",
     "text": [
      "2023-11-10 09:33:05,126 epoch 37 - iter 1/5 - loss 0.00224630 - time (sec): 0.40 - samples/sec: 10303.38 - lr: 0.000037\n",
      "2023-11-10 09:33:05,542 epoch 37 - iter 2/5 - loss 0.00245767 - time (sec): 0.81 - samples/sec: 10407.42 - lr: 0.000037\n",
      "2023-11-10 09:33:05,935 epoch 37 - iter 3/5 - loss 0.00580553 - time (sec): 1.21 - samples/sec: 10436.80 - lr: 0.000036\n",
      "2023-11-10 09:33:06,609 epoch 37 - iter 4/5 - loss 0.00631394 - time (sec): 1.88 - samples/sec: 9270.07 - lr: 0.000036\n",
      "2023-11-10 09:33:06,889 epoch 37 - iter 5/5 - loss 0.00596328 - time (sec): 2.16 - samples/sec: 9157.84 - lr: 0.000036\n",
      "2023-11-10 09:33:06,892 ----------------------------------------------------------------------------------------------------\n",
      "2023-11-10 09:33:06,894 EPOCH 37 done: loss 0.0060 - lr 0.000036\n"
     ]
    },
    {
     "output_type": "stream",
     "name": "stderr",
     "text": [
      "100%|██████████| 2/2 [00:05<00:00,  2.62s/it]"
     ]
    },
    {
     "output_type": "stream",
     "name": "stdout",
     "text": [
      "2023-11-10 09:33:12,154 Evaluating as a multi-label problem: False\n",
      "2023-11-10 09:33:12,188 DEV : loss 0.23008503019809723 - f1-score (micro avg)  0.8407\n",
      "2023-11-10 09:33:12,210 ----------------------------------------------------------------------------------------------------\n"
     ]
    },
    {
     "output_type": "stream",
     "name": "stderr",
     "text": [
      "\n"
     ]
    },
    {
     "output_type": "stream",
     "name": "stdout",
     "text": [
      "2023-11-10 09:33:13,471 epoch 38 - iter 1/5 - loss 0.00709937 - time (sec): 1.26 - samples/sec: 4127.27 - lr: 0.000036\n",
      "2023-11-10 09:33:14,033 epoch 38 - iter 2/5 - loss 0.00604714 - time (sec): 1.82 - samples/sec: 5136.75 - lr: 0.000036\n",
      "2023-11-10 09:33:14,565 epoch 38 - iter 3/5 - loss 0.00524839 - time (sec): 2.35 - samples/sec: 6042.75 - lr: 0.000036\n",
      "2023-11-10 09:33:14,999 epoch 38 - iter 4/5 - loss 0.00453911 - time (sec): 2.78 - samples/sec: 6689.14 - lr: 0.000036\n",
      "2023-11-10 09:33:15,115 epoch 38 - iter 5/5 - loss 0.00438959 - time (sec): 2.90 - samples/sec: 6820.66 - lr: 0.000036\n",
      "2023-11-10 09:33:15,118 ----------------------------------------------------------------------------------------------------\n",
      "2023-11-10 09:33:15,120 EPOCH 38 done: loss 0.0044 - lr 0.000036\n"
     ]
    },
    {
     "output_type": "stream",
     "name": "stderr",
     "text": [
      "100%|██████████| 2/2 [00:02<00:00,  1.34s/it]"
     ]
    },
    {
     "output_type": "stream",
     "name": "stdout",
     "text": [
      "2023-11-10 09:33:17,815 Evaluating as a multi-label problem: False\n",
      "2023-11-10 09:33:17,841 DEV : loss 0.2320011556148529 - f1-score (micro avg)  0.8309\n",
      "2023-11-10 09:33:17,855 ----------------------------------------------------------------------------------------------------\n"
     ]
    },
    {
     "output_type": "stream",
     "name": "stderr",
     "text": [
      "\n"
     ]
    },
    {
     "output_type": "stream",
     "name": "stdout",
     "text": [
      "2023-11-10 09:33:18,350 epoch 39 - iter 1/5 - loss 0.00651068 - time (sec): 0.49 - samples/sec: 10218.73 - lr: 0.000036\n",
      "2023-11-10 09:33:18,773 epoch 39 - iter 2/5 - loss 0.00586693 - time (sec): 0.92 - samples/sec: 10347.02 - lr: 0.000035\n",
      "2023-11-10 09:33:19,183 epoch 39 - iter 3/5 - loss 0.00523554 - time (sec): 1.33 - samples/sec: 10272.42 - lr: 0.000035\n",
      "2023-11-10 09:33:19,610 epoch 39 - iter 4/5 - loss 0.00451227 - time (sec): 1.75 - samples/sec: 10277.13 - lr: 0.000035\n",
      "2023-11-10 09:33:19,793 epoch 39 - iter 5/5 - loss 0.00446461 - time (sec): 1.94 - samples/sec: 10214.92 - lr: 0.000035\n",
      "2023-11-10 09:33:19,795 ----------------------------------------------------------------------------------------------------\n",
      "2023-11-10 09:33:19,800 EPOCH 39 done: loss 0.0045 - lr 0.000035\n"
     ]
    },
    {
     "output_type": "stream",
     "name": "stderr",
     "text": [
      "100%|██████████| 2/2 [00:02<00:00,  1.37s/it]"
     ]
    },
    {
     "output_type": "stream",
     "name": "stdout",
     "text": [
      "2023-11-10 09:33:22,546 Evaluating as a multi-label problem: False\n",
      "2023-11-10 09:33:22,570 DEV : loss 0.2340705245733261 - f1-score (micro avg)  0.8301\n",
      "2023-11-10 09:33:22,584 ----------------------------------------------------------------------------------------------------\n"
     ]
    },
    {
     "output_type": "stream",
     "name": "stderr",
     "text": [
      "\n"
     ]
    },
    {
     "output_type": "stream",
     "name": "stdout",
     "text": [
      "2023-11-10 09:33:23,117 epoch 40 - iter 1/5 - loss 0.00308892 - time (sec): 0.53 - samples/sec: 9278.68 - lr: 0.000035\n",
      "2023-11-10 09:33:23,558 epoch 40 - iter 2/5 - loss 0.00289002 - time (sec): 0.97 - samples/sec: 10122.10 - lr: 0.000035\n",
      "2023-11-10 09:33:23,995 epoch 40 - iter 3/5 - loss 0.00433848 - time (sec): 1.41 - samples/sec: 10196.09 - lr: 0.000035\n",
      "2023-11-10 09:33:24,398 epoch 40 - iter 4/5 - loss 0.00482749 - time (sec): 1.81 - samples/sec: 10200.22 - lr: 0.000035\n",
      "2023-11-10 09:33:24,601 epoch 40 - iter 5/5 - loss 0.00505073 - time (sec): 2.02 - samples/sec: 9810.33 - lr: 0.000035\n",
      "2023-11-10 09:33:24,608 ----------------------------------------------------------------------------------------------------\n",
      "2023-11-10 09:33:24,611 EPOCH 40 done: loss 0.0051 - lr 0.000035\n"
     ]
    },
    {
     "output_type": "stream",
     "name": "stderr",
     "text": [
      "100%|██████████| 2/2 [00:05<00:00,  2.97s/it]"
     ]
    },
    {
     "output_type": "stream",
     "name": "stdout",
     "text": [
      "2023-11-10 09:33:30,560 Evaluating as a multi-label problem: False\n",
      "2023-11-10 09:33:30,597 DEV : loss 0.2646377384662628 - f1-score (micro avg)  0.8054\n",
      "2023-11-10 09:33:30,616 ----------------------------------------------------------------------------------------------------\n"
     ]
    },
    {
     "output_type": "stream",
     "name": "stderr",
     "text": [
      "\n"
     ]
    },
    {
     "output_type": "stream",
     "name": "stdout",
     "text": [
      "2023-11-10 09:33:31,215 epoch 41 - iter 1/5 - loss 0.00371956 - time (sec): 0.60 - samples/sec: 7801.85 - lr: 0.000035\n",
      "2023-11-10 09:33:31,747 epoch 41 - iter 2/5 - loss 0.00343853 - time (sec): 1.13 - samples/sec: 8022.21 - lr: 0.000034\n",
      "2023-11-10 09:33:32,339 epoch 41 - iter 3/5 - loss 0.00402719 - time (sec): 1.72 - samples/sec: 7743.36 - lr: 0.000034\n",
      "2023-11-10 09:33:32,920 epoch 41 - iter 4/5 - loss 0.00397383 - time (sec): 2.30 - samples/sec: 7946.53 - lr: 0.000034\n",
      "2023-11-10 09:33:33,131 epoch 41 - iter 5/5 - loss 0.00375960 - time (sec): 2.51 - samples/sec: 7870.53 - lr: 0.000034\n",
      "2023-11-10 09:33:33,133 ----------------------------------------------------------------------------------------------------\n",
      "2023-11-10 09:33:33,137 EPOCH 41 done: loss 0.0038 - lr 0.000034\n"
     ]
    },
    {
     "output_type": "stream",
     "name": "stderr",
     "text": [
      "100%|██████████| 2/2 [00:02<00:00,  1.36s/it]"
     ]
    },
    {
     "output_type": "stream",
     "name": "stdout",
     "text": [
      "2023-11-10 09:33:35,875 Evaluating as a multi-label problem: False\n",
      "2023-11-10 09:33:35,897 DEV : loss 0.21295569837093353 - f1-score (micro avg)  0.8214\n",
      "2023-11-10 09:33:35,911 ----------------------------------------------------------------------------------------------------\n"
     ]
    },
    {
     "output_type": "stream",
     "name": "stderr",
     "text": [
      "\n"
     ]
    },
    {
     "output_type": "stream",
     "name": "stdout",
     "text": [
      "2023-11-10 09:33:36,431 epoch 42 - iter 1/5 - loss 0.00277661 - time (sec): 0.52 - samples/sec: 9498.61 - lr: 0.000034\n",
      "2023-11-10 09:33:36,842 epoch 42 - iter 2/5 - loss 0.00384094 - time (sec): 0.93 - samples/sec: 10365.23 - lr: 0.000034\n",
      "2023-11-10 09:33:37,304 epoch 42 - iter 3/5 - loss 0.00361287 - time (sec): 1.39 - samples/sec: 10336.51 - lr: 0.000034\n",
      "2023-11-10 09:33:37,729 epoch 42 - iter 4/5 - loss 0.00384824 - time (sec): 1.82 - samples/sec: 10345.17 - lr: 0.000034\n",
      "2023-11-10 09:33:37,835 epoch 42 - iter 5/5 - loss 0.00370933 - time (sec): 1.92 - samples/sec: 10292.25 - lr: 0.000034\n",
      "2023-11-10 09:33:37,837 ----------------------------------------------------------------------------------------------------\n",
      "2023-11-10 09:33:37,841 EPOCH 42 done: loss 0.0037 - lr 0.000034\n"
     ]
    },
    {
     "output_type": "stream",
     "name": "stderr",
     "text": [
      "100%|██████████| 2/2 [00:03<00:00,  1.54s/it]"
     ]
    },
    {
     "output_type": "stream",
     "name": "stdout",
     "text": [
      "2023-11-10 09:33:40,941 Evaluating as a multi-label problem: False\n",
      "2023-11-10 09:33:40,964 DEV : loss 0.2513829171657562 - f1-score (micro avg)  0.8247\n",
      "2023-11-10 09:33:40,977 ----------------------------------------------------------------------------------------------------\n"
     ]
    },
    {
     "output_type": "stream",
     "name": "stderr",
     "text": [
      "\n"
     ]
    },
    {
     "output_type": "stream",
     "name": "stdout",
     "text": [
      "2023-11-10 09:33:41,429 epoch 43 - iter 1/5 - loss 0.00430645 - time (sec): 0.45 - samples/sec: 10030.72 - lr: 0.000033\n",
      "2023-11-10 09:33:41,948 epoch 43 - iter 2/5 - loss 0.00492438 - time (sec): 0.97 - samples/sec: 10027.30 - lr: 0.000033\n",
      "2023-11-10 09:33:42,348 epoch 43 - iter 3/5 - loss 0.00459693 - time (sec): 1.37 - samples/sec: 10265.30 - lr: 0.000033\n",
      "2023-11-10 09:33:42,762 epoch 43 - iter 4/5 - loss 0.00389689 - time (sec): 1.78 - samples/sec: 10445.19 - lr: 0.000033\n",
      "2023-11-10 09:33:42,889 epoch 43 - iter 5/5 - loss 0.00372061 - time (sec): 1.91 - samples/sec: 10350.05 - lr: 0.000033\n",
      "2023-11-10 09:33:42,892 ----------------------------------------------------------------------------------------------------\n",
      "2023-11-10 09:33:42,896 EPOCH 43 done: loss 0.0037 - lr 0.000033\n"
     ]
    },
    {
     "output_type": "stream",
     "name": "stderr",
     "text": [
      "100%|██████████| 2/2 [00:05<00:00,  2.67s/it]"
     ]
    },
    {
     "output_type": "stream",
     "name": "stdout",
     "text": [
      "2023-11-10 09:33:48,246 Evaluating as a multi-label problem: False\n",
      "2023-11-10 09:33:48,286 DEV : loss 0.2527458369731903 - f1-score (micro avg)  0.8319\n",
      "2023-11-10 09:33:48,309 ----------------------------------------------------------------------------------------------------\n"
     ]
    },
    {
     "output_type": "stream",
     "name": "stderr",
     "text": [
      "\n"
     ]
    },
    {
     "output_type": "stream",
     "name": "stdout",
     "text": [
      "2023-11-10 09:33:48,888 epoch 44 - iter 1/5 - loss 0.00257890 - time (sec): 0.58 - samples/sec: 7722.83 - lr: 0.000033\n",
      "2023-11-10 09:33:49,569 epoch 44 - iter 2/5 - loss 0.00180200 - time (sec): 1.26 - samples/sec: 7846.48 - lr: 0.000033\n",
      "2023-11-10 09:33:50,035 epoch 44 - iter 3/5 - loss 0.00216581 - time (sec): 1.72 - samples/sec: 8065.86 - lr: 0.000033\n",
      "2023-11-10 09:33:50,558 epoch 44 - iter 4/5 - loss 0.00232605 - time (sec): 2.25 - samples/sec: 8104.92 - lr: 0.000033\n",
      "2023-11-10 09:33:50,747 epoch 44 - iter 5/5 - loss 0.00218563 - time (sec): 2.43 - samples/sec: 8120.90 - lr: 0.000033\n",
      "2023-11-10 09:33:50,753 ----------------------------------------------------------------------------------------------------\n",
      "2023-11-10 09:33:50,757 EPOCH 44 done: loss 0.0022 - lr 0.000033\n"
     ]
    },
    {
     "output_type": "stream",
     "name": "stderr",
     "text": [
      "100%|██████████| 2/2 [00:03<00:00,  1.60s/it]"
     ]
    },
    {
     "output_type": "stream",
     "name": "stdout",
     "text": [
      "2023-11-10 09:33:53,970 Evaluating as a multi-label problem: False\n",
      "2023-11-10 09:33:53,992 DEV : loss 0.24926047027111053 - f1-score (micro avg)  0.8269\n",
      "2023-11-10 09:33:54,008 ----------------------------------------------------------------------------------------------------\n"
     ]
    },
    {
     "output_type": "stream",
     "name": "stderr",
     "text": [
      "\n"
     ]
    },
    {
     "output_type": "stream",
     "name": "stdout",
     "text": [
      "2023-11-10 09:33:54,408 epoch 45 - iter 1/5 - loss 0.00273279 - time (sec): 0.40 - samples/sec: 11060.42 - lr: 0.000032\n",
      "2023-11-10 09:33:55,240 epoch 45 - iter 2/5 - loss 0.00302601 - time (sec): 1.23 - samples/sec: 7171.32 - lr: 0.000032\n",
      "2023-11-10 09:33:55,696 epoch 45 - iter 3/5 - loss 0.00224620 - time (sec): 1.69 - samples/sec: 7803.34 - lr: 0.000032\n",
      "2023-11-10 09:33:56,126 epoch 45 - iter 4/5 - loss 0.00216787 - time (sec): 2.12 - samples/sec: 8366.00 - lr: 0.000032\n",
      "2023-11-10 09:33:56,342 epoch 45 - iter 5/5 - loss 0.00245447 - time (sec): 2.33 - samples/sec: 8478.56 - lr: 0.000032\n",
      "2023-11-10 09:33:56,344 ----------------------------------------------------------------------------------------------------\n",
      "2023-11-10 09:33:56,347 EPOCH 45 done: loss 0.0025 - lr 0.000032\n"
     ]
    },
    {
     "output_type": "stream",
     "name": "stderr",
     "text": [
      "100%|██████████| 2/2 [00:02<00:00,  1.34s/it]"
     ]
    },
    {
     "output_type": "stream",
     "name": "stdout",
     "text": [
      "2023-11-10 09:33:59,034 Evaluating as a multi-label problem: False\n",
      "2023-11-10 09:33:59,057 DEV : loss 0.2574838101863861 - f1-score (micro avg)  0.8163\n",
      "2023-11-10 09:33:59,071 ----------------------------------------------------------------------------------------------------\n"
     ]
    },
    {
     "output_type": "stream",
     "name": "stderr",
     "text": [
      "\n"
     ]
    },
    {
     "output_type": "stream",
     "name": "stdout",
     "text": [
      "2023-11-10 09:33:59,596 epoch 46 - iter 1/5 - loss 0.00070466 - time (sec): 0.52 - samples/sec: 8726.95 - lr: 0.000032\n",
      "2023-11-10 09:34:00,056 epoch 46 - iter 2/5 - loss 0.00341748 - time (sec): 0.98 - samples/sec: 9742.25 - lr: 0.000032\n",
      "2023-11-10 09:34:00,532 epoch 46 - iter 3/5 - loss 0.00303853 - time (sec): 1.46 - samples/sec: 9841.69 - lr: 0.000032\n",
      "2023-11-10 09:34:00,925 epoch 46 - iter 4/5 - loss 0.00282971 - time (sec): 1.85 - samples/sec: 9829.82 - lr: 0.000032\n",
      "2023-11-10 09:34:01,097 epoch 46 - iter 5/5 - loss 0.00267431 - time (sec): 2.02 - samples/sec: 9765.96 - lr: 0.000031\n",
      "2023-11-10 09:34:01,099 ----------------------------------------------------------------------------------------------------\n",
      "2023-11-10 09:34:01,104 EPOCH 46 done: loss 0.0027 - lr 0.000031\n"
     ]
    },
    {
     "output_type": "stream",
     "name": "stderr",
     "text": [
      "100%|██████████| 2/2 [00:04<00:00,  2.38s/it]"
     ]
    },
    {
     "output_type": "stream",
     "name": "stdout",
     "text": [
      "2023-11-10 09:34:05,884 Evaluating as a multi-label problem: False\n",
      "2023-11-10 09:34:05,918 DEV : loss 0.2594267427921295 - f1-score (micro avg)  0.8204\n",
      "2023-11-10 09:34:05,940 ----------------------------------------------------------------------------------------------------\n"
     ]
    },
    {
     "output_type": "stream",
     "name": "stderr",
     "text": [
      "\n"
     ]
    },
    {
     "output_type": "stream",
     "name": "stdout",
     "text": [
      "2023-11-10 09:34:06,513 epoch 47 - iter 1/5 - loss 0.00077691 - time (sec): 0.57 - samples/sec: 7922.60 - lr: 0.000031\n",
      "2023-11-10 09:34:07,675 epoch 47 - iter 2/5 - loss 0.00138334 - time (sec): 1.73 - samples/sec: 5357.48 - lr: 0.000031\n",
      "2023-11-10 09:34:08,206 epoch 47 - iter 3/5 - loss 0.00170170 - time (sec): 2.26 - samples/sec: 6086.39 - lr: 0.000031\n",
      "2023-11-10 09:34:08,704 epoch 47 - iter 4/5 - loss 0.00239961 - time (sec): 2.76 - samples/sec: 6623.95 - lr: 0.000031\n",
      "2023-11-10 09:34:08,906 epoch 47 - iter 5/5 - loss 0.00227516 - time (sec): 2.96 - samples/sec: 6671.11 - lr: 0.000031\n",
      "2023-11-10 09:34:08,910 ----------------------------------------------------------------------------------------------------\n",
      "2023-11-10 09:34:08,912 EPOCH 47 done: loss 0.0023 - lr 0.000031\n"
     ]
    },
    {
     "output_type": "stream",
     "name": "stderr",
     "text": [
      "100%|██████████| 2/2 [00:03<00:00,  1.85s/it]"
     ]
    },
    {
     "output_type": "stream",
     "name": "stdout",
     "text": [
      "2023-11-10 09:34:12,636 Evaluating as a multi-label problem: False\n",
      "2023-11-10 09:34:12,658 DEV : loss 0.3106972873210907 - f1-score (micro avg)  0.8032\n",
      "2023-11-10 09:34:12,672 ----------------------------------------------------------------------------------------------------\n"
     ]
    },
    {
     "output_type": "stream",
     "name": "stderr",
     "text": [
      "\n"
     ]
    },
    {
     "output_type": "stream",
     "name": "stdout",
     "text": [
      "2023-11-10 09:34:13,178 epoch 48 - iter 1/5 - loss 0.00242920 - time (sec): 0.50 - samples/sec: 9004.33 - lr: 0.000031\n",
      "2023-11-10 09:34:13,634 epoch 48 - iter 2/5 - loss 0.00333949 - time (sec): 0.96 - samples/sec: 10136.41 - lr: 0.000031\n",
      "2023-11-10 09:34:14,062 epoch 48 - iter 3/5 - loss 0.00341501 - time (sec): 1.39 - samples/sec: 10011.54 - lr: 0.000031\n",
      "2023-11-10 09:34:14,482 epoch 48 - iter 4/5 - loss 0.00322148 - time (sec): 1.81 - samples/sec: 10136.06 - lr: 0.000031\n",
      "2023-11-10 09:34:14,610 epoch 48 - iter 5/5 - loss 0.00312203 - time (sec): 1.94 - samples/sec: 10213.25 - lr: 0.000030\n",
      "2023-11-10 09:34:14,612 ----------------------------------------------------------------------------------------------------\n",
      "2023-11-10 09:34:14,616 EPOCH 48 done: loss 0.0031 - lr 0.000030\n"
     ]
    },
    {
     "output_type": "stream",
     "name": "stderr",
     "text": [
      "100%|██████████| 2/2 [00:02<00:00,  1.35s/it]"
     ]
    },
    {
     "output_type": "stream",
     "name": "stdout",
     "text": [
      "2023-11-10 09:34:17,345 Evaluating as a multi-label problem: False\n",
      "2023-11-10 09:34:17,371 DEV : loss 0.2629760205745697 - f1-score (micro avg)  0.8087\n",
      "2023-11-10 09:34:17,386 ----------------------------------------------------------------------------------------------------\n"
     ]
    },
    {
     "output_type": "stream",
     "name": "stderr",
     "text": [
      "\n"
     ]
    },
    {
     "output_type": "stream",
     "name": "stdout",
     "text": [
      "2023-11-10 09:34:17,907 epoch 49 - iter 1/5 - loss 0.00311232 - time (sec): 0.52 - samples/sec: 9459.86 - lr: 0.000030\n",
      "2023-11-10 09:34:18,336 epoch 49 - iter 2/5 - loss 0.00348702 - time (sec): 0.95 - samples/sec: 9622.59 - lr: 0.000030\n",
      "2023-11-10 09:34:18,764 epoch 49 - iter 3/5 - loss 0.00396071 - time (sec): 1.38 - samples/sec: 9962.49 - lr: 0.000030\n",
      "2023-11-10 09:34:19,243 epoch 49 - iter 4/5 - loss 0.00368558 - time (sec): 1.86 - samples/sec: 9851.13 - lr: 0.000030\n",
      "2023-11-10 09:34:19,420 epoch 49 - iter 5/5 - loss 0.00345541 - time (sec): 2.03 - samples/sec: 9728.97 - lr: 0.000030\n",
      "2023-11-10 09:34:19,422 ----------------------------------------------------------------------------------------------------\n",
      "2023-11-10 09:34:19,424 EPOCH 49 done: loss 0.0035 - lr 0.000030\n"
     ]
    },
    {
     "output_type": "stream",
     "name": "stderr",
     "text": [
      "100%|██████████| 2/2 [00:11<00:00,  5.96s/it]"
     ]
    },
    {
     "output_type": "stream",
     "name": "stdout",
     "text": [
      "2023-11-10 09:34:31,377 Evaluating as a multi-label problem: False\n",
      "2023-11-10 09:34:31,429 DEV : loss 0.2738499045372009 - f1-score (micro avg)  0.8161\n",
      "2023-11-10 09:34:31,467 ----------------------------------------------------------------------------------------------------\n"
     ]
    },
    {
     "output_type": "stream",
     "name": "stderr",
     "text": [
      "\n"
     ]
    },
    {
     "output_type": "stream",
     "name": "stdout",
     "text": [
      "2023-11-10 09:34:32,127 epoch 50 - iter 1/5 - loss 0.00097991 - time (sec): 0.65 - samples/sec: 6374.04 - lr: 0.000030\n",
      "2023-11-10 09:34:32,664 epoch 50 - iter 2/5 - loss 0.00181096 - time (sec): 1.18 - samples/sec: 6904.68 - lr: 0.000030\n",
      "2023-11-10 09:34:33,333 epoch 50 - iter 3/5 - loss 0.00131153 - time (sec): 1.85 - samples/sec: 7052.56 - lr: 0.000030\n",
      "2023-11-10 09:34:34,063 epoch 50 - iter 4/5 - loss 0.00197001 - time (sec): 2.58 - samples/sec: 7057.16 - lr: 0.000029\n",
      "2023-11-10 09:34:34,317 epoch 50 - iter 5/5 - loss 0.00226297 - time (sec): 2.84 - samples/sec: 6971.32 - lr: 0.000029\n",
      "2023-11-10 09:34:34,323 ----------------------------------------------------------------------------------------------------\n",
      "2023-11-10 09:34:34,329 EPOCH 50 done: loss 0.0023 - lr 0.000029\n"
     ]
    },
    {
     "output_type": "stream",
     "name": "stderr",
     "text": [
      "100%|██████████| 2/2 [00:08<00:00,  4.36s/it]"
     ]
    },
    {
     "output_type": "stream",
     "name": "stdout",
     "text": [
      "2023-11-10 09:34:43,082 Evaluating as a multi-label problem: False\n",
      "2023-11-10 09:34:43,150 DEV : loss 0.2940373420715332 - f1-score (micro avg)  0.8222\n",
      "2023-11-10 09:34:43,183 ----------------------------------------------------------------------------------------------------\n"
     ]
    },
    {
     "output_type": "stream",
     "name": "stderr",
     "text": [
      "\n"
     ]
    },
    {
     "output_type": "stream",
     "name": "stdout",
     "text": [
      "2023-11-10 09:34:44,187 epoch 51 - iter 1/5 - loss 0.00181358 - time (sec): 0.99 - samples/sec: 4231.25 - lr: 0.000029\n",
      "2023-11-10 09:34:45,077 epoch 51 - iter 2/5 - loss 0.00145680 - time (sec): 1.88 - samples/sec: 4819.79 - lr: 0.000029\n",
      "2023-11-10 09:34:45,918 epoch 51 - iter 3/5 - loss 0.00155925 - time (sec): 2.72 - samples/sec: 4923.32 - lr: 0.000029\n",
      "2023-11-10 09:34:46,794 epoch 51 - iter 4/5 - loss 0.00217967 - time (sec): 3.59 - samples/sec: 5096.22 - lr: 0.000029\n",
      "2023-11-10 09:34:47,120 epoch 51 - iter 5/5 - loss 0.00224924 - time (sec): 3.92 - samples/sec: 5046.25 - lr: 0.000029\n",
      "2023-11-10 09:34:47,128 ----------------------------------------------------------------------------------------------------\n",
      "2023-11-10 09:34:47,130 EPOCH 51 done: loss 0.0022 - lr 0.000029\n"
     ]
    },
    {
     "output_type": "stream",
     "name": "stderr",
     "text": [
      "100%|██████████| 2/2 [00:08<00:00,  4.03s/it]"
     ]
    },
    {
     "output_type": "stream",
     "name": "stdout",
     "text": [
      "2023-11-10 09:34:55,210 Evaluating as a multi-label problem: False\n",
      "2023-11-10 09:34:55,256 DEV : loss 0.2952629625797272 - f1-score (micro avg)  0.8233\n",
      "2023-11-10 09:34:55,279 ----------------------------------------------------------------------------------------------------\n"
     ]
    },
    {
     "output_type": "stream",
     "name": "stderr",
     "text": [
      "\n"
     ]
    },
    {
     "output_type": "stream",
     "name": "stdout",
     "text": [
      "2023-11-10 09:34:56,410 epoch 52 - iter 1/5 - loss 0.00097824 - time (sec): 1.13 - samples/sec: 4107.32 - lr: 0.000029\n",
      "2023-11-10 09:34:57,041 epoch 52 - iter 2/5 - loss 0.00108465 - time (sec): 1.76 - samples/sec: 5096.61 - lr: 0.000029\n",
      "2023-11-10 09:34:57,644 epoch 52 - iter 3/5 - loss 0.00191696 - time (sec): 2.36 - samples/sec: 5877.64 - lr: 0.000029\n",
      "2023-11-10 09:34:58,484 epoch 52 - iter 4/5 - loss 0.00157522 - time (sec): 3.20 - samples/sec: 5637.54 - lr: 0.000028\n",
      "2023-11-10 09:34:58,725 epoch 52 - iter 5/5 - loss 0.00180152 - time (sec): 3.44 - samples/sec: 5743.84 - lr: 0.000028\n",
      "2023-11-10 09:34:58,730 ----------------------------------------------------------------------------------------------------\n",
      "2023-11-10 09:34:58,740 EPOCH 52 done: loss 0.0018 - lr 0.000028\n"
     ]
    },
    {
     "output_type": "stream",
     "name": "stderr",
     "text": [
      "100%|██████████| 2/2 [00:05<00:00,  2.81s/it]"
     ]
    },
    {
     "output_type": "stream",
     "name": "stdout",
     "text": [
      "2023-11-10 09:35:04,377 Evaluating as a multi-label problem: False\n",
      "2023-11-10 09:35:04,405 DEV : loss 0.2680259943008423 - f1-score (micro avg)  0.8219\n",
      "2023-11-10 09:35:04,421 ----------------------------------------------------------------------------------------------------\n"
     ]
    },
    {
     "output_type": "stream",
     "name": "stderr",
     "text": [
      "\n"
     ]
    },
    {
     "output_type": "stream",
     "name": "stdout",
     "text": [
      "2023-11-10 09:35:04,847 epoch 53 - iter 1/5 - loss 0.00153419 - time (sec): 0.42 - samples/sec: 10377.27 - lr: 0.000028\n",
      "2023-11-10 09:35:05,266 epoch 53 - iter 2/5 - loss 0.00368785 - time (sec): 0.84 - samples/sec: 10833.49 - lr: 0.000028\n",
      "2023-11-10 09:35:05,661 epoch 53 - iter 3/5 - loss 0.00277190 - time (sec): 1.24 - samples/sec: 10356.99 - lr: 0.000028\n",
      "2023-11-10 09:35:06,162 epoch 53 - iter 4/5 - loss 0.00282369 - time (sec): 1.74 - samples/sec: 10275.45 - lr: 0.000028\n",
      "2023-11-10 09:35:06,366 epoch 53 - iter 5/5 - loss 0.00302604 - time (sec): 1.94 - samples/sec: 10172.56 - lr: 0.000028\n",
      "2023-11-10 09:35:06,368 ----------------------------------------------------------------------------------------------------\n",
      "2023-11-10 09:35:06,371 EPOCH 53 done: loss 0.0030 - lr 0.000028\n"
     ]
    },
    {
     "output_type": "stream",
     "name": "stderr",
     "text": [
      "100%|██████████| 2/2 [00:04<00:00,  2.41s/it]"
     ]
    },
    {
     "output_type": "stream",
     "name": "stdout",
     "text": [
      "2023-11-10 09:35:11,204 Evaluating as a multi-label problem: False\n",
      "2023-11-10 09:35:11,249 DEV : loss 0.3009181022644043 - f1-score (micro avg)  0.8163\n",
      "2023-11-10 09:35:11,272 ----------------------------------------------------------------------------------------------------\n"
     ]
    },
    {
     "output_type": "stream",
     "name": "stderr",
     "text": [
      "\n"
     ]
    },
    {
     "output_type": "stream",
     "name": "stdout",
     "text": [
      "2023-11-10 09:35:11,823 epoch 54 - iter 1/5 - loss 0.00214643 - time (sec): 0.55 - samples/sec: 8635.70 - lr: 0.000028\n",
      "2023-11-10 09:35:12,745 epoch 54 - iter 2/5 - loss 0.00177401 - time (sec): 1.47 - samples/sec: 6602.16 - lr: 0.000028\n",
      "2023-11-10 09:35:13,770 epoch 54 - iter 3/5 - loss 0.00305027 - time (sec): 2.49 - samples/sec: 5500.40 - lr: 0.000028\n",
      "2023-11-10 09:35:15,921 epoch 54 - iter 4/5 - loss 0.00272701 - time (sec): 4.65 - samples/sec: 3980.85 - lr: 0.000027\n",
      "2023-11-10 09:35:16,197 epoch 54 - iter 5/5 - loss 0.00290084 - time (sec): 4.92 - samples/sec: 4017.56 - lr: 0.000027\n",
      "2023-11-10 09:35:16,203 ----------------------------------------------------------------------------------------------------\n",
      "2023-11-10 09:35:16,206 EPOCH 54 done: loss 0.0029 - lr 0.000027\n"
     ]
    },
    {
     "output_type": "stream",
     "name": "stderr",
     "text": [
      "100%|██████████| 2/2 [00:06<00:00,  3.04s/it]"
     ]
    },
    {
     "output_type": "stream",
     "name": "stdout",
     "text": [
      "2023-11-10 09:35:22,317 Evaluating as a multi-label problem: False\n",
      "2023-11-10 09:35:22,352 DEV : loss 0.32182809710502625 - f1-score (micro avg)  0.8044\n",
      "2023-11-10 09:35:22,381 ----------------------------------------------------------------------------------------------------\n"
     ]
    },
    {
     "output_type": "stream",
     "name": "stderr",
     "text": [
      "\n"
     ]
    },
    {
     "output_type": "stream",
     "name": "stdout",
     "text": [
      "2023-11-10 09:35:22,926 epoch 55 - iter 1/5 - loss 0.00537667 - time (sec): 0.54 - samples/sec: 7919.48 - lr: 0.000027\n",
      "2023-11-10 09:35:23,517 epoch 55 - iter 2/5 - loss 0.00286689 - time (sec): 1.13 - samples/sec: 7967.36 - lr: 0.000027\n",
      "2023-11-10 09:35:24,074 epoch 55 - iter 3/5 - loss 0.00258946 - time (sec): 1.69 - samples/sec: 8127.09 - lr: 0.000027\n",
      "2023-11-10 09:35:24,701 epoch 55 - iter 4/5 - loss 0.00203979 - time (sec): 2.32 - samples/sec: 7954.28 - lr: 0.000027\n",
      "2023-11-10 09:35:24,861 epoch 55 - iter 5/5 - loss 0.00211706 - time (sec): 2.48 - samples/sec: 7981.40 - lr: 0.000027\n",
      "2023-11-10 09:35:24,871 ----------------------------------------------------------------------------------------------------\n",
      "2023-11-10 09:35:24,879 EPOCH 55 done: loss 0.0021 - lr 0.000027\n"
     ]
    },
    {
     "output_type": "stream",
     "name": "stderr",
     "text": [
      "100%|██████████| 2/2 [00:06<00:00,  3.49s/it]"
     ]
    },
    {
     "output_type": "stream",
     "name": "stdout",
     "text": [
      "2023-11-10 09:35:31,889 Evaluating as a multi-label problem: False\n",
      "2023-11-10 09:35:31,932 DEV : loss 0.26214173436164856 - f1-score (micro avg)  0.8302\n",
      "2023-11-10 09:35:31,964 ----------------------------------------------------------------------------------------------------\n"
     ]
    },
    {
     "output_type": "stream",
     "name": "stderr",
     "text": [
      "\n"
     ]
    },
    {
     "output_type": "stream",
     "name": "stdout",
     "text": [
      "2023-11-10 09:35:32,503 epoch 56 - iter 1/5 - loss 0.00186354 - time (sec): 0.54 - samples/sec: 8165.99 - lr: 0.000027\n",
      "2023-11-10 09:35:33,160 epoch 56 - iter 2/5 - loss 0.00116422 - time (sec): 1.19 - samples/sec: 8294.11 - lr: 0.000027\n",
      "2023-11-10 09:35:33,649 epoch 56 - iter 3/5 - loss 0.00110278 - time (sec): 1.68 - samples/sec: 8111.75 - lr: 0.000026\n",
      "2023-11-10 09:35:34,788 epoch 56 - iter 4/5 - loss 0.00161761 - time (sec): 2.82 - samples/sec: 6525.15 - lr: 0.000026\n",
      "2023-11-10 09:35:34,952 epoch 56 - iter 5/5 - loss 0.00177490 - time (sec): 2.98 - samples/sec: 6625.88 - lr: 0.000026\n",
      "2023-11-10 09:35:34,955 ----------------------------------------------------------------------------------------------------\n",
      "2023-11-10 09:35:34,957 EPOCH 56 done: loss 0.0018 - lr 0.000026\n"
     ]
    },
    {
     "output_type": "stream",
     "name": "stderr",
     "text": [
      "100%|██████████| 2/2 [00:04<00:00,  2.01s/it]"
     ]
    },
    {
     "output_type": "stream",
     "name": "stdout",
     "text": [
      "2023-11-10 09:35:38,982 Evaluating as a multi-label problem: False\n",
      "2023-11-10 09:35:39,049 DEV : loss 0.26014262437820435 - f1-score (micro avg)  0.8283\n",
      "2023-11-10 09:35:39,070 ----------------------------------------------------------------------------------------------------\n"
     ]
    },
    {
     "output_type": "stream",
     "name": "stderr",
     "text": [
      "\n"
     ]
    },
    {
     "output_type": "stream",
     "name": "stdout",
     "text": [
      "2023-11-10 09:35:39,660 epoch 57 - iter 1/5 - loss 0.00218109 - time (sec): 0.59 - samples/sec: 8248.18 - lr: 0.000026\n",
      "2023-11-10 09:35:40,140 epoch 57 - iter 2/5 - loss 0.00126951 - time (sec): 1.06 - samples/sec: 9126.71 - lr: 0.000026\n",
      "2023-11-10 09:35:40,653 epoch 57 - iter 3/5 - loss 0.00106532 - time (sec): 1.58 - samples/sec: 8621.77 - lr: 0.000026\n",
      "2023-11-10 09:35:41,288 epoch 57 - iter 4/5 - loss 0.00163922 - time (sec): 2.21 - samples/sec: 8221.07 - lr: 0.000026\n",
      "2023-11-10 09:35:41,478 epoch 57 - iter 5/5 - loss 0.00188575 - time (sec): 2.40 - samples/sec: 8226.56 - lr: 0.000026\n",
      "2023-11-10 09:35:41,482 ----------------------------------------------------------------------------------------------------\n",
      "2023-11-10 09:35:41,485 EPOCH 57 done: loss 0.0019 - lr 0.000026\n"
     ]
    },
    {
     "output_type": "stream",
     "name": "stderr",
     "text": [
      "100%|██████████| 2/2 [00:03<00:00,  1.56s/it]"
     ]
    },
    {
     "output_type": "stream",
     "name": "stdout",
     "text": [
      "2023-11-10 09:35:44,624 Evaluating as a multi-label problem: False\n",
      "2023-11-10 09:35:44,649 DEV : loss 0.2573532462120056 - f1-score (micro avg)  0.8247\n",
      "2023-11-10 09:35:44,663 ----------------------------------------------------------------------------------------------------\n"
     ]
    },
    {
     "output_type": "stream",
     "name": "stderr",
     "text": [
      "\n"
     ]
    },
    {
     "output_type": "stream",
     "name": "stdout",
     "text": [
      "2023-11-10 09:35:45,134 epoch 58 - iter 1/5 - loss 0.00122459 - time (sec): 0.47 - samples/sec: 9786.82 - lr: 0.000026\n",
      "2023-11-10 09:35:45,566 epoch 58 - iter 2/5 - loss 0.00102492 - time (sec): 0.90 - samples/sec: 10291.20 - lr: 0.000026\n",
      "2023-11-10 09:35:46,026 epoch 58 - iter 3/5 - loss 0.00081551 - time (sec): 1.36 - samples/sec: 10009.51 - lr: 0.000025\n",
      "2023-11-10 09:35:46,502 epoch 58 - iter 4/5 - loss 0.00077429 - time (sec): 1.84 - samples/sec: 9960.41 - lr: 0.000025\n",
      "2023-11-10 09:35:46,715 epoch 58 - iter 5/5 - loss 0.00074522 - time (sec): 2.05 - samples/sec: 9643.44 - lr: 0.000025\n",
      "2023-11-10 09:35:46,721 ----------------------------------------------------------------------------------------------------\n",
      "2023-11-10 09:35:46,724 EPOCH 58 done: loss 0.0007 - lr 0.000025\n"
     ]
    },
    {
     "output_type": "stream",
     "name": "stderr",
     "text": [
      "100%|██████████| 2/2 [00:05<00:00,  2.91s/it]"
     ]
    },
    {
     "output_type": "stream",
     "name": "stdout",
     "text": [
      "2023-11-10 09:35:52,566 Evaluating as a multi-label problem: False\n",
      "2023-11-10 09:35:52,605 DEV : loss 0.2520274221897125 - f1-score (micro avg)  0.8088\n",
      "2023-11-10 09:35:52,628 ----------------------------------------------------------------------------------------------------\n"
     ]
    },
    {
     "output_type": "stream",
     "name": "stderr",
     "text": [
      "\n"
     ]
    },
    {
     "output_type": "stream",
     "name": "stdout",
     "text": [
      "2023-11-10 09:35:53,173 epoch 59 - iter 1/5 - loss 0.00048423 - time (sec): 0.54 - samples/sec: 8953.82 - lr: 0.000025\n",
      "2023-11-10 09:35:53,677 epoch 59 - iter 2/5 - loss 0.00117581 - time (sec): 1.05 - samples/sec: 8664.88 - lr: 0.000025\n",
      "2023-11-10 09:35:54,172 epoch 59 - iter 3/5 - loss 0.00090980 - time (sec): 1.54 - samples/sec: 8742.71 - lr: 0.000025\n",
      "2023-11-10 09:35:54,824 epoch 59 - iter 4/5 - loss 0.00078478 - time (sec): 2.19 - samples/sec: 8332.94 - lr: 0.000025\n",
      "2023-11-10 09:35:54,970 epoch 59 - iter 5/5 - loss 0.00089560 - time (sec): 2.34 - samples/sec: 8452.43 - lr: 0.000025\n",
      "2023-11-10 09:35:54,972 ----------------------------------------------------------------------------------------------------\n",
      "2023-11-10 09:35:54,977 EPOCH 59 done: loss 0.0009 - lr 0.000025\n"
     ]
    },
    {
     "output_type": "stream",
     "name": "stderr",
     "text": [
      "100%|██████████| 2/2 [00:02<00:00,  1.37s/it]"
     ]
    },
    {
     "output_type": "stream",
     "name": "stdout",
     "text": [
      "2023-11-10 09:35:57,734 Evaluating as a multi-label problem: False\n",
      "2023-11-10 09:35:57,764 DEV : loss 0.26280874013900757 - f1-score (micro avg)  0.8091\n",
      "2023-11-10 09:35:57,777 ----------------------------------------------------------------------------------------------------\n"
     ]
    },
    {
     "output_type": "stream",
     "name": "stderr",
     "text": [
      "\n"
     ]
    },
    {
     "output_type": "stream",
     "name": "stdout",
     "text": [
      "2023-11-10 09:35:58,222 epoch 60 - iter 1/5 - loss 0.00125710 - time (sec): 0.44 - samples/sec: 11110.39 - lr: 0.000025\n",
      "2023-11-10 09:35:58,620 epoch 60 - iter 2/5 - loss 0.00093291 - time (sec): 0.84 - samples/sec: 10499.91 - lr: 0.000024\n",
      "2023-11-10 09:35:59,126 epoch 60 - iter 3/5 - loss 0.00104595 - time (sec): 1.35 - samples/sec: 10269.69 - lr: 0.000024\n",
      "2023-11-10 09:35:59,546 epoch 60 - iter 4/5 - loss 0.00111180 - time (sec): 1.77 - samples/sec: 10195.00 - lr: 0.000024\n",
      "2023-11-10 09:35:59,730 epoch 60 - iter 5/5 - loss 0.00103324 - time (sec): 1.95 - samples/sec: 10136.07 - lr: 0.000024\n",
      "2023-11-10 09:35:59,733 ----------------------------------------------------------------------------------------------------\n",
      "2023-11-10 09:35:59,735 EPOCH 60 done: loss 0.0010 - lr 0.000024\n"
     ]
    },
    {
     "output_type": "stream",
     "name": "stderr",
     "text": [
      "100%|██████████| 2/2 [00:03<00:00,  1.58s/it]"
     ]
    },
    {
     "output_type": "stream",
     "name": "stdout",
     "text": [
      "2023-11-10 09:36:02,904 Evaluating as a multi-label problem: False\n",
      "2023-11-10 09:36:02,925 DEV : loss 0.27908387780189514 - f1-score (micro avg)  0.8241\n",
      "2023-11-10 09:36:02,938 ----------------------------------------------------------------------------------------------------\n"
     ]
    },
    {
     "output_type": "stream",
     "name": "stderr",
     "text": [
      "\n"
     ]
    },
    {
     "output_type": "stream",
     "name": "stdout",
     "text": [
      "2023-11-10 09:36:03,377 epoch 61 - iter 1/5 - loss 0.00064046 - time (sec): 0.44 - samples/sec: 10399.01 - lr: 0.000024\n",
      "2023-11-10 09:36:03,782 epoch 61 - iter 2/5 - loss 0.00090728 - time (sec): 0.84 - samples/sec: 9743.50 - lr: 0.000024\n",
      "2023-11-10 09:36:04,285 epoch 61 - iter 3/5 - loss 0.00159159 - time (sec): 1.35 - samples/sec: 9536.56 - lr: 0.000024\n",
      "2023-11-10 09:36:04,741 epoch 61 - iter 4/5 - loss 0.00184066 - time (sec): 1.80 - samples/sec: 9971.63 - lr: 0.000024\n",
      "2023-11-10 09:36:04,927 epoch 61 - iter 5/5 - loss 0.00188643 - time (sec): 1.99 - samples/sec: 9949.00 - lr: 0.000024\n",
      "2023-11-10 09:36:04,934 ----------------------------------------------------------------------------------------------------\n",
      "2023-11-10 09:36:04,935 EPOCH 61 done: loss 0.0019 - lr 0.000024\n"
     ]
    },
    {
     "output_type": "stream",
     "name": "stderr",
     "text": [
      "100%|██████████| 2/2 [00:05<00:00,  2.70s/it]"
     ]
    },
    {
     "output_type": "stream",
     "name": "stdout",
     "text": [
      "2023-11-10 09:36:10,351 Evaluating as a multi-label problem: False\n",
      "2023-11-10 09:36:10,391 DEV : loss 0.28059425950050354 - f1-score (micro avg)  0.8294\n",
      "2023-11-10 09:36:10,411 ----------------------------------------------------------------------------------------------------\n"
     ]
    },
    {
     "output_type": "stream",
     "name": "stderr",
     "text": [
      "\n"
     ]
    },
    {
     "output_type": "stream",
     "name": "stdout",
     "text": [
      "2023-11-10 09:36:10,964 epoch 62 - iter 1/5 - loss 0.00036643 - time (sec): 0.55 - samples/sec: 8626.64 - lr: 0.000024\n",
      "2023-11-10 09:36:11,484 epoch 62 - iter 2/5 - loss 0.00038502 - time (sec): 1.07 - samples/sec: 8421.79 - lr: 0.000023\n",
      "2023-11-10 09:36:11,977 epoch 62 - iter 3/5 - loss 0.00051282 - time (sec): 1.56 - samples/sec: 8395.26 - lr: 0.000023\n",
      "2023-11-10 09:36:12,623 epoch 62 - iter 4/5 - loss 0.00043357 - time (sec): 2.21 - samples/sec: 8156.05 - lr: 0.000023\n",
      "2023-11-10 09:36:12,851 epoch 62 - iter 5/5 - loss 0.00057981 - time (sec): 2.44 - samples/sec: 8112.18 - lr: 0.000023\n",
      "2023-11-10 09:36:12,854 ----------------------------------------------------------------------------------------------------\n",
      "2023-11-10 09:36:12,856 EPOCH 62 done: loss 0.0006 - lr 0.000023\n"
     ]
    },
    {
     "output_type": "stream",
     "name": "stderr",
     "text": [
      "100%|██████████| 2/2 [00:03<00:00,  1.53s/it]"
     ]
    },
    {
     "output_type": "stream",
     "name": "stdout",
     "text": [
      "2023-11-10 09:36:15,936 Evaluating as a multi-label problem: False\n",
      "2023-11-10 09:36:15,957 DEV : loss 0.2901126742362976 - f1-score (micro avg)  0.8275\n",
      "2023-11-10 09:36:15,969 ----------------------------------------------------------------------------------------------------\n"
     ]
    },
    {
     "output_type": "stream",
     "name": "stderr",
     "text": [
      "\n"
     ]
    },
    {
     "output_type": "stream",
     "name": "stdout",
     "text": [
      "2023-11-10 09:36:16,842 epoch 63 - iter 1/5 - loss 0.00020272 - time (sec): 0.87 - samples/sec: 4973.01 - lr: 0.000023\n",
      "2023-11-10 09:36:17,269 epoch 63 - iter 2/5 - loss 0.00030761 - time (sec): 1.29 - samples/sec: 6862.51 - lr: 0.000023\n",
      "2023-11-10 09:36:18,135 epoch 63 - iter 3/5 - loss 0.00033535 - time (sec): 2.16 - samples/sec: 6309.41 - lr: 0.000023\n",
      "2023-11-10 09:36:18,570 epoch 63 - iter 4/5 - loss 0.00037422 - time (sec): 2.59 - samples/sec: 7106.66 - lr: 0.000023\n",
      "2023-11-10 09:36:18,689 epoch 63 - iter 5/5 - loss 0.00036734 - time (sec): 2.71 - samples/sec: 7288.31 - lr: 0.000023\n",
      "2023-11-10 09:36:18,692 ----------------------------------------------------------------------------------------------------\n",
      "2023-11-10 09:36:18,694 EPOCH 63 done: loss 0.0004 - lr 0.000023\n"
     ]
    },
    {
     "output_type": "stream",
     "name": "stderr",
     "text": [
      "100%|██████████| 2/2 [00:02<00:00,  1.36s/it]"
     ]
    },
    {
     "output_type": "stream",
     "name": "stdout",
     "text": [
      "2023-11-10 09:36:21,428 Evaluating as a multi-label problem: False\n",
      "2023-11-10 09:36:21,460 DEV : loss 0.2878546714782715 - f1-score (micro avg)  0.8352\n",
      "2023-11-10 09:36:21,475 ----------------------------------------------------------------------------------------------------\n"
     ]
    },
    {
     "output_type": "stream",
     "name": "stderr",
     "text": [
      "\n"
     ]
    },
    {
     "output_type": "stream",
     "name": "stdout",
     "text": [
      "2023-11-10 09:36:21,910 epoch 64 - iter 1/5 - loss 0.00032956 - time (sec): 0.43 - samples/sec: 10465.94 - lr: 0.000022\n",
      "2023-11-10 09:36:22,328 epoch 64 - iter 2/5 - loss 0.00108690 - time (sec): 0.85 - samples/sec: 10246.38 - lr: 0.000022\n",
      "2023-11-10 09:36:22,999 epoch 64 - iter 3/5 - loss 0.00083266 - time (sec): 1.52 - samples/sec: 9498.40 - lr: 0.000022\n",
      "2023-11-10 09:36:23,401 epoch 64 - iter 4/5 - loss 0.00069963 - time (sec): 1.92 - samples/sec: 9448.11 - lr: 0.000022\n",
      "2023-11-10 09:36:23,567 epoch 64 - iter 5/5 - loss 0.00065717 - time (sec): 2.09 - samples/sec: 9459.01 - lr: 0.000022\n",
      "2023-11-10 09:36:23,570 ----------------------------------------------------------------------------------------------------\n",
      "2023-11-10 09:36:23,574 EPOCH 64 done: loss 0.0007 - lr 0.000022\n"
     ]
    },
    {
     "output_type": "stream",
     "name": "stderr",
     "text": [
      "100%|██████████| 2/2 [00:05<00:00,  2.68s/it]"
     ]
    },
    {
     "output_type": "stream",
     "name": "stdout",
     "text": [
      "2023-11-10 09:36:28,963 Evaluating as a multi-label problem: False\n",
      "2023-11-10 09:36:29,004 DEV : loss 0.29582661390304565 - f1-score (micro avg)  0.8347\n",
      "2023-11-10 09:36:29,024 ----------------------------------------------------------------------------------------------------\n"
     ]
    },
    {
     "output_type": "stream",
     "name": "stderr",
     "text": [
      "\n"
     ]
    },
    {
     "output_type": "stream",
     "name": "stdout",
     "text": [
      "2023-11-10 09:36:29,639 epoch 65 - iter 1/5 - loss 0.00021994 - time (sec): 0.61 - samples/sec: 8886.51 - lr: 0.000022\n",
      "2023-11-10 09:36:30,192 epoch 65 - iter 2/5 - loss 0.00071143 - time (sec): 1.17 - samples/sec: 8565.75 - lr: 0.000022\n",
      "2023-11-10 09:36:31,258 epoch 65 - iter 3/5 - loss 0.00058027 - time (sec): 2.23 - samples/sec: 6287.84 - lr: 0.000022\n",
      "2023-11-10 09:36:31,867 epoch 65 - iter 4/5 - loss 0.00133875 - time (sec): 2.84 - samples/sec: 6469.75 - lr: 0.000022\n",
      "2023-11-10 09:36:32,061 epoch 65 - iter 5/5 - loss 0.00126389 - time (sec): 3.03 - samples/sec: 6515.77 - lr: 0.000022\n",
      "2023-11-10 09:36:32,065 ----------------------------------------------------------------------------------------------------\n",
      "2023-11-10 09:36:32,067 EPOCH 65 done: loss 0.0013 - lr 0.000022\n"
     ]
    },
    {
     "output_type": "stream",
     "name": "stderr",
     "text": [
      "100%|██████████| 2/2 [00:02<00:00,  1.47s/it]"
     ]
    },
    {
     "output_type": "stream",
     "name": "stdout",
     "text": [
      "2023-11-10 09:36:35,010 Evaluating as a multi-label problem: False\n",
      "2023-11-10 09:36:35,043 DEV : loss 0.2890584170818329 - f1-score (micro avg)  0.8308\n",
      "2023-11-10 09:36:35,063 ----------------------------------------------------------------------------------------------------\n"
     ]
    },
    {
     "output_type": "stream",
     "name": "stderr",
     "text": [
      "\n"
     ]
    },
    {
     "output_type": "stream",
     "name": "stdout",
     "text": [
      "2023-11-10 09:36:35,457 epoch 66 - iter 1/5 - loss 0.00056671 - time (sec): 0.39 - samples/sec: 9341.55 - lr: 0.000021\n",
      "2023-11-10 09:36:35,868 epoch 66 - iter 2/5 - loss 0.00058096 - time (sec): 0.80 - samples/sec: 10020.86 - lr: 0.000021\n",
      "2023-11-10 09:36:36,329 epoch 66 - iter 3/5 - loss 0.00038565 - time (sec): 1.26 - samples/sec: 10403.62 - lr: 0.000021\n",
      "2023-11-10 09:36:36,813 epoch 66 - iter 4/5 - loss 0.00036120 - time (sec): 1.75 - samples/sec: 10129.21 - lr: 0.000021\n",
      "2023-11-10 09:36:37,000 epoch 66 - iter 5/5 - loss 0.00084010 - time (sec): 1.93 - samples/sec: 10220.79 - lr: 0.000021\n",
      "2023-11-10 09:36:37,002 ----------------------------------------------------------------------------------------------------\n",
      "2023-11-10 09:36:37,006 EPOCH 66 done: loss 0.0008 - lr 0.000021\n"
     ]
    },
    {
     "output_type": "stream",
     "name": "stderr",
     "text": [
      "100%|██████████| 2/2 [00:02<00:00,  1.34s/it]"
     ]
    },
    {
     "output_type": "stream",
     "name": "stdout",
     "text": [
      "2023-11-10 09:36:39,700 Evaluating as a multi-label problem: False\n",
      "2023-11-10 09:36:39,726 DEV : loss 0.2896568477153778 - f1-score (micro avg)  0.8323\n",
      "2023-11-10 09:36:39,740 ----------------------------------------------------------------------------------------------------\n"
     ]
    },
    {
     "output_type": "stream",
     "name": "stderr",
     "text": [
      "\n"
     ]
    },
    {
     "output_type": "stream",
     "name": "stdout",
     "text": [
      "2023-11-10 09:36:40,225 epoch 67 - iter 1/5 - loss 0.00013217 - time (sec): 0.48 - samples/sec: 9874.70 - lr: 0.000021\n",
      "2023-11-10 09:36:40,609 epoch 67 - iter 2/5 - loss 0.00015700 - time (sec): 0.87 - samples/sec: 10180.97 - lr: 0.000021\n",
      "2023-11-10 09:36:41,084 epoch 67 - iter 3/5 - loss 0.00019412 - time (sec): 1.34 - samples/sec: 10367.46 - lr: 0.000021\n",
      "2023-11-10 09:36:41,496 epoch 67 - iter 4/5 - loss 0.00022089 - time (sec): 1.75 - samples/sec: 10270.65 - lr: 0.000021\n",
      "2023-11-10 09:36:41,636 epoch 67 - iter 5/5 - loss 0.00021194 - time (sec): 1.89 - samples/sec: 10437.26 - lr: 0.000021\n",
      "2023-11-10 09:36:41,639 ----------------------------------------------------------------------------------------------------\n",
      "2023-11-10 09:36:41,642 EPOCH 67 done: loss 0.0002 - lr 0.000021\n"
     ]
    },
    {
     "output_type": "stream",
     "name": "stderr",
     "text": [
      "100%|██████████| 2/2 [00:04<00:00,  2.49s/it]"
     ]
    },
    {
     "output_type": "stream",
     "name": "stdout",
     "text": [
      "2023-11-10 09:36:46,638 Evaluating as a multi-label problem: False\n",
      "2023-11-10 09:36:46,665 DEV : loss 0.32629287242889404 - f1-score (micro avg)  0.8307\n",
      "2023-11-10 09:36:46,684 ----------------------------------------------------------------------------------------------------\n"
     ]
    },
    {
     "output_type": "stream",
     "name": "stderr",
     "text": [
      "\n"
     ]
    },
    {
     "output_type": "stream",
     "name": "stdout",
     "text": [
      "2023-11-10 09:36:47,250 epoch 68 - iter 1/5 - loss 0.00110521 - time (sec): 0.56 - samples/sec: 8153.69 - lr: 0.000020\n",
      "2023-11-10 09:36:47,744 epoch 68 - iter 2/5 - loss 0.00068438 - time (sec): 1.06 - samples/sec: 7958.19 - lr: 0.000020\n",
      "2023-11-10 09:36:48,287 epoch 68 - iter 3/5 - loss 0.00073613 - time (sec): 1.60 - samples/sec: 8108.51 - lr: 0.000020\n",
      "2023-11-10 09:36:48,872 epoch 68 - iter 4/5 - loss 0.00065342 - time (sec): 2.18 - samples/sec: 8011.11 - lr: 0.000020\n",
      "2023-11-10 09:36:49,141 epoch 68 - iter 5/5 - loss 0.00060537 - time (sec): 2.45 - samples/sec: 8059.19 - lr: 0.000020\n",
      "2023-11-10 09:36:49,150 ----------------------------------------------------------------------------------------------------\n",
      "2023-11-10 09:36:49,152 EPOCH 68 done: loss 0.0006 - lr 0.000020\n"
     ]
    },
    {
     "output_type": "stream",
     "name": "stderr",
     "text": [
      "100%|██████████| 2/2 [00:03<00:00,  1.85s/it]"
     ]
    },
    {
     "output_type": "stream",
     "name": "stdout",
     "text": [
      "2023-11-10 09:36:52,868 Evaluating as a multi-label problem: False\n",
      "2023-11-10 09:36:52,900 DEV : loss 0.33137017488479614 - f1-score (micro avg)  0.8363\n",
      "2023-11-10 09:36:52,914 ----------------------------------------------------------------------------------------------------\n"
     ]
    },
    {
     "output_type": "stream",
     "name": "stderr",
     "text": [
      "\n"
     ]
    },
    {
     "output_type": "stream",
     "name": "stdout",
     "text": [
      "2023-11-10 09:36:53,383 epoch 69 - iter 1/5 - loss 0.00016713 - time (sec): 0.47 - samples/sec: 8904.70 - lr: 0.000020\n",
      "2023-11-10 09:36:53,839 epoch 69 - iter 2/5 - loss 0.00024949 - time (sec): 0.92 - samples/sec: 9460.59 - lr: 0.000020\n",
      "2023-11-10 09:36:54,320 epoch 69 - iter 3/5 - loss 0.00020807 - time (sec): 1.40 - samples/sec: 9874.98 - lr: 0.000020\n",
      "2023-11-10 09:36:54,687 epoch 69 - iter 4/5 - loss 0.00021571 - time (sec): 1.77 - samples/sec: 10033.96 - lr: 0.000020\n",
      "2023-11-10 09:36:54,889 epoch 69 - iter 5/5 - loss 0.00021493 - time (sec): 1.97 - samples/sec: 10019.25 - lr: 0.000019\n",
      "2023-11-10 09:36:54,893 ----------------------------------------------------------------------------------------------------\n",
      "2023-11-10 09:36:54,899 EPOCH 69 done: loss 0.0002 - lr 0.000019\n"
     ]
    },
    {
     "output_type": "stream",
     "name": "stderr",
     "text": [
      "100%|██████████| 2/2 [00:02<00:00,  1.36s/it]"
     ]
    },
    {
     "output_type": "stream",
     "name": "stdout",
     "text": [
      "2023-11-10 09:36:57,633 Evaluating as a multi-label problem: False\n",
      "2023-11-10 09:36:57,666 DEV : loss 0.31606540083885193 - f1-score (micro avg)  0.8366\n",
      "2023-11-10 09:36:57,681 ----------------------------------------------------------------------------------------------------\n"
     ]
    },
    {
     "output_type": "stream",
     "name": "stderr",
     "text": [
      "\n"
     ]
    },
    {
     "output_type": "stream",
     "name": "stdout",
     "text": [
      "2023-11-10 09:36:58,577 epoch 70 - iter 1/5 - loss 0.00024506 - time (sec): 0.89 - samples/sec: 5322.55 - lr: 0.000019\n",
      "2023-11-10 09:36:58,968 epoch 70 - iter 2/5 - loss 0.00023453 - time (sec): 1.28 - samples/sec: 6608.77 - lr: 0.000019\n",
      "2023-11-10 09:36:59,389 epoch 70 - iter 3/5 - loss 0.00019692 - time (sec): 1.71 - samples/sec: 7608.64 - lr: 0.000019\n",
      "2023-11-10 09:36:59,846 epoch 70 - iter 4/5 - loss 0.00022625 - time (sec): 2.16 - samples/sec: 8182.30 - lr: 0.000019\n",
      "2023-11-10 09:37:00,047 epoch 70 - iter 5/5 - loss 0.00020760 - time (sec): 2.36 - samples/sec: 8367.54 - lr: 0.000019\n",
      "2023-11-10 09:37:00,049 ----------------------------------------------------------------------------------------------------\n",
      "2023-11-10 09:37:00,054 EPOCH 70 done: loss 0.0002 - lr 0.000019\n"
     ]
    },
    {
     "output_type": "stream",
     "name": "stderr",
     "text": [
      "100%|██████████| 2/2 [00:04<00:00,  2.10s/it]"
     ]
    },
    {
     "output_type": "stream",
     "name": "stdout",
     "text": [
      "2023-11-10 09:37:04,260 Evaluating as a multi-label problem: False\n",
      "2023-11-10 09:37:04,298 DEV : loss 0.30900073051452637 - f1-score (micro avg)  0.8248\n",
      "2023-11-10 09:37:04,317 ----------------------------------------------------------------------------------------------------\n"
     ]
    },
    {
     "output_type": "stream",
     "name": "stderr",
     "text": [
      "\n"
     ]
    },
    {
     "output_type": "stream",
     "name": "stdout",
     "text": [
      "2023-11-10 09:37:04,879 epoch 71 - iter 1/5 - loss 0.00023555 - time (sec): 0.56 - samples/sec: 7979.48 - lr: 0.000019\n",
      "2023-11-10 09:37:05,361 epoch 71 - iter 2/5 - loss 0.00039187 - time (sec): 1.04 - samples/sec: 8198.76 - lr: 0.000019\n",
      "2023-11-10 09:37:05,856 epoch 71 - iter 3/5 - loss 0.00109282 - time (sec): 1.54 - samples/sec: 8416.18 - lr: 0.000019\n",
      "2023-11-10 09:37:06,529 epoch 71 - iter 4/5 - loss 0.00081193 - time (sec): 2.21 - samples/sec: 8178.32 - lr: 0.000019\n",
      "2023-11-10 09:37:06,754 epoch 71 - iter 5/5 - loss 0.00075325 - time (sec): 2.43 - samples/sec: 8124.51 - lr: 0.000018\n",
      "2023-11-10 09:37:06,757 ----------------------------------------------------------------------------------------------------\n",
      "2023-11-10 09:37:06,759 EPOCH 71 done: loss 0.0008 - lr 0.000018\n"
     ]
    },
    {
     "output_type": "stream",
     "name": "stderr",
     "text": [
      "100%|██████████| 2/2 [00:04<00:00,  2.12s/it]"
     ]
    },
    {
     "output_type": "stream",
     "name": "stdout",
     "text": [
      "2023-11-10 09:37:11,016 Evaluating as a multi-label problem: False\n",
      "2023-11-10 09:37:11,042 DEV : loss 0.31458720564842224 - f1-score (micro avg)  0.8234\n",
      "2023-11-10 09:37:11,056 ----------------------------------------------------------------------------------------------------\n"
     ]
    },
    {
     "output_type": "stream",
     "name": "stderr",
     "text": [
      "\n"
     ]
    },
    {
     "output_type": "stream",
     "name": "stdout",
     "text": [
      "2023-11-10 09:37:11,494 epoch 72 - iter 1/5 - loss 0.00012489 - time (sec): 0.44 - samples/sec: 8517.91 - lr: 0.000018\n",
      "2023-11-10 09:37:11,912 epoch 72 - iter 2/5 - loss 0.00012382 - time (sec): 0.85 - samples/sec: 9501.15 - lr: 0.000018\n",
      "2023-11-10 09:37:12,327 epoch 72 - iter 3/5 - loss 0.00011902 - time (sec): 1.27 - samples/sec: 9654.94 - lr: 0.000018\n",
      "2023-11-10 09:37:13,258 epoch 72 - iter 4/5 - loss 0.00015880 - time (sec): 2.20 - samples/sec: 8089.59 - lr: 0.000018\n",
      "2023-11-10 09:37:13,442 epoch 72 - iter 5/5 - loss 0.00015345 - time (sec): 2.38 - samples/sec: 8293.47 - lr: 0.000018\n",
      "2023-11-10 09:37:13,444 ----------------------------------------------------------------------------------------------------\n",
      "2023-11-10 09:37:13,449 EPOCH 72 done: loss 0.0002 - lr 0.000018\n"
     ]
    },
    {
     "output_type": "stream",
     "name": "stderr",
     "text": [
      "100%|██████████| 2/2 [00:02<00:00,  1.34s/it]"
     ]
    },
    {
     "output_type": "stream",
     "name": "stdout",
     "text": [
      "2023-11-10 09:37:16,143 Evaluating as a multi-label problem: False\n",
      "2023-11-10 09:37:16,173 DEV : loss 0.3329286277294159 - f1-score (micro avg)  0.8225\n",
      "2023-11-10 09:37:16,192 ----------------------------------------------------------------------------------------------------\n"
     ]
    },
    {
     "output_type": "stream",
     "name": "stderr",
     "text": [
      "\n"
     ]
    },
    {
     "output_type": "stream",
     "name": "stdout",
     "text": [
      "2023-11-10 09:37:16,617 epoch 73 - iter 1/5 - loss 0.00271743 - time (sec): 0.42 - samples/sec: 10834.57 - lr: 0.000018\n",
      "2023-11-10 09:37:17,026 epoch 73 - iter 2/5 - loss 0.00159775 - time (sec): 0.83 - samples/sec: 10387.65 - lr: 0.000018\n",
      "2023-11-10 09:37:17,523 epoch 73 - iter 3/5 - loss 0.00108985 - time (sec): 1.33 - samples/sec: 9994.18 - lr: 0.000018\n",
      "2023-11-10 09:37:17,923 epoch 73 - iter 4/5 - loss 0.00084209 - time (sec): 1.73 - samples/sec: 10315.16 - lr: 0.000017\n",
      "2023-11-10 09:37:18,112 epoch 73 - iter 5/5 - loss 0.00076741 - time (sec): 1.92 - samples/sec: 10302.23 - lr: 0.000017\n",
      "2023-11-10 09:37:18,115 ----------------------------------------------------------------------------------------------------\n",
      "2023-11-10 09:37:18,117 EPOCH 73 done: loss 0.0008 - lr 0.000017\n"
     ]
    },
    {
     "output_type": "stream",
     "name": "stderr",
     "text": [
      "100%|██████████| 2/2 [00:03<00:00,  1.63s/it]"
     ]
    },
    {
     "output_type": "stream",
     "name": "stdout",
     "text": [
      "2023-11-10 09:37:21,403 Evaluating as a multi-label problem: False\n",
      "2023-11-10 09:37:21,454 DEV : loss 0.3323475122451782 - f1-score (micro avg)  0.8233\n",
      "2023-11-10 09:37:21,480 ----------------------------------------------------------------------------------------------------\n"
     ]
    },
    {
     "output_type": "stream",
     "name": "stderr",
     "text": [
      "\n"
     ]
    },
    {
     "output_type": "stream",
     "name": "stdout",
     "text": [
      "2023-11-10 09:37:22,026 epoch 74 - iter 1/5 - loss 0.00008375 - time (sec): 0.54 - samples/sec: 8452.32 - lr: 0.000017\n",
      "2023-11-10 09:37:22,546 epoch 74 - iter 2/5 - loss 0.00087421 - time (sec): 1.06 - samples/sec: 8601.98 - lr: 0.000017\n",
      "2023-11-10 09:37:23,093 epoch 74 - iter 3/5 - loss 0.00061462 - time (sec): 1.61 - samples/sec: 8568.07 - lr: 0.000017\n",
      "2023-11-10 09:37:23,697 epoch 74 - iter 4/5 - loss 0.00049625 - time (sec): 2.21 - samples/sec: 8185.60 - lr: 0.000017\n",
      "2023-11-10 09:37:23,917 epoch 74 - iter 5/5 - loss 0.00045989 - time (sec): 2.43 - samples/sec: 8124.83 - lr: 0.000017\n",
      "2023-11-10 09:37:23,920 ----------------------------------------------------------------------------------------------------\n",
      "2023-11-10 09:37:23,926 EPOCH 74 done: loss 0.0005 - lr 0.000017\n"
     ]
    },
    {
     "output_type": "stream",
     "name": "stderr",
     "text": [
      "100%|██████████| 2/2 [00:05<00:00,  2.61s/it]"
     ]
    },
    {
     "output_type": "stream",
     "name": "stdout",
     "text": [
      "2023-11-10 09:37:29,170 Evaluating as a multi-label problem: False\n",
      "2023-11-10 09:37:29,198 DEV : loss 0.3299107551574707 - f1-score (micro avg)  0.8258\n",
      "2023-11-10 09:37:29,214 ----------------------------------------------------------------------------------------------------\n"
     ]
    },
    {
     "output_type": "stream",
     "name": "stderr",
     "text": [
      "\n"
     ]
    },
    {
     "output_type": "stream",
     "name": "stdout",
     "text": [
      "2023-11-10 09:37:29,738 epoch 75 - iter 1/5 - loss 0.00006226 - time (sec): 0.52 - samples/sec: 9146.44 - lr: 0.000017\n",
      "2023-11-10 09:37:30,161 epoch 75 - iter 2/5 - loss 0.00062360 - time (sec): 0.94 - samples/sec: 10286.66 - lr: 0.000017\n",
      "2023-11-10 09:37:30,613 epoch 75 - iter 3/5 - loss 0.00047837 - time (sec): 1.40 - samples/sec: 9853.18 - lr: 0.000017\n",
      "2023-11-10 09:37:31,026 epoch 75 - iter 4/5 - loss 0.00074436 - time (sec): 1.81 - samples/sec: 10091.89 - lr: 0.000016\n",
      "2023-11-10 09:37:31,193 epoch 75 - iter 5/5 - loss 0.00069584 - time (sec): 1.98 - samples/sec: 10003.37 - lr: 0.000016\n",
      "2023-11-10 09:37:31,195 ----------------------------------------------------------------------------------------------------\n",
      "2023-11-10 09:37:31,200 EPOCH 75 done: loss 0.0007 - lr 0.000016\n"
     ]
    },
    {
     "output_type": "stream",
     "name": "stderr",
     "text": [
      "100%|██████████| 2/2 [00:02<00:00,  1.35s/it]"
     ]
    },
    {
     "output_type": "stream",
     "name": "stdout",
     "text": [
      "2023-11-10 09:37:33,933 Evaluating as a multi-label problem: False\n",
      "2023-11-10 09:37:33,964 DEV : loss 0.341106653213501 - f1-score (micro avg)  0.8316\n",
      "2023-11-10 09:37:33,979 ----------------------------------------------------------------------------------------------------\n"
     ]
    },
    {
     "output_type": "stream",
     "name": "stderr",
     "text": [
      "\n"
     ]
    },
    {
     "output_type": "stream",
     "name": "stdout",
     "text": [
      "2023-11-10 09:37:34,435 epoch 76 - iter 1/5 - loss 0.00010997 - time (sec): 0.45 - samples/sec: 10772.29 - lr: 0.000016\n",
      "2023-11-10 09:37:34,885 epoch 76 - iter 2/5 - loss 0.00012020 - time (sec): 0.91 - samples/sec: 10472.33 - lr: 0.000016\n",
      "2023-11-10 09:37:35,383 epoch 76 - iter 3/5 - loss 0.00012185 - time (sec): 1.40 - samples/sec: 9946.79 - lr: 0.000016\n",
      "2023-11-10 09:37:35,801 epoch 76 - iter 4/5 - loss 0.00010612 - time (sec): 1.82 - samples/sec: 10070.97 - lr: 0.000016\n",
      "2023-11-10 09:37:35,939 epoch 76 - iter 5/5 - loss 0.00010302 - time (sec): 1.96 - samples/sec: 10096.86 - lr: 0.000016\n",
      "2023-11-10 09:37:35,941 ----------------------------------------------------------------------------------------------------\n",
      "2023-11-10 09:37:35,945 EPOCH 76 done: loss 0.0001 - lr 0.000016\n"
     ]
    },
    {
     "output_type": "stream",
     "name": "stderr",
     "text": [
      "100%|██████████| 2/2 [00:02<00:00,  1.33s/it]"
     ]
    },
    {
     "output_type": "stream",
     "name": "stdout",
     "text": [
      "2023-11-10 09:37:38,621 Evaluating as a multi-label problem: False\n",
      "2023-11-10 09:37:38,660 DEV : loss 0.34898731112480164 - f1-score (micro avg)  0.8285\n",
      "2023-11-10 09:37:38,674 ----------------------------------------------------------------------------------------------------\n"
     ]
    },
    {
     "output_type": "stream",
     "name": "stderr",
     "text": [
      "\n"
     ]
    },
    {
     "output_type": "stream",
     "name": "stdout",
     "text": [
      "2023-11-10 09:37:39,632 epoch 77 - iter 1/5 - loss 0.00009721 - time (sec): 0.96 - samples/sec: 3900.97 - lr: 0.000016\n",
      "2023-11-10 09:37:40,199 epoch 77 - iter 2/5 - loss 0.00012386 - time (sec): 1.52 - samples/sec: 5683.95 - lr: 0.000016\n",
      "2023-11-10 09:37:40,728 epoch 77 - iter 3/5 - loss 0.00018171 - time (sec): 2.05 - samples/sec: 6213.27 - lr: 0.000015\n",
      "2023-11-10 09:37:41,408 epoch 77 - iter 4/5 - loss 0.00015217 - time (sec): 2.73 - samples/sec: 6548.01 - lr: 0.000015\n",
      "2023-11-10 09:37:41,650 epoch 77 - iter 5/5 - loss 0.00014663 - time (sec): 2.97 - samples/sec: 6647.40 - lr: 0.000015\n",
      "2023-11-10 09:37:41,655 ----------------------------------------------------------------------------------------------------\n",
      "2023-11-10 09:37:41,658 EPOCH 77 done: loss 0.0001 - lr 0.000015\n"
     ]
    },
    {
     "output_type": "stream",
     "name": "stderr",
     "text": [
      "100%|██████████| 2/2 [00:05<00:00,  2.57s/it]"
     ]
    },
    {
     "output_type": "stream",
     "name": "stdout",
     "text": [
      "2023-11-10 09:37:46,816 Evaluating as a multi-label problem: False\n",
      "2023-11-10 09:37:46,860 DEV : loss 0.3459241986274719 - f1-score (micro avg)  0.8247\n",
      "2023-11-10 09:37:46,884 ----------------------------------------------------------------------------------------------------\n"
     ]
    },
    {
     "output_type": "stream",
     "name": "stderr",
     "text": [
      "\n"
     ]
    },
    {
     "output_type": "stream",
     "name": "stdout",
     "text": [
      "2023-11-10 09:37:47,426 epoch 78 - iter 1/5 - loss 0.00010328 - time (sec): 0.54 - samples/sec: 7909.21 - lr: 0.000015\n",
      "2023-11-10 09:37:47,835 epoch 78 - iter 2/5 - loss 0.00009489 - time (sec): 0.95 - samples/sec: 9165.51 - lr: 0.000015\n",
      "2023-11-10 09:37:48,268 epoch 78 - iter 3/5 - loss 0.00008924 - time (sec): 1.38 - samples/sec: 9486.00 - lr: 0.000015\n",
      "2023-11-10 09:37:48,688 epoch 78 - iter 4/5 - loss 0.00008942 - time (sec): 1.80 - samples/sec: 9656.37 - lr: 0.000015\n",
      "2023-11-10 09:37:48,888 epoch 78 - iter 5/5 - loss 0.00009418 - time (sec): 2.00 - samples/sec: 9882.74 - lr: 0.000015\n",
      "2023-11-10 09:37:48,892 ----------------------------------------------------------------------------------------------------\n",
      "2023-11-10 09:37:48,894 EPOCH 78 done: loss 0.0001 - lr 0.000015\n"
     ]
    },
    {
     "output_type": "stream",
     "name": "stderr",
     "text": [
      "100%|██████████| 2/2 [00:02<00:00,  1.32s/it]"
     ]
    },
    {
     "output_type": "stream",
     "name": "stdout",
     "text": [
      "2023-11-10 09:37:51,554 Evaluating as a multi-label problem: False\n",
      "2023-11-10 09:37:51,579 DEV : loss 0.33726850152015686 - f1-score (micro avg)  0.8264\n",
      "2023-11-10 09:37:51,596 ----------------------------------------------------------------------------------------------------\n"
     ]
    },
    {
     "output_type": "stream",
     "name": "stderr",
     "text": [
      "\n"
     ]
    },
    {
     "output_type": "stream",
     "name": "stdout",
     "text": [
      "2023-11-10 09:37:52,117 epoch 79 - iter 1/5 - loss 0.00031359 - time (sec): 0.52 - samples/sec: 10204.35 - lr: 0.000015\n",
      "2023-11-10 09:37:52,962 epoch 79 - iter 2/5 - loss 0.00023591 - time (sec): 1.36 - samples/sec: 7241.25 - lr: 0.000015\n",
      "2023-11-10 09:37:53,372 epoch 79 - iter 3/5 - loss 0.00066706 - time (sec): 1.77 - samples/sec: 7831.48 - lr: 0.000014\n",
      "2023-11-10 09:37:53,840 epoch 79 - iter 4/5 - loss 0.00052259 - time (sec): 2.24 - samples/sec: 8246.77 - lr: 0.000014\n",
      "2023-11-10 09:37:53,985 epoch 79 - iter 5/5 - loss 0.00049273 - time (sec): 2.39 - samples/sec: 8284.05 - lr: 0.000014\n",
      "2023-11-10 09:37:53,987 ----------------------------------------------------------------------------------------------------\n",
      "2023-11-10 09:37:53,991 EPOCH 79 done: loss 0.0005 - lr 0.000014\n"
     ]
    },
    {
     "output_type": "stream",
     "name": "stderr",
     "text": [
      "100%|██████████| 2/2 [00:02<00:00,  1.35s/it]"
     ]
    },
    {
     "output_type": "stream",
     "name": "stdout",
     "text": [
      "2023-11-10 09:37:56,712 Evaluating as a multi-label problem: False\n",
      "2023-11-10 09:37:56,745 DEV : loss 0.3377552926540375 - f1-score (micro avg)  0.8251\n",
      "2023-11-10 09:37:56,765 ----------------------------------------------------------------------------------------------------\n"
     ]
    },
    {
     "output_type": "stream",
     "name": "stderr",
     "text": [
      "\n"
     ]
    },
    {
     "output_type": "stream",
     "name": "stdout",
     "text": [
      "2023-11-10 09:37:57,338 epoch 80 - iter 1/5 - loss 0.00216850 - time (sec): 0.57 - samples/sec: 9274.16 - lr: 0.000014\n",
      "2023-11-10 09:37:57,794 epoch 80 - iter 2/5 - loss 0.00125819 - time (sec): 1.03 - samples/sec: 9072.71 - lr: 0.000014\n",
      "2023-11-10 09:37:58,274 epoch 80 - iter 3/5 - loss 0.00140749 - time (sec): 1.51 - samples/sec: 8853.39 - lr: 0.000014\n",
      "2023-11-10 09:37:58,811 epoch 80 - iter 4/5 - loss 0.00112027 - time (sec): 2.04 - samples/sec: 8819.29 - lr: 0.000014\n",
      "2023-11-10 09:37:59,040 epoch 80 - iter 5/5 - loss 0.00102446 - time (sec): 2.27 - samples/sec: 8700.58 - lr: 0.000014\n",
      "2023-11-10 09:37:59,049 ----------------------------------------------------------------------------------------------------\n",
      "2023-11-10 09:37:59,052 EPOCH 80 done: loss 0.0010 - lr 0.000014\n"
     ]
    },
    {
     "output_type": "stream",
     "name": "stderr",
     "text": [
      "100%|██████████| 2/2 [00:05<00:00,  2.95s/it]"
     ]
    },
    {
     "output_type": "stream",
     "name": "stdout",
     "text": [
      "2023-11-10 09:38:04,967 Evaluating as a multi-label problem: False\n",
      "2023-11-10 09:38:05,009 DEV : loss 0.3464910686016083 - f1-score (micro avg)  0.8237\n",
      "2023-11-10 09:38:05,038 ----------------------------------------------------------------------------------------------------\n"
     ]
    },
    {
     "output_type": "stream",
     "name": "stderr",
     "text": [
      "\n"
     ]
    },
    {
     "output_type": "stream",
     "name": "stdout",
     "text": [
      "2023-11-10 09:38:05,569 epoch 81 - iter 1/5 - loss 0.00011520 - time (sec): 0.53 - samples/sec: 7994.35 - lr: 0.000014\n",
      "2023-11-10 09:38:06,057 epoch 81 - iter 2/5 - loss 0.00009357 - time (sec): 1.02 - samples/sec: 8024.12 - lr: 0.000013\n",
      "2023-11-10 09:38:06,618 epoch 81 - iter 3/5 - loss 0.00009079 - time (sec): 1.58 - samples/sec: 8326.36 - lr: 0.000013\n",
      "2023-11-10 09:38:07,146 epoch 81 - iter 4/5 - loss 0.00008206 - time (sec): 2.10 - samples/sec: 8442.62 - lr: 0.000013\n",
      "2023-11-10 09:38:07,361 epoch 81 - iter 5/5 - loss 0.00007643 - time (sec): 2.32 - samples/sec: 8524.44 - lr: 0.000013\n",
      "2023-11-10 09:38:07,364 ----------------------------------------------------------------------------------------------------\n",
      "2023-11-10 09:38:07,369 EPOCH 81 done: loss 0.0001 - lr 0.000013\n"
     ]
    },
    {
     "output_type": "stream",
     "name": "stderr",
     "text": [
      "100%|██████████| 2/2 [00:03<00:00,  1.55s/it]"
     ]
    },
    {
     "output_type": "stream",
     "name": "stdout",
     "text": [
      "2023-11-10 09:38:10,486 Evaluating as a multi-label problem: False\n",
      "2023-11-10 09:38:10,520 DEV : loss 0.3665333092212677 - f1-score (micro avg)  0.8271\n",
      "2023-11-10 09:38:10,534 ----------------------------------------------------------------------------------------------------\n"
     ]
    },
    {
     "output_type": "stream",
     "name": "stderr",
     "text": [
      "\n"
     ]
    },
    {
     "output_type": "stream",
     "name": "stdout",
     "text": [
      "2023-11-10 09:38:10,965 epoch 82 - iter 1/5 - loss 0.00007511 - time (sec): 0.43 - samples/sec: 10551.24 - lr: 0.000013\n",
      "2023-11-10 09:38:11,443 epoch 82 - iter 2/5 - loss 0.00061279 - time (sec): 0.91 - samples/sec: 10091.01 - lr: 0.000013\n",
      "2023-11-10 09:38:11,853 epoch 82 - iter 3/5 - loss 0.00042950 - time (sec): 1.32 - samples/sec: 10350.97 - lr: 0.000013\n",
      "2023-11-10 09:38:12,271 epoch 82 - iter 4/5 - loss 0.00033360 - time (sec): 1.74 - samples/sec: 10525.56 - lr: 0.000013\n",
      "2023-11-10 09:38:12,474 epoch 82 - iter 5/5 - loss 0.00031404 - time (sec): 1.94 - samples/sec: 10199.04 - lr: 0.000013\n",
      "2023-11-10 09:38:12,479 ----------------------------------------------------------------------------------------------------\n",
      "2023-11-10 09:38:12,481 EPOCH 82 done: loss 0.0003 - lr 0.000013\n"
     ]
    },
    {
     "output_type": "stream",
     "name": "stderr",
     "text": [
      "100%|██████████| 2/2 [00:02<00:00,  1.35s/it]"
     ]
    },
    {
     "output_type": "stream",
     "name": "stdout",
     "text": [
      "2023-11-10 09:38:15,199 Evaluating as a multi-label problem: False\n",
      "2023-11-10 09:38:15,224 DEV : loss 0.3722875416278839 - f1-score (micro avg)  0.8275\n",
      "2023-11-10 09:38:15,238 ----------------------------------------------------------------------------------------------------\n"
     ]
    },
    {
     "output_type": "stream",
     "name": "stderr",
     "text": [
      "\n"
     ]
    },
    {
     "output_type": "stream",
     "name": "stdout",
     "text": [
      "2023-11-10 09:38:15,742 epoch 83 - iter 1/5 - loss 0.00005737 - time (sec): 0.50 - samples/sec: 8950.93 - lr: 0.000013\n",
      "2023-11-10 09:38:16,159 epoch 83 - iter 2/5 - loss 0.00005289 - time (sec): 0.92 - samples/sec: 9617.78 - lr: 0.000012\n",
      "2023-11-10 09:38:16,615 epoch 83 - iter 3/5 - loss 0.00006107 - time (sec): 1.37 - samples/sec: 9712.29 - lr: 0.000012\n",
      "2023-11-10 09:38:17,095 epoch 83 - iter 4/5 - loss 0.00006248 - time (sec): 1.85 - samples/sec: 9842.78 - lr: 0.000012\n",
      "2023-11-10 09:38:17,327 epoch 83 - iter 5/5 - loss 0.00006196 - time (sec): 2.09 - samples/sec: 9482.43 - lr: 0.000012\n",
      "2023-11-10 09:38:17,332 ----------------------------------------------------------------------------------------------------\n",
      "2023-11-10 09:38:17,339 EPOCH 83 done: loss 0.0001 - lr 0.000012\n"
     ]
    },
    {
     "output_type": "stream",
     "name": "stderr",
     "text": [
      "100%|██████████| 2/2 [00:05<00:00,  2.92s/it]"
     ]
    },
    {
     "output_type": "stream",
     "name": "stdout",
     "text": [
      "2023-11-10 09:38:23,202 Evaluating as a multi-label problem: False\n",
      "2023-11-10 09:38:23,244 DEV : loss 0.3640052080154419 - f1-score (micro avg)  0.8344\n",
      "2023-11-10 09:38:23,265 ----------------------------------------------------------------------------------------------------\n"
     ]
    },
    {
     "output_type": "stream",
     "name": "stderr",
     "text": [
      "\n"
     ]
    },
    {
     "output_type": "stream",
     "name": "stdout",
     "text": [
      "2023-11-10 09:38:23,808 epoch 84 - iter 1/5 - loss 0.00004279 - time (sec): 0.54 - samples/sec: 8949.35 - lr: 0.000012\n",
      "2023-11-10 09:38:24,331 epoch 84 - iter 2/5 - loss 0.00004964 - time (sec): 1.06 - samples/sec: 8512.01 - lr: 0.000012\n",
      "2023-11-10 09:38:24,931 epoch 84 - iter 3/5 - loss 0.00006314 - time (sec): 1.66 - samples/sec: 8493.77 - lr: 0.000012\n",
      "2023-11-10 09:38:25,456 epoch 84 - iter 4/5 - loss 0.00006524 - time (sec): 2.19 - samples/sec: 8335.06 - lr: 0.000012\n",
      "2023-11-10 09:38:25,611 epoch 84 - iter 5/5 - loss 0.00006591 - time (sec): 2.34 - samples/sec: 8437.72 - lr: 0.000012\n",
      "2023-11-10 09:38:25,613 ----------------------------------------------------------------------------------------------------\n",
      "2023-11-10 09:38:25,618 EPOCH 84 done: loss 0.0001 - lr 0.000012\n"
     ]
    },
    {
     "output_type": "stream",
     "name": "stderr",
     "text": [
      "100%|██████████| 2/2 [00:02<00:00,  1.36s/it]"
     ]
    },
    {
     "output_type": "stream",
     "name": "stdout",
     "text": [
      "2023-11-10 09:38:28,363 Evaluating as a multi-label problem: False\n",
      "2023-11-10 09:38:28,393 DEV : loss 0.3447619378566742 - f1-score (micro avg)  0.8301\n",
      "2023-11-10 09:38:28,408 ----------------------------------------------------------------------------------------------------\n"
     ]
    },
    {
     "output_type": "stream",
     "name": "stderr",
     "text": [
      "\n"
     ]
    },
    {
     "output_type": "stream",
     "name": "stdout",
     "text": [
      "2023-11-10 09:38:28,873 epoch 85 - iter 1/5 - loss 0.00006004 - time (sec): 0.46 - samples/sec: 10689.29 - lr: 0.000012\n",
      "2023-11-10 09:38:29,338 epoch 85 - iter 2/5 - loss 0.00005934 - time (sec): 0.93 - samples/sec: 10217.10 - lr: 0.000011\n",
      "2023-11-10 09:38:29,748 epoch 85 - iter 3/5 - loss 0.00006486 - time (sec): 1.34 - samples/sec: 10343.10 - lr: 0.000011\n",
      "2023-11-10 09:38:30,231 epoch 85 - iter 4/5 - loss 0.00005772 - time (sec): 1.82 - samples/sec: 10135.85 - lr: 0.000011\n",
      "2023-11-10 09:38:30,348 epoch 85 - iter 5/5 - loss 0.00005830 - time (sec): 1.94 - samples/sec: 10203.91 - lr: 0.000011\n",
      "2023-11-10 09:38:30,350 ----------------------------------------------------------------------------------------------------\n",
      "2023-11-10 09:38:30,354 EPOCH 85 done: loss 0.0001 - lr 0.000011\n"
     ]
    },
    {
     "output_type": "stream",
     "name": "stderr",
     "text": [
      "100%|██████████| 2/2 [00:02<00:00,  1.34s/it]"
     ]
    },
    {
     "output_type": "stream",
     "name": "stdout",
     "text": [
      "2023-11-10 09:38:33,053 Evaluating as a multi-label problem: False\n",
      "2023-11-10 09:38:33,080 DEV : loss 0.33931925892829895 - f1-score (micro avg)  0.8268\n",
      "2023-11-10 09:38:33,099 ----------------------------------------------------------------------------------------------------\n"
     ]
    },
    {
     "output_type": "stream",
     "name": "stderr",
     "text": [
      "\n"
     ]
    },
    {
     "output_type": "stream",
     "name": "stdout",
     "text": [
      "2023-11-10 09:38:33,971 epoch 86 - iter 1/5 - loss 0.00116359 - time (sec): 0.87 - samples/sec: 5002.13 - lr: 0.000011\n",
      "2023-11-10 09:38:34,386 epoch 86 - iter 2/5 - loss 0.00062389 - time (sec): 1.28 - samples/sec: 6602.49 - lr: 0.000011\n",
      "2023-11-10 09:38:34,783 epoch 86 - iter 3/5 - loss 0.00042408 - time (sec): 1.68 - samples/sec: 7634.00 - lr: 0.000011\n",
      "2023-11-10 09:38:35,220 epoch 86 - iter 4/5 - loss 0.00032317 - time (sec): 2.12 - samples/sec: 8289.94 - lr: 0.000011\n",
      "2023-11-10 09:38:35,429 epoch 86 - iter 5/5 - loss 0.00029257 - time (sec): 2.33 - samples/sec: 8499.53 - lr: 0.000011\n",
      "2023-11-10 09:38:35,432 ----------------------------------------------------------------------------------------------------\n",
      "2023-11-10 09:38:35,437 EPOCH 86 done: loss 0.0003 - lr 0.000011\n"
     ]
    },
    {
     "output_type": "stream",
     "name": "stderr",
     "text": [
      "100%|██████████| 2/2 [00:05<00:00,  2.64s/it]"
     ]
    },
    {
     "output_type": "stream",
     "name": "stdout",
     "text": [
      "2023-11-10 09:38:40,742 Evaluating as a multi-label problem: False\n",
      "2023-11-10 09:38:40,783 DEV : loss 0.3432070314884186 - f1-score (micro avg)  0.8281\n",
      "2023-11-10 09:38:40,811 ----------------------------------------------------------------------------------------------------\n"
     ]
    },
    {
     "output_type": "stream",
     "name": "stderr",
     "text": [
      "\n"
     ]
    },
    {
     "output_type": "stream",
     "name": "stdout",
     "text": [
      "2023-11-10 09:38:41,426 epoch 87 - iter 1/5 - loss 0.00005259 - time (sec): 0.61 - samples/sec: 8373.26 - lr: 0.000010\n",
      "2023-11-10 09:38:42,010 epoch 87 - iter 2/5 - loss 0.00006044 - time (sec): 1.19 - samples/sec: 7815.03 - lr: 0.000010\n",
      "2023-11-10 09:38:42,514 epoch 87 - iter 3/5 - loss 0.00005214 - time (sec): 1.70 - samples/sec: 8005.15 - lr: 0.000010\n",
      "2023-11-10 09:38:43,044 epoch 87 - iter 4/5 - loss 0.00005676 - time (sec): 2.23 - samples/sec: 8161.30 - lr: 0.000010\n",
      "2023-11-10 09:38:43,259 epoch 87 - iter 5/5 - loss 0.00005576 - time (sec): 2.44 - samples/sec: 8094.59 - lr: 0.000010\n",
      "2023-11-10 09:38:43,262 ----------------------------------------------------------------------------------------------------\n",
      "2023-11-10 09:38:43,265 EPOCH 87 done: loss 0.0001 - lr 0.000010\n"
     ]
    },
    {
     "output_type": "stream",
     "name": "stderr",
     "text": [
      "100%|██████████| 2/2 [00:03<00:00,  1.55s/it]"
     ]
    },
    {
     "output_type": "stream",
     "name": "stdout",
     "text": [
      "2023-11-10 09:38:46,389 Evaluating as a multi-label problem: False\n",
      "2023-11-10 09:38:46,417 DEV : loss 0.35176706314086914 - f1-score (micro avg)  0.8278\n",
      "2023-11-10 09:38:46,434 ----------------------------------------------------------------------------------------------------\n"
     ]
    },
    {
     "output_type": "stream",
     "name": "stderr",
     "text": [
      "\n"
     ]
    },
    {
     "output_type": "stream",
     "name": "stdout",
     "text": [
      "2023-11-10 09:38:46,880 epoch 88 - iter 1/5 - loss 0.00003826 - time (sec): 0.44 - samples/sec: 9082.03 - lr: 0.000010\n",
      "2023-11-10 09:38:47,363 epoch 88 - iter 2/5 - loss 0.00005328 - time (sec): 0.93 - samples/sec: 9705.85 - lr: 0.000010\n",
      "2023-11-10 09:38:47,852 epoch 88 - iter 3/5 - loss 0.00006230 - time (sec): 1.42 - samples/sec: 9421.90 - lr: 0.000010\n",
      "2023-11-10 09:38:48,265 epoch 88 - iter 4/5 - loss 0.00007599 - time (sec): 1.83 - samples/sec: 10031.10 - lr: 0.000010\n",
      "2023-11-10 09:38:48,402 epoch 88 - iter 5/5 - loss 0.00007362 - time (sec): 1.97 - samples/sec: 10055.05 - lr: 0.000010\n",
      "2023-11-10 09:38:48,404 ----------------------------------------------------------------------------------------------------\n",
      "2023-11-10 09:38:48,413 EPOCH 88 done: loss 0.0001 - lr 0.000010\n"
     ]
    },
    {
     "output_type": "stream",
     "name": "stderr",
     "text": [
      "100%|██████████| 2/2 [00:03<00:00,  1.52s/it]"
     ]
    },
    {
     "output_type": "stream",
     "name": "stdout",
     "text": [
      "2023-11-10 09:38:51,478 Evaluating as a multi-label problem: False\n",
      "2023-11-10 09:38:51,522 DEV : loss 0.3587762713432312 - f1-score (micro avg)  0.8302\n",
      "2023-11-10 09:38:51,536 ----------------------------------------------------------------------------------------------------\n"
     ]
    },
    {
     "output_type": "stream",
     "name": "stderr",
     "text": [
      "\n"
     ]
    },
    {
     "output_type": "stream",
     "name": "stdout",
     "text": [
      "2023-11-10 09:38:51,989 epoch 89 - iter 1/5 - loss 0.00005172 - time (sec): 0.45 - samples/sec: 9807.72 - lr: 0.000009\n",
      "2023-11-10 09:38:52,424 epoch 89 - iter 2/5 - loss 0.00037414 - time (sec): 0.89 - samples/sec: 10322.27 - lr: 0.000009\n",
      "2023-11-10 09:38:52,979 epoch 89 - iter 3/5 - loss 0.00025600 - time (sec): 1.44 - samples/sec: 10074.81 - lr: 0.000009\n",
      "2023-11-10 09:38:53,384 epoch 89 - iter 4/5 - loss 0.00021410 - time (sec): 1.85 - samples/sec: 10075.69 - lr: 0.000009\n",
      "2023-11-10 09:38:53,522 epoch 89 - iter 5/5 - loss 0.00020284 - time (sec): 1.98 - samples/sec: 9967.37 - lr: 0.000009\n",
      "2023-11-10 09:38:53,524 ----------------------------------------------------------------------------------------------------\n",
      "2023-11-10 09:38:53,530 EPOCH 89 done: loss 0.0002 - lr 0.000009\n"
     ]
    },
    {
     "output_type": "stream",
     "name": "stderr",
     "text": [
      "100%|██████████| 2/2 [00:04<00:00,  2.41s/it]"
     ]
    },
    {
     "output_type": "stream",
     "name": "stdout",
     "text": [
      "2023-11-10 09:38:58,376 Evaluating as a multi-label problem: False\n",
      "2023-11-10 09:38:58,420 DEV : loss 0.36595892906188965 - f1-score (micro avg)  0.829\n",
      "2023-11-10 09:38:58,443 ----------------------------------------------------------------------------------------------------\n"
     ]
    },
    {
     "output_type": "stream",
     "name": "stderr",
     "text": [
      "\n"
     ]
    },
    {
     "output_type": "stream",
     "name": "stdout",
     "text": [
      "2023-11-10 09:38:59,001 epoch 90 - iter 1/5 - loss 0.00073976 - time (sec): 0.55 - samples/sec: 8447.28 - lr: 0.000009\n",
      "2023-11-10 09:38:59,643 epoch 90 - iter 2/5 - loss 0.00037843 - time (sec): 1.20 - samples/sec: 7924.34 - lr: 0.000009\n",
      "2023-11-10 09:39:00,175 epoch 90 - iter 3/5 - loss 0.00027906 - time (sec): 1.73 - samples/sec: 8015.46 - lr: 0.000009\n",
      "2023-11-10 09:39:00,718 epoch 90 - iter 4/5 - loss 0.00022661 - time (sec): 2.27 - samples/sec: 8218.85 - lr: 0.000009\n",
      "2023-11-10 09:39:00,856 epoch 90 - iter 5/5 - loss 0.00021625 - time (sec): 2.41 - samples/sec: 8204.19 - lr: 0.000008\n",
      "2023-11-10 09:39:00,859 ----------------------------------------------------------------------------------------------------\n",
      "2023-11-10 09:39:00,866 EPOCH 90 done: loss 0.0002 - lr 0.000008\n"
     ]
    },
    {
     "output_type": "stream",
     "name": "stderr",
     "text": [
      "100%|██████████| 2/2 [00:06<00:00,  3.06s/it]"
     ]
    },
    {
     "output_type": "stream",
     "name": "stdout",
     "text": [
      "2023-11-10 09:39:06,994 Evaluating as a multi-label problem: False\n",
      "2023-11-10 09:39:07,048 DEV : loss 0.3693319261074066 - f1-score (micro avg)  0.8262\n",
      "2023-11-10 09:39:07,068 ----------------------------------------------------------------------------------------------------\n"
     ]
    },
    {
     "output_type": "stream",
     "name": "stderr",
     "text": [
      "\n"
     ]
    },
    {
     "output_type": "stream",
     "name": "stdout",
     "text": [
      "2023-11-10 09:39:07,704 epoch 91 - iter 1/5 - loss 0.00007466 - time (sec): 0.63 - samples/sec: 7369.02 - lr: 0.000008\n",
      "2023-11-10 09:39:08,337 epoch 91 - iter 2/5 - loss 0.00005598 - time (sec): 1.27 - samples/sec: 7649.99 - lr: 0.000008\n",
      "2023-11-10 09:39:08,822 epoch 91 - iter 3/5 - loss 0.00044958 - time (sec): 1.75 - samples/sec: 7878.93 - lr: 0.000008\n",
      "2023-11-10 09:39:09,323 epoch 91 - iter 4/5 - loss 0.00035561 - time (sec): 2.25 - samples/sec: 8038.47 - lr: 0.000008\n",
      "2023-11-10 09:39:09,555 epoch 91 - iter 5/5 - loss 0.00033043 - time (sec): 2.48 - samples/sec: 7958.03 - lr: 0.000008\n",
      "2023-11-10 09:39:09,559 ----------------------------------------------------------------------------------------------------\n",
      "2023-11-10 09:39:09,561 EPOCH 91 done: loss 0.0003 - lr 0.000008\n"
     ]
    },
    {
     "output_type": "stream",
     "name": "stderr",
     "text": [
      "100%|██████████| 2/2 [00:03<00:00,  1.96s/it]"
     ]
    },
    {
     "output_type": "stream",
     "name": "stdout",
     "text": [
      "2023-11-10 09:39:13,498 Evaluating as a multi-label problem: False\n",
      "2023-11-10 09:39:13,524 DEV : loss 0.3647539019584656 - f1-score (micro avg)  0.8254\n",
      "2023-11-10 09:39:13,542 ----------------------------------------------------------------------------------------------------\n"
     ]
    },
    {
     "output_type": "stream",
     "name": "stderr",
     "text": [
      "\n"
     ]
    },
    {
     "output_type": "stream",
     "name": "stdout",
     "text": [
      "2023-11-10 09:39:13,945 epoch 92 - iter 1/5 - loss 0.00126746 - time (sec): 0.40 - samples/sec: 9399.91 - lr: 0.000008\n",
      "2023-11-10 09:39:14,412 epoch 92 - iter 2/5 - loss 0.00059856 - time (sec): 0.87 - samples/sec: 9576.59 - lr: 0.000008\n",
      "2023-11-10 09:39:14,883 epoch 92 - iter 3/5 - loss 0.00039729 - time (sec): 1.34 - samples/sec: 9934.41 - lr: 0.000008\n",
      "2023-11-10 09:39:15,300 epoch 92 - iter 4/5 - loss 0.00030563 - time (sec): 1.76 - samples/sec: 10264.49 - lr: 0.000008\n",
      "2023-11-10 09:39:15,489 epoch 92 - iter 5/5 - loss 0.00029667 - time (sec): 1.94 - samples/sec: 10168.08 - lr: 0.000007\n",
      "2023-11-10 09:39:15,497 ----------------------------------------------------------------------------------------------------\n",
      "2023-11-10 09:39:15,499 EPOCH 92 done: loss 0.0003 - lr 0.000007\n"
     ]
    },
    {
     "output_type": "stream",
     "name": "stderr",
     "text": [
      "100%|██████████| 2/2 [00:05<00:00,  2.66s/it]"
     ]
    },
    {
     "output_type": "stream",
     "name": "stdout",
     "text": [
      "2023-11-10 09:39:20,841 Evaluating as a multi-label problem: False\n",
      "2023-11-10 09:39:20,881 DEV : loss 0.36129945516586304 - f1-score (micro avg)  0.8301\n",
      "2023-11-10 09:39:20,905 ----------------------------------------------------------------------------------------------------\n"
     ]
    },
    {
     "output_type": "stream",
     "name": "stderr",
     "text": [
      "\n"
     ]
    },
    {
     "output_type": "stream",
     "name": "stdout",
     "text": [
      "2023-11-10 09:39:22,027 epoch 93 - iter 1/5 - loss 0.00005098 - time (sec): 1.12 - samples/sec: 3857.05 - lr: 0.000007\n",
      "2023-11-10 09:39:22,681 epoch 93 - iter 2/5 - loss 0.00005560 - time (sec): 1.77 - samples/sec: 5414.71 - lr: 0.000007\n",
      "2023-11-10 09:39:23,231 epoch 93 - iter 3/5 - loss 0.00006377 - time (sec): 2.32 - samples/sec: 6058.85 - lr: 0.000007\n",
      "2023-11-10 09:39:23,742 epoch 93 - iter 4/5 - loss 0.00005635 - time (sec): 2.83 - samples/sec: 6578.33 - lr: 0.000007\n",
      "2023-11-10 09:39:23,884 epoch 93 - iter 5/5 - loss 0.00005561 - time (sec): 2.97 - samples/sec: 6650.80 - lr: 0.000007\n",
      "2023-11-10 09:39:23,893 ----------------------------------------------------------------------------------------------------\n",
      "2023-11-10 09:39:23,895 EPOCH 93 done: loss 0.0001 - lr 0.000007\n"
     ]
    },
    {
     "output_type": "stream",
     "name": "stderr",
     "text": [
      "100%|██████████| 2/2 [00:02<00:00,  1.43s/it]"
     ]
    },
    {
     "output_type": "stream",
     "name": "stdout",
     "text": [
      "2023-11-10 09:39:26,772 Evaluating as a multi-label problem: False\n",
      "2023-11-10 09:39:26,795 DEV : loss 0.36124446988105774 - f1-score (micro avg)  0.8305\n",
      "2023-11-10 09:39:26,809 ----------------------------------------------------------------------------------------------------\n"
     ]
    },
    {
     "output_type": "stream",
     "name": "stderr",
     "text": [
      "\n"
     ]
    },
    {
     "output_type": "stream",
     "name": "stdout",
     "text": [
      "2023-11-10 09:39:27,265 epoch 94 - iter 1/5 - loss 0.00007891 - time (sec): 0.45 - samples/sec: 10069.97 - lr: 0.000007\n",
      "2023-11-10 09:39:27,752 epoch 94 - iter 2/5 - loss 0.00006104 - time (sec): 0.94 - samples/sec: 9654.80 - lr: 0.000007\n",
      "2023-11-10 09:39:28,178 epoch 94 - iter 3/5 - loss 0.00005445 - time (sec): 1.37 - samples/sec: 9959.66 - lr: 0.000007\n",
      "2023-11-10 09:39:28,625 epoch 94 - iter 4/5 - loss 0.00005268 - time (sec): 1.81 - samples/sec: 10055.56 - lr: 0.000006\n",
      "2023-11-10 09:39:28,794 epoch 94 - iter 5/5 - loss 0.00005236 - time (sec): 1.98 - samples/sec: 9972.45 - lr: 0.000006\n",
      "2023-11-10 09:39:28,796 ----------------------------------------------------------------------------------------------------\n",
      "2023-11-10 09:39:28,803 EPOCH 94 done: loss 0.0001 - lr 0.000006\n"
     ]
    },
    {
     "output_type": "stream",
     "name": "stderr",
     "text": [
      "100%|██████████| 2/2 [00:02<00:00,  1.33s/it]"
     ]
    },
    {
     "output_type": "stream",
     "name": "stdout",
     "text": [
      "2023-11-10 09:39:31,496 Evaluating as a multi-label problem: False\n",
      "2023-11-10 09:39:31,522 DEV : loss 0.36162203550338745 - f1-score (micro avg)  0.8302\n",
      "2023-11-10 09:39:31,536 ----------------------------------------------------------------------------------------------------\n"
     ]
    },
    {
     "output_type": "stream",
     "name": "stderr",
     "text": [
      "\n"
     ]
    },
    {
     "output_type": "stream",
     "name": "stdout",
     "text": [
      "2023-11-10 09:39:32,480 epoch 95 - iter 1/5 - loss 0.00004487 - time (sec): 0.94 - samples/sec: 4780.56 - lr: 0.000006\n",
      "2023-11-10 09:39:32,920 epoch 95 - iter 2/5 - loss 0.00003717 - time (sec): 1.38 - samples/sec: 6622.59 - lr: 0.000006\n",
      "2023-11-10 09:39:33,323 epoch 95 - iter 3/5 - loss 0.00003736 - time (sec): 1.79 - samples/sec: 7585.11 - lr: 0.000006\n",
      "2023-11-10 09:39:33,734 epoch 95 - iter 4/5 - loss 0.00004205 - time (sec): 2.20 - samples/sec: 8151.40 - lr: 0.000006\n",
      "2023-11-10 09:39:33,925 epoch 95 - iter 5/5 - loss 0.00004214 - time (sec): 2.39 - samples/sec: 8281.35 - lr: 0.000006\n",
      "2023-11-10 09:39:33,928 ----------------------------------------------------------------------------------------------------\n",
      "2023-11-10 09:39:33,933 EPOCH 95 done: loss 0.0000 - lr 0.000006\n"
     ]
    },
    {
     "output_type": "stream",
     "name": "stderr",
     "text": [
      "100%|██████████| 2/2 [00:05<00:00,  2.54s/it]"
     ]
    },
    {
     "output_type": "stream",
     "name": "stdout",
     "text": [
      "2023-11-10 09:39:39,023 Evaluating as a multi-label problem: False\n",
      "2023-11-10 09:39:39,069 DEV : loss 0.36441850662231445 - f1-score (micro avg)  0.8298\n",
      "2023-11-10 09:39:39,092 ----------------------------------------------------------------------------------------------------\n"
     ]
    },
    {
     "output_type": "stream",
     "name": "stderr",
     "text": [
      "\n"
     ]
    },
    {
     "output_type": "stream",
     "name": "stdout",
     "text": [
      "2023-11-10 09:39:39,664 epoch 96 - iter 1/5 - loss 0.00485053 - time (sec): 0.57 - samples/sec: 7308.79 - lr: 0.000006\n",
      "2023-11-10 09:39:40,233 epoch 96 - iter 2/5 - loss 0.00230056 - time (sec): 1.14 - samples/sec: 7783.02 - lr: 0.000006\n",
      "2023-11-10 09:39:40,776 epoch 96 - iter 3/5 - loss 0.00152344 - time (sec): 1.68 - samples/sec: 8076.58 - lr: 0.000006\n",
      "2023-11-10 09:39:41,445 epoch 96 - iter 4/5 - loss 0.00112357 - time (sec): 2.35 - samples/sec: 7911.35 - lr: 0.000005\n",
      "2023-11-10 09:39:41,611 epoch 96 - iter 5/5 - loss 0.00105847 - time (sec): 2.52 - samples/sec: 7858.64 - lr: 0.000005\n",
      "2023-11-10 09:39:41,617 ----------------------------------------------------------------------------------------------------\n",
      "2023-11-10 09:39:41,619 EPOCH 96 done: loss 0.0011 - lr 0.000005\n"
     ]
    },
    {
     "output_type": "stream",
     "name": "stderr",
     "text": [
      "100%|██████████| 2/2 [00:03<00:00,  1.69s/it]"
     ]
    },
    {
     "output_type": "stream",
     "name": "stdout",
     "text": [
      "2023-11-10 09:39:45,013 Evaluating as a multi-label problem: False\n",
      "2023-11-10 09:39:45,037 DEV : loss 0.3668171465396881 - f1-score (micro avg)  0.8311\n",
      "2023-11-10 09:39:45,051 ----------------------------------------------------------------------------------------------------\n"
     ]
    },
    {
     "output_type": "stream",
     "name": "stderr",
     "text": [
      "\n"
     ]
    },
    {
     "output_type": "stream",
     "name": "stdout",
     "text": [
      "2023-11-10 09:39:45,500 epoch 97 - iter 1/5 - loss 0.00004409 - time (sec): 0.45 - samples/sec: 9574.95 - lr: 0.000005\n",
      "2023-11-10 09:39:45,927 epoch 97 - iter 2/5 - loss 0.00003749 - time (sec): 0.87 - samples/sec: 10207.39 - lr: 0.000005\n",
      "2023-11-10 09:39:46,446 epoch 97 - iter 3/5 - loss 0.00033131 - time (sec): 1.39 - samples/sec: 10143.52 - lr: 0.000005\n",
      "2023-11-10 09:39:46,845 epoch 97 - iter 4/5 - loss 0.00026543 - time (sec): 1.79 - samples/sec: 10150.70 - lr: 0.000005\n",
      "2023-11-10 09:39:47,027 epoch 97 - iter 5/5 - loss 0.00024804 - time (sec): 1.97 - samples/sec: 10017.88 - lr: 0.000005\n",
      "2023-11-10 09:39:47,029 ----------------------------------------------------------------------------------------------------\n",
      "2023-11-10 09:39:47,036 EPOCH 97 done: loss 0.0002 - lr 0.000005\n"
     ]
    },
    {
     "output_type": "stream",
     "name": "stderr",
     "text": [
      "100%|██████████| 2/2 [00:03<00:00,  1.56s/it]"
     ]
    },
    {
     "output_type": "stream",
     "name": "stdout",
     "text": [
      "2023-11-10 09:39:50,168 Evaluating as a multi-label problem: False\n",
      "2023-11-10 09:39:50,195 DEV : loss 0.36791670322418213 - f1-score (micro avg)  0.8321\n",
      "2023-11-10 09:39:50,214 ----------------------------------------------------------------------------------------------------\n"
     ]
    },
    {
     "output_type": "stream",
     "name": "stderr",
     "text": [
      "\n"
     ]
    },
    {
     "output_type": "stream",
     "name": "stdout",
     "text": [
      "2023-11-10 09:39:51,067 epoch 98 - iter 1/5 - loss 0.00003939 - time (sec): 0.85 - samples/sec: 5180.07 - lr: 0.000005\n",
      "2023-11-10 09:39:51,483 epoch 98 - iter 2/5 - loss 0.00004042 - time (sec): 1.27 - samples/sec: 6356.59 - lr: 0.000005\n",
      "2023-11-10 09:39:51,910 epoch 98 - iter 3/5 - loss 0.00003820 - time (sec): 1.69 - samples/sec: 7422.48 - lr: 0.000004\n",
      "2023-11-10 09:39:52,339 epoch 98 - iter 4/5 - loss 0.00004013 - time (sec): 2.12 - samples/sec: 8125.25 - lr: 0.000004\n",
      "2023-11-10 09:39:52,573 epoch 98 - iter 5/5 - loss 0.00003740 - time (sec): 2.36 - samples/sec: 8387.78 - lr: 0.000004\n",
      "2023-11-10 09:39:52,576 ----------------------------------------------------------------------------------------------------\n",
      "2023-11-10 09:39:52,578 EPOCH 98 done: loss 0.0000 - lr 0.000004\n"
     ]
    },
    {
     "output_type": "stream",
     "name": "stderr",
     "text": [
      "100%|██████████| 2/2 [00:04<00:00,  2.44s/it]"
     ]
    },
    {
     "output_type": "stream",
     "name": "stdout",
     "text": [
      "2023-11-10 09:39:57,470 Evaluating as a multi-label problem: False\n",
      "2023-11-10 09:39:57,513 DEV : loss 0.36870133876800537 - f1-score (micro avg)  0.8311\n",
      "2023-11-10 09:39:57,531 ----------------------------------------------------------------------------------------------------\n"
     ]
    },
    {
     "output_type": "stream",
     "name": "stderr",
     "text": [
      "\n"
     ]
    },
    {
     "output_type": "stream",
     "name": "stdout",
     "text": [
      "2023-11-10 09:39:58,146 epoch 99 - iter 1/5 - loss 0.00004987 - time (sec): 0.61 - samples/sec: 7804.28 - lr: 0.000004\n",
      "2023-11-10 09:39:58,634 epoch 99 - iter 2/5 - loss 0.00004552 - time (sec): 1.10 - samples/sec: 8093.10 - lr: 0.000004\n",
      "2023-11-10 09:39:59,173 epoch 99 - iter 3/5 - loss 0.00008638 - time (sec): 1.64 - samples/sec: 8271.38 - lr: 0.000004\n",
      "2023-11-10 09:39:59,798 epoch 99 - iter 4/5 - loss 0.00007031 - time (sec): 2.26 - samples/sec: 8126.48 - lr: 0.000004\n",
      "2023-11-10 09:39:59,957 epoch 99 - iter 5/5 - loss 0.00006722 - time (sec): 2.42 - samples/sec: 8161.99 - lr: 0.000004\n",
      "2023-11-10 09:39:59,960 ----------------------------------------------------------------------------------------------------\n",
      "2023-11-10 09:39:59,964 EPOCH 99 done: loss 0.0001 - lr 0.000004\n"
     ]
    },
    {
     "output_type": "stream",
     "name": "stderr",
     "text": [
      "100%|██████████| 2/2 [00:03<00:00,  1.82s/it]"
     ]
    },
    {
     "output_type": "stream",
     "name": "stdout",
     "text": [
      "2023-11-10 09:40:03,624 Evaluating as a multi-label problem: False\n",
      "2023-11-10 09:40:03,654 DEV : loss 0.3692951500415802 - f1-score (micro avg)  0.8303\n",
      "2023-11-10 09:40:03,670 ----------------------------------------------------------------------------------------------------\n"
     ]
    },
    {
     "output_type": "stream",
     "name": "stderr",
     "text": [
      "\n"
     ]
    },
    {
     "output_type": "stream",
     "name": "stdout",
     "text": [
      "2023-11-10 09:40:04,619 epoch 100 - iter 1/5 - loss 0.00009949 - time (sec): 0.95 - samples/sec: 5421.33 - lr: 0.000004\n",
      "2023-11-10 09:40:05,006 epoch 100 - iter 2/5 - loss 0.00007758 - time (sec): 1.33 - samples/sec: 6870.86 - lr: 0.000004\n",
      "2023-11-10 09:40:05,473 epoch 100 - iter 3/5 - loss 0.00006179 - time (sec): 1.80 - samples/sec: 7879.80 - lr: 0.000003\n",
      "2023-11-10 09:40:05,908 epoch 100 - iter 4/5 - loss 0.00005870 - time (sec): 2.24 - samples/sec: 8091.13 - lr: 0.000003\n",
      "2023-11-10 09:40:06,050 epoch 100 - iter 5/5 - loss 0.00005733 - time (sec): 2.38 - samples/sec: 8313.83 - lr: 0.000003\n",
      "2023-11-10 09:40:06,052 ----------------------------------------------------------------------------------------------------\n",
      "2023-11-10 09:40:06,054 EPOCH 100 done: loss 0.0001 - lr 0.000003\n"
     ]
    },
    {
     "output_type": "stream",
     "name": "stderr",
     "text": [
      "100%|██████████| 2/2 [00:02<00:00,  1.34s/it]"
     ]
    },
    {
     "output_type": "stream",
     "name": "stdout",
     "text": [
      "2023-11-10 09:40:08,748 Evaluating as a multi-label problem: False\n",
      "2023-11-10 09:40:08,772 DEV : loss 0.3713493049144745 - f1-score (micro avg)  0.8282\n"
     ]
    },
    {
     "output_type": "stream",
     "name": "stderr",
     "text": [
      "\n"
     ]
    },
    {
     "output_type": "stream",
     "name": "stdout",
     "text": [
      "2023-11-10 09:40:09,426 ----------------------------------------------------------------------------------------------------\n",
      "2023-11-10 09:40:09,430 Testing using last state of model ...\n"
     ]
    },
    {
     "output_type": "stream",
     "name": "stderr",
     "text": [
      "100%|██████████| 3/3 [00:01<00:00,  1.95it/s]\n"
     ]
    },
    {
     "output_type": "stream",
     "name": "stdout",
     "text": [
      "2023-11-10 09:40:10,984 Evaluating as a multi-label problem: False\n",
      "2023-11-10 09:40:11,016 0.7869\t0.8692\t0.826\t0.7042\n",
      "2023-11-10 09:40:11,017 \n",
      "Results:\n",
      "- F-score (micro) 0.826\n",
      "- F-score (macro) 0.7454\n",
      "- Accuracy 0.7042\n",
      "\n",
      "By class:\n",
      "              precision    recall  f1-score   support\n",
      "\n",
      "      Winner     0.7172    0.8087    0.7602       345\n",
      "        Date     0.9614    0.9881    0.9746       252\n",
      " Nationality     0.8201    0.8807    0.8493       176\n",
      "   Prizetype     0.7347    0.8780    0.8000        41\n",
      "      Reason     0.2791    0.4444    0.3429        27\n",
      "\n",
      "   micro avg     0.7869    0.8692    0.8260       841\n",
      "   macro avg     0.7025    0.8000    0.7454       841\n",
      "weighted avg     0.7987    0.8692    0.8316       841\n",
      "\n",
      "2023-11-10 09:40:11,026 ----------------------------------------------------------------------------------------------------\n"
     ]
    },
    {
     "output_type": "execute_result",
     "data": {
      "text/plain": [
       "{'test_score': 0.8259887005649718,\n",
       " 'dev_score_history': [0.006514657980456026,\n",
       "  0.00198609731876862,\n",
       "  0.0,\n",
       "  0.0,\n",
       "  0.0,\n",
       "  0.0,\n",
       "  0.0,\n",
       "  0.1009771986970684,\n",
       "  0.486039296794209,\n",
       "  0.5283381364073005,\n",
       "  0.6701298701298701,\n",
       "  0.745067087608524,\n",
       "  0.7431972789115646,\n",
       "  0.7036688617121355,\n",
       "  0.7839357429718877,\n",
       "  0.7677806341045417,\n",
       "  0.785063752276867,\n",
       "  0.7657316148597422,\n",
       "  0.76171875,\n",
       "  0.7946074544012688,\n",
       "  0.7862318840579711,\n",
       "  0.8137009189640769,\n",
       "  0.8099742046431642,\n",
       "  0.8216398985629755,\n",
       "  0.8148148148148148,\n",
       "  0.8064777327935222,\n",
       "  0.8257510729613733,\n",
       "  0.8042588042588042,\n",
       "  0.8181818181818181,\n",
       "  0.8160535117056856,\n",
       "  0.8151986183074266,\n",
       "  0.8195364238410596,\n",
       "  0.8120805369127518,\n",
       "  0.8206839032527106,\n",
       "  0.8230313293818797,\n",
       "  0.8130360205831904,\n",
       "  0.840677966101695,\n",
       "  0.8309012875536481,\n",
       "  0.8301255230125523,\n",
       "  0.8053797468354431,\n",
       "  0.8214285714285714,\n",
       "  0.8246913580246914,\n",
       "  0.831918505942275,\n",
       "  0.8268733850129198,\n",
       "  0.8162926018287614,\n",
       "  0.8203842940685045,\n",
       "  0.8032128514056226,\n",
       "  0.8086580086580086,\n",
       "  0.8161209068010077,\n",
       "  0.8221670802315963,\n",
       "  0.8233333333333333,\n",
       "  0.8219178082191781,\n",
       "  0.8163265306122449,\n",
       "  0.8044338875692796,\n",
       "  0.830155979202773,\n",
       "  0.828300258843831,\n",
       "  0.8247248094834886,\n",
       "  0.8087719298245614,\n",
       "  0.809106830122592,\n",
       "  0.8241291418861512,\n",
       "  0.8293515358361776,\n",
       "  0.8274706867671692,\n",
       "  0.8351648351648353,\n",
       "  0.8347386172006745,\n",
       "  0.8307692307692308,\n",
       "  0.832330180567498,\n",
       "  0.8306922435362804,\n",
       "  0.8362720403022671,\n",
       "  0.8366124893071001,\n",
       "  0.8247787610619468,\n",
       "  0.8234265734265733,\n",
       "  0.8225399495374265,\n",
       "  0.8233305156382079,\n",
       "  0.8258283772302464,\n",
       "  0.8316498316498316,\n",
       "  0.8284518828451882,\n",
       "  0.8247248094834886,\n",
       "  0.826388888888889,\n",
       "  0.825065274151436,\n",
       "  0.8237288135593221,\n",
       "  0.8271298593879239,\n",
       "  0.8275290215588723,\n",
       "  0.8344481605351171,\n",
       "  0.8300597779675492,\n",
       "  0.8268059181897303,\n",
       "  0.828125,\n",
       "  0.8277634961439588,\n",
       "  0.8302207130730052,\n",
       "  0.8289806234203876,\n",
       "  0.8261964735516372,\n",
       "  0.8254237288135593,\n",
       "  0.8300597779675492,\n",
       "  0.8304794520547946,\n",
       "  0.8301886792452831,\n",
       "  0.8297690333618477,\n",
       "  0.8310580204778157,\n",
       "  0.8320545609548168,\n",
       "  0.8310580204778157,\n",
       "  0.8303495311167945,\n",
       "  0.8282312925170068],\n",
       " 'train_loss_history': [2.339475921664812,\n",
       "  2.1733845505975333,\n",
       "  1.7897525732179882,\n",
       "  1.1317783408571547,\n",
       "  0.7620400565452109,\n",
       "  0.7239860966025463,\n",
       "  0.6434824169857672,\n",
       "  0.5454333770187099,\n",
       "  0.4534533811167758,\n",
       "  0.3490875759608972,\n",
       "  0.27109707461650634,\n",
       "  0.20035848909819634,\n",
       "  0.1471087792482296,\n",
       "  0.1273306395873221,\n",
       "  0.0996953301185229,\n",
       "  0.07277928303452055,\n",
       "  0.0628937267613288,\n",
       "  0.05521703260762633,\n",
       "  0.04748856359392878,\n",
       "  0.04514154698690293,\n",
       "  0.032869521486659115,\n",
       "  0.025101010691134528,\n",
       "  0.021100803852515358,\n",
       "  0.014593566212770345,\n",
       "  0.012768985697747337,\n",
       "  0.009856604295130434,\n",
       "  0.009345405876087903,\n",
       "  0.008196777673827224,\n",
       "  0.007419036036858222,\n",
       "  0.009610926524999832,\n",
       "  0.0060263766646324905,\n",
       "  0.008781697398745472,\n",
       "  0.007161751475410851,\n",
       "  0.0054344825150451324,\n",
       "  0.005204722000419931,\n",
       "  0.004612803567682055,\n",
       "  0.00596328472312232,\n",
       "  0.004389587084805988,\n",
       "  0.004464613242278124,\n",
       "  0.005050726121123283,\n",
       "  0.0037596037405451376,\n",
       "  0.0037093304268713606,\n",
       "  0.0037206082321387685,\n",
       "  0.0021856302220068773,\n",
       "  0.0024544694516033497,\n",
       "  0.0026743147242258543,\n",
       "  0.002275160648613713,\n",
       "  0.0031220289939115657,\n",
       "  0.0034554108873324674,\n",
       "  0.0022629730089183185,\n",
       "  0.002249237619806882,\n",
       "  0.0018015214752304526,\n",
       "  0.0030260443253380663,\n",
       "  0.0029008365369511046,\n",
       "  0.00211705644969645,\n",
       "  0.0017749021204511183,\n",
       "  0.0018857549859019253,\n",
       "  0.0007452242226358057,\n",
       "  0.0008956031513802502,\n",
       "  0.0010332415466109892,\n",
       "  0.0018864340761427186,\n",
       "  0.0005798140116645579,\n",
       "  0.0003673393202826337,\n",
       "  0.0006571704638767522,\n",
       "  0.0012638874633061196,\n",
       "  0.0008400958677605163,\n",
       "  0.0002119388155125988,\n",
       "  0.0006053678648433491,\n",
       "  0.0002149321546542026,\n",
       "  0.00020760447246560292,\n",
       "  0.0007532530826794989,\n",
       "  0.000153446387108843,\n",
       "  0.0007674050630133663,\n",
       "  0.0004598921095353112,\n",
       "  0.0006958448347011326,\n",
       "  0.00010302241526516212,\n",
       "  0.0001466301209260808,\n",
       "  9.417572005327761e-05,\n",
       "  0.0004927317040193499,\n",
       "  0.0010244598335439447,\n",
       "  7.643061169595825e-05,\n",
       "  0.00031403685501989805,\n",
       "  6.196402518949627e-05,\n",
       "  6.591224662572993e-05,\n",
       "  5.8296069019036355e-05,\n",
       "  0.00029256810838548965,\n",
       "  5.575568930762981e-05,\n",
       "  7.362286827284995e-05,\n",
       "  0.0002028360368298293,\n",
       "  0.0002162493622175203,\n",
       "  0.0003304263663337748,\n",
       "  0.0002966655882289632,\n",
       "  5.5605019645730945e-05,\n",
       "  5.235828031986708e-05,\n",
       "  4.213533393531522e-05,\n",
       "  0.0010584715169397515,\n",
       "  0.000248044097361459,\n",
       "  3.740377441580645e-05,\n",
       "  6.721978094359073e-05,\n",
       "  5.7333396282188326e-05],\n",
       " 'dev_loss_history': [2.1376683712005615,\n",
       "  1.7962977886199951,\n",
       "  1.1916927099227905,\n",
       "  0.6016022562980652,\n",
       "  0.5848215818405151,\n",
       "  0.5181533694267273,\n",
       "  0.4307210445404053,\n",
       "  0.3580443859100342,\n",
       "  0.28441640734672546,\n",
       "  0.2320910096168518,\n",
       "  0.19074136018753052,\n",
       "  0.17646218836307526,\n",
       "  0.17710456252098083,\n",
       "  0.1765315979719162,\n",
       "  0.16494159400463104,\n",
       "  0.16854926943778992,\n",
       "  0.16509544849395752,\n",
       "  0.19798114895820618,\n",
       "  0.1794450283050537,\n",
       "  0.18923097848892212,\n",
       "  0.1761743575334549,\n",
       "  0.17062877118587494,\n",
       "  0.16933304071426392,\n",
       "  0.17919783294200897,\n",
       "  0.19227828085422516,\n",
       "  0.23386844992637634,\n",
       "  0.21146902441978455,\n",
       "  0.23437540233135223,\n",
       "  0.22507324814796448,\n",
       "  0.23248973488807678,\n",
       "  0.23838719725608826,\n",
       "  0.24439847469329834,\n",
       "  0.23816995322704315,\n",
       "  0.23307180404663086,\n",
       "  0.23208202421665192,\n",
       "  0.23133261501789093,\n",
       "  0.23008503019809723,\n",
       "  0.2320011556148529,\n",
       "  0.2340705245733261,\n",
       "  0.2646377384662628,\n",
       "  0.21295569837093353,\n",
       "  0.2513829171657562,\n",
       "  0.2527458369731903,\n",
       "  0.24926047027111053,\n",
       "  0.2574838101863861,\n",
       "  0.2594267427921295,\n",
       "  0.3106972873210907,\n",
       "  0.2629760205745697,\n",
       "  0.2738499045372009,\n",
       "  0.2940373420715332,\n",
       "  0.2952629625797272,\n",
       "  0.2680259943008423,\n",
       "  0.3009181022644043,\n",
       "  0.32182809710502625,\n",
       "  0.26214173436164856,\n",
       "  0.26014262437820435,\n",
       "  0.2573532462120056,\n",
       "  0.2520274221897125,\n",
       "  0.26280874013900757,\n",
       "  0.27908387780189514,\n",
       "  0.28059425950050354,\n",
       "  0.2901126742362976,\n",
       "  0.2878546714782715,\n",
       "  0.29582661390304565,\n",
       "  0.2890584170818329,\n",
       "  0.2896568477153778,\n",
       "  0.32629287242889404,\n",
       "  0.33137017488479614,\n",
       "  0.31606540083885193,\n",
       "  0.30900073051452637,\n",
       "  0.31458720564842224,\n",
       "  0.3329286277294159,\n",
       "  0.3323475122451782,\n",
       "  0.3299107551574707,\n",
       "  0.341106653213501,\n",
       "  0.34898731112480164,\n",
       "  0.3459241986274719,\n",
       "  0.33726850152015686,\n",
       "  0.3377552926540375,\n",
       "  0.3464910686016083,\n",
       "  0.3665333092212677,\n",
       "  0.3722875416278839,\n",
       "  0.3640052080154419,\n",
       "  0.3447619378566742,\n",
       "  0.33931925892829895,\n",
       "  0.3432070314884186,\n",
       "  0.35176706314086914,\n",
       "  0.3587762713432312,\n",
       "  0.36595892906188965,\n",
       "  0.3693319261074066,\n",
       "  0.3647539019584656,\n",
       "  0.36129945516586304,\n",
       "  0.36124446988105774,\n",
       "  0.36162203550338745,\n",
       "  0.36441850662231445,\n",
       "  0.3668171465396881,\n",
       "  0.36791670322418213,\n",
       "  0.36870133876800537,\n",
       "  0.3692951500415802,\n",
       "  0.3713493049144745]}"
      ]
     },
     "metadata": {},
     "execution_count": 12
    }
   ],
   "source": [
    "# The model trainer in flair makes finetuning very easy\n",
    "trainer : ModelTrainer = ModelTrainer(tagger, corpus)\n",
    "\n",
    "# Note this is set for a decent graphics card (like a v100 on Colab)\n",
    "trainer.fine_tune(\n",
    "        'data/comp1/ner',\n",
    "        learning_rate=5e-05,\n",
    "        mini_batch_size=16,\n",
    "        max_epochs=100,\n",
    "        embeddings_storage_mode='gpu', # cpu, gpu\n",
    "        weight_decay=0.0,\n",
    "    )\n"
   ]
  },
  {
   "cell_type": "code",
   "execution_count": null,
   "metadata": {
    "colab": {
     "base_uri": "https://localhost:8080/"
    },
    "id": "W0lI19utv81D",
    "outputId": "50c363ed-2c8b-470b-c84e-778b0c08be0e"
   },
   "outputs": [
    {
     "output_type": "stream",
     "name": "stdout",
     "text": [
      "2023-11-10 09:40:12,646 SequenceTagger predicts: Dictionary with 11 tags: O, B-Winner, I-Winner, B-Date, I-Date, B-Nationality, I-Nationality, B-Prizetype, I-Prizetype, B-Reason, I-Reason\n",
      "Sentence[79]: \"Barack Hussein Obama II ( born August 4, 1961) is an American politician who served as the 44th president of the United States from 2009 to 2017. A member of the Democratic Party, he was the first African-American president. Obama previously served as a U.S. senator representing Illinois from 2005 to 2008 and as an Illinois state senator from 1997 to 2004, and worked as a civil rights lawyer and university lecturer.\" → [\"Barack Hussein Obama II\"/Winner, \"August 4, 1961\"/Date, \"American\"/Nationality, \"the United States\"/Nationality, \"he\"/Winner, \"Obama\"/Winner, \"U.S.\"/Nationality]\n"
     ]
    }
   ],
   "source": [
    "# Sanity check on the model output\n",
    "\n",
    "# load the trained model\n",
    "model = SequenceTagger.load(\"data/comp1/ner/final-model.pt\")\n",
    "\n",
    "# create example sentence\n",
    "sentence = Sentence('Barack Hussein Obama II ( born August 4, 1961) is an American politician who served as the 44th president of the United States from 2009 to 2017. A member of the Democratic Party, he was the first African-American president. Obama previously served as a U.S. senator representing Illinois from 2005 to 2008 and as an Illinois state senator from 1997 to 2004, and worked as a civil rights lawyer and university lecturer. ')\n",
    "\n",
    "# predict the tags\n",
    "model.predict(sentence)\n",
    "print(sentence.to_tagged_string())"
   ]
  },
  {
   "cell_type": "code",
   "execution_count": null,
   "metadata": {
    "id": "xxSNs7A6U3DR"
   },
   "outputs": [],
   "source": [
    "# The corpus from before also contains the relations, for example:\n",
    "# relations = 1;5;7;9;born_on|1;5;11;13;died_on|1;5;17;17;has_nationality\n",
    "# using indices per word to denote spans for each relation.\n",
    "# Theoretically, this would allow for subspan relations, but this is not utilised here as we picked BIO, which has no nesting\n",
    "relation_dictionary = corpus.make_label_dictionary(\"relation\")\n",
    "\n",
    "# The relation classifier works with document embeddings instead of word embeddings.\n",
    "# This essentially encodes the whole document at once, but accounts for maximum sequence length\n",
    "doc_embeddings = TransformerDocumentEmbeddings(model=\"distilbert-base-uncased\", layers=\"-1\", fine_tune=True)\n",
    "\n",
    "# Flair has 2 RE models (RelationExtractor and RelationClassifier)\n",
    "# The one we use (RelationClassifier) has significantly more performance\n",
    "relation_model: RelationClassifier = RelationClassifier(\n",
    "    embeddings =doc_embeddings,\n",
    "    label_dictionary = relation_dictionary,\n",
    "    label_type=\"relation\",\n",
    "    entity_label_types=\"ner\",\n",
    "    entity_pair_labels={  # Define valid entity pair combinations, used as relation candidates\n",
    "        (\"Winner\", \"Nationality\"),\n",
    "        (\"Winner\", \"Date\"),\n",
    "        (\"Winner\", \"Prizetype\"),\n",
    "        (\"Winner\", \"Reason\"),\n",
    "    },\n",
    "    zero_tag_value='',\n",
    "    allow_unk_tag=False,\n",
    ")"
   ]
  },
  {
   "cell_type": "code",
   "execution_count": null,
   "metadata": {
    "id": "08vVbBSvWISX"
   },
   "outputs": [],
   "source": [
    "trainer: ModelTrainer = ModelTrainer(model=relation_model, corpus=relation_model.transform_corpus(corpus))"
   ]
  },
  {
   "cell_type": "code",
   "execution_count": null,
   "metadata": {
    "colab": {
     "base_uri": "https://localhost:8080/"
    },
    "id": "w_yonsLdYKZm",
    "outputId": "2035f01b-28ac-4199-e4b8-e46cd7130749"
   },
   "outputs": [
    {
     "metadata": {
      "tags": null
     },
     "name": "stdout",
     "output_type": "stream",
     "text": [
      "2023-11-10 09:41:21,154 ----------------------------------------------------------------------------------------------------\n",
      "2023-11-10 09:41:21,156 Model: \"RelationClassifier(\n",
      "  (embeddings): TransformerDocumentEmbeddings(\n",
      "    (model): DistilBertModel(\n",
      "      (embeddings): Embeddings(\n",
      "        (word_embeddings): Embedding(30523, 768)\n",
      "        (position_embeddings): Embedding(512, 768)\n",
      "        (LayerNorm): LayerNorm((768,), eps=1e-12, elementwise_affine=True)\n",
      "        (dropout): Dropout(p=0.1, inplace=False)\n",
      "      )\n",
      "      (transformer): Transformer(\n",
      "        (layer): ModuleList(\n",
      "          (0-5): 6 x TransformerBlock(\n",
      "            (attention): MultiHeadSelfAttention(\n",
      "              (dropout): Dropout(p=0.1, inplace=False)\n",
      "              (q_lin): Linear(in_features=768, out_features=768, bias=True)\n",
      "              (k_lin): Linear(in_features=768, out_features=768, bias=True)\n",
      "              (v_lin): Linear(in_features=768, out_features=768, bias=True)\n",
      "              (out_lin): Linear(in_features=768, out_features=768, bias=True)\n",
      "            )\n",
      "            (sa_layer_norm): LayerNorm((768,), eps=1e-12, elementwise_affine=True)\n",
      "            (ffn): FFN(\n",
      "              (dropout): Dropout(p=0.1, inplace=False)\n",
      "              (lin1): Linear(in_features=768, out_features=3072, bias=True)\n",
      "              (lin2): Linear(in_features=3072, out_features=768, bias=True)\n",
      "              (activation): GELUActivation()\n",
      "            )\n",
      "            (output_layer_norm): LayerNorm((768,), eps=1e-12, elementwise_affine=True)\n",
      "          )\n",
      "        )\n",
      "      )\n",
      "    )\n",
      "  )\n",
      "  (decoder): Linear(in_features=768, out_features=7, bias=True)\n",
      "  (dropout): Dropout(p=0.0, inplace=False)\n",
      "  (locked_dropout): LockedDropout(p=0.0)\n",
      "  (word_dropout): WordDropout(p=0.0)\n",
      "  (loss_function): CrossEntropyLoss()\n",
      "  (weights): None\n",
      "  (weight_tensor) None\n",
      ")\"\n",
      "2023-11-10 09:41:21,158 ----------------------------------------------------------------------------------------------------\n",
      "2023-11-10 09:41:21,161 Corpus: \"Corpus: 8187 train + 3123 dev + 4963 test sentences\"\n",
      "2023-11-10 09:41:21,165 ----------------------------------------------------------------------------------------------------\n",
      "2023-11-10 09:41:21,166 Parameters:\n",
      "2023-11-10 09:41:21,167  - learning_rate: \"0.000040\"\n",
      "2023-11-10 09:41:21,168  - mini_batch_size: \"8\"\n",
      "2023-11-10 09:41:21,170  - patience: \"3\"\n",
      "2023-11-10 09:41:21,171  - anneal_factor: \"0.5\"\n",
      "2023-11-10 09:41:21,172  - max_epochs: \"20\"\n",
      "2023-11-10 09:41:21,173  - shuffle: \"True\"\n",
      "2023-11-10 09:41:21,174  - train_with_dev: \"False\"\n",
      "2023-11-10 09:41:21,175  - batch_growth_annealing: \"False\"\n",
      "2023-11-10 09:41:21,176 ----------------------------------------------------------------------------------------------------\n",
      "2023-11-10 09:41:21,178 Model training base path: \"data/comp1/relations\"\n",
      "2023-11-10 09:41:21,179 ----------------------------------------------------------------------------------------------------\n",
      "2023-11-10 09:41:21,180 Device: cuda:0\n",
      "2023-11-10 09:41:21,181 ----------------------------------------------------------------------------------------------------\n",
      "2023-11-10 09:41:21,182 Embeddings storage mode: gpu\n",
      "2023-11-10 09:41:21,183 ----------------------------------------------------------------------------------------------------\n",
      "2023-11-10 09:41:31,834 epoch 1 - iter 102/1024 - loss 0.87107917 - time (sec): 10.65 - samples/sec: 76.62 - lr: 0.000002\n",
      "2023-11-10 09:41:41,170 epoch 1 - iter 204/1024 - loss 0.67183144 - time (sec): 19.99 - samples/sec: 81.66 - lr: 0.000004\n",
      "2023-11-10 09:41:53,389 epoch 1 - iter 306/1024 - loss 0.64255146 - time (sec): 32.20 - samples/sec: 76.01 - lr: 0.000006\n",
      "2023-11-10 09:42:08,184 epoch 1 - iter 408/1024 - loss 0.57402995 - time (sec): 47.00 - samples/sec: 69.45 - lr: 0.000008\n",
      "2023-11-10 09:42:20,244 epoch 1 - iter 510/1024 - loss 0.54094959 - time (sec): 59.06 - samples/sec: 69.08 - lr: 0.000010\n",
      "2023-11-10 09:42:34,512 epoch 1 - iter 612/1024 - loss 0.50875167 - time (sec): 73.33 - samples/sec: 66.77 - lr: 0.000012\n",
      "2023-11-10 09:42:47,448 epoch 1 - iter 714/1024 - loss 0.49602324 - time (sec): 86.26 - samples/sec: 66.22 - lr: 0.000014\n",
      "2023-11-10 09:42:59,904 epoch 1 - iter 816/1024 - loss 0.46971356 - time (sec): 98.72 - samples/sec: 66.13 - lr: 0.000016\n",
      "2023-11-10 09:43:13,421 epoch 1 - iter 918/1024 - loss 0.46426007 - time (sec): 112.24 - samples/sec: 65.43 - lr: 0.000018\n",
      "2023-11-10 09:43:29,835 epoch 1 - iter 1020/1024 - loss 0.44261019 - time (sec): 128.65 - samples/sec: 63.43 - lr: 0.000020\n",
      "2023-11-10 09:43:30,251 ----------------------------------------------------------------------------------------------------\n",
      "2023-11-10 09:43:30,254 EPOCH 1 done: loss 0.4421 - lr 0.000020\n"
     ]
    },
    {
     "metadata": {
      "tags": null
     },
     "name": "stderr",
     "output_type": "stream",
     "text": [
      "100%|██████████| 391/391 [00:33<00:00, 11.63it/s]"
     ]
    },
    {
     "metadata": {
      "tags": null
     },
     "name": "stdout",
     "output_type": "stream",
     "text": [
      "2023-11-10 09:44:03,927 Evaluating as a multi-label problem: False\n"
     ]
    },
    {
     "metadata": {
      "tags": null
     },
     "name": "stderr",
     "output_type": "stream",
     "text": [
      "\n"
     ]
    },
    {
     "metadata": {
      "tags": null
     },
     "name": "stdout",
     "output_type": "stream",
     "text": [
      "2023-11-10 09:44:03,966 DEV : loss 0.20799756050109863 - f1-score (macro avg)  0.3032\n",
      "2023-11-10 09:44:04,435 ----------------------------------------------------------------------------------------------------\n",
      "2023-11-10 09:44:20,205 epoch 2 - iter 102/1024 - loss 0.27005642 - time (sec): 15.77 - samples/sec: 51.75 - lr: 0.000022\n",
      "2023-11-10 09:44:35,870 epoch 2 - iter 204/1024 - loss 0.26886919 - time (sec): 31.43 - samples/sec: 51.92 - lr: 0.000024\n",
      "2023-11-10 09:44:51,468 epoch 2 - iter 306/1024 - loss 0.24865627 - time (sec): 47.03 - samples/sec: 52.05 - lr: 0.000026\n",
      "2023-11-10 09:45:07,257 epoch 2 - iter 408/1024 - loss 0.24875280 - time (sec): 62.82 - samples/sec: 51.96 - lr: 0.000028\n",
      "2023-11-10 09:45:23,194 epoch 2 - iter 510/1024 - loss 0.22617923 - time (sec): 78.76 - samples/sec: 51.80 - lr: 0.000030\n",
      "2023-11-10 09:45:39,162 epoch 2 - iter 612/1024 - loss 0.21229374 - time (sec): 94.73 - samples/sec: 51.69 - lr: 0.000032\n",
      "2023-11-10 09:45:55,007 epoch 2 - iter 714/1024 - loss 0.20992140 - time (sec): 110.57 - samples/sec: 51.66 - lr: 0.000034\n",
      "2023-11-10 09:46:10,683 epoch 2 - iter 816/1024 - loss 0.20217933 - time (sec): 126.25 - samples/sec: 51.71 - lr: 0.000036\n",
      "2023-11-10 09:46:26,143 epoch 2 - iter 918/1024 - loss 0.19938798 - time (sec): 141.71 - samples/sec: 51.83 - lr: 0.000038\n",
      "2023-11-10 09:46:41,777 epoch 2 - iter 1020/1024 - loss 0.19520958 - time (sec): 157.34 - samples/sec: 51.86 - lr: 0.000040\n",
      "2023-11-10 09:46:42,365 ----------------------------------------------------------------------------------------------------\n",
      "2023-11-10 09:46:42,371 EPOCH 2 done: loss 0.1955 - lr 0.000040\n"
     ]
    },
    {
     "metadata": {
      "tags": null
     },
     "name": "stderr",
     "output_type": "stream",
     "text": [
      "100%|██████████| 391/391 [00:32<00:00, 12.15it/s]\n"
     ]
    },
    {
     "metadata": {
      "tags": null
     },
     "name": "stdout",
     "output_type": "stream",
     "text": [
      "2023-11-10 09:47:14,610 Evaluating as a multi-label problem: False\n",
      "2023-11-10 09:47:14,643 DEV : loss 0.19273926317691803 - f1-score (macro avg)  0.4577\n",
      "2023-11-10 09:47:15,136 ----------------------------------------------------------------------------------------------------\n",
      "2023-11-10 09:47:31,022 epoch 3 - iter 102/1024 - loss 0.09492288 - time (sec): 15.88 - samples/sec: 51.37 - lr: 0.000040\n",
      "2023-11-10 09:47:47,021 epoch 3 - iter 204/1024 - loss 0.10313889 - time (sec): 31.88 - samples/sec: 51.19 - lr: 0.000040\n",
      "2023-11-10 09:48:04,154 epoch 3 - iter 306/1024 - loss 0.12507308 - time (sec): 49.02 - samples/sec: 49.94 - lr: 0.000039\n",
      "2023-11-10 09:48:19,785 epoch 3 - iter 408/1024 - loss 0.13098473 - time (sec): 64.65 - samples/sec: 50.49 - lr: 0.000039\n",
      "2023-11-10 09:48:35,184 epoch 3 - iter 510/1024 - loss 0.12711679 - time (sec): 80.05 - samples/sec: 50.97 - lr: 0.000039\n",
      "2023-11-10 09:48:50,665 epoch 3 - iter 612/1024 - loss 0.12706760 - time (sec): 95.53 - samples/sec: 51.25 - lr: 0.000039\n",
      "2023-11-10 09:49:06,490 epoch 3 - iter 714/1024 - loss 0.12038140 - time (sec): 111.35 - samples/sec: 51.30 - lr: 0.000038\n",
      "2023-11-10 09:49:22,499 epoch 3 - iter 816/1024 - loss 0.11967430 - time (sec): 127.36 - samples/sec: 51.26 - lr: 0.000038\n",
      "2023-11-10 09:49:38,426 epoch 3 - iter 918/1024 - loss 0.11754401 - time (sec): 143.29 - samples/sec: 51.25 - lr: 0.000038\n",
      "2023-11-10 09:49:54,328 epoch 3 - iter 1020/1024 - loss 0.11675961 - time (sec): 159.19 - samples/sec: 51.26 - lr: 0.000038\n",
      "2023-11-10 09:49:54,877 ----------------------------------------------------------------------------------------------------\n",
      "2023-11-10 09:49:54,880 EPOCH 3 done: loss 0.1186 - lr 0.000038\n"
     ]
    },
    {
     "metadata": {
      "tags": null
     },
     "name": "stderr",
     "output_type": "stream",
     "text": [
      "100%|██████████| 391/391 [00:30<00:00, 12.86it/s]"
     ]
    },
    {
     "metadata": {
      "tags": null
     },
     "name": "stdout",
     "output_type": "stream",
     "text": [
      "2023-11-10 09:50:25,351 Evaluating as a multi-label problem: False\n",
      "2023-11-10 09:50:25,416 DEV : loss 0.12733331322669983 - f1-score (macro avg)  0.711\n"
     ]
    },
    {
     "metadata": {
      "tags": null
     },
     "name": "stderr",
     "output_type": "stream",
     "text": [
      "\n"
     ]
    },
    {
     "metadata": {
      "tags": null
     },
     "name": "stdout",
     "output_type": "stream",
     "text": [
      "2023-11-10 09:50:26,312 ----------------------------------------------------------------------------------------------------\n",
      "2023-11-10 09:50:41,950 epoch 4 - iter 102/1024 - loss 0.06079583 - time (sec): 15.64 - samples/sec: 52.19 - lr: 0.000038\n",
      "2023-11-10 09:50:57,886 epoch 4 - iter 204/1024 - loss 0.07016651 - time (sec): 31.57 - samples/sec: 51.69 - lr: 0.000037\n",
      "2023-11-10 09:51:13,805 epoch 4 - iter 306/1024 - loss 0.06991813 - time (sec): 47.49 - samples/sec: 51.55 - lr: 0.000037\n",
      "2023-11-10 09:51:29,877 epoch 4 - iter 408/1024 - loss 0.07369545 - time (sec): 63.56 - samples/sec: 51.35 - lr: 0.000037\n",
      "2023-11-10 09:51:45,891 epoch 4 - iter 510/1024 - loss 0.06212741 - time (sec): 79.58 - samples/sec: 51.27 - lr: 0.000037\n",
      "2023-11-10 09:52:01,650 epoch 4 - iter 612/1024 - loss 0.07309316 - time (sec): 95.34 - samples/sec: 51.36 - lr: 0.000036\n",
      "2023-11-10 09:52:17,490 epoch 4 - iter 714/1024 - loss 0.07335053 - time (sec): 111.18 - samples/sec: 51.38 - lr: 0.000036\n",
      "2023-11-10 09:52:34,068 epoch 4 - iter 816/1024 - loss 0.07564868 - time (sec): 127.75 - samples/sec: 51.10 - lr: 0.000036\n",
      "2023-11-10 09:52:49,984 epoch 4 - iter 918/1024 - loss 0.07311304 - time (sec): 143.67 - samples/sec: 51.12 - lr: 0.000036\n",
      "2023-11-10 09:53:05,885 epoch 4 - iter 1020/1024 - loss 0.07257873 - time (sec): 159.57 - samples/sec: 51.14 - lr: 0.000036\n",
      "2023-11-10 09:53:06,386 ----------------------------------------------------------------------------------------------------\n",
      "2023-11-10 09:53:06,387 EPOCH 4 done: loss 0.0723 - lr 0.000036\n"
     ]
    },
    {
     "metadata": {
      "tags": null
     },
     "name": "stderr",
     "output_type": "stream",
     "text": [
      "100%|██████████| 391/391 [00:30<00:00, 12.62it/s]"
     ]
    },
    {
     "metadata": {
      "tags": null
     },
     "name": "stdout",
     "output_type": "stream",
     "text": [
      "2023-11-10 09:53:37,448 Evaluating as a multi-label problem: False\n",
      "2023-11-10 09:53:37,507 DEV : loss 0.13939329981803894 - f1-score (macro avg)  0.8184\n"
     ]
    },
    {
     "metadata": {
      "tags": null
     },
     "name": "stderr",
     "output_type": "stream",
     "text": [
      "\n"
     ]
    },
    {
     "metadata": {
      "tags": null
     },
     "name": "stdout",
     "output_type": "stream",
     "text": [
      "2023-11-10 09:53:38,395 ----------------------------------------------------------------------------------------------------\n",
      "2023-11-10 09:53:53,902 epoch 5 - iter 102/1024 - loss 0.06068000 - time (sec): 15.50 - samples/sec: 52.63 - lr: 0.000035\n",
      "2023-11-10 09:54:09,743 epoch 5 - iter 204/1024 - loss 0.03555628 - time (sec): 31.34 - samples/sec: 52.07 - lr: 0.000035\n",
      "2023-11-10 09:54:25,627 epoch 5 - iter 306/1024 - loss 0.04638034 - time (sec): 47.23 - samples/sec: 51.83 - lr: 0.000035\n",
      "2023-11-10 09:54:41,593 epoch 5 - iter 408/1024 - loss 0.04685732 - time (sec): 63.20 - samples/sec: 51.65 - lr: 0.000035\n",
      "2023-11-10 09:54:57,541 epoch 5 - iter 510/1024 - loss 0.05279271 - time (sec): 79.14 - samples/sec: 51.55 - lr: 0.000034\n",
      "2023-11-10 09:55:13,385 epoch 5 - iter 612/1024 - loss 0.05428857 - time (sec): 94.99 - samples/sec: 51.54 - lr: 0.000034\n",
      "2023-11-10 09:55:28,943 epoch 5 - iter 714/1024 - loss 0.05307978 - time (sec): 110.55 - samples/sec: 51.67 - lr: 0.000034\n",
      "2023-11-10 09:55:44,574 epoch 5 - iter 816/1024 - loss 0.05634662 - time (sec): 126.18 - samples/sec: 51.74 - lr: 0.000034\n",
      "2023-11-10 09:56:00,406 epoch 5 - iter 918/1024 - loss 0.05661972 - time (sec): 142.01 - samples/sec: 51.72 - lr: 0.000034\n",
      "2023-11-10 09:56:16,194 epoch 5 - iter 1020/1024 - loss 0.05722910 - time (sec): 157.80 - samples/sec: 51.71 - lr: 0.000033\n",
      "2023-11-10 09:56:16,695 ----------------------------------------------------------------------------------------------------\n",
      "2023-11-10 09:56:16,697 EPOCH 5 done: loss 0.0570 - lr 0.000033\n"
     ]
    },
    {
     "metadata": {
      "tags": null
     },
     "name": "stderr",
     "output_type": "stream",
     "text": [
      "100%|██████████| 391/391 [00:34<00:00, 11.28it/s]"
     ]
    },
    {
     "metadata": {
      "tags": null
     },
     "name": "stdout",
     "output_type": "stream",
     "text": [
      "2023-11-10 09:56:51,430 Evaluating as a multi-label problem: False\n",
      "2023-11-10 09:56:51,494 DEV : loss 0.14632125198841095 - f1-score (macro avg)  0.8265\n"
     ]
    },
    {
     "metadata": {
      "tags": null
     },
     "name": "stderr",
     "output_type": "stream",
     "text": [
      "\n"
     ]
    },
    {
     "metadata": {
      "tags": null
     },
     "name": "stdout",
     "output_type": "stream",
     "text": [
      "2023-11-10 09:56:52,393 ----------------------------------------------------------------------------------------------------\n",
      "2023-11-10 09:57:08,225 epoch 6 - iter 102/1024 - loss 0.04659488 - time (sec): 15.83 - samples/sec: 51.55 - lr: 0.000033\n",
      "2023-11-10 09:57:23,868 epoch 6 - iter 204/1024 - loss 0.05275722 - time (sec): 31.47 - samples/sec: 51.85 - lr: 0.000033\n",
      "2023-11-10 09:57:39,672 epoch 6 - iter 306/1024 - loss 0.03955598 - time (sec): 47.28 - samples/sec: 51.78 - lr: 0.000033\n",
      "2023-11-10 09:57:55,569 epoch 6 - iter 408/1024 - loss 0.03850086 - time (sec): 63.17 - samples/sec: 51.67 - lr: 0.000032\n",
      "2023-11-10 09:58:11,520 epoch 6 - iter 510/1024 - loss 0.03447972 - time (sec): 79.12 - samples/sec: 51.56 - lr: 0.000032\n",
      "2023-11-10 09:58:27,408 epoch 6 - iter 612/1024 - loss 0.04337280 - time (sec): 95.01 - samples/sec: 51.53 - lr: 0.000032\n",
      "2023-11-10 09:58:43,211 epoch 6 - iter 714/1024 - loss 0.04158724 - time (sec): 110.81 - samples/sec: 51.55 - lr: 0.000032\n",
      "2023-11-10 09:58:58,879 epoch 6 - iter 816/1024 - loss 0.04163048 - time (sec): 126.48 - samples/sec: 51.61 - lr: 0.000032\n",
      "2023-11-10 09:59:14,537 epoch 6 - iter 918/1024 - loss 0.04267741 - time (sec): 142.14 - samples/sec: 51.67 - lr: 0.000031\n",
      "2023-11-10 09:59:30,285 epoch 6 - iter 1020/1024 - loss 0.04037967 - time (sec): 157.89 - samples/sec: 51.68 - lr: 0.000031\n",
      "2023-11-10 09:59:30,790 ----------------------------------------------------------------------------------------------------\n",
      "2023-11-10 09:59:30,791 EPOCH 6 done: loss 0.0402 - lr 0.000031\n"
     ]
    },
    {
     "metadata": {
      "tags": null
     },
     "name": "stderr",
     "output_type": "stream",
     "text": [
      "100%|██████████| 391/391 [00:32<00:00, 11.87it/s]"
     ]
    },
    {
     "metadata": {
      "tags": null
     },
     "name": "stdout",
     "output_type": "stream",
     "text": [
      "2023-11-10 10:00:03,784 Evaluating as a multi-label problem: False\n",
      "2023-11-10 10:00:03,819 DEV : loss 0.13313010334968567 - f1-score (macro avg)  0.8455\n"
     ]
    },
    {
     "metadata": {
      "tags": null
     },
     "name": "stderr",
     "output_type": "stream",
     "text": [
      "\n"
     ]
    },
    {
     "metadata": {
      "tags": null
     },
     "name": "stdout",
     "output_type": "stream",
     "text": [
      "2023-11-10 10:00:04,339 ----------------------------------------------------------------------------------------------------\n",
      "2023-11-10 10:00:20,206 epoch 7 - iter 102/1024 - loss 0.02611672 - time (sec): 15.87 - samples/sec: 51.43 - lr: 0.000031\n",
      "2023-11-10 10:00:36,126 epoch 7 - iter 204/1024 - loss 0.01679634 - time (sec): 31.79 - samples/sec: 51.34 - lr: 0.000031\n",
      "2023-11-10 10:00:51,808 epoch 7 - iter 306/1024 - loss 0.01552415 - time (sec): 47.47 - samples/sec: 51.57 - lr: 0.000030\n",
      "2023-11-10 10:01:07,615 epoch 7 - iter 408/1024 - loss 0.02379952 - time (sec): 63.27 - samples/sec: 51.58 - lr: 0.000030\n",
      "2023-11-10 10:01:24,080 epoch 7 - iter 510/1024 - loss 0.02507524 - time (sec): 79.74 - samples/sec: 51.17 - lr: 0.000030\n",
      "2023-11-10 10:01:39,975 epoch 7 - iter 612/1024 - loss 0.02453597 - time (sec): 95.64 - samples/sec: 51.19 - lr: 0.000030\n",
      "2023-11-10 10:01:55,963 epoch 7 - iter 714/1024 - loss 0.02390721 - time (sec): 111.62 - samples/sec: 51.17 - lr: 0.000030\n",
      "2023-11-10 10:02:11,389 epoch 7 - iter 816/1024 - loss 0.02535341 - time (sec): 127.05 - samples/sec: 51.38 - lr: 0.000029\n",
      "2023-11-10 10:02:26,984 epoch 7 - iter 918/1024 - loss 0.02838861 - time (sec): 142.64 - samples/sec: 51.48 - lr: 0.000029\n",
      "2023-11-10 10:02:42,508 epoch 7 - iter 1020/1024 - loss 0.02630617 - time (sec): 158.17 - samples/sec: 51.59 - lr: 0.000029\n",
      "2023-11-10 10:02:43,095 ----------------------------------------------------------------------------------------------------\n",
      "2023-11-10 10:02:43,100 EPOCH 7 done: loss 0.0262 - lr 0.000029\n"
     ]
    },
    {
     "metadata": {
      "tags": null
     },
     "name": "stderr",
     "output_type": "stream",
     "text": [
      "100%|██████████| 391/391 [00:32<00:00, 12.22it/s]"
     ]
    },
    {
     "metadata": {
      "tags": null
     },
     "name": "stdout",
     "output_type": "stream",
     "text": [
      "2023-11-10 10:03:15,159 Evaluating as a multi-label problem: False\n"
     ]
    },
    {
     "metadata": {
      "tags": null
     },
     "name": "stderr",
     "output_type": "stream",
     "text": [
      "\n"
     ]
    },
    {
     "metadata": {
      "tags": null
     },
     "name": "stdout",
     "output_type": "stream",
     "text": [
      "2023-11-10 10:03:15,199 DEV : loss 0.1990513652563095 - f1-score (macro avg)  0.7941\n",
      "2023-11-10 10:03:15,665 ----------------------------------------------------------------------------------------------------\n",
      "2023-11-10 10:03:31,554 epoch 8 - iter 102/1024 - loss 0.01940580 - time (sec): 15.89 - samples/sec: 51.36 - lr: 0.000029\n",
      "2023-11-10 10:03:47,506 epoch 8 - iter 204/1024 - loss 0.01363854 - time (sec): 31.84 - samples/sec: 51.26 - lr: 0.000028\n",
      "2023-11-10 10:04:03,152 epoch 8 - iter 306/1024 - loss 0.01771507 - time (sec): 47.49 - samples/sec: 51.55 - lr: 0.000028\n",
      "2023-11-10 10:04:18,795 epoch 8 - iter 408/1024 - loss 0.01649899 - time (sec): 63.13 - samples/sec: 51.70 - lr: 0.000028\n",
      "2023-11-10 10:04:34,344 epoch 8 - iter 510/1024 - loss 0.01992818 - time (sec): 78.68 - samples/sec: 51.86 - lr: 0.000028\n",
      "2023-11-10 10:04:49,712 epoch 8 - iter 612/1024 - loss 0.01914206 - time (sec): 94.05 - samples/sec: 52.06 - lr: 0.000028\n",
      "2023-11-10 10:05:05,314 epoch 8 - iter 714/1024 - loss 0.01659654 - time (sec): 109.65 - samples/sec: 52.09 - lr: 0.000027\n",
      "2023-11-10 10:05:21,032 epoch 8 - iter 816/1024 - loss 0.01676365 - time (sec): 125.37 - samples/sec: 52.07 - lr: 0.000027\n",
      "2023-11-10 10:05:37,688 epoch 8 - iter 918/1024 - loss 0.01752516 - time (sec): 142.02 - samples/sec: 51.71 - lr: 0.000027\n",
      "2023-11-10 10:05:53,353 epoch 8 - iter 1020/1024 - loss 0.01582223 - time (sec): 157.69 - samples/sec: 51.75 - lr: 0.000027\n",
      "2023-11-10 10:05:53,865 ----------------------------------------------------------------------------------------------------\n",
      "2023-11-10 10:05:53,867 EPOCH 8 done: loss 0.0158 - lr 0.000027\n"
     ]
    },
    {
     "metadata": {
      "tags": null
     },
     "name": "stderr",
     "output_type": "stream",
     "text": [
      "100%|██████████| 391/391 [00:31<00:00, 12.39it/s]"
     ]
    },
    {
     "metadata": {
      "tags": null
     },
     "name": "stdout",
     "output_type": "stream",
     "text": [
      "2023-11-10 10:06:25,464 Evaluating as a multi-label problem: False\n"
     ]
    },
    {
     "metadata": {
      "tags": null
     },
     "name": "stderr",
     "output_type": "stream",
     "text": [
      "\n"
     ]
    },
    {
     "metadata": {
      "tags": null
     },
     "name": "stdout",
     "output_type": "stream",
     "text": [
      "2023-11-10 10:06:25,501 DEV : loss 0.21416178345680237 - f1-score (macro avg)  0.7826\n",
      "2023-11-10 10:06:25,957 ----------------------------------------------------------------------------------------------------\n",
      "2023-11-10 10:06:41,668 epoch 9 - iter 102/1024 - loss 0.01467200 - time (sec): 15.71 - samples/sec: 51.94 - lr: 0.000026\n",
      "2023-11-10 10:06:57,394 epoch 9 - iter 204/1024 - loss 0.00990851 - time (sec): 31.44 - samples/sec: 51.92 - lr: 0.000026\n",
      "2023-11-10 10:07:13,059 epoch 9 - iter 306/1024 - loss 0.00981150 - time (sec): 47.10 - samples/sec: 51.97 - lr: 0.000026\n",
      "2023-11-10 10:07:28,692 epoch 9 - iter 408/1024 - loss 0.00931401 - time (sec): 62.73 - samples/sec: 52.03 - lr: 0.000026\n",
      "2023-11-10 10:07:44,151 epoch 9 - iter 510/1024 - loss 0.02050744 - time (sec): 78.19 - samples/sec: 52.18 - lr: 0.000026\n",
      "2023-11-10 10:07:59,569 epoch 9 - iter 612/1024 - loss 0.02517701 - time (sec): 93.61 - samples/sec: 52.30 - lr: 0.000025\n",
      "2023-11-10 10:08:15,184 epoch 9 - iter 714/1024 - loss 0.02455406 - time (sec): 109.23 - samples/sec: 52.30 - lr: 0.000025\n",
      "2023-11-10 10:08:30,962 epoch 9 - iter 816/1024 - loss 0.02150713 - time (sec): 125.00 - samples/sec: 52.22 - lr: 0.000025\n",
      "2023-11-10 10:08:46,717 epoch 9 - iter 918/1024 - loss 0.01911887 - time (sec): 140.76 - samples/sec: 52.17 - lr: 0.000025\n",
      "2023-11-10 10:09:02,469 epoch 9 - iter 1020/1024 - loss 0.02226603 - time (sec): 156.51 - samples/sec: 52.14 - lr: 0.000024\n",
      "2023-11-10 10:09:02,981 ----------------------------------------------------------------------------------------------------\n",
      "2023-11-10 10:09:02,982 EPOCH 9 done: loss 0.0222 - lr 0.000024\n"
     ]
    },
    {
     "metadata": {
      "tags": null
     },
     "name": "stderr",
     "output_type": "stream",
     "text": [
      "100%|██████████| 391/391 [00:31<00:00, 12.35it/s]\n"
     ]
    },
    {
     "output_type": "stream",
     "name": "stdout",
     "text": [
      "2023-11-10 10:09:34,683 Evaluating as a multi-label problem: False\n",
      "2023-11-10 10:09:34,717 DEV : loss 0.2631814777851105 - f1-score (macro avg)  0.6977\n",
      "2023-11-10 10:09:35,159 ----------------------------------------------------------------------------------------------------\n",
      "2023-11-10 10:09:50,933 epoch 10 - iter 102/1024 - loss 0.02736456 - time (sec): 15.77 - samples/sec: 51.73 - lr: 0.000024\n",
      "2023-11-10 10:10:07,476 epoch 10 - iter 204/1024 - loss 0.01846754 - time (sec): 32.32 - samples/sec: 50.50 - lr: 0.000024\n",
      "2023-11-10 10:10:23,059 epoch 10 - iter 306/1024 - loss 0.01562072 - time (sec): 47.90 - samples/sec: 51.11 - lr: 0.000024\n",
      "2023-11-10 10:10:38,399 epoch 10 - iter 408/1024 - loss 0.01530928 - time (sec): 63.24 - samples/sec: 51.61 - lr: 0.000024\n",
      "2023-11-10 10:10:53,957 epoch 10 - iter 510/1024 - loss 0.01639709 - time (sec): 78.80 - samples/sec: 51.78 - lr: 0.000023\n",
      "2023-11-10 10:11:09,472 epoch 10 - iter 612/1024 - loss 0.01569250 - time (sec): 94.31 - samples/sec: 51.91 - lr: 0.000023\n",
      "2023-11-10 10:11:25,232 epoch 10 - iter 714/1024 - loss 0.01651990 - time (sec): 110.07 - samples/sec: 51.89 - lr: 0.000023\n",
      "2023-11-10 10:11:40,920 epoch 10 - iter 816/1024 - loss 0.01654404 - time (sec): 125.76 - samples/sec: 51.91 - lr: 0.000023\n",
      "2023-11-10 10:11:56,618 epoch 10 - iter 918/1024 - loss 0.01872363 - time (sec): 141.46 - samples/sec: 51.92 - lr: 0.000022\n",
      "2023-11-10 10:12:12,411 epoch 10 - iter 1020/1024 - loss 0.02023070 - time (sec): 157.25 - samples/sec: 51.89 - lr: 0.000022\n",
      "2023-11-10 10:12:12,918 ----------------------------------------------------------------------------------------------------\n",
      "2023-11-10 10:12:12,920 EPOCH 10 done: loss 0.0202 - lr 0.000022\n"
     ]
    },
    {
     "output_type": "stream",
     "name": "stderr",
     "text": [
      "100%|██████████| 391/391 [00:32<00:00, 12.20it/s]\n"
     ]
    },
    {
     "output_type": "stream",
     "name": "stdout",
     "text": [
      "2023-11-10 10:12:45,027 Evaluating as a multi-label problem: False\n",
      "2023-11-10 10:12:45,065 DEV : loss 0.18452776968479156 - f1-score (macro avg)  0.7705\n",
      "2023-11-10 10:12:45,564 ----------------------------------------------------------------------------------------------------\n",
      "2023-11-10 10:13:01,188 epoch 11 - iter 102/1024 - loss 0.00736163 - time (sec): 15.62 - samples/sec: 52.23 - lr: 0.000022\n",
      "2023-11-10 10:13:16,638 epoch 11 - iter 204/1024 - loss 0.00372171 - time (sec): 31.07 - samples/sec: 52.52 - lr: 0.000022\n",
      "2023-11-10 10:13:32,163 epoch 11 - iter 306/1024 - loss 0.00249990 - time (sec): 46.60 - samples/sec: 52.54 - lr: 0.000022\n",
      "2023-11-10 10:13:47,699 epoch 11 - iter 408/1024 - loss 0.00379431 - time (sec): 62.13 - samples/sec: 52.53 - lr: 0.000021\n",
      "2023-11-10 10:14:03,323 epoch 11 - iter 510/1024 - loss 0.00447139 - time (sec): 77.76 - samples/sec: 52.47 - lr: 0.000021\n",
      "2023-11-10 10:14:20,114 epoch 11 - iter 612/1024 - loss 0.01057452 - time (sec): 94.55 - samples/sec: 51.78 - lr: 0.000021\n",
      "2023-11-10 10:14:35,904 epoch 11 - iter 714/1024 - loss 0.00913302 - time (sec): 110.34 - samples/sec: 51.77 - lr: 0.000021\n",
      "2023-11-10 10:14:51,713 epoch 11 - iter 816/1024 - loss 0.00914548 - time (sec): 126.15 - samples/sec: 51.75 - lr: 0.000020\n",
      "2023-11-10 10:15:07,530 epoch 11 - iter 918/1024 - loss 0.00830603 - time (sec): 141.96 - samples/sec: 51.73 - lr: 0.000020\n",
      "2023-11-10 10:15:23,501 epoch 11 - iter 1020/1024 - loss 0.00747652 - time (sec): 157.94 - samples/sec: 51.67 - lr: 0.000020\n",
      "2023-11-10 10:15:24,021 ----------------------------------------------------------------------------------------------------\n",
      "2023-11-10 10:15:24,022 EPOCH 11 done: loss 0.0075 - lr 0.000020\n"
     ]
    },
    {
     "output_type": "stream",
     "name": "stderr",
     "text": [
      "100%|██████████| 391/391 [00:32<00:00, 12.13it/s]"
     ]
    },
    {
     "output_type": "stream",
     "name": "stdout",
     "text": [
      "2023-11-10 10:15:56,337 Evaluating as a multi-label problem: False\n",
      "2023-11-10 10:15:56,393 DEV : loss 0.21056701242923737 - f1-score (macro avg)  0.8061\n"
     ]
    },
    {
     "output_type": "stream",
     "name": "stderr",
     "text": [
      "\n"
     ]
    },
    {
     "output_type": "stream",
     "name": "stdout",
     "text": [
      "2023-11-10 10:15:57,268 ----------------------------------------------------------------------------------------------------\n",
      "2023-11-10 10:16:12,742 epoch 12 - iter 102/1024 - loss 0.00000822 - time (sec): 15.47 - samples/sec: 52.75 - lr: 0.000020\n",
      "2023-11-10 10:16:28,458 epoch 12 - iter 204/1024 - loss 0.00001093 - time (sec): 31.19 - samples/sec: 52.33 - lr: 0.000020\n",
      "2023-11-10 10:16:44,101 epoch 12 - iter 306/1024 - loss 0.00418064 - time (sec): 46.83 - samples/sec: 52.27 - lr: 0.000019\n",
      "2023-11-10 10:16:59,801 epoch 12 - iter 408/1024 - loss 0.00981287 - time (sec): 62.53 - samples/sec: 52.20 - lr: 0.000019\n",
      "2023-11-10 10:17:15,629 epoch 12 - iter 510/1024 - loss 0.01049704 - time (sec): 78.36 - samples/sec: 52.07 - lr: 0.000019\n",
      "2023-11-10 10:17:31,436 epoch 12 - iter 612/1024 - loss 0.00914798 - time (sec): 94.16 - samples/sec: 51.99 - lr: 0.000019\n",
      "2023-11-10 10:17:47,322 epoch 12 - iter 714/1024 - loss 0.00794542 - time (sec): 110.05 - samples/sec: 51.90 - lr: 0.000018\n",
      "2023-11-10 10:18:03,272 epoch 12 - iter 816/1024 - loss 0.00695290 - time (sec): 126.00 - samples/sec: 51.81 - lr: 0.000018\n",
      "2023-11-10 10:18:19,199 epoch 12 - iter 918/1024 - loss 0.00618282 - time (sec): 141.93 - samples/sec: 51.74 - lr: 0.000018\n",
      "2023-11-10 10:18:35,002 epoch 12 - iter 1020/1024 - loss 0.00628428 - time (sec): 157.73 - samples/sec: 51.73 - lr: 0.000018\n",
      "2023-11-10 10:18:35,587 ----------------------------------------------------------------------------------------------------\n",
      "2023-11-10 10:18:35,595 EPOCH 12 done: loss 0.0063 - lr 0.000018\n"
     ]
    },
    {
     "output_type": "stream",
     "name": "stderr",
     "text": [
      "100%|██████████| 391/391 [00:35<00:00, 11.11it/s]"
     ]
    },
    {
     "output_type": "stream",
     "name": "stdout",
     "text": [
      "2023-11-10 10:19:10,861 Evaluating as a multi-label problem: False\n",
      "2023-11-10 10:19:10,917 DEV : loss 0.21344774961471558 - f1-score (macro avg)  0.7812\n"
     ]
    },
    {
     "output_type": "stream",
     "name": "stderr",
     "text": [
      "\n"
     ]
    },
    {
     "output_type": "stream",
     "name": "stdout",
     "text": [
      "2023-11-10 10:19:11,783 ----------------------------------------------------------------------------------------------------\n",
      "2023-11-10 10:19:27,352 epoch 13 - iter 102/1024 - loss 0.00005061 - time (sec): 15.56 - samples/sec: 52.43 - lr: 0.000018\n",
      "2023-11-10 10:19:42,944 epoch 13 - iter 204/1024 - loss 0.00032780 - time (sec): 31.16 - samples/sec: 52.38 - lr: 0.000017\n",
      "2023-11-10 10:19:58,473 epoch 13 - iter 306/1024 - loss 0.00089430 - time (sec): 46.68 - samples/sec: 52.44 - lr: 0.000017\n",
      "2023-11-10 10:20:14,116 epoch 13 - iter 408/1024 - loss 0.00076751 - time (sec): 62.33 - samples/sec: 52.37 - lr: 0.000017\n",
      "2023-11-10 10:20:30,018 epoch 13 - iter 510/1024 - loss 0.00361528 - time (sec): 78.23 - samples/sec: 52.15 - lr: 0.000017\n",
      "2023-11-10 10:20:45,810 epoch 13 - iter 612/1024 - loss 0.00423608 - time (sec): 94.02 - samples/sec: 52.07 - lr: 0.000016\n",
      "2023-11-10 10:21:01,755 epoch 13 - iter 714/1024 - loss 0.00538888 - time (sec): 109.97 - samples/sec: 51.94 - lr: 0.000016\n",
      "2023-11-10 10:21:17,611 epoch 13 - iter 816/1024 - loss 0.00590372 - time (sec): 125.82 - samples/sec: 51.88 - lr: 0.000016\n",
      "2023-11-10 10:21:33,487 epoch 13 - iter 918/1024 - loss 0.00524808 - time (sec): 141.70 - samples/sec: 51.83 - lr: 0.000016\n",
      "2023-11-10 10:21:49,277 epoch 13 - iter 1020/1024 - loss 0.00472398 - time (sec): 157.49 - samples/sec: 51.81 - lr: 0.000016\n",
      "2023-11-10 10:21:49,865 ----------------------------------------------------------------------------------------------------\n",
      "2023-11-10 10:21:49,868 EPOCH 13 done: loss 0.0047 - lr 0.000016\n"
     ]
    },
    {
     "output_type": "stream",
     "name": "stderr",
     "text": [
      "100%|██████████| 391/391 [00:30<00:00, 12.78it/s]"
     ]
    },
    {
     "output_type": "stream",
     "name": "stdout",
     "text": [
      "2023-11-10 10:22:20,534 Evaluating as a multi-label problem: False\n"
     ]
    },
    {
     "output_type": "stream",
     "name": "stderr",
     "text": [
      "\n"
     ]
    },
    {
     "output_type": "stream",
     "name": "stdout",
     "text": [
      "2023-11-10 10:22:20,598 DEV : loss 0.1919635832309723 - f1-score (macro avg)  0.8377\n",
      "2023-11-10 10:22:21,540 ----------------------------------------------------------------------------------------------------\n",
      "2023-11-10 10:22:37,177 epoch 14 - iter 102/1024 - loss 0.01163702 - time (sec): 15.63 - samples/sec: 52.19 - lr: 0.000015\n",
      "2023-11-10 10:22:53,970 epoch 14 - iter 204/1024 - loss 0.00581910 - time (sec): 32.43 - samples/sec: 50.33 - lr: 0.000015\n",
      "2023-11-10 10:23:09,899 epoch 14 - iter 306/1024 - loss 0.01673190 - time (sec): 48.36 - samples/sec: 50.62 - lr: 0.000015\n",
      "2023-11-10 10:23:25,614 epoch 14 - iter 408/1024 - loss 0.01255584 - time (sec): 64.07 - samples/sec: 50.94 - lr: 0.000015\n",
      "2023-11-10 10:23:41,593 epoch 14 - iter 510/1024 - loss 0.01004575 - time (sec): 80.05 - samples/sec: 50.97 - lr: 0.000014\n",
      "2023-11-10 10:23:57,391 epoch 14 - iter 612/1024 - loss 0.00996580 - time (sec): 95.85 - samples/sec: 51.08 - lr: 0.000014\n",
      "2023-11-10 10:24:13,199 epoch 14 - iter 714/1024 - loss 0.00854643 - time (sec): 111.66 - samples/sec: 51.16 - lr: 0.000014\n",
      "2023-11-10 10:24:28,886 epoch 14 - iter 816/1024 - loss 0.00748125 - time (sec): 127.34 - samples/sec: 51.26 - lr: 0.000014\n",
      "2023-11-10 10:24:44,416 epoch 14 - iter 918/1024 - loss 0.00792941 - time (sec): 142.87 - samples/sec: 51.40 - lr: 0.000014\n",
      "2023-11-10 10:24:59,854 epoch 14 - iter 1020/1024 - loss 0.00713673 - time (sec): 158.31 - samples/sec: 51.54 - lr: 0.000013\n",
      "2023-11-10 10:25:00,423 ----------------------------------------------------------------------------------------------------\n",
      "2023-11-10 10:25:00,427 EPOCH 14 done: loss 0.0071 - lr 0.000013\n"
     ]
    },
    {
     "output_type": "stream",
     "name": "stderr",
     "text": [
      "100%|██████████| 391/391 [00:30<00:00, 12.71it/s]"
     ]
    },
    {
     "output_type": "stream",
     "name": "stdout",
     "text": [
      "2023-11-10 10:25:31,248 Evaluating as a multi-label problem: False\n",
      "2023-11-10 10:25:31,284 DEV : loss 0.23365266621112823 - f1-score (macro avg)  0.754\n"
     ]
    },
    {
     "output_type": "stream",
     "name": "stderr",
     "text": [
      "\n"
     ]
    },
    {
     "output_type": "stream",
     "name": "stdout",
     "text": [
      "2023-11-10 10:25:31,746 ----------------------------------------------------------------------------------------------------\n",
      "2023-11-10 10:25:47,595 epoch 15 - iter 102/1024 - loss 0.00000233 - time (sec): 15.85 - samples/sec: 51.49 - lr: 0.000013\n",
      "2023-11-10 10:26:03,280 epoch 15 - iter 204/1024 - loss 0.00477110 - time (sec): 31.53 - samples/sec: 51.76 - lr: 0.000013\n",
      "2023-11-10 10:26:19,023 epoch 15 - iter 306/1024 - loss 0.00523992 - time (sec): 47.27 - samples/sec: 51.78 - lr: 0.000013\n",
      "2023-11-10 10:26:34,702 epoch 15 - iter 408/1024 - loss 0.00393032 - time (sec): 62.95 - samples/sec: 51.85 - lr: 0.000012\n",
      "2023-11-10 10:26:50,637 epoch 15 - iter 510/1024 - loss 0.00317060 - time (sec): 78.89 - samples/sec: 51.72 - lr: 0.000012\n",
      "2023-11-10 10:27:07,278 epoch 15 - iter 612/1024 - loss 0.00264327 - time (sec): 95.53 - samples/sec: 51.25 - lr: 0.000012\n",
      "2023-11-10 10:27:22,943 epoch 15 - iter 714/1024 - loss 0.00226676 - time (sec): 111.20 - samples/sec: 51.37 - lr: 0.000012\n",
      "2023-11-10 10:27:38,395 epoch 15 - iter 816/1024 - loss 0.00199093 - time (sec): 126.65 - samples/sec: 51.55 - lr: 0.000012\n",
      "2023-11-10 10:27:53,812 epoch 15 - iter 918/1024 - loss 0.00177015 - time (sec): 142.06 - samples/sec: 51.69 - lr: 0.000011\n",
      "2023-11-10 10:28:09,236 epoch 15 - iter 1020/1024 - loss 0.00159331 - time (sec): 157.49 - samples/sec: 51.81 - lr: 0.000011\n",
      "2023-11-10 10:28:09,850 ----------------------------------------------------------------------------------------------------\n",
      "2023-11-10 10:28:09,854 EPOCH 15 done: loss 0.0016 - lr 0.000011\n"
     ]
    },
    {
     "output_type": "stream",
     "name": "stderr",
     "text": [
      "100%|██████████| 391/391 [00:31<00:00, 12.35it/s]\n"
     ]
    },
    {
     "output_type": "stream",
     "name": "stdout",
     "text": [
      "2023-11-10 10:28:41,557 Evaluating as a multi-label problem: False\n",
      "2023-11-10 10:28:41,595 DEV : loss 0.21397148072719574 - f1-score (macro avg)  0.8256\n",
      "2023-11-10 10:28:42,061 ----------------------------------------------------------------------------------------------------\n",
      "2023-11-10 10:28:57,851 epoch 16 - iter 102/1024 - loss 0.00000111 - time (sec): 15.79 - samples/sec: 51.68 - lr: 0.000011\n",
      "2023-11-10 10:29:13,702 epoch 16 - iter 204/1024 - loss 0.00629869 - time (sec): 31.64 - samples/sec: 51.58 - lr: 0.000011\n",
      "2023-11-10 10:29:29,514 epoch 16 - iter 306/1024 - loss 0.00439797 - time (sec): 47.45 - samples/sec: 51.59 - lr: 0.000010\n",
      "2023-11-10 10:29:45,343 epoch 16 - iter 408/1024 - loss 0.00329915 - time (sec): 63.28 - samples/sec: 51.58 - lr: 0.000010\n",
      "2023-11-10 10:30:01,156 epoch 16 - iter 510/1024 - loss 0.00334236 - time (sec): 79.09 - samples/sec: 51.58 - lr: 0.000010\n",
      "2023-11-10 10:30:16,748 epoch 16 - iter 612/1024 - loss 0.00497454 - time (sec): 94.69 - samples/sec: 51.71 - lr: 0.000010\n",
      "2023-11-10 10:30:32,239 epoch 16 - iter 714/1024 - loss 0.00426414 - time (sec): 110.18 - samples/sec: 51.84 - lr: 0.000010\n",
      "2023-11-10 10:30:47,780 epoch 16 - iter 816/1024 - loss 0.00373130 - time (sec): 125.72 - samples/sec: 51.93 - lr: 0.000009\n",
      "2023-11-10 10:31:03,913 epoch 16 - iter 918/1024 - loss 0.00393219 - time (sec): 141.85 - samples/sec: 51.77 - lr: 0.000009\n",
      "2023-11-10 10:31:20,384 epoch 16 - iter 1020/1024 - loss 0.00353932 - time (sec): 158.32 - samples/sec: 51.54 - lr: 0.000009\n",
      "2023-11-10 10:31:20,891 ----------------------------------------------------------------------------------------------------\n",
      "2023-11-10 10:31:20,893 EPOCH 16 done: loss 0.0035 - lr 0.000009\n"
     ]
    },
    {
     "output_type": "stream",
     "name": "stderr",
     "text": [
      "100%|██████████| 391/391 [00:32<00:00, 12.14it/s]\n"
     ]
    },
    {
     "output_type": "stream",
     "name": "stdout",
     "text": [
      "2023-11-10 10:31:53,144 Evaluating as a multi-label problem: False\n",
      "2023-11-10 10:31:53,180 DEV : loss 0.22113460302352905 - f1-score (macro avg)  0.8118\n",
      "2023-11-10 10:31:53,658 ----------------------------------------------------------------------------------------------------\n",
      "2023-11-10 10:32:09,421 epoch 17 - iter 102/1024 - loss 0.00000182 - time (sec): 15.76 - samples/sec: 51.77 - lr: 0.000009\n",
      "2023-11-10 10:32:25,189 epoch 17 - iter 204/1024 - loss 0.00000147 - time (sec): 31.53 - samples/sec: 51.76 - lr: 0.000008\n",
      "2023-11-10 10:32:40,996 epoch 17 - iter 306/1024 - loss 0.00000457 - time (sec): 47.34 - samples/sec: 51.71 - lr: 0.000008\n",
      "2023-11-10 10:32:56,498 epoch 17 - iter 408/1024 - loss 0.00000369 - time (sec): 62.84 - samples/sec: 51.94 - lr: 0.000008\n",
      "2023-11-10 10:33:12,121 epoch 17 - iter 510/1024 - loss 0.00010823 - time (sec): 78.46 - samples/sec: 52.00 - lr: 0.000008\n",
      "2023-11-10 10:33:27,685 epoch 17 - iter 612/1024 - loss 0.00009038 - time (sec): 94.03 - samples/sec: 52.07 - lr: 0.000008\n",
      "2023-11-10 10:33:43,238 epoch 17 - iter 714/1024 - loss 0.00007766 - time (sec): 109.58 - samples/sec: 52.13 - lr: 0.000007\n",
      "2023-11-10 10:33:59,039 epoch 17 - iter 816/1024 - loss 0.00010764 - time (sec): 125.38 - samples/sec: 52.07 - lr: 0.000007\n",
      "2023-11-10 10:34:14,850 epoch 17 - iter 918/1024 - loss 0.00009576 - time (sec): 141.19 - samples/sec: 52.02 - lr: 0.000007\n",
      "2023-11-10 10:34:30,713 epoch 17 - iter 1020/1024 - loss 0.00008908 - time (sec): 157.05 - samples/sec: 51.96 - lr: 0.000007\n",
      "2023-11-10 10:34:31,226 ----------------------------------------------------------------------------------------------------\n",
      "2023-11-10 10:34:31,228 EPOCH 17 done: loss 0.0001 - lr 0.000007\n"
     ]
    },
    {
     "output_type": "stream",
     "name": "stderr",
     "text": [
      "100%|██████████| 391/391 [00:32<00:00, 12.10it/s]"
     ]
    },
    {
     "output_type": "stream",
     "name": "stdout",
     "text": [
      "2023-11-10 10:35:03,590 Evaluating as a multi-label problem: False\n"
     ]
    },
    {
     "output_type": "stream",
     "name": "stderr",
     "text": [
      "\n"
     ]
    },
    {
     "output_type": "stream",
     "name": "stdout",
     "text": [
      "2023-11-10 10:35:03,638 DEV : loss 0.2632475793361664 - f1-score (macro avg)  0.7588\n",
      "2023-11-10 10:35:04,098 ----------------------------------------------------------------------------------------------------\n",
      "2023-11-10 10:35:20,474 epoch 18 - iter 102/1024 - loss 0.00625316 - time (sec): 16.37 - samples/sec: 49.83 - lr: 0.000006\n",
      "2023-11-10 10:35:36,096 epoch 18 - iter 204/1024 - loss 0.00322733 - time (sec): 32.00 - samples/sec: 51.01 - lr: 0.000006\n",
      "2023-11-10 10:35:51,907 epoch 18 - iter 306/1024 - loss 0.00215187 - time (sec): 47.81 - samples/sec: 51.21 - lr: 0.000006\n",
      "2023-11-10 10:36:07,686 epoch 18 - iter 408/1024 - loss 0.00167771 - time (sec): 63.59 - samples/sec: 51.33 - lr: 0.000006\n",
      "2023-11-10 10:36:23,380 epoch 18 - iter 510/1024 - loss 0.00134232 - time (sec): 79.28 - samples/sec: 51.46 - lr: 0.000006\n",
      "2023-11-10 10:36:39,217 epoch 18 - iter 612/1024 - loss 0.00111868 - time (sec): 95.12 - samples/sec: 51.47 - lr: 0.000005\n",
      "2023-11-10 10:36:54,900 epoch 18 - iter 714/1024 - loss 0.00095893 - time (sec): 110.80 - samples/sec: 51.55 - lr: 0.000005\n",
      "2023-11-10 10:37:10,579 epoch 18 - iter 816/1024 - loss 0.00086483 - time (sec): 126.48 - samples/sec: 51.61 - lr: 0.000005\n",
      "2023-11-10 10:37:26,259 epoch 18 - iter 918/1024 - loss 0.00076897 - time (sec): 142.16 - samples/sec: 51.66 - lr: 0.000005\n",
      "2023-11-10 10:37:41,619 epoch 18 - iter 1020/1024 - loss 0.00069219 - time (sec): 157.52 - samples/sec: 51.80 - lr: 0.000004\n",
      "2023-11-10 10:37:42,154 ----------------------------------------------------------------------------------------------------\n",
      "2023-11-10 10:37:42,161 EPOCH 18 done: loss 0.0007 - lr 0.000004\n"
     ]
    },
    {
     "output_type": "stream",
     "name": "stderr",
     "text": [
      "100%|██████████| 391/391 [00:30<00:00, 12.81it/s]"
     ]
    },
    {
     "output_type": "stream",
     "name": "stdout",
     "text": [
      "2023-11-10 10:38:12,758 Evaluating as a multi-label problem: False\n"
     ]
    },
    {
     "output_type": "stream",
     "name": "stderr",
     "text": [
      "\n"
     ]
    },
    {
     "output_type": "stream",
     "name": "stdout",
     "text": [
      "2023-11-10 10:38:12,823 DEV : loss 0.2795083224773407 - f1-score (macro avg)  0.7928\n",
      "2023-11-10 10:38:13,747 ----------------------------------------------------------------------------------------------------\n",
      "2023-11-10 10:38:29,393 epoch 19 - iter 102/1024 - loss 0.00000271 - time (sec): 15.64 - samples/sec: 52.17 - lr: 0.000004\n",
      "2023-11-10 10:38:45,196 epoch 19 - iter 204/1024 - loss 0.00000206 - time (sec): 31.44 - samples/sec: 51.90 - lr: 0.000004\n",
      "2023-11-10 10:39:00,895 epoch 19 - iter 306/1024 - loss 0.00000156 - time (sec): 47.14 - samples/sec: 51.93 - lr: 0.000004\n",
      "2023-11-10 10:39:16,665 epoch 19 - iter 408/1024 - loss 0.00000125 - time (sec): 62.91 - samples/sec: 51.88 - lr: 0.000004\n",
      "2023-11-10 10:39:33,799 epoch 19 - iter 510/1024 - loss 0.00000106 - time (sec): 80.05 - samples/sec: 50.97 - lr: 0.000003\n",
      "2023-11-10 10:39:49,554 epoch 19 - iter 612/1024 - loss 0.00000098 - time (sec): 95.80 - samples/sec: 51.11 - lr: 0.000003\n",
      "2023-11-10 10:40:05,078 epoch 19 - iter 714/1024 - loss 0.00000090 - time (sec): 111.33 - samples/sec: 51.31 - lr: 0.000003\n",
      "2023-11-10 10:40:20,446 epoch 19 - iter 816/1024 - loss 0.00000086 - time (sec): 126.69 - samples/sec: 51.53 - lr: 0.000003\n",
      "2023-11-10 10:40:35,992 epoch 19 - iter 918/1024 - loss 0.00000080 - time (sec): 142.24 - samples/sec: 51.63 - lr: 0.000002\n",
      "2023-11-10 10:40:51,510 epoch 19 - iter 1020/1024 - loss 0.00000076 - time (sec): 157.76 - samples/sec: 51.72 - lr: 0.000002\n",
      "2023-11-10 10:40:52,064 ----------------------------------------------------------------------------------------------------\n",
      "2023-11-10 10:40:52,071 EPOCH 19 done: loss 0.0000 - lr 0.000002\n"
     ]
    },
    {
     "output_type": "stream",
     "name": "stderr",
     "text": [
      "100%|██████████| 391/391 [00:32<00:00, 12.18it/s]"
     ]
    },
    {
     "output_type": "stream",
     "name": "stdout",
     "text": [
      "2023-11-10 10:41:24,230 Evaluating as a multi-label problem: False\n"
     ]
    },
    {
     "output_type": "stream",
     "name": "stderr",
     "text": [
      "\n"
     ]
    },
    {
     "output_type": "stream",
     "name": "stdout",
     "text": [
      "2023-11-10 10:41:24,272 DEV : loss 0.2804284691810608 - f1-score (macro avg)  0.7907\n",
      "2023-11-10 10:41:24,744 ----------------------------------------------------------------------------------------------------\n",
      "2023-11-10 10:41:40,520 epoch 20 - iter 102/1024 - loss 0.00000048 - time (sec): 15.77 - samples/sec: 51.73 - lr: 0.000002\n",
      "2023-11-10 10:41:56,320 epoch 20 - iter 204/1024 - loss 0.00000042 - time (sec): 31.57 - samples/sec: 51.69 - lr: 0.000002\n",
      "2023-11-10 10:42:12,248 epoch 20 - iter 306/1024 - loss 0.00000039 - time (sec): 47.50 - samples/sec: 51.53 - lr: 0.000002\n",
      "2023-11-10 10:42:28,049 epoch 20 - iter 408/1024 - loss 0.00000036 - time (sec): 63.30 - samples/sec: 51.56 - lr: 0.000001\n",
      "2023-11-10 10:42:43,612 epoch 20 - iter 510/1024 - loss 0.00000036 - time (sec): 78.87 - samples/sec: 51.73 - lr: 0.000001\n",
      "2023-11-10 10:42:59,132 epoch 20 - iter 612/1024 - loss 0.00000037 - time (sec): 94.39 - samples/sec: 51.87 - lr: 0.000001\n",
      "2023-11-10 10:43:14,682 epoch 20 - iter 714/1024 - loss 0.00000037 - time (sec): 109.94 - samples/sec: 51.96 - lr: 0.000001\n",
      "2023-11-10 10:43:30,282 epoch 20 - iter 816/1024 - loss 0.00000036 - time (sec): 125.54 - samples/sec: 52.00 - lr: 0.000000\n",
      "2023-11-10 10:43:47,071 epoch 20 - iter 918/1024 - loss 0.00000036 - time (sec): 142.33 - samples/sec: 51.60 - lr: 0.000000\n",
      "2023-11-10 10:44:02,775 epoch 20 - iter 1020/1024 - loss 0.00000035 - time (sec): 158.03 - samples/sec: 51.64 - lr: 0.000000\n",
      "2023-11-10 10:44:03,289 ----------------------------------------------------------------------------------------------------\n",
      "2023-11-10 10:44:03,290 EPOCH 20 done: loss 0.0000 - lr 0.000000\n"
     ]
    },
    {
     "output_type": "stream",
     "name": "stderr",
     "text": [
      "100%|██████████| 391/391 [00:31<00:00, 12.23it/s]"
     ]
    },
    {
     "output_type": "stream",
     "name": "stdout",
     "text": [
      "2023-11-10 10:44:35,337 Evaluating as a multi-label problem: False\n",
      "2023-11-10 10:44:35,394 DEV : loss 0.2806123197078705 - f1-score (macro avg)  0.7907\n"
     ]
    },
    {
     "output_type": "stream",
     "name": "stderr",
     "text": [
      "\n"
     ]
    },
    {
     "output_type": "stream",
     "name": "stdout",
     "text": [
      "2023-11-10 10:44:36,642 ----------------------------------------------------------------------------------------------------\n",
      "2023-11-10 10:44:36,648 Testing using last state of model ...\n"
     ]
    },
    {
     "output_type": "stream",
     "name": "stderr",
     "text": [
      "100%|██████████| 621/621 [00:51<00:00, 12.08it/s]\n"
     ]
    },
    {
     "output_type": "stream",
     "name": "stdout",
     "text": [
      "2023-11-10 10:45:28,134 Evaluating as a multi-label problem: False\n",
      "2023-11-10 10:45:28,214 0.9833\t0.9833\t0.9833\t0.9833\n",
      "2023-11-10 10:45:28,219 \n",
      "Results:\n",
      "- F-score (micro) 0.9833\n",
      "- F-score (macro) 0.8519\n",
      "- Accuracy 0.9833\n",
      "\n",
      "By class:\n",
      "                         precision    recall  f1-score   support\n",
      "\n",
      "                            0.9886    0.9941    0.9913      4722\n",
      " received_nobelprize_in     0.8542    0.7193    0.7810        57\n",
      "                has_won     0.8750    0.7500    0.8077        56\n",
      "        has_nationality     0.8537    0.8537    0.8537        41\n",
      "received_nobelprize_for     0.8667    0.6047    0.7123        43\n",
      "                born_on     0.9062    0.9355    0.9206        31\n",
      "                died_on     0.8125    1.0000    0.8966        13\n",
      "\n",
      "               accuracy                         0.9833      4963\n",
      "              macro avg     0.8796    0.8367    0.8519      4963\n",
      "           weighted avg     0.9827    0.9833    0.9826      4963\n",
      "\n",
      "2023-11-10 10:45:28,224 ----------------------------------------------------------------------------------------------------\n"
     ]
    },
    {
     "output_type": "execute_result",
     "data": {
      "text/plain": [
       "{'test_score': 0.8518799591731039,\n",
       " 'dev_score_history': [0.30324872735760405,\n",
       "  0.45767416520019394,\n",
       "  0.7109586912482148,\n",
       "  0.8183984314215603,\n",
       "  0.8264995101603897,\n",
       "  0.8455084570850433,\n",
       "  0.7940780009334762,\n",
       "  0.7826235600300739,\n",
       "  0.6977273540274987,\n",
       "  0.7705078396868459,\n",
       "  0.8061085802819999,\n",
       "  0.7811996273678782,\n",
       "  0.8376924117123954,\n",
       "  0.7540133777475991,\n",
       "  0.8256244926173119,\n",
       "  0.8117683529772554,\n",
       "  0.7587597642737218,\n",
       "  0.7928211799483561,\n",
       "  0.7907306782509602,\n",
       "  0.7907306782509602],\n",
       " 'train_loss_history': [0.4421313327071543,\n",
       "  0.19548283539870565,\n",
       "  0.1186104439416846,\n",
       "  0.0723404538678962,\n",
       "  0.05704137880469936,\n",
       "  0.040246722279616405,\n",
       "  0.026219445213345353,\n",
       "  0.015770059697864394,\n",
       "  0.022194670024294073,\n",
       "  0.0201640980191223,\n",
       "  0.007451911496737029,\n",
       "  0.006263592299737058,\n",
       "  0.004708399535028456,\n",
       "  0.007113202604945628,\n",
       "  0.0015880570519373899,\n",
       "  0.0035276494785739924,\n",
       "  8.878384218941862e-05,\n",
       "  0.0006899052556953796,\n",
       "  7.608930745421715e-07,\n",
       "  3.493261327327111e-07],\n",
       " 'dev_loss_history': [0.20799756050109863,\n",
       "  0.19273926317691803,\n",
       "  0.12733331322669983,\n",
       "  0.13939329981803894,\n",
       "  0.14632125198841095,\n",
       "  0.13313010334968567,\n",
       "  0.1990513652563095,\n",
       "  0.21416178345680237,\n",
       "  0.2631814777851105,\n",
       "  0.18452776968479156,\n",
       "  0.21056701242923737,\n",
       "  0.21344774961471558,\n",
       "  0.1919635832309723,\n",
       "  0.23365266621112823,\n",
       "  0.21397148072719574,\n",
       "  0.22113460302352905,\n",
       "  0.2632475793361664,\n",
       "  0.2795083224773407,\n",
       "  0.2804284691810608,\n",
       "  0.2806123197078705]}"
      ]
     },
     "metadata": {},
     "execution_count": 16
    }
   ],
   "source": [
    "trainer.fine_tune(\n",
    "    'data/comp1/relations/',\n",
    "    max_epochs=20,\n",
    "    learning_rate=4e-5,\n",
    "    mini_batch_size=8,\n",
    "    main_evaluation_metric=(\"macro avg\", \"f1-score\"),\n",
    "    shuffle=True,\n",
    "    embeddings_storage_mode='gpu',\n",
    ")"
   ]
  },
  {
   "cell_type": "markdown",
   "source": [
    "### Using 2-step\n",
    "Here we load the trained models and see if they work as intended."
   ],
   "metadata": {
    "id": "uuS8SrUIU21H"
   }
  },
  {
   "cell_type": "code",
   "execution_count": 4,
   "metadata": {
    "colab": {
     "base_uri": "https://localhost:8080/"
    },
    "id": "5RGkEnChWsiE",
    "outputId": "0e96c8cb-c6c5-4fa2-919a-4aa9e99a470c"
   },
   "outputs": [
    {
     "output_type": "stream",
     "name": "stdout",
     "text": [
      "2023-11-10 12:35:09,666 SequenceTagger predicts: Dictionary with 11 tags: O, B-Winner, I-Winner, B-Date, I-Date, B-Nationality, I-Nationality, B-Prizetype, I-Prizetype, B-Reason, I-Reason\n"
     ]
    }
   ],
   "source": [
    "loaded_ner = SequenceTagger.load(\"data/comp1/ner/final-model.pt\")\n",
    "loaded_re: RelationClassifier = RelationClassifier.load('data/comp1/relations/final-model.pt')"
   ]
  },
  {
   "cell_type": "code",
   "execution_count": 4,
   "metadata": {
    "id": "fy2b846Fxr1D",
    "colab": {
     "base_uri": "https://localhost:8080/"
    },
    "outputId": "c246e120-dad8-44cc-d147-7a0359508770"
   },
   "outputs": [
    {
     "output_type": "stream",
     "name": "stdout",
     "text": [
      "{'text': 'Barack Hussein Obama II ( born August 4, 1961) is an American politician who served as the 44th president of the United States from 2009 to 2017. A member of the Democratic Party, he was the first African-American president. Obama previously served as a U.S. senator representing Illinois from 2005 to 2008 and as an Illinois state senator from 1997 to 2004, and worked as a civil rights lawyer and university lecturer.', 'all labels': [{'value': 'Winner', 'confidence': 0.9999329149723053}, {'value': 'Date', 'confidence': 0.9999633431434631}, {'value': 'Nationality', 'confidence': 0.9999721050262451}, {'value': 'Nationality', 'confidence': 0.9999365409215292}, {'value': 'Winner', 'confidence': 0.9998683929443359}, {'value': 'Winner', 'confidence': 0.9999294281005859}, {'value': 'Nationality', 'confidence': 0.9999485015869141}, {'value': 'Nationality', 'confidence': 0.5977905988693237}, {'value': 'Nationality', 'confidence': 0.999382495880127}, {'value': 'born_on', 'confidence': 0.9999969005584717}, {'value': 'has_nationality', 'confidence': 0.999997615814209}, {'value': '', 'confidence': 0.9999995231628418}, {'value': '', 'confidence': 0.9999996423721313}, {'value': '', 'confidence': 0.9999996423721313}, {'value': '', 'confidence': 0.9999996423721313}, {'value': '', 'confidence': 0.9999998807907104}, {'value': '', 'confidence': 0.9999997615814209}, {'value': '', 'confidence': 0.9999997615814209}, {'value': '', 'confidence': 0.9999990463256836}, {'value': '', 'confidence': 0.9999995231628418}, {'value': '', 'confidence': 0.9999996423721313}, {'value': '', 'confidence': 1.0}, {'value': '', 'confidence': 0.9999996423721313}, {'value': '', 'confidence': 0.9999996423721313}, {'value': '', 'confidence': 0.999910831451416}, {'value': '', 'confidence': 0.9999977350234985}, {'value': '', 'confidence': 0.999998927116394}]}\n",
      "['Relation[0:4][6:10]: \"Barack Hussein Obama II -> August 4, 1961\"'/'born_on' (1.0), 'Relation[0:4][13:14]: \"Barack Hussein Obama II -> American\"'/'has_nationality' (1.0), 'Relation[0:4][22:25]: \"Barack Hussein Obama II -> the United States\"'/'' (1.0), 'Relation[0:4][49:50]: \"Barack Hussein Obama II -> U.S.\"'/'' (1.0), 'Relation[0:4][52:53]: \"Barack Hussein Obama II -> Illinois\"'/'' (1.0), 'Relation[0:4][60:61]: \"Barack Hussein Obama II -> Illinois\"'/'' (1.0), 'Relation[37:38][6:10]: \"he -> August 4, 1961\"'/'' (1.0), 'Relation[44:45][6:10]: \"Obama -> August 4, 1961\"'/'' (1.0), 'Relation[37:38][13:14]: \"he -> American\"'/'' (1.0), 'Relation[44:45][13:14]: \"Obama -> American\"'/'' (1.0), 'Relation[37:38][22:25]: \"he -> the United States\"'/'' (1.0), 'Relation[44:45][22:25]: \"Obama -> the United States\"'/'' (1.0), 'Relation[37:38][49:50]: \"he -> U.S.\"'/'' (1.0), 'Relation[37:38][52:53]: \"he -> Illinois\"'/'' (1.0), 'Relation[37:38][60:61]: \"he -> Illinois\"'/'' (1.0), 'Relation[44:45][49:50]: \"Obama -> U.S.\"'/'' (0.9999), 'Relation[44:45][52:53]: \"Obama -> Illinois\"'/'' (1.0), 'Relation[44:45][60:61]: \"Obama -> Illinois\"'/'' (1.0)]\n"
     ]
    }
   ],
   "source": [
    "sentence = Sentence('Barack Hussein Obama II ( born August 4, 1961) is an American politician who served as the 44th president of the United States from 2009 to 2017. A member of the Democratic Party, he was the first African-American president. Obama previously served as a U.S. senator representing Illinois from 2005 to 2008 and as an Illinois state senator from 1997 to 2004, and worked as a civil rights lawyer and university lecturer. ')\n",
    "loaded_ner.predict(sentence)\n",
    "loaded_re.predict(sentence)\n",
    "print(sentence.to_dict())\n",
    "print(sentence.get_labels('relation'))"
   ]
  },
  {
   "cell_type": "markdown",
   "source": [
    "Here we apply the 2-step Relation Extraction to our test set. We simply load the json created in label-studio, run both models sequentially and create two files. One file contains only the from text, to text and label information. The other contains both the entities, relations, their confidence and all tokens.\n",
    "\n",
    "The latter file can be used for pruning low-confidence predictions."
   ],
   "metadata": {
    "id": "YFS05TMvVZBB"
   }
  },
  {
   "cell_type": "code",
   "execution_count": null,
   "metadata": {
    "id": "zMtuVMCK3oga"
   },
   "outputs": [],
   "source": [
    "test_set = srsly.read_json('comp1_test_set.json')\n",
    "all_relations = {}\n",
    "document_dicts = []\n",
    "for document in test_set:\n",
    "  sentence = Sentence(document[\"data\"][\"text\"])\n",
    "  loaded_ner.predict(sentence)\n",
    "  loaded_re.predict(sentence)\n",
    "  sent_dict = sentence.to_dict()\n",
    "  all_relations[document[\"data\"][\"title\"]] = [(relation[\"from_text\"], relation[\"to_text\"], relation[\"labels\"][0][\"value\"]) for relation in sent_dict[\"relations\"] if len(relation[\"labels\"][0][\"value\"]) > 0]\n",
    "  document_dicts.append(sentence.to_dict())\n",
    "\n",
    "\n",
    "srsly.write_json('comp1_relations.json', all_relations)\n",
    "srsly.write_json('comp1_output.json', document_dicts)\n"
   ]
  },
  {
   "cell_type": "markdown",
   "metadata": {
    "id": "3PAzPtIz6K44"
   },
   "source": [
    "# Component 2\n",
    "For component 2 a very similar model is used.\n",
    "The conll files and corpus are created in the same way as before."
   ]
  },
  {
   "cell_type": "code",
   "execution_count": null,
   "metadata": {
    "id": "8tRls-Kp6Ria"
   },
   "outputs": [],
   "source": [
    "train_json = srsly.read_json('comp2_train_set.json')\n",
    "make_conll(train_json, key_field='Abstract_new', file_name='data/comp2_train_set')\n",
    "\n",
    "test_json = srsly.read_json('comp2_test_set.json')\n",
    "make_conll(test_json, key_field='Abstract_new', file_name='data/comp2_test_set')\n",
    "\n",
    "# Split the train file into train/dev split\n",
    "with open('data/comp2_train_set.conll') as f:\n",
    "  data = f.read()\n",
    "  splits = data.split(2*os.linesep)\n",
    "  splits = sorted(splits, key=lambda x: random.random())\n",
    "\n",
    "  train = splits[:90]\n",
    "  dev = splits[90:]\n",
    "\n",
    "  write_conll('data/comp2/train.conll', train)\n",
    "  write_conll('data/comp2/dev.conll', dev)\n",
    "\n",
    "with open('data/comp2_test_set.conll') as f:\n",
    "  data = f.read()\n",
    "  splits = data.split(2*os.linesep)\n",
    "\n",
    "  write_conll('data/comp2/test.conll', splits)\n"
   ]
  },
  {
   "cell_type": "code",
   "execution_count": null,
   "metadata": {
    "id": "XV5WFvst_lQI"
   },
   "outputs": [],
   "source": [
    "columns = {1: 'text', 2: 'ner'}\n",
    "data_folder = ''\n",
    "\n",
    "corpus: Corpus = ColumnCorpus(data_folder, columns,\n",
    "                              train_file='data/comp2/train.conll',\n",
    "                              test_file='data/comp2/test.conll',\n",
    "                              dev_file='data/comp2/dev.conll')\n",
    "print(f'Corpus size: {len(corpus.train)}')"
   ]
  },
  {
   "cell_type": "markdown",
   "source": [
    "Note here the change in subtoken pooling, to include the mean of all subtokens, rather than only the first. This improved performance substantially for component 2."
   ],
   "metadata": {
    "id": "y3rQNNmYWxcp"
   }
  },
  {
   "cell_type": "code",
   "execution_count": null,
   "metadata": {
    "id": "C-_QKnf0KJuV"
   },
   "outputs": [],
   "source": [
    "# tag to predict\n",
    "tag_type = 'ner'# make tag dictionary from the corpus\n",
    "tag_dictionary = corpus.make_label_dictionary(label_type=tag_type)\n",
    "\n",
    "embeddings = TransformerWordEmbeddings(\n",
    "    model='distilbert-base-cased',\n",
    "    layers=\"-1\",\n",
    "    subtoken_pooling='mean',\n",
    "    fine_tune=True,\n",
    "    use_context=True,\n",
    "    respect_document_boundaries=False,\n",
    ")\n",
    "\n",
    "tagger: SequenceTagger = SequenceTagger(\n",
    "        hidden_size=256,\n",
    "        embeddings=embeddings,\n",
    "        tag_dictionary=tag_dictionary,\n",
    "        tag_type=tag_type,\n",
    "        use_crf=False,\n",
    "        use_rnn=False,\n",
    "        reproject_embeddings=False,\n",
    "        tag_format='BIO'\n",
    "    )"
   ]
  },
  {
   "cell_type": "code",
   "execution_count": null,
   "metadata": {
    "id": "pCh35WWsKW-V"
   },
   "outputs": [],
   "source": [
    "trainer : ModelTrainer = ModelTrainer(tagger, corpus)\n",
    "\n",
    "trainer.fine_tune(\n",
    "        'data/comp2/ner/',\n",
    "        learning_rate=5e-05,\n",
    "        mini_batch_size=16,\n",
    "        max_epochs=100,\n",
    "        embeddings_storage_mode='gpu', # cpu, gpu\n",
    "        weight_decay=0.0,\n",
    "    )"
   ]
  },
  {
   "cell_type": "markdown",
   "metadata": {
    "id": "7-Elw87EjSnI"
   },
   "source": [
    "### RE component 2"
   ]
  },
  {
   "cell_type": "code",
   "execution_count": null,
   "metadata": {
    "id": "9DFZLB3ejR67"
   },
   "outputs": [],
   "source": [
    "relation_label_dict = corpus.make_label_dictionary(label_type=\"relation\")\n",
    "relation_dictionary = corpus.make_label_dictionary(\"relation\")\n",
    "doc_embeddings = TransformerDocumentEmbeddings(model=\"distilbert-base-uncased\", layers=\"-1\", fine_tune=True)\n",
    "relation_model: RelationClassifier = RelationClassifier(\n",
    "    embeddings =doc_embeddings,\n",
    "    label_dictionary = relation_dictionary,\n",
    "    label_type=\"relation\",\n",
    "    entity_label_types=\"ner\",\n",
    "    entity_pair_labels={  # Define valid entity pair combinations, used as relation candidates\n",
    "        (\"Person\", \"Component\"),\n",
    "        (\"Person\", \"Time\"),\n",
    "        (\"Person\", \"Date\"),\n",
    "        (\"Person\", \"Person\"),\n",
    "        (\"Component\", \"Person\"),\n",
    "        (\"Component\", \"Date\"),\n",
    "        (\"Component\", \"Time\"),\n",
    "        (\"Component\", \"Component\")\n",
    "    },\n",
    "    zero_tag_value='',\n",
    "    allow_unk_tag=False,\n",
    ")"
   ]
  },
  {
   "cell_type": "code",
   "execution_count": null,
   "metadata": {
    "id": "R4WF-QQ1kU-K"
   },
   "outputs": [],
   "source": [
    "trainer: ModelTrainer = ModelTrainer(model=relation_model, corpus=relation_model.transform_corpus(corpus))\n",
    "trainer.fine_tune(\n",
    "    'data/comp2/relations/',\n",
    "    max_epochs=20,\n",
    "    learning_rate=4e-5,\n",
    "    mini_batch_size=8,\n",
    "    main_evaluation_metric=(\"macro avg\", \"f1-score\"),\n",
    "    shuffle=True,\n",
    "    embeddings_storage_mode='gpu',\n",
    ")"
   ]
  },
  {
   "cell_type": "markdown",
   "metadata": {
    "id": "5pPFdAgtnEZT"
   },
   "source": [
    "### Using 2-step RE on the validation set\n",
    "The models are used on the test set for component 2, the same as for component 1.\n"
   ]
  },
  {
   "cell_type": "code",
   "execution_count": 2,
   "metadata": {
    "id": "9RRC9tdro_EZ",
    "colab": {
     "base_uri": "https://localhost:8080/"
    },
    "outputId": "3b4821c9-fcab-4d30-b32a-1dab9f0ae77f"
   },
   "outputs": [
    {
     "output_type": "stream",
     "name": "stdout",
     "text": [
      "2023-11-10 12:33:24,361 SequenceTagger predicts: Dictionary with 9 tags: O, B-Component, I-Component, B-Person, I-Person, B-Time, I-Time, B-Date, I-Date\n"
     ]
    }
   ],
   "source": [
    "# Load both models, identical to comp 1\n",
    "loaded_ner = SequenceTagger.load(\"data/comp2/ner/final-model.pt\")\n",
    "loaded_re: RelationClassifier = RelationClassifier.load('data/comp2/relations/final-model.pt')"
   ]
  },
  {
   "cell_type": "code",
   "execution_count": null,
   "metadata": {
    "id": "t9knvdT8nDz8"
   },
   "outputs": [],
   "source": [
    "# process all test data and store the result\n",
    "test_set = srsly.read_json('comp2_test_set.json')\n",
    "all_relations = {}\n",
    "document_dicts = []\n",
    "for document in test_set:\n",
    "  sentence = Sentence(document[\"data\"][\"Abstract_new\"])\n",
    "  loaded_ner.predict(sentence)\n",
    "  loaded_re.predict(sentence)\n",
    "  sent_dict = sentence.to_dict()\n",
    "  unique_id = \" \".join([str(document[\"data\"][\"EventDt\"]), document[\"data\"][\"IPFCode\"], document[\"data\"][\"IPFShortDesc\"], str(document[\"inner_id\"])])\n",
    "  all_relations[unique_id] = [(relation[\"from_text\"], relation[\"to_text\"], relation[\"labels\"][0][\"value\"]) for relation in sent_dict[\"relations\"] if len(relation[\"labels\"][0][\"value\"]) > 0]\n",
    "  document_dicts.append(sentence.to_dict())\n",
    "\n",
    "\n",
    "srsly.write_json('comp2_relations.json', all_relations)\n",
    "srsly.write_json('comp2_output.json', document_dicts)\n"
   ]
  }
 ],
 "metadata": {
  "colab": {
   "provenance": [],
   "gpuType": "V100",
   "mount_file_id": "1nJyobPPjS1bpgSmPWTL_1Mf58q2VWPad",
   "authorship_tag": "ABX9TyMLVFMpgufCr24PFKSCSqTt",
   "include_colab_link": true
  },
  "kernelspec": {
   "display_name": "Python 3",
   "name": "python3"
  },
  "language_info": {
   "name": "python"
  },
  "widgets": {
   "application/vnd.jupyter.widget-state+json": {
    "71fcdffb0b0349bb876d41bbbcb3a9a4": {
     "model_module": "@jupyter-widgets/controls",
     "model_name": "HBoxModel",
     "model_module_version": "1.5.0",
     "state": {
      "_dom_classes": [],
      "_model_module": "@jupyter-widgets/controls",
      "_model_module_version": "1.5.0",
      "_model_name": "HBoxModel",
      "_view_count": null,
      "_view_module": "@jupyter-widgets/controls",
      "_view_module_version": "1.5.0",
      "_view_name": "HBoxView",
      "box_style": "",
      "children": [
       "IPY_MODEL_96f273399fba4b3b97b9529d60e9eb14",
       "IPY_MODEL_93828fab9a2c4105ad393776efa117d7",
       "IPY_MODEL_7ecc4cead9b64fc4b7fe1505500e3fb3"
      ],
      "layout": "IPY_MODEL_25cd901ad8274a73955c2d6884a29616"
     }
    },
    "96f273399fba4b3b97b9529d60e9eb14": {
     "model_module": "@jupyter-widgets/controls",
     "model_name": "HTMLModel",
     "model_module_version": "1.5.0",
     "state": {
      "_dom_classes": [],
      "_model_module": "@jupyter-widgets/controls",
      "_model_module_version": "1.5.0",
      "_model_name": "HTMLModel",
      "_view_count": null,
      "_view_module": "@jupyter-widgets/controls",
      "_view_module_version": "1.5.0",
      "_view_name": "HTMLView",
      "description": "",
      "description_tooltip": null,
      "layout": "IPY_MODEL_779e5742ce7f482bb52b214ee1fcb24e",
      "placeholder": "​",
      "style": "IPY_MODEL_f113187b59704ac6acad591895034bb5",
      "value": "Downloading (…)okenizer_config.json: 100%"
     }
    },
    "93828fab9a2c4105ad393776efa117d7": {
     "model_module": "@jupyter-widgets/controls",
     "model_name": "FloatProgressModel",
     "model_module_version": "1.5.0",
     "state": {
      "_dom_classes": [],
      "_model_module": "@jupyter-widgets/controls",
      "_model_module_version": "1.5.0",
      "_model_name": "FloatProgressModel",
      "_view_count": null,
      "_view_module": "@jupyter-widgets/controls",
      "_view_module_version": "1.5.0",
      "_view_name": "ProgressView",
      "bar_style": "success",
      "description": "",
      "description_tooltip": null,
      "layout": "IPY_MODEL_27e18f7b699747678c4f75660d34426f",
      "max": 29,
      "min": 0,
      "orientation": "horizontal",
      "style": "IPY_MODEL_7941087665ae468cbfd76b663c14a7c9",
      "value": 29
     }
    },
    "7ecc4cead9b64fc4b7fe1505500e3fb3": {
     "model_module": "@jupyter-widgets/controls",
     "model_name": "HTMLModel",
     "model_module_version": "1.5.0",
     "state": {
      "_dom_classes": [],
      "_model_module": "@jupyter-widgets/controls",
      "_model_module_version": "1.5.0",
      "_model_name": "HTMLModel",
      "_view_count": null,
      "_view_module": "@jupyter-widgets/controls",
      "_view_module_version": "1.5.0",
      "_view_name": "HTMLView",
      "description": "",
      "description_tooltip": null,
      "layout": "IPY_MODEL_37d898c4d4bf4e14bc698f6193887299",
      "placeholder": "​",
      "style": "IPY_MODEL_87e83ae2a39849c4a5fe533921402ed7",
      "value": " 29.0/29.0 [00:00&lt;00:00, 1.37kB/s]"
     }
    },
    "25cd901ad8274a73955c2d6884a29616": {
     "model_module": "@jupyter-widgets/base",
     "model_name": "LayoutModel",
     "model_module_version": "1.2.0",
     "state": {
      "_model_module": "@jupyter-widgets/base",
      "_model_module_version": "1.2.0",
      "_model_name": "LayoutModel",
      "_view_count": null,
      "_view_module": "@jupyter-widgets/base",
      "_view_module_version": "1.2.0",
      "_view_name": "LayoutView",
      "align_content": null,
      "align_items": null,
      "align_self": null,
      "border": null,
      "bottom": null,
      "display": null,
      "flex": null,
      "flex_flow": null,
      "grid_area": null,
      "grid_auto_columns": null,
      "grid_auto_flow": null,
      "grid_auto_rows": null,
      "grid_column": null,
      "grid_gap": null,
      "grid_row": null,
      "grid_template_areas": null,
      "grid_template_columns": null,
      "grid_template_rows": null,
      "height": null,
      "justify_content": null,
      "justify_items": null,
      "left": null,
      "margin": null,
      "max_height": null,
      "max_width": null,
      "min_height": null,
      "min_width": null,
      "object_fit": null,
      "object_position": null,
      "order": null,
      "overflow": null,
      "overflow_x": null,
      "overflow_y": null,
      "padding": null,
      "right": null,
      "top": null,
      "visibility": null,
      "width": null
     }
    },
    "779e5742ce7f482bb52b214ee1fcb24e": {
     "model_module": "@jupyter-widgets/base",
     "model_name": "LayoutModel",
     "model_module_version": "1.2.0",
     "state": {
      "_model_module": "@jupyter-widgets/base",
      "_model_module_version": "1.2.0",
      "_model_name": "LayoutModel",
      "_view_count": null,
      "_view_module": "@jupyter-widgets/base",
      "_view_module_version": "1.2.0",
      "_view_name": "LayoutView",
      "align_content": null,
      "align_items": null,
      "align_self": null,
      "border": null,
      "bottom": null,
      "display": null,
      "flex": null,
      "flex_flow": null,
      "grid_area": null,
      "grid_auto_columns": null,
      "grid_auto_flow": null,
      "grid_auto_rows": null,
      "grid_column": null,
      "grid_gap": null,
      "grid_row": null,
      "grid_template_areas": null,
      "grid_template_columns": null,
      "grid_template_rows": null,
      "height": null,
      "justify_content": null,
      "justify_items": null,
      "left": null,
      "margin": null,
      "max_height": null,
      "max_width": null,
      "min_height": null,
      "min_width": null,
      "object_fit": null,
      "object_position": null,
      "order": null,
      "overflow": null,
      "overflow_x": null,
      "overflow_y": null,
      "padding": null,
      "right": null,
      "top": null,
      "visibility": null,
      "width": null
     }
    },
    "f113187b59704ac6acad591895034bb5": {
     "model_module": "@jupyter-widgets/controls",
     "model_name": "DescriptionStyleModel",
     "model_module_version": "1.5.0",
     "state": {
      "_model_module": "@jupyter-widgets/controls",
      "_model_module_version": "1.5.0",
      "_model_name": "DescriptionStyleModel",
      "_view_count": null,
      "_view_module": "@jupyter-widgets/base",
      "_view_module_version": "1.2.0",
      "_view_name": "StyleView",
      "description_width": ""
     }
    },
    "27e18f7b699747678c4f75660d34426f": {
     "model_module": "@jupyter-widgets/base",
     "model_name": "LayoutModel",
     "model_module_version": "1.2.0",
     "state": {
      "_model_module": "@jupyter-widgets/base",
      "_model_module_version": "1.2.0",
      "_model_name": "LayoutModel",
      "_view_count": null,
      "_view_module": "@jupyter-widgets/base",
      "_view_module_version": "1.2.0",
      "_view_name": "LayoutView",
      "align_content": null,
      "align_items": null,
      "align_self": null,
      "border": null,
      "bottom": null,
      "display": null,
      "flex": null,
      "flex_flow": null,
      "grid_area": null,
      "grid_auto_columns": null,
      "grid_auto_flow": null,
      "grid_auto_rows": null,
      "grid_column": null,
      "grid_gap": null,
      "grid_row": null,
      "grid_template_areas": null,
      "grid_template_columns": null,
      "grid_template_rows": null,
      "height": null,
      "justify_content": null,
      "justify_items": null,
      "left": null,
      "margin": null,
      "max_height": null,
      "max_width": null,
      "min_height": null,
      "min_width": null,
      "object_fit": null,
      "object_position": null,
      "order": null,
      "overflow": null,
      "overflow_x": null,
      "overflow_y": null,
      "padding": null,
      "right": null,
      "top": null,
      "visibility": null,
      "width": null
     }
    },
    "7941087665ae468cbfd76b663c14a7c9": {
     "model_module": "@jupyter-widgets/controls",
     "model_name": "ProgressStyleModel",
     "model_module_version": "1.5.0",
     "state": {
      "_model_module": "@jupyter-widgets/controls",
      "_model_module_version": "1.5.0",
      "_model_name": "ProgressStyleModel",
      "_view_count": null,
      "_view_module": "@jupyter-widgets/base",
      "_view_module_version": "1.2.0",
      "_view_name": "StyleView",
      "bar_color": null,
      "description_width": ""
     }
    },
    "37d898c4d4bf4e14bc698f6193887299": {
     "model_module": "@jupyter-widgets/base",
     "model_name": "LayoutModel",
     "model_module_version": "1.2.0",
     "state": {
      "_model_module": "@jupyter-widgets/base",
      "_model_module_version": "1.2.0",
      "_model_name": "LayoutModel",
      "_view_count": null,
      "_view_module": "@jupyter-widgets/base",
      "_view_module_version": "1.2.0",
      "_view_name": "LayoutView",
      "align_content": null,
      "align_items": null,
      "align_self": null,
      "border": null,
      "bottom": null,
      "display": null,
      "flex": null,
      "flex_flow": null,
      "grid_area": null,
      "grid_auto_columns": null,
      "grid_auto_flow": null,
      "grid_auto_rows": null,
      "grid_column": null,
      "grid_gap": null,
      "grid_row": null,
      "grid_template_areas": null,
      "grid_template_columns": null,
      "grid_template_rows": null,
      "height": null,
      "justify_content": null,
      "justify_items": null,
      "left": null,
      "margin": null,
      "max_height": null,
      "max_width": null,
      "min_height": null,
      "min_width": null,
      "object_fit": null,
      "object_position": null,
      "order": null,
      "overflow": null,
      "overflow_x": null,
      "overflow_y": null,
      "padding": null,
      "right": null,
      "top": null,
      "visibility": null,
      "width": null
     }
    },
    "87e83ae2a39849c4a5fe533921402ed7": {
     "model_module": "@jupyter-widgets/controls",
     "model_name": "DescriptionStyleModel",
     "model_module_version": "1.5.0",
     "state": {
      "_model_module": "@jupyter-widgets/controls",
      "_model_module_version": "1.5.0",
      "_model_name": "DescriptionStyleModel",
      "_view_count": null,
      "_view_module": "@jupyter-widgets/base",
      "_view_module_version": "1.2.0",
      "_view_name": "StyleView",
      "description_width": ""
     }
    },
    "fff9a17f54514e8caf1abe21f1275dd4": {
     "model_module": "@jupyter-widgets/controls",
     "model_name": "HBoxModel",
     "model_module_version": "1.5.0",
     "state": {
      "_dom_classes": [],
      "_model_module": "@jupyter-widgets/controls",
      "_model_module_version": "1.5.0",
      "_model_name": "HBoxModel",
      "_view_count": null,
      "_view_module": "@jupyter-widgets/controls",
      "_view_module_version": "1.5.0",
      "_view_name": "HBoxView",
      "box_style": "",
      "children": [
       "IPY_MODEL_6d926dea05834ee8bb81c37974f6e4d2",
       "IPY_MODEL_bb73f9c36e054d3b90179c0219e810e9",
       "IPY_MODEL_740c2ccce0d64ef9a0ccbdc17b0a6322"
      ],
      "layout": "IPY_MODEL_4b0ef0205ba44c069a581f8fb8940bfd"
     }
    },
    "6d926dea05834ee8bb81c37974f6e4d2": {
     "model_module": "@jupyter-widgets/controls",
     "model_name": "HTMLModel",
     "model_module_version": "1.5.0",
     "state": {
      "_dom_classes": [],
      "_model_module": "@jupyter-widgets/controls",
      "_model_module_version": "1.5.0",
      "_model_name": "HTMLModel",
      "_view_count": null,
      "_view_module": "@jupyter-widgets/controls",
      "_view_module_version": "1.5.0",
      "_view_name": "HTMLView",
      "description": "",
      "description_tooltip": null,
      "layout": "IPY_MODEL_575a1b6160194615899b7f7bec4894a8",
      "placeholder": "​",
      "style": "IPY_MODEL_8a77441e81eb4037a0f4710e01efeff6",
      "value": "Downloading (…)lve/main/config.json: 100%"
     }
    },
    "bb73f9c36e054d3b90179c0219e810e9": {
     "model_module": "@jupyter-widgets/controls",
     "model_name": "FloatProgressModel",
     "model_module_version": "1.5.0",
     "state": {
      "_dom_classes": [],
      "_model_module": "@jupyter-widgets/controls",
      "_model_module_version": "1.5.0",
      "_model_name": "FloatProgressModel",
      "_view_count": null,
      "_view_module": "@jupyter-widgets/controls",
      "_view_module_version": "1.5.0",
      "_view_name": "ProgressView",
      "bar_style": "success",
      "description": "",
      "description_tooltip": null,
      "layout": "IPY_MODEL_b07eda90762c494981cf52b0c3cc8125",
      "max": 465,
      "min": 0,
      "orientation": "horizontal",
      "style": "IPY_MODEL_ad4f7ff461f34086a1219fc0cea02ebc",
      "value": 465
     }
    },
    "740c2ccce0d64ef9a0ccbdc17b0a6322": {
     "model_module": "@jupyter-widgets/controls",
     "model_name": "HTMLModel",
     "model_module_version": "1.5.0",
     "state": {
      "_dom_classes": [],
      "_model_module": "@jupyter-widgets/controls",
      "_model_module_version": "1.5.0",
      "_model_name": "HTMLModel",
      "_view_count": null,
      "_view_module": "@jupyter-widgets/controls",
      "_view_module_version": "1.5.0",
      "_view_name": "HTMLView",
      "description": "",
      "description_tooltip": null,
      "layout": "IPY_MODEL_0250b671433a4e34a8c04e928c7cd667",
      "placeholder": "​",
      "style": "IPY_MODEL_4a2b0fba25034b879f7659d457c24d93",
      "value": " 465/465 [00:00&lt;00:00, 19.2kB/s]"
     }
    },
    "4b0ef0205ba44c069a581f8fb8940bfd": {
     "model_module": "@jupyter-widgets/base",
     "model_name": "LayoutModel",
     "model_module_version": "1.2.0",
     "state": {
      "_model_module": "@jupyter-widgets/base",
      "_model_module_version": "1.2.0",
      "_model_name": "LayoutModel",
      "_view_count": null,
      "_view_module": "@jupyter-widgets/base",
      "_view_module_version": "1.2.0",
      "_view_name": "LayoutView",
      "align_content": null,
      "align_items": null,
      "align_self": null,
      "border": null,
      "bottom": null,
      "display": null,
      "flex": null,
      "flex_flow": null,
      "grid_area": null,
      "grid_auto_columns": null,
      "grid_auto_flow": null,
      "grid_auto_rows": null,
      "grid_column": null,
      "grid_gap": null,
      "grid_row": null,
      "grid_template_areas": null,
      "grid_template_columns": null,
      "grid_template_rows": null,
      "height": null,
      "justify_content": null,
      "justify_items": null,
      "left": null,
      "margin": null,
      "max_height": null,
      "max_width": null,
      "min_height": null,
      "min_width": null,
      "object_fit": null,
      "object_position": null,
      "order": null,
      "overflow": null,
      "overflow_x": null,
      "overflow_y": null,
      "padding": null,
      "right": null,
      "top": null,
      "visibility": null,
      "width": null
     }
    },
    "575a1b6160194615899b7f7bec4894a8": {
     "model_module": "@jupyter-widgets/base",
     "model_name": "LayoutModel",
     "model_module_version": "1.2.0",
     "state": {
      "_model_module": "@jupyter-widgets/base",
      "_model_module_version": "1.2.0",
      "_model_name": "LayoutModel",
      "_view_count": null,
      "_view_module": "@jupyter-widgets/base",
      "_view_module_version": "1.2.0",
      "_view_name": "LayoutView",
      "align_content": null,
      "align_items": null,
      "align_self": null,
      "border": null,
      "bottom": null,
      "display": null,
      "flex": null,
      "flex_flow": null,
      "grid_area": null,
      "grid_auto_columns": null,
      "grid_auto_flow": null,
      "grid_auto_rows": null,
      "grid_column": null,
      "grid_gap": null,
      "grid_row": null,
      "grid_template_areas": null,
      "grid_template_columns": null,
      "grid_template_rows": null,
      "height": null,
      "justify_content": null,
      "justify_items": null,
      "left": null,
      "margin": null,
      "max_height": null,
      "max_width": null,
      "min_height": null,
      "min_width": null,
      "object_fit": null,
      "object_position": null,
      "order": null,
      "overflow": null,
      "overflow_x": null,
      "overflow_y": null,
      "padding": null,
      "right": null,
      "top": null,
      "visibility": null,
      "width": null
     }
    },
    "8a77441e81eb4037a0f4710e01efeff6": {
     "model_module": "@jupyter-widgets/controls",
     "model_name": "DescriptionStyleModel",
     "model_module_version": "1.5.0",
     "state": {
      "_model_module": "@jupyter-widgets/controls",
      "_model_module_version": "1.5.0",
      "_model_name": "DescriptionStyleModel",
      "_view_count": null,
      "_view_module": "@jupyter-widgets/base",
      "_view_module_version": "1.2.0",
      "_view_name": "StyleView",
      "description_width": ""
     }
    },
    "b07eda90762c494981cf52b0c3cc8125": {
     "model_module": "@jupyter-widgets/base",
     "model_name": "LayoutModel",
     "model_module_version": "1.2.0",
     "state": {
      "_model_module": "@jupyter-widgets/base",
      "_model_module_version": "1.2.0",
      "_model_name": "LayoutModel",
      "_view_count": null,
      "_view_module": "@jupyter-widgets/base",
      "_view_module_version": "1.2.0",
      "_view_name": "LayoutView",
      "align_content": null,
      "align_items": null,
      "align_self": null,
      "border": null,
      "bottom": null,
      "display": null,
      "flex": null,
      "flex_flow": null,
      "grid_area": null,
      "grid_auto_columns": null,
      "grid_auto_flow": null,
      "grid_auto_rows": null,
      "grid_column": null,
      "grid_gap": null,
      "grid_row": null,
      "grid_template_areas": null,
      "grid_template_columns": null,
      "grid_template_rows": null,
      "height": null,
      "justify_content": null,
      "justify_items": null,
      "left": null,
      "margin": null,
      "max_height": null,
      "max_width": null,
      "min_height": null,
      "min_width": null,
      "object_fit": null,
      "object_position": null,
      "order": null,
      "overflow": null,
      "overflow_x": null,
      "overflow_y": null,
      "padding": null,
      "right": null,
      "top": null,
      "visibility": null,
      "width": null
     }
    },
    "ad4f7ff461f34086a1219fc0cea02ebc": {
     "model_module": "@jupyter-widgets/controls",
     "model_name": "ProgressStyleModel",
     "model_module_version": "1.5.0",
     "state": {
      "_model_module": "@jupyter-widgets/controls",
      "_model_module_version": "1.5.0",
      "_model_name": "ProgressStyleModel",
      "_view_count": null,
      "_view_module": "@jupyter-widgets/base",
      "_view_module_version": "1.2.0",
      "_view_name": "StyleView",
      "bar_color": null,
      "description_width": ""
     }
    },
    "0250b671433a4e34a8c04e928c7cd667": {
     "model_module": "@jupyter-widgets/base",
     "model_name": "LayoutModel",
     "model_module_version": "1.2.0",
     "state": {
      "_model_module": "@jupyter-widgets/base",
      "_model_module_version": "1.2.0",
      "_model_name": "LayoutModel",
      "_view_count": null,
      "_view_module": "@jupyter-widgets/base",
      "_view_module_version": "1.2.0",
      "_view_name": "LayoutView",
      "align_content": null,
      "align_items": null,
      "align_self": null,
      "border": null,
      "bottom": null,
      "display": null,
      "flex": null,
      "flex_flow": null,
      "grid_area": null,
      "grid_auto_columns": null,
      "grid_auto_flow": null,
      "grid_auto_rows": null,
      "grid_column": null,
      "grid_gap": null,
      "grid_row": null,
      "grid_template_areas": null,
      "grid_template_columns": null,
      "grid_template_rows": null,
      "height": null,
      "justify_content": null,
      "justify_items": null,
      "left": null,
      "margin": null,
      "max_height": null,
      "max_width": null,
      "min_height": null,
      "min_width": null,
      "object_fit": null,
      "object_position": null,
      "order": null,
      "overflow": null,
      "overflow_x": null,
      "overflow_y": null,
      "padding": null,
      "right": null,
      "top": null,
      "visibility": null,
      "width": null
     }
    },
    "4a2b0fba25034b879f7659d457c24d93": {
     "model_module": "@jupyter-widgets/controls",
     "model_name": "DescriptionStyleModel",
     "model_module_version": "1.5.0",
     "state": {
      "_model_module": "@jupyter-widgets/controls",
      "_model_module_version": "1.5.0",
      "_model_name": "DescriptionStyleModel",
      "_view_count": null,
      "_view_module": "@jupyter-widgets/base",
      "_view_module_version": "1.2.0",
      "_view_name": "StyleView",
      "description_width": ""
     }
    },
    "d840a73de6de4a15affcc53ca76ecbdd": {
     "model_module": "@jupyter-widgets/controls",
     "model_name": "HBoxModel",
     "model_module_version": "1.5.0",
     "state": {
      "_dom_classes": [],
      "_model_module": "@jupyter-widgets/controls",
      "_model_module_version": "1.5.0",
      "_model_name": "HBoxModel",
      "_view_count": null,
      "_view_module": "@jupyter-widgets/controls",
      "_view_module_version": "1.5.0",
      "_view_name": "HBoxView",
      "box_style": "",
      "children": [
       "IPY_MODEL_13a541ef641d4eeda6228f4091913d71",
       "IPY_MODEL_85ac3de9f8ab47efa6bc7ccda8fe8dee",
       "IPY_MODEL_25e0400a0f81419cb097edef05b2ee3c"
      ],
      "layout": "IPY_MODEL_704d8fd295b247f8ad8b84cab3c2e0bc"
     }
    },
    "13a541ef641d4eeda6228f4091913d71": {
     "model_module": "@jupyter-widgets/controls",
     "model_name": "HTMLModel",
     "model_module_version": "1.5.0",
     "state": {
      "_dom_classes": [],
      "_model_module": "@jupyter-widgets/controls",
      "_model_module_version": "1.5.0",
      "_model_name": "HTMLModel",
      "_view_count": null,
      "_view_module": "@jupyter-widgets/controls",
      "_view_module_version": "1.5.0",
      "_view_name": "HTMLView",
      "description": "",
      "description_tooltip": null,
      "layout": "IPY_MODEL_7477d5772a504a759fa06cbda37f44ef",
      "placeholder": "​",
      "style": "IPY_MODEL_295ac657d29d443891beeb087b87c18a",
      "value": "Downloading (…)solve/main/vocab.txt: 100%"
     }
    },
    "85ac3de9f8ab47efa6bc7ccda8fe8dee": {
     "model_module": "@jupyter-widgets/controls",
     "model_name": "FloatProgressModel",
     "model_module_version": "1.5.0",
     "state": {
      "_dom_classes": [],
      "_model_module": "@jupyter-widgets/controls",
      "_model_module_version": "1.5.0",
      "_model_name": "FloatProgressModel",
      "_view_count": null,
      "_view_module": "@jupyter-widgets/controls",
      "_view_module_version": "1.5.0",
      "_view_name": "ProgressView",
      "bar_style": "success",
      "description": "",
      "description_tooltip": null,
      "layout": "IPY_MODEL_fcfaed7074a24dd99ff10e88228211f2",
      "max": 213450,
      "min": 0,
      "orientation": "horizontal",
      "style": "IPY_MODEL_58bbf02ac7f04af69360f23107dcd9a3",
      "value": 213450
     }
    },
    "25e0400a0f81419cb097edef05b2ee3c": {
     "model_module": "@jupyter-widgets/controls",
     "model_name": "HTMLModel",
     "model_module_version": "1.5.0",
     "state": {
      "_dom_classes": [],
      "_model_module": "@jupyter-widgets/controls",
      "_model_module_version": "1.5.0",
      "_model_name": "HTMLModel",
      "_view_count": null,
      "_view_module": "@jupyter-widgets/controls",
      "_view_module_version": "1.5.0",
      "_view_name": "HTMLView",
      "description": "",
      "description_tooltip": null,
      "layout": "IPY_MODEL_82f9c1eadcb64dccae5251b42548e927",
      "placeholder": "​",
      "style": "IPY_MODEL_dee5dccb15ff482887bd5662e72e3a0c",
      "value": " 213k/213k [00:00&lt;00:00, 1.33MB/s]"
     }
    },
    "704d8fd295b247f8ad8b84cab3c2e0bc": {
     "model_module": "@jupyter-widgets/base",
     "model_name": "LayoutModel",
     "model_module_version": "1.2.0",
     "state": {
      "_model_module": "@jupyter-widgets/base",
      "_model_module_version": "1.2.0",
      "_model_name": "LayoutModel",
      "_view_count": null,
      "_view_module": "@jupyter-widgets/base",
      "_view_module_version": "1.2.0",
      "_view_name": "LayoutView",
      "align_content": null,
      "align_items": null,
      "align_self": null,
      "border": null,
      "bottom": null,
      "display": null,
      "flex": null,
      "flex_flow": null,
      "grid_area": null,
      "grid_auto_columns": null,
      "grid_auto_flow": null,
      "grid_auto_rows": null,
      "grid_column": null,
      "grid_gap": null,
      "grid_row": null,
      "grid_template_areas": null,
      "grid_template_columns": null,
      "grid_template_rows": null,
      "height": null,
      "justify_content": null,
      "justify_items": null,
      "left": null,
      "margin": null,
      "max_height": null,
      "max_width": null,
      "min_height": null,
      "min_width": null,
      "object_fit": null,
      "object_position": null,
      "order": null,
      "overflow": null,
      "overflow_x": null,
      "overflow_y": null,
      "padding": null,
      "right": null,
      "top": null,
      "visibility": null,
      "width": null
     }
    },
    "7477d5772a504a759fa06cbda37f44ef": {
     "model_module": "@jupyter-widgets/base",
     "model_name": "LayoutModel",
     "model_module_version": "1.2.0",
     "state": {
      "_model_module": "@jupyter-widgets/base",
      "_model_module_version": "1.2.0",
      "_model_name": "LayoutModel",
      "_view_count": null,
      "_view_module": "@jupyter-widgets/base",
      "_view_module_version": "1.2.0",
      "_view_name": "LayoutView",
      "align_content": null,
      "align_items": null,
      "align_self": null,
      "border": null,
      "bottom": null,
      "display": null,
      "flex": null,
      "flex_flow": null,
      "grid_area": null,
      "grid_auto_columns": null,
      "grid_auto_flow": null,
      "grid_auto_rows": null,
      "grid_column": null,
      "grid_gap": null,
      "grid_row": null,
      "grid_template_areas": null,
      "grid_template_columns": null,
      "grid_template_rows": null,
      "height": null,
      "justify_content": null,
      "justify_items": null,
      "left": null,
      "margin": null,
      "max_height": null,
      "max_width": null,
      "min_height": null,
      "min_width": null,
      "object_fit": null,
      "object_position": null,
      "order": null,
      "overflow": null,
      "overflow_x": null,
      "overflow_y": null,
      "padding": null,
      "right": null,
      "top": null,
      "visibility": null,
      "width": null
     }
    },
    "295ac657d29d443891beeb087b87c18a": {
     "model_module": "@jupyter-widgets/controls",
     "model_name": "DescriptionStyleModel",
     "model_module_version": "1.5.0",
     "state": {
      "_model_module": "@jupyter-widgets/controls",
      "_model_module_version": "1.5.0",
      "_model_name": "DescriptionStyleModel",
      "_view_count": null,
      "_view_module": "@jupyter-widgets/base",
      "_view_module_version": "1.2.0",
      "_view_name": "StyleView",
      "description_width": ""
     }
    },
    "fcfaed7074a24dd99ff10e88228211f2": {
     "model_module": "@jupyter-widgets/base",
     "model_name": "LayoutModel",
     "model_module_version": "1.2.0",
     "state": {
      "_model_module": "@jupyter-widgets/base",
      "_model_module_version": "1.2.0",
      "_model_name": "LayoutModel",
      "_view_count": null,
      "_view_module": "@jupyter-widgets/base",
      "_view_module_version": "1.2.0",
      "_view_name": "LayoutView",
      "align_content": null,
      "align_items": null,
      "align_self": null,
      "border": null,
      "bottom": null,
      "display": null,
      "flex": null,
      "flex_flow": null,
      "grid_area": null,
      "grid_auto_columns": null,
      "grid_auto_flow": null,
      "grid_auto_rows": null,
      "grid_column": null,
      "grid_gap": null,
      "grid_row": null,
      "grid_template_areas": null,
      "grid_template_columns": null,
      "grid_template_rows": null,
      "height": null,
      "justify_content": null,
      "justify_items": null,
      "left": null,
      "margin": null,
      "max_height": null,
      "max_width": null,
      "min_height": null,
      "min_width": null,
      "object_fit": null,
      "object_position": null,
      "order": null,
      "overflow": null,
      "overflow_x": null,
      "overflow_y": null,
      "padding": null,
      "right": null,
      "top": null,
      "visibility": null,
      "width": null
     }
    },
    "58bbf02ac7f04af69360f23107dcd9a3": {
     "model_module": "@jupyter-widgets/controls",
     "model_name": "ProgressStyleModel",
     "model_module_version": "1.5.0",
     "state": {
      "_model_module": "@jupyter-widgets/controls",
      "_model_module_version": "1.5.0",
      "_model_name": "ProgressStyleModel",
      "_view_count": null,
      "_view_module": "@jupyter-widgets/base",
      "_view_module_version": "1.2.0",
      "_view_name": "StyleView",
      "bar_color": null,
      "description_width": ""
     }
    },
    "82f9c1eadcb64dccae5251b42548e927": {
     "model_module": "@jupyter-widgets/base",
     "model_name": "LayoutModel",
     "model_module_version": "1.2.0",
     "state": {
      "_model_module": "@jupyter-widgets/base",
      "_model_module_version": "1.2.0",
      "_model_name": "LayoutModel",
      "_view_count": null,
      "_view_module": "@jupyter-widgets/base",
      "_view_module_version": "1.2.0",
      "_view_name": "LayoutView",
      "align_content": null,
      "align_items": null,
      "align_self": null,
      "border": null,
      "bottom": null,
      "display": null,
      "flex": null,
      "flex_flow": null,
      "grid_area": null,
      "grid_auto_columns": null,
      "grid_auto_flow": null,
      "grid_auto_rows": null,
      "grid_column": null,
      "grid_gap": null,
      "grid_row": null,
      "grid_template_areas": null,
      "grid_template_columns": null,
      "grid_template_rows": null,
      "height": null,
      "justify_content": null,
      "justify_items": null,
      "left": null,
      "margin": null,
      "max_height": null,
      "max_width": null,
      "min_height": null,
      "min_width": null,
      "object_fit": null,
      "object_position": null,
      "order": null,
      "overflow": null,
      "overflow_x": null,
      "overflow_y": null,
      "padding": null,
      "right": null,
      "top": null,
      "visibility": null,
      "width": null
     }
    },
    "dee5dccb15ff482887bd5662e72e3a0c": {
     "model_module": "@jupyter-widgets/controls",
     "model_name": "DescriptionStyleModel",
     "model_module_version": "1.5.0",
     "state": {
      "_model_module": "@jupyter-widgets/controls",
      "_model_module_version": "1.5.0",
      "_model_name": "DescriptionStyleModel",
      "_view_count": null,
      "_view_module": "@jupyter-widgets/base",
      "_view_module_version": "1.2.0",
      "_view_name": "StyleView",
      "description_width": ""
     }
    },
    "6658db724e18446bbb6cbd4f4b964c33": {
     "model_module": "@jupyter-widgets/controls",
     "model_name": "HBoxModel",
     "model_module_version": "1.5.0",
     "state": {
      "_dom_classes": [],
      "_model_module": "@jupyter-widgets/controls",
      "_model_module_version": "1.5.0",
      "_model_name": "HBoxModel",
      "_view_count": null,
      "_view_module": "@jupyter-widgets/controls",
      "_view_module_version": "1.5.0",
      "_view_name": "HBoxView",
      "box_style": "",
      "children": [
       "IPY_MODEL_888bdcab57f847e6a71177850068e379",
       "IPY_MODEL_5d904c7aa4cd43dd8e066bc0d30a0867",
       "IPY_MODEL_a6ae48b1ddf14391bd3ff6de38655ba9"
      ],
      "layout": "IPY_MODEL_af50004c987d4d6fb42b264a4f16db65"
     }
    },
    "888bdcab57f847e6a71177850068e379": {
     "model_module": "@jupyter-widgets/controls",
     "model_name": "HTMLModel",
     "model_module_version": "1.5.0",
     "state": {
      "_dom_classes": [],
      "_model_module": "@jupyter-widgets/controls",
      "_model_module_version": "1.5.0",
      "_model_name": "HTMLModel",
      "_view_count": null,
      "_view_module": "@jupyter-widgets/controls",
      "_view_module_version": "1.5.0",
      "_view_name": "HTMLView",
      "description": "",
      "description_tooltip": null,
      "layout": "IPY_MODEL_4aac8b23bfa944ec82f85e8a471ecd73",
      "placeholder": "​",
      "style": "IPY_MODEL_96223ebe21184548921c8ca4e01df58a",
      "value": "Downloading (…)/main/tokenizer.json: 100%"
     }
    },
    "5d904c7aa4cd43dd8e066bc0d30a0867": {
     "model_module": "@jupyter-widgets/controls",
     "model_name": "FloatProgressModel",
     "model_module_version": "1.5.0",
     "state": {
      "_dom_classes": [],
      "_model_module": "@jupyter-widgets/controls",
      "_model_module_version": "1.5.0",
      "_model_name": "FloatProgressModel",
      "_view_count": null,
      "_view_module": "@jupyter-widgets/controls",
      "_view_module_version": "1.5.0",
      "_view_name": "ProgressView",
      "bar_style": "success",
      "description": "",
      "description_tooltip": null,
      "layout": "IPY_MODEL_ed193fda7f3440a6ae5ead549bd38f50",
      "max": 435797,
      "min": 0,
      "orientation": "horizontal",
      "style": "IPY_MODEL_8ee2e3c8ee664e509c2f6ee47cd065b6",
      "value": 435797
     }
    },
    "a6ae48b1ddf14391bd3ff6de38655ba9": {
     "model_module": "@jupyter-widgets/controls",
     "model_name": "HTMLModel",
     "model_module_version": "1.5.0",
     "state": {
      "_dom_classes": [],
      "_model_module": "@jupyter-widgets/controls",
      "_model_module_version": "1.5.0",
      "_model_name": "HTMLModel",
      "_view_count": null,
      "_view_module": "@jupyter-widgets/controls",
      "_view_module_version": "1.5.0",
      "_view_name": "HTMLView",
      "description": "",
      "description_tooltip": null,
      "layout": "IPY_MODEL_c57c0e6a797643e090ea3599e1401879",
      "placeholder": "​",
      "style": "IPY_MODEL_b5cb9b47f811409692c6b3e07a32e482",
      "value": " 436k/436k [00:00&lt;00:00, 1.74MB/s]"
     }
    },
    "af50004c987d4d6fb42b264a4f16db65": {
     "model_module": "@jupyter-widgets/base",
     "model_name": "LayoutModel",
     "model_module_version": "1.2.0",
     "state": {
      "_model_module": "@jupyter-widgets/base",
      "_model_module_version": "1.2.0",
      "_model_name": "LayoutModel",
      "_view_count": null,
      "_view_module": "@jupyter-widgets/base",
      "_view_module_version": "1.2.0",
      "_view_name": "LayoutView",
      "align_content": null,
      "align_items": null,
      "align_self": null,
      "border": null,
      "bottom": null,
      "display": null,
      "flex": null,
      "flex_flow": null,
      "grid_area": null,
      "grid_auto_columns": null,
      "grid_auto_flow": null,
      "grid_auto_rows": null,
      "grid_column": null,
      "grid_gap": null,
      "grid_row": null,
      "grid_template_areas": null,
      "grid_template_columns": null,
      "grid_template_rows": null,
      "height": null,
      "justify_content": null,
      "justify_items": null,
      "left": null,
      "margin": null,
      "max_height": null,
      "max_width": null,
      "min_height": null,
      "min_width": null,
      "object_fit": null,
      "object_position": null,
      "order": null,
      "overflow": null,
      "overflow_x": null,
      "overflow_y": null,
      "padding": null,
      "right": null,
      "top": null,
      "visibility": null,
      "width": null
     }
    },
    "4aac8b23bfa944ec82f85e8a471ecd73": {
     "model_module": "@jupyter-widgets/base",
     "model_name": "LayoutModel",
     "model_module_version": "1.2.0",
     "state": {
      "_model_module": "@jupyter-widgets/base",
      "_model_module_version": "1.2.0",
      "_model_name": "LayoutModel",
      "_view_count": null,
      "_view_module": "@jupyter-widgets/base",
      "_view_module_version": "1.2.0",
      "_view_name": "LayoutView",
      "align_content": null,
      "align_items": null,
      "align_self": null,
      "border": null,
      "bottom": null,
      "display": null,
      "flex": null,
      "flex_flow": null,
      "grid_area": null,
      "grid_auto_columns": null,
      "grid_auto_flow": null,
      "grid_auto_rows": null,
      "grid_column": null,
      "grid_gap": null,
      "grid_row": null,
      "grid_template_areas": null,
      "grid_template_columns": null,
      "grid_template_rows": null,
      "height": null,
      "justify_content": null,
      "justify_items": null,
      "left": null,
      "margin": null,
      "max_height": null,
      "max_width": null,
      "min_height": null,
      "min_width": null,
      "object_fit": null,
      "object_position": null,
      "order": null,
      "overflow": null,
      "overflow_x": null,
      "overflow_y": null,
      "padding": null,
      "right": null,
      "top": null,
      "visibility": null,
      "width": null
     }
    },
    "96223ebe21184548921c8ca4e01df58a": {
     "model_module": "@jupyter-widgets/controls",
     "model_name": "DescriptionStyleModel",
     "model_module_version": "1.5.0",
     "state": {
      "_model_module": "@jupyter-widgets/controls",
      "_model_module_version": "1.5.0",
      "_model_name": "DescriptionStyleModel",
      "_view_count": null,
      "_view_module": "@jupyter-widgets/base",
      "_view_module_version": "1.2.0",
      "_view_name": "StyleView",
      "description_width": ""
     }
    },
    "ed193fda7f3440a6ae5ead549bd38f50": {
     "model_module": "@jupyter-widgets/base",
     "model_name": "LayoutModel",
     "model_module_version": "1.2.0",
     "state": {
      "_model_module": "@jupyter-widgets/base",
      "_model_module_version": "1.2.0",
      "_model_name": "LayoutModel",
      "_view_count": null,
      "_view_module": "@jupyter-widgets/base",
      "_view_module_version": "1.2.0",
      "_view_name": "LayoutView",
      "align_content": null,
      "align_items": null,
      "align_self": null,
      "border": null,
      "bottom": null,
      "display": null,
      "flex": null,
      "flex_flow": null,
      "grid_area": null,
      "grid_auto_columns": null,
      "grid_auto_flow": null,
      "grid_auto_rows": null,
      "grid_column": null,
      "grid_gap": null,
      "grid_row": null,
      "grid_template_areas": null,
      "grid_template_columns": null,
      "grid_template_rows": null,
      "height": null,
      "justify_content": null,
      "justify_items": null,
      "left": null,
      "margin": null,
      "max_height": null,
      "max_width": null,
      "min_height": null,
      "min_width": null,
      "object_fit": null,
      "object_position": null,
      "order": null,
      "overflow": null,
      "overflow_x": null,
      "overflow_y": null,
      "padding": null,
      "right": null,
      "top": null,
      "visibility": null,
      "width": null
     }
    },
    "8ee2e3c8ee664e509c2f6ee47cd065b6": {
     "model_module": "@jupyter-widgets/controls",
     "model_name": "ProgressStyleModel",
     "model_module_version": "1.5.0",
     "state": {
      "_model_module": "@jupyter-widgets/controls",
      "_model_module_version": "1.5.0",
      "_model_name": "ProgressStyleModel",
      "_view_count": null,
      "_view_module": "@jupyter-widgets/base",
      "_view_module_version": "1.2.0",
      "_view_name": "StyleView",
      "bar_color": null,
      "description_width": ""
     }
    },
    "c57c0e6a797643e090ea3599e1401879": {
     "model_module": "@jupyter-widgets/base",
     "model_name": "LayoutModel",
     "model_module_version": "1.2.0",
     "state": {
      "_model_module": "@jupyter-widgets/base",
      "_model_module_version": "1.2.0",
      "_model_name": "LayoutModel",
      "_view_count": null,
      "_view_module": "@jupyter-widgets/base",
      "_view_module_version": "1.2.0",
      "_view_name": "LayoutView",
      "align_content": null,
      "align_items": null,
      "align_self": null,
      "border": null,
      "bottom": null,
      "display": null,
      "flex": null,
      "flex_flow": null,
      "grid_area": null,
      "grid_auto_columns": null,
      "grid_auto_flow": null,
      "grid_auto_rows": null,
      "grid_column": null,
      "grid_gap": null,
      "grid_row": null,
      "grid_template_areas": null,
      "grid_template_columns": null,
      "grid_template_rows": null,
      "height": null,
      "justify_content": null,
      "justify_items": null,
      "left": null,
      "margin": null,
      "max_height": null,
      "max_width": null,
      "min_height": null,
      "min_width": null,
      "object_fit": null,
      "object_position": null,
      "order": null,
      "overflow": null,
      "overflow_x": null,
      "overflow_y": null,
      "padding": null,
      "right": null,
      "top": null,
      "visibility": null,
      "width": null
     }
    },
    "b5cb9b47f811409692c6b3e07a32e482": {
     "model_module": "@jupyter-widgets/controls",
     "model_name": "DescriptionStyleModel",
     "model_module_version": "1.5.0",
     "state": {
      "_model_module": "@jupyter-widgets/controls",
      "_model_module_version": "1.5.0",
      "_model_name": "DescriptionStyleModel",
      "_view_count": null,
      "_view_module": "@jupyter-widgets/base",
      "_view_module_version": "1.2.0",
      "_view_name": "StyleView",
      "description_width": ""
     }
    },
    "cd98647780c149c38ec4648e956e53ee": {
     "model_module": "@jupyter-widgets/controls",
     "model_name": "HBoxModel",
     "model_module_version": "1.5.0",
     "state": {
      "_dom_classes": [],
      "_model_module": "@jupyter-widgets/controls",
      "_model_module_version": "1.5.0",
      "_model_name": "HBoxModel",
      "_view_count": null,
      "_view_module": "@jupyter-widgets/controls",
      "_view_module_version": "1.5.0",
      "_view_name": "HBoxView",
      "box_style": "",
      "children": [
       "IPY_MODEL_d96acc863e594b448df4fbf81af89716",
       "IPY_MODEL_a6ed8c8371ad43419d809412ef0b9cee",
       "IPY_MODEL_05d230a8b99a4c6ebb17788d514f2777"
      ],
      "layout": "IPY_MODEL_b56a1b7dba844bf6806849c5fa753272"
     }
    },
    "d96acc863e594b448df4fbf81af89716": {
     "model_module": "@jupyter-widgets/controls",
     "model_name": "HTMLModel",
     "model_module_version": "1.5.0",
     "state": {
      "_dom_classes": [],
      "_model_module": "@jupyter-widgets/controls",
      "_model_module_version": "1.5.0",
      "_model_name": "HTMLModel",
      "_view_count": null,
      "_view_module": "@jupyter-widgets/controls",
      "_view_module_version": "1.5.0",
      "_view_name": "HTMLView",
      "description": "",
      "description_tooltip": null,
      "layout": "IPY_MODEL_d198435b246043718b5c9c35cadea415",
      "placeholder": "​",
      "style": "IPY_MODEL_cadb06eccf2e46a89a6407b3f9e86821",
      "value": "Downloading model.safetensors: 100%"
     }
    },
    "a6ed8c8371ad43419d809412ef0b9cee": {
     "model_module": "@jupyter-widgets/controls",
     "model_name": "FloatProgressModel",
     "model_module_version": "1.5.0",
     "state": {
      "_dom_classes": [],
      "_model_module": "@jupyter-widgets/controls",
      "_model_module_version": "1.5.0",
      "_model_name": "FloatProgressModel",
      "_view_count": null,
      "_view_module": "@jupyter-widgets/controls",
      "_view_module_version": "1.5.0",
      "_view_name": "ProgressView",
      "bar_style": "success",
      "description": "",
      "description_tooltip": null,
      "layout": "IPY_MODEL_9212bfef0ffc470db20e5d536eaa4aa5",
      "max": 263260784,
      "min": 0,
      "orientation": "horizontal",
      "style": "IPY_MODEL_7ba320ef37d74f50aedd586dd686466e",
      "value": 263260784
     }
    },
    "05d230a8b99a4c6ebb17788d514f2777": {
     "model_module": "@jupyter-widgets/controls",
     "model_name": "HTMLModel",
     "model_module_version": "1.5.0",
     "state": {
      "_dom_classes": [],
      "_model_module": "@jupyter-widgets/controls",
      "_model_module_version": "1.5.0",
      "_model_name": "HTMLModel",
      "_view_count": null,
      "_view_module": "@jupyter-widgets/controls",
      "_view_module_version": "1.5.0",
      "_view_name": "HTMLView",
      "description": "",
      "description_tooltip": null,
      "layout": "IPY_MODEL_516627b4e1fc4c18ad65300cc1405d6a",
      "placeholder": "​",
      "style": "IPY_MODEL_6c9bf63db87544cc9b8a93b8f4422302",
      "value": " 263M/263M [00:01&lt;00:00, 275MB/s]"
     }
    },
    "b56a1b7dba844bf6806849c5fa753272": {
     "model_module": "@jupyter-widgets/base",
     "model_name": "LayoutModel",
     "model_module_version": "1.2.0",
     "state": {
      "_model_module": "@jupyter-widgets/base",
      "_model_module_version": "1.2.0",
      "_model_name": "LayoutModel",
      "_view_count": null,
      "_view_module": "@jupyter-widgets/base",
      "_view_module_version": "1.2.0",
      "_view_name": "LayoutView",
      "align_content": null,
      "align_items": null,
      "align_self": null,
      "border": null,
      "bottom": null,
      "display": null,
      "flex": null,
      "flex_flow": null,
      "grid_area": null,
      "grid_auto_columns": null,
      "grid_auto_flow": null,
      "grid_auto_rows": null,
      "grid_column": null,
      "grid_gap": null,
      "grid_row": null,
      "grid_template_areas": null,
      "grid_template_columns": null,
      "grid_template_rows": null,
      "height": null,
      "justify_content": null,
      "justify_items": null,
      "left": null,
      "margin": null,
      "max_height": null,
      "max_width": null,
      "min_height": null,
      "min_width": null,
      "object_fit": null,
      "object_position": null,
      "order": null,
      "overflow": null,
      "overflow_x": null,
      "overflow_y": null,
      "padding": null,
      "right": null,
      "top": null,
      "visibility": null,
      "width": null
     }
    },
    "d198435b246043718b5c9c35cadea415": {
     "model_module": "@jupyter-widgets/base",
     "model_name": "LayoutModel",
     "model_module_version": "1.2.0",
     "state": {
      "_model_module": "@jupyter-widgets/base",
      "_model_module_version": "1.2.0",
      "_model_name": "LayoutModel",
      "_view_count": null,
      "_view_module": "@jupyter-widgets/base",
      "_view_module_version": "1.2.0",
      "_view_name": "LayoutView",
      "align_content": null,
      "align_items": null,
      "align_self": null,
      "border": null,
      "bottom": null,
      "display": null,
      "flex": null,
      "flex_flow": null,
      "grid_area": null,
      "grid_auto_columns": null,
      "grid_auto_flow": null,
      "grid_auto_rows": null,
      "grid_column": null,
      "grid_gap": null,
      "grid_row": null,
      "grid_template_areas": null,
      "grid_template_columns": null,
      "grid_template_rows": null,
      "height": null,
      "justify_content": null,
      "justify_items": null,
      "left": null,
      "margin": null,
      "max_height": null,
      "max_width": null,
      "min_height": null,
      "min_width": null,
      "object_fit": null,
      "object_position": null,
      "order": null,
      "overflow": null,
      "overflow_x": null,
      "overflow_y": null,
      "padding": null,
      "right": null,
      "top": null,
      "visibility": null,
      "width": null
     }
    },
    "cadb06eccf2e46a89a6407b3f9e86821": {
     "model_module": "@jupyter-widgets/controls",
     "model_name": "DescriptionStyleModel",
     "model_module_version": "1.5.0",
     "state": {
      "_model_module": "@jupyter-widgets/controls",
      "_model_module_version": "1.5.0",
      "_model_name": "DescriptionStyleModel",
      "_view_count": null,
      "_view_module": "@jupyter-widgets/base",
      "_view_module_version": "1.2.0",
      "_view_name": "StyleView",
      "description_width": ""
     }
    },
    "9212bfef0ffc470db20e5d536eaa4aa5": {
     "model_module": "@jupyter-widgets/base",
     "model_name": "LayoutModel",
     "model_module_version": "1.2.0",
     "state": {
      "_model_module": "@jupyter-widgets/base",
      "_model_module_version": "1.2.0",
      "_model_name": "LayoutModel",
      "_view_count": null,
      "_view_module": "@jupyter-widgets/base",
      "_view_module_version": "1.2.0",
      "_view_name": "LayoutView",
      "align_content": null,
      "align_items": null,
      "align_self": null,
      "border": null,
      "bottom": null,
      "display": null,
      "flex": null,
      "flex_flow": null,
      "grid_area": null,
      "grid_auto_columns": null,
      "grid_auto_flow": null,
      "grid_auto_rows": null,
      "grid_column": null,
      "grid_gap": null,
      "grid_row": null,
      "grid_template_areas": null,
      "grid_template_columns": null,
      "grid_template_rows": null,
      "height": null,
      "justify_content": null,
      "justify_items": null,
      "left": null,
      "margin": null,
      "max_height": null,
      "max_width": null,
      "min_height": null,
      "min_width": null,
      "object_fit": null,
      "object_position": null,
      "order": null,
      "overflow": null,
      "overflow_x": null,
      "overflow_y": null,
      "padding": null,
      "right": null,
      "top": null,
      "visibility": null,
      "width": null
     }
    },
    "7ba320ef37d74f50aedd586dd686466e": {
     "model_module": "@jupyter-widgets/controls",
     "model_name": "ProgressStyleModel",
     "model_module_version": "1.5.0",
     "state": {
      "_model_module": "@jupyter-widgets/controls",
      "_model_module_version": "1.5.0",
      "_model_name": "ProgressStyleModel",
      "_view_count": null,
      "_view_module": "@jupyter-widgets/base",
      "_view_module_version": "1.2.0",
      "_view_name": "StyleView",
      "bar_color": null,
      "description_width": ""
     }
    },
    "516627b4e1fc4c18ad65300cc1405d6a": {
     "model_module": "@jupyter-widgets/base",
     "model_name": "LayoutModel",
     "model_module_version": "1.2.0",
     "state": {
      "_model_module": "@jupyter-widgets/base",
      "_model_module_version": "1.2.0",
      "_model_name": "LayoutModel",
      "_view_count": null,
      "_view_module": "@jupyter-widgets/base",
      "_view_module_version": "1.2.0",
      "_view_name": "LayoutView",
      "align_content": null,
      "align_items": null,
      "align_self": null,
      "border": null,
      "bottom": null,
      "display": null,
      "flex": null,
      "flex_flow": null,
      "grid_area": null,
      "grid_auto_columns": null,
      "grid_auto_flow": null,
      "grid_auto_rows": null,
      "grid_column": null,
      "grid_gap": null,
      "grid_row": null,
      "grid_template_areas": null,
      "grid_template_columns": null,
      "grid_template_rows": null,
      "height": null,
      "justify_content": null,
      "justify_items": null,
      "left": null,
      "margin": null,
      "max_height": null,
      "max_width": null,
      "min_height": null,
      "min_width": null,
      "object_fit": null,
      "object_position": null,
      "order": null,
      "overflow": null,
      "overflow_x": null,
      "overflow_y": null,
      "padding": null,
      "right": null,
      "top": null,
      "visibility": null,
      "width": null
     }
    },
    "6c9bf63db87544cc9b8a93b8f4422302": {
     "model_module": "@jupyter-widgets/controls",
     "model_name": "DescriptionStyleModel",
     "model_module_version": "1.5.0",
     "state": {
      "_model_module": "@jupyter-widgets/controls",
      "_model_module_version": "1.5.0",
      "_model_name": "DescriptionStyleModel",
      "_view_count": null,
      "_view_module": "@jupyter-widgets/base",
      "_view_module_version": "1.2.0",
      "_view_name": "StyleView",
      "description_width": ""
     }
    }
   }
  },
  "accelerator": "GPU"
 },
 "nbformat": 4,
 "nbformat_minor": 0
}
