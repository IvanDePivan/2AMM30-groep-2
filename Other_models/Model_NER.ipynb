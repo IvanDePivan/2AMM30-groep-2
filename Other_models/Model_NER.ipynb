{
 "nbformat": 4,
 "nbformat_minor": 0,
 "metadata": {
  "colab": {
   "provenance": [],
   "gpuType": "T4"
  },
  "kernelspec": {
   "name": "python3",
   "display_name": "Python 3"
  },
  "language_info": {
   "name": "python"
  },
  "accelerator": "GPU"
 },
 "cells": [
  {
   "cell_type": "markdown",
   "metadata": {
    "id": "view-in-github"
   },
   "source": [
    "<a href=\"https://colab.research.google.com/github/IvanDePivan/2AMM30-groep-2-component-1/blob/main/model.ipynb\" target=\"_parent\"><img src=\"https://colab.research.google.com/assets/colab-badge.svg\" alt=\"Open In Colab\"/></a>"
   ]
  },
  {
   "cell_type": "markdown",
   "source": [
    "This notebook contains an old model (Named Entity Recognition with Spacy) that is not used as final model. We did not adapt this model to be able to run from anyones personal computer. Therefore, this notbook will likely not run, but it still provides a general idea of what we did."
   ],
   "metadata": {
    "id": "TOqOk_jKUkyq"
   }
  },
  {
   "cell_type": "code",
   "execution_count": 2,
   "metadata": {
    "id": "RUV2tm7bh4gw"
   },
   "outputs": [],
   "source": [
    "import pandas as pd\n",
    "import json\n",
    "import numpy as np\n",
    "import spacy\n",
    "from spacy.training.example import Example #holds information for one training instance\n",
    "import random\n",
    "from tqdm import tqdm\n",
    "from spacy.scorer import Scorer\n",
    "import warnings\n",
    "warnings.filterwarnings('ignore')\n",
    "import os\n",
    "import glob\n",
    "import re"
   ]
  },
  {
   "cell_type": "code",
   "source": [
    "# Authenticate\n",
    "from google.colab import drive\n",
    "drive.mount('/content/drive')\n",
    "from google.colab import auth\n",
    "auth.authenticate_user()\n",
    "\n",
    "# Get email of current Colab user\n",
    "import requests\n",
    "gcloud_token = !gcloud auth print-access-token\n",
    "gcloud_tokeninfo = requests.get('https://www.googleapis.com/oauth2/v3/tokeninfo?access_token=' + gcloud_token[0]).json()\n",
    "email = gcloud_tokeninfo['email']"
   ],
   "metadata": {
    "colab": {
     "base_uri": "https://localhost:8080/"
    },
    "id": "QGPv7jA1w7_t",
    "outputId": "4773b2b0-090d-41fb-b6d4-14e90f4b923f"
   },
   "execution_count": 5,
   "outputs": [
    {
     "output_type": "stream",
     "name": "stdout",
     "text": [
      "Drive already mounted at /content/drive; to attempt to forcibly remount, call drive.mount(\"/content/drive\", force_remount=True).\n"
     ]
    }
   ]
  },
  {
   "cell_type": "code",
   "source": [
    "# Define filepath\n",
    "if email == '':\n",
    "  filename = \"/content/drive/MyDrive/TUe/TM/Exports/export_41675_project-41675-at-2023-10-04-09-37-9bbbec63.json\"\n",
    "elif email == '':\n",
    "  filename = \"/content/drive/MyDrive/Text Mining/export_41675_project-41675-at-2023-10-04-12-08-05f5e3f5.json\""
   ],
   "metadata": {
    "id": "CJzHkFyFkubL"
   },
   "execution_count": 6,
   "outputs": []
  },
  {
   "cell_type": "code",
   "source": [
    "DATA = []\n",
    "\n",
    "# read json file\n",
    "with open(filename, 'rb') as fp:\n",
    "  training_data = json.load(fp)\n",
    "\n",
    "  # get text, labels, relations, benchmark for each article\n",
    "  for article in training_data:\n",
    "    entities = []\n",
    "    id_entities = []\n",
    "    relations = []\n",
    "    original_text = article.get('data').get('text')\n",
    "    if len(article.get('annotations')) == 5: # N=5\n",
    "      benchmark = True\n",
    "    else:\n",
    "      benchmark = False\n",
    "    for annotation in article.get('annotations'):\n",
    "      if annotation.get('ground_truth'): # only include ground truth\n",
    "        for ind, label in enumerate(annotation.get('result')):\n",
    "          if label.get('type') == 'labels':\n",
    "            start = label.get('value').get('start')\n",
    "            end = label.get('value').get('end')\n",
    "            id = label.get('id')\n",
    "            text = label.get('value').get('text')\n",
    "            label = label.get('value').get('labels')[0] # note: cannot deal with multiple labels\n",
    "            id_entities.append((start, end, label, id, text)) # WHY ORDER WEIRD FOR TRAIN[0]?\n",
    "            entities.append((start, end, label))\n",
    "          elif label.get('type') == 'relation':\n",
    "            from_id = label.get('from_id')\n",
    "            to_id = label.get('to_id')\n",
    "            relation = label.get('labels')[0] # note: cannot deal with multiple relations\n",
    "            relations.append((from_id, to_id, relation))\n",
    "          else:\n",
    "            print(\"found unknown label type (no label or relation)\")\n",
    "\n",
    "    # append article to training data as dictionary\n",
    "    DATA.append({\n",
    "    'text': original_text,\n",
    "    'entities': entities,\n",
    "    'id_entities': id_entities,\n",
    "    'relations': relations,\n",
    "    'benchmark': benchmark\n",
    "    })"
   ],
   "metadata": {
    "id": "kvHLYTGmlCm5"
   },
   "execution_count": 7,
   "outputs": []
  },
  {
   "cell_type": "code",
   "source": [
    "# Remove entities with smallest span in case of overlapping entities\n",
    "def remove_overlap(entities):\n",
    "  # Initialize a list to store the final non-overlapping entities\n",
    "  final_entities = []\n",
    "\n",
    "  # Sort the entities by their start position in ascending order\n",
    "  entities.sort(key=lambda entity: entity[0])\n",
    "\n",
    "  # Iterate through the sorted entities\n",
    "  for entity in entities:\n",
    "      overlaps = False\n",
    "      for existing_entity in final_entities:\n",
    "          # Check for overlapping entities\n",
    "          if (existing_entity[0] <= entity[0] < existing_entity[1]) or \\\n",
    "            (existing_entity[0] < entity[1] <= existing_entity[1]):\n",
    "              overlaps = True\n",
    "              break\n",
    "      if not overlaps:\n",
    "          final_entities.append(entity)\n",
    "\n",
    "  return final_entities\n",
    "\n",
    "for article in DATA:\n",
    "  article['entities'] = remove_overlap(article['entities'])"
   ],
   "metadata": {
    "id": "IXOUkexGZkTu"
   },
   "execution_count": 8,
   "outputs": []
  },
  {
   "cell_type": "code",
   "source": [
    "def train_test_split(data,test_size):\n",
    "  train_end= int(len(data)*(1-test_size))\n",
    "  return data[0:train_end], data[train_end:len(data)]"
   ],
   "metadata": {
    "id": "bExNXEXYrFCH"
   },
   "execution_count": 9,
   "outputs": []
  },
  {
   "cell_type": "code",
   "source": [
    "train, test =  train_test_split(DATA,0.25)"
   ],
   "metadata": {
    "id": "prrqNQNcsnnR"
   },
   "execution_count": 10,
   "outputs": []
  },
  {
   "cell_type": "code",
   "source": [
    "from spacy.tokens import DocBin\n",
    "\n",
    "nlp = spacy.blank('en')\n",
    "db = DocBin()\n",
    "\n",
    "for article in tqdm(train):\n",
    "  doc = nlp.make_doc(article['text'])\n",
    "  ents = []\n",
    "  for start, end, label in article['entities']:\n",
    "    span = doc.char_span(start, end, label=label, alignment_mode='contract')\n",
    "    if span is None:\n",
    "      pass\n",
    "    else:\n",
    "      ents.append(span)\n",
    "    doc.ents = ents\n",
    "    db.add(doc)\n",
    "\n",
    "db.to_disk('./train.spacy')"
   ],
   "metadata": {
    "colab": {
     "base_uri": "https://localhost:8080/"
    },
    "id": "_ILgwAyUeIOB",
    "outputId": "712d4241-937a-46ed-9039-389fa5ec60cb"
   },
   "execution_count": 19,
   "outputs": [
    {
     "output_type": "stream",
     "name": "stderr",
     "text": [
      "100%|██████████| 30/30 [00:00<00:00, 36.52it/s]\n"
     ]
    }
   ]
  },
  {
   "cell_type": "code",
   "source": [
    "nlp = spacy.blank('en')\n",
    "db = DocBin()\n",
    "\n",
    "for article in tqdm(test):\n",
    "  doc = nlp.make_doc(article['text'])\n",
    "  ents = []\n",
    "  for start, end, label in article['entities']:\n",
    "    span = doc.char_span(start, end, label=label, alignment_mode='contract')\n",
    "    if span is None:\n",
    "      pass\n",
    "    else:\n",
    "      ents.append(span)\n",
    "    doc.ents = ents\n",
    "    db.add(doc)\n",
    "\n",
    "db.to_disk('./test.spacy')"
   ],
   "metadata": {
    "colab": {
     "base_uri": "https://localhost:8080/"
    },
    "id": "PROmtKPyk5nG",
    "outputId": "3d19791a-6737-4906-9943-7ca1d7e4e713"
   },
   "execution_count": 20,
   "outputs": [
    {
     "output_type": "stream",
     "name": "stderr",
     "text": [
      "100%|██████████| 10/10 [00:00<00:00, 60.15it/s]\n"
     ]
    }
   ]
  },
  {
   "cell_type": "code",
   "source": [
    "!cp \"/content/drive/MyDrive/TUe/TM/base_config.cfg\" ./"
   ],
   "metadata": {
    "id": "umJd1Ql6knMd"
   },
   "execution_count": 26,
   "outputs": []
  },
  {
   "cell_type": "code",
   "source": [
    "!python -m spacy init fill-config base_config.cfg config.cfg"
   ],
   "metadata": {
    "colab": {
     "base_uri": "https://localhost:8080/"
    },
    "id": "sOQVurhun3qG",
    "outputId": "b26ef21b-d56c-43e5-b1a0-ba45af453a45"
   },
   "execution_count": 32,
   "outputs": [
    {
     "output_type": "stream",
     "name": "stdout",
     "text": [
      "2023-11-08 14:33:52.580171: E tensorflow/compiler/xla/stream_executor/cuda/cuda_dnn.cc:9342] Unable to register cuDNN factory: Attempting to register factory for plugin cuDNN when one has already been registered\n",
      "2023-11-08 14:33:52.580243: E tensorflow/compiler/xla/stream_executor/cuda/cuda_fft.cc:609] Unable to register cuFFT factory: Attempting to register factory for plugin cuFFT when one has already been registered\n",
      "2023-11-08 14:33:52.580309: E tensorflow/compiler/xla/stream_executor/cuda/cuda_blas.cc:1518] Unable to register cuBLAS factory: Attempting to register factory for plugin cuBLAS when one has already been registered\n",
      "2023-11-08 14:33:54.385267: W tensorflow/compiler/tf2tensorrt/utils/py_utils.cc:38] TF-TRT Warning: Could not find TensorRT\n",
      "\u001B[38;5;2m✔ Auto-filled config with all values\u001B[0m\n",
      "\u001B[38;5;2m✔ Saved config\u001B[0m\n",
      "config.cfg\n",
      "You can now add your data and train your pipeline:\n",
      "python -m spacy train config.cfg --paths.train ./train.spacy --paths.dev ./dev.spacy\n"
     ]
    }
   ]
  },
  {
   "cell_type": "code",
   "source": [
    "!python -m spacy train config.cfg --output \"/content/drive/MyDrive/TUe/TM/output\" --paths.train ./train.spacy --paths.dev ./test.spacy --gpu-id 0"
   ],
   "metadata": {
    "id": "UHPTGr9gm5ls",
    "colab": {
     "base_uri": "https://localhost:8080/"
    },
    "outputId": "9f4ec9da-62b9-492f-b38d-9796df563e05"
   },
   "execution_count": 33,
   "outputs": [
    {
     "output_type": "stream",
     "name": "stdout",
     "text": [
      "2023-11-08 14:34:37.266226: E tensorflow/compiler/xla/stream_executor/cuda/cuda_dnn.cc:9342] Unable to register cuDNN factory: Attempting to register factory for plugin cuDNN when one has already been registered\n",
      "2023-11-08 14:34:37.266286: E tensorflow/compiler/xla/stream_executor/cuda/cuda_fft.cc:609] Unable to register cuFFT factory: Attempting to register factory for plugin cuFFT when one has already been registered\n",
      "2023-11-08 14:34:37.266322: E tensorflow/compiler/xla/stream_executor/cuda/cuda_blas.cc:1518] Unable to register cuBLAS factory: Attempting to register factory for plugin cuBLAS when one has already been registered\n",
      "2023-11-08 14:34:38.416630: W tensorflow/compiler/tf2tensorrt/utils/py_utils.cc:38] TF-TRT Warning: Could not find TensorRT\n",
      "\u001B[38;5;4mℹ Saving to output directory: /content/drive/MyDrive/TUe/TM/output\u001B[0m\n",
      "\u001B[38;5;4mℹ Using GPU: 0\u001B[0m\n",
      "\u001B[1m\n",
      "=========================== Initializing pipeline ===========================\u001B[0m\n",
      "Downloading (…)lve/main/config.json: 100% 481/481 [00:00<00:00, 2.37MB/s]\n",
      "Downloading (…)olve/main/vocab.json: 100% 899k/899k [00:01<00:00, 793kB/s]\n",
      "Downloading (…)olve/main/merges.txt: 100% 456k/456k [00:00<00:00, 5.91MB/s]\n",
      "Downloading (…)/main/tokenizer.json: 100% 1.36M/1.36M [00:00<00:00, 4.12MB/s]\n",
      "Downloading model.safetensors: 100% 499M/499M [00:05<00:00, 90.2MB/s]\n",
      "Some weights of RobertaModel were not initialized from the model checkpoint at roberta-base and are newly initialized: ['roberta.pooler.dense.bias', 'roberta.pooler.dense.weight']\n",
      "You should probably TRAIN this model on a down-stream task to be able to use it for predictions and inference.\n",
      "\u001B[38;5;2m✔ Initialized pipeline\u001B[0m\n",
      "\u001B[1m\n",
      "============================= Training pipeline =============================\u001B[0m\n",
      "\u001B[38;5;4mℹ Pipeline: ['transformer', 'ner']\u001B[0m\n",
      "\u001B[38;5;4mℹ Initial learn rate: 0.0\u001B[0m\n",
      "E    #       LOSS TRANS...  LOSS NER  ENTS_F  ENTS_P  ENTS_R  SCORE \n",
      "---  ------  -------------  --------  ------  ------  ------  ------\n",
      "  0       0        1556.37    499.28    0.22    0.12    0.91    0.00\n",
      "  1     200      430640.00  58409.08   31.79   39.66   26.53    0.32\n",
      "  2     400       87601.23  16655.31   57.71   54.87   60.85    0.58\n",
      "  4     600        9069.81  12542.54   51.33   47.26   56.16    0.51\n",
      "\n",
      "\u001B[31mAborted.\u001B[0m\n"
     ]
    }
   ]
  },
  {
   "cell_type": "code",
   "source": [
    "best_nlp =  spacy.load('/content/drive/MyDrive/TUe/TM/output/model-best')"
   ],
   "metadata": {
    "id": "xAhqvXSVsBuI"
   },
   "execution_count": 3,
   "outputs": []
  },
  {
   "cell_type": "code",
   "source": [
    "doc = best_nlp(test[1]['text'])\n",
    "colors = {'Winner': '#F67DE3', 'Date':'#7DF6D9', 'Prizetype': '#DC143C', 'Reason': '#00FF00', 'Nationality': '#E287433' }\n",
    "options = {'colors':colors}\n",
    "spacy.displacy.render(doc, style='ent', options=options, jupyter=True)"
   ],
   "metadata": {
    "colab": {
     "base_uri": "https://localhost:8080/",
     "height": 297
    },
    "id": "9wm3JrKRuV9J",
    "outputId": "c390b39d-196f-4084-98d4-22fb93df2435"
   },
   "execution_count": 25,
   "outputs": [
    {
     "output_type": "display_data",
     "data": {
      "text/plain": [
       "<IPython.core.display.HTML object>"
      ],
      "text/html": [
       "<span class=\"tex2jax_ignore\"><div class=\"entities\" style=\"line-height: 2.5; direction: ltr\">\n",
       "<mark class=\"entity\" style=\"background: #F67DE3; padding: 0.45em 0.6em; margin: 0 0.25em; line-height: 1; border-radius: 0.35em;\">\n",
       "    Stefan Ossowiecki\n",
       "    <span style=\"font-size: 0.8em; font-weight: bold; line-height: 1; border-radius: 0.35em; vertical-align: middle; margin-left: 0.5rem\">Winner</span>\n",
       "</mark>\n",
       " (\n",
       "<mark class=\"entity\" style=\"background: #7DF6D9; padding: 0.45em 0.6em; margin: 0 0.25em; line-height: 1; border-radius: 0.35em;\">\n",
       "    22 or 26 August 1877\n",
       "    <span style=\"font-size: 0.8em; font-weight: bold; line-height: 1; border-radius: 0.35em; vertical-align: middle; margin-left: 0.5rem\">Date</span>\n",
       "</mark>\n",
       " – \n",
       "<mark class=\"entity\" style=\"background: #7DF6D9; padding: 0.45em 0.6em; margin: 0 0.25em; line-height: 1; border-radius: 0.35em;\">\n",
       "    5 August 1944\n",
       "    <span style=\"font-size: 0.8em; font-weight: bold; line-height: 1; border-radius: 0.35em; vertical-align: middle; margin-left: 0.5rem\">Date</span>\n",
       "</mark>\n",
       ") was a \n",
       "<mark class=\"entity\" style=\"background: #E287433; padding: 0.45em 0.6em; margin: 0 0.25em; line-height: 1; border-radius: 0.35em;\">\n",
       "    Polish\n",
       "    <span style=\"font-size: 0.8em; font-weight: bold; line-height: 1; border-radius: 0.35em; vertical-align: middle; margin-left: 0.5rem\">Nationality</span>\n",
       "</mark>\n",
       " engineer who was, during his lifetime, promoted as one of Europe's best-known psychics. Two notable persons who credited his claims were pioneering \n",
       "<mark class=\"entity\" style=\"background: #E287433; padding: 0.45em 0.6em; margin: 0 0.25em; line-height: 1; border-radius: 0.35em;\">\n",
       "    French\n",
       "    <span style=\"font-size: 0.8em; font-weight: bold; line-height: 1; border-radius: 0.35em; vertical-align: middle; margin-left: 0.5rem\">Nationality</span>\n",
       "</mark>\n",
       " parapsychologist Gustav Geley and Nobel Prize-winning physiologist Charles Richet, who called \n",
       "<mark class=\"entity\" style=\"background: #F67DE3; padding: 0.45em 0.6em; margin: 0 0.25em; line-height: 1; border-radius: 0.35em;\">\n",
       "    Ossowiecki\n",
       "    <span style=\"font-size: 0.8em; font-weight: bold; line-height: 1; border-radius: 0.35em; vertical-align: middle; margin-left: 0.5rem\">Winner</span>\n",
       "</mark>\n",
       " &quot;the most positive of psychics.&quot;<br>Life.<br>Ossowiecki was born in Moscow in \n",
       "<mark class=\"entity\" style=\"background: #7DF6D9; padding: 0.45em 0.6em; margin: 0 0.25em; line-height: 1; border-radius: 0.35em;\">\n",
       "    1877\n",
       "    <span style=\"font-size: 0.8em; font-weight: bold; line-height: 1; border-radius: 0.35em; vertical-align: middle; margin-left: 0.5rem\">Date</span>\n",
       "</mark>\n",
       " into an affluent family of former \n",
       "<mark class=\"entity\" style=\"background: #E287433; padding: 0.45em 0.6em; margin: 0 0.25em; line-height: 1; border-radius: 0.35em;\">\n",
       "    Polish\n",
       "    <span style=\"font-size: 0.8em; font-weight: bold; line-height: 1; border-radius: 0.35em; vertical-align: middle; margin-left: 0.5rem\">Nationality</span>\n",
       "</mark>\n",
       " aristocrats. His Moscow-born father, owner of a large chemicals factory and assistant to Dmitri Mendeleyev, clung to his \n",
       "<mark class=\"entity\" style=\"background: #E287433; padding: 0.45em 0.6em; margin: 0 0.25em; line-height: 1; border-radius: 0.35em;\">\n",
       "    Polish\n",
       "    <span style=\"font-size: 0.8em; font-weight: bold; line-height: 1; border-radius: 0.35em; vertical-align: middle; margin-left: 0.5rem\">Nationality</span>\n",
       "</mark>\n",
       " heritage and taught his son to speak \n",
       "<mark class=\"entity\" style=\"background: #E287433; padding: 0.45em 0.6em; margin: 0 0.25em; line-height: 1; border-radius: 0.35em;\">\n",
       "    Polish\n",
       "    <span style=\"font-size: 0.8em; font-weight: bold; line-height: 1; border-radius: 0.35em; vertical-align: middle; margin-left: 0.5rem\">Nationality</span>\n",
       "</mark>\n",
       " and to think of himself as a Pole. <br>Stefan Ossowiecki was said to have manifested psychic talents in his youth, much to his family's confusion. When young Stefan told his mother he could see bands of color around people, she took him to an eye doctor, who prescribed drops to cure the condition. The medicine &quot;irritated my eyes but did not diminish my ability,&quot; Ossowiecki later recounted.</div></span>"
      ]
     },
     "metadata": {}
    }
   ]
  },
  {
   "cell_type": "code",
   "source": [],
   "metadata": {
    "id": "HpZSoWw8aVCB"
   },
   "execution_count": null,
   "outputs": []
  }
 ]
}
