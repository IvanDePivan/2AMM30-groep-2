{
  "nbformat": 4,
  "nbformat_minor": 0,
  "metadata": {
    "colab": {
      "provenance": [],
      "gpuType": "T4",
      "include_colab_link": true
    },
    "kernelspec": {
      "name": "python3",
      "display_name": "Python 3"
    },
    "language_info": {
      "name": "python"
    },
    "accelerator": "GPU",
    "widgets": {
      "application/vnd.jupyter.widget-state+json": {
        "b46380a041f74805937e736ed24e7afd": {
          "model_module": "@jupyter-widgets/controls",
          "model_name": "HBoxModel",
          "model_module_version": "1.5.0",
          "state": {
            "_dom_classes": [],
            "_model_module": "@jupyter-widgets/controls",
            "_model_module_version": "1.5.0",
            "_model_name": "HBoxModel",
            "_view_count": null,
            "_view_module": "@jupyter-widgets/controls",
            "_view_module_version": "1.5.0",
            "_view_name": "HBoxView",
            "box_style": "",
            "children": [
              "IPY_MODEL_7f847f96970f4734a5920ebf4fb80eea",
              "IPY_MODEL_093a9533dad94ff2acf3ca77894088c4",
              "IPY_MODEL_bc4567f61de84fe6a61f826abe0f6be6"
            ],
            "layout": "IPY_MODEL_c4371f303a444bcd822051110bf6c112"
          }
        },
        "7f847f96970f4734a5920ebf4fb80eea": {
          "model_module": "@jupyter-widgets/controls",
          "model_name": "HTMLModel",
          "model_module_version": "1.5.0",
          "state": {
            "_dom_classes": [],
            "_model_module": "@jupyter-widgets/controls",
            "_model_module_version": "1.5.0",
            "_model_name": "HTMLModel",
            "_view_count": null,
            "_view_module": "@jupyter-widgets/controls",
            "_view_module_version": "1.5.0",
            "_view_name": "HTMLView",
            "description": "",
            "description_tooltip": null,
            "layout": "IPY_MODEL_460560b231274caf83a429c616a78cbd",
            "placeholder": "​",
            "style": "IPY_MODEL_5b3dfa48804b460191ecde0db3fd9e84",
            "value": "Downloading model.safetensors: 100%"
          }
        },
        "093a9533dad94ff2acf3ca77894088c4": {
          "model_module": "@jupyter-widgets/controls",
          "model_name": "FloatProgressModel",
          "model_module_version": "1.5.0",
          "state": {
            "_dom_classes": [],
            "_model_module": "@jupyter-widgets/controls",
            "_model_module_version": "1.5.0",
            "_model_name": "FloatProgressModel",
            "_view_count": null,
            "_view_module": "@jupyter-widgets/controls",
            "_view_module_version": "1.5.0",
            "_view_name": "ProgressView",
            "bar_style": "success",
            "description": "",
            "description_tooltip": null,
            "layout": "IPY_MODEL_845ce4fcdd804bbf8947be6d060de6c0",
            "max": 267954768,
            "min": 0,
            "orientation": "horizontal",
            "style": "IPY_MODEL_5b7f43e5015f436a8c91c633b026bd34",
            "value": 267954768
          }
        },
        "bc4567f61de84fe6a61f826abe0f6be6": {
          "model_module": "@jupyter-widgets/controls",
          "model_name": "HTMLModel",
          "model_module_version": "1.5.0",
          "state": {
            "_dom_classes": [],
            "_model_module": "@jupyter-widgets/controls",
            "_model_module_version": "1.5.0",
            "_model_name": "HTMLModel",
            "_view_count": null,
            "_view_module": "@jupyter-widgets/controls",
            "_view_module_version": "1.5.0",
            "_view_name": "HTMLView",
            "description": "",
            "description_tooltip": null,
            "layout": "IPY_MODEL_978bd7ffceaa4a4eace3e44f820a2f07",
            "placeholder": "​",
            "style": "IPY_MODEL_5aed4e4bd9574e9a94738947300bc07a",
            "value": " 268M/268M [00:01&lt;00:00, 228MB/s]"
          }
        },
        "c4371f303a444bcd822051110bf6c112": {
          "model_module": "@jupyter-widgets/base",
          "model_name": "LayoutModel",
          "model_module_version": "1.2.0",
          "state": {
            "_model_module": "@jupyter-widgets/base",
            "_model_module_version": "1.2.0",
            "_model_name": "LayoutModel",
            "_view_count": null,
            "_view_module": "@jupyter-widgets/base",
            "_view_module_version": "1.2.0",
            "_view_name": "LayoutView",
            "align_content": null,
            "align_items": null,
            "align_self": null,
            "border": null,
            "bottom": null,
            "display": null,
            "flex": null,
            "flex_flow": null,
            "grid_area": null,
            "grid_auto_columns": null,
            "grid_auto_flow": null,
            "grid_auto_rows": null,
            "grid_column": null,
            "grid_gap": null,
            "grid_row": null,
            "grid_template_areas": null,
            "grid_template_columns": null,
            "grid_template_rows": null,
            "height": null,
            "justify_content": null,
            "justify_items": null,
            "left": null,
            "margin": null,
            "max_height": null,
            "max_width": null,
            "min_height": null,
            "min_width": null,
            "object_fit": null,
            "object_position": null,
            "order": null,
            "overflow": null,
            "overflow_x": null,
            "overflow_y": null,
            "padding": null,
            "right": null,
            "top": null,
            "visibility": null,
            "width": null
          }
        },
        "460560b231274caf83a429c616a78cbd": {
          "model_module": "@jupyter-widgets/base",
          "model_name": "LayoutModel",
          "model_module_version": "1.2.0",
          "state": {
            "_model_module": "@jupyter-widgets/base",
            "_model_module_version": "1.2.0",
            "_model_name": "LayoutModel",
            "_view_count": null,
            "_view_module": "@jupyter-widgets/base",
            "_view_module_version": "1.2.0",
            "_view_name": "LayoutView",
            "align_content": null,
            "align_items": null,
            "align_self": null,
            "border": null,
            "bottom": null,
            "display": null,
            "flex": null,
            "flex_flow": null,
            "grid_area": null,
            "grid_auto_columns": null,
            "grid_auto_flow": null,
            "grid_auto_rows": null,
            "grid_column": null,
            "grid_gap": null,
            "grid_row": null,
            "grid_template_areas": null,
            "grid_template_columns": null,
            "grid_template_rows": null,
            "height": null,
            "justify_content": null,
            "justify_items": null,
            "left": null,
            "margin": null,
            "max_height": null,
            "max_width": null,
            "min_height": null,
            "min_width": null,
            "object_fit": null,
            "object_position": null,
            "order": null,
            "overflow": null,
            "overflow_x": null,
            "overflow_y": null,
            "padding": null,
            "right": null,
            "top": null,
            "visibility": null,
            "width": null
          }
        },
        "5b3dfa48804b460191ecde0db3fd9e84": {
          "model_module": "@jupyter-widgets/controls",
          "model_name": "DescriptionStyleModel",
          "model_module_version": "1.5.0",
          "state": {
            "_model_module": "@jupyter-widgets/controls",
            "_model_module_version": "1.5.0",
            "_model_name": "DescriptionStyleModel",
            "_view_count": null,
            "_view_module": "@jupyter-widgets/base",
            "_view_module_version": "1.2.0",
            "_view_name": "StyleView",
            "description_width": ""
          }
        },
        "845ce4fcdd804bbf8947be6d060de6c0": {
          "model_module": "@jupyter-widgets/base",
          "model_name": "LayoutModel",
          "model_module_version": "1.2.0",
          "state": {
            "_model_module": "@jupyter-widgets/base",
            "_model_module_version": "1.2.0",
            "_model_name": "LayoutModel",
            "_view_count": null,
            "_view_module": "@jupyter-widgets/base",
            "_view_module_version": "1.2.0",
            "_view_name": "LayoutView",
            "align_content": null,
            "align_items": null,
            "align_self": null,
            "border": null,
            "bottom": null,
            "display": null,
            "flex": null,
            "flex_flow": null,
            "grid_area": null,
            "grid_auto_columns": null,
            "grid_auto_flow": null,
            "grid_auto_rows": null,
            "grid_column": null,
            "grid_gap": null,
            "grid_row": null,
            "grid_template_areas": null,
            "grid_template_columns": null,
            "grid_template_rows": null,
            "height": null,
            "justify_content": null,
            "justify_items": null,
            "left": null,
            "margin": null,
            "max_height": null,
            "max_width": null,
            "min_height": null,
            "min_width": null,
            "object_fit": null,
            "object_position": null,
            "order": null,
            "overflow": null,
            "overflow_x": null,
            "overflow_y": null,
            "padding": null,
            "right": null,
            "top": null,
            "visibility": null,
            "width": null
          }
        },
        "5b7f43e5015f436a8c91c633b026bd34": {
          "model_module": "@jupyter-widgets/controls",
          "model_name": "ProgressStyleModel",
          "model_module_version": "1.5.0",
          "state": {
            "_model_module": "@jupyter-widgets/controls",
            "_model_module_version": "1.5.0",
            "_model_name": "ProgressStyleModel",
            "_view_count": null,
            "_view_module": "@jupyter-widgets/base",
            "_view_module_version": "1.2.0",
            "_view_name": "StyleView",
            "bar_color": null,
            "description_width": ""
          }
        },
        "978bd7ffceaa4a4eace3e44f820a2f07": {
          "model_module": "@jupyter-widgets/base",
          "model_name": "LayoutModel",
          "model_module_version": "1.2.0",
          "state": {
            "_model_module": "@jupyter-widgets/base",
            "_model_module_version": "1.2.0",
            "_model_name": "LayoutModel",
            "_view_count": null,
            "_view_module": "@jupyter-widgets/base",
            "_view_module_version": "1.2.0",
            "_view_name": "LayoutView",
            "align_content": null,
            "align_items": null,
            "align_self": null,
            "border": null,
            "bottom": null,
            "display": null,
            "flex": null,
            "flex_flow": null,
            "grid_area": null,
            "grid_auto_columns": null,
            "grid_auto_flow": null,
            "grid_auto_rows": null,
            "grid_column": null,
            "grid_gap": null,
            "grid_row": null,
            "grid_template_areas": null,
            "grid_template_columns": null,
            "grid_template_rows": null,
            "height": null,
            "justify_content": null,
            "justify_items": null,
            "left": null,
            "margin": null,
            "max_height": null,
            "max_width": null,
            "min_height": null,
            "min_width": null,
            "object_fit": null,
            "object_position": null,
            "order": null,
            "overflow": null,
            "overflow_x": null,
            "overflow_y": null,
            "padding": null,
            "right": null,
            "top": null,
            "visibility": null,
            "width": null
          }
        },
        "5aed4e4bd9574e9a94738947300bc07a": {
          "model_module": "@jupyter-widgets/controls",
          "model_name": "DescriptionStyleModel",
          "model_module_version": "1.5.0",
          "state": {
            "_model_module": "@jupyter-widgets/controls",
            "_model_module_version": "1.5.0",
            "_model_name": "DescriptionStyleModel",
            "_view_count": null,
            "_view_module": "@jupyter-widgets/base",
            "_view_module_version": "1.2.0",
            "_view_name": "StyleView",
            "description_width": ""
          }
        }
      }
    }
  },
  "cells": [
    {
      "cell_type": "markdown",
      "metadata": {
        "id": "view-in-github",
        "colab_type": "text"
      },
      "source": [
        "<a href=\"https://colab.research.google.com/github/IvanDePivan/2AMM30-groep-2-component-1/blob/main/HF_RE.ipynb\" target=\"_parent\"><img src=\"https://colab.research.google.com/assets/colab-badge.svg\" alt=\"Open In Colab\"/></a>"
      ]
    },
    {
      "cell_type": "markdown",
      "source": [
        "# RE using Hugging face"
      ],
      "metadata": {
        "id": "_f4MGA3xfOUv"
      }
    },
    {
      "cell_type": "markdown",
      "source": [
        "Importing and installing the required packages"
      ],
      "metadata": {
        "id": "gk32D3CIfbz8"
      }
    },
    {
      "cell_type": "code",
      "execution_count": 1,
      "metadata": {
        "colab": {
          "base_uri": "https://localhost:8080/"
        },
        "id": "rygoJk-wuPRg",
        "outputId": "2bf3a123-1cd3-48ab-965c-0998d4d55cc5"
      },
      "outputs": [
        {
          "output_type": "stream",
          "name": "stdout",
          "text": [
            "Requirement already satisfied: accelerate in /usr/local/lib/python3.10/dist-packages (0.24.1)\n",
            "Requirement already satisfied: numpy>=1.17 in /usr/local/lib/python3.10/dist-packages (from accelerate) (1.23.5)\n",
            "Requirement already satisfied: packaging>=20.0 in /usr/local/lib/python3.10/dist-packages (from accelerate) (23.2)\n",
            "Requirement already satisfied: psutil in /usr/local/lib/python3.10/dist-packages (from accelerate) (5.9.5)\n",
            "Requirement already satisfied: pyyaml in /usr/local/lib/python3.10/dist-packages (from accelerate) (6.0.1)\n",
            "Requirement already satisfied: torch>=1.10.0 in /usr/local/lib/python3.10/dist-packages (from accelerate) (2.1.0+cu118)\n",
            "Requirement already satisfied: huggingface-hub in /usr/local/lib/python3.10/dist-packages (from accelerate) (0.17.3)\n",
            "Requirement already satisfied: filelock in /usr/local/lib/python3.10/dist-packages (from torch>=1.10.0->accelerate) (3.13.1)\n",
            "Requirement already satisfied: typing-extensions in /usr/local/lib/python3.10/dist-packages (from torch>=1.10.0->accelerate) (4.5.0)\n",
            "Requirement already satisfied: sympy in /usr/local/lib/python3.10/dist-packages (from torch>=1.10.0->accelerate) (1.12)\n",
            "Requirement already satisfied: networkx in /usr/local/lib/python3.10/dist-packages (from torch>=1.10.0->accelerate) (3.2.1)\n",
            "Requirement already satisfied: jinja2 in /usr/local/lib/python3.10/dist-packages (from torch>=1.10.0->accelerate) (3.1.2)\n",
            "Requirement already satisfied: fsspec in /usr/local/lib/python3.10/dist-packages (from torch>=1.10.0->accelerate) (2023.6.0)\n",
            "Requirement already satisfied: triton==2.1.0 in /usr/local/lib/python3.10/dist-packages (from torch>=1.10.0->accelerate) (2.1.0)\n",
            "Requirement already satisfied: requests in /usr/local/lib/python3.10/dist-packages (from huggingface-hub->accelerate) (2.31.0)\n",
            "Requirement already satisfied: tqdm>=4.42.1 in /usr/local/lib/python3.10/dist-packages (from huggingface-hub->accelerate) (4.66.1)\n",
            "Requirement already satisfied: MarkupSafe>=2.0 in /usr/local/lib/python3.10/dist-packages (from jinja2->torch>=1.10.0->accelerate) (2.1.3)\n",
            "Requirement already satisfied: charset-normalizer<4,>=2 in /usr/local/lib/python3.10/dist-packages (from requests->huggingface-hub->accelerate) (3.3.2)\n",
            "Requirement already satisfied: idna<4,>=2.5 in /usr/local/lib/python3.10/dist-packages (from requests->huggingface-hub->accelerate) (3.4)\n",
            "Requirement already satisfied: urllib3<3,>=1.21.1 in /usr/local/lib/python3.10/dist-packages (from requests->huggingface-hub->accelerate) (2.0.7)\n",
            "Requirement already satisfied: certifi>=2017.4.17 in /usr/local/lib/python3.10/dist-packages (from requests->huggingface-hub->accelerate) (2023.7.22)\n",
            "Requirement already satisfied: mpmath>=0.19 in /usr/local/lib/python3.10/dist-packages (from sympy->torch>=1.10.0->accelerate) (1.3.0)\n",
            "Requirement already satisfied: transformers in /usr/local/lib/python3.10/dist-packages (4.35.0)\n",
            "Requirement already satisfied: filelock in /usr/local/lib/python3.10/dist-packages (from transformers) (3.13.1)\n",
            "Requirement already satisfied: huggingface-hub<1.0,>=0.16.4 in /usr/local/lib/python3.10/dist-packages (from transformers) (0.17.3)\n",
            "Requirement already satisfied: numpy>=1.17 in /usr/local/lib/python3.10/dist-packages (from transformers) (1.23.5)\n",
            "Requirement already satisfied: packaging>=20.0 in /usr/local/lib/python3.10/dist-packages (from transformers) (23.2)\n",
            "Requirement already satisfied: pyyaml>=5.1 in /usr/local/lib/python3.10/dist-packages (from transformers) (6.0.1)\n",
            "Requirement already satisfied: regex!=2019.12.17 in /usr/local/lib/python3.10/dist-packages (from transformers) (2023.6.3)\n",
            "Requirement already satisfied: requests in /usr/local/lib/python3.10/dist-packages (from transformers) (2.31.0)\n",
            "Requirement already satisfied: tokenizers<0.15,>=0.14 in /usr/local/lib/python3.10/dist-packages (from transformers) (0.14.1)\n",
            "Requirement already satisfied: safetensors>=0.3.1 in /usr/local/lib/python3.10/dist-packages (from transformers) (0.4.0)\n",
            "Requirement already satisfied: tqdm>=4.27 in /usr/local/lib/python3.10/dist-packages (from transformers) (4.66.1)\n",
            "Requirement already satisfied: fsspec in /usr/local/lib/python3.10/dist-packages (from huggingface-hub<1.0,>=0.16.4->transformers) (2023.6.0)\n",
            "Requirement already satisfied: typing-extensions>=3.7.4.3 in /usr/local/lib/python3.10/dist-packages (from huggingface-hub<1.0,>=0.16.4->transformers) (4.5.0)\n",
            "Requirement already satisfied: charset-normalizer<4,>=2 in /usr/local/lib/python3.10/dist-packages (from requests->transformers) (3.3.2)\n",
            "Requirement already satisfied: idna<4,>=2.5 in /usr/local/lib/python3.10/dist-packages (from requests->transformers) (3.4)\n",
            "Requirement already satisfied: urllib3<3,>=1.21.1 in /usr/local/lib/python3.10/dist-packages (from requests->transformers) (2.0.7)\n",
            "Requirement already satisfied: certifi>=2017.4.17 in /usr/local/lib/python3.10/dist-packages (from requests->transformers) (2023.7.22)\n",
            "Requirement already satisfied: evaluate in /usr/local/lib/python3.10/dist-packages (0.4.1)\n",
            "Requirement already satisfied: datasets>=2.0.0 in /usr/local/lib/python3.10/dist-packages (from evaluate) (2.14.6)\n",
            "Requirement already satisfied: numpy>=1.17 in /usr/local/lib/python3.10/dist-packages (from evaluate) (1.23.5)\n",
            "Requirement already satisfied: dill in /usr/local/lib/python3.10/dist-packages (from evaluate) (0.3.7)\n",
            "Requirement already satisfied: pandas in /usr/local/lib/python3.10/dist-packages (from evaluate) (1.5.3)\n",
            "Requirement already satisfied: requests>=2.19.0 in /usr/local/lib/python3.10/dist-packages (from evaluate) (2.31.0)\n",
            "Requirement already satisfied: tqdm>=4.62.1 in /usr/local/lib/python3.10/dist-packages (from evaluate) (4.66.1)\n",
            "Requirement already satisfied: xxhash in /usr/local/lib/python3.10/dist-packages (from evaluate) (3.4.1)\n",
            "Requirement already satisfied: multiprocess in /usr/local/lib/python3.10/dist-packages (from evaluate) (0.70.15)\n",
            "Requirement already satisfied: fsspec[http]>=2021.05.0 in /usr/local/lib/python3.10/dist-packages (from evaluate) (2023.6.0)\n",
            "Requirement already satisfied: huggingface-hub>=0.7.0 in /usr/local/lib/python3.10/dist-packages (from evaluate) (0.17.3)\n",
            "Requirement already satisfied: packaging in /usr/local/lib/python3.10/dist-packages (from evaluate) (23.2)\n",
            "Requirement already satisfied: responses<0.19 in /usr/local/lib/python3.10/dist-packages (from evaluate) (0.18.0)\n",
            "Requirement already satisfied: pyarrow>=8.0.0 in /usr/local/lib/python3.10/dist-packages (from datasets>=2.0.0->evaluate) (9.0.0)\n",
            "Requirement already satisfied: aiohttp in /usr/local/lib/python3.10/dist-packages (from datasets>=2.0.0->evaluate) (3.8.6)\n",
            "Requirement already satisfied: pyyaml>=5.1 in /usr/local/lib/python3.10/dist-packages (from datasets>=2.0.0->evaluate) (6.0.1)\n",
            "Requirement already satisfied: filelock in /usr/local/lib/python3.10/dist-packages (from huggingface-hub>=0.7.0->evaluate) (3.13.1)\n",
            "Requirement already satisfied: typing-extensions>=3.7.4.3 in /usr/local/lib/python3.10/dist-packages (from huggingface-hub>=0.7.0->evaluate) (4.5.0)\n",
            "Requirement already satisfied: charset-normalizer<4,>=2 in /usr/local/lib/python3.10/dist-packages (from requests>=2.19.0->evaluate) (3.3.2)\n",
            "Requirement already satisfied: idna<4,>=2.5 in /usr/local/lib/python3.10/dist-packages (from requests>=2.19.0->evaluate) (3.4)\n",
            "Requirement already satisfied: urllib3<3,>=1.21.1 in /usr/local/lib/python3.10/dist-packages (from requests>=2.19.0->evaluate) (2.0.7)\n",
            "Requirement already satisfied: certifi>=2017.4.17 in /usr/local/lib/python3.10/dist-packages (from requests>=2.19.0->evaluate) (2023.7.22)\n",
            "Requirement already satisfied: python-dateutil>=2.8.1 in /usr/local/lib/python3.10/dist-packages (from pandas->evaluate) (2.8.2)\n",
            "Requirement already satisfied: pytz>=2020.1 in /usr/local/lib/python3.10/dist-packages (from pandas->evaluate) (2023.3.post1)\n",
            "Requirement already satisfied: attrs>=17.3.0 in /usr/local/lib/python3.10/dist-packages (from aiohttp->datasets>=2.0.0->evaluate) (23.1.0)\n",
            "Requirement already satisfied: multidict<7.0,>=4.5 in /usr/local/lib/python3.10/dist-packages (from aiohttp->datasets>=2.0.0->evaluate) (6.0.4)\n",
            "Requirement already satisfied: async-timeout<5.0,>=4.0.0a3 in /usr/local/lib/python3.10/dist-packages (from aiohttp->datasets>=2.0.0->evaluate) (4.0.3)\n",
            "Requirement already satisfied: yarl<2.0,>=1.0 in /usr/local/lib/python3.10/dist-packages (from aiohttp->datasets>=2.0.0->evaluate) (1.9.2)\n",
            "Requirement already satisfied: frozenlist>=1.1.1 in /usr/local/lib/python3.10/dist-packages (from aiohttp->datasets>=2.0.0->evaluate) (1.4.0)\n",
            "Requirement already satisfied: aiosignal>=1.1.2 in /usr/local/lib/python3.10/dist-packages (from aiohttp->datasets>=2.0.0->evaluate) (1.3.1)\n",
            "Requirement already satisfied: six>=1.5 in /usr/local/lib/python3.10/dist-packages (from python-dateutil>=2.8.1->pandas->evaluate) (1.16.0)\n"
          ]
        }
      ],
      "source": [
        "import pandas as pd\n",
        "import json\n",
        "import numpy as np\n",
        "import spacy\n",
        "from spacy.training.example import Example #holds information for one training instance\n",
        "import random\n",
        "from tqdm import tqdm\n",
        "from spacy.scorer import Scorer\n",
        "import warnings\n",
        "warnings.filterwarnings('ignore')\n",
        "import os\n",
        "import glob\n",
        "import re\n",
        "import matplotlib.pyplot as plt\n",
        "import seaborn as sns\n",
        "from collections import Counter\n",
        "from sklearn.metrics import confusion_matrix\n",
        "from torch import nn\n",
        "from transformers import AutoModelForSequenceClassification, TrainingArguments, Trainer\n",
        "import numpy as np\n",
        "import evaluate\n",
        "import torch\n",
        "from torch.utils.data import Dataset, DataLoader\n",
        "from transformers import AutoTokenizer\n",
        "from transformers import DataCollatorWithPadding\n",
        "from transformers import AutoConfig\n",
        "import datetime\n",
        "from matplotlib.colors import LogNorm, Normalize\n",
        "! pip install -U accelerate\n",
        "! pip install -U transformers\n",
        "! pip install evaluate"
      ]
    },
    {
      "cell_type": "markdown",
      "source": [
        "Import the data from label studio"
      ],
      "metadata": {
        "id": "oBLO13dAfjQN"
      }
    },
    {
      "cell_type": "code",
      "source": [
        "# Authenticate\n",
        "from google.colab import drive\n",
        "drive.mount('/content/drive')\n",
        "from google.colab import auth\n",
        "auth.authenticate_user()\n",
        "\n",
        "# Get email of current Colab user\n",
        "import requests\n",
        "gcloud_token = !gcloud auth print-access-token\n",
        "gcloud_tokeninfo = requests.get('https://www.googleapis.com/oauth2/v3/tokeninfo?access_token=' + gcloud_token[0]).json()\n",
        "email = gcloud_tokeninfo['email']"
      ],
      "metadata": {
        "colab": {
          "base_uri": "https://localhost:8080/"
        },
        "id": "8Az_nCdduQht",
        "outputId": "ee1686bb-2e65-4e56-f01d-1eab140f6034"
      },
      "execution_count": 2,
      "outputs": [
        {
          "output_type": "stream",
          "name": "stdout",
          "text": [
            "Drive already mounted at /content/drive; to attempt to forcibly remount, call drive.mount(\"/content/drive\", force_remount=True).\n"
          ]
        }
      ]
    },
    {
      "cell_type": "code",
      "source": [
        "# Define filepath\n",
        "if email == 'tamaraexterkate93@gmail.com':\n",
        "  filename = \"/content/drive/MyDrive/TUe/TM/Exports/export_component_1.json\"\n",
        "elif email == 'n.v.diermen@student.tue.nl':\n",
        "  filename = \"/content/drive/MyDrive/Text Mining/export_component_1.json\""
      ],
      "metadata": {
        "id": "bXBQjYyfuUii"
      },
      "execution_count": 3,
      "outputs": []
    },
    {
      "cell_type": "code",
      "source": [
        "# Obtain data from Label Studio and put in right format\n",
        "DATA = []\n",
        "\n",
        "# read json file\n",
        "with open(filename, 'rb') as fp:\n",
        "  training_data = json.load(fp)\n",
        "\n",
        "  # get text, labels, relations, benchmark for each article\n",
        "  for article in training_data:\n",
        "    entities = []\n",
        "    id_entities = []\n",
        "    relations = []\n",
        "    original_text = article.get('data').get('text')\n",
        "    if len(article.get('annotations')) == 5: # N=5\n",
        "      benchmark = True\n",
        "    else:\n",
        "      benchmark = False\n",
        "    for annotation in article.get('annotations'):\n",
        "      if annotation.get('ground_truth') == True: # only include ground truth\n",
        "        for ind, label in enumerate(annotation.get('result')):\n",
        "          if label.get('type') == 'labels':\n",
        "            start = label.get('value').get('start')\n",
        "            end = label.get('value').get('end')\n",
        "            id = label.get('id')\n",
        "            text = label.get('value').get('text')\n",
        "            label = label.get('value').get('labels')[0] # note: cannot deal with multiple labels\n",
        "            id_entities.append((start, end, label, id, text))\n",
        "            entities.append((start, end, label))\n",
        "          elif label.get('type') == 'relation':\n",
        "            from_id = label.get('from_id')\n",
        "            to_id = label.get('to_id')\n",
        "            relation = label.get('labels')[0] # note: cannot deal with multiple relations\n",
        "            if relation != \"same_as\":\n",
        "              relations.append((from_id, to_id, relation))\n",
        "          else:\n",
        "            print(\"found unknown label type (no label or relation)\")\n",
        "\n",
        "    # append article to training data as dictionary\n",
        "    DATA.append({\n",
        "    'text': original_text,\n",
        "    'entities': entities,\n",
        "    'id_entities': id_entities,\n",
        "    'relations': relations,\n",
        "    'benchmark': benchmark\n",
        "    })"
      ],
      "metadata": {
        "id": "8OkS1eAouWnq"
      },
      "execution_count": 4,
      "outputs": []
    },
    {
      "cell_type": "code",
      "source": [
        "# Remove entities with smallest span in case of overlapping entities\n",
        "def remove_overlap(entities):\n",
        "  \"\"\" Returns the entities with the shortest ones removed in case of overlap \"\"\"\n",
        "  # Initialize a list to store the final non-overlapping entities\n",
        "  final_entities = []\n",
        "\n",
        "  # Sort the entities by their start position in ascending order\n",
        "  entities.sort(key=lambda entity: entity[0])\n",
        "\n",
        "  # Iterate through the sorted entities\n",
        "  for entity in entities:\n",
        "      overlaps = False\n",
        "      for existing_entity in final_entities:\n",
        "          # Check for overlapping entities\n",
        "          if (entity[0] >= existing_entity[0] and entity[0] < existing_entity[1]) or \\\n",
        "            (entity[1] > existing_entity[0] and entity[1] <= existing_entity[1]):\n",
        "              overlaps = True\n",
        "              break\n",
        "      if not overlaps:\n",
        "          final_entities.append(entity)\n",
        "\n",
        "  return final_entities\n",
        "\n",
        "for article in DATA:\n",
        "  article['entities'] = remove_overlap(article['entities'])"
      ],
      "metadata": {
        "id": "2hoEFIJsubDd"
      },
      "execution_count": 5,
      "outputs": []
    },
    {
      "cell_type": "code",
      "source": [
        "# split data in train, validate and test set\n",
        "\n",
        "def train_test_split(data, val_size):\n",
        "  \"\"\"Splits data in a train, validation and test set \"\"\"\n",
        "\n",
        "  print(f'Total articles: {len(data)}')\n",
        "  benchmark = [article for article in data if article['benchmark']]\n",
        "  data = [article for article in data if not article['benchmark']]\n",
        "  train_end = int(len(data)*(1-val_size))\n",
        "  train = data[0:train_end]\n",
        "  val = data[train_end:len(data)]\n",
        "\n",
        "  print(f'Size train: {len(train)}')\n",
        "  print(f'Size val: {len(val)}')\n",
        "  print(f'Size test: {len(benchmark)}')\n",
        "\n",
        "  return train, val, benchmark\n",
        "\n",
        "train, val, test =  train_test_split(DATA, val_size=0.25)"
      ],
      "metadata": {
        "id": "Ocg9uLglud6O",
        "outputId": "da43f17e-fa4d-4036-8886-f448174f40c9",
        "colab": {
          "base_uri": "https://localhost:8080/"
        }
      },
      "execution_count": 6,
      "outputs": [
        {
          "output_type": "stream",
          "name": "stdout",
          "text": [
            "Total articles: 137\n",
            "Size train: 72\n",
            "Size val: 25\n",
            "Size test: 40\n"
          ]
        }
      ]
    },
    {
      "cell_type": "markdown",
      "source": [
        "Create and prune input for RE"
      ],
      "metadata": {
        "id": "pWlrz_IEg0H2"
      }
    },
    {
      "cell_type": "code",
      "source": [
        "# add markers around entities and add the markers to the vocabulary\n",
        "\n",
        "def insert_markers(text, pair):\n",
        "  \"\"\" Inserts the right marker tokens around the entities provided in the pair \"\"\"\n",
        "  label_to_marker = {\n",
        "      'Winner': '[WINR]',\n",
        "      'Date': '[DATE]',\n",
        "      'Prizetype': '[PRZT]',\n",
        "      'Reason': '[REAS]',\n",
        "      'Nationality': '[NTLY]'\n",
        "  }\n",
        "\n",
        "  start_to_add = 0\n",
        "  end_to_add = 7\n",
        "  for ent in pair:\n",
        "    start = ent[0]\n",
        "    end = ent[1]\n",
        "    label = ent[2]\n",
        "    start += start_to_add\n",
        "    end += end_to_add\n",
        "    text = text[:start] + label_to_marker[label] + ' ' + text[start:]\n",
        "    text = text[:end] +' '+ label_to_marker[label] + text[end:]\n",
        "    start_to_add += 7*2\n",
        "    end_to_add += 7*2\n",
        "\n",
        "  return text\n",
        "\n",
        "special_tokens = [\"[WINR]\", \"[DATE]\", \"[REAS]\", \"[NTLY]\", \"[PRZT]\"]"
      ],
      "metadata": {
        "id": "bE2fvOP2unV-"
      },
      "execution_count": 7,
      "outputs": []
    },
    {
      "cell_type": "code",
      "source": [
        "# check if and which relation exists between two entities\n",
        "\n",
        "def get_relation(pair, relations):\n",
        "  \"\"\" Returns the relation between two entities and no_relation if there is none \"\"\"\n",
        "  if pair[0][3] and pair[1][3]: # check if entities of pair exist in annotations\n",
        "    # see if and what relation there is between the entities of the pair\n",
        "    for relation in relations:\n",
        "      if (relation[0] == pair[0][3] and relation[1] == pair[1][3]) or (relation[1] == pair[0][3] and relation[0] == pair[1][3]):\n",
        "          return relation[2]\n",
        "  return 'no_relation'"
      ],
      "metadata": {
        "id": "-_oqeHMMuqGN"
      },
      "execution_count": 8,
      "outputs": []
    },
    {
      "cell_type": "code",
      "source": [
        "# get maximum relation distances for pruning\n",
        "\n",
        "def get_distances(DATA):\n",
        "  \"\"\" Returns maximum distances between entities per relation type \"\"\"\n",
        "  all_distances = {}\n",
        "  for data in DATA:\n",
        "    for relation in data['relations']:\n",
        "      rel_from_begin = [entity[0] for entity in data['id_entities'] if entity[3] == relation[0]]\n",
        "      rel_to_begin = [entity[0] for entity in data['id_entities'] if entity[3] == relation[1]]\n",
        "      distance = abs(rel_from_begin[0] - rel_to_begin[0])\n",
        "\n",
        "      if all_distances.get(relation[2]) == None:\n",
        "        all_distances[relation[2]] = distance\n",
        "      else:\n",
        "        all_distances[relation[2]] = max(all_distances[relation[2]], distance)\n",
        "\n",
        "  return all_distances\n",
        "\n",
        "max_span_per_relation = get_distances(train)\n",
        "\n",
        "# obtain the maximum relation span between winner and other entity\n",
        "max_span = {\n",
        "'Date': max(max_span_per_relation['born_on'],max_span_per_relation['died_on'],max_span_per_relation['received_nobelprize_in']),\n",
        "'Prizetype': max_span_per_relation['has_won'],\n",
        "'Reason': max_span_per_relation['received_nobelprize_for'],\n",
        "'Nationality': max_span_per_relation['has_nationality']}"
      ],
      "metadata": {
        "id": "uvL7l6dMACE9"
      },
      "execution_count": 9,
      "outputs": []
    },
    {
      "cell_type": "code",
      "source": [
        "def mark_data(data, NER_output=True, prune = None):\n",
        "  \"\"\"\n",
        "  Creates the (pruned) input for performing Relation Extraction, which exists of\n",
        "  the text with two entities highlighted and their corresponding relation or\n",
        "  no_relation if there is none.\n",
        "\n",
        "  Input:\n",
        "  data: the data which has to be transformed to RE input\n",
        "  NER_output: a dummy variable indicating wether we are working with the output\n",
        "    of Label Studio (False) or the output of the NER model (True)\n",
        "  prune = the factor with which the maximum distance is multiplied for pruning\n",
        "    and None if no pruning is desired.\n",
        "\n",
        "  Output:\n",
        "  data_output: the text instances with their entities highlighted by marker tokens\n",
        "  relations_output: the relation between these entities, with no_relation if\n",
        "    there is none\n",
        "\n",
        "  \"\"\"\n",
        "\n",
        "  # init data output and relations list\n",
        "  data_output = []\n",
        "  relations_output = []\n",
        "\n",
        "  # iterate over each article in data\n",
        "  for article in data:\n",
        "\n",
        "    # get original text and convert to doc\n",
        "    text = article['text']\n",
        "\n",
        "    # get seperate list of winner entities and other entities in fixed format (start,end,label,id)\n",
        "    if NER_output:\n",
        "      # create doc\n",
        "      doc = best_nlp(text)\n",
        "\n",
        "      winners = []\n",
        "      others = []\n",
        "      for ent in doc.ents:\n",
        "        # check to what entity in the annotations the NER entity refers to\n",
        "        for original_ent in article['id_entities']:\n",
        "          ent_id = None # refer to None if entity is not in annotations\n",
        "          # otherwise overwrite with id of entity in annotations\n",
        "          if ent.start_char == original_ent[0] and ent.end_char == original_ent[1]:\n",
        "            ent_id = original_ent[3]\n",
        "            break\n",
        "        if ent.label_=='Winner':\n",
        "          winners.append((ent.start_char, ent.end_char, ent.label_, ent_id))\n",
        "        else:\n",
        "          others.append((ent.start_char, ent.end_char, ent.label_, ent_id))\n",
        "\n",
        "    else:\n",
        "      ents = article['id_entities']\n",
        "      winners = [ent for ent in ents if ent[2] =='Winner']\n",
        "      others = [ent for ent in ents if ent[2] !='Winner']\n",
        "\n",
        "    # make pairs for possible relations (winner + other)\n",
        "    pairs = []\n",
        "\n",
        "    for winner in winners:\n",
        "      for other in others:\n",
        "        # check if entities are within the maximum relation span of each other\n",
        "        if prune == None or abs(winner[0]-other[0]) <= prune*max_span[other[2]]:\n",
        "          if winner[0] < other[0]:\n",
        "            pairs.append((winner,other))\n",
        "          else:\n",
        "            pairs.append((other,winner))\n",
        "\n",
        "    # create new text with markers for each possible relation with winner\n",
        "    new_texts = [insert_markers(text, pair) for pair in pairs]\n",
        "    relations_output.extend([get_relation(pair, article['relations']) for pair in pairs])\n",
        "    data_output.extend(new_texts)\n",
        "\n",
        "  return np.array(data_output), np.array(relations_output)"
      ],
      "metadata": {
        "id": "e1vLFzUiusSo"
      },
      "execution_count": 10,
      "outputs": []
    },
    {
      "cell_type": "code",
      "source": [
        "def check_contains_relation(tokens, marker_tokens):\n",
        "  \"\"\"Return True if piece of text (tokens) contains a possible relation (= 4 marker tokens).\"\"\"\n",
        "\n",
        "  marker_token_counts = {marker_token: tokens.count(marker_token) for marker_token in marker_tokens}\n",
        "  nr_marker_tokens = sum(marker_token_counts.values())\n",
        "  return nr_marker_tokens == 4\n",
        "\n",
        "def split_paragraphs(X_data, y_data):\n",
        "  \"\"\"Split the text into seperate paragraphs\"\"\"\n",
        "  # init\n",
        "  X_result = []\n",
        "  y_result = []\n",
        "\n",
        "  for x, y in zip(X_data, y_data):\n",
        "    for paragraph in x.split('\\n'):\n",
        "      contains_markers = check_contains_relation(paragraph, special_tokens)\n",
        "      if contains_markers:\n",
        "        X_result.append(paragraph)\n",
        "        y_result.append(y)\n",
        "\n",
        "  return np.array(X_result), np.array(y_result)"
      ],
      "metadata": {
        "id": "-lKyhN7MoYRu"
      },
      "execution_count": 11,
      "outputs": []
    },
    {
      "cell_type": "code",
      "source": [
        "# put the data in the right format and prune pairs if they are further than 1.2 times the maximum observed distance\n",
        "X_train, y_train = mark_data(train, NER_output=False, prune =1.2)\n",
        "X_val, y_val = mark_data(val, NER_output=False, prune =1.2)\n",
        "X_test, y_test = mark_data(test, NER_output=False, prune =1.2)\n",
        "\n",
        "# split paragraphs to avoid exceeding the maximum sequence lenght by BERT (512)\n",
        "X_train, y_train = split_paragraphs(X_train, y_train)\n",
        "X_val, y_val = split_paragraphs(X_val, y_val)\n",
        "X_test, y_test = split_paragraphs(X_test, y_test)\n"
      ],
      "metadata": {
        "id": "VvtUjCB2u0r2"
      },
      "execution_count": 12,
      "outputs": []
    },
    {
      "cell_type": "code",
      "source": [
        "# vizualize the class imbalance for no relation\n",
        "sns.histplot(y_train)\n",
        "plt.xticks(rotation=90)\n",
        "plt.show()\n",
        "\n",
        "def downsample(X,y,sample_factor = 1):\n",
        "  \"\"\" Downsamples the no_relation class up to sample_factor times the second highest class samples \"\"\"\n",
        "  # get second highest category\n",
        "  label_counts = Counter(y)\n",
        "  relation_counts = label_counts.copy()\n",
        "  relation_counts.pop('no_relation')\n",
        "  n_samples = round(sample_factor * max(relation_counts.values())) # allow slight class imbalance for no_relation\n",
        "\n",
        "  # if no_relation imbalanced, randomly downsample these relations\n",
        "  if label_counts['no_relation'] - n_samples > 0:\n",
        "    desample_mask = y != 'no_relation'\n",
        "    ind_no_relation = np.where(y == 'no_relation')[0]\n",
        "    include_no_relations = (np.random.choice(ind_no_relation,n_samples, replace = False))\n",
        "    desample_mask[include_no_relations] = 1\n",
        "  y = y[desample_mask]\n",
        "  X = X[desample_mask]\n",
        "\n",
        "  return X,y\n",
        "\n",
        "# randomly downsample no_relation in train\n",
        "X_train, y_train = downsample(X_train,y_train, sample_factor =1.2)\n",
        "\n",
        "# vizualize new class distribution\n",
        "sns.histplot(y_train)\n",
        "plt.xticks(rotation=90)\n",
        "plt.show()\n"
      ],
      "metadata": {
        "id": "YibcQ89zoTb5",
        "outputId": "f9d022f9-a5bc-410e-ccfe-4d314f12b6b4",
        "colab": {
          "base_uri": "https://localhost:8080/",
          "height": 1000
        }
      },
      "execution_count": 13,
      "outputs": [
        {
          "output_type": "display_data",
          "data": {
            "text/plain": [
              "<Figure size 640x480 with 1 Axes>"
            ],
            "image/png": "[encoded data removed]"
          },
          "metadata": {}
        },
        {
          "output_type": "display_data",
          "data": {
            "text/plain": [
              "<Figure size 640x480 with 1 Axes>"
            ],
            "image/png": "[encoded data removed]"
          },
          "metadata": {}
        }
      ]
    },
    {
      "cell_type": "code",
      "source": [
        "# assign class labels to each relation\n",
        "id2label = {0: \"no_relation\", 1: \"received_nobelprize_for\", 2: \"has_won\", 3: \"received_nobelprize_in\", 4: \"born_on\", 5: \"died_on\", 6: \"has_nationality\"}\n",
        "label2id = {\"no_relation\": 0, \"received_nobelprize_for\": 1, \"has_won\": 2, \"received_nobelprize_in\": 3, \"born_on\": 4, \"died_on\": 5, \"has_nationality\": 6}\n",
        "\n",
        "y_train = [label2id[label] for label in y_train]\n",
        "y_val = [label2id[label] for label in y_val]\n",
        "y_test = [label2id[label] for label in y_test]"
      ],
      "metadata": {
        "id": "w7G4LqO4ogBk"
      },
      "execution_count": 14,
      "outputs": []
    },
    {
      "cell_type": "markdown",
      "source": [
        "Set up our customized distilbert-base-uncased model"
      ],
      "metadata": {
        "id": "NK5QFw14peLu"
      }
    },
    {
      "cell_type": "code",
      "source": [
        "# load distil-bert-uncased\n",
        "tokenizer = AutoTokenizer.from_pretrained('distilbert-base-uncased')\n",
        "\n",
        "# add our markers as tokens to vocabulary\n",
        "num_added_toks = tokenizer.add_tokens(special_tokens)\n",
        "print('We have added', num_added_toks, 'tokens')\n",
        "\n",
        "data_collator = DataCollatorWithPadding(tokenizer=tokenizer)"
      ],
      "metadata": {
        "colab": {
          "base_uri": "https://localhost:8080/"
        },
        "id": "D4VSZyNF_RBn",
        "outputId": "d7bafbd7-66fd-40bc-cb9d-c7eb27cb6bab"
      },
      "execution_count": 15,
      "outputs": [
        {
          "output_type": "stream",
          "name": "stdout",
          "text": [
            "We have added 5 tokens\n"
          ]
        }
      ]
    },
    {
      "cell_type": "code",
      "source": [
        "# Define a custom dataset class\n",
        "class CustomDataset(Dataset):\n",
        "    def __init__(self, input_data, labels, tokenizer, max_length):\n",
        "        self.input_data = input_data\n",
        "        self.labels = labels\n",
        "        self.tokenizer = tokenizer\n",
        "        self.max_length = max_length\n",
        "\n",
        "    def __len__(self):\n",
        "        return len(self.input_data)\n",
        "\n",
        "    def __getitem__(self, idx):\n",
        "        text = self.input_data[idx]\n",
        "        label = self.labels[idx]\n",
        "        encoding = self.tokenizer(\n",
        "            text,\n",
        "            truncation=True,\n",
        "            padding='max_length',\n",
        "            max_length=self.max_length,\n",
        "            return_tensors='pt'\n",
        "        )\n",
        "        return {\n",
        "            'input_ids': encoding['input_ids'].flatten(),\n",
        "            'attention_mask': encoding['attention_mask'].flatten(),\n",
        "            'labels': torch.tensor(label, dtype=torch.long)\n",
        "        }\n",
        "\n",
        "# Define hyperparameters\n",
        "max_seq_length = 128  # You can adjust this as needed\n",
        "batch_size = 2  # You can adjust this as needed\n",
        "\n",
        "# Create custom datasets\n",
        "train_dataset = CustomDataset(X_train, y_train, tokenizer, max_seq_length)\n",
        "val_dataset = CustomDataset(X_val, y_val, tokenizer, max_seq_length)\n",
        "test_dataset = CustomDataset(X_test, y_test, tokenizer, max_seq_length)\n"
      ],
      "metadata": {
        "id": "y_EgGbvx_2JF"
      },
      "execution_count": 16,
      "outputs": []
    },
    {
      "cell_type": "code",
      "source": [
        "# set evaluation metric\n",
        "\n",
        "accuracy = evaluate.load(\"accuracy\")\n",
        "\n",
        "def compute_metrics(eval_pred):\n",
        "    predictions, labels = eval_pred\n",
        "    predictions = np.argmax(predictions, axis=1)\n",
        "    return accuracy.compute(predictions=predictions, references=labels)"
      ],
      "metadata": {
        "id": "mS2Q4xo0G1Sg"
      },
      "execution_count": 17,
      "outputs": []
    },
    {
      "cell_type": "code",
      "source": [
        "# define custom model\n",
        "model = AutoModelForSequenceClassification.from_pretrained(\n",
        "    'distilbert-base-uncased', num_labels=7, id2label=id2label, label2id=label2id\n",
        ")\n",
        "\n",
        "model.resize_token_embeddings(len(tokenizer))"
      ],
      "metadata": {
        "colab": {
          "base_uri": "https://localhost:8080/",
          "height": 121,
          "referenced_widgets": [
            "b46380a041f74805937e736ed24e7afd",
            "7f847f96970f4734a5920ebf4fb80eea",
            "093a9533dad94ff2acf3ca77894088c4",
            "bc4567f61de84fe6a61f826abe0f6be6",
            "c4371f303a444bcd822051110bf6c112",
            "460560b231274caf83a429c616a78cbd",
            "5b3dfa48804b460191ecde0db3fd9e84",
            "845ce4fcdd804bbf8947be6d060de6c0",
            "5b7f43e5015f436a8c91c633b026bd34",
            "978bd7ffceaa4a4eace3e44f820a2f07",
            "5aed4e4bd9574e9a94738947300bc07a"
          ]
        },
        "id": "hM6kpsdJG69m",
        "outputId": "0f0a8579-0e1a-4ab1-aad3-955a320cf25c"
      },
      "execution_count": 18,
      "outputs": [
        {
          "output_type": "display_data",
          "data": {
            "text/plain": [
              "Downloading model.safetensors:   0%|          | 0.00/268M [00:00<?, ?B/s]"
            ],
            "application/vnd.jupyter.widget-view+json": {
              "version_major": 2,
              "version_minor": 0,
              "model_id": "b46380a041f74805937e736ed24e7afd"
            }
          },
          "metadata": {}
        },
        {
          "output_type": "stream",
          "name": "stderr",
          "text": [
            "Some weights of DistilBertForSequenceClassification were not initialized from the model checkpoint at distilbert-base-uncased and are newly initialized: ['classifier.weight', 'pre_classifier.weight', 'pre_classifier.bias', 'classifier.bias']\n",
            "You should probably TRAIN this model on a down-stream task to be able to use it for predictions and inference.\n"
          ]
        },
        {
          "output_type": "execute_result",
          "data": {
            "text/plain": [
              "Embedding(30527, 768)"
            ]
          },
          "metadata": {},
          "execution_count": 18
        }
      ]
    },
    {
      "cell_type": "markdown",
      "source": [
        "Train and save model"
      ],
      "metadata": {
        "id": "rHL-P94IrB4q"
      }
    },
    {
      "cell_type": "code",
      "source": [
        "# define trainer\n",
        "\n",
        "class CustomTrainer(Trainer):\n",
        "    def compute_loss(self, model, inputs, return_outputs=False):\n",
        "        labels = inputs.pop(\"labels\")\n",
        "        # forward pass\n",
        "        outputs = model(**inputs)\n",
        "        logits = outputs.get(\"logits\")\n",
        "        loss_fct = nn.CrossEntropyLoss(weight=torch.tensor([1.0,1.0,1.0,1.0,1.0,2.0,1.0], device=model.device))\n",
        "        loss = loss_fct(logits.view(-1, self.model.config.num_labels), labels.view(-1))\n",
        "        return (loss, outputs) if return_outputs else loss\n",
        "\n",
        "training_args = TrainingArguments(\n",
        "    output_dir=\"my_awesome_model\",\n",
        "    learning_rate=2e-5,\n",
        "    per_device_train_batch_size=16,\n",
        "    per_device_eval_batch_size=16,\n",
        "    num_train_epochs=20,\n",
        "    weight_decay=0.01,\n",
        "    evaluation_strategy=\"epoch\",\n",
        "    save_strategy=\"epoch\",\n",
        "    load_best_model_at_end=True,\n",
        "    push_to_hub=False,\n",
        ")\n",
        "\n",
        "trainer = CustomTrainer(\n",
        "    model=model,\n",
        "    args=training_args,\n",
        "    train_dataset=train_dataset,\n",
        "    eval_dataset=val_dataset,\n",
        "    tokenizer=tokenizer,\n",
        "    data_collator=data_collator,\n",
        "    compute_metrics=compute_metrics,\n",
        ")\n",
        "\n",
        "# train\n",
        "trainer.train()"
      ],
      "metadata": {
        "colab": {
          "base_uri": "https://localhost:8080/",
          "height": 774
        },
        "id": "5wmUsts5wgcU",
        "outputId": "b57a3884-7c6b-43f9-9694-36f383cd47e3"
      },
      "execution_count": 19,
      "outputs": [
        {
          "output_type": "stream",
          "name": "stderr",
          "text": [
            "You're using a DistilBertTokenizerFast tokenizer. Please note that with a fast tokenizer, using the `__call__` method is faster than using a method to encode the text followed by a call to the `pad` method to get a padded encoding.\n"
          ]
        },
        {
          "output_type": "display_data",
          "data": {
            "text/plain": [
              "<IPython.core.display.HTML object>"
            ],
            "text/html": [
              "\n",
              "    <div>\n",
              "      \n",
              "      <progress value='820' max='820' style='width:300px; height:20px; vertical-align: middle;'></progress>\n",
              "      [820/820 04:39, Epoch 20/20]\n",
              "    </div>\n",
              "    <table border=\"1\" class=\"dataframe\">\n",
              "  <thead>\n",
              " <tr style=\"text-align: left;\">\n",
              "      <th>Epoch</th>\n",
              "      <th>Training Loss</th>\n",
              "      <th>Validation Loss</th>\n",
              "      <th>Accuracy</th>\n",
              "    </tr>\n",
              "  </thead>\n",
              "  <tbody>\n",
              "    <tr>\n",
              "      <td>1</td>\n",
              "      <td>No log</td>\n",
              "      <td>1.527010</td>\n",
              "      <td>0.715655</td>\n",
              "    </tr>\n",
              "    <tr>\n",
              "      <td>2</td>\n",
              "      <td>No log</td>\n",
              "      <td>1.065649</td>\n",
              "      <td>0.664537</td>\n",
              "    </tr>\n",
              "    <tr>\n",
              "      <td>3</td>\n",
              "      <td>No log</td>\n",
              "      <td>0.838185</td>\n",
              "      <td>0.674121</td>\n",
              "    </tr>\n",
              "    <tr>\n",
              "      <td>4</td>\n",
              "      <td>No log</td>\n",
              "      <td>0.599749</td>\n",
              "      <td>0.798722</td>\n",
              "    </tr>\n",
              "    <tr>\n",
              "      <td>5</td>\n",
              "      <td>No log</td>\n",
              "      <td>0.835557</td>\n",
              "      <td>0.722045</td>\n",
              "    </tr>\n",
              "    <tr>\n",
              "      <td>6</td>\n",
              "      <td>No log</td>\n",
              "      <td>0.640126</td>\n",
              "      <td>0.789137</td>\n",
              "    </tr>\n",
              "    <tr>\n",
              "      <td>7</td>\n",
              "      <td>No log</td>\n",
              "      <td>0.788705</td>\n",
              "      <td>0.744409</td>\n",
              "    </tr>\n",
              "    <tr>\n",
              "      <td>8</td>\n",
              "      <td>No log</td>\n",
              "      <td>0.753069</td>\n",
              "      <td>0.773163</td>\n",
              "    </tr>\n",
              "    <tr>\n",
              "      <td>9</td>\n",
              "      <td>No log</td>\n",
              "      <td>0.706817</td>\n",
              "      <td>0.805112</td>\n",
              "    </tr>\n",
              "    <tr>\n",
              "      <td>10</td>\n",
              "      <td>No log</td>\n",
              "      <td>0.659758</td>\n",
              "      <td>0.808307</td>\n",
              "    </tr>\n",
              "    <tr>\n",
              "      <td>11</td>\n",
              "      <td>No log</td>\n",
              "      <td>0.660938</td>\n",
              "      <td>0.811502</td>\n",
              "    </tr>\n",
              "    <tr>\n",
              "      <td>12</td>\n",
              "      <td>No log</td>\n",
              "      <td>0.794304</td>\n",
              "      <td>0.805112</td>\n",
              "    </tr>\n",
              "    <tr>\n",
              "      <td>13</td>\n",
              "      <td>0.479800</td>\n",
              "      <td>0.804979</td>\n",
              "      <td>0.798722</td>\n",
              "    </tr>\n",
              "    <tr>\n",
              "      <td>14</td>\n",
              "      <td>0.479800</td>\n",
              "      <td>0.661523</td>\n",
              "      <td>0.827476</td>\n",
              "    </tr>\n",
              "    <tr>\n",
              "      <td>15</td>\n",
              "      <td>0.479800</td>\n",
              "      <td>0.757225</td>\n",
              "      <td>0.808307</td>\n",
              "    </tr>\n",
              "    <tr>\n",
              "      <td>16</td>\n",
              "      <td>0.479800</td>\n",
              "      <td>0.691602</td>\n",
              "      <td>0.833866</td>\n",
              "    </tr>\n",
              "    <tr>\n",
              "      <td>17</td>\n",
              "      <td>0.479800</td>\n",
              "      <td>0.705135</td>\n",
              "      <td>0.824281</td>\n",
              "    </tr>\n",
              "    <tr>\n",
              "      <td>18</td>\n",
              "      <td>0.479800</td>\n",
              "      <td>0.692734</td>\n",
              "      <td>0.833866</td>\n",
              "    </tr>\n",
              "    <tr>\n",
              "      <td>19</td>\n",
              "      <td>0.479800</td>\n",
              "      <td>0.704012</td>\n",
              "      <td>0.830671</td>\n",
              "    </tr>\n",
              "    <tr>\n",
              "      <td>20</td>\n",
              "      <td>0.479800</td>\n",
              "      <td>0.723190</td>\n",
              "      <td>0.827476</td>\n",
              "    </tr>\n",
              "  </tbody>\n",
              "</table><p>"
            ]
          },
          "metadata": {}
        },
        {
          "output_type": "execute_result",
          "data": {
            "text/plain": [
              "TrainOutput(global_step=820, training_loss=0.3106040233519019, metrics={'train_runtime': 283.6674, 'train_samples_per_second': 45.264, 'train_steps_per_second': 2.891, 'total_flos': 425258265692160.0, 'train_loss': 0.3106040233519019, 'epoch': 20.0})"
            ]
          },
          "metadata": {},
          "execution_count": 19
        }
      ]
    },
    {
      "cell_type": "code",
      "source": [
        "# save best model\n",
        "\n",
        "device = torch.device(\"cuda\" if torch.cuda.is_available() else \"cpu\")\n",
        "timestamp = datetime.datetime.now().strftime(\"%Y%m%d-%H%M%S\")\n",
        "\n",
        "# Define filepath to save best model\n",
        "if email == 'tamaraexterkate93@gmail.com':\n",
        "  filepath = f\"/content/drive/MyDrive/TUe/TM/saved_models/{timestamp}\"\n",
        "elif email == 'n.v.diermen@student.tue.nl':\n",
        "  filepath = f\"/content/drive/MyDrive/Text Mining/saved_models/{timestamp}\"\n",
        "\n",
        "best_model_path = trainer.state.best_model_checkpoint\n",
        "best_tokenizer = AutoTokenizer.from_pretrained(best_model_path)\n",
        "best_config = AutoConfig.from_pretrained(best_model_path)\n",
        "best_model = AutoModelForSequenceClassification.from_pretrained(best_model_path, config=best_config).to(device)\n",
        "best_model.save_pretrained(filepath)\n",
        "print(f'Best model saved at {filepath}')"
      ],
      "metadata": {
        "id": "doMX9pfVwTMt",
        "outputId": "3b976500-e55d-475a-bf5a-f02ee2fdeff2",
        "colab": {
          "base_uri": "https://localhost:8080/"
        }
      },
      "execution_count": 20,
      "outputs": [
        {
          "output_type": "stream",
          "name": "stderr",
          "text": [
            "Special tokens have been added in the vocabulary, make sure the associated word embeddings are fine-tuned or trained.\n"
          ]
        },
        {
          "output_type": "stream",
          "name": "stdout",
          "text": [
            "Best model saved at /content/drive/MyDrive/Text Mining/saved_models/20231109-085223\n"
          ]
        }
      ]
    },
    {
      "cell_type": "markdown",
      "source": [
        "Apply model on test data"
      ],
      "metadata": {
        "id": "yD4Y7o5yrIGd"
      }
    },
    {
      "cell_type": "code",
      "source": [
        "# get predictions and true relations\n",
        "\n",
        "test_output = trainer.predict(test_dataset)\n",
        "y_true = test_output[1]\n",
        "y_pred = np.argmax(test_output[0], axis=1)"
      ],
      "metadata": {
        "id": "fw-1tLMPzAXe",
        "colab": {
          "base_uri": "https://localhost:8080/",
          "height": 17
        },
        "outputId": "aba0a4c8-d91d-4444-ddbc-66b81a038350"
      },
      "execution_count": 21,
      "outputs": [
        {
          "output_type": "display_data",
          "data": {
            "text/plain": [
              "<IPython.core.display.HTML object>"
            ],
            "text/html": []
          },
          "metadata": {}
        }
      ]
    },
    {
      "cell_type": "code",
      "source": [
        "# plot confusion matrix in log scale\n",
        "\n",
        "cm = confusion_matrix(y_true,y_pred)\n",
        "cm_color = np.where(cm==0,0.5,cm)\n",
        "sns.heatmap(cm_color, annot=cm, xticklabels = id2label.values(), yticklabels = id2label.values(), norm=LogNorm(vmin=0.5))\n",
        "\n",
        "plt.show()"
      ],
      "metadata": {
        "colab": {
          "base_uri": "https://localhost:8080/",
          "height": 582
        },
        "id": "n67GH43s8wGp",
        "outputId": "fc743bff-c7e2-479a-bcb1-a1f2ddb7a632"
      },
      "execution_count": 22,
      "outputs": [
        {
          "output_type": "display_data",
          "data": {
            "text/plain": [
              "<Figure size 640x480 with 2 Axes>"
            ],
            "image/png": "[encoded data removed]"
          },
          "metadata": {}
        }
      ]
    }
  ]
}