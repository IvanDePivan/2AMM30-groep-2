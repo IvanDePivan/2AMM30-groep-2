{
  "nbformat": 4,
  "nbformat_minor": 0,
  "metadata": {
    "colab": {
      "provenance": [],
      "gpuType": "T4",
      "include_colab_link": true
    },
    "kernelspec": {
      "name": "python3",
      "display_name": "Python 3"
    },
    "language_info": {
      "name": "python"
    },
    "accelerator": "GPU"
  },
  "cells": [
    {
      "cell_type": "markdown",
      "metadata": {
        "id": "view-in-github",
        "colab_type": "text"
      },
      "source": [
        "<a href=\"https://colab.research.google.com/github/IvanDePivan/2AMM30-groep-2-component-1/blob/main/Undersample_C2.ipynb\" target=\"_parent\"><img src=\"https://colab.research.google.com/assets/colab-badge.svg\" alt=\"Open In Colab\"/></a>"
      ]
    },
    {
      "cell_type": "code",
      "execution_count": 1,
      "metadata": {
        "colab": {
          "base_uri": "https://localhost:8080/"
        },
        "id": "rygoJk-wuPRg",
        "outputId": "a56cc358-0a2c-4674-b3f9-208b978ba603"
      },
      "outputs": [
        {
          "output_type": "stream",
          "name": "stdout",
          "text": [
            "Collecting accelerate\n",
            "  Downloading accelerate-0.24.1-py3-none-any.whl (261 kB)\n",
            "\u001b[2K     \u001b[90m━━━━━━━━━━━━━━━━━━━━━━━━━━━━━━━━━━━━━━━━\u001b[0m \u001b[32m261.4/261.4 kB\u001b[0m \u001b[31m2.7 MB/s\u001b[0m eta \u001b[36m0:00:00\u001b[0m\n",
            "\u001b[?25hRequirement already satisfied: numpy>=1.17 in /usr/local/lib/python3.10/dist-packages (from accelerate) (1.23.5)\n",
            "Requirement already satisfied: packaging>=20.0 in /usr/local/lib/python3.10/dist-packages (from accelerate) (23.2)\n",
            "Requirement already satisfied: psutil in /usr/local/lib/python3.10/dist-packages (from accelerate) (5.9.5)\n",
            "Requirement already satisfied: pyyaml in /usr/local/lib/python3.10/dist-packages (from accelerate) (6.0.1)\n",
            "Requirement already satisfied: torch>=1.10.0 in /usr/local/lib/python3.10/dist-packages (from accelerate) (2.1.0+cu118)\n",
            "Collecting huggingface-hub (from accelerate)\n",
            "  Downloading huggingface_hub-0.19.0-py3-none-any.whl (311 kB)\n",
            "\u001b[2K     \u001b[90m━━━━━━━━━━━━━━━━━━━━━━━━━━━━━━━━━━━━━━━━\u001b[0m \u001b[32m311.2/311.2 kB\u001b[0m \u001b[31m10.7 MB/s\u001b[0m eta \u001b[36m0:00:00\u001b[0m\n",
            "\u001b[?25hRequirement already satisfied: filelock in /usr/local/lib/python3.10/dist-packages (from torch>=1.10.0->accelerate) (3.13.1)\n",
            "Requirement already satisfied: typing-extensions in /usr/local/lib/python3.10/dist-packages (from torch>=1.10.0->accelerate) (4.5.0)\n",
            "Requirement already satisfied: sympy in /usr/local/lib/python3.10/dist-packages (from torch>=1.10.0->accelerate) (1.12)\n",
            "Requirement already satisfied: networkx in /usr/local/lib/python3.10/dist-packages (from torch>=1.10.0->accelerate) (3.2.1)\n",
            "Requirement already satisfied: jinja2 in /usr/local/lib/python3.10/dist-packages (from torch>=1.10.0->accelerate) (3.1.2)\n",
            "Requirement already satisfied: fsspec in /usr/local/lib/python3.10/dist-packages (from torch>=1.10.0->accelerate) (2023.6.0)\n",
            "Requirement already satisfied: triton==2.1.0 in /usr/local/lib/python3.10/dist-packages (from torch>=1.10.0->accelerate) (2.1.0)\n",
            "Requirement already satisfied: requests in /usr/local/lib/python3.10/dist-packages (from huggingface-hub->accelerate) (2.31.0)\n",
            "Requirement already satisfied: tqdm>=4.42.1 in /usr/local/lib/python3.10/dist-packages (from huggingface-hub->accelerate) (4.66.1)\n",
            "Requirement already satisfied: MarkupSafe>=2.0 in /usr/local/lib/python3.10/dist-packages (from jinja2->torch>=1.10.0->accelerate) (2.1.3)\n",
            "Requirement already satisfied: charset-normalizer<4,>=2 in /usr/local/lib/python3.10/dist-packages (from requests->huggingface-hub->accelerate) (3.3.2)\n",
            "Requirement already satisfied: idna<4,>=2.5 in /usr/local/lib/python3.10/dist-packages (from requests->huggingface-hub->accelerate) (3.4)\n",
            "Requirement already satisfied: urllib3<3,>=1.21.1 in /usr/local/lib/python3.10/dist-packages (from requests->huggingface-hub->accelerate) (2.0.7)\n",
            "Requirement already satisfied: certifi>=2017.4.17 in /usr/local/lib/python3.10/dist-packages (from requests->huggingface-hub->accelerate) (2023.7.22)\n",
            "Requirement already satisfied: mpmath>=0.19 in /usr/local/lib/python3.10/dist-packages (from sympy->torch>=1.10.0->accelerate) (1.3.0)\n",
            "Installing collected packages: huggingface-hub, accelerate\n",
            "Successfully installed accelerate-0.24.1 huggingface-hub-0.19.0\n",
            "Collecting transformers\n",
            "  Downloading transformers-4.35.0-py3-none-any.whl (7.9 MB)\n",
            "\u001b[2K     \u001b[90m━━━━━━━━━━━━━━━━━━━━━━━━━━━━━━━━━━━━━━━━\u001b[0m \u001b[32m7.9/7.9 MB\u001b[0m \u001b[31m62.9 MB/s\u001b[0m eta \u001b[36m0:00:00\u001b[0m\n",
            "\u001b[?25hRequirement already satisfied: filelock in /usr/local/lib/python3.10/dist-packages (from transformers) (3.13.1)\n",
            "Requirement already satisfied: huggingface-hub<1.0,>=0.16.4 in /usr/local/lib/python3.10/dist-packages (from transformers) (0.19.0)\n",
            "Requirement already satisfied: numpy>=1.17 in /usr/local/lib/python3.10/dist-packages (from transformers) (1.23.5)\n",
            "Requirement already satisfied: packaging>=20.0 in /usr/local/lib/python3.10/dist-packages (from transformers) (23.2)\n",
            "Requirement already satisfied: pyyaml>=5.1 in /usr/local/lib/python3.10/dist-packages (from transformers) (6.0.1)\n",
            "Requirement already satisfied: regex!=2019.12.17 in /usr/local/lib/python3.10/dist-packages (from transformers) (2023.6.3)\n",
            "Requirement already satisfied: requests in /usr/local/lib/python3.10/dist-packages (from transformers) (2.31.0)\n",
            "Collecting tokenizers<0.15,>=0.14 (from transformers)\n",
            "  Downloading tokenizers-0.14.1-cp310-cp310-manylinux_2_17_x86_64.manylinux2014_x86_64.whl (3.8 MB)\n",
            "\u001b[2K     \u001b[90m━━━━━━━━━━━━━━━━━━━━━━━━━━━━━━━━━━━━━━━━\u001b[0m \u001b[32m3.8/3.8 MB\u001b[0m \u001b[31m92.6 MB/s\u001b[0m eta \u001b[36m0:00:00\u001b[0m\n",
            "\u001b[?25hCollecting safetensors>=0.3.1 (from transformers)\n",
            "  Downloading safetensors-0.4.0-cp310-cp310-manylinux_2_17_x86_64.manylinux2014_x86_64.whl (1.3 MB)\n",
            "\u001b[2K     \u001b[90m━━━━━━━━━━━━━━━━━━━━━━━━━━━━━━━━━━━━━━━━\u001b[0m \u001b[32m1.3/1.3 MB\u001b[0m \u001b[31m84.7 MB/s\u001b[0m eta \u001b[36m0:00:00\u001b[0m\n",
            "\u001b[?25hRequirement already satisfied: tqdm>=4.27 in /usr/local/lib/python3.10/dist-packages (from transformers) (4.66.1)\n",
            "Requirement already satisfied: fsspec>=2023.5.0 in /usr/local/lib/python3.10/dist-packages (from huggingface-hub<1.0,>=0.16.4->transformers) (2023.6.0)\n",
            "Requirement already satisfied: typing-extensions>=3.7.4.3 in /usr/local/lib/python3.10/dist-packages (from huggingface-hub<1.0,>=0.16.4->transformers) (4.5.0)\n",
            "Collecting huggingface-hub<1.0,>=0.16.4 (from transformers)\n",
            "  Downloading huggingface_hub-0.17.3-py3-none-any.whl (295 kB)\n",
            "\u001b[2K     \u001b[90m━━━━━━━━━━━━━━━━━━━━━━━━━━━━━━━━━━━━━━━━\u001b[0m \u001b[32m295.0/295.0 kB\u001b[0m \u001b[31m31.1 MB/s\u001b[0m eta \u001b[36m0:00:00\u001b[0m\n",
            "\u001b[?25hRequirement already satisfied: charset-normalizer<4,>=2 in /usr/local/lib/python3.10/dist-packages (from requests->transformers) (3.3.2)\n",
            "Requirement already satisfied: idna<4,>=2.5 in /usr/local/lib/python3.10/dist-packages (from requests->transformers) (3.4)\n",
            "Requirement already satisfied: urllib3<3,>=1.21.1 in /usr/local/lib/python3.10/dist-packages (from requests->transformers) (2.0.7)\n",
            "Requirement already satisfied: certifi>=2017.4.17 in /usr/local/lib/python3.10/dist-packages (from requests->transformers) (2023.7.22)\n",
            "Installing collected packages: safetensors, huggingface-hub, tokenizers, transformers\n",
            "  Attempting uninstall: huggingface-hub\n",
            "    Found existing installation: huggingface-hub 0.19.0\n",
            "    Uninstalling huggingface-hub-0.19.0:\n",
            "      Successfully uninstalled huggingface-hub-0.19.0\n",
            "Successfully installed huggingface-hub-0.17.3 safetensors-0.4.0 tokenizers-0.14.1 transformers-4.35.0\n",
            "Collecting evaluate\n",
            "  Downloading evaluate-0.4.1-py3-none-any.whl (84 kB)\n",
            "\u001b[2K     \u001b[90m━━━━━━━━━━━━━━━━━━━━━━━━━━━━━━━━━━━━━━━━\u001b[0m \u001b[32m84.1/84.1 kB\u001b[0m \u001b[31m2.6 MB/s\u001b[0m eta \u001b[36m0:00:00\u001b[0m\n",
            "\u001b[?25hCollecting datasets>=2.0.0 (from evaluate)\n",
            "  Downloading datasets-2.14.6-py3-none-any.whl (493 kB)\n",
            "\u001b[2K     \u001b[90m━━━━━━━━━━━━━━━━━━━━━━━━━━━━━━━━━━━━━━━━\u001b[0m \u001b[32m493.7/493.7 kB\u001b[0m \u001b[31m15.9 MB/s\u001b[0m eta \u001b[36m0:00:00\u001b[0m\n",
            "\u001b[?25hRequirement already satisfied: numpy>=1.17 in /usr/local/lib/python3.10/dist-packages (from evaluate) (1.23.5)\n",
            "Collecting dill (from evaluate)\n",
            "  Downloading dill-0.3.7-py3-none-any.whl (115 kB)\n",
            "\u001b[2K     \u001b[90m━━━━━━━━━━━━━━━━━━━━━━━━━━━━━━━━━━━━━━━━\u001b[0m \u001b[32m115.3/115.3 kB\u001b[0m \u001b[31m15.4 MB/s\u001b[0m eta \u001b[36m0:00:00\u001b[0m\n",
            "\u001b[?25hRequirement already satisfied: pandas in /usr/local/lib/python3.10/dist-packages (from evaluate) (1.5.3)\n",
            "Requirement already satisfied: requests>=2.19.0 in /usr/local/lib/python3.10/dist-packages (from evaluate) (2.31.0)\n",
            "Requirement already satisfied: tqdm>=4.62.1 in /usr/local/lib/python3.10/dist-packages (from evaluate) (4.66.1)\n",
            "Requirement already satisfied: xxhash in /usr/local/lib/python3.10/dist-packages (from evaluate) (3.4.1)\n",
            "Collecting multiprocess (from evaluate)\n",
            "  Downloading multiprocess-0.70.15-py310-none-any.whl (134 kB)\n",
            "\u001b[2K     \u001b[90m━━━━━━━━━━━━━━━━━━━━━━━━━━━━━━━━━━━━━━━━\u001b[0m \u001b[32m134.8/134.8 kB\u001b[0m \u001b[31m17.5 MB/s\u001b[0m eta \u001b[36m0:00:00\u001b[0m\n",
            "\u001b[?25hRequirement already satisfied: fsspec[http]>=2021.05.0 in /usr/local/lib/python3.10/dist-packages (from evaluate) (2023.6.0)\n",
            "Requirement already satisfied: huggingface-hub>=0.7.0 in /usr/local/lib/python3.10/dist-packages (from evaluate) (0.17.3)\n",
            "Requirement already satisfied: packaging in /usr/local/lib/python3.10/dist-packages (from evaluate) (23.2)\n",
            "Collecting responses<0.19 (from evaluate)\n",
            "  Downloading responses-0.18.0-py3-none-any.whl (38 kB)\n",
            "Requirement already satisfied: pyarrow>=8.0.0 in /usr/local/lib/python3.10/dist-packages (from datasets>=2.0.0->evaluate) (9.0.0)\n",
            "Requirement already satisfied: aiohttp in /usr/local/lib/python3.10/dist-packages (from datasets>=2.0.0->evaluate) (3.8.6)\n",
            "Requirement already satisfied: pyyaml>=5.1 in /usr/local/lib/python3.10/dist-packages (from datasets>=2.0.0->evaluate) (6.0.1)\n",
            "Requirement already satisfied: filelock in /usr/local/lib/python3.10/dist-packages (from huggingface-hub>=0.7.0->evaluate) (3.13.1)\n",
            "Requirement already satisfied: typing-extensions>=3.7.4.3 in /usr/local/lib/python3.10/dist-packages (from huggingface-hub>=0.7.0->evaluate) (4.5.0)\n",
            "Requirement already satisfied: charset-normalizer<4,>=2 in /usr/local/lib/python3.10/dist-packages (from requests>=2.19.0->evaluate) (3.3.2)\n",
            "Requirement already satisfied: idna<4,>=2.5 in /usr/local/lib/python3.10/dist-packages (from requests>=2.19.0->evaluate) (3.4)\n",
            "Requirement already satisfied: urllib3<3,>=1.21.1 in /usr/local/lib/python3.10/dist-packages (from requests>=2.19.0->evaluate) (2.0.7)\n",
            "Requirement already satisfied: certifi>=2017.4.17 in /usr/local/lib/python3.10/dist-packages (from requests>=2.19.0->evaluate) (2023.7.22)\n",
            "Requirement already satisfied: python-dateutil>=2.8.1 in /usr/local/lib/python3.10/dist-packages (from pandas->evaluate) (2.8.2)\n",
            "Requirement already satisfied: pytz>=2020.1 in /usr/local/lib/python3.10/dist-packages (from pandas->evaluate) (2023.3.post1)\n",
            "Requirement already satisfied: attrs>=17.3.0 in /usr/local/lib/python3.10/dist-packages (from aiohttp->datasets>=2.0.0->evaluate) (23.1.0)\n",
            "Requirement already satisfied: multidict<7.0,>=4.5 in /usr/local/lib/python3.10/dist-packages (from aiohttp->datasets>=2.0.0->evaluate) (6.0.4)\n",
            "Requirement already satisfied: async-timeout<5.0,>=4.0.0a3 in /usr/local/lib/python3.10/dist-packages (from aiohttp->datasets>=2.0.0->evaluate) (4.0.3)\n",
            "Requirement already satisfied: yarl<2.0,>=1.0 in /usr/local/lib/python3.10/dist-packages (from aiohttp->datasets>=2.0.0->evaluate) (1.9.2)\n",
            "Requirement already satisfied: frozenlist>=1.1.1 in /usr/local/lib/python3.10/dist-packages (from aiohttp->datasets>=2.0.0->evaluate) (1.4.0)\n",
            "Requirement already satisfied: aiosignal>=1.1.2 in /usr/local/lib/python3.10/dist-packages (from aiohttp->datasets>=2.0.0->evaluate) (1.3.1)\n",
            "Requirement already satisfied: six>=1.5 in /usr/local/lib/python3.10/dist-packages (from python-dateutil>=2.8.1->pandas->evaluate) (1.16.0)\n",
            "Installing collected packages: dill, responses, multiprocess, datasets, evaluate\n",
            "Successfully installed datasets-2.14.6 dill-0.3.7 evaluate-0.4.1 multiprocess-0.70.15 responses-0.18.0\n"
          ]
        }
      ],
      "source": [
        "import pandas as pd\n",
        "import json\n",
        "import numpy as np\n",
        "import spacy\n",
        "from spacy.training.example import Example #holds information for one training instance\n",
        "import random\n",
        "from tqdm import tqdm\n",
        "from spacy.scorer import Scorer\n",
        "import warnings\n",
        "warnings.filterwarnings('ignore')\n",
        "import os\n",
        "import glob\n",
        "import re\n",
        "import matplotlib.pyplot as plt\n",
        "import seaborn as sns\n",
        "from collections import Counter\n",
        "from sklearn.metrics import confusion_matrix\n",
        "! pip install -U accelerate\n",
        "! pip install -U transformers\n",
        "! pip install evaluate"
      ]
    },
    {
      "cell_type": "code",
      "source": [
        "# Authenticate\n",
        "from google.colab import drive\n",
        "drive.mount('/content/drive')\n",
        "from google.colab import auth\n",
        "auth.authenticate_user()\n",
        "\n",
        "# Get email of current Colab user\n",
        "import requests\n",
        "gcloud_token = !gcloud auth print-access-token\n",
        "gcloud_tokeninfo = requests.get('https://www.googleapis.com/oauth2/v3/tokeninfo?access_token=' + gcloud_token[0]).json()\n",
        "email = gcloud_tokeninfo['email']"
      ],
      "metadata": {
        "colab": {
          "base_uri": "https://localhost:8080/"
        },
        "id": "8Az_nCdduQht",
        "outputId": "6379549f-b6c5-4082-d1dd-99ddaf1a0093"
      },
      "execution_count": 2,
      "outputs": [
        {
          "output_type": "stream",
          "name": "stdout",
          "text": [
            "Mounted at /content/drive\n"
          ]
        }
      ]
    },
    {
      "cell_type": "code",
      "source": [
        "# Define filepath\n",
        "if email == 'tamaraexterkate93@gmail.com':\n",
        "  filename = \"/content/drive/MyDrive/TUe/TM/Exports/export_component_1.json\"\n",
        "elif email == 'n.v.diermen@student.tue.nl':\n",
        "  filename = \"/content/drive/MyDrive/Text Mining/train_data.json\""
      ],
      "metadata": {
        "id": "bXBQjYyfuUii"
      },
      "execution_count": 3,
      "outputs": []
    },
    {
      "cell_type": "code",
      "source": [
        "DATA = []\n",
        "\n",
        "# read json file\n",
        "with open(filename, 'rb') as fp:\n",
        "  training_data = json.load(fp)\n",
        "\n",
        "  # get text, labels, relations, benchmark for each article\n",
        "  for article in training_data:\n",
        "    entities = []\n",
        "    id_entities = []\n",
        "    relations = []\n",
        "    original_text = article.get('data').get('text')\n",
        "    if len(article.get('annotations')) == 5: # N=5\n",
        "      benchmark = True\n",
        "    else:\n",
        "      benchmark = False\n",
        "    for annotation in article.get('annotations'):\n",
        "      if annotation.get('ground_truth') == True: # only include ground truth\n",
        "        for ind, label in enumerate(annotation.get('result')):\n",
        "          if label.get('type') == 'labels':\n",
        "            start = label.get('value').get('start')\n",
        "            end = label.get('value').get('end')\n",
        "            id = label.get('id')\n",
        "            text = label.get('value').get('text')\n",
        "            label = label.get('value').get('labels')[0] # note: cannot deal with multiple labels\n",
        "            id_entities.append((start, end, label, id, text)) # WHY ORDER WEIRD FOR TRAIN[0]?\n",
        "            entities.append((start, end, label))\n",
        "          elif label.get('type') == 'relation':\n",
        "            from_id = label.get('from_id')\n",
        "            to_id = label.get('to_id')\n",
        "            relation = label.get('labels')[0] # note: cannot deal with multiple relations\n",
        "            if relation != \"same_as\":\n",
        "              relations.append((from_id, to_id, relation))\n",
        "          else:\n",
        "            print(\"found unknown label type (no label or relation)\")\n",
        "\n",
        "    # append article to training data as dictionary\n",
        "    DATA.append({\n",
        "    'text': original_text,\n",
        "    'entities': entities,\n",
        "    'id_entities': id_entities,\n",
        "    'relations': relations,\n",
        "    'benchmark': benchmark\n",
        "    })"
      ],
      "metadata": {
        "id": "8OkS1eAouWnq"
      },
      "execution_count": 4,
      "outputs": []
    },
    {
      "cell_type": "code",
      "source": [
        "# Remove entities with smallest span in case of overlapping entities\n",
        "def remove_overlap(entities):\n",
        "  # Initialize a list to store the final non-overlapping entities\n",
        "  final_entities = []\n",
        "\n",
        "  # Sort the entities by their start position in ascending order\n",
        "  entities.sort(key=lambda entity: entity[0])\n",
        "\n",
        "  # Iterate through the sorted entities\n",
        "  for entity in entities:\n",
        "      overlaps = False\n",
        "      for existing_entity in final_entities:\n",
        "          # Check for overlapping entities\n",
        "          if (entity[0] >= existing_entity[0] and entity[0] < existing_entity[1]) or \\\n",
        "            (entity[1] > existing_entity[0] and entity[1] <= existing_entity[1]):\n",
        "              overlaps = True\n",
        "              break\n",
        "      if not overlaps:\n",
        "          final_entities.append(entity)\n",
        "\n",
        "  return final_entities\n",
        "\n",
        "for article in DATA:\n",
        "  article['entities'] = remove_overlap(article['entities'])"
      ],
      "metadata": {
        "id": "2hoEFIJsubDd"
      },
      "execution_count": 5,
      "outputs": []
    },
    {
      "cell_type": "code",
      "source": [
        "def get_distances(DATA):\n",
        "  # get maximum distances between entities per relation type\n",
        "  all_distances = {}\n",
        "  for data in DATA:\n",
        "    for relation in data['relations']:\n",
        "      rel_from_begin = [entity[0] for entity in data['id_entities'] if entity[3] == relation[0]]\n",
        "      rel_to_begin = [entity[0] for entity in data['id_entities'] if entity[3] == relation[1]]\n",
        "      distance = abs(rel_from_begin[0] - rel_to_begin[0])\n",
        "\n",
        "      if all_distances.get(relation[2]) == None:\n",
        "        all_distances[relation[2]] = distance\n",
        "      else:\n",
        "        all_distances[relation[2]] = max(all_distances[relation[2]], distance)\n",
        "\n",
        "  return all_distances"
      ],
      "metadata": {
        "id": "uvL7l6dMACE9"
      },
      "execution_count": 6,
      "outputs": []
    },
    {
      "cell_type": "code",
      "source": [
        "def train_test_split(data, val_size):\n",
        "\n",
        "  print(f'Total articles: {len(data)}')\n",
        "  train_end = int(len(data)*(1-val_size))\n",
        "  train = data[0:train_end]\n",
        "  val = data[train_end:len(data)]\n",
        "\n",
        "  print(f'Size train: {len(train)}')\n",
        "  print(f'Size val: {len(val)}')\n",
        "\n",
        "  return train, val"
      ],
      "metadata": {
        "id": "Ocg9uLglud6O"
      },
      "execution_count": 8,
      "outputs": []
    },
    {
      "cell_type": "code",
      "source": [
        " train, val =  train_test_split(DATA, val_size=0.25)\n"
      ],
      "metadata": {
        "id": "M8v7Rne9ueyV",
        "colab": {
          "base_uri": "https://localhost:8080/"
        },
        "outputId": "d29047fd-20bf-4ec2-d08d-8760f3de722b"
      },
      "execution_count": 9,
      "outputs": [
        {
          "output_type": "stream",
          "name": "stdout",
          "text": [
            "Total articles: 102\n",
            "Size train: 76\n",
            "Size val: 26\n"
          ]
        }
      ]
    },
    {
      "cell_type": "code",
      "source": [
        "def insert_markers(text, pair):\n",
        "\n",
        "  label_to_marker = {\n",
        "      'Winner': '[WINR]',\n",
        "      'Date': '[DATE]',\n",
        "      'Prizetype': '[PRZT]',\n",
        "      'Reason': '[REAS]',\n",
        "      'Nationality': '[NTLY]'\n",
        "  }\n",
        "\n",
        "  start_to_add = 0\n",
        "  end_to_add = 7\n",
        "  for ent in pair:\n",
        "    start = ent[0]\n",
        "    end = ent[1]\n",
        "    label = ent[2]\n",
        "    start += start_to_add\n",
        "    end += end_to_add\n",
        "    text = text[:start] + label_to_marker[label] + ' ' + text[start:]\n",
        "    text = text[:end] +' '+ label_to_marker[label] + text[end:]\n",
        "    start_to_add += 7*2\n",
        "    end_to_add += 7*2\n",
        "\n",
        "  return text"
      ],
      "metadata": {
        "id": "bE2fvOP2unV-"
      },
      "execution_count": null,
      "outputs": []
    },
    {
      "cell_type": "code",
      "source": [
        "def get_relation(pair, relations):\n",
        "  if pair[0][3] and pair[1][3]: # check if entities of pair exist in annotations\n",
        "    # see if and what relation there is between the entities of the pair\n",
        "    for relation in relations:\n",
        "      if (relation[0] == pair[0][3] and relation[1] == pair[1][3]) or (relation[1] == pair[0][3] and relation[0] == pair[1][3]):\n",
        "          return relation[2]\n",
        "  return 'no_relation'"
      ],
      "metadata": {
        "id": "-_oqeHMMuqGN"
      },
      "execution_count": 10,
      "outputs": []
    },
    {
      "cell_type": "code",
      "source": [
        "def mark_data(data, NER_output=False, prune = None):\n",
        "\n",
        "  # init data output and relations list\n",
        "  data_output = []\n",
        "  relations_output = []\n",
        "\n",
        "  # Iterate over each article in data\n",
        "  for article in data:\n",
        "\n",
        "    # get original text and convert to doc\n",
        "    text = article['text']\n",
        "\n",
        "    # get seperate list of winner entities and other entities in fixed format (start,end,label,id)\n",
        "    if NER_output:\n",
        "      # create doc\n",
        "      doc = best_nlp(text)\n",
        "\n",
        "      pers_comp = []\n",
        "      time_date = []\n",
        "      for ent in doc.ents:\n",
        "        # check to what entity in the annotations the NER entity refers to\n",
        "        for original_ent in article['id_entities']:\n",
        "          ent_id = None # refer to None if entity is not in annotations\n",
        "          # otherwise overwrite with id of entity in annotations\n",
        "          if ent.start_char == original_ent[0] and ent.end_char == original_ent[1]:\n",
        "            ent_id = original_ent[3]\n",
        "            break\n",
        "        if ent.label_=='Person intervention/event' or ent.label_=='Component event/state':\n",
        "          pers_comp.append((ent.start_char, ent.end_char, ent.label_, ent_id))\n",
        "        else:\n",
        "          time_date.append((ent.start_char, ent.end_char, ent.label_, ent_id))\n",
        "\n",
        "    else:\n",
        "      ents = article['id_entities']\n",
        "      pers_comp = [ent for ent in ents if ent[2]=='Person intervention/event' or ent[2]=='Component event/state']\n",
        "      time_date = [ent for ent in ents if ent[2] =='Time' or ent[2] =='Date']\n",
        "\n",
        "    # make pairs for possible relations (pers_com + pers_com/other)\n",
        "    pairs = []\n",
        "\n",
        "    for ent1 in pers_comp:\n",
        "      for ent2 in pers_comp:\n",
        "        if ent1[3] != ent2[3]:\n",
        "          pairs.append((ent1,ent2))\n",
        "          pairs.append((ent2,ent1))\n",
        "      for ent2 in time_date:\n",
        "        pairs.append((ent1,ent2))\n",
        "\n",
        "    # create new text with markers for each possible relation with winner\n",
        "    relations_output.extend([get_relation(pair, article['relations']) for pair in pairs])\n",
        "\n",
        "  return np.array(relations_output)"
      ],
      "metadata": {
        "id": "e1vLFzUiusSo"
      },
      "execution_count": 13,
      "outputs": []
    },
    {
      "cell_type": "code",
      "source": [
        "def check_contains_relation(tokens, marker_tokens):\n",
        "  \"\"\"Return True if piece of text (tokens) contains a possible relation (= 4 marker tokens).\"\"\"\n",
        "\n",
        "  marker_token_counts = {marker_token: tokens.count(marker_token) for marker_token in marker_tokens}\n",
        "  nr_marker_tokens = sum(marker_token_counts.values())\n",
        "  return nr_marker_tokens == 4\n",
        "\n",
        "def split_paragraphs(X_data, y_data):\n",
        "\n",
        "  # init\n",
        "  X_result = []\n",
        "  y_result = []\n",
        "\n",
        "  for x, y in zip(X_data, y_data):\n",
        "    for paragraph in x.split('\\n'):\n",
        "      contains_markers = check_contains_relation(paragraph, special_tokens)\n",
        "      if contains_markers:\n",
        "        X_result.append(paragraph)\n",
        "        y_result.append(y)\n",
        "\n",
        "  return np.array(X_result), np.array(y_result)"
      ],
      "metadata": {
        "id": "-lKyhN7MoYRu"
      },
      "execution_count": null,
      "outputs": []
    },
    {
      "cell_type": "code",
      "source": [
        "y_train = mark_data(train, NER_output=False)\n",
        "y_val = mark_data(val, NER_output=False)\n",
        "\n",
        "# X_train, y_train = split_paragraphs(X_train, y_train)\n",
        "# X_val, y_val = split_paragraphs(X_val, y_val)\n",
        "# X_test, y_test = split_paragraphs(X_test, y_test)\n",
        "\n",
        "\n",
        "sns.histplot(y_train)\n",
        "plt.xticks(rotation=90)\n",
        "plt.show()\n",
        "\n",
        "def desample(y,sample_factor = 1.8):\n",
        "  # get second highest category\n",
        "  label_counts = Counter(y)\n",
        "  relation_counts = label_counts.copy()\n",
        "  relation_counts.pop('no_relation')\n",
        "  n_samples = round(sample_factor * max(relation_counts.values())) # allow slight class imbalance for no_relation\n",
        "\n",
        "  # if no_relation imbalanced, randomly downsample these relations\n",
        "  if label_counts['no_relation'] - n_samples > 0:\n",
        "    desample_mask = y != 'no_relation'\n",
        "    ind_no_relation = np.where(y == 'no_relation')[0]\n",
        "    include_no_relations = (np.random.choice(ind_no_relation,n_samples, replace = False))\n",
        "    desample_mask[include_no_relations] = 1\n",
        "  y = y[desample_mask]\n",
        "\n",
        "  return y\n",
        "\n",
        "# randomly undersample no_relation in train\n",
        "y_train = desample(y_train, sample_factor =1.2)\n",
        "\n",
        "sns.histplot(y_train)\n",
        "plt.xticks(rotation=90)\n",
        "plt.show()"
      ],
      "metadata": {
        "colab": {
          "base_uri": "https://localhost:8080/",
          "height": 1000
        },
        "id": "VvtUjCB2u0r2",
        "outputId": "83be9f09-1c48-4b63-c30e-302dd4555420"
      },
      "execution_count": 18,
      "outputs": [
        {
          "output_type": "display_data",
          "data": {
            "text/plain": [
              "<Figure size 640x480 with 1 Axes>"
            ],
            "image/png": "[encoded data removed]"
          },
          "metadata": {}
        },
        {
          "output_type": "display_data",
          "data": {
            "text/plain": [
              "<Figure size 640x480 with 1 Axes>"
            ],
            "image/png": "[encoded data removed]"
          },
          "metadata": {}
        }
      ]
    }
  ]
}