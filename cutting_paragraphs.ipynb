{
 "cells": [
  {
   "cell_type": "code",
   "execution_count": 18,
   "metadata": {},
   "outputs": [],
   "source": [
    "import pandas as pd\n",
    "from pathlib import Path\n",
    "import spacy\n",
    "import re\n",
    "import srsly\n",
    "import os "
   ]
  },
  {
   "cell_type": "code",
   "execution_count": 19,
   "metadata": {},
   "outputs": [],
   "source": [
    "#path voor iris\n",
    "notebook_dir = r\"C:\\Users\\20182826\\Documents\\Data Science\\23-24 Jaar 2\\Text mining\\enwiki20230820-stripped-json\""
   ]
  },
  {
   "cell_type": "code",
   "execution_count": 20,
   "metadata": {},
   "outputs": [],
   "source": [
    "articles = srsly.read_json(os.path.join(notebook_dir, 'nobel_data/nobel_articles_cleaned.json'))"
   ]
  },
  {
   "cell_type": "code",
   "execution_count": 21,
   "metadata": {},
   "outputs": [],
   "source": [
    "def keep_first_alineas(n, string, extra_pars = False):\n",
    "    paragraphs = string.split('\\n')\n",
    "    paragraph_number = 0\n",
    "    if extra_pars: # in case we want to add a new paragraph if a paragraph turns out to be a title\n",
    "        while (paragraph_number <= n) and (n < len(paragraphs)):\n",
    "            if len(paragraphs[paragraph_number]) <30:\n",
    "                n+=1\n",
    "            paragraph_number+=1\n",
    "    keep_par = [*range(0,min(n, len(paragraphs)),1)]\n",
    "    filtered_paragraphs = [paragraphs[i] for i in keep_par]\n",
    "    result_str = '\\n'.join(filtered_paragraphs)\n",
    "    result_str = result_str.replace('\\n', '\\n')\n",
    "    return result_str"
   ]
  },
  {
   "cell_type": "code",
   "execution_count": 22,
   "metadata": {},
   "outputs": [],
   "source": [
    "import json\n",
    "with open(\"laureates.json\", 'r') as f:\n",
    "    winners_json = json.load(f)"
   ]
  },
  {
   "cell_type": "code",
   "execution_count": 23,
   "metadata": {},
   "outputs": [
    {
     "name": "stdout",
     "output_type": "stream",
     "text": [
      "When using the original nobel_articles_cleaned, we miss 270 winners out of 988.\n"
     ]
    }
   ],
   "source": [
    "#original:\n",
    "articles_prev = srsly.read_json(os.path.join(notebook_dir, 'nobel_data/nobel_articles_cleaned.json'))\n",
    "i = 0\n",
    "for winner in winners_json:\n",
    "    winner_found=False\n",
    "    for article in articles:\n",
    "        if article['title'] == winner:\n",
    "            winner_found=True\n",
    "            break\n",
    "    if winner_found==False:\n",
    "        i+=1\n",
    "print(f'When using the original nobel_articles_cleaned, we miss {i} winners out of {len(winners_json)}.')"
   ]
  },
  {
   "cell_type": "code",
   "execution_count": 24,
   "metadata": {},
   "outputs": [
    {
     "name": "stdout",
     "output_type": "stream",
     "text": [
      "first 1 paragraphs: Length before filtering 1845, length after filtering 834, amount of winners missing 366 out of 988\n",
      "first 2 paragraphs: Length before filtering 1845, length after filtering 983, amount of winners missing 306 out of 988\n",
      "first 3 paragraphs: Length before filtering 1845, length after filtering 1109, amount of winners missing 290 out of 988\n",
      "first 4 paragraphs: Length before filtering 1845, length after filtering 1182, amount of winners missing 274 out of 988\n"
     ]
    }
   ],
   "source": [
    "for n in [1,2,3,4]:\n",
    "    articles_prev = srsly.read_json(os.path.join(notebook_dir, 'nobel_data/nobel_articles_cleaned.json'))\n",
    "    articles = [{key: (keep_first_alineas(n, value, False) if key == \"text\" else value) for key, value in article.items()} for article in articles_prev]\n",
    "    articles = [article for article in articles if re.search('nobel', article[\"text\"], re.IGNORECASE) is not None]\n",
    "    i = 0\n",
    "    for winner in winners_json:\n",
    "        winner_found=False\n",
    "        for article in articles:\n",
    "            if article['title'] == winner:\n",
    "                winner_found=True\n",
    "                break\n",
    "        if winner_found==False:\n",
    "            i+=1\n",
    "    print(f'first {n} paragraphs: Length before filtering {len(articles_prev)}, length after filtering {len(articles)}, amount of winners missing {i} out of {len(winners_json)}')"
   ]
  },
  {
   "cell_type": "code",
   "execution_count": 25,
   "metadata": {},
   "outputs": [
    {
     "name": "stdout",
     "output_type": "stream",
     "text": [
      "when we add paragraphs if a paragraph is a title\n",
      "first 1 paragraphs: Length before filtering 1845, length after filtering 839, amount of winners missing 363 out of 988\n",
      "first 2 paragraphs: Length before filtering 1845, length after filtering 1033, amount of winners missing 306 out of 988\n",
      "first 3 paragraphs: Length before filtering 1845, length after filtering 1154, amount of winners missing 290 out of 988\n",
      "first 4 paragraphs: Length before filtering 1845, length after filtering 1248, amount of winners missing 274 out of 988\n"
     ]
    }
   ],
   "source": [
    "print('when we add paragraphs if a paragraph is a title')\n",
    "for n in [1,2,3,4]:\n",
    "    articles_prev = srsly.read_json(os.path.join(notebook_dir, 'nobel_data/nobel_articles_cleaned.json'))\n",
    "    articles = [{key: (keep_first_alineas(n, value, True) if key == \"text\" else value) for key, value in article.items()} for article in articles_prev]\n",
    "    articles = [article for article in articles if re.search('nobel', article[\"text\"], re.IGNORECASE) is not None]\n",
    "    i = 0\n",
    "    for winner in winners_json:\n",
    "        winner_found=False\n",
    "        for article in articles:\n",
    "            if article['title'] == winner:\n",
    "                winner_found=True\n",
    "                break\n",
    "        if winner_found==False:\n",
    "            i+=1\n",
    "    print(f'first {n} paragraphs: Length before filtering {len(articles_prev)}, length after filtering {len(articles)}, amount of winners missing {i} out of {len(winners_json)}')"
   ]
  }
 ],
 "metadata": {
  "kernelspec": {
   "display_name": "tm",
   "language": "python",
   "name": "python3"
  },
  "language_info": {
   "codemirror_mode": {
    "name": "ipython",
    "version": 3
   },
   "file_extension": ".py",
   "mimetype": "text/x-python",
   "name": "python",
   "nbconvert_exporter": "python",
   "pygments_lexer": "ipython3",
   "version": "3.11.4"
  },
  "orig_nbformat": 4
 },
 "nbformat": 4,
 "nbformat_minor": 2
}
