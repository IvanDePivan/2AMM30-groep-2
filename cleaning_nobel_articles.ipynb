{
  "nbformat": 4,
  "nbformat_minor": 0,
  "metadata": {
    "colab": {
      "provenance": [],
      "mount_file_id": "1bn13c9AbMWI-BGYvaK1MlWGvKU63IjcL",
      "authorship_tag": "ABX9TyOtCk3vorqj+CTibpYa0PYI",
      "include_colab_link": true
    },
    "kernelspec": {
      "name": "python3",
      "display_name": "Python 3"
    },
    "language_info": {
      "name": "python"
    }
  },
  "cells": [
    {
      "cell_type": "markdown",
      "metadata": {
        "id": "view-in-github",
        "colab_type": "text"
      },
      "source": [
        "<a href=\"https://colab.research.google.com/github/IvanDePivan/2AMM30-groep-2-component-1/blob/main/cleaning_nobel_articles.ipynb\" target=\"_parent\"><img src=\"https://colab.research.google.com/assets/colab-badge.svg\" alt=\"Open In Colab\"/></a>"
      ]
    },
    {
      "cell_type": "code",
      "source": [
        "!pip install ftfy\n",
        "!pip install srsly\n"
      ],
      "metadata": {
        "id": "RlhkUVLQxeq0",
        "colab": {
          "base_uri": "https://localhost:8080/"
        },
        "outputId": "b79d16c8-0449-489c-e300-12e10ad39945"
      },
      "execution_count": 1,
      "outputs": [
        {
          "output_type": "stream",
          "name": "stdout",
          "text": [
            "Collecting ftfy\n",
            "  Downloading ftfy-6.1.1-py3-none-any.whl (53 kB)\n",
            "\u001b[?25l     \u001b[90m━━━━━━━━━━━━━━━━━━━━━━━━━━━━━━━━━━━━━━━━\u001b[0m \u001b[32m0.0/53.1 kB\u001b[0m \u001b[31m?\u001b[0m eta \u001b[36m-:--:--\u001b[0m\r\u001b[2K     \u001b[91m━━━━━━━━━━━━━━━━━━━━━━━━━━━━━━━━━━━━━━\u001b[0m\u001b[91m╸\u001b[0m\u001b[90m━\u001b[0m \u001b[32m51.2/53.1 kB\u001b[0m \u001b[31m1.8 MB/s\u001b[0m eta \u001b[36m0:00:01\u001b[0m\r\u001b[2K     \u001b[90m━━━━━━━━━━━━━━━━━━━━━━━━━━━━━━━━━━━━━━━━\u001b[0m \u001b[32m53.1/53.1 kB\u001b[0m \u001b[31m1.3 MB/s\u001b[0m eta \u001b[36m0:00:00\u001b[0m\n",
            "\u001b[?25hRequirement already satisfied: wcwidth>=0.2.5 in /usr/local/lib/python3.10/dist-packages (from ftfy) (0.2.6)\n",
            "Installing collected packages: ftfy\n",
            "Successfully installed ftfy-6.1.1\n",
            "Requirement already satisfied: srsly in /usr/local/lib/python3.10/dist-packages (2.4.7)\n",
            "Requirement already satisfied: catalogue<2.1.0,>=2.0.3 in /usr/local/lib/python3.10/dist-packages (from srsly) (2.0.9)\n"
          ]
        }
      ]
    },
    {
      "cell_type": "code",
      "execution_count": 3,
      "metadata": {
        "id": "hfRKGhr3nfKe"
      },
      "outputs": [],
      "source": [
        "from pathlib import Path\n",
        "import ftfy\n",
        "import random\n",
        "import srsly\n",
        "import re"
      ]
    },
    {
      "cell_type": "code",
      "source": [
        "pathlist = [p for p in Path('drive/MyDrive/enwiki20230820/raw/').glob('**/*') if p.is_file()]\n",
        "search_terms = ['nobel', 'prize', 'won|laureate']"
      ],
      "metadata": {
        "id": "uSWvKDNhO7kj"
      },
      "execution_count": 4,
      "outputs": []
    },
    {
      "cell_type": "code",
      "source": [
        "# Read files using srsly (generators)\n",
        "from itertools import chain\n",
        "\n",
        "def get_json_readers():\n",
        "  return chain.from_iterable(srsly.read_jsonl(path) for path in pathlist)\n",
        "\n",
        "def read_random_json():\n",
        "  data = srsly.read_jsonl(random.choice(pathlist))\n",
        "  articles = [article for article in data if len(article[\"text\"]) > 0]\n",
        "  articles = [article for article in articles if (re.search(term, article[\"text\"]) for term in search_terms)]\n",
        "\n",
        "  return articles\n",
        "\n",
        "def read_all_json():\n",
        "  data = get_json_readers()\n",
        "  articles = [article for article in data if len(article[\"text\"]) > 0 and all(re.search(term, article[\"text\"]) is not None for term in search_terms)]\n",
        "  print(f'found {len(articles)} nonempty nobell prize laureate articles')\n",
        "  return articles\n"
      ],
      "metadata": {
        "id": "78_ZDXVvxB0Y"
      },
      "execution_count": 5,
      "outputs": []
    },
    {
      "cell_type": "code",
      "source": [
        "# Not needed if you have the .json\n",
        "articles = read_all_json()\n",
        "srsly.write_json('drive/MyDrive/enwiki20230820/nobel_articles.json', articles)"
      ],
      "metadata": {
        "colab": {
          "base_uri": "https://localhost:8080/"
        },
        "id": "JVFONaQi1zIL",
        "outputId": "9791d443-2fa1-485d-a37d-83238e66b1b4"
      },
      "execution_count": 6,
      "outputs": [
        {
          "output_type": "stream",
          "name": "stdout",
          "text": [
            "found 42 nonempty nobell prize laureate articles\n"
          ]
        }
      ]
    },
    {
      "cell_type": "code",
      "source": [
        "articles = srsly.read_json('drive/MyDrive/enwiki20230820/nobel_articles.json')"
      ],
      "metadata": {
        "id": "s3t9Z6jfp02k"
      },
      "execution_count": 7,
      "outputs": []
    },
    {
      "cell_type": "code",
      "source": [
        "# Pick a random article to test cleaning on\n",
        "article = random.choice(articles)"
      ],
      "metadata": {
        "id": "BkWnbfbnqfem"
      },
      "execution_count": 8,
      "outputs": []
    },
    {
      "cell_type": "code",
      "source": [
        "# Note: the order of these regexes matter, due to '\\n' -> ' ' for instance resulting in repeated spaces\n",
        "ordered_list = re.compile(r'^[A-Z0-9]{1,2}\\.', re.MULTILINE)\n",
        "cleaned_text = ftfy.fix_text(article['text'])\n",
        "cleaned_text = re.sub('\\(([;,] ?)+\\)', '\\(', cleaned_text) # Removes artifacts from within parentheses e.g. (; ; born in etc) -> (born in etc)\n",
        "cleaned_text = re.sub('\\(.?\\)', '', cleaned_text) # Remove empty or 1 character parentheses e.g. \"( )\"\n",
        "cleaned_text = re.sub('\\n', ' ', cleaned_text) # Remove newlines\n",
        "cleaned_text = re.sub(ordered_list, '', cleaned_text) # Removes the first part of an ordered list (e.g. A. the cheese ->  the cheese)\n",
        "cleaned_text = re.sub(' {2,}', ' ', cleaned_text) # Remove repeated spaces\n",
        "cleaned_text = re.sub('[“”]', '\"', cleaned_text) # Remove smart double quotes, might also need one for smart single quotes\n",
        "cleaned_text = re.sub('([12]\\d)(\\d{2})[–\\/](\\d{2}\\D)', r'\\1\\2-\\1\\3', cleaned_text)\n",
        "print(cleaned_text)\n",
        "\n",
        "#TODO write to file"
      ],
      "metadata": {
        "colab": {
          "base_uri": "https://localhost:8080/"
        },
        "id": "zz3SExs7qRlB",
        "outputId": "d3c3b9d0-3fad-4a09-fc78-61ee9831a9f9"
      },
      "execution_count": 9,
      "outputs": [
        {
          "output_type": "stream",
          "name": "stdout",
          "text": [
            "Johann de Lange (born 22 December 1959 in Pretoria, Union of South Africa) is an Afrikaans poet, short story writer and critic. He is renowned for being one of the foremost gay writers in Afrikaans, his most controversial book being \"Nagsweet\" (\"Night sweat\"). Writing career. He debuted in 1982 with a collection of poetry titled \"Akwarelle van die dors\" (\"Aquarelles of thirst\") for which he was awarded the Ingrid Jonker prize in 1983. This was followed by \"Waterwoestyn\" (\"Water desert\") in 1984, \"Snel grys fantoom\" (\"Quick grey phantom\") in 1986, \"Wordende naak\" (\"Changing\") in 1988 which was awarded the Rapport Prize for Poetry, \"Nagsweet\" (\"Nightsweat\") in 1990, \"Vleiswond\" (\"Flesh wound\") in 1993 and \"Wat sag is vergaan\" (\"That which is soft perishes\") in 1995. After a silence of 13 years he published a new volume of poetry \"Die algebra van nood\" (\"The algebra of need\") in 2009, which was awarded the Hertzog Prize for Poetry in 2011. In 2010 a selection from his poetry was published under the title \"Judasoog\" (\"Judas eye\"). In 1996 he published his first collection of short stories titled \"Vreemder as fiksie\" (\"Stranger than fiction\"), followed by \"Tweede natuur\" (\"Second nature\") in 2000 in which he explores the drug subculture. In 1997 he edited an anthology of short stories titled \"Soort soek soort\" (\"Birds of a feather\"), covering 100 years of gay fiction in Afrikaans, and in 1998 an anthology of Afrikaans erotic poetry in collaboration with Antjie Krog titled \"Die dye trek die dye aan\" (\"Thighs attracting thighs\"). In 2010 he compiled a selection of poems by Afrikaans poet Lina Spies, titled \"Die skyn van tuiskoms\" (\"Semblance of a homecoming\"), and in 2011 a selection from the poetry of Wilhelm Knobel titled \"As die woorde begin droom\" (\"When the words start dreaming\"). He was also awarded the Pankrator prize for his poem \"Skerpskutter\" in an international poetry competition organised by UNESCO, as well as an Avanti award for his documentary script on the life of Ingrid Jonker \"Verdrinkte hande\" (\"Drowning hands\"). He has translated poetry by Wilma Stockenström, Sheila Cussons, Antjie Krog, Lucas Malan & Ernst van Heerden amongst others into English. A great number of these translations has since been published in local and overseas collections and anthologies like \"The Penguin book of Southern African Verse\" (1989), \"Breaking the silence – a century of South African women's poetry\" (1990), \"Soho Square: a collection of new writing from Africa\" (1992), \"The heart in exile: South African poetry in English 1990-1995\" (1996) and \"The lava of this land: South African Poetry 1960-1996\" (1997). A selection of his translations of Wilma Stocke.\n"
          ]
        }
      ]
    }
  ]
}